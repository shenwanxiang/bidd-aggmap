{
 "cells": [
  {
   "cell_type": "code",
   "execution_count": 1,
   "metadata": {},
   "outputs": [],
   "source": [
    "# -*- coding: utf-8 -*-\n",
    "\"\"\"\n",
    "Created on Sun Aug 16 17:10:53 2020\n",
    "\n",
    "@author: wanxiang.shen@u.nus.edu\n",
    "\"\"\"\n",
    "\n",
    "import warnings\n",
    "warnings.filterwarnings(\"ignore\")\n",
    "\n",
    "\n",
    "import pandas as pd\n",
    "import numpy as np\n",
    "\n",
    "from sklearn.model_selection import KFold, StratifiedKFold\n",
    "from sklearn.metrics import confusion_matrix, precision_recall_curve, roc_auc_score\n",
    "from sklearn.metrics import auc as calculate_auc\n",
    "\n",
    "import matplotlib.pyplot as plt\n",
    "import seaborn as sns\n",
    "\n",
    "from aggmap import AggMap, AggModel, loadmap\n",
    "\n",
    "np.random.seed(666) #just for reaptable results\n",
    "\n",
    "def prc_auc_score(y_true, y_score):\n",
    "    precision, recall, threshold  = precision_recall_curve(y_true, y_score) #PRC_AUC\n",
    "    auc = calculate_auc(recall, precision)\n",
    "    return auc"
   ]
  },
  {
   "cell_type": "code",
   "execution_count": 2,
   "metadata": {},
   "outputs": [],
   "source": [
    "df1 = pd.read_excel('./proteins_processed.xlsx', index_col = 0)\n",
    "df2 = pd.read_excel('./Metabolites_processed.xlsx', index_col = 0)\n",
    "df2 = df2.loc[df1.index]\n",
    "\n",
    "df = df1.join(df2)\n",
    "dfx = df[df.columns[2:]]\n"
   ]
  },
  {
   "cell_type": "code",
   "execution_count": 3,
   "metadata": {},
   "outputs": [
    {
     "data": {
      "text/plain": [
       "(41, 1486)"
      ]
     },
     "execution_count": 3,
     "metadata": {},
     "output_type": "execute_result"
    }
   ],
   "source": [
    "dfx.shape"
   ]
  },
  {
   "cell_type": "code",
   "execution_count": 4,
   "metadata": {},
   "outputs": [],
   "source": [
    "#df.to_excel('./proteins_metabolites.xlsx')"
   ]
  },
  {
   "cell_type": "code",
   "execution_count": 5,
   "metadata": {},
   "outputs": [
    {
     "data": {
      "text/plain": [
       "((41, 1486), (41, 847), (41, 641))"
      ]
     },
     "execution_count": 5,
     "metadata": {},
     "output_type": "execute_result"
    }
   ],
   "source": [
    "dfx.shape, df2.shape, df1.shape"
   ]
  },
  {
   "cell_type": "code",
   "execution_count": 6,
   "metadata": {},
   "outputs": [],
   "source": [
    "dfy = df[['Severe']]*1."
   ]
  },
  {
   "cell_type": "code",
   "execution_count": 7,
   "metadata": {},
   "outputs": [],
   "source": [
    "tr = df[df['Train_Test'] == 'Train'].index\n",
    "ts = df[df['Train_Test'] == 'Test'].index"
   ]
  },
  {
   "cell_type": "code",
   "execution_count": 8,
   "metadata": {},
   "outputs": [],
   "source": [
    "y = pd.get_dummies(dfy['Severe'])[[1,0]]\n",
    "\n",
    "Y = y.loc[tr].values\n",
    "X = dfx.loc[tr].values\n",
    "\n",
    "Y_test = y.loc[ts].values\n",
    "X_test = dfx.loc[ts].values"
   ]
  },
  {
   "cell_type": "code",
   "execution_count": 9,
   "metadata": {},
   "outputs": [],
   "source": [
    "mp = loadmap('./results/COV-S.mp')"
   ]
  },
  {
   "cell_type": "code",
   "execution_count": null,
   "metadata": {},
   "outputs": [],
   "source": []
  },
  {
   "cell_type": "code",
   "execution_count": 10,
   "metadata": {},
   "outputs": [
    {
     "name": "stderr",
     "output_type": "stream",
     "text": [
      "100%|##########| 31/31 [00:02<00:00, 12.02it/s]\n",
      "100%|##########| 10/10 [00:00<00:00, 160.13it/s]\n"
     ]
    },
    {
     "name": "stdout",
     "output_type": "stream",
     "text": [
      "\n",
      " input train and test X shape is (31, 39, 39, 5), (10, 39, 39, 5) \n",
      "{'epochs': 50, 'lr': 0.0001, 'conv1_kernel_size': 5, 'dense_layers': [128], 'dense_avf': 'relu', 'batch_size': 1, 'dropout': 0.0, 'batch_norm': False, 'n_inception': 2, 'monitor': 'val_loss', 'patience': 10000, 'random_state': 32, 'verbose': 0, 'name': 'AggMap MultiClass Estimator', 'gpuid': '5'}\n"
     ]
    }
   ],
   "source": [
    "trainX = mp.batch_transform(X, scale_method = 'standard')\n",
    "testX = mp.batch_transform(X_test, scale_method = 'standard')\n",
    "\n",
    "print(\"\\n input train and test X shape is %s, %s \" % (trainX.shape,  testX.shape))\n",
    "\n",
    "# fit the model\n",
    "clf = AggModel.MultiClassEstimator(epochs = 50,  gpuid = 5, batch_size = 1, conv1_kernel_size = 5,  verbose = 0,) \n",
    "clf.fit(trainX, Y)\n",
    "\n",
    "# save the model for explaination\n",
    "clf._model.save( './results/model.h55')\n",
    "\n",
    "# make prediction\n",
    "y_true = Y_test[:,0]\n",
    "y_pred = clf.predict(testX)[:,0]\n",
    "y_score = clf.predict_proba(testX)[:,0]\n",
    "\n",
    "res = {'index':ts, 'y_true':y_true, 'y_score':y_score}\n",
    "dfres = pd.DataFrame(res)\n"
   ]
  },
  {
   "cell_type": "code",
   "execution_count": 11,
   "metadata": {},
   "outputs": [],
   "source": [
    "dfres.to_csv('./results/test_predict_res.csv')"
   ]
  },
  {
   "cell_type": "code",
   "execution_count": 12,
   "metadata": {},
   "outputs": [
    {
     "data": {
      "text/plain": [
       "{'accuracy': 0.8,\n",
       " 'prc_auc': 1.0,\n",
       " 'roc_auc': 1.0,\n",
       " 'sensitivity': 1.0,\n",
       " 'specificity': 0.6666666666666666,\n",
       " 'precision': 0.6666666666666666,\n",
       " 'recall': 1.0,\n",
       " 'F1': 0.8}"
      ]
     },
     "execution_count": 12,
     "metadata": {},
     "output_type": "execute_result"
    }
   ],
   "source": [
    "dfres = pd.DataFrame(res)\n",
    "dfres\n",
    "\n",
    "y_true = dfres.y_true.values\n",
    "y_pred = dfres.y_score.values.round()\n",
    "y_score = dfres.y_score.values\n",
    "\n",
    "\n",
    "tn, fp, fn, tp = confusion_matrix(y_true, y_pred).ravel()\n",
    "\n",
    "acc = (tp + tn) / sum([tn, fp, fn, tp])\n",
    "\n",
    "sensitivity = tp / sum([tp, fn])\n",
    "specificity = tn / sum([tn, fp])\n",
    "\n",
    "prc_auc = prc_auc_score(y_true, y_score)\n",
    "roc_auc = roc_auc_score(y_true, y_score)\n",
    "\n",
    "precision = tp / sum([tp, fp])\n",
    "recall =  tp / sum([tp, fn]) #equals to sensitivity\n",
    "\n",
    "\n",
    "res = {\n",
    "    \n",
    "       'accuracy':acc, \n",
    "\n",
    "       'prc_auc':prc_auc, \n",
    "       'roc_auc':roc_auc,\n",
    "\n",
    "       'sensitivity': sensitivity, \n",
    "       'specificity': specificity,\n",
    "\n",
    "       'precision':precision,\n",
    "       'recall':recall,\n",
    "\n",
    "       'F1': 2*precision*sensitivity/(precision+sensitivity)\n",
    "      }\n",
    "res"
   ]
  },
  {
   "cell_type": "code",
   "execution_count": null,
   "metadata": {},
   "outputs": [],
   "source": []
  }
 ],
 "metadata": {
  "kernelspec": {
   "display_name": "Python 3",
   "language": "python",
   "name": "python3"
  },
  "language_info": {
   "codemirror_mode": {
    "name": "ipython",
    "version": 3
   },
   "file_extension": ".py",
   "mimetype": "text/x-python",
   "name": "python",
   "nbconvert_exporter": "python",
   "pygments_lexer": "ipython3",
   "version": "3.6.9"
  }
 },
 "nbformat": 4,
 "nbformat_minor": 4
}
