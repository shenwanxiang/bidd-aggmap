{
 "cells": [
  {
   "cell_type": "code",
   "execution_count": 126,
   "metadata": {},
   "outputs": [],
   "source": [
    "import warnings, os\n",
    "warnings.filterwarnings(\"ignore\")\n",
    "\n",
    "\n",
    "import pandas as pd\n",
    "import numpy as np\n",
    "\n",
    "from sklearn.model_selection import KFold, StratifiedKFold\n",
    "from sklearn.metrics import confusion_matrix, precision_recall_curve, roc_auc_score\n",
    "from sklearn.metrics import auc as calculate_auc\n",
    "\n",
    "import matplotlib.pyplot as plt\n",
    "import seaborn as sns\n",
    "\n",
    "from aggmap import AggMap, AggMapNet\n",
    "\n",
    "np.random.seed(666) #just for reaptable results\n",
    "\n",
    "def prc_auc_score(y_true, y_score):\n",
    "    precision, recall, threshold  = precision_recall_curve(y_true, y_score) #PRC_AUC\n",
    "    auc = calculate_auc(recall, precision)\n",
    "    return auc"
   ]
  },
  {
   "cell_type": "code",
   "execution_count": 127,
   "metadata": {},
   "outputs": [],
   "source": [
    "dfx = pd.read_excel('./CRC.xlsx', sheet_name='data')\n",
    "dfx = dfx[dfx.columns[1:]]\n",
    "dfx = np.log(dfx + 1e-8)\n",
    "\n",
    "feature_groups_df = pd.read_excel('./CRC.xlsx', sheet_name='feature_info')\n",
    "feature_group_list = feature_groups_df.Group.tolist()\n",
    "\n",
    "dfy_all = pd.read_excel('./CRC.xlsx', sheet_name='sample_info')\n",
    "dfy = pd.get_dummies(dfy_all['Group'])\n",
    "\n",
    "\n",
    "\n",
    "X = dfx.values.astype(float)\n",
    "Y = dfy.values.astype(float)\n"
   ]
  },
  {
   "cell_type": "code",
   "execution_count": null,
   "metadata": {},
   "outputs": [],
   "source": []
  },
  {
   "cell_type": "code",
   "execution_count": null,
   "metadata": {},
   "outputs": [],
   "source": []
  },
  {
   "cell_type": "code",
   "execution_count": null,
   "metadata": {},
   "outputs": [],
   "source": []
  },
  {
   "cell_type": "code",
   "execution_count": 128,
   "metadata": {},
   "outputs": [],
   "source": [
    "model_save_path = './model'\n",
    "if not os.path.exists(model_save_path):\n",
    "    os.makedirs(model_save_path)"
   ]
  },
  {
   "cell_type": "code",
   "execution_count": 129,
   "metadata": {},
   "outputs": [
    {
     "name": "stdout",
     "output_type": "stream",
     "text": [
      "2022-08-06 18:01:19,431 - \u001b[32mINFO\u001b[0m - [bidd-aggmap]\u001b[0m - Calculating distance ...\u001b[0m\n",
      "2022-08-06 18:01:19,454 - \u001b[32mINFO\u001b[0m - [bidd-aggmap]\u001b[0m - the number of process is 16\u001b[0m\n"
     ]
    },
    {
     "name": "stderr",
     "output_type": "stream",
     "text": [
      "100%|######################################################################################################################################| 359976/359976 [00:29<00:00, 12143.67it/s]\n",
      "100%|####################################################################################################################################| 359976/359976 [00:00<00:00, 5215655.36it/s]\n",
      "100%|#############################################################################################################################################| 849/849 [00:00<00:00, 5250.22it/s]\n"
     ]
    },
    {
     "name": "stdout",
     "output_type": "stream",
     "text": [
      "2022-08-06 18:01:49,843 - \u001b[32mINFO\u001b[0m - [bidd-aggmap]\u001b[0m - applying hierarchical clustering to obtain group information ...\u001b[0m\n",
      "2022-08-06 18:01:50,466 - \u001b[32mINFO\u001b[0m - [bidd-aggmap]\u001b[0m - Applying grid assignment of feature points, this may take several minutes(1~30 min)\u001b[0m\n",
      "2022-08-06 18:01:51,109 - \u001b[32mINFO\u001b[0m - [bidd-aggmap]\u001b[0m - Finished\u001b[0m\n"
     ]
    },
    {
     "data": {
      "text/plain": [
       "['./model/aggmap.mp']"
      ]
     },
     "execution_count": 129,
     "metadata": {},
     "output_type": "execute_result"
    }
   ],
   "source": [
    "mp = AggMap(dfx, metric = 'correlation')\n",
    "mp.fit(cluster_channels = 5, verbose = 0, random_state=88)\n",
    "mp.save(os.path.join(model_save_path, 'aggmap.mp'))"
   ]
  },
  {
   "cell_type": "code",
   "execution_count": null,
   "metadata": {},
   "outputs": [],
   "source": []
  },
  {
   "cell_type": "code",
   "execution_count": 130,
   "metadata": {},
   "outputs": [
    {
     "name": "stdout",
     "output_type": "stream",
     "text": [
      "2022-08-06 18:01:51,140 - \u001b[32mINFO\u001b[0m - [bidd-aggmap]\u001b[0m - generate file: ./feature points_849_correlation_umap_mp\u001b[0m\n",
      "2022-08-06 18:01:51,148 - \u001b[32mINFO\u001b[0m - [bidd-aggmap]\u001b[0m - save html file to ./feature points_849_correlation_umap_mp\u001b[0m\n"
     ]
    },
    {
     "data": {
      "text/html": [
       "<iframe style=\"border:0;outline:none;overflow:hidden\" srcdoc=\"&lt;!DOCTYPE html&gt; &lt;html lang=&quot;en&quot;&gt; &lt;head&gt; &lt;meta charset=&quot;utf-8&quot; /&gt; &lt;link href=&quot;https://www.highcharts.com/highslide/highslide.css&quot; rel=&quot;stylesheet&quot; /&gt; &lt;script type=&quot;text/javascript&quot; src=&quot;https://ajax.googleapis.com/ajax/libs/jquery/1.9.1/jquery.min.js&quot;&gt;&lt;/script&gt; &lt;script type=&quot;text/javascript&quot; src=&quot;https://code.highcharts.com/6/highcharts.js&quot;&gt;&lt;/script&gt; &lt;script type=&quot;text/javascript&quot; src=&quot;https://code.highcharts.com/6/highcharts-more.js&quot;&gt;&lt;/script&gt; &lt;script type=&quot;text/javascript&quot; src=&quot;https://code.highcharts.com/6/modules/heatmap.js&quot;&gt;&lt;/script&gt; &lt;script type=&quot;text/javascript&quot; src=&quot;https://code.highcharts.com/6/modules/exporting.js&quot;&gt;&lt;/script&gt; &lt;/head&gt; &lt;body style=&quot;margin:0;padding:0&quot;&gt; &lt;div id=&quot;container&quot; style=&quot;width:1000px;height:850px;&quot;&gt;Loading....&lt;/div&gt; &lt;script&gt; $(function(){ Highcharts.setOptions({&quot;global&quot;: {}, &quot;lang&quot;: {}}); var option = {&quot;chart&quot;: {&quot;renderTo&quot;: &quot;container&quot;, &quot;width&quot;: 1000, &quot;height&quot;: 850, &quot;type&quot;: &quot;heatmap&quot;, &quot;zoomType&quot;: &quot;xy&quot;}, &quot;colors&quot;: {}, &quot;credits&quot;: {&quot;enabled&quot;: false}, &quot;drilldown&quot;: {}, &quot;exporting&quot;: {}, &quot;labels&quot;: {}, &quot;legend&quot;: {&quot;align&quot;: &quot;right&quot;, &quot;layout&quot;: &quot;vertical&quot;, &quot;margin&quot;: 1, &quot;verticalAlign&quot;: &quot;top&quot;, &quot;y&quot;: 60, &quot;symbolHeight&quot;: 12, &quot;floating&quot;: false}, &quot;loading&quot;: {}, &quot;navigation&quot;: {}, &quot;pane&quot;: {}, &quot;plotOptions&quot;: {&quot;series&quot;: {&quot;turboThreshold&quot;: 5000, &quot;dataLabels&quot;: {&quot;enabled&quot;: false, &quot;format&quot;: &quot;{point.v}&quot;, &quot;style&quot;: {&quot;textOutline&quot;: false, &quot;color&quot;: &quot;black&quot;}}}}, &quot;series&quot;: {}, &quot;subtitle&quot;: {&quot;text&quot;: &quot;number of feature points: 849, metric method: correlation&quot;}, &quot;title&quot;: {&quot;text&quot;: &quot;Assignment of feature points by umap emmbedding result&quot;}, &quot;tooltip&quot;: {&quot;headerFormat&quot;: &quot;&lt;b&gt;{series.name}&lt;/b&gt;&lt;br&gt;&quot;, &quot;pointFormat&quot;: &quot;{point.v}&quot;}, &quot;xAxis&quot;: {&quot;min&quot;: 0, &quot;max&quot;: 28, &quot;startOnTick&quot;: false, &quot;endOnTick&quot;: false, &quot;allowDecimals&quot;: false, &quot;labels&quot;: {&quot;style&quot;: {&quot;fontSize&quot;: 20}}}, &quot;yAxis&quot;: {&quot;title&quot;: {&quot;text&quot;: &quot; &quot;, &quot;style&quot;: {&quot;fontSize&quot;: 20}}, &quot;startOnTick&quot;: false, &quot;endOnTick&quot;: false, &quot;gridLineWidth&quot;: 0, &quot;reversed&quot;: true, &quot;min&quot;: 0, &quot;max&quot;: 29, &quot;allowDecimals&quot;: false, &quot;labels&quot;: {&quot;style&quot;: {&quot;fontSize&quot;: 20}}}}; var chart = new Highcharts.Chart(option); var data = [{&quot;data&quot;: [{&quot;x&quot;: 26, &quot;y&quot;: 1, &quot;v&quot;: &quot;unknown Olsenella [meta_mOTU_v2_7727]&quot;, &quot;Subtypes&quot;: &quot;cluster_01&quot;, &quot;colors&quot;: &quot;#fcf500&quot;}, {&quot;x&quot;: 27, &quot;y&quot;: 1, &quot;v&quot;: &quot;unknown Eggerthella [meta_mOTU_v2_6998]&quot;, &quot;Subtypes&quot;: &quot;cluster_01&quot;, &quot;colors&quot;: &quot;#fcf500&quot;}, {&quot;x&quot;: 22, &quot;y&quot;: 2, &quot;v&quot;: &quot;unknown Clostridiales [meta_mOTU_v2_7298]&quot;, &quot;Subtypes&quot;: &quot;cluster_01&quot;, &quot;colors&quot;: &quot;#fcf500&quot;}, {&quot;x&quot;: 24, &quot;y&quot;: 2, &quot;v&quot;: &quot;unknown Clostridiales [meta_mOTU_v2_6233]&quot;, &quot;Subtypes&quot;: &quot;cluster_01&quot;, &quot;colors&quot;: &quot;#fcf500&quot;}, {&quot;x&quot;: 25, &quot;y&quot;: 2, &quot;v&quot;: &quot;unknown Clostridiales [meta_mOTU_v2_7684]&quot;, &quot;Subtypes&quot;: &quot;cluster_01&quot;, &quot;colors&quot;: &quot;#fcf500&quot;}, {&quot;x&quot;: 26, &quot;y&quot;: 2, &quot;v&quot;: &quot;unknown Firmicutes [meta_mOTU_v2_5720]&quot;, &quot;Subtypes&quot;: &quot;cluster_01&quot;, &quot;colors&quot;: &quot;#fcf500&quot;}, {&quot;x&quot;: 22, &quot;y&quot;: 3, &quot;v&quot;: &quot;unknown Clostridiales [meta_mOTU_v2_7209]&quot;, &quot;Subtypes&quot;: &quot;cluster_01&quot;, &quot;colors&quot;: &quot;#fcf500&quot;}, {&quot;x&quot;: 23, &quot;y&quot;: 3, &quot;v&quot;: &quot;unknown Clostridiales [meta_mOTU_v2_7707]&quot;, &quot;Subtypes&quot;: &quot;cluster_01&quot;, &quot;colors&quot;: &quot;#fcf500&quot;}, {&quot;x&quot;: 24, &quot;y&quot;: 3, &quot;v&quot;: &quot;unknown Clostridiales [meta_mOTU_v2_5514]&quot;, &quot;Subtypes&quot;: &quot;cluster_01&quot;, &quot;colors&quot;: &quot;#fcf500&quot;}, {&quot;x&quot;: 27, &quot;y&quot;: 3, &quot;v&quot;: &quot;unknown Alistipes [meta_mOTU_v2_5423]&quot;, &quot;Subtypes&quot;: &quot;cluster_01&quot;, &quot;colors&quot;: &quot;#fcf500&quot;}, {&quot;x&quot;: 28, &quot;y&quot;: 3, &quot;v&quot;: &quot;Alistipes sp. An31A [meta_mOTU_v2_6154]&quot;, &quot;Subtypes&quot;: &quot;cluster_01&quot;, &quot;colors&quot;: &quot;#fcf500&quot;}, {&quot;x&quot;: 12, &quot;y&quot;: 4, &quot;v&quot;: &quot;unknown Clostridiales [meta_mOTU_v2_6699]&quot;, &quot;Subtypes&quot;: &quot;cluster_01&quot;, &quot;colors&quot;: &quot;#fcf500&quot;}, {&quot;x&quot;: 13, &quot;y&quot;: 4, &quot;v&quot;: &quot;unknown Clostridiales [meta_mOTU_v2_5954]&quot;, &quot;Subtypes&quot;: &quot;cluster_01&quot;, &quot;colors&quot;: &quot;#fcf500&quot;}, {&quot;x&quot;: 14, &quot;y&quot;: 4, &quot;v&quot;: &quot;unknown Ruminococcaceae [meta_mOTU_v2_7652]&quot;, &quot;Subtypes&quot;: &quot;cluster_01&quot;, &quot;colors&quot;: &quot;#fcf500&quot;}, {&quot;x&quot;: 18, &quot;y&quot;: 4, &quot;v&quot;: &quot;unknown Clostridiales [meta_mOTU_v2_6261]&quot;, &quot;Subtypes&quot;: &quot;cluster_01&quot;, &quot;colors&quot;: &quot;#fcf500&quot;}, {&quot;x&quot;: 19, &quot;y&quot;: 4, &quot;v&quot;: &quot;unknown Anaerotruncus [meta_mOTU_v2_6835]&quot;, &quot;Subtypes&quot;: &quot;cluster_01&quot;, &quot;colors&quot;: &quot;#fcf500&quot;}, {&quot;x&quot;: 21, &quot;y&quot;: 4, &quot;v&quot;: &quot;unknown Clostridiales [meta_mOTU_v2_6009]&quot;, &quot;Subtypes&quot;: &quot;cluster_01&quot;, &quot;colors&quot;: &quot;#fcf500&quot;}, {&quot;x&quot;: 24, &quot;y&quot;: 4, &quot;v&quot;: &quot;unknown Clostridiales [meta_mOTU_v2_7230]&quot;, &quot;Subtypes&quot;: &quot;cluster_01&quot;, &quot;colors&quot;: &quot;#fcf500&quot;}, {&quot;x&quot;: 28, &quot;y&quot;: 4, &quot;v&quot;: &quot;unknown Prevotella [meta_mOTU_v2_6029]&quot;, &quot;Subtypes&quot;: &quot;cluster_01&quot;, &quot;colors&quot;: &quot;#fcf500&quot;}, {&quot;x&quot;: 13, &quot;y&quot;: 5, &quot;v&quot;: &quot;unknown Clostridiales [meta_mOTU_v2_6028]&quot;, &quot;Subtypes&quot;: &quot;cluster_01&quot;, &quot;colors&quot;: &quot;#fcf500&quot;}, {&quot;x&quot;: 14, &quot;y&quot;: 5, &quot;v&quot;: &quot;Bacteroides fluxus [ref_mOTU_v2_4946]&quot;, &quot;Subtypes&quot;: &quot;cluster_01&quot;, &quot;colors&quot;: &quot;#fcf500&quot;}, {&quot;x&quot;: 15, &quot;y&quot;: 5, &quot;v&quot;: &quot;unknown Clostridiales [meta_mOTU_v2_7281]&quot;, &quot;Subtypes&quot;: &quot;cluster_01&quot;, &quot;colors&quot;: &quot;#fcf500&quot;}, {&quot;x&quot;: 16, &quot;y&quot;: 5, &quot;v&quot;: &quot;unknown Pseudoflavonifractor [meta_mOTU_v2_6108]&quot;, &quot;Subtypes&quot;: &quot;cluster_01&quot;, &quot;colors&quot;: &quot;#fcf500&quot;}, {&quot;x&quot;: 17, &quot;y&quot;: 5, &quot;v&quot;: &quot;unknown Clostridiales [meta_mOTU_v2_6777]&quot;, &quot;Subtypes&quot;: &quot;cluster_01&quot;, &quot;colors&quot;: &quot;#fcf500&quot;}, {&quot;x&quot;: 19, &quot;y&quot;: 5, &quot;v&quot;: &quot;Bacteroides sp. CAG:144 [meta_mOTU_v2_7324]&quot;, &quot;Subtypes&quot;: &quot;cluster_01&quot;, &quot;colors&quot;: &quot;#fcf500&quot;}, {&quot;x&quot;: 20, &quot;y&quot;: 5, &quot;v&quot;: &quot;unknown Ruminococcaceae [meta_mOTU_v2_7401]&quot;, &quot;Subtypes&quot;: &quot;cluster_01&quot;, &quot;colors&quot;: &quot;#fcf500&quot;}, {&quot;x&quot;: 21, &quot;y&quot;: 5, &quot;v&quot;: &quot;unknown Ruminococcus [meta_mOTU_v2_7476]&quot;, &quot;Subtypes&quot;: &quot;cluster_01&quot;, &quot;colors&quot;: &quot;#fcf500&quot;}, {&quot;x&quot;: 22, &quot;y&quot;: 5, &quot;v&quot;: &quot;Synergistes sp. 3_1_syn1 [ref_mOTU_v2_4289]&quot;, &quot;Subtypes&quot;: &quot;cluster_01&quot;, &quot;colors&quot;: &quot;#fcf500&quot;}, {&quot;x&quot;: 25, &quot;y&quot;: 5, &quot;v&quot;: &quot;unknown Flavobacteriia [meta_mOTU_v2_6771]&quot;, &quot;Subtypes&quot;: &quot;cluster_01&quot;, &quot;colors&quot;: &quot;#fcf500&quot;}, {&quot;x&quot;: 26, &quot;y&quot;: 5, &quot;v&quot;: &quot;unknown Alistipes [meta_mOTU_v2_6252]&quot;, &quot;Subtypes&quot;: &quot;cluster_01&quot;, &quot;colors&quot;: &quot;#fcf500&quot;}, {&quot;x&quot;: 27, &quot;y&quot;: 5, &quot;v&quot;: &quot;Sutterella sp. CAG:521 [meta_mOTU_v2_7660]&quot;, &quot;Subtypes&quot;: &quot;cluster_01&quot;, &quot;colors&quot;: &quot;#fcf500&quot;}, {&quot;x&quot;: 28, &quot;y&quot;: 5, &quot;v&quot;: &quot;unknown Clostridiales [meta_mOTU_v2_7731]&quot;, &quot;Subtypes&quot;: &quot;cluster_01&quot;, &quot;colors&quot;: &quot;#fcf500&quot;}, {&quot;x&quot;: 10, &quot;y&quot;: 6, &quot;v&quot;: &quot;Oscillibacter sp. KLE 1728 [ref_mOTU_v2_0858]&quot;, &quot;Subtypes&quot;: &quot;cluster_01&quot;, &quot;colors&quot;: &quot;#fcf500&quot;}, {&quot;x&quot;: 11, &quot;y&quot;: 6, &quot;v&quot;: &quot;Clostridium leptum [ref_mOTU_v2_4234]&quot;, &quot;Subtypes&quot;: &quot;cluster_01&quot;, &quot;colors&quot;: &quot;#fcf500&quot;}, {&quot;x&quot;: 12, &quot;y&quot;: 6, &quot;v&quot;: &quot;Alistipes onderdonkii [ref_mOTU_v2_0775]&quot;, &quot;Subtypes&quot;: &quot;cluster_01&quot;, &quot;colors&quot;: &quot;#fcf500&quot;}, {&quot;x&quot;: 13, &quot;y&quot;: 6, &quot;v&quot;: &quot;unknown Clostridiales [meta_mOTU_v2_6419]&quot;, &quot;Subtypes&quot;: &quot;cluster_01&quot;, &quot;colors&quot;: &quot;#fcf500&quot;}, {&quot;x&quot;: 14, &quot;y&quot;: 6, &quot;v&quot;: &quot;unknown Alistipes [meta_mOTU_v2_6070]&quot;, &quot;Subtypes&quot;: &quot;cluster_01&quot;, &quot;colors&quot;: &quot;#fcf500&quot;}, {&quot;x&quot;: 16, &quot;y&quot;: 6, &quot;v&quot;: &quot;unknown Clostridiales [meta_mOTU_v2_7769]&quot;, &quot;Subtypes&quot;: &quot;cluster_01&quot;, &quot;colors&quot;: &quot;#fcf500&quot;}, {&quot;x&quot;: 20, &quot;y&quot;: 6, &quot;v&quot;: &quot;Staphylococcus sp. CAG:324 [meta_mOTU_v2_6946]&quot;, &quot;Subtypes&quot;: &quot;cluster_01&quot;, &quot;colors&quot;: &quot;#fcf500&quot;}, {&quot;x&quot;: 21, &quot;y&quot;: 6, &quot;v&quot;: &quot;unknown Odoribacter [meta_mOTU_v2_5670]&quot;, &quot;Subtypes&quot;: &quot;cluster_01&quot;, &quot;colors&quot;: &quot;#fcf500&quot;}, {&quot;x&quot;: 22, &quot;y&quot;: 6, &quot;v&quot;: &quot;Subdoligranulum sp. CAG:314 [meta_mOTU_v2_6768]&quot;, &quot;Subtypes&quot;: &quot;cluster_01&quot;, &quot;colors&quot;: &quot;#fcf500&quot;}, {&quot;x&quot;: 23, &quot;y&quot;: 6, &quot;v&quot;: &quot;unknown Clostridiales [meta_mOTU_v2_6144]&quot;, &quot;Subtypes&quot;: &quot;cluster_01&quot;, &quot;colors&quot;: &quot;#fcf500&quot;}, {&quot;x&quot;: 24, &quot;y&quot;: 6, &quot;v&quot;: &quot;unknown Verrucomicrobia [meta_mOTU_v2_6061]&quot;, &quot;Subtypes&quot;: &quot;cluster_01&quot;, &quot;colors&quot;: &quot;#fcf500&quot;}, {&quot;x&quot;: 25, &quot;y&quot;: 6, &quot;v&quot;: &quot;Verrucomicrobia bacterium CAG:312_58_20 [meta_mOTU_v2_6090]&quot;, &quot;Subtypes&quot;: &quot;cluster_01&quot;, &quot;colors&quot;: &quot;#fcf500&quot;}, {&quot;x&quot;: 26, &quot;y&quot;: 6, &quot;v&quot;: &quot;unknown Alistipes [meta_mOTU_v2_7270]&quot;, &quot;Subtypes&quot;: &quot;cluster_01&quot;, &quot;colors&quot;: &quot;#fcf500&quot;}, {&quot;x&quot;: 27, &quot;y&quot;: 6, &quot;v&quot;: &quot;unknown Methanomicrobia [meta_mOTU_v2_6693]&quot;, &quot;Subtypes&quot;: &quot;cluster_01&quot;, &quot;colors&quot;: &quot;#fcf500&quot;}, {&quot;x&quot;: 28, &quot;y&quot;: 6, &quot;v&quot;: &quot;Clostridium sp. CAG:798 [meta_mOTU_v2_7020]&quot;, &quot;Subtypes&quot;: &quot;cluster_01&quot;, &quot;colors&quot;: &quot;#fcf500&quot;}, {&quot;x&quot;: 10, &quot;y&quot;: 7, &quot;v&quot;: &quot;Alistipes putredinis [ref_mOTU_v2_4266]&quot;, &quot;Subtypes&quot;: &quot;cluster_01&quot;, &quot;colors&quot;: &quot;#fcf500&quot;}, {&quot;x&quot;: 11, &quot;y&quot;: 7, &quot;v&quot;: &quot;Adlercreutzia equolifaciens [ref_mOTU_v2_3198]&quot;, &quot;Subtypes&quot;: &quot;cluster_01&quot;, &quot;colors&quot;: &quot;#fcf500&quot;}, {&quot;x&quot;: 12, &quot;y&quot;: 7, &quot;v&quot;: &quot;Eggerthella sp. CAG:298 [meta_mOTU_v2_5975]&quot;, &quot;Subtypes&quot;: &quot;cluster_01&quot;, &quot;colors&quot;: &quot;#fcf500&quot;}, {&quot;x&quot;: 14, &quot;y&quot;: 7, &quot;v&quot;: &quot;Eubacterium siraeum [ref_mOTU_v2_1387]&quot;, &quot;Subtypes&quot;: &quot;cluster_01&quot;, &quot;colors&quot;: &quot;#fcf500&quot;}, {&quot;x&quot;: 15, &quot;y&quot;: 7, &quot;v&quot;: &quot;unknown Clostridiales [meta_mOTU_v2_5362]&quot;, &quot;Subtypes&quot;: &quot;cluster_01&quot;, &quot;colors&quot;: &quot;#fcf500&quot;}, {&quot;x&quot;: 16, &quot;y&quot;: 7, &quot;v&quot;: &quot;Alistipes inops [ref_mOTU_v2_3597]&quot;, &quot;Subtypes&quot;: &quot;cluster_01&quot;, &quot;colors&quot;: &quot;#fcf500&quot;}, {&quot;x&quot;: 17, &quot;y&quot;: 7, &quot;v&quot;: &quot;Azospirillum sp. CAG:239 [meta_mOTU_v2_5386]&quot;, &quot;Subtypes&quot;: &quot;cluster_01&quot;, &quot;colors&quot;: &quot;#fcf500&quot;}, {&quot;x&quot;: 19, &quot;y&quot;: 7, &quot;v&quot;: &quot;unknown Clostridiales [meta_mOTU_v2_7323]&quot;, &quot;Subtypes&quot;: &quot;cluster_01&quot;, &quot;colors&quot;: &quot;#fcf500&quot;}, {&quot;x&quot;: 20, &quot;y&quot;: 7, &quot;v&quot;: &quot;unknown Clostridiales [meta_mOTU_v2_5820]&quot;, &quot;Subtypes&quot;: &quot;cluster_01&quot;, &quot;colors&quot;: &quot;#fcf500&quot;}, {&quot;x&quot;: 21, &quot;y&quot;: 7, &quot;v&quot;: &quot;unknown Clostridiales [meta_mOTU_v2_6011]&quot;, &quot;Subtypes&quot;: &quot;cluster_01&quot;, &quot;colors&quot;: &quot;#fcf500&quot;}, {&quot;x&quot;: 22, &quot;y&quot;: 7, &quot;v&quot;: &quot;unknown Eubacterium [meta_mOTU_v2_7116]&quot;, &quot;Subtypes&quot;: &quot;cluster_01&quot;, &quot;colors&quot;: &quot;#fcf500&quot;}, {&quot;x&quot;: 23, &quot;y&quot;: 7, &quot;v&quot;: &quot;Prevotella sp. CAG:1031 [meta_mOTU_v2_7101]&quot;, &quot;Subtypes&quot;: &quot;cluster_01&quot;, &quot;colors&quot;: &quot;#fcf500&quot;}, {&quot;x&quot;: 24, &quot;y&quot;: 7, &quot;v&quot;: &quot;unknown Firmicutes [meta_mOTU_v2_6906]&quot;, &quot;Subtypes&quot;: &quot;cluster_01&quot;, &quot;colors&quot;: &quot;#fcf500&quot;}, {&quot;x&quot;: 25, &quot;y&quot;: 7, &quot;v&quot;: &quot;Clostridium sp. CAG:914 [meta_mOTU_v2_6776]&quot;, &quot;Subtypes&quot;: &quot;cluster_01&quot;, &quot;colors&quot;: &quot;#fcf500&quot;}, {&quot;x&quot;: 28, &quot;y&quot;: 7, &quot;v&quot;: &quot;Clostridium sp. CAG:1024 [meta_mOTU_v2_6786]&quot;, &quot;Subtypes&quot;: &quot;cluster_01&quot;, &quot;colors&quot;: &quot;#fcf500&quot;}, {&quot;x&quot;: 9, &quot;y&quot;: 8, &quot;v&quot;: &quot;Alistipes shahii [ref_mOTU_v2_4873]&quot;, &quot;Subtypes&quot;: &quot;cluster_01&quot;, &quot;colors&quot;: &quot;#fcf500&quot;}, {&quot;x&quot;: 10, &quot;y&quot;: 8, &quot;v&quot;: &quot;Odoribacter splanchnicus [ref_mOTU_v2_4846]&quot;, &quot;Subtypes&quot;: &quot;cluster_01&quot;, &quot;colors&quot;: &quot;#fcf500&quot;}, {&quot;x&quot;: 11, &quot;y&quot;: 8, &quot;v&quot;: &quot;Alistipes finegoldii [ref_mOTU_v2_1481]&quot;, &quot;Subtypes&quot;: &quot;cluster_01&quot;, &quot;colors&quot;: &quot;#fcf500&quot;}, {&quot;x&quot;: 12, &quot;y&quot;: 8, &quot;v&quot;: &quot;cand. Alistipes marseilloanorexicus [ref_mOTU_v2_2553]&quot;, &quot;Subtypes&quot;: &quot;cluster_01&quot;, &quot;colors&quot;: &quot;#fcf500&quot;}, {&quot;x&quot;: 14, &quot;y&quot;: 8, &quot;v&quot;: &quot;unknown Firmicutes [meta_mOTU_v2_7746]&quot;, &quot;Subtypes&quot;: &quot;cluster_01&quot;, &quot;colors&quot;: &quot;#fcf500&quot;}, {&quot;x&quot;: 17, &quot;y&quot;: 8, &quot;v&quot;: &quot;unknown Bacteria [meta_mOTU_v2_5651]&quot;, &quot;Subtypes&quot;: &quot;cluster_01&quot;, &quot;colors&quot;: &quot;#fcf500&quot;}, {&quot;x&quot;: 18, &quot;y&quot;: 8, &quot;v&quot;: &quot;unknown Bacteroidales [meta_mOTU_v2_5655]&quot;, &quot;Subtypes&quot;: &quot;cluster_01&quot;, &quot;colors&quot;: &quot;#fcf500&quot;}, {&quot;x&quot;: 20, &quot;y&quot;: 8, &quot;v&quot;: &quot;unknown Akkermansia [meta_mOTU_v2_6276]&quot;, &quot;Subtypes&quot;: &quot;cluster_01&quot;, &quot;colors&quot;: &quot;#fcf500&quot;}, {&quot;x&quot;: 21, &quot;y&quot;: 8, &quot;v&quot;: &quot;Bacillus sp. CAG:988 [meta_mOTU_v2_6706]&quot;, &quot;Subtypes&quot;: &quot;cluster_01&quot;, &quot;colors&quot;: &quot;#fcf500&quot;}, {&quot;x&quot;: 23, &quot;y&quot;: 8, &quot;v&quot;: &quot;Clostridium sp. CAG:1219 [meta_mOTU_v2_6476]&quot;, &quot;Subtypes&quot;: &quot;cluster_01&quot;, &quot;colors&quot;: &quot;#fcf500&quot;}, {&quot;x&quot;: 24, &quot;y&quot;: 8, &quot;v&quot;: &quot;unknown Firmicutes [meta_mOTU_v2_6909]&quot;, &quot;Subtypes&quot;: &quot;cluster_01&quot;, &quot;colors&quot;: &quot;#fcf500&quot;}, {&quot;x&quot;: 25, &quot;y&quot;: 8, &quot;v&quot;: &quot;Coraliomargarita sp. CAG:312 [meta_mOTU_v2_7055]&quot;, &quot;Subtypes&quot;: &quot;cluster_01&quot;, &quot;colors&quot;: &quot;#fcf500&quot;}, {&quot;x&quot;: 28, &quot;y&quot;: 8, &quot;v&quot;: &quot;unknown Clostridiales [meta_mOTU_v2_7202]&quot;, &quot;Subtypes&quot;: &quot;cluster_01&quot;, &quot;colors&quot;: &quot;#fcf500&quot;}, {&quot;x&quot;: 8, &quot;y&quot;: 9, &quot;v&quot;: &quot;Alistipes indistinctus [ref_mOTU_v2_4879]&quot;, &quot;Subtypes&quot;: &quot;cluster_01&quot;, &quot;colors&quot;: &quot;#fcf500&quot;}, {&quot;x&quot;: 10, &quot;y&quot;: 9, &quot;v&quot;: &quot;Parasutterella excrementihominis [ref_mOTU_v2_1405]&quot;, &quot;Subtypes&quot;: &quot;cluster_01&quot;, &quot;colors&quot;: &quot;#fcf500&quot;}, {&quot;x&quot;: 11, &quot;y&quot;: 9, &quot;v&quot;: &quot;Alistipes obesi [ref_mOTU_v2_1825]&quot;, &quot;Subtypes&quot;: &quot;cluster_01&quot;, &quot;colors&quot;: &quot;#fcf500&quot;}, {&quot;x&quot;: 12, &quot;y&quot;: 9, &quot;v&quot;: &quot;Barnesiella intestinihominis [ref_mOTU_v2_4880]&quot;, &quot;Subtypes&quot;: &quot;cluster_01&quot;, &quot;colors&quot;: &quot;#fcf500&quot;}, {&quot;x&quot;: 13, &quot;y&quot;: 9, &quot;v&quot;: &quot;unknown Azospirillum [meta_mOTU_v2_6527]&quot;, &quot;Subtypes&quot;: &quot;cluster_01&quot;, &quot;colors&quot;: &quot;#fcf500&quot;}, {&quot;x&quot;: 14, &quot;y&quot;: 9, &quot;v&quot;: &quot;unknown Acinetobacter [meta_mOTU_v2_7007]&quot;, &quot;Subtypes&quot;: &quot;cluster_01&quot;, &quot;colors&quot;: &quot;#fcf500&quot;}, {&quot;x&quot;: 15, &quot;y&quot;: 9, &quot;v&quot;: &quot;unknown Azospirillum [meta_mOTU_v2_7674]&quot;, &quot;Subtypes&quot;: &quot;cluster_01&quot;, &quot;colors&quot;: &quot;#fcf500&quot;}, {&quot;x&quot;: 17, &quot;y&quot;: 9, &quot;v&quot;: &quot;Clostridium sp. CAG:138 [meta_mOTU_v2_7765]&quot;, &quot;Subtypes&quot;: &quot;cluster_01&quot;, &quot;colors&quot;: &quot;#fcf500&quot;}, {&quot;x&quot;: 18, &quot;y&quot;: 9, &quot;v&quot;: &quot;Prevotella sp. CAG:485 [meta_mOTU_v2_5757]&quot;, &quot;Subtypes&quot;: &quot;cluster_01&quot;, &quot;colors&quot;: &quot;#fcf500&quot;}, {&quot;x&quot;: 19, &quot;y&quot;: 9, &quot;v&quot;: &quot;Lentisphaerae bacterium ADurb.Bin242 [meta_mOTU_v2_6522]&quot;, &quot;Subtypes&quot;: &quot;cluster_01&quot;, &quot;colors&quot;: &quot;#fcf500&quot;}, {&quot;x&quot;: 20, &quot;y&quot;: 9, &quot;v&quot;: &quot;unknown Bacteroidales [meta_mOTU_v2_5852]&quot;, &quot;Subtypes&quot;: &quot;cluster_01&quot;, &quot;colors&quot;: &quot;#fcf500&quot;}, {&quot;x&quot;: 21, &quot;y&quot;: 9, &quot;v&quot;: &quot;unknown Clostridium [meta_mOTU_v2_5561]&quot;, &quot;Subtypes&quot;: &quot;cluster_01&quot;, &quot;colors&quot;: &quot;#fcf500&quot;}, {&quot;x&quot;: 8, &quot;y&quot;: 10, &quot;v&quot;: &quot;unknown Bacteroidales [meta_mOTU_v2_5329]&quot;, &quot;Subtypes&quot;: &quot;cluster_01&quot;, &quot;colors&quot;: &quot;#fcf500&quot;}, {&quot;x&quot;: 9, &quot;y&quot;: 10, &quot;v&quot;: &quot;unknown Bacteroidales [meta_mOTU_v2_5520]&quot;, &quot;Subtypes&quot;: &quot;cluster_01&quot;, &quot;colors&quot;: &quot;#fcf500&quot;}, {&quot;x&quot;: 11, &quot;y&quot;: 10, &quot;v&quot;: &quot;Porphyromonadaceae sp. [ref_mOTU_v2_1091]&quot;, &quot;Subtypes&quot;: &quot;cluster_01&quot;, &quot;colors&quot;: &quot;#fcf500&quot;}, {&quot;x&quot;: 12, &quot;y&quot;: 10, &quot;v&quot;: &quot;Bacteroides faecis [ref_mOTU_v2_1706]&quot;, &quot;Subtypes&quot;: &quot;cluster_01&quot;, &quot;colors&quot;: &quot;#fcf500&quot;}, {&quot;x&quot;: 13, &quot;y&quot;: 10, &quot;v&quot;: &quot;unknown Acetobacter [meta_mOTU_v2_6063]&quot;, &quot;Subtypes&quot;: &quot;cluster_01&quot;, &quot;colors&quot;: &quot;#fcf500&quot;}, {&quot;x&quot;: 14, &quot;y&quot;: 10, &quot;v&quot;: &quot;Azospirillum sp. 51_20 [meta_mOTU_v2_5652]&quot;, &quot;Subtypes&quot;: &quot;cluster_01&quot;, &quot;colors&quot;: &quot;#fcf500&quot;}, {&quot;x&quot;: 15, &quot;y&quot;: 10, &quot;v&quot;: &quot;unknown Lentisphaerae [meta_mOTU_v2_6979]&quot;, &quot;Subtypes&quot;: &quot;cluster_01&quot;, &quot;colors&quot;: &quot;#fcf500&quot;}, {&quot;x&quot;: 18, &quot;y&quot;: 10, &quot;v&quot;: &quot;unknown Clostridiales [meta_mOTU_v2_6197]&quot;, &quot;Subtypes&quot;: &quot;cluster_01&quot;, &quot;colors&quot;: &quot;#fcf500&quot;}, {&quot;x&quot;: 21, &quot;y&quot;: 10, &quot;v&quot;: &quot;unknown Clostridium [meta_mOTU_v2_7253]&quot;, &quot;Subtypes&quot;: &quot;cluster_01&quot;, &quot;colors&quot;: &quot;#fcf500&quot;}, {&quot;x&quot;: 28, &quot;y&quot;: 10, &quot;v&quot;: &quot;unknown Prevotella [meta_mOTU_v2_6430]&quot;, &quot;Subtypes&quot;: &quot;cluster_01&quot;, &quot;colors&quot;: &quot;#fcf500&quot;}, {&quot;x&quot;: 10, &quot;y&quot;: 11, &quot;v&quot;: &quot;Alistipes timonensis [ref_mOTU_v2_1593]&quot;, &quot;Subtypes&quot;: &quot;cluster_01&quot;, &quot;colors&quot;: &quot;#fcf500&quot;}, {&quot;x&quot;: 11, &quot;y&quot;: 11, &quot;v&quot;: &quot;unknown Bacteroidales [meta_mOTU_v2_5375]&quot;, &quot;Subtypes&quot;: &quot;cluster_01&quot;, &quot;colors&quot;: &quot;#fcf500&quot;}, {&quot;x&quot;: 12, &quot;y&quot;: 11, &quot;v&quot;: &quot;unknown Clostridiales [meta_mOTU_v2_6986]&quot;, &quot;Subtypes&quot;: &quot;cluster_01&quot;, &quot;colors&quot;: &quot;#fcf500&quot;}, {&quot;x&quot;: 13, &quot;y&quot;: 11, &quot;v&quot;: &quot;unknown Clostridiales [meta_mOTU_v2_5843]&quot;, &quot;Subtypes&quot;: &quot;cluster_01&quot;, &quot;colors&quot;: &quot;#fcf500&quot;}, {&quot;x&quot;: 16, &quot;y&quot;: 11, &quot;v&quot;: &quot;Methanobrevibacter smithii [ref_mOTU_v2_1384]&quot;, &quot;Subtypes&quot;: &quot;cluster_01&quot;, &quot;colors&quot;: &quot;#fcf500&quot;}, {&quot;x&quot;: 18, &quot;y&quot;: 11, &quot;v&quot;: &quot;unknown Clostridium [meta_mOTU_v2_7468]&quot;, &quot;Subtypes&quot;: &quot;cluster_01&quot;, &quot;colors&quot;: &quot;#fcf500&quot;}, {&quot;x&quot;: 19, &quot;y&quot;: 11, &quot;v&quot;: &quot;unknown Clostridium [meta_mOTU_v2_6363]&quot;, &quot;Subtypes&quot;: &quot;cluster_01&quot;, &quot;colors&quot;: &quot;#fcf500&quot;}, {&quot;x&quot;: 22, &quot;y&quot;: 11, &quot;v&quot;: &quot;Ruminococcus sp. CAG:403 [meta_mOTU_v2_7774]&quot;, &quot;Subtypes&quot;: &quot;cluster_01&quot;, &quot;colors&quot;: &quot;#fcf500&quot;}, {&quot;x&quot;: 28, &quot;y&quot;: 11, &quot;v&quot;: &quot;unknown Bacteroidales [meta_mOTU_v2_7394]&quot;, &quot;Subtypes&quot;: &quot;cluster_01&quot;, &quot;colors&quot;: &quot;#fcf500&quot;}, {&quot;x&quot;: 9, &quot;y&quot;: 12, &quot;v&quot;: &quot;Bacteroides clarus [ref_mOTU_v2_4945]&quot;, &quot;Subtypes&quot;: &quot;cluster_01&quot;, &quot;colors&quot;: &quot;#fcf500&quot;}, {&quot;x&quot;: 10, &quot;y&quot;: 12, &quot;v&quot;: &quot;Alistipes senegalensis [ref_mOTU_v2_1594]&quot;, &quot;Subtypes&quot;: &quot;cluster_01&quot;, &quot;colors&quot;: &quot;#fcf500&quot;}, {&quot;x&quot;: 11, &quot;y&quot;: 12, &quot;v&quot;: &quot;unknown Clostridiales [meta_mOTU_v2_7156]&quot;, &quot;Subtypes&quot;: &quot;cluster_01&quot;, &quot;colors&quot;: &quot;#fcf500&quot;}, {&quot;x&quot;: 7, &quot;y&quot;: 13, &quot;v&quot;: &quot;Oscillibacter sp. 57_20 [meta_mOTU_v2_6676]&quot;, &quot;Subtypes&quot;: &quot;cluster_01&quot;, &quot;colors&quot;: &quot;#fcf500&quot;}, {&quot;x&quot;: 8, &quot;y&quot;: 13, &quot;v&quot;: &quot;unknown Clostridiales [meta_mOTU_v2_5396]&quot;, &quot;Subtypes&quot;: &quot;cluster_01&quot;, &quot;colors&quot;: &quot;#fcf500&quot;}, {&quot;x&quot;: 7, &quot;y&quot;: 14, &quot;v&quot;: &quot;unknown Clostridiales [meta_mOTU_v2_5805]&quot;, &quot;Subtypes&quot;: &quot;cluster_01&quot;, &quot;colors&quot;: &quot;#fcf500&quot;}, {&quot;x&quot;: 8, &quot;y&quot;: 14, &quot;v&quot;: &quot;unknown Clostridium [meta_mOTU_v2_6883]&quot;, &quot;Subtypes&quot;: &quot;cluster_01&quot;, &quot;colors&quot;: &quot;#fcf500&quot;}, {&quot;x&quot;: 9, &quot;y&quot;: 14, &quot;v&quot;: &quot;Roseburia sp. 40_7 [meta_mOTU_v2_6875]&quot;, &quot;Subtypes&quot;: &quot;cluster_01&quot;, &quot;colors&quot;: &quot;#fcf500&quot;}, {&quot;x&quot;: 10, &quot;y&quot;: 14, &quot;v&quot;: &quot;unknown Ruminococcus [meta_mOTU_v2_7275]&quot;, &quot;Subtypes&quot;: &quot;cluster_01&quot;, &quot;colors&quot;: &quot;#fcf500&quot;}, {&quot;x&quot;: 11, &quot;y&quot;: 14, &quot;v&quot;: &quot;Ruminococcus sp. CAG:177 [meta_mOTU_v2_6664]&quot;, &quot;Subtypes&quot;: &quot;cluster_01&quot;, &quot;colors&quot;: &quot;#fcf500&quot;}, {&quot;x&quot;: 21, &quot;y&quot;: 14, &quot;v&quot;: &quot;unknown Clostridiales [meta_mOTU_v2_5904]&quot;, &quot;Subtypes&quot;: &quot;cluster_01&quot;, &quot;colors&quot;: &quot;#fcf500&quot;}, {&quot;x&quot;: 22, &quot;y&quot;: 14, &quot;v&quot;: &quot;Anaerotruncus sp. CAG:528 [meta_mOTU_v2_7471]&quot;, &quot;Subtypes&quot;: &quot;cluster_01&quot;, &quot;colors&quot;: &quot;#fcf500&quot;}, {&quot;x&quot;: 24, &quot;y&quot;: 14, &quot;v&quot;: &quot;Eubacterium sp. CAG:581 [meta_mOTU_v2_7088]&quot;, &quot;Subtypes&quot;: &quot;cluster_01&quot;, &quot;colors&quot;: &quot;#fcf500&quot;}, {&quot;x&quot;: 5, &quot;y&quot;: 15, &quot;v&quot;: &quot;Oscillibacter sp. 57_20 [meta_mOTU_v2_5351]&quot;, &quot;Subtypes&quot;: &quot;cluster_01&quot;, &quot;colors&quot;: &quot;#fcf500&quot;}, {&quot;x&quot;: 7, &quot;y&quot;: 15, &quot;v&quot;: &quot;Oscillibacter sp. ER4 [ref_mOTU_v2_3624]&quot;, &quot;Subtypes&quot;: &quot;cluster_01&quot;, &quot;colors&quot;: &quot;#fcf500&quot;}, {&quot;x&quot;: 8, &quot;y&quot;: 15, &quot;v&quot;: &quot;Ruminococcus bicirculans [ref_mOTU_v2_2358]&quot;, &quot;Subtypes&quot;: &quot;cluster_01&quot;, &quot;colors&quot;: &quot;#fcf500&quot;}, {&quot;x&quot;: 11, &quot;y&quot;: 15, &quot;v&quot;: &quot;unknown Clostridiales [meta_mOTU_v2_7356]&quot;, &quot;Subtypes&quot;: &quot;cluster_01&quot;, &quot;colors&quot;: &quot;#fcf500&quot;}, {&quot;x&quot;: 12, &quot;y&quot;: 15, &quot;v&quot;: &quot;unknown Faecalibacterium [meta_mOTU_v2_6452]&quot;, &quot;Subtypes&quot;: &quot;cluster_01&quot;, &quot;colors&quot;: &quot;#fcf500&quot;}, {&quot;x&quot;: 23, &quot;y&quot;: 15, &quot;v&quot;: &quot;Mycoplasma sp. CAG:877 [meta_mOTU_v2_6682]&quot;, &quot;Subtypes&quot;: &quot;cluster_01&quot;, &quot;colors&quot;: &quot;#fcf500&quot;}, {&quot;x&quot;: 4, &quot;y&quot;: 16, &quot;v&quot;: &quot;unknown Clostridium [meta_mOTU_v2_6792]&quot;, &quot;Subtypes&quot;: &quot;cluster_01&quot;, &quot;colors&quot;: &quot;#fcf500&quot;}, {&quot;x&quot;: 5, &quot;y&quot;: 16, &quot;v&quot;: &quot;butyrate-producing bacterium SS3/4 [ref_mOTU_v2_3825]&quot;, &quot;Subtypes&quot;: &quot;cluster_01&quot;, &quot;colors&quot;: &quot;#fcf500&quot;}, {&quot;x&quot;: 6, &quot;y&quot;: 16, &quot;v&quot;: &quot;unknown Clostridiales [meta_mOTU_v2_5603]&quot;, &quot;Subtypes&quot;: &quot;cluster_01&quot;, &quot;colors&quot;: &quot;#fcf500&quot;}, {&quot;x&quot;: 7, &quot;y&quot;: 16, &quot;v&quot;: &quot;unknown Clostridiales [meta_mOTU_v2_7180]&quot;, &quot;Subtypes&quot;: &quot;cluster_01&quot;, &quot;colors&quot;: &quot;#fcf500&quot;}, {&quot;x&quot;: 15, &quot;y&quot;: 16, &quot;v&quot;: &quot;Anaeromassilibacillus sp. An200 [meta_mOTU_v2_6051]&quot;, &quot;Subtypes&quot;: &quot;cluster_01&quot;, &quot;colors&quot;: &quot;#fcf500&quot;}, {&quot;x&quot;: 19, &quot;y&quot;: 16, &quot;v&quot;: &quot;Coprobacillus sp. CAG:826 [meta_mOTU_v2_6390]&quot;, &quot;Subtypes&quot;: &quot;cluster_01&quot;, &quot;colors&quot;: &quot;#fcf500&quot;}, {&quot;x&quot;: 25, &quot;y&quot;: 16, &quot;v&quot;: &quot;unknown Ruminococcus [meta_mOTU_v2_6727]&quot;, &quot;Subtypes&quot;: &quot;cluster_01&quot;, &quot;colors&quot;: &quot;#fcf500&quot;}, {&quot;x&quot;: 3, &quot;y&quot;: 17, &quot;v&quot;: &quot;unknown Clostridiales [meta_mOTU_v2_7014]&quot;, &quot;Subtypes&quot;: &quot;cluster_01&quot;, &quot;colors&quot;: &quot;#fcf500&quot;}, {&quot;x&quot;: 4, &quot;y&quot;: 17, &quot;v&quot;: &quot;unknown Clostridiales [meta_mOTU_v2_6832]&quot;, &quot;Subtypes&quot;: &quot;cluster_01&quot;, &quot;colors&quot;: &quot;#fcf500&quot;}, {&quot;x&quot;: 5, &quot;y&quot;: 17, &quot;v&quot;: &quot;unknown Clostridiales [meta_mOTU_v2_6808]&quot;, &quot;Subtypes&quot;: &quot;cluster_01&quot;, &quot;colors&quot;: &quot;#fcf500&quot;}, {&quot;x&quot;: 6, &quot;y&quot;: 17, &quot;v&quot;: &quot;unknown Clostridiales [meta_mOTU_v2_5669]&quot;, &quot;Subtypes&quot;: &quot;cluster_01&quot;, &quot;colors&quot;: &quot;#fcf500&quot;}, {&quot;x&quot;: 7, &quot;y&quot;: 17, &quot;v&quot;: &quot;unknown Clostridiales [meta_mOTU_v2_7158]&quot;, &quot;Subtypes&quot;: &quot;cluster_01&quot;, &quot;colors&quot;: &quot;#fcf500&quot;}, {&quot;x&quot;: 8, &quot;y&quot;: 17, &quot;v&quot;: &quot;unknown Clostridiales [meta_mOTU_v2_6819]&quot;, &quot;Subtypes&quot;: &quot;cluster_01&quot;, &quot;colors&quot;: &quot;#fcf500&quot;}, {&quot;x&quot;: 9, &quot;y&quot;: 17, &quot;v&quot;: &quot;unknown Clostridiales [meta_mOTU_v2_6272]&quot;, &quot;Subtypes&quot;: &quot;cluster_01&quot;, &quot;colors&quot;: &quot;#fcf500&quot;}, {&quot;x&quot;: 10, &quot;y&quot;: 17, &quot;v&quot;: &quot;unknown Eubacterium [meta_mOTU_v2_5463]&quot;, &quot;Subtypes&quot;: &quot;cluster_01&quot;, &quot;colors&quot;: &quot;#fcf500&quot;}, {&quot;x&quot;: 3, &quot;y&quot;: 18, &quot;v&quot;: &quot;unknown Clostridiales [meta_mOTU_v2_7031]&quot;, &quot;Subtypes&quot;: &quot;cluster_01&quot;, &quot;colors&quot;: &quot;#fcf500&quot;}, {&quot;x&quot;: 4, &quot;y&quot;: 18, &quot;v&quot;: &quot;Faecalibacterium prausnitzii [ref_mOTU_v2_4875]&quot;, &quot;Subtypes&quot;: &quot;cluster_01&quot;, &quot;colors&quot;: &quot;#fcf500&quot;}, {&quot;x&quot;: 5, &quot;y&quot;: 18, &quot;v&quot;: &quot;unknown Clostridiales [meta_mOTU_v2_5978]&quot;, &quot;Subtypes&quot;: &quot;cluster_01&quot;, &quot;colors&quot;: &quot;#fcf500&quot;}, {&quot;x&quot;: 6, &quot;y&quot;: 18, &quot;v&quot;: &quot;Eubacterium eligens [ref_mOTU_v2_4389]&quot;, &quot;Subtypes&quot;: &quot;cluster_01&quot;, &quot;colors&quot;: &quot;#fcf500&quot;}, {&quot;x&quot;: 9, &quot;y&quot;: 18, &quot;v&quot;: &quot;unknown Oscillibacter [meta_mOTU_v2_5944]&quot;, &quot;Subtypes&quot;: &quot;cluster_01&quot;, &quot;colors&quot;: &quot;#fcf500&quot;}, {&quot;x&quot;: 11, &quot;y&quot;: 18, &quot;v&quot;: &quot;Ruminococcus sp. CAG:177 [meta_mOTU_v2_5453]&quot;, &quot;Subtypes&quot;: &quot;cluster_01&quot;, &quot;colors&quot;: &quot;#fcf500&quot;}, {&quot;x&quot;: 26, &quot;y&quot;: 18, &quot;v&quot;: &quot;Bacteroides barnesiae [ref_mOTU_v2_0452]&quot;, &quot;Subtypes&quot;: &quot;cluster_01&quot;, &quot;colors&quot;: &quot;#fcf500&quot;}, {&quot;x&quot;: 27, &quot;y&quot;: 18, &quot;v&quot;: &quot;unknown Bacteroides [meta_mOTU_v2_5618]&quot;, &quot;Subtypes&quot;: &quot;cluster_01&quot;, &quot;colors&quot;: &quot;#fcf500&quot;}, {&quot;x&quot;: 28, &quot;y&quot;: 18, &quot;v&quot;: &quot;unknown Bacteroidaceae [meta_mOTU_v2_7591]&quot;, &quot;Subtypes&quot;: &quot;cluster_01&quot;, &quot;colors&quot;: &quot;#fcf500&quot;}, {&quot;x&quot;: 2, &quot;y&quot;: 19, &quot;v&quot;: &quot;unknown Clostridiales [meta_mOTU_v2_5712]&quot;, &quot;Subtypes&quot;: &quot;cluster_01&quot;, &quot;colors&quot;: &quot;#fcf500&quot;}, {&quot;x&quot;: 3, &quot;y&quot;: 19, &quot;v&quot;: &quot;Roseburia hominis [ref_mOTU_v2_4572]&quot;, &quot;Subtypes&quot;: &quot;cluster_01&quot;, &quot;colors&quot;: &quot;#fcf500&quot;}, {&quot;x&quot;: 4, &quot;y&quot;: 19, &quot;v&quot;: &quot;unknown Clostridiales [meta_mOTU_v2_6721]&quot;, &quot;Subtypes&quot;: &quot;cluster_01&quot;, &quot;colors&quot;: &quot;#fcf500&quot;}, {&quot;x&quot;: 5, &quot;y&quot;: 19, &quot;v&quot;: &quot;Roseburia intestinalis [ref_mOTU_v2_1427]&quot;, &quot;Subtypes&quot;: &quot;cluster_01&quot;, &quot;colors&quot;: &quot;#fcf500&quot;}, {&quot;x&quot;: 7, &quot;y&quot;: 19, &quot;v&quot;: &quot;unknown Clostridiales [meta_mOTU_v2_5745]&quot;, &quot;Subtypes&quot;: &quot;cluster_01&quot;, &quot;colors&quot;: &quot;#fcf500&quot;}, {&quot;x&quot;: 8, &quot;y&quot;: 19, &quot;v&quot;: &quot;unknown Faecalibacterium [meta_mOTU_v2_5779]&quot;, &quot;Subtypes&quot;: &quot;cluster_01&quot;, &quot;colors&quot;: &quot;#fcf500&quot;}, {&quot;x&quot;: 23, &quot;y&quot;: 19, &quot;v&quot;: &quot;unknown Ruminococcaceae [meta_mOTU_v2_7375]&quot;, &quot;Subtypes&quot;: &quot;cluster_01&quot;, &quot;colors&quot;: &quot;#fcf500&quot;}, {&quot;x&quot;: 2, &quot;y&quot;: 20, &quot;v&quot;: &quot;Roseburia inulinivorans [ref_mOTU_v2_4632]&quot;, &quot;Subtypes&quot;: &quot;cluster_01&quot;, &quot;colors&quot;: &quot;#fcf500&quot;}, {&quot;x&quot;: 3, &quot;y&quot;: 20, &quot;v&quot;: &quot;Faecalibacterium prausnitzii [ref_mOTU_v2_4910]&quot;, &quot;Subtypes&quot;: &quot;cluster_01&quot;, &quot;colors&quot;: &quot;#fcf500&quot;}, {&quot;x&quot;: 4, &quot;y&quot;: 20, &quot;v&quot;: &quot;unknown Roseburia [meta_mOTU_v2_5354]&quot;, &quot;Subtypes&quot;: &quot;cluster_01&quot;, &quot;colors&quot;: &quot;#fcf500&quot;}, {&quot;x&quot;: 5, &quot;y&quot;: 20, &quot;v&quot;: &quot;unknown Faecalibacterium [meta_mOTU_v2_6631]&quot;, &quot;Subtypes&quot;: &quot;cluster_01&quot;, &quot;colors&quot;: &quot;#fcf500&quot;}, {&quot;x&quot;: 6, &quot;y&quot;: 20, &quot;v&quot;: &quot;Faecalibacterium prausnitzii [ref_mOTU_v2_1379]&quot;, &quot;Subtypes&quot;: &quot;cluster_01&quot;, &quot;colors&quot;: &quot;#fcf500&quot;}, {&quot;x&quot;: 7, &quot;y&quot;: 20, &quot;v&quot;: &quot;Eubacterium sp. CAG:38 [meta_mOTU_v2_7668]&quot;, &quot;Subtypes&quot;: &quot;cluster_01&quot;, &quot;colors&quot;: &quot;#fcf500&quot;}, {&quot;x&quot;: 8, &quot;y&quot;: 20, &quot;v&quot;: &quot;unknown Clostridiales [meta_mOTU_v2_7782]&quot;, &quot;Subtypes&quot;: &quot;cluster_01&quot;, &quot;colors&quot;: &quot;#fcf500&quot;}, {&quot;x&quot;: 12, &quot;y&quot;: 20, &quot;v&quot;: &quot;unknown Clostridiales [meta_mOTU_v2_7124]&quot;, &quot;Subtypes&quot;: &quot;cluster_01&quot;, &quot;colors&quot;: &quot;#fcf500&quot;}, {&quot;x&quot;: 4, &quot;y&quot;: 21, &quot;v&quot;: &quot;Faecalibacterium prausnitzii [ref_mOTU_v2_4211]&quot;, &quot;Subtypes&quot;: &quot;cluster_01&quot;, &quot;colors&quot;: &quot;#fcf500&quot;}, {&quot;x&quot;: 13, &quot;y&quot;: 21, &quot;v&quot;: &quot;unknown Eggerthellales [meta_mOTU_v2_6052]&quot;, &quot;Subtypes&quot;: &quot;cluster_01&quot;, &quot;colors&quot;: &quot;#fcf500&quot;}, {&quot;x&quot;: 14, &quot;y&quot;: 21, &quot;v&quot;: &quot;unknown Bacteroidales [meta_mOTU_v2_7313]&quot;, &quot;Subtypes&quot;: &quot;cluster_01&quot;, &quot;colors&quot;: &quot;#fcf500&quot;}, {&quot;x&quot;: 21, &quot;y&quot;: 21, &quot;v&quot;: &quot;Clostridium sp. CAG:451 [meta_mOTU_v2_5908]&quot;, &quot;Subtypes&quot;: &quot;cluster_01&quot;, &quot;colors&quot;: &quot;#fcf500&quot;}, {&quot;x&quot;: 22, &quot;y&quot;: 21, &quot;v&quot;: &quot;unknown Clostridiales [meta_mOTU_v2_5415]&quot;, &quot;Subtypes&quot;: &quot;cluster_01&quot;, &quot;colors&quot;: &quot;#fcf500&quot;}, {&quot;x&quot;: 25, &quot;y&quot;: 21, &quot;v&quot;: &quot;unknown Bacteroidales [meta_mOTU_v2_6217]&quot;, &quot;Subtypes&quot;: &quot;cluster_01&quot;, &quot;colors&quot;: &quot;#fcf500&quot;}, {&quot;x&quot;: 2, &quot;y&quot;: 22, &quot;v&quot;: &quot;unknown Butyricicoccus [meta_mOTU_v2_5437]&quot;, &quot;Subtypes&quot;: &quot;cluster_01&quot;, &quot;colors&quot;: &quot;#fcf500&quot;}, {&quot;x&quot;: 3, &quot;y&quot;: 22, &quot;v&quot;: &quot;unknown Clostridiales [meta_mOTU_v2_6088]&quot;, &quot;Subtypes&quot;: &quot;cluster_01&quot;, &quot;colors&quot;: &quot;#fcf500&quot;}, {&quot;x&quot;: 4, &quot;y&quot;: 22, &quot;v&quot;: &quot;Eubacterium rectale [ref_mOTU_v2_1416]&quot;, &quot;Subtypes&quot;: &quot;cluster_01&quot;, &quot;colors&quot;: &quot;#fcf500&quot;}, {&quot;x&quot;: 8, &quot;y&quot;: 22, &quot;v&quot;: &quot;unknown Faecalibacterium [meta_mOTU_v2_5815]&quot;, &quot;Subtypes&quot;: &quot;cluster_01&quot;, &quot;colors&quot;: &quot;#fcf500&quot;}, {&quot;x&quot;: 9, &quot;y&quot;: 22, &quot;v&quot;: &quot;unknown Ruminococcaceae [meta_mOTU_v2_6850]&quot;, &quot;Subtypes&quot;: &quot;cluster_01&quot;, &quot;colors&quot;: &quot;#fcf500&quot;}, {&quot;x&quot;: 20, &quot;y&quot;: 22, &quot;v&quot;: &quot;Bacteroides sp. 43_108 [meta_mOTU_v2_7407]&quot;, &quot;Subtypes&quot;: &quot;cluster_01&quot;, &quot;colors&quot;: &quot;#fcf500&quot;}, {&quot;x&quot;: 21, &quot;y&quot;: 22, &quot;v&quot;: &quot;Mailhella massiliensis [meta_mOTU_v2_5632]&quot;, &quot;Subtypes&quot;: &quot;cluster_01&quot;, &quot;colors&quot;: &quot;#fcf500&quot;}, {&quot;x&quot;: 22, &quot;y&quot;: 22, &quot;v&quot;: &quot;Desulfovibrio piger [ref_mOTU_v2_4205]&quot;, &quot;Subtypes&quot;: &quot;cluster_01&quot;, &quot;colors&quot;: &quot;#fcf500&quot;}, {&quot;x&quot;: 23, &quot;y&quot;: 22, &quot;v&quot;: &quot;Phascolarctobacterium succinatutens [ref_mOTU_v2_0947]&quot;, &quot;Subtypes&quot;: &quot;cluster_01&quot;, &quot;colors&quot;: &quot;#fcf500&quot;}, {&quot;x&quot;: 25, &quot;y&quot;: 22, &quot;v&quot;: &quot;unknown Prevotella [meta_mOTU_v2_5668]&quot;, &quot;Subtypes&quot;: &quot;cluster_01&quot;, &quot;colors&quot;: &quot;#fcf500&quot;}, {&quot;x&quot;: 6, &quot;y&quot;: 23, &quot;v&quot;: &quot;unknown Ruminococcaceae [meta_mOTU_v2_6478]&quot;, &quot;Subtypes&quot;: &quot;cluster_01&quot;, &quot;colors&quot;: &quot;#fcf500&quot;}, {&quot;x&quot;: 9, &quot;y&quot;: 23, &quot;v&quot;: &quot;unknown Faecalibacterium [meta_mOTU_v2_7718]&quot;, &quot;Subtypes&quot;: &quot;cluster_01&quot;, &quot;colors&quot;: &quot;#fcf500&quot;}, {&quot;x&quot;: 17, &quot;y&quot;: 23, &quot;v&quot;: &quot;Clostridium sp. CAG:571 [meta_mOTU_v2_5498]&quot;, &quot;Subtypes&quot;: &quot;cluster_01&quot;, &quot;colors&quot;: &quot;#fcf500&quot;}, {&quot;x&quot;: 21, &quot;y&quot;: 23, &quot;v&quot;: &quot;Paraprevotella xylaniphila [ref_mOTU_v2_4943]&quot;, &quot;Subtypes&quot;: &quot;cluster_01&quot;, &quot;colors&quot;: &quot;#fcf500&quot;}, {&quot;x&quot;: 24, &quot;y&quot;: 23, &quot;v&quot;: &quot;Paraprevotella clara [ref_mOTU_v2_4942]&quot;, &quot;Subtypes&quot;: &quot;cluster_01&quot;, &quot;colors&quot;: &quot;#fcf500&quot;}, {&quot;x&quot;: 8, &quot;y&quot;: 24, &quot;v&quot;: &quot;unknown Ruminococcaceae [meta_mOTU_v2_7012]&quot;, &quot;Subtypes&quot;: &quot;cluster_01&quot;, &quot;colors&quot;: &quot;#fcf500&quot;}, {&quot;x&quot;: 15, &quot;y&quot;: 24, &quot;v&quot;: &quot;unknown Bacteroidales [meta_mOTU_v2_6670]&quot;, &quot;Subtypes&quot;: &quot;cluster_01&quot;, &quot;colors&quot;: &quot;#fcf500&quot;}, {&quot;x&quot;: 22, &quot;y&quot;: 24, &quot;v&quot;: &quot;Sutterella wadsworthensis [ref_mOTU_v2_4889]&quot;, &quot;Subtypes&quot;: &quot;cluster_01&quot;, &quot;colors&quot;: &quot;#fcf500&quot;}, {&quot;x&quot;: 4, &quot;y&quot;: 25, &quot;v&quot;: &quot;unknown Ruminococcaceae [meta_mOTU_v2_6557]&quot;, &quot;Subtypes&quot;: &quot;cluster_01&quot;, &quot;colors&quot;: &quot;#fcf500&quot;}, {&quot;x&quot;: 14, &quot;y&quot;: 25, &quot;v&quot;: &quot;unknown Bacteroidales [meta_mOTU_v2_7748]&quot;, &quot;Subtypes&quot;: &quot;cluster_01&quot;, &quot;colors&quot;: &quot;#fcf500&quot;}, {&quot;x&quot;: 15, &quot;y&quot;: 25, &quot;v&quot;: &quot;unknown Bacteroidaceae [meta_mOTU_v2_7534]&quot;, &quot;Subtypes&quot;: &quot;cluster_01&quot;, &quot;colors&quot;: &quot;#fcf500&quot;}, {&quot;x&quot;: 16, &quot;y&quot;: 25, &quot;v&quot;: &quot;unknown Bacteroidaceae [meta_mOTU_v2_7579]&quot;, &quot;Subtypes&quot;: &quot;cluster_01&quot;, &quot;colors&quot;: &quot;#fcf500&quot;}, {&quot;x&quot;: 18, &quot;y&quot;: 25, &quot;v&quot;: &quot;unknown Parabacteroides [meta_mOTU_v2_6071]&quot;, &quot;Subtypes&quot;: &quot;cluster_01&quot;, &quot;colors&quot;: &quot;#fcf500&quot;}, {&quot;x&quot;: 22, &quot;y&quot;: 25, &quot;v&quot;: &quot;Bifidobacterium angulatum [ref_mOTU_v2_1285]&quot;, &quot;Subtypes&quot;: &quot;cluster_01&quot;, &quot;colors&quot;: &quot;#fcf500&quot;}, {&quot;x&quot;: 23, &quot;y&quot;: 25, &quot;v&quot;: &quot;Lactobacillus ruminis [ref_mOTU_v2_0167]&quot;, &quot;Subtypes&quot;: &quot;cluster_01&quot;, &quot;colors&quot;: &quot;#fcf500&quot;}, {&quot;x&quot;: 3, &quot;y&quot;: 26, &quot;v&quot;: &quot;unknown Ruminococcaceae [meta_mOTU_v2_6905]&quot;, &quot;Subtypes&quot;: &quot;cluster_01&quot;, &quot;colors&quot;: &quot;#fcf500&quot;}, {&quot;x&quot;: 14, &quot;y&quot;: 26, &quot;v&quot;: &quot;unknown Prevotella [meta_mOTU_v2_6456]&quot;, &quot;Subtypes&quot;: &quot;cluster_01&quot;, &quot;colors&quot;: &quot;#fcf500&quot;}, {&quot;x&quot;: 15, &quot;y&quot;: 26, &quot;v&quot;: &quot;unknown Prevotella [meta_mOTU_v2_6294]&quot;, &quot;Subtypes&quot;: &quot;cluster_01&quot;, &quot;colors&quot;: &quot;#fcf500&quot;}, {&quot;x&quot;: 0, &quot;y&quot;: 27, &quot;v&quot;: &quot;Bifidobacterium ruminantium [ref_mOTU_v2_1159]&quot;, &quot;Subtypes&quot;: &quot;cluster_01&quot;, &quot;colors&quot;: &quot;#fcf500&quot;}, {&quot;x&quot;: 13, &quot;y&quot;: 27, &quot;v&quot;: &quot;Hafnia alvei [ref_mOTU_v2_1202]&quot;, &quot;Subtypes&quot;: &quot;cluster_01&quot;, &quot;colors&quot;: &quot;#fcf500&quot;}, {&quot;x&quot;: 20, &quot;y&quot;: 27, &quot;v&quot;: &quot;unknown Bacteroidales [meta_mOTU_v2_6375]&quot;, &quot;Subtypes&quot;: &quot;cluster_01&quot;, &quot;colors&quot;: &quot;#fcf500&quot;}, {&quot;x&quot;: 17, &quot;y&quot;: 28, &quot;v&quot;: &quot;Clostridium sp. CAG:964 [meta_mOTU_v2_6131]&quot;, &quot;Subtypes&quot;: &quot;cluster_01&quot;, &quot;colors&quot;: &quot;#fcf500&quot;}], &quot;type&quot;: &quot;heatmap&quot;, &quot;color&quot;: &quot;#fcf500&quot;, &quot;name&quot;: &quot;cluster_01&quot;}, {&quot;data&quot;: [{&quot;x&quot;: 0, &quot;y&quot;: 0, &quot;v&quot;: &quot;unknown Porphyromonas [meta_mOTU_v2_5431]&quot;, &quot;Subtypes&quot;: &quot;cluster_02&quot;, &quot;colors&quot;: &quot;#08ff00&quot;}, {&quot;x&quot;: 1, &quot;y&quot;: 0, &quot;v&quot;: &quot;Clostridiales bacterium S5-A14a [meta_mOTU_v2_5486]&quot;, &quot;Subtypes&quot;: &quot;cluster_02&quot;, &quot;colors&quot;: &quot;#08ff00&quot;}, {&quot;x&quot;: 0, &quot;y&quot;: 1, &quot;v&quot;: &quot;unknown Porphyromonas [meta_mOTU_v2_6490]&quot;, &quot;Subtypes&quot;: &quot;cluster_02&quot;, &quot;colors&quot;: &quot;#08ff00&quot;}, {&quot;x&quot;: 1, &quot;y&quot;: 1, &quot;v&quot;: &quot;unknown Porphyromonas [meta_mOTU_v2_7656]&quot;, &quot;Subtypes&quot;: &quot;cluster_02&quot;, &quot;colors&quot;: &quot;#08ff00&quot;}, {&quot;x&quot;: 0, &quot;y&quot;: 2, &quot;v&quot;: &quot;unknown Porphyromonas [meta_mOTU_v2_7777]&quot;, &quot;Subtypes&quot;: &quot;cluster_02&quot;, &quot;colors&quot;: &quot;#08ff00&quot;}, {&quot;x&quot;: 1, &quot;y&quot;: 2, &quot;v&quot;: &quot;Porphyromonas uenonis [ref_mOTU_v2_2102]&quot;, &quot;Subtypes&quot;: &quot;cluster_02&quot;, &quot;colors&quot;: &quot;#08ff00&quot;}, {&quot;x&quot;: 0, &quot;y&quot;: 3, &quot;v&quot;: &quot;Porphyromonas asaccharolytica [ref_mOTU_v2_1517]&quot;, &quot;Subtypes&quot;: &quot;cluster_02&quot;, &quot;colors&quot;: &quot;#08ff00&quot;}, {&quot;x&quot;: 1, &quot;y&quot;: 3, &quot;v&quot;: &quot;Porphyromonas somerae [ref_mOTU_v2_2101]&quot;, &quot;Subtypes&quot;: &quot;cluster_02&quot;, &quot;colors&quot;: &quot;#08ff00&quot;}, {&quot;x&quot;: 16, &quot;y&quot;: 3, &quot;v&quot;: &quot;unknown Clostridiales [meta_mOTU_v2_6260]&quot;, &quot;Subtypes&quot;: &quot;cluster_02&quot;, &quot;colors&quot;: &quot;#08ff00&quot;}, {&quot;x&quot;: 0, &quot;y&quot;: 4, &quot;v&quot;: &quot;Anaerococcus obesiensis/vaginalis [ref_mOTU_v2_0429]&quot;, &quot;Subtypes&quot;: &quot;cluster_02&quot;, &quot;colors&quot;: &quot;#08ff00&quot;}, {&quot;x&quot;: 1, &quot;y&quot;: 4, &quot;v&quot;: &quot;Porphyromonas uenonis [ref_mOTU_v2_4616]&quot;, &quot;Subtypes&quot;: &quot;cluster_02&quot;, &quot;colors&quot;: &quot;#08ff00&quot;}, {&quot;x&quot;: 17, &quot;y&quot;: 4, &quot;v&quot;: &quot;unknown Ruminococcus [meta_mOTU_v2_5392]&quot;, &quot;Subtypes&quot;: &quot;cluster_02&quot;, &quot;colors&quot;: &quot;#08ff00&quot;}, {&quot;x&quot;: 15, &quot;y&quot;: 6, &quot;v&quot;: &quot;Akkermansia muciniphila [ref_mOTU_v2_1301]&quot;, &quot;Subtypes&quot;: &quot;cluster_02&quot;, &quot;colors&quot;: &quot;#08ff00&quot;}, {&quot;x&quot;: 17, &quot;y&quot;: 6, &quot;v&quot;: &quot;unknown Clostridiales [meta_mOTU_v2_6465]&quot;, &quot;Subtypes&quot;: &quot;cluster_02&quot;, &quot;colors&quot;: &quot;#08ff00&quot;}, {&quot;x&quot;: 18, &quot;y&quot;: 6, &quot;v&quot;: &quot;unknown Azospirillum [meta_mOTU_v2_7737]&quot;, &quot;Subtypes&quot;: &quot;cluster_02&quot;, &quot;colors&quot;: &quot;#08ff00&quot;}, {&quot;x&quot;: 19, &quot;y&quot;: 6, &quot;v&quot;: &quot;unknown Bacteroidales [meta_mOTU_v2_6194]&quot;, &quot;Subtypes&quot;: &quot;cluster_02&quot;, &quot;colors&quot;: &quot;#08ff00&quot;}, {&quot;x&quot;: 18, &quot;y&quot;: 7, &quot;v&quot;: &quot;Brachyspira sp. CAG:484 [meta_mOTU_v2_6314]&quot;, &quot;Subtypes&quot;: &quot;cluster_02&quot;, &quot;colors&quot;: &quot;#08ff00&quot;}, {&quot;x&quot;: 26, &quot;y&quot;: 7, &quot;v&quot;: &quot;Clostridium sp. CAG:413 [meta_mOTU_v2_7152]&quot;, &quot;Subtypes&quot;: &quot;cluster_02&quot;, &quot;colors&quot;: &quot;#08ff00&quot;}, {&quot;x&quot;: 27, &quot;y&quot;: 7, &quot;v&quot;: &quot;unknown Bacteroidales [meta_mOTU_v2_7089]&quot;, &quot;Subtypes&quot;: &quot;cluster_02&quot;, &quot;colors&quot;: &quot;#08ff00&quot;}, {&quot;x&quot;: 15, &quot;y&quot;: 8, &quot;v&quot;: &quot;Clostridium sp. CAG:273 [meta_mOTU_v2_5681]&quot;, &quot;Subtypes&quot;: &quot;cluster_02&quot;, &quot;colors&quot;: &quot;#08ff00&quot;}, {&quot;x&quot;: 16, &quot;y&quot;: 8, &quot;v&quot;: &quot;Clostridium sp. CAG:306 [meta_mOTU_v2_5698]&quot;, &quot;Subtypes&quot;: &quot;cluster_02&quot;, &quot;colors&quot;: &quot;#08ff00&quot;}, {&quot;x&quot;: 19, &quot;y&quot;: 8, &quot;v&quot;: &quot;unknown Azospirillum [meta_mOTU_v2_6649]&quot;, &quot;Subtypes&quot;: &quot;cluster_02&quot;, &quot;colors&quot;: &quot;#08ff00&quot;}, {&quot;x&quot;: 22, &quot;y&quot;: 8, &quot;v&quot;: &quot;unknown Bacteroidales [meta_mOTU_v2_6591]&quot;, &quot;Subtypes&quot;: &quot;cluster_02&quot;, &quot;colors&quot;: &quot;#08ff00&quot;}, {&quot;x&quot;: 26, &quot;y&quot;: 8, &quot;v&quot;: &quot;Clostridium sp. CAG:710 [meta_mOTU_v2_6788]&quot;, &quot;Subtypes&quot;: &quot;cluster_02&quot;, &quot;colors&quot;: &quot;#08ff00&quot;}, {&quot;x&quot;: 27, &quot;y&quot;: 8, &quot;v&quot;: &quot;Coprobacillus sp. CAG:826 [meta_mOTU_v2_6536]&quot;, &quot;Subtypes&quot;: &quot;cluster_02&quot;, &quot;colors&quot;: &quot;#08ff00&quot;}, {&quot;x&quot;: 16, &quot;y&quot;: 9, &quot;v&quot;: &quot;unknown Clostridium [meta_mOTU_v2_7645]&quot;, &quot;Subtypes&quot;: &quot;cluster_02&quot;, &quot;colors&quot;: &quot;#08ff00&quot;}, {&quot;x&quot;: 22, &quot;y&quot;: 9, &quot;v&quot;: &quot;unknown Clostridiales [meta_mOTU_v2_7063]&quot;, &quot;Subtypes&quot;: &quot;cluster_02&quot;, &quot;colors&quot;: &quot;#08ff00&quot;}, {&quot;x&quot;: 23, &quot;y&quot;: 9, &quot;v&quot;: &quot;unknown Ruminococcus [meta_mOTU_v2_6724]&quot;, &quot;Subtypes&quot;: &quot;cluster_02&quot;, &quot;colors&quot;: &quot;#08ff00&quot;}, {&quot;x&quot;: 24, &quot;y&quot;: 9, &quot;v&quot;: &quot;unknown Clostridiales [meta_mOTU_v2_6475]&quot;, &quot;Subtypes&quot;: &quot;cluster_02&quot;, &quot;colors&quot;: &quot;#08ff00&quot;}, {&quot;x&quot;: 25, &quot;y&quot;: 9, &quot;v&quot;: &quot;unknown Clostridiales [meta_mOTU_v2_5583]&quot;, &quot;Subtypes&quot;: &quot;cluster_02&quot;, &quot;colors&quot;: &quot;#08ff00&quot;}, {&quot;x&quot;: 26, &quot;y&quot;: 9, &quot;v&quot;: &quot;Clostridium sp. CAG:1193 [meta_mOTU_v2_7613]&quot;, &quot;Subtypes&quot;: &quot;cluster_02&quot;, &quot;colors&quot;: &quot;#08ff00&quot;}, {&quot;x&quot;: 27, &quot;y&quot;: 9, &quot;v&quot;: &quot;Clostridium sp. CAG:628 [meta_mOTU_v2_6559]&quot;, &quot;Subtypes&quot;: &quot;cluster_02&quot;, &quot;colors&quot;: &quot;#08ff00&quot;}, {&quot;x&quot;: 28, &quot;y&quot;: 9, &quot;v&quot;: &quot;unknown Firmicutes [meta_mOTU_v2_5841]&quot;, &quot;Subtypes&quot;: &quot;cluster_02&quot;, &quot;colors&quot;: &quot;#08ff00&quot;}, {&quot;x&quot;: 16, &quot;y&quot;: 10, &quot;v&quot;: &quot;unknown Clostridium [meta_mOTU_v2_7026]&quot;, &quot;Subtypes&quot;: &quot;cluster_02&quot;, &quot;colors&quot;: &quot;#08ff00&quot;}, {&quot;x&quot;: 17, &quot;y&quot;: 10, &quot;v&quot;: &quot;unknown Clostridiales [meta_mOTU_v2_5961]&quot;, &quot;Subtypes&quot;: &quot;cluster_02&quot;, &quot;colors&quot;: &quot;#08ff00&quot;}, {&quot;x&quot;: 19, &quot;y&quot;: 10, &quot;v&quot;: &quot;unknown Clostridiales [meta_mOTU_v2_7462]&quot;, &quot;Subtypes&quot;: &quot;cluster_02&quot;, &quot;colors&quot;: &quot;#08ff00&quot;}, {&quot;x&quot;: 20, &quot;y&quot;: 10, &quot;v&quot;: &quot;unknown Clostridium [meta_mOTU_v2_5336]&quot;, &quot;Subtypes&quot;: &quot;cluster_02&quot;, &quot;colors&quot;: &quot;#08ff00&quot;}, {&quot;x&quot;: 22, &quot;y&quot;: 10, &quot;v&quot;: &quot;unknown Firmicutes [meta_mOTU_v2_6596]&quot;, &quot;Subtypes&quot;: &quot;cluster_02&quot;, &quot;colors&quot;: &quot;#08ff00&quot;}, {&quot;x&quot;: 23, &quot;y&quot;: 10, &quot;v&quot;: &quot;Clostridium sp. CAG:465 [meta_mOTU_v2_6001]&quot;, &quot;Subtypes&quot;: &quot;cluster_02&quot;, &quot;colors&quot;: &quot;#08ff00&quot;}, {&quot;x&quot;: 24, &quot;y&quot;: 10, &quot;v&quot;: &quot;unknown Firmicutes [meta_mOTU_v2_5910]&quot;, &quot;Subtypes&quot;: &quot;cluster_02&quot;, &quot;colors&quot;: &quot;#08ff00&quot;}, {&quot;x&quot;: 25, &quot;y&quot;: 10, &quot;v&quot;: &quot;unknown Clostridiales [meta_mOTU_v2_7148]&quot;, &quot;Subtypes&quot;: &quot;cluster_02&quot;, &quot;colors&quot;: &quot;#08ff00&quot;}, {&quot;x&quot;: 26, &quot;y&quot;: 10, &quot;v&quot;: &quot;Clostridium sp. CAG:762 [meta_mOTU_v2_6739]&quot;, &quot;Subtypes&quot;: &quot;cluster_02&quot;, &quot;colors&quot;: &quot;#08ff00&quot;}, {&quot;x&quot;: 27, &quot;y&quot;: 10, &quot;v&quot;: &quot;unknown Clostridium [meta_mOTU_v2_5366]&quot;, &quot;Subtypes&quot;: &quot;cluster_02&quot;, &quot;colors&quot;: &quot;#08ff00&quot;}, {&quot;x&quot;: 14, &quot;y&quot;: 11, &quot;v&quot;: &quot;unknown Clostridium [meta_mOTU_v2_5585]&quot;, &quot;Subtypes&quot;: &quot;cluster_02&quot;, &quot;colors&quot;: &quot;#08ff00&quot;}, {&quot;x&quot;: 15, &quot;y&quot;: 11, &quot;v&quot;: &quot;unknown Clostridium [meta_mOTU_v2_6292]&quot;, &quot;Subtypes&quot;: &quot;cluster_02&quot;, &quot;colors&quot;: &quot;#08ff00&quot;}, {&quot;x&quot;: 17, &quot;y&quot;: 11, &quot;v&quot;: &quot;unknown Clostridium [meta_mOTU_v2_6156]&quot;, &quot;Subtypes&quot;: &quot;cluster_02&quot;, &quot;colors&quot;: &quot;#08ff00&quot;}, {&quot;x&quot;: 20, &quot;y&quot;: 11, &quot;v&quot;: &quot;unknown Clostridium [meta_mOTU_v2_5748]&quot;, &quot;Subtypes&quot;: &quot;cluster_02&quot;, &quot;colors&quot;: &quot;#08ff00&quot;}, {&quot;x&quot;: 21, &quot;y&quot;: 11, &quot;v&quot;: &quot;Clostridium sp. CAG:411 [meta_mOTU_v2_7074]&quot;, &quot;Subtypes&quot;: &quot;cluster_02&quot;, &quot;colors&quot;: &quot;#08ff00&quot;}, {&quot;x&quot;: 23, &quot;y&quot;: 11, &quot;v&quot;: &quot;unknown Clostridiales [meta_mOTU_v2_7600]&quot;, &quot;Subtypes&quot;: &quot;cluster_02&quot;, &quot;colors&quot;: &quot;#08ff00&quot;}, {&quot;x&quot;: 24, &quot;y&quot;: 11, &quot;v&quot;: &quot;Clostridium sp. CAG:798 [meta_mOTU_v2_6742]&quot;, &quot;Subtypes&quot;: &quot;cluster_02&quot;, &quot;colors&quot;: &quot;#08ff00&quot;}, {&quot;x&quot;: 25, &quot;y&quot;: 11, &quot;v&quot;: &quot;Prevotella sp. CAG:485 [meta_mOTU_v2_7045]&quot;, &quot;Subtypes&quot;: &quot;cluster_02&quot;, &quot;colors&quot;: &quot;#08ff00&quot;}, {&quot;x&quot;: 26, &quot;y&quot;: 11, &quot;v&quot;: &quot;unknown Clostridium [meta_mOTU_v2_5751]&quot;, &quot;Subtypes&quot;: &quot;cluster_02&quot;, &quot;colors&quot;: &quot;#08ff00&quot;}, {&quot;x&quot;: 27, &quot;y&quot;: 11, &quot;v&quot;: &quot;Clostridium sp. CAG:533 [meta_mOTU_v2_6224]&quot;, &quot;Subtypes&quot;: &quot;cluster_02&quot;, &quot;colors&quot;: &quot;#08ff00&quot;}, {&quot;x&quot;: 12, &quot;y&quot;: 12, &quot;v&quot;: &quot;Roseburia sp. CAG:303 [meta_mOTU_v2_6722]&quot;, &quot;Subtypes&quot;: &quot;cluster_02&quot;, &quot;colors&quot;: &quot;#08ff00&quot;}, {&quot;x&quot;: 13, &quot;y&quot;: 12, &quot;v&quot;: &quot;unknown Clostridium [meta_mOTU_v2_6816]&quot;, &quot;Subtypes&quot;: &quot;cluster_02&quot;, &quot;colors&quot;: &quot;#08ff00&quot;}, {&quot;x&quot;: 14, &quot;y&quot;: 12, &quot;v&quot;: &quot;unknown Firmicutes [meta_mOTU_v2_5740]&quot;, &quot;Subtypes&quot;: &quot;cluster_02&quot;, &quot;colors&quot;: &quot;#08ff00&quot;}, {&quot;x&quot;: 15, &quot;y&quot;: 12, &quot;v&quot;: &quot;unknown Clostridiales [meta_mOTU_v2_6128]&quot;, &quot;Subtypes&quot;: &quot;cluster_02&quot;, &quot;colors&quot;: &quot;#08ff00&quot;}, {&quot;x&quot;: 16, &quot;y&quot;: 12, &quot;v&quot;: &quot;Clostridium sp. 27_14 [meta_mOTU_v2_5718]&quot;, &quot;Subtypes&quot;: &quot;cluster_02&quot;, &quot;colors&quot;: &quot;#08ff00&quot;}, {&quot;x&quot;: 17, &quot;y&quot;: 12, &quot;v&quot;: &quot;unknown Clostridium [meta_mOTU_v2_6285]&quot;, &quot;Subtypes&quot;: &quot;cluster_02&quot;, &quot;colors&quot;: &quot;#08ff00&quot;}, {&quot;x&quot;: 18, &quot;y&quot;: 12, &quot;v&quot;: &quot;unknown Ruminococcus [meta_mOTU_v2_7048]&quot;, &quot;Subtypes&quot;: &quot;cluster_02&quot;, &quot;colors&quot;: &quot;#08ff00&quot;}, {&quot;x&quot;: 19, &quot;y&quot;: 12, &quot;v&quot;: &quot;Clostridium sp. CAG:302 [meta_mOTU_v2_7183]&quot;, &quot;Subtypes&quot;: &quot;cluster_02&quot;, &quot;colors&quot;: &quot;#08ff00&quot;}, {&quot;x&quot;: 20, &quot;y&quot;: 12, &quot;v&quot;: &quot;Clostridium sp. CAG:510 [meta_mOTU_v2_6178]&quot;, &quot;Subtypes&quot;: &quot;cluster_02&quot;, &quot;colors&quot;: &quot;#08ff00&quot;}, {&quot;x&quot;: 21, &quot;y&quot;: 12, &quot;v&quot;: &quot;Ruminococcus champanellensis [ref_mOTU_v2_3773]&quot;, &quot;Subtypes&quot;: &quot;cluster_02&quot;, &quot;colors&quot;: &quot;#08ff00&quot;}, {&quot;x&quot;: 22, &quot;y&quot;: 12, &quot;v&quot;: &quot;Clostridium sp. CAG:609 [meta_mOTU_v2_6466]&quot;, &quot;Subtypes&quot;: &quot;cluster_02&quot;, &quot;colors&quot;: &quot;#08ff00&quot;}, {&quot;x&quot;: 23, &quot;y&quot;: 12, &quot;v&quot;: &quot;unknown Clostridium [meta_mOTU_v2_7123]&quot;, &quot;Subtypes&quot;: &quot;cluster_02&quot;, &quot;colors&quot;: &quot;#08ff00&quot;}, {&quot;x&quot;: 24, &quot;y&quot;: 12, &quot;v&quot;: &quot;Mycoplasma sp. CAG:472 [meta_mOTU_v2_6403]&quot;, &quot;Subtypes&quot;: &quot;cluster_02&quot;, &quot;colors&quot;: &quot;#08ff00&quot;}, {&quot;x&quot;: 25, &quot;y&quot;: 12, &quot;v&quot;: &quot;unknown Firmicutes [meta_mOTU_v2_7419]&quot;, &quot;Subtypes&quot;: &quot;cluster_02&quot;, &quot;colors&quot;: &quot;#08ff00&quot;}, {&quot;x&quot;: 26, &quot;y&quot;: 12, &quot;v&quot;: &quot;unknown Firmicutes [meta_mOTU_v2_7403]&quot;, &quot;Subtypes&quot;: &quot;cluster_02&quot;, &quot;colors&quot;: &quot;#08ff00&quot;}, {&quot;x&quot;: 27, &quot;y&quot;: 12, &quot;v&quot;: &quot;Clostridium sp. CAG:1193 [meta_mOTU_v2_7789]&quot;, &quot;Subtypes&quot;: &quot;cluster_02&quot;, &quot;colors&quot;: &quot;#08ff00&quot;}, {&quot;x&quot;: 28, &quot;y&quot;: 12, &quot;v&quot;: &quot;unknown Firmicutes [meta_mOTU_v2_6936]&quot;, &quot;Subtypes&quot;: &quot;cluster_02&quot;, &quot;colors&quot;: &quot;#08ff00&quot;}, {&quot;x&quot;: 9, &quot;y&quot;: 13, &quot;v&quot;: &quot;Clostridium saccharogumia [ref_mOTU_v2_0473]&quot;, &quot;Subtypes&quot;: &quot;cluster_02&quot;, &quot;colors&quot;: &quot;#08ff00&quot;}, {&quot;x&quot;: 10, &quot;y&quot;: 13, &quot;v&quot;: &quot;unknown Clostridiales [meta_mOTU_v2_7682]&quot;, &quot;Subtypes&quot;: &quot;cluster_02&quot;, &quot;colors&quot;: &quot;#08ff00&quot;}, {&quot;x&quot;: 11, &quot;y&quot;: 13, &quot;v&quot;: &quot;Clostridium sp. CAG:230 [meta_mOTU_v2_7788]&quot;, &quot;Subtypes&quot;: &quot;cluster_02&quot;, &quot;colors&quot;: &quot;#08ff00&quot;}, {&quot;x&quot;: 12, &quot;y&quot;: 13, &quot;v&quot;: &quot;unknown Roseburia [meta_mOTU_v2_7567]&quot;, &quot;Subtypes&quot;: &quot;cluster_02&quot;, &quot;colors&quot;: &quot;#08ff00&quot;}, {&quot;x&quot;: 13, &quot;y&quot;: 13, &quot;v&quot;: &quot;unknown Clostridiales [meta_mOTU_v2_6134]&quot;, &quot;Subtypes&quot;: &quot;cluster_02&quot;, &quot;colors&quot;: &quot;#08ff00&quot;}, {&quot;x&quot;: 14, &quot;y&quot;: 13, &quot;v&quot;: &quot;unknown Clostridium [meta_mOTU_v2_6039]&quot;, &quot;Subtypes&quot;: &quot;cluster_02&quot;, &quot;colors&quot;: &quot;#08ff00&quot;}, {&quot;x&quot;: 15, &quot;y&quot;: 13, &quot;v&quot;: &quot;unknown Clostridium [meta_mOTU_v2_6117]&quot;, &quot;Subtypes&quot;: &quot;cluster_02&quot;, &quot;colors&quot;: &quot;#08ff00&quot;}, {&quot;x&quot;: 16, &quot;y&quot;: 13, &quot;v&quot;: &quot;unknown Clostridium [meta_mOTU_v2_6877]&quot;, &quot;Subtypes&quot;: &quot;cluster_02&quot;, &quot;colors&quot;: &quot;#08ff00&quot;}, {&quot;x&quot;: 17, &quot;y&quot;: 13, &quot;v&quot;: &quot;unknown Clostridium [meta_mOTU_v2_6349]&quot;, &quot;Subtypes&quot;: &quot;cluster_02&quot;, &quot;colors&quot;: &quot;#08ff00&quot;}, {&quot;x&quot;: 18, &quot;y&quot;: 13, &quot;v&quot;: &quot;unknown Clostridium [meta_mOTU_v2_7266]&quot;, &quot;Subtypes&quot;: &quot;cluster_02&quot;, &quot;colors&quot;: &quot;#08ff00&quot;}, {&quot;x&quot;: 19, &quot;y&quot;: 13, &quot;v&quot;: &quot;unknown Dehalococcoidales [meta_mOTU_v2_7373]&quot;, &quot;Subtypes&quot;: &quot;cluster_02&quot;, &quot;colors&quot;: &quot;#08ff00&quot;}, {&quot;x&quot;: 20, &quot;y&quot;: 13, &quot;v&quot;: &quot;Coprobacillus sp. CAG:605 [meta_mOTU_v2_7625]&quot;, &quot;Subtypes&quot;: &quot;cluster_02&quot;, &quot;colors&quot;: &quot;#08ff00&quot;}, {&quot;x&quot;: 21, &quot;y&quot;: 13, &quot;v&quot;: &quot;unknown Ruminococcus [meta_mOTU_v2_5630]&quot;, &quot;Subtypes&quot;: &quot;cluster_02&quot;, &quot;colors&quot;: &quot;#08ff00&quot;}, {&quot;x&quot;: 22, &quot;y&quot;: 13, &quot;v&quot;: &quot;unknown Firmicutes [meta_mOTU_v2_6277]&quot;, &quot;Subtypes&quot;: &quot;cluster_02&quot;, &quot;colors&quot;: &quot;#08ff00&quot;}, {&quot;x&quot;: 23, &quot;y&quot;: 13, &quot;v&quot;: &quot;Staphylococcus sp. CAG:324 [meta_mOTU_v2_7279]&quot;, &quot;Subtypes&quot;: &quot;cluster_02&quot;, &quot;colors&quot;: &quot;#08ff00&quot;}, {&quot;x&quot;: 24, &quot;y&quot;: 13, &quot;v&quot;: &quot;unknown Firmicutes [meta_mOTU_v2_6730]&quot;, &quot;Subtypes&quot;: &quot;cluster_02&quot;, &quot;colors&quot;: &quot;#08ff00&quot;}, {&quot;x&quot;: 25, &quot;y&quot;: 13, &quot;v&quot;: &quot;unknown Firmicutes [meta_mOTU_v2_6711]&quot;, &quot;Subtypes&quot;: &quot;cluster_02&quot;, &quot;colors&quot;: &quot;#08ff00&quot;}, {&quot;x&quot;: 26, &quot;y&quot;: 13, &quot;v&quot;: &quot;Mycoplasma sp. CAG:611 [meta_mOTU_v2_5692]&quot;, &quot;Subtypes&quot;: &quot;cluster_02&quot;, &quot;colors&quot;: &quot;#08ff00&quot;}, {&quot;x&quot;: 27, &quot;y&quot;: 13, &quot;v&quot;: &quot;unknown Clostridium [meta_mOTU_v2_6338]&quot;, &quot;Subtypes&quot;: &quot;cluster_02&quot;, &quot;colors&quot;: &quot;#08ff00&quot;}, {&quot;x&quot;: 28, &quot;y&quot;: 13, &quot;v&quot;: &quot;unknown Clostridiales [meta_mOTU_v2_7058]&quot;, &quot;Subtypes&quot;: &quot;cluster_02&quot;, &quot;colors&quot;: &quot;#08ff00&quot;}, {&quot;x&quot;: 4, &quot;y&quot;: 14, &quot;v&quot;: &quot;unknown Clostridiales [meta_mOTU_v2_7752]&quot;, &quot;Subtypes&quot;: &quot;cluster_02&quot;, &quot;colors&quot;: &quot;#08ff00&quot;}, {&quot;x&quot;: 5, &quot;y&quot;: 14, &quot;v&quot;: &quot;unknown Clostridiales [meta_mOTU_v2_6571]&quot;, &quot;Subtypes&quot;: &quot;cluster_02&quot;, &quot;colors&quot;: &quot;#08ff00&quot;}, {&quot;x&quot;: 6, &quot;y&quot;: 14, &quot;v&quot;: &quot;unknown Tyzzerella [meta_mOTU_v2_5947]&quot;, &quot;Subtypes&quot;: &quot;cluster_02&quot;, &quot;colors&quot;: &quot;#08ff00&quot;}, {&quot;x&quot;: 12, &quot;y&quot;: 14, &quot;v&quot;: &quot;unknown Roseburia [meta_mOTU_v2_5883]&quot;, &quot;Subtypes&quot;: &quot;cluster_02&quot;, &quot;colors&quot;: &quot;#08ff00&quot;}, {&quot;x&quot;: 13, &quot;y&quot;: 14, &quot;v&quot;: &quot;Clostridium sp. CAG:343 [meta_mOTU_v2_6218]&quot;, &quot;Subtypes&quot;: &quot;cluster_02&quot;, &quot;colors&quot;: &quot;#08ff00&quot;}, {&quot;x&quot;: 14, &quot;y&quot;: 14, &quot;v&quot;: &quot;unknown Clostridium [meta_mOTU_v2_5413]&quot;, &quot;Subtypes&quot;: &quot;cluster_02&quot;, &quot;colors&quot;: &quot;#08ff00&quot;}, {&quot;x&quot;: 15, &quot;y&quot;: 14, &quot;v&quot;: &quot;unknown Clostridium [meta_mOTU_v2_7721]&quot;, &quot;Subtypes&quot;: &quot;cluster_02&quot;, &quot;colors&quot;: &quot;#08ff00&quot;}, {&quot;x&quot;: 16, &quot;y&quot;: 14, &quot;v&quot;: &quot;unknown Clostridium [meta_mOTU_v2_5505]&quot;, &quot;Subtypes&quot;: &quot;cluster_02&quot;, &quot;colors&quot;: &quot;#08ff00&quot;}, {&quot;x&quot;: 17, &quot;y&quot;: 14, &quot;v&quot;: &quot;Bacteroides pectinophilus [ref_mOTU_v2_4341]&quot;, &quot;Subtypes&quot;: &quot;cluster_02&quot;, &quot;colors&quot;: &quot;#08ff00&quot;}, {&quot;x&quot;: 18, &quot;y&quot;: 14, &quot;v&quot;: &quot;unknown Bacteria [meta_mOTU_v2_6087]&quot;, &quot;Subtypes&quot;: &quot;cluster_02&quot;, &quot;colors&quot;: &quot;#08ff00&quot;}, {&quot;x&quot;: 19, &quot;y&quot;: 14, &quot;v&quot;: &quot;unknown Ruminococcus [meta_mOTU_v2_7159]&quot;, &quot;Subtypes&quot;: &quot;cluster_02&quot;, &quot;colors&quot;: &quot;#08ff00&quot;}, {&quot;x&quot;: 20, &quot;y&quot;: 14, &quot;v&quot;: &quot;Mycoplasma sp. CAG:956 [meta_mOTU_v2_7596]&quot;, &quot;Subtypes&quot;: &quot;cluster_02&quot;, &quot;colors&quot;: &quot;#08ff00&quot;}, {&quot;x&quot;: 23, &quot;y&quot;: 14, &quot;v&quot;: &quot;unknown Firmicutes [meta_mOTU_v2_6848]&quot;, &quot;Subtypes&quot;: &quot;cluster_02&quot;, &quot;colors&quot;: &quot;#08ff00&quot;}, {&quot;x&quot;: 25, &quot;y&quot;: 14, &quot;v&quot;: &quot;unknown Firmicutes [meta_mOTU_v2_6228]&quot;, &quot;Subtypes&quot;: &quot;cluster_02&quot;, &quot;colors&quot;: &quot;#08ff00&quot;}, {&quot;x&quot;: 26, &quot;y&quot;: 14, &quot;v&quot;: &quot;Clostridium sp. CAG:524 [meta_mOTU_v2_5874]&quot;, &quot;Subtypes&quot;: &quot;cluster_02&quot;, &quot;colors&quot;: &quot;#08ff00&quot;}, {&quot;x&quot;: 27, &quot;y&quot;: 14, &quot;v&quot;: &quot;unknown Clostridiales [meta_mOTU_v2_7697]&quot;, &quot;Subtypes&quot;: &quot;cluster_02&quot;, &quot;colors&quot;: &quot;#08ff00&quot;}, {&quot;x&quot;: 28, &quot;y&quot;: 14, &quot;v&quot;: &quot;Clostridium sp. CAG:590 [meta_mOTU_v2_5713]&quot;, &quot;Subtypes&quot;: &quot;cluster_02&quot;, &quot;colors&quot;: &quot;#08ff00&quot;}, {&quot;x&quot;: 4, &quot;y&quot;: 15, &quot;v&quot;: &quot;unknown Clostridiales [meta_mOTU_v2_6575]&quot;, &quot;Subtypes&quot;: &quot;cluster_02&quot;, &quot;colors&quot;: &quot;#08ff00&quot;}, {&quot;x&quot;: 10, &quot;y&quot;: 15, &quot;v&quot;: &quot;unknown Clostridiales [meta_mOTU_v2_6348]&quot;, &quot;Subtypes&quot;: &quot;cluster_02&quot;, &quot;colors&quot;: &quot;#08ff00&quot;}, {&quot;x&quot;: 14, &quot;y&quot;: 15, &quot;v&quot;: &quot;Clostridium sp. CAG:167 [meta_mOTU_v2_7056]&quot;, &quot;Subtypes&quot;: &quot;cluster_02&quot;, &quot;colors&quot;: &quot;#08ff00&quot;}, {&quot;x&quot;: 15, &quot;y&quot;: 15, &quot;v&quot;: &quot;Clostridium sp. CAG:492 [meta_mOTU_v2_7568]&quot;, &quot;Subtypes&quot;: &quot;cluster_02&quot;, &quot;colors&quot;: &quot;#08ff00&quot;}, {&quot;x&quot;: 16, &quot;y&quot;: 15, &quot;v&quot;: &quot;Clostridium sp. CAG:451 [meta_mOTU_v2_7262]&quot;, &quot;Subtypes&quot;: &quot;cluster_02&quot;, &quot;colors&quot;: &quot;#08ff00&quot;}, {&quot;x&quot;: 17, &quot;y&quot;: 15, &quot;v&quot;: &quot;unknown Clostridium [meta_mOTU_v2_5343]&quot;, &quot;Subtypes&quot;: &quot;cluster_02&quot;, &quot;colors&quot;: &quot;#08ff00&quot;}, {&quot;x&quot;: 18, &quot;y&quot;: 15, &quot;v&quot;: &quot;unknown Clostridium [meta_mOTU_v2_6098]&quot;, &quot;Subtypes&quot;: &quot;cluster_02&quot;, &quot;colors&quot;: &quot;#08ff00&quot;}, {&quot;x&quot;: 19, &quot;y&quot;: 15, &quot;v&quot;: &quot;unknown Clostridiales [meta_mOTU_v2_6107]&quot;, &quot;Subtypes&quot;: &quot;cluster_02&quot;, &quot;colors&quot;: &quot;#08ff00&quot;}, {&quot;x&quot;: 20, &quot;y&quot;: 15, &quot;v&quot;: &quot;Clostridium sp. CAG:226 [meta_mOTU_v2_7187]&quot;, &quot;Subtypes&quot;: &quot;cluster_02&quot;, &quot;colors&quot;: &quot;#08ff00&quot;}, {&quot;x&quot;: 21, &quot;y&quot;: 15, &quot;v&quot;: &quot;unknown Firmicutes [meta_mOTU_v2_5660]&quot;, &quot;Subtypes&quot;: &quot;cluster_02&quot;, &quot;colors&quot;: &quot;#08ff00&quot;}, {&quot;x&quot;: 22, &quot;y&quot;: 15, &quot;v&quot;: &quot;unknown Azospirillum [meta_mOTU_v2_7608]&quot;, &quot;Subtypes&quot;: &quot;cluster_02&quot;, &quot;colors&quot;: &quot;#08ff00&quot;}, {&quot;x&quot;: 24, &quot;y&quot;: 15, &quot;v&quot;: &quot;Clostridium sp. CAG:628 [meta_mOTU_v2_6892]&quot;, &quot;Subtypes&quot;: &quot;cluster_02&quot;, &quot;colors&quot;: &quot;#08ff00&quot;}, {&quot;x&quot;: 25, &quot;y&quot;: 15, &quot;v&quot;: &quot;unknown Clostridiales [meta_mOTU_v2_7188]&quot;, &quot;Subtypes&quot;: &quot;cluster_02&quot;, &quot;colors&quot;: &quot;#08ff00&quot;}, {&quot;x&quot;: 26, &quot;y&quot;: 15, &quot;v&quot;: &quot;unknown Clostridiales [meta_mOTU_v2_6193]&quot;, &quot;Subtypes&quot;: &quot;cluster_02&quot;, &quot;colors&quot;: &quot;#08ff00&quot;}, {&quot;x&quot;: 27, &quot;y&quot;: 15, &quot;v&quot;: &quot;unknown Firmicutes [meta_mOTU_v2_7751]&quot;, &quot;Subtypes&quot;: &quot;cluster_02&quot;, &quot;colors&quot;: &quot;#08ff00&quot;}, {&quot;x&quot;: 28, &quot;y&quot;: 15, &quot;v&quot;: &quot;unknown Clostridiales [meta_mOTU_v2_7087]&quot;, &quot;Subtypes&quot;: &quot;cluster_02&quot;, &quot;colors&quot;: &quot;#08ff00&quot;}, {&quot;x&quot;: 8, &quot;y&quot;: 16, &quot;v&quot;: &quot;unknown Eubacterium [meta_mOTU_v2_6509]&quot;, &quot;Subtypes&quot;: &quot;cluster_02&quot;, &quot;colors&quot;: &quot;#08ff00&quot;}, {&quot;x&quot;: 9, &quot;y&quot;: 16, &quot;v&quot;: &quot;unknown Clostridiales [meta_mOTU_v2_6795]&quot;, &quot;Subtypes&quot;: &quot;cluster_02&quot;, &quot;colors&quot;: &quot;#08ff00&quot;}, {&quot;x&quot;: 10, &quot;y&quot;: 16, &quot;v&quot;: &quot;Eubacterium sp. CAG:156 [meta_mOTU_v2_7325]&quot;, &quot;Subtypes&quot;: &quot;cluster_02&quot;, &quot;colors&quot;: &quot;#08ff00&quot;}, {&quot;x&quot;: 11, &quot;y&quot;: 16, &quot;v&quot;: &quot;unknown Clostridiales [meta_mOTU_v2_5849]&quot;, &quot;Subtypes&quot;: &quot;cluster_02&quot;, &quot;colors&quot;: &quot;#08ff00&quot;}, {&quot;x&quot;: 12, &quot;y&quot;: 16, &quot;v&quot;: &quot;unknown Clostridiales [meta_mOTU_v2_7186]&quot;, &quot;Subtypes&quot;: &quot;cluster_02&quot;, &quot;colors&quot;: &quot;#08ff00&quot;}, {&quot;x&quot;: 13, &quot;y&quot;: 16, &quot;v&quot;: &quot;Clostridium sp. CAG:440 [meta_mOTU_v2_5389]&quot;, &quot;Subtypes&quot;: &quot;cluster_02&quot;, &quot;colors&quot;: &quot;#08ff00&quot;}, {&quot;x&quot;: 14, &quot;y&quot;: 16, &quot;v&quot;: &quot;Roseburia sp. CAG:309 [meta_mOTU_v2_6793]&quot;, &quot;Subtypes&quot;: &quot;cluster_02&quot;, &quot;colors&quot;: &quot;#08ff00&quot;}, {&quot;x&quot;: 16, &quot;y&quot;: 16, &quot;v&quot;: &quot;unknown Firmicutes [meta_mOTU_v2_7175]&quot;, &quot;Subtypes&quot;: &quot;cluster_02&quot;, &quot;colors&quot;: &quot;#08ff00&quot;}, {&quot;x&quot;: 17, &quot;y&quot;: 16, &quot;v&quot;: &quot;unknown Lachnospiraceae [meta_mOTU_v2_6625]&quot;, &quot;Subtypes&quot;: &quot;cluster_02&quot;, &quot;colors&quot;: &quot;#08ff00&quot;}, {&quot;x&quot;: 18, &quot;y&quot;: 16, &quot;v&quot;: &quot;unknown Clostridiales [meta_mOTU_v2_5710]&quot;, &quot;Subtypes&quot;: &quot;cluster_02&quot;, &quot;colors&quot;: &quot;#08ff00&quot;}, {&quot;x&quot;: 20, &quot;y&quot;: 16, &quot;v&quot;: &quot;unknown Coprococcus [meta_mOTU_v2_6257]&quot;, &quot;Subtypes&quot;: &quot;cluster_02&quot;, &quot;colors&quot;: &quot;#08ff00&quot;}, {&quot;x&quot;: 21, &quot;y&quot;: 16, &quot;v&quot;: &quot;unknown Clostridiales [meta_mOTU_v2_7192]&quot;, &quot;Subtypes&quot;: &quot;cluster_02&quot;, &quot;colors&quot;: &quot;#08ff00&quot;}, {&quot;x&quot;: 22, &quot;y&quot;: 16, &quot;v&quot;: &quot;Clostridium sp. CAG:448 [meta_mOTU_v2_7377]&quot;, &quot;Subtypes&quot;: &quot;cluster_02&quot;, &quot;colors&quot;: &quot;#08ff00&quot;}, {&quot;x&quot;: 23, &quot;y&quot;: 16, &quot;v&quot;: &quot;Clostridium sp. CAG:780 [meta_mOTU_v2_5914]&quot;, &quot;Subtypes&quot;: &quot;cluster_02&quot;, &quot;colors&quot;: &quot;#08ff00&quot;}, {&quot;x&quot;: 24, &quot;y&quot;: 16, &quot;v&quot;: &quot;unknown Clostridium [meta_mOTU_v2_5927]&quot;, &quot;Subtypes&quot;: &quot;cluster_02&quot;, &quot;colors&quot;: &quot;#08ff00&quot;}, {&quot;x&quot;: 26, &quot;y&quot;: 16, &quot;v&quot;: &quot;Ruminococcus sp. CAG:382 [meta_mOTU_v2_6530]&quot;, &quot;Subtypes&quot;: &quot;cluster_02&quot;, &quot;colors&quot;: &quot;#08ff00&quot;}, {&quot;x&quot;: 27, &quot;y&quot;: 16, &quot;v&quot;: &quot;unknown Bacteroidales [meta_mOTU_v2_5647]&quot;, &quot;Subtypes&quot;: &quot;cluster_02&quot;, &quot;colors&quot;: &quot;#08ff00&quot;}, {&quot;x&quot;: 28, &quot;y&quot;: 16, &quot;v&quot;: &quot;unknown Bacteroidaceae [meta_mOTU_v2_7210]&quot;, &quot;Subtypes&quot;: &quot;cluster_02&quot;, &quot;colors&quot;: &quot;#08ff00&quot;}, {&quot;x&quot;: 11, &quot;y&quot;: 17, &quot;v&quot;: &quot;unknown Clostridiales [meta_mOTU_v2_6700]&quot;, &quot;Subtypes&quot;: &quot;cluster_02&quot;, &quot;colors&quot;: &quot;#08ff00&quot;}, {&quot;x&quot;: 12, &quot;y&quot;: 17, &quot;v&quot;: &quot;Coprococcus eutactus [ref_mOTU_v2_4210]&quot;, &quot;Subtypes&quot;: &quot;cluster_02&quot;, &quot;colors&quot;: &quot;#08ff00&quot;}, {&quot;x&quot;: 13, &quot;y&quot;: 17, &quot;v&quot;: &quot;unknown Clostridiales [meta_mOTU_v2_6751]&quot;, &quot;Subtypes&quot;: &quot;cluster_02&quot;, &quot;colors&quot;: &quot;#08ff00&quot;}, {&quot;x&quot;: 14, &quot;y&quot;: 17, &quot;v&quot;: &quot;Clostridium sp. CAG:288 [meta_mOTU_v2_6160]&quot;, &quot;Subtypes&quot;: &quot;cluster_02&quot;, &quot;colors&quot;: &quot;#08ff00&quot;}, {&quot;x&quot;: 15, &quot;y&quot;: 17, &quot;v&quot;: &quot;unknown Clostridiales [meta_mOTU_v2_7778]&quot;, &quot;Subtypes&quot;: &quot;cluster_02&quot;, &quot;colors&quot;: &quot;#08ff00&quot;}, {&quot;x&quot;: 16, &quot;y&quot;: 17, &quot;v&quot;: &quot;unknown Firmicutes [meta_mOTU_v2_6758]&quot;, &quot;Subtypes&quot;: &quot;cluster_02&quot;, &quot;colors&quot;: &quot;#08ff00&quot;}, {&quot;x&quot;: 17, &quot;y&quot;: 17, &quot;v&quot;: &quot;unknown Clostridiales [meta_mOTU_v2_6316]&quot;, &quot;Subtypes&quot;: &quot;cluster_02&quot;, &quot;colors&quot;: &quot;#08ff00&quot;}, {&quot;x&quot;: 18, &quot;y&quot;: 17, &quot;v&quot;: &quot;unknown Firmicutes [meta_mOTU_v2_7361]&quot;, &quot;Subtypes&quot;: &quot;cluster_02&quot;, &quot;colors&quot;: &quot;#08ff00&quot;}, {&quot;x&quot;: 19, &quot;y&quot;: 17, &quot;v&quot;: &quot;unknown Clostridiaceae [meta_mOTU_v2_6802]&quot;, &quot;Subtypes&quot;: &quot;cluster_02&quot;, &quot;colors&quot;: &quot;#08ff00&quot;}, {&quot;x&quot;: 20, &quot;y&quot;: 17, &quot;v&quot;: &quot;unknown Clostridiales [meta_mOTU_v2_7795]&quot;, &quot;Subtypes&quot;: &quot;cluster_02&quot;, &quot;colors&quot;: &quot;#08ff00&quot;}, {&quot;x&quot;: 21, &quot;y&quot;: 17, &quot;v&quot;: &quot;unknown Clostridiales [meta_mOTU_v2_5905]&quot;, &quot;Subtypes&quot;: &quot;cluster_02&quot;, &quot;colors&quot;: &quot;#08ff00&quot;}, {&quot;x&quot;: 22, &quot;y&quot;: 17, &quot;v&quot;: &quot;unknown Clostridiales [meta_mOTU_v2_6503]&quot;, &quot;Subtypes&quot;: &quot;cluster_02&quot;, &quot;colors&quot;: &quot;#08ff00&quot;}, {&quot;x&quot;: 23, &quot;y&quot;: 17, &quot;v&quot;: &quot;unknown Firmicutes [meta_mOTU_v2_7760]&quot;, &quot;Subtypes&quot;: &quot;cluster_02&quot;, &quot;colors&quot;: &quot;#08ff00&quot;}, {&quot;x&quot;: 24, &quot;y&quot;: 17, &quot;v&quot;: &quot;unknown Dehalococcoidales [meta_mOTU_v2_6821]&quot;, &quot;Subtypes&quot;: &quot;cluster_02&quot;, &quot;colors&quot;: &quot;#08ff00&quot;}, {&quot;x&quot;: 25, &quot;y&quot;: 17, &quot;v&quot;: &quot;Clostridium sp. CAG:452 [meta_mOTU_v2_7118]&quot;, &quot;Subtypes&quot;: &quot;cluster_02&quot;, &quot;colors&quot;: &quot;#08ff00&quot;}, {&quot;x&quot;: 26, &quot;y&quot;: 17, &quot;v&quot;: &quot;unknown Clostridiales [meta_mOTU_v2_7467]&quot;, &quot;Subtypes&quot;: &quot;cluster_02&quot;, &quot;colors&quot;: &quot;#08ff00&quot;}, {&quot;x&quot;: 27, &quot;y&quot;: 17, &quot;v&quot;: &quot;Prevotella sp. CAG:873 [meta_mOTU_v2_7050]&quot;, &quot;Subtypes&quot;: &quot;cluster_02&quot;, &quot;colors&quot;: &quot;#08ff00&quot;}, {&quot;x&quot;: 28, &quot;y&quot;: 17, &quot;v&quot;: &quot;unknown Prevotella [meta_mOTU_v2_6289]&quot;, &quot;Subtypes&quot;: &quot;cluster_02&quot;, &quot;colors&quot;: &quot;#08ff00&quot;}, {&quot;x&quot;: 7, &quot;y&quot;: 18, &quot;v&quot;: &quot;unknown Butyricicoccus [meta_mOTU_v2_5800]&quot;, &quot;Subtypes&quot;: &quot;cluster_02&quot;, &quot;colors&quot;: &quot;#08ff00&quot;}, {&quot;x&quot;: 8, &quot;y&quot;: 18, &quot;v&quot;: &quot;unknown Firmicutes [meta_mOTU_v2_6091]&quot;, &quot;Subtypes&quot;: &quot;cluster_02&quot;, &quot;colors&quot;: &quot;#08ff00&quot;}, {&quot;x&quot;: 10, &quot;y&quot;: 18, &quot;v&quot;: &quot;Clostridium sp. CAG:127 [meta_mOTU_v2_5364]&quot;, &quot;Subtypes&quot;: &quot;cluster_02&quot;, &quot;colors&quot;: &quot;#08ff00&quot;}, {&quot;x&quot;: 12, &quot;y&quot;: 18, &quot;v&quot;: &quot;unknown Clostridiales [meta_mOTU_v2_7317]&quot;, &quot;Subtypes&quot;: &quot;cluster_02&quot;, &quot;colors&quot;: &quot;#08ff00&quot;}, {&quot;x&quot;: 13, &quot;y&quot;: 18, &quot;v&quot;: &quot;unknown Clostridiales [meta_mOTU_v2_7800]&quot;, &quot;Subtypes&quot;: &quot;cluster_02&quot;, &quot;colors&quot;: &quot;#08ff00&quot;}, {&quot;x&quot;: 14, &quot;y&quot;: 18, &quot;v&quot;: &quot;unknown Clostridiales [meta_mOTU_v2_5959]&quot;, &quot;Subtypes&quot;: &quot;cluster_02&quot;, &quot;colors&quot;: &quot;#08ff00&quot;}, {&quot;x&quot;: 15, &quot;y&quot;: 18, &quot;v&quot;: &quot;Roseburia sp. CAG:182 [meta_mOTU_v2_6334]&quot;, &quot;Subtypes&quot;: &quot;cluster_02&quot;, &quot;colors&quot;: &quot;#08ff00&quot;}, {&quot;x&quot;: 16, &quot;y&quot;: 18, &quot;v&quot;: &quot;unknown Clostridiales [meta_mOTU_v2_7153]&quot;, &quot;Subtypes&quot;: &quot;cluster_02&quot;, &quot;colors&quot;: &quot;#08ff00&quot;}, {&quot;x&quot;: 17, &quot;y&quot;: 18, &quot;v&quot;: &quot;Butyrivibrio sp. CAG:318 [meta_mOTU_v2_5702]&quot;, &quot;Subtypes&quot;: &quot;cluster_02&quot;, &quot;colors&quot;: &quot;#08ff00&quot;}, {&quot;x&quot;: 18, &quot;y&quot;: 18, &quot;v&quot;: &quot;unknown Clostridiales [meta_mOTU_v2_7541]&quot;, &quot;Subtypes&quot;: &quot;cluster_02&quot;, &quot;colors&quot;: &quot;#08ff00&quot;}, {&quot;x&quot;: 19, &quot;y&quot;: 18, &quot;v&quot;: &quot;unknown Clostridiales [meta_mOTU_v2_6585]&quot;, &quot;Subtypes&quot;: &quot;cluster_02&quot;, &quot;colors&quot;: &quot;#08ff00&quot;}, {&quot;x&quot;: 20, &quot;y&quot;: 18, &quot;v&quot;: &quot;unknown Clostridiales [meta_mOTU_v2_7149]&quot;, &quot;Subtypes&quot;: &quot;cluster_02&quot;, &quot;colors&quot;: &quot;#08ff00&quot;}, {&quot;x&quot;: 21, &quot;y&quot;: 18, &quot;v&quot;: &quot;unknown Clostridiales [meta_mOTU_v2_7173]&quot;, &quot;Subtypes&quot;: &quot;cluster_02&quot;, &quot;colors&quot;: &quot;#08ff00&quot;}, {&quot;x&quot;: 22, &quot;y&quot;: 18, &quot;v&quot;: &quot;unknown Ruminococcaceae [meta_mOTU_v2_7271]&quot;, &quot;Subtypes&quot;: &quot;cluster_02&quot;, &quot;colors&quot;: &quot;#08ff00&quot;}, {&quot;x&quot;: 24, &quot;y&quot;: 18, &quot;v&quot;: &quot;unknown Clostridiales [meta_mOTU_v2_7083]&quot;, &quot;Subtypes&quot;: &quot;cluster_02&quot;, &quot;colors&quot;: &quot;#08ff00&quot;}, {&quot;x&quot;: 25, &quot;y&quot;: 18, &quot;v&quot;: &quot;unknown Clostridiales [meta_mOTU_v2_6814]&quot;, &quot;Subtypes&quot;: &quot;cluster_02&quot;, &quot;colors&quot;: &quot;#08ff00&quot;}, {&quot;x&quot;: 9, &quot;y&quot;: 19, &quot;v&quot;: &quot;Ruminococcus sp. CAG:254 [meta_mOTU_v2_5967]&quot;, &quot;Subtypes&quot;: &quot;cluster_02&quot;, &quot;colors&quot;: &quot;#08ff00&quot;}, {&quot;x&quot;: 10, &quot;y&quot;: 19, &quot;v&quot;: &quot;unknown Clostridiales [meta_mOTU_v2_7355]&quot;, &quot;Subtypes&quot;: &quot;cluster_02&quot;, &quot;colors&quot;: &quot;#08ff00&quot;}, {&quot;x&quot;: 11, &quot;y&quot;: 19, &quot;v&quot;: &quot;unknown Clostridiales [meta_mOTU_v2_6801]&quot;, &quot;Subtypes&quot;: &quot;cluster_02&quot;, &quot;colors&quot;: &quot;#08ff00&quot;}, {&quot;x&quot;: 12, &quot;y&quot;: 19, &quot;v&quot;: &quot;Clostridium sp. L2-50 [ref_mOTU_v2_4212]&quot;, &quot;Subtypes&quot;: &quot;cluster_02&quot;, &quot;colors&quot;: &quot;#08ff00&quot;}, {&quot;x&quot;: 13, &quot;y&quot;: 19, &quot;v&quot;: &quot;unknown Clostridiales [meta_mOTU_v2_6000]&quot;, &quot;Subtypes&quot;: &quot;cluster_02&quot;, &quot;colors&quot;: &quot;#08ff00&quot;}, {&quot;x&quot;: 14, &quot;y&quot;: 19, &quot;v&quot;: &quot;unknown Clostridiales [meta_mOTU_v2_7546]&quot;, &quot;Subtypes&quot;: &quot;cluster_02&quot;, &quot;colors&quot;: &quot;#08ff00&quot;}, {&quot;x&quot;: 15, &quot;y&quot;: 19, &quot;v&quot;: &quot;unknown Clostridiales [meta_mOTU_v2_5513]&quot;, &quot;Subtypes&quot;: &quot;cluster_02&quot;, &quot;colors&quot;: &quot;#08ff00&quot;}, {&quot;x&quot;: 16, &quot;y&quot;: 19, &quot;v&quot;: &quot;Butyrivibrio crossotus [ref_mOTU_v2_4383]&quot;, &quot;Subtypes&quot;: &quot;cluster_02&quot;, &quot;colors&quot;: &quot;#08ff00&quot;}, {&quot;x&quot;: 17, &quot;y&quot;: 19, &quot;v&quot;: &quot;unknown Clostridiales [meta_mOTU_v2_7138]&quot;, &quot;Subtypes&quot;: &quot;cluster_02&quot;, &quot;colors&quot;: &quot;#08ff00&quot;}, {&quot;x&quot;: 18, &quot;y&quot;: 19, &quot;v&quot;: &quot;unknown Clostridiales [meta_mOTU_v2_6249]&quot;, &quot;Subtypes&quot;: &quot;cluster_02&quot;, &quot;colors&quot;: &quot;#08ff00&quot;}, {&quot;x&quot;: 19, &quot;y&quot;: 19, &quot;v&quot;: &quot;unknown Firmicutes [meta_mOTU_v2_6303]&quot;, &quot;Subtypes&quot;: &quot;cluster_02&quot;, &quot;colors&quot;: &quot;#08ff00&quot;}, {&quot;x&quot;: 20, &quot;y&quot;: 19, &quot;v&quot;: &quot;unknown Clostridiales [meta_mOTU_v2_6495]&quot;, &quot;Subtypes&quot;: &quot;cluster_02&quot;, &quot;colors&quot;: &quot;#08ff00&quot;}, {&quot;x&quot;: 21, &quot;y&quot;: 19, &quot;v&quot;: &quot;unknown Clostridia [meta_mOTU_v2_5309]&quot;, &quot;Subtypes&quot;: &quot;cluster_02&quot;, &quot;colors&quot;: &quot;#08ff00&quot;}, {&quot;x&quot;: 22, &quot;y&quot;: 19, &quot;v&quot;: &quot;unknown Firmicutes [meta_mOTU_v2_7755]&quot;, &quot;Subtypes&quot;: &quot;cluster_02&quot;, &quot;colors&quot;: &quot;#08ff00&quot;}, {&quot;x&quot;: 24, &quot;y&quot;: 19, &quot;v&quot;: &quot;unknown Clostridiales [meta_mOTU_v2_7067]&quot;, &quot;Subtypes&quot;: &quot;cluster_02&quot;, &quot;colors&quot;: &quot;#08ff00&quot;}, {&quot;x&quot;: 25, &quot;y&quot;: 19, &quot;v&quot;: &quot;Methanobrevibacter smithii [ref_mOTU_v2_1385]&quot;, &quot;Subtypes&quot;: &quot;cluster_02&quot;, &quot;colors&quot;: &quot;#08ff00&quot;}, {&quot;x&quot;: 27, &quot;y&quot;: 19, &quot;v&quot;: &quot;unknown Dehalococcoidales [meta_mOTU_v2_6270]&quot;, &quot;Subtypes&quot;: &quot;cluster_02&quot;, &quot;colors&quot;: &quot;#08ff00&quot;}, {&quot;x&quot;: 28, &quot;y&quot;: 19, &quot;v&quot;: &quot;unknown Bacteroidales [meta_mOTU_v2_6903]&quot;, &quot;Subtypes&quot;: &quot;cluster_02&quot;, &quot;colors&quot;: &quot;#08ff00&quot;}, {&quot;x&quot;: 9, &quot;y&quot;: 20, &quot;v&quot;: &quot;unknown Clostridiales [meta_mOTU_v2_6049]&quot;, &quot;Subtypes&quot;: &quot;cluster_02&quot;, &quot;colors&quot;: &quot;#08ff00&quot;}, {&quot;x&quot;: 10, &quot;y&quot;: 20, &quot;v&quot;: &quot;unknown Clostridiales [meta_mOTU_v2_6190]&quot;, &quot;Subtypes&quot;: &quot;cluster_02&quot;, &quot;colors&quot;: &quot;#08ff00&quot;}, {&quot;x&quot;: 11, &quot;y&quot;: 20, &quot;v&quot;: &quot;unknown Clostridiales [meta_mOTU_v2_7620]&quot;, &quot;Subtypes&quot;: &quot;cluster_02&quot;, &quot;colors&quot;: &quot;#08ff00&quot;}, {&quot;x&quot;: 13, &quot;y&quot;: 20, &quot;v&quot;: &quot;unknown Clostridiales [meta_mOTU_v2_7717]&quot;, &quot;Subtypes&quot;: &quot;cluster_02&quot;, &quot;colors&quot;: &quot;#08ff00&quot;}, {&quot;x&quot;: 14, &quot;y&quot;: 20, &quot;v&quot;: &quot;unknown Clostridiales [meta_mOTU_v2_5442]&quot;, &quot;Subtypes&quot;: &quot;cluster_02&quot;, &quot;colors&quot;: &quot;#08ff00&quot;}, {&quot;x&quot;: 15, &quot;y&quot;: 20, &quot;v&quot;: &quot;unknown Clostridiales [meta_mOTU_v2_7561]&quot;, &quot;Subtypes&quot;: &quot;cluster_02&quot;, &quot;colors&quot;: &quot;#08ff00&quot;}, {&quot;x&quot;: 16, &quot;y&quot;: 20, &quot;v&quot;: &quot;unknown Clostridiales [meta_mOTU_v2_6275]&quot;, &quot;Subtypes&quot;: &quot;cluster_02&quot;, &quot;colors&quot;: &quot;#08ff00&quot;}, {&quot;x&quot;: 17, &quot;y&quot;: 20, &quot;v&quot;: &quot;unknown Clostridiales [meta_mOTU_v2_7440]&quot;, &quot;Subtypes&quot;: &quot;cluster_02&quot;, &quot;colors&quot;: &quot;#08ff00&quot;}, {&quot;x&quot;: 18, &quot;y&quot;: 20, &quot;v&quot;: &quot;Clostridium sp. CAG:433 [meta_mOTU_v2_7638]&quot;, &quot;Subtypes&quot;: &quot;cluster_02&quot;, &quot;colors&quot;: &quot;#08ff00&quot;}, {&quot;x&quot;: 19, &quot;y&quot;: 20, &quot;v&quot;: &quot;unknown Clostridium [meta_mOTU_v2_7749]&quot;, &quot;Subtypes&quot;: &quot;cluster_02&quot;, &quot;colors&quot;: &quot;#08ff00&quot;}, {&quot;x&quot;: 20, &quot;y&quot;: 20, &quot;v&quot;: &quot;unknown Clostridiales [meta_mOTU_v2_5571]&quot;, &quot;Subtypes&quot;: &quot;cluster_02&quot;, &quot;colors&quot;: &quot;#08ff00&quot;}, {&quot;x&quot;: 21, &quot;y&quot;: 20, &quot;v&quot;: &quot;unknown Clostridiales [meta_mOTU_v2_6511]&quot;, &quot;Subtypes&quot;: &quot;cluster_02&quot;, &quot;colors&quot;: &quot;#08ff00&quot;}, {&quot;x&quot;: 22, &quot;y&quot;: 20, &quot;v&quot;: &quot;unknown Clostridiales [meta_mOTU_v2_5922]&quot;, &quot;Subtypes&quot;: &quot;cluster_02&quot;, &quot;colors&quot;: &quot;#08ff00&quot;}, {&quot;x&quot;: 24, &quot;y&quot;: 20, &quot;v&quot;: &quot;unknown Lachnospiraceae [meta_mOTU_v2_7398]&quot;, &quot;Subtypes&quot;: &quot;cluster_02&quot;, &quot;colors&quot;: &quot;#08ff00&quot;}, {&quot;x&quot;: 25, &quot;y&quot;: 20, &quot;v&quot;: &quot;unknown Clostridiales [meta_mOTU_v2_5408]&quot;, &quot;Subtypes&quot;: &quot;cluster_02&quot;, &quot;colors&quot;: &quot;#08ff00&quot;}, {&quot;x&quot;: 26, &quot;y&quot;: 20, &quot;v&quot;: &quot;unknown Dehalococcoidales [meta_mOTU_v2_6336]&quot;, &quot;Subtypes&quot;: &quot;cluster_02&quot;, &quot;colors&quot;: &quot;#08ff00&quot;}, {&quot;x&quot;: 27, &quot;y&quot;: 20, &quot;v&quot;: &quot;unknown Dehalococcoidales [meta_mOTU_v2_7432]&quot;, &quot;Subtypes&quot;: &quot;cluster_02&quot;, &quot;colors&quot;: &quot;#08ff00&quot;}, {&quot;x&quot;: 3, &quot;y&quot;: 21, &quot;v&quot;: &quot;unknown Clostridiales [meta_mOTU_v2_6632]&quot;, &quot;Subtypes&quot;: &quot;cluster_02&quot;, &quot;colors&quot;: &quot;#08ff00&quot;}, {&quot;x&quot;: 5, &quot;y&quot;: 21, &quot;v&quot;: &quot;Ruminococcus lactaris [ref_mOTU_v2_0281]&quot;, &quot;Subtypes&quot;: &quot;cluster_02&quot;, &quot;colors&quot;: &quot;#08ff00&quot;}, {&quot;x&quot;: 8, &quot;y&quot;: 21, &quot;v&quot;: &quot;unknown Clostridium [meta_mOTU_v2_7530]&quot;, &quot;Subtypes&quot;: &quot;cluster_02&quot;, &quot;colors&quot;: &quot;#08ff00&quot;}, {&quot;x&quot;: 9, &quot;y&quot;: 21, &quot;v&quot;: &quot;Ruminococcus callidus [ref_mOTU_v2_4209]&quot;, &quot;Subtypes&quot;: &quot;cluster_02&quot;, &quot;colors&quot;: &quot;#08ff00&quot;}, {&quot;x&quot;: 10, &quot;y&quot;: 21, &quot;v&quot;: &quot;unknown Coprococcus [meta_mOTU_v2_5379]&quot;, &quot;Subtypes&quot;: &quot;cluster_02&quot;, &quot;colors&quot;: &quot;#08ff00&quot;}, {&quot;x&quot;: 11, &quot;y&quot;: 21, &quot;v&quot;: &quot;unknown Clostridiales [meta_mOTU_v2_6807]&quot;, &quot;Subtypes&quot;: &quot;cluster_02&quot;, &quot;colors&quot;: &quot;#08ff00&quot;}, {&quot;x&quot;: 12, &quot;y&quot;: 21, &quot;v&quot;: &quot;unknown Clostridiales [meta_mOTU_v2_5397]&quot;, &quot;Subtypes&quot;: &quot;cluster_02&quot;, &quot;colors&quot;: &quot;#08ff00&quot;}, {&quot;x&quot;: 15, &quot;y&quot;: 21, &quot;v&quot;: &quot;unknown Clostridiales [meta_mOTU_v2_5412]&quot;, &quot;Subtypes&quot;: &quot;cluster_02&quot;, &quot;colors&quot;: &quot;#08ff00&quot;}, {&quot;x&quot;: 16, &quot;y&quot;: 21, &quot;v&quot;: &quot;unknown Clostridiales [meta_mOTU_v2_5894]&quot;, &quot;Subtypes&quot;: &quot;cluster_02&quot;, &quot;colors&quot;: &quot;#08ff00&quot;}, {&quot;x&quot;: 17, &quot;y&quot;: 21, &quot;v&quot;: &quot;unknown Clostridiales [meta_mOTU_v2_7320]&quot;, &quot;Subtypes&quot;: &quot;cluster_02&quot;, &quot;colors&quot;: &quot;#08ff00&quot;}, {&quot;x&quot;: 18, &quot;y&quot;: 21, &quot;v&quot;: &quot;unknown Clostridiales [meta_mOTU_v2_5783]&quot;, &quot;Subtypes&quot;: &quot;cluster_02&quot;, &quot;colors&quot;: &quot;#08ff00&quot;}, {&quot;x&quot;: 19, &quot;y&quot;: 21, &quot;v&quot;: &quot;unknown Clostridiales [meta_mOTU_v2_5591]&quot;, &quot;Subtypes&quot;: &quot;cluster_02&quot;, &quot;colors&quot;: &quot;#08ff00&quot;}, {&quot;x&quot;: 20, &quot;y&quot;: 21, &quot;v&quot;: &quot;Clostridium sp. CAG:533 [meta_mOTU_v2_6119]&quot;, &quot;Subtypes&quot;: &quot;cluster_02&quot;, &quot;colors&quot;: &quot;#08ff00&quot;}, {&quot;x&quot;: 23, &quot;y&quot;: 21, &quot;v&quot;: &quot;unknown Clostridiales [meta_mOTU_v2_6523]&quot;, &quot;Subtypes&quot;: &quot;cluster_02&quot;, &quot;colors&quot;: &quot;#08ff00&quot;}, {&quot;x&quot;: 26, &quot;y&quot;: 21, &quot;v&quot;: &quot;unknown Bacteroidales [meta_mOTU_v2_6949]&quot;, &quot;Subtypes&quot;: &quot;cluster_02&quot;, &quot;colors&quot;: &quot;#08ff00&quot;}, {&quot;x&quot;: 28, &quot;y&quot;: 21, &quot;v&quot;: &quot;unknown Dehalococcoidales [meta_mOTU_v2_5481]&quot;, &quot;Subtypes&quot;: &quot;cluster_02&quot;, &quot;colors&quot;: &quot;#08ff00&quot;}, {&quot;x&quot;: 5, &quot;y&quot;: 22, &quot;v&quot;: &quot;bacterium LF-3 [ref_mOTU_v2_3608]&quot;, &quot;Subtypes&quot;: &quot;cluster_02&quot;, &quot;colors&quot;: &quot;#08ff00&quot;}, {&quot;x&quot;: 6, &quot;y&quot;: 22, &quot;v&quot;: &quot;unknown Clostridiales [meta_mOTU_v2_6787]&quot;, &quot;Subtypes&quot;: &quot;cluster_02&quot;, &quot;colors&quot;: &quot;#08ff00&quot;}, {&quot;x&quot;: 7, &quot;y&quot;: 22, &quot;v&quot;: &quot;unknown Firmicutes [meta_mOTU_v2_5525]&quot;, &quot;Subtypes&quot;: &quot;cluster_02&quot;, &quot;colors&quot;: &quot;#08ff00&quot;}, {&quot;x&quot;: 10, &quot;y&quot;: 22, &quot;v&quot;: &quot;unknown Clostridiales [meta_mOTU_v2_6716]&quot;, &quot;Subtypes&quot;: &quot;cluster_02&quot;, &quot;colors&quot;: &quot;#08ff00&quot;}, {&quot;x&quot;: 11, &quot;y&quot;: 22, &quot;v&quot;: &quot;unknown Clostridiales [meta_mOTU_v2_7157]&quot;, &quot;Subtypes&quot;: &quot;cluster_02&quot;, &quot;colors&quot;: &quot;#08ff00&quot;}, {&quot;x&quot;: 12, &quot;y&quot;: 22, &quot;v&quot;: &quot;unknown Clostridiales [meta_mOTU_v2_5880]&quot;, &quot;Subtypes&quot;: &quot;cluster_02&quot;, &quot;colors&quot;: &quot;#08ff00&quot;}, {&quot;x&quot;: 13, &quot;y&quot;: 22, &quot;v&quot;: &quot;Firmicutes bacterium ADurb.Bin467 [meta_mOTU_v2_6414]&quot;, &quot;Subtypes&quot;: &quot;cluster_02&quot;, &quot;colors&quot;: &quot;#08ff00&quot;}, {&quot;x&quot;: 14, &quot;y&quot;: 22, &quot;v&quot;: &quot;unknown Clostridiales [meta_mOTU_v2_6760]&quot;, &quot;Subtypes&quot;: &quot;cluster_02&quot;, &quot;colors&quot;: &quot;#08ff00&quot;}, {&quot;x&quot;: 15, &quot;y&quot;: 22, &quot;v&quot;: &quot;unknown Clostridiales [meta_mOTU_v2_5991]&quot;, &quot;Subtypes&quot;: &quot;cluster_02&quot;, &quot;colors&quot;: &quot;#08ff00&quot;}, {&quot;x&quot;: 17, &quot;y&quot;: 22, &quot;v&quot;: &quot;Clostridium sp. CAG:288 [meta_mOTU_v2_5776]&quot;, &quot;Subtypes&quot;: &quot;cluster_02&quot;, &quot;colors&quot;: &quot;#08ff00&quot;}, {&quot;x&quot;: 18, &quot;y&quot;: 22, &quot;v&quot;: &quot;unknown Clostridiales [meta_mOTU_v2_7685]&quot;, &quot;Subtypes&quot;: &quot;cluster_02&quot;, &quot;colors&quot;: &quot;#08ff00&quot;}, {&quot;x&quot;: 19, &quot;y&quot;: 22, &quot;v&quot;: &quot;unknown Ruminococcus [meta_mOTU_v2_6152]&quot;, &quot;Subtypes&quot;: &quot;cluster_02&quot;, &quot;colors&quot;: &quot;#08ff00&quot;}, {&quot;x&quot;: 26, &quot;y&quot;: 22, &quot;v&quot;: &quot;unknown Eggerthellaceae [meta_mOTU_v2_5373]&quot;, &quot;Subtypes&quot;: &quot;cluster_02&quot;, &quot;colors&quot;: &quot;#08ff00&quot;}, {&quot;x&quot;: 27, &quot;y&quot;: 22, &quot;v&quot;: &quot;Eggerthella sp. CAG:368 [meta_mOTU_v2_6312]&quot;, &quot;Subtypes&quot;: &quot;cluster_02&quot;, &quot;colors&quot;: &quot;#08ff00&quot;}, {&quot;x&quot;: 28, &quot;y&quot;: 22, &quot;v&quot;: &quot;unknown Clostridiales Family XIII. Incertae Sedis [meta_mOTU_v2_6192]&quot;, &quot;Subtypes&quot;: &quot;cluster_02&quot;, &quot;colors&quot;: &quot;#08ff00&quot;}, {&quot;x&quot;: 2, &quot;y&quot;: 23, &quot;v&quot;: &quot;unknown Lachnospiraceae [meta_mOTU_v2_6937]&quot;, &quot;Subtypes&quot;: &quot;cluster_02&quot;, &quot;colors&quot;: &quot;#08ff00&quot;}, {&quot;x&quot;: 3, &quot;y&quot;: 23, &quot;v&quot;: &quot;unknown Eubacterium [meta_mOTU_v2_6657]&quot;, &quot;Subtypes&quot;: &quot;cluster_02&quot;, &quot;colors&quot;: &quot;#08ff00&quot;}, {&quot;x&quot;: 4, &quot;y&quot;: 23, &quot;v&quot;: &quot;Eubacterium ventriosum [ref_mOTU_v2_4204]&quot;, &quot;Subtypes&quot;: &quot;cluster_02&quot;, &quot;colors&quot;: &quot;#08ff00&quot;}, {&quot;x&quot;: 5, &quot;y&quot;: 23, &quot;v&quot;: &quot;unknown Clostridiales [meta_mOTU_v2_7531]&quot;, &quot;Subtypes&quot;: &quot;cluster_02&quot;, &quot;colors&quot;: &quot;#08ff00&quot;}, {&quot;x&quot;: 7, &quot;y&quot;: 23, &quot;v&quot;: &quot;unknown Faecalibacterium [meta_mOTU_v2_7143]&quot;, &quot;Subtypes&quot;: &quot;cluster_02&quot;, &quot;colors&quot;: &quot;#08ff00&quot;}, {&quot;x&quot;: 8, &quot;y&quot;: 23, &quot;v&quot;: &quot;unknown Clostridiales [meta_mOTU_v2_7093]&quot;, &quot;Subtypes&quot;: &quot;cluster_02&quot;, &quot;colors&quot;: &quot;#08ff00&quot;}, {&quot;x&quot;: 10, &quot;y&quot;: 23, &quot;v&quot;: &quot;unknown Clostridiales [meta_mOTU_v2_7527]&quot;, &quot;Subtypes&quot;: &quot;cluster_02&quot;, &quot;colors&quot;: &quot;#08ff00&quot;}, {&quot;x&quot;: 11, &quot;y&quot;: 23, &quot;v&quot;: &quot;uncultured Clostridium sp. [meta_mOTU_v2_6381]&quot;, &quot;Subtypes&quot;: &quot;cluster_02&quot;, &quot;colors&quot;: &quot;#08ff00&quot;}, {&quot;x&quot;: 12, &quot;y&quot;: 23, &quot;v&quot;: &quot;Butyricicoccus sp. BB10 [meta_mOTU_v2_5734]&quot;, &quot;Subtypes&quot;: &quot;cluster_02&quot;, &quot;colors&quot;: &quot;#08ff00&quot;}, {&quot;x&quot;: 13, &quot;y&quot;: 23, &quot;v&quot;: &quot;unknown Ruminococcaceae [meta_mOTU_v2_6174]&quot;, &quot;Subtypes&quot;: &quot;cluster_02&quot;, &quot;colors&quot;: &quot;#08ff00&quot;}, {&quot;x&quot;: 14, &quot;y&quot;: 23, &quot;v&quot;: &quot;unknown Clostridiales [meta_mOTU_v2_5540]&quot;, &quot;Subtypes&quot;: &quot;cluster_02&quot;, &quot;colors&quot;: &quot;#08ff00&quot;}, {&quot;x&quot;: 15, &quot;y&quot;: 23, &quot;v&quot;: &quot;Clostridiales bacterium 41_21_two_genomes [meta_mOTU_v2_5482]&quot;, &quot;Subtypes&quot;: &quot;cluster_02&quot;, &quot;colors&quot;: &quot;#08ff00&quot;}, {&quot;x&quot;: 16, &quot;y&quot;: 23, &quot;v&quot;: &quot;Clostridium sp. CAG:594 [meta_mOTU_v2_5501]&quot;, &quot;Subtypes&quot;: &quot;cluster_02&quot;, &quot;colors&quot;: &quot;#08ff00&quot;}, {&quot;x&quot;: 18, &quot;y&quot;: 23, &quot;v&quot;: &quot;Clostridium sp. CAG:793 [meta_mOTU_v2_5464]&quot;, &quot;Subtypes&quot;: &quot;cluster_02&quot;, &quot;colors&quot;: &quot;#08ff00&quot;}, {&quot;x&quot;: 22, &quot;y&quot;: 23, &quot;v&quot;: &quot;unknown Sutterella [meta_mOTU_v2_5857]&quot;, &quot;Subtypes&quot;: &quot;cluster_02&quot;, &quot;colors&quot;: &quot;#08ff00&quot;}, {&quot;x&quot;: 23, &quot;y&quot;: 23, &quot;v&quot;: &quot;unknown Sutterella [meta_mOTU_v2_5929]&quot;, &quot;Subtypes&quot;: &quot;cluster_02&quot;, &quot;colors&quot;: &quot;#08ff00&quot;}, {&quot;x&quot;: 26, &quot;y&quot;: 23, &quot;v&quot;: &quot;unknown Eggerthellaceae [meta_mOTU_v2_6813]&quot;, &quot;Subtypes&quot;: &quot;cluster_02&quot;, &quot;colors&quot;: &quot;#08ff00&quot;}, {&quot;x&quot;: 28, &quot;y&quot;: 23, &quot;v&quot;: &quot;unknown Collinsella [meta_mOTU_v2_7573]&quot;, &quot;Subtypes&quot;: &quot;cluster_02&quot;, &quot;colors&quot;: &quot;#08ff00&quot;}, {&quot;x&quot;: 3, &quot;y&quot;: 24, &quot;v&quot;: &quot;Ruminococcus torques [ref_mOTU_v2_4718]&quot;, &quot;Subtypes&quot;: &quot;cluster_02&quot;, &quot;colors&quot;: &quot;#08ff00&quot;}, {&quot;x&quot;: 4, &quot;y&quot;: 24, &quot;v&quot;: &quot;unknown Eubacterium [meta_mOTU_v2_7687]&quot;, &quot;Subtypes&quot;: &quot;cluster_02&quot;, &quot;colors&quot;: &quot;#08ff00&quot;}, {&quot;x&quot;: 6, &quot;y&quot;: 24, &quot;v&quot;: &quot;Eubacterium ramulus [ref_mOTU_v2_2795]&quot;, &quot;Subtypes&quot;: &quot;cluster_02&quot;, &quot;colors&quot;: &quot;#08ff00&quot;}, {&quot;x&quot;: 7, &quot;y&quot;: 24, &quot;v&quot;: &quot;unknown Clostridiales [meta_mOTU_v2_6686]&quot;, &quot;Subtypes&quot;: &quot;cluster_02&quot;, &quot;colors&quot;: &quot;#08ff00&quot;}, {&quot;x&quot;: 9, &quot;y&quot;: 24, &quot;v&quot;: &quot;unknown Clostridiales [meta_mOTU_v2_7781]&quot;, &quot;Subtypes&quot;: &quot;cluster_02&quot;, &quot;colors&quot;: &quot;#08ff00&quot;}, {&quot;x&quot;: 10, &quot;y&quot;: 24, &quot;v&quot;: &quot;unknown Clostridiales [meta_mOTU_v2_5806]&quot;, &quot;Subtypes&quot;: &quot;cluster_02&quot;, &quot;colors&quot;: &quot;#08ff00&quot;}, {&quot;x&quot;: 11, &quot;y&quot;: 24, &quot;v&quot;: &quot;unknown Clostridiales [meta_mOTU_v2_5653]&quot;, &quot;Subtypes&quot;: &quot;cluster_02&quot;, &quot;colors&quot;: &quot;#08ff00&quot;}, {&quot;x&quot;: 12, &quot;y&quot;: 24, &quot;v&quot;: &quot;unknown Ruminococcaceae [meta_mOTU_v2_5330]&quot;, &quot;Subtypes&quot;: &quot;cluster_02&quot;, &quot;colors&quot;: &quot;#08ff00&quot;}, {&quot;x&quot;: 13, &quot;y&quot;: 24, &quot;v&quot;: &quot;unknown Clostridiales [meta_mOTU_v2_7590]&quot;, &quot;Subtypes&quot;: &quot;cluster_02&quot;, &quot;colors&quot;: &quot;#08ff00&quot;}, {&quot;x&quot;: 14, &quot;y&quot;: 24, &quot;v&quot;: &quot;unknown Clostridiales [meta_mOTU_v2_7643]&quot;, &quot;Subtypes&quot;: &quot;cluster_02&quot;, &quot;colors&quot;: &quot;#08ff00&quot;}, {&quot;x&quot;: 17, &quot;y&quot;: 24, &quot;v&quot;: &quot;Ruminococcus sp. CAG:724 [meta_mOTU_v2_7753]&quot;, &quot;Subtypes&quot;: &quot;cluster_02&quot;, &quot;colors&quot;: &quot;#08ff00&quot;}, {&quot;x&quot;: 19, &quot;y&quot;: 24, &quot;v&quot;: &quot;Prevotella sp. CAG:617 [meta_mOTU_v2_6833]&quot;, &quot;Subtypes&quot;: &quot;cluster_02&quot;, &quot;colors&quot;: &quot;#08ff00&quot;}, {&quot;x&quot;: 23, &quot;y&quot;: 24, &quot;v&quot;: &quot;unknown Eggerthella [meta_mOTU_v2_7082]&quot;, &quot;Subtypes&quot;: &quot;cluster_02&quot;, &quot;colors&quot;: &quot;#08ff00&quot;}, {&quot;x&quot;: 25, &quot;y&quot;: 24, &quot;v&quot;: &quot;Senegalimassilia anaerobia [ref_mOTU_v2_1606]&quot;, &quot;Subtypes&quot;: &quot;cluster_02&quot;, &quot;colors&quot;: &quot;#08ff00&quot;}, {&quot;x&quot;: 27, &quot;y&quot;: 24, &quot;v&quot;: &quot;unknown Firmicutes [meta_mOTU_v2_6331]&quot;, &quot;Subtypes&quot;: &quot;cluster_02&quot;, &quot;colors&quot;: &quot;#08ff00&quot;}, {&quot;x&quot;: 28, &quot;y&quot;: 24, &quot;v&quot;: &quot;unknown Clostridiales [meta_mOTU_v2_5341]&quot;, &quot;Subtypes&quot;: &quot;cluster_02&quot;, &quot;colors&quot;: &quot;#08ff00&quot;}, {&quot;x&quot;: 2, &quot;y&quot;: 25, &quot;v&quot;: &quot;Coprococcus comes [ref_mOTU_v2_4313]&quot;, &quot;Subtypes&quot;: &quot;cluster_02&quot;, &quot;colors&quot;: &quot;#08ff00&quot;}, {&quot;x&quot;: 3, &quot;y&quot;: 25, &quot;v&quot;: &quot;Dorea longicatena [ref_mOTU_v2_4203]&quot;, &quot;Subtypes&quot;: &quot;cluster_02&quot;, &quot;colors&quot;: &quot;#08ff00&quot;}, {&quot;x&quot;: 5, &quot;y&quot;: 25, &quot;v&quot;: &quot;unknown Clostridiales [meta_mOTU_v2_7061]&quot;, &quot;Subtypes&quot;: &quot;cluster_02&quot;, &quot;colors&quot;: &quot;#08ff00&quot;}, {&quot;x&quot;: 6, &quot;y&quot;: 25, &quot;v&quot;: &quot;uncultured Eubacterium sp. [meta_mOTU_v2_5477]&quot;, &quot;Subtypes&quot;: &quot;cluster_02&quot;, &quot;colors&quot;: &quot;#08ff00&quot;}, {&quot;x&quot;: 7, &quot;y&quot;: 25, &quot;v&quot;: &quot;unknown Clostridiales [meta_mOTU_v2_5741]&quot;, &quot;Subtypes&quot;: &quot;cluster_02&quot;, &quot;colors&quot;: &quot;#08ff00&quot;}, {&quot;x&quot;: 8, &quot;y&quot;: 25, &quot;v&quot;: &quot;unknown Clostridiales [meta_mOTU_v2_6013]&quot;, &quot;Subtypes&quot;: &quot;cluster_02&quot;, &quot;colors&quot;: &quot;#08ff00&quot;}, {&quot;x&quot;: 9, &quot;y&quot;: 25, &quot;v&quot;: &quot;unknown Clostridiales [meta_mOTU_v2_6834]&quot;, &quot;Subtypes&quot;: &quot;cluster_02&quot;, &quot;colors&quot;: &quot;#08ff00&quot;}, {&quot;x&quot;: 10, &quot;y&quot;: 25, &quot;v&quot;: &quot;uncultured Clostridium sp. [meta_mOTU_v2_5907]&quot;, &quot;Subtypes&quot;: &quot;cluster_02&quot;, &quot;colors&quot;: &quot;#08ff00&quot;}, {&quot;x&quot;: 11, &quot;y&quot;: 25, &quot;v&quot;: &quot;unknown Clostridiales [meta_mOTU_v2_7415]&quot;, &quot;Subtypes&quot;: &quot;cluster_02&quot;, &quot;colors&quot;: &quot;#08ff00&quot;}, {&quot;x&quot;: 12, &quot;y&quot;: 25, &quot;v&quot;: &quot;Clostridium sp. CAG:217 [meta_mOTU_v2_7451]&quot;, &quot;Subtypes&quot;: &quot;cluster_02&quot;, &quot;colors&quot;: &quot;#08ff00&quot;}, {&quot;x&quot;: 17, &quot;y&quot;: 25, &quot;v&quot;: &quot;unknown Bacteroidales [meta_mOTU_v2_6162]&quot;, &quot;Subtypes&quot;: &quot;cluster_02&quot;, &quot;colors&quot;: &quot;#08ff00&quot;}, {&quot;x&quot;: 19, &quot;y&quot;: 25, &quot;v&quot;: &quot;Dialister succinatiphilus [ref_mOTU_v2_4885]&quot;, &quot;Subtypes&quot;: &quot;cluster_02&quot;, &quot;colors&quot;: &quot;#08ff00&quot;}, {&quot;x&quot;: 27, &quot;y&quot;: 25, &quot;v&quot;: &quot;unknown Atopobiaceae [meta_mOTU_v2_6622]&quot;, &quot;Subtypes&quot;: &quot;cluster_02&quot;, &quot;colors&quot;: &quot;#08ff00&quot;}, {&quot;x&quot;: 28, &quot;y&quot;: 25, &quot;v&quot;: &quot;unknown Sutterella [meta_mOTU_v2_7526]&quot;, &quot;Subtypes&quot;: &quot;cluster_02&quot;, &quot;colors&quot;: &quot;#08ff00&quot;}, {&quot;x&quot;: 1, &quot;y&quot;: 26, &quot;v&quot;: &quot;Dorea formicigenerans [ref_mOTU_v2_0973]&quot;, &quot;Subtypes&quot;: &quot;cluster_02&quot;, &quot;colors&quot;: &quot;#08ff00&quot;}, {&quot;x&quot;: 2, &quot;y&quot;: 26, &quot;v&quot;: &quot;Blautia sp. KLE 1732 [ref_mOTU_v2_0859]&quot;, &quot;Subtypes&quot;: &quot;cluster_02&quot;, &quot;colors&quot;: &quot;#08ff00&quot;}, {&quot;x&quot;: 4, &quot;y&quot;: 26, &quot;v&quot;: &quot;unknown Clostridiales [meta_mOTU_v2_6852]&quot;, &quot;Subtypes&quot;: &quot;cluster_02&quot;, &quot;colors&quot;: &quot;#08ff00&quot;}, {&quot;x&quot;: 5, &quot;y&quot;: 26, &quot;v&quot;: &quot;unknown Clostridiales [meta_mOTU_v2_7018]&quot;, &quot;Subtypes&quot;: &quot;cluster_02&quot;, &quot;colors&quot;: &quot;#08ff00&quot;}, {&quot;x&quot;: 6, &quot;y&quot;: 26, &quot;v&quot;: &quot;unknown Clostridiales [meta_mOTU_v2_7455]&quot;, &quot;Subtypes&quot;: &quot;cluster_02&quot;, &quot;colors&quot;: &quot;#08ff00&quot;}, {&quot;x&quot;: 7, &quot;y&quot;: 26, &quot;v&quot;: &quot;unknown Clostridiales [meta_mOTU_v2_7306]&quot;, &quot;Subtypes&quot;: &quot;cluster_02&quot;, &quot;colors&quot;: &quot;#08ff00&quot;}, {&quot;x&quot;: 8, &quot;y&quot;: 26, &quot;v&quot;: &quot;unknown Clostridiales [meta_mOTU_v2_6525]&quot;, &quot;Subtypes&quot;: &quot;cluster_02&quot;, &quot;colors&quot;: &quot;#08ff00&quot;}, {&quot;x&quot;: 9, &quot;y&quot;: 26, &quot;v&quot;: &quot;unknown Clostridiales [meta_mOTU_v2_6044]&quot;, &quot;Subtypes&quot;: &quot;cluster_02&quot;, &quot;colors&quot;: &quot;#08ff00&quot;}, {&quot;x&quot;: 10, &quot;y&quot;: 26, &quot;v&quot;: &quot;unknown Clostridiales [meta_mOTU_v2_7145]&quot;, &quot;Subtypes&quot;: &quot;cluster_02&quot;, &quot;colors&quot;: &quot;#08ff00&quot;}, {&quot;x&quot;: 17, &quot;y&quot;: 26, &quot;v&quot;: &quot;Dialister invisus [meta_mOTU_v2_7291]&quot;, &quot;Subtypes&quot;: &quot;cluster_02&quot;, &quot;colors&quot;: &quot;#08ff00&quot;}, {&quot;x&quot;: 1, &quot;y&quot;: 27, &quot;v&quot;: &quot;Dorea longicatena [ref_mOTU_v2_2893]&quot;, &quot;Subtypes&quot;: &quot;cluster_02&quot;, &quot;colors&quot;: &quot;#08ff00&quot;}, {&quot;x&quot;: 2, &quot;y&quot;: 27, &quot;v&quot;: &quot;unknown Clostridiales [meta_mOTU_v2_5411]&quot;, &quot;Subtypes&quot;: &quot;cluster_02&quot;, &quot;colors&quot;: &quot;#08ff00&quot;}, {&quot;x&quot;: 3, &quot;y&quot;: 27, &quot;v&quot;: &quot;Blautia obeum [ref_mOTU_v2_4719]&quot;, &quot;Subtypes&quot;: &quot;cluster_02&quot;, &quot;colors&quot;: &quot;#08ff00&quot;}, {&quot;x&quot;: 4, &quot;y&quot;: 27, &quot;v&quot;: &quot;unknown Clostridiales [meta_mOTU_v2_7076]&quot;, &quot;Subtypes&quot;: &quot;cluster_02&quot;, &quot;colors&quot;: &quot;#08ff00&quot;}, {&quot;x&quot;: 5, &quot;y&quot;: 27, &quot;v&quot;: &quot;Coprococcus catus [ref_mOTU_v2_4874]&quot;, &quot;Subtypes&quot;: &quot;cluster_02&quot;, &quot;colors&quot;: &quot;#08ff00&quot;}, {&quot;x&quot;: 6, &quot;y&quot;: 27, &quot;v&quot;: &quot;unknown Clostridiales [meta_mOTU_v2_6926]&quot;, &quot;Subtypes&quot;: &quot;cluster_02&quot;, &quot;colors&quot;: &quot;#08ff00&quot;}, {&quot;x&quot;: 0, &quot;y&quot;: 28, &quot;v&quot;: &quot;Collinsella aerofaciens [ref_mOTU_v2_1383]&quot;, &quot;Subtypes&quot;: &quot;cluster_02&quot;, &quot;colors&quot;: &quot;#08ff00&quot;}, {&quot;x&quot;: 1, &quot;y&quot;: 28, &quot;v&quot;: &quot;Blautia obeum [ref_mOTU_v2_4202]&quot;, &quot;Subtypes&quot;: &quot;cluster_02&quot;, &quot;colors&quot;: &quot;#08ff00&quot;}, {&quot;x&quot;: 2, &quot;y&quot;: 28, &quot;v&quot;: &quot;Eubacterium hallii [ref_mOTU_v2_4207]&quot;, &quot;Subtypes&quot;: &quot;cluster_02&quot;, &quot;colors&quot;: &quot;#08ff00&quot;}, {&quot;x&quot;: 3, &quot;y&quot;: 28, &quot;v&quot;: &quot;unknown Clostridiales [meta_mOTU_v2_5826]&quot;, &quot;Subtypes&quot;: &quot;cluster_02&quot;, &quot;colors&quot;: &quot;#08ff00&quot;}, {&quot;x&quot;: 14, &quot;y&quot;: 28, &quot;v&quot;: &quot;unknown Phascolarctobacterium [meta_mOTU_v2_5554]&quot;, &quot;Subtypes&quot;: &quot;cluster_02&quot;, &quot;colors&quot;: &quot;#08ff00&quot;}], &quot;type&quot;: &quot;heatmap&quot;, &quot;color&quot;: &quot;#08ff00&quot;, &quot;name&quot;: &quot;cluster_02&quot;}, {&quot;data&quot;: [{&quot;x&quot;: 8, &quot;y&quot;: 0, &quot;v&quot;: &quot;Clostridium sp. AT4 [meta_mOTU_v2_7263]&quot;, &quot;Subtypes&quot;: &quot;cluster_03&quot;, &quot;colors&quot;: &quot;#00fff6&quot;}, {&quot;x&quot;: 9, &quot;y&quot;: 0, &quot;v&quot;: &quot;unknown Clostridiales [meta_mOTU_v2_5641]&quot;, &quot;Subtypes&quot;: &quot;cluster_03&quot;, &quot;colors&quot;: &quot;#00fff6&quot;}, {&quot;x&quot;: 10, &quot;y&quot;: 0, &quot;v&quot;: &quot;unknown Clostridium [meta_mOTU_v2_7389]&quot;, &quot;Subtypes&quot;: &quot;cluster_03&quot;, &quot;colors&quot;: &quot;#00fff6&quot;}, {&quot;x&quot;: 11, &quot;y&quot;: 0, &quot;v&quot;: &quot;Collinsella intestinalis [ref_mOTU_v2_4400]&quot;, &quot;Subtypes&quot;: &quot;cluster_03&quot;, &quot;colors&quot;: &quot;#00fff6&quot;}, {&quot;x&quot;: 12, &quot;y&quot;: 0, &quot;v&quot;: &quot;unknown Clostridium [meta_mOTU_v2_5353]&quot;, &quot;Subtypes&quot;: &quot;cluster_03&quot;, &quot;colors&quot;: &quot;#00fff6&quot;}, {&quot;x&quot;: 13, &quot;y&quot;: 0, &quot;v&quot;: &quot;unknown Clostridiales [meta_mOTU_v2_5347]&quot;, &quot;Subtypes&quot;: &quot;cluster_03&quot;, &quot;colors&quot;: &quot;#00fff6&quot;}, {&quot;x&quot;: 14, &quot;y&quot;: 0, &quot;v&quot;: &quot;unknown Clostridiales [meta_mOTU_v2_5890]&quot;, &quot;Subtypes&quot;: &quot;cluster_03&quot;, &quot;colors&quot;: &quot;#00fff6&quot;}, {&quot;x&quot;: 15, &quot;y&quot;: 0, &quot;v&quot;: &quot;Burkholderiales bacterium YL45 [meta_mOTU_v2_6818]&quot;, &quot;Subtypes&quot;: &quot;cluster_03&quot;, &quot;colors&quot;: &quot;#00fff6&quot;}, {&quot;x&quot;: 16, &quot;y&quot;: 0, &quot;v&quot;: &quot;unknown Bacteroidales [meta_mOTU_v2_7353]&quot;, &quot;Subtypes&quot;: &quot;cluster_03&quot;, &quot;colors&quot;: &quot;#00fff6&quot;}, {&quot;x&quot;: 8, &quot;y&quot;: 1, &quot;v&quot;: &quot;Lachnospiraceae bacterium 1_4_56FAA [ref_mOTU_v2_4723]&quot;, &quot;Subtypes&quot;: &quot;cluster_03&quot;, &quot;colors&quot;: &quot;#00fff6&quot;}, {&quot;x&quot;: 9, &quot;y&quot;: 1, &quot;v&quot;: &quot;Megasphaera massiliensis [ref_mOTU_v2_2684]&quot;, &quot;Subtypes&quot;: &quot;cluster_03&quot;, &quot;colors&quot;: &quot;#00fff6&quot;}, {&quot;x&quot;: 11, &quot;y&quot;: 1, &quot;v&quot;: &quot;unknown Clostridiales [meta_mOTU_v2_6281]&quot;, &quot;Subtypes&quot;: &quot;cluster_03&quot;, &quot;colors&quot;: &quot;#00fff6&quot;}, {&quot;x&quot;: 12, &quot;y&quot;: 1, &quot;v&quot;: &quot;unknown Clostridiales [meta_mOTU_v2_6548]&quot;, &quot;Subtypes&quot;: &quot;cluster_03&quot;, &quot;colors&quot;: &quot;#00fff6&quot;}, {&quot;x&quot;: 14, &quot;y&quot;: 1, &quot;v&quot;: &quot;unknown Clostridium [meta_mOTU_v2_5940]&quot;, &quot;Subtypes&quot;: &quot;cluster_03&quot;, &quot;colors&quot;: &quot;#00fff6&quot;}, {&quot;x&quot;: 28, &quot;y&quot;: 1, &quot;v&quot;: &quot;Sutterella sp. CAG:521 [meta_mOTU_v2_6395]&quot;, &quot;Subtypes&quot;: &quot;cluster_03&quot;, &quot;colors&quot;: &quot;#00fff6&quot;}, {&quot;x&quot;: 12, &quot;y&quot;: 2, &quot;v&quot;: &quot;Acidaminococcus intestini [ref_mOTU_v2_0391]&quot;, &quot;Subtypes&quot;: &quot;cluster_03&quot;, &quot;colors&quot;: &quot;#00fff6&quot;}, {&quot;x&quot;: 13, &quot;y&quot;: 2, &quot;v&quot;: &quot;unknown Clostridiales [meta_mOTU_v2_6073]&quot;, &quot;Subtypes&quot;: &quot;cluster_03&quot;, &quot;colors&quot;: &quot;#00fff6&quot;}, {&quot;x&quot;: 17, &quot;y&quot;: 2, &quot;v&quot;: &quot;unknown Clostridiales [meta_mOTU_v2_6036]&quot;, &quot;Subtypes&quot;: &quot;cluster_03&quot;, &quot;colors&quot;: &quot;#00fff6&quot;}, {&quot;x&quot;: 19, &quot;y&quot;: 2, &quot;v&quot;: &quot;unknown Clostridiales [meta_mOTU_v2_5791]&quot;, &quot;Subtypes&quot;: &quot;cluster_03&quot;, &quot;colors&quot;: &quot;#00fff6&quot;}, {&quot;x&quot;: 27, &quot;y&quot;: 2, &quot;v&quot;: &quot;unknown Firmicutes [meta_mOTU_v2_6595]&quot;, &quot;Subtypes&quot;: &quot;cluster_03&quot;, &quot;colors&quot;: &quot;#00fff6&quot;}, {&quot;x&quot;: 28, &quot;y&quot;: 2, &quot;v&quot;: &quot;unknown Bacteroidales [meta_mOTU_v2_5989]&quot;, &quot;Subtypes&quot;: &quot;cluster_03&quot;, &quot;colors&quot;: &quot;#00fff6&quot;}, {&quot;x&quot;: 2, &quot;y&quot;: 3, &quot;v&quot;: &quot;Fusobacterium gonidiaformans [ref_mOTU_v2_1404]&quot;, &quot;Subtypes&quot;: &quot;cluster_03&quot;, &quot;colors&quot;: &quot;#00fff6&quot;}, {&quot;x&quot;: 5, &quot;y&quot;: 3, &quot;v&quot;: &quot;Erysipelotrichaceae sp. [ref_mOTU_v2_4724]&quot;, &quot;Subtypes&quot;: &quot;cluster_03&quot;, &quot;colors&quot;: &quot;#00fff6&quot;}, {&quot;x&quot;: 11, &quot;y&quot;: 3, &quot;v&quot;: &quot;unknown Clostridiales [meta_mOTU_v2_6561]&quot;, &quot;Subtypes&quot;: &quot;cluster_03&quot;, &quot;colors&quot;: &quot;#00fff6&quot;}, {&quot;x&quot;: 12, &quot;y&quot;: 3, &quot;v&quot;: &quot;unknown Clostridiales [meta_mOTU_v2_7702]&quot;, &quot;Subtypes&quot;: &quot;cluster_03&quot;, &quot;colors&quot;: &quot;#00fff6&quot;}, {&quot;x&quot;: 13, &quot;y&quot;: 3, &quot;v&quot;: &quot;Blautia hydrogenotrophica [ref_mOTU_v2_4324]&quot;, &quot;Subtypes&quot;: &quot;cluster_03&quot;, &quot;colors&quot;: &quot;#00fff6&quot;}, {&quot;x&quot;: 14, &quot;y&quot;: 3, &quot;v&quot;: &quot;unknown Clostridium [meta_mOTU_v2_5331]&quot;, &quot;Subtypes&quot;: &quot;cluster_03&quot;, &quot;colors&quot;: &quot;#00fff6&quot;}, {&quot;x&quot;: 25, &quot;y&quot;: 3, &quot;v&quot;: &quot;unknown Clostridium [meta_mOTU_v2_6147]&quot;, &quot;Subtypes&quot;: &quot;cluster_03&quot;, &quot;colors&quot;: &quot;#00fff6&quot;}, {&quot;x&quot;: 26, &quot;y&quot;: 3, &quot;v&quot;: &quot;unknown Sutterellaceae [meta_mOTU_v2_5393]&quot;, &quot;Subtypes&quot;: &quot;cluster_03&quot;, &quot;colors&quot;: &quot;#00fff6&quot;}, {&quot;x&quot;: 2, &quot;y&quot;: 4, &quot;v&quot;: &quot;unknown Dialister [meta_mOTU_v2_5867]&quot;, &quot;Subtypes&quot;: &quot;cluster_03&quot;, &quot;colors&quot;: &quot;#00fff6&quot;}, {&quot;x&quot;: 10, &quot;y&quot;: 4, &quot;v&quot;: &quot;unknown Clostridiales [meta_mOTU_v2_5517]&quot;, &quot;Subtypes&quot;: &quot;cluster_03&quot;, &quot;colors&quot;: &quot;#00fff6&quot;}, {&quot;x&quot;: 11, &quot;y&quot;: 4, &quot;v&quot;: &quot;uncultured Eubacterium sp. [meta_mOTU_v2_6201]&quot;, &quot;Subtypes&quot;: &quot;cluster_03&quot;, &quot;colors&quot;: &quot;#00fff6&quot;}, {&quot;x&quot;: 15, &quot;y&quot;: 4, &quot;v&quot;: &quot;Bacteroides stercorirosoris [ref_mOTU_v2_2726]&quot;, &quot;Subtypes&quot;: &quot;cluster_03&quot;, &quot;colors&quot;: &quot;#00fff6&quot;}, {&quot;x&quot;: 16, &quot;y&quot;: 4, &quot;v&quot;: &quot;unknown Clostridiales [meta_mOTU_v2_7072]&quot;, &quot;Subtypes&quot;: &quot;cluster_03&quot;, &quot;colors&quot;: &quot;#00fff6&quot;}, {&quot;x&quot;: 25, &quot;y&quot;: 4, &quot;v&quot;: &quot;Staphylococcus sp. CAG:324 [meta_mOTU_v2_7772]&quot;, &quot;Subtypes&quot;: &quot;cluster_03&quot;, &quot;colors&quot;: &quot;#00fff6&quot;}, {&quot;x&quot;: 26, &quot;y&quot;: 4, &quot;v&quot;: &quot;unknown Eggerthellaceae [meta_mOTU_v2_6437]&quot;, &quot;Subtypes&quot;: &quot;cluster_03&quot;, &quot;colors&quot;: &quot;#00fff6&quot;}, {&quot;x&quot;: 27, &quot;y&quot;: 4, &quot;v&quot;: &quot;unknown Synergistaceae [meta_mOTU_v2_5538]&quot;, &quot;Subtypes&quot;: &quot;cluster_03&quot;, &quot;colors&quot;: &quot;#00fff6&quot;}, {&quot;x&quot;: 0, &quot;y&quot;: 5, &quot;v&quot;: &quot;Peptostreptococcus anaerobius [ref_mOTU_v2_0148]&quot;, &quot;Subtypes&quot;: &quot;cluster_03&quot;, &quot;colors&quot;: &quot;#00fff6&quot;}, {&quot;x&quot;: 1, &quot;y&quot;: 5, &quot;v&quot;: &quot;Fusobacterium nucleatum s. animalis [ref_mOTU_v2_0776]&quot;, &quot;Subtypes&quot;: &quot;cluster_03&quot;, &quot;colors&quot;: &quot;#00fff6&quot;}, {&quot;x&quot;: 2, &quot;y&quot;: 5, &quot;v&quot;: &quot;Prevotella nigrescens [ref_mOTU_v2_0276]&quot;, &quot;Subtypes&quot;: &quot;cluster_03&quot;, &quot;colors&quot;: &quot;#00fff6&quot;}, {&quot;x&quot;: 11, &quot;y&quot;: 5, &quot;v&quot;: &quot;Holdemania filiformis [ref_mOTU_v2_4459]&quot;, &quot;Subtypes&quot;: &quot;cluster_03&quot;, &quot;colors&quot;: &quot;#00fff6&quot;}, {&quot;x&quot;: 18, &quot;y&quot;: 5, &quot;v&quot;: &quot;Phascolarctobacterium sp. [ref_mOTU_v2_2806]&quot;, &quot;Subtypes&quot;: &quot;cluster_03&quot;, &quot;colors&quot;: &quot;#00fff6&quot;}, {&quot;x&quot;: 23, &quot;y&quot;: 5, &quot;v&quot;: &quot;unknown Clostridiales [meta_mOTU_v2_6416]&quot;, &quot;Subtypes&quot;: &quot;cluster_03&quot;, &quot;colors&quot;: &quot;#00fff6&quot;}, {&quot;x&quot;: 24, &quot;y&quot;: 5, &quot;v&quot;: &quot;unknown Sutterellaceae [meta_mOTU_v2_7053]&quot;, &quot;Subtypes&quot;: &quot;cluster_03&quot;, &quot;colors&quot;: &quot;#00fff6&quot;}, {&quot;x&quot;: 0, &quot;y&quot;: 6, &quot;v&quot;: &quot;Fusobacterium sp. oral taxon 370 [ref_mOTU_v2_1403]&quot;, &quot;Subtypes&quot;: &quot;cluster_03&quot;, &quot;colors&quot;: &quot;#00fff6&quot;}, {&quot;x&quot;: 1, &quot;y&quot;: 6, &quot;v&quot;: &quot;Prevotella intermedia [ref_mOTU_v2_0515]&quot;, &quot;Subtypes&quot;: &quot;cluster_03&quot;, &quot;colors&quot;: &quot;#00fff6&quot;}, {&quot;x&quot;: 2, &quot;y&quot;: 6, &quot;v&quot;: &quot;Parvimonas sp. [ref_mOTU_v2_5245]&quot;, &quot;Subtypes&quot;: &quot;cluster_03&quot;, &quot;colors&quot;: &quot;#00fff6&quot;}, {&quot;x&quot;: 3, &quot;y&quot;: 6, &quot;v&quot;: &quot;Pyramidobacter piscolens [ref_mOTU_v2_4064]&quot;, &quot;Subtypes&quot;: &quot;cluster_03&quot;, &quot;colors&quot;: &quot;#00fff6&quot;}, {&quot;x&quot;: 6, &quot;y&quot;: 6, &quot;v&quot;: &quot;Bacteroides fragilis/ovatus [ref_mOTU_v2_1073]&quot;, &quot;Subtypes&quot;: &quot;cluster_03&quot;, &quot;colors&quot;: &quot;#00fff6&quot;}, {&quot;x&quot;: 7, &quot;y&quot;: 6, &quot;v&quot;: &quot;unknown Akkermansia [meta_mOTU_v2_7059]&quot;, &quot;Subtypes&quot;: &quot;cluster_03&quot;, &quot;colors&quot;: &quot;#00fff6&quot;}, {&quot;x&quot;: 9, &quot;y&quot;: 6, &quot;v&quot;: &quot;Intestinimonas butyriciproducens [ref_mOTU_v2_2968]&quot;, &quot;Subtypes&quot;: &quot;cluster_03&quot;, &quot;colors&quot;: &quot;#00fff6&quot;}, {&quot;x&quot;: 0, &quot;y&quot;: 7, &quot;v&quot;: &quot;unknown Peptostreptococcaceae [meta_mOTU_v2_5742]&quot;, &quot;Subtypes&quot;: &quot;cluster_03&quot;, &quot;colors&quot;: &quot;#00fff6&quot;}, {&quot;x&quot;: 1, &quot;y&quot;: 7, &quot;v&quot;: &quot;Solobacterium moorei [ref_mOTU_v2_0531]&quot;, &quot;Subtypes&quot;: &quot;cluster_03&quot;, &quot;colors&quot;: &quot;#00fff6&quot;}, {&quot;x&quot;: 2, &quot;y&quot;: 7, &quot;v&quot;: &quot;Fusobacterium nucleatum s. vincentii [ref_mOTU_v2_0754]&quot;, &quot;Subtypes&quot;: &quot;cluster_03&quot;, &quot;colors&quot;: &quot;#00fff6&quot;}, {&quot;x&quot;: 3, &quot;y&quot;: 7, &quot;v&quot;: &quot;Alloprevotella tannerae [ref_mOTU_v2_4636]&quot;, &quot;Subtypes&quot;: &quot;cluster_03&quot;, &quot;colors&quot;: &quot;#00fff6&quot;}, {&quot;x&quot;: 4, &quot;y&quot;: 7, &quot;v&quot;: &quot;Bacteroides thetaiotaomicron [ref_mOTU_v2_0897]&quot;, &quot;Subtypes&quot;: &quot;cluster_03&quot;, &quot;colors&quot;: &quot;#00fff6&quot;}, {&quot;x&quot;: 5, &quot;y&quot;: 7, &quot;v&quot;: &quot;Bacteroides dorei/vulgatus [ref_mOTU_v2_0898]&quot;, &quot;Subtypes&quot;: &quot;cluster_03&quot;, &quot;colors&quot;: &quot;#00fff6&quot;}, {&quot;x&quot;: 6, &quot;y&quot;: 7, &quot;v&quot;: &quot;Bacteroides xylanisolvens [ref_mOTU_v2_1072]&quot;, &quot;Subtypes&quot;: &quot;cluster_03&quot;, &quot;colors&quot;: &quot;#00fff6&quot;}, {&quot;x&quot;: 7, &quot;y&quot;: 7, &quot;v&quot;: &quot;Bacteroidales sp. [ref_mOTU_v2_1074]&quot;, &quot;Subtypes&quot;: &quot;cluster_03&quot;, &quot;colors&quot;: &quot;#00fff6&quot;}, {&quot;x&quot;: 8, &quot;y&quot;: 7, &quot;v&quot;: &quot;unknown Burkholderiales [meta_mOTU_v2_7434]&quot;, &quot;Subtypes&quot;: &quot;cluster_03&quot;, &quot;colors&quot;: &quot;#00fff6&quot;}, {&quot;x&quot;: 9, &quot;y&quot;: 7, &quot;v&quot;: &quot;Bacteroides cellulosilyticus/timonensis [ref_mOTU_v2_0692]&quot;, &quot;Subtypes&quot;: &quot;cluster_03&quot;, &quot;colors&quot;: &quot;#00fff6&quot;}, {&quot;x&quot;: 13, &quot;y&quot;: 7, &quot;v&quot;: &quot;unknown Bacteroidaceae [meta_mOTU_v2_7587]&quot;, &quot;Subtypes&quot;: &quot;cluster_03&quot;, &quot;colors&quot;: &quot;#00fff6&quot;}, {&quot;x&quot;: 0, &quot;y&quot;: 8, &quot;v&quot;: &quot;Parvimonas micra [ref_mOTU_v2_1145]&quot;, &quot;Subtypes&quot;: &quot;cluster_03&quot;, &quot;colors&quot;: &quot;#00fff6&quot;}, {&quot;x&quot;: 1, &quot;y&quot;: 8, &quot;v&quot;: &quot;Fusobacterium nucleatum s. nucleatum [ref_mOTU_v2_0777]&quot;, &quot;Subtypes&quot;: &quot;cluster_03&quot;, &quot;colors&quot;: &quot;#00fff6&quot;}, {&quot;x&quot;: 2, &quot;y&quot;: 8, &quot;v&quot;: &quot;Parvimonas sp. [ref_mOTU_v2_4961]&quot;, &quot;Subtypes&quot;: &quot;cluster_03&quot;, &quot;colors&quot;: &quot;#00fff6&quot;}, {&quot;x&quot;: 4, &quot;y&quot;: 8, &quot;v&quot;: &quot;Phascolarctobacterium sp. [ref_mOTU_v2_2805]&quot;, &quot;Subtypes&quot;: &quot;cluster_03&quot;, &quot;colors&quot;: &quot;#00fff6&quot;}, {&quot;x&quot;: 5, &quot;y&quot;: 8, &quot;v&quot;: &quot;Parabacteroides gordonii [ref_mOTU_v2_2090]&quot;, &quot;Subtypes&quot;: &quot;cluster_03&quot;, &quot;colors&quot;: &quot;#00fff6&quot;}, {&quot;x&quot;: 6, &quot;y&quot;: 8, &quot;v&quot;: &quot;Parabacteroides johnsonii [ref_mOTU_v2_5296]&quot;, &quot;Subtypes&quot;: &quot;cluster_03&quot;, &quot;colors&quot;: &quot;#00fff6&quot;}, {&quot;x&quot;: 7, &quot;y&quot;: 8, &quot;v&quot;: &quot;Bacteroides rodentium/uniformis [ref_mOTU_v2_0899]&quot;, &quot;Subtypes&quot;: &quot;cluster_03&quot;, &quot;colors&quot;: &quot;#00fff6&quot;}, {&quot;x&quot;: 8, &quot;y&quot;: 8, &quot;v&quot;: &quot;Bilophila wadsworthia [ref_mOTU_v2_1149]&quot;, &quot;Subtypes&quot;: &quot;cluster_03&quot;, &quot;colors&quot;: &quot;#00fff6&quot;}, {&quot;x&quot;: 13, &quot;y&quot;: 8, &quot;v&quot;: &quot;Sutterella sp. CAG:351 [meta_mOTU_v2_7614]&quot;, &quot;Subtypes&quot;: &quot;cluster_03&quot;, &quot;colors&quot;: &quot;#00fff6&quot;}, {&quot;x&quot;: 0, &quot;y&quot;: 9, &quot;v&quot;: &quot;Peptostreptococcus stomatis [ref_mOTU_v2_4614]&quot;, &quot;Subtypes&quot;: &quot;cluster_03&quot;, &quot;colors&quot;: &quot;#00fff6&quot;}, {&quot;x&quot;: 1, &quot;y&quot;: 9, &quot;v&quot;: &quot;Gemella morbillorum [ref_mOTU_v2_4513]&quot;, &quot;Subtypes&quot;: &quot;cluster_03&quot;, &quot;colors&quot;: &quot;#00fff6&quot;}, {&quot;x&quot;: 2, &quot;y&quot;: 9, &quot;v&quot;: &quot;Prevotella oris [ref_mOTU_v2_0520]&quot;, &quot;Subtypes&quot;: &quot;cluster_03&quot;, &quot;colors&quot;: &quot;#00fff6&quot;}, {&quot;x&quot;: 3, &quot;y&quot;: 9, &quot;v&quot;: &quot;Bacteroides fragilis [ref_mOTU_v2_0286]&quot;, &quot;Subtypes&quot;: &quot;cluster_03&quot;, &quot;colors&quot;: &quot;#00fff6&quot;}, {&quot;x&quot;: 4, &quot;y&quot;: 9, &quot;v&quot;: &quot;Fusobacterium mortiferum [ref_mOTU_v2_4310]&quot;, &quot;Subtypes&quot;: &quot;cluster_03&quot;, &quot;colors&quot;: &quot;#00fff6&quot;}, {&quot;x&quot;: 5, &quot;y&quot;: 9, &quot;v&quot;: &quot;unknown Synergistaceae [meta_mOTU_v2_6989]&quot;, &quot;Subtypes&quot;: &quot;cluster_03&quot;, &quot;colors&quot;: &quot;#00fff6&quot;}, {&quot;x&quot;: 6, &quot;y&quot;: 9, &quot;v&quot;: &quot;Parabacteroides goldsteinii [ref_mOTU_v2_0901]&quot;, &quot;Subtypes&quot;: &quot;cluster_03&quot;, &quot;colors&quot;: &quot;#00fff6&quot;}, {&quot;x&quot;: 7, &quot;y&quot;: 9, &quot;v&quot;: &quot;Bacteroides nordii [ref_mOTU_v2_0302]&quot;, &quot;Subtypes&quot;: &quot;cluster_03&quot;, &quot;colors&quot;: &quot;#00fff6&quot;}, {&quot;x&quot;: 9, &quot;y&quot;: 9, &quot;v&quot;: &quot;Bacteroides caccae [ref_mOTU_v2_1382]&quot;, &quot;Subtypes&quot;: &quot;cluster_03&quot;, &quot;colors&quot;: &quot;#00fff6&quot;}, {&quot;x&quot;: 3, &quot;y&quot;: 10, &quot;v&quot;: &quot;Klebsiella sp. [ref_mOTU_v2_0160]&quot;, &quot;Subtypes&quot;: &quot;cluster_03&quot;, &quot;colors&quot;: &quot;#00fff6&quot;}, {&quot;x&quot;: 4, &quot;y&quot;: 10, &quot;v&quot;: &quot;unknown Ruminococcaceae [meta_mOTU_v2_6789]&quot;, &quot;Subtypes&quot;: &quot;cluster_03&quot;, &quot;colors&quot;: &quot;#00fff6&quot;}, {&quot;x&quot;: 5, &quot;y&quot;: 10, &quot;v&quot;: &quot;Collinsella tanakaei [ref_mOTU_v2_4884]&quot;, &quot;Subtypes&quot;: &quot;cluster_03&quot;, &quot;colors&quot;: &quot;#00fff6&quot;}, {&quot;x&quot;: 6, &quot;y&quot;: 10, &quot;v&quot;: &quot;Bacteroides intestinalis [ref_mOTU_v2_4321]&quot;, &quot;Subtypes&quot;: &quot;cluster_03&quot;, &quot;colors&quot;: &quot;#00fff6&quot;}, {&quot;x&quot;: 7, &quot;y&quot;: 10, &quot;v&quot;: &quot;Faecalibacterium prausnitzii [meta_mOTU_v2_7154]&quot;, &quot;Subtypes&quot;: &quot;cluster_03&quot;, &quot;colors&quot;: &quot;#00fff6&quot;}, {&quot;x&quot;: 10, &quot;y&quot;: 10, &quot;v&quot;: &quot;Bacteroides finegoldii [ref_mOTU_v2_1409]&quot;, &quot;Subtypes&quot;: &quot;cluster_03&quot;, &quot;colors&quot;: &quot;#00fff6&quot;}, {&quot;x&quot;: 2, &quot;y&quot;: 11, &quot;v&quot;: &quot;Lactobacillus salivarius [ref_mOTU_v2_0125]&quot;, &quot;Subtypes&quot;: &quot;cluster_03&quot;, &quot;colors&quot;: &quot;#00fff6&quot;}, {&quot;x&quot;: 3, &quot;y&quot;: 11, &quot;v&quot;: &quot;unknown Clostridiales [meta_mOTU_v2_5661]&quot;, &quot;Subtypes&quot;: &quot;cluster_03&quot;, &quot;colors&quot;: &quot;#00fff6&quot;}, {&quot;x&quot;: 4, &quot;y&quot;: 11, &quot;v&quot;: &quot;Megasphaera sp. [ref_mOTU_v2_0965]&quot;, &quot;Subtypes&quot;: &quot;cluster_03&quot;, &quot;colors&quot;: &quot;#00fff6&quot;}, {&quot;x&quot;: 5, &quot;y&quot;: 11, &quot;v&quot;: &quot;Megamonas funiformis/rupellensis [ref_mOTU_v2_0502]&quot;, &quot;Subtypes&quot;: &quot;cluster_03&quot;, &quot;colors&quot;: &quot;#00fff6&quot;}, {&quot;x&quot;: 6, &quot;y&quot;: 11, &quot;v&quot;: &quot;Desulfovibrio sp. [ref_mOTU_v2_1394]&quot;, &quot;Subtypes&quot;: &quot;cluster_03&quot;, &quot;colors&quot;: &quot;#00fff6&quot;}, {&quot;x&quot;: 7, &quot;y&quot;: 11, &quot;v&quot;: &quot;Bacteroides stercoris [ref_mOTU_v2_0275]&quot;, &quot;Subtypes&quot;: &quot;cluster_03&quot;, &quot;colors&quot;: &quot;#00fff6&quot;}, {&quot;x&quot;: 8, &quot;y&quot;: 11, &quot;v&quot;: &quot;Parabacteroides merdae [ref_mOTU_v2_1378]&quot;, &quot;Subtypes&quot;: &quot;cluster_03&quot;, &quot;colors&quot;: &quot;#00fff6&quot;}, {&quot;x&quot;: 9, &quot;y&quot;: 11, &quot;v&quot;: &quot;Bacteroides massiliensis [ref_mOTU_v2_0455]&quot;, &quot;Subtypes&quot;: &quot;cluster_03&quot;, &quot;colors&quot;: &quot;#00fff6&quot;}, {&quot;x&quot;: 3, &quot;y&quot;: 12, &quot;v&quot;: &quot;Enterobacteriaceae sp. [ref_mOTU_v2_0036]&quot;, &quot;Subtypes&quot;: &quot;cluster_03&quot;, &quot;colors&quot;: &quot;#00fff6&quot;}, {&quot;x&quot;: 4, &quot;y&quot;: 12, &quot;v&quot;: &quot;Bacteroides coprocola [ref_mOTU_v2_4312]&quot;, &quot;Subtypes&quot;: &quot;cluster_03&quot;, &quot;colors&quot;: &quot;#00fff6&quot;}, {&quot;x&quot;: 5, &quot;y&quot;: 12, &quot;v&quot;: &quot;Dialister sp. CAG:357 [meta_mOTU_v2_6815]&quot;, &quot;Subtypes&quot;: &quot;cluster_03&quot;, &quot;colors&quot;: &quot;#00fff6&quot;}, {&quot;x&quot;: 6, &quot;y&quot;: 12, &quot;v&quot;: &quot;Slackia piriformis [ref_mOTU_v2_4888]&quot;, &quot;Subtypes&quot;: &quot;cluster_03&quot;, &quot;colors&quot;: &quot;#00fff6&quot;}, {&quot;x&quot;: 7, &quot;y&quot;: 12, &quot;v&quot;: &quot;Bacteroides salyersiae [ref_mOTU_v2_0458]&quot;, &quot;Subtypes&quot;: &quot;cluster_03&quot;, &quot;colors&quot;: &quot;#00fff6&quot;}, {&quot;x&quot;: 8, &quot;y&quot;: 12, &quot;v&quot;: &quot;Bacteroides eggerthii [ref_mOTU_v2_1410]&quot;, &quot;Subtypes&quot;: &quot;cluster_03&quot;, &quot;colors&quot;: &quot;#00fff6&quot;}, {&quot;x&quot;: 3, &quot;y&quot;: 13, &quot;v&quot;: &quot;Streptococcus sp. [ref_mOTU_v2_0416]&quot;, &quot;Subtypes&quot;: &quot;cluster_03&quot;, &quot;colors&quot;: &quot;#00fff6&quot;}, {&quot;x&quot;: 4, &quot;y&quot;: 13, &quot;v&quot;: &quot;bacterium OL-1 [ref_mOTU_v2_3607]&quot;, &quot;Subtypes&quot;: &quot;cluster_03&quot;, &quot;colors&quot;: &quot;#00fff6&quot;}, {&quot;x&quot;: 5, &quot;y&quot;: 13, &quot;v&quot;: &quot;Sutterella sp. CAG:351 [meta_mOTU_v2_7305]&quot;, &quot;Subtypes&quot;: &quot;cluster_03&quot;, &quot;colors&quot;: &quot;#00fff6&quot;}, {&quot;x&quot;: 6, &quot;y&quot;: 13, &quot;v&quot;: &quot;Bacteroides plebeius [ref_mOTU_v2_4343]&quot;, &quot;Subtypes&quot;: &quot;cluster_03&quot;, &quot;colors&quot;: &quot;#00fff6&quot;}, {&quot;x&quot;: 3, &quot;y&quot;: 14, &quot;v&quot;: &quot;Streptococcus equinus [ref_mOTU_v2_0793]&quot;, &quot;Subtypes&quot;: &quot;cluster_03&quot;, &quot;colors&quot;: &quot;#00fff6&quot;}, {&quot;x&quot;: 2, &quot;y&quot;: 15, &quot;v&quot;: &quot;Lactobacillus reuteri [ref_mOTU_v2_1076]&quot;, &quot;Subtypes&quot;: &quot;cluster_03&quot;, &quot;colors&quot;: &quot;#00fff6&quot;}, {&quot;x&quot;: 3, &quot;y&quot;: 15, &quot;v&quot;: &quot;Streptococcus sp. [ref_mOTU_v2_0261]&quot;, &quot;Subtypes&quot;: &quot;cluster_03&quot;, &quot;colors&quot;: &quot;#00fff6&quot;}, {&quot;x&quot;: 6, &quot;y&quot;: 15, &quot;v&quot;: &quot;Sutterella wadsworthensis [ref_mOTU_v2_0767]&quot;, &quot;Subtypes&quot;: &quot;cluster_03&quot;, &quot;colors&quot;: &quot;#00fff6&quot;}, {&quot;x&quot;: 9, &quot;y&quot;: 15, &quot;v&quot;: &quot;Eubacterium sp. CAG:202 [meta_mOTU_v2_7449]&quot;, &quot;Subtypes&quot;: &quot;cluster_03&quot;, &quot;colors&quot;: &quot;#00fff6&quot;}, {&quot;x&quot;: 13, &quot;y&quot;: 15, &quot;v&quot;: &quot;unknown Clostridiales [meta_mOTU_v2_6704]&quot;, &quot;Subtypes&quot;: &quot;cluster_03&quot;, &quot;colors&quot;: &quot;#00fff6&quot;}, {&quot;x&quot;: 3, &quot;y&quot;: 16, &quot;v&quot;: &quot;Lactobacillus mucosae [ref_mOTU_v2_0568]&quot;, &quot;Subtypes&quot;: &quot;cluster_03&quot;, &quot;colors&quot;: &quot;#00fff6&quot;}, {&quot;x&quot;: 23, &quot;y&quot;: 18, &quot;v&quot;: &quot;unknown Clostridiales [meta_mOTU_v2_6080]&quot;, &quot;Subtypes&quot;: &quot;cluster_03&quot;, &quot;colors&quot;: &quot;#00fff6&quot;}, {&quot;x&quot;: 6, &quot;y&quot;: 19, &quot;v&quot;: &quot;unknown Clostridiales [meta_mOTU_v2_6916]&quot;, &quot;Subtypes&quot;: &quot;cluster_03&quot;, &quot;colors&quot;: &quot;#00fff6&quot;}, {&quot;x&quot;: 26, &quot;y&quot;: 19, &quot;v&quot;: &quot;unknown Clostridiales [meta_mOTU_v2_6238]&quot;, &quot;Subtypes&quot;: &quot;cluster_03&quot;, &quot;colors&quot;: &quot;#00fff6&quot;}, {&quot;x&quot;: 23, &quot;y&quot;: 20, &quot;v&quot;: &quot;unknown Clostridium [meta_mOTU_v2_7480]&quot;, &quot;Subtypes&quot;: &quot;cluster_03&quot;, &quot;colors&quot;: &quot;#00fff6&quot;}, {&quot;x&quot;: 28, &quot;y&quot;: 20, &quot;v&quot;: &quot;Prevotella sp. CAG:891 [meta_mOTU_v2_5711]&quot;, &quot;Subtypes&quot;: &quot;cluster_03&quot;, &quot;colors&quot;: &quot;#00fff6&quot;}, {&quot;x&quot;: 2, &quot;y&quot;: 21, &quot;v&quot;: &quot;unknown Clostridiales [meta_mOTU_v2_6602]&quot;, &quot;Subtypes&quot;: &quot;cluster_03&quot;, &quot;colors&quot;: &quot;#00fff6&quot;}, {&quot;x&quot;: 7, &quot;y&quot;: 21, &quot;v&quot;: &quot;unknown Clostridiales [meta_mOTU_v2_6407]&quot;, &quot;Subtypes&quot;: &quot;cluster_03&quot;, &quot;colors&quot;: &quot;#00fff6&quot;}, {&quot;x&quot;: 24, &quot;y&quot;: 21, &quot;v&quot;: &quot;Holdemanella biformis [meta_mOTU_v2_6468]&quot;, &quot;Subtypes&quot;: &quot;cluster_03&quot;, &quot;colors&quot;: &quot;#00fff6&quot;}, {&quot;x&quot;: 27, &quot;y&quot;: 21, &quot;v&quot;: &quot;unknown Dehalococcoidales [meta_mOTU_v2_5435]&quot;, &quot;Subtypes&quot;: &quot;cluster_03&quot;, &quot;colors&quot;: &quot;#00fff6&quot;}, {&quot;x&quot;: 1, &quot;y&quot;: 22, &quot;v&quot;: &quot;Bifidobacterium pseudocatenulatum [ref_mOTU_v2_0632]&quot;, &quot;Subtypes&quot;: &quot;cluster_03&quot;, &quot;colors&quot;: &quot;#00fff6&quot;}, {&quot;x&quot;: 16, &quot;y&quot;: 22, &quot;v&quot;: &quot;unknown Roseburia [meta_mOTU_v2_6176]&quot;, &quot;Subtypes&quot;: &quot;cluster_03&quot;, &quot;colors&quot;: &quot;#00fff6&quot;}, {&quot;x&quot;: 24, &quot;y&quot;: 22, &quot;v&quot;: &quot;unknown Bacteroidales [meta_mOTU_v2_6528]&quot;, &quot;Subtypes&quot;: &quot;cluster_03&quot;, &quot;colors&quot;: &quot;#00fff6&quot;}, {&quot;x&quot;: 1, &quot;y&quot;: 23, &quot;v&quot;: &quot;Bifidobacterium catenulatum/kashiwanohense [ref_mOTU_v2_0633]&quot;, &quot;Subtypes&quot;: &quot;cluster_03&quot;, &quot;colors&quot;: &quot;#00fff6&quot;}, {&quot;x&quot;: 19, &quot;y&quot;: 23, &quot;v&quot;: &quot;unknown Clostridiales [meta_mOTU_v2_7066]&quot;, &quot;Subtypes&quot;: &quot;cluster_03&quot;, &quot;colors&quot;: &quot;#00fff6&quot;}, {&quot;x&quot;: 20, &quot;y&quot;: 23, &quot;v&quot;: &quot;Prevotella sp. CAG:279 [meta_mOTU_v2_5405]&quot;, &quot;Subtypes&quot;: &quot;cluster_03&quot;, &quot;colors&quot;: &quot;#00fff6&quot;}, {&quot;x&quot;: 25, &quot;y&quot;: 23, &quot;v&quot;: &quot;Holdemanella biformis [meta_mOTU_v2_7329]&quot;, &quot;Subtypes&quot;: &quot;cluster_03&quot;, &quot;colors&quot;: &quot;#00fff6&quot;}, {&quot;x&quot;: 27, &quot;y&quot;: 23, &quot;v&quot;: &quot;Holdemanella biformis [ref_mOTU_v2_4395]&quot;, &quot;Subtypes&quot;: &quot;cluster_03&quot;, &quot;colors&quot;: &quot;#00fff6&quot;}, {&quot;x&quot;: 1, &quot;y&quot;: 24, &quot;v&quot;: &quot;Blautia wexlerae [ref_mOTU_v2_0466]&quot;, &quot;Subtypes&quot;: &quot;cluster_03&quot;, &quot;colors&quot;: &quot;#00fff6&quot;}, {&quot;x&quot;: 2, &quot;y&quot;: 24, &quot;v&quot;: &quot;unknown Clostridiales [meta_mOTU_v2_7130]&quot;, &quot;Subtypes&quot;: &quot;cluster_03&quot;, &quot;colors&quot;: &quot;#00fff6&quot;}, {&quot;x&quot;: 5, &quot;y&quot;: 24, &quot;v&quot;: &quot;Eubacterium sp. CAG:274 [meta_mOTU_v2_7140]&quot;, &quot;Subtypes&quot;: &quot;cluster_03&quot;, &quot;colors&quot;: &quot;#00fff6&quot;}, {&quot;x&quot;: 16, &quot;y&quot;: 24, &quot;v&quot;: &quot;unknown Bacteria [meta_mOTU_v2_6079]&quot;, &quot;Subtypes&quot;: &quot;cluster_03&quot;, &quot;colors&quot;: &quot;#00fff6&quot;}, {&quot;x&quot;: 18, &quot;y&quot;: 24, &quot;v&quot;: &quot;unknown Alistipes [meta_mOTU_v2_7311]&quot;, &quot;Subtypes&quot;: &quot;cluster_03&quot;, &quot;colors&quot;: &quot;#00fff6&quot;}, {&quot;x&quot;: 20, &quot;y&quot;: 24, &quot;v&quot;: &quot;Bacteroides sp. CAG:462 [meta_mOTU_v2_5709]&quot;, &quot;Subtypes&quot;: &quot;cluster_03&quot;, &quot;colors&quot;: &quot;#00fff6&quot;}, {&quot;x&quot;: 21, &quot;y&quot;: 24, &quot;v&quot;: &quot;unknown Firmicutes [meta_mOTU_v2_7454]&quot;, &quot;Subtypes&quot;: &quot;cluster_03&quot;, &quot;colors&quot;: &quot;#00fff6&quot;}, {&quot;x&quot;: 24, &quot;y&quot;: 24, &quot;v&quot;: &quot;Holdemanella biformis [meta_mOTU_v2_7667]&quot;, &quot;Subtypes&quot;: &quot;cluster_03&quot;, &quot;colors&quot;: &quot;#00fff6&quot;}, {&quot;x&quot;: 26, &quot;y&quot;: 24, &quot;v&quot;: &quot;Holdemanella biformis [meta_mOTU_v2_7589]&quot;, &quot;Subtypes&quot;: &quot;cluster_03&quot;, &quot;colors&quot;: &quot;#00fff6&quot;}, {&quot;x&quot;: 0, &quot;y&quot;: 25, &quot;v&quot;: &quot;Bifidobacterium longum [ref_mOTU_v2_0150]&quot;, &quot;Subtypes&quot;: &quot;cluster_03&quot;, &quot;colors&quot;: &quot;#00fff6&quot;}, {&quot;x&quot;: 1, &quot;y&quot;: 25, &quot;v&quot;: &quot;Anaerostipes hadrus [ref_mOTU_v2_1309]&quot;, &quot;Subtypes&quot;: &quot;cluster_03&quot;, &quot;colors&quot;: &quot;#00fff6&quot;}, {&quot;x&quot;: 13, &quot;y&quot;: 25, &quot;v&quot;: &quot;unknown Eggerthella [meta_mOTU_v2_7512]&quot;, &quot;Subtypes&quot;: &quot;cluster_03&quot;, &quot;colors&quot;: &quot;#00fff6&quot;}, {&quot;x&quot;: 20, &quot;y&quot;: 25, &quot;v&quot;: &quot;unknown Prevotella [meta_mOTU_v2_7203]&quot;, &quot;Subtypes&quot;: &quot;cluster_03&quot;, &quot;colors&quot;: &quot;#00fff6&quot;}, {&quot;x&quot;: 21, &quot;y&quot;: 25, &quot;v&quot;: &quot;unknown Eggerthella [meta_mOTU_v2_7693]&quot;, &quot;Subtypes&quot;: &quot;cluster_03&quot;, &quot;colors&quot;: &quot;#00fff6&quot;}, {&quot;x&quot;: 24, &quot;y&quot;: 25, &quot;v&quot;: &quot;unknown Sutterella [meta_mOTU_v2_7723]&quot;, &quot;Subtypes&quot;: &quot;cluster_03&quot;, &quot;colors&quot;: &quot;#00fff6&quot;}, {&quot;x&quot;: 25, &quot;y&quot;: 25, &quot;v&quot;: &quot;unknown Erysipelotrichaceae [meta_mOTU_v2_7790]&quot;, &quot;Subtypes&quot;: &quot;cluster_03&quot;, &quot;colors&quot;: &quot;#00fff6&quot;}, {&quot;x&quot;: 26, &quot;y&quot;: 25, &quot;v&quot;: &quot;unknown Sutterella [meta_mOTU_v2_5982]&quot;, &quot;Subtypes&quot;: &quot;cluster_03&quot;, &quot;colors&quot;: &quot;#00fff6&quot;}, {&quot;x&quot;: 0, &quot;y&quot;: 26, &quot;v&quot;: &quot;Bifidobacterium adolescentis [ref_mOTU_v2_1156]&quot;, &quot;Subtypes&quot;: &quot;cluster_03&quot;, &quot;colors&quot;: &quot;#00fff6&quot;}, {&quot;x&quot;: 13, &quot;y&quot;: 26, &quot;v&quot;: &quot;unknown Bacteroidales [meta_mOTU_v2_5584]&quot;, &quot;Subtypes&quot;: &quot;cluster_03&quot;, &quot;colors&quot;: &quot;#00fff6&quot;}, {&quot;x&quot;: 16, &quot;y&quot;: 26, &quot;v&quot;: &quot;unknown Prevotella [meta_mOTU_v2_6663]&quot;, &quot;Subtypes&quot;: &quot;cluster_03&quot;, &quot;colors&quot;: &quot;#00fff6&quot;}, {&quot;x&quot;: 18, &quot;y&quot;: 26, &quot;v&quot;: &quot;Succinatimonas hippei [ref_mOTU_v2_4944]&quot;, &quot;Subtypes&quot;: &quot;cluster_03&quot;, &quot;colors&quot;: &quot;#00fff6&quot;}, {&quot;x&quot;: 19, &quot;y&quot;: 26, &quot;v&quot;: &quot;Mitsuokella jalaludinii [ref_mOTU_v2_3339]&quot;, &quot;Subtypes&quot;: &quot;cluster_03&quot;, &quot;colors&quot;: &quot;#00fff6&quot;}, {&quot;x&quot;: 20, &quot;y&quot;: 26, &quot;v&quot;: &quot;unknown Prevotellaceae [meta_mOTU_v2_7319]&quot;, &quot;Subtypes&quot;: &quot;cluster_03&quot;, &quot;colors&quot;: &quot;#00fff6&quot;}, {&quot;x&quot;: 21, &quot;y&quot;: 26, &quot;v&quot;: &quot;Mitsuokella multacida [ref_mOTU_v2_4368]&quot;, &quot;Subtypes&quot;: &quot;cluster_03&quot;, &quot;colors&quot;: &quot;#00fff6&quot;}, {&quot;x&quot;: 22, &quot;y&quot;: 26, &quot;v&quot;: &quot;Succinivibrio dextrinosolvens [meta_mOTU_v2_7277]&quot;, &quot;Subtypes&quot;: &quot;cluster_03&quot;, &quot;colors&quot;: &quot;#00fff6&quot;}, {&quot;x&quot;: 23, &quot;y&quot;: 26, &quot;v&quot;: &quot;unknown Clostridiales [meta_mOTU_v2_6484]&quot;, &quot;Subtypes&quot;: &quot;cluster_03&quot;, &quot;colors&quot;: &quot;#00fff6&quot;}, {&quot;x&quot;: 24, &quot;y&quot;: 26, &quot;v&quot;: &quot;unknown Prevotella [meta_mOTU_v2_7196]&quot;, &quot;Subtypes&quot;: &quot;cluster_03&quot;, &quot;colors&quot;: &quot;#00fff6&quot;}, {&quot;x&quot;: 25, &quot;y&quot;: 26, &quot;v&quot;: &quot;unknown Prevotella [meta_mOTU_v2_5780]&quot;, &quot;Subtypes&quot;: &quot;cluster_03&quot;, &quot;colors&quot;: &quot;#00fff6&quot;}, {&quot;x&quot;: 26, &quot;y&quot;: 26, &quot;v&quot;: &quot;Libanicoccus massiliensis [meta_mOTU_v2_5543]&quot;, &quot;Subtypes&quot;: &quot;cluster_03&quot;, &quot;colors&quot;: &quot;#00fff6&quot;}, {&quot;x&quot;: 27, &quot;y&quot;: 26, &quot;v&quot;: &quot;unknown Atopobiaceae [meta_mOTU_v2_6458]&quot;, &quot;Subtypes&quot;: &quot;cluster_03&quot;, &quot;colors&quot;: &quot;#00fff6&quot;}, {&quot;x&quot;: 28, &quot;y&quot;: 26, &quot;v&quot;: &quot;Clostridium sp. CAG:568 [meta_mOTU_v2_5729]&quot;, &quot;Subtypes&quot;: &quot;cluster_03&quot;, &quot;colors&quot;: &quot;#00fff6&quot;}, {&quot;x&quot;: 14, &quot;y&quot;: 27, &quot;v&quot;: &quot;unknown Desulfovibrio [meta_mOTU_v2_5993]&quot;, &quot;Subtypes&quot;: &quot;cluster_03&quot;, &quot;colors&quot;: &quot;#00fff6&quot;}, {&quot;x&quot;: 15, &quot;y&quot;: 27, &quot;v&quot;: &quot;unknown Veillonellaceae [meta_mOTU_v2_6765]&quot;, &quot;Subtypes&quot;: &quot;cluster_03&quot;, &quot;colors&quot;: &quot;#00fff6&quot;}, {&quot;x&quot;: 16, &quot;y&quot;: 27, &quot;v&quot;: &quot;unknown Prevotella [meta_mOTU_v2_7016]&quot;, &quot;Subtypes&quot;: &quot;cluster_03&quot;, &quot;colors&quot;: &quot;#00fff6&quot;}, {&quot;x&quot;: 17, &quot;y&quot;: 27, &quot;v&quot;: &quot;Megasphaera elsdenii [ref_mOTU_v2_0252]&quot;, &quot;Subtypes&quot;: &quot;cluster_03&quot;, &quot;colors&quot;: &quot;#00fff6&quot;}, {&quot;x&quot;: 18, &quot;y&quot;: 27, &quot;v&quot;: &quot;Acidaminococcus fermentans [ref_mOTU_v2_4591]&quot;, &quot;Subtypes&quot;: &quot;cluster_03&quot;, &quot;colors&quot;: &quot;#00fff6&quot;}, {&quot;x&quot;: 19, &quot;y&quot;: 27, &quot;v&quot;: &quot;unknown Bacteroidales [meta_mOTU_v2_5951]&quot;, &quot;Subtypes&quot;: &quot;cluster_03&quot;, &quot;colors&quot;: &quot;#00fff6&quot;}, {&quot;x&quot;: 21, &quot;y&quot;: 27, &quot;v&quot;: &quot;unknown Prevotella [meta_mOTU_v2_6911]&quot;, &quot;Subtypes&quot;: &quot;cluster_03&quot;, &quot;colors&quot;: &quot;#00fff6&quot;}, {&quot;x&quot;: 22, &quot;y&quot;: 27, &quot;v&quot;: &quot;unknown Prevotellaceae [meta_mOTU_v2_5568]&quot;, &quot;Subtypes&quot;: &quot;cluster_03&quot;, &quot;colors&quot;: &quot;#00fff6&quot;}, {&quot;x&quot;: 23, &quot;y&quot;: 27, &quot;v&quot;: &quot;unknown Prevotella [meta_mOTU_v2_6415]&quot;, &quot;Subtypes&quot;: &quot;cluster_03&quot;, &quot;colors&quot;: &quot;#00fff6&quot;}, {&quot;x&quot;: 24, &quot;y&quot;: 27, &quot;v&quot;: &quot;unknown Prevotella [meta_mOTU_v2_6516]&quot;, &quot;Subtypes&quot;: &quot;cluster_03&quot;, &quot;colors&quot;: &quot;#00fff6&quot;}, {&quot;x&quot;: 25, &quot;y&quot;: 27, &quot;v&quot;: &quot;Prevotella sp. CAG:1092 [meta_mOTU_v2_5903]&quot;, &quot;Subtypes&quot;: &quot;cluster_03&quot;, &quot;colors&quot;: &quot;#00fff6&quot;}, {&quot;x&quot;: 26, &quot;y&quot;: 27, &quot;v&quot;: &quot;Prevotella sp. CAG:279 [meta_mOTU_v2_6938]&quot;, &quot;Subtypes&quot;: &quot;cluster_03&quot;, &quot;colors&quot;: &quot;#00fff6&quot;}, {&quot;x&quot;: 27, &quot;y&quot;: 27, &quot;v&quot;: &quot;unknown Prevotella [meta_mOTU_v2_7342]&quot;, &quot;Subtypes&quot;: &quot;cluster_03&quot;, &quot;colors&quot;: &quot;#00fff6&quot;}, {&quot;x&quot;: 28, &quot;y&quot;: 27, &quot;v&quot;: &quot;Dialister invisus [meta_mOTU_v2_6402]&quot;, &quot;Subtypes&quot;: &quot;cluster_03&quot;, &quot;colors&quot;: &quot;#00fff6&quot;}, {&quot;x&quot;: 15, &quot;y&quot;: 28, &quot;v&quot;: &quot;Bacteroides coprophilus [ref_mOTU_v2_4472]&quot;, &quot;Subtypes&quot;: &quot;cluster_03&quot;, &quot;colors&quot;: &quot;#00fff6&quot;}, {&quot;x&quot;: 16, &quot;y&quot;: 28, &quot;v&quot;: &quot;unknown Veillonellaceae [meta_mOTU_v2_6915]&quot;, &quot;Subtypes&quot;: &quot;cluster_03&quot;, &quot;colors&quot;: &quot;#00fff6&quot;}, {&quot;x&quot;: 18, &quot;y&quot;: 28, &quot;v&quot;: &quot;unknown Dialister [meta_mOTU_v2_5337]&quot;, &quot;Subtypes&quot;: &quot;cluster_03&quot;, &quot;colors&quot;: &quot;#00fff6&quot;}, {&quot;x&quot;: 19, &quot;y&quot;: 28, &quot;v&quot;: &quot;Prevotella stercorea [ref_mOTU_v2_1551]&quot;, &quot;Subtypes&quot;: &quot;cluster_03&quot;, &quot;colors&quot;: &quot;#00fff6&quot;}, {&quot;x&quot;: 20, &quot;y&quot;: 28, &quot;v&quot;: &quot;unknown Prevotella [meta_mOTU_v2_5502]&quot;, &quot;Subtypes&quot;: &quot;cluster_03&quot;, &quot;colors&quot;: &quot;#00fff6&quot;}, {&quot;x&quot;: 21, &quot;y&quot;: 28, &quot;v&quot;: &quot;unknown Prevotella [meta_mOTU_v2_6399]&quot;, &quot;Subtypes&quot;: &quot;cluster_03&quot;, &quot;colors&quot;: &quot;#00fff6&quot;}, {&quot;x&quot;: 22, &quot;y&quot;: 28, &quot;v&quot;: &quot;unknown Prevotella [meta_mOTU_v2_5555]&quot;, &quot;Subtypes&quot;: &quot;cluster_03&quot;, &quot;colors&quot;: &quot;#00fff6&quot;}, {&quot;x&quot;: 23, &quot;y&quot;: 28, &quot;v&quot;: &quot;Prevotella copri [ref_mOTU_v2_4448]&quot;, &quot;Subtypes&quot;: &quot;cluster_03&quot;, &quot;colors&quot;: &quot;#00fff6&quot;}, {&quot;x&quot;: 24, &quot;y&quot;: 28, &quot;v&quot;: &quot;unknown Prevotella [meta_mOTU_v2_6697]&quot;, &quot;Subtypes&quot;: &quot;cluster_03&quot;, &quot;colors&quot;: &quot;#00fff6&quot;}, {&quot;x&quot;: 25, &quot;y&quot;: 28, &quot;v&quot;: &quot;unknown Prevotella [meta_mOTU_v2_7015]&quot;, &quot;Subtypes&quot;: &quot;cluster_03&quot;, &quot;colors&quot;: &quot;#00fff6&quot;}, {&quot;x&quot;: 26, &quot;y&quot;: 28, &quot;v&quot;: &quot;unknown Prevotella [meta_mOTU_v2_6387]&quot;, &quot;Subtypes&quot;: &quot;cluster_03&quot;, &quot;colors&quot;: &quot;#00fff6&quot;}, {&quot;x&quot;: 27, &quot;y&quot;: 28, &quot;v&quot;: &quot;unknown Bacteroidales [meta_mOTU_v2_6502]&quot;, &quot;Subtypes&quot;: &quot;cluster_03&quot;, &quot;colors&quot;: &quot;#00fff6&quot;}, {&quot;x&quot;: 28, &quot;y&quot;: 28, &quot;v&quot;: &quot;unknown Bacteroidales [meta_mOTU_v2_5773]&quot;, &quot;Subtypes&quot;: &quot;cluster_03&quot;, &quot;colors&quot;: &quot;#00fff6&quot;}, {&quot;x&quot;: 0, &quot;y&quot;: 29, &quot;v&quot;: &quot;Ruminococcus bromii [ref_mOTU_v2_4720]&quot;, &quot;Subtypes&quot;: &quot;cluster_03&quot;, &quot;colors&quot;: &quot;#00fff6&quot;}], &quot;type&quot;: &quot;heatmap&quot;, &quot;color&quot;: &quot;#00fff6&quot;, &quot;name&quot;: &quot;cluster_03&quot;}, {&quot;data&quot;: [{&quot;x&quot;: 17, &quot;y&quot;: 0, &quot;v&quot;: &quot;unknown Clostridiales [meta_mOTU_v2_6961]&quot;, &quot;Subtypes&quot;: &quot;cluster_04&quot;, &quot;colors&quot;: &quot;#0010ff&quot;}, {&quot;x&quot;: 18, &quot;y&quot;: 0, &quot;v&quot;: &quot;unknown Lachnospiraceae [meta_mOTU_v2_6615]&quot;, &quot;Subtypes&quot;: &quot;cluster_04&quot;, &quot;colors&quot;: &quot;#0010ff&quot;}, {&quot;x&quot;: 19, &quot;y&quot;: 0, &quot;v&quot;: &quot;unknown Clostridiales [meta_mOTU_v2_6975]&quot;, &quot;Subtypes&quot;: &quot;cluster_04&quot;, &quot;colors&quot;: &quot;#0010ff&quot;}, {&quot;x&quot;: 20, &quot;y&quot;: 0, &quot;v&quot;: &quot;Merdibacter massiliensis [meta_mOTU_v2_6340]&quot;, &quot;Subtypes&quot;: &quot;cluster_04&quot;, &quot;colors&quot;: &quot;#0010ff&quot;}, {&quot;x&quot;: 21, &quot;y&quot;: 0, &quot;v&quot;: &quot;unknown Clostridiaceae [meta_mOTU_v2_5382]&quot;, &quot;Subtypes&quot;: &quot;cluster_04&quot;, &quot;colors&quot;: &quot;#0010ff&quot;}, {&quot;x&quot;: 22, &quot;y&quot;: 0, &quot;v&quot;: &quot;unknown Clostridiales [meta_mOTU_v2_5754]&quot;, &quot;Subtypes&quot;: &quot;cluster_04&quot;, &quot;colors&quot;: &quot;#0010ff&quot;}, {&quot;x&quot;: 23, &quot;y&quot;: 0, &quot;v&quot;: &quot;unknown Clostridiales [meta_mOTU_v2_7200]&quot;, &quot;Subtypes&quot;: &quot;cluster_04&quot;, &quot;colors&quot;: &quot;#0010ff&quot;}, {&quot;x&quot;: 24, &quot;y&quot;: 0, &quot;v&quot;: &quot;unknown Clostridiales [meta_mOTU_v2_5511]&quot;, &quot;Subtypes&quot;: &quot;cluster_04&quot;, &quot;colors&quot;: &quot;#0010ff&quot;}, {&quot;x&quot;: 25, &quot;y&quot;: 0, &quot;v&quot;: &quot;unknown Collinsella [meta_mOTU_v2_6772]&quot;, &quot;Subtypes&quot;: &quot;cluster_04&quot;, &quot;colors&quot;: &quot;#0010ff&quot;}, {&quot;x&quot;: 26, &quot;y&quot;: 0, &quot;v&quot;: &quot;Enorma massiliensis [ref_mOTU_v2_1824]&quot;, &quot;Subtypes&quot;: &quot;cluster_04&quot;, &quot;colors&quot;: &quot;#0010ff&quot;}, {&quot;x&quot;: 27, &quot;y&quot;: 0, &quot;v&quot;: &quot;Bifidobacterium sp. [ref_mOTU_v2_1180]&quot;, &quot;Subtypes&quot;: &quot;cluster_04&quot;, &quot;colors&quot;: &quot;#0010ff&quot;}, {&quot;x&quot;: 28, &quot;y&quot;: 0, &quot;v&quot;: &quot;Faecalicoccus pleomorphus [ref_mOTU_v2_2178]&quot;, &quot;Subtypes&quot;: &quot;cluster_04&quot;, &quot;colors&quot;: &quot;#0010ff&quot;}, {&quot;x&quot;: 15, &quot;y&quot;: 1, &quot;v&quot;: &quot;Clostridiales bacterium VE202-14 [ref_mOTU_v2_2689]&quot;, &quot;Subtypes&quot;: &quot;cluster_04&quot;, &quot;colors&quot;: &quot;#0010ff&quot;}, {&quot;x&quot;: 16, &quot;y&quot;: 1, &quot;v&quot;: &quot;Clostridium saccharolyticum [ref_mOTU_v2_1380]&quot;, &quot;Subtypes&quot;: &quot;cluster_04&quot;, &quot;colors&quot;: &quot;#0010ff&quot;}, {&quot;x&quot;: 17, &quot;y&quot;: 1, &quot;v&quot;: &quot;unknown Massiliomicrobiota [meta_mOTU_v2_7010]&quot;, &quot;Subtypes&quot;: &quot;cluster_04&quot;, &quot;colors&quot;: &quot;#0010ff&quot;}, {&quot;x&quot;: 18, &quot;y&quot;: 1, &quot;v&quot;: &quot;unknown Ruminococcaceae [meta_mOTU_v2_6652]&quot;, &quot;Subtypes&quot;: &quot;cluster_04&quot;, &quot;colors&quot;: &quot;#0010ff&quot;}, {&quot;x&quot;: 19, &quot;y&quot;: 1, &quot;v&quot;: &quot;unknown Ruminococcaceae [meta_mOTU_v2_7593]&quot;, &quot;Subtypes&quot;: &quot;cluster_04&quot;, &quot;colors&quot;: &quot;#0010ff&quot;}, {&quot;x&quot;: 20, &quot;y&quot;: 1, &quot;v&quot;: &quot;unknown Oscillibacter [meta_mOTU_v2_6438]&quot;, &quot;Subtypes&quot;: &quot;cluster_04&quot;, &quot;colors&quot;: &quot;#0010ff&quot;}, {&quot;x&quot;: 21, &quot;y&quot;: 1, &quot;v&quot;: &quot;unknown Clostridiales [meta_mOTU_v2_6022]&quot;, &quot;Subtypes&quot;: &quot;cluster_04&quot;, &quot;colors&quot;: &quot;#0010ff&quot;}, {&quot;x&quot;: 22, &quot;y&quot;: 1, &quot;v&quot;: &quot;unknown Clostridiales [meta_mOTU_v2_6371]&quot;, &quot;Subtypes&quot;: &quot;cluster_04&quot;, &quot;colors&quot;: &quot;#0010ff&quot;}, {&quot;x&quot;: 23, &quot;y&quot;: 1, &quot;v&quot;: &quot;unknown Clostridiales [meta_mOTU_v2_5569]&quot;, &quot;Subtypes&quot;: &quot;cluster_04&quot;, &quot;colors&quot;: &quot;#0010ff&quot;}, {&quot;x&quot;: 24, &quot;y&quot;: 1, &quot;v&quot;: &quot;unknown Clostridiales [meta_mOTU_v2_6259]&quot;, &quot;Subtypes&quot;: &quot;cluster_04&quot;, &quot;colors&quot;: &quot;#0010ff&quot;}, {&quot;x&quot;: 25, &quot;y&quot;: 1, &quot;v&quot;: &quot;unknown Clostridiales [meta_mOTU_v2_6929]&quot;, &quot;Subtypes&quot;: &quot;cluster_04&quot;, &quot;colors&quot;: &quot;#0010ff&quot;}, {&quot;x&quot;: 14, &quot;y&quot;: 2, &quot;v&quot;: &quot;Clostridium spiroforme [ref_mOTU_v2_4235]&quot;, &quot;Subtypes&quot;: &quot;cluster_04&quot;, &quot;colors&quot;: &quot;#0010ff&quot;}, {&quot;x&quot;: 18, &quot;y&quot;: 2, &quot;v&quot;: &quot;unknown Anaeromassilibacillus [meta_mOTU_v2_5656]&quot;, &quot;Subtypes&quot;: &quot;cluster_04&quot;, &quot;colors&quot;: &quot;#0010ff&quot;}, {&quot;x&quot;: 20, &quot;y&quot;: 2, &quot;v&quot;: &quot;unknown Clostridiales [meta_mOTU_v2_7337]&quot;, &quot;Subtypes&quot;: &quot;cluster_04&quot;, &quot;colors&quot;: &quot;#0010ff&quot;}, {&quot;x&quot;: 21, &quot;y&quot;: 2, &quot;v&quot;: &quot;unknown Clostridiales [meta_mOTU_v2_7784]&quot;, &quot;Subtypes&quot;: &quot;cluster_04&quot;, &quot;colors&quot;: &quot;#0010ff&quot;}, {&quot;x&quot;: 23, &quot;y&quot;: 2, &quot;v&quot;: &quot;unknown Clostridiales [meta_mOTU_v2_6791]&quot;, &quot;Subtypes&quot;: &quot;cluster_04&quot;, &quot;colors&quot;: &quot;#0010ff&quot;}, {&quot;x&quot;: 15, &quot;y&quot;: 3, &quot;v&quot;: &quot;unknown Clostridiales [meta_mOTU_v2_5735]&quot;, &quot;Subtypes&quot;: &quot;cluster_04&quot;, &quot;colors&quot;: &quot;#0010ff&quot;}, {&quot;x&quot;: 17, &quot;y&quot;: 3, &quot;v&quot;: &quot;unknown Clostridiales [meta_mOTU_v2_6856]&quot;, &quot;Subtypes&quot;: &quot;cluster_04&quot;, &quot;colors&quot;: &quot;#0010ff&quot;}, {&quot;x&quot;: 18, &quot;y&quot;: 3, &quot;v&quot;: &quot;Ruminococcaceae bacterium D16 [ref_mOTU_v2_4480]&quot;, &quot;Subtypes&quot;: &quot;cluster_04&quot;, &quot;colors&quot;: &quot;#0010ff&quot;}, {&quot;x&quot;: 19, &quot;y&quot;: 3, &quot;v&quot;: &quot;Oscillibacter sp. CAG:155 [meta_mOTU_v2_5868]&quot;, &quot;Subtypes&quot;: &quot;cluster_04&quot;, &quot;colors&quot;: &quot;#0010ff&quot;}, {&quot;x&quot;: 20, &quot;y&quot;: 3, &quot;v&quot;: &quot;unknown Oscillibacter [meta_mOTU_v2_7111]&quot;, &quot;Subtypes&quot;: &quot;cluster_04&quot;, &quot;colors&quot;: &quot;#0010ff&quot;}, {&quot;x&quot;: 21, &quot;y&quot;: 3, &quot;v&quot;: &quot;unknown Clostridiales [meta_mOTU_v2_6054]&quot;, &quot;Subtypes&quot;: &quot;cluster_04&quot;, &quot;colors&quot;: &quot;#0010ff&quot;}, {&quot;x&quot;: 20, &quot;y&quot;: 4, &quot;v&quot;: &quot;unknown Oscillibacter [meta_mOTU_v2_5845]&quot;, &quot;Subtypes&quot;: &quot;cluster_04&quot;, &quot;colors&quot;: &quot;#0010ff&quot;}, {&quot;x&quot;: 22, &quot;y&quot;: 4, &quot;v&quot;: &quot;Faecalitalea cylindroides [ref_mOTU_v2_1470]&quot;, &quot;Subtypes&quot;: &quot;cluster_04&quot;, &quot;colors&quot;: &quot;#0010ff&quot;}, {&quot;x&quot;: 23, &quot;y&quot;: 4, &quot;v&quot;: &quot;unknown Clostridia [meta_mOTU_v2_5344]&quot;, &quot;Subtypes&quot;: &quot;cluster_04&quot;, &quot;colors&quot;: &quot;#0010ff&quot;}, {&quot;x&quot;: 2, &quot;y&quot;: 18, &quot;v&quot;: &quot;Bifidobacterium breve [ref_mOTU_v2_0157]&quot;, &quot;Subtypes&quot;: &quot;cluster_04&quot;, &quot;colors&quot;: &quot;#0010ff&quot;}, {&quot;x&quot;: 6, &quot;y&quot;: 21, &quot;v&quot;: &quot;Dialister invisus [ref_mOTU_v2_4598]&quot;, &quot;Subtypes&quot;: &quot;cluster_04&quot;, &quot;colors&quot;: &quot;#0010ff&quot;}, {&quot;x&quot;: 0, &quot;y&quot;: 24, &quot;v&quot;: &quot;Bifidobacterium bifidum [ref_mOTU_v2_0786]&quot;, &quot;Subtypes&quot;: &quot;cluster_04&quot;, &quot;colors&quot;: &quot;#0010ff&quot;}, {&quot;x&quot;: 11, &quot;y&quot;: 26, &quot;v&quot;: &quot;Lactococcus lactis [ref_mOTU_v2_0371]&quot;, &quot;Subtypes&quot;: &quot;cluster_04&quot;, &quot;colors&quot;: &quot;#0010ff&quot;}, {&quot;x&quot;: 12, &quot;y&quot;: 26, &quot;v&quot;: &quot;Lactococcus lactis [ref_mOTU_v2_0182]&quot;, &quot;Subtypes&quot;: &quot;cluster_04&quot;, &quot;colors&quot;: &quot;#0010ff&quot;}, {&quot;x&quot;: 10, &quot;y&quot;: 27, &quot;v&quot;: &quot;Streptococcus thermophilus [ref_mOTU_v2_0219]&quot;, &quot;Subtypes&quot;: &quot;cluster_04&quot;, &quot;colors&quot;: &quot;#0010ff&quot;}, {&quot;x&quot;: 11, &quot;y&quot;: 27, &quot;v&quot;: &quot;Lactobacillus casei/paracasei [ref_mOTU_v2_0226]&quot;, &quot;Subtypes&quot;: &quot;cluster_04&quot;, &quot;colors&quot;: &quot;#0010ff&quot;}, {&quot;x&quot;: 12, &quot;y&quot;: 27, &quot;v&quot;: &quot;Enterococcus faecalis [ref_mOTU_v2_0116]&quot;, &quot;Subtypes&quot;: &quot;cluster_04&quot;, &quot;colors&quot;: &quot;#0010ff&quot;}, {&quot;x&quot;: 4, &quot;y&quot;: 28, &quot;v&quot;: &quot;unknown Clostridium [meta_mOTU_v2_6741]&quot;, &quot;Subtypes&quot;: &quot;cluster_04&quot;, &quot;colors&quot;: &quot;#0010ff&quot;}, {&quot;x&quot;: 5, &quot;y&quot;: 28, &quot;v&quot;: &quot;Intestinibacter bartlettii [ref_mOTU_v2_4268]&quot;, &quot;Subtypes&quot;: &quot;cluster_04&quot;, &quot;colors&quot;: &quot;#0010ff&quot;}, {&quot;x&quot;: 6, &quot;y&quot;: 28, &quot;v&quot;: &quot;unknown Clostridium [meta_mOTU_v2_5915]&quot;, &quot;Subtypes&quot;: &quot;cluster_04&quot;, &quot;colors&quot;: &quot;#0010ff&quot;}, {&quot;x&quot;: 7, &quot;y&quot;: 28, &quot;v&quot;: &quot;Clostridium paraputrificum [ref_mOTU_v2_2890]&quot;, &quot;Subtypes&quot;: &quot;cluster_04&quot;, &quot;colors&quot;: &quot;#0010ff&quot;}, {&quot;x&quot;: 8, &quot;y&quot;: 28, &quot;v&quot;: &quot;Niameybacter massiliensis [meta_mOTU_v2_7610]&quot;, &quot;Subtypes&quot;: &quot;cluster_04&quot;, &quot;colors&quot;: &quot;#0010ff&quot;}, {&quot;x&quot;: 12, &quot;y&quot;: 28, &quot;v&quot;: &quot;Enterococcus faecium [ref_mOTU_v2_0372]&quot;, &quot;Subtypes&quot;: &quot;cluster_04&quot;, &quot;colors&quot;: &quot;#0010ff&quot;}, {&quot;x&quot;: 13, &quot;y&quot;: 28, &quot;v&quot;: &quot;Enterococcus durans [ref_mOTU_v2_0598]&quot;, &quot;Subtypes&quot;: &quot;cluster_04&quot;, &quot;colors&quot;: &quot;#0010ff&quot;}, {&quot;x&quot;: 1, &quot;y&quot;: 29, &quot;v&quot;: &quot;unknown Peptostreptococcaceae [meta_mOTU_v2_6922]&quot;, &quot;Subtypes&quot;: &quot;cluster_04&quot;, &quot;colors&quot;: &quot;#0010ff&quot;}, {&quot;x&quot;: 2, &quot;y&quot;: 29, &quot;v&quot;: &quot;unknown Clostridium [meta_mOTU_v2_5983]&quot;, &quot;Subtypes&quot;: &quot;cluster_04&quot;, &quot;colors&quot;: &quot;#0010ff&quot;}, {&quot;x&quot;: 3, &quot;y&quot;: 29, &quot;v&quot;: &quot;Clostridium sp. JCC [ref_mOTU_v2_3353]&quot;, &quot;Subtypes&quot;: &quot;cluster_04&quot;, &quot;colors&quot;: &quot;#0010ff&quot;}, {&quot;x&quot;: 4, &quot;y&quot;: 29, &quot;v&quot;: &quot;unknown Clostridiales [meta_mOTU_v2_6885]&quot;, &quot;Subtypes&quot;: &quot;cluster_04&quot;, &quot;colors&quot;: &quot;#0010ff&quot;}, {&quot;x&quot;: 5, &quot;y&quot;: 29, &quot;v&quot;: &quot;unknown Peptostreptococcaceae [meta_mOTU_v2_7331]&quot;, &quot;Subtypes&quot;: &quot;cluster_04&quot;, &quot;colors&quot;: &quot;#0010ff&quot;}, {&quot;x&quot;: 6, &quot;y&quot;: 29, &quot;v&quot;: &quot;unknown Bacilli [meta_mOTU_v2_5934]&quot;, &quot;Subtypes&quot;: &quot;cluster_04&quot;, &quot;colors&quot;: &quot;#0010ff&quot;}, {&quot;x&quot;: 7, &quot;y&quot;: 29, &quot;v&quot;: &quot;Turicibacter sanguinis [ref_mOTU_v2_1493]&quot;, &quot;Subtypes&quot;: &quot;cluster_04&quot;, &quot;colors&quot;: &quot;#0010ff&quot;}], &quot;type&quot;: &quot;heatmap&quot;, &quot;color&quot;: &quot;#0010ff&quot;, &quot;name&quot;: &quot;cluster_04&quot;}, {&quot;data&quot;: [{&quot;x&quot;: 2, &quot;y&quot;: 0, &quot;v&quot;: &quot;Tyzzerella nexilis [ref_mOTU_v2_4366]&quot;, &quot;Subtypes&quot;: &quot;cluster_05&quot;, &quot;colors&quot;: &quot;#ee00ff&quot;}, {&quot;x&quot;: 3, &quot;y&quot;: 0, &quot;v&quot;: &quot;unknown Clostridiales [meta_mOTU_v2_7735]&quot;, &quot;Subtypes&quot;: &quot;cluster_05&quot;, &quot;colors&quot;: &quot;#ee00ff&quot;}, {&quot;x&quot;: 4, &quot;y&quot;: 0, &quot;v&quot;: &quot;Coprococcus sp. [ref_mOTU_v2_0303]&quot;, &quot;Subtypes&quot;: &quot;cluster_05&quot;, &quot;colors&quot;: &quot;#ee00ff&quot;}, {&quot;x&quot;: 5, &quot;y&quot;: 0, &quot;v&quot;: &quot;Blautia hansenii [ref_mOTU_v2_1428]&quot;, &quot;Subtypes&quot;: &quot;cluster_05&quot;, &quot;colors&quot;: &quot;#ee00ff&quot;}, {&quot;x&quot;: 6, &quot;y&quot;: 0, &quot;v&quot;: &quot;unknown Firmicutes [meta_mOTU_v2_6237]&quot;, &quot;Subtypes&quot;: &quot;cluster_05&quot;, &quot;colors&quot;: &quot;#ee00ff&quot;}, {&quot;x&quot;: 7, &quot;y&quot;: 0, &quot;v&quot;: &quot;unknown Clostridiales [meta_mOTU_v2_6647]&quot;, &quot;Subtypes&quot;: &quot;cluster_05&quot;, &quot;colors&quot;: &quot;#ee00ff&quot;}, {&quot;x&quot;: 2, &quot;y&quot;: 1, &quot;v&quot;: &quot;Eggerthella lenta [ref_mOTU_v2_0642]&quot;, &quot;Subtypes&quot;: &quot;cluster_05&quot;, &quot;colors&quot;: &quot;#ee00ff&quot;}, {&quot;x&quot;: 3, &quot;y&quot;: 1, &quot;v&quot;: &quot;Ruminococcus gnavus [ref_mOTU_v2_0280]&quot;, &quot;Subtypes&quot;: &quot;cluster_05&quot;, &quot;colors&quot;: &quot;#ee00ff&quot;}, {&quot;x&quot;: 4, &quot;y&quot;: 1, &quot;v&quot;: &quot;Clostridiales bacterium VE202-09 [ref_mOTU_v2_2688]&quot;, &quot;Subtypes&quot;: &quot;cluster_05&quot;, &quot;colors&quot;: &quot;#ee00ff&quot;}, {&quot;x&quot;: 5, &quot;y&quot;: 1, &quot;v&quot;: &quot;Blautia producta [ref_mOTU_v2_4020]&quot;, &quot;Subtypes&quot;: &quot;cluster_05&quot;, &quot;colors&quot;: &quot;#ee00ff&quot;}, {&quot;x&quot;: 6, &quot;y&quot;: 1, &quot;v&quot;: &quot;unknown Clostridiales [meta_mOTU_v2_6629]&quot;, &quot;Subtypes&quot;: &quot;cluster_05&quot;, &quot;colors&quot;: &quot;#ee00ff&quot;}, {&quot;x&quot;: 7, &quot;y&quot;: 1, &quot;v&quot;: &quot;Butyricicoccus pullicaecorum [ref_mOTU_v2_2510]&quot;, &quot;Subtypes&quot;: &quot;cluster_05&quot;, &quot;colors&quot;: &quot;#ee00ff&quot;}, {&quot;x&quot;: 10, &quot;y&quot;: 1, &quot;v&quot;: &quot;unknown Clostridiales [meta_mOTU_v2_7359]&quot;, &quot;Subtypes&quot;: &quot;cluster_05&quot;, &quot;colors&quot;: &quot;#ee00ff&quot;}, {&quot;x&quot;: 13, &quot;y&quot;: 1, &quot;v&quot;: &quot;unknown Fusobacterium [meta_mOTU_v2_7372]&quot;, &quot;Subtypes&quot;: &quot;cluster_05&quot;, &quot;colors&quot;: &quot;#ee00ff&quot;}, {&quot;x&quot;: 2, &quot;y&quot;: 2, &quot;v&quot;: &quot;Fusobacterium ulcerans [ref_mOTU_v2_1396]&quot;, &quot;Subtypes&quot;: &quot;cluster_05&quot;, &quot;colors&quot;: &quot;#ee00ff&quot;}, {&quot;x&quot;: 3, &quot;y&quot;: 2, &quot;v&quot;: &quot;Clostridium innocuum [ref_mOTU_v2_0643]&quot;, &quot;Subtypes&quot;: &quot;cluster_05&quot;, &quot;colors&quot;: &quot;#ee00ff&quot;}, {&quot;x&quot;: 4, &quot;y&quot;: 2, &quot;v&quot;: &quot;Erysipelotrichaceae sp. [ref_mOTU_v2_0885]&quot;, &quot;Subtypes&quot;: &quot;cluster_05&quot;, &quot;colors&quot;: &quot;#ee00ff&quot;}, {&quot;x&quot;: 5, &quot;y&quot;: 2, &quot;v&quot;: &quot;Blautia producta [ref_mOTU_v2_1889]&quot;, &quot;Subtypes&quot;: &quot;cluster_05&quot;, &quot;colors&quot;: &quot;#ee00ff&quot;}, {&quot;x&quot;: 6, &quot;y&quot;: 2, &quot;v&quot;: &quot;Anaerostipes caccae [ref_mOTU_v2_1381]&quot;, &quot;Subtypes&quot;: &quot;cluster_05&quot;, &quot;colors&quot;: &quot;#ee00ff&quot;}, {&quot;x&quot;: 7, &quot;y&quot;: 2, &quot;v&quot;: &quot;unknown Clostridiales [meta_mOTU_v2_6867]&quot;, &quot;Subtypes&quot;: &quot;cluster_05&quot;, &quot;colors&quot;: &quot;#ee00ff&quot;}, {&quot;x&quot;: 8, &quot;y&quot;: 2, &quot;v&quot;: &quot;unknown Tyzzerella [meta_mOTU_v2_7425]&quot;, &quot;Subtypes&quot;: &quot;cluster_05&quot;, &quot;colors&quot;: &quot;#ee00ff&quot;}, {&quot;x&quot;: 9, &quot;y&quot;: 2, &quot;v&quot;: &quot;unknown Clostridiales [meta_mOTU_v2_7550]&quot;, &quot;Subtypes&quot;: &quot;cluster_05&quot;, &quot;colors&quot;: &quot;#ee00ff&quot;}, {&quot;x&quot;: 10, &quot;y&quot;: 2, &quot;v&quot;: &quot;unknown Clostridiales [meta_mOTU_v2_5466]&quot;, &quot;Subtypes&quot;: &quot;cluster_05&quot;, &quot;colors&quot;: &quot;#ee00ff&quot;}, {&quot;x&quot;: 11, &quot;y&quot;: 2, &quot;v&quot;: &quot;unknown Clostridiales [meta_mOTU_v2_6823]&quot;, &quot;Subtypes&quot;: &quot;cluster_05&quot;, &quot;colors&quot;: &quot;#ee00ff&quot;}, {&quot;x&quot;: 15, &quot;y&quot;: 2, &quot;v&quot;: &quot;unknown Anaeromassilibacillus [meta_mOTU_v2_5357]&quot;, &quot;Subtypes&quot;: &quot;cluster_05&quot;, &quot;colors&quot;: &quot;#ee00ff&quot;}, {&quot;x&quot;: 16, &quot;y&quot;: 2, &quot;v&quot;: &quot;unknown Clostridiales [meta_mOTU_v2_7097]&quot;, &quot;Subtypes&quot;: &quot;cluster_05&quot;, &quot;colors&quot;: &quot;#ee00ff&quot;}, {&quot;x&quot;: 3, &quot;y&quot;: 3, &quot;v&quot;: &quot;Clostridium clostridioforme [ref_mOTU_v2_0980]&quot;, &quot;Subtypes&quot;: &quot;cluster_05&quot;, &quot;colors&quot;: &quot;#ee00ff&quot;}, {&quot;x&quot;: 4, &quot;y&quot;: 3, &quot;v&quot;: &quot;Clostridium clostridioforme [ref_mOTU_v2_0979]&quot;, &quot;Subtypes&quot;: &quot;cluster_05&quot;, &quot;colors&quot;: &quot;#ee00ff&quot;}, {&quot;x&quot;: 6, &quot;y&quot;: 3, &quot;v&quot;: &quot;Clostridium scindens [ref_mOTU_v2_0883]&quot;, &quot;Subtypes&quot;: &quot;cluster_05&quot;, &quot;colors&quot;: &quot;#ee00ff&quot;}, {&quot;x&quot;: 7, &quot;y&quot;: 3, &quot;v&quot;: &quot;unknown Clostridiales [meta_mOTU_v2_7553]&quot;, &quot;Subtypes&quot;: &quot;cluster_05&quot;, &quot;colors&quot;: &quot;#ee00ff&quot;}, {&quot;x&quot;: 8, &quot;y&quot;: 3, &quot;v&quot;: &quot;unknown Clostridiales [meta_mOTU_v2_6105]&quot;, &quot;Subtypes&quot;: &quot;cluster_05&quot;, &quot;colors&quot;: &quot;#ee00ff&quot;}, {&quot;x&quot;: 9, &quot;y&quot;: 3, &quot;v&quot;: &quot;Clostridium sp. KLE 1755 [ref_mOTU_v2_0860]&quot;, &quot;Subtypes&quot;: &quot;cluster_05&quot;, &quot;colors&quot;: &quot;#ee00ff&quot;}, {&quot;x&quot;: 10, &quot;y&quot;: 3, &quot;v&quot;: &quot;Eubacterium sp. [ref_mOTU_v2_1395]&quot;, &quot;Subtypes&quot;: &quot;cluster_05&quot;, &quot;colors&quot;: &quot;#ee00ff&quot;}, {&quot;x&quot;: 3, &quot;y&quot;: 4, &quot;v&quot;: &quot;Coprobacillus sp. [ref_mOTU_v2_1401]&quot;, &quot;Subtypes&quot;: &quot;cluster_05&quot;, &quot;colors&quot;: &quot;#ee00ff&quot;}, {&quot;x&quot;: 4, &quot;y&quot;: 4, &quot;v&quot;: &quot;Clostridium boltae/clostridioforme [ref_mOTU_v2_0886]&quot;, &quot;Subtypes&quot;: &quot;cluster_05&quot;, &quot;colors&quot;: &quot;#ee00ff&quot;}, {&quot;x&quot;: 5, &quot;y&quot;: 4, &quot;v&quot;: &quot;unknown Clostridiales [meta_mOTU_v2_7104]&quot;, &quot;Subtypes&quot;: &quot;cluster_05&quot;, &quot;colors&quot;: &quot;#ee00ff&quot;}, {&quot;x&quot;: 6, &quot;y&quot;: 4, &quot;v&quot;: &quot;unknown Clostridiales [meta_mOTU_v2_6672]&quot;, &quot;Subtypes&quot;: &quot;cluster_05&quot;, &quot;colors&quot;: &quot;#ee00ff&quot;}, {&quot;x&quot;: 7, &quot;y&quot;: 4, &quot;v&quot;: &quot;unknown Clostridiales [meta_mOTU_v2_6891]&quot;, &quot;Subtypes&quot;: &quot;cluster_05&quot;, &quot;colors&quot;: &quot;#ee00ff&quot;}, {&quot;x&quot;: 8, &quot;y&quot;: 4, &quot;v&quot;: &quot;Clostridium asparagiforme [ref_mOTU_v2_4394]&quot;, &quot;Subtypes&quot;: &quot;cluster_05&quot;, &quot;colors&quot;: &quot;#ee00ff&quot;}, {&quot;x&quot;: 9, &quot;y&quot;: 4, &quot;v&quot;: &quot;Anaerotruncus colihominis [ref_mOTU_v2_0884]&quot;, &quot;Subtypes&quot;: &quot;cluster_05&quot;, &quot;colors&quot;: &quot;#ee00ff&quot;}, {&quot;x&quot;: 3, &quot;y&quot;: 5, &quot;v&quot;: &quot;unknown Sutterella [meta_mOTU_v2_5677]&quot;, &quot;Subtypes&quot;: &quot;cluster_05&quot;, &quot;colors&quot;: &quot;#ee00ff&quot;}, {&quot;x&quot;: 4, &quot;y&quot;: 5, &quot;v&quot;: &quot;Hungatella hathewayi [ref_mOTU_v2_0882]&quot;, &quot;Subtypes&quot;: &quot;cluster_05&quot;, &quot;colors&quot;: &quot;#ee00ff&quot;}, {&quot;x&quot;: 5, &quot;y&quot;: 5, &quot;v&quot;: &quot;Flavonifractor plautii [ref_mOTU_v2_1377]&quot;, &quot;Subtypes&quot;: &quot;cluster_05&quot;, &quot;colors&quot;: &quot;#ee00ff&quot;}, {&quot;x&quot;: 6, &quot;y&quot;: 5, &quot;v&quot;: &quot;Clostridium symbiosum [ref_mOTU_v2_1475]&quot;, &quot;Subtypes&quot;: &quot;cluster_05&quot;, &quot;colors&quot;: &quot;#ee00ff&quot;}, {&quot;x&quot;: 7, &quot;y&quot;: 5, &quot;v&quot;: &quot;Dielma fastidiosa [ref_mOTU_v2_0138]&quot;, &quot;Subtypes&quot;: &quot;cluster_05&quot;, &quot;colors&quot;: &quot;#ee00ff&quot;}, {&quot;x&quot;: 8, &quot;y&quot;: 5, &quot;v&quot;: &quot;Holdemania massiliensis [ref_mOTU_v2_2557]&quot;, &quot;Subtypes&quot;: &quot;cluster_05&quot;, &quot;colors&quot;: &quot;#ee00ff&quot;}, {&quot;x&quot;: 9, &quot;y&quot;: 5, &quot;v&quot;: &quot;Subdoligranulum sp. 4_3_54A2FAA [ref_mOTU_v2_4738]&quot;, &quot;Subtypes&quot;: &quot;cluster_05&quot;, &quot;colors&quot;: &quot;#ee00ff&quot;}, {&quot;x&quot;: 10, &quot;y&quot;: 5, &quot;v&quot;: &quot;Lachnospiraceae bacterium 3_1_57FAA_CT1 [ref_mOTU_v2_0887]&quot;, &quot;Subtypes&quot;: &quot;cluster_05&quot;, &quot;colors&quot;: &quot;#ee00ff&quot;}, {&quot;x&quot;: 12, &quot;y&quot;: 5, &quot;v&quot;: &quot;unknown Clostridiales [meta_mOTU_v2_5339]&quot;, &quot;Subtypes&quot;: &quot;cluster_05&quot;, &quot;colors&quot;: &quot;#ee00ff&quot;}, {&quot;x&quot;: 4, &quot;y&quot;: 6, &quot;v&quot;: &quot;Bacteroides fragilis [ref_mOTU_v2_0287]&quot;, &quot;Subtypes&quot;: &quot;cluster_05&quot;, &quot;colors&quot;: &quot;#ee00ff&quot;}, {&quot;x&quot;: 5, &quot;y&quot;: 6, &quot;v&quot;: &quot;Clostridium citroniae [ref_mOTU_v2_4882]&quot;, &quot;Subtypes&quot;: &quot;cluster_05&quot;, &quot;colors&quot;: &quot;#ee00ff&quot;}, {&quot;x&quot;: 8, &quot;y&quot;: 6, &quot;v&quot;: &quot;Ruminococcus torques [ref_mOTU_v2_1376]&quot;, &quot;Subtypes&quot;: &quot;cluster_05&quot;, &quot;colors&quot;: &quot;#ee00ff&quot;}, {&quot;x&quot;: 3, &quot;y&quot;: 8, &quot;v&quot;: &quot;Fusobacterium varium [ref_mOTU_v2_4311]&quot;, &quot;Subtypes&quot;: &quot;cluster_05&quot;, &quot;colors&quot;: &quot;#ee00ff&quot;}, {&quot;x&quot;: 0, &quot;y&quot;: 10, &quot;v&quot;: &quot;Streptococcus constellatus/intermedius [ref_mOTU_v2_0143]&quot;, &quot;Subtypes&quot;: &quot;cluster_05&quot;, &quot;colors&quot;: &quot;#ee00ff&quot;}, {&quot;x&quot;: 1, &quot;y&quot;: 10, &quot;v&quot;: &quot;Mogibacterium timidum [ref_mOTU_v2_1136]&quot;, &quot;Subtypes&quot;: &quot;cluster_05&quot;, &quot;colors&quot;: &quot;#ee00ff&quot;}, {&quot;x&quot;: 2, &quot;y&quot;: 10, &quot;v&quot;: &quot;Streptococcus anginosus [ref_mOTU_v2_0004]&quot;, &quot;Subtypes&quot;: &quot;cluster_05&quot;, &quot;colors&quot;: &quot;#ee00ff&quot;}, {&quot;x&quot;: 0, &quot;y&quot;: 11, &quot;v&quot;: &quot;Streptococcus anginosus [ref_mOTU_v2_0351]&quot;, &quot;Subtypes&quot;: &quot;cluster_05&quot;, &quot;colors&quot;: &quot;#ee00ff&quot;}, {&quot;x&quot;: 1, &quot;y&quot;: 11, &quot;v&quot;: &quot;Streptococcus anginosus [ref_mOTU_v2_0687]&quot;, &quot;Subtypes&quot;: &quot;cluster_05&quot;, &quot;colors&quot;: &quot;#ee00ff&quot;}, {&quot;x&quot;: 0, &quot;y&quot;: 12, &quot;v&quot;: &quot;Streptococcus sp. 2_1_36FAA [ref_mOTU_v2_1399]&quot;, &quot;Subtypes&quot;: &quot;cluster_05&quot;, &quot;colors&quot;: &quot;#ee00ff&quot;}, {&quot;x&quot;: 1, &quot;y&quot;: 12, &quot;v&quot;: &quot;Streptococcus mutans [ref_mOTU_v2_0289]&quot;, &quot;Subtypes&quot;: &quot;cluster_05&quot;, &quot;colors&quot;: &quot;#ee00ff&quot;}, {&quot;x&quot;: 2, &quot;y&quot;: 12, &quot;v&quot;: &quot;Lactobacillus gasseri [ref_mOTU_v2_0725]&quot;, &quot;Subtypes&quot;: &quot;cluster_05&quot;, &quot;colors&quot;: &quot;#ee00ff&quot;}, {&quot;x&quot;: 0, &quot;y&quot;: 13, &quot;v&quot;: &quot;Streptococcus sanguinis [ref_mOTU_v2_0279]&quot;, &quot;Subtypes&quot;: &quot;cluster_05&quot;, &quot;colors&quot;: &quot;#ee00ff&quot;}, {&quot;x&quot;: 1, &quot;y&quot;: 13, &quot;v&quot;: &quot;Streptococcus salivarius [ref_mOTU_v2_0656]&quot;, &quot;Subtypes&quot;: &quot;cluster_05&quot;, &quot;colors&quot;: &quot;#ee00ff&quot;}, {&quot;x&quot;: 2, &quot;y&quot;: 13, &quot;v&quot;: &quot;Lactobacillus fermentum [ref_mOTU_v2_1050]&quot;, &quot;Subtypes&quot;: &quot;cluster_05&quot;, &quot;colors&quot;: &quot;#ee00ff&quot;}, {&quot;x&quot;: 0, &quot;y&quot;: 14, &quot;v&quot;: &quot;Streptococcus oralis [ref_mOTU_v2_0356]&quot;, &quot;Subtypes&quot;: &quot;cluster_05&quot;, &quot;colors&quot;: &quot;#ee00ff&quot;}, {&quot;x&quot;: 1, &quot;y&quot;: 14, &quot;v&quot;: &quot;Streptococcus salivarius [ref_mOTU_v2_0199]&quot;, &quot;Subtypes&quot;: &quot;cluster_05&quot;, &quot;colors&quot;: &quot;#ee00ff&quot;}, {&quot;x&quot;: 2, &quot;y&quot;: 14, &quot;v&quot;: &quot;Bifidobacterium dentium [ref_mOTU_v2_0631]&quot;, &quot;Subtypes&quot;: &quot;cluster_05&quot;, &quot;colors&quot;: &quot;#ee00ff&quot;}, {&quot;x&quot;: 0, &quot;y&quot;: 15, &quot;v&quot;: &quot;unknown Lactobacillales [meta_mOTU_v2_6288]&quot;, &quot;Subtypes&quot;: &quot;cluster_05&quot;, &quot;colors&quot;: &quot;#ee00ff&quot;}, {&quot;x&quot;: 1, &quot;y&quot;: 15, &quot;v&quot;: &quot;Granulicatella adiacens [ref_mOTU_v2_4659]&quot;, &quot;Subtypes&quot;: &quot;cluster_05&quot;, &quot;colors&quot;: &quot;#ee00ff&quot;}, {&quot;x&quot;: 0, &quot;y&quot;: 16, &quot;v&quot;: &quot;Streptococcus australis [ref_mOTU_v2_1524]&quot;, &quot;Subtypes&quot;: &quot;cluster_05&quot;, &quot;colors&quot;: &quot;#ee00ff&quot;}, {&quot;x&quot;: 1, &quot;y&quot;: 16, &quot;v&quot;: &quot;Atopobium parvulum [ref_mOTU_v2_0741]&quot;, &quot;Subtypes&quot;: &quot;cluster_05&quot;, &quot;colors&quot;: &quot;#ee00ff&quot;}, {&quot;x&quot;: 2, &quot;y&quot;: 16, &quot;v&quot;: &quot;Streptococcus vestibularis [ref_mOTU_v2_0198]&quot;, &quot;Subtypes&quot;: &quot;cluster_05&quot;, &quot;colors&quot;: &quot;#ee00ff&quot;}, {&quot;x&quot;: 0, &quot;y&quot;: 17, &quot;v&quot;: &quot;unknown Firmicutes [meta_mOTU_v2_7689]&quot;, &quot;Subtypes&quot;: &quot;cluster_05&quot;, &quot;colors&quot;: &quot;#ee00ff&quot;}, {&quot;x&quot;: 1, &quot;y&quot;: 17, &quot;v&quot;: &quot;Streptococcus parasanguinis [ref_mOTU_v2_0144]&quot;, &quot;Subtypes&quot;: &quot;cluster_05&quot;, &quot;colors&quot;: &quot;#ee00ff&quot;}, {&quot;x&quot;: 2, &quot;y&quot;: 17, &quot;v&quot;: &quot;Streptococcus sp. HSISM1 [ref_mOTU_v2_0145]&quot;, &quot;Subtypes&quot;: &quot;cluster_05&quot;, &quot;colors&quot;: &quot;#ee00ff&quot;}, {&quot;x&quot;: 0, &quot;y&quot;: 18, &quot;v&quot;: &quot;Megasphaera micronuciformis [ref_mOTU_v2_4840]&quot;, &quot;Subtypes&quot;: &quot;cluster_05&quot;, &quot;colors&quot;: &quot;#ee00ff&quot;}, {&quot;x&quot;: 1, &quot;y&quot;: 18, &quot;v&quot;: &quot;unknown Streptococcus [meta_mOTU_v2_5642]&quot;, &quot;Subtypes&quot;: &quot;cluster_05&quot;, &quot;colors&quot;: &quot;#ee00ff&quot;}, {&quot;x&quot;: 0, &quot;y&quot;: 19, &quot;v&quot;: &quot;unknown Veillonella [meta_mOTU_v2_5811]&quot;, &quot;Subtypes&quot;: &quot;cluster_05&quot;, &quot;colors&quot;: &quot;#ee00ff&quot;}, {&quot;x&quot;: 1, &quot;y&quot;: 19, &quot;v&quot;: &quot;Veillonella atypica [ref_mOTU_v2_0561]&quot;, &quot;Subtypes&quot;: &quot;cluster_05&quot;, &quot;colors&quot;: &quot;#ee00ff&quot;}, {&quot;x&quot;: 0, &quot;y&quot;: 20, &quot;v&quot;: &quot;unknown Pasteurellaceae [meta_mOTU_v2_7650]&quot;, &quot;Subtypes&quot;: &quot;cluster_05&quot;, &quot;colors&quot;: &quot;#ee00ff&quot;}, {&quot;x&quot;: 1, &quot;y&quot;: 20, &quot;v&quot;: &quot;Veillonella dispar [ref_mOTU_v2_4469]&quot;, &quot;Subtypes&quot;: &quot;cluster_05&quot;, &quot;colors&quot;: &quot;#ee00ff&quot;}, {&quot;x&quot;: 0, &quot;y&quot;: 21, &quot;v&quot;: &quot;Veillonella parvula [ref_mOTU_v2_1042]&quot;, &quot;Subtypes&quot;: &quot;cluster_05&quot;, &quot;colors&quot;: &quot;#ee00ff&quot;}, {&quot;x&quot;: 1, &quot;y&quot;: 21, &quot;v&quot;: &quot;Haemophilus parainfluenzae [ref_mOTU_v2_0358]&quot;, &quot;Subtypes&quot;: &quot;cluster_05&quot;, &quot;colors&quot;: &quot;#ee00ff&quot;}, {&quot;x&quot;: 0, &quot;y&quot;: 22, &quot;v&quot;: &quot;Veillonella sp. [ref_mOTU_v2_5068]&quot;, &quot;Subtypes&quot;: &quot;cluster_05&quot;, &quot;colors&quot;: &quot;#ee00ff&quot;}, {&quot;x&quot;: 0, &quot;y&quot;: 23, &quot;v&quot;: &quot;unknown Pasteurellaceae [meta_mOTU_v2_6865]&quot;, &quot;Subtypes&quot;: &quot;cluster_05&quot;, &quot;colors&quot;: &quot;#ee00ff&quot;}, {&quot;x&quot;: 7, &quot;y&quot;: 27, &quot;v&quot;: &quot;Clostridium perfringens [ref_mOTU_v2_1117]&quot;, &quot;Subtypes&quot;: &quot;cluster_05&quot;, &quot;colors&quot;: &quot;#ee00ff&quot;}, {&quot;x&quot;: 8, &quot;y&quot;: 27, &quot;v&quot;: &quot;Citrobacter sp. [ref_mOTU_v2_0076]&quot;, &quot;Subtypes&quot;: &quot;cluster_05&quot;, &quot;colors&quot;: &quot;#ee00ff&quot;}, {&quot;x&quot;: 9, &quot;y&quot;: 27, &quot;v&quot;: &quot;Enterobacter sp. [ref_mOTU_v2_0265]&quot;, &quot;Subtypes&quot;: &quot;cluster_05&quot;, &quot;colors&quot;: &quot;#ee00ff&quot;}, {&quot;x&quot;: 9, &quot;y&quot;: 28, &quot;v&quot;: &quot;Clostridium butyricum [ref_mOTU_v2_0978]&quot;, &quot;Subtypes&quot;: &quot;cluster_05&quot;, &quot;colors&quot;: &quot;#ee00ff&quot;}, {&quot;x&quot;: 10, &quot;y&quot;: 28, &quot;v&quot;: &quot;Klebsiella michiganensis/oxytoca [ref_mOTU_v2_0079]&quot;, &quot;Subtypes&quot;: &quot;cluster_05&quot;, &quot;colors&quot;: &quot;#ee00ff&quot;}, {&quot;x&quot;: 11, &quot;y&quot;: 28, &quot;v&quot;: &quot;Enterococcus faecium/hirae [ref_mOTU_v2_0654]&quot;, &quot;Subtypes&quot;: &quot;cluster_05&quot;, &quot;colors&quot;: &quot;#ee00ff&quot;}], &quot;type&quot;: &quot;heatmap&quot;, &quot;color&quot;: &quot;#ee00ff&quot;, &quot;name&quot;: &quot;cluster_05&quot;}, {&quot;data&quot;: [{&quot;x&quot;: 8, &quot;y&quot;: 29, &quot;v&quot;: &quot;NaN-849&quot;, &quot;Subtypes&quot;: &quot;NaN&quot;, &quot;colors&quot;: &quot;#000000&quot;}, {&quot;x&quot;: 9, &quot;y&quot;: 29, &quot;v&quot;: &quot;NaN-850&quot;, &quot;Subtypes&quot;: &quot;NaN&quot;, &quot;colors&quot;: &quot;#000000&quot;}, {&quot;x&quot;: 10, &quot;y&quot;: 29, &quot;v&quot;: &quot;NaN-851&quot;, &quot;Subtypes&quot;: &quot;NaN&quot;, &quot;colors&quot;: &quot;#000000&quot;}, {&quot;x&quot;: 11, &quot;y&quot;: 29, &quot;v&quot;: &quot;NaN-852&quot;, &quot;Subtypes&quot;: &quot;NaN&quot;, &quot;colors&quot;: &quot;#000000&quot;}, {&quot;x&quot;: 12, &quot;y&quot;: 29, &quot;v&quot;: &quot;NaN-853&quot;, &quot;Subtypes&quot;: &quot;NaN&quot;, &quot;colors&quot;: &quot;#000000&quot;}, {&quot;x&quot;: 13, &quot;y&quot;: 29, &quot;v&quot;: &quot;NaN-854&quot;, &quot;Subtypes&quot;: &quot;NaN&quot;, &quot;colors&quot;: &quot;#000000&quot;}, {&quot;x&quot;: 14, &quot;y&quot;: 29, &quot;v&quot;: &quot;NaN-855&quot;, &quot;Subtypes&quot;: &quot;NaN&quot;, &quot;colors&quot;: &quot;#000000&quot;}, {&quot;x&quot;: 15, &quot;y&quot;: 29, &quot;v&quot;: &quot;NaN-856&quot;, &quot;Subtypes&quot;: &quot;NaN&quot;, &quot;colors&quot;: &quot;#000000&quot;}, {&quot;x&quot;: 16, &quot;y&quot;: 29, &quot;v&quot;: &quot;NaN-857&quot;, &quot;Subtypes&quot;: &quot;NaN&quot;, &quot;colors&quot;: &quot;#000000&quot;}, {&quot;x&quot;: 17, &quot;y&quot;: 29, &quot;v&quot;: &quot;NaN-858&quot;, &quot;Subtypes&quot;: &quot;NaN&quot;, &quot;colors&quot;: &quot;#000000&quot;}, {&quot;x&quot;: 18, &quot;y&quot;: 29, &quot;v&quot;: &quot;NaN-859&quot;, &quot;Subtypes&quot;: &quot;NaN&quot;, &quot;colors&quot;: &quot;#000000&quot;}, {&quot;x&quot;: 19, &quot;y&quot;: 29, &quot;v&quot;: &quot;NaN-860&quot;, &quot;Subtypes&quot;: &quot;NaN&quot;, &quot;colors&quot;: &quot;#000000&quot;}, {&quot;x&quot;: 20, &quot;y&quot;: 29, &quot;v&quot;: &quot;NaN-861&quot;, &quot;Subtypes&quot;: &quot;NaN&quot;, &quot;colors&quot;: &quot;#000000&quot;}, {&quot;x&quot;: 21, &quot;y&quot;: 29, &quot;v&quot;: &quot;NaN-862&quot;, &quot;Subtypes&quot;: &quot;NaN&quot;, &quot;colors&quot;: &quot;#000000&quot;}, {&quot;x&quot;: 22, &quot;y&quot;: 29, &quot;v&quot;: &quot;NaN-863&quot;, &quot;Subtypes&quot;: &quot;NaN&quot;, &quot;colors&quot;: &quot;#000000&quot;}, {&quot;x&quot;: 23, &quot;y&quot;: 29, &quot;v&quot;: &quot;NaN-864&quot;, &quot;Subtypes&quot;: &quot;NaN&quot;, &quot;colors&quot;: &quot;#000000&quot;}, {&quot;x&quot;: 24, &quot;y&quot;: 29, &quot;v&quot;: &quot;NaN-865&quot;, &quot;Subtypes&quot;: &quot;NaN&quot;, &quot;colors&quot;: &quot;#000000&quot;}, {&quot;x&quot;: 25, &quot;y&quot;: 29, &quot;v&quot;: &quot;NaN-866&quot;, &quot;Subtypes&quot;: &quot;NaN&quot;, &quot;colors&quot;: &quot;#000000&quot;}, {&quot;x&quot;: 26, &quot;y&quot;: 29, &quot;v&quot;: &quot;NaN-867&quot;, &quot;Subtypes&quot;: &quot;NaN&quot;, &quot;colors&quot;: &quot;#000000&quot;}, {&quot;x&quot;: 27, &quot;y&quot;: 29, &quot;v&quot;: &quot;NaN-868&quot;, &quot;Subtypes&quot;: &quot;NaN&quot;, &quot;colors&quot;: &quot;#000000&quot;}, {&quot;x&quot;: 28, &quot;y&quot;: 29, &quot;v&quot;: &quot;NaN-869&quot;, &quot;Subtypes&quot;: &quot;NaN&quot;, &quot;colors&quot;: &quot;#000000&quot;}], &quot;type&quot;: &quot;heatmap&quot;, &quot;color&quot;: &quot;#000000&quot;, &quot;name&quot;: &quot;NaN&quot;}]; var dataLen = data.length; for (var ix = 0; ix &lt; dataLen; ix++) { chart.addSeries(data[ix]); } }); &lt;/script&gt; &lt;/body&gt; &lt;/html&gt;\" height=850 width=1000></iframe>"
      ],
      "text/plain": [
       "<highcharts.highcharts.highcharts.Highchart at 0x7f61f8f8f390>"
      ]
     },
     "execution_count": 130,
     "metadata": {},
     "output_type": "execute_result"
    }
   ],
   "source": [
    "mp.plot_grid()"
   ]
  },
  {
   "cell_type": "code",
   "execution_count": null,
   "metadata": {},
   "outputs": [],
   "source": []
  },
  {
   "cell_type": "code",
   "execution_count": null,
   "metadata": {},
   "outputs": [],
   "source": []
  },
  {
   "cell_type": "code",
   "execution_count": null,
   "metadata": {},
   "outputs": [],
   "source": []
  },
  {
   "cell_type": "markdown",
   "metadata": {},
   "source": [
    "## 5 countries to countries cross validation"
   ]
  },
  {
   "cell_type": "code",
   "execution_count": 131,
   "metadata": {},
   "outputs": [
    {
     "data": {
      "text/plain": [
       "Country\n",
       "AUS    [114, 115, 116, 117, 118, 119, 120, 121, 122, ...\n",
       "CHI    [223, 224, 225, 226, 227, 228, 229, 230, 231, ...\n",
       "FRA    [0, 1, 2, 3, 4, 5, 6, 7, 8, 9, 10, 11, 12, 13,...\n",
       "GER    [455, 456, 457, 458, 459, 460, 461, 462, 463, ...\n",
       "USA    [351, 352, 353, 354, 355, 356, 357, 358, 359, ...\n",
       "dtype: object"
      ]
     },
     "execution_count": 131,
     "metadata": {},
     "output_type": "execute_result"
    }
   ],
   "source": [
    "country_idx = dfy_all.groupby(['Country']).apply(lambda x:x.index.tolist())\n",
    "country_idx"
   ]
  },
  {
   "cell_type": "code",
   "execution_count": 132,
   "metadata": {},
   "outputs": [],
   "source": [
    "country_names = country_idx.index.tolist()"
   ]
  },
  {
   "cell_type": "code",
   "execution_count": 133,
   "metadata": {
    "tags": []
   },
   "outputs": [
    {
     "name": "stderr",
     "output_type": "stream",
     "text": [
      "100%|#############################################################################################################################################| 109/109 [00:00<00:00, 1357.91it/s]"
     ]
    },
    {
     "name": "stdout",
     "output_type": "stream",
     "text": [
      "MultiClassEstimator(batch_norm=False, batch_size=1, conv1_kernel_size=5,\n",
      "                    dense_avf='relu', dense_layers=[128], dropout=0.0,\n",
      "                    epochs=30, gpuid='1', last_avf='softmax',\n",
      "                    loss='categorical_crossentropy', lr=0.0001, metric='ACC',\n",
      "                    monitor='val_loss', n_inception=2,\n",
      "                    name='AggMap MultiClass Estimator', patience=10000,\n",
      "                    random_state=32, verbose=1)\n"
     ]
    },
    {
     "name": "stderr",
     "output_type": "stream",
     "text": [
      "\n"
     ]
    },
    {
     "name": "stdout",
     "output_type": "stream",
     "text": [
      "4/4 [==============================] - 0s 2ms/step\n",
      "4/4 [==============================] - 0s 1ms/step\n",
      "epoch: 0001, loss: 0.6946 - val_loss: 0.5737; accuracy: 0.6697 - val_accuracy: 0.6697                                                                                                    \n",
      "4/4 [==============================] - 0s 2ms/step\n",
      "4/4 [==============================] - 0s 2ms/step\n",
      "epoch: 0002, loss: 0.6044 - val_loss: 0.4971; accuracy: 0.7431 - val_accuracy: 0.7431                                                                                                    \n",
      "4/4 [==============================] - 0s 2ms/step\n",
      "4/4 [==============================] - 0s 1ms/step\n",
      "epoch: 0003, loss: 0.5207 - val_loss: 0.3993; accuracy: 0.8440 - val_accuracy: 0.8440                                                                                                    \n",
      "4/4 [==============================] - 0s 2ms/step\n",
      "4/4 [==============================] - 0s 2ms/step\n",
      "epoch: 0004, loss: 0.3893 - val_loss: 0.3135; accuracy: 0.8716 - val_accuracy: 0.8716                                                                                                    \n",
      "4/4 [==============================] - 0s 2ms/step\n",
      "4/4 [==============================] - 0s 2ms/step\n",
      "epoch: 0005, loss: 0.3094 - val_loss: 0.2926; accuracy: 0.9450 - val_accuracy: 0.9450                                                                                                    \n",
      "4/4 [==============================] - 0s 2ms/step\n",
      "4/4 [==============================] - 0s 2ms/step\n",
      "epoch: 0006, loss: 0.2736 - val_loss: 0.2089; accuracy: 0.9083 - val_accuracy: 0.9083                                                                                                    \n",
      "4/4 [==============================] - 0s 2ms/step\n",
      "4/4 [==============================] - 0s 2ms/step\n",
      "epoch: 0007, loss: 0.2130 - val_loss: 0.1472; accuracy: 1.0000 - val_accuracy: 1.0000                                                                                                    \n",
      "4/4 [==============================] - 0s 2ms/step\n",
      "4/4 [==============================] - 0s 1ms/step\n",
      "epoch: 0008, loss: 0.1528 - val_loss: 0.1088; accuracy: 1.0000 - val_accuracy: 1.0000                                                                                                    \n",
      "4/4 [==============================] - 0s 2ms/step\n",
      "4/4 [==============================] - 0s 2ms/step\n",
      "epoch: 0009, loss: 0.1339 - val_loss: 0.0893; accuracy: 1.0000 - val_accuracy: 1.0000                                                                                                    \n",
      "4/4 [==============================] - 0s 2ms/step\n",
      "4/4 [==============================] - 0s 2ms/step\n",
      "epoch: 0010, loss: 0.0886 - val_loss: 0.0725; accuracy: 1.0000 - val_accuracy: 1.0000                                                                                                    \n",
      "4/4 [==============================] - 0s 2ms/step\n",
      "4/4 [==============================] - 0s 2ms/step\n",
      "epoch: 0011, loss: 0.0711 - val_loss: 0.1086; accuracy: 1.0000 - val_accuracy: 1.0000                                                                                                    \n",
      "4/4 [==============================] - 0s 2ms/step\n",
      "4/4 [==============================] - 0s 1ms/step\n",
      "epoch: 0012, loss: 0.0623 - val_loss: 0.0364; accuracy: 1.0000 - val_accuracy: 1.0000                                                                                                    \n",
      "4/4 [==============================] - 0s 2ms/step\n",
      "4/4 [==============================] - 0s 2ms/step\n",
      "epoch: 0013, loss: 0.0431 - val_loss: 0.0339; accuracy: 1.0000 - val_accuracy: 1.0000                                                                                                    \n",
      "4/4 [==============================] - 0s 2ms/step\n",
      "4/4 [==============================] - 0s 1ms/step\n",
      "epoch: 0014, loss: 0.0298 - val_loss: 0.0236; accuracy: 1.0000 - val_accuracy: 1.0000                                                                                                    \n",
      "4/4 [==============================] - 0s 2ms/step\n",
      "4/4 [==============================] - 0s 2ms/step\n",
      "epoch: 0015, loss: 0.0235 - val_loss: 0.0215; accuracy: 1.0000 - val_accuracy: 1.0000                                                                                                    \n",
      "4/4 [==============================] - 0s 2ms/step\n",
      "4/4 [==============================] - 0s 1ms/step\n",
      "epoch: 0016, loss: 0.0197 - val_loss: 0.0136; accuracy: 1.0000 - val_accuracy: 1.0000                                                                                                    \n",
      "4/4 [==============================] - 0s 2ms/step\n",
      "4/4 [==============================] - 0s 2ms/step\n",
      "epoch: 0017, loss: 0.0146 - val_loss: 0.0111; accuracy: 1.0000 - val_accuracy: 1.0000                                                                                                    \n",
      "4/4 [==============================] - 0s 2ms/step\n",
      "4/4 [==============================] - 0s 2ms/step\n",
      "epoch: 0018, loss: 0.0123 - val_loss: 0.0091; accuracy: 1.0000 - val_accuracy: 1.0000                                                                                                    \n",
      "4/4 [==============================] - 0s 2ms/step\n",
      "4/4 [==============================] - 0s 2ms/step\n",
      "epoch: 0019, loss: 0.0096 - val_loss: 0.0080; accuracy: 1.0000 - val_accuracy: 1.0000                                                                                                    \n",
      "4/4 [==============================] - 0s 2ms/step\n",
      "4/4 [==============================] - 0s 2ms/step\n",
      "epoch: 0020, loss: 0.0084 - val_loss: 0.0065; accuracy: 1.0000 - val_accuracy: 1.0000                                                                                                    \n",
      "4/4 [==============================] - 0s 2ms/step\n",
      "4/4 [==============================] - 0s 1ms/step\n",
      "epoch: 0021, loss: 0.0065 - val_loss: 0.0056; accuracy: 1.0000 - val_accuracy: 1.0000                                                                                                    \n",
      "4/4 [==============================] - 0s 2ms/step\n",
      "4/4 [==============================] - 0s 1ms/step\n",
      "epoch: 0022, loss: 0.0063 - val_loss: 0.0056; accuracy: 1.0000 - val_accuracy: 1.0000                                                                                                    \n",
      "4/4 [==============================] - 0s 2ms/step\n",
      "4/4 [==============================] - 0s 2ms/step\n",
      "epoch: 0023, loss: 0.0048 - val_loss: 0.0043; accuracy: 1.0000 - val_accuracy: 1.0000                                                                                                    \n",
      "4/4 [==============================] - 0s 2ms/step\n",
      "4/4 [==============================] - 0s 1ms/step\n",
      "epoch: 0024, loss: 0.0040 - val_loss: 0.0035; accuracy: 1.0000 - val_accuracy: 1.0000                                                                                                    \n",
      "4/4 [==============================] - 0s 1ms/step\n",
      "4/4 [==============================] - 0s 2ms/step\n",
      "epoch: 0025, loss: 0.0035 - val_loss: 0.0030; accuracy: 1.0000 - val_accuracy: 1.0000                                                                                                    \n",
      "4/4 [==============================] - 0s 2ms/step\n",
      "4/4 [==============================] - 0s 2ms/step\n",
      "epoch: 0026, loss: 0.0030 - val_loss: 0.0025; accuracy: 1.0000 - val_accuracy: 1.0000                                                                                                    \n",
      "4/4 [==============================] - 0s 2ms/step\n",
      "4/4 [==============================] - 0s 1ms/step\n",
      "epoch: 0027, loss: 0.0026 - val_loss: 0.0025; accuracy: 1.0000 - val_accuracy: 1.0000                                                                                                    \n",
      "4/4 [==============================] - 0s 2ms/step\n",
      "4/4 [==============================] - 0s 2ms/step\n",
      "epoch: 0028, loss: 0.0023 - val_loss: 0.0020; accuracy: 1.0000 - val_accuracy: 1.0000                                                                                                    \n",
      "4/4 [==============================] - 0s 2ms/step\n",
      "4/4 [==============================] - 0s 1ms/step\n",
      "epoch: 0029, loss: 0.0020 - val_loss: 0.0018; accuracy: 1.0000 - val_accuracy: 1.0000                                                                                                    \n",
      "4/4 [==============================] - 0s 2ms/step\n",
      "4/4 [==============================] - 0s 2ms/step\n",
      "epoch: 0030, loss: 0.0019 - val_loss: 0.0016; accuracy: 1.0000 - val_accuracy: 1.0000                                                                                                    \n"
     ]
    },
    {
     "name": "stderr",
     "output_type": "stream",
     "text": [
      "100%|#############################################################################################################################################| 109/109 [00:00<00:00, 1952.81it/s]"
     ]
    },
    {
     "name": "stdout",
     "output_type": "stream",
     "text": [
      "\n",
      " input train and test X shape is (109, 30, 29, 5), (109, 30, 29, 5) \n",
      "4/4 [==============================] - 0s 2ms/step\n",
      "4/4 [==============================] - 0s 2ms/step\n"
     ]
    },
    {
     "name": "stderr",
     "output_type": "stream",
     "text": [
      "\n",
      "100%|#############################################################################################################################################| 128/128 [00:00<00:00, 1934.21it/s]\n"
     ]
    },
    {
     "name": "stdout",
     "output_type": "stream",
     "text": [
      "\n",
      " input train and test X shape is (109, 30, 29, 5), (128, 30, 29, 5) \n",
      "4/4 [==============================] - 0s 2ms/step\n",
      "4/4 [==============================] - 0s 2ms/step\n"
     ]
    },
    {
     "name": "stderr",
     "output_type": "stream",
     "text": [
      "100%|#############################################################################################################################################| 114/114 [00:00<00:00, 1288.01it/s]"
     ]
    },
    {
     "name": "stdout",
     "output_type": "stream",
     "text": [
      "\n",
      " input train and test X shape is (109, 30, 29, 5), (114, 30, 29, 5) \n",
      "4/4 [==============================] - 0s 2ms/step\n"
     ]
    },
    {
     "name": "stderr",
     "output_type": "stream",
     "text": [
      "\n"
     ]
    },
    {
     "name": "stdout",
     "output_type": "stream",
     "text": [
      "4/4 [==============================] - 0s 1ms/step\n"
     ]
    },
    {
     "name": "stderr",
     "output_type": "stream",
     "text": [
      "100%|#############################################################################################################################################| 120/120 [00:00<00:00, 2102.25it/s]\n"
     ]
    },
    {
     "name": "stdout",
     "output_type": "stream",
     "text": [
      "\n",
      " input train and test X shape is (109, 30, 29, 5), (120, 30, 29, 5) \n",
      "4/4 [==============================] - 0s 2ms/step\n",
      "4/4 [==============================] - 0s 2ms/step\n"
     ]
    },
    {
     "name": "stderr",
     "output_type": "stream",
     "text": [
      "100%|#############################################################################################################################################| 104/104 [00:00<00:00, 1660.62it/s]\n"
     ]
    },
    {
     "name": "stdout",
     "output_type": "stream",
     "text": [
      "\n",
      " input train and test X shape is (109, 30, 29, 5), (104, 30, 29, 5) \n",
      "4/4 [==============================] - 0s 2ms/step\n",
      "4/4 [==============================] - 0s 1ms/step\n"
     ]
    },
    {
     "name": "stderr",
     "output_type": "stream",
     "text": [
      "100%|#############################################################################################################################################| 128/128 [00:00<00:00, 2213.25it/s]\n"
     ]
    },
    {
     "name": "stdout",
     "output_type": "stream",
     "text": [
      "MultiClassEstimator(batch_norm=False, batch_size=1, conv1_kernel_size=5,\n",
      "                    dense_avf='relu', dense_layers=[128], dropout=0.0,\n",
      "                    epochs=30, gpuid='1', last_avf='softmax',\n",
      "                    loss='categorical_crossentropy', lr=0.0001, metric='ACC',\n",
      "                    monitor='val_loss', n_inception=2,\n",
      "                    name='AggMap MultiClass Estimator', patience=10000,\n",
      "                    random_state=32, verbose=1)\n",
      "4/4 [==============================] - 0s 2ms/step\n",
      "4/4 [==============================] - 0s 2ms/step\n",
      "epoch: 0001, loss: 0.7063 - val_loss: 0.6524; accuracy: 0.5781 - val_accuracy: 0.5781                                                                                                    \n",
      "4/4 [==============================] - 0s 2ms/step\n",
      "4/4 [==============================] - 0s 2ms/step\n",
      "epoch: 0002, loss: 0.6208 - val_loss: 0.6286; accuracy: 0.5781 - val_accuracy: 0.5781                                                                                                    \n",
      "4/4 [==============================] - 0s 2ms/step\n",
      "4/4 [==============================] - 0s 2ms/step\n",
      "epoch: 0003, loss: 0.5509 - val_loss: 0.4495; accuracy: 0.8906 - val_accuracy: 0.8906                                                                                                    \n",
      "4/4 [==============================] - 0s 2ms/step\n",
      "4/4 [==============================] - 0s 2ms/step\n",
      "epoch: 0004, loss: 0.4826 - val_loss: 0.3806; accuracy: 0.9219 - val_accuracy: 0.9219                                                                                                    \n",
      "4/4 [==============================] - 0s 2ms/step\n",
      "4/4 [==============================] - 0s 2ms/step\n",
      "epoch: 0005, loss: 0.4154 - val_loss: 0.3723; accuracy: 0.8750 - val_accuracy: 0.8750                                                                                                    \n",
      "4/4 [==============================] - 0s 2ms/step\n",
      "4/4 [==============================] - 0s 2ms/step\n",
      "epoch: 0006, loss: 0.3433 - val_loss: 0.2905; accuracy: 0.9531 - val_accuracy: 0.9531                                                                                                    \n",
      "4/4 [==============================] - 0s 2ms/step\n",
      "4/4 [==============================] - 0s 2ms/step\n",
      "epoch: 0007, loss: 0.2973 - val_loss: 0.2342; accuracy: 0.9531 - val_accuracy: 0.9531                                                                                                    \n",
      "4/4 [==============================] - 0s 2ms/step\n",
      "4/4 [==============================] - 0s 2ms/step\n",
      "epoch: 0008, loss: 0.2914 - val_loss: 0.1944; accuracy: 0.9609 - val_accuracy: 0.9609                                                                                                    \n",
      "4/4 [==============================] - 0s 2ms/step\n",
      "4/4 [==============================] - 0s 2ms/step\n",
      "epoch: 0009, loss: 0.2045 - val_loss: 0.1513; accuracy: 0.9766 - val_accuracy: 0.9766                                                                                                    \n",
      "4/4 [==============================] - 0s 2ms/step\n",
      "4/4 [==============================] - 0s 2ms/step\n",
      "epoch: 0010, loss: 0.1551 - val_loss: 0.1161; accuracy: 0.9922 - val_accuracy: 0.9922                                                                                                    \n",
      "4/4 [==============================] - 0s 4ms/step\n",
      "4/4 [==============================] - 0s 2ms/step\n",
      "epoch: 0011, loss: 0.1301 - val_loss: 0.0866; accuracy: 1.0000 - val_accuracy: 1.0000                                                                                                    \n",
      "4/4 [==============================] - 0s 2ms/step\n",
      "4/4 [==============================] - 0s 2ms/step\n",
      "epoch: 0012, loss: 0.1203 - val_loss: 0.0717; accuracy: 1.0000 - val_accuracy: 1.0000                                                                                                    \n",
      "4/4 [==============================] - 0s 2ms/step\n",
      "4/4 [==============================] - 0s 2ms/step\n",
      "epoch: 0013, loss: 0.0758 - val_loss: 0.0509; accuracy: 1.0000 - val_accuracy: 1.0000                                                                                                    \n",
      "4/4 [==============================] - 0s 2ms/step\n",
      "4/4 [==============================] - 0s 2ms/step\n",
      "epoch: 0014, loss: 0.0509 - val_loss: 0.0378; accuracy: 1.0000 - val_accuracy: 1.0000                                                                                                    \n",
      "4/4 [==============================] - 0s 2ms/step\n",
      "4/4 [==============================] - 0s 2ms/step\n",
      "epoch: 0015, loss: 0.0350 - val_loss: 0.0251; accuracy: 1.0000 - val_accuracy: 1.0000                                                                                                    \n",
      "4/4 [==============================] - 0s 2ms/step\n",
      "4/4 [==============================] - 0s 2ms/step\n",
      "epoch: 0016, loss: 0.0256 - val_loss: 0.0205; accuracy: 1.0000 - val_accuracy: 1.0000                                                                                                    \n",
      "4/4 [==============================] - 0s 2ms/step\n",
      "4/4 [==============================] - 0s 2ms/step\n",
      "epoch: 0017, loss: 0.0238 - val_loss: 0.0176; accuracy: 1.0000 - val_accuracy: 1.0000                                                                                                    \n",
      "4/4 [==============================] - 0s 2ms/step\n",
      "4/4 [==============================] - 0s 2ms/step\n",
      "epoch: 0018, loss: 0.0163 - val_loss: 0.0123; accuracy: 1.0000 - val_accuracy: 1.0000                                                                                                    \n",
      "4/4 [==============================] - 0s 2ms/step\n",
      "4/4 [==============================] - 0s 2ms/step\n",
      "epoch: 0019, loss: 0.0151 - val_loss: 0.0097; accuracy: 1.0000 - val_accuracy: 1.0000                                                                                                    \n",
      "4/4 [==============================] - 0s 2ms/step\n",
      "4/4 [==============================] - 0s 1ms/step\n",
      "epoch: 0020, loss: 0.0102 - val_loss: 0.0085; accuracy: 1.0000 - val_accuracy: 1.0000                                                                                                    \n",
      "4/4 [==============================] - 0s 2ms/step\n",
      "4/4 [==============================] - 0s 2ms/step\n",
      "epoch: 0021, loss: 0.0083 - val_loss: 0.0064; accuracy: 1.0000 - val_accuracy: 1.0000                                                                                                    \n",
      "4/4 [==============================] - 0s 2ms/step\n",
      "4/4 [==============================] - 0s 2ms/step\n",
      "epoch: 0022, loss: 0.0065 - val_loss: 0.0053; accuracy: 1.0000 - val_accuracy: 1.0000                                                                                                    \n",
      "4/4 [==============================] - 0s 2ms/step\n",
      "4/4 [==============================] - 0s 2ms/step\n",
      "epoch: 0023, loss: 0.0058 - val_loss: 0.0062; accuracy: 1.0000 - val_accuracy: 1.0000                                                                                                    \n",
      "4/4 [==============================] - 0s 2ms/step\n",
      "4/4 [==============================] - 0s 2ms/step\n",
      "epoch: 0024, loss: 0.0051 - val_loss: 0.0044; accuracy: 1.0000 - val_accuracy: 1.0000                                                                                                    \n",
      "4/4 [==============================] - 0s 2ms/step\n",
      "4/4 [==============================] - 0s 2ms/step\n",
      "epoch: 0025, loss: 0.0040 - val_loss: 0.0033; accuracy: 1.0000 - val_accuracy: 1.0000                                                                                                    \n",
      "4/4 [==============================] - 0s 2ms/step\n",
      "4/4 [==============================] - 0s 2ms/step\n",
      "epoch: 0026, loss: 0.0038 - val_loss: 0.0033; accuracy: 1.0000 - val_accuracy: 1.0000                                                                                                    \n",
      "4/4 [==============================] - 0s 2ms/step\n",
      "4/4 [==============================] - 0s 2ms/step\n",
      "epoch: 0027, loss: 0.0029 - val_loss: 0.0025; accuracy: 1.0000 - val_accuracy: 1.0000                                                                                                    \n",
      "4/4 [==============================] - 0s 2ms/step\n",
      "4/4 [==============================] - 0s 2ms/step\n",
      "epoch: 0028, loss: 0.0026 - val_loss: 0.0022; accuracy: 1.0000 - val_accuracy: 1.0000                                                                                                    \n",
      "4/4 [==============================] - 0s 2ms/step\n",
      "4/4 [==============================] - 0s 2ms/step\n",
      "epoch: 0029, loss: 0.0023 - val_loss: 0.0021; accuracy: 1.0000 - val_accuracy: 1.0000                                                                                                    \n",
      "4/4 [==============================] - 0s 2ms/step\n",
      "4/4 [==============================] - 0s 2ms/step\n",
      "epoch: 0030, loss: 0.0020 - val_loss: 0.0016; accuracy: 1.0000 - val_accuracy: 1.0000                                                                                                    \n"
     ]
    },
    {
     "name": "stderr",
     "output_type": "stream",
     "text": [
      "100%|#############################################################################################################################################| 109/109 [00:00<00:00, 2247.43it/s]"
     ]
    },
    {
     "name": "stdout",
     "output_type": "stream",
     "text": [
      "\n",
      " input train and test X shape is (128, 30, 29, 5), (109, 30, 29, 5) \n",
      "4/4 [==============================] - 0s 2ms/step\n"
     ]
    },
    {
     "name": "stderr",
     "output_type": "stream",
     "text": [
      "\n"
     ]
    },
    {
     "name": "stdout",
     "output_type": "stream",
     "text": [
      "4/4 [==============================] - 0s 2ms/step\n"
     ]
    },
    {
     "name": "stderr",
     "output_type": "stream",
     "text": [
      "100%|#############################################################################################################################################| 128/128 [00:00<00:00, 1992.76it/s]"
     ]
    },
    {
     "name": "stdout",
     "output_type": "stream",
     "text": [
      "\n",
      " input train and test X shape is (128, 30, 29, 5), (128, 30, 29, 5) \n",
      "4/4 [==============================] - 0s 2ms/step\n",
      "1/4 [======>.......................] - ETA: 0s"
     ]
    },
    {
     "name": "stderr",
     "output_type": "stream",
     "text": [
      "\n"
     ]
    },
    {
     "name": "stdout",
     "output_type": "stream",
     "text": [
      "4/4 [==============================] - 0s 2ms/step\n"
     ]
    },
    {
     "name": "stderr",
     "output_type": "stream",
     "text": [
      "100%|#############################################################################################################################################| 114/114 [00:00<00:00, 1889.68it/s]\n"
     ]
    },
    {
     "name": "stdout",
     "output_type": "stream",
     "text": [
      "\n",
      " input train and test X shape is (128, 30, 29, 5), (114, 30, 29, 5) \n",
      "4/4 [==============================] - 0s 2ms/step\n",
      "4/4 [==============================] - 0s 1ms/step\n"
     ]
    },
    {
     "name": "stderr",
     "output_type": "stream",
     "text": [
      "100%|#############################################################################################################################################| 120/120 [00:00<00:00, 2081.17it/s]\n"
     ]
    },
    {
     "name": "stdout",
     "output_type": "stream",
     "text": [
      "\n",
      " input train and test X shape is (128, 30, 29, 5), (120, 30, 29, 5) \n",
      "4/4 [==============================] - 0s 2ms/step\n",
      "4/4 [==============================] - 0s 2ms/step\n"
     ]
    },
    {
     "name": "stderr",
     "output_type": "stream",
     "text": [
      "100%|##############################################################################################################################################| 104/104 [00:00<00:00, 837.65it/s]"
     ]
    },
    {
     "name": "stdout",
     "output_type": "stream",
     "text": [
      "\n",
      " input train and test X shape is (128, 30, 29, 5), (104, 30, 29, 5) \n",
      "4/4 [==============================] - 0s 2ms/step\n"
     ]
    },
    {
     "name": "stderr",
     "output_type": "stream",
     "text": [
      "\n"
     ]
    },
    {
     "name": "stdout",
     "output_type": "stream",
     "text": [
      "4/4 [==============================] - 0s 2ms/step\n"
     ]
    },
    {
     "name": "stderr",
     "output_type": "stream",
     "text": [
      "100%|#############################################################################################################################################| 114/114 [00:00<00:00, 1685.43it/s]\n"
     ]
    },
    {
     "name": "stdout",
     "output_type": "stream",
     "text": [
      "MultiClassEstimator(batch_norm=False, batch_size=1, conv1_kernel_size=5,\n",
      "                    dense_avf='relu', dense_layers=[128], dropout=0.0,\n",
      "                    epochs=30, gpuid='1', last_avf='softmax',\n",
      "                    loss='categorical_crossentropy', lr=0.0001, metric='ACC',\n",
      "                    monitor='val_loss', n_inception=2,\n",
      "                    name='AggMap MultiClass Estimator', patience=10000,\n",
      "                    random_state=32, verbose=1)\n",
      "4/4 [==============================] - 0s 2ms/step\n",
      "4/4 [==============================] - 0s 2ms/step\n",
      "epoch: 0001, loss: 0.7493 - val_loss: 0.6426; accuracy: 0.5351 - val_accuracy: 0.5351                                                                                                    \n",
      "4/4 [==============================] - 0s 2ms/step\n",
      "4/4 [==============================] - 0s 2ms/step\n",
      "epoch: 0002, loss: 0.6483 - val_loss: 0.6655; accuracy: 0.4649 - val_accuracy: 0.4649                                                                                                    \n",
      "4/4 [==============================] - 0s 2ms/step\n",
      "4/4 [==============================] - 0s 2ms/step\n",
      "epoch: 0003, loss: 0.6170 - val_loss: 0.5895; accuracy: 0.5088 - val_accuracy: 0.5088                                                                                                    \n",
      "4/4 [==============================] - 0s 2ms/step\n",
      "4/4 [==============================] - 0s 2ms/step\n",
      "epoch: 0004, loss: 0.5482 - val_loss: 0.4403; accuracy: 0.9474 - val_accuracy: 0.9474                                                                                                    \n",
      "4/4 [==============================] - 0s 2ms/step\n",
      "4/4 [==============================] - 0s 2ms/step\n",
      "epoch: 0005, loss: 0.4622 - val_loss: 0.4630; accuracy: 0.7368 - val_accuracy: 0.7368                                                                                                    \n",
      "4/4 [==============================] - 0s 2ms/step\n",
      "4/4 [==============================] - 0s 2ms/step\n",
      "epoch: 0006, loss: 0.4229 - val_loss: 0.3164; accuracy: 0.9825 - val_accuracy: 0.9825                                                                                                    \n",
      "4/4 [==============================] - 0s 2ms/step\n",
      "4/4 [==============================] - 0s 2ms/step\n",
      "epoch: 0007, loss: 0.3263 - val_loss: 0.2674; accuracy: 0.9561 - val_accuracy: 0.9561                                                                                                    \n",
      "4/4 [==============================] - 0s 2ms/step\n",
      "4/4 [==============================] - 0s 2ms/step\n",
      "epoch: 0008, loss: 0.2879 - val_loss: 0.2153; accuracy: 0.9737 - val_accuracy: 0.9737                                                                                                    \n",
      "4/4 [==============================] - 0s 2ms/step\n",
      "4/4 [==============================] - 0s 2ms/step\n",
      "epoch: 0009, loss: 0.2065 - val_loss: 0.1527; accuracy: 1.0000 - val_accuracy: 1.0000                                                                                                    \n",
      "4/4 [==============================] - 0s 2ms/step\n",
      "4/4 [==============================] - 0s 2ms/step\n",
      "epoch: 0010, loss: 0.1971 - val_loss: 0.1170; accuracy: 1.0000 - val_accuracy: 1.0000                                                                                                    \n",
      "4/4 [==============================] - 0s 2ms/step\n",
      "4/4 [==============================] - 0s 2ms/step\n",
      "epoch: 0011, loss: 0.1432 - val_loss: 0.3243; accuracy: 0.8684 - val_accuracy: 0.8684                                                                                                    \n",
      "4/4 [==============================] - 0s 2ms/step\n",
      "4/4 [==============================] - 0s 2ms/step\n",
      "epoch: 0012, loss: 0.1168 - val_loss: 0.0911; accuracy: 0.9912 - val_accuracy: 0.9912                                                                                                    \n",
      "4/4 [==============================] - 0s 2ms/step\n",
      "4/4 [==============================] - 0s 2ms/step\n",
      "epoch: 0013, loss: 0.0736 - val_loss: 0.0674; accuracy: 1.0000 - val_accuracy: 1.0000                                                                                                    \n",
      "4/4 [==============================] - 0s 2ms/step\n",
      "4/4 [==============================] - 0s 2ms/step\n",
      "epoch: 0014, loss: 0.0573 - val_loss: 0.0396; accuracy: 1.0000 - val_accuracy: 1.0000                                                                                                    \n",
      "4/4 [==============================] - 0s 2ms/step\n",
      "4/4 [==============================] - 0s 2ms/step\n",
      "epoch: 0015, loss: 0.0414 - val_loss: 0.0293; accuracy: 1.0000 - val_accuracy: 1.0000                                                                                                    \n",
      "4/4 [==============================] - 0s 2ms/step\n",
      "4/4 [==============================] - 0s 2ms/step\n",
      "epoch: 0016, loss: 0.0312 - val_loss: 0.0230; accuracy: 1.0000 - val_accuracy: 1.0000                                                                                                    \n",
      "4/4 [==============================] - 0s 2ms/step\n",
      "4/4 [==============================] - 0s 2ms/step\n",
      "epoch: 0017, loss: 0.0261 - val_loss: 0.0254; accuracy: 1.0000 - val_accuracy: 1.0000                                                                                                    \n",
      "4/4 [==============================] - 0s 2ms/step\n",
      "4/4 [==============================] - 0s 2ms/step\n",
      "epoch: 0018, loss: 0.0204 - val_loss: 0.0143; accuracy: 1.0000 - val_accuracy: 1.0000                                                                                                    \n",
      "4/4 [==============================] - 0s 2ms/step\n",
      "4/4 [==============================] - 0s 2ms/step\n",
      "epoch: 0019, loss: 0.0146 - val_loss: 0.0115; accuracy: 1.0000 - val_accuracy: 1.0000                                                                                                    \n",
      "4/4 [==============================] - 0s 2ms/step\n",
      "4/4 [==============================] - 0s 1ms/step\n",
      "epoch: 0020, loss: 0.0116 - val_loss: 0.0100; accuracy: 1.0000 - val_accuracy: 1.0000                                                                                                    \n",
      "4/4 [==============================] - 0s 2ms/step\n",
      "4/4 [==============================] - 0s 2ms/step\n",
      "epoch: 0021, loss: 0.0099 - val_loss: 0.0096; accuracy: 1.0000 - val_accuracy: 1.0000                                                                                                    \n",
      "4/4 [==============================] - 0s 2ms/step\n",
      "4/4 [==============================] - 0s 2ms/step\n",
      "epoch: 0022, loss: 0.0086 - val_loss: 0.0067; accuracy: 1.0000 - val_accuracy: 1.0000                                                                                                    \n",
      "4/4 [==============================] - 0s 2ms/step\n",
      "4/4 [==============================] - 0s 2ms/step\n",
      "epoch: 0023, loss: 0.0071 - val_loss: 0.0057; accuracy: 1.0000 - val_accuracy: 1.0000                                                                                                    \n",
      "4/4 [==============================] - 0s 2ms/step\n",
      "4/4 [==============================] - 0s 2ms/step\n",
      "epoch: 0024, loss: 0.0059 - val_loss: 0.0048; accuracy: 1.0000 - val_accuracy: 1.0000                                                                                                    \n",
      "4/4 [==============================] - 0s 2ms/step\n",
      "4/4 [==============================] - 0s 2ms/step\n",
      "epoch: 0025, loss: 0.0051 - val_loss: 0.0046; accuracy: 1.0000 - val_accuracy: 1.0000                                                                                                    \n",
      "4/4 [==============================] - 0s 2ms/step\n",
      "4/4 [==============================] - 0s 2ms/step\n",
      "epoch: 0026, loss: 0.0041 - val_loss: 0.0036; accuracy: 1.0000 - val_accuracy: 1.0000                                                                                                    \n",
      "4/4 [==============================] - 0s 2ms/step\n",
      "4/4 [==============================] - 0s 2ms/step\n",
      "epoch: 0027, loss: 0.0036 - val_loss: 0.0032; accuracy: 1.0000 - val_accuracy: 1.0000                                                                                                    \n",
      "4/4 [==============================] - 0s 2ms/step\n",
      "4/4 [==============================] - 0s 2ms/step\n",
      "epoch: 0028, loss: 0.0033 - val_loss: 0.0030; accuracy: 1.0000 - val_accuracy: 1.0000                                                                                                    \n",
      "4/4 [==============================] - 0s 2ms/step\n",
      "4/4 [==============================] - 0s 2ms/step\n",
      "epoch: 0029, loss: 0.0028 - val_loss: 0.0024; accuracy: 1.0000 - val_accuracy: 1.0000                                                                                                    \n",
      "4/4 [==============================] - 0s 2ms/step\n",
      "4/4 [==============================] - 0s 2ms/step\n",
      "epoch: 0030, loss: 0.0025 - val_loss: 0.0022; accuracy: 1.0000 - val_accuracy: 1.0000                                                                                                    \n"
     ]
    },
    {
     "name": "stderr",
     "output_type": "stream",
     "text": [
      "100%|#############################################################################################################################################| 109/109 [00:00<00:00, 1912.28it/s]"
     ]
    },
    {
     "name": "stdout",
     "output_type": "stream",
     "text": [
      "\n",
      " input train and test X shape is (114, 30, 29, 5), (109, 30, 29, 5) \n",
      "4/4 [==============================] - 0s 2ms/step\n",
      "4/4 [==============================] - 0s 2ms/step\n"
     ]
    },
    {
     "name": "stderr",
     "output_type": "stream",
     "text": [
      "\n",
      "100%|#############################################################################################################################################| 128/128 [00:00<00:00, 2273.25it/s]\n"
     ]
    },
    {
     "name": "stdout",
     "output_type": "stream",
     "text": [
      "\n",
      " input train and test X shape is (114, 30, 29, 5), (128, 30, 29, 5) \n",
      "4/4 [==============================] - 0s 2ms/step\n",
      "4/4 [==============================] - 0s 2ms/step\n"
     ]
    },
    {
     "name": "stderr",
     "output_type": "stream",
     "text": [
      "100%|#############################################################################################################################################| 114/114 [00:00<00:00, 1886.91it/s]"
     ]
    },
    {
     "name": "stdout",
     "output_type": "stream",
     "text": [
      "\n",
      " input train and test X shape is (114, 30, 29, 5), (114, 30, 29, 5) \n",
      "4/4 [==============================] - 0s 2ms/step\n"
     ]
    },
    {
     "name": "stderr",
     "output_type": "stream",
     "text": [
      "\n"
     ]
    },
    {
     "name": "stdout",
     "output_type": "stream",
     "text": [
      "4/4 [==============================] - 0s 2ms/step\n"
     ]
    },
    {
     "name": "stderr",
     "output_type": "stream",
     "text": [
      "100%|#############################################################################################################################################| 120/120 [00:00<00:00, 2035.22it/s]"
     ]
    },
    {
     "name": "stdout",
     "output_type": "stream",
     "text": [
      "\n",
      " input train and test X shape is (114, 30, 29, 5), (120, 30, 29, 5) \n",
      "4/4 [==============================] - 0s 2ms/step\n",
      "1/4 [======>.......................] - ETA: 0s"
     ]
    },
    {
     "name": "stderr",
     "output_type": "stream",
     "text": [
      "\n"
     ]
    },
    {
     "name": "stdout",
     "output_type": "stream",
     "text": [
      "4/4 [==============================] - 0s 2ms/step\n"
     ]
    },
    {
     "name": "stderr",
     "output_type": "stream",
     "text": [
      "100%|#############################################################################################################################################| 104/104 [00:00<00:00, 2050.88it/s]\n"
     ]
    },
    {
     "name": "stdout",
     "output_type": "stream",
     "text": [
      "\n",
      " input train and test X shape is (114, 30, 29, 5), (104, 30, 29, 5) \n",
      "4/4 [==============================] - 0s 2ms/step\n",
      "4/4 [==============================] - 0s 2ms/step\n"
     ]
    },
    {
     "name": "stderr",
     "output_type": "stream",
     "text": [
      "100%|#############################################################################################################################################| 120/120 [00:00<00:00, 2057.52it/s]"
     ]
    },
    {
     "name": "stdout",
     "output_type": "stream",
     "text": [
      "MultiClassEstimator(batch_norm=False, batch_size=1, conv1_kernel_size=5,\n",
      "                    dense_avf='relu', dense_layers=[128], dropout=0.0,\n",
      "                    epochs=30, gpuid='1', last_avf='softmax',\n",
      "                    loss='categorical_crossentropy', lr=0.0001, metric='ACC',\n",
      "                    monitor='val_loss', n_inception=2,\n",
      "                    name='AggMap MultiClass Estimator', patience=10000,\n",
      "                    random_state=32, verbose=1)\n"
     ]
    },
    {
     "name": "stderr",
     "output_type": "stream",
     "text": [
      "\n"
     ]
    },
    {
     "name": "stdout",
     "output_type": "stream",
     "text": [
      "4/4 [==============================] - 0s 2ms/step\n",
      "4/4 [==============================] - 0s 2ms/step\n",
      "epoch: 0001, loss: 0.7190 - val_loss: 0.5903; accuracy: 0.7500 - val_accuracy: 0.7500                                                                                                    \n",
      "4/4 [==============================] - 0s 2ms/step\n",
      "4/4 [==============================] - 0s 2ms/step\n",
      "epoch: 0002, loss: 0.6363 - val_loss: 0.4778; accuracy: 0.9250 - val_accuracy: 0.9250                                                                                                    \n",
      "4/4 [==============================] - 0s 2ms/step\n",
      "4/4 [==============================] - 0s 2ms/step\n",
      "epoch: 0003, loss: 0.4789 - val_loss: 0.4067; accuracy: 0.8833 - val_accuracy: 0.8833                                                                                                    \n",
      "4/4 [==============================] - 0s 2ms/step\n",
      "4/4 [==============================] - 0s 2ms/step\n",
      "epoch: 0004, loss: 0.4172 - val_loss: 0.2977; accuracy: 0.9417 - val_accuracy: 0.9417                                                                                                    \n",
      "4/4 [==============================] - 0s 2ms/step\n",
      "4/4 [==============================] - 0s 2ms/step\n",
      "epoch: 0005, loss: 0.3272 - val_loss: 0.2470; accuracy: 0.9417 - val_accuracy: 0.9417                                                                                                    \n",
      "4/4 [==============================] - 0s 2ms/step\n",
      "4/4 [==============================] - 0s 2ms/step\n",
      "epoch: 0006, loss: 0.2614 - val_loss: 0.2163; accuracy: 0.9667 - val_accuracy: 0.9667                                                                                                    \n",
      "4/4 [==============================] - 0s 2ms/step\n",
      "4/4 [==============================] - 0s 2ms/step\n",
      "epoch: 0007, loss: 0.2129 - val_loss: 0.1487; accuracy: 0.9833 - val_accuracy: 0.9833                                                                                                    \n",
      "4/4 [==============================] - 0s 2ms/step\n",
      "4/4 [==============================] - 0s 2ms/step\n",
      "epoch: 0008, loss: 0.1924 - val_loss: 0.1253; accuracy: 0.9750 - val_accuracy: 0.9750                                                                                                    \n",
      "4/4 [==============================] - 0s 2ms/step\n",
      "4/4 [==============================] - 0s 2ms/step\n",
      "epoch: 0009, loss: 0.1296 - val_loss: 0.0963; accuracy: 1.0000 - val_accuracy: 1.0000                                                                                                    \n",
      "4/4 [==============================] - 0s 2ms/step\n",
      "4/4 [==============================] - 0s 2ms/step\n",
      "epoch: 0010, loss: 0.0961 - val_loss: 0.0797; accuracy: 1.0000 - val_accuracy: 1.0000                                                                                                    \n",
      "4/4 [==============================] - 0s 2ms/step\n",
      "4/4 [==============================] - 0s 2ms/step\n",
      "epoch: 0011, loss: 0.0702 - val_loss: 0.0546; accuracy: 0.9917 - val_accuracy: 0.9917                                                                                                    \n",
      "4/4 [==============================] - 0s 2ms/step\n",
      "4/4 [==============================] - 0s 2ms/step\n",
      "epoch: 0012, loss: 0.0644 - val_loss: 0.0384; accuracy: 1.0000 - val_accuracy: 1.0000                                                                                                    \n",
      "4/4 [==============================] - 0s 2ms/step\n",
      "4/4 [==============================] - 0s 2ms/step\n",
      "epoch: 0013, loss: 0.0343 - val_loss: 0.0430; accuracy: 1.0000 - val_accuracy: 1.0000                                                                                                    \n",
      "4/4 [==============================] - 0s 2ms/step\n",
      "4/4 [==============================] - 0s 2ms/step\n",
      "epoch: 0014, loss: 0.0342 - val_loss: 0.0202; accuracy: 1.0000 - val_accuracy: 1.0000                                                                                                    \n",
      "4/4 [==============================] - 0s 2ms/step\n",
      "4/4 [==============================] - 0s 2ms/step\n",
      "epoch: 0015, loss: 0.0207 - val_loss: 0.0166; accuracy: 1.0000 - val_accuracy: 1.0000                                                                                                    \n",
      "4/4 [==============================] - 0s 2ms/step\n",
      "4/4 [==============================] - 0s 2ms/step\n",
      "epoch: 0016, loss: 0.0162 - val_loss: 0.0127; accuracy: 1.0000 - val_accuracy: 1.0000                                                                                                    \n",
      "4/4 [==============================] - 0s 2ms/step\n",
      "4/4 [==============================] - 0s 2ms/step\n",
      "epoch: 0017, loss: 0.0142 - val_loss: 0.0101; accuracy: 1.0000 - val_accuracy: 1.0000                                                                                                    \n",
      "4/4 [==============================] - 0s 2ms/step\n",
      "4/4 [==============================] - 0s 2ms/step\n",
      "epoch: 0018, loss: 0.0116 - val_loss: 0.0089; accuracy: 1.0000 - val_accuracy: 1.0000                                                                                                    \n",
      "4/4 [==============================] - 0s 2ms/step\n",
      "4/4 [==============================] - 0s 2ms/step\n",
      "epoch: 0019, loss: 0.0083 - val_loss: 0.0096; accuracy: 1.0000 - val_accuracy: 1.0000                                                                                                    \n",
      "4/4 [==============================] - 0s 2ms/step\n",
      "4/4 [==============================] - 0s 2ms/step\n",
      "epoch: 0020, loss: 0.0075 - val_loss: 0.0058; accuracy: 1.0000 - val_accuracy: 1.0000                                                                                                    \n",
      "4/4 [==============================] - 0s 2ms/step\n",
      "4/4 [==============================] - 0s 2ms/step\n",
      "epoch: 0021, loss: 0.0058 - val_loss: 0.0092; accuracy: 1.0000 - val_accuracy: 1.0000                                                                                                    \n",
      "4/4 [==============================] - 0s 2ms/step\n",
      "4/4 [==============================] - 0s 2ms/step\n",
      "epoch: 0022, loss: 0.0061 - val_loss: 0.0043; accuracy: 1.0000 - val_accuracy: 1.0000                                                                                                    \n",
      "4/4 [==============================] - 0s 2ms/step\n",
      "4/4 [==============================] - 0s 1ms/step\n",
      "epoch: 0023, loss: 0.0041 - val_loss: 0.0035; accuracy: 1.0000 - val_accuracy: 1.0000                                                                                                    \n",
      "4/4 [==============================] - 0s 2ms/step\n",
      "4/4 [==============================] - 0s 2ms/step\n",
      "epoch: 0024, loss: 0.0035 - val_loss: 0.0029; accuracy: 1.0000 - val_accuracy: 1.0000                                                                                                    \n",
      "4/4 [==============================] - 0s 2ms/step\n",
      "4/4 [==============================] - 0s 2ms/step\n",
      "epoch: 0025, loss: 0.0030 - val_loss: 0.0026; accuracy: 1.0000 - val_accuracy: 1.0000                                                                                                    \n",
      "4/4 [==============================] - 0s 2ms/step\n",
      "4/4 [==============================] - 0s 2ms/step\n",
      "epoch: 0026, loss: 0.0026 - val_loss: 0.0022; accuracy: 1.0000 - val_accuracy: 1.0000                                                                                                    \n",
      "4/4 [==============================] - 0s 2ms/step\n",
      "4/4 [==============================] - 0s 2ms/step\n",
      "epoch: 0027, loss: 0.0023 - val_loss: 0.0019; accuracy: 1.0000 - val_accuracy: 1.0000                                                                                                    \n",
      "4/4 [==============================] - 0s 2ms/step\n",
      "4/4 [==============================] - 0s 2ms/step\n",
      "epoch: 0028, loss: 0.0020 - val_loss: 0.0017; accuracy: 1.0000 - val_accuracy: 1.0000                                                                                                    \n",
      "4/4 [==============================] - 0s 2ms/step\n",
      "4/4 [==============================] - 0s 2ms/step\n",
      "epoch: 0029, loss: 0.0016 - val_loss: 0.0025; accuracy: 1.0000 - val_accuracy: 1.0000                                                                                                    \n",
      "4/4 [==============================] - 0s 2ms/step\n",
      "4/4 [==============================] - 0s 2ms/step\n",
      "epoch: 0030, loss: 0.0017 - val_loss: 0.0015; accuracy: 1.0000 - val_accuracy: 1.0000                                                                                                    \n"
     ]
    },
    {
     "name": "stderr",
     "output_type": "stream",
     "text": [
      "100%|#############################################################################################################################################| 109/109 [00:00<00:00, 1756.29it/s]"
     ]
    },
    {
     "name": "stdout",
     "output_type": "stream",
     "text": [
      "\n",
      " input train and test X shape is (120, 30, 29, 5), (109, 30, 29, 5) \n",
      "4/4 [==============================] - 0s 2ms/step\n",
      "4/4 [==============================] - 0s 2ms/step\n"
     ]
    },
    {
     "name": "stderr",
     "output_type": "stream",
     "text": [
      "\n",
      "100%|#############################################################################################################################################| 128/128 [00:00<00:00, 1976.31it/s]"
     ]
    },
    {
     "name": "stdout",
     "output_type": "stream",
     "text": [
      "\n",
      " input train and test X shape is (120, 30, 29, 5), (128, 30, 29, 5) \n",
      "4/4 [==============================] - 0s 2ms/step\n",
      "4/4 [==============================] - 0s 2ms/step\n"
     ]
    },
    {
     "name": "stderr",
     "output_type": "stream",
     "text": [
      "\n",
      "100%|#############################################################################################################################################| 114/114 [00:00<00:00, 2352.57it/s]\n"
     ]
    },
    {
     "name": "stdout",
     "output_type": "stream",
     "text": [
      "\n",
      " input train and test X shape is (120, 30, 29, 5), (114, 30, 29, 5) \n",
      "4/4 [==============================] - 0s 2ms/step\n",
      "4/4 [==============================] - 0s 2ms/step\n"
     ]
    },
    {
     "name": "stderr",
     "output_type": "stream",
     "text": [
      "100%|#############################################################################################################################################| 120/120 [00:00<00:00, 1756.81it/s]\n"
     ]
    },
    {
     "name": "stdout",
     "output_type": "stream",
     "text": [
      "\n",
      " input train and test X shape is (120, 30, 29, 5), (120, 30, 29, 5) \n",
      "4/4 [==============================] - 0s 4ms/step\n",
      "4/4 [==============================] - 0s 2ms/step\n"
     ]
    },
    {
     "name": "stderr",
     "output_type": "stream",
     "text": [
      "100%|#############################################################################################################################################| 104/104 [00:00<00:00, 2139.63it/s]"
     ]
    },
    {
     "name": "stdout",
     "output_type": "stream",
     "text": [
      "\n",
      " input train and test X shape is (120, 30, 29, 5), (104, 30, 29, 5) \n",
      "4/4 [==============================] - 0s 2ms/step\n",
      "4/4 [==============================] - 0s 1ms/step\n"
     ]
    },
    {
     "name": "stderr",
     "output_type": "stream",
     "text": [
      "\n",
      "100%|#############################################################################################################################################| 104/104 [00:00<00:00, 2069.61it/s]\n"
     ]
    },
    {
     "name": "stdout",
     "output_type": "stream",
     "text": [
      "MultiClassEstimator(batch_norm=False, batch_size=1, conv1_kernel_size=5,\n",
      "                    dense_avf='relu', dense_layers=[128], dropout=0.0,\n",
      "                    epochs=30, gpuid='1', last_avf='softmax',\n",
      "                    loss='categorical_crossentropy', lr=0.0001, metric='ACC',\n",
      "                    monitor='val_loss', n_inception=2,\n",
      "                    name='AggMap MultiClass Estimator', patience=10000,\n",
      "                    random_state=32, verbose=1)\n",
      "4/4 [==============================] - 0s 2ms/step\n",
      "4/4 [==============================] - 0s 2ms/step\n",
      "epoch: 0001, loss: 0.7379 - val_loss: 0.6428; accuracy: 0.5096 - val_accuracy: 0.5096                                                                                                    \n",
      "4/4 [==============================] - 0s 2ms/step\n",
      "4/4 [==============================] - 0s 2ms/step\n",
      "epoch: 0002, loss: 0.6686 - val_loss: 0.5532; accuracy: 0.8077 - val_accuracy: 0.8077                                                                                                    \n",
      "4/4 [==============================] - 0s 2ms/step\n",
      "4/4 [==============================] - 0s 2ms/step\n",
      "epoch: 0003, loss: 0.5728 - val_loss: 0.6617; accuracy: 0.5288 - val_accuracy: 0.5288                                                                                                    \n",
      "4/4 [==============================] - 0s 2ms/step\n",
      "4/4 [==============================] - 0s 2ms/step\n",
      "epoch: 0004, loss: 0.5426 - val_loss: 0.5650; accuracy: 0.6058 - val_accuracy: 0.6058                                                                                                    \n",
      "4/4 [==============================] - 0s 2ms/step\n",
      "4/4 [==============================] - 0s 2ms/step\n",
      "epoch: 0005, loss: 0.5038 - val_loss: 0.4121; accuracy: 0.9135 - val_accuracy: 0.9135                                                                                                    \n",
      "4/4 [==============================] - 0s 2ms/step\n",
      "4/4 [==============================] - 0s 1ms/step\n",
      "epoch: 0006, loss: 0.4517 - val_loss: 0.3817; accuracy: 0.8269 - val_accuracy: 0.8269                                                                                                    \n",
      "4/4 [==============================] - 0s 2ms/step\n",
      "4/4 [==============================] - 0s 1ms/step\n",
      "epoch: 0007, loss: 0.3674 - val_loss: 0.3032; accuracy: 0.9712 - val_accuracy: 0.9712                                                                                                    \n",
      "4/4 [==============================] - 0s 2ms/step\n",
      "4/4 [==============================] - 0s 1ms/step\n",
      "epoch: 0008, loss: 0.3602 - val_loss: 0.2538; accuracy: 1.0000 - val_accuracy: 1.0000                                                                                                    \n",
      "4/4 [==============================] - 0s 2ms/step\n",
      "4/4 [==============================] - 0s 1ms/step\n",
      "epoch: 0009, loss: 0.2589 - val_loss: 0.2480; accuracy: 0.8942 - val_accuracy: 0.8942                                                                                                    \n",
      "4/4 [==============================] - 0s 2ms/step\n",
      "4/4 [==============================] - 0s 2ms/step\n",
      "epoch: 0010, loss: 0.2239 - val_loss: 0.1649; accuracy: 1.0000 - val_accuracy: 1.0000                                                                                                    \n",
      "4/4 [==============================] - 0s 2ms/step\n",
      "4/4 [==============================] - 0s 1ms/step\n",
      "epoch: 0011, loss: 0.1735 - val_loss: 0.1161; accuracy: 1.0000 - val_accuracy: 1.0000                                                                                                    \n",
      "4/4 [==============================] - 0s 2ms/step\n",
      "4/4 [==============================] - 0s 2ms/step\n",
      "epoch: 0012, loss: 0.1399 - val_loss: 0.0978; accuracy: 1.0000 - val_accuracy: 1.0000                                                                                                    \n",
      "4/4 [==============================] - 0s 2ms/step\n",
      "4/4 [==============================] - 0s 2ms/step\n",
      "epoch: 0013, loss: 0.0972 - val_loss: 0.1005; accuracy: 1.0000 - val_accuracy: 1.0000                                                                                                    \n",
      "4/4 [==============================] - 0s 1ms/step\n",
      "4/4 [==============================] - 0s 2ms/step\n",
      "epoch: 0014, loss: 0.0707 - val_loss: 0.0542; accuracy: 1.0000 - val_accuracy: 1.0000                                                                                                    \n",
      "4/4 [==============================] - 0s 2ms/step\n",
      "4/4 [==============================] - 0s 1ms/step\n",
      "epoch: 0015, loss: 0.0621 - val_loss: 0.0579; accuracy: 1.0000 - val_accuracy: 1.0000                                                                                                    \n",
      "4/4 [==============================] - 0s 2ms/step\n",
      "4/4 [==============================] - 0s 2ms/step\n",
      "epoch: 0016, loss: 0.0503 - val_loss: 0.0316; accuracy: 1.0000 - val_accuracy: 1.0000                                                                                                    \n",
      "4/4 [==============================] - 0s 2ms/step\n",
      "4/4 [==============================] - 0s 1ms/step\n",
      "epoch: 0017, loss: 0.0379 - val_loss: 0.0254; accuracy: 1.0000 - val_accuracy: 1.0000                                                                                                    \n",
      "4/4 [==============================] - 0s 2ms/step\n",
      "4/4 [==============================] - 0s 2ms/step\n",
      "epoch: 0018, loss: 0.0272 - val_loss: 0.0199; accuracy: 1.0000 - val_accuracy: 1.0000                                                                                                    \n",
      "4/4 [==============================] - 0s 2ms/step\n",
      "4/4 [==============================] - 0s 2ms/step\n",
      "epoch: 0019, loss: 0.0210 - val_loss: 0.0163; accuracy: 1.0000 - val_accuracy: 1.0000                                                                                                    \n",
      "4/4 [==============================] - 0s 2ms/step\n",
      "4/4 [==============================] - 0s 3ms/step\n",
      "epoch: 0020, loss: 0.0168 - val_loss: 0.0136; accuracy: 1.0000 - val_accuracy: 1.0000                                                                                                    \n",
      "4/4 [==============================] - 0s 2ms/step\n",
      "4/4 [==============================] - 0s 2ms/step\n",
      "epoch: 0021, loss: 0.0139 - val_loss: 0.0107; accuracy: 1.0000 - val_accuracy: 1.0000                                                                                                    \n",
      "4/4 [==============================] - 0s 2ms/step\n",
      "4/4 [==============================] - 0s 1ms/step\n",
      "epoch: 0022, loss: 0.0113 - val_loss: 0.0102; accuracy: 1.0000 - val_accuracy: 1.0000                                                                                                    \n",
      "4/4 [==============================] - 0s 2ms/step\n",
      "4/4 [==============================] - 0s 2ms/step\n",
      "epoch: 0023, loss: 0.0098 - val_loss: 0.0086; accuracy: 1.0000 - val_accuracy: 1.0000                                                                                                    \n",
      "4/4 [==============================] - 0s 1ms/step\n",
      "4/4 [==============================] - 0s 2ms/step\n",
      "epoch: 0024, loss: 0.0079 - val_loss: 0.0067; accuracy: 1.0000 - val_accuracy: 1.0000                                                                                                    \n",
      "4/4 [==============================] - 0s 2ms/step\n",
      "4/4 [==============================] - 0s 1ms/step\n",
      "epoch: 0025, loss: 0.0075 - val_loss: 0.0059; accuracy: 1.0000 - val_accuracy: 1.0000                                                                                                    \n",
      "4/4 [==============================] - 0s 2ms/step\n",
      "4/4 [==============================] - 0s 2ms/step\n",
      "epoch: 0026, loss: 0.0060 - val_loss: 0.0052; accuracy: 1.0000 - val_accuracy: 1.0000                                                                                                    \n",
      "4/4 [==============================] - 0s 2ms/step\n",
      "4/4 [==============================] - 0s 2ms/step\n",
      "epoch: 0027, loss: 0.0051 - val_loss: 0.0041; accuracy: 1.0000 - val_accuracy: 1.0000                                                                                                    \n",
      "4/4 [==============================] - 0s 2ms/step\n",
      "4/4 [==============================] - 0s 2ms/step\n",
      "epoch: 0028, loss: 0.0042 - val_loss: 0.0035; accuracy: 1.0000 - val_accuracy: 1.0000                                                                                                    \n",
      "4/4 [==============================] - 0s 1ms/step\n",
      "4/4 [==============================] - 0s 2ms/step\n",
      "epoch: 0029, loss: 0.0036 - val_loss: 0.0032; accuracy: 1.0000 - val_accuracy: 1.0000                                                                                                    \n",
      "4/4 [==============================] - 0s 2ms/step\n",
      "4/4 [==============================] - 0s 2ms/step\n",
      "epoch: 0030, loss: 0.0032 - val_loss: 0.0028; accuracy: 1.0000 - val_accuracy: 1.0000                                                                                                    \n"
     ]
    },
    {
     "name": "stderr",
     "output_type": "stream",
     "text": [
      "100%|#############################################################################################################################################| 109/109 [00:00<00:00, 1331.37it/s]"
     ]
    },
    {
     "name": "stdout",
     "output_type": "stream",
     "text": [
      "\n",
      " input train and test X shape is (104, 30, 29, 5), (109, 30, 29, 5) \n",
      "4/4 [==============================] - 0s 2ms/step\n"
     ]
    },
    {
     "name": "stderr",
     "output_type": "stream",
     "text": [
      "\n"
     ]
    },
    {
     "name": "stdout",
     "output_type": "stream",
     "text": [
      "4/4 [==============================] - 0s 2ms/step\n"
     ]
    },
    {
     "name": "stderr",
     "output_type": "stream",
     "text": [
      "100%|#############################################################################################################################################| 128/128 [00:00<00:00, 1968.05it/s]\n"
     ]
    },
    {
     "name": "stdout",
     "output_type": "stream",
     "text": [
      "\n",
      " input train and test X shape is (104, 30, 29, 5), (128, 30, 29, 5) \n",
      "4/4 [==============================] - 0s 2ms/step\n",
      "4/4 [==============================] - 0s 2ms/step\n"
     ]
    },
    {
     "name": "stderr",
     "output_type": "stream",
     "text": [
      "100%|#############################################################################################################################################| 114/114 [00:00<00:00, 1942.49it/s]\n"
     ]
    },
    {
     "name": "stdout",
     "output_type": "stream",
     "text": [
      "\n",
      " input train and test X shape is (104, 30, 29, 5), (114, 30, 29, 5) \n",
      "4/4 [==============================] - 0s 2ms/step\n",
      "4/4 [==============================] - 0s 2ms/step\n"
     ]
    },
    {
     "name": "stderr",
     "output_type": "stream",
     "text": [
      "100%|#############################################################################################################################################| 120/120 [00:00<00:00, 2096.79it/s]\n"
     ]
    },
    {
     "name": "stdout",
     "output_type": "stream",
     "text": [
      "\n",
      " input train and test X shape is (104, 30, 29, 5), (120, 30, 29, 5) \n",
      "4/4 [==============================] - 0s 2ms/step\n",
      "4/4 [==============================] - 0s 2ms/step\n"
     ]
    },
    {
     "name": "stderr",
     "output_type": "stream",
     "text": [
      "100%|#############################################################################################################################################| 104/104 [00:00<00:00, 2116.52it/s]\n"
     ]
    },
    {
     "name": "stdout",
     "output_type": "stream",
     "text": [
      "\n",
      " input train and test X shape is (104, 30, 29, 5), (104, 30, 29, 5) \n",
      "4/4 [==============================] - 0s 2ms/step\n",
      "4/4 [==============================] - 0s 2ms/step\n"
     ]
    }
   ],
   "source": [
    "#study to study transfer\n",
    "\n",
    "run_all = []\n",
    "for train_country in country_names:\n",
    "\n",
    "    train_idx = country_idx.loc[train_country]\n",
    "\n",
    "    trainx = X[train_idx]\n",
    "    trainY = Y[train_idx]\n",
    "    trainX = mp.batch_transform(trainx, scale_method = 'standard')        \n",
    "\n",
    "    clf = AggMapNet.MultiClassEstimator(epochs = 30,  batch_size = 1, \n",
    "                                       conv1_kernel_size = 5, \n",
    "                                       verbose = 1, gpuid = 1)\n",
    "    clf.fit(trainX, trainY)  \n",
    "    \n",
    "    ## save model\n",
    "    clf._model.save(os.path.join(model_save_path, '%s.h5' % train_country))\n",
    "    \n",
    "    for test_country in country_names:\n",
    "        \n",
    "        test_idx = country_idx.loc[test_country]\n",
    "        testY = Y[test_idx]\n",
    "        testx = X[test_idx]\n",
    "\n",
    "        testX = mp.batch_transform(testx, scale_method = 'standard')\n",
    "        print(\"\\n input train and test X shape is %s, %s \" % (trainX.shape,  testX.shape))\n",
    "\n",
    "        y_true = testY[:,0]\n",
    "        y_pred = clf.predict(testX)\n",
    "        y_score = clf.predict_proba(testX)[:,0]\n",
    "\n",
    "        tn, fp, fn, tp = confusion_matrix(y_true, y_pred).ravel()\n",
    "\n",
    "        acc = (tp + tn) / sum([tn, fp, fn, tp])\n",
    "\n",
    "        sensitivity = tp / sum([tp, fn])\n",
    "        specificity = tn / sum([tn, fp])\n",
    "\n",
    "        prc_auc = prc_auc_score(y_true, y_score)\n",
    "        roc_auc = roc_auc_score(y_true, y_score)\n",
    "\n",
    "        precision = tp / sum([tp, fp])\n",
    "        recall =  tp / sum([tp, fn]) #equals to sensitivity\n",
    "\n",
    "\n",
    "        res = {'train_country': train_country,\n",
    "               'test_country':test_country,\n",
    "\n",
    "               'accuracy':acc, \n",
    "\n",
    "               'prc_auc':prc_auc, \n",
    "               'roc_auc':roc_auc,\n",
    "\n",
    "               'sensitivity': sensitivity, \n",
    "               'specificity': specificity,\n",
    "\n",
    "               'precision':precision,\n",
    "               'recall':recall,\n",
    "              }\n",
    "\n",
    "        run_all.append(res)"
   ]
  },
  {
   "cell_type": "code",
   "execution_count": null,
   "metadata": {},
   "outputs": [],
   "source": []
  },
  {
   "cell_type": "code",
   "execution_count": null,
   "metadata": {},
   "outputs": [],
   "source": []
  },
  {
   "cell_type": "code",
   "execution_count": 134,
   "metadata": {},
   "outputs": [
    {
     "data": {
      "text/plain": [
       "300098"
      ]
     },
     "execution_count": 134,
     "metadata": {},
     "output_type": "execute_result"
    }
   ],
   "source": [
    "clf._model.count_params()"
   ]
  },
  {
   "cell_type": "code",
   "execution_count": 135,
   "metadata": {},
   "outputs": [
    {
     "data": {
      "text/html": [
       "<div>\n",
       "<style scoped>\n",
       "    .dataframe tbody tr th:only-of-type {\n",
       "        vertical-align: middle;\n",
       "    }\n",
       "\n",
       "    .dataframe tbody tr th {\n",
       "        vertical-align: top;\n",
       "    }\n",
       "\n",
       "    .dataframe thead th {\n",
       "        text-align: right;\n",
       "    }\n",
       "</style>\n",
       "<table border=\"1\" class=\"dataframe\">\n",
       "  <thead>\n",
       "    <tr style=\"text-align: right;\">\n",
       "      <th></th>\n",
       "      <th>train_country</th>\n",
       "      <th>test_country</th>\n",
       "      <th>accuracy</th>\n",
       "      <th>prc_auc</th>\n",
       "      <th>roc_auc</th>\n",
       "      <th>sensitivity</th>\n",
       "      <th>specificity</th>\n",
       "      <th>precision</th>\n",
       "      <th>recall</th>\n",
       "    </tr>\n",
       "  </thead>\n",
       "  <tbody>\n",
       "    <tr>\n",
       "      <th>0</th>\n",
       "      <td>AUS</td>\n",
       "      <td>AUS</td>\n",
       "      <td>0.000000</td>\n",
       "      <td>1.000000</td>\n",
       "      <td>1.000000</td>\n",
       "      <td>0.000000</td>\n",
       "      <td>0.000000</td>\n",
       "      <td>0.000000</td>\n",
       "      <td>0.000000</td>\n",
       "    </tr>\n",
       "    <tr>\n",
       "      <th>1</th>\n",
       "      <td>AUS</td>\n",
       "      <td>CHI</td>\n",
       "      <td>0.289062</td>\n",
       "      <td>0.840737</td>\n",
       "      <td>0.786787</td>\n",
       "      <td>0.364865</td>\n",
       "      <td>0.185185</td>\n",
       "      <td>0.380282</td>\n",
       "      <td>0.364865</td>\n",
       "    </tr>\n",
       "    <tr>\n",
       "      <th>2</th>\n",
       "      <td>AUS</td>\n",
       "      <td>FRA</td>\n",
       "      <td>0.289474</td>\n",
       "      <td>0.790539</td>\n",
       "      <td>0.781627</td>\n",
       "      <td>0.264151</td>\n",
       "      <td>0.311475</td>\n",
       "      <td>0.250000</td>\n",
       "      <td>0.264151</td>\n",
       "    </tr>\n",
       "    <tr>\n",
       "      <th>3</th>\n",
       "      <td>AUS</td>\n",
       "      <td>GER</td>\n",
       "      <td>0.216667</td>\n",
       "      <td>0.894960</td>\n",
       "      <td>0.871111</td>\n",
       "      <td>0.300000</td>\n",
       "      <td>0.133333</td>\n",
       "      <td>0.257143</td>\n",
       "      <td>0.300000</td>\n",
       "    </tr>\n",
       "    <tr>\n",
       "      <th>4</th>\n",
       "      <td>AUS</td>\n",
       "      <td>USA</td>\n",
       "      <td>0.346154</td>\n",
       "      <td>0.746406</td>\n",
       "      <td>0.699704</td>\n",
       "      <td>0.403846</td>\n",
       "      <td>0.288462</td>\n",
       "      <td>0.362069</td>\n",
       "      <td>0.403846</td>\n",
       "    </tr>\n",
       "    <tr>\n",
       "      <th>5</th>\n",
       "      <td>CHI</td>\n",
       "      <td>AUS</td>\n",
       "      <td>0.247706</td>\n",
       "      <td>0.826407</td>\n",
       "      <td>0.818496</td>\n",
       "      <td>0.347826</td>\n",
       "      <td>0.174603</td>\n",
       "      <td>0.235294</td>\n",
       "      <td>0.347826</td>\n",
       "    </tr>\n",
       "    <tr>\n",
       "      <th>6</th>\n",
       "      <td>CHI</td>\n",
       "      <td>CHI</td>\n",
       "      <td>0.000000</td>\n",
       "      <td>1.000000</td>\n",
       "      <td>1.000000</td>\n",
       "      <td>0.000000</td>\n",
       "      <td>0.000000</td>\n",
       "      <td>0.000000</td>\n",
       "      <td>0.000000</td>\n",
       "    </tr>\n",
       "    <tr>\n",
       "      <th>7</th>\n",
       "      <td>CHI</td>\n",
       "      <td>FRA</td>\n",
       "      <td>0.280702</td>\n",
       "      <td>0.808924</td>\n",
       "      <td>0.801423</td>\n",
       "      <td>0.301887</td>\n",
       "      <td>0.262295</td>\n",
       "      <td>0.262295</td>\n",
       "      <td>0.301887</td>\n",
       "    </tr>\n",
       "    <tr>\n",
       "      <th>8</th>\n",
       "      <td>CHI</td>\n",
       "      <td>GER</td>\n",
       "      <td>0.191667</td>\n",
       "      <td>0.935085</td>\n",
       "      <td>0.920278</td>\n",
       "      <td>0.366667</td>\n",
       "      <td>0.016667</td>\n",
       "      <td>0.271605</td>\n",
       "      <td>0.366667</td>\n",
       "    </tr>\n",
       "    <tr>\n",
       "      <th>9</th>\n",
       "      <td>CHI</td>\n",
       "      <td>USA</td>\n",
       "      <td>0.307692</td>\n",
       "      <td>0.775909</td>\n",
       "      <td>0.779586</td>\n",
       "      <td>0.442308</td>\n",
       "      <td>0.173077</td>\n",
       "      <td>0.348485</td>\n",
       "      <td>0.442308</td>\n",
       "    </tr>\n",
       "    <tr>\n",
       "      <th>10</th>\n",
       "      <td>FRA</td>\n",
       "      <td>AUS</td>\n",
       "      <td>0.220183</td>\n",
       "      <td>0.846931</td>\n",
       "      <td>0.839199</td>\n",
       "      <td>0.391304</td>\n",
       "      <td>0.095238</td>\n",
       "      <td>0.240000</td>\n",
       "      <td>0.391304</td>\n",
       "    </tr>\n",
       "    <tr>\n",
       "      <th>11</th>\n",
       "      <td>FRA</td>\n",
       "      <td>CHI</td>\n",
       "      <td>0.250000</td>\n",
       "      <td>0.872594</td>\n",
       "      <td>0.856106</td>\n",
       "      <td>0.324324</td>\n",
       "      <td>0.148148</td>\n",
       "      <td>0.342857</td>\n",
       "      <td>0.324324</td>\n",
       "    </tr>\n",
       "    <tr>\n",
       "      <th>12</th>\n",
       "      <td>FRA</td>\n",
       "      <td>FRA</td>\n",
       "      <td>0.000000</td>\n",
       "      <td>1.000000</td>\n",
       "      <td>1.000000</td>\n",
       "      <td>0.000000</td>\n",
       "      <td>0.000000</td>\n",
       "      <td>0.000000</td>\n",
       "      <td>0.000000</td>\n",
       "    </tr>\n",
       "    <tr>\n",
       "      <th>13</th>\n",
       "      <td>FRA</td>\n",
       "      <td>GER</td>\n",
       "      <td>0.200000</td>\n",
       "      <td>0.902411</td>\n",
       "      <td>0.893611</td>\n",
       "      <td>0.333333</td>\n",
       "      <td>0.066667</td>\n",
       "      <td>0.263158</td>\n",
       "      <td>0.333333</td>\n",
       "    </tr>\n",
       "    <tr>\n",
       "      <th>14</th>\n",
       "      <td>FRA</td>\n",
       "      <td>USA</td>\n",
       "      <td>0.375000</td>\n",
       "      <td>0.709973</td>\n",
       "      <td>0.720414</td>\n",
       "      <td>0.538462</td>\n",
       "      <td>0.211538</td>\n",
       "      <td>0.405797</td>\n",
       "      <td>0.538462</td>\n",
       "    </tr>\n",
       "    <tr>\n",
       "      <th>15</th>\n",
       "      <td>GER</td>\n",
       "      <td>AUS</td>\n",
       "      <td>0.330275</td>\n",
       "      <td>0.811879</td>\n",
       "      <td>0.804693</td>\n",
       "      <td>0.217391</td>\n",
       "      <td>0.412698</td>\n",
       "      <td>0.212766</td>\n",
       "      <td>0.217391</td>\n",
       "    </tr>\n",
       "    <tr>\n",
       "      <th>16</th>\n",
       "      <td>GER</td>\n",
       "      <td>CHI</td>\n",
       "      <td>0.218750</td>\n",
       "      <td>0.888057</td>\n",
       "      <td>0.868368</td>\n",
       "      <td>0.067568</td>\n",
       "      <td>0.425926</td>\n",
       "      <td>0.138889</td>\n",
       "      <td>0.067568</td>\n",
       "    </tr>\n",
       "    <tr>\n",
       "      <th>17</th>\n",
       "      <td>GER</td>\n",
       "      <td>FRA</td>\n",
       "      <td>0.342105</td>\n",
       "      <td>0.811269</td>\n",
       "      <td>0.809156</td>\n",
       "      <td>0.245283</td>\n",
       "      <td>0.426230</td>\n",
       "      <td>0.270833</td>\n",
       "      <td>0.245283</td>\n",
       "    </tr>\n",
       "    <tr>\n",
       "      <th>18</th>\n",
       "      <td>GER</td>\n",
       "      <td>GER</td>\n",
       "      <td>0.000000</td>\n",
       "      <td>1.000000</td>\n",
       "      <td>1.000000</td>\n",
       "      <td>0.000000</td>\n",
       "      <td>0.000000</td>\n",
       "      <td>0.000000</td>\n",
       "      <td>0.000000</td>\n",
       "    </tr>\n",
       "    <tr>\n",
       "      <th>19</th>\n",
       "      <td>GER</td>\n",
       "      <td>USA</td>\n",
       "      <td>0.298077</td>\n",
       "      <td>0.772901</td>\n",
       "      <td>0.788092</td>\n",
       "      <td>0.250000</td>\n",
       "      <td>0.346154</td>\n",
       "      <td>0.276596</td>\n",
       "      <td>0.250000</td>\n",
       "    </tr>\n",
       "    <tr>\n",
       "      <th>20</th>\n",
       "      <td>USA</td>\n",
       "      <td>AUS</td>\n",
       "      <td>0.293578</td>\n",
       "      <td>0.749907</td>\n",
       "      <td>0.784679</td>\n",
       "      <td>0.260870</td>\n",
       "      <td>0.317460</td>\n",
       "      <td>0.218182</td>\n",
       "      <td>0.260870</td>\n",
       "    </tr>\n",
       "    <tr>\n",
       "      <th>21</th>\n",
       "      <td>USA</td>\n",
       "      <td>CHI</td>\n",
       "      <td>0.242188</td>\n",
       "      <td>0.844360</td>\n",
       "      <td>0.820195</td>\n",
       "      <td>0.148649</td>\n",
       "      <td>0.370370</td>\n",
       "      <td>0.244444</td>\n",
       "      <td>0.148649</td>\n",
       "    </tr>\n",
       "    <tr>\n",
       "      <th>22</th>\n",
       "      <td>USA</td>\n",
       "      <td>FRA</td>\n",
       "      <td>0.394737</td>\n",
       "      <td>0.676828</td>\n",
       "      <td>0.692546</td>\n",
       "      <td>0.396226</td>\n",
       "      <td>0.393443</td>\n",
       "      <td>0.362069</td>\n",
       "      <td>0.396226</td>\n",
       "    </tr>\n",
       "    <tr>\n",
       "      <th>23</th>\n",
       "      <td>USA</td>\n",
       "      <td>GER</td>\n",
       "      <td>0.266667</td>\n",
       "      <td>0.806997</td>\n",
       "      <td>0.821389</td>\n",
       "      <td>0.383333</td>\n",
       "      <td>0.150000</td>\n",
       "      <td>0.310811</td>\n",
       "      <td>0.383333</td>\n",
       "    </tr>\n",
       "    <tr>\n",
       "      <th>24</th>\n",
       "      <td>USA</td>\n",
       "      <td>USA</td>\n",
       "      <td>0.000000</td>\n",
       "      <td>1.000000</td>\n",
       "      <td>1.000000</td>\n",
       "      <td>0.000000</td>\n",
       "      <td>0.000000</td>\n",
       "      <td>0.000000</td>\n",
       "      <td>0.000000</td>\n",
       "    </tr>\n",
       "  </tbody>\n",
       "</table>\n",
       "</div>"
      ],
      "text/plain": [
       "   train_country test_country  accuracy   prc_auc   roc_auc  sensitivity  \\\n",
       "0            AUS          AUS  0.000000  1.000000  1.000000     0.000000   \n",
       "1            AUS          CHI  0.289062  0.840737  0.786787     0.364865   \n",
       "2            AUS          FRA  0.289474  0.790539  0.781627     0.264151   \n",
       "3            AUS          GER  0.216667  0.894960  0.871111     0.300000   \n",
       "4            AUS          USA  0.346154  0.746406  0.699704     0.403846   \n",
       "5            CHI          AUS  0.247706  0.826407  0.818496     0.347826   \n",
       "6            CHI          CHI  0.000000  1.000000  1.000000     0.000000   \n",
       "7            CHI          FRA  0.280702  0.808924  0.801423     0.301887   \n",
       "8            CHI          GER  0.191667  0.935085  0.920278     0.366667   \n",
       "9            CHI          USA  0.307692  0.775909  0.779586     0.442308   \n",
       "10           FRA          AUS  0.220183  0.846931  0.839199     0.391304   \n",
       "11           FRA          CHI  0.250000  0.872594  0.856106     0.324324   \n",
       "12           FRA          FRA  0.000000  1.000000  1.000000     0.000000   \n",
       "13           FRA          GER  0.200000  0.902411  0.893611     0.333333   \n",
       "14           FRA          USA  0.375000  0.709973  0.720414     0.538462   \n",
       "15           GER          AUS  0.330275  0.811879  0.804693     0.217391   \n",
       "16           GER          CHI  0.218750  0.888057  0.868368     0.067568   \n",
       "17           GER          FRA  0.342105  0.811269  0.809156     0.245283   \n",
       "18           GER          GER  0.000000  1.000000  1.000000     0.000000   \n",
       "19           GER          USA  0.298077  0.772901  0.788092     0.250000   \n",
       "20           USA          AUS  0.293578  0.749907  0.784679     0.260870   \n",
       "21           USA          CHI  0.242188  0.844360  0.820195     0.148649   \n",
       "22           USA          FRA  0.394737  0.676828  0.692546     0.396226   \n",
       "23           USA          GER  0.266667  0.806997  0.821389     0.383333   \n",
       "24           USA          USA  0.000000  1.000000  1.000000     0.000000   \n",
       "\n",
       "    specificity  precision    recall  \n",
       "0      0.000000   0.000000  0.000000  \n",
       "1      0.185185   0.380282  0.364865  \n",
       "2      0.311475   0.250000  0.264151  \n",
       "3      0.133333   0.257143  0.300000  \n",
       "4      0.288462   0.362069  0.403846  \n",
       "5      0.174603   0.235294  0.347826  \n",
       "6      0.000000   0.000000  0.000000  \n",
       "7      0.262295   0.262295  0.301887  \n",
       "8      0.016667   0.271605  0.366667  \n",
       "9      0.173077   0.348485  0.442308  \n",
       "10     0.095238   0.240000  0.391304  \n",
       "11     0.148148   0.342857  0.324324  \n",
       "12     0.000000   0.000000  0.000000  \n",
       "13     0.066667   0.263158  0.333333  \n",
       "14     0.211538   0.405797  0.538462  \n",
       "15     0.412698   0.212766  0.217391  \n",
       "16     0.425926   0.138889  0.067568  \n",
       "17     0.426230   0.270833  0.245283  \n",
       "18     0.000000   0.000000  0.000000  \n",
       "19     0.346154   0.276596  0.250000  \n",
       "20     0.317460   0.218182  0.260870  \n",
       "21     0.370370   0.244444  0.148649  \n",
       "22     0.393443   0.362069  0.396226  \n",
       "23     0.150000   0.310811  0.383333  \n",
       "24     0.000000   0.000000  0.000000  "
      ]
     },
     "execution_count": 135,
     "metadata": {},
     "output_type": "execute_result"
    }
   ],
   "source": [
    "df = pd.DataFrame(run_all)\n",
    "df.to_csv('./run_all.csv')\n",
    "df"
   ]
  },
  {
   "cell_type": "code",
   "execution_count": 136,
   "metadata": {},
   "outputs": [],
   "source": [
    "dfres = pd.crosstab(index = df.train_country, columns= df.test_country, values= df.roc_auc, aggfunc = np.mean)"
   ]
  },
  {
   "cell_type": "code",
   "execution_count": 137,
   "metadata": {},
   "outputs": [],
   "source": [
    "dfres.to_excel('study2study_results_ROC.xlsx')"
   ]
  },
  {
   "cell_type": "code",
   "execution_count": 138,
   "metadata": {},
   "outputs": [
    {
     "data": {
      "text/html": [
       "<div>\n",
       "<style scoped>\n",
       "    .dataframe tbody tr th:only-of-type {\n",
       "        vertical-align: middle;\n",
       "    }\n",
       "\n",
       "    .dataframe tbody tr th {\n",
       "        vertical-align: top;\n",
       "    }\n",
       "\n",
       "    .dataframe thead th {\n",
       "        text-align: right;\n",
       "    }\n",
       "</style>\n",
       "<table border=\"1\" class=\"dataframe\">\n",
       "  <thead>\n",
       "    <tr style=\"text-align: right;\">\n",
       "      <th>test_country</th>\n",
       "      <th>AUS</th>\n",
       "      <th>CHI</th>\n",
       "      <th>FRA</th>\n",
       "      <th>GER</th>\n",
       "      <th>USA</th>\n",
       "    </tr>\n",
       "    <tr>\n",
       "      <th>train_country</th>\n",
       "      <th></th>\n",
       "      <th></th>\n",
       "      <th></th>\n",
       "      <th></th>\n",
       "      <th></th>\n",
       "    </tr>\n",
       "  </thead>\n",
       "  <tbody>\n",
       "    <tr>\n",
       "      <th>AUS</th>\n",
       "      <td>1.000000</td>\n",
       "      <td>0.786787</td>\n",
       "      <td>0.781627</td>\n",
       "      <td>0.871111</td>\n",
       "      <td>0.699704</td>\n",
       "    </tr>\n",
       "    <tr>\n",
       "      <th>CHI</th>\n",
       "      <td>0.818496</td>\n",
       "      <td>1.000000</td>\n",
       "      <td>0.801423</td>\n",
       "      <td>0.920278</td>\n",
       "      <td>0.779586</td>\n",
       "    </tr>\n",
       "    <tr>\n",
       "      <th>FRA</th>\n",
       "      <td>0.839199</td>\n",
       "      <td>0.856106</td>\n",
       "      <td>1.000000</td>\n",
       "      <td>0.893611</td>\n",
       "      <td>0.720414</td>\n",
       "    </tr>\n",
       "    <tr>\n",
       "      <th>GER</th>\n",
       "      <td>0.804693</td>\n",
       "      <td>0.868368</td>\n",
       "      <td>0.809156</td>\n",
       "      <td>1.000000</td>\n",
       "      <td>0.788092</td>\n",
       "    </tr>\n",
       "    <tr>\n",
       "      <th>USA</th>\n",
       "      <td>0.784679</td>\n",
       "      <td>0.820195</td>\n",
       "      <td>0.692546</td>\n",
       "      <td>0.821389</td>\n",
       "      <td>1.000000</td>\n",
       "    </tr>\n",
       "  </tbody>\n",
       "</table>\n",
       "</div>"
      ],
      "text/plain": [
       "test_country        AUS       CHI       FRA       GER       USA\n",
       "train_country                                                  \n",
       "AUS            1.000000  0.786787  0.781627  0.871111  0.699704\n",
       "CHI            0.818496  1.000000  0.801423  0.920278  0.779586\n",
       "FRA            0.839199  0.856106  1.000000  0.893611  0.720414\n",
       "GER            0.804693  0.868368  0.809156  1.000000  0.788092\n",
       "USA            0.784679  0.820195  0.692546  0.821389  1.000000"
      ]
     },
     "execution_count": 138,
     "metadata": {},
     "output_type": "execute_result"
    }
   ],
   "source": [
    "dfres"
   ]
  },
  {
   "cell_type": "code",
   "execution_count": 139,
   "metadata": {},
   "outputs": [
    {
     "data": {
      "text/html": [
       "<div>\n",
       "<style scoped>\n",
       "    .dataframe tbody tr th:only-of-type {\n",
       "        vertical-align: middle;\n",
       "    }\n",
       "\n",
       "    .dataframe tbody tr th {\n",
       "        vertical-align: top;\n",
       "    }\n",
       "\n",
       "    .dataframe thead th {\n",
       "        text-align: right;\n",
       "    }\n",
       "</style>\n",
       "<table border=\"1\" class=\"dataframe\">\n",
       "  <thead>\n",
       "    <tr style=\"text-align: right;\">\n",
       "      <th></th>\n",
       "      <th>AUS</th>\n",
       "      <th>CHN</th>\n",
       "      <th>FRA</th>\n",
       "      <th>DEU</th>\n",
       "      <th>USA</th>\n",
       "    </tr>\n",
       "    <tr>\n",
       "      <th>train_country</th>\n",
       "      <th></th>\n",
       "      <th></th>\n",
       "      <th></th>\n",
       "      <th></th>\n",
       "      <th></th>\n",
       "    </tr>\n",
       "  </thead>\n",
       "  <tbody>\n",
       "    <tr>\n",
       "      <th>AUS</th>\n",
       "      <td>1.000000</td>\n",
       "      <td>0.786787</td>\n",
       "      <td>0.781627</td>\n",
       "      <td>0.871111</td>\n",
       "      <td>0.699704</td>\n",
       "    </tr>\n",
       "    <tr>\n",
       "      <th>CHN</th>\n",
       "      <td>0.818496</td>\n",
       "      <td>1.000000</td>\n",
       "      <td>0.801423</td>\n",
       "      <td>0.920278</td>\n",
       "      <td>0.779586</td>\n",
       "    </tr>\n",
       "    <tr>\n",
       "      <th>FRA</th>\n",
       "      <td>0.839199</td>\n",
       "      <td>0.856106</td>\n",
       "      <td>1.000000</td>\n",
       "      <td>0.893611</td>\n",
       "      <td>0.720414</td>\n",
       "    </tr>\n",
       "    <tr>\n",
       "      <th>DEU</th>\n",
       "      <td>0.804693</td>\n",
       "      <td>0.868368</td>\n",
       "      <td>0.809156</td>\n",
       "      <td>1.000000</td>\n",
       "      <td>0.788092</td>\n",
       "    </tr>\n",
       "    <tr>\n",
       "      <th>USA</th>\n",
       "      <td>0.784679</td>\n",
       "      <td>0.820195</td>\n",
       "      <td>0.692546</td>\n",
       "      <td>0.821389</td>\n",
       "      <td>1.000000</td>\n",
       "    </tr>\n",
       "  </tbody>\n",
       "</table>\n",
       "</div>"
      ],
      "text/plain": [
       "                    AUS       CHN       FRA       DEU       USA\n",
       "train_country                                                  \n",
       "AUS            1.000000  0.786787  0.781627  0.871111  0.699704\n",
       "CHN            0.818496  1.000000  0.801423  0.920278  0.779586\n",
       "FRA            0.839199  0.856106  1.000000  0.893611  0.720414\n",
       "DEU            0.804693  0.868368  0.809156  1.000000  0.788092\n",
       "USA            0.784679  0.820195  0.692546  0.821389  1.000000"
      ]
     },
     "execution_count": 139,
     "metadata": {},
     "output_type": "execute_result"
    }
   ],
   "source": [
    "dfres = pd.read_excel('study2study_results_ROC.xlsx',index_col='train_country')\n",
    "\n",
    "dfres = dfres.rename(columns = {'AUS':\"AUS\", 'CHI':'CHN', 'FRA':'FRA', 'GER':'DEU', 'USA':'USA'},\n",
    "                    index =  {'AUS':\"AUS\", 'CHI':'CHN', 'FRA':'FRA', 'GER':'DEU', 'USA':'USA'}\n",
    "                    )\n",
    "\n",
    "dfres"
   ]
  },
  {
   "cell_type": "code",
   "execution_count": 140,
   "metadata": {},
   "outputs": [],
   "source": [
    "cols = ['FRA', 'AUS', 'CHN', 'USA', 'DEU']"
   ]
  },
  {
   "cell_type": "code",
   "execution_count": 141,
   "metadata": {},
   "outputs": [
    {
     "data": {
      "text/html": [
       "<div>\n",
       "<style scoped>\n",
       "    .dataframe tbody tr th:only-of-type {\n",
       "        vertical-align: middle;\n",
       "    }\n",
       "\n",
       "    .dataframe tbody tr th {\n",
       "        vertical-align: top;\n",
       "    }\n",
       "\n",
       "    .dataframe thead th {\n",
       "        text-align: right;\n",
       "    }\n",
       "</style>\n",
       "<table border=\"1\" class=\"dataframe\">\n",
       "  <thead>\n",
       "    <tr style=\"text-align: right;\">\n",
       "      <th></th>\n",
       "      <th>FRA</th>\n",
       "      <th>AUS</th>\n",
       "      <th>CHN</th>\n",
       "      <th>USA</th>\n",
       "      <th>DEU</th>\n",
       "    </tr>\n",
       "    <tr>\n",
       "      <th>train_country</th>\n",
       "      <th></th>\n",
       "      <th></th>\n",
       "      <th></th>\n",
       "      <th></th>\n",
       "      <th></th>\n",
       "    </tr>\n",
       "  </thead>\n",
       "  <tbody>\n",
       "    <tr>\n",
       "      <th>FRA</th>\n",
       "      <td>1.000</td>\n",
       "      <td>0.839</td>\n",
       "      <td>0.856</td>\n",
       "      <td>0.720</td>\n",
       "      <td>0.894</td>\n",
       "    </tr>\n",
       "    <tr>\n",
       "      <th>AUS</th>\n",
       "      <td>0.782</td>\n",
       "      <td>1.000</td>\n",
       "      <td>0.787</td>\n",
       "      <td>0.700</td>\n",
       "      <td>0.871</td>\n",
       "    </tr>\n",
       "    <tr>\n",
       "      <th>CHN</th>\n",
       "      <td>0.801</td>\n",
       "      <td>0.818</td>\n",
       "      <td>1.000</td>\n",
       "      <td>0.780</td>\n",
       "      <td>0.920</td>\n",
       "    </tr>\n",
       "    <tr>\n",
       "      <th>USA</th>\n",
       "      <td>0.693</td>\n",
       "      <td>0.785</td>\n",
       "      <td>0.820</td>\n",
       "      <td>1.000</td>\n",
       "      <td>0.821</td>\n",
       "    </tr>\n",
       "    <tr>\n",
       "      <th>DEU</th>\n",
       "      <td>0.809</td>\n",
       "      <td>0.805</td>\n",
       "      <td>0.868</td>\n",
       "      <td>0.788</td>\n",
       "      <td>1.000</td>\n",
       "    </tr>\n",
       "  </tbody>\n",
       "</table>\n",
       "</div>"
      ],
      "text/plain": [
       "                 FRA    AUS    CHN    USA    DEU\n",
       "train_country                                   \n",
       "FRA            1.000  0.839  0.856  0.720  0.894\n",
       "AUS            0.782  1.000  0.787  0.700  0.871\n",
       "CHN            0.801  0.818  1.000  0.780  0.920\n",
       "USA            0.693  0.785  0.820  1.000  0.821\n",
       "DEU            0.809  0.805  0.868  0.788  1.000"
      ]
     },
     "execution_count": 141,
     "metadata": {},
     "output_type": "execute_result"
    }
   ],
   "source": [
    "ourmodel_df = dfres[cols].loc[cols].round(3)\n",
    "ourmodel_df"
   ]
  },
  {
   "cell_type": "code",
   "execution_count": 142,
   "metadata": {},
   "outputs": [
    {
     "data": {
      "text/html": [
       "<div>\n",
       "<style scoped>\n",
       "    .dataframe tbody tr th:only-of-type {\n",
       "        vertical-align: middle;\n",
       "    }\n",
       "\n",
       "    .dataframe tbody tr th {\n",
       "        vertical-align: top;\n",
       "    }\n",
       "\n",
       "    .dataframe thead th {\n",
       "        text-align: right;\n",
       "    }\n",
       "</style>\n",
       "<table border=\"1\" class=\"dataframe\">\n",
       "  <thead>\n",
       "    <tr style=\"text-align: right;\">\n",
       "      <th>Test set</th>\n",
       "      <th>AUS</th>\n",
       "      <th>CHN</th>\n",
       "      <th>DEU</th>\n",
       "      <th>FRA</th>\n",
       "      <th>USA</th>\n",
       "    </tr>\n",
       "    <tr>\n",
       "      <th>Training set</th>\n",
       "      <th></th>\n",
       "      <th></th>\n",
       "      <th></th>\n",
       "      <th></th>\n",
       "      <th></th>\n",
       "    </tr>\n",
       "  </thead>\n",
       "  <tbody>\n",
       "    <tr>\n",
       "      <th>AUS</th>\n",
       "      <td>0.911663</td>\n",
       "      <td>0.741992</td>\n",
       "      <td>0.651944</td>\n",
       "      <td>0.628518</td>\n",
       "      <td>0.589497</td>\n",
       "    </tr>\n",
       "    <tr>\n",
       "      <th>CHN</th>\n",
       "      <td>0.764665</td>\n",
       "      <td>0.826076</td>\n",
       "      <td>0.830833</td>\n",
       "      <td>0.825549</td>\n",
       "      <td>0.669379</td>\n",
       "    </tr>\n",
       "    <tr>\n",
       "      <th>DEU</th>\n",
       "      <td>0.777778</td>\n",
       "      <td>0.877878</td>\n",
       "      <td>0.787500</td>\n",
       "      <td>0.844417</td>\n",
       "      <td>0.743713</td>\n",
       "    </tr>\n",
       "    <tr>\n",
       "      <th>FRA</th>\n",
       "      <td>0.768806</td>\n",
       "      <td>0.826577</td>\n",
       "      <td>0.831667</td>\n",
       "      <td>0.838231</td>\n",
       "      <td>0.642382</td>\n",
       "    </tr>\n",
       "    <tr>\n",
       "      <th>USA</th>\n",
       "      <td>0.777433</td>\n",
       "      <td>0.696947</td>\n",
       "      <td>0.788889</td>\n",
       "      <td>0.751005</td>\n",
       "      <td>0.729660</td>\n",
       "    </tr>\n",
       "  </tbody>\n",
       "</table>\n",
       "</div>"
      ],
      "text/plain": [
       "Test set           AUS       CHN       DEU       FRA       USA\n",
       "Training set                                                  \n",
       "AUS           0.911663  0.741992  0.651944  0.628518  0.589497\n",
       "CHN           0.764665  0.826076  0.830833  0.825549  0.669379\n",
       "DEU           0.777778  0.877878  0.787500  0.844417  0.743713\n",
       "FRA           0.768806  0.826577  0.831667  0.838231  0.642382\n",
       "USA           0.777433  0.696947  0.788889  0.751005  0.729660"
      ]
     },
     "execution_count": 142,
     "metadata": {},
     "output_type": "execute_result"
    }
   ],
   "source": [
    "y = \"\"\"Training set\tTest set\tAUC\n",
    "FRA\tFRA\t0.838230745\n",
    "FRA\tDEU\t0.831666667\n",
    "FRA\tCHN\t0.826576577\n",
    "FRA\tUSA\t0.642381657\n",
    "FRA\tAUS\t0.768806073\n",
    "DEU\tFRA\t0.84441695\n",
    "DEU\tDEU\t0.7875\n",
    "DEU\tCHN\t0.877877878\n",
    "DEU\tUSA\t0.743713018\n",
    "DEU\tAUS\t0.777777778\n",
    "CHN\tFRA\t0.825549026\n",
    "CHN\tDEU\t0.830833333\n",
    "CHN\tCHN\t0.826076076\n",
    "CHN\tUSA\t0.669378698\n",
    "CHN\tAUS\t0.764665286\n",
    "USA\tFRA\t0.751005258\n",
    "USA\tDEU\t0.788888889\n",
    "USA\tCHN\t0.696946947\n",
    "USA\tUSA\t0.729659763\n",
    "USA\tAUS\t0.777432712\n",
    "AUS\tFRA\t0.628518404\n",
    "AUS\tDEU\t0.651944444\n",
    "AUS\tCHN\t0.741991992\n",
    "AUS\tUSA\t0.589497041\n",
    "AUS\tAUS\t0.911663216\"\"\" \n",
    "pres = [i.split('\\t') for i in y.split('\\n')]\n",
    "\n",
    "previous_df = pd.DataFrame(pres[1:], columns=pres[0])\n",
    "previous_df['AUC'] = previous_df['AUC'].astype('float')\n",
    "previous_df = pd.pivot_table(previous_df, values='AUC', index='Training set', columns='Test set')\n",
    "\n",
    "previous_df"
   ]
  },
  {
   "cell_type": "code",
   "execution_count": 143,
   "metadata": {},
   "outputs": [
    {
     "data": {
      "text/html": [
       "<div>\n",
       "<style scoped>\n",
       "    .dataframe tbody tr th:only-of-type {\n",
       "        vertical-align: middle;\n",
       "    }\n",
       "\n",
       "    .dataframe tbody tr th {\n",
       "        vertical-align: top;\n",
       "    }\n",
       "\n",
       "    .dataframe thead th {\n",
       "        text-align: right;\n",
       "    }\n",
       "</style>\n",
       "<table border=\"1\" class=\"dataframe\">\n",
       "  <thead>\n",
       "    <tr style=\"text-align: right;\">\n",
       "      <th></th>\n",
       "      <th>AUS</th>\n",
       "      <th>CHN</th>\n",
       "      <th>DEU</th>\n",
       "      <th>FRA</th>\n",
       "      <th>USA</th>\n",
       "    </tr>\n",
       "    <tr>\n",
       "      <th>Training set</th>\n",
       "      <th></th>\n",
       "      <th></th>\n",
       "      <th></th>\n",
       "      <th></th>\n",
       "      <th></th>\n",
       "    </tr>\n",
       "  </thead>\n",
       "  <tbody>\n",
       "    <tr>\n",
       "      <th>AUS</th>\n",
       "      <td>1.000</td>\n",
       "      <td>0.787</td>\n",
       "      <td>0.871</td>\n",
       "      <td>0.782</td>\n",
       "      <td>0.700</td>\n",
       "    </tr>\n",
       "    <tr>\n",
       "      <th>CHN</th>\n",
       "      <td>0.818</td>\n",
       "      <td>1.000</td>\n",
       "      <td>0.920</td>\n",
       "      <td>0.801</td>\n",
       "      <td>0.780</td>\n",
       "    </tr>\n",
       "    <tr>\n",
       "      <th>DEU</th>\n",
       "      <td>0.805</td>\n",
       "      <td>0.868</td>\n",
       "      <td>1.000</td>\n",
       "      <td>0.809</td>\n",
       "      <td>0.788</td>\n",
       "    </tr>\n",
       "    <tr>\n",
       "      <th>FRA</th>\n",
       "      <td>0.839</td>\n",
       "      <td>0.856</td>\n",
       "      <td>0.894</td>\n",
       "      <td>1.000</td>\n",
       "      <td>0.720</td>\n",
       "    </tr>\n",
       "    <tr>\n",
       "      <th>USA</th>\n",
       "      <td>0.785</td>\n",
       "      <td>0.820</td>\n",
       "      <td>0.821</td>\n",
       "      <td>0.693</td>\n",
       "      <td>1.000</td>\n",
       "    </tr>\n",
       "  </tbody>\n",
       "</table>\n",
       "</div>"
      ],
      "text/plain": [
       "                AUS    CHN    DEU    FRA    USA\n",
       "Training set                                   \n",
       "AUS           1.000  0.787  0.871  0.782  0.700\n",
       "CHN           0.818  1.000  0.920  0.801  0.780\n",
       "DEU           0.805  0.868  1.000  0.809  0.788\n",
       "FRA           0.839  0.856  0.894  1.000  0.720\n",
       "USA           0.785  0.820  0.821  0.693  1.000"
      ]
     },
     "execution_count": 143,
     "metadata": {},
     "output_type": "execute_result"
    }
   ],
   "source": [
    "ourmodel_df = ourmodel_df.loc[previous_df.index][previous_df.columns]\n",
    "ourmodel_df"
   ]
  },
  {
   "cell_type": "code",
   "execution_count": null,
   "metadata": {},
   "outputs": [],
   "source": []
  },
  {
   "cell_type": "code",
   "execution_count": 144,
   "metadata": {},
   "outputs": [],
   "source": [
    "def get_non_diag_mean(df):\n",
    "    v = df.values.copy()\n",
    "    \n",
    "    np.fill_diagonal(v, np.nan)\n",
    "    \n",
    "    mean =  pd.DataFrame(v, columns = df.columns, index = df.index).mean(axis=1).round(2)\n",
    "    std = pd.DataFrame(v, columns = df.columns, index = df.index).std(axis=1).round(2)\n",
    "    return mean,std"
   ]
  },
  {
   "cell_type": "code",
   "execution_count": 145,
   "metadata": {},
   "outputs": [
    {
     "data": {
      "text/plain": [
       "0.75"
      ]
     },
     "execution_count": 145,
     "metadata": {},
     "output_type": "execute_result"
    }
   ],
   "source": [
    "get_non_diag_mean(previous_df)[0].mean()"
   ]
  },
  {
   "cell_type": "code",
   "execution_count": 146,
   "metadata": {},
   "outputs": [
    {
     "data": {
      "text/plain": [
       "0.808"
      ]
     },
     "execution_count": 146,
     "metadata": {},
     "output_type": "execute_result"
    }
   ],
   "source": [
    "get_non_diag_mean(ourmodel_df)[0].mean()"
   ]
  },
  {
   "cell_type": "code",
   "execution_count": 147,
   "metadata": {},
   "outputs": [
    {
     "data": {
      "image/png": "[encoded data removed]",
      "text/plain": [
       "<Figure size 1296x432 with 1 Axes>"
      ]
     },
     "metadata": {},
     "output_type": "display_data"
    }
   ],
   "source": [
    "sns.set(style = 'white', font_scale=2)\n",
    "\n",
    "fig, ax = plt.subplots(nrows=1, ncols=1, figsize=(18,6), sharex = True, sharey = True)\n",
    "\n",
    "y1 = get_non_diag_mean(previous_df)[0].to_frame(name = 'LASSO')\n",
    "y2 = get_non_diag_mean(ourmodel_df)[0].to_frame(name = 'AggMapNet')\n",
    "\n",
    "y1_err = get_non_diag_mean(previous_df)[1].to_frame(name = 'LASSO')\n",
    "y2_err = get_non_diag_mean(ourmodel_df)[1].to_frame(name = 'AggMapNet')\n",
    "\n",
    "y = y1.join(y2)\n",
    "y_err = y1_err.join(y2_err)\n",
    "\n",
    "color = sns.color_palette(\"rainbow_r\", 5) #PiYG\n",
    "\n",
    "y.plot(kind = 'bar',ax = ax, color = color, yerr= y_err,ylim = (0.5, 0.96), error_kw=dict(ecolor='gray', lw=2, capsize=6, capthick=2))\n",
    "ax.set_ylabel('ROC-AUC')\n",
    "#ax.set_title('Study To Study Transfer (STST) Average Performance')\n",
    "ax.set_xlabel('Study To Study Transfer Training Country')\n",
    "\n",
    "for x_, y_ in enumerate(y['LASSO'].values):\n",
    "    ax.annotate('%.2f' % y_, xy = (x_-0.39, y_+0.002), fontsize =22)\n",
    "\n",
    "for  x_, y_ in enumerate(y['AggMapNet'].values):\n",
    "    ax.annotate('%.2f' % y_, xy = (x_+0.14, y_+0.002), fontsize =22)\n",
    "    \n",
    "ax.set_xticklabels(labels = y.index,rotation=0, ha = 'center')\n",
    "ax.set_ylim(0.5,1.0)\n",
    "\n",
    "\n",
    "ax.tick_params(bottom='on', left='off',  labelleft='on', labelbottom='on', pad=-.6,)\n",
    "sns.despine(top=True, right=True, left=False, bottom=False)\n",
    "\n",
    "\n",
    "fig.savefig('./results/STST_loso_aggmap_vs_lasso__comparasion_mean.pdf', bbox_inches='tight', dpi=400) "
   ]
  },
  {
   "cell_type": "code",
   "execution_count": null,
   "metadata": {},
   "outputs": [],
   "source": []
  },
  {
   "cell_type": "code",
   "execution_count": 148,
   "metadata": {},
   "outputs": [
    {
     "data": {
      "image/png": "[encoded data removed]",
      "text/plain": [
       "<Figure size 936x309.6 with 4 Axes>"
      ]
     },
     "metadata": {},
     "output_type": "display_data"
    }
   ],
   "source": [
    "sns.set(style = 'white', font_scale=1.8)\n",
    "fig, axes = plt.subplots(nrows=1, ncols=2, figsize=(13,4.3), sharex=True, sharey=True)\n",
    "\n",
    "ax2, ax1 = axes\n",
    "\n",
    "sns.heatmap(ourmodel_df.round(2), cmap = 'Greens',  ax = ax1, annot=True,  vmin = 0.6, vmax = 0.9,)\n",
    "ax1.set_title(\"AggMapNet\")\n",
    "\n",
    "sns.heatmap(previous_df.round(2), cmap = 'Greens',  ax = ax2, annot=True, vmin = 0.6, vmax = 0.9,)\n",
    "ax2.set_title(\"LASSO\")\n",
    "\n",
    "ax1.set_ylabel('Train country')\n",
    "ax2.set_ylabel('Train country')\n",
    "\n",
    "ax1.set_xlabel('Test country')\n",
    "ax2.set_xlabel('Test country')\n",
    "\n",
    "\n",
    "fig.savefig('./results/STST_loso_aggmap_vs_lasso_comparasion_all.pdf', bbox_inches='tight', dpi=400) "
   ]
  },
  {
   "cell_type": "code",
   "execution_count": null,
   "metadata": {},
   "outputs": [],
   "source": []
  },
  {
   "cell_type": "code",
   "execution_count": null,
   "metadata": {},
   "outputs": [],
   "source": []
  },
  {
   "cell_type": "code",
   "execution_count": null,
   "metadata": {},
   "outputs": [],
   "source": []
  },
  {
   "cell_type": "code",
   "execution_count": null,
   "metadata": {},
   "outputs": [],
   "source": []
  },
  {
   "cell_type": "code",
   "execution_count": 149,
   "metadata": {},
   "outputs": [],
   "source": [
    "#number of samples\n",
    "res = {}\n",
    "for train_country in country_names:\n",
    "\n",
    "    train_idx = country_idx.loc[train_country]\n",
    "\n",
    "    trainx = X[train_idx]\n",
    "    trainY = Y[train_idx]\n",
    "    \n",
    "    ntr = len(trainx)\n",
    "    for test_country in country_names:\n",
    "        \n",
    "        if test_country == train_country:\n",
    "            continue\n",
    "            \n",
    "        test_idx = country_idx.loc[test_country]\n",
    "        testY = Y[test_idx]\n",
    "        testx = X[test_idx]\n",
    "        nts = len(testx)\n",
    "        n = nts + ntr\n",
    "        \n",
    "        res.update({'%s-%s' % (train_country, test_country) :n })"
   ]
  },
  {
   "cell_type": "code",
   "execution_count": 150,
   "metadata": {},
   "outputs": [
    {
     "data": {
      "text/html": [
       "<div>\n",
       "<style scoped>\n",
       "    .dataframe tbody tr th:only-of-type {\n",
       "        vertical-align: middle;\n",
       "    }\n",
       "\n",
       "    .dataframe tbody tr th {\n",
       "        vertical-align: top;\n",
       "    }\n",
       "\n",
       "    .dataframe thead th {\n",
       "        text-align: right;\n",
       "    }\n",
       "</style>\n",
       "<table border=\"1\" class=\"dataframe\">\n",
       "  <thead>\n",
       "    <tr style=\"text-align: right;\">\n",
       "      <th></th>\n",
       "      <th>0</th>\n",
       "    </tr>\n",
       "  </thead>\n",
       "  <tbody>\n",
       "    <tr>\n",
       "      <th>AUS-CHI</th>\n",
       "      <td>237</td>\n",
       "    </tr>\n",
       "    <tr>\n",
       "      <th>AUS-FRA</th>\n",
       "      <td>223</td>\n",
       "    </tr>\n",
       "    <tr>\n",
       "      <th>AUS-GER</th>\n",
       "      <td>229</td>\n",
       "    </tr>\n",
       "    <tr>\n",
       "      <th>AUS-USA</th>\n",
       "      <td>213</td>\n",
       "    </tr>\n",
       "    <tr>\n",
       "      <th>CHI-AUS</th>\n",
       "      <td>237</td>\n",
       "    </tr>\n",
       "    <tr>\n",
       "      <th>CHI-FRA</th>\n",
       "      <td>242</td>\n",
       "    </tr>\n",
       "    <tr>\n",
       "      <th>CHI-GER</th>\n",
       "      <td>248</td>\n",
       "    </tr>\n",
       "    <tr>\n",
       "      <th>CHI-USA</th>\n",
       "      <td>232</td>\n",
       "    </tr>\n",
       "    <tr>\n",
       "      <th>FRA-AUS</th>\n",
       "      <td>223</td>\n",
       "    </tr>\n",
       "    <tr>\n",
       "      <th>FRA-CHI</th>\n",
       "      <td>242</td>\n",
       "    </tr>\n",
       "    <tr>\n",
       "      <th>FRA-GER</th>\n",
       "      <td>234</td>\n",
       "    </tr>\n",
       "    <tr>\n",
       "      <th>FRA-USA</th>\n",
       "      <td>218</td>\n",
       "    </tr>\n",
       "    <tr>\n",
       "      <th>GER-AUS</th>\n",
       "      <td>229</td>\n",
       "    </tr>\n",
       "    <tr>\n",
       "      <th>GER-CHI</th>\n",
       "      <td>248</td>\n",
       "    </tr>\n",
       "    <tr>\n",
       "      <th>GER-FRA</th>\n",
       "      <td>234</td>\n",
       "    </tr>\n",
       "    <tr>\n",
       "      <th>GER-USA</th>\n",
       "      <td>224</td>\n",
       "    </tr>\n",
       "    <tr>\n",
       "      <th>USA-AUS</th>\n",
       "      <td>213</td>\n",
       "    </tr>\n",
       "    <tr>\n",
       "      <th>USA-CHI</th>\n",
       "      <td>232</td>\n",
       "    </tr>\n",
       "    <tr>\n",
       "      <th>USA-FRA</th>\n",
       "      <td>218</td>\n",
       "    </tr>\n",
       "    <tr>\n",
       "      <th>USA-GER</th>\n",
       "      <td>224</td>\n",
       "    </tr>\n",
       "  </tbody>\n",
       "</table>\n",
       "</div>"
      ],
      "text/plain": [
       "           0\n",
       "AUS-CHI  237\n",
       "AUS-FRA  223\n",
       "AUS-GER  229\n",
       "AUS-USA  213\n",
       "CHI-AUS  237\n",
       "CHI-FRA  242\n",
       "CHI-GER  248\n",
       "CHI-USA  232\n",
       "FRA-AUS  223\n",
       "FRA-CHI  242\n",
       "FRA-GER  234\n",
       "FRA-USA  218\n",
       "GER-AUS  229\n",
       "GER-CHI  248\n",
       "GER-FRA  234\n",
       "GER-USA  224\n",
       "USA-AUS  213\n",
       "USA-CHI  232\n",
       "USA-FRA  218\n",
       "USA-GER  224"
      ]
     },
     "execution_count": 150,
     "metadata": {},
     "output_type": "execute_result"
    }
   ],
   "source": [
    "pd.DataFrame([res]).T"
   ]
  },
  {
   "cell_type": "code",
   "execution_count": null,
   "metadata": {},
   "outputs": [],
   "source": []
  },
  {
   "cell_type": "code",
   "execution_count": null,
   "metadata": {},
   "outputs": [],
   "source": []
  },
  {
   "cell_type": "code",
   "execution_count": null,
   "metadata": {},
   "outputs": [],
   "source": []
  },
  {
   "cell_type": "code",
   "execution_count": null,
   "metadata": {},
   "outputs": [],
   "source": []
  },
  {
   "cell_type": "code",
   "execution_count": null,
   "metadata": {},
   "outputs": [],
   "source": []
  },
  {
   "cell_type": "code",
   "execution_count": null,
   "metadata": {},
   "outputs": [],
   "source": []
  },
  {
   "cell_type": "code",
   "execution_count": null,
   "metadata": {},
   "outputs": [],
   "source": []
  },
  {
   "cell_type": "code",
   "execution_count": null,
   "metadata": {},
   "outputs": [],
   "source": []
  },
  {
   "cell_type": "code",
   "execution_count": null,
   "metadata": {},
   "outputs": [],
   "source": []
  },
  {
   "cell_type": "code",
   "execution_count": null,
   "metadata": {},
   "outputs": [],
   "source": []
  },
  {
   "cell_type": "code",
   "execution_count": null,
   "metadata": {},
   "outputs": [],
   "source": []
  },
  {
   "cell_type": "code",
   "execution_count": null,
   "metadata": {},
   "outputs": [],
   "source": []
  },
  {
   "cell_type": "code",
   "execution_count": null,
   "metadata": {},
   "outputs": [],
   "source": []
  },
  {
   "cell_type": "code",
   "execution_count": null,
   "metadata": {},
   "outputs": [],
   "source": []
  },
  {
   "cell_type": "code",
   "execution_count": null,
   "metadata": {},
   "outputs": [],
   "source": []
  },
  {
   "cell_type": "code",
   "execution_count": null,
   "metadata": {},
   "outputs": [],
   "source": []
  }
 ],
 "metadata": {
  "kernelspec": {
   "display_name": "Python 3 (ipykernel)",
   "language": "python",
   "name": "python3"
  },
  "language_info": {
   "codemirror_mode": {
    "name": "ipython",
    "version": 3
   },
   "file_extension": ".py",
   "mimetype": "text/x-python",
   "name": "python",
   "nbconvert_exporter": "python",
   "pygments_lexer": "ipython3",
   "version": "3.7.11"
  }
 },
 "nbformat": 4,
 "nbformat_minor": 4
}
