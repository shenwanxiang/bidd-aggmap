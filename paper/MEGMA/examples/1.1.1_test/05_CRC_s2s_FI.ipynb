{
 "cells": [
  {
   "cell_type": "code",
   "execution_count": 2,
   "metadata": {},
   "outputs": [
    {
     "name": "stderr",
     "output_type": "stream",
     "text": [
      "2022-08-02 12:47:39.295098: I tensorflow/core/util/util.cc:169] oneDNN custom operations are on. You may see slightly different numerical results due to floating-point round-off errors from different computation orders. To turn them off, set the environment variable `TF_ENABLE_ONEDNN_OPTS=0`.\n"
     ]
    }
   ],
   "source": [
    "from aggmap import loadmap\n",
    "from tensorflow.keras.models import load_model\n",
    "from tensorflow.keras.models import Model\n",
    "from sklearn.metrics import mean_squared_error, log_loss\n",
    "import warnings, os\n",
    "\n",
    "import matplotlib.pyplot as plt\n",
    "import seaborn as sns\n",
    "import pandas as pd\n",
    "import numpy as np\n",
    "from copy import copy\n",
    "from tqdm import tqdm\n",
    "\n",
    "\n",
    "warnings.filterwarnings(\"ignore\")\n"
   ]
  },
  {
   "cell_type": "code",
   "execution_count": 3,
   "metadata": {},
   "outputs": [],
   "source": [
    "from fmp import CalcFeatImp"
   ]
  },
  {
   "cell_type": "code",
   "execution_count": 4,
   "metadata": {},
   "outputs": [],
   "source": [
    "dfx0 = pd.read_excel('./CRC.xlsx', sheet_name='data')\n",
    "dfx0 = dfx0[dfx0.columns[1:]]\n",
    "dfx = np.log(dfx0 + 1e-8)\n",
    "\n",
    "feature_groups_df = pd.read_excel('./CRC.xlsx', sheet_name='feature_info')\n",
    "feature_group_list = feature_groups_df.Group.tolist()\n",
    "\n",
    "dfy_all = pd.read_excel('./CRC.xlsx', sheet_name='sample_info')\n",
    "dfy = pd.get_dummies(dfy_all['Group'])\n",
    "\n",
    "\n",
    "X = dfx.values.astype(float)\n",
    "Y = dfy.values.astype(float)"
   ]
  },
  {
   "cell_type": "code",
   "execution_count": 5,
   "metadata": {},
   "outputs": [],
   "source": [
    "country_idx = dfy_all.groupby(['Country']).apply(lambda x:x.index.tolist())\n",
    "country_names = country_idx.index.tolist()"
   ]
  },
  {
   "cell_type": "code",
   "execution_count": 6,
   "metadata": {},
   "outputs": [
    {
     "data": {
      "text/plain": [
       "['AUS', 'CHI', 'FRA', 'GER', 'USA']"
      ]
     },
     "execution_count": 6,
     "metadata": {},
     "output_type": "execute_result"
    }
   ],
   "source": [
    "country_names"
   ]
  },
  {
   "cell_type": "code",
   "execution_count": 7,
   "metadata": {},
   "outputs": [],
   "source": [
    "model_save_path = './model'\n",
    "mp = loadmap('./model/aggmap.mp')"
   ]
  },
  {
   "cell_type": "code",
   "execution_count": 8,
   "metadata": {
    "tags": []
   },
   "outputs": [
    {
     "name": "stderr",
     "output_type": "stream",
     "text": [
      "100%|###############################################################################################################################################| 109/109 [00:01<00:00, 62.70it/s]\n",
      "2022-08-02 12:47:55.383345: I tensorflow/stream_executor/cuda/cuda_gpu_executor.cc:975] successful NUMA node read from SysFS had negative value (-1), but there must be at least one NUMA node, so returning NUMA node zero\n",
      "2022-08-02 12:47:55.383452: I tensorflow/stream_executor/cuda/cuda_gpu_executor.cc:975] successful NUMA node read from SysFS had negative value (-1), but there must be at least one NUMA node, so returning NUMA node zero\n",
      "2022-08-02 12:47:55.398637: I tensorflow/stream_executor/cuda/cuda_gpu_executor.cc:975] successful NUMA node read from SysFS had negative value (-1), but there must be at least one NUMA node, so returning NUMA node zero\n",
      "2022-08-02 12:47:55.398733: I tensorflow/stream_executor/cuda/cuda_gpu_executor.cc:975] successful NUMA node read from SysFS had negative value (-1), but there must be at least one NUMA node, so returning NUMA node zero\n",
      "2022-08-02 12:47:55.398819: I tensorflow/stream_executor/cuda/cuda_gpu_executor.cc:975] successful NUMA node read from SysFS had negative value (-1), but there must be at least one NUMA node, so returning NUMA node zero\n",
      "2022-08-02 12:47:55.398876: I tensorflow/stream_executor/cuda/cuda_gpu_executor.cc:975] successful NUMA node read from SysFS had negative value (-1), but there must be at least one NUMA node, so returning NUMA node zero\n",
      "2022-08-02 12:47:55.399183: I tensorflow/core/platform/cpu_feature_guard.cc:193] This TensorFlow binary is optimized with oneAPI Deep Neural Network Library (oneDNN) to use the following CPU instructions in performance-critical operations:  AVX2 AVX_VNNI FMA\n",
      "To enable them in other operations, rebuild TensorFlow with the appropriate compiler flags.\n",
      "2022-08-02 12:47:55.555532: I tensorflow/stream_executor/cuda/cuda_gpu_executor.cc:975] successful NUMA node read from SysFS had negative value (-1), but there must be at least one NUMA node, so returning NUMA node zero\n",
      "2022-08-02 12:47:55.555647: I tensorflow/stream_executor/cuda/cuda_gpu_executor.cc:975] successful NUMA node read from SysFS had negative value (-1), but there must be at least one NUMA node, so returning NUMA node zero\n",
      "2022-08-02 12:47:55.555711: I tensorflow/stream_executor/cuda/cuda_gpu_executor.cc:975] successful NUMA node read from SysFS had negative value (-1), but there must be at least one NUMA node, so returning NUMA node zero\n",
      "2022-08-02 12:47:55.555763: I tensorflow/stream_executor/cuda/cuda_gpu_executor.cc:975] successful NUMA node read from SysFS had negative value (-1), but there must be at least one NUMA node, so returning NUMA node zero\n",
      "2022-08-02 12:47:55.555814: I tensorflow/stream_executor/cuda/cuda_gpu_executor.cc:975] successful NUMA node read from SysFS had negative value (-1), but there must be at least one NUMA node, so returning NUMA node zero\n",
      "2022-08-02 12:47:55.555869: I tensorflow/stream_executor/cuda/cuda_gpu_executor.cc:975] successful NUMA node read from SysFS had negative value (-1), but there must be at least one NUMA node, so returning NUMA node zero\n",
      "2022-08-02 12:47:56.100532: I tensorflow/stream_executor/cuda/cuda_gpu_executor.cc:975] successful NUMA node read from SysFS had negative value (-1), but there must be at least one NUMA node, so returning NUMA node zero\n",
      "2022-08-02 12:47:56.100661: I tensorflow/stream_executor/cuda/cuda_gpu_executor.cc:975] successful NUMA node read from SysFS had negative value (-1), but there must be at least one NUMA node, so returning NUMA node zero\n",
      "2022-08-02 12:47:56.100724: I tensorflow/stream_executor/cuda/cuda_gpu_executor.cc:975] successful NUMA node read from SysFS had negative value (-1), but there must be at least one NUMA node, so returning NUMA node zero\n",
      "2022-08-02 12:47:56.100781: I tensorflow/stream_executor/cuda/cuda_gpu_executor.cc:975] successful NUMA node read from SysFS had negative value (-1), but there must be at least one NUMA node, so returning NUMA node zero\n",
      "2022-08-02 12:47:56.100834: I tensorflow/stream_executor/cuda/cuda_gpu_executor.cc:975] successful NUMA node read from SysFS had negative value (-1), but there must be at least one NUMA node, so returning NUMA node zero\n",
      "2022-08-02 12:47:56.100894: I tensorflow/core/common_runtime/gpu/gpu_device.cc:1532] Created device /job:localhost/replica:0/task:0/device:GPU:0 with 9962 MB memory:  -> device: 0, name: NVIDIA GeForce RTX 3080 Ti, pci bus id: 0000:01:00.0, compute capability: 8.6\n",
      "2022-08-02 12:47:56.101194: I tensorflow/stream_executor/cuda/cuda_gpu_executor.cc:975] successful NUMA node read from SysFS had negative value (-1), but there must be at least one NUMA node, so returning NUMA node zero\n",
      "2022-08-02 12:47:56.101251: I tensorflow/core/common_runtime/gpu/gpu_device.cc:1532] Created device /job:localhost/replica:0/task:0/device:GPU:1 with 94 MB memory:  -> device: 1, name: NVIDIA GeForce RTX 3080 Ti, pci bus id: 0000:04:00.0, compute capability: 8.6\n"
     ]
    },
    {
     "name": "stdout",
     "output_type": "stream",
     "text": [
      "2022-08-02 12:47:56,226 - \u001b[32mINFO\u001b[0m - [bidd-aggmap]\u001b[0m - generate file: ./feature points_849_correlation_umap_mp\u001b[0m\n",
      "2022-08-02 12:47:56,234 - \u001b[32mINFO\u001b[0m - [bidd-aggmap]\u001b[0m - save html file to ./feature points_849_correlation_umap_mp\u001b[0m\n"
     ]
    },
    {
     "name": "stderr",
     "output_type": "stream",
     "text": [
      "2022-08-02 12:47:56.777591: I tensorflow/stream_executor/cuda/cuda_dnn.cc:384] Loaded cuDNN version 8302\n"
     ]
    },
    {
     "name": "stdout",
     "output_type": "stream",
     "text": [
      "4/4 [==============================] - 1s 12ms/step\n"
     ]
    },
    {
     "name": "stderr",
     "output_type": "stream",
     "text": [
      "2022-08-02 12:47:57.352804: I tensorflow/core/platform/default/subprocess.cc:304] Start cannot spawn child process: No such file or directory\n",
      "2022-08-02 12:47:57.421119: I tensorflow/stream_executor/cuda/cuda_blas.cc:1786] TensorFloat-32 will be used for the matrix multiplication. This will only be logged once.\n"
     ]
    },
    {
     "name": "stdout",
     "output_type": "stream",
     "text": [
      "calculating feature importance for CRC ...\n"
     ]
    },
    {
     "name": "stderr",
     "output_type": "stream",
     "text": [
      "  0%|                                                                                                                                                         | 0/870 [00:00<?, ?it/s]"
     ]
    },
    {
     "name": "stdout",
     "output_type": "stream",
     "text": [
      "72/72 [==============================] - 0s 1ms/step\n"
     ]
    },
    {
     "name": "stderr",
     "output_type": "stream",
     "text": [
      "  2%|###4                                                                                                                                           | 21/870 [00:00<00:07, 115.47it/s]"
     ]
    },
    {
     "name": "stdout",
     "output_type": "stream",
     "text": [
      "69/69 [==============================] - 0s 2ms/step\n"
     ]
    },
    {
     "name": "stderr",
     "output_type": "stream",
     "text": [
      "  5%|######7                                                                                                                                         | 41/870 [00:00<00:08, 97.46it/s]"
     ]
    },
    {
     "name": "stdout",
     "output_type": "stream",
     "text": [
      "69/69 [==============================] - 0s 726us/step\n"
     ]
    },
    {
     "name": "stderr",
     "output_type": "stream",
     "text": [
      "  7%|##########                                                                                                                                     | 61/870 [00:00<00:06, 120.56it/s]"
     ]
    },
    {
     "name": "stdout",
     "output_type": "stream",
     "text": [
      "69/69 [==============================] - 0s 809us/step\n"
     ]
    },
    {
     "name": "stderr",
     "output_type": "stream",
     "text": [
      "  9%|#############3                                                                                                                                 | 81/870 [00:00<00:05, 134.12it/s]"
     ]
    },
    {
     "name": "stdout",
     "output_type": "stream",
     "text": [
      "69/69 [==============================] - 0s 3ms/step\n"
     ]
    },
    {
     "name": "stderr",
     "output_type": "stream",
     "text": [
      " 12%|################4                                                                                                                             | 101/870 [00:00<00:07, 106.29it/s]"
     ]
    },
    {
     "name": "stdout",
     "output_type": "stream",
     "text": [
      "69/69 [==============================] - 0s 723us/step\n"
     ]
    },
    {
     "name": "stderr",
     "output_type": "stream",
     "text": [
      " 14%|###################7                                                                                                                          | 121/870 [00:01<00:06, 121.16it/s]"
     ]
    },
    {
     "name": "stdout",
     "output_type": "stream",
     "text": [
      "69/69 [==============================] - 0s 982us/step\n"
     ]
    },
    {
     "name": "stderr",
     "output_type": "stream",
     "text": [
      " 16%|#######################                                                                                                                       | 141/870 [00:01<00:05, 124.56it/s]"
     ]
    },
    {
     "name": "stdout",
     "output_type": "stream",
     "text": [
      "69/69 [==============================] - 0s 806us/step\n"
     ]
    },
    {
     "name": "stderr",
     "output_type": "stream",
     "text": [
      " 19%|##########################2                                                                                                                   | 161/870 [00:01<00:05, 133.97it/s]"
     ]
    },
    {
     "name": "stdout",
     "output_type": "stream",
     "text": [
      "69/69 [==============================] - 0s 2ms/step\n"
     ]
    },
    {
     "name": "stderr",
     "output_type": "stream",
     "text": [
      " 21%|#############################5                                                                                                                | 181/870 [00:01<00:05, 117.38it/s]"
     ]
    },
    {
     "name": "stdout",
     "output_type": "stream",
     "text": [
      "69/69 [==============================] - 0s 2ms/step\n"
     ]
    },
    {
     "name": "stderr",
     "output_type": "stream",
     "text": [
      " 23%|################################8                                                                                                             | 201/870 [00:01<00:06, 109.84it/s]"
     ]
    },
    {
     "name": "stdout",
     "output_type": "stream",
     "text": [
      "69/69 [==============================] - 0s 792us/step\n"
     ]
    },
    {
     "name": "stderr",
     "output_type": "stream",
     "text": [
      " 25%|####################################                                                                                                          | 221/870 [00:01<00:05, 122.92it/s]"
     ]
    },
    {
     "name": "stdout",
     "output_type": "stream",
     "text": [
      "69/69 [==============================] - 0s 877us/step\n"
     ]
    },
    {
     "name": "stderr",
     "output_type": "stream",
     "text": [
      " 28%|#######################################3                                                                                                      | 241/870 [00:01<00:04, 132.58it/s]"
     ]
    },
    {
     "name": "stdout",
     "output_type": "stream",
     "text": [
      "69/69 [==============================] - 0s 835us/step\n"
     ]
    },
    {
     "name": "stderr",
     "output_type": "stream",
     "text": [
      " 30%|##########################################6                                                                                                   | 261/870 [00:02<00:04, 139.38it/s]"
     ]
    },
    {
     "name": "stdout",
     "output_type": "stream",
     "text": [
      "69/69 [==============================] - 0s 2ms/step\n"
     ]
    },
    {
     "name": "stderr",
     "output_type": "stream",
     "text": [
      " 32%|#############################################8                                                                                                | 281/870 [00:02<00:05, 112.56it/s]"
     ]
    },
    {
     "name": "stdout",
     "output_type": "stream",
     "text": [
      "69/69 [==============================] - 0s 1ms/step\n"
     ]
    },
    {
     "name": "stderr",
     "output_type": "stream",
     "text": [
      " 35%|#################################################1                                                                                            | 301/870 [00:02<00:04, 115.51it/s]"
     ]
    },
    {
     "name": "stdout",
     "output_type": "stream",
     "text": [
      "69/69 [==============================] - 0s 715us/step\n"
     ]
    },
    {
     "name": "stderr",
     "output_type": "stream",
     "text": [
      " 37%|####################################################3                                                                                         | 321/870 [00:02<00:04, 128.04it/s]"
     ]
    },
    {
     "name": "stdout",
     "output_type": "stream",
     "text": [
      "69/69 [==============================] - 0s 2ms/step\n"
     ]
    },
    {
     "name": "stderr",
     "output_type": "stream",
     "text": [
      " 39%|#######################################################6                                                                                      | 341/870 [00:02<00:04, 120.38it/s]"
     ]
    },
    {
     "name": "stdout",
     "output_type": "stream",
     "text": [
      "69/69 [==============================] - 0s 3ms/step\n"
     ]
    },
    {
     "name": "stderr",
     "output_type": "stream",
     "text": [
      " 41%|##########################################################9                                                                                   | 361/870 [00:03<00:04, 103.11it/s]"
     ]
    },
    {
     "name": "stdout",
     "output_type": "stream",
     "text": [
      "69/69 [==============================] - 0s 831us/step\n"
     ]
    },
    {
     "name": "stderr",
     "output_type": "stream",
     "text": [
      " 44%|##############################################################1                                                                               | 381/870 [00:03<00:04, 115.79it/s]"
     ]
    },
    {
     "name": "stdout",
     "output_type": "stream",
     "text": [
      "69/69 [==============================] - 0s 712us/step\n"
     ]
    },
    {
     "name": "stderr",
     "output_type": "stream",
     "text": [
      " 46%|#################################################################4                                                                            | 401/870 [00:03<00:03, 129.02it/s]"
     ]
    },
    {
     "name": "stdout",
     "output_type": "stream",
     "text": [
      "69/69 [==============================] - 0s 2ms/step\n"
     ]
    },
    {
     "name": "stderr",
     "output_type": "stream",
     "text": [
      " 48%|####################################################################7                                                                         | 421/870 [00:03<00:04, 111.13it/s]"
     ]
    },
    {
     "name": "stdout",
     "output_type": "stream",
     "text": [
      "69/69 [==============================] - 0s 728us/step\n"
     ]
    },
    {
     "name": "stderr",
     "output_type": "stream",
     "text": [
      " 51%|#######################################################################9                                                                      | 441/870 [00:03<00:03, 124.30it/s]"
     ]
    },
    {
     "name": "stdout",
     "output_type": "stream",
     "text": [
      "69/69 [==============================] - 0s 1ms/step\n"
     ]
    },
    {
     "name": "stderr",
     "output_type": "stream",
     "text": [
      " 53%|###########################################################################2                                                                  | 461/870 [00:03<00:03, 124.62it/s]"
     ]
    },
    {
     "name": "stdout",
     "output_type": "stream",
     "text": [
      "69/69 [==============================] - 0s 1ms/step\n"
     ]
    },
    {
     "name": "stderr",
     "output_type": "stream",
     "text": [
      " 55%|##############################################################################5                                                               | 481/870 [00:03<00:03, 129.39it/s]"
     ]
    },
    {
     "name": "stdout",
     "output_type": "stream",
     "text": [
      "69/69 [==============================] - 0s 716us/step\n"
     ]
    },
    {
     "name": "stderr",
     "output_type": "stream",
     "text": [
      " 58%|#################################################################################7                                                            | 501/870 [00:04<00:02, 140.02it/s]"
     ]
    },
    {
     "name": "stdout",
     "output_type": "stream",
     "text": [
      "69/69 [==============================] - 0s 801us/step\n"
     ]
    },
    {
     "name": "stderr",
     "output_type": "stream",
     "text": [
      " 60%|#####################################################################################                                                         | 521/870 [00:04<00:02, 147.30it/s]"
     ]
    },
    {
     "name": "stdout",
     "output_type": "stream",
     "text": [
      "69/69 [==============================] - 0s 874us/step\n"
     ]
    },
    {
     "name": "stderr",
     "output_type": "stream",
     "text": [
      " 62%|########################################################################################3                                                     | 541/870 [00:04<00:02, 148.12it/s]"
     ]
    },
    {
     "name": "stdout",
     "output_type": "stream",
     "text": [
      "69/69 [==============================] - 0s 941us/step\n"
     ]
    },
    {
     "name": "stderr",
     "output_type": "stream",
     "text": [
      " 64%|###########################################################################################5                                                  | 561/870 [00:04<00:02, 146.99it/s]"
     ]
    },
    {
     "name": "stdout",
     "output_type": "stream",
     "text": [
      "69/69 [==============================] - 0s 1ms/step\n"
     ]
    },
    {
     "name": "stderr",
     "output_type": "stream",
     "text": [
      " 67%|##############################################################################################8                                               | 581/870 [00:04<00:02, 134.88it/s]"
     ]
    },
    {
     "name": "stdout",
     "output_type": "stream",
     "text": [
      "69/69 [==============================] - 0s 709us/step\n"
     ]
    },
    {
     "name": "stderr",
     "output_type": "stream",
     "text": [
      " 69%|##################################################################################################                                            | 601/870 [00:04<00:01, 145.92it/s]"
     ]
    },
    {
     "name": "stdout",
     "output_type": "stream",
     "text": [
      "69/69 [==============================] - 0s 792us/step\n"
     ]
    },
    {
     "name": "stderr",
     "output_type": "stream",
     "text": [
      " 71%|#####################################################################################################3                                        | 621/870 [00:04<00:01, 152.80it/s]"
     ]
    },
    {
     "name": "stdout",
     "output_type": "stream",
     "text": [
      "69/69 [==============================] - 0s 704us/step\n"
     ]
    },
    {
     "name": "stderr",
     "output_type": "stream",
     "text": [
      " 74%|########################################################################################################6                                     | 641/870 [00:04<00:01, 160.21it/s]"
     ]
    },
    {
     "name": "stdout",
     "output_type": "stream",
     "text": [
      "69/69 [==============================] - 0s 720us/step\n"
     ]
    },
    {
     "name": "stderr",
     "output_type": "stream",
     "text": [
      " 76%|###########################################################################################################8                                  | 661/870 [00:05<00:01, 164.94it/s]"
     ]
    },
    {
     "name": "stdout",
     "output_type": "stream",
     "text": [
      "69/69 [==============================] - 0s 2ms/step\n"
     ]
    },
    {
     "name": "stderr",
     "output_type": "stream",
     "text": [
      " 78%|###############################################################################################################1                              | 681/870 [00:05<00:01, 132.93it/s]"
     ]
    },
    {
     "name": "stdout",
     "output_type": "stream",
     "text": [
      "69/69 [==============================] - 0s 2ms/step\n"
     ]
    },
    {
     "name": "stderr",
     "output_type": "stream",
     "text": [
      " 81%|##################################################################################################################4                           | 701/870 [00:05<00:01, 114.67it/s]"
     ]
    },
    {
     "name": "stdout",
     "output_type": "stream",
     "text": [
      "69/69 [==============================] - 0s 3ms/step\n"
     ]
    },
    {
     "name": "stderr",
     "output_type": "stream",
     "text": [
      " 83%|#####################################################################################################################6                        | 721/870 [00:05<00:01, 100.27it/s]"
     ]
    },
    {
     "name": "stdout",
     "output_type": "stream",
     "text": [
      "69/69 [==============================] - 0s 911us/step\n"
     ]
    },
    {
     "name": "stderr",
     "output_type": "stream",
     "text": [
      " 85%|########################################################################################################################9                     | 741/870 [00:05<00:01, 112.65it/s]"
     ]
    },
    {
     "name": "stdout",
     "output_type": "stream",
     "text": [
      "69/69 [==============================] - 0s 1ms/step\n"
     ]
    },
    {
     "name": "stderr",
     "output_type": "stream",
     "text": [
      " 87%|############################################################################################################################2                 | 761/870 [00:06<00:00, 118.32it/s]"
     ]
    },
    {
     "name": "stdout",
     "output_type": "stream",
     "text": [
      "69/69 [==============================] - 0s 2ms/step\n"
     ]
    },
    {
     "name": "stderr",
     "output_type": "stream",
     "text": [
      " 90%|###############################################################################################################################4              | 781/870 [00:06<00:00, 111.11it/s]"
     ]
    },
    {
     "name": "stdout",
     "output_type": "stream",
     "text": [
      "69/69 [==============================] - 0s 2ms/step\n"
     ]
    },
    {
     "name": "stderr",
     "output_type": "stream",
     "text": [
      " 92%|##################################################################################################################################7           | 801/870 [00:06<00:00, 110.45it/s]"
     ]
    },
    {
     "name": "stdout",
     "output_type": "stream",
     "text": [
      "69/69 [==============================] - 0s 1ms/step\n"
     ]
    },
    {
     "name": "stderr",
     "output_type": "stream",
     "text": [
      " 94%|######################################################################################################################################        | 821/870 [00:06<00:00, 118.96it/s]"
     ]
    },
    {
     "name": "stdout",
     "output_type": "stream",
     "text": [
      "69/69 [==============================] - 0s 776us/step\n"
     ]
    },
    {
     "name": "stderr",
     "output_type": "stream",
     "text": [
      " 97%|#########################################################################################################################################2    | 841/870 [00:06<00:00, 129.41it/s]"
     ]
    },
    {
     "name": "stdout",
     "output_type": "stream",
     "text": [
      "69/69 [==============================] - 0s 800us/step\n"
     ]
    },
    {
     "name": "stderr",
     "output_type": "stream",
     "text": [
      " 99%|############################################################################################################################################5 | 861/870 [00:06<00:00, 139.56it/s]"
     ]
    },
    {
     "name": "stdout",
     "output_type": "stream",
     "text": [
      "31/31 [==============================] - 0s 2ms/step\n"
     ]
    },
    {
     "name": "stderr",
     "output_type": "stream",
     "text": [
      "100%|##############################################################################################################################################| 870/870 [00:06<00:00, 125.12it/s]\n"
     ]
    },
    {
     "name": "stdout",
     "output_type": "stream",
     "text": [
      "calculating feature importance for CTR ...\n"
     ]
    },
    {
     "name": "stderr",
     "output_type": "stream",
     "text": [
      "  0%|                                                                                                                                                         | 0/870 [00:00<?, ?it/s]"
     ]
    },
    {
     "name": "stdout",
     "output_type": "stream",
     "text": [
      "72/72 [==============================] - 0s 1ms/step\n"
     ]
    },
    {
     "name": "stderr",
     "output_type": "stream",
     "text": [
      "  2%|###4                                                                                                                                           | 21/870 [00:00<00:06, 135.31it/s]"
     ]
    },
    {
     "name": "stdout",
     "output_type": "stream",
     "text": [
      "69/69 [==============================] - 0s 2ms/step\n"
     ]
    },
    {
     "name": "stderr",
     "output_type": "stream",
     "text": [
      "  5%|######7                                                                                                                                        | 41/870 [00:00<00:07, 112.28it/s]"
     ]
    },
    {
     "name": "stdout",
     "output_type": "stream",
     "text": [
      "69/69 [==============================] - 0s 2ms/step\n"
     ]
    },
    {
     "name": "stderr",
     "output_type": "stream",
     "text": [
      "  7%|##########                                                                                                                                     | 61/870 [00:00<00:07, 104.73it/s]"
     ]
    },
    {
     "name": "stdout",
     "output_type": "stream",
     "text": [
      "69/69 [==============================] - 0s 2ms/step\n"
     ]
    },
    {
     "name": "stderr",
     "output_type": "stream",
     "text": [
      "  9%|#############4                                                                                                                                  | 81/870 [00:00<00:08, 92.42it/s]"
     ]
    },
    {
     "name": "stdout",
     "output_type": "stream",
     "text": [
      "69/69 [==============================] - 0s 881us/step\n"
     ]
    },
    {
     "name": "stderr",
     "output_type": "stream",
     "text": [
      " 12%|################4                                                                                                                             | 101/870 [00:00<00:07, 109.16it/s]"
     ]
    },
    {
     "name": "stdout",
     "output_type": "stream",
     "text": [
      "69/69 [==============================] - 0s 716us/step\n"
     ]
    },
    {
     "name": "stderr",
     "output_type": "stream",
     "text": [
      " 14%|###################7                                                                                                                          | 121/870 [00:01<00:05, 125.87it/s]"
     ]
    },
    {
     "name": "stdout",
     "output_type": "stream",
     "text": [
      "69/69 [==============================] - 0s 928us/step\n"
     ]
    },
    {
     "name": "stderr",
     "output_type": "stream",
     "text": [
      " 16%|#######################                                                                                                                       | 141/870 [00:01<00:05, 131.83it/s]"
     ]
    },
    {
     "name": "stdout",
     "output_type": "stream",
     "text": [
      "69/69 [==============================] - 0s 2ms/step\n"
     ]
    },
    {
     "name": "stderr",
     "output_type": "stream",
     "text": [
      " 19%|##########################2                                                                                                                   | 161/870 [00:01<00:05, 125.70it/s]"
     ]
    },
    {
     "name": "stdout",
     "output_type": "stream",
     "text": [
      "69/69 [==============================] - 0s 964us/step\n"
     ]
    },
    {
     "name": "stderr",
     "output_type": "stream",
     "text": [
      " 21%|#############################5                                                                                                                | 181/870 [00:01<00:05, 131.83it/s]"
     ]
    },
    {
     "name": "stdout",
     "output_type": "stream",
     "text": [
      "69/69 [==============================] - 0s 744us/step\n"
     ]
    },
    {
     "name": "stderr",
     "output_type": "stream",
     "text": [
      " 23%|################################8                                                                                                             | 201/870 [00:01<00:04, 142.06it/s]"
     ]
    },
    {
     "name": "stdout",
     "output_type": "stream",
     "text": [
      "69/69 [==============================] - 0s 1ms/step\n"
     ]
    },
    {
     "name": "stderr",
     "output_type": "stream",
     "text": [
      " 25%|####################################                                                                                                          | 221/870 [00:01<00:04, 137.59it/s]"
     ]
    },
    {
     "name": "stdout",
     "output_type": "stream",
     "text": [
      "69/69 [==============================] - 0s 3ms/step\n"
     ]
    },
    {
     "name": "stderr",
     "output_type": "stream",
     "text": [
      " 28%|#######################################3                                                                                                      | 241/870 [00:02<00:06, 101.89it/s]"
     ]
    },
    {
     "name": "stdout",
     "output_type": "stream",
     "text": [
      "69/69 [==============================] - 0s 2ms/step\n"
     ]
    },
    {
     "name": "stderr",
     "output_type": "stream",
     "text": [
      " 30%|##########################################6                                                                                                   | 261/870 [00:02<00:06, 100.24it/s]"
     ]
    },
    {
     "name": "stdout",
     "output_type": "stream",
     "text": [
      "69/69 [==============================] - 0s 1ms/step\n"
     ]
    },
    {
     "name": "stderr",
     "output_type": "stream",
     "text": [
      " 32%|#############################################8                                                                                                | 281/870 [00:02<00:05, 108.75it/s]"
     ]
    },
    {
     "name": "stdout",
     "output_type": "stream",
     "text": [
      "69/69 [==============================] - 0s 728us/step\n"
     ]
    },
    {
     "name": "stderr",
     "output_type": "stream",
     "text": [
      " 35%|#################################################1                                                                                            | 301/870 [00:02<00:04, 121.39it/s]"
     ]
    },
    {
     "name": "stdout",
     "output_type": "stream",
     "text": [
      "69/69 [==============================] - 0s 1ms/step\n"
     ]
    },
    {
     "name": "stderr",
     "output_type": "stream",
     "text": [
      " 37%|####################################################3                                                                                         | 321/870 [00:02<00:04, 123.20it/s]"
     ]
    },
    {
     "name": "stdout",
     "output_type": "stream",
     "text": [
      "69/69 [==============================] - 0s 2ms/step\n"
     ]
    },
    {
     "name": "stderr",
     "output_type": "stream",
     "text": [
      " 39%|#######################################################6                                                                                      | 341/870 [00:02<00:04, 116.42it/s]"
     ]
    },
    {
     "name": "stdout",
     "output_type": "stream",
     "text": [
      "69/69 [==============================] - 0s 1ms/step\n"
     ]
    },
    {
     "name": "stderr",
     "output_type": "stream",
     "text": [
      " 41%|##########################################################9                                                                                   | 361/870 [00:03<00:04, 122.89it/s]"
     ]
    },
    {
     "name": "stdout",
     "output_type": "stream",
     "text": [
      "69/69 [==============================] - 0s 2ms/step\n"
     ]
    },
    {
     "name": "stderr",
     "output_type": "stream",
     "text": [
      " 44%|##############################################################1                                                                               | 381/870 [00:03<00:04, 118.62it/s]"
     ]
    },
    {
     "name": "stdout",
     "output_type": "stream",
     "text": [
      "69/69 [==============================] - 0s 835us/step\n"
     ]
    },
    {
     "name": "stderr",
     "output_type": "stream",
     "text": [
      " 46%|#################################################################4                                                                            | 401/870 [00:03<00:03, 128.44it/s]"
     ]
    },
    {
     "name": "stdout",
     "output_type": "stream",
     "text": [
      "69/69 [==============================] - 0s 920us/step\n"
     ]
    },
    {
     "name": "stderr",
     "output_type": "stream",
     "text": [
      " 48%|####################################################################7                                                                         | 421/870 [00:03<00:03, 135.52it/s]"
     ]
    },
    {
     "name": "stdout",
     "output_type": "stream",
     "text": [
      "69/69 [==============================] - 0s 695us/step\n"
     ]
    },
    {
     "name": "stderr",
     "output_type": "stream",
     "text": [
      " 51%|#######################################################################9                                                                      | 441/870 [00:03<00:02, 144.49it/s]"
     ]
    },
    {
     "name": "stdout",
     "output_type": "stream",
     "text": [
      "69/69 [==============================] - 0s 700us/step\n"
     ]
    },
    {
     "name": "stderr",
     "output_type": "stream",
     "text": [
      " 53%|###########################################################################2                                                                  | 461/870 [00:03<00:02, 150.66it/s]"
     ]
    },
    {
     "name": "stdout",
     "output_type": "stream",
     "text": [
      "69/69 [==============================] - 0s 879us/step\n"
     ]
    },
    {
     "name": "stderr",
     "output_type": "stream",
     "text": [
      " 55%|##############################################################################5                                                               | 481/870 [00:03<00:02, 150.96it/s]"
     ]
    },
    {
     "name": "stdout",
     "output_type": "stream",
     "text": [
      "69/69 [==============================] - 0s 1ms/step\n"
     ]
    },
    {
     "name": "stderr",
     "output_type": "stream",
     "text": [
      " 58%|#################################################################################7                                                            | 501/870 [00:04<00:02, 141.88it/s]"
     ]
    },
    {
     "name": "stdout",
     "output_type": "stream",
     "text": [
      "69/69 [==============================] - 0s 2ms/step\n"
     ]
    },
    {
     "name": "stderr",
     "output_type": "stream",
     "text": [
      " 60%|#####################################################################################                                                         | 521/870 [00:04<00:02, 127.39it/s]"
     ]
    },
    {
     "name": "stdout",
     "output_type": "stream",
     "text": [
      "69/69 [==============================] - 0s 2ms/step\n"
     ]
    },
    {
     "name": "stderr",
     "output_type": "stream",
     "text": [
      " 62%|########################################################################################3                                                     | 541/870 [00:04<00:02, 109.92it/s]"
     ]
    },
    {
     "name": "stdout",
     "output_type": "stream",
     "text": [
      "69/69 [==============================] - 0s 1ms/step\n"
     ]
    },
    {
     "name": "stderr",
     "output_type": "stream",
     "text": [
      " 64%|###########################################################################################5                                                  | 561/870 [00:04<00:02, 117.43it/s]"
     ]
    },
    {
     "name": "stdout",
     "output_type": "stream",
     "text": [
      "69/69 [==============================] - 0s 3ms/step\n"
     ]
    },
    {
     "name": "stderr",
     "output_type": "stream",
     "text": [
      " 67%|##############################################################################################8                                               | 581/870 [00:04<00:02, 102.53it/s]"
     ]
    },
    {
     "name": "stdout",
     "output_type": "stream",
     "text": [
      "69/69 [==============================] - 0s 1ms/step\n"
     ]
    },
    {
     "name": "stderr",
     "output_type": "stream",
     "text": [
      " 69%|##################################################################################################                                            | 601/870 [00:05<00:02, 106.38it/s]"
     ]
    },
    {
     "name": "stdout",
     "output_type": "stream",
     "text": [
      "69/69 [==============================] - 0s 2ms/step\n"
     ]
    },
    {
     "name": "stderr",
     "output_type": "stream",
     "text": [
      " 71%|#####################################################################################################3                                        | 621/870 [00:05<00:02, 106.83it/s]"
     ]
    },
    {
     "name": "stdout",
     "output_type": "stream",
     "text": [
      "69/69 [==============================] - 0s 2ms/step\n"
     ]
    },
    {
     "name": "stderr",
     "output_type": "stream",
     "text": [
      " 74%|########################################################################################################6                                     | 641/870 [00:05<00:02, 107.46it/s]"
     ]
    },
    {
     "name": "stdout",
     "output_type": "stream",
     "text": [
      "69/69 [==============================] - 0s 699us/step\n"
     ]
    },
    {
     "name": "stderr",
     "output_type": "stream",
     "text": [
      " 76%|###########################################################################################################8                                  | 661/870 [00:05<00:01, 120.64it/s]"
     ]
    },
    {
     "name": "stdout",
     "output_type": "stream",
     "text": [
      "69/69 [==============================] - 0s 842us/step\n"
     ]
    },
    {
     "name": "stderr",
     "output_type": "stream",
     "text": [
      " 78%|###############################################################################################################1                              | 681/870 [00:05<00:01, 131.44it/s]"
     ]
    },
    {
     "name": "stdout",
     "output_type": "stream",
     "text": [
      "69/69 [==============================] - 0s 1ms/step\n"
     ]
    },
    {
     "name": "stderr",
     "output_type": "stream",
     "text": [
      " 81%|##################################################################################################################4                           | 701/870 [00:05<00:01, 130.71it/s]"
     ]
    },
    {
     "name": "stdout",
     "output_type": "stream",
     "text": [
      "69/69 [==============================] - 0s 2ms/step\n"
     ]
    },
    {
     "name": "stderr",
     "output_type": "stream",
     "text": [
      " 83%|#####################################################################################################################6                        | 721/870 [00:05<00:01, 120.77it/s]"
     ]
    },
    {
     "name": "stdout",
     "output_type": "stream",
     "text": [
      "69/69 [==============================] - 0s 2ms/step\n"
     ]
    },
    {
     "name": "stderr",
     "output_type": "stream",
     "text": [
      " 85%|########################################################################################################################9                     | 741/870 [00:06<00:01, 106.30it/s]"
     ]
    },
    {
     "name": "stdout",
     "output_type": "stream",
     "text": [
      "69/69 [==============================] - 0s 3ms/step\n"
     ]
    },
    {
     "name": "stderr",
     "output_type": "stream",
     "text": [
      " 87%|#############################################################################################################################                  | 761/870 [00:06<00:01, 91.00it/s]"
     ]
    },
    {
     "name": "stdout",
     "output_type": "stream",
     "text": [
      "69/69 [==============================] - 0s 1ms/step\n"
     ]
    },
    {
     "name": "stderr",
     "output_type": "stream",
     "text": [
      " 90%|###############################################################################################################################4              | 781/870 [00:06<00:00, 100.06it/s]"
     ]
    },
    {
     "name": "stdout",
     "output_type": "stream",
     "text": [
      "69/69 [==============================] - 0s 710us/step\n"
     ]
    },
    {
     "name": "stderr",
     "output_type": "stream",
     "text": [
      " 92%|##################################################################################################################################7           | 801/870 [00:06<00:00, 113.91it/s]"
     ]
    },
    {
     "name": "stdout",
     "output_type": "stream",
     "text": [
      "69/69 [==============================] - 0s 700us/step\n"
     ]
    },
    {
     "name": "stderr",
     "output_type": "stream",
     "text": [
      " 94%|######################################################################################################################################        | 821/870 [00:06<00:00, 127.54it/s]"
     ]
    },
    {
     "name": "stdout",
     "output_type": "stream",
     "text": [
      "69/69 [==============================] - 0s 709us/step\n"
     ]
    },
    {
     "name": "stderr",
     "output_type": "stream",
     "text": [
      " 97%|#########################################################################################################################################2    | 841/870 [00:07<00:00, 139.42it/s]"
     ]
    },
    {
     "name": "stdout",
     "output_type": "stream",
     "text": [
      "69/69 [==============================] - 0s 712us/step\n"
     ]
    },
    {
     "name": "stderr",
     "output_type": "stream",
     "text": [
      " 99%|############################################################################################################################################5 | 861/870 [00:07<00:00, 145.46it/s]"
     ]
    },
    {
     "name": "stdout",
     "output_type": "stream",
     "text": [
      "31/31 [==============================] - 0s 1ms/step\n"
     ]
    },
    {
     "name": "stderr",
     "output_type": "stream",
     "text": [
      "100%|##############################################################################################################################################| 870/870 [00:07<00:00, 120.47it/s]\n",
      "100%|#############################################################################################################################################| 128/128 [00:00<00:00, 1982.81it/s]\n"
     ]
    },
    {
     "name": "stdout",
     "output_type": "stream",
     "text": [
      "2022-08-02 12:48:11,839 - \u001b[32mINFO\u001b[0m - [bidd-aggmap]\u001b[0m - generate file: ./feature points_849_correlation_umap_mp\u001b[0m\n",
      "2022-08-02 12:48:11,846 - \u001b[32mINFO\u001b[0m - [bidd-aggmap]\u001b[0m - save html file to ./feature points_849_correlation_umap_mp\u001b[0m\n",
      "4/4 [==============================] - 0s 2ms/step\n",
      "calculating feature importance for CRC ...\n"
     ]
    },
    {
     "name": "stderr",
     "output_type": "stream",
     "text": [
      "  0%|                                                                                                                                                         | 0/870 [00:00<?, ?it/s]"
     ]
    },
    {
     "name": "stdout",
     "output_type": "stream",
     "text": [
      "84/84 [==============================] - 0s 790us/step\n"
     ]
    },
    {
     "name": "stderr",
     "output_type": "stream",
     "text": [
      "  2%|###4                                                                                                                                           | 21/870 [00:00<00:05, 146.70it/s]"
     ]
    },
    {
     "name": "stdout",
     "output_type": "stream",
     "text": [
      "80/80 [==============================] - 0s 764us/step\n"
     ]
    },
    {
     "name": "stderr",
     "output_type": "stream",
     "text": [
      "  5%|######7                                                                                                                                        | 41/870 [00:00<00:05, 142.96it/s]"
     ]
    },
    {
     "name": "stdout",
     "output_type": "stream",
     "text": [
      "80/80 [==============================] - 0s 999us/step\n"
     ]
    },
    {
     "name": "stderr",
     "output_type": "stream",
     "text": [
      "  7%|##########                                                                                                                                     | 61/870 [00:00<00:06, 131.85it/s]"
     ]
    },
    {
     "name": "stdout",
     "output_type": "stream",
     "text": [
      "80/80 [==============================] - 0s 2ms/step\n"
     ]
    },
    {
     "name": "stderr",
     "output_type": "stream",
     "text": [
      "  9%|#############3                                                                                                                                 | 81/870 [00:00<00:07, 112.42it/s]"
     ]
    },
    {
     "name": "stdout",
     "output_type": "stream",
     "text": [
      "80/80 [==============================] - 0s 2ms/step\n"
     ]
    },
    {
     "name": "stderr",
     "output_type": "stream",
     "text": [
      " 12%|################4                                                                                                                             | 101/870 [00:00<00:07, 105.53it/s]"
     ]
    },
    {
     "name": "stdout",
     "output_type": "stream",
     "text": [
      "80/80 [==============================] - 0s 887us/step\n"
     ]
    },
    {
     "name": "stderr",
     "output_type": "stream",
     "text": [
      " 14%|###################7                                                                                                                          | 121/870 [00:01<00:06, 113.83it/s]"
     ]
    },
    {
     "name": "stdout",
     "output_type": "stream",
     "text": [
      "80/80 [==============================] - 0s 2ms/step\n"
     ]
    },
    {
     "name": "stderr",
     "output_type": "stream",
     "text": [
      " 16%|#######################                                                                                                                       | 141/870 [00:01<00:06, 104.96it/s]"
     ]
    },
    {
     "name": "stdout",
     "output_type": "stream",
     "text": [
      "80/80 [==============================] - 0s 1ms/step\n"
     ]
    },
    {
     "name": "stderr",
     "output_type": "stream",
     "text": [
      " 19%|##########################2                                                                                                                   | 161/870 [00:01<00:06, 108.48it/s]"
     ]
    },
    {
     "name": "stdout",
     "output_type": "stream",
     "text": [
      "80/80 [==============================] - 0s 982us/step\n"
     ]
    },
    {
     "name": "stderr",
     "output_type": "stream",
     "text": [
      " 21%|#############################5                                                                                                                | 181/870 [00:01<00:06, 112.62it/s]"
     ]
    },
    {
     "name": "stdout",
     "output_type": "stream",
     "text": [
      "80/80 [==============================] - 0s 3ms/step\n"
     ]
    },
    {
     "name": "stderr",
     "output_type": "stream",
     "text": [
      " 23%|#################################                                                                                                              | 201/870 [00:01<00:07, 88.95it/s]"
     ]
    },
    {
     "name": "stdout",
     "output_type": "stream",
     "text": [
      "80/80 [==============================] - 0s 3ms/step\n"
     ]
    },
    {
     "name": "stderr",
     "output_type": "stream",
     "text": [
      " 25%|####################################3                                                                                                          | 221/870 [00:02<00:08, 77.09it/s]"
     ]
    },
    {
     "name": "stdout",
     "output_type": "stream",
     "text": [
      "80/80 [==============================] - 0s 2ms/step\n"
     ]
    },
    {
     "name": "stderr",
     "output_type": "stream",
     "text": [
      " 28%|#######################################6                                                                                                       | 241/870 [00:02<00:08, 76.45it/s]"
     ]
    },
    {
     "name": "stdout",
     "output_type": "stream",
     "text": [
      "80/80 [==============================] - 0s 909us/step\n"
     ]
    },
    {
     "name": "stderr",
     "output_type": "stream",
     "text": [
      " 30%|##########################################9                                                                                                    | 261/870 [00:02<00:07, 86.60it/s]"
     ]
    },
    {
     "name": "stdout",
     "output_type": "stream",
     "text": [
      "80/80 [==============================] - 0s 693us/step\n"
     ]
    },
    {
     "name": "stderr",
     "output_type": "stream",
     "text": [
      " 32%|##############################################1                                                                                                | 281/870 [00:02<00:05, 99.69it/s]"
     ]
    },
    {
     "name": "stdout",
     "output_type": "stream",
     "text": [
      "80/80 [==============================] - 0s 954us/step\n"
     ]
    },
    {
     "name": "stderr",
     "output_type": "stream",
     "text": [
      " 35%|#################################################1                                                                                            | 301/870 [00:02<00:05, 106.15it/s]"
     ]
    },
    {
     "name": "stdout",
     "output_type": "stream",
     "text": [
      "80/80 [==============================] - 0s 760us/step\n"
     ]
    },
    {
     "name": "stderr",
     "output_type": "stream",
     "text": [
      " 37%|####################################################3                                                                                         | 321/870 [00:03<00:04, 115.43it/s]"
     ]
    },
    {
     "name": "stdout",
     "output_type": "stream",
     "text": [
      "80/80 [==============================] - 0s 704us/step\n"
     ]
    },
    {
     "name": "stderr",
     "output_type": "stream",
     "text": [
      " 39%|#######################################################6                                                                                      | 341/870 [00:03<00:04, 124.52it/s]"
     ]
    },
    {
     "name": "stdout",
     "output_type": "stream",
     "text": [
      "80/80 [==============================] - 0s 721us/step\n"
     ]
    },
    {
     "name": "stderr",
     "output_type": "stream",
     "text": [
      " 41%|##########################################################9                                                                                   | 361/870 [00:03<00:03, 131.10it/s]"
     ]
    },
    {
     "name": "stdout",
     "output_type": "stream",
     "text": [
      "80/80 [==============================] - 0s 789us/step\n"
     ]
    },
    {
     "name": "stderr",
     "output_type": "stream",
     "text": [
      " 44%|##############################################################1                                                                               | 381/870 [00:03<00:03, 135.04it/s]"
     ]
    },
    {
     "name": "stdout",
     "output_type": "stream",
     "text": [
      "80/80 [==============================] - 0s 751us/step\n"
     ]
    },
    {
     "name": "stderr",
     "output_type": "stream",
     "text": [
      " 46%|#################################################################4                                                                            | 401/870 [00:03<00:03, 138.25it/s]"
     ]
    },
    {
     "name": "stdout",
     "output_type": "stream",
     "text": [
      "80/80 [==============================] - 0s 709us/step\n"
     ]
    },
    {
     "name": "stderr",
     "output_type": "stream",
     "text": [
      " 48%|####################################################################7                                                                         | 421/870 [00:03<00:03, 142.21it/s]"
     ]
    },
    {
     "name": "stdout",
     "output_type": "stream",
     "text": [
      "80/80 [==============================] - 0s 717us/step\n"
     ]
    },
    {
     "name": "stderr",
     "output_type": "stream",
     "text": [
      " 51%|#######################################################################9                                                                      | 441/870 [00:03<00:02, 143.66it/s]"
     ]
    },
    {
     "name": "stdout",
     "output_type": "stream",
     "text": [
      "80/80 [==============================] - 0s 711us/step\n"
     ]
    },
    {
     "name": "stderr",
     "output_type": "stream",
     "text": [
      " 53%|###########################################################################2                                                                  | 461/870 [00:04<00:02, 145.10it/s]"
     ]
    },
    {
     "name": "stdout",
     "output_type": "stream",
     "text": [
      "80/80 [==============================] - 0s 3ms/step\n"
     ]
    },
    {
     "name": "stderr",
     "output_type": "stream",
     "text": [
      " 55%|###############################################################################                                                                | 481/870 [00:04<00:03, 99.06it/s]"
     ]
    },
    {
     "name": "stdout",
     "output_type": "stream",
     "text": [
      "80/80 [==============================] - 0s 789us/step\n"
     ]
    },
    {
     "name": "stderr",
     "output_type": "stream",
     "text": [
      " 58%|#################################################################################7                                                            | 501/870 [00:04<00:03, 109.40it/s]"
     ]
    },
    {
     "name": "stdout",
     "output_type": "stream",
     "text": [
      "80/80 [==============================] - 0s 1ms/step\n"
     ]
    },
    {
     "name": "stderr",
     "output_type": "stream",
     "text": [
      " 60%|#####################################################################################                                                         | 521/870 [00:04<00:03, 110.53it/s]"
     ]
    },
    {
     "name": "stdout",
     "output_type": "stream",
     "text": [
      "80/80 [==============================] - 0s 2ms/step\n"
     ]
    },
    {
     "name": "stderr",
     "output_type": "stream",
     "text": [
      " 62%|########################################################################################9                                                      | 541/870 [00:04<00:03, 99.15it/s]"
     ]
    },
    {
     "name": "stdout",
     "output_type": "stream",
     "text": [
      "80/80 [==============================] - 0s 2ms/step\n"
     ]
    },
    {
     "name": "stderr",
     "output_type": "stream",
     "text": [
      " 64%|############################################################################################2                                                  | 561/870 [00:05<00:03, 87.97it/s]"
     ]
    },
    {
     "name": "stdout",
     "output_type": "stream",
     "text": [
      "80/80 [==============================] - 0s 734us/step\n"
     ]
    },
    {
     "name": "stderr",
     "output_type": "stream",
     "text": [
      " 67%|##############################################################################################8                                               | 581/870 [00:05<00:02, 100.46it/s]"
     ]
    },
    {
     "name": "stdout",
     "output_type": "stream",
     "text": [
      "80/80 [==============================] - 0s 1ms/step\n"
     ]
    },
    {
     "name": "stderr",
     "output_type": "stream",
     "text": [
      " 69%|##################################################################################################                                            | 601/870 [00:05<00:02, 104.62it/s]"
     ]
    },
    {
     "name": "stdout",
     "output_type": "stream",
     "text": [
      "80/80 [==============================] - 0s 754us/step\n"
     ]
    },
    {
     "name": "stderr",
     "output_type": "stream",
     "text": [
      " 71%|#####################################################################################################3                                        | 621/870 [00:05<00:02, 112.36it/s]"
     ]
    },
    {
     "name": "stdout",
     "output_type": "stream",
     "text": [
      "80/80 [==============================] - 0s 1ms/step\n"
     ]
    },
    {
     "name": "stderr",
     "output_type": "stream",
     "text": [
      " 74%|########################################################################################################6                                     | 641/870 [00:05<00:02, 111.64it/s]"
     ]
    },
    {
     "name": "stdout",
     "output_type": "stream",
     "text": [
      "80/80 [==============================] - 0s 802us/step\n"
     ]
    },
    {
     "name": "stderr",
     "output_type": "stream",
     "text": [
      " 76%|###########################################################################################################8                                  | 661/870 [00:06<00:01, 114.37it/s]"
     ]
    },
    {
     "name": "stdout",
     "output_type": "stream",
     "text": [
      "80/80 [==============================] - 0s 923us/step\n"
     ]
    },
    {
     "name": "stderr",
     "output_type": "stream",
     "text": [
      " 78%|###############################################################################################################1                              | 681/870 [00:06<00:01, 118.30it/s]"
     ]
    },
    {
     "name": "stdout",
     "output_type": "stream",
     "text": [
      "80/80 [==============================] - 0s 880us/step\n"
     ]
    },
    {
     "name": "stderr",
     "output_type": "stream",
     "text": [
      " 81%|##################################################################################################################4                           | 701/870 [00:06<00:01, 121.99it/s]"
     ]
    },
    {
     "name": "stdout",
     "output_type": "stream",
     "text": [
      "80/80 [==============================] - 0s 956us/step\n"
     ]
    },
    {
     "name": "stderr",
     "output_type": "stream",
     "text": [
      " 83%|#####################################################################################################################6                        | 721/870 [00:06<00:01, 120.98it/s]"
     ]
    },
    {
     "name": "stdout",
     "output_type": "stream",
     "text": [
      "80/80 [==============================] - 0s 736us/step\n"
     ]
    },
    {
     "name": "stderr",
     "output_type": "stream",
     "text": [
      " 85%|########################################################################################################################9                     | 741/870 [00:06<00:01, 128.39it/s]"
     ]
    },
    {
     "name": "stdout",
     "output_type": "stream",
     "text": [
      "80/80 [==============================] - 0s 1ms/step\n"
     ]
    },
    {
     "name": "stderr",
     "output_type": "stream",
     "text": [
      " 87%|############################################################################################################################2                 | 761/870 [00:06<00:00, 125.61it/s]"
     ]
    },
    {
     "name": "stdout",
     "output_type": "stream",
     "text": [
      "80/80 [==============================] - 0s 996us/step\n"
     ]
    },
    {
     "name": "stderr",
     "output_type": "stream",
     "text": [
      " 90%|###############################################################################################################################4              | 781/870 [00:06<00:00, 126.10it/s]"
     ]
    },
    {
     "name": "stdout",
     "output_type": "stream",
     "text": [
      "80/80 [==============================] - 0s 2ms/step\n"
     ]
    },
    {
     "name": "stderr",
     "output_type": "stream",
     "text": [
      " 92%|##################################################################################################################################7           | 801/870 [00:07<00:00, 110.79it/s]"
     ]
    },
    {
     "name": "stdout",
     "output_type": "stream",
     "text": [
      "80/80 [==============================] - 0s 809us/step\n"
     ]
    },
    {
     "name": "stderr",
     "output_type": "stream",
     "text": [
      " 94%|######################################################################################################################################        | 821/870 [00:07<00:00, 117.33it/s]"
     ]
    },
    {
     "name": "stdout",
     "output_type": "stream",
     "text": [
      "80/80 [==============================] - 0s 853us/step\n"
     ]
    },
    {
     "name": "stderr",
     "output_type": "stream",
     "text": [
      " 97%|#########################################################################################################################################2    | 841/870 [00:07<00:00, 122.62it/s]"
     ]
    },
    {
     "name": "stdout",
     "output_type": "stream",
     "text": [
      "80/80 [==============================] - 0s 954us/step\n"
     ]
    },
    {
     "name": "stderr",
     "output_type": "stream",
     "text": [
      " 99%|############################################################################################################################################5 | 861/870 [00:07<00:00, 120.50it/s]"
     ]
    },
    {
     "name": "stdout",
     "output_type": "stream",
     "text": [
      "36/36 [==============================] - 0s 728us/step\n"
     ]
    },
    {
     "name": "stderr",
     "output_type": "stream",
     "text": [
      "100%|##############################################################################################################################################| 870/870 [00:07<00:00, 112.18it/s]\n"
     ]
    },
    {
     "name": "stdout",
     "output_type": "stream",
     "text": [
      "calculating feature importance for CTR ...\n"
     ]
    },
    {
     "name": "stderr",
     "output_type": "stream",
     "text": [
      "  0%|                                                                                                                                                         | 0/870 [00:00<?, ?it/s]"
     ]
    },
    {
     "name": "stdout",
     "output_type": "stream",
     "text": [
      "84/84 [==============================] - 0s 727us/step\n"
     ]
    },
    {
     "name": "stderr",
     "output_type": "stream",
     "text": [
      "  2%|###4                                                                                                                                           | 21/870 [00:00<00:05, 151.58it/s]"
     ]
    },
    {
     "name": "stdout",
     "output_type": "stream",
     "text": [
      "80/80 [==============================] - 0s 2ms/step\n"
     ]
    },
    {
     "name": "stderr",
     "output_type": "stream",
     "text": [
      "  5%|######7                                                                                                                                         | 41/870 [00:00<00:08, 93.55it/s]"
     ]
    },
    {
     "name": "stdout",
     "output_type": "stream",
     "text": [
      "80/80 [==============================] - 0s 2ms/step\n"
     ]
    },
    {
     "name": "stderr",
     "output_type": "stream",
     "text": [
      "  7%|##########                                                                                                                                      | 61/870 [00:00<00:09, 85.38it/s]"
     ]
    },
    {
     "name": "stdout",
     "output_type": "stream",
     "text": [
      "80/80 [==============================] - 0s 846us/step\n"
     ]
    },
    {
     "name": "stderr",
     "output_type": "stream",
     "text": [
      "  9%|#############4                                                                                                                                  | 81/870 [00:00<00:07, 99.02it/s]"
     ]
    },
    {
     "name": "stdout",
     "output_type": "stream",
     "text": [
      "80/80 [==============================] - 0s 2ms/step\n"
     ]
    },
    {
     "name": "stderr",
     "output_type": "stream",
     "text": [
      " 12%|################6                                                                                                                              | 101/870 [00:01<00:08, 93.98it/s]"
     ]
    },
    {
     "name": "stdout",
     "output_type": "stream",
     "text": [
      "80/80 [==============================] - 0s 703us/step\n"
     ]
    },
    {
     "name": "stderr",
     "output_type": "stream",
     "text": [
      " 14%|###################7                                                                                                                          | 121/870 [00:01<00:06, 108.12it/s]"
     ]
    },
    {
     "name": "stdout",
     "output_type": "stream",
     "text": [
      "80/80 [==============================] - 0s 782us/step\n"
     ]
    },
    {
     "name": "stderr",
     "output_type": "stream",
     "text": [
      " 16%|#######################                                                                                                                       | 141/870 [00:01<00:06, 115.83it/s]"
     ]
    },
    {
     "name": "stdout",
     "output_type": "stream",
     "text": [
      "80/80 [==============================] - 0s 1ms/step\n"
     ]
    },
    {
     "name": "stderr",
     "output_type": "stream",
     "text": [
      " 19%|##########################2                                                                                                                   | 161/870 [00:01<00:06, 115.97it/s]"
     ]
    },
    {
     "name": "stdout",
     "output_type": "stream",
     "text": [
      "80/80 [==============================] - 0s 1ms/step\n"
     ]
    },
    {
     "name": "stderr",
     "output_type": "stream",
     "text": [
      " 21%|#############################5                                                                                                                | 181/870 [00:01<00:06, 112.42it/s]"
     ]
    },
    {
     "name": "stdout",
     "output_type": "stream",
     "text": [
      "80/80 [==============================] - 0s 2ms/step\n"
     ]
    },
    {
     "name": "stderr",
     "output_type": "stream",
     "text": [
      " 23%|#################################                                                                                                              | 201/870 [00:01<00:06, 99.44it/s]"
     ]
    },
    {
     "name": "stdout",
     "output_type": "stream",
     "text": [
      "80/80 [==============================] - 0s 798us/step\n"
     ]
    },
    {
     "name": "stderr",
     "output_type": "stream",
     "text": [
      " 25%|####################################                                                                                                          | 221/870 [00:02<00:06, 107.21it/s]"
     ]
    },
    {
     "name": "stdout",
     "output_type": "stream",
     "text": [
      "80/80 [==============================] - 0s 2ms/step\n"
     ]
    },
    {
     "name": "stderr",
     "output_type": "stream",
     "text": [
      " 28%|#######################################6                                                                                                       | 241/870 [00:02<00:06, 99.51it/s]"
     ]
    },
    {
     "name": "stdout",
     "output_type": "stream",
     "text": [
      "80/80 [==============================] - 0s 1ms/step\n"
     ]
    },
    {
     "name": "stderr",
     "output_type": "stream",
     "text": [
      " 30%|##########################################6                                                                                                   | 261/870 [00:02<00:05, 105.38it/s]"
     ]
    },
    {
     "name": "stdout",
     "output_type": "stream",
     "text": [
      "80/80 [==============================] - 0s 899us/step\n"
     ]
    },
    {
     "name": "stderr",
     "output_type": "stream",
     "text": [
      " 32%|#############################################8                                                                                                | 281/870 [00:02<00:05, 112.07it/s]"
     ]
    },
    {
     "name": "stdout",
     "output_type": "stream",
     "text": [
      "80/80 [==============================] - 0s 743us/step\n"
     ]
    },
    {
     "name": "stderr",
     "output_type": "stream",
     "text": [
      " 35%|#################################################1                                                                                            | 301/870 [00:02<00:04, 120.60it/s]"
     ]
    },
    {
     "name": "stdout",
     "output_type": "stream",
     "text": [
      "80/80 [==============================] - 0s 3ms/step\n"
     ]
    },
    {
     "name": "stderr",
     "output_type": "stream",
     "text": [
      " 37%|####################################################7                                                                                          | 321/870 [00:03<00:05, 92.58it/s]"
     ]
    },
    {
     "name": "stdout",
     "output_type": "stream",
     "text": [
      "80/80 [==============================] - 0s 1ms/step\n"
     ]
    },
    {
     "name": "stderr",
     "output_type": "stream",
     "text": [
      " 39%|########################################################                                                                                       | 341/870 [00:03<00:05, 94.62it/s]"
     ]
    },
    {
     "name": "stdout",
     "output_type": "stream",
     "text": [
      "80/80 [==============================] - 0s 2ms/step\n"
     ]
    },
    {
     "name": "stderr",
     "output_type": "stream",
     "text": [
      " 41%|###########################################################3                                                                                   | 361/870 [00:03<00:05, 85.30it/s]"
     ]
    },
    {
     "name": "stdout",
     "output_type": "stream",
     "text": [
      "80/80 [==============================] - 0s 748us/step\n"
     ]
    },
    {
     "name": "stderr",
     "output_type": "stream",
     "text": [
      " 44%|##############################################################6                                                                                | 381/870 [00:03<00:04, 97.88it/s]"
     ]
    },
    {
     "name": "stdout",
     "output_type": "stream",
     "text": [
      "80/80 [==============================] - 0s 3ms/step\n"
     ]
    },
    {
     "name": "stderr",
     "output_type": "stream",
     "text": [
      " 46%|#################################################################9                                                                             | 401/870 [00:04<00:05, 85.96it/s]"
     ]
    },
    {
     "name": "stdout",
     "output_type": "stream",
     "text": [
      "80/80 [==============================] - 0s 2ms/step\n"
     ]
    },
    {
     "name": "stderr",
     "output_type": "stream",
     "text": [
      " 48%|#####################################################################1                                                                         | 421/870 [00:04<00:05, 87.78it/s]"
     ]
    },
    {
     "name": "stdout",
     "output_type": "stream",
     "text": [
      "80/80 [==============================] - 0s 811us/step\n"
     ]
    },
    {
     "name": "stderr",
     "output_type": "stream",
     "text": [
      " 51%|########################################################################4                                                                      | 441/870 [00:04<00:04, 99.26it/s]"
     ]
    },
    {
     "name": "stdout",
     "output_type": "stream",
     "text": [
      "80/80 [==============================] - 0s 715us/step\n"
     ]
    },
    {
     "name": "stderr",
     "output_type": "stream",
     "text": [
      " 53%|###########################################################################2                                                                  | 461/870 [00:04<00:03, 109.55it/s]"
     ]
    },
    {
     "name": "stdout",
     "output_type": "stream",
     "text": [
      "80/80 [==============================] - 0s 1ms/step\n"
     ]
    },
    {
     "name": "stderr",
     "output_type": "stream",
     "text": [
      " 55%|##############################################################################5                                                               | 481/870 [00:04<00:03, 108.20it/s]"
     ]
    },
    {
     "name": "stdout",
     "output_type": "stream",
     "text": [
      "80/80 [==============================] - 0s 2ms/step\n"
     ]
    },
    {
     "name": "stderr",
     "output_type": "stream",
     "text": [
      " 58%|##################################################################################3                                                            | 501/870 [00:04<00:03, 97.75it/s]"
     ]
    },
    {
     "name": "stdout",
     "output_type": "stream",
     "text": [
      "80/80 [==============================] - 0s 2ms/step\n"
     ]
    },
    {
     "name": "stderr",
     "output_type": "stream",
     "text": [
      " 60%|#####################################################################################6                                                         | 521/870 [00:05<00:03, 94.20it/s]"
     ]
    },
    {
     "name": "stdout",
     "output_type": "stream",
     "text": [
      "80/80 [==============================] - 0s 1ms/step\n"
     ]
    },
    {
     "name": "stderr",
     "output_type": "stream",
     "text": [
      " 62%|########################################################################################9                                                      | 541/870 [00:05<00:03, 98.01it/s]"
     ]
    },
    {
     "name": "stdout",
     "output_type": "stream",
     "text": [
      "80/80 [==============================] - 0s 2ms/step\n"
     ]
    },
    {
     "name": "stderr",
     "output_type": "stream",
     "text": [
      " 64%|############################################################################################2                                                  | 561/870 [00:05<00:03, 85.88it/s]"
     ]
    },
    {
     "name": "stdout",
     "output_type": "stream",
     "text": [
      "80/80 [==============================] - 0s 2ms/step\n"
     ]
    },
    {
     "name": "stderr",
     "output_type": "stream",
     "text": [
      " 67%|###############################################################################################4                                               | 581/870 [00:05<00:03, 83.10it/s]"
     ]
    },
    {
     "name": "stdout",
     "output_type": "stream",
     "text": [
      "80/80 [==============================] - 0s 994us/step\n"
     ]
    },
    {
     "name": "stderr",
     "output_type": "stream",
     "text": [
      " 69%|##################################################################################################7                                            | 601/870 [00:06<00:02, 91.09it/s]"
     ]
    },
    {
     "name": "stdout",
     "output_type": "stream",
     "text": [
      "80/80 [==============================] - 0s 1ms/step\n"
     ]
    },
    {
     "name": "stderr",
     "output_type": "stream",
     "text": [
      " 71%|######################################################################################################                                         | 621/870 [00:06<00:02, 97.47it/s]"
     ]
    },
    {
     "name": "stdout",
     "output_type": "stream",
     "text": [
      "80/80 [==============================] - 0s 3ms/step\n"
     ]
    },
    {
     "name": "stderr",
     "output_type": "stream",
     "text": [
      " 74%|#########################################################################################################3                                     | 641/870 [00:06<00:02, 84.61it/s]"
     ]
    },
    {
     "name": "stdout",
     "output_type": "stream",
     "text": [
      "80/80 [==============================] - 0s 922us/step\n"
     ]
    },
    {
     "name": "stderr",
     "output_type": "stream",
     "text": [
      " 76%|############################################################################################################6                                  | 661/870 [00:06<00:02, 94.55it/s]"
     ]
    },
    {
     "name": "stdout",
     "output_type": "stream",
     "text": [
      "80/80 [==============================] - 0s 885us/step\n"
     ]
    },
    {
     "name": "stderr",
     "output_type": "stream",
     "text": [
      " 78%|###############################################################################################################1                              | 681/870 [00:06<00:01, 103.40it/s]"
     ]
    },
    {
     "name": "stdout",
     "output_type": "stream",
     "text": [
      "80/80 [==============================] - 0s 1ms/step\n"
     ]
    },
    {
     "name": "stderr",
     "output_type": "stream",
     "text": [
      " 81%|##################################################################################################################4                           | 701/870 [00:07<00:01, 108.13it/s]"
     ]
    },
    {
     "name": "stdout",
     "output_type": "stream",
     "text": [
      "80/80 [==============================] - 0s 928us/step\n"
     ]
    },
    {
     "name": "stderr",
     "output_type": "stream",
     "text": [
      " 83%|#####################################################################################################################6                        | 721/870 [00:07<00:01, 112.86it/s]"
     ]
    },
    {
     "name": "stdout",
     "output_type": "stream",
     "text": [
      "80/80 [==============================] - 0s 3ms/step\n"
     ]
    },
    {
     "name": "stderr",
     "output_type": "stream",
     "text": [
      " 85%|#########################################################################################################################7                     | 741/870 [00:07<00:01, 88.29it/s]"
     ]
    },
    {
     "name": "stdout",
     "output_type": "stream",
     "text": [
      "80/80 [==============================] - 0s 2ms/step\n"
     ]
    },
    {
     "name": "stderr",
     "output_type": "stream",
     "text": [
      " 87%|#############################################################################################################################                  | 761/870 [00:07<00:01, 85.10it/s]"
     ]
    },
    {
     "name": "stdout",
     "output_type": "stream",
     "text": [
      "80/80 [==============================] - 0s 707us/step\n"
     ]
    },
    {
     "name": "stderr",
     "output_type": "stream",
     "text": [
      " 90%|################################################################################################################################3              | 781/870 [00:07<00:00, 98.17it/s]"
     ]
    },
    {
     "name": "stdout",
     "output_type": "stream",
     "text": [
      "80/80 [==============================] - 0s 977us/step\n"
     ]
    },
    {
     "name": "stderr",
     "output_type": "stream",
     "text": [
      " 92%|##################################################################################################################################7           | 801/870 [00:08<00:00, 103.40it/s]"
     ]
    },
    {
     "name": "stdout",
     "output_type": "stream",
     "text": [
      "80/80 [==============================] - 0s 724us/step\n"
     ]
    },
    {
     "name": "stderr",
     "output_type": "stream",
     "text": [
      " 94%|######################################################################################################################################        | 821/870 [00:08<00:00, 113.14it/s]"
     ]
    },
    {
     "name": "stdout",
     "output_type": "stream",
     "text": [
      "80/80 [==============================] - 0s 1ms/step\n"
     ]
    },
    {
     "name": "stderr",
     "output_type": "stream",
     "text": [
      " 97%|#########################################################################################################################################2    | 841/870 [00:08<00:00, 111.66it/s]"
     ]
    },
    {
     "name": "stdout",
     "output_type": "stream",
     "text": [
      "80/80 [==============================] - 0s 707us/step\n"
     ]
    },
    {
     "name": "stderr",
     "output_type": "stream",
     "text": [
      " 99%|############################################################################################################################################5 | 861/870 [00:08<00:00, 121.51it/s]"
     ]
    },
    {
     "name": "stdout",
     "output_type": "stream",
     "text": [
      "36/36 [==============================] - 0s 709us/step\n"
     ]
    },
    {
     "name": "stderr",
     "output_type": "stream",
     "text": [
      "100%|##############################################################################################################################################| 870/870 [00:08<00:00, 100.53it/s]\n",
      "100%|#############################################################################################################################################| 114/114 [00:00<00:00, 2418.69it/s]\n"
     ]
    },
    {
     "name": "stdout",
     "output_type": "stream",
     "text": [
      "2022-08-02 12:48:28,501 - \u001b[32mINFO\u001b[0m - [bidd-aggmap]\u001b[0m - generate file: ./feature points_849_correlation_umap_mp\u001b[0m\n",
      "2022-08-02 12:48:28,507 - \u001b[32mINFO\u001b[0m - [bidd-aggmap]\u001b[0m - save html file to ./feature points_849_correlation_umap_mp\u001b[0m\n",
      "4/4 [==============================] - 0s 11ms/step\n",
      "calculating feature importance for CRC ...\n"
     ]
    },
    {
     "name": "stderr",
     "output_type": "stream",
     "text": [
      "  0%|                                                                                                                                                         | 0/870 [00:00<?, ?it/s]"
     ]
    },
    {
     "name": "stdout",
     "output_type": "stream",
     "text": [
      "75/75 [==============================] - 0s 2ms/step\n"
     ]
    },
    {
     "name": "stderr",
     "output_type": "stream",
     "text": [
      "  2%|###4                                                                                                                                           | 21/870 [00:00<00:07, 108.99it/s]"
     ]
    },
    {
     "name": "stdout",
     "output_type": "stream",
     "text": [
      "72/72 [==============================] - 0s 3ms/step\n"
     ]
    },
    {
     "name": "stderr",
     "output_type": "stream",
     "text": [
      "  5%|######7                                                                                                                                         | 41/870 [00:00<00:10, 80.38it/s]"
     ]
    },
    {
     "name": "stdout",
     "output_type": "stream",
     "text": [
      "72/72 [==============================] - 0s 2ms/step\n"
     ]
    },
    {
     "name": "stderr",
     "output_type": "stream",
     "text": [
      "  7%|##########                                                                                                                                      | 61/870 [00:00<00:09, 88.23it/s]"
     ]
    },
    {
     "name": "stdout",
     "output_type": "stream",
     "text": [
      "72/72 [==============================] - 0s 1ms/step\n"
     ]
    },
    {
     "name": "stderr",
     "output_type": "stream",
     "text": [
      "  9%|#############4                                                                                                                                  | 81/870 [00:00<00:08, 95.10it/s]"
     ]
    },
    {
     "name": "stdout",
     "output_type": "stream",
     "text": [
      "72/72 [==============================] - 0s 704us/step\n"
     ]
    },
    {
     "name": "stderr",
     "output_type": "stream",
     "text": [
      " 12%|################4                                                                                                                             | 101/870 [00:01<00:06, 110.57it/s]"
     ]
    },
    {
     "name": "stdout",
     "output_type": "stream",
     "text": [
      "72/72 [==============================] - 0s 928us/step\n"
     ]
    },
    {
     "name": "stderr",
     "output_type": "stream",
     "text": [
      " 14%|###################7                                                                                                                          | 121/870 [00:01<00:06, 117.10it/s]"
     ]
    },
    {
     "name": "stdout",
     "output_type": "stream",
     "text": [
      "72/72 [==============================] - 0s 691us/step\n"
     ]
    },
    {
     "name": "stderr",
     "output_type": "stream",
     "text": [
      " 16%|#######################                                                                                                                       | 141/870 [00:01<00:05, 127.96it/s]"
     ]
    },
    {
     "name": "stdout",
     "output_type": "stream",
     "text": [
      "72/72 [==============================] - 0s 945us/step\n"
     ]
    },
    {
     "name": "stderr",
     "output_type": "stream",
     "text": [
      " 19%|##########################2                                                                                                                   | 161/870 [00:01<00:05, 129.23it/s]"
     ]
    },
    {
     "name": "stdout",
     "output_type": "stream",
     "text": [
      "72/72 [==============================] - 0s 726us/step\n"
     ]
    },
    {
     "name": "stderr",
     "output_type": "stream",
     "text": [
      " 21%|#############################5                                                                                                                | 181/870 [00:01<00:05, 136.49it/s]"
     ]
    },
    {
     "name": "stdout",
     "output_type": "stream",
     "text": [
      "72/72 [==============================] - 0s 1ms/step\n"
     ]
    },
    {
     "name": "stderr",
     "output_type": "stream",
     "text": [
      " 23%|################################8                                                                                                             | 201/870 [00:01<00:05, 132.85it/s]"
     ]
    },
    {
     "name": "stdout",
     "output_type": "stream",
     "text": [
      "72/72 [==============================] - 0s 695us/step\n"
     ]
    },
    {
     "name": "stderr",
     "output_type": "stream",
     "text": [
      " 25%|####################################                                                                                                          | 221/870 [00:01<00:04, 140.23it/s]"
     ]
    },
    {
     "name": "stdout",
     "output_type": "stream",
     "text": [
      "72/72 [==============================] - 0s 785us/step\n"
     ]
    },
    {
     "name": "stderr",
     "output_type": "stream",
     "text": [
      " 28%|#######################################3                                                                                                      | 241/870 [00:01<00:04, 140.57it/s]"
     ]
    },
    {
     "name": "stdout",
     "output_type": "stream",
     "text": [
      "72/72 [==============================] - 0s 798us/step\n"
     ]
    },
    {
     "name": "stderr",
     "output_type": "stream",
     "text": [
      " 30%|##########################################6                                                                                                   | 261/870 [00:02<00:04, 143.37it/s]"
     ]
    },
    {
     "name": "stdout",
     "output_type": "stream",
     "text": [
      "72/72 [==============================] - 0s 1ms/step\n"
     ]
    },
    {
     "name": "stderr",
     "output_type": "stream",
     "text": [
      " 32%|#############################################8                                                                                                | 281/870 [00:02<00:04, 126.81it/s]"
     ]
    },
    {
     "name": "stdout",
     "output_type": "stream",
     "text": [
      "72/72 [==============================] - 0s 2ms/step\n"
     ]
    },
    {
     "name": "stderr",
     "output_type": "stream",
     "text": [
      " 35%|#################################################1                                                                                            | 301/870 [00:02<00:05, 112.08it/s]"
     ]
    },
    {
     "name": "stdout",
     "output_type": "stream",
     "text": [
      "72/72 [==============================] - 0s 796us/step\n"
     ]
    },
    {
     "name": "stderr",
     "output_type": "stream",
     "text": [
      " 37%|####################################################3                                                                                         | 321/870 [00:02<00:04, 120.54it/s]"
     ]
    },
    {
     "name": "stdout",
     "output_type": "stream",
     "text": [
      "72/72 [==============================] - 0s 1ms/step\n"
     ]
    },
    {
     "name": "stderr",
     "output_type": "stream",
     "text": [
      " 39%|#######################################################6                                                                                      | 341/870 [00:02<00:04, 119.08it/s]"
     ]
    },
    {
     "name": "stdout",
     "output_type": "stream",
     "text": [
      "72/72 [==============================] - 0s 1ms/step\n"
     ]
    },
    {
     "name": "stderr",
     "output_type": "stream",
     "text": [
      " 41%|##########################################################9                                                                                   | 361/870 [00:03<00:04, 119.42it/s]"
     ]
    },
    {
     "name": "stdout",
     "output_type": "stream",
     "text": [
      "72/72 [==============================] - 0s 2ms/step\n"
     ]
    },
    {
     "name": "stderr",
     "output_type": "stream",
     "text": [
      " 44%|##############################################################1                                                                               | 381/870 [00:03<00:04, 109.58it/s]"
     ]
    },
    {
     "name": "stdout",
     "output_type": "stream",
     "text": [
      "72/72 [==============================] - 0s 712us/step\n"
     ]
    },
    {
     "name": "stderr",
     "output_type": "stream",
     "text": [
      " 46%|#################################################################4                                                                            | 401/870 [00:03<00:03, 120.86it/s]"
     ]
    },
    {
     "name": "stdout",
     "output_type": "stream",
     "text": [
      "72/72 [==============================] - 0s 1ms/step\n"
     ]
    },
    {
     "name": "stderr",
     "output_type": "stream",
     "text": [
      " 48%|####################################################################7                                                                         | 421/870 [00:03<00:03, 114.88it/s]"
     ]
    },
    {
     "name": "stdout",
     "output_type": "stream",
     "text": [
      "72/72 [==============================] - 0s 717us/step\n"
     ]
    },
    {
     "name": "stderr",
     "output_type": "stream",
     "text": [
      " 51%|#######################################################################9                                                                      | 441/870 [00:03<00:03, 124.99it/s]"
     ]
    },
    {
     "name": "stdout",
     "output_type": "stream",
     "text": [
      "72/72 [==============================] - 0s 995us/step\n"
     ]
    },
    {
     "name": "stderr",
     "output_type": "stream",
     "text": [
      " 53%|###########################################################################2                                                                  | 461/870 [00:03<00:03, 123.15it/s]"
     ]
    },
    {
     "name": "stdout",
     "output_type": "stream",
     "text": [
      "72/72 [==============================] - 0s 2ms/step\n"
     ]
    },
    {
     "name": "stderr",
     "output_type": "stream",
     "text": [
      " 55%|##############################################################################5                                                               | 481/870 [00:04<00:03, 105.36it/s]"
     ]
    },
    {
     "name": "stdout",
     "output_type": "stream",
     "text": [
      "72/72 [==============================] - 0s 2ms/step\n"
     ]
    },
    {
     "name": "stderr",
     "output_type": "stream",
     "text": [
      " 58%|#################################################################################7                                                            | 501/870 [00:04<00:03, 100.02it/s]"
     ]
    },
    {
     "name": "stdout",
     "output_type": "stream",
     "text": [
      "72/72 [==============================] - 0s 1ms/step\n"
     ]
    },
    {
     "name": "stderr",
     "output_type": "stream",
     "text": [
      " 60%|#####################################################################################                                                         | 521/870 [00:04<00:03, 106.19it/s]"
     ]
    },
    {
     "name": "stdout",
     "output_type": "stream",
     "text": [
      "72/72 [==============================] - 0s 858us/step\n"
     ]
    },
    {
     "name": "stderr",
     "output_type": "stream",
     "text": [
      " 62%|########################################################################################3                                                     | 541/870 [00:04<00:02, 115.03it/s]"
     ]
    },
    {
     "name": "stdout",
     "output_type": "stream",
     "text": [
      "72/72 [==============================] - 0s 2ms/step\n"
     ]
    },
    {
     "name": "stderr",
     "output_type": "stream",
     "text": [
      " 64%|###########################################################################################5                                                  | 561/870 [00:04<00:02, 103.05it/s]"
     ]
    },
    {
     "name": "stdout",
     "output_type": "stream",
     "text": [
      "72/72 [==============================] - 0s 1ms/step\n"
     ]
    },
    {
     "name": "stderr",
     "output_type": "stream",
     "text": [
      " 67%|##############################################################################################8                                               | 581/870 [00:05<00:02, 102.71it/s]"
     ]
    },
    {
     "name": "stdout",
     "output_type": "stream",
     "text": [
      "72/72 [==============================] - 0s 851us/step\n"
     ]
    },
    {
     "name": "stderr",
     "output_type": "stream",
     "text": [
      " 69%|##################################################################################################                                            | 601/870 [00:05<00:02, 110.64it/s]"
     ]
    },
    {
     "name": "stdout",
     "output_type": "stream",
     "text": [
      "72/72 [==============================] - 0s 714us/step\n"
     ]
    },
    {
     "name": "stderr",
     "output_type": "stream",
     "text": [
      " 71%|#####################################################################################################3                                        | 621/870 [00:05<00:02, 119.36it/s]"
     ]
    },
    {
     "name": "stdout",
     "output_type": "stream",
     "text": [
      "72/72 [==============================] - 0s 2ms/step\n"
     ]
    },
    {
     "name": "stderr",
     "output_type": "stream",
     "text": [
      " 74%|########################################################################################################6                                     | 641/870 [00:05<00:02, 110.67it/s]"
     ]
    },
    {
     "name": "stdout",
     "output_type": "stream",
     "text": [
      "72/72 [==============================] - 0s 1ms/step\n"
     ]
    },
    {
     "name": "stderr",
     "output_type": "stream",
     "text": [
      " 76%|###########################################################################################################8                                  | 661/870 [00:05<00:01, 111.88it/s]"
     ]
    },
    {
     "name": "stdout",
     "output_type": "stream",
     "text": [
      "72/72 [==============================] - 0s 2ms/step\n"
     ]
    },
    {
     "name": "stderr",
     "output_type": "stream",
     "text": [
      " 78%|###############################################################################################################1                              | 681/870 [00:05<00:01, 102.47it/s]"
     ]
    },
    {
     "name": "stdout",
     "output_type": "stream",
     "text": [
      "72/72 [==============================] - 0s 711us/step\n"
     ]
    },
    {
     "name": "stderr",
     "output_type": "stream",
     "text": [
      " 81%|##################################################################################################################4                           | 701/870 [00:06<00:01, 113.55it/s]"
     ]
    },
    {
     "name": "stdout",
     "output_type": "stream",
     "text": [
      "72/72 [==============================] - 0s 1ms/step\n"
     ]
    },
    {
     "name": "stderr",
     "output_type": "stream",
     "text": [
      " 83%|#####################################################################################################################6                        | 721/870 [00:06<00:01, 116.95it/s]"
     ]
    },
    {
     "name": "stdout",
     "output_type": "stream",
     "text": [
      "72/72 [==============================] - 0s 2ms/step\n"
     ]
    },
    {
     "name": "stderr",
     "output_type": "stream",
     "text": [
      " 85%|########################################################################################################################9                     | 741/870 [00:06<00:01, 100.78it/s]"
     ]
    },
    {
     "name": "stdout",
     "output_type": "stream",
     "text": [
      "72/72 [==============================] - 0s 765us/step\n"
     ]
    },
    {
     "name": "stderr",
     "output_type": "stream",
     "text": [
      " 87%|############################################################################################################################2                 | 761/870 [00:06<00:00, 109.06it/s]"
     ]
    },
    {
     "name": "stdout",
     "output_type": "stream",
     "text": [
      "72/72 [==============================] - 0s 2ms/step\n"
     ]
    },
    {
     "name": "stderr",
     "output_type": "stream",
     "text": [
      " 90%|###############################################################################################################################4              | 781/870 [00:06<00:00, 104.69it/s]"
     ]
    },
    {
     "name": "stdout",
     "output_type": "stream",
     "text": [
      "72/72 [==============================] - 0s 736us/step\n"
     ]
    },
    {
     "name": "stderr",
     "output_type": "stream",
     "text": [
      " 92%|##################################################################################################################################7           | 801/870 [00:07<00:00, 115.52it/s]"
     ]
    },
    {
     "name": "stdout",
     "output_type": "stream",
     "text": [
      "72/72 [==============================] - 0s 1ms/step\n"
     ]
    },
    {
     "name": "stderr",
     "output_type": "stream",
     "text": [
      " 94%|######################################################################################################################################        | 821/870 [00:07<00:00, 113.28it/s]"
     ]
    },
    {
     "name": "stdout",
     "output_type": "stream",
     "text": [
      "72/72 [==============================] - 0s 754us/step\n"
     ]
    },
    {
     "name": "stderr",
     "output_type": "stream",
     "text": [
      " 97%|#########################################################################################################################################2    | 841/870 [00:07<00:00, 122.45it/s]"
     ]
    },
    {
     "name": "stdout",
     "output_type": "stream",
     "text": [
      "72/72 [==============================] - 0s 2ms/step\n"
     ]
    },
    {
     "name": "stderr",
     "output_type": "stream",
     "text": [
      " 99%|############################################################################################################################################5 | 861/870 [00:07<00:00, 103.13it/s]"
     ]
    },
    {
     "name": "stdout",
     "output_type": "stream",
     "text": [
      "33/33 [==============================] - 0s 2ms/step\n"
     ]
    },
    {
     "name": "stderr",
     "output_type": "stream",
     "text": [
      "100%|##############################################################################################################################################| 870/870 [00:07<00:00, 112.92it/s]\n"
     ]
    },
    {
     "name": "stdout",
     "output_type": "stream",
     "text": [
      "calculating feature importance for CTR ...\n"
     ]
    },
    {
     "name": "stderr",
     "output_type": "stream",
     "text": [
      "  0%|                                                                                                                                                         | 0/870 [00:00<?, ?it/s]"
     ]
    },
    {
     "name": "stdout",
     "output_type": "stream",
     "text": [
      "75/75 [==============================] - 0s 1ms/step\n"
     ]
    },
    {
     "name": "stderr",
     "output_type": "stream",
     "text": [
      "  2%|###4                                                                                                                                           | 21/870 [00:00<00:06, 133.91it/s]"
     ]
    },
    {
     "name": "stdout",
     "output_type": "stream",
     "text": [
      "72/72 [==============================] - 0s 2ms/step\n"
     ]
    },
    {
     "name": "stderr",
     "output_type": "stream",
     "text": [
      "  5%|######7                                                                                                                                         | 41/870 [00:00<00:08, 94.70it/s]"
     ]
    },
    {
     "name": "stdout",
     "output_type": "stream",
     "text": [
      "72/72 [==============================] - 0s 1ms/step\n"
     ]
    },
    {
     "name": "stderr",
     "output_type": "stream",
     "text": [
      "  7%|##########                                                                                                                                     | 61/870 [00:00<00:08, 100.08it/s]"
     ]
    },
    {
     "name": "stdout",
     "output_type": "stream",
     "text": [
      "72/72 [==============================] - 0s 1ms/step\n"
     ]
    },
    {
     "name": "stderr",
     "output_type": "stream",
     "text": [
      "  9%|#############3                                                                                                                                 | 81/870 [00:00<00:07, 110.17it/s]"
     ]
    },
    {
     "name": "stdout",
     "output_type": "stream",
     "text": [
      "72/72 [==============================] - 0s 1ms/step\n"
     ]
    },
    {
     "name": "stderr",
     "output_type": "stream",
     "text": [
      " 12%|################4                                                                                                                             | 101/870 [00:00<00:06, 111.14it/s]"
     ]
    },
    {
     "name": "stdout",
     "output_type": "stream",
     "text": [
      "72/72 [==============================] - 0s 1ms/step\n"
     ]
    },
    {
     "name": "stderr",
     "output_type": "stream",
     "text": [
      " 14%|###################7                                                                                                                          | 121/870 [00:01<00:06, 112.00it/s]"
     ]
    },
    {
     "name": "stdout",
     "output_type": "stream",
     "text": [
      "72/72 [==============================] - 0s 1ms/step\n"
     ]
    },
    {
     "name": "stderr",
     "output_type": "stream",
     "text": [
      " 16%|#######################                                                                                                                       | 141/870 [00:01<00:06, 113.83it/s]"
     ]
    },
    {
     "name": "stdout",
     "output_type": "stream",
     "text": [
      "72/72 [==============================] - 0s 2ms/step\n"
     ]
    },
    {
     "name": "stderr",
     "output_type": "stream",
     "text": [
      " 19%|##########################2                                                                                                                   | 161/870 [00:01<00:06, 107.69it/s]"
     ]
    },
    {
     "name": "stdout",
     "output_type": "stream",
     "text": [
      "72/72 [==============================] - 0s 991us/step\n"
     ]
    },
    {
     "name": "stderr",
     "output_type": "stream",
     "text": [
      " 21%|#############################5                                                                                                                | 181/870 [00:01<00:06, 113.66it/s]"
     ]
    },
    {
     "name": "stdout",
     "output_type": "stream",
     "text": [
      "72/72 [==============================] - 0s 4ms/step\n"
     ]
    },
    {
     "name": "stderr",
     "output_type": "stream",
     "text": [
      " 23%|#################################                                                                                                              | 201/870 [00:01<00:07, 87.09it/s]"
     ]
    },
    {
     "name": "stdout",
     "output_type": "stream",
     "text": [
      "72/72 [==============================] - 0s 3ms/step\n"
     ]
    },
    {
     "name": "stderr",
     "output_type": "stream",
     "text": [
      " 25%|####################################3                                                                                                          | 221/870 [00:02<00:08, 80.90it/s]"
     ]
    },
    {
     "name": "stdout",
     "output_type": "stream",
     "text": [
      "72/72 [==============================] - 0s 2ms/step\n"
     ]
    },
    {
     "name": "stderr",
     "output_type": "stream",
     "text": [
      " 28%|#######################################6                                                                                                       | 241/870 [00:02<00:07, 79.32it/s]"
     ]
    },
    {
     "name": "stdout",
     "output_type": "stream",
     "text": [
      "72/72 [==============================] - 0s 1ms/step\n"
     ]
    },
    {
     "name": "stderr",
     "output_type": "stream",
     "text": [
      " 30%|##########################################9                                                                                                    | 261/870 [00:02<00:06, 89.41it/s]"
     ]
    },
    {
     "name": "stdout",
     "output_type": "stream",
     "text": [
      "72/72 [==============================] - 0s 712us/step\n"
     ]
    },
    {
     "name": "stderr",
     "output_type": "stream",
     "text": [
      " 32%|#############################################8                                                                                                | 281/870 [00:02<00:05, 102.90it/s]"
     ]
    },
    {
     "name": "stdout",
     "output_type": "stream",
     "text": [
      "72/72 [==============================] - 0s 2ms/step\n"
     ]
    },
    {
     "name": "stderr",
     "output_type": "stream",
     "text": [
      " 35%|#################################################4                                                                                             | 301/870 [00:03<00:05, 98.44it/s]"
     ]
    },
    {
     "name": "stdout",
     "output_type": "stream",
     "text": [
      "72/72 [==============================] - 0s 739us/step\n"
     ]
    },
    {
     "name": "stderr",
     "output_type": "stream",
     "text": [
      " 37%|####################################################3                                                                                         | 321/870 [00:03<00:05, 108.46it/s]"
     ]
    },
    {
     "name": "stdout",
     "output_type": "stream",
     "text": [
      "72/72 [==============================] - 0s 2ms/step\n"
     ]
    },
    {
     "name": "stderr",
     "output_type": "stream",
     "text": [
      " 39%|#######################################################6                                                                                      | 341/870 [00:03<00:05, 102.28it/s]"
     ]
    },
    {
     "name": "stdout",
     "output_type": "stream",
     "text": [
      "72/72 [==============================] - 0s 1ms/step\n"
     ]
    },
    {
     "name": "stderr",
     "output_type": "stream",
     "text": [
      " 41%|##########################################################9                                                                                   | 361/870 [00:03<00:04, 109.03it/s]"
     ]
    },
    {
     "name": "stdout",
     "output_type": "stream",
     "text": [
      "72/72 [==============================] - 0s 733us/step\n"
     ]
    },
    {
     "name": "stderr",
     "output_type": "stream",
     "text": [
      " 44%|##############################################################1                                                                               | 381/870 [00:03<00:04, 119.79it/s]"
     ]
    },
    {
     "name": "stdout",
     "output_type": "stream",
     "text": [
      "72/72 [==============================] - 0s 747us/step\n"
     ]
    },
    {
     "name": "stderr",
     "output_type": "stream",
     "text": [
      " 46%|#################################################################4                                                                            | 401/870 [00:03<00:03, 128.41it/s]"
     ]
    },
    {
     "name": "stdout",
     "output_type": "stream",
     "text": [
      "72/72 [==============================] - 0s 713us/step\n"
     ]
    },
    {
     "name": "stderr",
     "output_type": "stream",
     "text": [
      " 48%|####################################################################7                                                                         | 421/870 [00:03<00:03, 136.08it/s]"
     ]
    },
    {
     "name": "stdout",
     "output_type": "stream",
     "text": [
      "72/72 [==============================] - 0s 718us/step\n"
     ]
    },
    {
     "name": "stderr",
     "output_type": "stream",
     "text": [
      " 51%|#######################################################################9                                                                      | 441/870 [00:04<00:03, 141.65it/s]"
     ]
    },
    {
     "name": "stdout",
     "output_type": "stream",
     "text": [
      "72/72 [==============================] - 0s 1ms/step\n"
     ]
    },
    {
     "name": "stderr",
     "output_type": "stream",
     "text": [
      " 53%|###########################################################################2                                                                  | 461/870 [00:04<00:03, 131.11it/s]"
     ]
    },
    {
     "name": "stdout",
     "output_type": "stream",
     "text": [
      "72/72 [==============================] - 0s 757us/step\n"
     ]
    },
    {
     "name": "stderr",
     "output_type": "stream",
     "text": [
      " 55%|##############################################################################5                                                               | 481/870 [00:04<00:02, 135.14it/s]"
     ]
    },
    {
     "name": "stdout",
     "output_type": "stream",
     "text": [
      "72/72 [==============================] - 0s 3ms/step\n"
     ]
    },
    {
     "name": "stderr",
     "output_type": "stream",
     "text": [
      " 58%|#################################################################################7                                                            | 501/870 [00:04<00:03, 105.15it/s]"
     ]
    },
    {
     "name": "stdout",
     "output_type": "stream",
     "text": [
      "72/72 [==============================] - 0s 891us/step\n"
     ]
    },
    {
     "name": "stderr",
     "output_type": "stream",
     "text": [
      " 60%|#####################################################################################                                                         | 521/870 [00:04<00:03, 111.90it/s]"
     ]
    },
    {
     "name": "stdout",
     "output_type": "stream",
     "text": [
      "72/72 [==============================] - 0s 1ms/step\n"
     ]
    },
    {
     "name": "stderr",
     "output_type": "stream",
     "text": [
      " 62%|########################################################################################3                                                     | 541/870 [00:05<00:02, 113.71it/s]"
     ]
    },
    {
     "name": "stdout",
     "output_type": "stream",
     "text": [
      "72/72 [==============================] - 0s 1ms/step\n"
     ]
    },
    {
     "name": "stderr",
     "output_type": "stream",
     "text": [
      " 64%|###########################################################################################5                                                  | 561/870 [00:05<00:02, 115.21it/s]"
     ]
    },
    {
     "name": "stdout",
     "output_type": "stream",
     "text": [
      "72/72 [==============================] - 0s 830us/step\n"
     ]
    },
    {
     "name": "stderr",
     "output_type": "stream",
     "text": [
      " 67%|##############################################################################################8                                               | 581/870 [00:05<00:02, 123.19it/s]"
     ]
    },
    {
     "name": "stdout",
     "output_type": "stream",
     "text": [
      "72/72 [==============================] - 0s 1ms/step\n"
     ]
    },
    {
     "name": "stderr",
     "output_type": "stream",
     "text": [
      " 69%|##################################################################################################                                            | 601/870 [00:05<00:02, 119.87it/s]"
     ]
    },
    {
     "name": "stdout",
     "output_type": "stream",
     "text": [
      "72/72 [==============================] - 0s 744us/step\n"
     ]
    },
    {
     "name": "stderr",
     "output_type": "stream",
     "text": [
      " 71%|#####################################################################################################3                                        | 621/870 [00:05<00:01, 128.60it/s]"
     ]
    },
    {
     "name": "stdout",
     "output_type": "stream",
     "text": [
      "72/72 [==============================] - 0s 1ms/step\n"
     ]
    },
    {
     "name": "stderr",
     "output_type": "stream",
     "text": [
      " 74%|########################################################################################################6                                     | 641/870 [00:05<00:01, 129.59it/s]"
     ]
    },
    {
     "name": "stdout",
     "output_type": "stream",
     "text": [
      "72/72 [==============================] - 0s 695us/step\n"
     ]
    },
    {
     "name": "stderr",
     "output_type": "stream",
     "text": [
      " 76%|###########################################################################################################8                                  | 661/870 [00:05<00:01, 137.26it/s]"
     ]
    },
    {
     "name": "stdout",
     "output_type": "stream",
     "text": [
      "72/72 [==============================] - 0s 757us/step\n"
     ]
    },
    {
     "name": "stderr",
     "output_type": "stream",
     "text": [
      " 78%|###############################################################################################################1                              | 681/870 [00:06<00:01, 141.54it/s]"
     ]
    },
    {
     "name": "stdout",
     "output_type": "stream",
     "text": [
      "72/72 [==============================] - 0s 903us/step\n"
     ]
    },
    {
     "name": "stderr",
     "output_type": "stream",
     "text": [
      " 81%|##################################################################################################################4                           | 701/870 [00:06<00:01, 140.63it/s]"
     ]
    },
    {
     "name": "stdout",
     "output_type": "stream",
     "text": [
      "72/72 [==============================] - 0s 824us/step\n"
     ]
    },
    {
     "name": "stderr",
     "output_type": "stream",
     "text": [
      " 83%|#####################################################################################################################6                        | 721/870 [00:06<00:01, 140.57it/s]"
     ]
    },
    {
     "name": "stdout",
     "output_type": "stream",
     "text": [
      "72/72 [==============================] - 0s 2ms/step\n"
     ]
    },
    {
     "name": "stderr",
     "output_type": "stream",
     "text": [
      " 85%|########################################################################################################################9                     | 741/870 [00:06<00:01, 115.35it/s]"
     ]
    },
    {
     "name": "stdout",
     "output_type": "stream",
     "text": [
      "72/72 [==============================] - 0s 2ms/step\n"
     ]
    },
    {
     "name": "stderr",
     "output_type": "stream",
     "text": [
      " 87%|############################################################################################################################2                 | 761/870 [00:06<00:01, 103.82it/s]"
     ]
    },
    {
     "name": "stdout",
     "output_type": "stream",
     "text": [
      "72/72 [==============================] - 0s 1ms/step\n"
     ]
    },
    {
     "name": "stderr",
     "output_type": "stream",
     "text": [
      " 90%|###############################################################################################################################4              | 781/870 [00:06<00:00, 107.50it/s]"
     ]
    },
    {
     "name": "stdout",
     "output_type": "stream",
     "text": [
      "72/72 [==============================] - 0s 2ms/step\n"
     ]
    },
    {
     "name": "stderr",
     "output_type": "stream",
     "text": [
      " 92%|##################################################################################################################################7           | 801/870 [00:07<00:00, 101.77it/s]"
     ]
    },
    {
     "name": "stdout",
     "output_type": "stream",
     "text": [
      "72/72 [==============================] - 0s 1ms/step\n"
     ]
    },
    {
     "name": "stderr",
     "output_type": "stream",
     "text": [
      " 94%|######################################################################################################################################        | 821/870 [00:07<00:00, 104.00it/s]"
     ]
    },
    {
     "name": "stdout",
     "output_type": "stream",
     "text": [
      "72/72 [==============================] - 0s 1ms/step\n"
     ]
    },
    {
     "name": "stderr",
     "output_type": "stream",
     "text": [
      " 97%|#########################################################################################################################################2    | 841/870 [00:07<00:00, 106.87it/s]"
     ]
    },
    {
     "name": "stdout",
     "output_type": "stream",
     "text": [
      "72/72 [==============================] - 0s 1ms/step\n"
     ]
    },
    {
     "name": "stderr",
     "output_type": "stream",
     "text": [
      " 99%|############################################################################################################################################5 | 861/870 [00:07<00:00, 106.34it/s]"
     ]
    },
    {
     "name": "stdout",
     "output_type": "stream",
     "text": [
      "33/33 [==============================] - 0s 1ms/step\n"
     ]
    },
    {
     "name": "stderr",
     "output_type": "stream",
     "text": [
      "100%|##############################################################################################################################################| 870/870 [00:07<00:00, 111.19it/s]\n",
      "100%|#############################################################################################################################################| 120/120 [00:00<00:00, 1401.53it/s]\n"
     ]
    },
    {
     "name": "stdout",
     "output_type": "stream",
     "text": [
      "2022-08-02 12:48:44,336 - \u001b[32mINFO\u001b[0m - [bidd-aggmap]\u001b[0m - generate file: ./feature points_849_correlation_umap_mp\u001b[0m\n",
      "2022-08-02 12:48:44,342 - \u001b[32mINFO\u001b[0m - [bidd-aggmap]\u001b[0m - save html file to ./feature points_849_correlation_umap_mp\u001b[0m\n",
      "4/4 [==============================] - 0s 12ms/step\n",
      "calculating feature importance for CRC ...\n"
     ]
    },
    {
     "name": "stderr",
     "output_type": "stream",
     "text": [
      "  0%|                                                                                                                                                         | 0/870 [00:00<?, ?it/s]"
     ]
    },
    {
     "name": "stdout",
     "output_type": "stream",
     "text": [
      "79/79 [==============================] - 0s 990us/step\n"
     ]
    },
    {
     "name": "stderr",
     "output_type": "stream",
     "text": [
      "  2%|###4                                                                                                                                           | 21/870 [00:00<00:06, 129.12it/s]"
     ]
    },
    {
     "name": "stdout",
     "output_type": "stream",
     "text": [
      "75/75 [==============================] - 0s 2ms/step\n"
     ]
    },
    {
     "name": "stderr",
     "output_type": "stream",
     "text": [
      "  5%|######7                                                                                                                                         | 41/870 [00:00<00:08, 97.87it/s]"
     ]
    },
    {
     "name": "stdout",
     "output_type": "stream",
     "text": [
      "75/75 [==============================] - 0s 2ms/step\n"
     ]
    },
    {
     "name": "stderr",
     "output_type": "stream",
     "text": [
      "  7%|##########                                                                                                                                      | 61/870 [00:00<00:08, 96.32it/s]"
     ]
    },
    {
     "name": "stdout",
     "output_type": "stream",
     "text": [
      "75/75 [==============================] - 0s 741us/step\n"
     ]
    },
    {
     "name": "stderr",
     "output_type": "stream",
     "text": [
      "  9%|#############3                                                                                                                                 | 81/870 [00:00<00:07, 111.01it/s]"
     ]
    },
    {
     "name": "stdout",
     "output_type": "stream",
     "text": [
      "75/75 [==============================] - 0s 2ms/step\n"
     ]
    },
    {
     "name": "stderr",
     "output_type": "stream",
     "text": [
      " 12%|################6                                                                                                                              | 101/870 [00:01<00:07, 97.35it/s]"
     ]
    },
    {
     "name": "stdout",
     "output_type": "stream",
     "text": [
      "75/75 [==============================] - 0s 3ms/step\n"
     ]
    },
    {
     "name": "stderr",
     "output_type": "stream",
     "text": [
      " 14%|###################8                                                                                                                           | 121/870 [00:01<00:09, 80.07it/s]"
     ]
    },
    {
     "name": "stdout",
     "output_type": "stream",
     "text": [
      "75/75 [==============================] - 0s 2ms/step\n"
     ]
    },
    {
     "name": "stderr",
     "output_type": "stream",
     "text": [
      " 16%|#######################1                                                                                                                       | 141/870 [00:01<00:08, 81.10it/s]"
     ]
    },
    {
     "name": "stdout",
     "output_type": "stream",
     "text": [
      "75/75 [==============================] - 0s 1ms/step\n"
     ]
    },
    {
     "name": "stderr",
     "output_type": "stream",
     "text": [
      " 19%|##########################4                                                                                                                    | 161/870 [00:01<00:08, 87.00it/s]"
     ]
    },
    {
     "name": "stdout",
     "output_type": "stream",
     "text": [
      "75/75 [==============================] - 0s 788us/step\n"
     ]
    },
    {
     "name": "stderr",
     "output_type": "stream",
     "text": [
      " 21%|#############################7                                                                                                                 | 181/870 [00:01<00:06, 99.17it/s]"
     ]
    },
    {
     "name": "stdout",
     "output_type": "stream",
     "text": [
      "75/75 [==============================] - 0s 1ms/step\n"
     ]
    },
    {
     "name": "stderr",
     "output_type": "stream",
     "text": [
      " 23%|################################8                                                                                                             | 201/870 [00:02<00:06, 103.01it/s]"
     ]
    },
    {
     "name": "stdout",
     "output_type": "stream",
     "text": [
      "75/75 [==============================] - 0s 2ms/step\n"
     ]
    },
    {
     "name": "stderr",
     "output_type": "stream",
     "text": [
      " 25%|####################################3                                                                                                          | 221/870 [00:02<00:07, 92.06it/s]"
     ]
    },
    {
     "name": "stdout",
     "output_type": "stream",
     "text": [
      "75/75 [==============================] - 0s 1ms/step\n"
     ]
    },
    {
     "name": "stderr",
     "output_type": "stream",
     "text": [
      " 28%|#######################################6                                                                                                       | 241/870 [00:02<00:06, 94.01it/s]"
     ]
    },
    {
     "name": "stdout",
     "output_type": "stream",
     "text": [
      "75/75 [==============================] - 0s 731us/step\n"
     ]
    },
    {
     "name": "stderr",
     "output_type": "stream",
     "text": [
      " 30%|##########################################6                                                                                                   | 261/870 [00:02<00:05, 104.99it/s]"
     ]
    },
    {
     "name": "stdout",
     "output_type": "stream",
     "text": [
      "75/75 [==============================] - 0s 1ms/step\n"
     ]
    },
    {
     "name": "stderr",
     "output_type": "stream",
     "text": [
      " 32%|#############################################8                                                                                                | 281/870 [00:02<00:05, 101.89it/s]"
     ]
    },
    {
     "name": "stdout",
     "output_type": "stream",
     "text": [
      "75/75 [==============================] - 0s 785us/step\n"
     ]
    },
    {
     "name": "stderr",
     "output_type": "stream",
     "text": [
      " 35%|#################################################1                                                                                            | 301/870 [00:03<00:05, 110.24it/s]"
     ]
    },
    {
     "name": "stdout",
     "output_type": "stream",
     "text": [
      "75/75 [==============================] - 0s 973us/step\n"
     ]
    },
    {
     "name": "stderr",
     "output_type": "stream",
     "text": [
      " 37%|####################################################3                                                                                         | 321/870 [00:03<00:04, 115.15it/s]"
     ]
    },
    {
     "name": "stdout",
     "output_type": "stream",
     "text": [
      "75/75 [==============================] - 0s 730us/step\n"
     ]
    },
    {
     "name": "stderr",
     "output_type": "stream",
     "text": [
      " 39%|#######################################################6                                                                                      | 341/870 [00:03<00:04, 123.10it/s]"
     ]
    },
    {
     "name": "stdout",
     "output_type": "stream",
     "text": [
      "75/75 [==============================] - 0s 750us/step\n"
     ]
    },
    {
     "name": "stderr",
     "output_type": "stream",
     "text": [
      " 41%|##########################################################9                                                                                   | 361/870 [00:03<00:03, 129.61it/s]"
     ]
    },
    {
     "name": "stdout",
     "output_type": "stream",
     "text": [
      "75/75 [==============================] - 0s 984us/step\n"
     ]
    },
    {
     "name": "stderr",
     "output_type": "stream",
     "text": [
      " 44%|##############################################################1                                                                               | 381/870 [00:03<00:03, 129.20it/s]"
     ]
    },
    {
     "name": "stdout",
     "output_type": "stream",
     "text": [
      "75/75 [==============================] - 0s 788us/step\n"
     ]
    },
    {
     "name": "stderr",
     "output_type": "stream",
     "text": [
      " 46%|#################################################################4                                                                            | 401/870 [00:03<00:03, 133.67it/s]"
     ]
    },
    {
     "name": "stdout",
     "output_type": "stream",
     "text": [
      "75/75 [==============================] - 0s 927us/step\n"
     ]
    },
    {
     "name": "stderr",
     "output_type": "stream",
     "text": [
      " 48%|####################################################################7                                                                         | 421/870 [00:03<00:03, 133.81it/s]"
     ]
    },
    {
     "name": "stdout",
     "output_type": "stream",
     "text": [
      "75/75 [==============================] - 0s 1ms/step\n"
     ]
    },
    {
     "name": "stderr",
     "output_type": "stream",
     "text": [
      " 51%|#######################################################################9                                                                      | 441/870 [00:04<00:03, 124.88it/s]"
     ]
    },
    {
     "name": "stdout",
     "output_type": "stream",
     "text": [
      "75/75 [==============================] - 0s 730us/step\n"
     ]
    },
    {
     "name": "stderr",
     "output_type": "stream",
     "text": [
      " 53%|###########################################################################2                                                                  | 461/870 [00:04<00:03, 130.77it/s]"
     ]
    },
    {
     "name": "stdout",
     "output_type": "stream",
     "text": [
      "75/75 [==============================] - 0s 827us/step\n"
     ]
    },
    {
     "name": "stderr",
     "output_type": "stream",
     "text": [
      " 55%|##############################################################################5                                                               | 481/870 [00:04<00:02, 132.81it/s]"
     ]
    },
    {
     "name": "stdout",
     "output_type": "stream",
     "text": [
      "75/75 [==============================] - 0s 809us/step\n"
     ]
    },
    {
     "name": "stderr",
     "output_type": "stream",
     "text": [
      " 58%|#################################################################################7                                                            | 501/870 [00:04<00:02, 135.84it/s]"
     ]
    },
    {
     "name": "stdout",
     "output_type": "stream",
     "text": [
      "75/75 [==============================] - 0s 779us/step\n"
     ]
    },
    {
     "name": "stderr",
     "output_type": "stream",
     "text": [
      " 60%|#####################################################################################                                                         | 521/870 [00:04<00:02, 135.12it/s]"
     ]
    },
    {
     "name": "stdout",
     "output_type": "stream",
     "text": [
      "75/75 [==============================] - 0s 2ms/step\n"
     ]
    },
    {
     "name": "stderr",
     "output_type": "stream",
     "text": [
      " 62%|########################################################################################3                                                     | 541/870 [00:04<00:02, 112.22it/s]"
     ]
    },
    {
     "name": "stdout",
     "output_type": "stream",
     "text": [
      "75/75 [==============================] - 0s 757us/step\n"
     ]
    },
    {
     "name": "stderr",
     "output_type": "stream",
     "text": [
      " 64%|###########################################################################################5                                                  | 561/870 [00:05<00:02, 120.64it/s]"
     ]
    },
    {
     "name": "stdout",
     "output_type": "stream",
     "text": [
      "75/75 [==============================] - 0s 2ms/step\n"
     ]
    },
    {
     "name": "stderr",
     "output_type": "stream",
     "text": [
      " 67%|##############################################################################################8                                               | 581/870 [00:05<00:02, 100.95it/s]"
     ]
    },
    {
     "name": "stdout",
     "output_type": "stream",
     "text": [
      "75/75 [==============================] - 0s 798us/step\n"
     ]
    },
    {
     "name": "stderr",
     "output_type": "stream",
     "text": [
      " 69%|##################################################################################################                                            | 601/870 [00:05<00:02, 110.43it/s]"
     ]
    },
    {
     "name": "stdout",
     "output_type": "stream",
     "text": [
      "75/75 [==============================] - 0s 2ms/step\n"
     ]
    },
    {
     "name": "stderr",
     "output_type": "stream",
     "text": [
      " 71%|#####################################################################################################3                                        | 621/870 [00:05<00:02, 105.00it/s]"
     ]
    },
    {
     "name": "stdout",
     "output_type": "stream",
     "text": [
      "75/75 [==============================] - 0s 2ms/step\n"
     ]
    },
    {
     "name": "stderr",
     "output_type": "stream",
     "text": [
      " 74%|#########################################################################################################3                                     | 641/870 [00:05<00:02, 98.70it/s]"
     ]
    },
    {
     "name": "stdout",
     "output_type": "stream",
     "text": [
      "75/75 [==============================] - 0s 1ms/step\n"
     ]
    },
    {
     "name": "stderr",
     "output_type": "stream",
     "text": [
      " 76%|###########################################################################################################8                                  | 661/870 [00:06<00:02, 100.27it/s]"
     ]
    },
    {
     "name": "stdout",
     "output_type": "stream",
     "text": [
      "75/75 [==============================] - 0s 962us/step\n"
     ]
    },
    {
     "name": "stderr",
     "output_type": "stream",
     "text": [
      " 78%|###############################################################################################################1                              | 681/870 [00:06<00:01, 106.33it/s]"
     ]
    },
    {
     "name": "stdout",
     "output_type": "stream",
     "text": [
      "75/75 [==============================] - 0s 2ms/step\n"
     ]
    },
    {
     "name": "stderr",
     "output_type": "stream",
     "text": [
      " 81%|###################################################################################################################2                           | 701/870 [00:06<00:01, 94.38it/s]"
     ]
    },
    {
     "name": "stdout",
     "output_type": "stream",
     "text": [
      "75/75 [==============================] - 0s 1ms/step\n"
     ]
    },
    {
     "name": "stderr",
     "output_type": "stream",
     "text": [
      " 83%|######################################################################################################################5                        | 721/870 [00:06<00:01, 97.77it/s]"
     ]
    },
    {
     "name": "stdout",
     "output_type": "stream",
     "text": [
      "75/75 [==============================] - 0s 2ms/step\n"
     ]
    },
    {
     "name": "stderr",
     "output_type": "stream",
     "text": [
      " 85%|#########################################################################################################################7                     | 741/870 [00:06<00:01, 96.27it/s]"
     ]
    },
    {
     "name": "stdout",
     "output_type": "stream",
     "text": [
      "75/75 [==============================] - 0s 2ms/step\n"
     ]
    },
    {
     "name": "stderr",
     "output_type": "stream",
     "text": [
      " 87%|#############################################################################################################################                  | 761/870 [00:07<00:01, 87.88it/s]"
     ]
    },
    {
     "name": "stdout",
     "output_type": "stream",
     "text": [
      "75/75 [==============================] - 0s 1ms/step\n"
     ]
    },
    {
     "name": "stderr",
     "output_type": "stream",
     "text": [
      " 90%|################################################################################################################################3              | 781/870 [00:07<00:00, 91.91it/s]"
     ]
    },
    {
     "name": "stdout",
     "output_type": "stream",
     "text": [
      "75/75 [==============================] - 0s 728us/step\n"
     ]
    },
    {
     "name": "stderr",
     "output_type": "stream",
     "text": [
      " 92%|##################################################################################################################################7           | 801/870 [00:07<00:00, 103.82it/s]"
     ]
    },
    {
     "name": "stdout",
     "output_type": "stream",
     "text": [
      "75/75 [==============================] - 0s 735us/step\n"
     ]
    },
    {
     "name": "stderr",
     "output_type": "stream",
     "text": [
      " 94%|######################################################################################################################################        | 821/870 [00:07<00:00, 114.27it/s]"
     ]
    },
    {
     "name": "stdout",
     "output_type": "stream",
     "text": [
      "75/75 [==============================] - 0s 762us/step\n"
     ]
    },
    {
     "name": "stderr",
     "output_type": "stream",
     "text": [
      " 97%|#########################################################################################################################################2    | 841/870 [00:07<00:00, 122.56it/s]"
     ]
    },
    {
     "name": "stdout",
     "output_type": "stream",
     "text": [
      "75/75 [==============================] - 0s 756us/step\n"
     ]
    },
    {
     "name": "stderr",
     "output_type": "stream",
     "text": [
      " 99%|############################################################################################################################################5 | 861/870 [00:07<00:00, 128.97it/s]"
     ]
    },
    {
     "name": "stdout",
     "output_type": "stream",
     "text": [
      "34/34 [==============================] - 0s 772us/step\n"
     ]
    },
    {
     "name": "stderr",
     "output_type": "stream",
     "text": [
      "100%|##############################################################################################################################################| 870/870 [00:08<00:00, 108.29it/s]\n"
     ]
    },
    {
     "name": "stdout",
     "output_type": "stream",
     "text": [
      "calculating feature importance for CTR ...\n"
     ]
    },
    {
     "name": "stderr",
     "output_type": "stream",
     "text": [
      "  0%|                                                                                                                                                         | 0/870 [00:00<?, ?it/s]"
     ]
    },
    {
     "name": "stdout",
     "output_type": "stream",
     "text": [
      "79/79 [==============================] - 0s 2ms/step\n"
     ]
    },
    {
     "name": "stderr",
     "output_type": "stream",
     "text": [
      "  2%|###4                                                                                                                                            | 21/870 [00:00<00:10, 84.25it/s]"
     ]
    },
    {
     "name": "stdout",
     "output_type": "stream",
     "text": [
      "75/75 [==============================] - 0s 901us/step\n"
     ]
    },
    {
     "name": "stderr",
     "output_type": "stream",
     "text": [
      "  5%|######7                                                                                                                                        | 41/870 [00:00<00:07, 106.33it/s]"
     ]
    },
    {
     "name": "stdout",
     "output_type": "stream",
     "text": [
      "75/75 [==============================] - 0s 976us/step\n"
     ]
    },
    {
     "name": "stderr",
     "output_type": "stream",
     "text": [
      "  7%|##########                                                                                                                                     | 61/870 [00:00<00:07, 110.75it/s]"
     ]
    },
    {
     "name": "stdout",
     "output_type": "stream",
     "text": [
      "75/75 [==============================] - 0s 2ms/step\n"
     ]
    },
    {
     "name": "stderr",
     "output_type": "stream",
     "text": [
      "  9%|#############4                                                                                                                                  | 81/870 [00:00<00:08, 93.40it/s]"
     ]
    },
    {
     "name": "stdout",
     "output_type": "stream",
     "text": [
      "75/75 [==============================] - 0s 2ms/step\n"
     ]
    },
    {
     "name": "stderr",
     "output_type": "stream",
     "text": [
      " 12%|################6                                                                                                                              | 101/870 [00:01<00:08, 93.50it/s]"
     ]
    },
    {
     "name": "stdout",
     "output_type": "stream",
     "text": [
      "75/75 [==============================] - 0s 2ms/step\n"
     ]
    },
    {
     "name": "stderr",
     "output_type": "stream",
     "text": [
      " 14%|###################8                                                                                                                           | 121/870 [00:01<00:07, 94.88it/s]"
     ]
    },
    {
     "name": "stdout",
     "output_type": "stream",
     "text": [
      "75/75 [==============================] - 0s 2ms/step\n"
     ]
    },
    {
     "name": "stderr",
     "output_type": "stream",
     "text": [
      " 16%|#######################1                                                                                                                       | 141/870 [00:01<00:08, 89.87it/s]"
     ]
    },
    {
     "name": "stdout",
     "output_type": "stream",
     "text": [
      "75/75 [==============================] - 0s 1ms/step\n"
     ]
    },
    {
     "name": "stderr",
     "output_type": "stream",
     "text": [
      " 19%|##########################4                                                                                                                    | 161/870 [00:01<00:07, 95.80it/s]"
     ]
    },
    {
     "name": "stdout",
     "output_type": "stream",
     "text": [
      "75/75 [==============================] - 0s 1ms/step\n"
     ]
    },
    {
     "name": "stderr",
     "output_type": "stream",
     "text": [
      " 21%|#############################7                                                                                                                 | 181/870 [00:01<00:06, 99.55it/s]"
     ]
    },
    {
     "name": "stdout",
     "output_type": "stream",
     "text": [
      "75/75 [==============================] - 0s 1ms/step\n"
     ]
    },
    {
     "name": "stderr",
     "output_type": "stream",
     "text": [
      " 23%|################################8                                                                                                             | 201/870 [00:02<00:06, 100.84it/s]"
     ]
    },
    {
     "name": "stdout",
     "output_type": "stream",
     "text": [
      "75/75 [==============================] - 0s 2ms/step\n"
     ]
    },
    {
     "name": "stderr",
     "output_type": "stream",
     "text": [
      " 25%|####################################3                                                                                                          | 221/870 [00:02<00:06, 96.18it/s]"
     ]
    },
    {
     "name": "stdout",
     "output_type": "stream",
     "text": [
      "75/75 [==============================] - 0s 737us/step\n"
     ]
    },
    {
     "name": "stderr",
     "output_type": "stream",
     "text": [
      " 28%|#######################################3                                                                                                      | 241/870 [00:02<00:05, 107.77it/s]"
     ]
    },
    {
     "name": "stdout",
     "output_type": "stream",
     "text": [
      "75/75 [==============================] - 0s 1ms/step\n"
     ]
    },
    {
     "name": "stderr",
     "output_type": "stream",
     "text": [
      " 30%|##########################################6                                                                                                   | 261/870 [00:02<00:05, 107.18it/s]"
     ]
    },
    {
     "name": "stdout",
     "output_type": "stream",
     "text": [
      "75/75 [==============================] - 0s 830us/step\n"
     ]
    },
    {
     "name": "stderr",
     "output_type": "stream",
     "text": [
      " 32%|#############################################8                                                                                                | 281/870 [00:02<00:05, 112.67it/s]"
     ]
    },
    {
     "name": "stdout",
     "output_type": "stream",
     "text": [
      "75/75 [==============================] - 0s 1ms/step\n"
     ]
    },
    {
     "name": "stderr",
     "output_type": "stream",
     "text": [
      " 35%|#################################################1                                                                                            | 301/870 [00:02<00:05, 111.68it/s]"
     ]
    },
    {
     "name": "stdout",
     "output_type": "stream",
     "text": [
      "75/75 [==============================] - 0s 1ms/step\n"
     ]
    },
    {
     "name": "stderr",
     "output_type": "stream",
     "text": [
      " 37%|####################################################3                                                                                         | 321/870 [00:03<00:05, 109.34it/s]"
     ]
    },
    {
     "name": "stdout",
     "output_type": "stream",
     "text": [
      "75/75 [==============================] - 0s 782us/step\n"
     ]
    },
    {
     "name": "stderr",
     "output_type": "stream",
     "text": [
      " 39%|#######################################################6                                                                                      | 341/870 [00:03<00:04, 118.22it/s]"
     ]
    },
    {
     "name": "stdout",
     "output_type": "stream",
     "text": [
      "75/75 [==============================] - 0s 952us/step\n"
     ]
    },
    {
     "name": "stderr",
     "output_type": "stream",
     "text": [
      " 41%|##########################################################9                                                                                   | 361/870 [00:03<00:04, 121.01it/s]"
     ]
    },
    {
     "name": "stdout",
     "output_type": "stream",
     "text": [
      "75/75 [==============================] - 0s 751us/step\n"
     ]
    },
    {
     "name": "stderr",
     "output_type": "stream",
     "text": [
      " 44%|##############################################################1                                                                               | 381/870 [00:03<00:03, 127.19it/s]"
     ]
    },
    {
     "name": "stdout",
     "output_type": "stream",
     "text": [
      "75/75 [==============================] - 0s 1ms/step\n"
     ]
    },
    {
     "name": "stderr",
     "output_type": "stream",
     "text": [
      " 46%|#################################################################4                                                                            | 401/870 [00:03<00:03, 121.87it/s]"
     ]
    },
    {
     "name": "stdout",
     "output_type": "stream",
     "text": [
      "75/75 [==============================] - 0s 1ms/step\n"
     ]
    },
    {
     "name": "stderr",
     "output_type": "stream",
     "text": [
      " 48%|####################################################################7                                                                         | 421/870 [00:03<00:03, 121.43it/s]"
     ]
    },
    {
     "name": "stdout",
     "output_type": "stream",
     "text": [
      "75/75 [==============================] - 0s 2ms/step\n"
     ]
    },
    {
     "name": "stderr",
     "output_type": "stream",
     "text": [
      " 51%|#######################################################################9                                                                      | 441/870 [00:04<00:03, 112.67it/s]"
     ]
    },
    {
     "name": "stdout",
     "output_type": "stream",
     "text": [
      "75/75 [==============================] - 0s 779us/step\n"
     ]
    },
    {
     "name": "stderr",
     "output_type": "stream",
     "text": [
      " 53%|###########################################################################2                                                                  | 461/870 [00:04<00:03, 119.56it/s]"
     ]
    },
    {
     "name": "stdout",
     "output_type": "stream",
     "text": [
      "75/75 [==============================] - 0s 1ms/step\n"
     ]
    },
    {
     "name": "stderr",
     "output_type": "stream",
     "text": [
      " 55%|##############################################################################5                                                               | 481/870 [00:04<00:03, 118.36it/s]"
     ]
    },
    {
     "name": "stdout",
     "output_type": "stream",
     "text": [
      "75/75 [==============================] - 0s 2ms/step\n"
     ]
    },
    {
     "name": "stderr",
     "output_type": "stream",
     "text": [
      " 58%|#################################################################################7                                                            | 501/870 [00:04<00:03, 109.59it/s]"
     ]
    },
    {
     "name": "stdout",
     "output_type": "stream",
     "text": [
      "75/75 [==============================] - 0s 2ms/step\n"
     ]
    },
    {
     "name": "stderr",
     "output_type": "stream",
     "text": [
      " 60%|#####################################################################################                                                         | 521/870 [00:04<00:03, 104.69it/s]"
     ]
    },
    {
     "name": "stdout",
     "output_type": "stream",
     "text": [
      "75/75 [==============================] - 0s 3ms/step\n"
     ]
    },
    {
     "name": "stderr",
     "output_type": "stream",
     "text": [
      " 62%|########################################################################################9                                                      | 541/870 [00:05<00:03, 89.58it/s]"
     ]
    },
    {
     "name": "stdout",
     "output_type": "stream",
     "text": [
      "75/75 [==============================] - 0s 2ms/step\n"
     ]
    },
    {
     "name": "stderr",
     "output_type": "stream",
     "text": [
      " 64%|############################################################################################2                                                  | 561/870 [00:05<00:03, 84.74it/s]"
     ]
    },
    {
     "name": "stdout",
     "output_type": "stream",
     "text": [
      "75/75 [==============================] - 0s 3ms/step\n"
     ]
    },
    {
     "name": "stderr",
     "output_type": "stream",
     "text": [
      " 67%|###############################################################################################4                                               | 581/870 [00:05<00:03, 80.02it/s]"
     ]
    },
    {
     "name": "stdout",
     "output_type": "stream",
     "text": [
      "75/75 [==============================] - 0s 829us/step\n"
     ]
    },
    {
     "name": "stderr",
     "output_type": "stream",
     "text": [
      " 69%|##################################################################################################7                                            | 601/870 [00:05<00:02, 91.70it/s]"
     ]
    },
    {
     "name": "stdout",
     "output_type": "stream",
     "text": [
      "75/75 [==============================] - 0s 809us/step\n"
     ]
    },
    {
     "name": "stderr",
     "output_type": "stream",
     "text": [
      " 71%|#####################################################################################################3                                        | 621/870 [00:06<00:02, 102.64it/s]"
     ]
    },
    {
     "name": "stdout",
     "output_type": "stream",
     "text": [
      "75/75 [==============================] - 0s 1ms/step\n"
     ]
    },
    {
     "name": "stderr",
     "output_type": "stream",
     "text": [
      " 74%|########################################################################################################6                                     | 641/870 [00:06<00:02, 106.96it/s]"
     ]
    },
    {
     "name": "stdout",
     "output_type": "stream",
     "text": [
      "75/75 [==============================] - 0s 738us/step\n"
     ]
    },
    {
     "name": "stderr",
     "output_type": "stream",
     "text": [
      " 76%|###########################################################################################################8                                  | 661/870 [00:06<00:01, 116.83it/s]"
     ]
    },
    {
     "name": "stdout",
     "output_type": "stream",
     "text": [
      "75/75 [==============================] - 0s 1ms/step\n"
     ]
    },
    {
     "name": "stderr",
     "output_type": "stream",
     "text": [
      " 78%|###############################################################################################################1                              | 681/870 [00:06<00:01, 111.33it/s]"
     ]
    },
    {
     "name": "stdout",
     "output_type": "stream",
     "text": [
      "75/75 [==============================] - 0s 735us/step\n"
     ]
    },
    {
     "name": "stderr",
     "output_type": "stream",
     "text": [
      " 81%|##################################################################################################################4                           | 701/870 [00:06<00:01, 118.17it/s]"
     ]
    },
    {
     "name": "stdout",
     "output_type": "stream",
     "text": [
      "75/75 [==============================] - 0s 2ms/step\n"
     ]
    },
    {
     "name": "stderr",
     "output_type": "stream",
     "text": [
      " 83%|#####################################################################################################################6                        | 721/870 [00:06<00:01, 101.54it/s]"
     ]
    },
    {
     "name": "stdout",
     "output_type": "stream",
     "text": [
      "75/75 [==============================] - 0s 815us/step\n"
     ]
    },
    {
     "name": "stderr",
     "output_type": "stream",
     "text": [
      " 85%|########################################################################################################################9                     | 741/870 [00:07<00:01, 111.07it/s]"
     ]
    },
    {
     "name": "stdout",
     "output_type": "stream",
     "text": [
      "75/75 [==============================] - 0s 737us/step\n"
     ]
    },
    {
     "name": "stderr",
     "output_type": "stream",
     "text": [
      " 87%|############################################################################################################################2                 | 761/870 [00:07<00:00, 120.17it/s]"
     ]
    },
    {
     "name": "stdout",
     "output_type": "stream",
     "text": [
      "75/75 [==============================] - 0s 2ms/step\n"
     ]
    },
    {
     "name": "stderr",
     "output_type": "stream",
     "text": [
      " 90%|###############################################################################################################################4              | 781/870 [00:07<00:00, 105.02it/s]"
     ]
    },
    {
     "name": "stdout",
     "output_type": "stream",
     "text": [
      "75/75 [==============================] - 0s 3ms/step\n"
     ]
    },
    {
     "name": "stderr",
     "output_type": "stream",
     "text": [
      " 92%|###################################################################################################################################6           | 801/870 [00:07<00:00, 91.09it/s]"
     ]
    },
    {
     "name": "stdout",
     "output_type": "stream",
     "text": [
      "75/75 [==============================] - 0s 1ms/step\n"
     ]
    },
    {
     "name": "stderr",
     "output_type": "stream",
     "text": [
      " 94%|######################################################################################################################################9        | 821/870 [00:07<00:00, 94.36it/s]"
     ]
    },
    {
     "name": "stdout",
     "output_type": "stream",
     "text": [
      "75/75 [==============================] - 0s 841us/step\n"
     ]
    },
    {
     "name": "stderr",
     "output_type": "stream",
     "text": [
      " 97%|#########################################################################################################################################2    | 841/870 [00:08<00:00, 103.20it/s]"
     ]
    },
    {
     "name": "stdout",
     "output_type": "stream",
     "text": [
      "75/75 [==============================] - 0s 798us/step\n"
     ]
    },
    {
     "name": "stderr",
     "output_type": "stream",
     "text": [
      " 99%|############################################################################################################################################5 | 861/870 [00:08<00:00, 112.48it/s]"
     ]
    },
    {
     "name": "stdout",
     "output_type": "stream",
     "text": [
      "34/34 [==============================] - 0s 735us/step\n"
     ]
    },
    {
     "name": "stderr",
     "output_type": "stream",
     "text": [
      "100%|##############################################################################################################################################| 870/870 [00:08<00:00, 105.08it/s]\n",
      "100%|#############################################################################################################################################| 104/104 [00:00<00:00, 1370.04it/s]\n"
     ]
    },
    {
     "name": "stdout",
     "output_type": "stream",
     "text": [
      "2022-08-02 12:49:00,945 - \u001b[32mINFO\u001b[0m - [bidd-aggmap]\u001b[0m - generate file: ./feature points_849_correlation_umap_mp\u001b[0m\n",
      "2022-08-02 12:49:00,952 - \u001b[32mINFO\u001b[0m - [bidd-aggmap]\u001b[0m - save html file to ./feature points_849_correlation_umap_mp\u001b[0m\n",
      "4/4 [==============================] - 0s 1ms/step\n",
      "calculating feature importance for CRC ...\n"
     ]
    },
    {
     "name": "stderr",
     "output_type": "stream",
     "text": [
      "  0%|                                                                                                                                                         | 0/870 [00:00<?, ?it/s]"
     ]
    },
    {
     "name": "stdout",
     "output_type": "stream",
     "text": [
      "69/69 [==============================] - 0s 2ms/step\n"
     ]
    },
    {
     "name": "stderr",
     "output_type": "stream",
     "text": [
      "  2%|###4                                                                                                                                            | 21/870 [00:00<00:10, 83.32it/s]"
     ]
    },
    {
     "name": "stdout",
     "output_type": "stream",
     "text": [
      "65/65 [==============================] - 0s 835us/step\n"
     ]
    },
    {
     "name": "stderr",
     "output_type": "stream",
     "text": [
      "  5%|######7                                                                                                                                        | 41/870 [00:00<00:07, 114.81it/s]"
     ]
    },
    {
     "name": "stdout",
     "output_type": "stream",
     "text": [
      "65/65 [==============================] - 0s 722us/step\n"
     ]
    },
    {
     "name": "stderr",
     "output_type": "stream",
     "text": [
      "  7%|##########                                                                                                                                     | 61/870 [00:00<00:06, 134.29it/s]"
     ]
    },
    {
     "name": "stdout",
     "output_type": "stream",
     "text": [
      "65/65 [==============================] - 0s 751us/step\n"
     ]
    },
    {
     "name": "stderr",
     "output_type": "stream",
     "text": [
      "  9%|#############3                                                                                                                                 | 81/870 [00:00<00:05, 144.83it/s]"
     ]
    },
    {
     "name": "stdout",
     "output_type": "stream",
     "text": [
      "65/65 [==============================] - 0s 1ms/step\n"
     ]
    },
    {
     "name": "stderr",
     "output_type": "stream",
     "text": [
      " 12%|################4                                                                                                                             | 101/870 [00:00<00:05, 132.40it/s]"
     ]
    },
    {
     "name": "stdout",
     "output_type": "stream",
     "text": [
      "65/65 [==============================] - 0s 2ms/step\n"
     ]
    },
    {
     "name": "stderr",
     "output_type": "stream",
     "text": [
      " 14%|###################7                                                                                                                          | 121/870 [00:00<00:06, 122.30it/s]"
     ]
    },
    {
     "name": "stdout",
     "output_type": "stream",
     "text": [
      "65/65 [==============================] - 0s 1ms/step\n"
     ]
    },
    {
     "name": "stderr",
     "output_type": "stream",
     "text": [
      " 16%|#######################                                                                                                                       | 141/870 [00:01<00:06, 104.30it/s]"
     ]
    },
    {
     "name": "stdout",
     "output_type": "stream",
     "text": [
      "65/65 [==============================] - 0s 1ms/step\n"
     ]
    },
    {
     "name": "stderr",
     "output_type": "stream",
     "text": [
      " 19%|##########################2                                                                                                                   | 161/870 [00:01<00:06, 113.67it/s]"
     ]
    },
    {
     "name": "stdout",
     "output_type": "stream",
     "text": [
      "65/65 [==============================] - 0s 1ms/step\n"
     ]
    },
    {
     "name": "stderr",
     "output_type": "stream",
     "text": [
      " 21%|#############################5                                                                                                                | 181/870 [00:01<00:06, 112.47it/s]"
     ]
    },
    {
     "name": "stdout",
     "output_type": "stream",
     "text": [
      "65/65 [==============================] - 0s 1ms/step\n"
     ]
    },
    {
     "name": "stderr",
     "output_type": "stream",
     "text": [
      " 23%|################################8                                                                                                             | 201/870 [00:01<00:05, 113.32it/s]"
     ]
    },
    {
     "name": "stdout",
     "output_type": "stream",
     "text": [
      "65/65 [==============================] - 0s 3ms/step\n"
     ]
    },
    {
     "name": "stderr",
     "output_type": "stream",
     "text": [
      " 25%|####################################3                                                                                                          | 221/870 [00:02<00:06, 95.29it/s]"
     ]
    },
    {
     "name": "stdout",
     "output_type": "stream",
     "text": [
      "65/65 [==============================] - 0s 869us/step\n"
     ]
    },
    {
     "name": "stderr",
     "output_type": "stream",
     "text": [
      " 28%|#######################################3                                                                                                      | 241/870 [00:02<00:05, 108.18it/s]"
     ]
    },
    {
     "name": "stdout",
     "output_type": "stream",
     "text": [
      "65/65 [==============================] - 0s 1ms/step\n"
     ]
    },
    {
     "name": "stderr",
     "output_type": "stream",
     "text": [
      " 30%|##########################################6                                                                                                   | 261/870 [00:02<00:05, 114.27it/s]"
     ]
    },
    {
     "name": "stdout",
     "output_type": "stream",
     "text": [
      "65/65 [==============================] - 0s 2ms/step\n"
     ]
    },
    {
     "name": "stderr",
     "output_type": "stream",
     "text": [
      " 32%|#############################################8                                                                                                | 281/870 [00:02<00:05, 112.03it/s]"
     ]
    },
    {
     "name": "stdout",
     "output_type": "stream",
     "text": [
      "65/65 [==============================] - 0s 3ms/step\n"
     ]
    },
    {
     "name": "stderr",
     "output_type": "stream",
     "text": [
      " 35%|#################################################4                                                                                             | 301/870 [00:02<00:05, 97.73it/s]"
     ]
    },
    {
     "name": "stdout",
     "output_type": "stream",
     "text": [
      "65/65 [==============================] - 0s 3ms/step\n"
     ]
    },
    {
     "name": "stderr",
     "output_type": "stream",
     "text": [
      " 37%|####################################################7                                                                                          | 321/870 [00:03<00:06, 88.68it/s]"
     ]
    },
    {
     "name": "stdout",
     "output_type": "stream",
     "text": [
      "65/65 [==============================] - 0s 2ms/step\n"
     ]
    },
    {
     "name": "stderr",
     "output_type": "stream",
     "text": [
      " 39%|########################################################                                                                                       | 341/870 [00:03<00:06, 87.02it/s]"
     ]
    },
    {
     "name": "stdout",
     "output_type": "stream",
     "text": [
      "65/65 [==============================] - 0s 1ms/step\n"
     ]
    },
    {
     "name": "stderr",
     "output_type": "stream",
     "text": [
      " 41%|###########################################################3                                                                                   | 361/870 [00:03<00:05, 96.83it/s]"
     ]
    },
    {
     "name": "stdout",
     "output_type": "stream",
     "text": [
      "65/65 [==============================] - 0s 806us/step\n"
     ]
    },
    {
     "name": "stderr",
     "output_type": "stream",
     "text": [
      " 44%|##############################################################1                                                                               | 381/870 [00:03<00:04, 110.05it/s]"
     ]
    },
    {
     "name": "stdout",
     "output_type": "stream",
     "text": [
      "65/65 [==============================] - 0s 751us/step\n"
     ]
    },
    {
     "name": "stderr",
     "output_type": "stream",
     "text": [
      " 46%|#################################################################4                                                                            | 401/870 [00:03<00:03, 122.53it/s]"
     ]
    },
    {
     "name": "stdout",
     "output_type": "stream",
     "text": [
      "65/65 [==============================] - 0s 848us/step\n"
     ]
    },
    {
     "name": "stderr",
     "output_type": "stream",
     "text": [
      " 48%|####################################################################7                                                                         | 421/870 [00:03<00:03, 131.55it/s]"
     ]
    },
    {
     "name": "stdout",
     "output_type": "stream",
     "text": [
      "65/65 [==============================] - 0s 2ms/step\n"
     ]
    },
    {
     "name": "stderr",
     "output_type": "stream",
     "text": [
      " 51%|#######################################################################9                                                                      | 441/870 [00:04<00:03, 115.45it/s]"
     ]
    },
    {
     "name": "stdout",
     "output_type": "stream",
     "text": [
      "65/65 [==============================] - 0s 749us/step\n"
     ]
    },
    {
     "name": "stderr",
     "output_type": "stream",
     "text": [
      " 53%|###########################################################################2                                                                  | 461/870 [00:04<00:03, 124.70it/s]"
     ]
    },
    {
     "name": "stdout",
     "output_type": "stream",
     "text": [
      "65/65 [==============================] - 0s 805us/step\n"
     ]
    },
    {
     "name": "stderr",
     "output_type": "stream",
     "text": [
      " 55%|##############################################################################5                                                               | 481/870 [00:04<00:02, 131.12it/s]"
     ]
    },
    {
     "name": "stdout",
     "output_type": "stream",
     "text": [
      "65/65 [==============================] - 0s 2ms/step\n"
     ]
    },
    {
     "name": "stderr",
     "output_type": "stream",
     "text": [
      " 58%|#################################################################################7                                                            | 501/870 [00:04<00:03, 115.93it/s]"
     ]
    },
    {
     "name": "stdout",
     "output_type": "stream",
     "text": [
      "65/65 [==============================] - 0s 768us/step\n"
     ]
    },
    {
     "name": "stderr",
     "output_type": "stream",
     "text": [
      " 60%|#####################################################################################                                                         | 521/870 [00:04<00:02, 125.60it/s]"
     ]
    },
    {
     "name": "stdout",
     "output_type": "stream",
     "text": [
      "65/65 [==============================] - 0s 804us/step\n"
     ]
    },
    {
     "name": "stderr",
     "output_type": "stream",
     "text": [
      " 62%|########################################################################################3                                                     | 541/870 [00:04<00:02, 131.61it/s]"
     ]
    },
    {
     "name": "stdout",
     "output_type": "stream",
     "text": [
      "65/65 [==============================] - 0s 1ms/step\n"
     ]
    },
    {
     "name": "stderr",
     "output_type": "stream",
     "text": [
      " 64%|###########################################################################################5                                                  | 561/870 [00:04<00:02, 127.74it/s]"
     ]
    },
    {
     "name": "stdout",
     "output_type": "stream",
     "text": [
      "65/65 [==============================] - 0s 1ms/step\n"
     ]
    },
    {
     "name": "stderr",
     "output_type": "stream",
     "text": [
      " 67%|##############################################################################################8                                               | 581/870 [00:05<00:02, 130.53it/s]"
     ]
    },
    {
     "name": "stdout",
     "output_type": "stream",
     "text": [
      "65/65 [==============================] - 0s 2ms/step\n"
     ]
    },
    {
     "name": "stderr",
     "output_type": "stream",
     "text": [
      " 69%|##################################################################################################                                            | 601/870 [00:05<00:02, 118.38it/s]"
     ]
    },
    {
     "name": "stdout",
     "output_type": "stream",
     "text": [
      "65/65 [==============================] - 0s 1ms/step\n"
     ]
    },
    {
     "name": "stderr",
     "output_type": "stream",
     "text": [
      " 71%|#####################################################################################################3                                        | 621/870 [00:05<00:02, 120.94it/s]"
     ]
    },
    {
     "name": "stdout",
     "output_type": "stream",
     "text": [
      "65/65 [==============================] - 0s 1ms/step\n"
     ]
    },
    {
     "name": "stderr",
     "output_type": "stream",
     "text": [
      " 74%|########################################################################################################6                                     | 641/870 [00:05<00:01, 122.30it/s]"
     ]
    },
    {
     "name": "stdout",
     "output_type": "stream",
     "text": [
      "65/65 [==============================] - 0s 734us/step\n"
     ]
    },
    {
     "name": "stderr",
     "output_type": "stream",
     "text": [
      " 76%|###########################################################################################################8                                  | 661/870 [00:05<00:01, 132.44it/s]"
     ]
    },
    {
     "name": "stdout",
     "output_type": "stream",
     "text": [
      "65/65 [==============================] - 0s 746us/step\n"
     ]
    },
    {
     "name": "stderr",
     "output_type": "stream",
     "text": [
      " 78%|###############################################################################################################1                              | 681/870 [00:05<00:01, 140.21it/s]"
     ]
    },
    {
     "name": "stdout",
     "output_type": "stream",
     "text": [
      "65/65 [==============================] - 0s 850us/step\n"
     ]
    },
    {
     "name": "stderr",
     "output_type": "stream",
     "text": [
      " 81%|##################################################################################################################4                           | 701/870 [00:05<00:01, 143.60it/s]"
     ]
    },
    {
     "name": "stdout",
     "output_type": "stream",
     "text": [
      "65/65 [==============================] - 0s 940us/step\n"
     ]
    },
    {
     "name": "stderr",
     "output_type": "stream",
     "text": [
      " 83%|#####################################################################################################################6                        | 721/870 [00:06<00:01, 142.60it/s]"
     ]
    },
    {
     "name": "stdout",
     "output_type": "stream",
     "text": [
      "65/65 [==============================] - 0s 3ms/step\n"
     ]
    },
    {
     "name": "stderr",
     "output_type": "stream",
     "text": [
      " 85%|########################################################################################################################9                     | 741/870 [00:06<00:01, 110.15it/s]"
     ]
    },
    {
     "name": "stdout",
     "output_type": "stream",
     "text": [
      "65/65 [==============================] - 0s 760us/step\n"
     ]
    },
    {
     "name": "stderr",
     "output_type": "stream",
     "text": [
      " 87%|############################################################################################################################2                 | 761/870 [00:06<00:00, 122.66it/s]"
     ]
    },
    {
     "name": "stdout",
     "output_type": "stream",
     "text": [
      "65/65 [==============================] - 0s 943us/step\n"
     ]
    },
    {
     "name": "stderr",
     "output_type": "stream",
     "text": [
      " 90%|###############################################################################################################################4              | 781/870 [00:06<00:00, 129.82it/s]"
     ]
    },
    {
     "name": "stdout",
     "output_type": "stream",
     "text": [
      "65/65 [==============================] - 0s 1ms/step\n"
     ]
    },
    {
     "name": "stderr",
     "output_type": "stream",
     "text": [
      " 92%|##################################################################################################################################7           | 801/870 [00:06<00:00, 127.87it/s]"
     ]
    },
    {
     "name": "stdout",
     "output_type": "stream",
     "text": [
      "65/65 [==============================] - 0s 754us/step\n"
     ]
    },
    {
     "name": "stderr",
     "output_type": "stream",
     "text": [
      " 94%|######################################################################################################################################        | 821/870 [00:06<00:00, 136.62it/s]"
     ]
    },
    {
     "name": "stdout",
     "output_type": "stream",
     "text": [
      "65/65 [==============================] - 0s 1ms/step\n"
     ]
    },
    {
     "name": "stderr",
     "output_type": "stream",
     "text": [
      " 97%|#########################################################################################################################################2    | 841/870 [00:07<00:00, 128.08it/s]"
     ]
    },
    {
     "name": "stdout",
     "output_type": "stream",
     "text": [
      "65/65 [==============================] - 0s 1ms/step\n"
     ]
    },
    {
     "name": "stderr",
     "output_type": "stream",
     "text": [
      " 99%|############################################################################################################################################5 | 861/870 [00:07<00:00, 131.02it/s]"
     ]
    },
    {
     "name": "stdout",
     "output_type": "stream",
     "text": [
      "30/30 [==============================] - 0s 757us/step\n"
     ]
    },
    {
     "name": "stderr",
     "output_type": "stream",
     "text": [
      "100%|##############################################################################################################################################| 870/870 [00:07<00:00, 118.95it/s]\n"
     ]
    },
    {
     "name": "stdout",
     "output_type": "stream",
     "text": [
      "calculating feature importance for CTR ...\n"
     ]
    },
    {
     "name": "stderr",
     "output_type": "stream",
     "text": [
      "  0%|                                                                                                                                                         | 0/870 [00:00<?, ?it/s]"
     ]
    },
    {
     "name": "stdout",
     "output_type": "stream",
     "text": [
      "69/69 [==============================] - 0s 790us/step\n"
     ]
    },
    {
     "name": "stderr",
     "output_type": "stream",
     "text": [
      "  2%|###4                                                                                                                                           | 21/870 [00:00<00:05, 165.55it/s]"
     ]
    },
    {
     "name": "stdout",
     "output_type": "stream",
     "text": [
      "65/65 [==============================] - 0s 863us/step\n"
     ]
    },
    {
     "name": "stderr",
     "output_type": "stream",
     "text": [
      "  5%|######7                                                                                                                                        | 41/870 [00:00<00:05, 158.38it/s]"
     ]
    },
    {
     "name": "stdout",
     "output_type": "stream",
     "text": [
      "65/65 [==============================] - 0s 971us/step\n"
     ]
    },
    {
     "name": "stderr",
     "output_type": "stream",
     "text": [
      "  7%|##########                                                                                                                                     | 61/870 [00:00<00:05, 158.93it/s]"
     ]
    },
    {
     "name": "stdout",
     "output_type": "stream",
     "text": [
      "65/65 [==============================] - 0s 909us/step\n"
     ]
    },
    {
     "name": "stderr",
     "output_type": "stream",
     "text": [
      "  9%|#############3                                                                                                                                 | 81/870 [00:00<00:04, 161.96it/s]"
     ]
    },
    {
     "name": "stdout",
     "output_type": "stream",
     "text": [
      "65/65 [==============================] - 0s 1ms/step\n"
     ]
    },
    {
     "name": "stderr",
     "output_type": "stream",
     "text": [
      " 12%|################4                                                                                                                             | 101/870 [00:00<00:05, 148.29it/s]"
     ]
    },
    {
     "name": "stdout",
     "output_type": "stream",
     "text": [
      "65/65 [==============================] - 0s 2ms/step\n"
     ]
    },
    {
     "name": "stderr",
     "output_type": "stream",
     "text": [
      " 14%|###################7                                                                                                                          | 121/870 [00:00<00:05, 132.98it/s]"
     ]
    },
    {
     "name": "stdout",
     "output_type": "stream",
     "text": [
      "65/65 [==============================] - 0s 1ms/step\n"
     ]
    },
    {
     "name": "stderr",
     "output_type": "stream",
     "text": [
      " 16%|#######################                                                                                                                       | 141/870 [00:00<00:05, 132.33it/s]"
     ]
    },
    {
     "name": "stdout",
     "output_type": "stream",
     "text": [
      "65/65 [==============================] - 0s 2ms/step\n"
     ]
    },
    {
     "name": "stderr",
     "output_type": "stream",
     "text": [
      " 19%|##########################2                                                                                                                   | 161/870 [00:01<00:05, 119.69it/s]"
     ]
    },
    {
     "name": "stdout",
     "output_type": "stream",
     "text": [
      "65/65 [==============================] - 0s 2ms/step\n"
     ]
    },
    {
     "name": "stderr",
     "output_type": "stream",
     "text": [
      " 21%|#############################5                                                                                                                | 181/870 [00:01<00:06, 114.64it/s]"
     ]
    },
    {
     "name": "stdout",
     "output_type": "stream",
     "text": [
      "65/65 [==============================] - 0s 918us/step\n"
     ]
    },
    {
     "name": "stderr",
     "output_type": "stream",
     "text": [
      " 23%|################################8                                                                                                             | 201/870 [00:01<00:05, 126.89it/s]"
     ]
    },
    {
     "name": "stdout",
     "output_type": "stream",
     "text": [
      "65/65 [==============================] - 0s 3ms/step\n"
     ]
    },
    {
     "name": "stderr",
     "output_type": "stream",
     "text": [
      " 25%|####################################                                                                                                          | 221/870 [00:01<00:05, 109.71it/s]"
     ]
    },
    {
     "name": "stdout",
     "output_type": "stream",
     "text": [
      "65/65 [==============================] - 0s 719us/step\n"
     ]
    },
    {
     "name": "stderr",
     "output_type": "stream",
     "text": [
      " 28%|#######################################3                                                                                                      | 241/870 [00:01<00:05, 125.53it/s]"
     ]
    },
    {
     "name": "stdout",
     "output_type": "stream",
     "text": [
      "65/65 [==============================] - 0s 2ms/step\n"
     ]
    },
    {
     "name": "stderr",
     "output_type": "stream",
     "text": [
      " 30%|##########################################6                                                                                                   | 261/870 [00:02<00:05, 115.62it/s]"
     ]
    },
    {
     "name": "stdout",
     "output_type": "stream",
     "text": [
      "65/65 [==============================] - 0s 752us/step\n"
     ]
    },
    {
     "name": "stderr",
     "output_type": "stream",
     "text": [
      " 32%|#############################################8                                                                                                | 281/870 [00:02<00:04, 129.95it/s]"
     ]
    },
    {
     "name": "stdout",
     "output_type": "stream",
     "text": [
      "65/65 [==============================] - 0s 874us/step\n"
     ]
    },
    {
     "name": "stderr",
     "output_type": "stream",
     "text": [
      " 35%|#################################################1                                                                                            | 301/870 [00:02<00:04, 135.62it/s]"
     ]
    },
    {
     "name": "stdout",
     "output_type": "stream",
     "text": [
      "65/65 [==============================] - 0s 811us/step\n"
     ]
    },
    {
     "name": "stderr",
     "output_type": "stream",
     "text": [
      " 37%|####################################################3                                                                                         | 321/870 [00:02<00:03, 145.73it/s]"
     ]
    },
    {
     "name": "stdout",
     "output_type": "stream",
     "text": [
      "65/65 [==============================] - 0s 737us/step\n"
     ]
    },
    {
     "name": "stderr",
     "output_type": "stream",
     "text": [
      " 39%|#######################################################6                                                                                      | 341/870 [00:02<00:03, 155.63it/s]"
     ]
    },
    {
     "name": "stdout",
     "output_type": "stream",
     "text": [
      "65/65 [==============================] - 0s 810us/step\n"
     ]
    },
    {
     "name": "stderr",
     "output_type": "stream",
     "text": [
      " 41%|##########################################################9                                                                                   | 361/870 [00:02<00:03, 161.78it/s]"
     ]
    },
    {
     "name": "stdout",
     "output_type": "stream",
     "text": [
      "65/65 [==============================] - 0s 944us/step\n"
     ]
    },
    {
     "name": "stderr",
     "output_type": "stream",
     "text": [
      " 44%|##############################################################1                                                                               | 381/870 [00:02<00:03, 159.35it/s]"
     ]
    },
    {
     "name": "stdout",
     "output_type": "stream",
     "text": [
      "65/65 [==============================] - 0s 2ms/step\n"
     ]
    },
    {
     "name": "stderr",
     "output_type": "stream",
     "text": [
      " 46%|#################################################################4                                                                            | 401/870 [00:02<00:03, 136.33it/s]"
     ]
    },
    {
     "name": "stdout",
     "output_type": "stream",
     "text": [
      "65/65 [==============================] - 0s 1ms/step\n"
     ]
    },
    {
     "name": "stderr",
     "output_type": "stream",
     "text": [
      " 48%|####################################################################7                                                                         | 421/870 [00:03<00:03, 137.04it/s]"
     ]
    },
    {
     "name": "stdout",
     "output_type": "stream",
     "text": [
      "65/65 [==============================] - 0s 943us/step\n"
     ]
    },
    {
     "name": "stderr",
     "output_type": "stream",
     "text": [
      " 51%|#######################################################################9                                                                      | 441/870 [00:03<00:03, 142.89it/s]"
     ]
    },
    {
     "name": "stdout",
     "output_type": "stream",
     "text": [
      "65/65 [==============================] - 0s 977us/step\n"
     ]
    },
    {
     "name": "stderr",
     "output_type": "stream",
     "text": [
      " 53%|###########################################################################2                                                                  | 461/870 [00:03<00:02, 147.79it/s]"
     ]
    },
    {
     "name": "stdout",
     "output_type": "stream",
     "text": [
      "65/65 [==============================] - 0s 976us/step\n"
     ]
    },
    {
     "name": "stderr",
     "output_type": "stream",
     "text": [
      " 55%|##############################################################################5                                                               | 481/870 [00:03<00:02, 150.51it/s]"
     ]
    },
    {
     "name": "stdout",
     "output_type": "stream",
     "text": [
      "65/65 [==============================] - 0s 800us/step\n"
     ]
    },
    {
     "name": "stderr",
     "output_type": "stream",
     "text": [
      " 58%|#################################################################################7                                                            | 501/870 [00:03<00:02, 157.88it/s]"
     ]
    },
    {
     "name": "stdout",
     "output_type": "stream",
     "text": [
      "65/65 [==============================] - 0s 2ms/step\n"
     ]
    },
    {
     "name": "stderr",
     "output_type": "stream",
     "text": [
      " 60%|#####################################################################################                                                         | 521/870 [00:03<00:02, 141.89it/s]"
     ]
    },
    {
     "name": "stdout",
     "output_type": "stream",
     "text": [
      "65/65 [==============================] - 0s 802us/step\n"
     ]
    },
    {
     "name": "stderr",
     "output_type": "stream",
     "text": [
      " 62%|########################################################################################3                                                     | 541/870 [00:03<00:02, 150.97it/s]"
     ]
    },
    {
     "name": "stdout",
     "output_type": "stream",
     "text": [
      "65/65 [==============================] - 0s 839us/step\n"
     ]
    },
    {
     "name": "stderr",
     "output_type": "stream",
     "text": [
      " 64%|###########################################################################################5                                                  | 561/870 [00:03<00:01, 157.15it/s]"
     ]
    },
    {
     "name": "stdout",
     "output_type": "stream",
     "text": [
      "65/65 [==============================] - 0s 749us/step\n"
     ]
    },
    {
     "name": "stderr",
     "output_type": "stream",
     "text": [
      " 67%|##############################################################################################8                                               | 581/870 [00:04<00:01, 161.67it/s]"
     ]
    },
    {
     "name": "stdout",
     "output_type": "stream",
     "text": [
      "65/65 [==============================] - 0s 2ms/step\n"
     ]
    },
    {
     "name": "stderr",
     "output_type": "stream",
     "text": [
      " 69%|##################################################################################################                                            | 601/870 [00:04<00:01, 142.54it/s]"
     ]
    },
    {
     "name": "stdout",
     "output_type": "stream",
     "text": [
      "65/65 [==============================] - 0s 3ms/step\n"
     ]
    },
    {
     "name": "stderr",
     "output_type": "stream",
     "text": [
      " 71%|#####################################################################################################3                                        | 621/870 [00:04<00:02, 113.61it/s]"
     ]
    },
    {
     "name": "stdout",
     "output_type": "stream",
     "text": [
      "65/65 [==============================] - 0s 3ms/step\n"
     ]
    },
    {
     "name": "stderr",
     "output_type": "stream",
     "text": [
      " 74%|#########################################################################################################3                                     | 641/870 [00:04<00:02, 98.10it/s]"
     ]
    },
    {
     "name": "stdout",
     "output_type": "stream",
     "text": [
      "65/65 [==============================] - 0s 1ms/step\n"
     ]
    },
    {
     "name": "stderr",
     "output_type": "stream",
     "text": [
      " 76%|###########################################################################################################8                                  | 661/870 [00:04<00:02, 104.19it/s]"
     ]
    },
    {
     "name": "stdout",
     "output_type": "stream",
     "text": [
      "65/65 [==============================] - 0s 1ms/step\n"
     ]
    },
    {
     "name": "stderr",
     "output_type": "stream",
     "text": [
      " 78%|###############################################################################################################1                              | 681/870 [00:05<00:01, 115.41it/s]"
     ]
    },
    {
     "name": "stdout",
     "output_type": "stream",
     "text": [
      "65/65 [==============================] - 0s 1ms/step\n"
     ]
    },
    {
     "name": "stderr",
     "output_type": "stream",
     "text": [
      " 81%|##################################################################################################################4                           | 701/870 [00:05<00:01, 124.20it/s]"
     ]
    },
    {
     "name": "stdout",
     "output_type": "stream",
     "text": [
      "65/65 [==============================] - 0s 3ms/step\n"
     ]
    },
    {
     "name": "stderr",
     "output_type": "stream",
     "text": [
      " 83%|#####################################################################################################################6                        | 721/870 [00:05<00:01, 103.19it/s]"
     ]
    },
    {
     "name": "stdout",
     "output_type": "stream",
     "text": [
      "65/65 [==============================] - 0s 794us/step\n"
     ]
    },
    {
     "name": "stderr",
     "output_type": "stream",
     "text": [
      " 85%|########################################################################################################################9                     | 741/870 [00:05<00:01, 118.34it/s]"
     ]
    },
    {
     "name": "stdout",
     "output_type": "stream",
     "text": [
      "65/65 [==============================] - 0s 782us/step\n"
     ]
    },
    {
     "name": "stderr",
     "output_type": "stream",
     "text": [
      " 87%|############################################################################################################################2                 | 761/870 [00:05<00:00, 132.05it/s]"
     ]
    },
    {
     "name": "stdout",
     "output_type": "stream",
     "text": [
      "65/65 [==============================] - 0s 851us/step\n"
     ]
    },
    {
     "name": "stderr",
     "output_type": "stream",
     "text": [
      " 90%|###############################################################################################################################4              | 781/870 [00:05<00:00, 139.74it/s]"
     ]
    },
    {
     "name": "stdout",
     "output_type": "stream",
     "text": [
      "65/65 [==============================] - 0s 931us/step\n"
     ]
    },
    {
     "name": "stderr",
     "output_type": "stream",
     "text": [
      " 92%|##################################################################################################################################7           | 801/870 [00:05<00:00, 142.94it/s]"
     ]
    },
    {
     "name": "stdout",
     "output_type": "stream",
     "text": [
      "65/65 [==============================] - 0s 769us/step\n"
     ]
    },
    {
     "name": "stderr",
     "output_type": "stream",
     "text": [
      " 94%|######################################################################################################################################        | 821/870 [00:06<00:00, 150.62it/s]"
     ]
    },
    {
     "name": "stdout",
     "output_type": "stream",
     "text": [
      "65/65 [==============================] - 0s 2ms/step\n"
     ]
    },
    {
     "name": "stderr",
     "output_type": "stream",
     "text": [
      " 97%|#########################################################################################################################################2    | 841/870 [00:06<00:00, 135.49it/s]"
     ]
    },
    {
     "name": "stdout",
     "output_type": "stream",
     "text": [
      "65/65 [==============================] - 0s 737us/step\n"
     ]
    },
    {
     "name": "stderr",
     "output_type": "stream",
     "text": [
      " 99%|############################################################################################################################################5 | 861/870 [00:06<00:00, 145.79it/s]"
     ]
    },
    {
     "name": "stdout",
     "output_type": "stream",
     "text": [
      "30/30 [==============================] - 0s 758us/step\n"
     ]
    },
    {
     "name": "stderr",
     "output_type": "stream",
     "text": [
      "100%|##############################################################################################################################################| 870/870 [00:06<00:00, 134.65it/s]\n"
     ]
    }
   ],
   "source": [
    "all_importance = {}\n",
    "for train_country in country_names:\n",
    "\n",
    "    train_idx = country_idx.loc[train_country]\n",
    "\n",
    "    trainx = X[train_idx]\n",
    "    trainY = Y[train_idx]\n",
    "    \n",
    "    trainX = mp.batch_transform(trainx, scale_method = 'standard')   \n",
    "    \n",
    "    model_name = os.path.join(model_save_path, '%s.h5' % train_country)\n",
    "\n",
    "    model = load_model(model_name)\n",
    "    arrX = trainX\n",
    "    dfY = pd.DataFrame(trainY, columns = dfy.columns)\n",
    "    df_imp = CalcFeatImp(model, mp, arrX, dfY, task_type = 'classification', apply_smoothing = True)\n",
    "    all_importance.update({train_country: df_imp})"
   ]
  },
  {
   "cell_type": "code",
   "execution_count": null,
   "metadata": {},
   "outputs": [],
   "source": []
  },
  {
   "cell_type": "code",
   "execution_count": 9,
   "metadata": {},
   "outputs": [],
   "source": [
    "res = []\n",
    "for k, v in all_importance.items():\n",
    "    ts = v[['CTR_importance']]\n",
    "    ts.columns =  [k]\n",
    "    res.append(ts)\n",
    "    \n",
    "dfi = pd.concat(res, axis=1)"
   ]
  },
  {
   "cell_type": "code",
   "execution_count": 10,
   "metadata": {},
   "outputs": [],
   "source": [
    "dfi = dfi.rename(columns = {'AUS':\"AUS\", 'CHI':'CHN', 'FRA':'FRA', 'GER':'DEU', 'USA':'USA'})"
   ]
  },
  {
   "cell_type": "code",
   "execution_count": 11,
   "metadata": {},
   "outputs": [],
   "source": [
    "from matplotlib.ticker import FormatStrFormatter"
   ]
  },
  {
   "cell_type": "code",
   "execution_count": 12,
   "metadata": {},
   "outputs": [
    {
     "name": "stdout",
     "output_type": "stream",
     "text": [
      "3.7\n",
      "5.0\n",
      "5.0\n",
      "5.4\n",
      "4.5\n"
     ]
    },
    {
     "data": {
      "image/png": "[encoded data removed]",
      "text/plain": [
       "<Figure size 720x648 with 2 Axes>"
      ]
     },
     "metadata": {},
     "output_type": "display_data"
    },
    {
     "data": {
      "image/png": "[encoded data removed]",
      "text/plain": [
       "<Figure size 720x648 with 2 Axes>"
      ]
     },
     "metadata": {},
     "output_type": "display_data"
    },
    {
     "data": {
      "image/png": "[encoded data removed]",
      "text/plain": [
       "<Figure size 720x648 with 2 Axes>"
      ]
     },
     "metadata": {},
     "output_type": "display_data"
    },
    {
     "data": {
      "image/png": "[encoded data removed]",
      "text/plain": [
       "<Figure size 720x648 with 2 Axes>"
      ]
     },
     "metadata": {},
     "output_type": "display_data"
    },
    {
     "data": {
      "image/png": "[encoded data removed]",
      "text/plain": [
       "<Figure size 720x648 with 2 Axes>"
      ]
     },
     "metadata": {},
     "output_type": "display_data"
    }
   ],
   "source": [
    "for country in dfi.columns:    \n",
    "    sns.set(style='white',  font='sans-serif', font_scale=2)\n",
    "    fig, ax  = plt.subplots(1, 1, figsize=(10, 9))\n",
    "\n",
    "    IMPM = dfi[country].values.reshape(*mp.fmap_shape)\n",
    "    \n",
    "    print(IMPM.max().round(1))\n",
    "    sns.heatmap(IMPM,  \n",
    "                cmap = 'rainbow', alpha = 0.8, xticklabels=4, ax =ax,\n",
    "                yticklabels=4, vmin = -0.1, vmax = 4.2,\n",
    "                cbar_kws = {'fraction':0.046, 'shrink':0.9, 'aspect': 40, 'pad':0.02, })\n",
    "\n",
    "    bottom, top = ax.get_ylim()\n",
    "    #ax.set_ylim(bottom + 0.5, top - 0.5)\n",
    "\n",
    "    ax.set_title(country)\n",
    "    cbar = ax.collections[0].colorbar\n",
    "    cbar.ax.set_title('FI')\n",
    "    cbar.ax.yaxis.set_major_formatter(FormatStrFormatter(\"%.1f\"))\n",
    "    \n",
    "    plt.subplots_adjust(wspace = 0.18)\n",
    "\n",
    "    plt.savefig('./results/FI_%s.png' % country, dpi = 400, bbox_inches=\"tight\")\n"
   ]
  },
  {
   "cell_type": "code",
   "execution_count": null,
   "metadata": {},
   "outputs": [],
   "source": []
  },
  {
   "cell_type": "code",
   "execution_count": 28,
   "metadata": {},
   "outputs": [
    {
     "data": {
      "image/png": "[encoded data removed]",
      "text/plain": [
       "<Figure size 720x648 with 2 Axes>"
      ]
     },
     "metadata": {},
     "output_type": "display_data"
    }
   ],
   "source": [
    "sns.set(style='white',  font='sans-serif', font_scale=2)\n",
    "fig, ax  = plt.subplots(1, 1, figsize=(10, 9))\n",
    "\n",
    "IMPM = dfi.corr()\n",
    "sns.heatmap(IMPM,  \n",
    "            yticklabels = IMPM.columns, # xticklabels=4,yticklabels=4,\n",
    "            xticklabels = IMPM.columns,\n",
    "            cmap = 'Greens', alpha = 0.8, ax =ax,\n",
    "            vmin = 0.1, annot = True,\n",
    "            cbar_kws = {'fraction':0.046, 'shrink':0.9, 'aspect': 40, 'pad':0.02, })\n",
    "\n",
    "\n",
    "ax.set_title(\"Feature importance correlation coefficient\")\n",
    "\n",
    "\n",
    "plt.subplots_adjust(wspace = 0.18)\n",
    "plt.savefig('./results/FI_all_corr.png', dpi = 400, bbox_inches=\"tight\")"
   ]
  },
  {
   "cell_type": "code",
   "execution_count": 29,
   "metadata": {},
   "outputs": [],
   "source": [
    "df_save = all_importance['CHI'][['x', 'y', 'v', 'Subtypes', 'colors', ]].join(dfi)"
   ]
  },
  {
   "cell_type": "code",
   "execution_count": 30,
   "metadata": {},
   "outputs": [],
   "source": [
    "df_save = df_save.set_index('v')"
   ]
  },
  {
   "cell_type": "code",
   "execution_count": 31,
   "metadata": {},
   "outputs": [],
   "source": [
    "df_save['5_countries_average_importance'] = dfi.mean(axis=1).values"
   ]
  },
  {
   "cell_type": "code",
   "execution_count": 32,
   "metadata": {},
   "outputs": [],
   "source": [
    "df_save = df_save.sort_values('5_countries_average_importance', ascending = False)\n",
    "df_save = df_save.join(mp.df_embedding[['x','y']].rename(columns = {'x':'scatter_x','y':'scatter_y'}))\n"
   ]
  },
  {
   "cell_type": "code",
   "execution_count": 33,
   "metadata": {},
   "outputs": [
    {
     "data": {
      "text/html": [
       "<div>\n",
       "<style scoped>\n",
       "    .dataframe tbody tr th:only-of-type {\n",
       "        vertical-align: middle;\n",
       "    }\n",
       "\n",
       "    .dataframe tbody tr th {\n",
       "        vertical-align: top;\n",
       "    }\n",
       "\n",
       "    .dataframe thead th {\n",
       "        text-align: right;\n",
       "    }\n",
       "</style>\n",
       "<table border=\"1\" class=\"dataframe\">\n",
       "  <thead>\n",
       "    <tr style=\"text-align: right;\">\n",
       "      <th></th>\n",
       "      <th>x</th>\n",
       "      <th>y</th>\n",
       "      <th>Subtypes</th>\n",
       "      <th>5_countries_average_importance</th>\n",
       "    </tr>\n",
       "    <tr>\n",
       "      <th>v</th>\n",
       "      <th></th>\n",
       "      <th></th>\n",
       "      <th></th>\n",
       "      <th></th>\n",
       "    </tr>\n",
       "  </thead>\n",
       "  <tbody>\n",
       "    <tr>\n",
       "      <th>Anaerococcus obesiensis/vaginalis [ref_mOTU_v2_0429]</th>\n",
       "      <td>3</td>\n",
       "      <td>3</td>\n",
       "      <td>cluster_02</td>\n",
       "      <td>4.564940</td>\n",
       "    </tr>\n",
       "    <tr>\n",
       "      <th>Clostridiales bacterium S5-A14a [meta_mOTU_v2_5486]</th>\n",
       "      <td>3</td>\n",
       "      <td>4</td>\n",
       "      <td>cluster_02</td>\n",
       "      <td>4.431694</td>\n",
       "    </tr>\n",
       "    <tr>\n",
       "      <th>Fusobacterium nucleatum s. nucleatum [ref_mOTU_v2_0777]</th>\n",
       "      <td>2</td>\n",
       "      <td>3</td>\n",
       "      <td>cluster_03</td>\n",
       "      <td>4.360258</td>\n",
       "    </tr>\n",
       "    <tr>\n",
       "      <th>Streptococcus constellatus/intermedius [ref_mOTU_v2_0143]</th>\n",
       "      <td>2</td>\n",
       "      <td>4</td>\n",
       "      <td>cluster_05</td>\n",
       "      <td>4.292959</td>\n",
       "    </tr>\n",
       "    <tr>\n",
       "      <th>Prevotella nigrescens [ref_mOTU_v2_0276]</th>\n",
       "      <td>3</td>\n",
       "      <td>2</td>\n",
       "      <td>cluster_03</td>\n",
       "      <td>4.100096</td>\n",
       "    </tr>\n",
       "    <tr>\n",
       "      <th>Fusobacterium sp. oral taxon 370 [ref_mOTU_v2_1403]</th>\n",
       "      <td>2</td>\n",
       "      <td>2</td>\n",
       "      <td>cluster_03</td>\n",
       "      <td>3.817932</td>\n",
       "    </tr>\n",
       "    <tr>\n",
       "      <th>unknown Porphyromonas [meta_mOTU_v2_6490]</th>\n",
       "      <td>4</td>\n",
       "      <td>3</td>\n",
       "      <td>cluster_02</td>\n",
       "      <td>3.788346</td>\n",
       "    </tr>\n",
       "    <tr>\n",
       "      <th>Porphyromonas uenonis [ref_mOTU_v2_4616]</th>\n",
       "      <td>4</td>\n",
       "      <td>4</td>\n",
       "      <td>cluster_02</td>\n",
       "      <td>3.592019</td>\n",
       "    </tr>\n",
       "    <tr>\n",
       "      <th>Fusobacterium gonidiaformans [ref_mOTU_v2_1404]</th>\n",
       "      <td>3</td>\n",
       "      <td>5</td>\n",
       "      <td>cluster_03</td>\n",
       "      <td>3.587572</td>\n",
       "    </tr>\n",
       "    <tr>\n",
       "      <th>Streptococcus anginosus [ref_mOTU_v2_0351]</th>\n",
       "      <td>2</td>\n",
       "      <td>5</td>\n",
       "      <td>cluster_05</td>\n",
       "      <td>3.504109</td>\n",
       "    </tr>\n",
       "    <tr>\n",
       "      <th>Peptostreptococcus anaerobius [ref_mOTU_v2_0148]</th>\n",
       "      <td>4</td>\n",
       "      <td>2</td>\n",
       "      <td>cluster_03</td>\n",
       "      <td>3.478315</td>\n",
       "    </tr>\n",
       "    <tr>\n",
       "      <th>Mogibacterium timidum [ref_mOTU_v2_1136]</th>\n",
       "      <td>1</td>\n",
       "      <td>3</td>\n",
       "      <td>cluster_05</td>\n",
       "      <td>3.374063</td>\n",
       "    </tr>\n",
       "    <tr>\n",
       "      <th>Streptococcus anginosus [ref_mOTU_v2_0687]</th>\n",
       "      <td>1</td>\n",
       "      <td>4</td>\n",
       "      <td>cluster_05</td>\n",
       "      <td>3.340205</td>\n",
       "    </tr>\n",
       "    <tr>\n",
       "      <th>Fusobacterium nucleatum s. animalis [ref_mOTU_v2_0776]</th>\n",
       "      <td>3</td>\n",
       "      <td>1</td>\n",
       "      <td>cluster_03</td>\n",
       "      <td>3.024641</td>\n",
       "    </tr>\n",
       "    <tr>\n",
       "      <th>Parvimonas micra [ref_mOTU_v2_1145]</th>\n",
       "      <td>1</td>\n",
       "      <td>2</td>\n",
       "      <td>cluster_03</td>\n",
       "      <td>2.900347</td>\n",
       "    </tr>\n",
       "  </tbody>\n",
       "</table>\n",
       "</div>"
      ],
      "text/plain": [
       "                                                    x  y    Subtypes  \\\n",
       "v                                                                      \n",
       "Anaerococcus obesiensis/vaginalis [ref_mOTU_v2_...  3  3  cluster_02   \n",
       "Clostridiales bacterium S5-A14a [meta_mOTU_v2_5...  3  4  cluster_02   \n",
       "Fusobacterium nucleatum s. nucleatum [ref_mOTU_...  2  3  cluster_03   \n",
       "Streptococcus constellatus/intermedius [ref_mOT...  2  4  cluster_05   \n",
       "Prevotella nigrescens [ref_mOTU_v2_0276]            3  2  cluster_03   \n",
       "Fusobacterium sp. oral taxon 370 [ref_mOTU_v2_1...  2  2  cluster_03   \n",
       "unknown Porphyromonas [meta_mOTU_v2_6490]           4  3  cluster_02   \n",
       "Porphyromonas uenonis [ref_mOTU_v2_4616]            4  4  cluster_02   \n",
       "Fusobacterium gonidiaformans [ref_mOTU_v2_1404]     3  5  cluster_03   \n",
       "Streptococcus anginosus [ref_mOTU_v2_0351]          2  5  cluster_05   \n",
       "Peptostreptococcus anaerobius [ref_mOTU_v2_0148]    4  2  cluster_03   \n",
       "Mogibacterium timidum [ref_mOTU_v2_1136]            1  3  cluster_05   \n",
       "Streptococcus anginosus [ref_mOTU_v2_0687]          1  4  cluster_05   \n",
       "Fusobacterium nucleatum s. animalis [ref_mOTU_v...  3  1  cluster_03   \n",
       "Parvimonas micra [ref_mOTU_v2_1145]                 1  2  cluster_03   \n",
       "\n",
       "                                                    5_countries_average_importance  \n",
       "v                                                                                   \n",
       "Anaerococcus obesiensis/vaginalis [ref_mOTU_v2_...                        4.564940  \n",
       "Clostridiales bacterium S5-A14a [meta_mOTU_v2_5...                        4.431694  \n",
       "Fusobacterium nucleatum s. nucleatum [ref_mOTU_...                        4.360258  \n",
       "Streptococcus constellatus/intermedius [ref_mOT...                        4.292959  \n",
       "Prevotella nigrescens [ref_mOTU_v2_0276]                                  4.100096  \n",
       "Fusobacterium sp. oral taxon 370 [ref_mOTU_v2_1...                        3.817932  \n",
       "unknown Porphyromonas [meta_mOTU_v2_6490]                                 3.788346  \n",
       "Porphyromonas uenonis [ref_mOTU_v2_4616]                                  3.592019  \n",
       "Fusobacterium gonidiaformans [ref_mOTU_v2_1404]                           3.587572  \n",
       "Streptococcus anginosus [ref_mOTU_v2_0351]                                3.504109  \n",
       "Peptostreptococcus anaerobius [ref_mOTU_v2_0148]                          3.478315  \n",
       "Mogibacterium timidum [ref_mOTU_v2_1136]                                  3.374063  \n",
       "Streptococcus anginosus [ref_mOTU_v2_0687]                                3.340205  \n",
       "Fusobacterium nucleatum s. animalis [ref_mOTU_v...                        3.024641  \n",
       "Parvimonas micra [ref_mOTU_v2_1145]                                       2.900347  "
      ]
     },
     "execution_count": 33,
     "metadata": {},
     "output_type": "execute_result"
    }
   ],
   "source": [
    "df_save.sort_values('5_countries_average_importance', ascending = False).head(15)[['x', 'y',  'Subtypes', '5_countries_average_importance']]"
   ]
  },
  {
   "cell_type": "code",
   "execution_count": 35,
   "metadata": {},
   "outputs": [],
   "source": [
    "from scipy.stats import pearsonr"
   ]
  },
  {
   "cell_type": "code",
   "execution_count": 36,
   "metadata": {},
   "outputs": [],
   "source": [
    "pccs = []\n",
    "ps = []\n",
    "for i in dfi.columns:\n",
    "    for j in dfi.columns:\n",
    "        pcc, p = pearsonr(dfi[i], dfi[j])\n",
    "        pccs.append(pcc)\n",
    "        ps.append(p)"
   ]
  },
  {
   "cell_type": "code",
   "execution_count": 37,
   "metadata": {},
   "outputs": [],
   "source": [
    "df1 = pd.DataFrame(np.array(pccs).reshape(5,5), columns = dfi.columns, index = dfi.columns)"
   ]
  },
  {
   "cell_type": "code",
   "execution_count": 38,
   "metadata": {},
   "outputs": [],
   "source": [
    "df2 = pd.DataFrame(np.array(ps).reshape(5,5), columns = dfi.columns, index = dfi.columns)"
   ]
  },
  {
   "cell_type": "code",
   "execution_count": 39,
   "metadata": {},
   "outputs": [
    {
     "data": {
      "image/png": "[encoded data removed]",
      "text/plain": [
       "<Figure size 720x648 with 2 Axes>"
      ]
     },
     "metadata": {},
     "output_type": "display_data"
    }
   ],
   "source": [
    "sns.set(style='white',  font='sans-serif', font_scale=2)\n",
    "fig, ax  = plt.subplots(1, 1, figsize=(10, 9))\n",
    "\n",
    "\n",
    "sns.heatmap(df1,  \n",
    "            yticklabels = df1.columns, # xticklabels=4,yticklabels=4,\n",
    "            xticklabels = df1.columns,\n",
    "            cmap = 'Greens', alpha = 0.8, ax =ax,\n",
    "            vmin = 0.1, annot = True,\n",
    "            cbar_kws = {'fraction':0.046, 'shrink':0.9, 'aspect': 40, 'pad':0.02, })\n",
    "\n",
    "\n",
    "ax.set_title(\"Feature importance correlation coefficient\")\n",
    "\n",
    "\n",
    "plt.subplots_adjust(wspace = 0.18)\n",
    "#plt.savefig('./model/all.svg', dpi = 400, bbox_inches=\"tight\")"
   ]
  },
  {
   "cell_type": "code",
   "execution_count": 40,
   "metadata": {},
   "outputs": [],
   "source": [
    "f1 = df_save.sort_values('5_countries_average_importance', ascending = False)"
   ]
  },
  {
   "cell_type": "code",
   "execution_count": 41,
   "metadata": {},
   "outputs": [],
   "source": [
    "#f1 = f1.head(20)\n",
    "#f = f1.reset_index(drop = True)\n",
    "#f.index = f.index.map(lambda x:'microbe-%s' % str(x+1).zfill(2))\n",
    "\n",
    "N = 20\n",
    "f = f1.head(N)\n",
    "f['genus'] = f.index.map(lambda x:x.split(' ')[0].replace(']',''))\n",
    "f.genus.iloc[0] = 'Dialister'\n",
    "f['species'] = f.index.map(lambda x:x.split(' [')[0])\n",
    "\n",
    "f.index = f.index.map(lambda x:x.split(' [')[-1].replace(']',''))\n",
    "\n",
    "f['species'] = f['species'] + '\\n' + f.index"
   ]
  },
  {
   "cell_type": "code",
   "execution_count": 42,
   "metadata": {},
   "outputs": [],
   "source": [
    "# f['species'] = ['unknown Dialister',\n",
    "#  'Fusobacterium nucleatum s. vincentii',\n",
    "#  'Anaerococcus obesiensis',\n",
    "#  'Parvimonas sp.1',\n",
    "#  'Parvimonas sp.2',\n",
    "#  'Peptostreptococcus anaerobius',\n",
    "#  'Alloprevotella tannerae',\n",
    "#  'Fusobacterium nucleatum s. animalis',\n",
    "#  'Prevotella oris',\n",
    "#  'Porphyromonas somerae ',\n",
    "#  'Clostridiales bacterium S5-A14a',\n",
    "#  'Pyramidobacter piscolens',\n",
    "#  'Prevotella intermedia',\n",
    "#  'Fusobacterium gonidiaformans',\n",
    "#  'Parvimonas micra',\n",
    "#  'Solobacterium moorei',\n",
    "#  'Porphyromonas uenonis',\n",
    "#  'Streptococcus anginosus',\n",
    "#  'Streptococcus constellatus',\n",
    "#  'Streptococcus anginosus ']"
   ]
  },
  {
   "cell_type": "code",
   "execution_count": 44,
   "metadata": {},
   "outputs": [
    {
     "name": "stdout",
     "output_type": "stream",
     "text": [
      "Collecting statannot\n",
      "  Using cached statannot-0.2.3-py3-none-any.whl (10 kB)\n",
      "Installing collected packages: statannot\n",
      "Successfully installed statannot-0.2.3\n"
     ]
    }
   ],
   "source": [
    "! pip install statannot"
   ]
  },
  {
   "cell_type": "code",
   "execution_count": 45,
   "metadata": {},
   "outputs": [],
   "source": [
    "from statannot import add_stat_annotation\n",
    "cols = f1.index.tolist()\n",
    "ncols = f.index.tolist()\n",
    "\n",
    "y  = 'log10 Intensity'\n",
    "hue = 'Group' \n",
    "x = 'Microbial species'\n",
    "\n",
    "\n",
    "all_data = []\n",
    "for col, ncol in zip(cols, ncols):\n",
    "    v = dfx[col]\n",
    "    #x = mp.StandardScaler(x,  x.mean(), x.std())\n",
    "    dfd = v.to_frame(name = y).join(dfy_all['Group'].to_frame(name = hue))\n",
    "    dfd[x] = ncol\n",
    "    all_data.append(dfd)"
   ]
  },
  {
   "cell_type": "code",
   "execution_count": 46,
   "metadata": {},
   "outputs": [],
   "source": [
    "data = pd.concat(all_data, axis=0)\n",
    "data[x] = data[x]\n",
    "\n",
    "\n",
    "box_pairs = [((col, \"CRC\"), (col, \"CTR\")) for col in pd.Series(ncols).map(lambda x:x.split(' [')[-1].replace(']',''))]\n",
    "order = ncols\n",
    "\n",
    "#****P < 0.0001 by two-tailed Wilcoxon rank sum test."
   ]
  },
  {
   "cell_type": "code",
   "execution_count": 47,
   "metadata": {},
   "outputs": [
    {
     "data": {
      "image/png": "[encoded data removed]",
      "text/plain": [
       "<Figure size 2160x72 with 1 Axes>"
      ]
     },
     "metadata": {},
     "output_type": "display_data"
    }
   ],
   "source": [
    "color = sns.color_palette('rainbow', len(f) + 10).as_hex()\n",
    "sns.palplot(color)"
   ]
  },
  {
   "cell_type": "code",
   "execution_count": 48,
   "metadata": {},
   "outputs": [],
   "source": [
    "# coldic = pd.Series(color, index = f.groupby('genus').size().sort_values().index).to_dict()\n",
    "# f['color'] = f['genus'].map(coldic)"
   ]
  },
  {
   "cell_type": "code",
   "execution_count": 49,
   "metadata": {},
   "outputs": [],
   "source": [
    "sns.set(style='white',  font='sans-serif', font_scale=2)"
   ]
  },
  {
   "cell_type": "code",
   "execution_count": 50,
   "metadata": {},
   "outputs": [
    {
     "name": "stdout",
     "output_type": "stream",
     "text": [
      "p-value annotation legend:\n",
      "ns: 5.00e-02 < p <= 1.00e+00\n",
      "*: 1.00e-02 < p <= 5.00e-02\n",
      "**: 1.00e-03 < p <= 1.00e-02\n",
      "***: 1.00e-04 < p <= 1.00e-03\n",
      "****: p <= 1.00e-04\n",
      "\n",
      "ref_mOTU_v2_0351_CTR v.s. ref_mOTU_v2_0351_CRC: Mann-Whitney-Wilcoxon test two-sided, P_val=1.802e-02 U_stat=3.854e+04\n",
      "ref_mOTU_v2_0148_CTR v.s. ref_mOTU_v2_0148_CRC: Mann-Whitney-Wilcoxon test two-sided, P_val=1.749e-05 U_stat=3.696e+04\n",
      "ref_mOTU_v2_1136_CTR v.s. ref_mOTU_v2_1136_CRC: Mann-Whitney-Wilcoxon test two-sided, P_val=1.594e-02 U_stat=3.848e+04\n",
      "ref_mOTU_v2_0687_CTR v.s. ref_mOTU_v2_0687_CRC: Mann-Whitney-Wilcoxon test two-sided, P_val=1.332e-01 U_stat=3.885e+04\n",
      "ref_mOTU_v2_0776_CTR v.s. ref_mOTU_v2_0776_CRC: Mann-Whitney-Wilcoxon test two-sided, P_val=2.652e-19 U_stat=2.818e+04\n",
      "ref_mOTU_v2_1145_CTR v.s. ref_mOTU_v2_1145_CRC: Mann-Whitney-Wilcoxon test two-sided, P_val=5.340e-23 U_stat=2.406e+04\n",
      "ref_mOTU_v2_2102_CTR v.s. ref_mOTU_v2_2102_CRC: Mann-Whitney-Wilcoxon test two-sided, P_val=1.073e-07 U_stat=3.650e+04\n",
      "meta_mOTU_v2_7656_CTR v.s. meta_mOTU_v2_7656_CRC: Mann-Whitney-Wilcoxon test two-sided, P_val=2.563e-14 U_stat=3.205e+04\n",
      "ref_mOTU_v2_5245_CTR v.s. ref_mOTU_v2_5245_CRC: Mann-Whitney-Wilcoxon test two-sided, P_val=3.139e-06 U_stat=3.753e+04\n",
      "meta_mOTU_v2_6288_CTR v.s. meta_mOTU_v2_6288_CRC: Mann-Whitney-Wilcoxon test two-sided, P_val=8.647e-01 U_stat=4.100e+04\n",
      "meta_mOTU_v2_5867_CTR v.s. meta_mOTU_v2_5867_CRC: Mann-Whitney-Wilcoxon test two-sided, P_val=2.239e-22 U_stat=2.858e+04\n",
      "ref_mOTU_v2_1404_CTR v.s. ref_mOTU_v2_1404_CRC: Mann-Whitney-Wilcoxon test two-sided, P_val=2.353e-04 U_stat=3.884e+04\n",
      "meta_mOTU_v2_5486_CTR v.s. meta_mOTU_v2_5486_CRC: Mann-Whitney-Wilcoxon test two-sided, P_val=1.486e-05 U_stat=3.689e+04\n",
      "ref_mOTU_v2_0429_CTR v.s. ref_mOTU_v2_0429_CRC: Mann-Whitney-Wilcoxon test two-sided, P_val=1.094e-07 U_stat=3.486e+04\n",
      "ref_mOTU_v2_0777_CTR v.s. ref_mOTU_v2_0777_CRC: Mann-Whitney-Wilcoxon test two-sided, P_val=3.542e-10 U_stat=3.581e+04\n",
      "ref_mOTU_v2_0143_CTR v.s. ref_mOTU_v2_0143_CRC: Mann-Whitney-Wilcoxon test two-sided, P_val=1.323e-04 U_stat=3.534e+04\n",
      "ref_mOTU_v2_0276_CTR v.s. ref_mOTU_v2_0276_CRC: Mann-Whitney-Wilcoxon test two-sided, P_val=3.379e-09 U_stat=3.638e+04\n",
      "ref_mOTU_v2_1403_CTR v.s. ref_mOTU_v2_1403_CRC: Mann-Whitney-Wilcoxon test two-sided, P_val=1.858e-09 U_stat=3.623e+04\n",
      "meta_mOTU_v2_6490_CTR v.s. meta_mOTU_v2_6490_CRC: Mann-Whitney-Wilcoxon test two-sided, P_val=8.745e-08 U_stat=3.679e+04\n",
      "ref_mOTU_v2_4616_CTR v.s. ref_mOTU_v2_4616_CRC: Mann-Whitney-Wilcoxon test two-sided, P_val=3.295e-11 U_stat=3.432e+04\n"
     ]
    },
    {
     "data": {
      "image/png": "[encoded data removed]",
      "text/plain": [
       "<Figure size 1440x864 with 2 Axes>"
      ]
     },
     "metadata": {},
     "output_type": "display_data"
    }
   ],
   "source": [
    "fig, ax  = plt.subplots(2, 1, figsize=(20, 12), sharex=True)\n",
    "\n",
    "ax, ax2 = ax\n",
    "# g = sns.swarmplot(x=x, y=y, hue = hue, data=data, color= \".2\", order = order, ax= ax, size = 6,\n",
    "#                      split=True,   linewidth=1, edgecolor='gray') #palette=\"Set2\",palette = [\".8\", \".8\"] jitter=True,\n",
    "    \n",
    "flierprops = dict(marker = 'o',markerfacecolor='0.75', markersize=5, linestyle='none')\n",
    "    \n",
    "sns.boxenplot(data = data,y=y, x = x, hue = hue,  ax = ax, width = 0.4, saturation = 1,\n",
    "              #k_depth = \"proportion\" , scale = 'linear', \n",
    "              order = order) # palette=\"Set1_r\", , flierprops = flierprops\n",
    "\n",
    "ax, test_results = add_stat_annotation(ax, data=data, x=x, y=y, hue = hue, test='Mann-Whitney', \n",
    "                                       box_pairs=box_pairs, comparisons_correction=None,\n",
    "                                       text_format='star', loc='outside', verbose=2)\n",
    "ax.set_ylabel(y,)\n",
    "\n",
    "#ax.set_ylim(-10, -2)\n",
    "\n",
    "\n",
    "ax.legend(loc='upper left',fancybox=True,  ncol=2)\n",
    "\n",
    "p = f['5_countries_average_importance'].tolist()\n",
    "p = [{i: j} for i, j in enumerate(p)]\n",
    "p = pd.DataFrame(p, index = f.index)\n",
    "p.plot(kind ='bar',stacked=True, ax = ax2, color = color, legend=False, )\n",
    "\n",
    "ax2.set_ylabel('Feature importance', labelpad = 32)\n",
    "ax2.set_xlabel(x)\n",
    "ax2.set_xticklabels(labels = f.species.tolist(), rotation=90, ha='center', fontsize = 16)\n",
    "\n",
    "plt.subplots_adjust(left=None, bottom=None, right=None, top=None, wspace=None, hspace=0.000)\n",
    "plt.savefig('./results/statistic_test.png', dpi=400, bbox_inches='tight')"
   ]
  },
  {
   "cell_type": "code",
   "execution_count": 53,
   "metadata": {},
   "outputs": [],
   "source": [
    "from scipy.stats import mannwhitneyu"
   ]
  },
  {
   "cell_type": "code",
   "execution_count": 58,
   "metadata": {},
   "outputs": [],
   "source": [
    "p_values = []\n",
    "for c in df_save.index:\n",
    "    if not 'NaN-' in c:\n",
    "        v1 = dfx[[c]]\n",
    "        v2 = dfy[['CTR']]\n",
    "        xx = v1.join(v2).groupby('CTR')[c].apply(lambda x:x.to_list())    \n",
    "        s, p = mannwhitneyu(xx[0], xx[1], alternative='two-sided')\n",
    "        p_values.append(p)\n",
    "    else:\n",
    "        p_values.append(None)"
   ]
  },
  {
   "cell_type": "code",
   "execution_count": 59,
   "metadata": {},
   "outputs": [],
   "source": [
    "df_save['mannwhitneyu_p-value'] = p_values\n",
    "df_save = df_save.rename(columns = {'x':'grid_x','y':'grid_y'})\n",
    "df_save = df_save[['scatter_x', 'scatter_y', 'grid_x', 'grid_y', 'Subtypes', 'colors', 'AUS', 'CHN', 'FRA', 'DEU', \n",
    "                   'USA', '5_countries_average_importance', 'mannwhitneyu_p-value']]\n",
    "\n",
    "df_save = df_save.sort_values('5_countries_average_importance',ascending=False)\n",
    "\n",
    "df_save.to_excel('./results/feature_importance.xlsx')\n"
   ]
  },
  {
   "cell_type": "code",
   "execution_count": 60,
   "metadata": {},
   "outputs": [
    {
     "data": {
      "text/html": [
       "<div>\n",
       "<style scoped>\n",
       "    .dataframe tbody tr th:only-of-type {\n",
       "        vertical-align: middle;\n",
       "    }\n",
       "\n",
       "    .dataframe tbody tr th {\n",
       "        vertical-align: top;\n",
       "    }\n",
       "\n",
       "    .dataframe thead th {\n",
       "        text-align: right;\n",
       "    }\n",
       "</style>\n",
       "<table border=\"1\" class=\"dataframe\">\n",
       "  <thead>\n",
       "    <tr style=\"text-align: right;\">\n",
       "      <th></th>\n",
       "      <th>scatter_x</th>\n",
       "      <th>scatter_y</th>\n",
       "      <th>grid_x</th>\n",
       "      <th>grid_y</th>\n",
       "      <th>Subtypes</th>\n",
       "      <th>colors</th>\n",
       "      <th>AUS</th>\n",
       "      <th>CHN</th>\n",
       "      <th>FRA</th>\n",
       "      <th>DEU</th>\n",
       "      <th>USA</th>\n",
       "      <th>5_countries_average_importance</th>\n",
       "      <th>mannwhitneyu_p-value</th>\n",
       "    </tr>\n",
       "    <tr>\n",
       "      <th>v</th>\n",
       "      <th></th>\n",
       "      <th></th>\n",
       "      <th></th>\n",
       "      <th></th>\n",
       "      <th></th>\n",
       "      <th></th>\n",
       "      <th></th>\n",
       "      <th></th>\n",
       "      <th></th>\n",
       "      <th></th>\n",
       "      <th></th>\n",
       "      <th></th>\n",
       "      <th></th>\n",
       "    </tr>\n",
       "  </thead>\n",
       "  <tbody>\n",
       "    <tr>\n",
       "      <th>Anaerococcus obesiensis/vaginalis [ref_mOTU_v2_0429]</th>\n",
       "      <td>-2.386618</td>\n",
       "      <td>-4.969970</td>\n",
       "      <td>3</td>\n",
       "      <td>3</td>\n",
       "      <td>cluster_02</td>\n",
       "      <td>#08ff00</td>\n",
       "      <td>3.740643</td>\n",
       "      <td>4.182530</td>\n",
       "      <td>5.008007</td>\n",
       "      <td>5.352081</td>\n",
       "      <td>4.541437</td>\n",
       "      <td>4.564940</td>\n",
       "      <td>1.094188e-07</td>\n",
       "    </tr>\n",
       "    <tr>\n",
       "      <th>Clostridiales bacterium S5-A14a [meta_mOTU_v2_5486]</th>\n",
       "      <td>-2.298511</td>\n",
       "      <td>-4.886161</td>\n",
       "      <td>3</td>\n",
       "      <td>4</td>\n",
       "      <td>cluster_02</td>\n",
       "      <td>#08ff00</td>\n",
       "      <td>3.592521</td>\n",
       "      <td>4.547896</td>\n",
       "      <td>4.539789</td>\n",
       "      <td>5.307028</td>\n",
       "      <td>4.171234</td>\n",
       "      <td>4.431694</td>\n",
       "      <td>1.485820e-05</td>\n",
       "    </tr>\n",
       "    <tr>\n",
       "      <th>Fusobacterium nucleatum s. nucleatum [ref_mOTU_v2_0777]</th>\n",
       "      <td>-2.777738</td>\n",
       "      <td>-5.414148</td>\n",
       "      <td>2</td>\n",
       "      <td>3</td>\n",
       "      <td>cluster_03</td>\n",
       "      <td>#00fff6</td>\n",
       "      <td>3.026869</td>\n",
       "      <td>4.678922</td>\n",
       "      <td>4.910481</td>\n",
       "      <td>5.167032</td>\n",
       "      <td>4.017988</td>\n",
       "      <td>4.360258</td>\n",
       "      <td>3.542412e-10</td>\n",
       "    </tr>\n",
       "    <tr>\n",
       "      <th>Streptococcus constellatus/intermedius [ref_mOTU_v2_0143]</th>\n",
       "      <td>-3.334739</td>\n",
       "      <td>-4.457049</td>\n",
       "      <td>2</td>\n",
       "      <td>4</td>\n",
       "      <td>cluster_05</td>\n",
       "      <td>#ee00ff</td>\n",
       "      <td>2.957951</td>\n",
       "      <td>4.978458</td>\n",
       "      <td>4.525385</td>\n",
       "      <td>5.249964</td>\n",
       "      <td>3.753036</td>\n",
       "      <td>4.292959</td>\n",
       "      <td>1.323035e-04</td>\n",
       "    </tr>\n",
       "    <tr>\n",
       "      <th>Prevotella nigrescens [ref_mOTU_v2_0276]</th>\n",
       "      <td>-2.729902</td>\n",
       "      <td>-5.417083</td>\n",
       "      <td>3</td>\n",
       "      <td>2</td>\n",
       "      <td>cluster_03</td>\n",
       "      <td>#00fff6</td>\n",
       "      <td>3.211352</td>\n",
       "      <td>3.526966</td>\n",
       "      <td>4.804353</td>\n",
       "      <td>4.708198</td>\n",
       "      <td>4.249610</td>\n",
       "      <td>4.100096</td>\n",
       "      <td>3.378500e-09</td>\n",
       "    </tr>\n",
       "    <tr>\n",
       "      <th>Fusobacterium sp. oral taxon 370 [ref_mOTU_v2_1403]</th>\n",
       "      <td>-2.785563</td>\n",
       "      <td>-5.442452</td>\n",
       "      <td>2</td>\n",
       "      <td>2</td>\n",
       "      <td>cluster_03</td>\n",
       "      <td>#00fff6</td>\n",
       "      <td>2.476730</td>\n",
       "      <td>3.989865</td>\n",
       "      <td>4.567605</td>\n",
       "      <td>4.408877</td>\n",
       "      <td>3.646582</td>\n",
       "      <td>3.817932</td>\n",
       "      <td>1.858199e-09</td>\n",
       "    </tr>\n",
       "    <tr>\n",
       "      <th>unknown Porphyromonas [meta_mOTU_v2_6490]</th>\n",
       "      <td>-2.298215</td>\n",
       "      <td>-4.900092</td>\n",
       "      <td>4</td>\n",
       "      <td>3</td>\n",
       "      <td>cluster_02</td>\n",
       "      <td>#08ff00</td>\n",
       "      <td>3.526996</td>\n",
       "      <td>2.726782</td>\n",
       "      <td>4.242285</td>\n",
       "      <td>4.372265</td>\n",
       "      <td>4.073399</td>\n",
       "      <td>3.788346</td>\n",
       "      <td>8.744910e-08</td>\n",
       "    </tr>\n",
       "    <tr>\n",
       "      <th>Porphyromonas uenonis [ref_mOTU_v2_4616]</th>\n",
       "      <td>-2.268646</td>\n",
       "      <td>-4.862103</td>\n",
       "      <td>4</td>\n",
       "      <td>4</td>\n",
       "      <td>cluster_02</td>\n",
       "      <td>#08ff00</td>\n",
       "      <td>3.313791</td>\n",
       "      <td>3.072735</td>\n",
       "      <td>3.737899</td>\n",
       "      <td>4.195477</td>\n",
       "      <td>3.640193</td>\n",
       "      <td>3.592019</td>\n",
       "      <td>3.294640e-11</td>\n",
       "    </tr>\n",
       "    <tr>\n",
       "      <th>Fusobacterium gonidiaformans [ref_mOTU_v2_1404]</th>\n",
       "      <td>-2.323894</td>\n",
       "      <td>-4.867766</td>\n",
       "      <td>3</td>\n",
       "      <td>5</td>\n",
       "      <td>cluster_03</td>\n",
       "      <td>#00fff6</td>\n",
       "      <td>2.697424</td>\n",
       "      <td>4.056273</td>\n",
       "      <td>3.416817</td>\n",
       "      <td>4.377318</td>\n",
       "      <td>3.390030</td>\n",
       "      <td>3.587572</td>\n",
       "      <td>2.352671e-04</td>\n",
       "    </tr>\n",
       "    <tr>\n",
       "      <th>Streptococcus anginosus [ref_mOTU_v2_0351]</th>\n",
       "      <td>-3.396811</td>\n",
       "      <td>-4.311424</td>\n",
       "      <td>2</td>\n",
       "      <td>5</td>\n",
       "      <td>cluster_05</td>\n",
       "      <td>#ee00ff</td>\n",
       "      <td>2.207376</td>\n",
       "      <td>4.348639</td>\n",
       "      <td>3.450281</td>\n",
       "      <td>4.419211</td>\n",
       "      <td>3.095038</td>\n",
       "      <td>3.504109</td>\n",
       "      <td>1.801664e-02</td>\n",
       "    </tr>\n",
       "  </tbody>\n",
       "</table>\n",
       "</div>"
      ],
      "text/plain": [
       "                                                    scatter_x  scatter_y  \\\n",
       "v                                                                          \n",
       "Anaerococcus obesiensis/vaginalis [ref_mOTU_v2_...  -2.386618  -4.969970   \n",
       "Clostridiales bacterium S5-A14a [meta_mOTU_v2_5...  -2.298511  -4.886161   \n",
       "Fusobacterium nucleatum s. nucleatum [ref_mOTU_...  -2.777738  -5.414148   \n",
       "Streptococcus constellatus/intermedius [ref_mOT...  -3.334739  -4.457049   \n",
       "Prevotella nigrescens [ref_mOTU_v2_0276]            -2.729902  -5.417083   \n",
       "Fusobacterium sp. oral taxon 370 [ref_mOTU_v2_1...  -2.785563  -5.442452   \n",
       "unknown Porphyromonas [meta_mOTU_v2_6490]           -2.298215  -4.900092   \n",
       "Porphyromonas uenonis [ref_mOTU_v2_4616]            -2.268646  -4.862103   \n",
       "Fusobacterium gonidiaformans [ref_mOTU_v2_1404]     -2.323894  -4.867766   \n",
       "Streptococcus anginosus [ref_mOTU_v2_0351]          -3.396811  -4.311424   \n",
       "\n",
       "                                                    grid_x  grid_y  \\\n",
       "v                                                                    \n",
       "Anaerococcus obesiensis/vaginalis [ref_mOTU_v2_...       3       3   \n",
       "Clostridiales bacterium S5-A14a [meta_mOTU_v2_5...       3       4   \n",
       "Fusobacterium nucleatum s. nucleatum [ref_mOTU_...       2       3   \n",
       "Streptococcus constellatus/intermedius [ref_mOT...       2       4   \n",
       "Prevotella nigrescens [ref_mOTU_v2_0276]                 3       2   \n",
       "Fusobacterium sp. oral taxon 370 [ref_mOTU_v2_1...       2       2   \n",
       "unknown Porphyromonas [meta_mOTU_v2_6490]                4       3   \n",
       "Porphyromonas uenonis [ref_mOTU_v2_4616]                 4       4   \n",
       "Fusobacterium gonidiaformans [ref_mOTU_v2_1404]          3       5   \n",
       "Streptococcus anginosus [ref_mOTU_v2_0351]               2       5   \n",
       "\n",
       "                                                      Subtypes   colors  \\\n",
       "v                                                                         \n",
       "Anaerococcus obesiensis/vaginalis [ref_mOTU_v2_...  cluster_02  #08ff00   \n",
       "Clostridiales bacterium S5-A14a [meta_mOTU_v2_5...  cluster_02  #08ff00   \n",
       "Fusobacterium nucleatum s. nucleatum [ref_mOTU_...  cluster_03  #00fff6   \n",
       "Streptococcus constellatus/intermedius [ref_mOT...  cluster_05  #ee00ff   \n",
       "Prevotella nigrescens [ref_mOTU_v2_0276]            cluster_03  #00fff6   \n",
       "Fusobacterium sp. oral taxon 370 [ref_mOTU_v2_1...  cluster_03  #00fff6   \n",
       "unknown Porphyromonas [meta_mOTU_v2_6490]           cluster_02  #08ff00   \n",
       "Porphyromonas uenonis [ref_mOTU_v2_4616]            cluster_02  #08ff00   \n",
       "Fusobacterium gonidiaformans [ref_mOTU_v2_1404]     cluster_03  #00fff6   \n",
       "Streptococcus anginosus [ref_mOTU_v2_0351]          cluster_05  #ee00ff   \n",
       "\n",
       "                                                         AUS       CHN  \\\n",
       "v                                                                        \n",
       "Anaerococcus obesiensis/vaginalis [ref_mOTU_v2_...  3.740643  4.182530   \n",
       "Clostridiales bacterium S5-A14a [meta_mOTU_v2_5...  3.592521  4.547896   \n",
       "Fusobacterium nucleatum s. nucleatum [ref_mOTU_...  3.026869  4.678922   \n",
       "Streptococcus constellatus/intermedius [ref_mOT...  2.957951  4.978458   \n",
       "Prevotella nigrescens [ref_mOTU_v2_0276]            3.211352  3.526966   \n",
       "Fusobacterium sp. oral taxon 370 [ref_mOTU_v2_1...  2.476730  3.989865   \n",
       "unknown Porphyromonas [meta_mOTU_v2_6490]           3.526996  2.726782   \n",
       "Porphyromonas uenonis [ref_mOTU_v2_4616]            3.313791  3.072735   \n",
       "Fusobacterium gonidiaformans [ref_mOTU_v2_1404]     2.697424  4.056273   \n",
       "Streptococcus anginosus [ref_mOTU_v2_0351]          2.207376  4.348639   \n",
       "\n",
       "                                                         FRA       DEU  \\\n",
       "v                                                                        \n",
       "Anaerococcus obesiensis/vaginalis [ref_mOTU_v2_...  5.008007  5.352081   \n",
       "Clostridiales bacterium S5-A14a [meta_mOTU_v2_5...  4.539789  5.307028   \n",
       "Fusobacterium nucleatum s. nucleatum [ref_mOTU_...  4.910481  5.167032   \n",
       "Streptococcus constellatus/intermedius [ref_mOT...  4.525385  5.249964   \n",
       "Prevotella nigrescens [ref_mOTU_v2_0276]            4.804353  4.708198   \n",
       "Fusobacterium sp. oral taxon 370 [ref_mOTU_v2_1...  4.567605  4.408877   \n",
       "unknown Porphyromonas [meta_mOTU_v2_6490]           4.242285  4.372265   \n",
       "Porphyromonas uenonis [ref_mOTU_v2_4616]            3.737899  4.195477   \n",
       "Fusobacterium gonidiaformans [ref_mOTU_v2_1404]     3.416817  4.377318   \n",
       "Streptococcus anginosus [ref_mOTU_v2_0351]          3.450281  4.419211   \n",
       "\n",
       "                                                         USA  \\\n",
       "v                                                              \n",
       "Anaerococcus obesiensis/vaginalis [ref_mOTU_v2_...  4.541437   \n",
       "Clostridiales bacterium S5-A14a [meta_mOTU_v2_5...  4.171234   \n",
       "Fusobacterium nucleatum s. nucleatum [ref_mOTU_...  4.017988   \n",
       "Streptococcus constellatus/intermedius [ref_mOT...  3.753036   \n",
       "Prevotella nigrescens [ref_mOTU_v2_0276]            4.249610   \n",
       "Fusobacterium sp. oral taxon 370 [ref_mOTU_v2_1...  3.646582   \n",
       "unknown Porphyromonas [meta_mOTU_v2_6490]           4.073399   \n",
       "Porphyromonas uenonis [ref_mOTU_v2_4616]            3.640193   \n",
       "Fusobacterium gonidiaformans [ref_mOTU_v2_1404]     3.390030   \n",
       "Streptococcus anginosus [ref_mOTU_v2_0351]          3.095038   \n",
       "\n",
       "                                                    5_countries_average_importance  \\\n",
       "v                                                                                    \n",
       "Anaerococcus obesiensis/vaginalis [ref_mOTU_v2_...                        4.564940   \n",
       "Clostridiales bacterium S5-A14a [meta_mOTU_v2_5...                        4.431694   \n",
       "Fusobacterium nucleatum s. nucleatum [ref_mOTU_...                        4.360258   \n",
       "Streptococcus constellatus/intermedius [ref_mOT...                        4.292959   \n",
       "Prevotella nigrescens [ref_mOTU_v2_0276]                                  4.100096   \n",
       "Fusobacterium sp. oral taxon 370 [ref_mOTU_v2_1...                        3.817932   \n",
       "unknown Porphyromonas [meta_mOTU_v2_6490]                                 3.788346   \n",
       "Porphyromonas uenonis [ref_mOTU_v2_4616]                                  3.592019   \n",
       "Fusobacterium gonidiaformans [ref_mOTU_v2_1404]                           3.587572   \n",
       "Streptococcus anginosus [ref_mOTU_v2_0351]                                3.504109   \n",
       "\n",
       "                                                    mannwhitneyu_p-value  \n",
       "v                                                                         \n",
       "Anaerococcus obesiensis/vaginalis [ref_mOTU_v2_...          1.094188e-07  \n",
       "Clostridiales bacterium S5-A14a [meta_mOTU_v2_5...          1.485820e-05  \n",
       "Fusobacterium nucleatum s. nucleatum [ref_mOTU_...          3.542412e-10  \n",
       "Streptococcus constellatus/intermedius [ref_mOT...          1.323035e-04  \n",
       "Prevotella nigrescens [ref_mOTU_v2_0276]                    3.378500e-09  \n",
       "Fusobacterium sp. oral taxon 370 [ref_mOTU_v2_1...          1.858199e-09  \n",
       "unknown Porphyromonas [meta_mOTU_v2_6490]                   8.744910e-08  \n",
       "Porphyromonas uenonis [ref_mOTU_v2_4616]                    3.294640e-11  \n",
       "Fusobacterium gonidiaformans [ref_mOTU_v2_1404]             2.352671e-04  \n",
       "Streptococcus anginosus [ref_mOTU_v2_0351]                  1.801664e-02  "
      ]
     },
     "execution_count": 60,
     "metadata": {},
     "output_type": "execute_result"
    }
   ],
   "source": [
    "df_save.head(10)"
   ]
  },
  {
   "cell_type": "code",
   "execution_count": null,
   "metadata": {},
   "outputs": [],
   "source": []
  },
  {
   "cell_type": "code",
   "execution_count": null,
   "metadata": {},
   "outputs": [],
   "source": []
  },
  {
   "cell_type": "code",
   "execution_count": null,
   "metadata": {},
   "outputs": [],
   "source": []
  },
  {
   "cell_type": "code",
   "execution_count": null,
   "metadata": {},
   "outputs": [],
   "source": []
  },
  {
   "cell_type": "code",
   "execution_count": null,
   "metadata": {},
   "outputs": [],
   "source": []
  },
  {
   "cell_type": "code",
   "execution_count": null,
   "metadata": {},
   "outputs": [],
   "source": []
  }
 ],
 "metadata": {
  "kernelspec": {
   "display_name": "Python 3 (ipykernel)",
   "language": "python",
   "name": "python3"
  },
  "language_info": {
   "codemirror_mode": {
    "name": "ipython",
    "version": 3
   },
   "file_extension": ".py",
   "mimetype": "text/x-python",
   "name": "python",
   "nbconvert_exporter": "python",
   "pygments_lexer": "ipython3",
   "version": "3.7.11"
  }
 },
 "nbformat": 4,
 "nbformat_minor": 4
}
