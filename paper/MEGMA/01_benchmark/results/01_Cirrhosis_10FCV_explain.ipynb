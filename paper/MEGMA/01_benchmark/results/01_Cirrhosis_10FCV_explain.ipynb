{
 "cells": [
  {
   "cell_type": "code",
   "execution_count": 1,
   "metadata": {},
   "outputs": [],
   "source": [
    "import warnings, os\n",
    "warnings.filterwarnings(\"ignore\")\n",
    "\n",
    "from copy import copy\n",
    "import pandas as pd\n",
    "import numpy as np\n",
    "from tqdm import tqdm\n",
    "from sklearn.model_selection import KFold, StratifiedKFold\n",
    "from sklearn.metrics import confusion_matrix, precision_recall_curve\n",
    "from sklearn.metrics import roc_auc_score, matthews_corrcoef, precision_score, recall_score, f1_score\n",
    "\n",
    "\n",
    "import seaborn as sns\n",
    "import matplotlib.pyplot as plt\n",
    "from joblib import dump, load\n",
    "\n",
    "from aggmap import AggMap, AggModel, loadmap\n",
    "from aggmap.AggModel import load_model, save_model\n",
    "from aggmap import show\n",
    "\n",
    "\n",
    "np.random.seed(666) #just for reaptable results\n",
    "\n",
    "\n",
    "def score(dfr):\n",
    "    y_true = dfr.y_true\n",
    "    y_score = dfr.y_score\n",
    "    y_pred = dfr.y_pred\n",
    "\n",
    "    '''\n",
    "    the metrics are taken from orignal paper:\n",
    "    Meta-Signer: Metagenomic Signature Identifier based on Rank Aggregation of Features\n",
    "    https://github.com/YDaiLab/Meta-Signer/blob/bd6a1cd98d1035f848ecb6e53d9ee67a85871db2/src/utils/metasigner_io.py#L34\n",
    "    '''\n",
    "    auc = roc_auc_score(y_true, y_score, average='weighted')        \n",
    "    mcc = matthews_corrcoef(y_true, y_pred)\n",
    "    pres = precision_score(y_true, y_pred, average='weighted')\n",
    "    recall = recall_score(y_true, y_pred, average='weighted')\n",
    "    f1 = f1_score(y_true, y_pred, average='weighted')\n",
    "    \n",
    "    print('roc-auc: %.3f, mcc: %.3f, pres: %.3f, recall: %.3f, f1: %.3f' % (auc, mcc, pres, recall, f1))\n",
    "\n",
    "    return auc, mcc, pres, recall, f1"
   ]
  },
  {
   "cell_type": "markdown",
   "metadata": {},
   "source": [
    "# read data"
   ]
  },
  {
   "cell_type": "code",
   "execution_count": 2,
   "metadata": {},
   "outputs": [],
   "source": [
    "task = 'Cirrhosis'\n",
    "data_path = '../01_data/species_level/%s/' % (task)\n",
    "save_dir = '%s_results' % task\n",
    "if not os.path.exists(save_dir):\n",
    "    os.makedirs(save_dir)\n",
    "\n",
    "dfa = pd.read_csv(os.path.join(data_path, 'abundance.tsv'),sep='\\t', header=None, index_col=0)\n",
    "dfy = pd.read_csv(os.path.join(data_path, 'labels.txt'),sep='\\t', header=None)\n",
    "dfx = dfa.T\n",
    "dfy = pd.get_dummies(dfy[0].map({'cirrhosis':1, 'n':0}))\n",
    "Y = dfy.values"
   ]
  },
  {
   "cell_type": "markdown",
   "metadata": {},
   "source": [
    "# 10FCV"
   ]
  },
  {
   "cell_type": "code",
   "execution_count": 3,
   "metadata": {
    "collapsed": true,
    "jupyter": {
     "outputs_hidden": true
    },
    "tags": []
   },
   "outputs": [
    {
     "name": "stdout",
     "output_type": "stream",
     "text": [
      "################################################## repeat_seed: 8; fold_00 ##################################################\n",
      "2021-08-17 15:41:07,255 - \u001b[32mINFO\u001b[0m - [bidd-aggmap]\u001b[0m - Calculating distance ...\u001b[0m\n",
      "2021-08-17 15:41:07,273 - \u001b[32mINFO\u001b[0m - [bidd-aggmap]\u001b[0m - the number of process is 16\u001b[0m\n"
     ]
    },
    {
     "name": "stderr",
     "output_type": "stream",
     "text": [
      "100%|##########| 146611/146611 [00:04<00:00, 33225.20it/s]\n",
      "100%|##########| 146611/146611 [00:00<00:00, 1936235.93it/s]\n",
      "100%|##########| 542/542 [00:00<00:00, 827.20it/s]\n"
     ]
    },
    {
     "name": "stdout",
     "output_type": "stream",
     "text": [
      "2021-08-17 15:41:12,641 - \u001b[32mINFO\u001b[0m - [bidd-aggmap]\u001b[0m - applying hierarchical clustering to obtain group information ...\u001b[0m\n",
      "2021-08-17 15:41:16,863 - \u001b[32mINFO\u001b[0m - [bidd-aggmap]\u001b[0m - Applying grid feature map(assignment), this may take several minutes(1~30 min)\u001b[0m\n"
     ]
    },
    {
     "name": "stderr",
     "output_type": "stream",
     "text": [
      "  0%|          | 0/208 [00:00<?, ?it/s]"
     ]
    },
    {
     "name": "stdout",
     "output_type": "stream",
     "text": [
      "2021-08-17 15:41:17,372 - \u001b[32mINFO\u001b[0m - [bidd-aggmap]\u001b[0m - Finished\u001b[0m\n"
     ]
    },
    {
     "name": "stderr",
     "output_type": "stream",
     "text": [
      "100%|##########| 208/208 [00:02<00:00, 78.19it/s]\n"
     ]
    },
    {
     "name": "stdout",
     "output_type": "stream",
     "text": [
      "{'best_loss': 0.54, 'best_epoch': 2, 'fill': 0.01, 'fold_num': 'fold_01'}\n",
      "{'best_loss': 0.224, 'best_epoch': 16, 'fill': 0.01, 'fold_num': 'fold_03'}\n",
      "{'best_loss': 0.373, 'best_epoch': 11, 'fill': 0.01, 'fold_num': 'fold_05'}\n",
      "{'best_loss': 0.354, 'best_epoch': 15, 'fill': 0.01, 'fold_num': 'fold_07'}\n",
      "{'best_loss': 0.102, 'best_epoch': 11, 'fill': 0.01, 'fold_num': 'fold_09'}\n",
      "2021-08-17 15:42:48,357 - \u001b[32mINFO\u001b[0m - [bidd-aggmap]\u001b[0m - Calculating distance ...\u001b[0m\n",
      "2021-08-17 15:42:48,374 - \u001b[32mINFO\u001b[0m - [bidd-aggmap]\u001b[0m - the number of process is 16\u001b[0m\n"
     ]
    },
    {
     "name": "stderr",
     "output_type": "stream",
     "text": [
      "100%|##########| 146611/146611 [00:04<00:00, 29734.56it/s]\n",
      "100%|##########| 146611/146611 [00:00<00:00, 1753509.13it/s]\n",
      "100%|##########| 542/542 [00:00<00:00, 786.81it/s]\n"
     ]
    },
    {
     "name": "stdout",
     "output_type": "stream",
     "text": [
      "2021-08-17 15:42:55,659 - \u001b[32mINFO\u001b[0m - [bidd-aggmap]\u001b[0m - applying hierarchical clustering to obtain group information ...\u001b[0m\n",
      "2021-08-17 15:42:56,832 - \u001b[32mINFO\u001b[0m - [bidd-aggmap]\u001b[0m - Applying grid feature map(assignment), this may take several minutes(1~30 min)\u001b[0m\n"
     ]
    },
    {
     "name": "stderr",
     "output_type": "stream",
     "text": [
      " 23%|##3       | 48/208 [00:00<00:00, 453.73it/s]"
     ]
    },
    {
     "name": "stdout",
     "output_type": "stream",
     "text": [
      "2021-08-17 15:42:57,181 - \u001b[32mINFO\u001b[0m - [bidd-aggmap]\u001b[0m - Finished\u001b[0m\n"
     ]
    },
    {
     "name": "stderr",
     "output_type": "stream",
     "text": [
      "100%|##########| 208/208 [00:00<00:00, 846.29it/s]\n"
     ]
    },
    {
     "name": "stdout",
     "output_type": "stream",
     "text": [
      "{'best_loss': 0.547, 'best_epoch': 2, 'fill': 1e-05, 'fold_num': 'fold_01'}\n",
      "{'best_loss': 0.209, 'best_epoch': 15, 'fill': 1e-05, 'fold_num': 'fold_03'}\n",
      "{'best_loss': 0.27, 'best_epoch': 11, 'fill': 1e-05, 'fold_num': 'fold_05'}\n",
      "{'best_loss': 0.422, 'best_epoch': 2, 'fill': 1e-05, 'fold_num': 'fold_07'}\n",
      "{'best_loss': 0.029, 'best_epoch': 30, 'fill': 1e-05, 'fold_num': 'fold_09'}\n",
      "2021-08-17 15:44:23,844 - \u001b[32mINFO\u001b[0m - [bidd-aggmap]\u001b[0m - Calculating distance ...\u001b[0m\n",
      "2021-08-17 15:44:23,861 - \u001b[32mINFO\u001b[0m - [bidd-aggmap]\u001b[0m - the number of process is 16\u001b[0m\n"
     ]
    },
    {
     "name": "stderr",
     "output_type": "stream",
     "text": [
      "100%|##########| 146611/146611 [00:05<00:00, 28682.20it/s]\n",
      "100%|##########| 146611/146611 [00:00<00:00, 1732029.53it/s]\n",
      "100%|##########| 542/542 [00:00<00:00, 833.83it/s]\n"
     ]
    },
    {
     "name": "stdout",
     "output_type": "stream",
     "text": [
      "2021-08-17 15:44:31,305 - \u001b[32mINFO\u001b[0m - [bidd-aggmap]\u001b[0m - applying hierarchical clustering to obtain group information ...\u001b[0m\n",
      "2021-08-17 15:44:32,426 - \u001b[32mINFO\u001b[0m - [bidd-aggmap]\u001b[0m - Applying grid feature map(assignment), this may take several minutes(1~30 min)\u001b[0m\n"
     ]
    },
    {
     "name": "stderr",
     "output_type": "stream",
     "text": [
      " 27%|##6       | 56/208 [00:00<00:00, 496.60it/s]"
     ]
    },
    {
     "name": "stdout",
     "output_type": "stream",
     "text": [
      "2021-08-17 15:44:32,837 - \u001b[32mINFO\u001b[0m - [bidd-aggmap]\u001b[0m - Finished\u001b[0m\n"
     ]
    },
    {
     "name": "stderr",
     "output_type": "stream",
     "text": [
      "100%|##########| 208/208 [00:00<00:00, 858.81it/s]\n"
     ]
    },
    {
     "name": "stdout",
     "output_type": "stream",
     "text": [
      "{'best_loss': 0.556, 'best_epoch': 2, 'fill': 1e-08, 'fold_num': 'fold_01'}\n",
      "{'best_loss': 0.248, 'best_epoch': 15, 'fill': 1e-08, 'fold_num': 'fold_03'}\n",
      "{'best_loss': 0.227, 'best_epoch': 11, 'fill': 1e-08, 'fold_num': 'fold_05'}\n",
      "{'best_loss': 0.442, 'best_epoch': 2, 'fill': 1e-08, 'fold_num': 'fold_07'}\n",
      "{'best_loss': 0.067, 'best_epoch': 21, 'fill': 1e-08, 'fold_num': 'fold_09'}\n",
      "2021-08-17 15:45:59,231 - \u001b[32mINFO\u001b[0m - [bidd-aggmap]\u001b[0m - Calculating distance ...\u001b[0m\n",
      "2021-08-17 15:45:59,248 - \u001b[32mINFO\u001b[0m - [bidd-aggmap]\u001b[0m - the number of process is 16\u001b[0m\n"
     ]
    },
    {
     "name": "stderr",
     "output_type": "stream",
     "text": [
      "100%|##########| 146611/146611 [00:04<00:00, 31555.89it/s]\n",
      "100%|##########| 146611/146611 [00:00<00:00, 1729968.39it/s]\n",
      "100%|##########| 542/542 [00:00<00:00, 804.08it/s]\n"
     ]
    },
    {
     "name": "stdout",
     "output_type": "stream",
     "text": [
      "2021-08-17 15:46:06,269 - \u001b[32mINFO\u001b[0m - [bidd-aggmap]\u001b[0m - applying hierarchical clustering to obtain group information ...\u001b[0m\n",
      "2021-08-17 15:46:07,382 - \u001b[32mINFO\u001b[0m - [bidd-aggmap]\u001b[0m - Applying grid feature map(assignment), this may take several minutes(1~30 min)\u001b[0m\n"
     ]
    },
    {
     "name": "stderr",
     "output_type": "stream",
     "text": [
      " 23%|##3       | 48/208 [00:00<00:00, 452.47it/s]"
     ]
    },
    {
     "name": "stdout",
     "output_type": "stream",
     "text": [
      "2021-08-17 15:46:07,726 - \u001b[32mINFO\u001b[0m - [bidd-aggmap]\u001b[0m - Finished\u001b[0m\n"
     ]
    },
    {
     "name": "stderr",
     "output_type": "stream",
     "text": [
      "100%|##########| 208/208 [00:00<00:00, 853.19it/s]\n"
     ]
    },
    {
     "name": "stdout",
     "output_type": "stream",
     "text": [
      "{'best_loss': 0.546, 'best_epoch': 2, 'scale_method': 'minmax', 'fold_num': 'fold_01'}\n",
      "{'best_loss': 0.234, 'best_epoch': 15, 'scale_method': 'minmax', 'fold_num': 'fold_03'}\n",
      "{'best_loss': 0.259, 'best_epoch': 11, 'scale_method': 'minmax', 'fold_num': 'fold_05'}\n",
      "{'best_loss': 0.423, 'best_epoch': 2, 'scale_method': 'minmax', 'fold_num': 'fold_07'}\n"
     ]
    },
    {
     "name": "stderr",
     "output_type": "stream",
     "text": [
      " 27%|##6       | 56/208 [00:00<00:00, 488.92it/s]"
     ]
    },
    {
     "name": "stdout",
     "output_type": "stream",
     "text": [
      "{'best_loss': 0.04, 'best_epoch': 30, 'scale_method': 'minmax', 'fold_num': 'fold_09'}\n"
     ]
    },
    {
     "name": "stderr",
     "output_type": "stream",
     "text": [
      "100%|##########| 208/208 [00:00<00:00, 796.83it/s]\n"
     ]
    },
    {
     "name": "stdout",
     "output_type": "stream",
     "text": [
      "{'best_loss': 0.603, 'best_epoch': 1, 'scale_method': 'standard', 'fold_num': 'fold_01'}\n",
      "{'best_loss': 0.379, 'best_epoch': 5, 'scale_method': 'standard', 'fold_num': 'fold_03'}\n",
      "{'best_loss': 0.395, 'best_epoch': 8, 'scale_method': 'standard', 'fold_num': 'fold_05'}\n",
      "{'best_loss': 0.46, 'best_epoch': 3, 'scale_method': 'standard', 'fold_num': 'fold_07'}\n",
      "{'best_loss': 0.225, 'best_epoch': 10, 'scale_method': 'standard', 'fold_num': 'fold_09'}\n",
      "\n",
      "\n",
      "best fill value: 1e-05, best_scale_method:minmax, best avg. best_epochs: 11\n",
      "2021-08-17 15:49:04,847 - \u001b[32mINFO\u001b[0m - [bidd-aggmap]\u001b[0m - Calculating distance ...\u001b[0m\n",
      "2021-08-17 15:49:04,865 - \u001b[32mINFO\u001b[0m - [bidd-aggmap]\u001b[0m - the number of process is 16\u001b[0m\n"
     ]
    },
    {
     "name": "stderr",
     "output_type": "stream",
     "text": [
      "100%|##########| 146611/146611 [00:04<00:00, 29811.05it/s]\n",
      "100%|##########| 146611/146611 [00:00<00:00, 1829395.29it/s]\n",
      "100%|##########| 542/542 [00:00<00:00, 826.34it/s]\n"
     ]
    },
    {
     "name": "stdout",
     "output_type": "stream",
     "text": [
      "2021-08-17 15:49:12,235 - \u001b[32mINFO\u001b[0m - [bidd-aggmap]\u001b[0m - applying hierarchical clustering to obtain group information ...\u001b[0m\n",
      "2021-08-17 15:49:13,394 - \u001b[32mINFO\u001b[0m - [bidd-aggmap]\u001b[0m - Applying grid feature map(assignment), this may take several minutes(1~30 min)\u001b[0m\n"
     ]
    },
    {
     "name": "stderr",
     "output_type": "stream",
     "text": [
      " 27%|##6       | 56/208 [00:00<00:00, 496.91it/s]"
     ]
    },
    {
     "name": "stdout",
     "output_type": "stream",
     "text": [
      "2021-08-17 15:49:13,720 - \u001b[32mINFO\u001b[0m - [bidd-aggmap]\u001b[0m - Finished\u001b[0m\n"
     ]
    },
    {
     "name": "stderr",
     "output_type": "stream",
     "text": [
      "100%|##########| 208/208 [00:00<00:00, 784.24it/s]\n"
     ]
    },
    {
     "name": "stdout",
     "output_type": "stream",
     "text": [
      "{'best_loss': 0.561, 'best_epoch': 3, 'cluster_channels': 1, 'fold_num': 'fold_01'}\n",
      "{'best_loss': 0.315, 'best_epoch': 11, 'cluster_channels': 1, 'fold_num': 'fold_03'}\n",
      "{'best_loss': 0.309, 'best_epoch': 11, 'cluster_channels': 1, 'fold_num': 'fold_05'}\n",
      "{'best_loss': 0.423, 'best_epoch': 6, 'cluster_channels': 1, 'fold_num': 'fold_07'}\n",
      "{'best_loss': 0.091, 'best_epoch': 11, 'cluster_channels': 1, 'fold_num': 'fold_09'}\n",
      "2021-08-17 15:49:48,520 - \u001b[32mINFO\u001b[0m - [bidd-aggmap]\u001b[0m - applying hierarchical clustering to obtain group information ...\u001b[0m\n",
      "2021-08-17 15:49:49,628 - \u001b[32mINFO\u001b[0m - [bidd-aggmap]\u001b[0m - Applying grid feature map(assignment), this may take several minutes(1~30 min)\u001b[0m\n"
     ]
    },
    {
     "name": "stderr",
     "output_type": "stream",
     "text": [
      " 27%|##6       | 56/208 [00:00<00:00, 459.02it/s]"
     ]
    },
    {
     "name": "stdout",
     "output_type": "stream",
     "text": [
      "2021-08-17 15:49:49,969 - \u001b[32mINFO\u001b[0m - [bidd-aggmap]\u001b[0m - Finished\u001b[0m\n"
     ]
    },
    {
     "name": "stderr",
     "output_type": "stream",
     "text": [
      "100%|##########| 208/208 [00:00<00:00, 774.50it/s]\n"
     ]
    },
    {
     "name": "stdout",
     "output_type": "stream",
     "text": [
      "{'best_loss': 0.544, 'best_epoch': 2, 'cluster_channels': 5, 'fold_num': 'fold_01'}\n",
      "{'best_loss': 0.257, 'best_epoch': 8, 'cluster_channels': 5, 'fold_num': 'fold_03'}\n",
      "{'best_loss': 0.269, 'best_epoch': 11, 'cluster_channels': 5, 'fold_num': 'fold_05'}\n",
      "{'best_loss': 0.424, 'best_epoch': 2, 'cluster_channels': 5, 'fold_num': 'fold_07'}\n",
      "{'best_loss': 0.075, 'best_epoch': 10, 'cluster_channels': 5, 'fold_num': 'fold_09'}\n",
      "2021-08-17 15:50:25,140 - \u001b[32mINFO\u001b[0m - [bidd-aggmap]\u001b[0m - applying hierarchical clustering to obtain group information ...\u001b[0m\n",
      "2021-08-17 15:50:26,250 - \u001b[32mINFO\u001b[0m - [bidd-aggmap]\u001b[0m - Applying grid feature map(assignment), this may take several minutes(1~30 min)\u001b[0m\n"
     ]
    },
    {
     "name": "stderr",
     "output_type": "stream",
     "text": [
      " 31%|###       | 64/208 [00:00<00:00, 495.55it/s]"
     ]
    },
    {
     "name": "stdout",
     "output_type": "stream",
     "text": [
      "2021-08-17 15:50:26,579 - \u001b[32mINFO\u001b[0m - [bidd-aggmap]\u001b[0m - Finished\u001b[0m\n"
     ]
    },
    {
     "name": "stderr",
     "output_type": "stream",
     "text": [
      "100%|##########| 208/208 [00:00<00:00, 786.26it/s]\n"
     ]
    },
    {
     "name": "stdout",
     "output_type": "stream",
     "text": [
      "{'best_loss': 0.545, 'best_epoch': 2, 'cluster_channels': 9, 'fold_num': 'fold_01'}\n",
      "{'best_loss': 0.231, 'best_epoch': 8, 'cluster_channels': 9, 'fold_num': 'fold_03'}\n",
      "{'best_loss': 0.291, 'best_epoch': 8, 'cluster_channels': 9, 'fold_num': 'fold_05'}\n",
      "{'best_loss': 0.42, 'best_epoch': 3, 'cluster_channels': 9, 'fold_num': 'fold_07'}\n",
      "{'best_loss': 0.075, 'best_epoch': 11, 'cluster_channels': 9, 'fold_num': 'fold_09'}\n",
      "2021-08-17 15:51:02,106 - \u001b[32mINFO\u001b[0m - [bidd-aggmap]\u001b[0m - applying hierarchical clustering to obtain group information ...\u001b[0m\n",
      "2021-08-17 15:51:03,226 - \u001b[32mINFO\u001b[0m - [bidd-aggmap]\u001b[0m - Applying grid feature map(assignment), this may take several minutes(1~30 min)\u001b[0m\n"
     ]
    },
    {
     "name": "stderr",
     "output_type": "stream",
     "text": [
      " 27%|##6       | 56/208 [00:00<00:00, 456.91it/s]"
     ]
    },
    {
     "name": "stdout",
     "output_type": "stream",
     "text": [
      "2021-08-17 15:51:03,563 - \u001b[32mINFO\u001b[0m - [bidd-aggmap]\u001b[0m - Finished\u001b[0m\n"
     ]
    },
    {
     "name": "stderr",
     "output_type": "stream",
     "text": [
      "100%|##########| 208/208 [00:00<00:00, 807.87it/s]\n"
     ]
    },
    {
     "name": "stdout",
     "output_type": "stream",
     "text": [
      "{'best_loss': 0.522, 'best_epoch': 2, 'cluster_channels': 13, 'fold_num': 'fold_01'}\n",
      "{'best_loss': 0.253, 'best_epoch': 8, 'cluster_channels': 13, 'fold_num': 'fold_03'}\n",
      "{'best_loss': 0.262, 'best_epoch': 8, 'cluster_channels': 13, 'fold_num': 'fold_05'}\n",
      "{'best_loss': 0.415, 'best_epoch': 2, 'cluster_channels': 13, 'fold_num': 'fold_07'}\n",
      "{'best_loss': 0.083, 'best_epoch': 11, 'cluster_channels': 13, 'fold_num': 'fold_09'}\n",
      "2021-08-17 15:51:40,023 - \u001b[32mINFO\u001b[0m - [bidd-aggmap]\u001b[0m - applying hierarchical clustering to obtain group information ...\u001b[0m\n",
      "2021-08-17 15:51:41,151 - \u001b[32mINFO\u001b[0m - [bidd-aggmap]\u001b[0m - Applying grid feature map(assignment), this may take several minutes(1~30 min)\u001b[0m\n"
     ]
    },
    {
     "name": "stderr",
     "output_type": "stream",
     "text": [
      " 27%|##6       | 56/208 [00:00<00:00, 532.31it/s]"
     ]
    },
    {
     "name": "stdout",
     "output_type": "stream",
     "text": [
      "2021-08-17 15:51:41,500 - \u001b[32mINFO\u001b[0m - [bidd-aggmap]\u001b[0m - Finished\u001b[0m\n"
     ]
    },
    {
     "name": "stderr",
     "output_type": "stream",
     "text": [
      "100%|##########| 208/208 [00:00<00:00, 856.80it/s]\n"
     ]
    },
    {
     "name": "stdout",
     "output_type": "stream",
     "text": [
      "{'best_loss': 0.526, 'best_epoch': 2, 'cluster_channels': 17, 'fold_num': 'fold_01'}\n",
      "{'best_loss': 0.261, 'best_epoch': 9, 'cluster_channels': 17, 'fold_num': 'fold_03'}\n",
      "{'best_loss': 0.258, 'best_epoch': 8, 'cluster_channels': 17, 'fold_num': 'fold_05'}\n",
      "{'best_loss': 0.415, 'best_epoch': 2, 'cluster_channels': 17, 'fold_num': 'fold_07'}\n",
      "{'best_loss': 0.078, 'best_epoch': 11, 'cluster_channels': 17, 'fold_num': 'fold_09'}\n",
      "2021-08-17 15:52:17,969 - \u001b[32mINFO\u001b[0m - [bidd-aggmap]\u001b[0m - applying hierarchical clustering to obtain group information ...\u001b[0m\n",
      "2021-08-17 15:52:19,086 - \u001b[32mINFO\u001b[0m - [bidd-aggmap]\u001b[0m - Applying grid feature map(assignment), this may take several minutes(1~30 min)\u001b[0m\n"
     ]
    },
    {
     "name": "stderr",
     "output_type": "stream",
     "text": [
      " 27%|##6       | 56/208 [00:00<00:00, 419.53it/s]"
     ]
    },
    {
     "name": "stdout",
     "output_type": "stream",
     "text": [
      "2021-08-17 15:52:19,440 - \u001b[32mINFO\u001b[0m - [bidd-aggmap]\u001b[0m - Finished\u001b[0m\n"
     ]
    },
    {
     "name": "stderr",
     "output_type": "stream",
     "text": [
      "100%|##########| 208/208 [00:00<00:00, 716.54it/s]\n"
     ]
    },
    {
     "name": "stdout",
     "output_type": "stream",
     "text": [
      "{'best_loss': 0.533, 'best_epoch': 2, 'cluster_channels': 21, 'fold_num': 'fold_01'}\n",
      "{'best_loss': 0.27, 'best_epoch': 5, 'cluster_channels': 21, 'fold_num': 'fold_03'}\n",
      "{'best_loss': 0.254, 'best_epoch': 8, 'cluster_channels': 21, 'fold_num': 'fold_05'}\n",
      "{'best_loss': 0.42, 'best_epoch': 2, 'cluster_channels': 21, 'fold_num': 'fold_07'}\n",
      "{'best_loss': 0.07, 'best_epoch': 11, 'cluster_channels': 21, 'fold_num': 'fold_09'}\n",
      "\n",
      "\n",
      "best channel number: 13\n",
      "2021-08-17 15:52:56,999 - \u001b[32mINFO\u001b[0m - [bidd-aggmap]\u001b[0m - Calculating distance ...\u001b[0m\n",
      "2021-08-17 15:52:57,015 - \u001b[32mINFO\u001b[0m - [bidd-aggmap]\u001b[0m - the number of process is 16\u001b[0m\n"
     ]
    },
    {
     "name": "stderr",
     "output_type": "stream",
     "text": [
      "100%|##########| 146611/146611 [00:04<00:00, 30478.06it/s]\n",
      "100%|##########| 146611/146611 [00:00<00:00, 1884927.18it/s]\n",
      "100%|##########| 542/542 [00:00<00:00, 825.91it/s]\n"
     ]
    },
    {
     "name": "stdout",
     "output_type": "stream",
     "text": [
      "2021-08-17 15:53:04,592 - \u001b[32mINFO\u001b[0m - [bidd-aggmap]\u001b[0m - applying hierarchical clustering to obtain group information ...\u001b[0m\n",
      "2021-08-17 15:53:05,689 - \u001b[32mINFO\u001b[0m - [bidd-aggmap]\u001b[0m - Applying grid feature map(assignment), this may take several minutes(1~30 min)\u001b[0m\n"
     ]
    },
    {
     "name": "stderr",
     "output_type": "stream",
     "text": [
      " 21%|##        | 48/232 [00:00<00:00, 464.40it/s]"
     ]
    },
    {
     "name": "stdout",
     "output_type": "stream",
     "text": [
      "2021-08-17 15:53:05,994 - \u001b[32mINFO\u001b[0m - [bidd-aggmap]\u001b[0m - Finished\u001b[0m\n"
     ]
    },
    {
     "name": "stderr",
     "output_type": "stream",
     "text": [
      "100%|##########| 232/232 [00:00<00:00, 822.33it/s]\n"
     ]
    },
    {
     "name": "stdout",
     "output_type": "stream",
     "text": [
      "\n",
      " input train and test X shape is (208, 24, 23, 13), (24, 24, 23, 13) \n",
      "saving model to Cirrhosis_results/fold_00.model\n",
      "roc-auc: 0.993, mcc: 0.833, pres: 0.917, recall: 0.917, f1: 0.917\n",
      "{'auc': 0.993, 'mcc': 0.833, 'pres': 0.917, 'recall': 0.917, 'f1': 0.917, 'i': 0.0, 'repeat_seed': 8.0}\n",
      "################################################## repeat_seed: 8; fold_01 ##################################################\n",
      "\n",
      " input train and test X shape is (208, 24, 23, 13), (24, 24, 23, 13) \n",
      "saving model to Cirrhosis_results/fold_01.model\n",
      "roc-auc: 0.812, mcc: 0.676, pres: 0.843, recall: 0.833, f1: 0.832\n",
      "{'auc': 0.812, 'mcc': 0.676, 'pres': 0.843, 'recall': 0.833, 'f1': 0.832, 'i': 0.0, 'repeat_seed': 8.0}\n",
      "################################################## repeat_seed: 8; fold_02 ##################################################\n",
      "\n",
      " input train and test X shape is (209, 24, 23, 13), (23, 24, 23, 13) \n",
      "saving model to Cirrhosis_results/fold_02.model\n",
      "roc-auc: 0.970, mcc: 0.740, pres: 0.872, recall: 0.870, f1: 0.869\n",
      "{'auc': 0.97, 'mcc': 0.74, 'pres': 0.872, 'recall': 0.87, 'f1': 0.869, 'i': 0.0, 'repeat_seed': 8.0}\n",
      "################################################## repeat_seed: 8; fold_03 ##################################################\n",
      "\n",
      " input train and test X shape is (209, 24, 23, 13), (23, 24, 23, 13) \n",
      "saving model to Cirrhosis_results/fold_03.model\n",
      "roc-auc: 0.962, mcc: 0.837, pres: 0.925, recall: 0.913, f1: 0.912\n",
      "{'auc': 0.962, 'mcc': 0.837, 'pres': 0.925, 'recall': 0.913, 'f1': 0.912, 'i': 0.0, 'repeat_seed': 8.0}\n",
      "################################################## repeat_seed: 8; fold_04 ##################################################\n",
      "\n",
      " input train and test X shape is (209, 24, 23, 13), (23, 24, 23, 13) \n",
      "saving model to Cirrhosis_results/fold_04.model\n",
      "roc-auc: 0.955, mcc: 0.742, pres: 0.873, recall: 0.870, f1: 0.870\n",
      "{'auc': 0.955, 'mcc': 0.742, 'pres': 0.873, 'recall': 0.87, 'f1': 0.87, 'i': 0.0, 'repeat_seed': 8.0}\n",
      "################################################## repeat_seed: 8; fold_05 ##################################################\n",
      "\n",
      " input train and test X shape is (209, 24, 23, 13), (23, 24, 23, 13) \n",
      "saving model to Cirrhosis_results/fold_05.model\n",
      "roc-auc: 0.818, mcc: 0.652, pres: 0.826, recall: 0.826, f1: 0.826\n",
      "{'auc': 0.818, 'mcc': 0.652, 'pres': 0.826, 'recall': 0.826, 'f1': 0.826, 'i': 0.0, 'repeat_seed': 8.0}\n",
      "################################################## repeat_seed: 8; fold_06 ##################################################\n",
      "\n",
      " input train and test X shape is (209, 24, 23, 13), (23, 24, 23, 13) \n",
      "saving model to Cirrhosis_results/fold_06.model\n",
      "roc-auc: 0.985, mcc: 0.768, pres: 0.898, recall: 0.870, f1: 0.868\n",
      "{'auc': 0.985, 'mcc': 0.768, 'pres': 0.898, 'recall': 0.87, 'f1': 0.868, 'i': 0.0, 'repeat_seed': 8.0}\n",
      "################################################## repeat_seed: 8; fold_07 ##################################################\n",
      "\n",
      " input train and test X shape is (209, 24, 23, 13), (23, 24, 23, 13) \n",
      "saving model to Cirrhosis_results/fold_07.model\n",
      "roc-auc: 0.992, mcc: 0.916, pres: 0.960, recall: 0.957, f1: 0.956\n",
      "{'auc': 0.992, 'mcc': 0.916, 'pres': 0.96, 'recall': 0.957, 'f1': 0.956, 'i': 0.0, 'repeat_seed': 8.0}\n",
      "################################################## repeat_seed: 8; fold_08 ##################################################\n",
      "\n",
      " input train and test X shape is (209, 24, 23, 13), (23, 24, 23, 13) \n",
      "saving model to Cirrhosis_results/fold_08.model\n",
      "roc-auc: 0.970, mcc: 0.840, pres: 0.926, recall: 0.913, f1: 0.913\n",
      "{'auc': 0.97, 'mcc': 0.84, 'pres': 0.926, 'recall': 0.913, 'f1': 0.913, 'i': 0.0, 'repeat_seed': 8.0}\n",
      "################################################## repeat_seed: 8; fold_09 ##################################################\n",
      "\n",
      " input train and test X shape is (209, 24, 23, 13), (23, 24, 23, 13) \n",
      "saving model to Cirrhosis_results/fold_09.model\n",
      "roc-auc: 0.992, mcc: 0.916, pres: 0.960, recall: 0.957, f1: 0.956\n",
      "{'auc': 0.992, 'mcc': 0.916, 'pres': 0.96, 'recall': 0.957, 'f1': 0.956, 'i': 0.0, 'repeat_seed': 8.0}\n",
      "################################################## repeat_seed: 16; fold_00 ##################################################\n",
      "\n",
      " input train and test X shape is (208, 24, 23, 13), (24, 24, 23, 13) \n",
      "roc-auc: 0.882, mcc: 0.833, pres: 0.917, recall: 0.917, f1: 0.917\n",
      "{'auc': 0.882, 'mcc': 0.833, 'pres': 0.917, 'recall': 0.917, 'f1': 0.917, 'i': 1.0, 'repeat_seed': 16.0}\n",
      "################################################## repeat_seed: 16; fold_01 ##################################################\n",
      "\n",
      " input train and test X shape is (208, 24, 23, 13), (24, 24, 23, 13) \n",
      "roc-auc: 0.813, mcc: 0.418, pres: 0.710, recall: 0.708, f1: 0.708\n",
      "{'auc': 0.813, 'mcc': 0.418, 'pres': 0.71, 'recall': 0.708, 'f1': 0.708, 'i': 1.0, 'repeat_seed': 16.0}\n",
      "################################################## repeat_seed: 16; fold_02 ##################################################\n",
      "\n",
      " input train and test X shape is (209, 24, 23, 13), (23, 24, 23, 13) \n",
      "roc-auc: 1.000, mcc: 0.916, pres: 0.960, recall: 0.957, f1: 0.956\n",
      "{'auc': 1.0, 'mcc': 0.916, 'pres': 0.96, 'recall': 0.957, 'f1': 0.956, 'i': 1.0, 'repeat_seed': 16.0}\n",
      "################################################## repeat_seed: 16; fold_03 ##################################################\n",
      "\n",
      " input train and test X shape is (209, 24, 23, 13), (23, 24, 23, 13) \n",
      "roc-auc: 0.947, mcc: 0.826, pres: 0.913, recall: 0.913, f1: 0.913\n",
      "{'auc': 0.947, 'mcc': 0.826, 'pres': 0.913, 'recall': 0.913, 'f1': 0.913, 'i': 1.0, 'repeat_seed': 16.0}\n",
      "################################################## repeat_seed: 16; fold_04 ##################################################\n",
      "\n",
      " input train and test X shape is (209, 24, 23, 13), (23, 24, 23, 13) \n",
      "roc-auc: 0.962, mcc: 0.699, pres: 0.872, recall: 0.826, f1: 0.822\n",
      "{'auc': 0.962, 'mcc': 0.699, 'pres': 0.872, 'recall': 0.826, 'f1': 0.822, 'i': 1.0, 'repeat_seed': 16.0}\n",
      "################################################## repeat_seed: 16; fold_05 ##################################################\n",
      "\n",
      " input train and test X shape is (209, 24, 23, 13), (23, 24, 23, 13) \n",
      "roc-auc: 0.947, mcc: 0.652, pres: 0.826, recall: 0.826, f1: 0.826\n",
      "{'auc': 0.947, 'mcc': 0.652, 'pres': 0.826, 'recall': 0.826, 'f1': 0.826, 'i': 1.0, 'repeat_seed': 16.0}\n",
      "################################################## repeat_seed: 16; fold_06 ##################################################\n",
      "\n",
      " input train and test X shape is (209, 24, 23, 13), (23, 24, 23, 13) \n",
      "roc-auc: 1.000, mcc: 1.000, pres: 1.000, recall: 1.000, f1: 1.000\n",
      "{'auc': 1.0, 'mcc': 1.0, 'pres': 1.0, 'recall': 1.0, 'f1': 1.0, 'i': 1.0, 'repeat_seed': 16.0}\n",
      "################################################## repeat_seed: 16; fold_07 ##################################################\n",
      "\n",
      " input train and test X shape is (209, 24, 23, 13), (23, 24, 23, 13) \n",
      "roc-auc: 0.992, mcc: 0.837, pres: 0.925, recall: 0.913, f1: 0.912\n",
      "{'auc': 0.992, 'mcc': 0.837, 'pres': 0.925, 'recall': 0.913, 'f1': 0.912, 'i': 1.0, 'repeat_seed': 16.0}\n",
      "################################################## repeat_seed: 16; fold_08 ##################################################\n",
      "\n",
      " input train and test X shape is (209, 24, 23, 13), (23, 24, 23, 13) \n",
      "roc-auc: 1.000, mcc: 0.768, pres: 0.898, recall: 0.870, f1: 0.868\n",
      "{'auc': 1.0, 'mcc': 0.768, 'pres': 0.898, 'recall': 0.87, 'f1': 0.868, 'i': 1.0, 'repeat_seed': 16.0}\n",
      "################################################## repeat_seed: 16; fold_09 ##################################################\n",
      "\n",
      " input train and test X shape is (209, 24, 23, 13), (23, 24, 23, 13) \n",
      "roc-auc: 0.992, mcc: 0.826, pres: 0.913, recall: 0.913, f1: 0.913\n",
      "{'auc': 0.992, 'mcc': 0.826, 'pres': 0.913, 'recall': 0.913, 'f1': 0.913, 'i': 1.0, 'repeat_seed': 16.0}\n",
      "################################################## repeat_seed: 32; fold_00 ##################################################\n",
      "\n",
      " input train and test X shape is (208, 24, 23, 13), (24, 24, 23, 13) \n",
      "roc-auc: 0.979, mcc: 0.845, pres: 0.929, recall: 0.917, f1: 0.916\n",
      "{'auc': 0.979, 'mcc': 0.845, 'pres': 0.929, 'recall': 0.917, 'f1': 0.916, 'i': 2.0, 'repeat_seed': 32.0}\n",
      "################################################## repeat_seed: 32; fold_01 ##################################################\n",
      "\n",
      " input train and test X shape is (208, 24, 23, 13), (24, 24, 23, 13) \n",
      "roc-auc: 0.896, mcc: 0.753, pres: 0.878, recall: 0.875, f1: 0.875\n",
      "{'auc': 0.896, 'mcc': 0.753, 'pres': 0.878, 'recall': 0.875, 'f1': 0.875, 'i': 2.0, 'repeat_seed': 32.0}\n",
      "################################################## repeat_seed: 32; fold_02 ##################################################\n",
      "\n",
      " input train and test X shape is (209, 24, 23, 13), (23, 24, 23, 13) \n",
      "roc-auc: 0.985, mcc: 0.837, pres: 0.925, recall: 0.913, f1: 0.912\n",
      "{'auc': 0.985, 'mcc': 0.837, 'pres': 0.925, 'recall': 0.913, 'f1': 0.912, 'i': 2.0, 'repeat_seed': 32.0}\n",
      "################################################## repeat_seed: 32; fold_03 ##################################################\n",
      "\n",
      " input train and test X shape is (209, 24, 23, 13), (23, 24, 23, 13) \n",
      "roc-auc: 0.860, mcc: 0.659, pres: 0.835, recall: 0.826, f1: 0.824\n",
      "{'auc': 0.86, 'mcc': 0.659, 'pres': 0.835, 'recall': 0.826, 'f1': 0.824, 'i': 2.0, 'repeat_seed': 32.0}\n",
      "################################################## repeat_seed: 32; fold_04 ##################################################\n",
      "\n",
      " input train and test X shape is (209, 24, 23, 13), (23, 24, 23, 13) \n",
      "roc-auc: 0.985, mcc: 0.826, pres: 0.913, recall: 0.913, f1: 0.913\n",
      "{'auc': 0.985, 'mcc': 0.826, 'pres': 0.913, 'recall': 0.913, 'f1': 0.913, 'i': 2.0, 'repeat_seed': 32.0}\n",
      "################################################## repeat_seed: 32; fold_05 ##################################################\n",
      "\n",
      " input train and test X shape is (209, 24, 23, 13), (23, 24, 23, 13) \n",
      "roc-auc: 0.909, mcc: 0.742, pres: 0.873, recall: 0.870, f1: 0.870\n",
      "{'auc': 0.909, 'mcc': 0.742, 'pres': 0.873, 'recall': 0.87, 'f1': 0.87, 'i': 2.0, 'repeat_seed': 32.0}\n",
      "################################################## repeat_seed: 32; fold_06 ##################################################\n",
      "\n",
      " input train and test X shape is (209, 24, 23, 13), (23, 24, 23, 13) \n",
      "roc-auc: 0.947, mcc: 0.742, pres: 0.873, recall: 0.870, f1: 0.870\n",
      "{'auc': 0.947, 'mcc': 0.742, 'pres': 0.873, 'recall': 0.87, 'f1': 0.87, 'i': 2.0, 'repeat_seed': 32.0}\n",
      "################################################## repeat_seed: 32; fold_07 ##################################################\n",
      "\n",
      " input train and test X shape is (209, 24, 23, 13), (23, 24, 23, 13) \n",
      "roc-auc: 1.000, mcc: 1.000, pres: 1.000, recall: 1.000, f1: 1.000\n",
      "{'auc': 1.0, 'mcc': 1.0, 'pres': 1.0, 'recall': 1.0, 'f1': 1.0, 'i': 2.0, 'repeat_seed': 32.0}\n",
      "################################################## repeat_seed: 32; fold_08 ##################################################\n",
      "\n",
      " input train and test X shape is (209, 24, 23, 13), (23, 24, 23, 13) \n",
      "roc-auc: 0.932, mcc: 0.826, pres: 0.913, recall: 0.913, f1: 0.913\n",
      "{'auc': 0.932, 'mcc': 0.826, 'pres': 0.913, 'recall': 0.913, 'f1': 0.913, 'i': 2.0, 'repeat_seed': 32.0}\n",
      "################################################## repeat_seed: 32; fold_09 ##################################################\n",
      "\n",
      " input train and test X shape is (209, 24, 23, 13), (23, 24, 23, 13) \n",
      "roc-auc: 0.947, mcc: 0.565, pres: 0.784, recall: 0.783, f1: 0.782\n",
      "{'auc': 0.947, 'mcc': 0.565, 'pres': 0.784, 'recall': 0.783, 'f1': 0.782, 'i': 2.0, 'repeat_seed': 32.0}\n",
      "################################################## repeat_seed: 64; fold_00 ##################################################\n",
      "\n",
      " input train and test X shape is (208, 24, 23, 13), (24, 24, 23, 13) \n",
      "roc-auc: 0.972, mcc: 0.775, pres: 0.900, recall: 0.875, f1: 0.873\n",
      "{'auc': 0.972, 'mcc': 0.775, 'pres': 0.9, 'recall': 0.875, 'f1': 0.873, 'i': 3.0, 'repeat_seed': 64.0}\n",
      "################################################## repeat_seed: 64; fold_01 ##################################################\n",
      "\n",
      " input train and test X shape is (208, 24, 23, 13), (24, 24, 23, 13) \n",
      "roc-auc: 0.965, mcc: 0.676, pres: 0.843, recall: 0.833, f1: 0.832\n",
      "{'auc': 0.965, 'mcc': 0.676, 'pres': 0.843, 'recall': 0.833, 'f1': 0.832, 'i': 3.0, 'repeat_seed': 64.0}\n",
      "################################################## repeat_seed: 64; fold_02 ##################################################\n",
      "\n",
      " input train and test X shape is (209, 24, 23, 13), (23, 24, 23, 13) \n",
      "roc-auc: 1.000, mcc: 1.000, pres: 1.000, recall: 1.000, f1: 1.000\n",
      "{'auc': 1.0, 'mcc': 1.0, 'pres': 1.0, 'recall': 1.0, 'f1': 1.0, 'i': 3.0, 'repeat_seed': 64.0}\n",
      "################################################## repeat_seed: 64; fold_03 ##################################################\n",
      "\n",
      " input train and test X shape is (209, 24, 23, 13), (23, 24, 23, 13) \n",
      "roc-auc: 0.902, mcc: 0.826, pres: 0.913, recall: 0.913, f1: 0.913\n",
      "{'auc': 0.902, 'mcc': 0.826, 'pres': 0.913, 'recall': 0.913, 'f1': 0.913, 'i': 3.0, 'repeat_seed': 64.0}\n",
      "################################################## repeat_seed: 64; fold_04 ##################################################\n",
      "\n",
      " input train and test X shape is (209, 24, 23, 13), (23, 24, 23, 13) \n",
      "roc-auc: 0.932, mcc: 0.740, pres: 0.872, recall: 0.870, f1: 0.869\n",
      "{'auc': 0.932, 'mcc': 0.74, 'pres': 0.872, 'recall': 0.87, 'f1': 0.869, 'i': 3.0, 'repeat_seed': 64.0}\n",
      "################################################## repeat_seed: 64; fold_05 ##################################################\n",
      "\n",
      " input train and test X shape is (209, 24, 23, 13), (23, 24, 23, 13) \n",
      "roc-auc: 0.924, mcc: 0.652, pres: 0.826, recall: 0.826, f1: 0.826\n",
      "{'auc': 0.924, 'mcc': 0.652, 'pres': 0.826, 'recall': 0.826, 'f1': 0.826, 'i': 3.0, 'repeat_seed': 64.0}\n",
      "################################################## repeat_seed: 64; fold_06 ##################################################\n",
      "\n",
      " input train and test X shape is (209, 24, 23, 13), (23, 24, 23, 13) \n",
      "roc-auc: 0.871, mcc: 0.742, pres: 0.873, recall: 0.870, f1: 0.870\n",
      "{'auc': 0.871, 'mcc': 0.742, 'pres': 0.873, 'recall': 0.87, 'f1': 0.87, 'i': 3.0, 'repeat_seed': 64.0}\n",
      "################################################## repeat_seed: 64; fold_07 ##################################################\n",
      "\n",
      " input train and test X shape is (209, 24, 23, 13), (23, 24, 23, 13) \n",
      "roc-auc: 1.000, mcc: 0.840, pres: 0.926, recall: 0.913, f1: 0.913\n",
      "{'auc': 1.0, 'mcc': 0.84, 'pres': 0.926, 'recall': 0.913, 'f1': 0.913, 'i': 3.0, 'repeat_seed': 64.0}\n",
      "################################################## repeat_seed: 64; fold_08 ##################################################\n",
      "\n",
      " input train and test X shape is (209, 24, 23, 13), (23, 24, 23, 13) \n",
      "roc-auc: 0.947, mcc: 0.740, pres: 0.872, recall: 0.870, f1: 0.869\n",
      "{'auc': 0.947, 'mcc': 0.74, 'pres': 0.872, 'recall': 0.87, 'f1': 0.869, 'i': 3.0, 'repeat_seed': 64.0}\n",
      "################################################## repeat_seed: 64; fold_09 ##################################################\n",
      "\n",
      " input train and test X shape is (209, 24, 23, 13), (23, 24, 23, 13) \n",
      "roc-auc: 0.932, mcc: 0.742, pres: 0.873, recall: 0.870, f1: 0.870\n",
      "{'auc': 0.932, 'mcc': 0.742, 'pres': 0.873, 'recall': 0.87, 'f1': 0.87, 'i': 3.0, 'repeat_seed': 64.0}\n",
      "################################################## repeat_seed: 128; fold_00 ##################################################\n",
      "\n",
      " input train and test X shape is (208, 24, 23, 13), (24, 24, 23, 13) \n",
      "roc-auc: 0.986, mcc: 0.833, pres: 0.917, recall: 0.917, f1: 0.917\n",
      "{'auc': 0.986, 'mcc': 0.833, 'pres': 0.917, 'recall': 0.917, 'f1': 0.917, 'i': 4.0, 'repeat_seed': 128.0}\n",
      "################################################## repeat_seed: 128; fold_01 ##################################################\n",
      "\n",
      " input train and test X shape is (208, 24, 23, 13), (24, 24, 23, 13) \n",
      "roc-auc: 0.892, mcc: 0.753, pres: 0.878, recall: 0.875, f1: 0.875\n",
      "{'auc': 0.892, 'mcc': 0.753, 'pres': 0.878, 'recall': 0.875, 'f1': 0.875, 'i': 4.0, 'repeat_seed': 128.0}\n",
      "################################################## repeat_seed: 128; fold_02 ##################################################\n",
      "\n",
      " input train and test X shape is (209, 24, 23, 13), (23, 24, 23, 13) \n",
      "roc-auc: 0.902, mcc: 0.565, pres: 0.784, recall: 0.783, f1: 0.782\n",
      "{'auc': 0.902, 'mcc': 0.565, 'pres': 0.784, 'recall': 0.783, 'f1': 0.782, 'i': 4.0, 'repeat_seed': 128.0}\n",
      "################################################## repeat_seed: 128; fold_03 ##################################################\n",
      "\n",
      " input train and test X shape is (209, 24, 23, 13), (23, 24, 23, 13) \n",
      "roc-auc: 1.000, mcc: 1.000, pres: 1.000, recall: 1.000, f1: 1.000\n",
      "{'auc': 1.0, 'mcc': 1.0, 'pres': 1.0, 'recall': 1.0, 'f1': 1.0, 'i': 4.0, 'repeat_seed': 128.0}\n",
      "################################################## repeat_seed: 128; fold_04 ##################################################\n",
      "\n",
      " input train and test X shape is (209, 24, 23, 13), (23, 24, 23, 13) \n",
      "roc-auc: 0.924, mcc: 0.768, pres: 0.898, recall: 0.870, f1: 0.868\n",
      "{'auc': 0.924, 'mcc': 0.768, 'pres': 0.898, 'recall': 0.87, 'f1': 0.868, 'i': 4.0, 'repeat_seed': 128.0}\n",
      "################################################## repeat_seed: 128; fold_05 ##################################################\n",
      "\n",
      " input train and test X shape is (209, 24, 23, 13), (23, 24, 23, 13) \n",
      "roc-auc: 1.000, mcc: 1.000, pres: 1.000, recall: 1.000, f1: 1.000\n",
      "{'auc': 1.0, 'mcc': 1.0, 'pres': 1.0, 'recall': 1.0, 'f1': 1.0, 'i': 4.0, 'repeat_seed': 128.0}\n",
      "################################################## repeat_seed: 128; fold_06 ##################################################\n",
      "\n",
      " input train and test X shape is (209, 24, 23, 13), (23, 24, 23, 13) \n",
      "roc-auc: 0.970, mcc: 0.768, pres: 0.898, recall: 0.870, f1: 0.868\n",
      "{'auc': 0.97, 'mcc': 0.768, 'pres': 0.898, 'recall': 0.87, 'f1': 0.868, 'i': 4.0, 'repeat_seed': 128.0}\n",
      "################################################## repeat_seed: 128; fold_07 ##################################################\n",
      "\n",
      " input train and test X shape is (209, 24, 23, 13), (23, 24, 23, 13) \n",
      "roc-auc: 0.985, mcc: 0.917, pres: 0.960, recall: 0.957, f1: 0.957\n",
      "{'auc': 0.985, 'mcc': 0.917, 'pres': 0.96, 'recall': 0.957, 'f1': 0.957, 'i': 4.0, 'repeat_seed': 128.0}\n",
      "################################################## repeat_seed: 128; fold_08 ##################################################\n",
      "\n",
      " input train and test X shape is (209, 24, 23, 13), (23, 24, 23, 13) \n",
      "roc-auc: 0.932, mcc: 0.742, pres: 0.873, recall: 0.870, f1: 0.870\n",
      "{'auc': 0.932, 'mcc': 0.742, 'pres': 0.873, 'recall': 0.87, 'f1': 0.87, 'i': 4.0, 'repeat_seed': 128.0}\n",
      "################################################## repeat_seed: 128; fold_09 ##################################################\n",
      "\n",
      " input train and test X shape is (209, 24, 23, 13), (23, 24, 23, 13) \n",
      "roc-auc: 0.909, mcc: 0.659, pres: 0.835, recall: 0.826, f1: 0.824\n",
      "{'auc': 0.909, 'mcc': 0.659, 'pres': 0.835, 'recall': 0.826, 'f1': 0.824, 'i': 4.0, 'repeat_seed': 128.0}\n",
      "################################################## repeat_seed: 256; fold_00 ##################################################\n",
      "\n",
      " input train and test X shape is (208, 24, 23, 13), (24, 24, 23, 13) \n",
      "roc-auc: 0.944, mcc: 0.676, pres: 0.843, recall: 0.833, f1: 0.832\n",
      "{'auc': 0.944, 'mcc': 0.676, 'pres': 0.843, 'recall': 0.833, 'f1': 0.832, 'i': 5.0, 'repeat_seed': 256.0}\n",
      "################################################## repeat_seed: 256; fold_01 ##################################################\n",
      "\n",
      " input train and test X shape is (208, 24, 23, 13), (24, 24, 23, 13) \n",
      "roc-auc: 0.951, mcc: 0.920, pres: 0.962, recall: 0.958, f1: 0.958\n",
      "{'auc': 0.951, 'mcc': 0.92, 'pres': 0.962, 'recall': 0.958, 'f1': 0.958, 'i': 5.0, 'repeat_seed': 256.0}\n",
      "################################################## repeat_seed: 256; fold_02 ##################################################\n",
      "\n",
      " input train and test X shape is (209, 24, 23, 13), (23, 24, 23, 13) \n",
      "roc-auc: 0.970, mcc: 0.826, pres: 0.913, recall: 0.913, f1: 0.913\n",
      "{'auc': 0.97, 'mcc': 0.826, 'pres': 0.913, 'recall': 0.913, 'f1': 0.913, 'i': 5.0, 'repeat_seed': 256.0}\n",
      "################################################## repeat_seed: 256; fold_03 ##################################################\n",
      "\n",
      " input train and test X shape is (209, 24, 23, 13), (23, 24, 23, 13) \n",
      "roc-auc: 0.970, mcc: 0.826, pres: 0.913, recall: 0.913, f1: 0.913\n",
      "{'auc': 0.97, 'mcc': 0.826, 'pres': 0.913, 'recall': 0.913, 'f1': 0.913, 'i': 5.0, 'repeat_seed': 256.0}\n",
      "################################################## repeat_seed: 256; fold_04 ##################################################\n",
      "\n",
      " input train and test X shape is (209, 24, 23, 13), (23, 24, 23, 13) \n",
      "roc-auc: 0.992, mcc: 0.916, pres: 0.960, recall: 0.957, f1: 0.956\n",
      "{'auc': 0.992, 'mcc': 0.916, 'pres': 0.96, 'recall': 0.957, 'f1': 0.956, 'i': 5.0, 'repeat_seed': 256.0}\n",
      "################################################## repeat_seed: 256; fold_05 ##################################################\n",
      "\n",
      " input train and test X shape is (209, 24, 23, 13), (23, 24, 23, 13) \n",
      "roc-auc: 0.992, mcc: 0.917, pres: 0.960, recall: 0.957, f1: 0.957\n",
      "{'auc': 0.992, 'mcc': 0.917, 'pres': 0.96, 'recall': 0.957, 'f1': 0.957, 'i': 5.0, 'repeat_seed': 256.0}\n",
      "################################################## repeat_seed: 256; fold_06 ##################################################\n",
      "\n",
      " input train and test X shape is (209, 24, 23, 13), (23, 24, 23, 13) \n",
      "roc-auc: 0.864, mcc: 0.742, pres: 0.873, recall: 0.870, f1: 0.870\n",
      "{'auc': 0.864, 'mcc': 0.742, 'pres': 0.873, 'recall': 0.87, 'f1': 0.87, 'i': 5.0, 'repeat_seed': 256.0}\n",
      "################################################## repeat_seed: 256; fold_07 ##################################################\n",
      "\n",
      " input train and test X shape is (209, 24, 23, 13), (23, 24, 23, 13) \n",
      "roc-auc: 0.939, mcc: 0.840, pres: 0.926, recall: 0.913, f1: 0.913\n",
      "{'auc': 0.939, 'mcc': 0.84, 'pres': 0.926, 'recall': 0.913, 'f1': 0.913, 'i': 5.0, 'repeat_seed': 256.0}\n",
      "################################################## repeat_seed: 256; fold_08 ##################################################\n",
      "\n",
      " input train and test X shape is (209, 24, 23, 13), (23, 24, 23, 13) \n",
      "roc-auc: 0.924, mcc: 0.589, pres: 0.805, recall: 0.783, f1: 0.780\n",
      "{'auc': 0.924, 'mcc': 0.589, 'pres': 0.805, 'recall': 0.783, 'f1': 0.78, 'i': 5.0, 'repeat_seed': 256.0}\n",
      "################################################## repeat_seed: 256; fold_09 ##################################################\n",
      "\n",
      " input train and test X shape is (209, 24, 23, 13), (23, 24, 23, 13) \n",
      "roc-auc: 0.977, mcc: 0.840, pres: 0.926, recall: 0.913, f1: 0.913\n",
      "{'auc': 0.977, 'mcc': 0.84, 'pres': 0.926, 'recall': 0.913, 'f1': 0.913, 'i': 5.0, 'repeat_seed': 256.0}\n",
      "################################################## repeat_seed: 1024; fold_00 ##################################################\n",
      "\n",
      " input train and test X shape is (208, 24, 23, 13), (24, 24, 23, 13) \n",
      "roc-auc: 0.979, mcc: 0.845, pres: 0.929, recall: 0.917, f1: 0.916\n",
      "{'auc': 0.979, 'mcc': 0.845, 'pres': 0.929, 'recall': 0.917, 'f1': 0.916, 'i': 6.0, 'repeat_seed': 1024.0}\n",
      "################################################## repeat_seed: 1024; fold_01 ##################################################\n",
      "\n",
      " input train and test X shape is (208, 24, 23, 13), (24, 24, 23, 13) \n",
      "roc-auc: 0.937, mcc: 0.707, pres: 0.875, recall: 0.833, f1: 0.829\n",
      "{'auc': 0.937, 'mcc': 0.707, 'pres': 0.875, 'recall': 0.833, 'f1': 0.829, 'i': 6.0, 'repeat_seed': 1024.0}\n",
      "################################################## repeat_seed: 1024; fold_02 ##################################################\n",
      "\n",
      " input train and test X shape is (209, 24, 23, 13), (23, 24, 23, 13) \n",
      "roc-auc: 0.992, mcc: 0.916, pres: 0.960, recall: 0.957, f1: 0.956\n",
      "{'auc': 0.992, 'mcc': 0.916, 'pres': 0.96, 'recall': 0.957, 'f1': 0.956, 'i': 6.0, 'repeat_seed': 1024.0}\n",
      "################################################## repeat_seed: 1024; fold_03 ##################################################\n",
      "\n",
      " input train and test X shape is (209, 24, 23, 13), (23, 24, 23, 13) \n",
      "roc-auc: 0.917, mcc: 0.664, pres: 0.837, recall: 0.826, f1: 0.825\n",
      "{'auc': 0.917, 'mcc': 0.664, 'pres': 0.837, 'recall': 0.826, 'f1': 0.825, 'i': 6.0, 'repeat_seed': 1024.0}\n",
      "################################################## repeat_seed: 1024; fold_04 ##################################################\n",
      "\n",
      " input train and test X shape is (209, 24, 23, 13), (23, 24, 23, 13) \n",
      "roc-auc: 0.864, mcc: 0.742, pres: 0.873, recall: 0.870, f1: 0.870\n",
      "{'auc': 0.864, 'mcc': 0.742, 'pres': 0.873, 'recall': 0.87, 'f1': 0.87, 'i': 6.0, 'repeat_seed': 1024.0}\n",
      "################################################## repeat_seed: 1024; fold_05 ##################################################\n",
      "\n",
      " input train and test X shape is (209, 24, 23, 13), (23, 24, 23, 13) \n",
      "roc-auc: 0.864, mcc: 0.664, pres: 0.837, recall: 0.826, f1: 0.825\n",
      "{'auc': 0.864, 'mcc': 0.664, 'pres': 0.837, 'recall': 0.826, 'f1': 0.825, 'i': 6.0, 'repeat_seed': 1024.0}\n",
      "################################################## repeat_seed: 1024; fold_06 ##################################################\n",
      "\n",
      " input train and test X shape is (209, 24, 23, 13), (23, 24, 23, 13) \n",
      "roc-auc: 0.985, mcc: 0.840, pres: 0.926, recall: 0.913, f1: 0.913\n",
      "{'auc': 0.985, 'mcc': 0.84, 'pres': 0.926, 'recall': 0.913, 'f1': 0.913, 'i': 6.0, 'repeat_seed': 1024.0}\n",
      "################################################## repeat_seed: 1024; fold_07 ##################################################\n",
      "\n",
      " input train and test X shape is (209, 24, 23, 13), (23, 24, 23, 13) \n",
      "roc-auc: 0.977, mcc: 0.742, pres: 0.873, recall: 0.870, f1: 0.870\n",
      "{'auc': 0.977, 'mcc': 0.742, 'pres': 0.873, 'recall': 0.87, 'f1': 0.87, 'i': 6.0, 'repeat_seed': 1024.0}\n",
      "################################################## repeat_seed: 1024; fold_08 ##################################################\n",
      "\n",
      " input train and test X shape is (209, 24, 23, 13), (23, 24, 23, 13) \n",
      "roc-auc: 1.000, mcc: 1.000, pres: 1.000, recall: 1.000, f1: 1.000\n",
      "{'auc': 1.0, 'mcc': 1.0, 'pres': 1.0, 'recall': 1.0, 'f1': 1.0, 'i': 6.0, 'repeat_seed': 1024.0}\n",
      "################################################## repeat_seed: 1024; fold_09 ##################################################\n",
      "\n",
      " input train and test X shape is (209, 24, 23, 13), (23, 24, 23, 13) \n",
      "roc-auc: 0.992, mcc: 0.917, pres: 0.960, recall: 0.957, f1: 0.957\n",
      "{'auc': 0.992, 'mcc': 0.917, 'pres': 0.96, 'recall': 0.957, 'f1': 0.957, 'i': 6.0, 'repeat_seed': 1024.0}\n",
      "################################################## repeat_seed: 2048; fold_00 ##################################################\n",
      "\n",
      " input train and test X shape is (208, 24, 23, 13), (24, 24, 23, 13) \n",
      "roc-auc: 0.965, mcc: 0.753, pres: 0.878, recall: 0.875, f1: 0.875\n",
      "{'auc': 0.965, 'mcc': 0.753, 'pres': 0.878, 'recall': 0.875, 'f1': 0.875, 'i': 7.0, 'repeat_seed': 2048.0}\n",
      "################################################## repeat_seed: 2048; fold_01 ##################################################\n",
      "\n",
      " input train and test X shape is (208, 24, 23, 13), (24, 24, 23, 13) \n",
      "roc-auc: 0.882, mcc: 0.753, pres: 0.878, recall: 0.875, f1: 0.875\n",
      "{'auc': 0.882, 'mcc': 0.753, 'pres': 0.878, 'recall': 0.875, 'f1': 0.875, 'i': 7.0, 'repeat_seed': 2048.0}\n",
      "################################################## repeat_seed: 2048; fold_02 ##################################################\n",
      "\n",
      " input train and test X shape is (209, 24, 23, 13), (23, 24, 23, 13) \n",
      "roc-auc: 0.947, mcc: 0.763, pres: 0.896, recall: 0.870, f1: 0.867\n",
      "{'auc': 0.947, 'mcc': 0.763, 'pres': 0.896, 'recall': 0.87, 'f1': 0.867, 'i': 7.0, 'repeat_seed': 2048.0}\n",
      "################################################## repeat_seed: 2048; fold_03 ##################################################\n",
      "\n",
      " input train and test X shape is (209, 24, 23, 13), (23, 24, 23, 13) \n",
      "roc-auc: 1.000, mcc: 1.000, pres: 1.000, recall: 1.000, f1: 1.000\n",
      "{'auc': 1.0, 'mcc': 1.0, 'pres': 1.0, 'recall': 1.0, 'f1': 1.0, 'i': 7.0, 'repeat_seed': 2048.0}\n",
      "################################################## repeat_seed: 2048; fold_04 ##################################################\n",
      "\n",
      " input train and test X shape is (209, 24, 23, 13), (23, 24, 23, 13) \n",
      "roc-auc: 0.992, mcc: 0.840, pres: 0.926, recall: 0.913, f1: 0.913\n",
      "{'auc': 0.992, 'mcc': 0.84, 'pres': 0.926, 'recall': 0.913, 'f1': 0.913, 'i': 7.0, 'repeat_seed': 2048.0}\n",
      "################################################## repeat_seed: 2048; fold_05 ##################################################\n",
      "\n",
      " input train and test X shape is (209, 24, 23, 13), (23, 24, 23, 13) \n",
      "roc-auc: 0.803, mcc: 0.477, pres: 0.739, recall: 0.739, f1: 0.739\n",
      "{'auc': 0.803, 'mcc': 0.477, 'pres': 0.739, 'recall': 0.739, 'f1': 0.739, 'i': 7.0, 'repeat_seed': 2048.0}\n",
      "################################################## repeat_seed: 2048; fold_06 ##################################################\n",
      "\n",
      " input train and test X shape is (209, 24, 23, 13), (23, 24, 23, 13) \n",
      "roc-auc: 0.970, mcc: 0.917, pres: 0.960, recall: 0.957, f1: 0.957\n",
      "{'auc': 0.97, 'mcc': 0.917, 'pres': 0.96, 'recall': 0.957, 'f1': 0.957, 'i': 7.0, 'repeat_seed': 2048.0}\n",
      "################################################## repeat_seed: 2048; fold_07 ##################################################\n",
      "\n",
      " input train and test X shape is (209, 24, 23, 13), (23, 24, 23, 13) \n",
      "roc-auc: 1.000, mcc: 0.916, pres: 0.960, recall: 0.957, f1: 0.956\n",
      "{'auc': 1.0, 'mcc': 0.916, 'pres': 0.96, 'recall': 0.957, 'f1': 0.956, 'i': 7.0, 'repeat_seed': 2048.0}\n",
      "################################################## repeat_seed: 2048; fold_08 ##################################################\n",
      "\n",
      " input train and test X shape is (209, 24, 23, 13), (23, 24, 23, 13) \n",
      "roc-auc: 0.962, mcc: 0.742, pres: 0.873, recall: 0.870, f1: 0.870\n",
      "{'auc': 0.962, 'mcc': 0.742, 'pres': 0.873, 'recall': 0.87, 'f1': 0.87, 'i': 7.0, 'repeat_seed': 2048.0}\n",
      "################################################## repeat_seed: 2048; fold_09 ##################################################\n",
      "\n",
      " input train and test X shape is (209, 24, 23, 13), (23, 24, 23, 13) \n",
      "roc-auc: 0.992, mcc: 0.826, pres: 0.913, recall: 0.913, f1: 0.913\n",
      "{'auc': 0.992, 'mcc': 0.826, 'pres': 0.913, 'recall': 0.913, 'f1': 0.913, 'i': 7.0, 'repeat_seed': 2048.0}\n",
      "################################################## repeat_seed: 4096; fold_00 ##################################################\n",
      "\n",
      " input train and test X shape is (208, 24, 23, 13), (24, 24, 23, 13) \n",
      "roc-auc: 0.819, mcc: 0.507, pres: 0.757, recall: 0.750, f1: 0.748\n",
      "{'auc': 0.819, 'mcc': 0.507, 'pres': 0.757, 'recall': 0.75, 'f1': 0.748, 'i': 8.0, 'repeat_seed': 4096.0}\n",
      "################################################## repeat_seed: 4096; fold_01 ##################################################\n",
      "\n",
      " input train and test X shape is (208, 24, 23, 13), (24, 24, 23, 13) \n",
      "roc-auc: 0.965, mcc: 0.775, pres: 0.900, recall: 0.875, f1: 0.873\n",
      "{'auc': 0.965, 'mcc': 0.775, 'pres': 0.9, 'recall': 0.875, 'f1': 0.873, 'i': 8.0, 'repeat_seed': 4096.0}\n",
      "################################################## repeat_seed: 4096; fold_02 ##################################################\n",
      "\n",
      " input train and test X shape is (209, 24, 23, 13), (23, 24, 23, 13) \n",
      "roc-auc: 0.955, mcc: 0.826, pres: 0.913, recall: 0.913, f1: 0.913\n",
      "{'auc': 0.955, 'mcc': 0.826, 'pres': 0.913, 'recall': 0.913, 'f1': 0.913, 'i': 8.0, 'repeat_seed': 4096.0}\n",
      "################################################## repeat_seed: 4096; fold_03 ##################################################\n",
      "\n",
      " input train and test X shape is (209, 24, 23, 13), (23, 24, 23, 13) \n",
      "roc-auc: 0.924, mcc: 0.481, pres: 0.745, recall: 0.739, f1: 0.736\n",
      "{'auc': 0.924, 'mcc': 0.481, 'pres': 0.745, 'recall': 0.739, 'f1': 0.736, 'i': 8.0, 'repeat_seed': 4096.0}\n",
      "################################################## repeat_seed: 4096; fold_04 ##################################################\n",
      "\n",
      " input train and test X shape is (209, 24, 23, 13), (23, 24, 23, 13) \n",
      "roc-auc: 1.000, mcc: 1.000, pres: 1.000, recall: 1.000, f1: 1.000\n",
      "{'auc': 1.0, 'mcc': 1.0, 'pres': 1.0, 'recall': 1.0, 'f1': 1.0, 'i': 8.0, 'repeat_seed': 4096.0}\n",
      "################################################## repeat_seed: 4096; fold_05 ##################################################\n",
      "\n",
      " input train and test X shape is (209, 24, 23, 13), (23, 24, 23, 13) \n",
      "roc-auc: 0.886, mcc: 0.742, pres: 0.873, recall: 0.870, f1: 0.870\n",
      "{'auc': 0.886, 'mcc': 0.742, 'pres': 0.873, 'recall': 0.87, 'f1': 0.87, 'i': 8.0, 'repeat_seed': 4096.0}\n",
      "################################################## repeat_seed: 4096; fold_06 ##################################################\n",
      "\n",
      " input train and test X shape is (209, 24, 23, 13), (23, 24, 23, 13) \n",
      "roc-auc: 0.985, mcc: 0.917, pres: 0.960, recall: 0.957, f1: 0.957\n",
      "{'auc': 0.985, 'mcc': 0.917, 'pres': 0.96, 'recall': 0.957, 'f1': 0.957, 'i': 8.0, 'repeat_seed': 4096.0}\n",
      "################################################## repeat_seed: 4096; fold_07 ##################################################\n",
      "\n",
      " input train and test X shape is (209, 24, 23, 13), (23, 24, 23, 13) \n",
      "roc-auc: 0.955, mcc: 0.742, pres: 0.873, recall: 0.870, f1: 0.870\n",
      "{'auc': 0.955, 'mcc': 0.742, 'pres': 0.873, 'recall': 0.87, 'f1': 0.87, 'i': 8.0, 'repeat_seed': 4096.0}\n",
      "################################################## repeat_seed: 4096; fold_08 ##################################################\n",
      "\n",
      " input train and test X shape is (209, 24, 23, 13), (23, 24, 23, 13) \n",
      "roc-auc: 0.970, mcc: 0.740, pres: 0.872, recall: 0.870, f1: 0.869\n",
      "{'auc': 0.97, 'mcc': 0.74, 'pres': 0.872, 'recall': 0.87, 'f1': 0.869, 'i': 8.0, 'repeat_seed': 4096.0}\n",
      "################################################## repeat_seed: 4096; fold_09 ##################################################\n",
      "\n",
      " input train and test X shape is (209, 24, 23, 13), (23, 24, 23, 13) \n",
      "roc-auc: 0.962, mcc: 0.826, pres: 0.913, recall: 0.913, f1: 0.913\n",
      "{'auc': 0.962, 'mcc': 0.826, 'pres': 0.913, 'recall': 0.913, 'f1': 0.913, 'i': 8.0, 'repeat_seed': 4096.0}\n",
      "################################################## repeat_seed: 8192; fold_00 ##################################################\n",
      "\n",
      " input train and test X shape is (208, 24, 23, 13), (24, 24, 23, 13) \n",
      "roc-auc: 0.979, mcc: 0.920, pres: 0.962, recall: 0.958, f1: 0.958\n",
      "{'auc': 0.979, 'mcc': 0.92, 'pres': 0.962, 'recall': 0.958, 'f1': 0.958, 'i': 9.0, 'repeat_seed': 8192.0}\n",
      "################################################## repeat_seed: 8192; fold_01 ##################################################\n",
      "\n",
      " input train and test X shape is (208, 24, 23, 13), (24, 24, 23, 13) \n",
      "roc-auc: 0.951, mcc: 0.707, pres: 0.875, recall: 0.833, f1: 0.829\n",
      "{'auc': 0.951, 'mcc': 0.707, 'pres': 0.875, 'recall': 0.833, 'f1': 0.829, 'i': 9.0, 'repeat_seed': 8192.0}\n",
      "################################################## repeat_seed: 8192; fold_02 ##################################################\n",
      "\n",
      " input train and test X shape is (209, 24, 23, 13), (23, 24, 23, 13) \n",
      "roc-auc: 0.924, mcc: 0.664, pres: 0.837, recall: 0.826, f1: 0.825\n",
      "{'auc': 0.924, 'mcc': 0.664, 'pres': 0.837, 'recall': 0.826, 'f1': 0.825, 'i': 9.0, 'repeat_seed': 8192.0}\n",
      "################################################## repeat_seed: 8192; fold_03 ##################################################\n",
      "\n",
      " input train and test X shape is (209, 24, 23, 13), (23, 24, 23, 13) \n",
      "roc-auc: 0.883, mcc: 0.826, pres: 0.913, recall: 0.913, f1: 0.913\n",
      "{'auc': 0.883, 'mcc': 0.826, 'pres': 0.913, 'recall': 0.913, 'f1': 0.913, 'i': 9.0, 'repeat_seed': 8192.0}\n",
      "################################################## repeat_seed: 8192; fold_04 ##################################################\n",
      "\n",
      " input train and test X shape is (209, 24, 23, 13), (23, 24, 23, 13) \n",
      "roc-auc: 1.000, mcc: 0.917, pres: 0.960, recall: 0.957, f1: 0.957\n",
      "{'auc': 1.0, 'mcc': 0.917, 'pres': 0.96, 'recall': 0.957, 'f1': 0.957, 'i': 9.0, 'repeat_seed': 8192.0}\n",
      "################################################## repeat_seed: 8192; fold_05 ##################################################\n",
      "\n",
      " input train and test X shape is (209, 24, 23, 13), (23, 24, 23, 13) \n",
      "roc-auc: 0.879, mcc: 0.516, pres: 0.775, recall: 0.739, f1: 0.733\n",
      "{'auc': 0.879, 'mcc': 0.516, 'pres': 0.775, 'recall': 0.739, 'f1': 0.733, 'i': 9.0, 'repeat_seed': 8192.0}\n",
      "################################################## repeat_seed: 8192; fold_06 ##################################################\n",
      "\n",
      " input train and test X shape is (209, 24, 23, 13), (23, 24, 23, 13) \n",
      "roc-auc: 0.977, mcc: 0.826, pres: 0.913, recall: 0.913, f1: 0.913\n",
      "{'auc': 0.977, 'mcc': 0.826, 'pres': 0.913, 'recall': 0.913, 'f1': 0.913, 'i': 9.0, 'repeat_seed': 8192.0}\n",
      "################################################## repeat_seed: 8192; fold_07 ##################################################\n",
      "\n",
      " input train and test X shape is (209, 24, 23, 13), (23, 24, 23, 13) \n",
      "roc-auc: 1.000, mcc: 0.840, pres: 0.926, recall: 0.913, f1: 0.913\n",
      "{'auc': 1.0, 'mcc': 0.84, 'pres': 0.926, 'recall': 0.913, 'f1': 0.913, 'i': 9.0, 'repeat_seed': 8192.0}\n",
      "################################################## repeat_seed: 8192; fold_08 ##################################################\n",
      "\n",
      " input train and test X shape is (209, 24, 23, 13), (23, 24, 23, 13) \n",
      "roc-auc: 0.985, mcc: 0.740, pres: 0.872, recall: 0.870, f1: 0.869\n",
      "{'auc': 0.985, 'mcc': 0.74, 'pres': 0.872, 'recall': 0.87, 'f1': 0.869, 'i': 9.0, 'repeat_seed': 8192.0}\n",
      "################################################## repeat_seed: 8192; fold_09 ##################################################\n",
      "\n",
      " input train and test X shape is (209, 24, 23, 13), (23, 24, 23, 13) \n",
      "roc-auc: 0.970, mcc: 0.840, pres: 0.926, recall: 0.913, f1: 0.913\n",
      "{'auc': 0.97, 'mcc': 0.84, 'pres': 0.926, 'recall': 0.913, 'f1': 0.913, 'i': 9.0, 'repeat_seed': 8192.0}\n"
     ]
    }
   ],
   "source": [
    "gpuid = 7\n",
    "\n",
    "outer_fold = 10\n",
    "repeat_seeds = [8, 16, 32, 64, 128, 256, 1024, 2048, 4096, 8192] #10 repeats random seeds 8, 16, 32, 64, 128\n",
    "\n",
    "each_fold_results = []\n",
    "run_all_res = []\n",
    "\n",
    "for i, repeat_seed in enumerate(repeat_seeds): \n",
    "    outer = StratifiedKFold(n_splits = outer_fold, shuffle = True, random_state = repeat_seed)\n",
    "    outer_idx = outer.split(range(len(dfy)), dfy.idxmax(axis=1))\n",
    "    run_one_res = []\n",
    "    for j, idx in enumerate(outer_idx):\n",
    "        fold_num = \"fold_%s\" % str(j).zfill(2) \n",
    "        print('#'*50 + ' repeat_seed: %s; %s ' % (repeat_seed, fold_num) + '#'*50 )\n",
    "        \n",
    "        train_idx, test_idx = idx\n",
    "        dfx_train = dfx.iloc[train_idx]\n",
    "        dfy_train = dfy.iloc[train_idx]\n",
    "        \n",
    "        ## get best parameters \n",
    "        if (i == 0) & (j == 0):\n",
    "            from tune import finetune_HPs\n",
    "            best_fill, best_scale_method, best_channel_number, best_epochs, batch_size = finetune_HPs(dfx_train, dfy_train, gpuid=gpuid)\n",
    "            featHPs = {\"best_fill\":best_fill, \"best_scale_method\":best_scale_method, \"best_channel_number\":best_channel_number}\n",
    "            dfx = np.log(dfx + best_fill)\n",
    "            mp = AggMap(dfx, metric = 'correlation')\n",
    "            mp = mp.fit(cluster_channels = best_channel_number, verbose = 0, var_thr = 0)\n",
    "            X = mp.batch_transform(dfx.values, scale = best_scale_method) # NaN values should be the lowest value\n",
    "            mp.save(os.path.join(save_dir, 'agg.mp'))\n",
    "            \n",
    "        testY = Y[test_idx]\n",
    "        testX = X[test_idx]\n",
    "        \n",
    "        trainX = X[train_idx]\n",
    "        trainY = Y[train_idx]\n",
    "\n",
    "        print(\"\\n input train and test X shape is %s, %s \" % (trainX.shape,  testX.shape))\n",
    "\n",
    "        clf = AggModel.MultiClassEstimator(epochs = best_epochs,  batch_size = batch_size, verbose = 0, gpuid=gpuid) #\n",
    "        clf.fit(trainX, trainY)  #, \n",
    "        \n",
    "        ## save model for explaination\n",
    "        if i == 0:\n",
    "            clf.save_model(os.path.join(save_dir, '%s.model' % fold_num))\n",
    "            paras = clf.get_params()\n",
    "            paras.update({'featHPs':featHPs})\n",
    "            pd.Series(paras).to_json(os.path.join(save_dir, 'HPs.json'))\n",
    "\n",
    "        pred_proba = clf.predict_proba(testX)\n",
    "        y_true = testY[:,1] \n",
    "        y_score = pred_proba[:,1]\n",
    "        y_pred = np.argmax(pred_proba, axis=1)\n",
    "        \n",
    "        dfr = pd.DataFrame([y_true, y_score, y_pred]).T\n",
    "        dfr.columns = ['y_true', 'y_score', 'y_pred']\n",
    "        dfr.index = dfy.iloc[test_idx].index\n",
    "        auc, mcc, pres, recall, f1  = score(dfr)\n",
    "        run_one_res.append(dfr)\n",
    "        ts = pd.Series([auc, mcc, pres, recall, f1, i, repeat_seed]).round(3)\n",
    "        ts.index = ['auc', 'mcc', 'pres', 'recall', 'f1', 'i', 'repeat_seed']\n",
    "        print(ts.to_dict())\n",
    "        each_fold_results.append(ts.to_dict())\n",
    "    run_all_res.append(pd.concat(run_one_res))"
   ]
  },
  {
   "cell_type": "code",
   "execution_count": 9,
   "metadata": {},
   "outputs": [
    {
     "data": {
      "text/plain": [
       "auc       0.94881\n",
       "mcc       0.78696\n",
       "pres      0.89737\n",
       "recall    0.88997\n",
       "f1        0.88928\n",
       "i         4.50000\n",
       "dtype: float64"
      ]
     },
     "execution_count": 9,
     "metadata": {},
     "output_type": "execute_result"
    }
   ],
   "source": [
    "pd.DataFrame(each_fold_results).groupby('repeat_seed').mean().mean()"
   ]
  },
  {
   "cell_type": "code",
   "execution_count": 10,
   "metadata": {},
   "outputs": [
    {
     "data": {
      "text/plain": [
       "auc       0.051292\n",
       "mcc       0.126348\n",
       "pres      0.061892\n",
       "recall    0.064679\n",
       "f1        0.065222\n",
       "i         0.000000\n",
       "dtype: float64"
      ]
     },
     "execution_count": 10,
     "metadata": {},
     "output_type": "execute_result"
    }
   ],
   "source": [
    "pd.DataFrame(each_fold_results).groupby('repeat_seed').std().mean()"
   ]
  },
  {
   "cell_type": "code",
   "execution_count": 12,
   "metadata": {},
   "outputs": [],
   "source": [
    "pd.DataFrame(each_fold_results).to_csv(os.path.join(save_dir, 'performance_results.csv'))"
   ]
  },
  {
   "cell_type": "code",
   "execution_count": null,
   "metadata": {},
   "outputs": [],
   "source": []
  },
  {
   "cell_type": "code",
   "execution_count": null,
   "metadata": {},
   "outputs": [],
   "source": []
  },
  {
   "cell_type": "code",
   "execution_count": null,
   "metadata": {},
   "outputs": [],
   "source": []
  },
  {
   "cell_type": "markdown",
   "metadata": {},
   "source": [
    "# feature importance"
   ]
  },
  {
   "cell_type": "code",
   "execution_count": 29,
   "metadata": {},
   "outputs": [
    {
     "name": "stderr",
     "output_type": "stream",
     "text": [
      "  0%|          | 0/552 [00:00<?, ?it/s]"
     ]
    },
    {
     "name": "stdout",
     "output_type": "stream",
     "text": [
      "calculating feature importance for column 1 ...\n"
     ]
    },
    {
     "name": "stderr",
     "output_type": "stream",
     "text": [
      "100%|##########| 552/552 [00:18<00:00, 30.46it/s]\n",
      "  0%|          | 0/552 [00:00<?, ?it/s]"
     ]
    },
    {
     "name": "stdout",
     "output_type": "stream",
     "text": [
      "calculating feature importance for column 1 ...\n"
     ]
    },
    {
     "name": "stderr",
     "output_type": "stream",
     "text": [
      "100%|##########| 552/552 [00:17<00:00, 31.72it/s]\n",
      "  0%|          | 0/552 [00:00<?, ?it/s]"
     ]
    },
    {
     "name": "stdout",
     "output_type": "stream",
     "text": [
      "calculating feature importance for column 1 ...\n"
     ]
    },
    {
     "name": "stderr",
     "output_type": "stream",
     "text": [
      "100%|##########| 552/552 [00:17<00:00, 31.24it/s]\n",
      "  0%|          | 0/552 [00:00<?, ?it/s]"
     ]
    },
    {
     "name": "stdout",
     "output_type": "stream",
     "text": [
      "calculating feature importance for column 1 ...\n"
     ]
    },
    {
     "name": "stderr",
     "output_type": "stream",
     "text": [
      "100%|##########| 552/552 [00:18<00:00, 30.57it/s]\n",
      "  0%|          | 0/552 [00:00<?, ?it/s]"
     ]
    },
    {
     "name": "stdout",
     "output_type": "stream",
     "text": [
      "calculating feature importance for column 1 ...\n"
     ]
    },
    {
     "name": "stderr",
     "output_type": "stream",
     "text": [
      "100%|##########| 552/552 [00:17<00:00, 31.10it/s]\n",
      "  0%|          | 0/552 [00:00<?, ?it/s]"
     ]
    },
    {
     "name": "stdout",
     "output_type": "stream",
     "text": [
      "calculating feature importance for column 1 ...\n"
     ]
    },
    {
     "name": "stderr",
     "output_type": "stream",
     "text": [
      "100%|##########| 552/552 [00:18<00:00, 30.57it/s]\n",
      "  0%|          | 0/552 [00:00<?, ?it/s]"
     ]
    },
    {
     "name": "stdout",
     "output_type": "stream",
     "text": [
      "calculating feature importance for column 1 ...\n"
     ]
    },
    {
     "name": "stderr",
     "output_type": "stream",
     "text": [
      "100%|##########| 552/552 [00:17<00:00, 30.90it/s]\n",
      "  0%|          | 0/552 [00:00<?, ?it/s]"
     ]
    },
    {
     "name": "stdout",
     "output_type": "stream",
     "text": [
      "calculating feature importance for column 1 ...\n"
     ]
    },
    {
     "name": "stderr",
     "output_type": "stream",
     "text": [
      "100%|##########| 552/552 [00:17<00:00, 30.71it/s]\n",
      "  0%|          | 0/552 [00:00<?, ?it/s]"
     ]
    },
    {
     "name": "stdout",
     "output_type": "stream",
     "text": [
      "calculating feature importance for column 1 ...\n"
     ]
    },
    {
     "name": "stderr",
     "output_type": "stream",
     "text": [
      "100%|##########| 552/552 [00:17<00:00, 31.34it/s]\n",
      "  0%|          | 0/552 [00:00<?, ?it/s]"
     ]
    },
    {
     "name": "stdout",
     "output_type": "stream",
     "text": [
      "calculating feature importance for column 1 ...\n"
     ]
    },
    {
     "name": "stderr",
     "output_type": "stream",
     "text": [
      "100%|##########| 552/552 [00:17<00:00, 31.71it/s]\n"
     ]
    }
   ],
   "source": [
    "all_imps = []\n",
    "for i in range(10):\n",
    "    clf = load_model(os.path.join(save_dir, 'fold_%s.model' % str(i).zfill(2)))\n",
    "    dfe = clf.explain_model(mp, clf.X_, clf.y_, binary_task=True, apply_logrithm=False)\n",
    "    df_imp = dfe.col_1_importance.to_frame(name = 'fold_%s_imp' % str(i).zfill(2))\n",
    "    all_imps.append(df_imp)"
   ]
  },
  {
   "cell_type": "code",
   "execution_count": 49,
   "metadata": {},
   "outputs": [],
   "source": [
    "dfi = dfe[dfe.columns[:-1]]\n",
    "dfi['scatter_x'] = dfi.v.map(mp.df_embedding.x)\n",
    "dfi['scatter_y'] = dfi.v.map(mp.df_embedding.y)\n",
    "\n",
    "dfimp_all = pd.concat(all_imps, axis=1)\n",
    "dfi = dfi.join(dfimp_all.mean(axis=1).to_frame(name = 'avg_imp'))\n",
    "dfi = dfi.join(dfimp_all)\n",
    "dfi.to_csv(os.path.join(save_dir, 'feature_imp_results.csv'))"
   ]
  },
  {
   "cell_type": "code",
   "execution_count": null,
   "metadata": {},
   "outputs": [],
   "source": []
  },
  {
   "cell_type": "code",
   "execution_count": 50,
   "metadata": {},
   "outputs": [
    {
     "data": {
      "text/html": [
       "<div>\n",
       "<style scoped>\n",
       "    .dataframe tbody tr th:only-of-type {\n",
       "        vertical-align: middle;\n",
       "    }\n",
       "\n",
       "    .dataframe tbody tr th {\n",
       "        vertical-align: top;\n",
       "    }\n",
       "\n",
       "    .dataframe thead th {\n",
       "        text-align: right;\n",
       "    }\n",
       "</style>\n",
       "<table border=\"1\" class=\"dataframe\">\n",
       "  <thead>\n",
       "    <tr style=\"text-align: right;\">\n",
       "      <th></th>\n",
       "      <th>x</th>\n",
       "      <th>y</th>\n",
       "      <th>v</th>\n",
       "      <th>Subtypes</th>\n",
       "      <th>colors</th>\n",
       "      <th>scatter_x</th>\n",
       "      <th>scatter_y</th>\n",
       "      <th>avg_imp</th>\n",
       "      <th>fold_00_imp</th>\n",
       "      <th>fold_01_imp</th>\n",
       "      <th>fold_02_imp</th>\n",
       "      <th>fold_03_imp</th>\n",
       "      <th>fold_04_imp</th>\n",
       "      <th>fold_05_imp</th>\n",
       "      <th>fold_06_imp</th>\n",
       "      <th>fold_07_imp</th>\n",
       "      <th>fold_08_imp</th>\n",
       "      <th>fold_09_imp</th>\n",
       "    </tr>\n",
       "  </thead>\n",
       "  <tbody>\n",
       "    <tr>\n",
       "      <th>0</th>\n",
       "      <td>0</td>\n",
       "      <td>0</td>\n",
       "      <td>k__Bacteria|p__Firmicutes|c__Negativicutes|o__...</td>\n",
       "      <td>cluster_07</td>\n",
       "      <td>#00fff6</td>\n",
       "      <td>-2.435016</td>\n",
       "      <td>-7.996033</td>\n",
       "      <td>2.020425</td>\n",
       "      <td>2.636166</td>\n",
       "      <td>2.422558</td>\n",
       "      <td>1.480931</td>\n",
       "      <td>2.304214</td>\n",
       "      <td>1.639054</td>\n",
       "      <td>2.490149</td>\n",
       "      <td>2.467577</td>\n",
       "      <td>1.172250</td>\n",
       "      <td>2.032199</td>\n",
       "      <td>1.559150</td>\n",
       "    </tr>\n",
       "    <tr>\n",
       "      <th>1</th>\n",
       "      <td>1</td>\n",
       "      <td>0</td>\n",
       "      <td>k__Bacteria|p__Firmicutes|c__Negativicutes|o__...</td>\n",
       "      <td>cluster_07</td>\n",
       "      <td>#00fff6</td>\n",
       "      <td>-2.415546</td>\n",
       "      <td>-8.048627</td>\n",
       "      <td>3.423417</td>\n",
       "      <td>4.224251</td>\n",
       "      <td>4.586573</td>\n",
       "      <td>2.836215</td>\n",
       "      <td>3.500902</td>\n",
       "      <td>2.881480</td>\n",
       "      <td>4.132021</td>\n",
       "      <td>3.808488</td>\n",
       "      <td>2.303154</td>\n",
       "      <td>3.140248</td>\n",
       "      <td>2.820839</td>\n",
       "    </tr>\n",
       "    <tr>\n",
       "      <th>2</th>\n",
       "      <td>2</td>\n",
       "      <td>0</td>\n",
       "      <td>k__Bacteria|p__Firmicutes|c__Negativicutes|o__...</td>\n",
       "      <td>cluster_07</td>\n",
       "      <td>#00fff6</td>\n",
       "      <td>-2.361040</td>\n",
       "      <td>-8.083551</td>\n",
       "      <td>4.228039</td>\n",
       "      <td>5.347902</td>\n",
       "      <td>5.490348</td>\n",
       "      <td>2.512368</td>\n",
       "      <td>4.742337</td>\n",
       "      <td>3.766255</td>\n",
       "      <td>5.282240</td>\n",
       "      <td>4.638997</td>\n",
       "      <td>2.324160</td>\n",
       "      <td>4.553426</td>\n",
       "      <td>3.622361</td>\n",
       "    </tr>\n",
       "    <tr>\n",
       "      <th>3</th>\n",
       "      <td>3</td>\n",
       "      <td>0</td>\n",
       "      <td>k__Bacteria|p__Proteobacteria|c__Gammaproteoba...</td>\n",
       "      <td>cluster_07</td>\n",
       "      <td>#00fff6</td>\n",
       "      <td>-2.322250</td>\n",
       "      <td>-8.112451</td>\n",
       "      <td>7.086851</td>\n",
       "      <td>8.235827</td>\n",
       "      <td>8.364681</td>\n",
       "      <td>5.941798</td>\n",
       "      <td>7.976813</td>\n",
       "      <td>6.055808</td>\n",
       "      <td>7.650206</td>\n",
       "      <td>7.116522</td>\n",
       "      <td>4.983071</td>\n",
       "      <td>7.361613</td>\n",
       "      <td>7.182173</td>\n",
       "    </tr>\n",
       "    <tr>\n",
       "      <th>4</th>\n",
       "      <td>4</td>\n",
       "      <td>0</td>\n",
       "      <td>k__Bacteria|p__Firmicutes|c__Bacilli|o__Lactob...</td>\n",
       "      <td>cluster_07</td>\n",
       "      <td>#00fff6</td>\n",
       "      <td>-2.155409</td>\n",
       "      <td>-7.984416</td>\n",
       "      <td>2.906158</td>\n",
       "      <td>2.939558</td>\n",
       "      <td>3.276735</td>\n",
       "      <td>2.188092</td>\n",
       "      <td>2.944056</td>\n",
       "      <td>2.273452</td>\n",
       "      <td>3.370101</td>\n",
       "      <td>3.779549</td>\n",
       "      <td>2.006394</td>\n",
       "      <td>3.652944</td>\n",
       "      <td>2.630703</td>\n",
       "    </tr>\n",
       "    <tr>\n",
       "      <th>...</th>\n",
       "      <td>...</td>\n",
       "      <td>...</td>\n",
       "      <td>...</td>\n",
       "      <td>...</td>\n",
       "      <td>...</td>\n",
       "      <td>...</td>\n",
       "      <td>...</td>\n",
       "      <td>...</td>\n",
       "      <td>...</td>\n",
       "      <td>...</td>\n",
       "      <td>...</td>\n",
       "      <td>...</td>\n",
       "      <td>...</td>\n",
       "      <td>...</td>\n",
       "      <td>...</td>\n",
       "      <td>...</td>\n",
       "      <td>...</td>\n",
       "      <td>...</td>\n",
       "    </tr>\n",
       "    <tr>\n",
       "      <th>547</th>\n",
       "      <td>18</td>\n",
       "      <td>23</td>\n",
       "      <td>0</td>\n",
       "      <td>NaN</td>\n",
       "      <td>#000000</td>\n",
       "      <td>NaN</td>\n",
       "      <td>NaN</td>\n",
       "      <td>-0.552890</td>\n",
       "      <td>-0.536272</td>\n",
       "      <td>-0.492827</td>\n",
       "      <td>-0.612344</td>\n",
       "      <td>-0.472785</td>\n",
       "      <td>-0.608114</td>\n",
       "      <td>-0.506613</td>\n",
       "      <td>-0.558567</td>\n",
       "      <td>-0.578415</td>\n",
       "      <td>-0.585439</td>\n",
       "      <td>-0.577526</td>\n",
       "    </tr>\n",
       "    <tr>\n",
       "      <th>548</th>\n",
       "      <td>19</td>\n",
       "      <td>23</td>\n",
       "      <td>0</td>\n",
       "      <td>NaN</td>\n",
       "      <td>#000000</td>\n",
       "      <td>NaN</td>\n",
       "      <td>NaN</td>\n",
       "      <td>-0.552892</td>\n",
       "      <td>-0.536272</td>\n",
       "      <td>-0.492827</td>\n",
       "      <td>-0.612345</td>\n",
       "      <td>-0.472785</td>\n",
       "      <td>-0.608117</td>\n",
       "      <td>-0.506613</td>\n",
       "      <td>-0.558569</td>\n",
       "      <td>-0.578415</td>\n",
       "      <td>-0.585442</td>\n",
       "      <td>-0.577529</td>\n",
       "    </tr>\n",
       "    <tr>\n",
       "      <th>549</th>\n",
       "      <td>20</td>\n",
       "      <td>23</td>\n",
       "      <td>0</td>\n",
       "      <td>NaN</td>\n",
       "      <td>#000000</td>\n",
       "      <td>NaN</td>\n",
       "      <td>NaN</td>\n",
       "      <td>-0.552890</td>\n",
       "      <td>-0.536272</td>\n",
       "      <td>-0.492827</td>\n",
       "      <td>-0.612344</td>\n",
       "      <td>-0.472785</td>\n",
       "      <td>-0.608114</td>\n",
       "      <td>-0.506613</td>\n",
       "      <td>-0.558567</td>\n",
       "      <td>-0.578415</td>\n",
       "      <td>-0.585439</td>\n",
       "      <td>-0.577526</td>\n",
       "    </tr>\n",
       "    <tr>\n",
       "      <th>550</th>\n",
       "      <td>21</td>\n",
       "      <td>23</td>\n",
       "      <td>0</td>\n",
       "      <td>NaN</td>\n",
       "      <td>#000000</td>\n",
       "      <td>NaN</td>\n",
       "      <td>NaN</td>\n",
       "      <td>-0.552892</td>\n",
       "      <td>-0.536272</td>\n",
       "      <td>-0.492827</td>\n",
       "      <td>-0.612345</td>\n",
       "      <td>-0.472785</td>\n",
       "      <td>-0.608117</td>\n",
       "      <td>-0.506613</td>\n",
       "      <td>-0.558569</td>\n",
       "      <td>-0.578415</td>\n",
       "      <td>-0.585442</td>\n",
       "      <td>-0.577529</td>\n",
       "    </tr>\n",
       "    <tr>\n",
       "      <th>551</th>\n",
       "      <td>22</td>\n",
       "      <td>23</td>\n",
       "      <td>0</td>\n",
       "      <td>NaN</td>\n",
       "      <td>#000000</td>\n",
       "      <td>NaN</td>\n",
       "      <td>NaN</td>\n",
       "      <td>-0.552880</td>\n",
       "      <td>-0.536218</td>\n",
       "      <td>-0.492775</td>\n",
       "      <td>-0.612344</td>\n",
       "      <td>-0.472785</td>\n",
       "      <td>-0.608114</td>\n",
       "      <td>-0.506613</td>\n",
       "      <td>-0.558567</td>\n",
       "      <td>-0.578415</td>\n",
       "      <td>-0.585439</td>\n",
       "      <td>-0.577526</td>\n",
       "    </tr>\n",
       "  </tbody>\n",
       "</table>\n",
       "<p>552 rows × 18 columns</p>\n",
       "</div>"
      ],
      "text/plain": [
       "      x   y                                                  v    Subtypes  \\\n",
       "0     0   0  k__Bacteria|p__Firmicutes|c__Negativicutes|o__...  cluster_07   \n",
       "1     1   0  k__Bacteria|p__Firmicutes|c__Negativicutes|o__...  cluster_07   \n",
       "2     2   0  k__Bacteria|p__Firmicutes|c__Negativicutes|o__...  cluster_07   \n",
       "3     3   0  k__Bacteria|p__Proteobacteria|c__Gammaproteoba...  cluster_07   \n",
       "4     4   0  k__Bacteria|p__Firmicutes|c__Bacilli|o__Lactob...  cluster_07   \n",
       "..   ..  ..                                                ...         ...   \n",
       "547  18  23                                                  0         NaN   \n",
       "548  19  23                                                  0         NaN   \n",
       "549  20  23                                                  0         NaN   \n",
       "550  21  23                                                  0         NaN   \n",
       "551  22  23                                                  0         NaN   \n",
       "\n",
       "      colors  scatter_x  scatter_y   avg_imp  fold_00_imp  fold_01_imp  \\\n",
       "0    #00fff6  -2.435016  -7.996033  2.020425     2.636166     2.422558   \n",
       "1    #00fff6  -2.415546  -8.048627  3.423417     4.224251     4.586573   \n",
       "2    #00fff6  -2.361040  -8.083551  4.228039     5.347902     5.490348   \n",
       "3    #00fff6  -2.322250  -8.112451  7.086851     8.235827     8.364681   \n",
       "4    #00fff6  -2.155409  -7.984416  2.906158     2.939558     3.276735   \n",
       "..       ...        ...        ...       ...          ...          ...   \n",
       "547  #000000        NaN        NaN -0.552890    -0.536272    -0.492827   \n",
       "548  #000000        NaN        NaN -0.552892    -0.536272    -0.492827   \n",
       "549  #000000        NaN        NaN -0.552890    -0.536272    -0.492827   \n",
       "550  #000000        NaN        NaN -0.552892    -0.536272    -0.492827   \n",
       "551  #000000        NaN        NaN -0.552880    -0.536218    -0.492775   \n",
       "\n",
       "     fold_02_imp  fold_03_imp  fold_04_imp  fold_05_imp  fold_06_imp  \\\n",
       "0       1.480931     2.304214     1.639054     2.490149     2.467577   \n",
       "1       2.836215     3.500902     2.881480     4.132021     3.808488   \n",
       "2       2.512368     4.742337     3.766255     5.282240     4.638997   \n",
       "3       5.941798     7.976813     6.055808     7.650206     7.116522   \n",
       "4       2.188092     2.944056     2.273452     3.370101     3.779549   \n",
       "..           ...          ...          ...          ...          ...   \n",
       "547    -0.612344    -0.472785    -0.608114    -0.506613    -0.558567   \n",
       "548    -0.612345    -0.472785    -0.608117    -0.506613    -0.558569   \n",
       "549    -0.612344    -0.472785    -0.608114    -0.506613    -0.558567   \n",
       "550    -0.612345    -0.472785    -0.608117    -0.506613    -0.558569   \n",
       "551    -0.612344    -0.472785    -0.608114    -0.506613    -0.558567   \n",
       "\n",
       "     fold_07_imp  fold_08_imp  fold_09_imp  \n",
       "0       1.172250     2.032199     1.559150  \n",
       "1       2.303154     3.140248     2.820839  \n",
       "2       2.324160     4.553426     3.622361  \n",
       "3       4.983071     7.361613     7.182173  \n",
       "4       2.006394     3.652944     2.630703  \n",
       "..           ...          ...          ...  \n",
       "547    -0.578415    -0.585439    -0.577526  \n",
       "548    -0.578415    -0.585442    -0.577529  \n",
       "549    -0.578415    -0.585439    -0.577526  \n",
       "550    -0.578415    -0.585442    -0.577529  \n",
       "551    -0.578415    -0.585439    -0.577526  \n",
       "\n",
       "[552 rows x 18 columns]"
      ]
     },
     "execution_count": 50,
     "metadata": {},
     "output_type": "execute_result"
    }
   ],
   "source": [
    "dfi"
   ]
  },
  {
   "cell_type": "code",
   "execution_count": null,
   "metadata": {},
   "outputs": [],
   "source": []
  },
  {
   "cell_type": "code",
   "execution_count": null,
   "metadata": {},
   "outputs": [],
   "source": []
  },
  {
   "cell_type": "code",
   "execution_count": null,
   "metadata": {},
   "outputs": [],
   "source": []
  },
  {
   "cell_type": "code",
   "execution_count": null,
   "metadata": {},
   "outputs": [],
   "source": []
  },
  {
   "cell_type": "code",
   "execution_count": null,
   "metadata": {},
   "outputs": [],
   "source": []
  },
  {
   "cell_type": "code",
   "execution_count": null,
   "metadata": {},
   "outputs": [],
   "source": []
  }
 ],
 "metadata": {
  "kernelspec": {
   "display_name": "Python 3 (ipykernel)",
   "language": "python",
   "name": "python3"
  },
  "language_info": {
   "codemirror_mode": {
    "name": "ipython",
    "version": 3
   },
   "file_extension": ".py",
   "mimetype": "text/x-python",
   "name": "python",
   "nbconvert_exporter": "python",
   "pygments_lexer": "ipython3",
   "version": "3.7.11"
  }
 },
 "nbformat": 4,
 "nbformat_minor": 4
}
