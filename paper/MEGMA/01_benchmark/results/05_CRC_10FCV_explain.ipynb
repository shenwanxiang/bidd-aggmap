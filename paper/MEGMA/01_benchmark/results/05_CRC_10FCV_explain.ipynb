{
 "cells": [
  {
   "cell_type": "code",
   "execution_count": 1,
   "metadata": {},
   "outputs": [],
   "source": [
    "import warnings, os\n",
    "warnings.filterwarnings(\"ignore\")\n",
    "\n",
    "from copy import copy\n",
    "import pandas as pd\n",
    "import numpy as np\n",
    "from tqdm import tqdm\n",
    "from sklearn.model_selection import KFold, StratifiedKFold\n",
    "from sklearn.metrics import confusion_matrix, precision_recall_curve\n",
    "from sklearn.metrics import roc_auc_score, matthews_corrcoef, precision_score, recall_score, f1_score\n",
    "\n",
    "\n",
    "import seaborn as sns\n",
    "import matplotlib.pyplot as plt\n",
    "from joblib import dump, load\n",
    "\n",
    "from aggmap import AggMap, AggModel, loadmap\n",
    "from aggmap.AggModel import load_model, save_model\n",
    "from aggmap import show\n",
    "\n",
    "\n",
    "np.random.seed(666) #just for reaptable results\n",
    "\n",
    "\n",
    "def score(dfr):\n",
    "    y_true = dfr.y_true\n",
    "    y_pred = dfr.y_pred\n",
    "\n",
    "    '''\n",
    "    the metrics are taken from orignal paper:\n",
    "    Meta-Signer: Metagenomic Signature Identifier based on Rank Aggregation of Features\n",
    "    https://github.com/YDaiLab/Meta-Signer/blob/bd6a1cd98d1035f848ecb6e53d9ee67a85871db2/src/utils/metasigner_io.py#L34\n",
    "    '''\n",
    "    auc = np.nan #roc_auc_score(y_true, y_score, average='weighted')        \n",
    "    mcc = matthews_corrcoef(y_true, y_pred)\n",
    "    pres = precision_score(y_true, y_pred, average='weighted')\n",
    "    recall = recall_score(y_true, y_pred, average='weighted')\n",
    "    f1 = f1_score(y_true, y_pred, average='weighted')\n",
    "    \n",
    "    print('roc-auc: %.3f, mcc: %.3f, pres: %.3f, recall: %.3f, f1: %.3f' % (auc, mcc, pres, recall, f1))\n",
    "\n",
    "    return auc, mcc, pres, recall, f1"
   ]
  },
  {
   "cell_type": "markdown",
   "metadata": {},
   "source": [
    "# read data"
   ]
  },
  {
   "cell_type": "code",
   "execution_count": 15,
   "metadata": {},
   "outputs": [],
   "source": [
    "task = 'CRC'\n",
    "data_path = '../01_data/species_level/%s/' % (task)\n",
    "save_dir = '%s_results' % task\n",
    "if not os.path.exists(save_dir):\n",
    "    os.makedirs(save_dir)\n",
    "\n",
    "dfa = pd.read_csv(os.path.join(data_path, 'abundance.tsv'),sep='\\t', header=None, index_col=0)\n",
    "dfy = pd.read_csv(os.path.join(data_path, 'labels.txt'),sep='\\t', header=None)\n",
    "dfx = dfa.T\n",
    "dfy = pd.get_dummies(dfy[0].map({'cancer':2,'adenoma':1, 'n':0}))\n",
    "Y = dfy.values"
   ]
  },
  {
   "cell_type": "markdown",
   "metadata": {},
   "source": [
    "# generate Fmaps"
   ]
  },
  {
   "cell_type": "code",
   "execution_count": 3,
   "metadata": {},
   "outputs": [
    {
     "name": "stdout",
     "output_type": "stream",
     "text": [
      "2021-08-19 09:52:38,423 - \u001b[32mINFO\u001b[0m - [bidd-aggmap]\u001b[0m - Calculating distance ...\u001b[0m\n",
      "2021-08-19 09:52:38,441 - \u001b[32mINFO\u001b[0m - [bidd-aggmap]\u001b[0m - the number of process is 16\u001b[0m\n"
     ]
    },
    {
     "name": "stderr",
     "output_type": "stream",
     "text": [
      "100%|##########| 128271/128271 [00:05<00:00, 24163.34it/s]\n",
      "100%|##########| 128271/128271 [00:00<00:00, 1629299.01it/s]\n",
      "100%|##########| 507/507 [00:00<00:00, 766.88it/s]\n"
     ]
    },
    {
     "name": "stdout",
     "output_type": "stream",
     "text": [
      "2021-08-19 09:52:44,731 - \u001b[32mINFO\u001b[0m - [bidd-aggmap]\u001b[0m - applying hierarchical clustering to obtain group information ...\u001b[0m\n",
      "2021-08-19 09:52:49,858 - \u001b[32mINFO\u001b[0m - [bidd-aggmap]\u001b[0m - Applying grid feature map(assignment), this may take several minutes(1~30 min)\u001b[0m\n"
     ]
    },
    {
     "name": "stderr",
     "output_type": "stream",
     "text": [
      "  0%|          | 0/134 [00:00<?, ?it/s]"
     ]
    },
    {
     "name": "stdout",
     "output_type": "stream",
     "text": [
      "2021-08-19 09:52:50,497 - \u001b[32mINFO\u001b[0m - [bidd-aggmap]\u001b[0m - Finished\u001b[0m\n",
      "2021-08-19 09:52:50,498 - \u001b[32mINFO\u001b[0m - [bidd-aggmap]\u001b[0m - generate file: CRC_results_test/feature points_507_correlation_umap_mp\u001b[0m\n",
      "2021-08-19 09:52:50,541 - \u001b[32mINFO\u001b[0m - [bidd-aggmap]\u001b[0m - save html file to CRC_results_test/feature points_507_correlation_umap_mp\u001b[0m\n",
      "2021-08-19 09:52:50,541 - \u001b[32mINFO\u001b[0m - [bidd-aggmap]\u001b[0m - generate file: CRC_results_test/feature points_507_correlation_umap_scatter\u001b[0m\n",
      "2021-08-19 09:52:50,577 - \u001b[32mINFO\u001b[0m - [bidd-aggmap]\u001b[0m - save html file to CRC_results_test/feature points_507_correlation_umap_scatter\u001b[0m\n"
     ]
    },
    {
     "name": "stderr",
     "output_type": "stream",
     "text": [
      "100%|##########| 134/134 [00:03<00:00, 37.30it/s]\n"
     ]
    }
   ],
   "source": [
    "#could be optimized\n",
    "featHPs = {\"best_fill\":1e-8, \"best_scale_method\":'minmax', \"best_channel_number\":20}\n",
    "dfx = np.log(dfx + featHPs.get('best_fill'))\n",
    "mp = AggMap(dfx, metric = 'correlation')\n",
    "mp = mp.fit(cluster_channels = featHPs.get('best_channel_number'), verbose = 0)\n",
    "mp.plot_grid(save_dir)\n",
    "mp.plot_scatter(save_dir)\n",
    "mp.save(os.path.join(save_dir, 'agg.mp'))\n",
    "\n",
    "X = mp.batch_transform(dfx.values, scale = featHPs.get('best_scale_method')) # NaN values should be the lowest value"
   ]
  },
  {
   "cell_type": "code",
   "execution_count": 4,
   "metadata": {},
   "outputs": [
    {
     "data": {
      "image/png": "[encoded data removed]",
      "text/plain": [
       "<Figure size 1152x576 with 1 Axes>"
      ]
     },
     "metadata": {
      "needs_background": "light"
     },
     "output_type": "display_data"
    }
   ],
   "source": [
    "fig_tree = mp.plot_tree(add_leaf_labels = False, leaf_font_size = 1)\n",
    "fig_tree.savefig(os.path.join(save_dir, 'tree.png'), bbox_inches='tight', dpi=300)"
   ]
  },
  {
   "cell_type": "code",
   "execution_count": 5,
   "metadata": {},
   "outputs": [
    {
     "data": {
      "text/plain": [
       "(23, 23)"
      ]
     },
     "execution_count": 5,
     "metadata": {},
     "output_type": "execute_result"
    }
   ],
   "source": [
    "mp.fmap_shape"
   ]
  },
  {
   "cell_type": "code",
   "execution_count": null,
   "metadata": {},
   "outputs": [],
   "source": []
  },
  {
   "cell_type": "code",
   "execution_count": null,
   "metadata": {},
   "outputs": [],
   "source": []
  },
  {
   "cell_type": "code",
   "execution_count": null,
   "metadata": {},
   "outputs": [],
   "source": []
  },
  {
   "cell_type": "markdown",
   "metadata": {},
   "source": [
    "# 10FCV"
   ]
  },
  {
   "cell_type": "code",
   "execution_count": 6,
   "metadata": {},
   "outputs": [
    {
     "name": "stdout",
     "output_type": "stream",
     "text": [
      "################################################## repeat_seed: 8; fold_00 ##################################################\n",
      "\n",
      " input train and test X shape is (120, 23, 23, 20), (14, 23, 23, 20) \n",
      "saving model to CRC_results_test/fold_00.model\n",
      "roc-auc: nan, mcc: 0.362, pres: 0.614, recall: 0.571, f1: 0.587\n",
      "{'auc': nan, 'mcc': 0.362, 'pres': 0.614, 'recall': 0.571, 'f1': 0.587, 'i': 0.0, 'repeat_seed': 8.0}\n",
      "################################################## repeat_seed: 8; fold_01 ##################################################\n",
      "\n",
      " input train and test X shape is (120, 23, 23, 20), (14, 23, 23, 20) \n",
      "saving model to CRC_results_test/fold_01.model\n",
      "roc-auc: nan, mcc: 0.357, pres: 0.607, recall: 0.571, f1: 0.584\n",
      "{'auc': nan, 'mcc': 0.357, 'pres': 0.607, 'recall': 0.571, 'f1': 0.584, 'i': 0.0, 'repeat_seed': 8.0}\n",
      "################################################## repeat_seed: 8; fold_02 ##################################################\n",
      "\n",
      " input train and test X shape is (120, 23, 23, 20), (14, 23, 23, 20) \n",
      "saving model to CRC_results_test/fold_02.model\n",
      "roc-auc: nan, mcc: 0.246, pres: 0.478, recall: 0.500, f1: 0.478\n",
      "{'auc': nan, 'mcc': 0.246, 'pres': 0.478, 'recall': 0.5, 'f1': 0.478, 'i': 0.0, 'repeat_seed': 8.0}\n",
      "################################################## repeat_seed: 8; fold_03 ##################################################\n",
      "\n",
      " input train and test X shape is (120, 23, 23, 20), (14, 23, 23, 20) \n",
      "saving model to CRC_results_test/fold_03.model\n",
      "roc-auc: nan, mcc: 0.570, pres: 0.702, recall: 0.714, f1: 0.702\n",
      "{'auc': nan, 'mcc': 0.57, 'pres': 0.702, 'recall': 0.714, 'f1': 0.702, 'i': 0.0, 'repeat_seed': 8.0}\n",
      "################################################## repeat_seed: 8; fold_04 ##################################################\n",
      "\n",
      " input train and test X shape is (121, 23, 23, 20), (13, 23, 23, 20) \n",
      "saving model to CRC_results_test/fold_04.model\n",
      "roc-auc: nan, mcc: 0.349, pres: 0.654, recall: 0.538, f1: 0.562\n",
      "{'auc': nan, 'mcc': 0.349, 'pres': 0.654, 'recall': 0.538, 'f1': 0.562, 'i': 0.0, 'repeat_seed': 8.0}\n",
      "################################################## repeat_seed: 8; fold_05 ##################################################\n",
      "\n",
      " input train and test X shape is (121, 23, 23, 20), (13, 23, 23, 20) \n",
      "saving model to CRC_results_test/fold_05.model\n",
      "roc-auc: nan, mcc: 0.418, pres: 0.603, recall: 0.615, f1: 0.605\n",
      "{'auc': nan, 'mcc': 0.418, 'pres': 0.603, 'recall': 0.615, 'f1': 0.605, 'i': 0.0, 'repeat_seed': 8.0}\n",
      "################################################## repeat_seed: 8; fold_06 ##################################################\n",
      "\n",
      " input train and test X shape is (121, 23, 23, 20), (13, 23, 23, 20) \n",
      "saving model to CRC_results_test/fold_06.model\n",
      "roc-auc: nan, mcc: 0.426, pres: 0.592, recall: 0.615, f1: 0.586\n",
      "{'auc': nan, 'mcc': 0.426, 'pres': 0.592, 'recall': 0.615, 'f1': 0.586, 'i': 0.0, 'repeat_seed': 8.0}\n",
      "################################################## repeat_seed: 8; fold_07 ##################################################\n",
      "\n",
      " input train and test X shape is (121, 23, 23, 20), (13, 23, 23, 20) \n",
      "saving model to CRC_results_test/fold_07.model\n",
      "roc-auc: nan, mcc: 0.205, pres: 0.363, recall: 0.462, f1: 0.399\n",
      "{'auc': nan, 'mcc': 0.205, 'pres': 0.363, 'recall': 0.462, 'f1': 0.399, 'i': 0.0, 'repeat_seed': 8.0}\n",
      "################################################## repeat_seed: 8; fold_08 ##################################################\n",
      "\n",
      " input train and test X shape is (121, 23, 23, 20), (13, 23, 23, 20) \n",
      "saving model to CRC_results_test/fold_08.model\n",
      "roc-auc: nan, mcc: 0.536, pres: 0.692, recall: 0.692, f1: 0.692\n",
      "{'auc': nan, 'mcc': 0.536, 'pres': 0.692, 'recall': 0.692, 'f1': 0.692, 'i': 0.0, 'repeat_seed': 8.0}\n",
      "################################################## repeat_seed: 8; fold_09 ##################################################\n",
      "\n",
      " input train and test X shape is (121, 23, 23, 20), (13, 23, 23, 20) \n",
      "saving model to CRC_results_test/fold_09.model\n",
      "roc-auc: nan, mcc: 0.446, pres: 0.692, recall: 0.615, f1: 0.627\n",
      "{'auc': nan, 'mcc': 0.446, 'pres': 0.692, 'recall': 0.615, 'f1': 0.627, 'i': 0.0, 'repeat_seed': 8.0}\n",
      "\n",
      "\n",
      "results for seed 8\n",
      "{'auc': nan, 'mcc': 0.39150000000000007, 'pres': 0.5997, 'recall': 0.5893, 'f1': 0.5822, 'i': 0.0, 'repeat_seed': 8.0}\n",
      "################################################## repeat_seed: 16; fold_00 ##################################################\n",
      "\n",
      " input train and test X shape is (120, 23, 23, 20), (14, 23, 23, 20) \n",
      "roc-auc: nan, mcc: 0.128, pres: 0.357, recall: 0.429, f1: 0.390\n",
      "{'auc': nan, 'mcc': 0.128, 'pres': 0.357, 'recall': 0.429, 'f1': 0.39, 'i': 1.0, 'repeat_seed': 16.0}\n",
      "################################################## repeat_seed: 16; fold_01 ##################################################\n",
      "\n",
      " input train and test X shape is (120, 23, 23, 20), (14, 23, 23, 20) \n",
      "roc-auc: nan, mcc: 0.682, pres: 0.780, recall: 0.786, f1: 0.777\n",
      "{'auc': nan, 'mcc': 0.682, 'pres': 0.78, 'recall': 0.786, 'f1': 0.777, 'i': 1.0, 'repeat_seed': 16.0}\n",
      "################################################## repeat_seed: 16; fold_02 ##################################################\n",
      "\n",
      " input train and test X shape is (120, 23, 23, 20), (14, 23, 23, 20) \n",
      "roc-auc: nan, mcc: 0.682, pres: 0.810, recall: 0.786, f1: 0.791\n",
      "{'auc': nan, 'mcc': 0.682, 'pres': 0.81, 'recall': 0.786, 'f1': 0.791, 'i': 1.0, 'repeat_seed': 16.0}\n",
      "################################################## repeat_seed: 16; fold_03 ##################################################\n",
      "\n",
      " input train and test X shape is (120, 23, 23, 20), (14, 23, 23, 20) \n",
      "roc-auc: nan, mcc: 0.461, pres: 0.607, recall: 0.643, f1: 0.621\n",
      "{'auc': nan, 'mcc': 0.461, 'pres': 0.607, 'recall': 0.643, 'f1': 0.621, 'i': 1.0, 'repeat_seed': 16.0}\n",
      "################################################## repeat_seed: 16; fold_04 ##################################################\n",
      "\n",
      " input train and test X shape is (121, 23, 23, 20), (13, 23, 23, 20) \n",
      "roc-auc: nan, mcc: 0.413, pres: 0.622, recall: 0.615, f1: 0.613\n",
      "{'auc': nan, 'mcc': 0.413, 'pres': 0.622, 'recall': 0.615, 'f1': 0.613, 'i': 1.0, 'repeat_seed': 16.0}\n",
      "################################################## repeat_seed: 16; fold_05 ##################################################\n",
      "\n",
      " input train and test X shape is (121, 23, 23, 20), (13, 23, 23, 20) \n",
      "roc-auc: nan, mcc: 0.185, pres: 0.559, recall: 0.462, f1: 0.482\n",
      "{'auc': nan, 'mcc': 0.185, 'pres': 0.559, 'recall': 0.462, 'f1': 0.482, 'i': 1.0, 'repeat_seed': 16.0}\n",
      "################################################## repeat_seed: 16; fold_06 ##################################################\n",
      "\n",
      " input train and test X shape is (121, 23, 23, 20), (13, 23, 23, 20) \n",
      "roc-auc: nan, mcc: 0.435, pres: 0.692, recall: 0.615, f1: 0.621\n",
      "{'auc': nan, 'mcc': 0.435, 'pres': 0.692, 'recall': 0.615, 'f1': 0.621, 'i': 1.0, 'repeat_seed': 16.0}\n",
      "################################################## repeat_seed: 16; fold_07 ##################################################\n",
      "\n",
      " input train and test X shape is (121, 23, 23, 20), (13, 23, 23, 20) \n",
      "roc-auc: nan, mcc: 0.541, pres: 0.697, recall: 0.692, f1: 0.689\n",
      "{'auc': nan, 'mcc': 0.541, 'pres': 0.697, 'recall': 0.692, 'f1': 0.689, 'i': 1.0, 'repeat_seed': 16.0}\n",
      "################################################## repeat_seed: 16; fold_08 ##################################################\n",
      "\n",
      " input train and test X shape is (121, 23, 23, 20), (13, 23, 23, 20) \n",
      "roc-auc: nan, mcc: 0.429, pres: 0.627, recall: 0.615, f1: 0.615\n",
      "{'auc': nan, 'mcc': 0.429, 'pres': 0.627, 'recall': 0.615, 'f1': 0.615, 'i': 1.0, 'repeat_seed': 16.0}\n",
      "################################################## repeat_seed: 16; fold_09 ##################################################\n",
      "\n",
      " input train and test X shape is (121, 23, 23, 20), (13, 23, 23, 20) \n",
      "roc-auc: nan, mcc: 0.082, pres: 0.391, recall: 0.385, f1: 0.379\n",
      "{'auc': nan, 'mcc': 0.082, 'pres': 0.391, 'recall': 0.385, 'f1': 0.379, 'i': 1.0, 'repeat_seed': 16.0}\n",
      "\n",
      "\n",
      "results for seed 16\n",
      "{'auc': nan, 'mcc': 0.40380000000000005, 'pres': 0.6142000000000001, 'recall': 0.6028, 'f1': 0.5978, 'i': 1.0, 'repeat_seed': 16.0}\n",
      "################################################## repeat_seed: 32; fold_00 ##################################################\n",
      "\n",
      " input train and test X shape is (120, 23, 23, 20), (14, 23, 23, 20) \n",
      "roc-auc: nan, mcc: 0.468, pres: 0.612, recall: 0.643, f1: 0.607\n",
      "{'auc': nan, 'mcc': 0.468, 'pres': 0.612, 'recall': 0.643, 'f1': 0.607, 'i': 2.0, 'repeat_seed': 32.0}\n",
      "################################################## repeat_seed: 32; fold_01 ##################################################\n",
      "\n",
      " input train and test X shape is (120, 23, 23, 20), (14, 23, 23, 20) \n",
      "roc-auc: nan, mcc: 0.249, pres: 0.545, recall: 0.500, f1: 0.498\n",
      "{'auc': nan, 'mcc': 0.249, 'pres': 0.545, 'recall': 0.5, 'f1': 0.498, 'i': 2.0, 'repeat_seed': 32.0}\n",
      "################################################## repeat_seed: 32; fold_02 ##################################################\n",
      "\n",
      " input train and test X shape is (120, 23, 23, 20), (14, 23, 23, 20) \n",
      "roc-auc: nan, mcc: 0.155, pres: 0.494, recall: 0.429, f1: 0.454\n",
      "{'auc': nan, 'mcc': 0.155, 'pres': 0.494, 'recall': 0.429, 'f1': 0.454, 'i': 2.0, 'repeat_seed': 32.0}\n",
      "################################################## repeat_seed: 32; fold_03 ##################################################\n",
      "\n",
      " input train and test X shape is (120, 23, 23, 20), (14, 23, 23, 20) \n",
      "roc-auc: nan, mcc: 0.264, pres: 0.542, recall: 0.500, f1: 0.511\n",
      "{'auc': nan, 'mcc': 0.264, 'pres': 0.542, 'recall': 0.5, 'f1': 0.511, 'i': 2.0, 'repeat_seed': 32.0}\n",
      "################################################## repeat_seed: 32; fold_04 ##################################################\n",
      "\n",
      " input train and test X shape is (121, 23, 23, 20), (13, 23, 23, 20) \n",
      "roc-auc: nan, mcc: -0.009, pres: 0.346, recall: 0.308, f1: 0.289\n",
      "{'auc': nan, 'mcc': -0.009, 'pres': 0.346, 'recall': 0.308, 'f1': 0.289, 'i': 2.0, 'repeat_seed': 32.0}\n",
      "################################################## repeat_seed: 32; fold_05 ##################################################\n",
      "\n",
      " input train and test X shape is (121, 23, 23, 20), (13, 23, 23, 20) \n",
      "roc-auc: nan, mcc: 0.536, pres: 0.718, recall: 0.692, f1: 0.697\n",
      "{'auc': nan, 'mcc': 0.536, 'pres': 0.718, 'recall': 0.692, 'f1': 0.697, 'i': 2.0, 'repeat_seed': 32.0}\n",
      "################################################## repeat_seed: 32; fold_06 ##################################################\n",
      "\n",
      " input train and test X shape is (121, 23, 23, 20), (13, 23, 23, 20) \n",
      "roc-auc: nan, mcc: -0.046, pres: 0.436, recall: 0.308, f1: 0.344\n",
      "{'auc': nan, 'mcc': -0.046, 'pres': 0.436, 'recall': 0.308, 'f1': 0.344, 'i': 2.0, 'repeat_seed': 32.0}\n",
      "################################################## repeat_seed: 32; fold_07 ##################################################\n",
      "\n",
      " input train and test X shape is (121, 23, 23, 20), (13, 23, 23, 20) \n",
      "roc-auc: nan, mcc: 0.565, pres: 0.767, recall: 0.692, f1: 0.649\n",
      "{'auc': nan, 'mcc': 0.565, 'pres': 0.767, 'recall': 0.692, 'f1': 0.649, 'i': 2.0, 'repeat_seed': 32.0}\n",
      "################################################## repeat_seed: 32; fold_08 ##################################################\n",
      "\n",
      " input train and test X shape is (121, 23, 23, 20), (13, 23, 23, 20) \n",
      "roc-auc: nan, mcc: 0.446, pres: 0.692, recall: 0.615, f1: 0.627\n",
      "{'auc': nan, 'mcc': 0.446, 'pres': 0.692, 'recall': 0.615, 'f1': 0.627, 'i': 2.0, 'repeat_seed': 32.0}\n",
      "################################################## repeat_seed: 32; fold_09 ##################################################\n",
      "\n",
      " input train and test X shape is (121, 23, 23, 20), (13, 23, 23, 20) \n",
      "roc-auc: nan, mcc: 0.547, pres: 0.749, recall: 0.692, f1: 0.690\n",
      "{'auc': nan, 'mcc': 0.547, 'pres': 0.749, 'recall': 0.692, 'f1': 0.69, 'i': 2.0, 'repeat_seed': 32.0}\n",
      "\n",
      "\n",
      "results for seed 32\n",
      "{'auc': nan, 'mcc': 0.31750000000000006, 'pres': 0.5901, 'recall': 0.5379, 'f1': 0.5366, 'i': 2.0, 'repeat_seed': 32.0}\n",
      "################################################## repeat_seed: 64; fold_00 ##################################################\n",
      "\n",
      " input train and test X shape is (120, 23, 23, 20), (14, 23, 23, 20) \n",
      "roc-auc: nan, mcc: 0.580, pres: 0.752, recall: 0.714, f1: 0.719\n",
      "{'auc': nan, 'mcc': 0.58, 'pres': 0.752, 'recall': 0.714, 'f1': 0.719, 'i': 3.0, 'repeat_seed': 64.0}\n",
      "################################################## repeat_seed: 64; fold_01 ##################################################\n",
      "\n",
      " input train and test X shape is (120, 23, 23, 20), (14, 23, 23, 20) \n",
      "roc-auc: nan, mcc: 0.577, pres: 0.725, recall: 0.714, f1: 0.714\n",
      "{'auc': nan, 'mcc': 0.577, 'pres': 0.725, 'recall': 0.714, 'f1': 0.714, 'i': 3.0, 'repeat_seed': 64.0}\n",
      "################################################## repeat_seed: 64; fold_02 ##################################################\n",
      "\n",
      " input train and test X shape is (120, 23, 23, 20), (14, 23, 23, 20) \n",
      "roc-auc: nan, mcc: 0.242, pres: 0.488, recall: 0.500, f1: 0.491\n",
      "{'auc': nan, 'mcc': 0.242, 'pres': 0.488, 'recall': 0.5, 'f1': 0.491, 'i': 3.0, 'repeat_seed': 64.0}\n",
      "################################################## repeat_seed: 64; fold_03 ##################################################\n",
      "\n",
      " input train and test X shape is (120, 23, 23, 20), (14, 23, 23, 20) \n",
      "roc-auc: nan, mcc: 0.355, pres: 0.541, recall: 0.571, f1: 0.536\n",
      "{'auc': nan, 'mcc': 0.355, 'pres': 0.541, 'recall': 0.571, 'f1': 0.536, 'i': 3.0, 'repeat_seed': 64.0}\n",
      "################################################## repeat_seed: 64; fold_04 ##################################################\n",
      "\n",
      " input train and test X shape is (121, 23, 23, 20), (13, 23, 23, 20) \n",
      "roc-auc: nan, mcc: 0.060, pres: 0.529, recall: 0.385, f1: 0.397\n",
      "{'auc': nan, 'mcc': 0.06, 'pres': 0.529, 'recall': 0.385, 'f1': 0.397, 'i': 3.0, 'repeat_seed': 64.0}\n",
      "################################################## repeat_seed: 64; fold_05 ##################################################\n",
      "\n",
      " input train and test X shape is (121, 23, 23, 20), (13, 23, 23, 20) \n",
      "roc-auc: nan, mcc: 0.421, pres: 0.630, recall: 0.615, f1: 0.608\n",
      "{'auc': nan, 'mcc': 0.421, 'pres': 0.63, 'recall': 0.615, 'f1': 0.608, 'i': 3.0, 'repeat_seed': 64.0}\n",
      "################################################## repeat_seed: 64; fold_06 ##################################################\n",
      "\n",
      " input train and test X shape is (121, 23, 23, 20), (13, 23, 23, 20) \n",
      "roc-auc: nan, mcc: 0.556, pres: 0.744, recall: 0.692, f1: 0.682\n",
      "{'auc': nan, 'mcc': 0.556, 'pres': 0.744, 'recall': 0.692, 'f1': 0.682, 'i': 3.0, 'repeat_seed': 64.0}\n",
      "################################################## repeat_seed: 64; fold_07 ##################################################\n",
      "\n",
      " input train and test X shape is (121, 23, 23, 20), (13, 23, 23, 20) \n",
      "roc-auc: nan, mcc: 0.065, pres: 0.408, recall: 0.385, f1: 0.381\n",
      "{'auc': nan, 'mcc': 0.065, 'pres': 0.408, 'recall': 0.385, 'f1': 0.381, 'i': 3.0, 'repeat_seed': 64.0}\n",
      "################################################## repeat_seed: 64; fold_08 ##################################################\n",
      "\n",
      " input train and test X shape is (121, 23, 23, 20), (13, 23, 23, 20) \n",
      "roc-auc: nan, mcc: 0.337, pres: 0.619, recall: 0.538, f1: 0.544\n",
      "{'auc': nan, 'mcc': 0.337, 'pres': 0.619, 'recall': 0.538, 'f1': 0.544, 'i': 3.0, 'repeat_seed': 64.0}\n",
      "################################################## repeat_seed: 64; fold_09 ##################################################\n",
      "\n",
      " input train and test X shape is (121, 23, 23, 20), (13, 23, 23, 20) \n",
      "roc-auc: nan, mcc: 0.185, pres: 0.379, recall: 0.462, f1: 0.416\n",
      "{'auc': nan, 'mcc': 0.185, 'pres': 0.379, 'recall': 0.462, 'f1': 0.416, 'i': 3.0, 'repeat_seed': 64.0}\n",
      "\n",
      "\n",
      "results for seed 64\n",
      "{'auc': nan, 'mcc': 0.3378, 'pres': 0.5814999999999999, 'recall': 0.5576, 'f1': 0.5488000000000002, 'i': 3.0, 'repeat_seed': 64.0}\n",
      "################################################## repeat_seed: 128; fold_00 ##################################################\n",
      "\n",
      " input train and test X shape is (120, 23, 23, 20), (14, 23, 23, 20) \n",
      "roc-auc: nan, mcc: 0.462, pres: 0.643, recall: 0.643, f1: 0.643\n",
      "{'auc': nan, 'mcc': 0.462, 'pres': 0.643, 'recall': 0.643, 'f1': 0.643, 'i': 4.0, 'repeat_seed': 128.0}\n",
      "################################################## repeat_seed: 128; fold_01 ##################################################\n",
      "\n",
      " input train and test X shape is (120, 23, 23, 20), (14, 23, 23, 20) \n",
      "roc-auc: nan, mcc: 0.362, pres: 0.596, recall: 0.571, f1: 0.579\n",
      "{'auc': nan, 'mcc': 0.362, 'pres': 0.596, 'recall': 0.571, 'f1': 0.579, 'i': 4.0, 'repeat_seed': 128.0}\n",
      "################################################## repeat_seed: 128; fold_02 ##################################################\n",
      "\n",
      " input train and test X shape is (120, 23, 23, 20), (14, 23, 23, 20) \n",
      "roc-auc: nan, mcc: 0.468, pres: 0.704, recall: 0.643, f1: 0.643\n",
      "{'auc': nan, 'mcc': 0.468, 'pres': 0.704, 'recall': 0.643, 'f1': 0.643, 'i': 4.0, 'repeat_seed': 128.0}\n",
      "################################################## repeat_seed: 128; fold_03 ##################################################\n",
      "\n",
      " input train and test X shape is (120, 23, 23, 20), (14, 23, 23, 20) \n",
      "roc-auc: nan, mcc: 0.594, pres: 0.779, recall: 0.714, f1: 0.672\n",
      "{'auc': nan, 'mcc': 0.594, 'pres': 0.779, 'recall': 0.714, 'f1': 0.672, 'i': 4.0, 'repeat_seed': 128.0}\n",
      "################################################## repeat_seed: 128; fold_04 ##################################################\n",
      "\n",
      " input train and test X shape is (121, 23, 23, 20), (13, 23, 23, 20) \n",
      "roc-auc: nan, mcc: 0.420, pres: 0.615, recall: 0.615, f1: 0.615\n",
      "{'auc': nan, 'mcc': 0.42, 'pres': 0.615, 'recall': 0.615, 'f1': 0.615, 'i': 4.0, 'repeat_seed': 128.0}\n",
      "\n",
      "\n",
      "results for seed 128\n",
      "{'auc': nan, 'mcc': 0.30710000000000004, 'pres': 0.5360000000000001, 'recall': 0.5418000000000001, 'f1': 0.5225, 'i': 4.0, 'repeat_seed': 128.0}\n",
      "################################################## repeat_seed: 256; fold_00 ##################################################\n",
      "\n",
      " input train and test X shape is (120, 23, 23, 20), (14, 23, 23, 20) \n",
      "roc-auc: nan, mcc: 0.265, pres: 0.500, recall: 0.500, f1: 0.465\n",
      "{'auc': nan, 'mcc': 0.265, 'pres': 0.5, 'recall': 0.5, 'f1': 0.465, 'i': 5.0, 'repeat_seed': 256.0}\n",
      "################################################## repeat_seed: 256; fold_01 ##################################################\n",
      "\n",
      " input train and test X shape is (120, 23, 23, 20), (14, 23, 23, 20) \n",
      "roc-auc: nan, mcc: 0.133, pres: 0.417, recall: 0.429, f1: 0.419\n",
      "{'auc': nan, 'mcc': 0.133, 'pres': 0.417, 'recall': 0.429, 'f1': 0.419, 'i': 5.0, 'repeat_seed': 256.0}\n",
      "################################################## repeat_seed: 256; fold_02 ##################################################\n",
      "\n",
      " input train and test X shape is (120, 23, 23, 20), (14, 23, 23, 20) \n",
      "roc-auc: nan, mcc: 0.384, pres: 0.679, recall: 0.571, f1: 0.570\n",
      "{'auc': nan, 'mcc': 0.384, 'pres': 0.679, 'recall': 0.571, 'f1': 0.57, 'i': 5.0, 'repeat_seed': 256.0}\n",
      "################################################## repeat_seed: 256; fold_03 ##################################################\n",
      "\n",
      " input train and test X shape is (120, 23, 23, 20), (14, 23, 23, 20) \n",
      "roc-auc: nan, mcc: 0.248, pres: 0.488, recall: 0.500, f1: 0.490\n",
      "{'auc': nan, 'mcc': 0.248, 'pres': 0.488, 'recall': 0.5, 'f1': 0.49, 'i': 5.0, 'repeat_seed': 256.0}\n",
      "################################################## repeat_seed: 256; fold_04 ##################################################\n",
      "\n",
      " input train and test X shape is (121, 23, 23, 20), (13, 23, 23, 20) \n",
      "roc-auc: nan, mcc: 0.441, pres: 0.669, recall: 0.615, f1: 0.628\n",
      "{'auc': nan, 'mcc': 0.441, 'pres': 0.669, 'recall': 0.615, 'f1': 0.628, 'i': 5.0, 'repeat_seed': 256.0}\n",
      "################################################## repeat_seed: 256; fold_05 ##################################################\n",
      "\n",
      " input train and test X shape is (121, 23, 23, 20), (13, 23, 23, 20) \n",
      "roc-auc: nan, mcc: 0.425, pres: 0.681, recall: 0.615, f1: 0.615\n",
      "{'auc': nan, 'mcc': 0.425, 'pres': 0.681, 'recall': 0.615, 'f1': 0.615, 'i': 5.0, 'repeat_seed': 256.0}\n",
      "################################################## repeat_seed: 256; fold_06 ##################################################\n",
      "\n",
      " input train and test X shape is (121, 23, 23, 20), (13, 23, 23, 20) \n",
      "roc-auc: nan, mcc: 0.300, pres: 0.551, recall: 0.538, f1: 0.539\n",
      "{'auc': nan, 'mcc': 0.3, 'pres': 0.551, 'recall': 0.538, 'f1': 0.539, 'i': 5.0, 'repeat_seed': 256.0}\n",
      "################################################## repeat_seed: 256; fold_07 ##################################################\n",
      "\n",
      " input train and test X shape is (121, 23, 23, 20), (13, 23, 23, 20) \n",
      "roc-auc: nan, mcc: 0.082, pres: 0.397, recall: 0.385, f1: 0.382\n",
      "{'auc': nan, 'mcc': 0.082, 'pres': 0.397, 'recall': 0.385, 'f1': 0.382, 'i': 5.0, 'repeat_seed': 256.0}\n",
      "################################################## repeat_seed: 256; fold_08 ##################################################\n",
      "\n",
      " input train and test X shape is (121, 23, 23, 20), (13, 23, 23, 20) \n",
      "roc-auc: nan, mcc: 0.331, pres: 0.574, recall: 0.538, f1: 0.527\n",
      "{'auc': nan, 'mcc': 0.331, 'pres': 0.574, 'recall': 0.538, 'f1': 0.527, 'i': 5.0, 'repeat_seed': 256.0}\n",
      "################################################## repeat_seed: 256; fold_09 ##################################################\n",
      "\n",
      " input train and test X shape is (121, 23, 23, 20), (13, 23, 23, 20) \n",
      "roc-auc: nan, mcc: 0.892, pres: 0.938, recall: 0.923, f1: 0.922\n",
      "{'auc': nan, 'mcc': 0.892, 'pres': 0.938, 'recall': 0.923, 'f1': 0.922, 'i': 5.0, 'repeat_seed': 256.0}\n",
      "\n",
      "\n",
      "results for seed 256\n",
      "{'auc': nan, 'mcc': 0.35009999999999997, 'pres': 0.5894, 'recall': 0.5614000000000001, 'f1': 0.5557000000000001, 'i': 5.0, 'repeat_seed': 256.0}\n",
      "################################################## repeat_seed: 1024; fold_00 ##################################################\n",
      "\n",
      " input train and test X shape is (120, 23, 23, 20), (14, 23, 23, 20) \n",
      "roc-auc: nan, mcc: 0.577, pres: 0.725, recall: 0.714, f1: 0.714\n",
      "{'auc': nan, 'mcc': 0.577, 'pres': 0.725, 'recall': 0.714, 'f1': 0.714, 'i': 6.0, 'repeat_seed': 1024.0}\n",
      "################################################## repeat_seed: 1024; fold_01 ##################################################\n",
      "\n",
      " input train and test X shape is (120, 23, 23, 20), (14, 23, 23, 20) \n",
      "roc-auc: nan, mcc: 0.682, pres: 0.810, recall: 0.786, f1: 0.791\n",
      "{'auc': nan, 'mcc': 0.682, 'pres': 0.81, 'recall': 0.786, 'f1': 0.791, 'i': 6.0, 'repeat_seed': 1024.0}\n",
      "################################################## repeat_seed: 1024; fold_02 ##################################################\n",
      "\n",
      " input train and test X shape is (120, 23, 23, 20), (14, 23, 23, 20) \n",
      "roc-auc: nan, mcc: 0.148, pres: 0.474, recall: 0.429, f1: 0.437\n",
      "{'auc': nan, 'mcc': 0.148, 'pres': 0.474, 'recall': 0.429, 'f1': 0.437, 'i': 6.0, 'repeat_seed': 1024.0}\n",
      "################################################## repeat_seed: 1024; fold_03 ##################################################\n",
      "\n",
      " input train and test X shape is (120, 23, 23, 20), (14, 23, 23, 20) \n",
      "roc-auc: nan, mcc: 0.258, pres: 0.529, recall: 0.500, f1: 0.499\n",
      "{'auc': nan, 'mcc': 0.258, 'pres': 0.529, 'recall': 0.5, 'f1': 0.499, 'i': 6.0, 'repeat_seed': 1024.0}\n",
      "################################################## repeat_seed: 1024; fold_04 ##################################################\n",
      "\n",
      " input train and test X shape is (121, 23, 23, 20), (13, 23, 23, 20) \n",
      "roc-auc: nan, mcc: 0.402, pres: 0.577, recall: 0.615, f1: 0.594\n",
      "{'auc': nan, 'mcc': 0.402, 'pres': 0.577, 'recall': 0.615, 'f1': 0.594, 'i': 6.0, 'repeat_seed': 1024.0}\n",
      "################################################## repeat_seed: 1024; fold_05 ##################################################\n",
      "\n",
      " input train and test X shape is (121, 23, 23, 20), (13, 23, 23, 20) \n",
      "roc-auc: nan, mcc: 0.312, pres: 0.531, recall: 0.538, f1: 0.530\n",
      "{'auc': nan, 'mcc': 0.312, 'pres': 0.531, 'recall': 0.538, 'f1': 0.53, 'i': 6.0, 'repeat_seed': 1024.0}\n",
      "################################################## repeat_seed: 1024; fold_06 ##################################################\n",
      "\n",
      " input train and test X shape is (121, 23, 23, 20), (13, 23, 23, 20) \n",
      "roc-auc: nan, mcc: 0.300, pres: 0.577, recall: 0.538, f1: 0.550\n",
      "{'auc': nan, 'mcc': 0.3, 'pres': 0.577, 'recall': 0.538, 'f1': 0.55, 'i': 6.0, 'repeat_seed': 1024.0}\n",
      "################################################## repeat_seed: 1024; fold_07 ##################################################\n",
      "\n",
      " input train and test X shape is (121, 23, 23, 20), (13, 23, 23, 20) \n",
      "roc-auc: nan, mcc: 0.305, pres: 0.551, recall: 0.538, f1: 0.515\n",
      "{'auc': nan, 'mcc': 0.305, 'pres': 0.551, 'recall': 0.538, 'f1': 0.515, 'i': 6.0, 'repeat_seed': 1024.0}\n",
      "################################################## repeat_seed: 1024; fold_08 ##################################################\n",
      "\n",
      " input train and test X shape is (121, 23, 23, 20), (13, 23, 23, 20) \n",
      "roc-auc: nan, mcc: 0.209, pres: 0.513, recall: 0.462, f1: 0.469\n",
      "{'auc': nan, 'mcc': 0.209, 'pres': 0.513, 'recall': 0.462, 'f1': 0.469, 'i': 6.0, 'repeat_seed': 1024.0}\n",
      "################################################## repeat_seed: 1024; fold_09 ##################################################\n",
      "\n",
      " input train and test X shape is (121, 23, 23, 20), (13, 23, 23, 20) \n",
      "roc-auc: nan, mcc: 0.208, pres: 0.420, recall: 0.462, f1: 0.424\n",
      "{'auc': nan, 'mcc': 0.208, 'pres': 0.42, 'recall': 0.462, 'f1': 0.424, 'i': 6.0, 'repeat_seed': 1024.0}\n",
      "\n",
      "\n",
      "results for seed 1024\n",
      "{'auc': nan, 'mcc': 0.34009999999999996, 'pres': 0.5707000000000001, 'recall': 0.5582, 'f1': 0.5523, 'i': 6.0, 'repeat_seed': 1024.0}\n",
      "################################################## repeat_seed: 2048; fold_00 ##################################################\n",
      "\n",
      " input train and test X shape is (120, 23, 23, 20), (14, 23, 23, 20) \n",
      "roc-auc: nan, mcc: 0.680, pres: 0.774, recall: 0.786, f1: 0.774\n",
      "{'auc': nan, 'mcc': 0.68, 'pres': 0.774, 'recall': 0.786, 'f1': 0.774, 'i': 7.0, 'repeat_seed': 2048.0}\n",
      "################################################## repeat_seed: 2048; fold_01 ##################################################\n",
      "\n",
      " input train and test X shape is (120, 23, 23, 20), (14, 23, 23, 20) \n",
      "roc-auc: nan, mcc: 0.248, pres: 0.470, recall: 0.500, f1: 0.482\n",
      "{'auc': nan, 'mcc': 0.248, 'pres': 0.47, 'recall': 0.5, 'f1': 0.482, 'i': 7.0, 'repeat_seed': 2048.0}\n",
      "################################################## repeat_seed: 2048; fold_02 ##################################################\n",
      "\n",
      " input train and test X shape is (120, 23, 23, 20), (14, 23, 23, 20) \n",
      "roc-auc: nan, mcc: 0.382, pres: 0.659, recall: 0.571, f1: 0.567\n",
      "{'auc': nan, 'mcc': 0.382, 'pres': 0.659, 'recall': 0.571, 'f1': 0.567, 'i': 7.0, 'repeat_seed': 2048.0}\n",
      "################################################## repeat_seed: 2048; fold_03 ##################################################\n",
      "\n",
      " input train and test X shape is (120, 23, 23, 20), (14, 23, 23, 20) \n",
      "roc-auc: nan, mcc: 0.481, pres: 0.679, recall: 0.643, f1: 0.648\n",
      "{'auc': nan, 'mcc': 0.481, 'pres': 0.679, 'recall': 0.643, 'f1': 0.648, 'i': 7.0, 'repeat_seed': 2048.0}\n",
      "################################################## repeat_seed: 2048; fold_04 ##################################################\n",
      "\n",
      " input train and test X shape is (121, 23, 23, 20), (13, 23, 23, 20) \n",
      "roc-auc: nan, mcc: 0.169, pres: 0.516, recall: 0.462, f1: 0.462\n",
      "{'auc': nan, 'mcc': 0.169, 'pres': 0.516, 'recall': 0.462, 'f1': 0.462, 'i': 7.0, 'repeat_seed': 2048.0}\n",
      "################################################## repeat_seed: 2048; fold_05 ##################################################\n",
      "\n",
      " input train and test X shape is (121, 23, 23, 20), (13, 23, 23, 20) \n",
      "roc-auc: nan, mcc: 0.306, pres: 0.623, recall: 0.538, f1: 0.552\n",
      "{'auc': nan, 'mcc': 0.306, 'pres': 0.623, 'recall': 0.538, 'f1': 0.552, 'i': 7.0, 'repeat_seed': 2048.0}\n",
      "################################################## repeat_seed: 2048; fold_06 ##################################################\n",
      "\n",
      " input train and test X shape is (121, 23, 23, 20), (13, 23, 23, 20) \n",
      "roc-auc: nan, mcc: 0.418, pres: 0.628, recall: 0.615, f1: 0.616\n",
      "{'auc': nan, 'mcc': 0.418, 'pres': 0.628, 'recall': 0.615, 'f1': 0.616, 'i': 7.0, 'repeat_seed': 2048.0}\n",
      "################################################## repeat_seed: 2048; fold_07 ##################################################\n",
      "\n",
      " input train and test X shape is (121, 23, 23, 20), (13, 23, 23, 20) \n",
      "roc-auc: nan, mcc: 0.189, pres: 0.472, recall: 0.462, f1: 0.464\n",
      "{'auc': nan, 'mcc': 0.189, 'pres': 0.472, 'recall': 0.462, 'f1': 0.464, 'i': 7.0, 'repeat_seed': 2048.0}\n",
      "################################################## repeat_seed: 2048; fold_08 ##################################################\n",
      "\n",
      " input train and test X shape is (121, 23, 23, 20), (13, 23, 23, 20) \n",
      "roc-auc: nan, mcc: 0.182, pres: 0.436, recall: 0.462, f1: 0.445\n",
      "{'auc': nan, 'mcc': 0.182, 'pres': 0.436, 'recall': 0.462, 'f1': 0.445, 'i': 7.0, 'repeat_seed': 2048.0}\n",
      "################################################## repeat_seed: 2048; fold_09 ##################################################\n",
      "\n",
      " input train and test X shape is (121, 23, 23, 20), (13, 23, 23, 20) \n",
      "roc-auc: nan, mcc: 0.205, pres: 0.363, recall: 0.462, f1: 0.399\n",
      "{'auc': nan, 'mcc': 0.205, 'pres': 0.363, 'recall': 0.462, 'f1': 0.399, 'i': 7.0, 'repeat_seed': 2048.0}\n",
      "\n",
      "\n",
      "results for seed 2048\n",
      "{'auc': nan, 'mcc': 0.326, 'pres': 0.5619999999999999, 'recall': 0.5500999999999999, 'f1': 0.5409, 'i': 7.0, 'repeat_seed': 2048.0}\n",
      "################################################## repeat_seed: 4096; fold_00 ##################################################\n",
      "\n",
      " input train and test X shape is (120, 23, 23, 20), (14, 23, 23, 20) \n",
      "roc-auc: nan, mcc: -0.099, pres: 0.268, recall: 0.286, f1: 0.269\n",
      "{'auc': nan, 'mcc': -0.099, 'pres': 0.268, 'recall': 0.286, 'f1': 0.269, 'i': 8.0, 'repeat_seed': 4096.0}\n",
      "################################################## repeat_seed: 4096; fold_01 ##################################################\n",
      "\n",
      " input train and test X shape is (120, 23, 23, 20), (14, 23, 23, 20) \n",
      "roc-auc: nan, mcc: 0.129, pres: 0.327, recall: 0.429, f1: 0.369\n",
      "{'auc': nan, 'mcc': 0.129, 'pres': 0.327, 'recall': 0.429, 'f1': 0.369, 'i': 8.0, 'repeat_seed': 4096.0}\n",
      "################################################## repeat_seed: 4096; fold_02 ##################################################\n",
      "\n",
      " input train and test X shape is (120, 23, 23, 20), (14, 23, 23, 20) \n",
      "roc-auc: nan, mcc: 0.246, pres: 0.522, recall: 0.500, f1: 0.501\n",
      "{'auc': nan, 'mcc': 0.246, 'pres': 0.522, 'recall': 0.5, 'f1': 0.501, 'i': 8.0, 'repeat_seed': 4096.0}\n",
      "################################################## repeat_seed: 4096; fold_03 ##################################################\n",
      "\n",
      " input train and test X shape is (120, 23, 23, 20), (14, 23, 23, 20) \n",
      "roc-auc: nan, mcc: 0.040, pres: 0.516, recall: 0.357, f1: 0.387\n",
      "{'auc': nan, 'mcc': 0.04, 'pres': 0.516, 'recall': 0.357, 'f1': 0.387, 'i': 8.0, 'repeat_seed': 4096.0}\n",
      "################################################## repeat_seed: 4096; fold_04 ##################################################\n",
      "\n",
      " input train and test X shape is (121, 23, 23, 20), (13, 23, 23, 20) \n",
      "roc-auc: nan, mcc: 0.229, pres: 0.583, recall: 0.462, f1: 0.500\n",
      "{'auc': nan, 'mcc': 0.229, 'pres': 0.583, 'recall': 0.462, 'f1': 0.5, 'i': 8.0, 'repeat_seed': 4096.0}\n",
      "################################################## repeat_seed: 4096; fold_05 ##################################################\n",
      "\n",
      " input train and test X shape is (121, 23, 23, 20), (13, 23, 23, 20) \n",
      "roc-auc: nan, mcc: 0.304, pres: 0.538, recall: 0.538, f1: 0.538\n",
      "{'auc': nan, 'mcc': 0.304, 'pres': 0.538, 'recall': 0.538, 'f1': 0.538, 'i': 8.0, 'repeat_seed': 4096.0}\n",
      "################################################## repeat_seed: 4096; fold_06 ##################################################\n",
      "\n",
      " input train and test X shape is (121, 23, 23, 20), (13, 23, 23, 20) \n",
      "roc-auc: nan, mcc: 0.704, pres: 0.836, recall: 0.769, f1: 0.739\n",
      "{'auc': nan, 'mcc': 0.704, 'pres': 0.836, 'recall': 0.769, 'f1': 0.739, 'i': 8.0, 'repeat_seed': 4096.0}\n",
      "################################################## repeat_seed: 4096; fold_07 ##################################################\n",
      "\n",
      " input train and test X shape is (121, 23, 23, 20), (13, 23, 23, 20) \n",
      "roc-auc: nan, mcc: 0.435, pres: 0.590, recall: 0.615, f1: 0.579\n",
      "{'auc': nan, 'mcc': 0.435, 'pres': 0.59, 'recall': 0.615, 'f1': 0.579, 'i': 8.0, 'repeat_seed': 4096.0}\n",
      "################################################## repeat_seed: 4096; fold_08 ##################################################\n",
      "\n",
      " input train and test X shape is (121, 23, 23, 20), (13, 23, 23, 20) \n",
      "roc-auc: nan, mcc: 0.244, pres: 0.640, recall: 0.462, f1: 0.433\n",
      "{'auc': nan, 'mcc': 0.244, 'pres': 0.64, 'recall': 0.462, 'f1': 0.433, 'i': 8.0, 'repeat_seed': 4096.0}\n",
      "################################################## repeat_seed: 4096; fold_09 ##################################################\n",
      "\n",
      " input train and test X shape is (121, 23, 23, 20), (13, 23, 23, 20) \n",
      "roc-auc: nan, mcc: 0.426, pres: 0.595, recall: 0.615, f1: 0.587\n",
      "{'auc': nan, 'mcc': 0.426, 'pres': 0.595, 'recall': 0.615, 'f1': 0.587, 'i': 8.0, 'repeat_seed': 4096.0}\n",
      "\n",
      "\n",
      "results for seed 4096\n",
      "{'auc': nan, 'mcc': 0.26580000000000004, 'pres': 0.5415, 'recall': 0.5033000000000001, 'f1': 0.4901999999999999, 'i': 8.0, 'repeat_seed': 4096.0}\n",
      "################################################## repeat_seed: 8192; fold_00 ##################################################\n",
      "\n",
      " input train and test X shape is (120, 23, 23, 20), (14, 23, 23, 20) \n",
      "roc-auc: nan, mcc: 0.357, pres: 0.577, recall: 0.571, f1: 0.569\n",
      "{'auc': nan, 'mcc': 0.357, 'pres': 0.577, 'recall': 0.571, 'f1': 0.569, 'i': 9.0, 'repeat_seed': 8192.0}\n",
      "################################################## repeat_seed: 8192; fold_01 ##################################################\n",
      "\n",
      " input train and test X shape is (120, 23, 23, 20), (14, 23, 23, 20) \n",
      "roc-auc: nan, mcc: 0.354, pres: 0.571, recall: 0.571, f1: 0.571\n",
      "{'auc': nan, 'mcc': 0.354, 'pres': 0.571, 'recall': 0.571, 'f1': 0.571, 'i': 9.0, 'repeat_seed': 8192.0}\n",
      "################################################## repeat_seed: 8192; fold_02 ##################################################\n",
      "\n",
      " input train and test X shape is (120, 23, 23, 20), (14, 23, 23, 20) \n",
      "roc-auc: nan, mcc: 0.352, pres: 0.560, recall: 0.571, f1: 0.562\n",
      "{'auc': nan, 'mcc': 0.352, 'pres': 0.56, 'recall': 0.571, 'f1': 0.562, 'i': 9.0, 'repeat_seed': 8192.0}\n",
      "################################################## repeat_seed: 8192; fold_03 ##################################################\n",
      "\n",
      " input train and test X shape is (120, 23, 23, 20), (14, 23, 23, 20) \n",
      "roc-auc: nan, mcc: 0.476, pres: 0.636, recall: 0.643, f1: 0.619\n",
      "{'auc': nan, 'mcc': 0.476, 'pres': 0.636, 'recall': 0.643, 'f1': 0.619, 'i': 9.0, 'repeat_seed': 8192.0}\n",
      "################################################## repeat_seed: 8192; fold_04 ##################################################\n",
      "\n",
      " input train and test X shape is (121, 23, 23, 20), (13, 23, 23, 20) \n",
      "roc-auc: nan, mcc: 0.413, pres: 0.603, recall: 0.615, f1: 0.605\n",
      "{'auc': nan, 'mcc': 0.413, 'pres': 0.603, 'recall': 0.615, 'f1': 0.605, 'i': 9.0, 'repeat_seed': 8192.0}\n",
      "################################################## repeat_seed: 8192; fold_05 ##################################################\n",
      "\n",
      " input train and test X shape is (121, 23, 23, 20), (13, 23, 23, 20) \n",
      "roc-auc: nan, mcc: 0.207, pres: 0.503, recall: 0.462, f1: 0.466\n",
      "{'auc': nan, 'mcc': 0.207, 'pres': 0.503, 'recall': 0.462, 'f1': 0.466, 'i': 9.0, 'repeat_seed': 8192.0}\n",
      "################################################## repeat_seed: 8192; fold_06 ##################################################\n",
      "\n",
      " input train and test X shape is (121, 23, 23, 20), (13, 23, 23, 20) \n",
      "roc-auc: nan, mcc: 0.182, pres: 0.487, recall: 0.462, f1: 0.470\n",
      "{'auc': nan, 'mcc': 0.182, 'pres': 0.487, 'recall': 0.462, 'f1': 0.47, 'i': 9.0, 'repeat_seed': 8192.0}\n",
      "################################################## repeat_seed: 8192; fold_07 ##################################################\n",
      "\n",
      " input train and test X shape is (121, 23, 23, 20), (13, 23, 23, 20) \n",
      "roc-auc: nan, mcc: 0.306, pres: 0.533, recall: 0.538, f1: 0.532\n",
      "{'auc': nan, 'mcc': 0.306, 'pres': 0.533, 'recall': 0.538, 'f1': 0.532, 'i': 9.0, 'repeat_seed': 8192.0}\n",
      "################################################## repeat_seed: 8192; fold_08 ##################################################\n",
      "\n",
      " input train and test X shape is (121, 23, 23, 20), (13, 23, 23, 20) \n",
      "roc-auc: nan, mcc: 0.429, pres: 0.662, recall: 0.615, f1: 0.632\n",
      "{'auc': nan, 'mcc': 0.429, 'pres': 0.662, 'recall': 0.615, 'f1': 0.632, 'i': 9.0, 'repeat_seed': 8192.0}\n",
      "################################################## repeat_seed: 8192; fold_09 ##################################################\n",
      "\n",
      " input train and test X shape is (121, 23, 23, 20), (13, 23, 23, 20) \n",
      "roc-auc: nan, mcc: 0.483, pres: 0.692, recall: 0.615, f1: 0.596\n",
      "{'auc': nan, 'mcc': 0.483, 'pres': 0.692, 'recall': 0.615, 'f1': 0.596, 'i': 9.0, 'repeat_seed': 8192.0}\n",
      "\n",
      "\n",
      "results for seed 8192\n",
      "{'auc': nan, 'mcc': 0.3559, 'pres': 0.5824, 'recall': 0.5663000000000001, 'f1': 0.5622, 'i': 9.0, 'repeat_seed': 8192.0}\n"
     ]
    }
   ],
   "source": [
    "gpuid = 2\n",
    "\n",
    "outer_fold = 10\n",
    "repeat_seeds = [8, 16, 32, 64, 128, 256, 1024, 2048, 4096, 8192] #10 repeats random seeds 8, 16, 32, 64, 128 , \n",
    "\n",
    "each_fold_results = []\n",
    "run_all_res = []\n",
    "\n",
    "for i, repeat_seed in enumerate(repeat_seeds): \n",
    "    outer = StratifiedKFold(n_splits = outer_fold, shuffle = True, random_state = repeat_seed)\n",
    "    outer_idx = outer.split(range(len(dfy)), dfy.idxmax(axis=1))\n",
    "    run_one_res = []\n",
    "    one_repeat_results = []\n",
    "    for j, idx in enumerate(outer_idx):\n",
    "        fold_num = \"fold_%s\" % str(j).zfill(2) \n",
    "        print('#'*50 + ' repeat_seed: %s; %s ' % (repeat_seed, fold_num) + '#'*50 )\n",
    "        \n",
    "        train_idx, test_idx = idx\n",
    "\n",
    "        testY = Y[test_idx]\n",
    "        testX = X[test_idx]\n",
    "        \n",
    "        trainX = X[train_idx]\n",
    "        trainY = Y[train_idx]\n",
    "\n",
    "        print(\"\\n input train and test X shape is %s, %s \" % (trainX.shape,  testX.shape))\n",
    "\n",
    "        clf = AggModel.MultiClassEstimator(epochs = 25,  batch_size = 2, verbose = 0, gpuid=gpuid) #\n",
    "        clf.fit(trainX, trainY)  #, \n",
    "        \n",
    "        ## save model for explaination\n",
    "        if i == 0:\n",
    "            clf.save_model(os.path.join(save_dir, '%s.model' % fold_num))\n",
    "            paras = clf.get_params()\n",
    "            paras.update({'featHPs':featHPs})\n",
    "            pd.Series(paras).to_json(os.path.join(save_dir, 'HPs.json'))\n",
    "\n",
    "        pred_proba = clf.predict_proba(testX)\n",
    "        y_true = np.argmax(testY,axis=1) \n",
    "        y_pred = np.argmax(pred_proba, axis=1)\n",
    "        \n",
    "        dfr = pd.DataFrame([y_true, y_pred]).T\n",
    "        dfr.columns = ['y_true', 'y_pred']\n",
    "        \n",
    "        dfr.index = dfy.iloc[test_idx].index\n",
    "        auc, mcc, pres, recall, f1  = score(dfr)\n",
    "        run_one_res.append(dfr)\n",
    "        \n",
    "        ts = pd.Series([auc, mcc, pres, recall, f1, i, repeat_seed]).round(3)\n",
    "        ts.index = ['auc', 'mcc', 'pres', 'recall', 'f1', 'i', 'repeat_seed']\n",
    "        print(ts.to_dict())\n",
    "        each_fold_results.append(ts.to_dict())\n",
    "        one_repeat_results.append(ts.to_dict())\n",
    "\n",
    "    print('\\n\\nresults for seed %s' % repeat_seed)\n",
    "    print(pd.DataFrame(one_repeat_results).mean().to_dict())\n",
    "    run_all_res.append(pd.concat(run_one_res))\n"
   ]
  },
  {
   "cell_type": "code",
   "execution_count": null,
   "metadata": {},
   "outputs": [],
   "source": []
  },
  {
   "cell_type": "code",
   "execution_count": null,
   "metadata": {},
   "outputs": [],
   "source": []
  },
  {
   "cell_type": "code",
   "execution_count": 8,
   "metadata": {},
   "outputs": [
    {
     "data": {
      "text/plain": [
       "auc           NaN\n",
       "mcc       0.33956\n",
       "pres      0.57675\n",
       "recall    0.55687\n",
       "f1        0.54892\n",
       "i         4.50000\n",
       "dtype: float64"
      ]
     },
     "execution_count": 8,
     "metadata": {},
     "output_type": "execute_result"
    }
   ],
   "source": [
    "pd.DataFrame(each_fold_results).groupby('repeat_seed').mean().mean()"
   ]
  },
  {
   "cell_type": "code",
   "execution_count": 9,
   "metadata": {},
   "outputs": [
    {
     "data": {
      "text/plain": [
       "auc            NaN\n",
       "mcc       0.182427\n",
       "pres      0.132140\n",
       "recall    0.118149\n",
       "f1        0.120908\n",
       "i         0.000000\n",
       "dtype: float64"
      ]
     },
     "execution_count": 9,
     "metadata": {},
     "output_type": "execute_result"
    }
   ],
   "source": [
    "pd.DataFrame(each_fold_results).groupby('repeat_seed').std().mean()"
   ]
  },
  {
   "cell_type": "code",
   "execution_count": 14,
   "metadata": {},
   "outputs": [],
   "source": [
    "pd.DataFrame(each_fold_results).to_csv(os.path.join(save_dir, 'performance_results.csv'))"
   ]
  },
  {
   "cell_type": "code",
   "execution_count": null,
   "metadata": {},
   "outputs": [],
   "source": []
  },
  {
   "cell_type": "code",
   "execution_count": null,
   "metadata": {},
   "outputs": [],
   "source": []
  },
  {
   "cell_type": "code",
   "execution_count": null,
   "metadata": {},
   "outputs": [],
   "source": []
  },
  {
   "cell_type": "markdown",
   "metadata": {},
   "source": [
    "# feature importance"
   ]
  },
  {
   "cell_type": "code",
   "execution_count": 26,
   "metadata": {
    "collapsed": true,
    "jupyter": {
     "outputs_hidden": true
    }
   },
   "outputs": [
    {
     "name": "stderr",
     "output_type": "stream",
     "text": [
      "  0%|          | 0/529 [00:00<?, ?it/s]"
     ]
    },
    {
     "name": "stdout",
     "output_type": "stream",
     "text": [
      "calculating feature importance for column 0 ...\n"
     ]
    },
    {
     "name": "stderr",
     "output_type": "stream",
     "text": [
      "100%|##########| 529/529 [00:13<00:00, 38.87it/s]\n",
      "  0%|          | 0/529 [00:00<?, ?it/s]"
     ]
    },
    {
     "name": "stdout",
     "output_type": "stream",
     "text": [
      "calculating feature importance for column 1 ...\n"
     ]
    },
    {
     "name": "stderr",
     "output_type": "stream",
     "text": [
      "100%|##########| 529/529 [00:13<00:00, 39.31it/s]\n",
      "  0%|          | 0/529 [00:00<?, ?it/s]"
     ]
    },
    {
     "name": "stdout",
     "output_type": "stream",
     "text": [
      "calculating feature importance for column 2 ...\n"
     ]
    },
    {
     "name": "stderr",
     "output_type": "stream",
     "text": [
      "100%|##########| 529/529 [00:13<00:00, 40.22it/s]\n",
      "  0%|          | 0/529 [00:00<?, ?it/s]"
     ]
    },
    {
     "name": "stdout",
     "output_type": "stream",
     "text": [
      "calculating feature importance for column 0 ...\n"
     ]
    },
    {
     "name": "stderr",
     "output_type": "stream",
     "text": [
      "100%|##########| 529/529 [00:13<00:00, 38.11it/s]\n",
      "  0%|          | 0/529 [00:00<?, ?it/s]"
     ]
    },
    {
     "name": "stdout",
     "output_type": "stream",
     "text": [
      "calculating feature importance for column 1 ...\n"
     ]
    },
    {
     "name": "stderr",
     "output_type": "stream",
     "text": [
      "100%|##########| 529/529 [00:13<00:00, 39.06it/s]\n",
      "  0%|          | 0/529 [00:00<?, ?it/s]"
     ]
    },
    {
     "name": "stdout",
     "output_type": "stream",
     "text": [
      "calculating feature importance for column 2 ...\n"
     ]
    },
    {
     "name": "stderr",
     "output_type": "stream",
     "text": [
      "100%|##########| 529/529 [00:13<00:00, 39.82it/s]\n",
      "  0%|          | 0/529 [00:00<?, ?it/s]"
     ]
    },
    {
     "name": "stdout",
     "output_type": "stream",
     "text": [
      "calculating feature importance for column 0 ...\n"
     ]
    },
    {
     "name": "stderr",
     "output_type": "stream",
     "text": [
      "100%|##########| 529/529 [00:13<00:00, 39.35it/s]\n",
      "  0%|          | 0/529 [00:00<?, ?it/s]"
     ]
    },
    {
     "name": "stdout",
     "output_type": "stream",
     "text": [
      "calculating feature importance for column 1 ...\n"
     ]
    },
    {
     "name": "stderr",
     "output_type": "stream",
     "text": [
      "100%|##########| 529/529 [00:13<00:00, 39.69it/s]\n",
      "  0%|          | 0/529 [00:00<?, ?it/s]"
     ]
    },
    {
     "name": "stdout",
     "output_type": "stream",
     "text": [
      "calculating feature importance for column 2 ...\n"
     ]
    },
    {
     "name": "stderr",
     "output_type": "stream",
     "text": [
      "100%|##########| 529/529 [00:13<00:00, 39.24it/s]\n",
      "  0%|          | 0/529 [00:00<?, ?it/s]"
     ]
    },
    {
     "name": "stdout",
     "output_type": "stream",
     "text": [
      "calculating feature importance for column 0 ...\n"
     ]
    },
    {
     "name": "stderr",
     "output_type": "stream",
     "text": [
      "100%|##########| 529/529 [00:13<00:00, 39.45it/s]\n",
      "  0%|          | 0/529 [00:00<?, ?it/s]"
     ]
    },
    {
     "name": "stdout",
     "output_type": "stream",
     "text": [
      "calculating feature importance for column 1 ...\n"
     ]
    },
    {
     "name": "stderr",
     "output_type": "stream",
     "text": [
      "100%|##########| 529/529 [00:13<00:00, 40.02it/s]\n",
      "  0%|          | 0/529 [00:00<?, ?it/s]"
     ]
    },
    {
     "name": "stdout",
     "output_type": "stream",
     "text": [
      "calculating feature importance for column 2 ...\n"
     ]
    },
    {
     "name": "stderr",
     "output_type": "stream",
     "text": [
      "100%|##########| 529/529 [00:13<00:00, 40.44it/s]\n",
      "  0%|          | 0/529 [00:00<?, ?it/s]"
     ]
    },
    {
     "name": "stdout",
     "output_type": "stream",
     "text": [
      "calculating feature importance for column 0 ...\n"
     ]
    },
    {
     "name": "stderr",
     "output_type": "stream",
     "text": [
      "100%|##########| 529/529 [00:14<00:00, 35.42it/s]\n",
      "  0%|          | 0/529 [00:00<?, ?it/s]"
     ]
    },
    {
     "name": "stdout",
     "output_type": "stream",
     "text": [
      "calculating feature importance for column 1 ...\n"
     ]
    },
    {
     "name": "stderr",
     "output_type": "stream",
     "text": [
      "100%|##########| 529/529 [00:14<00:00, 35.93it/s]\n",
      "  0%|          | 0/529 [00:00<?, ?it/s]"
     ]
    },
    {
     "name": "stdout",
     "output_type": "stream",
     "text": [
      "calculating feature importance for column 2 ...\n"
     ]
    },
    {
     "name": "stderr",
     "output_type": "stream",
     "text": [
      "100%|##########| 529/529 [00:14<00:00, 36.29it/s]\n",
      "  0%|          | 0/529 [00:00<?, ?it/s]"
     ]
    },
    {
     "name": "stdout",
     "output_type": "stream",
     "text": [
      "calculating feature importance for column 0 ...\n"
     ]
    },
    {
     "name": "stderr",
     "output_type": "stream",
     "text": [
      "100%|##########| 529/529 [00:14<00:00, 37.01it/s]\n",
      "  0%|          | 0/529 [00:00<?, ?it/s]"
     ]
    },
    {
     "name": "stdout",
     "output_type": "stream",
     "text": [
      "calculating feature importance for column 1 ...\n"
     ]
    },
    {
     "name": "stderr",
     "output_type": "stream",
     "text": [
      "100%|##########| 529/529 [00:14<00:00, 37.06it/s]\n",
      "  0%|          | 0/529 [00:00<?, ?it/s]"
     ]
    },
    {
     "name": "stdout",
     "output_type": "stream",
     "text": [
      "calculating feature importance for column 2 ...\n"
     ]
    },
    {
     "name": "stderr",
     "output_type": "stream",
     "text": [
      "100%|##########| 529/529 [00:14<00:00, 37.28it/s]\n",
      "  0%|          | 0/529 [00:00<?, ?it/s]"
     ]
    },
    {
     "name": "stdout",
     "output_type": "stream",
     "text": [
      "calculating feature importance for column 0 ...\n"
     ]
    },
    {
     "name": "stderr",
     "output_type": "stream",
     "text": [
      "100%|##########| 529/529 [00:14<00:00, 37.32it/s]\n",
      "  0%|          | 0/529 [00:00<?, ?it/s]"
     ]
    },
    {
     "name": "stdout",
     "output_type": "stream",
     "text": [
      "calculating feature importance for column 1 ...\n"
     ]
    },
    {
     "name": "stderr",
     "output_type": "stream",
     "text": [
      "100%|##########| 529/529 [00:14<00:00, 37.15it/s]\n",
      "  0%|          | 0/529 [00:00<?, ?it/s]"
     ]
    },
    {
     "name": "stdout",
     "output_type": "stream",
     "text": [
      "calculating feature importance for column 2 ...\n"
     ]
    },
    {
     "name": "stderr",
     "output_type": "stream",
     "text": [
      "100%|##########| 529/529 [00:14<00:00, 37.06it/s]\n",
      "  0%|          | 0/529 [00:00<?, ?it/s]"
     ]
    },
    {
     "name": "stdout",
     "output_type": "stream",
     "text": [
      "calculating feature importance for column 0 ...\n"
     ]
    },
    {
     "name": "stderr",
     "output_type": "stream",
     "text": [
      "100%|##########| 529/529 [00:16<00:00, 32.15it/s]\n",
      "  0%|          | 0/529 [00:00<?, ?it/s]"
     ]
    },
    {
     "name": "stdout",
     "output_type": "stream",
     "text": [
      "calculating feature importance for column 1 ...\n"
     ]
    },
    {
     "name": "stderr",
     "output_type": "stream",
     "text": [
      "100%|##########| 529/529 [00:14<00:00, 37.31it/s]\n",
      "  0%|          | 0/529 [00:00<?, ?it/s]"
     ]
    },
    {
     "name": "stdout",
     "output_type": "stream",
     "text": [
      "calculating feature importance for column 2 ...\n"
     ]
    },
    {
     "name": "stderr",
     "output_type": "stream",
     "text": [
      "100%|##########| 529/529 [00:14<00:00, 37.66it/s]\n",
      "  0%|          | 0/529 [00:00<?, ?it/s]"
     ]
    },
    {
     "name": "stdout",
     "output_type": "stream",
     "text": [
      "calculating feature importance for column 0 ...\n"
     ]
    },
    {
     "name": "stderr",
     "output_type": "stream",
     "text": [
      "100%|##########| 529/529 [00:14<00:00, 37.60it/s]\n",
      "  0%|          | 0/529 [00:00<?, ?it/s]"
     ]
    },
    {
     "name": "stdout",
     "output_type": "stream",
     "text": [
      "calculating feature importance for column 1 ...\n"
     ]
    },
    {
     "name": "stderr",
     "output_type": "stream",
     "text": [
      "100%|##########| 529/529 [00:13<00:00, 37.80it/s]\n",
      "  0%|          | 0/529 [00:00<?, ?it/s]"
     ]
    },
    {
     "name": "stdout",
     "output_type": "stream",
     "text": [
      "calculating feature importance for column 2 ...\n"
     ]
    },
    {
     "name": "stderr",
     "output_type": "stream",
     "text": [
      "100%|##########| 529/529 [00:14<00:00, 37.40it/s]\n",
      "  0%|          | 0/529 [00:00<?, ?it/s]"
     ]
    },
    {
     "name": "stdout",
     "output_type": "stream",
     "text": [
      "calculating feature importance for column 0 ...\n"
     ]
    },
    {
     "name": "stderr",
     "output_type": "stream",
     "text": [
      "100%|##########| 529/529 [00:14<00:00, 37.06it/s]\n",
      "  0%|          | 0/529 [00:00<?, ?it/s]"
     ]
    },
    {
     "name": "stdout",
     "output_type": "stream",
     "text": [
      "calculating feature importance for column 1 ...\n"
     ]
    },
    {
     "name": "stderr",
     "output_type": "stream",
     "text": [
      "100%|##########| 529/529 [00:14<00:00, 37.44it/s]\n",
      "  0%|          | 0/529 [00:00<?, ?it/s]"
     ]
    },
    {
     "name": "stdout",
     "output_type": "stream",
     "text": [
      "calculating feature importance for column 2 ...\n"
     ]
    },
    {
     "name": "stderr",
     "output_type": "stream",
     "text": [
      "100%|##########| 529/529 [00:13<00:00, 38.85it/s]\n"
     ]
    }
   ],
   "source": [
    "healthy_imps = []\n",
    "adenoma_imps = []\n",
    "cancer_imps = []\n",
    "\n",
    "for i in range(10):\n",
    "    clf = load_model(os.path.join(save_dir, 'fold_%s.model' % str(i).zfill(2)))\n",
    "    dfe = clf.explain_model(mp, clf.X_, clf.y_, binary_task=False, apply_logrithm=False)\n",
    "    healthy_imps.append(dfe.col_0_importance.to_frame(name = 'fold_%s_imp' % str(i).zfill(2)))\n",
    "    adenoma_imps.append(dfe.col_1_importance.to_frame(name = 'fold_%s_imp' % str(i).zfill(2)))\n",
    "    cancer_imps.append(dfe.col_2_importance.to_frame(name = 'fold_%s_imp' % str(i).zfill(2)))"
   ]
  },
  {
   "cell_type": "code",
   "execution_count": 34,
   "metadata": {},
   "outputs": [],
   "source": [
    "dfi = dfe[dfe.columns[:5]]\n",
    "dfi['scatter_x'] = dfi.v.map(mp.df_embedding.x)\n",
    "dfi['scatter_y'] = dfi.v.map(mp.df_embedding.y)\n",
    "\n",
    "h = pd.concat(healthy_imps, axis=1).mean(axis=1).to_frame(name = 'healthy_avg_imp')\n",
    "a = pd.concat(adenoma_imps, axis=1).mean(axis=1).to_frame(name = 'adenoma_avg_imp')\n",
    "c = pd.concat(cancer_imps, axis=1).mean(axis=1).to_frame(name = 'cancer_avg_imp')\n",
    "\n",
    "\n",
    "dfi = dfi.join(h).join(a).join(c)\n",
    "dfi.to_csv(os.path.join(save_dir, 'feature_imp_results.csv'))"
   ]
  },
  {
   "cell_type": "code",
   "execution_count": 36,
   "metadata": {},
   "outputs": [
    {
     "data": {
      "text/html": [
       "<div>\n",
       "<style scoped>\n",
       "    .dataframe tbody tr th:only-of-type {\n",
       "        vertical-align: middle;\n",
       "    }\n",
       "\n",
       "    .dataframe tbody tr th {\n",
       "        vertical-align: top;\n",
       "    }\n",
       "\n",
       "    .dataframe thead th {\n",
       "        text-align: right;\n",
       "    }\n",
       "</style>\n",
       "<table border=\"1\" class=\"dataframe\">\n",
       "  <thead>\n",
       "    <tr style=\"text-align: right;\">\n",
       "      <th></th>\n",
       "      <th>x</th>\n",
       "      <th>y</th>\n",
       "      <th>v</th>\n",
       "      <th>Subtypes</th>\n",
       "      <th>colors</th>\n",
       "      <th>scatter_x</th>\n",
       "      <th>scatter_y</th>\n",
       "      <th>healthy_avg_imp</th>\n",
       "      <th>adenoma_avg_imp</th>\n",
       "      <th>cancer_avg_imp</th>\n",
       "    </tr>\n",
       "  </thead>\n",
       "  <tbody>\n",
       "    <tr>\n",
       "      <th>0</th>\n",
       "      <td>0</td>\n",
       "      <td>0</td>\n",
       "      <td>k__Bacteria|p__Firmicutes|c__Clostridia|o__Clo...</td>\n",
       "      <td>cluster_02</td>\n",
       "      <td>#ff8e00</td>\n",
       "      <td>-5.224070</td>\n",
       "      <td>-0.537836</td>\n",
       "      <td>-0.662816</td>\n",
       "      <td>-0.654920</td>\n",
       "      <td>-0.651090</td>\n",
       "    </tr>\n",
       "    <tr>\n",
       "      <th>1</th>\n",
       "      <td>1</td>\n",
       "      <td>0</td>\n",
       "      <td>k__Bacteria|p__Firmicutes|c__Clostridia|o__Clo...</td>\n",
       "      <td>cluster_02</td>\n",
       "      <td>#ff8e00</td>\n",
       "      <td>-5.193199</td>\n",
       "      <td>-0.538442</td>\n",
       "      <td>-0.662764</td>\n",
       "      <td>-0.654960</td>\n",
       "      <td>-0.651073</td>\n",
       "    </tr>\n",
       "    <tr>\n",
       "      <th>2</th>\n",
       "      <td>2</td>\n",
       "      <td>0</td>\n",
       "      <td>k__Bacteria|p__Firmicutes|c__Bacilli|o__Bacill...</td>\n",
       "      <td>cluster_02</td>\n",
       "      <td>#ff8e00</td>\n",
       "      <td>-5.188903</td>\n",
       "      <td>-0.506995</td>\n",
       "      <td>-0.662801</td>\n",
       "      <td>-0.654927</td>\n",
       "      <td>-0.651067</td>\n",
       "    </tr>\n",
       "    <tr>\n",
       "      <th>3</th>\n",
       "      <td>3</td>\n",
       "      <td>0</td>\n",
       "      <td>k__Bacteria|p__Firmicutes|c__Bacilli|o__Lactob...</td>\n",
       "      <td>cluster_19</td>\n",
       "      <td>#ff00a6</td>\n",
       "      <td>-3.671085</td>\n",
       "      <td>0.387777</td>\n",
       "      <td>-0.644138</td>\n",
       "      <td>-0.637310</td>\n",
       "      <td>-0.648428</td>\n",
       "    </tr>\n",
       "    <tr>\n",
       "      <th>4</th>\n",
       "      <td>4</td>\n",
       "      <td>0</td>\n",
       "      <td>k__Bacteria|p__Firmicutes|c__Bacilli|o__Lactob...</td>\n",
       "      <td>cluster_19</td>\n",
       "      <td>#ff00a6</td>\n",
       "      <td>-3.457056</td>\n",
       "      <td>0.580303</td>\n",
       "      <td>-0.601988</td>\n",
       "      <td>-0.605263</td>\n",
       "      <td>-0.633784</td>\n",
       "    </tr>\n",
       "    <tr>\n",
       "      <th>...</th>\n",
       "      <td>...</td>\n",
       "      <td>...</td>\n",
       "      <td>...</td>\n",
       "      <td>...</td>\n",
       "      <td>...</td>\n",
       "      <td>...</td>\n",
       "      <td>...</td>\n",
       "      <td>...</td>\n",
       "      <td>...</td>\n",
       "      <td>...</td>\n",
       "    </tr>\n",
       "    <tr>\n",
       "      <th>524</th>\n",
       "      <td>18</td>\n",
       "      <td>22</td>\n",
       "      <td>0</td>\n",
       "      <td>NaN</td>\n",
       "      <td>#000000</td>\n",
       "      <td>NaN</td>\n",
       "      <td>NaN</td>\n",
       "      <td>-0.663072</td>\n",
       "      <td>-0.655040</td>\n",
       "      <td>-0.651714</td>\n",
       "    </tr>\n",
       "    <tr>\n",
       "      <th>525</th>\n",
       "      <td>19</td>\n",
       "      <td>22</td>\n",
       "      <td>0</td>\n",
       "      <td>NaN</td>\n",
       "      <td>#000000</td>\n",
       "      <td>NaN</td>\n",
       "      <td>NaN</td>\n",
       "      <td>-0.663073</td>\n",
       "      <td>-0.655040</td>\n",
       "      <td>-0.651714</td>\n",
       "    </tr>\n",
       "    <tr>\n",
       "      <th>526</th>\n",
       "      <td>20</td>\n",
       "      <td>22</td>\n",
       "      <td>0</td>\n",
       "      <td>NaN</td>\n",
       "      <td>#000000</td>\n",
       "      <td>NaN</td>\n",
       "      <td>NaN</td>\n",
       "      <td>-0.663072</td>\n",
       "      <td>-0.655040</td>\n",
       "      <td>-0.651714</td>\n",
       "    </tr>\n",
       "    <tr>\n",
       "      <th>527</th>\n",
       "      <td>21</td>\n",
       "      <td>22</td>\n",
       "      <td>0</td>\n",
       "      <td>NaN</td>\n",
       "      <td>#000000</td>\n",
       "      <td>NaN</td>\n",
       "      <td>NaN</td>\n",
       "      <td>-0.663073</td>\n",
       "      <td>-0.655040</td>\n",
       "      <td>-0.651714</td>\n",
       "    </tr>\n",
       "    <tr>\n",
       "      <th>528</th>\n",
       "      <td>22</td>\n",
       "      <td>22</td>\n",
       "      <td>0</td>\n",
       "      <td>NaN</td>\n",
       "      <td>#000000</td>\n",
       "      <td>NaN</td>\n",
       "      <td>NaN</td>\n",
       "      <td>-0.663070</td>\n",
       "      <td>-0.655038</td>\n",
       "      <td>-0.651718</td>\n",
       "    </tr>\n",
       "  </tbody>\n",
       "</table>\n",
       "<p>529 rows × 10 columns</p>\n",
       "</div>"
      ],
      "text/plain": [
       "      x   y                                                  v    Subtypes  \\\n",
       "0     0   0  k__Bacteria|p__Firmicutes|c__Clostridia|o__Clo...  cluster_02   \n",
       "1     1   0  k__Bacteria|p__Firmicutes|c__Clostridia|o__Clo...  cluster_02   \n",
       "2     2   0  k__Bacteria|p__Firmicutes|c__Bacilli|o__Bacill...  cluster_02   \n",
       "3     3   0  k__Bacteria|p__Firmicutes|c__Bacilli|o__Lactob...  cluster_19   \n",
       "4     4   0  k__Bacteria|p__Firmicutes|c__Bacilli|o__Lactob...  cluster_19   \n",
       "..   ..  ..                                                ...         ...   \n",
       "524  18  22                                                  0         NaN   \n",
       "525  19  22                                                  0         NaN   \n",
       "526  20  22                                                  0         NaN   \n",
       "527  21  22                                                  0         NaN   \n",
       "528  22  22                                                  0         NaN   \n",
       "\n",
       "      colors  scatter_x  scatter_y  healthy_avg_imp  adenoma_avg_imp  \\\n",
       "0    #ff8e00  -5.224070  -0.537836        -0.662816        -0.654920   \n",
       "1    #ff8e00  -5.193199  -0.538442        -0.662764        -0.654960   \n",
       "2    #ff8e00  -5.188903  -0.506995        -0.662801        -0.654927   \n",
       "3    #ff00a6  -3.671085   0.387777        -0.644138        -0.637310   \n",
       "4    #ff00a6  -3.457056   0.580303        -0.601988        -0.605263   \n",
       "..       ...        ...        ...              ...              ...   \n",
       "524  #000000        NaN        NaN        -0.663072        -0.655040   \n",
       "525  #000000        NaN        NaN        -0.663073        -0.655040   \n",
       "526  #000000        NaN        NaN        -0.663072        -0.655040   \n",
       "527  #000000        NaN        NaN        -0.663073        -0.655040   \n",
       "528  #000000        NaN        NaN        -0.663070        -0.655038   \n",
       "\n",
       "     cancer_avg_imp  \n",
       "0         -0.651090  \n",
       "1         -0.651073  \n",
       "2         -0.651067  \n",
       "3         -0.648428  \n",
       "4         -0.633784  \n",
       "..              ...  \n",
       "524       -0.651714  \n",
       "525       -0.651714  \n",
       "526       -0.651714  \n",
       "527       -0.651714  \n",
       "528       -0.651718  \n",
       "\n",
       "[529 rows x 10 columns]"
      ]
     },
     "execution_count": 36,
     "metadata": {},
     "output_type": "execute_result"
    }
   ],
   "source": [
    "dfi"
   ]
  },
  {
   "cell_type": "code",
   "execution_count": 42,
   "metadata": {},
   "outputs": [
    {
     "data": {
      "text/plain": [
       "<matplotlib.axes._subplots.AxesSubplot at 0x7fc8d98e87f0>"
      ]
     },
     "execution_count": 42,
     "metadata": {},
     "output_type": "execute_result"
    },
    {
     "data": {
      "image/png": "[encoded data removed]",
      "text/plain": [
       "<Figure size 432x288 with 2 Axes>"
      ]
     },
     "metadata": {
      "needs_background": "light"
     },
     "output_type": "display_data"
    }
   ],
   "source": [
    "sns.heatmap(dfi.healthy_avg_imp.values.reshape(*mp.fmap_shape), vmin=0, cmap = 'jet')"
   ]
  },
  {
   "cell_type": "code",
   "execution_count": 40,
   "metadata": {},
   "outputs": [
    {
     "data": {
      "text/plain": [
       "<matplotlib.axes._subplots.AxesSubplot at 0x7fc8d9ac2c50>"
      ]
     },
     "execution_count": 40,
     "metadata": {},
     "output_type": "execute_result"
    },
    {
     "data": {
      "image/png": "[encoded data removed]",
      "text/plain": [
       "<Figure size 432x288 with 2 Axes>"
      ]
     },
     "metadata": {
      "needs_background": "light"
     },
     "output_type": "display_data"
    }
   ],
   "source": [
    "sns.heatmap(dfi.adenoma_avg_imp.values.reshape(*mp.fmap_shape), vmin=0, cmap = 'jet')"
   ]
  },
  {
   "cell_type": "code",
   "execution_count": 41,
   "metadata": {},
   "outputs": [
    {
     "data": {
      "text/plain": [
       "<matplotlib.axes._subplots.AxesSubplot at 0x7fc8d99a2588>"
      ]
     },
     "execution_count": 41,
     "metadata": {},
     "output_type": "execute_result"
    },
    {
     "data": {
      "image/png": "[encoded data removed]",
      "text/plain": [
       "<Figure size 432x288 with 2 Axes>"
      ]
     },
     "metadata": {
      "needs_background": "light"
     },
     "output_type": "display_data"
    }
   ],
   "source": [
    "sns.heatmap(dfi.cancer_avg_imp.values.reshape(*mp.fmap_shape), vmin=0,  cmap = 'jet')"
   ]
  },
  {
   "cell_type": "code",
   "execution_count": null,
   "metadata": {},
   "outputs": [],
   "source": []
  },
  {
   "cell_type": "code",
   "execution_count": null,
   "metadata": {},
   "outputs": [],
   "source": []
  },
  {
   "cell_type": "code",
   "execution_count": null,
   "metadata": {},
   "outputs": [],
   "source": []
  }
 ],
 "metadata": {
  "kernelspec": {
   "display_name": "Python 3",
   "language": "python",
   "name": "python3"
  },
  "language_info": {
   "codemirror_mode": {
    "name": "ipython",
    "version": 3
   },
   "file_extension": ".py",
   "mimetype": "text/x-python",
   "name": "python",
   "nbconvert_exporter": "python",
   "pygments_lexer": "ipython3",
   "version": "3.6.9"
  }
 },
 "nbformat": 4,
 "nbformat_minor": 4
}
