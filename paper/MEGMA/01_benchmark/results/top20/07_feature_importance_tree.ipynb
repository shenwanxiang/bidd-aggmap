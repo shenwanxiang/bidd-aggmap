{
 "cells": [
  {
   "cell_type": "code",
   "execution_count": 2,
   "metadata": {},
   "outputs": [],
   "source": [
    "import warnings, os\n",
    "warnings.filterwarnings(\"ignore\")\n",
    "\n",
    "from copy import copy\n",
    "import pandas as pd\n",
    "import numpy as np\n",
    "from tqdm import tqdm\n",
    "from sklearn.model_selection import KFold, StratifiedKFold\n",
    "from sklearn.metrics import confusion_matrix, precision_recall_curve\n",
    "from sklearn.metrics import roc_auc_score, matthews_corrcoef, precision_score, recall_score, f1_score\n",
    "\n",
    "\n",
    "import seaborn as sns\n",
    "import matplotlib.pyplot as plt\n",
    "from joblib import dump, load\n",
    "\n",
    "from aggmap import AggMap, AggMapNet, loadmap\n",
    "from aggmap.AggMapNet import load_model, save_model\n",
    "from aggmap import show\n",
    "\n",
    "\n",
    "#grey: #999999\n",
    "np.random.seed(666) #just for reaptable results\n"
   ]
  },
  {
   "cell_type": "code",
   "execution_count": 3,
   "metadata": {},
   "outputs": [
    {
     "data": {
      "image/png": "[encoded data removed]",
      "text/plain": [
       "<Figure size 360x72 with 1 Axes>"
      ]
     },
     "metadata": {
      "needs_background": "light"
     },
     "output_type": "display_data"
    }
   ],
   "source": [
    "c = sns.color_palette('hsv', 8, desat=1).as_hex()\n",
    "my_color = [c[0], c[2], c[4], c[6], c[7]]\n",
    "sns.palplot(my_color)"
   ]
  },
  {
   "cell_type": "code",
   "execution_count": 4,
   "metadata": {},
   "outputs": [
    {
     "data": {
      "image/png": "[encoded data removed]",
      "text/plain": [
       "<Figure size 360x72 with 1 Axes>"
      ]
     },
     "metadata": {
      "needs_background": "light"
     },
     "output_type": "display_data"
    }
   ],
   "source": [
    "sns.palplot(my_color)"
   ]
  },
  {
   "cell_type": "code",
   "execution_count": 5,
   "metadata": {},
   "outputs": [
    {
     "data": {
      "text/plain": [
       "(['#ffa500', '#08ff00', '#00b5ff', '#9b00ff', '#ff00bd'],\n",
       " ['#ffa500',\n",
       "  '#b3ff00',\n",
       "  '#08ff00',\n",
       "  '#00ff9d',\n",
       "  '#00b5ff',\n",
       "  '#0010ff',\n",
       "  '#9b00ff',\n",
       "  '#ff00bd'])"
      ]
     },
     "execution_count": 5,
     "metadata": {},
     "output_type": "execute_result"
    }
   ],
   "source": [
    "my_color, c"
   ]
  },
  {
   "cell_type": "code",
   "execution_count": 6,
   "metadata": {},
   "outputs": [],
   "source": [
    "disease_colormap = {'cirrhosis': '#ffa500', \n",
    "                    'ibd':'#08ff00', \n",
    "                    't2d':'#00b5ff', \n",
    "                    'obesity':'#9b00ff' , \n",
    "                    'crc':'#ff00bd'}"
   ]
  },
  {
   "cell_type": "code",
   "execution_count": 7,
   "metadata": {},
   "outputs": [],
   "source": [
    "clade_colormap = {'Lachnospiraceae': '#ff005c',\n",
    " 'Clostridiaceae': '#f589d9',\n",
    " 'Ruminococcaceae': '#9904f6',\n",
    " 'Eubacterium': '#2204f9',\n",
    " 'Peptostreptococcaceae': '#00b5ff',\n",
    " 'Veillonellaceae': '#04eff6',\n",
    " 'Streptococcaceae': '#00ff9d',\n",
    " 'Bacteroidaceae': '#b3ff00',\n",
    " 'Rikenellaceae': '#f0c40f',\n",
    " 'Porphyromonadaceae': '#f84b0a',\n",
    " 'Proteobacteria': '#cc0000',\n",
    " 'Actinobacteria': '#ffa500'}"
   ]
  },
  {
   "cell_type": "code",
   "execution_count": 8,
   "metadata": {},
   "outputs": [
    {
     "data": {
      "text/plain": [
       "Lachnospiraceae          #ff005c\n",
       "Clostridiaceae           #f589d9\n",
       "Ruminococcaceae          #9904f6\n",
       "Eubacterium              #2204f9\n",
       "Peptostreptococcaceae    #00b5ff\n",
       "Veillonellaceae          #04eff6\n",
       "Streptococcaceae         #00ff9d\n",
       "Bacteroidaceae           #b3ff00\n",
       "Rikenellaceae            #f0c40f\n",
       "Porphyromonadaceae       #f84b0a\n",
       "Proteobacteria           #cc0000\n",
       "Actinobacteria           #ffa500\n",
       "dtype: object"
      ]
     },
     "execution_count": 8,
     "metadata": {},
     "output_type": "execute_result"
    }
   ],
   "source": [
    "pd.Series(clade_colormap)"
   ]
  },
  {
   "cell_type": "code",
   "execution_count": null,
   "metadata": {},
   "outputs": [],
   "source": []
  },
  {
   "cell_type": "code",
   "execution_count": null,
   "metadata": {},
   "outputs": [],
   "source": []
  },
  {
   "cell_type": "code",
   "execution_count": null,
   "metadata": {},
   "outputs": [],
   "source": []
  },
  {
   "cell_type": "code",
   "execution_count": null,
   "metadata": {},
   "outputs": [],
   "source": []
  },
  {
   "cell_type": "code",
   "execution_count": 9,
   "metadata": {},
   "outputs": [],
   "source": [
    "from  aggmap.utils.gen_nwk import mp2newick, dfs_to_weightless_newick"
   ]
  },
  {
   "cell_type": "code",
   "execution_count": 10,
   "metadata": {},
   "outputs": [],
   "source": [
    "top = 30"
   ]
  },
  {
   "cell_type": "code",
   "execution_count": 11,
   "metadata": {},
   "outputs": [],
   "source": [
    "cirrhosis1 = pd.read_csv('../Cirrhosis_results/feature_imp_results.csv', index_col=0)\n",
    "cirrhosis = cirrhosis1.sort_values('avg_imp', ascending=False)[['v', 'avg_imp']].head(top)\n",
    "cirrhosis = cirrhosis.set_index('v')\n",
    "cirrhosis['avg_imp'] = cirrhosis['avg_imp'].round(3)\n",
    "\n",
    "ibd1 = pd.read_csv('../IBD_results/feature_imp_results.csv', index_col=0)\n",
    "ibd = ibd1.sort_values('avg_imp', ascending=False)[['v', 'avg_imp']].head(top)\n",
    "ibd['avg_imp'] = ibd['avg_imp'].round(3)\n",
    "ibd = ibd.set_index('v')\n",
    "\n",
    "t2d1 = pd.read_csv('../T2D_results/feature_imp_results.csv', index_col=0)\n",
    "t2d = t2d1.sort_values('avg_imp', ascending=False)[['v', 'avg_imp']].head(top)\n",
    "t2d['avg_imp'] = t2d['avg_imp'].round(3)\n",
    "t2d = t2d.set_index('v')\n",
    "\n",
    "obesity1 = pd.read_csv('../Obesity_results/feature_imp_results.csv', index_col=0)\n",
    "obesity = obesity1.sort_values('avg_imp', ascending=False)[['v', 'avg_imp']].head(top)\n",
    "obesity['avg_imp'] = obesity['avg_imp'].round(3)\n",
    "obesity = obesity.set_index('v')\n",
    "\n",
    "crc1 = pd.read_csv('../CRC_results/feature_imp_results.csv', index_col=0)\n",
    "crc = crc1.sort_values('cancer_avg_imp', ascending=False)[['v', 'cancer_avg_imp']].head(top)\n",
    "crc['avg_imp'] = crc['cancer_avg_imp'].round(3)\n",
    "crc = crc.set_index('v')\n"
   ]
  },
  {
   "cell_type": "code",
   "execution_count": 12,
   "metadata": {},
   "outputs": [],
   "source": [
    "uni = set(cirrhosis.index) | set(ibd.index) | set(t2d.index) | set(obesity.index) | set(crc.index) \n",
    "uni = list(uni)"
   ]
  },
  {
   "cell_type": "code",
   "execution_count": 13,
   "metadata": {},
   "outputs": [],
   "source": [
    "df = pd.DataFrame([], index=uni)\n",
    "df = df.join(cirrhosis1.set_index('v')['avg_imp'].to_frame(name = 'cirrhosis'))\n",
    "df = df.join(ibd1.set_index('v')['avg_imp'].to_frame(name = 'ibd'))\n",
    "df = df.join(t2d1.set_index('v')['avg_imp'].to_frame(name = 't2d'))\n",
    "df = df.join(obesity1.set_index('v')['avg_imp'].to_frame(name = 'obesity'))\n",
    "df = df.join(crc1.set_index('v')['cancer_avg_imp'].to_frame(name = 'crc'))\n",
    "\n",
    "df = df.fillna(0)\n",
    "df = df[df > 0].fillna(0)"
   ]
  },
  {
   "cell_type": "code",
   "execution_count": 14,
   "metadata": {},
   "outputs": [
    {
     "data": {
      "text/html": [
       "<div>\n",
       "<style scoped>\n",
       "    .dataframe tbody tr th:only-of-type {\n",
       "        vertical-align: middle;\n",
       "    }\n",
       "\n",
       "    .dataframe tbody tr th {\n",
       "        vertical-align: top;\n",
       "    }\n",
       "\n",
       "    .dataframe thead th {\n",
       "        text-align: right;\n",
       "    }\n",
       "</style>\n",
       "<table border=\"1\" class=\"dataframe\">\n",
       "  <thead>\n",
       "    <tr style=\"text-align: right;\">\n",
       "      <th></th>\n",
       "      <th>cirrhosis</th>\n",
       "      <th>ibd</th>\n",
       "      <th>t2d</th>\n",
       "      <th>obesity</th>\n",
       "      <th>crc</th>\n",
       "    </tr>\n",
       "  </thead>\n",
       "  <tbody>\n",
       "    <tr>\n",
       "      <th>k__Bacteria|p__Actinobacteria|c__Actinobacteria|o__Actinomycetales|f__Micrococcaceae|g__Rothia|s__Rothia_unclassified</th>\n",
       "      <td>0.000000</td>\n",
       "      <td>0.000000</td>\n",
       "      <td>0.000000</td>\n",
       "      <td>0.938736</td>\n",
       "      <td>0.000000</td>\n",
       "    </tr>\n",
       "    <tr>\n",
       "      <th>k__Bacteria|p__Actinobacteria|c__Actinobacteria|o__Bifidobacteriales|f__Bifidobacteriaceae|g__Bifidobacterium|s__Bifidobacterium_bifidum</th>\n",
       "      <td>0.000000</td>\n",
       "      <td>0.000000</td>\n",
       "      <td>0.000000</td>\n",
       "      <td>1.563421</td>\n",
       "      <td>0.000000</td>\n",
       "    </tr>\n",
       "    <tr>\n",
       "      <th>k__Bacteria|p__Actinobacteria|c__Actinobacteria|o__Coriobacteriales|f__Coriobacteriaceae|g__Adlercreutzia|s__Adlercreutzia_equolifaciens</th>\n",
       "      <td>0.630938</td>\n",
       "      <td>0.000000</td>\n",
       "      <td>3.624741</td>\n",
       "      <td>0.000000</td>\n",
       "      <td>2.191944</td>\n",
       "    </tr>\n",
       "    <tr>\n",
       "      <th>k__Bacteria|p__Actinobacteria|c__Actinobacteria|o__Coriobacteriales|f__Coriobacteriaceae|g__Collinsella|s__Collinsella_aerofaciens</th>\n",
       "      <td>1.083213</td>\n",
       "      <td>1.025686</td>\n",
       "      <td>0.961357</td>\n",
       "      <td>0.113544</td>\n",
       "      <td>2.977225</td>\n",
       "    </tr>\n",
       "    <tr>\n",
       "      <th>k__Bacteria|p__Actinobacteria|c__Actinobacteria|o__Coriobacteriales|f__Coriobacteriaceae|g__Olsenella|s__Olsenella_unclassified</th>\n",
       "      <td>0.000000</td>\n",
       "      <td>0.000000</td>\n",
       "      <td>2.195263</td>\n",
       "      <td>0.000000</td>\n",
       "      <td>1.414266</td>\n",
       "    </tr>\n",
       "    <tr>\n",
       "      <th>...</th>\n",
       "      <td>...</td>\n",
       "      <td>...</td>\n",
       "      <td>...</td>\n",
       "      <td>...</td>\n",
       "      <td>...</td>\n",
       "    </tr>\n",
       "    <tr>\n",
       "      <th>k__Bacteria|p__Proteobacteria|c__Betaproteobacteria|o__Burkholderiales|f__Sutterellaceae|g__Sutterella|s__Sutterella_wadsworthensis</th>\n",
       "      <td>1.169662</td>\n",
       "      <td>0.220465</td>\n",
       "      <td>0.749603</td>\n",
       "      <td>2.613542</td>\n",
       "      <td>0.000000</td>\n",
       "    </tr>\n",
       "    <tr>\n",
       "      <th>k__Bacteria|p__Proteobacteria|c__Deltaproteobacteria|o__Desulfovibrionales|f__Desulfovibrionaceae|g__Bilophila|s__Bilophila_unclassified</th>\n",
       "      <td>0.978286</td>\n",
       "      <td>0.406778</td>\n",
       "      <td>1.856035</td>\n",
       "      <td>0.929964</td>\n",
       "      <td>0.267298</td>\n",
       "    </tr>\n",
       "    <tr>\n",
       "      <th>k__Bacteria|p__Proteobacteria|c__Gammaproteobacteria|o__Enterobacteriales|f__Enterobacteriaceae|g__Escherichia|s__Escherichia_coli</th>\n",
       "      <td>0.081534</td>\n",
       "      <td>0.000000</td>\n",
       "      <td>2.338176</td>\n",
       "      <td>0.000000</td>\n",
       "      <td>1.758786</td>\n",
       "    </tr>\n",
       "    <tr>\n",
       "      <th>k__Bacteria|p__Proteobacteria|c__Gammaproteobacteria|o__Pasteurellales|f__Pasteurellaceae|g__Haemophilus|s__Haemophilus_parainfluenzae</th>\n",
       "      <td>7.086851</td>\n",
       "      <td>0.000000</td>\n",
       "      <td>0.224469</td>\n",
       "      <td>0.000000</td>\n",
       "      <td>2.331963</td>\n",
       "    </tr>\n",
       "    <tr>\n",
       "      <th>k__Bacteria|p__Verrucomicrobia|c__Verrucomicrobiae|o__Verrucomicrobiales|f__Verrucomicrobiaceae|g__Akkermansia|s__Akkermansia_muciniphila</th>\n",
       "      <td>1.885437</td>\n",
       "      <td>2.583679</td>\n",
       "      <td>1.389701</td>\n",
       "      <td>2.212121</td>\n",
       "      <td>2.206283</td>\n",
       "    </tr>\n",
       "  </tbody>\n",
       "</table>\n",
       "<p>101 rows × 5 columns</p>\n",
       "</div>"
      ],
      "text/plain": [
       "                                                    cirrhosis       ibd  \\\n",
       "k__Bacteria|p__Actinobacteria|c__Actinobacteria...   0.000000  0.000000   \n",
       "k__Bacteria|p__Actinobacteria|c__Actinobacteria...   0.000000  0.000000   \n",
       "k__Bacteria|p__Actinobacteria|c__Actinobacteria...   0.630938  0.000000   \n",
       "k__Bacteria|p__Actinobacteria|c__Actinobacteria...   1.083213  1.025686   \n",
       "k__Bacteria|p__Actinobacteria|c__Actinobacteria...   0.000000  0.000000   \n",
       "...                                                       ...       ...   \n",
       "k__Bacteria|p__Proteobacteria|c__Betaproteobact...   1.169662  0.220465   \n",
       "k__Bacteria|p__Proteobacteria|c__Deltaproteobac...   0.978286  0.406778   \n",
       "k__Bacteria|p__Proteobacteria|c__Gammaproteobac...   0.081534  0.000000   \n",
       "k__Bacteria|p__Proteobacteria|c__Gammaproteobac...   7.086851  0.000000   \n",
       "k__Bacteria|p__Verrucomicrobia|c__Verrucomicrob...   1.885437  2.583679   \n",
       "\n",
       "                                                         t2d   obesity  \\\n",
       "k__Bacteria|p__Actinobacteria|c__Actinobacteria...  0.000000  0.938736   \n",
       "k__Bacteria|p__Actinobacteria|c__Actinobacteria...  0.000000  1.563421   \n",
       "k__Bacteria|p__Actinobacteria|c__Actinobacteria...  3.624741  0.000000   \n",
       "k__Bacteria|p__Actinobacteria|c__Actinobacteria...  0.961357  0.113544   \n",
       "k__Bacteria|p__Actinobacteria|c__Actinobacteria...  2.195263  0.000000   \n",
       "...                                                      ...       ...   \n",
       "k__Bacteria|p__Proteobacteria|c__Betaproteobact...  0.749603  2.613542   \n",
       "k__Bacteria|p__Proteobacteria|c__Deltaproteobac...  1.856035  0.929964   \n",
       "k__Bacteria|p__Proteobacteria|c__Gammaproteobac...  2.338176  0.000000   \n",
       "k__Bacteria|p__Proteobacteria|c__Gammaproteobac...  0.224469  0.000000   \n",
       "k__Bacteria|p__Verrucomicrobia|c__Verrucomicrob...  1.389701  2.212121   \n",
       "\n",
       "                                                         crc  \n",
       "k__Bacteria|p__Actinobacteria|c__Actinobacteria...  0.000000  \n",
       "k__Bacteria|p__Actinobacteria|c__Actinobacteria...  0.000000  \n",
       "k__Bacteria|p__Actinobacteria|c__Actinobacteria...  2.191944  \n",
       "k__Bacteria|p__Actinobacteria|c__Actinobacteria...  2.977225  \n",
       "k__Bacteria|p__Actinobacteria|c__Actinobacteria...  1.414266  \n",
       "...                                                      ...  \n",
       "k__Bacteria|p__Proteobacteria|c__Betaproteobact...  0.000000  \n",
       "k__Bacteria|p__Proteobacteria|c__Deltaproteobac...  0.267298  \n",
       "k__Bacteria|p__Proteobacteria|c__Gammaproteobac...  1.758786  \n",
       "k__Bacteria|p__Proteobacteria|c__Gammaproteobac...  2.331963  \n",
       "k__Bacteria|p__Verrucomicrobia|c__Verrucomicrob...  2.206283  \n",
       "\n",
       "[101 rows x 5 columns]"
      ]
     },
     "execution_count": 14,
     "metadata": {},
     "output_type": "execute_result"
    }
   ],
   "source": [
    "df"
   ]
  },
  {
   "cell_type": "code",
   "execution_count": 15,
   "metadata": {},
   "outputs": [
    {
     "data": {
      "text/html": [
       "<div>\n",
       "<style scoped>\n",
       "    .dataframe tbody tr th:only-of-type {\n",
       "        vertical-align: middle;\n",
       "    }\n",
       "\n",
       "    .dataframe tbody tr th {\n",
       "        vertical-align: top;\n",
       "    }\n",
       "\n",
       "    .dataframe thead th {\n",
       "        text-align: right;\n",
       "    }\n",
       "</style>\n",
       "<table border=\"1\" class=\"dataframe\">\n",
       "  <thead>\n",
       "    <tr style=\"text-align: right;\">\n",
       "      <th></th>\n",
       "      <th>kingdom</th>\n",
       "      <th>phylum</th>\n",
       "      <th>class</th>\n",
       "      <th>order</th>\n",
       "      <th>family</th>\n",
       "      <th>genus</th>\n",
       "      <th>species</th>\n",
       "    </tr>\n",
       "  </thead>\n",
       "  <tbody>\n",
       "    <tr>\n",
       "      <th>0</th>\n",
       "      <td>Bacteria</td>\n",
       "      <td>Actinobacteria</td>\n",
       "      <td>Actinobacteria</td>\n",
       "      <td>Actinomycetales</td>\n",
       "      <td>Micrococcaceae</td>\n",
       "      <td>Rothia</td>\n",
       "      <td>Rothia_unclassified</td>\n",
       "    </tr>\n",
       "    <tr>\n",
       "      <th>1</th>\n",
       "      <td>Bacteria</td>\n",
       "      <td>Actinobacteria</td>\n",
       "      <td>Actinobacteria</td>\n",
       "      <td>Bifidobacteriales</td>\n",
       "      <td>Bifidobacteriaceae</td>\n",
       "      <td>Bifidobacterium</td>\n",
       "      <td>Bifidobacterium_bifidum</td>\n",
       "    </tr>\n",
       "    <tr>\n",
       "      <th>2</th>\n",
       "      <td>Bacteria</td>\n",
       "      <td>Actinobacteria</td>\n",
       "      <td>Actinobacteria</td>\n",
       "      <td>Coriobacteriales</td>\n",
       "      <td>Coriobacteriaceae</td>\n",
       "      <td>Adlercreutzia</td>\n",
       "      <td>Adlercreutzia_equolifaciens</td>\n",
       "    </tr>\n",
       "    <tr>\n",
       "      <th>3</th>\n",
       "      <td>Bacteria</td>\n",
       "      <td>Actinobacteria</td>\n",
       "      <td>Actinobacteria</td>\n",
       "      <td>Coriobacteriales</td>\n",
       "      <td>Coriobacteriaceae</td>\n",
       "      <td>Collinsella</td>\n",
       "      <td>Collinsella_aerofaciens</td>\n",
       "    </tr>\n",
       "    <tr>\n",
       "      <th>4</th>\n",
       "      <td>Bacteria</td>\n",
       "      <td>Actinobacteria</td>\n",
       "      <td>Actinobacteria</td>\n",
       "      <td>Coriobacteriales</td>\n",
       "      <td>Coriobacteriaceae</td>\n",
       "      <td>Olsenella</td>\n",
       "      <td>Olsenella_unclassified</td>\n",
       "    </tr>\n",
       "    <tr>\n",
       "      <th>...</th>\n",
       "      <td>...</td>\n",
       "      <td>...</td>\n",
       "      <td>...</td>\n",
       "      <td>...</td>\n",
       "      <td>...</td>\n",
       "      <td>...</td>\n",
       "      <td>...</td>\n",
       "    </tr>\n",
       "    <tr>\n",
       "      <th>96</th>\n",
       "      <td>Bacteria</td>\n",
       "      <td>Proteobacteria</td>\n",
       "      <td>Betaproteobacteria</td>\n",
       "      <td>Burkholderiales</td>\n",
       "      <td>Sutterellaceae</td>\n",
       "      <td>Sutterella</td>\n",
       "      <td>Sutterella_wadsworthensis</td>\n",
       "    </tr>\n",
       "    <tr>\n",
       "      <th>97</th>\n",
       "      <td>Bacteria</td>\n",
       "      <td>Proteobacteria</td>\n",
       "      <td>Deltaproteobacteria</td>\n",
       "      <td>Desulfovibrionales</td>\n",
       "      <td>Desulfovibrionaceae</td>\n",
       "      <td>Bilophila</td>\n",
       "      <td>Bilophila_unclassified</td>\n",
       "    </tr>\n",
       "    <tr>\n",
       "      <th>98</th>\n",
       "      <td>Bacteria</td>\n",
       "      <td>Proteobacteria</td>\n",
       "      <td>Gammaproteobacteria</td>\n",
       "      <td>Enterobacteriales</td>\n",
       "      <td>Enterobacteriaceae</td>\n",
       "      <td>Escherichia</td>\n",
       "      <td>Escherichia_coli</td>\n",
       "    </tr>\n",
       "    <tr>\n",
       "      <th>99</th>\n",
       "      <td>Bacteria</td>\n",
       "      <td>Proteobacteria</td>\n",
       "      <td>Gammaproteobacteria</td>\n",
       "      <td>Pasteurellales</td>\n",
       "      <td>Pasteurellaceae</td>\n",
       "      <td>Haemophilus</td>\n",
       "      <td>Haemophilus_parainfluenzae</td>\n",
       "    </tr>\n",
       "    <tr>\n",
       "      <th>100</th>\n",
       "      <td>Bacteria</td>\n",
       "      <td>Verrucomicrobia</td>\n",
       "      <td>Verrucomicrobiae</td>\n",
       "      <td>Verrucomicrobiales</td>\n",
       "      <td>Verrucomicrobiaceae</td>\n",
       "      <td>Akkermansia</td>\n",
       "      <td>Akkermansia_muciniphila</td>\n",
       "    </tr>\n",
       "  </tbody>\n",
       "</table>\n",
       "<p>101 rows × 7 columns</p>\n",
       "</div>"
      ],
      "text/plain": [
       "      kingdom           phylum                class               order  \\\n",
       "0    Bacteria   Actinobacteria       Actinobacteria     Actinomycetales   \n",
       "1    Bacteria   Actinobacteria       Actinobacteria   Bifidobacteriales   \n",
       "2    Bacteria   Actinobacteria       Actinobacteria    Coriobacteriales   \n",
       "3    Bacteria   Actinobacteria       Actinobacteria    Coriobacteriales   \n",
       "4    Bacteria   Actinobacteria       Actinobacteria    Coriobacteriales   \n",
       "..        ...              ...                  ...                 ...   \n",
       "96   Bacteria   Proteobacteria   Betaproteobacteria     Burkholderiales   \n",
       "97   Bacteria   Proteobacteria  Deltaproteobacteria  Desulfovibrionales   \n",
       "98   Bacteria   Proteobacteria  Gammaproteobacteria   Enterobacteriales   \n",
       "99   Bacteria   Proteobacteria  Gammaproteobacteria      Pasteurellales   \n",
       "100  Bacteria  Verrucomicrobia     Verrucomicrobiae  Verrucomicrobiales   \n",
       "\n",
       "                  family            genus                      species  \n",
       "0         Micrococcaceae           Rothia          Rothia_unclassified  \n",
       "1     Bifidobacteriaceae  Bifidobacterium      Bifidobacterium_bifidum  \n",
       "2      Coriobacteriaceae    Adlercreutzia  Adlercreutzia_equolifaciens  \n",
       "3      Coriobacteriaceae      Collinsella      Collinsella_aerofaciens  \n",
       "4      Coriobacteriaceae        Olsenella       Olsenella_unclassified  \n",
       "..                   ...              ...                          ...  \n",
       "96        Sutterellaceae       Sutterella    Sutterella_wadsworthensis  \n",
       "97   Desulfovibrionaceae        Bilophila       Bilophila_unclassified  \n",
       "98    Enterobacteriaceae      Escherichia             Escherichia_coli  \n",
       "99       Pasteurellaceae      Haemophilus   Haemophilus_parainfluenzae  \n",
       "100  Verrucomicrobiaceae      Akkermansia      Akkermansia_muciniphila  \n",
       "\n",
       "[101 rows x 7 columns]"
      ]
     },
     "execution_count": 15,
     "metadata": {},
     "output_type": "execute_result"
    }
   ],
   "source": [
    "level_dict = {'k':'kingdom', 'p':'phylum', 'c':'class' ,'o':'order' ,'f':'family' ,'g': 'genus','s': 'species'}\n",
    "dfs = pd.Series(df.index).apply(lambda x: dict([i.split('__') for i in x.split('|')])).apply(pd.Series)\n",
    "dfs = dfs.rename(columns=level_dict)\n",
    "dfs"
   ]
  },
  {
   "cell_type": "code",
   "execution_count": 16,
   "metadata": {},
   "outputs": [],
   "source": [
    "nwk_string = dfs_to_weightless_newick(dfs)\n",
    "with open( \"tree.imp_genotype.nwk\", \"w\") as f:\n",
    "    f.write(nwk_string)"
   ]
  },
  {
   "cell_type": "code",
   "execution_count": null,
   "metadata": {},
   "outputs": [],
   "source": []
  },
  {
   "cell_type": "code",
   "execution_count": 17,
   "metadata": {},
   "outputs": [
    {
     "data": {
      "text/plain": [
       "class\n",
       "Deinococci              1\n",
       "Deltaproteobacteria     1\n",
       "Fusobacteriia           1\n",
       "Verrucomicrobiae        1\n",
       "Betaproteobacteria      2\n",
       "Erysipelotrichia        2\n",
       "Gammaproteobacteria     2\n",
       "Actinobacteria          5\n",
       "Bacilli                 5\n",
       "Negativicutes           7\n",
       "Bacteroidia            30\n",
       "Clostridia             44\n",
       "dtype: int64"
      ]
     },
     "execution_count": 17,
     "metadata": {},
     "output_type": "execute_result"
    }
   ],
   "source": [
    "dfs.groupby('class').size().sort_values()"
   ]
  },
  {
   "cell_type": "code",
   "execution_count": 18,
   "metadata": {},
   "outputs": [],
   "source": [
    "level = 'class'\n",
    "so = dfs.groupby(level).size() \n",
    "md = {}\n",
    "for i, j in so.items():\n",
    "    if j <= 2:\n",
    "        md[i] = 'Others'\n",
    "    else:\n",
    "        md[i] = i\n",
    "\n",
    "res = dfs[level].map(md)"
   ]
  },
  {
   "cell_type": "code",
   "execution_count": 19,
   "metadata": {},
   "outputs": [
    {
     "data": {
      "text/plain": [
       "{'Actinobacteria': '#ffa500',\n",
       " 'Bacteroidia': '#b3ff00',\n",
       " 'Others': '#08ff00',\n",
       " 'Bacilli': '#00ff9d',\n",
       " 'Clostridia': '#00b5ff',\n",
       " 'Negativicutes': '#0010ff'}"
      ]
     },
     "execution_count": 19,
     "metadata": {},
     "output_type": "execute_result"
    }
   ],
   "source": [
    "colormap = dict(zip(res.unique(), c))\n",
    "colormap"
   ]
  },
  {
   "cell_type": "code",
   "execution_count": 20,
   "metadata": {},
   "outputs": [],
   "source": [
    "clade = res.map(colormap)\n",
    "clade.index = dfs.species"
   ]
  },
  {
   "cell_type": "code",
   "execution_count": 21,
   "metadata": {},
   "outputs": [],
   "source": [
    "clade.to_csv('1.csv')"
   ]
  },
  {
   "cell_type": "code",
   "execution_count": null,
   "metadata": {},
   "outputs": [],
   "source": []
  },
  {
   "cell_type": "code",
   "execution_count": 22,
   "metadata": {},
   "outputs": [],
   "source": [
    "df.index  = dfs.species\n",
    "df.round(3).to_csv('tree_data_bar.csv')"
   ]
  },
  {
   "cell_type": "code",
   "execution_count": null,
   "metadata": {},
   "outputs": [],
   "source": []
  },
  {
   "cell_type": "code",
   "execution_count": 23,
   "metadata": {},
   "outputs": [
    {
     "data": {
      "text/html": [
       "<div>\n",
       "<style scoped>\n",
       "    .dataframe tbody tr th:only-of-type {\n",
       "        vertical-align: middle;\n",
       "    }\n",
       "\n",
       "    .dataframe tbody tr th {\n",
       "        vertical-align: top;\n",
       "    }\n",
       "\n",
       "    .dataframe thead th {\n",
       "        text-align: right;\n",
       "    }\n",
       "</style>\n",
       "<table border=\"1\" class=\"dataframe\">\n",
       "  <thead>\n",
       "    <tr style=\"text-align: right;\">\n",
       "      <th></th>\n",
       "      <th>cirrhosis</th>\n",
       "      <th>ibd</th>\n",
       "      <th>t2d</th>\n",
       "      <th>obesity</th>\n",
       "      <th>crc</th>\n",
       "    </tr>\n",
       "    <tr>\n",
       "      <th>species</th>\n",
       "      <th></th>\n",
       "      <th></th>\n",
       "      <th></th>\n",
       "      <th></th>\n",
       "      <th></th>\n",
       "    </tr>\n",
       "  </thead>\n",
       "  <tbody>\n",
       "    <tr>\n",
       "      <th>Rothia_unclassified</th>\n",
       "      <td>0.000000</td>\n",
       "      <td>0.000000</td>\n",
       "      <td>0.000000</td>\n",
       "      <td>0.938736</td>\n",
       "      <td>0.000000</td>\n",
       "    </tr>\n",
       "    <tr>\n",
       "      <th>Bifidobacterium_bifidum</th>\n",
       "      <td>0.000000</td>\n",
       "      <td>0.000000</td>\n",
       "      <td>0.000000</td>\n",
       "      <td>1.563421</td>\n",
       "      <td>0.000000</td>\n",
       "    </tr>\n",
       "    <tr>\n",
       "      <th>Adlercreutzia_equolifaciens</th>\n",
       "      <td>0.630938</td>\n",
       "      <td>0.000000</td>\n",
       "      <td>3.624741</td>\n",
       "      <td>0.000000</td>\n",
       "      <td>2.191944</td>\n",
       "    </tr>\n",
       "    <tr>\n",
       "      <th>Collinsella_aerofaciens</th>\n",
       "      <td>1.083213</td>\n",
       "      <td>1.025686</td>\n",
       "      <td>0.961357</td>\n",
       "      <td>0.113544</td>\n",
       "      <td>2.977225</td>\n",
       "    </tr>\n",
       "    <tr>\n",
       "      <th>Olsenella_unclassified</th>\n",
       "      <td>0.000000</td>\n",
       "      <td>0.000000</td>\n",
       "      <td>2.195263</td>\n",
       "      <td>0.000000</td>\n",
       "      <td>1.414266</td>\n",
       "    </tr>\n",
       "    <tr>\n",
       "      <th>...</th>\n",
       "      <td>...</td>\n",
       "      <td>...</td>\n",
       "      <td>...</td>\n",
       "      <td>...</td>\n",
       "      <td>...</td>\n",
       "    </tr>\n",
       "    <tr>\n",
       "      <th>Sutterella_wadsworthensis</th>\n",
       "      <td>1.169662</td>\n",
       "      <td>0.220465</td>\n",
       "      <td>0.749603</td>\n",
       "      <td>2.613542</td>\n",
       "      <td>0.000000</td>\n",
       "    </tr>\n",
       "    <tr>\n",
       "      <th>Bilophila_unclassified</th>\n",
       "      <td>0.978286</td>\n",
       "      <td>0.406778</td>\n",
       "      <td>1.856035</td>\n",
       "      <td>0.929964</td>\n",
       "      <td>0.267298</td>\n",
       "    </tr>\n",
       "    <tr>\n",
       "      <th>Escherichia_coli</th>\n",
       "      <td>0.081534</td>\n",
       "      <td>0.000000</td>\n",
       "      <td>2.338176</td>\n",
       "      <td>0.000000</td>\n",
       "      <td>1.758786</td>\n",
       "    </tr>\n",
       "    <tr>\n",
       "      <th>Haemophilus_parainfluenzae</th>\n",
       "      <td>7.086851</td>\n",
       "      <td>0.000000</td>\n",
       "      <td>0.224469</td>\n",
       "      <td>0.000000</td>\n",
       "      <td>2.331963</td>\n",
       "    </tr>\n",
       "    <tr>\n",
       "      <th>Akkermansia_muciniphila</th>\n",
       "      <td>1.885437</td>\n",
       "      <td>2.583679</td>\n",
       "      <td>1.389701</td>\n",
       "      <td>2.212121</td>\n",
       "      <td>2.206283</td>\n",
       "    </tr>\n",
       "  </tbody>\n",
       "</table>\n",
       "<p>101 rows × 5 columns</p>\n",
       "</div>"
      ],
      "text/plain": [
       "                             cirrhosis       ibd       t2d   obesity       crc\n",
       "species                                                                       \n",
       "Rothia_unclassified           0.000000  0.000000  0.000000  0.938736  0.000000\n",
       "Bifidobacterium_bifidum       0.000000  0.000000  0.000000  1.563421  0.000000\n",
       "Adlercreutzia_equolifaciens   0.630938  0.000000  3.624741  0.000000  2.191944\n",
       "Collinsella_aerofaciens       1.083213  1.025686  0.961357  0.113544  2.977225\n",
       "Olsenella_unclassified        0.000000  0.000000  2.195263  0.000000  1.414266\n",
       "...                                ...       ...       ...       ...       ...\n",
       "Sutterella_wadsworthensis     1.169662  0.220465  0.749603  2.613542  0.000000\n",
       "Bilophila_unclassified        0.978286  0.406778  1.856035  0.929964  0.267298\n",
       "Escherichia_coli              0.081534  0.000000  2.338176  0.000000  1.758786\n",
       "Haemophilus_parainfluenzae    7.086851  0.000000  0.224469  0.000000  2.331963\n",
       "Akkermansia_muciniphila       1.885437  2.583679  1.389701  2.212121  2.206283\n",
       "\n",
       "[101 rows x 5 columns]"
      ]
     },
     "execution_count": 23,
     "metadata": {},
     "output_type": "execute_result"
    }
   ],
   "source": [
    "df"
   ]
  },
  {
   "cell_type": "code",
   "execution_count": 43,
   "metadata": {
    "tags": []
   },
   "outputs": [
    {
     "data": {
      "text/plain": [
       "5.575094936324811"
      ]
     },
     "execution_count": 43,
     "metadata": {},
     "output_type": "execute_result"
    }
   ],
   "source": []
  },
  {
   "cell_type": "code",
   "execution_count": 64,
   "metadata": {},
   "outputs": [
    {
     "data": {
      "text/plain": [
       "<AxesSubplot:>"
      ]
     },
     "execution_count": 64,
     "metadata": {},
     "output_type": "execute_result"
    },
    {
     "data": {
      "image/png": "[encoded data removed]",
      "text/plain": [
       "<Figure size 432x288 with 2 Axes>"
      ]
     },
     "metadata": {
      "needs_background": "light"
     },
     "output_type": "display_data"
    }
   ],
   "source": [
    "sns.heatmap(obesity1.avg_imp.values.reshape(loadmap('../Obesity_results/agg.mp').fmap_shape), cmap = 'jet',)"
   ]
  },
  {
   "cell_type": "code",
   "execution_count": 63,
   "metadata": {},
   "outputs": [
    {
     "data": {
      "text/plain": [
       "<AxesSubplot:>"
      ]
     },
     "execution_count": 63,
     "metadata": {},
     "output_type": "execute_result"
    },
    {
     "data": {
      "image/png": "[encoded data removed]",
      "text/plain": [
       "<Figure size 432x288 with 2 Axes>"
      ]
     },
     "metadata": {
      "needs_background": "light"
     },
     "output_type": "display_data"
    }
   ],
   "source": [
    "sns.heatmap(t2d1.avg_imp.values.reshape(loadmap('../T2D_results/agg.mp').fmap_shape), cmap = 'jet', \n",
    "            )"
   ]
  },
  {
   "cell_type": "code",
   "execution_count": 62,
   "metadata": {},
   "outputs": [
    {
     "data": {
      "text/plain": [
       "<AxesSubplot:>"
      ]
     },
     "execution_count": 62,
     "metadata": {},
     "output_type": "execute_result"
    },
    {
     "data": {
      "image/png": "[encoded data removed]",
      "text/plain": [
       "<Figure size 432x288 with 2 Axes>"
      ]
     },
     "metadata": {
      "needs_background": "light"
     },
     "output_type": "display_data"
    }
   ],
   "source": [
    "sns.heatmap(ibd1.avg_imp.values.reshape(loadmap('../IBD_results/agg.mp').fmap_shape), cmap = 'jet' )"
   ]
  },
  {
   "cell_type": "code",
   "execution_count": 61,
   "metadata": {},
   "outputs": [
    {
     "data": {
      "text/plain": [
       "<AxesSubplot:>"
      ]
     },
     "execution_count": 61,
     "metadata": {},
     "output_type": "execute_result"
    },
    {
     "data": {
      "image/png": "[encoded data removed]",
      "text/plain": [
       "<Figure size 432x288 with 2 Axes>"
      ]
     },
     "metadata": {
      "needs_background": "light"
     },
     "output_type": "display_data"
    }
   ],
   "source": [
    "sns.heatmap(cirrhosis1.avg_imp.values.reshape(loadmap('../Cirrhosis_results/agg.mp').fmap_shape), cmap = 'jet')"
   ]
  },
  {
   "cell_type": "code",
   "execution_count": 33,
   "metadata": {},
   "outputs": [
    {
     "data": {
      "text/plain": [
       "<AxesSubplot:>"
      ]
     },
     "execution_count": 33,
     "metadata": {},
     "output_type": "execute_result"
    },
    {
     "data": {
      "image/png": "[encoded data removed]",
      "text/plain": [
       "<Figure size 432x288 with 2 Axes>"
      ]
     },
     "metadata": {
      "needs_background": "light"
     },
     "output_type": "display_data"
    }
   ],
   "source": [
    "sns.heatmap(crc1.cancer_avg_imp.values.reshape(loadmap('../CRC_results/agg.mp').fmap_shape), cmap = 'jet',  )\n",
    "\n"
   ]
  },
  {
   "cell_type": "code",
   "execution_count": null,
   "metadata": {},
   "outputs": [],
   "source": []
  },
  {
   "cell_type": "code",
   "execution_count": null,
   "metadata": {},
   "outputs": [],
   "source": []
  },
  {
   "cell_type": "code",
   "execution_count": null,
   "metadata": {},
   "outputs": [],
   "source": []
  },
  {
   "cell_type": "code",
   "execution_count": null,
   "metadata": {},
   "outputs": [],
   "source": []
  }
 ],
 "metadata": {
  "kernelspec": {
   "display_name": "Python 3",
   "language": "python",
   "name": "python3"
  },
  "language_info": {
   "codemirror_mode": {
    "name": "ipython",
    "version": 3
   },
   "file_extension": ".py",
   "mimetype": "text/x-python",
   "name": "python",
   "nbconvert_exporter": "python",
   "pygments_lexer": "ipython3",
   "version": "3.6.10"
  }
 },
 "nbformat": 4,
 "nbformat_minor": 4
}
