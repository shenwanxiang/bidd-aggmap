{
 "cells": [
  {
   "cell_type": "code",
   "execution_count": 1,
   "metadata": {},
   "outputs": [],
   "source": [
    "from glob import glob\n",
    "import pandas as pd\n",
    "import numpy as np"
   ]
  },
  {
   "cell_type": "code",
   "execution_count": 2,
   "metadata": {},
   "outputs": [],
   "source": [
    "from aggmap import AggMap\n",
    "from aggmap import show"
   ]
  },
  {
   "cell_type": "markdown",
   "metadata": {},
   "source": [
    "# 01. species level data"
   ]
  },
  {
   "cell_type": "code",
   "execution_count": 11,
   "metadata": {},
   "outputs": [],
   "source": [
    "abundances = glob('./species_level/*/abundance.tsv')\n",
    "df1 = pd.DataFrame(abundances, columns=['abundance_file'])\n",
    "df1['dataset'] = df1.abundance_file.apply(lambda x:x.split('/')[2])\n",
    "df1 = df1.set_index('dataset')\n",
    "\n",
    "labels = glob('./species_level/*/labels.txt')\n",
    "df2 = pd.DataFrame(labels, columns=['label_file'])\n",
    "df2['dataset'] = df2.label_file.apply(lambda x:x.split('/')[2])\n",
    "df2 = df2.set_index('dataset')\n",
    "\n",
    "df = df1.join(df2)"
   ]
  },
  {
   "cell_type": "code",
   "execution_count": 67,
   "metadata": {},
   "outputs": [],
   "source": [
    "sp_all = []\n",
    "infos = []\n",
    "for i in range(len(df)):\n",
    "    name = df.iloc[i].name\n",
    "    dfa = pd.read_csv(df.abundance_file.iloc[i],sep='\\t', header=None, index_col=0)\n",
    "    dfb = pd.read_csv(df.label_file.iloc[i],sep='\\t', header=None, index_col=0)\n",
    "    dfa.columns = dfb.index\n",
    "    dfa = dfa.T\n",
    "    s, n = dfa.shape\n",
    "    info = {'dataset':name, '# of sample':s, '# of feature': n}\n",
    "    details = dfa.index.value_counts().to_dict()\n",
    "    info.update({'label_detail': details})\n",
    "    infos.append(info)\n",
    "    sp_all.append(dfa)"
   ]
  },
  {
   "cell_type": "code",
   "execution_count": 68,
   "metadata": {},
   "outputs": [
    {
     "data": {
      "text/plain": [
       "316"
      ]
     },
     "execution_count": 68,
     "metadata": {},
     "output_type": "execute_result"
    }
   ],
   "source": [
    "len(set(sp_all[0].columns) & set(sp_all[1].columns) & set(sp_all[2].columns) & set(sp_all[3].columns) & set(sp_all[4].columns))"
   ]
  },
  {
   "cell_type": "code",
   "execution_count": 69,
   "metadata": {},
   "outputs": [
    {
     "data": {
      "text/plain": [
       "772"
      ]
     },
     "execution_count": 69,
     "metadata": {},
     "output_type": "execute_result"
    }
   ],
   "source": [
    "len(set(sp_all[0].columns) | set(sp_all[1].columns) | set(sp_all[2].columns) | set(sp_all[3].columns) | set(sp_all[4].columns))"
   ]
  },
  {
   "cell_type": "code",
   "execution_count": 70,
   "metadata": {},
   "outputs": [
    {
     "data": {
      "text/html": [
       "<div>\n",
       "<style scoped>\n",
       "    .dataframe tbody tr th:only-of-type {\n",
       "        vertical-align: middle;\n",
       "    }\n",
       "\n",
       "    .dataframe tbody tr th {\n",
       "        vertical-align: top;\n",
       "    }\n",
       "\n",
       "    .dataframe thead th {\n",
       "        text-align: right;\n",
       "    }\n",
       "</style>\n",
       "<table border=\"1\" class=\"dataframe\">\n",
       "  <thead>\n",
       "    <tr style=\"text-align: right;\">\n",
       "      <th></th>\n",
       "      <th>dataset</th>\n",
       "      <th># of sample</th>\n",
       "      <th># of feature</th>\n",
       "      <th>label_detail</th>\n",
       "    </tr>\n",
       "  </thead>\n",
       "  <tbody>\n",
       "    <tr>\n",
       "      <th>0</th>\n",
       "      <td>T2D</td>\n",
       "      <td>440</td>\n",
       "      <td>606</td>\n",
       "      <td>{'t2d': 223, 'n': 217}</td>\n",
       "    </tr>\n",
       "    <tr>\n",
       "      <th>1</th>\n",
       "      <td>CRC</td>\n",
       "      <td>134</td>\n",
       "      <td>507</td>\n",
       "      <td>{'cancer': 48, 'n': 47, 'adenoma': 39}</td>\n",
       "    </tr>\n",
       "    <tr>\n",
       "      <th>2</th>\n",
       "      <td>IBD</td>\n",
       "      <td>110</td>\n",
       "      <td>443</td>\n",
       "      <td>{'n': 85, 'ibd': 25}</td>\n",
       "    </tr>\n",
       "    <tr>\n",
       "      <th>3</th>\n",
       "      <td>Cirrhosis</td>\n",
       "      <td>232</td>\n",
       "      <td>542</td>\n",
       "      <td>{'cirrhosis': 118, 'n': 114}</td>\n",
       "    </tr>\n",
       "    <tr>\n",
       "      <th>4</th>\n",
       "      <td>Obesity</td>\n",
       "      <td>253</td>\n",
       "      <td>465</td>\n",
       "      <td>{'obesity': 164, 'leaness': 89}</td>\n",
       "    </tr>\n",
       "  </tbody>\n",
       "</table>\n",
       "</div>"
      ],
      "text/plain": [
       "     dataset  # of sample  # of feature  \\\n",
       "0        T2D          440           606   \n",
       "1        CRC          134           507   \n",
       "2        IBD          110           443   \n",
       "3  Cirrhosis          232           542   \n",
       "4    Obesity          253           465   \n",
       "\n",
       "                             label_detail  \n",
       "0                  {'t2d': 223, 'n': 217}  \n",
       "1  {'cancer': 48, 'n': 47, 'adenoma': 39}  \n",
       "2                    {'n': 85, 'ibd': 25}  \n",
       "3            {'cirrhosis': 118, 'n': 114}  \n",
       "4         {'obesity': 164, 'leaness': 89}  "
      ]
     },
     "execution_count": 70,
     "metadata": {},
     "output_type": "execute_result"
    }
   ],
   "source": [
    "pd.DataFrame(infos)"
   ]
  },
  {
   "cell_type": "code",
   "execution_count": 71,
   "metadata": {},
   "outputs": [
    {
     "data": {
      "text/html": [
       "<div>\n",
       "<style scoped>\n",
       "    .dataframe tbody tr th:only-of-type {\n",
       "        vertical-align: middle;\n",
       "    }\n",
       "\n",
       "    .dataframe tbody tr th {\n",
       "        vertical-align: top;\n",
       "    }\n",
       "\n",
       "    .dataframe thead th {\n",
       "        text-align: right;\n",
       "    }\n",
       "</style>\n",
       "<table border=\"1\" class=\"dataframe\">\n",
       "  <thead>\n",
       "    <tr style=\"text-align: right;\">\n",
       "      <th></th>\n",
       "      <th>k</th>\n",
       "      <th>p</th>\n",
       "      <th>c</th>\n",
       "      <th>o</th>\n",
       "      <th>f</th>\n",
       "      <th>g</th>\n",
       "      <th>s</th>\n",
       "    </tr>\n",
       "  </thead>\n",
       "  <tbody>\n",
       "    <tr>\n",
       "      <th>0</th>\n",
       "      <td>Archaea</td>\n",
       "      <td>Euryarchaeota</td>\n",
       "      <td>Methanobacteria</td>\n",
       "      <td>Methanobacteriales</td>\n",
       "      <td>Methanobacteriaceae</td>\n",
       "      <td>Methanobrevibacter</td>\n",
       "      <td>Methanobrevibacter_smithii</td>\n",
       "    </tr>\n",
       "    <tr>\n",
       "      <th>1</th>\n",
       "      <td>Archaea</td>\n",
       "      <td>Euryarchaeota</td>\n",
       "      <td>Methanobacteria</td>\n",
       "      <td>Methanobacteriales</td>\n",
       "      <td>Methanobacteriaceae</td>\n",
       "      <td>Methanobrevibacter</td>\n",
       "      <td>Methanobrevibacter_unclassified</td>\n",
       "    </tr>\n",
       "    <tr>\n",
       "      <th>2</th>\n",
       "      <td>Archaea</td>\n",
       "      <td>Euryarchaeota</td>\n",
       "      <td>Methanobacteria</td>\n",
       "      <td>Methanobacteriales</td>\n",
       "      <td>Methanobacteriaceae</td>\n",
       "      <td>Methanosphaera</td>\n",
       "      <td>Methanosphaera_stadtmanae</td>\n",
       "    </tr>\n",
       "    <tr>\n",
       "      <th>3</th>\n",
       "      <td>Bacteria</td>\n",
       "      <td>Acidobacteria</td>\n",
       "      <td>Acidobacteriia</td>\n",
       "      <td>Acidobacteriales</td>\n",
       "      <td>Acidobacteriaceae</td>\n",
       "      <td>Acidobacteriaceae_unclassified</td>\n",
       "      <td>NaN</td>\n",
       "    </tr>\n",
       "    <tr>\n",
       "      <th>4</th>\n",
       "      <td>Bacteria</td>\n",
       "      <td>Actinobacteria</td>\n",
       "      <td>Actinobacteria</td>\n",
       "      <td>Actinomycetales</td>\n",
       "      <td>Actinomycetaceae</td>\n",
       "      <td>Actinomyces</td>\n",
       "      <td>Actinomyces_graevenitzii</td>\n",
       "    </tr>\n",
       "    <tr>\n",
       "      <th>...</th>\n",
       "      <td>...</td>\n",
       "      <td>...</td>\n",
       "      <td>...</td>\n",
       "      <td>...</td>\n",
       "      <td>...</td>\n",
       "      <td>...</td>\n",
       "      <td>...</td>\n",
       "    </tr>\n",
       "    <tr>\n",
       "      <th>460</th>\n",
       "      <td>Eukaryota</td>\n",
       "      <td>Ascomycota</td>\n",
       "      <td>Saccharomycetes</td>\n",
       "      <td>Saccharomycetales</td>\n",
       "      <td>Saccharomycetaceae</td>\n",
       "      <td>Saccharomyces</td>\n",
       "      <td>Saccharomyces_cerevisiae</td>\n",
       "    </tr>\n",
       "    <tr>\n",
       "      <th>461</th>\n",
       "      <td>Eukaryota</td>\n",
       "      <td>Ascomycota</td>\n",
       "      <td>Saccharomycetes</td>\n",
       "      <td>Saccharomycetales</td>\n",
       "      <td>Saccharomycetaceae</td>\n",
       "      <td>Saccharomycetaceae_unclassified</td>\n",
       "      <td>NaN</td>\n",
       "    </tr>\n",
       "    <tr>\n",
       "      <th>462</th>\n",
       "      <td>Eukaryota</td>\n",
       "      <td>Ascomycota</td>\n",
       "      <td>Schizosaccharomycetes</td>\n",
       "      <td>Schizosaccharomycetales</td>\n",
       "      <td>Schizosaccharomycetaceae</td>\n",
       "      <td>Schizosaccharomyces</td>\n",
       "      <td>Schizosaccharomyces_pombe</td>\n",
       "    </tr>\n",
       "    <tr>\n",
       "      <th>463</th>\n",
       "      <td>Eukaryota</td>\n",
       "      <td>Ascomycota</td>\n",
       "      <td>Schizosaccharomycetes</td>\n",
       "      <td>Schizosaccharomycetales</td>\n",
       "      <td>Schizosaccharomycetaceae</td>\n",
       "      <td>Schizosaccharomyces</td>\n",
       "      <td>Schizosaccharomyces_unclassified</td>\n",
       "    </tr>\n",
       "    <tr>\n",
       "      <th>464</th>\n",
       "      <td>Eukaryota</td>\n",
       "      <td>Eukaryota_noname</td>\n",
       "      <td>Eukaryota_noname</td>\n",
       "      <td>Eukaryota_noname</td>\n",
       "      <td>Hexamitidae</td>\n",
       "      <td>Giardia</td>\n",
       "      <td>Giardia_intestinalis</td>\n",
       "    </tr>\n",
       "  </tbody>\n",
       "</table>\n",
       "<p>465 rows × 7 columns</p>\n",
       "</div>"
      ],
      "text/plain": [
       "             k                 p                      c  \\\n",
       "0      Archaea     Euryarchaeota        Methanobacteria   \n",
       "1      Archaea     Euryarchaeota        Methanobacteria   \n",
       "2      Archaea     Euryarchaeota        Methanobacteria   \n",
       "3     Bacteria     Acidobacteria         Acidobacteriia   \n",
       "4     Bacteria    Actinobacteria         Actinobacteria   \n",
       "..         ...               ...                    ...   \n",
       "460  Eukaryota        Ascomycota        Saccharomycetes   \n",
       "461  Eukaryota        Ascomycota        Saccharomycetes   \n",
       "462  Eukaryota        Ascomycota  Schizosaccharomycetes   \n",
       "463  Eukaryota        Ascomycota  Schizosaccharomycetes   \n",
       "464  Eukaryota  Eukaryota_noname       Eukaryota_noname   \n",
       "\n",
       "                           o                         f  \\\n",
       "0         Methanobacteriales       Methanobacteriaceae   \n",
       "1         Methanobacteriales       Methanobacteriaceae   \n",
       "2         Methanobacteriales       Methanobacteriaceae   \n",
       "3           Acidobacteriales         Acidobacteriaceae   \n",
       "4            Actinomycetales          Actinomycetaceae   \n",
       "..                       ...                       ...   \n",
       "460        Saccharomycetales        Saccharomycetaceae   \n",
       "461        Saccharomycetales        Saccharomycetaceae   \n",
       "462  Schizosaccharomycetales  Schizosaccharomycetaceae   \n",
       "463  Schizosaccharomycetales  Schizosaccharomycetaceae   \n",
       "464         Eukaryota_noname               Hexamitidae   \n",
       "\n",
       "                                   g                                 s  \n",
       "0                 Methanobrevibacter        Methanobrevibacter_smithii  \n",
       "1                 Methanobrevibacter   Methanobrevibacter_unclassified  \n",
       "2                     Methanosphaera         Methanosphaera_stadtmanae  \n",
       "3     Acidobacteriaceae_unclassified                               NaN  \n",
       "4                        Actinomyces          Actinomyces_graevenitzii  \n",
       "..                               ...                               ...  \n",
       "460                    Saccharomyces          Saccharomyces_cerevisiae  \n",
       "461  Saccharomycetaceae_unclassified                               NaN  \n",
       "462              Schizosaccharomyces         Schizosaccharomyces_pombe  \n",
       "463              Schizosaccharomyces  Schizosaccharomyces_unclassified  \n",
       "464                          Giardia              Giardia_intestinalis  \n",
       "\n",
       "[465 rows x 7 columns]"
      ]
     },
     "execution_count": 71,
     "metadata": {},
     "output_type": "execute_result"
    }
   ],
   "source": [
    "pd.Series(dfa.columns).apply(lambda x: dict([i.split('__') for i in x.split('|')])).apply(pd.Series)"
   ]
  },
  {
   "cell_type": "code",
   "execution_count": 78,
   "metadata": {},
   "outputs": [
    {
     "name": "stderr",
     "output_type": "stream",
     "text": [
      "/home/sxh/anaconda3/envs/rdkit2020/lib/python3.6/site-packages/ipykernel_launcher.py:1: FutureWarning: Sorting because non-concatenation axis is not aligned. A future version\n",
      "of pandas will change to not sort by default.\n",
      "\n",
      "To accept the future behavior, pass 'sort=False'.\n",
      "\n",
      "To retain the current behavior and silence the warning, pass 'sort=True'.\n",
      "\n",
      "  \"\"\"Entry point for launching an IPython kernel.\n"
     ]
    }
   ],
   "source": [
    "df = pd.concat(sp_all, axis=0).fillna(0)\n",
    "dfx = np.log(df + 1).reset_index(drop=True)"
   ]
  },
  {
   "cell_type": "code",
   "execution_count": 216,
   "metadata": {},
   "outputs": [],
   "source": []
  },
  {
   "cell_type": "code",
   "execution_count": 217,
   "metadata": {},
   "outputs": [
    {
     "data": {
      "text/html": [
       "<div>\n",
       "<style scoped>\n",
       "    .dataframe tbody tr th:only-of-type {\n",
       "        vertical-align: middle;\n",
       "    }\n",
       "\n",
       "    .dataframe tbody tr th {\n",
       "        vertical-align: top;\n",
       "    }\n",
       "\n",
       "    .dataframe thead th {\n",
       "        text-align: right;\n",
       "    }\n",
       "</style>\n",
       "<table border=\"1\" class=\"dataframe\">\n",
       "  <thead>\n",
       "    <tr style=\"text-align: right;\">\n",
       "      <th></th>\n",
       "      <th>kingdom</th>\n",
       "      <th>phylum</th>\n",
       "      <th>class</th>\n",
       "      <th>order</th>\n",
       "      <th>family</th>\n",
       "      <th>genus</th>\n",
       "      <th>species</th>\n",
       "    </tr>\n",
       "  </thead>\n",
       "  <tbody>\n",
       "    <tr>\n",
       "      <th>0</th>\n",
       "      <td>Archaea</td>\n",
       "      <td>Euryarchaeota</td>\n",
       "      <td>Archaeoglobi</td>\n",
       "      <td>Archaeoglobales</td>\n",
       "      <td>Archaeoglobaceae</td>\n",
       "      <td>Archaeoglobaceae_unclassified</td>\n",
       "      <td>NaN</td>\n",
       "    </tr>\n",
       "    <tr>\n",
       "      <th>1</th>\n",
       "      <td>Archaea</td>\n",
       "      <td>Euryarchaeota</td>\n",
       "      <td>Methanobacteria</td>\n",
       "      <td>Methanobacteriales</td>\n",
       "      <td>Methanobacteriaceae</td>\n",
       "      <td>Methanobacterium</td>\n",
       "      <td>Methanobacterium_unclassified</td>\n",
       "    </tr>\n",
       "    <tr>\n",
       "      <th>2</th>\n",
       "      <td>Archaea</td>\n",
       "      <td>Euryarchaeota</td>\n",
       "      <td>Methanobacteria</td>\n",
       "      <td>Methanobacteriales</td>\n",
       "      <td>Methanobacteriaceae</td>\n",
       "      <td>Methanobrevibacter</td>\n",
       "      <td>Methanobrevibacter_smithii</td>\n",
       "    </tr>\n",
       "    <tr>\n",
       "      <th>3</th>\n",
       "      <td>Archaea</td>\n",
       "      <td>Euryarchaeota</td>\n",
       "      <td>Methanobacteria</td>\n",
       "      <td>Methanobacteriales</td>\n",
       "      <td>Methanobacteriaceae</td>\n",
       "      <td>Methanobrevibacter</td>\n",
       "      <td>Methanobrevibacter_unclassified</td>\n",
       "    </tr>\n",
       "    <tr>\n",
       "      <th>4</th>\n",
       "      <td>Archaea</td>\n",
       "      <td>Euryarchaeota</td>\n",
       "      <td>Methanobacteria</td>\n",
       "      <td>Methanobacteriales</td>\n",
       "      <td>Methanobacteriaceae</td>\n",
       "      <td>Methanosphaera</td>\n",
       "      <td>Methanosphaera_stadtmanae</td>\n",
       "    </tr>\n",
       "    <tr>\n",
       "      <th>...</th>\n",
       "      <td>...</td>\n",
       "      <td>...</td>\n",
       "      <td>...</td>\n",
       "      <td>...</td>\n",
       "      <td>...</td>\n",
       "      <td>...</td>\n",
       "      <td>...</td>\n",
       "    </tr>\n",
       "    <tr>\n",
       "      <th>767</th>\n",
       "      <td>Eukaryota</td>\n",
       "      <td>Ascomycota</td>\n",
       "      <td>Saccharomycetes</td>\n",
       "      <td>Saccharomycetales</td>\n",
       "      <td>Saccharomycetales_noname</td>\n",
       "      <td>Candida</td>\n",
       "      <td>Candida_tropicalis</td>\n",
       "    </tr>\n",
       "    <tr>\n",
       "      <th>768</th>\n",
       "      <td>Eukaryota</td>\n",
       "      <td>Ascomycota</td>\n",
       "      <td>Schizosaccharomycetes</td>\n",
       "      <td>Schizosaccharomycetales</td>\n",
       "      <td>Schizosaccharomycetaceae</td>\n",
       "      <td>Schizosaccharomyces</td>\n",
       "      <td>Schizosaccharomyces_pombe</td>\n",
       "    </tr>\n",
       "    <tr>\n",
       "      <th>769</th>\n",
       "      <td>Eukaryota</td>\n",
       "      <td>Ascomycota</td>\n",
       "      <td>Schizosaccharomycetes</td>\n",
       "      <td>Schizosaccharomycetales</td>\n",
       "      <td>Schizosaccharomycetaceae</td>\n",
       "      <td>Schizosaccharomyces</td>\n",
       "      <td>Schizosaccharomyces_unclassified</td>\n",
       "    </tr>\n",
       "    <tr>\n",
       "      <th>770</th>\n",
       "      <td>Eukaryota</td>\n",
       "      <td>Eukaryota_noname</td>\n",
       "      <td>Eukaryota_noname</td>\n",
       "      <td>Eukaryota_noname</td>\n",
       "      <td>Eukaryota_noname</td>\n",
       "      <td>Entamoeba</td>\n",
       "      <td>Entamoeba_dispar</td>\n",
       "    </tr>\n",
       "    <tr>\n",
       "      <th>771</th>\n",
       "      <td>Eukaryota</td>\n",
       "      <td>Eukaryota_noname</td>\n",
       "      <td>Eukaryota_noname</td>\n",
       "      <td>Eukaryota_noname</td>\n",
       "      <td>Hexamitidae</td>\n",
       "      <td>Giardia</td>\n",
       "      <td>Giardia_intestinalis</td>\n",
       "    </tr>\n",
       "  </tbody>\n",
       "</table>\n",
       "<p>772 rows × 7 columns</p>\n",
       "</div>"
      ],
      "text/plain": [
       "       kingdom            phylum                  class  \\\n",
       "0      Archaea     Euryarchaeota           Archaeoglobi   \n",
       "1      Archaea     Euryarchaeota        Methanobacteria   \n",
       "2      Archaea     Euryarchaeota        Methanobacteria   \n",
       "3      Archaea     Euryarchaeota        Methanobacteria   \n",
       "4      Archaea     Euryarchaeota        Methanobacteria   \n",
       "..         ...               ...                    ...   \n",
       "767  Eukaryota        Ascomycota        Saccharomycetes   \n",
       "768  Eukaryota        Ascomycota  Schizosaccharomycetes   \n",
       "769  Eukaryota        Ascomycota  Schizosaccharomycetes   \n",
       "770  Eukaryota  Eukaryota_noname       Eukaryota_noname   \n",
       "771  Eukaryota  Eukaryota_noname       Eukaryota_noname   \n",
       "\n",
       "                       order                    family  \\\n",
       "0            Archaeoglobales          Archaeoglobaceae   \n",
       "1         Methanobacteriales       Methanobacteriaceae   \n",
       "2         Methanobacteriales       Methanobacteriaceae   \n",
       "3         Methanobacteriales       Methanobacteriaceae   \n",
       "4         Methanobacteriales       Methanobacteriaceae   \n",
       "..                       ...                       ...   \n",
       "767        Saccharomycetales  Saccharomycetales_noname   \n",
       "768  Schizosaccharomycetales  Schizosaccharomycetaceae   \n",
       "769  Schizosaccharomycetales  Schizosaccharomycetaceae   \n",
       "770         Eukaryota_noname          Eukaryota_noname   \n",
       "771         Eukaryota_noname               Hexamitidae   \n",
       "\n",
       "                             genus                           species  \n",
       "0    Archaeoglobaceae_unclassified                               NaN  \n",
       "1                 Methanobacterium     Methanobacterium_unclassified  \n",
       "2               Methanobrevibacter        Methanobrevibacter_smithii  \n",
       "3               Methanobrevibacter   Methanobrevibacter_unclassified  \n",
       "4                   Methanosphaera         Methanosphaera_stadtmanae  \n",
       "..                             ...                               ...  \n",
       "767                        Candida                Candida_tropicalis  \n",
       "768            Schizosaccharomyces         Schizosaccharomyces_pombe  \n",
       "769            Schizosaccharomyces  Schizosaccharomyces_unclassified  \n",
       "770                      Entamoeba                  Entamoeba_dispar  \n",
       "771                        Giardia              Giardia_intestinalis  \n",
       "\n",
       "[772 rows x 7 columns]"
      ]
     },
     "execution_count": 217,
     "metadata": {},
     "output_type": "execute_result"
    }
   ],
   "source": [
    "dfs = pd.Series(dfx.columns).apply(lambda x: dict([i.split('__') for i in x.split('|')])).apply(pd.Series)\n",
    "level_dict = {'k':'kingdom', 'p':'phylum', 'c':'class' ,'o':'order' ,'f':'family' ,'g': 'genus','s': 'species'}\n",
    "dfs = dfs.rename(columns=level_dict)\n",
    "dfs"
   ]
  },
  {
   "cell_type": "code",
   "execution_count": 232,
   "metadata": {},
   "outputs": [],
   "source": [
    "level = 'phylum'\n",
    "so = dfs.groupby(level).size() \n",
    "md = {}\n",
    "for i, j in so.items():\n",
    "    if j < 5:\n",
    "        md[i] = 'Others'\n",
    "    else:\n",
    "        md[i] = i\n",
    "        \n",
    "res = dfs[level].map(md)\n",
    "feature_group_list = res.tolist()"
   ]
  },
  {
   "cell_type": "code",
   "execution_count": 233,
   "metadata": {},
   "outputs": [
    {
     "data": {
      "text/plain": [
       "Firmicutes        332\n",
       "Proteobacteria    162\n",
       "Bacteroidetes     117\n",
       "Actinobacteria     94\n",
       "Others             25\n",
       "Fusobacteria       14\n",
       "Ascomycota         12\n",
       "Spirochaetes        9\n",
       "Euryarchaeota       7\n",
       "dtype: int64"
      ]
     },
     "execution_count": 233,
     "metadata": {},
     "output_type": "execute_result"
    }
   ],
   "source": [
    "pd.Series(feature_group_list).value_counts()"
   ]
  },
  {
   "cell_type": "code",
   "execution_count": 234,
   "metadata": {},
   "outputs": [
    {
     "name": "stdout",
     "output_type": "stream",
     "text": [
      "2021-08-13 17:36:07,769 - \u001b[32mINFO\u001b[0m - [bidd-aggmap]\u001b[0m - Calculating distance ...\u001b[0m\n",
      "2021-08-13 17:36:07,804 - \u001b[32mINFO\u001b[0m - [bidd-aggmap]\u001b[0m - the number of process is 16\u001b[0m\n"
     ]
    },
    {
     "name": "stderr",
     "output_type": "stream",
     "text": [
      "100%|##########| 297606/297606 [00:09<00:00, 30210.05it/s]\n",
      "100%|##########| 297606/297606 [00:00<00:00, 1803696.60it/s]\n",
      "100%|##########| 772/772 [00:01<00:00, 707.75it/s]\n"
     ]
    }
   ],
   "source": [
    "mp = AggMap(dfx, metric='correlation')"
   ]
  },
  {
   "cell_type": "code",
   "execution_count": 235,
   "metadata": {},
   "outputs": [
    {
     "name": "stdout",
     "output_type": "stream",
     "text": [
      "2021-08-13 17:36:20,879 - \u001b[32mINFO\u001b[0m - [bidd-aggmap]\u001b[0m - Applying grid feature map(assignment), this may take several minutes(1~30 min)\u001b[0m\n",
      "2021-08-13 17:36:21,773 - \u001b[32mINFO\u001b[0m - [bidd-aggmap]\u001b[0m - Finished\u001b[0m\n"
     ]
    }
   ],
   "source": [
    "mp = mp.fit(feature_group_list = feature_group_list, verbose=0, var_thr=1e-8)"
   ]
  },
  {
   "cell_type": "code",
   "execution_count": 236,
   "metadata": {},
   "outputs": [
    {
     "name": "stdout",
     "output_type": "stream",
     "text": [
      "2021-08-13 17:36:21,781 - \u001b[32mINFO\u001b[0m - [bidd-aggmap]\u001b[0m - generate file: ./feature points_731_correlation_umap_scatter\u001b[0m\n",
      "2021-08-13 17:36:21,830 - \u001b[32mINFO\u001b[0m - [bidd-aggmap]\u001b[0m - save html file to ./feature points_731_correlation_umap_scatter\u001b[0m\n"
     ]
    },
    {
     "data": {
      "text/plain": [
       "<highcharts.highcharts.highcharts.Highchart at 0x7ff395495d30>"
      ]
     },
     "execution_count": 236,
     "metadata": {},
     "output_type": "execute_result"
    }
   ],
   "source": [
    "mp.plot_scatter()"
   ]
  },
  {
   "cell_type": "code",
   "execution_count": 237,
   "metadata": {},
   "outputs": [
    {
     "name": "stdout",
     "output_type": "stream",
     "text": [
      "2021-08-13 17:36:21,838 - \u001b[32mINFO\u001b[0m - [bidd-aggmap]\u001b[0m - generate file: ./feature points_731_correlation_umap_mp\u001b[0m\n",
      "2021-08-13 17:36:21,877 - \u001b[32mINFO\u001b[0m - [bidd-aggmap]\u001b[0m - save html file to ./feature points_731_correlation_umap_mp\u001b[0m\n"
     ]
    },
    {
     "data": {
      "text/plain": [
       "<highcharts.highcharts.highcharts.Highchart at 0x7ff398ab2978>"
      ]
     },
     "execution_count": 237,
     "metadata": {},
     "output_type": "execute_result"
    }
   ],
   "source": [
    "mp.plot_grid()"
   ]
  },
  {
   "cell_type": "code",
   "execution_count": null,
   "metadata": {},
   "outputs": [],
   "source": []
  },
  {
   "cell_type": "code",
   "execution_count": 238,
   "metadata": {},
   "outputs": [],
   "source": [
    "# fig_tree = mp.plot_tree(add_leaf_labels = False, leaf_font_size = 1)\n",
    "# fig_tree.savefig('./cluster5_tree.png', bbox_inches='tight', dpi=300)"
   ]
  },
  {
   "cell_type": "code",
   "execution_count": 239,
   "metadata": {},
   "outputs": [
    {
     "name": "stderr",
     "output_type": "stream",
     "text": [
      "100%|##########| 1169/1169 [00:03<00:00, 296.22it/s]\n"
     ]
    }
   ],
   "source": []
  },
  {
   "cell_type": "code",
   "execution_count": 240,
   "metadata": {},
   "outputs": [
    {
     "data": {
      "image/png": "[encoded data removed]",
      "text/plain": [
       "<Figure size 288x288 with 1 Axes>"
      ]
     },
     "metadata": {},
     "output_type": "display_data"
    },
    {
     "data": {
      "image/png": "[encoded data removed]",
      "text/plain": [
       "<Figure size 288x288 with 1 Axes>"
      ]
     },
     "metadata": {},
     "output_type": "display_data"
    },
    {
     "data": {
      "image/png": "[encoded data removed]",
      "text/plain": [
       "<Figure size 288x288 with 1 Axes>"
      ]
     },
     "metadata": {},
     "output_type": "display_data"
    },
    {
     "data": {
      "image/png": "[encoded data removed]",
      "text/plain": [
       "<Figure size 288x288 with 1 Axes>"
      ]
     },
     "metadata": {},
     "output_type": "display_data"
    },
    {
     "data": {
      "image/png": "[encoded data removed]",
      "text/plain": [
       "<Figure size 288x288 with 1 Axes>"
      ]
     },
     "metadata": {},
     "output_type": "display_data"
    },
    {
     "data": {
      "image/png": "[encoded data removed]",
      "text/plain": [
       "<Figure size 288x288 with 1 Axes>"
      ]
     },
     "metadata": {},
     "output_type": "display_data"
    },
    {
     "data": {
      "image/png": "[encoded data removed]",
      "text/plain": [
       "<Figure size 288x288 with 1 Axes>"
      ]
     },
     "metadata": {},
     "output_type": "display_data"
    },
    {
     "data": {
      "image/png": "[encoded data removed]",
      "text/plain": [
       "<Figure size 288x288 with 1 Axes>"
      ]
     },
     "metadata": {},
     "output_type": "display_data"
    },
    {
     "data": {
      "image/png": "[encoded data removed]",
      "text/plain": [
       "<Figure size 288x288 with 1 Axes>"
      ]
     },
     "metadata": {},
     "output_type": "display_data"
    },
    {
     "data": {
      "image/png": "[encoded data removed]",
      "text/plain": [
       "<Figure size 288x288 with 1 Axes>"
      ]
     },
     "metadata": {},
     "output_type": "display_data"
    }
   ],
   "source": [
    "X = mp.batch_transform(dfx.values, scale_method='minmax')\n",
    "for i in range(1, 1000, 100):\n",
    "    x = X[i]\n",
    "    show.imshow_wrap(x, mode = 'white',color_list= pd.Series(mp.colormaps).tolist(), x_max= 1, )"
   ]
  },
  {
   "cell_type": "code",
   "execution_count": null,
   "metadata": {},
   "outputs": [],
   "source": []
  },
  {
   "cell_type": "code",
   "execution_count": null,
   "metadata": {},
   "outputs": [],
   "source": []
  },
  {
   "cell_type": "code",
   "execution_count": null,
   "metadata": {},
   "outputs": [],
   "source": []
  },
  {
   "cell_type": "code",
   "execution_count": null,
   "metadata": {},
   "outputs": [],
   "source": []
  },
  {
   "cell_type": "code",
   "execution_count": null,
   "metadata": {},
   "outputs": [],
   "source": []
  },
  {
   "cell_type": "code",
   "execution_count": null,
   "metadata": {},
   "outputs": [],
   "source": []
  },
  {
   "cell_type": "code",
   "execution_count": null,
   "metadata": {},
   "outputs": [],
   "source": [
    "LD_LIBRARY_PATH: /usr/local/cuda-10.0/lib64:"
   ]
  },
  {
   "cell_type": "code",
   "execution_count": null,
   "metadata": {},
   "outputs": [],
   "source": []
  },
  {
   "cell_type": "code",
   "execution_count": null,
   "metadata": {},
   "outputs": [],
   "source": []
  },
  {
   "cell_type": "markdown",
   "metadata": {},
   "source": [
    "# 02. genus level data"
   ]
  },
  {
   "cell_type": "code",
   "execution_count": null,
   "metadata": {},
   "outputs": [],
   "source": []
  },
  {
   "cell_type": "code",
   "execution_count": null,
   "metadata": {},
   "outputs": [],
   "source": []
  },
  {
   "cell_type": "code",
   "execution_count": 247,
   "metadata": {},
   "outputs": [],
   "source": [
    "abundances = glob('./genus_level/*/*/abundance.tsv')\n",
    "df1 = pd.DataFrame(abundances, columns=['abundance_file'])\n",
    "df1['dataset'] = df1.abundance_file.apply(lambda x:x.split('/')[-2])\n",
    "df1 = df1.set_index('dataset')\n",
    "\n",
    "labels = glob('./genus_level/*/*/labels.txt')\n",
    "df2 = pd.DataFrame(labels, columns=['label_file'])\n",
    "df2['dataset'] = df2.label_file.apply(lambda x:x.split('/')[-2])\n",
    "df2 = df2.set_index('dataset')\n",
    "\n",
    "df = df1.join(df2)"
   ]
  },
  {
   "cell_type": "code",
   "execution_count": 248,
   "metadata": {},
   "outputs": [
    {
     "data": {
      "text/html": [
       "<div>\n",
       "<style scoped>\n",
       "    .dataframe tbody tr th:only-of-type {\n",
       "        vertical-align: middle;\n",
       "    }\n",
       "\n",
       "    .dataframe tbody tr th {\n",
       "        vertical-align: top;\n",
       "    }\n",
       "\n",
       "    .dataframe thead th {\n",
       "        text-align: right;\n",
       "    }\n",
       "</style>\n",
       "<table border=\"1\" class=\"dataframe\">\n",
       "  <thead>\n",
       "    <tr style=\"text-align: right;\">\n",
       "      <th></th>\n",
       "      <th>abundance_file</th>\n",
       "      <th>label_file</th>\n",
       "    </tr>\n",
       "    <tr>\n",
       "      <th>dataset</th>\n",
       "      <th></th>\n",
       "      <th></th>\n",
       "    </tr>\n",
       "  </thead>\n",
       "  <tbody>\n",
       "    <tr>\n",
       "      <th>CDf</th>\n",
       "      <td>./genus_level/IBD_Sub/CDf/abundance.tsv</td>\n",
       "      <td>./genus_level/IBD_Sub/CDf/labels.txt</td>\n",
       "    </tr>\n",
       "    <tr>\n",
       "      <th>CDr</th>\n",
       "      <td>./genus_level/IBD_Sub/CDr/abundance.tsv</td>\n",
       "      <td>./genus_level/IBD_Sub/CDr/labels.txt</td>\n",
       "    </tr>\n",
       "    <tr>\n",
       "      <th>iCDf</th>\n",
       "      <td>./genus_level/IBD_Sub/iCDf/abundance.tsv</td>\n",
       "      <td>./genus_level/IBD_Sub/iCDf/labels.txt</td>\n",
       "    </tr>\n",
       "    <tr>\n",
       "      <th>UCr</th>\n",
       "      <td>./genus_level/IBD_Sub/UCr/abundance.tsv</td>\n",
       "      <td>./genus_level/IBD_Sub/UCr/labels.txt</td>\n",
       "    </tr>\n",
       "    <tr>\n",
       "      <th>iCDr</th>\n",
       "      <td>./genus_level/IBD_Sub/iCDr/abundance.tsv</td>\n",
       "      <td>./genus_level/IBD_Sub/iCDr/labels.txt</td>\n",
       "    </tr>\n",
       "    <tr>\n",
       "      <th>UCf</th>\n",
       "      <td>./genus_level/IBD_Sub/UCf/abundance.tsv</td>\n",
       "      <td>./genus_level/IBD_Sub/UCf/labels.txt</td>\n",
       "    </tr>\n",
       "  </tbody>\n",
       "</table>\n",
       "</div>"
      ],
      "text/plain": [
       "                                   abundance_file  \\\n",
       "dataset                                             \n",
       "CDf       ./genus_level/IBD_Sub/CDf/abundance.tsv   \n",
       "CDr       ./genus_level/IBD_Sub/CDr/abundance.tsv   \n",
       "iCDf     ./genus_level/IBD_Sub/iCDf/abundance.tsv   \n",
       "UCr       ./genus_level/IBD_Sub/UCr/abundance.tsv   \n",
       "iCDr     ./genus_level/IBD_Sub/iCDr/abundance.tsv   \n",
       "UCf       ./genus_level/IBD_Sub/UCf/abundance.tsv   \n",
       "\n",
       "                                    label_file  \n",
       "dataset                                         \n",
       "CDf       ./genus_level/IBD_Sub/CDf/labels.txt  \n",
       "CDr       ./genus_level/IBD_Sub/CDr/labels.txt  \n",
       "iCDf     ./genus_level/IBD_Sub/iCDf/labels.txt  \n",
       "UCr       ./genus_level/IBD_Sub/UCr/labels.txt  \n",
       "iCDr     ./genus_level/IBD_Sub/iCDr/labels.txt  \n",
       "UCf       ./genus_level/IBD_Sub/UCf/labels.txt  "
      ]
     },
     "execution_count": 248,
     "metadata": {},
     "output_type": "execute_result"
    }
   ],
   "source": [
    "df"
   ]
  },
  {
   "cell_type": "code",
   "execution_count": 249,
   "metadata": {},
   "outputs": [],
   "source": [
    "sp_all = []\n",
    "infos = []\n",
    "for i in range(len(df)):\n",
    "    name = df.iloc[i].name\n",
    "    dfa = pd.read_csv(df.abundance_file.iloc[i],sep='\\t', header=None, index_col=0)\n",
    "    dfb = pd.read_csv(df.label_file.iloc[i],sep='\\t', header=None, index_col=0)\n",
    "    dfa.columns = dfb.index\n",
    "    dfa = dfa.T\n",
    "    s, n = dfa.shape\n",
    "    info = {'dataset':name, '# of sample':s, '# of feature': n}\n",
    "    details = dfa.index.value_counts().to_dict()\n",
    "    info.update({'label_detail': details})\n",
    "    infos.append(info)\n",
    "    sp_all.append(dfa)"
   ]
  },
  {
   "cell_type": "code",
   "execution_count": 253,
   "metadata": {},
   "outputs": [
    {
     "data": {
      "text/plain": [
       "226"
      ]
     },
     "execution_count": 253,
     "metadata": {},
     "output_type": "execute_result"
    }
   ],
   "source": [
    "len(set(sp_all[0].columns) & set(sp_all[1].columns) & set(sp_all[2].columns) & set(sp_all[3].columns) & set(sp_all[4].columns) & set(sp_all[5].columns))"
   ]
  },
  {
   "cell_type": "code",
   "execution_count": 254,
   "metadata": {},
   "outputs": [
    {
     "data": {
      "text/plain": [
       "301"
      ]
     },
     "execution_count": 254,
     "metadata": {},
     "output_type": "execute_result"
    }
   ],
   "source": [
    "len(set(sp_all[0].columns) | set(sp_all[1].columns) | set(sp_all[2].columns) | set(sp_all[3].columns) | set(sp_all[4].columns) | set(sp_all[5].columns))"
   ]
  },
  {
   "cell_type": "code",
   "execution_count": 273,
   "metadata": {},
   "outputs": [],
   "source": [
    "df = pd.concat(sp_all, axis=0).fillna(0)\n",
    "dfx = np.log(df + 1e-8).reset_index(drop=True)"
   ]
  },
  {
   "cell_type": "code",
   "execution_count": 274,
   "metadata": {},
   "outputs": [
    {
     "data": {
      "text/html": [
       "<div>\n",
       "<style scoped>\n",
       "    .dataframe tbody tr th:only-of-type {\n",
       "        vertical-align: middle;\n",
       "    }\n",
       "\n",
       "    .dataframe tbody tr th {\n",
       "        vertical-align: top;\n",
       "    }\n",
       "\n",
       "    .dataframe thead th {\n",
       "        text-align: right;\n",
       "    }\n",
       "</style>\n",
       "<table border=\"1\" class=\"dataframe\">\n",
       "  <thead>\n",
       "    <tr style=\"text-align: right;\">\n",
       "      <th></th>\n",
       "      <th>kingdom</th>\n",
       "      <th>phylum</th>\n",
       "      <th>class</th>\n",
       "      <th>order</th>\n",
       "      <th>family</th>\n",
       "      <th>genus</th>\n",
       "    </tr>\n",
       "  </thead>\n",
       "  <tbody>\n",
       "    <tr>\n",
       "      <th>0</th>\n",
       "      <td>Archaea</td>\n",
       "      <td>Euryarchaeota</td>\n",
       "      <td>Methanobacteria</td>\n",
       "      <td>Methanobacteriales</td>\n",
       "      <td>Methanobacteriaceae</td>\n",
       "      <td>Methanobrevibacter</td>\n",
       "    </tr>\n",
       "    <tr>\n",
       "      <th>1</th>\n",
       "      <td>Archaea</td>\n",
       "      <td>Euryarchaeota</td>\n",
       "      <td>Methanobacteria</td>\n",
       "      <td>Methanobacteriales</td>\n",
       "      <td>Methanobacteriaceae</td>\n",
       "      <td>Methanosphaera</td>\n",
       "    </tr>\n",
       "    <tr>\n",
       "      <th>2</th>\n",
       "      <td>Bacteria.....</td>\n",
       "      <td>NaN</td>\n",
       "      <td>NaN</td>\n",
       "      <td>NaN</td>\n",
       "      <td>NaN</td>\n",
       "      <td>NaN</td>\n",
       "    </tr>\n",
       "    <tr>\n",
       "      <th>3</th>\n",
       "      <td>Bacteria</td>\n",
       "      <td>Acidobacteria</td>\n",
       "      <td>.Chloracidobacteria.</td>\n",
       "      <td>RB41</td>\n",
       "      <td>Ellin6075</td>\n",
       "      <td></td>\n",
       "    </tr>\n",
       "    <tr>\n",
       "      <th>4</th>\n",
       "      <td>Bacteria</td>\n",
       "      <td>Actinobacteria</td>\n",
       "      <td>Actinobacteria</td>\n",
       "      <td>Actinomycetales</td>\n",
       "      <td>Actinomycetaceae</td>\n",
       "      <td></td>\n",
       "    </tr>\n",
       "    <tr>\n",
       "      <th>...</th>\n",
       "      <td>...</td>\n",
       "      <td>...</td>\n",
       "      <td>...</td>\n",
       "      <td>...</td>\n",
       "      <td>...</td>\n",
       "      <td>...</td>\n",
       "    </tr>\n",
       "    <tr>\n",
       "      <th>296</th>\n",
       "      <td>Bacteria</td>\n",
       "      <td>Tenericutes</td>\n",
       "      <td>Mollicutes</td>\n",
       "      <td>Anaeroplasmatales</td>\n",
       "      <td>Anaeroplasmataceae</td>\n",
       "      <td></td>\n",
       "    </tr>\n",
       "    <tr>\n",
       "      <th>297</th>\n",
       "      <td>Bacteria</td>\n",
       "      <td>Tenericutes</td>\n",
       "      <td>Mollicutes</td>\n",
       "      <td>RF39</td>\n",
       "      <td></td>\n",
       "      <td></td>\n",
       "    </tr>\n",
       "    <tr>\n",
       "      <th>298</th>\n",
       "      <td>Bacteria</td>\n",
       "      <td>Tenericutes</td>\n",
       "      <td>RF3</td>\n",
       "      <td>ML615J.28</td>\n",
       "      <td></td>\n",
       "      <td></td>\n",
       "    </tr>\n",
       "    <tr>\n",
       "      <th>299</th>\n",
       "      <td>Bacteria</td>\n",
       "      <td>Verrucomicrobia</td>\n",
       "      <td>Opitutae</td>\n",
       "      <td>.Cerasicoccales.</td>\n",
       "      <td>.Cerasicoccaceae.</td>\n",
       "      <td></td>\n",
       "    </tr>\n",
       "    <tr>\n",
       "      <th>300</th>\n",
       "      <td>Bacteria</td>\n",
       "      <td>Verrucomicrobia</td>\n",
       "      <td>Verrucomicrobiae</td>\n",
       "      <td>Verrucomicrobiales</td>\n",
       "      <td>Verrucomicrobiaceae</td>\n",
       "      <td>Akkermansia</td>\n",
       "    </tr>\n",
       "  </tbody>\n",
       "</table>\n",
       "<p>301 rows × 6 columns</p>\n",
       "</div>"
      ],
      "text/plain": [
       "           kingdom           phylum                 class               order  \\\n",
       "0          Archaea    Euryarchaeota       Methanobacteria  Methanobacteriales   \n",
       "1          Archaea    Euryarchaeota       Methanobacteria  Methanobacteriales   \n",
       "2    Bacteria.....              NaN                   NaN                 NaN   \n",
       "3         Bacteria    Acidobacteria  .Chloracidobacteria.                RB41   \n",
       "4         Bacteria   Actinobacteria        Actinobacteria     Actinomycetales   \n",
       "..             ...              ...                   ...                 ...   \n",
       "296       Bacteria      Tenericutes            Mollicutes   Anaeroplasmatales   \n",
       "297       Bacteria      Tenericutes            Mollicutes                RF39   \n",
       "298       Bacteria      Tenericutes                   RF3           ML615J.28   \n",
       "299       Bacteria  Verrucomicrobia              Opitutae    .Cerasicoccales.   \n",
       "300       Bacteria  Verrucomicrobia      Verrucomicrobiae  Verrucomicrobiales   \n",
       "\n",
       "                  family               genus  \n",
       "0    Methanobacteriaceae  Methanobrevibacter  \n",
       "1    Methanobacteriaceae      Methanosphaera  \n",
       "2                    NaN                 NaN  \n",
       "3              Ellin6075                      \n",
       "4       Actinomycetaceae                      \n",
       "..                   ...                 ...  \n",
       "296   Anaeroplasmataceae                      \n",
       "297                                           \n",
       "298                                           \n",
       "299    .Cerasicoccaceae.                      \n",
       "300  Verrucomicrobiaceae         Akkermansia  \n",
       "\n",
       "[301 rows x 6 columns]"
      ]
     },
     "execution_count": 274,
     "metadata": {},
     "output_type": "execute_result"
    }
   ],
   "source": [
    "dfs = pd.Series(dfx.columns).apply(lambda x: dict([i.split('__') for i in x.split('|')])).apply(pd.Series)\n",
    "level_dict = {'k':'kingdom', 'p':'phylum', 'c':'class' ,'o':'order' ,'f':'family' ,'g': 'genus','s': 'species'}\n",
    "dfs = dfs.rename(columns=level_dict)\n",
    "dfs"
   ]
  },
  {
   "cell_type": "code",
   "execution_count": 287,
   "metadata": {},
   "outputs": [],
   "source": [
    "level = 'class'\n",
    "so = dfs.groupby(level).size() \n",
    "md = {}\n",
    "for i, j in so.items():\n",
    "    if j < 5:\n",
    "        md[i] = 'Others'\n",
    "    else:\n",
    "        md[i] = i\n",
    "res = dfs[level].map(md)\n",
    "feature_group_list = res.tolist()"
   ]
  },
  {
   "cell_type": "code",
   "execution_count": 288,
   "metadata": {},
   "outputs": [
    {
     "data": {
      "text/plain": [
       "Clostridia             73\n",
       "Others                 35\n",
       "Bacilli                35\n",
       "Gammaproteobacteria    34\n",
       "Betaproteobacteria     28\n",
       "Alphaproteobacteria    23\n",
       "Actinobacteria         23\n",
       "Bacteroidia            23\n",
       "Erysipelotrichi        11\n",
       "Fusobacteriia           6\n",
       "Deltaproteobacteria     6\n",
       "dtype: int64"
      ]
     },
     "execution_count": 288,
     "metadata": {},
     "output_type": "execute_result"
    }
   ],
   "source": [
    "pd.Series(feature_group_list).value_counts()"
   ]
  },
  {
   "cell_type": "code",
   "execution_count": 289,
   "metadata": {},
   "outputs": [
    {
     "name": "stdout",
     "output_type": "stream",
     "text": [
      "2021-08-16 14:27:46,410 - \u001b[32mINFO\u001b[0m - [bidd-aggmap]\u001b[0m - Calculating distance ...\u001b[0m\n",
      "2021-08-16 14:27:46,418 - \u001b[32mINFO\u001b[0m - [bidd-aggmap]\u001b[0m - the number of process is 16\u001b[0m\n"
     ]
    },
    {
     "name": "stderr",
     "output_type": "stream",
     "text": [
      "100%|##########| 45150/45150 [00:01<00:00, 24840.49it/s]\n",
      "100%|##########| 45150/45150 [00:00<00:00, 1475797.24it/s]\n",
      "100%|##########| 301/301 [00:00<00:00, 652.80it/s]\n"
     ]
    }
   ],
   "source": [
    "mp = AggMap(dfx, metric='correlation')"
   ]
  },
  {
   "cell_type": "code",
   "execution_count": 290,
   "metadata": {},
   "outputs": [
    {
     "name": "stdout",
     "output_type": "stream",
     "text": [
      "2021-08-16 14:27:50,876 - \u001b[32mINFO\u001b[0m - [bidd-aggmap]\u001b[0m - Applying grid feature map(assignment), this may take several minutes(1~30 min)\u001b[0m\n",
      "2021-08-16 14:27:51,087 - \u001b[32mINFO\u001b[0m - [bidd-aggmap]\u001b[0m - Finished\u001b[0m\n"
     ]
    }
   ],
   "source": [
    "mp = mp.fit(feature_group_list = feature_group_list, verbose=0, var_thr=0)"
   ]
  },
  {
   "cell_type": "code",
   "execution_count": 291,
   "metadata": {},
   "outputs": [
    {
     "name": "stdout",
     "output_type": "stream",
     "text": [
      "2021-08-16 14:27:51,093 - \u001b[32mINFO\u001b[0m - [bidd-aggmap]\u001b[0m - generate file: ./feature points_301_correlation_umap_scatter\u001b[0m\n",
      "2021-08-16 14:27:51,122 - \u001b[32mINFO\u001b[0m - [bidd-aggmap]\u001b[0m - save html file to ./feature points_301_correlation_umap_scatter\u001b[0m\n"
     ]
    },
    {
     "data": {
      "text/plain": [
       "<highcharts.highcharts.highcharts.Highchart at 0x7ff396a46390>"
      ]
     },
     "execution_count": 291,
     "metadata": {},
     "output_type": "execute_result"
    }
   ],
   "source": [
    "mp.plot_scatter()"
   ]
  },
  {
   "cell_type": "code",
   "execution_count": 292,
   "metadata": {},
   "outputs": [
    {
     "name": "stdout",
     "output_type": "stream",
     "text": [
      "2021-08-16 14:27:51,218 - \u001b[32mINFO\u001b[0m - [bidd-aggmap]\u001b[0m - generate file: ./feature points_301_correlation_umap_mp\u001b[0m\n",
      "2021-08-16 14:27:51,246 - \u001b[32mINFO\u001b[0m - [bidd-aggmap]\u001b[0m - save html file to ./feature points_301_correlation_umap_mp\u001b[0m\n"
     ]
    },
    {
     "data": {
      "text/plain": [
       "<highcharts.highcharts.highcharts.Highchart at 0x7ff39882c7f0>"
      ]
     },
     "execution_count": 292,
     "metadata": {},
     "output_type": "execute_result"
    }
   ],
   "source": [
    "mp.plot_grid()"
   ]
  },
  {
   "cell_type": "code",
   "execution_count": 293,
   "metadata": {},
   "outputs": [
    {
     "name": "stderr",
     "output_type": "stream",
     "text": [
      "100%|##########| 553/553 [00:00<00:00, 1483.06it/s]\n"
     ]
    },
    {
     "data": {
      "image/png": "[encoded data removed]",
      "text/plain": [
       "<Figure size 288x288 with 1 Axes>"
      ]
     },
     "metadata": {},
     "output_type": "display_data"
    },
    {
     "data": {
      "image/png": "[encoded data removed]",
      "text/plain": [
       "<Figure size 288x288 with 1 Axes>"
      ]
     },
     "metadata": {},
     "output_type": "display_data"
    },
    {
     "data": {
      "image/png": "[encoded data removed]",
      "text/plain": [
       "<Figure size 288x288 with 1 Axes>"
      ]
     },
     "metadata": {},
     "output_type": "display_data"
    },
    {
     "data": {
      "image/png": "[encoded data removed]",
      "text/plain": [
       "<Figure size 288x288 with 1 Axes>"
      ]
     },
     "metadata": {},
     "output_type": "display_data"
    },
    {
     "data": {
      "image/png": "[encoded data removed]",
      "text/plain": [
       "<Figure size 288x288 with 1 Axes>"
      ]
     },
     "metadata": {},
     "output_type": "display_data"
    },
    {
     "data": {
      "image/png": "[encoded data removed]",
      "text/plain": [
       "<Figure size 288x288 with 1 Axes>"
      ]
     },
     "metadata": {},
     "output_type": "display_data"
    }
   ],
   "source": [
    "X = mp.batch_transform(dfx.values, scale_method='minmax')\n",
    "for i in range(1, 300, 50):\n",
    "    x = X[i]\n",
    "    show.imshow_wrap(x, mode = 'white',color_list= pd.Series(mp.colormaps).tolist(), x_max= 1, )"
   ]
  },
  {
   "cell_type": "code",
   "execution_count": null,
   "metadata": {},
   "outputs": [],
   "source": []
  },
  {
   "cell_type": "code",
   "execution_count": null,
   "metadata": {},
   "outputs": [],
   "source": []
  },
  {
   "cell_type": "code",
   "execution_count": 4,
   "metadata": {},
   "outputs": [
    {
     "data": {
      "text/plain": [
       "0    3.0\n",
       "dtype: float64"
      ]
     },
     "execution_count": 4,
     "metadata": {},
     "output_type": "execute_result"
    }
   ],
   "source": [
    "pd.DataFrame([1,2,3,4,5]).median()"
   ]
  },
  {
   "cell_type": "code",
   "execution_count": null,
   "metadata": {},
   "outputs": [],
   "source": []
  }
 ],
 "metadata": {
  "kernelspec": {
   "display_name": "Python 3 (ipykernel)",
   "language": "python",
   "name": "python3"
  },
  "language_info": {
   "codemirror_mode": {
    "name": "ipython",
    "version": 3
   },
   "file_extension": ".py",
   "mimetype": "text/x-python",
   "name": "python",
   "nbconvert_exporter": "python",
   "pygments_lexer": "ipython3",
   "version": "3.9.7"
  }
 },
 "nbformat": 4,
 "nbformat_minor": 4
}
