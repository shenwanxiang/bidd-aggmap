{
 "cells": [
  {
   "cell_type": "code",
   "execution_count": 1,
   "metadata": {},
   "outputs": [],
   "source": [
    "from molmap import loadmap\n",
    "from tensorflow.keras.models import load_model\n",
    "from tensorflow.keras.models import Model\n",
    "from sklearn.metrics import mean_squared_error, log_loss\n",
    "import warnings, os\n",
    "from sklearn.model_selection import KFold, StratifiedKFold\n",
    "import matplotlib.pyplot as plt\n",
    "import seaborn as sns\n",
    "import pandas as pd\n",
    "import numpy as np\n",
    "from copy import copy\n",
    "from tqdm import tqdm\n",
    "\n",
    "\n",
    "warnings.filterwarnings(\"ignore\")\n",
    "os.environ[\"CUDA_VISIBLE_DEVICES\"]=\"7\""
   ]
  },
  {
   "cell_type": "code",
   "execution_count": 2,
   "metadata": {},
   "outputs": [],
   "source": [
    "from sklearn.model_selection import KFold, StratifiedKFold\n",
    "from sklearn.metrics import confusion_matrix, precision_recall_curve, roc_auc_score\n",
    "from sklearn.metrics import auc as calculate_auc\n",
    "\n",
    "import matplotlib.pyplot as plt\n",
    "import seaborn as sns\n",
    "\n",
    "from aggmap import AggMap, AggModel, loadmap\n",
    "from aggmap import show\n",
    "\n",
    "def prc_auc_score(y_true, y_score):\n",
    "    precision, recall, threshold  = precision_recall_curve(y_true, y_score) #PRC_AUC\n",
    "    auc = calculate_auc(recall, precision)\n",
    "    return auc\n",
    "\n",
    "\n",
    "def score(dfr):\n",
    "    y_true = dfr.y_true\n",
    "    y_score = dfr.y_score\n",
    "    y_pred = dfr.y_score.round()\n",
    "\n",
    "    tn, fp, fn, tp = confusion_matrix(y_true, y_pred).ravel()\n",
    "\n",
    "    acc = (tp + tn) / sum([tn, fp, fn, tp])\n",
    "    auc = roc_auc_score(y_true, y_score)\n",
    "\n",
    "    print('acc: %.3f, roc-auc: %.3f' % (acc,auc))\n",
    "\n",
    "    return acc, auc\n",
    "\n",
    "def CalcFeatImp(model, mp, arrX, dfY, task_type = 'classification', sigmoidy = False):\n",
    "    '''\n",
    "    Forward prop. Feature importance\n",
    "    '''\n",
    "    \n",
    "    if task_type == 'classification':\n",
    "        f = log_loss\n",
    "    else:\n",
    "        f = mean_squared_error\n",
    "        \n",
    "    def sigmoid(x):\n",
    "        return 1 / (1 + np.exp(-x))\n",
    "\n",
    "    grid = mp.plot_grid()\n",
    "    Y_true = dfY.values\n",
    "    df_grid = mp.df_grid.sort_values(['y', 'x']).reset_index(drop=True)\n",
    "    Y_prob = model.predict(arrX)\n",
    "    N, W, H, C = arrX.shape\n",
    "    \n",
    "    if (sigmoidy) & (task_type == 'classification'):\n",
    "        Y_prob = sigmoid(Y_prob)\n",
    "\n",
    "    final_res = {}\n",
    "    for k, col in enumerate(dfY.columns):\n",
    "        \n",
    "        if col == 'Healthy':\n",
    "            continue\n",
    "            \n",
    "        print('calculating feature importance for %s ...' % col)\n",
    "        \n",
    "        results = []\n",
    "        loss = f(Y_true[:, k].tolist(), Y_prob[:, k].tolist())\n",
    "        for i in tqdm(range(len(df_grid)), ascii= True):\n",
    "            ts = df_grid.iloc[i]\n",
    "            y = ts.y\n",
    "            x = ts.x\n",
    "            X1 = copy(arrX)\n",
    "            X1[:, y, x,:] = np.full(X1[:, y, x,:].shape, fill_value = arrX.min())\n",
    "            #Y1 = model.predict(X1)\n",
    "            Y_pred_prob = model.predict(X1)\n",
    "            if (sigmoidy) & (task_type == 'classification'):\n",
    "                Y_pred_prob = sigmoid(Y_pred_prob)\n",
    "            mut_loss = f(Y_true[:, k].tolist(), Y_pred_prob[:, k].tolist()) \n",
    "            res =  mut_loss - loss # if res > 0, important, othervise, not important\n",
    "            results.append(res)\n",
    "            \n",
    "        final_res.update({col:results})\n",
    "    df = pd.DataFrame(final_res)\n",
    "    df.columns = df.columns + '_importance'\n",
    "    df = df_grid.join(df)\n",
    "    return df"
   ]
  },
  {
   "cell_type": "code",
   "execution_count": null,
   "metadata": {},
   "outputs": [],
   "source": []
  },
  {
   "cell_type": "code",
   "execution_count": 3,
   "metadata": {},
   "outputs": [],
   "source": [
    "label = pd.read_excel('./data/subject_info.xlsx', index_col = 'Subject_ID')\n",
    "data = pd.read_excel('./data/data_species_7278_preprocessed.xlsx', index_col = 0)\n",
    "mp = loadmap('./CRC_stage.mp')"
   ]
  },
  {
   "cell_type": "code",
   "execution_count": 6,
   "metadata": {},
   "outputs": [
    {
     "name": "stderr",
     "output_type": "stream",
     "text": [
      "100%|##########| 196/196 [00:37<00:00,  5.23it/s]\n"
     ]
    },
    {
     "data": {
      "text/plain": [
       "Index(['Healthy', 'Stage_I_II'], dtype='object')"
      ]
     },
     "execution_count": 6,
     "metadata": {},
     "output_type": "execute_result"
    }
   ],
   "source": [
    "stage = 'Stage_I_II'\n",
    "model_dir = './%s_model' % stage\n",
    "\n",
    "sld = label[label.Group.isin(['Healthy', stage])].index\n",
    "dfy = label.loc[sld][['Group']]\n",
    "dfx = data.loc[sld]\n",
    "dfx = np.log(dfx + 1e-8)\n",
    "dfy.shape, dfx.shape\n",
    "\n",
    "\n",
    "X = mp.batch_transform(dfx.values, scale_method = 'standard')\n",
    "Y = pd.get_dummies(dfy['Group']).values\n",
    "\n",
    "class_ = pd.get_dummies(dfy['Group']).columns\n",
    "class_\n"
   ]
  },
  {
   "cell_type": "code",
   "execution_count": null,
   "metadata": {},
   "outputs": [
    {
     "name": "stdout",
     "output_type": "stream",
     "text": [
      "\n",
      " input train and test X shape is (176, 86, 85, 5), (20, 86, 85, 5) \n",
      "2021-01-11 12:46:53,862 - \u001b[32mINFO\u001b[0m - [bidd-aggmap]\u001b[0m - generate file: ./feature points_7278_correlation_umap_mp\u001b[0m\n",
      "2021-01-11 12:46:54,101 - \u001b[32mINFO\u001b[0m - [bidd-aggmap]\u001b[0m - save html file to ./feature points_7278_correlation_umap_mp\u001b[0m\n"
     ]
    },
    {
     "name": "stderr",
     "output_type": "stream",
     "text": [
      "  0%|          | 0/7310 [00:00<?, ?it/s]"
     ]
    },
    {
     "name": "stdout",
     "output_type": "stream",
     "text": [
      "calculating feature importance for Stage_I_II ...\n"
     ]
    },
    {
     "name": "stderr",
     "output_type": "stream",
     "text": [
      "  9%|9         | 670/7310 [02:50<27:38,  4.00it/s]"
     ]
    }
   ],
   "source": [
    "outer_fold = 10\n",
    "repeat_seed = 8\n",
    "\n",
    "outer = StratifiedKFold(n_splits = outer_fold, shuffle = True, random_state = repeat_seed)\n",
    "outer_idx = outer.split(X, Y[:,0])\n",
    "\n",
    "run_one_res = []\n",
    "for i, idx in enumerate(outer_idx):\n",
    "\n",
    "    fold_num = \"fold_%s\" % str(i).zfill(2) \n",
    "\n",
    "    train_idx, test_idx = idx\n",
    "\n",
    "    testY = Y[test_idx]\n",
    "    testX = X[test_idx]\n",
    "\n",
    "    trainX = X[train_idx]\n",
    "    trainY = Y[train_idx]\n",
    "    \n",
    "    model_name = os.path.join('./%s' % model_dir, 'seed_%s_fold_%s.h5' % (repeat_seed, i))\n",
    "    \n",
    "    print(\"\\n input train and test X shape is %s, %s \" % (trainX.shape,  testX.shape))\n",
    "\n",
    "    ## load model\n",
    "    model = load_model(model_name)\n",
    "\n",
    "    arrX = trainX\n",
    "    dfY = pd.DataFrame(trainY, columns = pd.get_dummies(dfy['Group']).columns)\n",
    "\n",
    "    df_imp = CalcFeatImp(model, mp, arrX, dfY, task_type = 'classification', sigmoidy = False)\n",
    "\n",
    "    run_one_res.append(df_imp)\n"
   ]
  },
  {
   "cell_type": "code",
   "execution_count": null,
   "metadata": {},
   "outputs": [],
   "source": []
  },
  {
   "cell_type": "code",
   "execution_count": null,
   "metadata": {},
   "outputs": [],
   "source": [
    "## plot each fold \n",
    "for i, dfi in enumerate(run_one_res):    \n",
    "    \n",
    "    sns.set(style='white',  font='sans-serif', font_scale=2)\n",
    "    fig, ax  = plt.subplots(1, 1, figsize=(10, 9))\n",
    "    \n",
    "    fold = 'fold_%s' % i\n",
    "    \n",
    "    IMPM = dfi[impname].values.reshape(*mp.fmap_shape)\n",
    "    sns.heatmap(IMPM,  \n",
    "                cmap = 'rainbow', alpha = 0.8, xticklabels=10, ax =ax,\n",
    "                yticklabels=10, vmin = 0,\n",
    "                cbar_kws = {'fraction':0.046, 'pad':0.02})\n",
    "\n",
    "    bottom, top = ax.get_ylim()\n",
    "    ax.set_ylim(bottom + 0.5, top - 0.5)\n",
    "\n",
    "    plt.title(fold)\n",
    "\n",
    "    plt.subplots_adjust(wspace = 0.18)\n",
    "\n",
    "    plt.savefig('./%s/%s.svg' % (model_dir, fold), dpi = 400, bbox_inches=\"tight\")\n",
    "    \n",
    "\n",
    "## save feature importance xlsx\n",
    "fda = pd.concat(run_one_res, axis=1)[impname]\n",
    "fda.columns = ['fold_%s_importance' % i for i in range(outer_fold)]\n",
    "df1 = run_one_res[0]\n",
    "df1 = df1[['x', 'y', 'v', 'Subtypes', 'colors', ]]\n",
    "df1['%s_mean' % impname] = pd.concat(run_one_res, axis=1)[impname].mean(axis=1)\n",
    "df1 = df1.join(fda)\n",
    "df1 = df1.sort_values('%s_mean' % impname, ascending = False)\n",
    "df1.to_excel('./results/importance_%s.xlsx' % stage)\n",
    "\n",
    "\n",
    "## plot fold average\n",
    "sns.set(style='white',  font='sans-serif', font_scale=2)\n",
    "fig, ax  = plt.subplots(1, 1, figsize=(10, 9))\n",
    "fold = stage\n",
    "dfi = run_one_res[0]\n",
    "dfi = dfi[['x', 'y', 'v', 'Subtypes', 'colors', ]]\n",
    "dfi['%s_mean' % impname] = pd.concat(run_one_res, axis=1)[impname].mean(axis=1)\n",
    "\n",
    "IMPM = dfi['%s_mean' % impname].values.reshape(*mp.fmap_shape)\n",
    "sns.heatmap(IMPM,  \n",
    "            cmap = 'rainbow', alpha = 0.8, xticklabels=10, ax =ax,\n",
    "            yticklabels=10, vmin = 0,\n",
    "            cbar_kws = {'fraction':0.046, 'pad':0.02})\n",
    "\n",
    "bottom, top = ax.get_ylim()\n",
    "ax.set_ylim(bottom + 0.5, top - 0.5)\n",
    "\n",
    "plt.title(fold)\n",
    "\n",
    "plt.subplots_adjust(wspace = 0.18)\n",
    "\n",
    "plt.savefig('./%s/fold_avg.svg' % (model_dir), dpi = 400, bbox_inches=\"tight\")"
   ]
  },
  {
   "cell_type": "code",
   "execution_count": null,
   "metadata": {},
   "outputs": [],
   "source": []
  },
  {
   "cell_type": "code",
   "execution_count": null,
   "metadata": {},
   "outputs": [],
   "source": []
  },
  {
   "cell_type": "code",
   "execution_count": null,
   "metadata": {},
   "outputs": [],
   "source": []
  },
  {
   "cell_type": "code",
   "execution_count": null,
   "metadata": {},
   "outputs": [],
   "source": []
  },
  {
   "cell_type": "code",
   "execution_count": null,
   "metadata": {},
   "outputs": [],
   "source": []
  }
 ],
 "metadata": {
  "kernelspec": {
   "display_name": "Python 3",
   "language": "python",
   "name": "python3"
  },
  "language_info": {
   "codemirror_mode": {
    "name": "ipython",
    "version": 3
   },
   "file_extension": ".py",
   "mimetype": "text/x-python",
   "name": "python",
   "nbconvert_exporter": "python",
   "pygments_lexer": "ipython3",
   "version": "3.6.9"
  }
 },
 "nbformat": 4,
 "nbformat_minor": 4
}
