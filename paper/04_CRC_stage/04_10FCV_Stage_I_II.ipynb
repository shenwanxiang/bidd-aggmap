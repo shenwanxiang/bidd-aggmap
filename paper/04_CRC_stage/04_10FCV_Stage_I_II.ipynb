{
 "cells": [
  {
   "cell_type": "code",
   "execution_count": 1,
   "metadata": {},
   "outputs": [],
   "source": [
    "# -*- coding: utf-8 -*-\n",
    "\"\"\"\n",
    "Created on Sun Aug 16 17:10:53 2020\n",
    "\n",
    "@author: wanxiang.shen@u.nus.edu\n",
    "\"\"\"\n",
    "\n",
    "import warnings, os\n",
    "warnings.filterwarnings(\"ignore\")\n",
    "\n",
    "\n",
    "import pandas as pd\n",
    "import numpy as np\n",
    "\n",
    "from sklearn.model_selection import KFold, StratifiedKFold\n",
    "from sklearn.metrics import confusion_matrix, precision_recall_curve, roc_auc_score\n",
    "from sklearn.metrics import auc as calculate_auc\n",
    "\n",
    "import matplotlib.pyplot as plt\n",
    "import seaborn as sns\n",
    "\n",
    "from aggmap import AggMap, AggModel, loadmap\n",
    "from aggmap import show\n",
    "np.random.seed(666) #just for reaptable results\n",
    "\n",
    "def prc_auc_score(y_true, y_score):\n",
    "    precision, recall, threshold  = precision_recall_curve(y_true, y_score) #PRC_AUC\n",
    "    auc = calculate_auc(recall, precision)\n",
    "    return auc\n",
    "\n",
    "\n",
    "def score(dfr):\n",
    "    y_true = dfr.y_true\n",
    "    y_score = dfr.y_score\n",
    "    y_pred = dfr.y_score.round()\n",
    "\n",
    "    tn, fp, fn, tp = confusion_matrix(y_true, y_pred).ravel()\n",
    "\n",
    "    acc = (tp + tn) / sum([tn, fp, fn, tp])\n",
    "    auc = roc_auc_score(y_true, y_score)\n",
    "\n",
    "    print('acc: %.3f, roc-auc: %.3f' % (acc,auc))\n",
    "\n",
    "    return acc, auc"
   ]
  },
  {
   "cell_type": "code",
   "execution_count": 2,
   "metadata": {},
   "outputs": [],
   "source": [
    "label = pd.read_excel('./data/subject_info.xlsx', index_col = 'Subject_ID')\n",
    "data = pd.read_excel('./data/data_species_7278_preprocessed.xlsx', index_col = 0)"
   ]
  },
  {
   "cell_type": "code",
   "execution_count": 3,
   "metadata": {},
   "outputs": [
    {
     "data": {
      "text/plain": [
       "Group\n",
       "HS               30\n",
       "Healthy         127\n",
       "MP               40\n",
       "Stage_0          27\n",
       "Stage_III_IV     54\n",
       "Stage_I_II       69\n",
       "dtype: int64"
      ]
     },
     "execution_count": 3,
     "metadata": {},
     "output_type": "execute_result"
    }
   ],
   "source": [
    "label.groupby('Group').size()"
   ]
  },
  {
   "cell_type": "code",
   "execution_count": 4,
   "metadata": {},
   "outputs": [],
   "source": [
    "mp = loadmap('./CRC_stage.mp')"
   ]
  },
  {
   "cell_type": "markdown",
   "metadata": {},
   "source": [
    "## Model-1: Healthy vs. MP:"
   ]
  },
  {
   "cell_type": "code",
   "execution_count": 5,
   "metadata": {},
   "outputs": [
    {
     "data": {
      "text/plain": [
       "((196, 1), (196, 7278))"
      ]
     },
     "execution_count": 5,
     "metadata": {},
     "output_type": "execute_result"
    }
   ],
   "source": [
    "stage = 'Stage_I_II'\n",
    "model_dir = './%s_model' % stage\n",
    "\n",
    "sld = label[label.Group.isin(['Healthy', stage])].index\n",
    "dfy = label.loc[sld][['Group']]\n",
    "dfx = data.loc[sld]\n",
    "dfx = np.log(dfx + 1e-8)\n",
    "dfy.shape, dfx.shape"
   ]
  },
  {
   "cell_type": "code",
   "execution_count": null,
   "metadata": {},
   "outputs": [],
   "source": []
  },
  {
   "cell_type": "code",
   "execution_count": 6,
   "metadata": {},
   "outputs": [
    {
     "name": "stderr",
     "output_type": "stream",
     "text": [
      "100%|##########| 196/196 [00:26<00:00,  7.33it/s]\n"
     ]
    }
   ],
   "source": [
    "X = mp.batch_transform(dfx.values, scale_method = 'standard')\n",
    "Y = pd.get_dummies(dfy['Group']).values"
   ]
  },
  {
   "cell_type": "code",
   "execution_count": 7,
   "metadata": {},
   "outputs": [
    {
     "data": {
      "text/plain": [
       "((196, 1), (196, 7278))"
      ]
     },
     "execution_count": 7,
     "metadata": {},
     "output_type": "execute_result"
    }
   ],
   "source": [
    "dfy.shape, dfx.shape"
   ]
  },
  {
   "cell_type": "code",
   "execution_count": 8,
   "metadata": {},
   "outputs": [
    {
     "data": {
      "text/plain": [
       "Index(['Healthy', 'Stage_I_II'], dtype='object')"
      ]
     },
     "execution_count": 8,
     "metadata": {},
     "output_type": "execute_result"
    }
   ],
   "source": [
    "class_ = pd.get_dummies(dfy['Group']).columns\n",
    "class_"
   ]
  },
  {
   "cell_type": "code",
   "execution_count": null,
   "metadata": {},
   "outputs": [],
   "source": []
  },
  {
   "cell_type": "code",
   "execution_count": null,
   "metadata": {},
   "outputs": [
    {
     "name": "stdout",
     "output_type": "stream",
     "text": [
      "\n",
      " input train and test X shape is (176, 86, 85, 5), (20, 86, 85, 5) \n",
      "MultiClassEstimator(batch_size=2, conv1_kernel_size=13, epochs=50, gpuid='3')\n",
      "acc: 0.850, roc-auc: 0.967\n",
      "\n",
      " input train and test X shape is (176, 86, 85, 5), (20, 86, 85, 5) \n",
      "MultiClassEstimator(batch_size=2, conv1_kernel_size=13, epochs=50, gpuid='3')\n",
      "acc: 0.850, roc-auc: 0.802\n",
      "\n",
      " input train and test X shape is (176, 86, 85, 5), (20, 86, 85, 5) \n",
      "MultiClassEstimator(batch_size=2, conv1_kernel_size=13, epochs=50, gpuid='3')\n",
      "acc: 0.850, roc-auc: 0.978\n",
      "\n",
      " input train and test X shape is (176, 86, 85, 5), (20, 86, 85, 5) \n",
      "MultiClassEstimator(batch_size=2, conv1_kernel_size=13, epochs=50, gpuid='3')\n",
      "acc: 0.850, roc-auc: 0.901\n",
      "\n",
      " input train and test X shape is (176, 86, 85, 5), (20, 86, 85, 5) \n",
      "MultiClassEstimator(batch_size=2, conv1_kernel_size=13, epochs=50, gpuid='3')\n",
      "acc: 0.800, roc-auc: 0.813\n",
      "\n",
      " input train and test X shape is (176, 86, 85, 5), (20, 86, 85, 5) \n",
      "MultiClassEstimator(batch_size=2, conv1_kernel_size=13, epochs=50, gpuid='3')\n",
      "acc: 0.800, roc-auc: 0.758\n",
      "\n",
      " input train and test X shape is (177, 86, 85, 5), (19, 86, 85, 5) \n",
      "MultiClassEstimator(batch_size=2, conv1_kernel_size=13, epochs=50, gpuid='3')\n",
      "acc: 0.842, roc-auc: 0.910\n",
      "\n",
      " input train and test X shape is (177, 86, 85, 5), (19, 86, 85, 5) \n",
      "MultiClassEstimator(batch_size=2, conv1_kernel_size=13, epochs=50, gpuid='3')\n",
      "acc: 0.789, roc-auc: 0.845\n",
      "\n",
      " input train and test X shape is (177, 86, 85, 5), (19, 86, 85, 5) \n",
      "MultiClassEstimator(batch_size=2, conv1_kernel_size=13, epochs=50, gpuid='3')\n",
      "acc: 0.737, roc-auc: 0.762\n",
      "\n",
      " input train and test X shape is (177, 86, 85, 5), (19, 86, 85, 5) \n",
      "MultiClassEstimator(batch_size=2, conv1_kernel_size=13, epochs=50, gpuid='3')\n",
      "acc: 0.895, roc-auc: 0.881\n",
      "\n",
      " input train and test X shape is (176, 86, 85, 5), (20, 86, 85, 5) \n",
      "MultiClassEstimator(batch_size=2, conv1_kernel_size=13, epochs=50, gpuid='3')\n",
      "acc: 0.800, roc-auc: 0.912\n",
      "\n",
      " input train and test X shape is (176, 86, 85, 5), (20, 86, 85, 5) \n",
      "MultiClassEstimator(batch_size=2, conv1_kernel_size=13, epochs=50, gpuid='3')\n",
      "acc: 0.950, roc-auc: 0.934\n",
      "\n",
      " input train and test X shape is (176, 86, 85, 5), (20, 86, 85, 5) \n",
      "MultiClassEstimator(batch_size=2, conv1_kernel_size=13, epochs=50, gpuid='3')\n",
      "acc: 0.850, roc-auc: 0.846\n",
      "\n",
      " input train and test X shape is (176, 86, 85, 5), (20, 86, 85, 5) \n",
      "MultiClassEstimator(batch_size=2, conv1_kernel_size=13, epochs=50, gpuid='3')\n",
      "acc: 0.850, roc-auc: 0.824\n",
      "\n",
      " input train and test X shape is (176, 86, 85, 5), (20, 86, 85, 5) \n",
      "MultiClassEstimator(batch_size=2, conv1_kernel_size=13, epochs=50, gpuid='3')\n",
      "acc: 0.850, roc-auc: 1.000\n",
      "\n",
      " input train and test X shape is (176, 86, 85, 5), (20, 86, 85, 5) \n",
      "MultiClassEstimator(batch_size=2, conv1_kernel_size=13, epochs=50, gpuid='3')\n",
      "acc: 0.800, roc-auc: 0.692\n",
      "\n",
      " input train and test X shape is (177, 86, 85, 5), (19, 86, 85, 5) \n",
      "MultiClassEstimator(batch_size=2, conv1_kernel_size=13, epochs=50, gpuid='3')\n",
      "acc: 0.737, roc-auc: 0.718\n",
      "\n",
      " input train and test X shape is (177, 86, 85, 5), (19, 86, 85, 5) \n",
      "MultiClassEstimator(batch_size=2, conv1_kernel_size=13, epochs=50, gpuid='3')\n",
      "acc: 0.842, roc-auc: 0.917\n",
      "\n",
      " input train and test X shape is (177, 86, 85, 5), (19, 86, 85, 5) \n",
      "MultiClassEstimator(batch_size=2, conv1_kernel_size=13, epochs=50, gpuid='3')\n",
      "acc: 0.842, roc-auc: 0.905\n",
      "\n",
      " input train and test X shape is (177, 86, 85, 5), (19, 86, 85, 5) \n",
      "MultiClassEstimator(batch_size=2, conv1_kernel_size=13, epochs=50, gpuid='3')\n",
      "acc: 0.842, roc-auc: 0.833\n",
      "\n",
      " input train and test X shape is (176, 86, 85, 5), (20, 86, 85, 5) \n",
      "MultiClassEstimator(batch_size=2, conv1_kernel_size=13, epochs=50, gpuid='3')\n",
      "acc: 0.700, roc-auc: 0.659\n",
      "\n",
      " input train and test X shape is (176, 86, 85, 5), (20, 86, 85, 5) \n",
      "MultiClassEstimator(batch_size=2, conv1_kernel_size=13, epochs=50, gpuid='3')\n",
      "acc: 0.900, roc-auc: 0.978\n",
      "\n",
      " input train and test X shape is (176, 86, 85, 5), (20, 86, 85, 5) \n",
      "MultiClassEstimator(batch_size=2, conv1_kernel_size=13, epochs=50, gpuid='3')\n",
      "acc: 0.850, roc-auc: 0.956\n",
      "\n",
      " input train and test X shape is (176, 86, 85, 5), (20, 86, 85, 5) \n",
      "MultiClassEstimator(batch_size=2, conv1_kernel_size=13, epochs=50, gpuid='3')\n",
      "acc: 0.750, roc-auc: 0.912\n",
      "\n",
      " input train and test X shape is (176, 86, 85, 5), (20, 86, 85, 5) \n",
      "MultiClassEstimator(batch_size=2, conv1_kernel_size=13, epochs=50, gpuid='3')\n",
      "acc: 0.850, roc-auc: 0.802\n",
      "\n",
      " input train and test X shape is (176, 86, 85, 5), (20, 86, 85, 5) \n",
      "MultiClassEstimator(batch_size=2, conv1_kernel_size=13, epochs=50, gpuid='3')\n",
      "acc: 0.750, roc-auc: 0.780\n",
      "\n",
      " input train and test X shape is (177, 86, 85, 5), (19, 86, 85, 5) \n",
      "MultiClassEstimator(batch_size=2, conv1_kernel_size=13, epochs=50, gpuid='3')\n",
      "acc: 0.895, roc-auc: 0.962\n",
      "\n",
      " input train and test X shape is (177, 86, 85, 5), (19, 86, 85, 5) \n",
      "MultiClassEstimator(batch_size=2, conv1_kernel_size=13, epochs=50, gpuid='3')\n",
      "acc: 0.684, roc-auc: 0.690\n",
      "\n",
      " input train and test X shape is (177, 86, 85, 5), (19, 86, 85, 5) \n",
      "MultiClassEstimator(batch_size=2, conv1_kernel_size=13, epochs=50, gpuid='3')\n",
      "acc: 0.789, roc-auc: 0.810\n",
      "\n",
      " input train and test X shape is (177, 86, 85, 5), (19, 86, 85, 5) \n",
      "MultiClassEstimator(batch_size=2, conv1_kernel_size=13, epochs=50, gpuid='3')\n",
      "acc: 0.895, roc-auc: 0.988\n",
      "\n",
      " input train and test X shape is (176, 86, 85, 5), (20, 86, 85, 5) \n",
      "MultiClassEstimator(batch_size=2, conv1_kernel_size=13, epochs=50, gpuid='3')\n",
      "acc: 0.900, roc-auc: 0.912\n",
      "\n",
      " input train and test X shape is (176, 86, 85, 5), (20, 86, 85, 5) \n",
      "MultiClassEstimator(batch_size=2, conv1_kernel_size=13, epochs=50, gpuid='3')\n"
     ]
    }
   ],
   "source": [
    "outer_fold = 10\n",
    "repeat_seeds = [8, 16, 32, 64, 128]#5 repeats random seeds 8, 16, 32, 64, 128\n",
    "\n",
    "each_fold_results = []\n",
    "run_all_res = []\n",
    "for repeat_seed in repeat_seeds: \n",
    "    \n",
    "    outer = StratifiedKFold(n_splits = outer_fold, shuffle = True, random_state = repeat_seed)\n",
    "    outer_idx = outer.split(X, Y[:,0])\n",
    "\n",
    "    \n",
    "    run_one_res = []\n",
    "    for i, idx in enumerate(outer_idx):\n",
    "        \n",
    "        fold_num = \"fold_%s\" % str(i).zfill(2) \n",
    "        \n",
    "        train_idx, test_idx = idx\n",
    "        \n",
    "        testY = Y[test_idx]\n",
    "        testX = X[test_idx]\n",
    "        \n",
    "        trainX = X[train_idx]\n",
    "        trainY = Y[train_idx]\n",
    "\n",
    "        print(\"\\n input train and test X shape is %s, %s \" % (trainX.shape,  testX.shape))\n",
    "        \n",
    "        clf = AggModel.MultiClassEstimator(epochs = 50, gpuid = 3, conv1_kernel_size = 13,\n",
    "                                           batch_size = 2, verbose = 0) #\n",
    "        clf.fit(trainX, trainY ) \n",
    "\n",
    "        ## save model for interpretation\n",
    "        if repeat_seed == 8:\n",
    "            clf._model.save(os.path.join(model_dir, 'seed_%s_fold_%s.h5' % (repeat_seed, i)))\n",
    "    \n",
    "        y_true = testY[:,1] #Stage\n",
    "        y_score = clf.predict_proba(testX)[:,1]\n",
    "        \n",
    "        dfr = pd.DataFrame([y_true, y_score]).T\n",
    "        dfr.columns = ['y_true', 'y_score']\n",
    "        dfr.index = dfy.iloc[test_idx].index\n",
    "        \n",
    "        acc, auc = score(dfr)\n",
    "        \n",
    "        run_one_res.append(dfr)\n",
    "        \n",
    "        each_fold_results.append([auc, i, repeat_seed])\n",
    "        \n",
    "    run_all_res.append(pd.concat(run_one_res))"
   ]
  },
  {
   "cell_type": "code",
   "execution_count": null,
   "metadata": {},
   "outputs": [],
   "source": []
  },
  {
   "cell_type": "code",
   "execution_count": null,
   "metadata": {},
   "outputs": [],
   "source": [
    "results = []\n",
    "for dfr, repeat_seed in zip(run_all_res,repeat_seeds):\n",
    "\n",
    "    y_true = dfr.y_true\n",
    "    y_score = dfr.y_score\n",
    "    y_pred = dfr.y_score.round()\n",
    "\n",
    "\n",
    "    tn, fp, fn, tp = confusion_matrix(y_true, y_pred).ravel()\n",
    "\n",
    "    acc = (tp + tn) / sum([tn, fp, fn, tp])\n",
    "\n",
    "    sensitivity = tp / sum([tp, fn])\n",
    "    specificity = tn / sum([tn, fp])\n",
    "\n",
    "    prc_auc = prc_auc_score(y_true, y_score)\n",
    "    roc_auc = roc_auc_score(y_true, y_score)\n",
    "\n",
    "    precision = tp / sum([tp, fp])\n",
    "    recall =  tp / sum([tp, fn]) #equals to sensitivity\n",
    "\n",
    "    res = {\n",
    "           'repeat_seed':repeat_seed,\n",
    "\n",
    "           'accuracy':acc, \n",
    "\n",
    "           'prc_auc':prc_auc, \n",
    "           'roc_auc':roc_auc,\n",
    "\n",
    "           'sensitivity': sensitivity, \n",
    "           'specificity': specificity,\n",
    "\n",
    "           'precision':precision,\n",
    "           'recall':recall,\n",
    "           'F1': 2*precision*sensitivity/(precision+sensitivity)\n",
    "          }\n",
    "    \n",
    "    results.append(res)"
   ]
  },
  {
   "cell_type": "code",
   "execution_count": null,
   "metadata": {},
   "outputs": [],
   "source": [
    "pd.DataFrame(results).roc_auc.mean()"
   ]
  },
  {
   "cell_type": "code",
   "execution_count": null,
   "metadata": {},
   "outputs": [],
   "source": [
    "pd.DataFrame(results)"
   ]
  },
  {
   "cell_type": "code",
   "execution_count": null,
   "metadata": {},
   "outputs": [],
   "source": [
    "pd.DataFrame(results).to_csv('./results/performance_results_%s.csv' % stage)"
   ]
  },
  {
   "cell_type": "code",
   "execution_count": null,
   "metadata": {},
   "outputs": [],
   "source": []
  },
  {
   "cell_type": "code",
   "execution_count": null,
   "metadata": {},
   "outputs": [],
   "source": []
  },
  {
   "cell_type": "code",
   "execution_count": null,
   "metadata": {},
   "outputs": [],
   "source": []
  },
  {
   "cell_type": "code",
   "execution_count": null,
   "metadata": {},
   "outputs": [],
   "source": []
  },
  {
   "cell_type": "code",
   "execution_count": null,
   "metadata": {},
   "outputs": [],
   "source": []
  }
 ],
 "metadata": {
  "kernelspec": {
   "display_name": "Python 3",
   "language": "python",
   "name": "python3"
  },
  "language_info": {
   "codemirror_mode": {
    "name": "ipython",
    "version": 3
   },
   "file_extension": ".py",
   "mimetype": "text/x-python",
   "name": "python",
   "nbconvert_exporter": "python",
   "pygments_lexer": "ipython3",
   "version": "3.6.9"
  }
 },
 "nbformat": 4,
 "nbformat_minor": 4
}
