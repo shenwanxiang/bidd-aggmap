{
 "cells": [
  {
   "cell_type": "code",
   "execution_count": 1,
   "metadata": {},
   "outputs": [],
   "source": [
    "# -*- coding: utf-8 -*-\n",
    "\"\"\"\n",
    "Created on Sun Aug 16 17:10:53 2020\n",
    "\n",
    "@author: wanxiang.shen@u.nus.edu\n",
    "\"\"\"\n",
    "\n",
    "import warnings, os\n",
    "warnings.filterwarnings(\"ignore\")\n",
    "\n",
    "\n",
    "import pandas as pd\n",
    "import numpy as np\n",
    "\n",
    "from sklearn.model_selection import KFold, StratifiedKFold\n",
    "from sklearn.metrics import confusion_matrix, precision_recall_curve, roc_auc_score\n",
    "from sklearn.metrics import auc as calculate_auc\n",
    "\n",
    "import matplotlib.pyplot as plt\n",
    "import seaborn as sns\n",
    "\n",
    "from aggmap import AggMap, AggModel, loadmap\n",
    "from aggmap import show\n",
    "np.random.seed(666) #just for reaptable results\n",
    "\n",
    "def prc_auc_score(y_true, y_score):\n",
    "    precision, recall, threshold  = precision_recall_curve(y_true, y_score) #PRC_AUC\n",
    "    auc = calculate_auc(recall, precision)\n",
    "    return auc\n",
    "\n",
    "\n",
    "def score(dfr):\n",
    "    y_true = dfr.y_true\n",
    "    y_score = dfr.y_score\n",
    "    y_pred = dfr.y_score.round()\n",
    "\n",
    "    tn, fp, fn, tp = confusion_matrix(y_true, y_pred).ravel()\n",
    "\n",
    "    acc = (tp + tn) / sum([tn, fp, fn, tp])\n",
    "    auc = roc_auc_score(y_true, y_score)\n",
    "\n",
    "    print('acc: %.3f, roc-auc: %.3f' % (acc,auc))\n",
    "\n",
    "    return acc, auc"
   ]
  },
  {
   "cell_type": "code",
   "execution_count": 2,
   "metadata": {},
   "outputs": [],
   "source": [
    "label = pd.read_excel('./data/subject_info.xlsx', index_col = 'Subject_ID')\n",
    "data = pd.read_excel('./data/data_species_7278_preprocessed.xlsx', index_col = 0)"
   ]
  },
  {
   "cell_type": "code",
   "execution_count": 3,
   "metadata": {},
   "outputs": [
    {
     "data": {
      "text/plain": [
       "Group\n",
       "HS               30\n",
       "Healthy         127\n",
       "MP               40\n",
       "Stage_0          27\n",
       "Stage_III_IV     54\n",
       "Stage_I_II       69\n",
       "dtype: int64"
      ]
     },
     "execution_count": 3,
     "metadata": {},
     "output_type": "execute_result"
    }
   ],
   "source": [
    "label.groupby('Group').size()"
   ]
  },
  {
   "cell_type": "code",
   "execution_count": 4,
   "metadata": {},
   "outputs": [],
   "source": [
    "mp = loadmap('./CRC_stage.mp')"
   ]
  },
  {
   "cell_type": "markdown",
   "metadata": {},
   "source": [
    "## Model-1: Healthy vs. MP:"
   ]
  },
  {
   "cell_type": "code",
   "execution_count": 5,
   "metadata": {},
   "outputs": [
    {
     "data": {
      "text/plain": [
       "((196, 1), (196, 7278))"
      ]
     },
     "execution_count": 5,
     "metadata": {},
     "output_type": "execute_result"
    }
   ],
   "source": [
    "stage = 'Stage_I_II'\n",
    "model_dir = './%s_model' % stage\n",
    "\n",
    "sld = label[label.Group.isin(['Healthy', stage])].index\n",
    "dfy = label.loc[sld][['Group']]\n",
    "dfx = data.loc[sld]\n",
    "dfx = np.log(dfx + 1e-8)\n",
    "dfy.shape, dfx.shape"
   ]
  },
  {
   "cell_type": "code",
   "execution_count": null,
   "metadata": {},
   "outputs": [],
   "source": []
  },
  {
   "cell_type": "code",
   "execution_count": 6,
   "metadata": {},
   "outputs": [
    {
     "name": "stderr",
     "output_type": "stream",
     "text": [
      "100%|##########| 196/196 [00:26<00:00,  7.33it/s]\n"
     ]
    }
   ],
   "source": [
    "X = mp.batch_transform(dfx.values, scale_method = 'standard', fillnan = np.log(1e-8)) # NaN values should be the lowest value\n",
    "Y = pd.get_dummies(dfy['Group']).values"
   ]
  },
  {
   "cell_type": "code",
   "execution_count": 7,
   "metadata": {},
   "outputs": [
    {
     "data": {
      "text/plain": [
       "((196, 1), (196, 7278))"
      ]
     },
     "execution_count": 7,
     "metadata": {},
     "output_type": "execute_result"
    }
   ],
   "source": [
    "dfy.shape, dfx.shape"
   ]
  },
  {
   "cell_type": "code",
   "execution_count": 8,
   "metadata": {},
   "outputs": [
    {
     "data": {
      "text/plain": [
       "Index(['Healthy', 'Stage_I_II'], dtype='object')"
      ]
     },
     "execution_count": 8,
     "metadata": {},
     "output_type": "execute_result"
    }
   ],
   "source": [
    "class_ = pd.get_dummies(dfy['Group']).columns\n",
    "class_"
   ]
  },
  {
   "cell_type": "code",
   "execution_count": null,
   "metadata": {},
   "outputs": [],
   "source": []
  },
  {
   "cell_type": "code",
   "execution_count": 9,
   "metadata": {},
   "outputs": [
    {
     "name": "stdout",
     "output_type": "stream",
     "text": [
      "\n",
      " input train and test X shape is (176, 86, 85, 5), (20, 86, 85, 5) \n",
      "MultiClassEstimator(batch_size=2, conv1_kernel_size=13, epochs=50, gpuid='3')\n",
      "acc: 0.850, roc-auc: 0.967\n",
      "\n",
      " input train and test X shape is (176, 86, 85, 5), (20, 86, 85, 5) \n",
      "MultiClassEstimator(batch_size=2, conv1_kernel_size=13, epochs=50, gpuid='3')\n",
      "acc: 0.850, roc-auc: 0.802\n",
      "\n",
      " input train and test X shape is (176, 86, 85, 5), (20, 86, 85, 5) \n",
      "MultiClassEstimator(batch_size=2, conv1_kernel_size=13, epochs=50, gpuid='3')\n",
      "acc: 0.850, roc-auc: 0.978\n",
      "\n",
      " input train and test X shape is (176, 86, 85, 5), (20, 86, 85, 5) \n",
      "MultiClassEstimator(batch_size=2, conv1_kernel_size=13, epochs=50, gpuid='3')\n",
      "acc: 0.850, roc-auc: 0.901\n",
      "\n",
      " input train and test X shape is (176, 86, 85, 5), (20, 86, 85, 5) \n",
      "MultiClassEstimator(batch_size=2, conv1_kernel_size=13, epochs=50, gpuid='3')\n",
      "acc: 0.800, roc-auc: 0.813\n",
      "\n",
      " input train and test X shape is (176, 86, 85, 5), (20, 86, 85, 5) \n",
      "MultiClassEstimator(batch_size=2, conv1_kernel_size=13, epochs=50, gpuid='3')\n",
      "acc: 0.800, roc-auc: 0.758\n",
      "\n",
      " input train and test X shape is (177, 86, 85, 5), (19, 86, 85, 5) \n",
      "MultiClassEstimator(batch_size=2, conv1_kernel_size=13, epochs=50, gpuid='3')\n",
      "acc: 0.842, roc-auc: 0.910\n",
      "\n",
      " input train and test X shape is (177, 86, 85, 5), (19, 86, 85, 5) \n",
      "MultiClassEstimator(batch_size=2, conv1_kernel_size=13, epochs=50, gpuid='3')\n",
      "acc: 0.789, roc-auc: 0.845\n",
      "\n",
      " input train and test X shape is (177, 86, 85, 5), (19, 86, 85, 5) \n",
      "MultiClassEstimator(batch_size=2, conv1_kernel_size=13, epochs=50, gpuid='3')\n",
      "acc: 0.737, roc-auc: 0.762\n",
      "\n",
      " input train and test X shape is (177, 86, 85, 5), (19, 86, 85, 5) \n",
      "MultiClassEstimator(batch_size=2, conv1_kernel_size=13, epochs=50, gpuid='3')\n",
      "acc: 0.895, roc-auc: 0.881\n",
      "\n",
      " input train and test X shape is (176, 86, 85, 5), (20, 86, 85, 5) \n",
      "MultiClassEstimator(batch_size=2, conv1_kernel_size=13, epochs=50, gpuid='3')\n",
      "acc: 0.800, roc-auc: 0.912\n",
      "\n",
      " input train and test X shape is (176, 86, 85, 5), (20, 86, 85, 5) \n",
      "MultiClassEstimator(batch_size=2, conv1_kernel_size=13, epochs=50, gpuid='3')\n",
      "acc: 0.950, roc-auc: 0.934\n",
      "\n",
      " input train and test X shape is (176, 86, 85, 5), (20, 86, 85, 5) \n",
      "MultiClassEstimator(batch_size=2, conv1_kernel_size=13, epochs=50, gpuid='3')\n",
      "acc: 0.850, roc-auc: 0.846\n",
      "\n",
      " input train and test X shape is (176, 86, 85, 5), (20, 86, 85, 5) \n",
      "MultiClassEstimator(batch_size=2, conv1_kernel_size=13, epochs=50, gpuid='3')\n",
      "acc: 0.850, roc-auc: 0.824\n",
      "\n",
      " input train and test X shape is (176, 86, 85, 5), (20, 86, 85, 5) \n",
      "MultiClassEstimator(batch_size=2, conv1_kernel_size=13, epochs=50, gpuid='3')\n",
      "acc: 0.850, roc-auc: 1.000\n",
      "\n",
      " input train and test X shape is (176, 86, 85, 5), (20, 86, 85, 5) \n",
      "MultiClassEstimator(batch_size=2, conv1_kernel_size=13, epochs=50, gpuid='3')\n",
      "acc: 0.800, roc-auc: 0.692\n",
      "\n",
      " input train and test X shape is (177, 86, 85, 5), (19, 86, 85, 5) \n",
      "MultiClassEstimator(batch_size=2, conv1_kernel_size=13, epochs=50, gpuid='3')\n",
      "acc: 0.737, roc-auc: 0.718\n",
      "\n",
      " input train and test X shape is (177, 86, 85, 5), (19, 86, 85, 5) \n",
      "MultiClassEstimator(batch_size=2, conv1_kernel_size=13, epochs=50, gpuid='3')\n",
      "acc: 0.842, roc-auc: 0.917\n",
      "\n",
      " input train and test X shape is (177, 86, 85, 5), (19, 86, 85, 5) \n",
      "MultiClassEstimator(batch_size=2, conv1_kernel_size=13, epochs=50, gpuid='3')\n",
      "acc: 0.842, roc-auc: 0.905\n",
      "\n",
      " input train and test X shape is (177, 86, 85, 5), (19, 86, 85, 5) \n",
      "MultiClassEstimator(batch_size=2, conv1_kernel_size=13, epochs=50, gpuid='3')\n",
      "acc: 0.842, roc-auc: 0.833\n",
      "\n",
      " input train and test X shape is (176, 86, 85, 5), (20, 86, 85, 5) \n",
      "MultiClassEstimator(batch_size=2, conv1_kernel_size=13, epochs=50, gpuid='3')\n",
      "acc: 0.700, roc-auc: 0.659\n",
      "\n",
      " input train and test X shape is (176, 86, 85, 5), (20, 86, 85, 5) \n",
      "MultiClassEstimator(batch_size=2, conv1_kernel_size=13, epochs=50, gpuid='3')\n",
      "acc: 0.900, roc-auc: 0.978\n",
      "\n",
      " input train and test X shape is (176, 86, 85, 5), (20, 86, 85, 5) \n",
      "MultiClassEstimator(batch_size=2, conv1_kernel_size=13, epochs=50, gpuid='3')\n",
      "acc: 0.850, roc-auc: 0.956\n",
      "\n",
      " input train and test X shape is (176, 86, 85, 5), (20, 86, 85, 5) \n",
      "MultiClassEstimator(batch_size=2, conv1_kernel_size=13, epochs=50, gpuid='3')\n",
      "acc: 0.750, roc-auc: 0.912\n",
      "\n",
      " input train and test X shape is (176, 86, 85, 5), (20, 86, 85, 5) \n",
      "MultiClassEstimator(batch_size=2, conv1_kernel_size=13, epochs=50, gpuid='3')\n",
      "acc: 0.850, roc-auc: 0.802\n",
      "\n",
      " input train and test X shape is (176, 86, 85, 5), (20, 86, 85, 5) \n",
      "MultiClassEstimator(batch_size=2, conv1_kernel_size=13, epochs=50, gpuid='3')\n",
      "acc: 0.750, roc-auc: 0.780\n",
      "\n",
      " input train and test X shape is (177, 86, 85, 5), (19, 86, 85, 5) \n",
      "MultiClassEstimator(batch_size=2, conv1_kernel_size=13, epochs=50, gpuid='3')\n",
      "acc: 0.895, roc-auc: 0.962\n",
      "\n",
      " input train and test X shape is (177, 86, 85, 5), (19, 86, 85, 5) \n",
      "MultiClassEstimator(batch_size=2, conv1_kernel_size=13, epochs=50, gpuid='3')\n",
      "acc: 0.684, roc-auc: 0.690\n",
      "\n",
      " input train and test X shape is (177, 86, 85, 5), (19, 86, 85, 5) \n",
      "MultiClassEstimator(batch_size=2, conv1_kernel_size=13, epochs=50, gpuid='3')\n",
      "acc: 0.789, roc-auc: 0.810\n",
      "\n",
      " input train and test X shape is (177, 86, 85, 5), (19, 86, 85, 5) \n",
      "MultiClassEstimator(batch_size=2, conv1_kernel_size=13, epochs=50, gpuid='3')\n",
      "acc: 0.895, roc-auc: 0.988\n",
      "\n",
      " input train and test X shape is (176, 86, 85, 5), (20, 86, 85, 5) \n",
      "MultiClassEstimator(batch_size=2, conv1_kernel_size=13, epochs=50, gpuid='3')\n",
      "acc: 0.900, roc-auc: 0.912\n",
      "\n",
      " input train and test X shape is (176, 86, 85, 5), (20, 86, 85, 5) \n",
      "MultiClassEstimator(batch_size=2, conv1_kernel_size=13, epochs=50, gpuid='3')\n",
      "acc: 0.750, roc-auc: 0.703\n",
      "\n",
      " input train and test X shape is (176, 86, 85, 5), (20, 86, 85, 5) \n",
      "MultiClassEstimator(batch_size=2, conv1_kernel_size=13, epochs=50, gpuid='3')\n",
      "acc: 0.750, roc-auc: 0.890\n",
      "\n",
      " input train and test X shape is (176, 86, 85, 5), (20, 86, 85, 5) \n",
      "MultiClassEstimator(batch_size=2, conv1_kernel_size=13, epochs=50, gpuid='3')\n",
      "acc: 0.800, roc-auc: 0.978\n",
      "\n",
      " input train and test X shape is (176, 86, 85, 5), (20, 86, 85, 5) \n",
      "MultiClassEstimator(batch_size=2, conv1_kernel_size=13, epochs=50, gpuid='3')\n",
      "acc: 0.700, roc-auc: 0.813\n",
      "\n",
      " input train and test X shape is (176, 86, 85, 5), (20, 86, 85, 5) \n",
      "MultiClassEstimator(batch_size=2, conv1_kernel_size=13, epochs=50, gpuid='3')\n",
      "acc: 0.800, roc-auc: 0.923\n",
      "\n",
      " input train and test X shape is (177, 86, 85, 5), (19, 86, 85, 5) \n",
      "MultiClassEstimator(batch_size=2, conv1_kernel_size=13, epochs=50, gpuid='3')\n",
      "acc: 0.895, roc-auc: 0.987\n",
      "\n",
      " input train and test X shape is (177, 86, 85, 5), (19, 86, 85, 5) \n",
      "MultiClassEstimator(batch_size=2, conv1_kernel_size=13, epochs=50, gpuid='3')\n",
      "acc: 0.842, roc-auc: 0.857\n",
      "\n",
      " input train and test X shape is (177, 86, 85, 5), (19, 86, 85, 5) \n",
      "MultiClassEstimator(batch_size=2, conv1_kernel_size=13, epochs=50, gpuid='3')\n",
      "acc: 0.895, roc-auc: 0.714\n",
      "\n",
      " input train and test X shape is (177, 86, 85, 5), (19, 86, 85, 5) \n",
      "MultiClassEstimator(batch_size=2, conv1_kernel_size=13, epochs=50, gpuid='3')\n",
      "acc: 0.842, roc-auc: 0.940\n",
      "\n",
      " input train and test X shape is (176, 86, 85, 5), (20, 86, 85, 5) \n",
      "MultiClassEstimator(batch_size=2, conv1_kernel_size=13, epochs=50, gpuid='3')\n",
      "acc: 0.850, roc-auc: 0.989\n",
      "\n",
      " input train and test X shape is (176, 86, 85, 5), (20, 86, 85, 5) \n",
      "MultiClassEstimator(batch_size=2, conv1_kernel_size=13, epochs=50, gpuid='3')\n",
      "acc: 0.800, roc-auc: 0.824\n",
      "\n",
      " input train and test X shape is (176, 86, 85, 5), (20, 86, 85, 5) \n",
      "MultiClassEstimator(batch_size=2, conv1_kernel_size=13, epochs=50, gpuid='3')\n",
      "acc: 0.800, roc-auc: 0.879\n",
      "\n",
      " input train and test X shape is (176, 86, 85, 5), (20, 86, 85, 5) \n",
      "MultiClassEstimator(batch_size=2, conv1_kernel_size=13, epochs=50, gpuid='3')\n",
      "acc: 0.850, roc-auc: 0.780\n",
      "\n",
      " input train and test X shape is (176, 86, 85, 5), (20, 86, 85, 5) \n",
      "MultiClassEstimator(batch_size=2, conv1_kernel_size=13, epochs=50, gpuid='3')\n",
      "acc: 0.900, roc-auc: 0.857\n",
      "\n",
      " input train and test X shape is (176, 86, 85, 5), (20, 86, 85, 5) \n",
      "MultiClassEstimator(batch_size=2, conv1_kernel_size=13, epochs=50, gpuid='3')\n",
      "acc: 0.750, roc-auc: 0.813\n",
      "\n",
      " input train and test X shape is (177, 86, 85, 5), (19, 86, 85, 5) \n",
      "MultiClassEstimator(batch_size=2, conv1_kernel_size=13, epochs=50, gpuid='3')\n",
      "acc: 0.895, roc-auc: 0.872\n",
      "\n",
      " input train and test X shape is (177, 86, 85, 5), (19, 86, 85, 5) \n",
      "MultiClassEstimator(batch_size=2, conv1_kernel_size=13, epochs=50, gpuid='3')\n",
      "acc: 0.842, roc-auc: 0.893\n",
      "\n",
      " input train and test X shape is (177, 86, 85, 5), (19, 86, 85, 5) \n",
      "MultiClassEstimator(batch_size=2, conv1_kernel_size=13, epochs=50, gpuid='3')\n",
      "acc: 0.789, roc-auc: 0.893\n",
      "\n",
      " input train and test X shape is (177, 86, 85, 5), (19, 86, 85, 5) \n",
      "MultiClassEstimator(batch_size=2, conv1_kernel_size=13, epochs=50, gpuid='3')\n",
      "acc: 0.789, roc-auc: 0.774\n"
     ]
    }
   ],
   "source": [
    "outer_fold = 10\n",
    "repeat_seeds = [8, 16, 32, 64, 128]#5 repeats random seeds 8, 16, 32, 64, 128\n",
    "\n",
    "each_fold_results = []\n",
    "run_all_res = []\n",
    "for repeat_seed in repeat_seeds: \n",
    "    \n",
    "    outer = StratifiedKFold(n_splits = outer_fold, shuffle = True, random_state = repeat_seed)\n",
    "    outer_idx = outer.split(X, Y[:,0])\n",
    "\n",
    "    \n",
    "    run_one_res = []\n",
    "    for i, idx in enumerate(outer_idx):\n",
    "        \n",
    "        fold_num = \"fold_%s\" % str(i).zfill(2) \n",
    "        \n",
    "        train_idx, test_idx = idx\n",
    "        \n",
    "        testY = Y[test_idx]\n",
    "        testX = X[test_idx]\n",
    "        \n",
    "        trainX = X[train_idx]\n",
    "        trainY = Y[train_idx]\n",
    "\n",
    "        print(\"\\n input train and test X shape is %s, %s \" % (trainX.shape,  testX.shape))\n",
    "        \n",
    "        clf = AggModel.MultiClassEstimator(epochs = 50, gpuid = 3, conv1_kernel_size = 13,\n",
    "                                           batch_size = 2, verbose = 0) #\n",
    "        clf.fit(trainX, trainY ) \n",
    "\n",
    "        ## save model for interpretation\n",
    "        if repeat_seed == 8:\n",
    "            clf._model.save(os.path.join(model_dir, 'seed_%s_fold_%s.h5' % (repeat_seed, i)))\n",
    "    \n",
    "        y_true = testY[:,1] #Stage\n",
    "        y_score = clf.predict_proba(testX)[:,1]\n",
    "        \n",
    "        dfr = pd.DataFrame([y_true, y_score]).T\n",
    "        dfr.columns = ['y_true', 'y_score']\n",
    "        dfr.index = dfy.iloc[test_idx].index\n",
    "        \n",
    "        acc, auc = score(dfr)\n",
    "        \n",
    "        run_one_res.append(dfr)\n",
    "        \n",
    "        each_fold_results.append([auc, i, repeat_seed])\n",
    "        \n",
    "    run_all_res.append(pd.concat(run_one_res))"
   ]
  },
  {
   "cell_type": "code",
   "execution_count": null,
   "metadata": {},
   "outputs": [],
   "source": []
  },
  {
   "cell_type": "code",
   "execution_count": 10,
   "metadata": {},
   "outputs": [],
   "source": [
    "results = []\n",
    "for dfr, repeat_seed in zip(run_all_res,repeat_seeds):\n",
    "\n",
    "    y_true = dfr.y_true\n",
    "    y_score = dfr.y_score\n",
    "    y_pred = dfr.y_score.round()\n",
    "\n",
    "\n",
    "    tn, fp, fn, tp = confusion_matrix(y_true, y_pred).ravel()\n",
    "\n",
    "    acc = (tp + tn) / sum([tn, fp, fn, tp])\n",
    "\n",
    "    sensitivity = tp / sum([tp, fn])\n",
    "    specificity = tn / sum([tn, fp])\n",
    "\n",
    "    prc_auc = prc_auc_score(y_true, y_score)\n",
    "    roc_auc = roc_auc_score(y_true, y_score)\n",
    "\n",
    "    precision = tp / sum([tp, fp])\n",
    "    recall =  tp / sum([tp, fn]) #equals to sensitivity\n",
    "\n",
    "    res = {\n",
    "           'repeat_seed':repeat_seed,\n",
    "\n",
    "           'accuracy':acc, \n",
    "\n",
    "           'prc_auc':prc_auc, \n",
    "           'roc_auc':roc_auc,\n",
    "\n",
    "           'sensitivity': sensitivity, \n",
    "           'specificity': specificity,\n",
    "\n",
    "           'precision':precision,\n",
    "           'recall':recall,\n",
    "           'F1': 2*precision*sensitivity/(precision+sensitivity)\n",
    "          }\n",
    "    \n",
    "    results.append(res)"
   ]
  },
  {
   "cell_type": "code",
   "execution_count": 11,
   "metadata": {},
   "outputs": [
    {
     "data": {
      "text/plain": [
       "0.8527216706607327"
      ]
     },
     "execution_count": 11,
     "metadata": {},
     "output_type": "execute_result"
    }
   ],
   "source": [
    "pd.DataFrame(results).roc_auc.mean()"
   ]
  },
  {
   "cell_type": "code",
   "execution_count": 12,
   "metadata": {},
   "outputs": [
    {
     "data": {
      "text/html": [
       "<div>\n",
       "<style scoped>\n",
       "    .dataframe tbody tr th:only-of-type {\n",
       "        vertical-align: middle;\n",
       "    }\n",
       "\n",
       "    .dataframe tbody tr th {\n",
       "        vertical-align: top;\n",
       "    }\n",
       "\n",
       "    .dataframe thead th {\n",
       "        text-align: right;\n",
       "    }\n",
       "</style>\n",
       "<table border=\"1\" class=\"dataframe\">\n",
       "  <thead>\n",
       "    <tr style=\"text-align: right;\">\n",
       "      <th></th>\n",
       "      <th>repeat_seed</th>\n",
       "      <th>accuracy</th>\n",
       "      <th>prc_auc</th>\n",
       "      <th>roc_auc</th>\n",
       "      <th>sensitivity</th>\n",
       "      <th>specificity</th>\n",
       "      <th>precision</th>\n",
       "      <th>recall</th>\n",
       "      <th>F1</th>\n",
       "    </tr>\n",
       "  </thead>\n",
       "  <tbody>\n",
       "    <tr>\n",
       "      <th>0</th>\n",
       "      <td>8</td>\n",
       "      <td>0.826531</td>\n",
       "      <td>0.834333</td>\n",
       "      <td>0.853018</td>\n",
       "      <td>0.594203</td>\n",
       "      <td>0.952756</td>\n",
       "      <td>0.872340</td>\n",
       "      <td>0.594203</td>\n",
       "      <td>0.706897</td>\n",
       "    </tr>\n",
       "    <tr>\n",
       "      <th>1</th>\n",
       "      <td>16</td>\n",
       "      <td>0.836735</td>\n",
       "      <td>0.834965</td>\n",
       "      <td>0.859865</td>\n",
       "      <td>0.608696</td>\n",
       "      <td>0.960630</td>\n",
       "      <td>0.893617</td>\n",
       "      <td>0.608696</td>\n",
       "      <td>0.724138</td>\n",
       "    </tr>\n",
       "    <tr>\n",
       "      <th>2</th>\n",
       "      <td>32</td>\n",
       "      <td>0.806122</td>\n",
       "      <td>0.812909</td>\n",
       "      <td>0.843661</td>\n",
       "      <td>0.536232</td>\n",
       "      <td>0.952756</td>\n",
       "      <td>0.860465</td>\n",
       "      <td>0.536232</td>\n",
       "      <td>0.660714</td>\n",
       "    </tr>\n",
       "    <tr>\n",
       "      <th>3</th>\n",
       "      <td>64</td>\n",
       "      <td>0.816327</td>\n",
       "      <td>0.839082</td>\n",
       "      <td>0.856100</td>\n",
       "      <td>0.608696</td>\n",
       "      <td>0.929134</td>\n",
       "      <td>0.823529</td>\n",
       "      <td>0.608696</td>\n",
       "      <td>0.700000</td>\n",
       "    </tr>\n",
       "    <tr>\n",
       "      <th>4</th>\n",
       "      <td>128</td>\n",
       "      <td>0.826531</td>\n",
       "      <td>0.824098</td>\n",
       "      <td>0.850964</td>\n",
       "      <td>0.579710</td>\n",
       "      <td>0.960630</td>\n",
       "      <td>0.888889</td>\n",
       "      <td>0.579710</td>\n",
       "      <td>0.701754</td>\n",
       "    </tr>\n",
       "  </tbody>\n",
       "</table>\n",
       "</div>"
      ],
      "text/plain": [
       "   repeat_seed  accuracy   prc_auc   roc_auc  sensitivity  specificity  \\\n",
       "0            8  0.826531  0.834333  0.853018     0.594203     0.952756   \n",
       "1           16  0.836735  0.834965  0.859865     0.608696     0.960630   \n",
       "2           32  0.806122  0.812909  0.843661     0.536232     0.952756   \n",
       "3           64  0.816327  0.839082  0.856100     0.608696     0.929134   \n",
       "4          128  0.826531  0.824098  0.850964     0.579710     0.960630   \n",
       "\n",
       "   precision    recall        F1  \n",
       "0   0.872340  0.594203  0.706897  \n",
       "1   0.893617  0.608696  0.724138  \n",
       "2   0.860465  0.536232  0.660714  \n",
       "3   0.823529  0.608696  0.700000  \n",
       "4   0.888889  0.579710  0.701754  "
      ]
     },
     "execution_count": 12,
     "metadata": {},
     "output_type": "execute_result"
    }
   ],
   "source": [
    "pd.DataFrame(results)"
   ]
  },
  {
   "cell_type": "code",
   "execution_count": 13,
   "metadata": {},
   "outputs": [],
   "source": [
    "pd.DataFrame(results).to_csv('./results/performance_results_%s.csv' % stage)"
   ]
  },
  {
   "cell_type": "code",
   "execution_count": 14,
   "metadata": {},
   "outputs": [],
   "source": [
    "pd.DataFrame(each_fold_results,columns = ['ROC-AUC', 'fold', 'seed']).to_csv('./results/each_fold_performance_results_%s.csv' % stage)"
   ]
  },
  {
   "cell_type": "code",
   "execution_count": null,
   "metadata": {},
   "outputs": [],
   "source": []
  },
  {
   "cell_type": "code",
   "execution_count": null,
   "metadata": {},
   "outputs": [],
   "source": []
  },
  {
   "cell_type": "code",
   "execution_count": null,
   "metadata": {},
   "outputs": [],
   "source": []
  },
  {
   "cell_type": "code",
   "execution_count": null,
   "metadata": {},
   "outputs": [],
   "source": []
  }
 ],
 "metadata": {
  "kernelspec": {
   "display_name": "Python 3",
   "language": "python",
   "name": "python3"
  },
  "language_info": {
   "codemirror_mode": {
    "name": "ipython",
    "version": 3
   },
   "file_extension": ".py",
   "mimetype": "text/x-python",
   "name": "python",
   "nbconvert_exporter": "python",
   "pygments_lexer": "ipython3",
   "version": "3.6.9"
  }
 },
 "nbformat": 4,
 "nbformat_minor": 4
}
