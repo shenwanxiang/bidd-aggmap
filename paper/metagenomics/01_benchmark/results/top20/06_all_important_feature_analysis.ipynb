{
 "cells": [
  {
   "cell_type": "code",
   "execution_count": 1,
   "metadata": {},
   "outputs": [],
   "source": [
    "import pandas as pd\n"
   ]
  },
  {
   "cell_type": "code",
   "execution_count": null,
   "metadata": {},
   "outputs": [],
   "source": []
  },
  {
   "cell_type": "code",
   "execution_count": 31,
   "metadata": {},
   "outputs": [],
   "source": [
    "cirrhosis = pd.read_csv('./Cirrhosis_results/feature_imp_results.csv', index_col=0)\n",
    "cirrhosis = cirrhosis.sort_values('avg_imp', ascending=False)[['v', 'avg_imp']].head(20)\n",
    "df1 = pd.Series(cirrhosis.v).apply(lambda x: dict([i.split('__') for i in x.split('|')])).apply(pd.Series)\n",
    "level_dict = {'k':'kingdom', 'p':'phylum', 'c':'class' ,'o':'order' ,'f':'family' ,'g': 'genus','s': 'species'}\n",
    "df1 = df1.rename(columns=level_dict)\n",
    "cirrhosis = df1.join(cirrhosis[['avg_imp', 'v']]).reset_index(drop=True)\n",
    "cirrhosis['avg_imp'] = cirrhosis['avg_imp'].round(3)\n",
    "cirrhosis.to_csv('./cirrhosis.csv')"
   ]
  },
  {
   "cell_type": "code",
   "execution_count": null,
   "metadata": {},
   "outputs": [],
   "source": []
  },
  {
   "cell_type": "code",
   "execution_count": 33,
   "metadata": {},
   "outputs": [],
   "source": [
    "ibd = pd.read_csv('./IBD_results/feature_imp_results.csv', index_col=0)\n",
    "ibd = ibd.sort_values('avg_imp', ascending=False)[['v', 'avg_imp']].head(20)\n",
    "df1 = pd.Series(ibd.v).apply(lambda x: dict([i.split('__') for i in x.split('|')])).apply(pd.Series)\n",
    "df1 = df1.rename(columns=level_dict)\n",
    "ibd = df1.join(ibd[['avg_imp', 'v']]).reset_index(drop=True)\n",
    "ibd['avg_imp'] = ibd['avg_imp'].round(3)\n",
    "ibd.to_csv('./ibd.csv')"
   ]
  },
  {
   "cell_type": "code",
   "execution_count": null,
   "metadata": {},
   "outputs": [],
   "source": []
  },
  {
   "cell_type": "code",
   "execution_count": 35,
   "metadata": {},
   "outputs": [],
   "source": [
    "t2d = pd.read_csv('./T2D_results/feature_imp_results.csv', index_col=0)\n",
    "t2d = t2d.sort_values('avg_imp', ascending=False)[['v', 'avg_imp']].head(20)\n",
    "df1 = pd.Series(t2d.v).apply(lambda x: dict([i.split('__') for i in x.split('|')])).apply(pd.Series)\n",
    "df1 = df1.rename(columns=level_dict)\n",
    "t2d = df1.join(t2d[['avg_imp', 'v']]).reset_index(drop=True)\n",
    "t2d['avg_imp'] = t2d['avg_imp'].round(3)\n",
    "t2d.to_csv('./t2d.csv')"
   ]
  },
  {
   "cell_type": "code",
   "execution_count": null,
   "metadata": {},
   "outputs": [],
   "source": []
  },
  {
   "cell_type": "code",
   "execution_count": 39,
   "metadata": {},
   "outputs": [],
   "source": [
    "obesity = pd.read_csv('./Obesity_results/feature_imp_results.csv', index_col=0)\n",
    "obesity = obesity.sort_values('avg_imp', ascending=False)[['v', 'avg_imp']].head(20)\n",
    "df1 = pd.Series(obesity.v).apply(lambda x: dict([i.split('__') for i in x.split('|')])).apply(pd.Series)\n",
    "df1 = df1.rename(columns=level_dict)\n",
    "obesity = df1.join(obesity[['avg_imp', 'v']]).reset_index(drop=True)\n",
    "obesity['avg_imp'] = obesity['avg_imp'].round(3)\n",
    "obesity.to_csv('./obesity.csv')"
   ]
  },
  {
   "cell_type": "code",
   "execution_count": null,
   "metadata": {},
   "outputs": [],
   "source": []
  },
  {
   "cell_type": "code",
   "execution_count": 45,
   "metadata": {},
   "outputs": [],
   "source": [
    "crc = pd.read_csv('./CRC_results/feature_imp_results.csv', index_col=0)\n",
    "crc = crc.sort_values('cancer_avg_imp', ascending=False)[['v', 'cancer_avg_imp']].head(20)\n",
    "df1 = pd.Series(crc.v).apply(lambda x: dict([i.split('__') for i in x.split('|')])).apply(pd.Series)\n",
    "df1 = df1.rename(columns=level_dict)\n",
    "crc = df1.join(crc[['cancer_avg_imp', 'v']]).reset_index(drop=True)\n",
    "crc['cancer_avg_imp'] = crc['cancer_avg_imp'].round(3)\n",
    "crc.to_csv('./crc_cancer.csv')"
   ]
  },
  {
   "cell_type": "code",
   "execution_count": null,
   "metadata": {},
   "outputs": [],
   "source": []
  },
  {
   "cell_type": "code",
   "execution_count": 46,
   "metadata": {},
   "outputs": [],
   "source": [
    "crc_ad = pd.read_csv('./CRC_results/feature_imp_results.csv', index_col=0)\n",
    "crc_ad = crc_ad.sort_values('adenoma_avg_imp', ascending=False)[['v', 'adenoma_avg_imp']].head(20)\n",
    "df1 = pd.Series(crc_ad.v).apply(lambda x: dict([i.split('__') for i in x.split('|')])).apply(pd.Series)\n",
    "df1 = df1.rename(columns=level_dict)\n",
    "crc_ad = df1.join(crc_ad[['adenoma_avg_imp', 'v']]).reset_index(drop=True)\n",
    "crc_ad['adenoma_avg_imp'] = crc_ad['adenoma_avg_imp'].round(3)\n",
    "crc_ad.to_csv('./crc_adenoma.csv')"
   ]
  },
  {
   "cell_type": "code",
   "execution_count": null,
   "metadata": {},
   "outputs": [],
   "source": []
  },
  {
   "cell_type": "code",
   "execution_count": null,
   "metadata": {},
   "outputs": [],
   "source": []
  }
 ],
 "metadata": {
  "kernelspec": {
   "display_name": "Python 3",
   "language": "python",
   "name": "python3"
  },
  "language_info": {
   "codemirror_mode": {
    "name": "ipython",
    "version": 3
   },
   "file_extension": ".py",
   "mimetype": "text/x-python",
   "name": "python",
   "nbconvert_exporter": "python",
   "pygments_lexer": "ipython3",
   "version": "3.6.9"
  }
 },
 "nbformat": 4,
 "nbformat_minor": 4
}
