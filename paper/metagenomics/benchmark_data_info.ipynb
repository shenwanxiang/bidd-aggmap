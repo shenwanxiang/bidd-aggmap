{
 "cells": [
  {
   "cell_type": "code",
   "execution_count": 63,
   "metadata": {},
   "outputs": [],
   "source": [
    "from glob import glob\n",
    "import pandas as pd\n",
    "import numpy as np"
   ]
  },
  {
   "cell_type": "code",
   "execution_count": null,
   "metadata": {},
   "outputs": [],
   "source": []
  },
  {
   "cell_type": "code",
   "execution_count": 64,
   "metadata": {},
   "outputs": [],
   "source": [
    "abundances = glob('./benchmark_data/*/abundance.tsv')\n",
    "df1 = pd.DataFrame(abundances, columns=['abundance_file'])\n",
    "df1['dataset'] = df1.abundance_file.apply(lambda x:x.split('/')[2])\n",
    "df1 = df1.set_index('dataset')\n",
    "\n",
    "labels = glob('./benchmark_data/*/labels.txt')\n",
    "df2 = pd.DataFrame(labels, columns=['label_file'])\n",
    "df2['dataset'] = df2.label_file.apply(lambda x:x.split('/')[2])\n",
    "df2 = df2.set_index('dataset')\n",
    "\n",
    "df = df1.join(df2)"
   ]
  },
  {
   "cell_type": "code",
   "execution_count": null,
   "metadata": {},
   "outputs": [],
   "source": []
  },
  {
   "cell_type": "code",
   "execution_count": 65,
   "metadata": {},
   "outputs": [],
   "source": [
    "infos = []\n",
    "for i in range(len(df)):\n",
    "    name = df.iloc[i].name\n",
    "    dfa = pd.read_csv(df.abundance_file.iloc[i],sep='\\t', header=None, index_col=0)\n",
    "    dfb = pd.read_csv(df.label_file.iloc[i],sep='\\t', header=None, index_col=0)\n",
    "    dfa.columns = dfb.index\n",
    "    dfa = dfa.T\n",
    "    s, n = dfa.shape\n",
    "    info = {'dataset':name, '# of sample':s, '# of feature': n}\n",
    "    details = dfa.index.value_counts().to_dict()\n",
    "    info.update({'label_detail': details})\n",
    "    infos.append(info)"
   ]
  },
  {
   "cell_type": "code",
   "execution_count": null,
   "metadata": {},
   "outputs": [],
   "source": []
  },
  {
   "cell_type": "code",
   "execution_count": 66,
   "metadata": {},
   "outputs": [
    {
     "data": {
      "text/html": [
       "<div>\n",
       "<style scoped>\n",
       "    .dataframe tbody tr th:only-of-type {\n",
       "        vertical-align: middle;\n",
       "    }\n",
       "\n",
       "    .dataframe tbody tr th {\n",
       "        vertical-align: top;\n",
       "    }\n",
       "\n",
       "    .dataframe thead th {\n",
       "        text-align: right;\n",
       "    }\n",
       "</style>\n",
       "<table border=\"1\" class=\"dataframe\">\n",
       "  <thead>\n",
       "    <tr style=\"text-align: right;\">\n",
       "      <th></th>\n",
       "      <th>dataset</th>\n",
       "      <th># of sample</th>\n",
       "      <th># of feature</th>\n",
       "      <th>label_detail</th>\n",
       "    </tr>\n",
       "  </thead>\n",
       "  <tbody>\n",
       "    <tr>\n",
       "      <th>0</th>\n",
       "      <td>T2D</td>\n",
       "      <td>440</td>\n",
       "      <td>606</td>\n",
       "      <td>{'t2d': 223, 'n': 217}</td>\n",
       "    </tr>\n",
       "    <tr>\n",
       "      <th>1</th>\n",
       "      <td>CRC</td>\n",
       "      <td>134</td>\n",
       "      <td>507</td>\n",
       "      <td>{'cancer': 48, 'n': 47, 'adenoma': 39}</td>\n",
       "    </tr>\n",
       "    <tr>\n",
       "      <th>2</th>\n",
       "      <td>IBD</td>\n",
       "      <td>110</td>\n",
       "      <td>443</td>\n",
       "      <td>{'n': 85, 'ibd': 25}</td>\n",
       "    </tr>\n",
       "    <tr>\n",
       "      <th>3</th>\n",
       "      <td>Cirrhosis</td>\n",
       "      <td>232</td>\n",
       "      <td>542</td>\n",
       "      <td>{'cirrhosis': 118, 'n': 114}</td>\n",
       "    </tr>\n",
       "    <tr>\n",
       "      <th>4</th>\n",
       "      <td>Obesity</td>\n",
       "      <td>253</td>\n",
       "      <td>465</td>\n",
       "      <td>{'obesity': 164, 'leaness': 89}</td>\n",
       "    </tr>\n",
       "  </tbody>\n",
       "</table>\n",
       "</div>"
      ],
      "text/plain": [
       "     dataset  # of sample  # of feature  \\\n",
       "0        T2D          440           606   \n",
       "1        CRC          134           507   \n",
       "2        IBD          110           443   \n",
       "3  Cirrhosis          232           542   \n",
       "4    Obesity          253           465   \n",
       "\n",
       "                             label_detail  \n",
       "0                  {'t2d': 223, 'n': 217}  \n",
       "1  {'cancer': 48, 'n': 47, 'adenoma': 39}  \n",
       "2                    {'n': 85, 'ibd': 25}  \n",
       "3            {'cirrhosis': 118, 'n': 114}  \n",
       "4         {'obesity': 164, 'leaness': 89}  "
      ]
     },
     "execution_count": 66,
     "metadata": {},
     "output_type": "execute_result"
    }
   ],
   "source": [
    "pd.DataFrame(infos)"
   ]
  },
  {
   "cell_type": "code",
   "execution_count": null,
   "metadata": {},
   "outputs": [],
   "source": []
  },
  {
   "cell_type": "code",
   "execution_count": null,
   "metadata": {},
   "outputs": [],
   "source": []
  }
 ],
 "metadata": {
  "kernelspec": {
   "display_name": "Python 3",
   "language": "python",
   "name": "python3"
  },
  "language_info": {
   "codemirror_mode": {
    "name": "ipython",
    "version": 3
   },
   "file_extension": ".py",
   "mimetype": "text/x-python",
   "name": "python",
   "nbconvert_exporter": "python",
   "pygments_lexer": "ipython3",
   "version": "3.6.9"
  }
 },
 "nbformat": 4,
 "nbformat_minor": 4
}
