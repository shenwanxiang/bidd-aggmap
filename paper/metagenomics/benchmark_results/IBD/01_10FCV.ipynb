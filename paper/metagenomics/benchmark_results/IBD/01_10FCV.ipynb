{
 "cells": [
  {
   "cell_type": "code",
   "execution_count": 10,
   "metadata": {},
   "outputs": [],
   "source": [
    "import warnings, os\n",
    "warnings.filterwarnings(\"ignore\")\n",
    "\n",
    "from copy import copy\n",
    "import pandas as pd\n",
    "import numpy as np\n",
    "from tqdm import tqdm\n",
    "from sklearn.model_selection import KFold, StratifiedKFold\n",
    "from sklearn.metrics import confusion_matrix, precision_recall_curve\n",
    "from sklearn.metrics import roc_auc_score, matthews_corrcoef, precision_score, recall_score, f1_score\n",
    "\n",
    "\n",
    "import seaborn as sns\n",
    "import matplotlib.pyplot as plt\n",
    "from joblib import dump, load\n",
    "\n",
    "from aggmap import AggMap, AggModel, loadmap\n",
    "from aggmap.AggModel import load_model, save_model\n",
    "from aggmap import show\n",
    "\n",
    "\n",
    "np.random.seed(666) #just for reaptable results\n",
    "\n",
    "\n",
    "def score(dfr):\n",
    "    y_true = dfr.y_true\n",
    "    y_score = dfr.y_score\n",
    "    y_pred = dfr.y_pred\n",
    "\n",
    "    '''\n",
    "    the metrics are taken from orignal paper:\n",
    "    https://github.com/YDaiLab/Meta-Signer/blob/bd6a1cd98d1035f848ecb6e53d9ee67a85871db2/src/utils/metasigner_io.py#L34\n",
    "    '''\n",
    "    auc = roc_auc_score(y_true, y_score, average='weighted')        \n",
    "    mcc = matthews_corrcoef(y_true, y_pred)\n",
    "    pres = precision_score(y_true, y_pred, average='weighted')\n",
    "    recall = recall_score(y_true, y_pred, average='weighted')\n",
    "    f1 = f1_score(y_true, y_pred, average='weighted')\n",
    "    \n",
    "    print('roc-auc: %.3f, mcc: %.3f, pres: %.3f, recall: %.3f, f1: %.3f' % (auc, mcc, pres, recall, f1))\n",
    "\n",
    "    return auc, mcc, pres, recall, f1"
   ]
  },
  {
   "cell_type": "code",
   "execution_count": 44,
   "metadata": {},
   "outputs": [],
   "source": [
    "data_path = '../IBD/../../benchmark_data/IBD/'\n",
    "dataset = 'IBD'\n",
    "save_dir = 'results'\n",
    "\n",
    "dfx = pd.read_csv(os.path.join(data_path, 'abundance.tsv'),sep='\\t', header=None, index_col=0)\n",
    "dfy = pd.read_csv(os.path.join(data_path, 'labels.txt'),sep='\\t', header=None, index_col=0)\n",
    "dfx = dfx.T\n",
    "dfx = np.log(dfx + 1e-2)\n",
    "y = pd.get_dummies(dfy.index.map({'ibd':1, 'n':0}))"
   ]
  },
  {
   "cell_type": "code",
   "execution_count": 45,
   "metadata": {},
   "outputs": [
    {
     "name": "stdout",
     "output_type": "stream",
     "text": [
      "2021-08-11 11:39:48,013 - \u001b[32mINFO\u001b[0m - [bidd-aggmap]\u001b[0m - Calculating distance ...\u001b[0m\n",
      "2021-08-11 11:39:48,025 - \u001b[32mINFO\u001b[0m - [bidd-aggmap]\u001b[0m - the number of process is 16\u001b[0m\n"
     ]
    },
    {
     "name": "stderr",
     "output_type": "stream",
     "text": [
      "100%|##########| 97903/97903 [00:03<00:00, 30331.37it/s]\n",
      "100%|##########| 97903/97903 [00:00<00:00, 1540531.92it/s]\n",
      "100%|##########| 443/443 [00:00<00:00, 810.88it/s]\n"
     ]
    },
    {
     "name": "stdout",
     "output_type": "stream",
     "text": [
      "2021-08-11 11:39:53,469 - \u001b[32mINFO\u001b[0m - [bidd-aggmap]\u001b[0m - applying hierarchical clustering to obtain group information ...\u001b[0m\n",
      "2021-08-11 11:39:54,411 - \u001b[32mINFO\u001b[0m - [bidd-aggmap]\u001b[0m - Applying grid feature map(assignment), this may take several minutes(1~30 min)\u001b[0m\n",
      "2021-08-11 11:39:54,622 - \u001b[32mINFO\u001b[0m - [bidd-aggmap]\u001b[0m - Finished\u001b[0m\n"
     ]
    }
   ],
   "source": [
    "mp = AggMap(dfx, metric = 'correlation')\n",
    "mp = mp.fit(cluster_channels = 3, verbose = 0, var_thr = 0)"
   ]
  },
  {
   "cell_type": "code",
   "execution_count": 46,
   "metadata": {},
   "outputs": [
    {
     "name": "stderr",
     "output_type": "stream",
     "text": [
      "100%|##########| 110/110 [00:02<00:00, 41.47it/s]\n"
     ]
    }
   ],
   "source": [
    "X = mp.batch_transform(dfx.values, scale = 'minmax') # NaN values should be the lowest value\n",
    "Y = y.values.astype(float)"
   ]
  },
  {
   "cell_type": "code",
   "execution_count": 47,
   "metadata": {},
   "outputs": [],
   "source": [
    "import tensorflow as tf"
   ]
  },
  {
   "cell_type": "code",
   "execution_count": null,
   "metadata": {},
   "outputs": [
    {
     "name": "stdout",
     "output_type": "stream",
     "text": [
      "################################################## 8 ##################################################\n",
      "\n",
      " input train and test X shape is (99, 22, 21, 3), (11, 22, 21, 3) \n",
      "{'epochs': 50, 'lr': 0.0001, 'loss': 'categorical_crossentropy', 'conv1_kernel_size': 13, 'dense_layers': [128], 'dense_avf': 'relu', 'last_avf': 'softmax', 'batch_size': 2, 'dropout': 0.0, 'batch_norm': False, 'n_inception': 2, 'monitor': 'val_loss', 'patience': 10000, 'random_state': 32, 'verbose': 0, 'name': 'AggMap MultiClass Estimator', 'gpuid': '6'}\n",
      "roc-auc: 0.889, mcc: 0.671, pres: 0.918, recall: 0.909, f1: 0.896\n",
      "{'auc': 0.889, 'mcc': 0.671, 'pres': 0.918, 'recall': 0.909, 'f1': 0.896, 'i': 0.0, 'repeat_seed': 8.0}\n",
      "\n",
      " input train and test X shape is (99, 22, 21, 3), (11, 22, 21, 3) \n",
      "{'epochs': 50, 'lr': 0.0001, 'loss': 'categorical_crossentropy', 'conv1_kernel_size': 13, 'dense_layers': [128], 'dense_avf': 'relu', 'last_avf': 'softmax', 'batch_size': 2, 'dropout': 0.0, 'batch_norm': False, 'n_inception': 2, 'monitor': 'val_loss', 'patience': 10000, 'random_state': 32, 'verbose': 0, 'name': 'AggMap MultiClass Estimator', 'gpuid': '6'}\n",
      "roc-auc: 1.000, mcc: 1.000, pres: 1.000, recall: 1.000, f1: 1.000\n",
      "{'auc': 1.0, 'mcc': 1.0, 'pres': 1.0, 'recall': 1.0, 'f1': 1.0, 'i': 1.0, 'repeat_seed': 8.0}\n",
      "\n",
      " input train and test X shape is (99, 22, 21, 3), (11, 22, 21, 3) \n",
      "{'epochs': 50, 'lr': 0.0001, 'loss': 'categorical_crossentropy', 'conv1_kernel_size': 13, 'dense_layers': [128], 'dense_avf': 'relu', 'last_avf': 'softmax', 'batch_size': 2, 'dropout': 0.0, 'batch_norm': False, 'n_inception': 2, 'monitor': 'val_loss', 'patience': 10000, 'random_state': 32, 'verbose': 0, 'name': 'AggMap MultiClass Estimator', 'gpuid': '6'}\n",
      "roc-auc: 0.889, mcc: 0.389, pres: 0.818, recall: 0.818, f1: 0.818\n",
      "{'auc': 0.889, 'mcc': 0.389, 'pres': 0.818, 'recall': 0.818, 'f1': 0.818, 'i': 2.0, 'repeat_seed': 8.0}\n",
      "\n",
      " input train and test X shape is (99, 22, 21, 3), (11, 22, 21, 3) \n",
      "{'epochs': 50, 'lr': 0.0001, 'loss': 'categorical_crossentropy', 'conv1_kernel_size': 13, 'dense_layers': [128], 'dense_avf': 'relu', 'last_avf': 'softmax', 'batch_size': 2, 'dropout': 0.0, 'batch_norm': False, 'n_inception': 2, 'monitor': 'val_loss', 'patience': 10000, 'random_state': 32, 'verbose': 0, 'name': 'AggMap MultiClass Estimator', 'gpuid': '6'}\n",
      "roc-auc: 1.000, mcc: 0.770, pres: 0.939, recall: 0.909, f1: 0.916\n",
      "{'auc': 1.0, 'mcc': 0.77, 'pres': 0.939, 'recall': 0.909, 'f1': 0.916, 'i': 3.0, 'repeat_seed': 8.0}\n",
      "\n",
      " input train and test X shape is (99, 22, 21, 3), (11, 22, 21, 3) \n",
      "{'epochs': 50, 'lr': 0.0001, 'loss': 'categorical_crossentropy', 'conv1_kernel_size': 13, 'dense_layers': [128], 'dense_avf': 'relu', 'last_avf': 'softmax', 'batch_size': 2, 'dropout': 0.0, 'batch_norm': False, 'n_inception': 2, 'monitor': 'val_loss', 'patience': 10000, 'random_state': 32, 'verbose': 0, 'name': 'AggMap MultiClass Estimator', 'gpuid': '6'}\n"
     ]
    }
   ],
   "source": [
    "outer_fold = 10\n",
    "repeat_seeds = [8]#5 repeats random seeds 8, 16, 32, 64, 128\n",
    "\n",
    "each_fold_results = []\n",
    "run_all_res = []\n",
    "\n",
    "for repeat_seed in repeat_seeds: \n",
    "    \n",
    "    outer = StratifiedKFold(n_splits = outer_fold, shuffle = True, random_state = repeat_seed)\n",
    "    outer_idx = outer.split(range(len(dfy)), dfy.index)\n",
    "\n",
    "    print('#'*50 + ' %s ' % repeat_seed + '#'*50 )\n",
    "    run_one_res = []\n",
    "    for i, idx in enumerate(outer_idx):\n",
    "        \n",
    "        fold_num = \"fold_%s\" % str(i).zfill(2) \n",
    "        \n",
    "        train_idx, test_idx = idx\n",
    "        \n",
    "        testY = Y[test_idx]\n",
    "        testX = X[test_idx]\n",
    "        \n",
    "        trainX = X[train_idx]\n",
    "        trainY = Y[train_idx]\n",
    "\n",
    "        print(\"\\n input train and test X shape is %s, %s \" % (trainX.shape,  testX.shape))\n",
    "        \n",
    "        #weighted loss\n",
    "        #pos_weight = trainY[:,0].sum() / trainY[:,1].sum()\n",
    "        #loss = lambda labels, logits: tf.nn.weighted_cross_entropy_with_logits(labels=labels, logits=logits, pos_weight = 10)\n",
    "\n",
    "        clf = AggModel.MultiClassEstimator(epochs = 50, conv1_kernel_size = 13, #loss = loss,\n",
    "                                           batch_size = 2, verbose = 0, gpuid=6,) #\n",
    "        \n",
    "        clf.fit(trainX, trainY)  #,  class_weight={0:1, 1:10}\n",
    "        pred_proba = clf.predict_proba(testX)\n",
    "        \n",
    "        y_true = testY[:,1] \n",
    "        y_score = pred_proba[:,1]\n",
    "        y_pred = np.argmax(pred_proba, axis=1)\n",
    "        \n",
    "        dfr = pd.DataFrame([y_true, y_score, y_pred]).T\n",
    "        dfr.columns = ['y_true', 'y_score', 'y_pred']\n",
    "        dfr.index = dfy.iloc[test_idx].index\n",
    "        auc, mcc, pres, recall, f1  = score(dfr)\n",
    "        run_one_res.append(dfr)\n",
    "        \n",
    "        ts = pd.Series([auc, mcc, pres, recall, f1, i, repeat_seed]).round(3)\n",
    "        ts.index = ['auc', 'mcc', 'pres', 'recall', 'f1', 'i', 'repeat_seed']\n",
    "        print(ts.to_dict())\n",
    "        \n",
    "        each_fold_results.append(ts.to_dict())\n",
    "        \n",
    "    run_all_res.append(pd.concat(run_one_res))"
   ]
  },
  {
   "cell_type": "code",
   "execution_count": null,
   "metadata": {},
   "outputs": [],
   "source": []
  },
  {
   "cell_type": "code",
   "execution_count": 52,
   "metadata": {},
   "outputs": [
    {
     "data": {
      "text/plain": [
       "auc            0.9236\n",
       "mcc            0.6640\n",
       "pres           0.8922\n",
       "recall         0.8817\n",
       "f1             0.8751\n",
       "i              4.5000\n",
       "repeat_seed    8.0000\n",
       "dtype: float64"
      ]
     },
     "execution_count": 52,
     "metadata": {},
     "output_type": "execute_result"
    }
   ],
   "source": [
    "pd.DataFrame(each_fold_results).mean()"
   ]
  },
  {
   "cell_type": "code",
   "execution_count": 53,
   "metadata": {},
   "outputs": [
    {
     "data": {
      "text/plain": [
       "auc            0.112564\n",
       "mcc            0.277826\n",
       "pres           0.105792\n",
       "recall         0.105515\n",
       "f1             0.107608\n",
       "i              3.027650\n",
       "repeat_seed    0.000000\n",
       "dtype: float64"
      ]
     },
     "execution_count": 53,
     "metadata": {},
     "output_type": "execute_result"
    }
   ],
   "source": [
    "pd.DataFrame(each_fold_results).std()"
   ]
  },
  {
   "cell_type": "code",
   "execution_count": 54,
   "metadata": {},
   "outputs": [
    {
     "data": {
      "text/html": [
       "<div>\n",
       "<style scoped>\n",
       "    .dataframe tbody tr th:only-of-type {\n",
       "        vertical-align: middle;\n",
       "    }\n",
       "\n",
       "    .dataframe tbody tr th {\n",
       "        vertical-align: top;\n",
       "    }\n",
       "\n",
       "    .dataframe thead th {\n",
       "        text-align: right;\n",
       "    }\n",
       "</style>\n",
       "<table border=\"1\" class=\"dataframe\">\n",
       "  <thead>\n",
       "    <tr style=\"text-align: right;\">\n",
       "      <th></th>\n",
       "      <th>auc</th>\n",
       "      <th>mcc</th>\n",
       "      <th>pres</th>\n",
       "      <th>recall</th>\n",
       "      <th>f1</th>\n",
       "      <th>i</th>\n",
       "      <th>repeat_seed</th>\n",
       "    </tr>\n",
       "  </thead>\n",
       "  <tbody>\n",
       "    <tr>\n",
       "      <th>0</th>\n",
       "      <td>0.889</td>\n",
       "      <td>0.671</td>\n",
       "      <td>0.918</td>\n",
       "      <td>0.909</td>\n",
       "      <td>0.896</td>\n",
       "      <td>0.0</td>\n",
       "      <td>8.0</td>\n",
       "    </tr>\n",
       "    <tr>\n",
       "      <th>1</th>\n",
       "      <td>1.000</td>\n",
       "      <td>1.000</td>\n",
       "      <td>1.000</td>\n",
       "      <td>1.000</td>\n",
       "      <td>1.000</td>\n",
       "      <td>1.0</td>\n",
       "      <td>8.0</td>\n",
       "    </tr>\n",
       "    <tr>\n",
       "      <th>2</th>\n",
       "      <td>0.889</td>\n",
       "      <td>0.389</td>\n",
       "      <td>0.818</td>\n",
       "      <td>0.818</td>\n",
       "      <td>0.818</td>\n",
       "      <td>2.0</td>\n",
       "      <td>8.0</td>\n",
       "    </tr>\n",
       "    <tr>\n",
       "      <th>3</th>\n",
       "      <td>1.000</td>\n",
       "      <td>0.770</td>\n",
       "      <td>0.939</td>\n",
       "      <td>0.909</td>\n",
       "      <td>0.916</td>\n",
       "      <td>3.0</td>\n",
       "      <td>8.0</td>\n",
       "    </tr>\n",
       "    <tr>\n",
       "      <th>4</th>\n",
       "      <td>1.000</td>\n",
       "      <td>0.671</td>\n",
       "      <td>0.918</td>\n",
       "      <td>0.909</td>\n",
       "      <td>0.896</td>\n",
       "      <td>4.0</td>\n",
       "      <td>8.0</td>\n",
       "    </tr>\n",
       "    <tr>\n",
       "      <th>5</th>\n",
       "      <td>1.000</td>\n",
       "      <td>0.770</td>\n",
       "      <td>0.919</td>\n",
       "      <td>0.909</td>\n",
       "      <td>0.903</td>\n",
       "      <td>5.0</td>\n",
       "      <td>8.0</td>\n",
       "    </tr>\n",
       "    <tr>\n",
       "      <th>6</th>\n",
       "      <td>0.708</td>\n",
       "      <td>0.083</td>\n",
       "      <td>0.636</td>\n",
       "      <td>0.636</td>\n",
       "      <td>0.636</td>\n",
       "      <td>6.0</td>\n",
       "      <td>8.0</td>\n",
       "    </tr>\n",
       "    <tr>\n",
       "      <th>7</th>\n",
       "      <td>1.000</td>\n",
       "      <td>0.770</td>\n",
       "      <td>0.919</td>\n",
       "      <td>0.909</td>\n",
       "      <td>0.903</td>\n",
       "      <td>7.0</td>\n",
       "      <td>8.0</td>\n",
       "    </tr>\n",
       "    <tr>\n",
       "      <th>8</th>\n",
       "      <td>1.000</td>\n",
       "      <td>1.000</td>\n",
       "      <td>1.000</td>\n",
       "      <td>1.000</td>\n",
       "      <td>1.000</td>\n",
       "      <td>8.0</td>\n",
       "      <td>8.0</td>\n",
       "    </tr>\n",
       "    <tr>\n",
       "      <th>9</th>\n",
       "      <td>0.750</td>\n",
       "      <td>0.516</td>\n",
       "      <td>0.855</td>\n",
       "      <td>0.818</td>\n",
       "      <td>0.783</td>\n",
       "      <td>9.0</td>\n",
       "      <td>8.0</td>\n",
       "    </tr>\n",
       "  </tbody>\n",
       "</table>\n",
       "</div>"
      ],
      "text/plain": [
       "     auc    mcc   pres  recall     f1    i  repeat_seed\n",
       "0  0.889  0.671  0.918   0.909  0.896  0.0          8.0\n",
       "1  1.000  1.000  1.000   1.000  1.000  1.0          8.0\n",
       "2  0.889  0.389  0.818   0.818  0.818  2.0          8.0\n",
       "3  1.000  0.770  0.939   0.909  0.916  3.0          8.0\n",
       "4  1.000  0.671  0.918   0.909  0.896  4.0          8.0\n",
       "5  1.000  0.770  0.919   0.909  0.903  5.0          8.0\n",
       "6  0.708  0.083  0.636   0.636  0.636  6.0          8.0\n",
       "7  1.000  0.770  0.919   0.909  0.903  7.0          8.0\n",
       "8  1.000  1.000  1.000   1.000  1.000  8.0          8.0\n",
       "9  0.750  0.516  0.855   0.818  0.783  9.0          8.0"
      ]
     },
     "execution_count": 54,
     "metadata": {},
     "output_type": "execute_result"
    }
   ],
   "source": [
    "pd.DataFrame(each_fold_results)"
   ]
  },
  {
   "cell_type": "code",
   "execution_count": null,
   "metadata": {},
   "outputs": [],
   "source": []
  },
  {
   "cell_type": "code",
   "execution_count": null,
   "metadata": {},
   "outputs": [],
   "source": []
  }
 ],
 "metadata": {
  "kernelspec": {
   "display_name": "Python 3",
   "language": "python",
   "name": "python3"
  },
  "language_info": {
   "codemirror_mode": {
    "name": "ipython",
    "version": 3
   },
   "file_extension": ".py",
   "mimetype": "text/x-python",
   "name": "python",
   "nbconvert_exporter": "python",
   "pygments_lexer": "ipython3",
   "version": "3.6.9"
  }
 },
 "nbformat": 4,
 "nbformat_minor": 4
}
