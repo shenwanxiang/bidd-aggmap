{
 "cells": [
  {
   "cell_type": "code",
   "execution_count": 2,
   "metadata": {},
   "outputs": [],
   "source": [
    "import sys,os\n",
    "import pandas as pd\n",
    "import numpy as np\n",
    "import warnings\n",
    "\n",
    "import tensorflow as tf\n",
    "from sklearn.utils import shuffle\n",
    "from joblib import load, dump\n",
    "from itertools import chain\n",
    "import matplotlib.pyplot as plt\n",
    "import seaborn as sns\n",
    "\n",
    "from aggmap import AggMap\n",
    "import aggmap\n",
    "\n",
    "warnings.filterwarnings(\"ignore\")\n",
    "\n",
    "def imshow(x_arr,  ax,  color_list = ['#ff0c00','#25ff00', '#1300ff','#d000ff','#e2ff00', \n",
    "              '#00fff6', '#ff8800', '#fccde5','#178b66', '#8a0075'], n_colors=100, x_max = 255, vmin = -1, vmax = 1,):\n",
    "    \n",
    "    \n",
    "    assert x_arr.ndim == 3, 'input must be 3d array!'\n",
    "    w, h, c = x_arr.shape\n",
    "    assert len(color_list) >= c, 'length of the color list should equal or larger than channel numbers'\n",
    "    \n",
    "    x = x_arr.copy()\n",
    "    x[x == 0] = 'nan'\n",
    "\n",
    "    xxx = x_arr.sum(axis=-1)\n",
    "    xxx[xxx != 0] = 'nan'\n",
    "        \n",
    "    \n",
    "    cmaps = [sns.light_palette(color, n_colors =  n_colors, reverse=False) for color in color_list]\n",
    "\n",
    "    for i in range(c):\n",
    "        data = x[:,:,i]/x_max\n",
    "        sns.heatmap(data, cmap = cmaps[i],  vmin = vmin, vmax = vmax,  \n",
    "                    yticklabels=False, xticklabels=False, cbar=False, ax=ax, ) # linewidths=0.005, linecolor = '0.9'\n",
    "\n",
    "    sns.heatmap(xxx, vmin=0, vmax=1, cmap = 'Greys', yticklabels=False, xticklabels=False, cbar=False, ax=ax)\n",
    "    #-100000\n",
    "    \n",
    "    ax.axhline(y=0, color='grey',lw=2, ls =  '--')\n",
    "    ax.axhline(y=data.shape[0], color='grey',lw=2, ls =  '--')\n",
    "    \n",
    "    ax.autoscale()\n",
    "    ax.axvline(x=data.shape[1], color='grey',lw=2, ls =  '--')  \n",
    "    ax.axvline(x=0, color='grey',lw=2, ls =  '--')\n",
    "\n",
    "\n",
    "def imshow_wrap(x,  color_list = ['#ff0c00','#25ff00', '#1300ff','#d000ff','#e2ff00', \n",
    "              '#00fff6', '#ff8800', '#fccde5','#178b66', '#8a0075'], n_colors=100, x_max = 255, vmin = -1, vmax = 1):\n",
    "    fig, ax = plt.subplots(figsize=(4,4))\n",
    "    imshow(x.astype(float), ax=ax, x_max = x_max, vmin = vmin, vmax=vmax, color_list = color_list,n_colors = n_colors )\n",
    "    \n",
    "\n",
    "def tracked_orignal_change(orignal_image, new_mp):\n",
    "    \n",
    "    #mp = mp_ORSAggS4\n",
    "    #orignal_image = trainX_OR1[0]\n",
    "    df = new_mp._S.df.copy()\n",
    "    SI = df.groupby('Subtypes').apply(lambda x:x.index.to_list())\n",
    "    M, N, C = orignal_image.shape\n",
    "    v = orignal_image.reshape(M*N*C, )\n",
    "    arr_res = []\n",
    "    for i, j in SI.items():\n",
    "        j = [int(k.replace('p-',''))-1 for k in j]\n",
    "        arr_1d = np.zeros(M*N, )\n",
    "        arr_1d[j] = v[j]\n",
    "        arr = arr_1d.reshape(M, N)  \n",
    "        arr_res.append(arr)\n",
    "    arr_tracked = np.stack(arr_res, axis=-1)\n",
    "    return arr_tracked\n",
    "\n"
   ]
  },
  {
   "cell_type": "code",
   "execution_count": 3,
   "metadata": {},
   "outputs": [],
   "source": [
    "(x_train, y_train), (x_test, y_test) = tf.keras.datasets.fashion_mnist.load_data() #(x_train, y_train), (x_test, y_test)\n",
    "mnist_labels_dict = {0: 'T-shirt/top',1: 'Trouser',2: 'Pullover',\n",
    "                     3: 'Dress',4: 'Coat', 5: 'Sandal', \n",
    "                     6: 'Shirt', 7: 'Sneaker', 8: 'Bag', 9: 'Ankle boot'}\n",
    "seed = 88\n",
    "results_save_folder = './imgs'"
   ]
  },
  {
   "cell_type": "code",
   "execution_count": 4,
   "metadata": {},
   "outputs": [
    {
     "data": {
      "text/plain": [
       "(10000, 28, 28)"
      ]
     },
     "execution_count": 4,
     "metadata": {},
     "output_type": "execute_result"
    }
   ],
   "source": [
    "x_test.shape"
   ]
  },
  {
   "cell_type": "code",
   "execution_count": 5,
   "metadata": {},
   "outputs": [],
   "source": [
    "def gauss_noisy(X, c = 0.38):\n",
    "    ''' \n",
    "    X: 4D array, n,w,h,c\n",
    "    '''\n",
    "    X = X/255.\n",
    "    np.random.seed(123)\n",
    "    X = np.clip(X + np.random.normal(size = X.shape, scale = c), 0, 1) * 255\n",
    "    return X\n",
    "\n",
    "stddevs = np.arange(0, 0.8, 0.12)\n",
    "\n",
    "testX_noisys = []\n",
    "testX_noisy_names = []\n",
    "for stddev in stddevs:\n",
    "    testX = x_test.reshape(-1, 28,28, 1)\n",
    "    testX_noisy = gauss_noisy(testX, c = stddev)\n",
    "    testX_noisys.append(testX_noisy)\n",
    "    testX_noisy_names.append('stddev: %.2f' % stddev)"
   ]
  },
  {
   "cell_type": "code",
   "execution_count": null,
   "metadata": {},
   "outputs": [],
   "source": []
  },
  {
   "cell_type": "code",
   "execution_count": null,
   "metadata": {},
   "outputs": [],
   "source": [
    "rows = testX_noisy_names\n",
    "cols = list(mnist_labels_dict.values())\n",
    "\n",
    "label_idxs = pd.Series(y_test).to_frame(name = 'labels').groupby('labels').apply(lambda x:x.index.to_list())\n",
    "\n",
    "image_idx = [pd.Series(label_idxs[i][:100]).sample(1, random_state = 32).to_list()[0] for i in range(len(label_idxs))]\n",
    "cols = [i + '-%s' % j for i,j in zip(cols, image_idx)]\n",
    "\n",
    "fig, axes = plt.subplots(nrows= len(rows), ncols= len(cols), figsize=(26,20), sharex = False, sharey = False)\n",
    "fontsize = 21\n",
    "\n",
    "## plot transformed images\n",
    "for axc, x_ in zip(axes, testX_noisys):\n",
    "    for ax, idx in zip(axc, image_idx):\n",
    "        x = x_[idx].astype(float)\n",
    "        ax.imshow(x.reshape((28,28)), cmap=plt.cm.Greys)        \n",
    "        #imshow(x, ax=ax, vmin = 0, vmax = 1) #, color_list = ['black']\n",
    "        \n",
    "for ax, col in zip(axes[0], cols):\n",
    "    ax.set_title(col, fontdict = {'fontsize': fontsize})\n",
    "for ax, row in zip(axes[:,0], rows):\n",
    "    ax.set_ylabel(row, fontsize = fontsize)    \n",
    "\n",
    "fig.tight_layout()\n",
    "fig.savefig(os.path.join(results_save_folder, 'featuremaps_gauss_noisy.png'), bbox_inches='tight', dpi=300) "
   ]
  },
  {
   "cell_type": "code",
   "execution_count": null,
   "metadata": {},
   "outputs": [],
   "source": [
    "     "
   ]
  },
  {
   "cell_type": "code",
   "execution_count": null,
   "metadata": {},
   "outputs": [],
   "source": []
  }
 ],
 "metadata": {
  "kernelspec": {
   "display_name": "Python 3",
   "language": "python",
   "name": "python3"
  },
  "language_info": {
   "codemirror_mode": {
    "name": "ipython",
    "version": 3
   },
   "file_extension": ".py",
   "mimetype": "text/x-python",
   "name": "python",
   "nbconvert_exporter": "python",
   "pygments_lexer": "ipython3",
   "version": "3.6.9"
  }
 },
 "nbformat": 4,
 "nbformat_minor": 4
}
