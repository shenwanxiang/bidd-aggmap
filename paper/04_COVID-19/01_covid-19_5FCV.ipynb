{
 "cells": [
  {
   "cell_type": "code",
   "execution_count": 162,
   "metadata": {},
   "outputs": [
    {
     "data": {
      "image/png": "[encoded data removed]",
      "text/plain": [
       "<Figure size 432x72 with 1 Axes>"
      ]
     },
     "metadata": {},
     "output_type": "display_data"
    }
   ],
   "source": [
    "# -*- coding: utf-8 -*-\n",
    "\"\"\"\n",
    "Created on Sun Aug 16 17:10:53 2020\n",
    "\n",
    "@author: wanxiang.shen@u.nus.edu\n",
    "\"\"\"\n",
    "\n",
    "import warnings\n",
    "warnings.filterwarnings(\"ignore\")\n",
    "\n",
    "\n",
    "import pandas as pd\n",
    "import numpy as np\n",
    "\n",
    "from sklearn.model_selection import KFold, StratifiedKFold\n",
    "from sklearn.metrics import confusion_matrix, precision_recall_curve\n",
    "from sklearn.metrics import auc as calculate_auc\n",
    "\n",
    "import matplotlib.pyplot as plt\n",
    "import seaborn as sns\n",
    "\n",
    "from aggmap import AggMap, AggModel\n",
    "\n",
    "np.random.seed(666) #just for reaptable results\n",
    "\n",
    "\n",
    "color = sns.color_palette(\"rainbow_r\", 6) #PiYG\n",
    "sns.palplot(color)"
   ]
  },
  {
   "cell_type": "code",
   "execution_count": 2,
   "metadata": {},
   "outputs": [
    {
     "name": "stdout",
     "output_type": "stream",
     "text": [
      "2020-08-17 11:15:58,693 - INFO - [bidd-aggmap] - Calculating distance ...\n",
      "2020-08-17 11:15:58,696 - INFO - [bidd-aggmap] - the number of process is 16\n"
     ]
    },
    {
     "name": "stderr",
     "output_type": "stream",
     "text": [
      "100%|##########| 3828/3828 [00:01<00:00, 2646.85it/s]\n",
      "100%|##########| 3828/3828 [00:00<00:00, 1363665.34it/s]\n",
      "100%|##########| 88/88 [00:00<00:00, 1838.25it/s]\n"
     ]
    }
   ],
   "source": [
    "dfx  = pd.read_excel('./COVID19.xlsx', sheet_name='data')\n",
    "dfy  = pd.read_excel('./COVID19.xlsx', sheet_name='sample_info')\n",
    "\n",
    "dfx = dfx[dfx.columns[1:]]\n",
    "cols = [\"p-%s\" % c for c in dfx.columns]\n",
    "dfx.columns = cols\n",
    "\n",
    "X = dfx.values\n",
    "Y = pd.get_dummies(dfy['class']).values.astype(float)\n",
    "\n",
    "mp = AggMap(dfx, metric = 'correlation')"
   ]
  },
  {
   "cell_type": "code",
   "execution_count": null,
   "metadata": {},
   "outputs": [],
   "source": []
  },
  {
   "cell_type": "markdown",
   "metadata": {},
   "source": [
    "## 5-fold cross validation and repeat 5 times "
   ]
  },
  {
   "cell_type": "code",
   "execution_count": 3,
   "metadata": {
    "collapsed": true,
    "jupyter": {
     "outputs_hidden": true
    }
   },
   "outputs": [
    {
     "name": "stdout",
     "output_type": "stream",
     "text": [
      "2020-08-17 11:16:00,424 - INFO - [bidd-aggmap] - applying hierarchical clustering to obtain group information ...\n",
      "2020-08-17 11:16:03,257 - INFO - [bidd-aggmap] - Applying grid feature map(assignment), this may take several minutes(1~30 min)\n",
      "2020-08-17 11:16:03,272 - INFO - [bidd-aggmap] - Finished\n"
     ]
    },
    {
     "name": "stderr",
     "output_type": "stream",
     "text": [
      "100%|##########| 289/289 [00:02<00:00, 109.99it/s]\n",
      "100%|##########| 73/73 [00:00<00:00, 4411.24it/s]\n"
     ]
    },
    {
     "name": "stdout",
     "output_type": "stream",
     "text": [
      "\n",
      " input train and test X shape is (289, 10, 9, 1), (73, 10, 9, 1) \n",
      "MultiClassEstimator(batch_size=128, conv1_kernel_size=11, dense_avf='relu',\n",
      "                    dense_layers=[128], epochs=200, lr=0.0001, metric='ROC',\n",
      "                    monitor='val_loss', name='AggMap MultiClass Estimator',\n",
      "                    patience=10000, random_state=32, verbose=0)\n"
     ]
    },
    {
     "name": "stderr",
     "output_type": "stream",
     "text": [
      "100%|##########| 289/289 [00:00<00:00, 3036.05it/s]\n",
      "100%|##########| 73/73 [00:00<00:00, 4471.41it/s]\n"
     ]
    },
    {
     "name": "stdout",
     "output_type": "stream",
     "text": [
      "\n",
      " input train and test X shape is (289, 10, 9, 1), (73, 10, 9, 1) \n",
      "MultiClassEstimator(batch_size=128, conv1_kernel_size=11, dense_avf='relu',\n",
      "                    dense_layers=[128], epochs=200, lr=0.0001, metric='ROC',\n",
      "                    monitor='val_loss', name='AggMap MultiClass Estimator',\n",
      "                    patience=10000, random_state=32, verbose=0)\n"
     ]
    },
    {
     "name": "stderr",
     "output_type": "stream",
     "text": [
      "100%|##########| 290/290 [00:00<00:00, 2265.62it/s]\n",
      "100%|##########| 72/72 [00:00<00:00, 2332.20it/s]\n"
     ]
    },
    {
     "name": "stdout",
     "output_type": "stream",
     "text": [
      "\n",
      " input train and test X shape is (290, 10, 9, 1), (72, 10, 9, 1) \n",
      "MultiClassEstimator(batch_size=128, conv1_kernel_size=11, dense_avf='relu',\n",
      "                    dense_layers=[128], epochs=200, lr=0.0001, metric='ROC',\n",
      "                    monitor='val_loss', name='AggMap MultiClass Estimator',\n",
      "                    patience=10000, random_state=32, verbose=0)\n"
     ]
    },
    {
     "name": "stderr",
     "output_type": "stream",
     "text": [
      "100%|##########| 290/290 [00:00<00:00, 1777.27it/s]\n",
      "100%|##########| 72/72 [00:00<00:00, 2010.45it/s]\n"
     ]
    },
    {
     "name": "stdout",
     "output_type": "stream",
     "text": [
      "\n",
      " input train and test X shape is (290, 10, 9, 1), (72, 10, 9, 1) \n",
      "MultiClassEstimator(batch_size=128, conv1_kernel_size=11, dense_avf='relu',\n",
      "                    dense_layers=[128], epochs=200, lr=0.0001, metric='ROC',\n",
      "                    monitor='val_loss', name='AggMap MultiClass Estimator',\n",
      "                    patience=10000, random_state=32, verbose=0)\n"
     ]
    },
    {
     "name": "stderr",
     "output_type": "stream",
     "text": [
      "100%|##########| 290/290 [00:00<00:00, 1568.93it/s]\n",
      "100%|##########| 72/72 [00:00<00:00, 1108.39it/s]\n"
     ]
    },
    {
     "name": "stdout",
     "output_type": "stream",
     "text": [
      "\n",
      " input train and test X shape is (290, 10, 9, 1), (72, 10, 9, 1) \n",
      "MultiClassEstimator(batch_size=128, conv1_kernel_size=11, dense_avf='relu',\n",
      "                    dense_layers=[128], epochs=200, lr=0.0001, metric='ROC',\n",
      "                    monitor='val_loss', name='AggMap MultiClass Estimator',\n",
      "                    patience=10000, random_state=32, verbose=0)\n",
      "2020-08-17 11:18:34,917 - INFO - [bidd-aggmap] - applying hierarchical clustering to obtain group information ...\n",
      "2020-08-17 11:18:35,213 - INFO - [bidd-aggmap] - Applying grid feature map(assignment), this may take several minutes(1~30 min)\n",
      "2020-08-17 11:18:35,233 - INFO - [bidd-aggmap] - Finished\n"
     ]
    },
    {
     "name": "stderr",
     "output_type": "stream",
     "text": [
      "100%|##########| 289/289 [00:00<00:00, 1768.45it/s]\n",
      "100%|##########| 73/73 [00:00<00:00, 1159.11it/s]\n"
     ]
    },
    {
     "name": "stdout",
     "output_type": "stream",
     "text": [
      "\n",
      " input train and test X shape is (289, 10, 9, 3), (73, 10, 9, 3) \n",
      "MultiClassEstimator(batch_size=128, conv1_kernel_size=11, dense_avf='relu',\n",
      "                    dense_layers=[128], epochs=200, lr=0.0001, metric='ROC',\n",
      "                    monitor='val_loss', name='AggMap MultiClass Estimator',\n",
      "                    patience=10000, random_state=32, verbose=0)\n"
     ]
    },
    {
     "name": "stderr",
     "output_type": "stream",
     "text": [
      "100%|##########| 289/289 [00:00<00:00, 2896.27it/s]\n",
      "100%|##########| 73/73 [00:00<00:00, 1908.30it/s]\n"
     ]
    },
    {
     "name": "stdout",
     "output_type": "stream",
     "text": [
      "\n",
      " input train and test X shape is (289, 10, 9, 3), (73, 10, 9, 3) \n",
      "MultiClassEstimator(batch_size=128, conv1_kernel_size=11, dense_avf='relu',\n",
      "                    dense_layers=[128], epochs=200, lr=0.0001, metric='ROC',\n",
      "                    monitor='val_loss', name='AggMap MultiClass Estimator',\n",
      "                    patience=10000, random_state=32, verbose=0)\n"
     ]
    },
    {
     "name": "stderr",
     "output_type": "stream",
     "text": [
      "100%|##########| 290/290 [00:00<00:00, 1762.91it/s]\n",
      "100%|##########| 72/72 [00:00<00:00, 2064.00it/s]\n"
     ]
    },
    {
     "name": "stdout",
     "output_type": "stream",
     "text": [
      "\n",
      " input train and test X shape is (290, 10, 9, 3), (72, 10, 9, 3) \n",
      "MultiClassEstimator(batch_size=128, conv1_kernel_size=11, dense_avf='relu',\n",
      "                    dense_layers=[128], epochs=200, lr=0.0001, metric='ROC',\n",
      "                    monitor='val_loss', name='AggMap MultiClass Estimator',\n",
      "                    patience=10000, random_state=32, verbose=0)\n"
     ]
    },
    {
     "name": "stderr",
     "output_type": "stream",
     "text": [
      "100%|##########| 290/290 [00:00<00:00, 1710.01it/s]\n",
      "100%|##########| 72/72 [00:00<00:00, 1647.59it/s]\n"
     ]
    },
    {
     "name": "stdout",
     "output_type": "stream",
     "text": [
      "\n",
      " input train and test X shape is (290, 10, 9, 3), (72, 10, 9, 3) \n",
      "MultiClassEstimator(batch_size=128, conv1_kernel_size=11, dense_avf='relu',\n",
      "                    dense_layers=[128], epochs=200, lr=0.0001, metric='ROC',\n",
      "                    monitor='val_loss', name='AggMap MultiClass Estimator',\n",
      "                    patience=10000, random_state=32, verbose=0)\n"
     ]
    },
    {
     "name": "stderr",
     "output_type": "stream",
     "text": [
      "100%|##########| 290/290 [00:00<00:00, 1544.66it/s]\n",
      "100%|##########| 72/72 [00:00<00:00, 1300.07it/s]\n"
     ]
    },
    {
     "name": "stdout",
     "output_type": "stream",
     "text": [
      "\n",
      " input train and test X shape is (290, 10, 9, 3), (72, 10, 9, 3) \n",
      "MultiClassEstimator(batch_size=128, conv1_kernel_size=11, dense_avf='relu',\n",
      "                    dense_layers=[128], epochs=200, lr=0.0001, metric='ROC',\n",
      "                    monitor='val_loss', name='AggMap MultiClass Estimator',\n",
      "                    patience=10000, random_state=32, verbose=0)\n",
      "2020-08-17 11:21:39,881 - INFO - [bidd-aggmap] - applying hierarchical clustering to obtain group information ...\n",
      "2020-08-17 11:21:40,178 - INFO - [bidd-aggmap] - Applying grid feature map(assignment), this may take several minutes(1~30 min)\n",
      "2020-08-17 11:21:40,198 - INFO - [bidd-aggmap] - Finished\n"
     ]
    },
    {
     "name": "stderr",
     "output_type": "stream",
     "text": [
      "100%|##########| 289/289 [00:00<00:00, 1703.12it/s]\n",
      "100%|##########| 73/73 [00:00<00:00, 1078.93it/s]\n"
     ]
    },
    {
     "name": "stdout",
     "output_type": "stream",
     "text": [
      "\n",
      " input train and test X shape is (289, 10, 9, 5), (73, 10, 9, 5) \n",
      "MultiClassEstimator(batch_size=128, conv1_kernel_size=11, dense_avf='relu',\n",
      "                    dense_layers=[128], epochs=200, lr=0.0001, metric='ROC',\n",
      "                    monitor='val_loss', name='AggMap MultiClass Estimator',\n",
      "                    patience=10000, random_state=32, verbose=0)\n"
     ]
    },
    {
     "name": "stderr",
     "output_type": "stream",
     "text": [
      "100%|##########| 289/289 [00:00<00:00, 1664.07it/s]\n",
      "100%|##########| 73/73 [00:00<00:00, 1244.84it/s]\n"
     ]
    },
    {
     "name": "stdout",
     "output_type": "stream",
     "text": [
      "\n",
      " input train and test X shape is (289, 10, 9, 5), (73, 10, 9, 5) \n",
      "MultiClassEstimator(batch_size=128, conv1_kernel_size=11, dense_avf='relu',\n",
      "                    dense_layers=[128], epochs=200, lr=0.0001, metric='ROC',\n",
      "                    monitor='val_loss', name='AggMap MultiClass Estimator',\n",
      "                    patience=10000, random_state=32, verbose=0)\n"
     ]
    },
    {
     "name": "stderr",
     "output_type": "stream",
     "text": [
      "100%|##########| 290/290 [00:00<00:00, 2305.35it/s]\n",
      "100%|##########| 72/72 [00:00<00:00, 2585.02it/s]\n"
     ]
    },
    {
     "name": "stdout",
     "output_type": "stream",
     "text": [
      "\n",
      " input train and test X shape is (290, 10, 9, 5), (72, 10, 9, 5) \n",
      "MultiClassEstimator(batch_size=128, conv1_kernel_size=11, dense_avf='relu',\n",
      "                    dense_layers=[128], epochs=200, lr=0.0001, metric='ROC',\n",
      "                    monitor='val_loss', name='AggMap MultiClass Estimator',\n",
      "                    patience=10000, random_state=32, verbose=0)\n"
     ]
    },
    {
     "name": "stderr",
     "output_type": "stream",
     "text": [
      "100%|##########| 290/290 [00:00<00:00, 1781.08it/s]\n",
      "100%|##########| 72/72 [00:00<00:00, 1455.69it/s]\n"
     ]
    },
    {
     "name": "stdout",
     "output_type": "stream",
     "text": [
      "\n",
      " input train and test X shape is (290, 10, 9, 5), (72, 10, 9, 5) \n",
      "MultiClassEstimator(batch_size=128, conv1_kernel_size=11, dense_avf='relu',\n",
      "                    dense_layers=[128], epochs=200, lr=0.0001, metric='ROC',\n",
      "                    monitor='val_loss', name='AggMap MultiClass Estimator',\n",
      "                    patience=10000, random_state=32, verbose=0)\n"
     ]
    },
    {
     "name": "stderr",
     "output_type": "stream",
     "text": [
      "100%|##########| 290/290 [00:00<00:00, 1715.04it/s]\n",
      "100%|##########| 72/72 [00:00<00:00, 1022.71it/s]\n"
     ]
    },
    {
     "name": "stdout",
     "output_type": "stream",
     "text": [
      "\n",
      " input train and test X shape is (290, 10, 9, 5), (72, 10, 9, 5) \n",
      "MultiClassEstimator(batch_size=128, conv1_kernel_size=11, dense_avf='relu',\n",
      "                    dense_layers=[128], epochs=200, lr=0.0001, metric='ROC',\n",
      "                    monitor='val_loss', name='AggMap MultiClass Estimator',\n",
      "                    patience=10000, random_state=32, verbose=0)\n",
      "2020-08-17 11:24:53,830 - INFO - [bidd-aggmap] - applying hierarchical clustering to obtain group information ...\n",
      "2020-08-17 11:24:54,039 - INFO - [bidd-aggmap] - Applying grid feature map(assignment), this may take several minutes(1~30 min)\n",
      "2020-08-17 11:24:54,051 - INFO - [bidd-aggmap] - Finished\n"
     ]
    },
    {
     "name": "stderr",
     "output_type": "stream",
     "text": [
      "100%|##########| 289/289 [00:00<00:00, 2817.30it/s]\n",
      "100%|##########| 73/73 [00:00<00:00, 3386.96it/s]\n"
     ]
    },
    {
     "name": "stdout",
     "output_type": "stream",
     "text": [
      "\n",
      " input train and test X shape is (289, 10, 9, 1), (73, 10, 9, 1) \n",
      "MultiClassEstimator(batch_size=128, conv1_kernel_size=11, dense_avf='relu',\n",
      "                    dense_layers=[128], epochs=200, lr=0.0001, metric='ROC',\n",
      "                    monitor='val_loss', name='AggMap MultiClass Estimator',\n",
      "                    patience=10000, random_state=32, verbose=0)\n"
     ]
    },
    {
     "name": "stderr",
     "output_type": "stream",
     "text": [
      "100%|##########| 289/289 [00:00<00:00, 3169.83it/s]\n",
      "100%|##########| 73/73 [00:00<00:00, 3033.87it/s]\n"
     ]
    },
    {
     "name": "stdout",
     "output_type": "stream",
     "text": [
      "\n",
      " input train and test X shape is (289, 10, 9, 1), (73, 10, 9, 1) \n",
      "MultiClassEstimator(batch_size=128, conv1_kernel_size=11, dense_avf='relu',\n",
      "                    dense_layers=[128], epochs=200, lr=0.0001, metric='ROC',\n",
      "                    monitor='val_loss', name='AggMap MultiClass Estimator',\n",
      "                    patience=10000, random_state=32, verbose=0)\n"
     ]
    },
    {
     "name": "stderr",
     "output_type": "stream",
     "text": [
      "100%|##########| 290/290 [00:00<00:00, 2778.30it/s]\n",
      "100%|##########| 72/72 [00:00<00:00, 3853.39it/s]\n"
     ]
    },
    {
     "name": "stdout",
     "output_type": "stream",
     "text": [
      "\n",
      " input train and test X shape is (290, 10, 9, 1), (72, 10, 9, 1) \n",
      "MultiClassEstimator(batch_size=128, conv1_kernel_size=11, dense_avf='relu',\n",
      "                    dense_layers=[128], epochs=200, lr=0.0001, metric='ROC',\n",
      "                    monitor='val_loss', name='AggMap MultiClass Estimator',\n",
      "                    patience=10000, random_state=32, verbose=0)\n"
     ]
    },
    {
     "name": "stderr",
     "output_type": "stream",
     "text": [
      "100%|##########| 290/290 [00:00<00:00, 2831.36it/s]\n",
      "100%|##########| 72/72 [00:00<00:00, 3837.76it/s]\n"
     ]
    },
    {
     "name": "stdout",
     "output_type": "stream",
     "text": [
      "\n",
      " input train and test X shape is (290, 10, 9, 1), (72, 10, 9, 1) \n",
      "MultiClassEstimator(batch_size=128, conv1_kernel_size=11, dense_avf='relu',\n",
      "                    dense_layers=[128], epochs=200, lr=0.0001, metric='ROC',\n",
      "                    monitor='val_loss', name='AggMap MultiClass Estimator',\n",
      "                    patience=10000, random_state=32, verbose=0)\n"
     ]
    },
    {
     "name": "stderr",
     "output_type": "stream",
     "text": [
      "100%|##########| 290/290 [00:00<00:00, 3108.03it/s]\n",
      "100%|##########| 72/72 [00:00<00:00, 4311.92it/s]\n"
     ]
    },
    {
     "name": "stdout",
     "output_type": "stream",
     "text": [
      "\n",
      " input train and test X shape is (290, 10, 9, 1), (72, 10, 9, 1) \n",
      "MultiClassEstimator(batch_size=128, conv1_kernel_size=11, dense_avf='relu',\n",
      "                    dense_layers=[128], epochs=200, lr=0.0001, metric='ROC',\n",
      "                    monitor='val_loss', name='AggMap MultiClass Estimator',\n",
      "                    patience=10000, random_state=32, verbose=0)\n",
      "2020-08-17 11:26:42,463 - INFO - [bidd-aggmap] - applying hierarchical clustering to obtain group information ...\n",
      "2020-08-17 11:26:42,672 - INFO - [bidd-aggmap] - Applying grid feature map(assignment), this may take several minutes(1~30 min)\n",
      "2020-08-17 11:26:42,685 - INFO - [bidd-aggmap] - Finished\n"
     ]
    },
    {
     "name": "stderr",
     "output_type": "stream",
     "text": [
      "100%|##########| 289/289 [00:00<00:00, 2722.75it/s]\n",
      "100%|##########| 73/73 [00:00<00:00, 1565.86it/s]\n"
     ]
    },
    {
     "name": "stdout",
     "output_type": "stream",
     "text": [
      "\n",
      " input train and test X shape is (289, 10, 9, 3), (73, 10, 9, 3) \n",
      "MultiClassEstimator(batch_size=128, conv1_kernel_size=11, dense_avf='relu',\n",
      "                    dense_layers=[128], epochs=200, lr=0.0001, metric='ROC',\n",
      "                    monitor='val_loss', name='AggMap MultiClass Estimator',\n",
      "                    patience=10000, random_state=32, verbose=0)\n"
     ]
    },
    {
     "name": "stderr",
     "output_type": "stream",
     "text": [
      "100%|##########| 289/289 [00:00<00:00, 2955.15it/s]\n",
      "100%|##########| 73/73 [00:00<00:00, 4372.94it/s]\n"
     ]
    },
    {
     "name": "stdout",
     "output_type": "stream",
     "text": [
      "\n",
      " input train and test X shape is (289, 10, 9, 3), (73, 10, 9, 3) \n",
      "MultiClassEstimator(batch_size=128, conv1_kernel_size=11, dense_avf='relu',\n",
      "                    dense_layers=[128], epochs=200, lr=0.0001, metric='ROC',\n",
      "                    monitor='val_loss', name='AggMap MultiClass Estimator',\n",
      "                    patience=10000, random_state=32, verbose=0)\n"
     ]
    },
    {
     "name": "stderr",
     "output_type": "stream",
     "text": [
      "100%|##########| 290/290 [00:00<00:00, 3093.29it/s]\n",
      "100%|##########| 72/72 [00:00<00:00, 4254.28it/s]\n"
     ]
    },
    {
     "name": "stdout",
     "output_type": "stream",
     "text": [
      "\n",
      " input train and test X shape is (290, 10, 9, 3), (72, 10, 9, 3) \n",
      "MultiClassEstimator(batch_size=128, conv1_kernel_size=11, dense_avf='relu',\n",
      "                    dense_layers=[128], epochs=200, lr=0.0001, metric='ROC',\n",
      "                    monitor='val_loss', name='AggMap MultiClass Estimator',\n",
      "                    patience=10000, random_state=32, verbose=0)\n"
     ]
    },
    {
     "name": "stderr",
     "output_type": "stream",
     "text": [
      "100%|##########| 290/290 [00:00<00:00, 2943.90it/s]\n",
      "100%|##########| 72/72 [00:00<00:00, 4358.66it/s]\n"
     ]
    },
    {
     "name": "stdout",
     "output_type": "stream",
     "text": [
      "\n",
      " input train and test X shape is (290, 10, 9, 3), (72, 10, 9, 3) \n",
      "MultiClassEstimator(batch_size=128, conv1_kernel_size=11, dense_avf='relu',\n",
      "                    dense_layers=[128], epochs=200, lr=0.0001, metric='ROC',\n",
      "                    monitor='val_loss', name='AggMap MultiClass Estimator',\n",
      "                    patience=10000, random_state=32, verbose=0)\n"
     ]
    },
    {
     "name": "stderr",
     "output_type": "stream",
     "text": [
      "100%|##########| 290/290 [00:00<00:00, 2754.35it/s]\n",
      "100%|##########| 72/72 [00:00<00:00, 4334.89it/s]\n"
     ]
    },
    {
     "name": "stdout",
     "output_type": "stream",
     "text": [
      "\n",
      " input train and test X shape is (290, 10, 9, 3), (72, 10, 9, 3) \n",
      "MultiClassEstimator(batch_size=128, conv1_kernel_size=11, dense_avf='relu',\n",
      "                    dense_layers=[128], epochs=200, lr=0.0001, metric='ROC',\n",
      "                    monitor='val_loss', name='AggMap MultiClass Estimator',\n",
      "                    patience=10000, random_state=32, verbose=0)\n",
      "2020-08-17 11:28:41,904 - INFO - [bidd-aggmap] - applying hierarchical clustering to obtain group information ...\n",
      "2020-08-17 11:28:42,114 - INFO - [bidd-aggmap] - Applying grid feature map(assignment), this may take several minutes(1~30 min)\n",
      "2020-08-17 11:28:42,131 - INFO - [bidd-aggmap] - Finished\n"
     ]
    },
    {
     "name": "stderr",
     "output_type": "stream",
     "text": [
      "100%|##########| 289/289 [00:00<00:00, 2786.22it/s]\n",
      "100%|##########| 73/73 [00:00<00:00, 2191.30it/s]\n"
     ]
    },
    {
     "name": "stdout",
     "output_type": "stream",
     "text": [
      "\n",
      " input train and test X shape is (289, 10, 9, 5), (73, 10, 9, 5) \n",
      "MultiClassEstimator(batch_size=128, conv1_kernel_size=11, dense_avf='relu',\n",
      "                    dense_layers=[128], epochs=200, lr=0.0001, metric='ROC',\n",
      "                    monitor='val_loss', name='AggMap MultiClass Estimator',\n",
      "                    patience=10000, random_state=32, verbose=0)\n"
     ]
    },
    {
     "name": "stderr",
     "output_type": "stream",
     "text": [
      "100%|##########| 289/289 [00:00<00:00, 2971.29it/s]\n",
      "100%|##########| 73/73 [00:00<00:00, 4177.31it/s]\n"
     ]
    },
    {
     "name": "stdout",
     "output_type": "stream",
     "text": [
      "\n",
      " input train and test X shape is (289, 10, 9, 5), (73, 10, 9, 5) \n",
      "MultiClassEstimator(batch_size=128, conv1_kernel_size=11, dense_avf='relu',\n",
      "                    dense_layers=[128], epochs=200, lr=0.0001, metric='ROC',\n",
      "                    monitor='val_loss', name='AggMap MultiClass Estimator',\n",
      "                    patience=10000, random_state=32, verbose=0)\n"
     ]
    },
    {
     "name": "stderr",
     "output_type": "stream",
     "text": [
      "100%|##########| 290/290 [00:00<00:00, 3004.02it/s]\n",
      "100%|##########| 72/72 [00:00<00:00, 4281.05it/s]\n"
     ]
    },
    {
     "name": "stdout",
     "output_type": "stream",
     "text": [
      "\n",
      " input train and test X shape is (290, 10, 9, 5), (72, 10, 9, 5) \n",
      "MultiClassEstimator(batch_size=128, conv1_kernel_size=11, dense_avf='relu',\n",
      "                    dense_layers=[128], epochs=200, lr=0.0001, metric='ROC',\n",
      "                    monitor='val_loss', name='AggMap MultiClass Estimator',\n",
      "                    patience=10000, random_state=32, verbose=0)\n"
     ]
    },
    {
     "name": "stderr",
     "output_type": "stream",
     "text": [
      "100%|##########| 290/290 [00:00<00:00, 3128.99it/s]\n",
      "100%|##########| 72/72 [00:00<00:00, 3837.62it/s]\n"
     ]
    },
    {
     "name": "stdout",
     "output_type": "stream",
     "text": [
      "\n",
      " input train and test X shape is (290, 10, 9, 5), (72, 10, 9, 5) \n",
      "MultiClassEstimator(batch_size=128, conv1_kernel_size=11, dense_avf='relu',\n",
      "                    dense_layers=[128], epochs=200, lr=0.0001, metric='ROC',\n",
      "                    monitor='val_loss', name='AggMap MultiClass Estimator',\n",
      "                    patience=10000, random_state=32, verbose=0)\n"
     ]
    },
    {
     "name": "stderr",
     "output_type": "stream",
     "text": [
      "100%|##########| 290/290 [00:00<00:00, 3154.24it/s]\n",
      "100%|##########| 72/72 [00:00<00:00, 4227.71it/s]\n"
     ]
    },
    {
     "name": "stdout",
     "output_type": "stream",
     "text": [
      "\n",
      " input train and test X shape is (290, 10, 9, 5), (72, 10, 9, 5) \n",
      "MultiClassEstimator(batch_size=128, conv1_kernel_size=11, dense_avf='relu',\n",
      "                    dense_layers=[128], epochs=200, lr=0.0001, metric='ROC',\n",
      "                    monitor='val_loss', name='AggMap MultiClass Estimator',\n",
      "                    patience=10000, random_state=32, verbose=0)\n",
      "2020-08-17 11:30:52,770 - INFO - [bidd-aggmap] - applying hierarchical clustering to obtain group information ...\n",
      "2020-08-17 11:30:52,981 - INFO - [bidd-aggmap] - Applying grid feature map(assignment), this may take several minutes(1~30 min)\n",
      "2020-08-17 11:30:52,993 - INFO - [bidd-aggmap] - Finished\n"
     ]
    },
    {
     "name": "stderr",
     "output_type": "stream",
     "text": [
      "100%|##########| 289/289 [00:00<00:00, 2782.29it/s]\n",
      "100%|##########| 73/73 [00:00<00:00, 4463.98it/s]\n"
     ]
    },
    {
     "name": "stdout",
     "output_type": "stream",
     "text": [
      "\n",
      " input train and test X shape is (289, 10, 9, 1), (73, 10, 9, 1) \n",
      "MultiClassEstimator(batch_size=128, conv1_kernel_size=11, dense_avf='relu',\n",
      "                    dense_layers=[128], epochs=200, lr=0.0001, metric='ROC',\n",
      "                    monitor='val_loss', name='AggMap MultiClass Estimator',\n",
      "                    patience=10000, random_state=32, verbose=0)\n"
     ]
    },
    {
     "name": "stderr",
     "output_type": "stream",
     "text": [
      "100%|##########| 289/289 [00:00<00:00, 2183.63it/s]\n",
      "100%|##########| 73/73 [00:00<00:00, 3075.06it/s]\n"
     ]
    },
    {
     "name": "stdout",
     "output_type": "stream",
     "text": [
      "\n",
      " input train and test X shape is (289, 10, 9, 1), (73, 10, 9, 1) \n",
      "MultiClassEstimator(batch_size=128, conv1_kernel_size=11, dense_avf='relu',\n",
      "                    dense_layers=[128], epochs=200, lr=0.0001, metric='ROC',\n",
      "                    monitor='val_loss', name='AggMap MultiClass Estimator',\n",
      "                    patience=10000, random_state=32, verbose=0)\n"
     ]
    },
    {
     "name": "stderr",
     "output_type": "stream",
     "text": [
      "100%|##########| 290/290 [00:00<00:00, 2815.01it/s]\n",
      "100%|##########| 72/72 [00:00<00:00, 4249.01it/s]\n"
     ]
    },
    {
     "name": "stdout",
     "output_type": "stream",
     "text": [
      "\n",
      " input train and test X shape is (290, 10, 9, 1), (72, 10, 9, 1) \n",
      "MultiClassEstimator(batch_size=128, conv1_kernel_size=11, dense_avf='relu',\n",
      "                    dense_layers=[128], epochs=200, lr=0.0001, metric='ROC',\n",
      "                    monitor='val_loss', name='AggMap MultiClass Estimator',\n",
      "                    patience=10000, random_state=32, verbose=0)\n"
     ]
    },
    {
     "name": "stderr",
     "output_type": "stream",
     "text": [
      "100%|##########| 290/290 [00:00<00:00, 2597.13it/s]\n",
      "100%|##########| 72/72 [00:00<00:00, 4331.34it/s]\n"
     ]
    },
    {
     "name": "stdout",
     "output_type": "stream",
     "text": [
      "\n",
      " input train and test X shape is (290, 10, 9, 1), (72, 10, 9, 1) \n",
      "MultiClassEstimator(batch_size=128, conv1_kernel_size=11, dense_avf='relu',\n",
      "                    dense_layers=[128], epochs=200, lr=0.0001, metric='ROC',\n",
      "                    monitor='val_loss', name='AggMap MultiClass Estimator',\n",
      "                    patience=10000, random_state=32, verbose=0)\n"
     ]
    },
    {
     "name": "stderr",
     "output_type": "stream",
     "text": [
      "100%|##########| 290/290 [00:00<00:00, 3227.82it/s]\n",
      "100%|##########| 72/72 [00:00<00:00, 4368.31it/s]\n"
     ]
    },
    {
     "name": "stdout",
     "output_type": "stream",
     "text": [
      "\n",
      " input train and test X shape is (290, 10, 9, 1), (72, 10, 9, 1) \n",
      "MultiClassEstimator(batch_size=128, conv1_kernel_size=11, dense_avf='relu',\n",
      "                    dense_layers=[128], epochs=200, lr=0.0001, metric='ROC',\n",
      "                    monitor='val_loss', name='AggMap MultiClass Estimator',\n",
      "                    patience=10000, random_state=32, verbose=0)\n",
      "2020-08-17 11:32:41,958 - INFO - [bidd-aggmap] - applying hierarchical clustering to obtain group information ...\n",
      "2020-08-17 11:32:42,165 - INFO - [bidd-aggmap] - Applying grid feature map(assignment), this may take several minutes(1~30 min)\n",
      "2020-08-17 11:32:42,177 - INFO - [bidd-aggmap] - Finished\n"
     ]
    },
    {
     "name": "stderr",
     "output_type": "stream",
     "text": [
      "100%|##########| 289/289 [00:00<00:00, 3297.30it/s]\n",
      "100%|##########| 73/73 [00:00<00:00, 4312.70it/s]\n"
     ]
    },
    {
     "name": "stdout",
     "output_type": "stream",
     "text": [
      "\n",
      " input train and test X shape is (289, 10, 9, 3), (73, 10, 9, 3) \n",
      "MultiClassEstimator(batch_size=128, conv1_kernel_size=11, dense_avf='relu',\n",
      "                    dense_layers=[128], epochs=200, lr=0.0001, metric='ROC',\n",
      "                    monitor='val_loss', name='AggMap MultiClass Estimator',\n",
      "                    patience=10000, random_state=32, verbose=0)\n"
     ]
    },
    {
     "name": "stderr",
     "output_type": "stream",
     "text": [
      "100%|##########| 289/289 [00:00<00:00, 2891.22it/s]\n",
      "100%|##########| 73/73 [00:00<00:00, 4383.89it/s]\n"
     ]
    },
    {
     "name": "stdout",
     "output_type": "stream",
     "text": [
      "\n",
      " input train and test X shape is (289, 10, 9, 3), (73, 10, 9, 3) \n",
      "MultiClassEstimator(batch_size=128, conv1_kernel_size=11, dense_avf='relu',\n",
      "                    dense_layers=[128], epochs=200, lr=0.0001, metric='ROC',\n",
      "                    monitor='val_loss', name='AggMap MultiClass Estimator',\n",
      "                    patience=10000, random_state=32, verbose=0)\n"
     ]
    },
    {
     "name": "stderr",
     "output_type": "stream",
     "text": [
      "100%|##########| 290/290 [00:00<00:00, 2149.83it/s]\n",
      "100%|##########| 72/72 [00:00<00:00, 1670.83it/s]\n"
     ]
    },
    {
     "name": "stdout",
     "output_type": "stream",
     "text": [
      "\n",
      " input train and test X shape is (290, 10, 9, 3), (72, 10, 9, 3) \n",
      "MultiClassEstimator(batch_size=128, conv1_kernel_size=11, dense_avf='relu',\n",
      "                    dense_layers=[128], epochs=200, lr=0.0001, metric='ROC',\n",
      "                    monitor='val_loss', name='AggMap MultiClass Estimator',\n",
      "                    patience=10000, random_state=32, verbose=0)\n"
     ]
    },
    {
     "name": "stderr",
     "output_type": "stream",
     "text": [
      "100%|##########| 290/290 [00:00<00:00, 2846.26it/s]\n",
      "100%|##########| 72/72 [00:00<00:00, 4348.43it/s]\n"
     ]
    },
    {
     "name": "stdout",
     "output_type": "stream",
     "text": [
      "\n",
      " input train and test X shape is (290, 10, 9, 3), (72, 10, 9, 3) \n",
      "MultiClassEstimator(batch_size=128, conv1_kernel_size=11, dense_avf='relu',\n",
      "                    dense_layers=[128], epochs=200, lr=0.0001, metric='ROC',\n",
      "                    monitor='val_loss', name='AggMap MultiClass Estimator',\n",
      "                    patience=10000, random_state=32, verbose=0)\n"
     ]
    },
    {
     "name": "stderr",
     "output_type": "stream",
     "text": [
      "100%|##########| 290/290 [00:00<00:00, 3151.11it/s]\n",
      "100%|##########| 72/72 [00:00<00:00, 3912.90it/s]\n"
     ]
    },
    {
     "name": "stdout",
     "output_type": "stream",
     "text": [
      "\n",
      " input train and test X shape is (290, 10, 9, 3), (72, 10, 9, 3) \n",
      "MultiClassEstimator(batch_size=128, conv1_kernel_size=11, dense_avf='relu',\n",
      "                    dense_layers=[128], epochs=200, lr=0.0001, metric='ROC',\n",
      "                    monitor='val_loss', name='AggMap MultiClass Estimator',\n",
      "                    patience=10000, random_state=32, verbose=0)\n",
      "2020-08-17 11:34:42,239 - INFO - [bidd-aggmap] - applying hierarchical clustering to obtain group information ...\n",
      "2020-08-17 11:34:42,448 - INFO - [bidd-aggmap] - Applying grid feature map(assignment), this may take several minutes(1~30 min)\n",
      "2020-08-17 11:34:42,462 - INFO - [bidd-aggmap] - Finished\n"
     ]
    },
    {
     "name": "stderr",
     "output_type": "stream",
     "text": [
      "100%|##########| 289/289 [00:00<00:00, 2940.70it/s]\n",
      "100%|##########| 73/73 [00:00<00:00, 3923.78it/s]\n"
     ]
    },
    {
     "name": "stdout",
     "output_type": "stream",
     "text": [
      "\n",
      " input train and test X shape is (289, 10, 9, 5), (73, 10, 9, 5) \n",
      "MultiClassEstimator(batch_size=128, conv1_kernel_size=11, dense_avf='relu',\n",
      "                    dense_layers=[128], epochs=200, lr=0.0001, metric='ROC',\n",
      "                    monitor='val_loss', name='AggMap MultiClass Estimator',\n",
      "                    patience=10000, random_state=32, verbose=0)\n"
     ]
    },
    {
     "name": "stderr",
     "output_type": "stream",
     "text": [
      "100%|##########| 289/289 [00:00<00:00, 2777.54it/s]\n",
      "100%|##########| 73/73 [00:00<00:00, 3931.28it/s]\n"
     ]
    },
    {
     "name": "stdout",
     "output_type": "stream",
     "text": [
      "\n",
      " input train and test X shape is (289, 10, 9, 5), (73, 10, 9, 5) \n",
      "MultiClassEstimator(batch_size=128, conv1_kernel_size=11, dense_avf='relu',\n",
      "                    dense_layers=[128], epochs=200, lr=0.0001, metric='ROC',\n",
      "                    monitor='val_loss', name='AggMap MultiClass Estimator',\n",
      "                    patience=10000, random_state=32, verbose=0)\n"
     ]
    },
    {
     "name": "stderr",
     "output_type": "stream",
     "text": [
      "100%|##########| 290/290 [00:00<00:00, 3080.45it/s]\n",
      "100%|##########| 72/72 [00:00<00:00, 4283.79it/s]\n"
     ]
    },
    {
     "name": "stdout",
     "output_type": "stream",
     "text": [
      "\n",
      " input train and test X shape is (290, 10, 9, 5), (72, 10, 9, 5) \n",
      "MultiClassEstimator(batch_size=128, conv1_kernel_size=11, dense_avf='relu',\n",
      "                    dense_layers=[128], epochs=200, lr=0.0001, metric='ROC',\n",
      "                    monitor='val_loss', name='AggMap MultiClass Estimator',\n",
      "                    patience=10000, random_state=32, verbose=0)\n"
     ]
    },
    {
     "name": "stderr",
     "output_type": "stream",
     "text": [
      "100%|##########| 290/290 [00:00<00:00, 2627.40it/s]\n",
      "100%|##########| 72/72 [00:00<00:00, 3713.96it/s]\n"
     ]
    },
    {
     "name": "stdout",
     "output_type": "stream",
     "text": [
      "\n",
      " input train and test X shape is (290, 10, 9, 5), (72, 10, 9, 5) \n",
      "MultiClassEstimator(batch_size=128, conv1_kernel_size=11, dense_avf='relu',\n",
      "                    dense_layers=[128], epochs=200, lr=0.0001, metric='ROC',\n",
      "                    monitor='val_loss', name='AggMap MultiClass Estimator',\n",
      "                    patience=10000, random_state=32, verbose=0)\n"
     ]
    },
    {
     "name": "stderr",
     "output_type": "stream",
     "text": [
      "100%|##########| 290/290 [00:00<00:00, 2735.37it/s]\n",
      "100%|##########| 72/72 [00:00<00:00, 2378.25it/s]\n"
     ]
    },
    {
     "name": "stdout",
     "output_type": "stream",
     "text": [
      "\n",
      " input train and test X shape is (290, 10, 9, 5), (72, 10, 9, 5) \n",
      "MultiClassEstimator(batch_size=128, conv1_kernel_size=11, dense_avf='relu',\n",
      "                    dense_layers=[128], epochs=200, lr=0.0001, metric='ROC',\n",
      "                    monitor='val_loss', name='AggMap MultiClass Estimator',\n",
      "                    patience=10000, random_state=32, verbose=0)\n",
      "2020-08-17 11:36:53,065 - INFO - [bidd-aggmap] - applying hierarchical clustering to obtain group information ...\n",
      "2020-08-17 11:36:53,274 - INFO - [bidd-aggmap] - Applying grid feature map(assignment), this may take several minutes(1~30 min)\n",
      "2020-08-17 11:36:53,287 - INFO - [bidd-aggmap] - Finished\n"
     ]
    },
    {
     "name": "stderr",
     "output_type": "stream",
     "text": [
      "100%|##########| 289/289 [00:00<00:00, 2951.25it/s]\n",
      "100%|##########| 73/73 [00:00<00:00, 4274.35it/s]\n"
     ]
    },
    {
     "name": "stdout",
     "output_type": "stream",
     "text": [
      "\n",
      " input train and test X shape is (289, 10, 9, 1), (73, 10, 9, 1) \n",
      "MultiClassEstimator(batch_size=128, conv1_kernel_size=11, dense_avf='relu',\n",
      "                    dense_layers=[128], epochs=200, lr=0.0001, metric='ROC',\n",
      "                    monitor='val_loss', name='AggMap MultiClass Estimator',\n",
      "                    patience=10000, random_state=32, verbose=0)\n"
     ]
    },
    {
     "name": "stderr",
     "output_type": "stream",
     "text": [
      "100%|##########| 289/289 [00:00<00:00, 2264.92it/s]\n",
      "100%|##########| 73/73 [00:00<00:00, 3970.49it/s]\n"
     ]
    },
    {
     "name": "stdout",
     "output_type": "stream",
     "text": [
      "\n",
      " input train and test X shape is (289, 10, 9, 1), (73, 10, 9, 1) \n",
      "MultiClassEstimator(batch_size=128, conv1_kernel_size=11, dense_avf='relu',\n",
      "                    dense_layers=[128], epochs=200, lr=0.0001, metric='ROC',\n",
      "                    monitor='val_loss', name='AggMap MultiClass Estimator',\n",
      "                    patience=10000, random_state=32, verbose=0)\n"
     ]
    },
    {
     "name": "stderr",
     "output_type": "stream",
     "text": [
      "100%|##########| 290/290 [00:00<00:00, 3025.38it/s]\n",
      "100%|##########| 72/72 [00:00<00:00, 4299.58it/s]\n"
     ]
    },
    {
     "name": "stdout",
     "output_type": "stream",
     "text": [
      "\n",
      " input train and test X shape is (290, 10, 9, 1), (72, 10, 9, 1) \n",
      "MultiClassEstimator(batch_size=128, conv1_kernel_size=11, dense_avf='relu',\n",
      "                    dense_layers=[128], epochs=200, lr=0.0001, metric='ROC',\n",
      "                    monitor='val_loss', name='AggMap MultiClass Estimator',\n",
      "                    patience=10000, random_state=32, verbose=0)\n"
     ]
    },
    {
     "name": "stderr",
     "output_type": "stream",
     "text": [
      "100%|##########| 290/290 [00:00<00:00, 1684.70it/s]\n",
      "100%|##########| 72/72 [00:00<00:00, 1818.50it/s]\n"
     ]
    },
    {
     "name": "stdout",
     "output_type": "stream",
     "text": [
      "\n",
      " input train and test X shape is (290, 10, 9, 1), (72, 10, 9, 1) \n",
      "MultiClassEstimator(batch_size=128, conv1_kernel_size=11, dense_avf='relu',\n",
      "                    dense_layers=[128], epochs=200, lr=0.0001, metric='ROC',\n",
      "                    monitor='val_loss', name='AggMap MultiClass Estimator',\n",
      "                    patience=10000, random_state=32, verbose=0)\n"
     ]
    },
    {
     "name": "stderr",
     "output_type": "stream",
     "text": [
      "100%|##########| 290/290 [00:00<00:00, 1897.26it/s]\n",
      "100%|##########| 72/72 [00:00<00:00, 1392.26it/s]\n"
     ]
    },
    {
     "name": "stdout",
     "output_type": "stream",
     "text": [
      "\n",
      " input train and test X shape is (290, 10, 9, 1), (72, 10, 9, 1) \n",
      "MultiClassEstimator(batch_size=128, conv1_kernel_size=11, dense_avf='relu',\n",
      "                    dense_layers=[128], epochs=200, lr=0.0001, metric='ROC',\n",
      "                    monitor='val_loss', name='AggMap MultiClass Estimator',\n",
      "                    patience=10000, random_state=32, verbose=0)\n",
      "2020-08-17 11:39:14,745 - INFO - [bidd-aggmap] - applying hierarchical clustering to obtain group information ...\n",
      "2020-08-17 11:39:15,055 - INFO - [bidd-aggmap] - Applying grid feature map(assignment), this may take several minutes(1~30 min)\n",
      "2020-08-17 11:39:15,077 - INFO - [bidd-aggmap] - Finished\n"
     ]
    },
    {
     "name": "stderr",
     "output_type": "stream",
     "text": [
      "100%|##########| 289/289 [00:00<00:00, 1489.03it/s]\n",
      "100%|##########| 73/73 [00:00<00:00, 1295.30it/s]\n"
     ]
    },
    {
     "name": "stdout",
     "output_type": "stream",
     "text": [
      "\n",
      " input train and test X shape is (289, 10, 9, 3), (73, 10, 9, 3) \n",
      "MultiClassEstimator(batch_size=128, conv1_kernel_size=11, dense_avf='relu',\n",
      "                    dense_layers=[128], epochs=200, lr=0.0001, metric='ROC',\n",
      "                    monitor='val_loss', name='AggMap MultiClass Estimator',\n",
      "                    patience=10000, random_state=32, verbose=0)\n"
     ]
    },
    {
     "name": "stderr",
     "output_type": "stream",
     "text": [
      "100%|##########| 289/289 [00:00<00:00, 1632.75it/s]\n",
      "100%|##########| 73/73 [00:00<00:00, 1529.41it/s]\n"
     ]
    },
    {
     "name": "stdout",
     "output_type": "stream",
     "text": [
      "\n",
      " input train and test X shape is (289, 10, 9, 3), (73, 10, 9, 3) \n",
      "MultiClassEstimator(batch_size=128, conv1_kernel_size=11, dense_avf='relu',\n",
      "                    dense_layers=[128], epochs=200, lr=0.0001, metric='ROC',\n",
      "                    monitor='val_loss', name='AggMap MultiClass Estimator',\n",
      "                    patience=10000, random_state=32, verbose=0)\n"
     ]
    },
    {
     "name": "stderr",
     "output_type": "stream",
     "text": [
      "100%|##########| 290/290 [00:00<00:00, 1609.07it/s]\n",
      "100%|##########| 72/72 [00:00<00:00, 1135.62it/s]\n"
     ]
    },
    {
     "name": "stdout",
     "output_type": "stream",
     "text": [
      "\n",
      " input train and test X shape is (290, 10, 9, 3), (72, 10, 9, 3) \n",
      "MultiClassEstimator(batch_size=128, conv1_kernel_size=11, dense_avf='relu',\n",
      "                    dense_layers=[128], epochs=200, lr=0.0001, metric='ROC',\n",
      "                    monitor='val_loss', name='AggMap MultiClass Estimator',\n",
      "                    patience=10000, random_state=32, verbose=0)\n"
     ]
    },
    {
     "name": "stderr",
     "output_type": "stream",
     "text": [
      "100%|##########| 290/290 [00:00<00:00, 2750.92it/s]\n",
      "100%|##########| 72/72 [00:00<00:00, 3865.07it/s]\n"
     ]
    },
    {
     "name": "stdout",
     "output_type": "stream",
     "text": [
      "\n",
      " input train and test X shape is (290, 10, 9, 3), (72, 10, 9, 3) \n",
      "MultiClassEstimator(batch_size=128, conv1_kernel_size=11, dense_avf='relu',\n",
      "                    dense_layers=[128], epochs=200, lr=0.0001, metric='ROC',\n",
      "                    monitor='val_loss', name='AggMap MultiClass Estimator',\n",
      "                    patience=10000, random_state=32, verbose=0)\n"
     ]
    },
    {
     "name": "stderr",
     "output_type": "stream",
     "text": [
      "100%|##########| 290/290 [00:00<00:00, 1423.90it/s]\n",
      "100%|##########| 72/72 [00:00<00:00, 1656.75it/s]\n"
     ]
    },
    {
     "name": "stdout",
     "output_type": "stream",
     "text": [
      "\n",
      " input train and test X shape is (290, 10, 9, 3), (72, 10, 9, 3) \n",
      "MultiClassEstimator(batch_size=128, conv1_kernel_size=11, dense_avf='relu',\n",
      "                    dense_layers=[128], epochs=200, lr=0.0001, metric='ROC',\n",
      "                    monitor='val_loss', name='AggMap MultiClass Estimator',\n",
      "                    patience=10000, random_state=32, verbose=0)\n",
      "2020-08-17 11:42:24,501 - INFO - [bidd-aggmap] - applying hierarchical clustering to obtain group information ...\n",
      "2020-08-17 11:42:24,827 - INFO - [bidd-aggmap] - Applying grid feature map(assignment), this may take several minutes(1~30 min)\n",
      "2020-08-17 11:42:24,848 - INFO - [bidd-aggmap] - Finished\n"
     ]
    },
    {
     "name": "stderr",
     "output_type": "stream",
     "text": [
      "100%|##########| 289/289 [00:00<00:00, 1476.09it/s]\n",
      "100%|##########| 73/73 [00:00<00:00, 1296.90it/s]\n"
     ]
    },
    {
     "name": "stdout",
     "output_type": "stream",
     "text": [
      "\n",
      " input train and test X shape is (289, 10, 9, 5), (73, 10, 9, 5) \n",
      "MultiClassEstimator(batch_size=128, conv1_kernel_size=11, dense_avf='relu',\n",
      "                    dense_layers=[128], epochs=200, lr=0.0001, metric='ROC',\n",
      "                    monitor='val_loss', name='AggMap MultiClass Estimator',\n",
      "                    patience=10000, random_state=32, verbose=0)\n"
     ]
    },
    {
     "name": "stderr",
     "output_type": "stream",
     "text": [
      "100%|##########| 289/289 [00:00<00:00, 1444.98it/s]\n",
      "100%|##########| 73/73 [00:00<00:00, 1371.47it/s]\n"
     ]
    },
    {
     "name": "stdout",
     "output_type": "stream",
     "text": [
      "\n",
      " input train and test X shape is (289, 10, 9, 5), (73, 10, 9, 5) \n",
      "MultiClassEstimator(batch_size=128, conv1_kernel_size=11, dense_avf='relu',\n",
      "                    dense_layers=[128], epochs=200, lr=0.0001, metric='ROC',\n",
      "                    monitor='val_loss', name='AggMap MultiClass Estimator',\n",
      "                    patience=10000, random_state=32, verbose=0)\n"
     ]
    },
    {
     "name": "stderr",
     "output_type": "stream",
     "text": [
      "100%|##########| 290/290 [00:00<00:00, 2515.68it/s]\n",
      "100%|##########| 72/72 [00:00<00:00, 2955.30it/s]\n"
     ]
    },
    {
     "name": "stdout",
     "output_type": "stream",
     "text": [
      "\n",
      " input train and test X shape is (290, 10, 9, 5), (72, 10, 9, 5) \n",
      "MultiClassEstimator(batch_size=128, conv1_kernel_size=11, dense_avf='relu',\n",
      "                    dense_layers=[128], epochs=200, lr=0.0001, metric='ROC',\n",
      "                    monitor='val_loss', name='AggMap MultiClass Estimator',\n",
      "                    patience=10000, random_state=32, verbose=0)\n"
     ]
    },
    {
     "name": "stderr",
     "output_type": "stream",
     "text": [
      "100%|##########| 290/290 [00:00<00:00, 1435.71it/s]\n",
      "100%|##########| 72/72 [00:00<00:00, 1256.04it/s]\n"
     ]
    },
    {
     "name": "stdout",
     "output_type": "stream",
     "text": [
      "\n",
      " input train and test X shape is (290, 10, 9, 5), (72, 10, 9, 5) \n",
      "MultiClassEstimator(batch_size=128, conv1_kernel_size=11, dense_avf='relu',\n",
      "                    dense_layers=[128], epochs=200, lr=0.0001, metric='ROC',\n",
      "                    monitor='val_loss', name='AggMap MultiClass Estimator',\n",
      "                    patience=10000, random_state=32, verbose=0)\n"
     ]
    },
    {
     "name": "stderr",
     "output_type": "stream",
     "text": [
      "100%|##########| 290/290 [00:00<00:00, 1065.73it/s]\n",
      "100%|##########| 72/72 [00:00<00:00, 1601.73it/s]\n"
     ]
    },
    {
     "name": "stdout",
     "output_type": "stream",
     "text": [
      "\n",
      " input train and test X shape is (290, 10, 9, 5), (72, 10, 9, 5) \n",
      "MultiClassEstimator(batch_size=128, conv1_kernel_size=11, dense_avf='relu',\n",
      "                    dense_layers=[128], epochs=200, lr=0.0001, metric='ROC',\n",
      "                    monitor='val_loss', name='AggMap MultiClass Estimator',\n",
      "                    patience=10000, random_state=32, verbose=0)\n",
      "2020-08-17 11:45:53,619 - INFO - [bidd-aggmap] - applying hierarchical clustering to obtain group information ...\n",
      "2020-08-17 11:45:53,854 - INFO - [bidd-aggmap] - Applying grid feature map(assignment), this may take several minutes(1~30 min)\n",
      "2020-08-17 11:45:53,877 - INFO - [bidd-aggmap] - Finished\n"
     ]
    },
    {
     "name": "stderr",
     "output_type": "stream",
     "text": [
      "100%|##########| 289/289 [00:00<00:00, 2212.43it/s]\n",
      "100%|##########| 73/73 [00:00<00:00, 3797.63it/s]\n"
     ]
    },
    {
     "name": "stdout",
     "output_type": "stream",
     "text": [
      "\n",
      " input train and test X shape is (289, 10, 9, 1), (73, 10, 9, 1) \n",
      "MultiClassEstimator(batch_size=128, conv1_kernel_size=11, dense_avf='relu',\n",
      "                    dense_layers=[128], epochs=200, lr=0.0001, metric='ROC',\n",
      "                    monitor='val_loss', name='AggMap MultiClass Estimator',\n",
      "                    patience=10000, random_state=32, verbose=0)\n"
     ]
    },
    {
     "name": "stderr",
     "output_type": "stream",
     "text": [
      "100%|##########| 289/289 [00:00<00:00, 1509.60it/s]\n",
      "100%|##########| 73/73 [00:00<00:00, 978.44it/s]\n"
     ]
    },
    {
     "name": "stdout",
     "output_type": "stream",
     "text": [
      "\n",
      " input train and test X shape is (289, 10, 9, 1), (73, 10, 9, 1) \n",
      "MultiClassEstimator(batch_size=128, conv1_kernel_size=11, dense_avf='relu',\n",
      "                    dense_layers=[128], epochs=200, lr=0.0001, metric='ROC',\n",
      "                    monitor='val_loss', name='AggMap MultiClass Estimator',\n",
      "                    patience=10000, random_state=32, verbose=0)\n"
     ]
    },
    {
     "name": "stderr",
     "output_type": "stream",
     "text": [
      "100%|##########| 290/290 [00:00<00:00, 1519.66it/s]\n",
      "100%|##########| 72/72 [00:00<00:00, 1284.29it/s]\n"
     ]
    },
    {
     "name": "stdout",
     "output_type": "stream",
     "text": [
      "\n",
      " input train and test X shape is (290, 10, 9, 1), (72, 10, 9, 1) \n",
      "MultiClassEstimator(batch_size=128, conv1_kernel_size=11, dense_avf='relu',\n",
      "                    dense_layers=[128], epochs=200, lr=0.0001, metric='ROC',\n",
      "                    monitor='val_loss', name='AggMap MultiClass Estimator',\n",
      "                    patience=10000, random_state=32, verbose=0)\n"
     ]
    },
    {
     "name": "stderr",
     "output_type": "stream",
     "text": [
      "100%|##########| 290/290 [00:00<00:00, 1528.78it/s]\n",
      "100%|##########| 72/72 [00:00<00:00, 1075.99it/s]\n"
     ]
    },
    {
     "name": "stdout",
     "output_type": "stream",
     "text": [
      "\n",
      " input train and test X shape is (290, 10, 9, 1), (72, 10, 9, 1) \n",
      "MultiClassEstimator(batch_size=128, conv1_kernel_size=11, dense_avf='relu',\n",
      "                    dense_layers=[128], epochs=200, lr=0.0001, metric='ROC',\n",
      "                    monitor='val_loss', name='AggMap MultiClass Estimator',\n",
      "                    patience=10000, random_state=32, verbose=0)\n"
     ]
    },
    {
     "name": "stderr",
     "output_type": "stream",
     "text": [
      "100%|##########| 290/290 [00:00<00:00, 1834.94it/s]\n",
      "100%|##########| 72/72 [00:00<00:00, 928.50it/s]\n"
     ]
    },
    {
     "name": "stdout",
     "output_type": "stream",
     "text": [
      "\n",
      " input train and test X shape is (290, 10, 9, 1), (72, 10, 9, 1) \n",
      "MultiClassEstimator(batch_size=128, conv1_kernel_size=11, dense_avf='relu',\n",
      "                    dense_layers=[128], epochs=200, lr=0.0001, metric='ROC',\n",
      "                    monitor='val_loss', name='AggMap MultiClass Estimator',\n",
      "                    patience=10000, random_state=32, verbose=0)\n",
      "2020-08-17 11:48:40,902 - INFO - [bidd-aggmap] - applying hierarchical clustering to obtain group information ...\n",
      "2020-08-17 11:48:41,110 - INFO - [bidd-aggmap] - Applying grid feature map(assignment), this may take several minutes(1~30 min)\n",
      "2020-08-17 11:48:41,123 - INFO - [bidd-aggmap] - Finished\n"
     ]
    },
    {
     "name": "stderr",
     "output_type": "stream",
     "text": [
      "100%|##########| 289/289 [00:00<00:00, 2763.15it/s]\n",
      "100%|##########| 73/73 [00:00<00:00, 4304.51it/s]\n"
     ]
    },
    {
     "name": "stdout",
     "output_type": "stream",
     "text": [
      "\n",
      " input train and test X shape is (289, 10, 9, 3), (73, 10, 9, 3) \n",
      "MultiClassEstimator(batch_size=128, conv1_kernel_size=11, dense_avf='relu',\n",
      "                    dense_layers=[128], epochs=200, lr=0.0001, metric='ROC',\n",
      "                    monitor='val_loss', name='AggMap MultiClass Estimator',\n",
      "                    patience=10000, random_state=32, verbose=0)\n"
     ]
    },
    {
     "name": "stderr",
     "output_type": "stream",
     "text": [
      "100%|##########| 289/289 [00:00<00:00, 2941.89it/s]\n",
      "100%|##########| 73/73 [00:00<00:00, 3382.80it/s]\n"
     ]
    },
    {
     "name": "stdout",
     "output_type": "stream",
     "text": [
      "\n",
      " input train and test X shape is (289, 10, 9, 3), (73, 10, 9, 3) \n",
      "MultiClassEstimator(batch_size=128, conv1_kernel_size=11, dense_avf='relu',\n",
      "                    dense_layers=[128], epochs=200, lr=0.0001, metric='ROC',\n",
      "                    monitor='val_loss', name='AggMap MultiClass Estimator',\n",
      "                    patience=10000, random_state=32, verbose=0)\n"
     ]
    },
    {
     "name": "stderr",
     "output_type": "stream",
     "text": [
      "100%|##########| 290/290 [00:00<00:00, 2851.19it/s]\n",
      "100%|##########| 72/72 [00:00<00:00, 3631.91it/s]\n"
     ]
    },
    {
     "name": "stdout",
     "output_type": "stream",
     "text": [
      "\n",
      " input train and test X shape is (290, 10, 9, 3), (72, 10, 9, 3) \n",
      "MultiClassEstimator(batch_size=128, conv1_kernel_size=11, dense_avf='relu',\n",
      "                    dense_layers=[128], epochs=200, lr=0.0001, metric='ROC',\n",
      "                    monitor='val_loss', name='AggMap MultiClass Estimator',\n",
      "                    patience=10000, random_state=32, verbose=0)\n"
     ]
    },
    {
     "name": "stderr",
     "output_type": "stream",
     "text": [
      "100%|##########| 290/290 [00:00<00:00, 2909.94it/s]\n",
      "100%|##########| 72/72 [00:00<00:00, 4132.94it/s]\n"
     ]
    },
    {
     "name": "stdout",
     "output_type": "stream",
     "text": [
      "\n",
      " input train and test X shape is (290, 10, 9, 3), (72, 10, 9, 3) \n",
      "MultiClassEstimator(batch_size=128, conv1_kernel_size=11, dense_avf='relu',\n",
      "                    dense_layers=[128], epochs=200, lr=0.0001, metric='ROC',\n",
      "                    monitor='val_loss', name='AggMap MultiClass Estimator',\n",
      "                    patience=10000, random_state=32, verbose=0)\n"
     ]
    },
    {
     "name": "stderr",
     "output_type": "stream",
     "text": [
      "100%|##########| 290/290 [00:00<00:00, 2933.65it/s]\n",
      "100%|##########| 72/72 [00:00<00:00, 3846.27it/s]\n"
     ]
    },
    {
     "name": "stdout",
     "output_type": "stream",
     "text": [
      "\n",
      " input train and test X shape is (290, 10, 9, 3), (72, 10, 9, 3) \n",
      "MultiClassEstimator(batch_size=128, conv1_kernel_size=11, dense_avf='relu',\n",
      "                    dense_layers=[128], epochs=200, lr=0.0001, metric='ROC',\n",
      "                    monitor='val_loss', name='AggMap MultiClass Estimator',\n",
      "                    patience=10000, random_state=32, verbose=0)\n",
      "2020-08-17 11:50:41,216 - INFO - [bidd-aggmap] - applying hierarchical clustering to obtain group information ...\n",
      "2020-08-17 11:50:41,426 - INFO - [bidd-aggmap] - Applying grid feature map(assignment), this may take several minutes(1~30 min)\n",
      "2020-08-17 11:50:41,443 - INFO - [bidd-aggmap] - Finished\n"
     ]
    },
    {
     "name": "stderr",
     "output_type": "stream",
     "text": [
      "100%|##########| 289/289 [00:00<00:00, 2952.75it/s]\n",
      "100%|##########| 73/73 [00:00<00:00, 3376.57it/s]\n"
     ]
    },
    {
     "name": "stdout",
     "output_type": "stream",
     "text": [
      "\n",
      " input train and test X shape is (289, 10, 9, 5), (73, 10, 9, 5) \n",
      "MultiClassEstimator(batch_size=128, conv1_kernel_size=11, dense_avf='relu',\n",
      "                    dense_layers=[128], epochs=200, lr=0.0001, metric='ROC',\n",
      "                    monitor='val_loss', name='AggMap MultiClass Estimator',\n",
      "                    patience=10000, random_state=32, verbose=0)\n"
     ]
    },
    {
     "name": "stderr",
     "output_type": "stream",
     "text": [
      "100%|##########| 289/289 [00:00<00:00, 2965.24it/s]\n",
      "100%|##########| 73/73 [00:00<00:00, 4353.16it/s]\n"
     ]
    },
    {
     "name": "stdout",
     "output_type": "stream",
     "text": [
      "\n",
      " input train and test X shape is (289, 10, 9, 5), (73, 10, 9, 5) \n",
      "MultiClassEstimator(batch_size=128, conv1_kernel_size=11, dense_avf='relu',\n",
      "                    dense_layers=[128], epochs=200, lr=0.0001, metric='ROC',\n",
      "                    monitor='val_loss', name='AggMap MultiClass Estimator',\n",
      "                    patience=10000, random_state=32, verbose=0)\n"
     ]
    },
    {
     "name": "stderr",
     "output_type": "stream",
     "text": [
      "100%|##########| 290/290 [00:00<00:00, 2710.27it/s]\n",
      "100%|##########| 72/72 [00:00<00:00, 3895.14it/s]\n"
     ]
    },
    {
     "name": "stdout",
     "output_type": "stream",
     "text": [
      "\n",
      " input train and test X shape is (290, 10, 9, 5), (72, 10, 9, 5) \n",
      "MultiClassEstimator(batch_size=128, conv1_kernel_size=11, dense_avf='relu',\n",
      "                    dense_layers=[128], epochs=200, lr=0.0001, metric='ROC',\n",
      "                    monitor='val_loss', name='AggMap MultiClass Estimator',\n",
      "                    patience=10000, random_state=32, verbose=0)\n"
     ]
    },
    {
     "name": "stderr",
     "output_type": "stream",
     "text": [
      "100%|##########| 290/290 [00:00<00:00, 2500.22it/s]\n",
      "100%|##########| 72/72 [00:00<00:00, 1605.03it/s]\n"
     ]
    },
    {
     "name": "stdout",
     "output_type": "stream",
     "text": [
      "\n",
      " input train and test X shape is (290, 10, 9, 5), (72, 10, 9, 5) \n",
      "MultiClassEstimator(batch_size=128, conv1_kernel_size=11, dense_avf='relu',\n",
      "                    dense_layers=[128], epochs=200, lr=0.0001, metric='ROC',\n",
      "                    monitor='val_loss', name='AggMap MultiClass Estimator',\n",
      "                    patience=10000, random_state=32, verbose=0)\n"
     ]
    },
    {
     "name": "stderr",
     "output_type": "stream",
     "text": [
      "100%|##########| 290/290 [00:00<00:00, 3152.48it/s]\n",
      "100%|##########| 72/72 [00:00<00:00, 4307.37it/s]\n"
     ]
    },
    {
     "name": "stdout",
     "output_type": "stream",
     "text": [
      "\n",
      " input train and test X shape is (290, 10, 9, 5), (72, 10, 9, 5) \n",
      "MultiClassEstimator(batch_size=128, conv1_kernel_size=11, dense_avf='relu',\n",
      "                    dense_layers=[128], epochs=200, lr=0.0001, metric='ROC',\n",
      "                    monitor='val_loss', name='AggMap MultiClass Estimator',\n",
      "                    patience=10000, random_state=32, verbose=0)\n"
     ]
    }
   ],
   "source": [
    "n_splits = 5 #5-fold reapeat 5 times\n",
    "\n",
    "run_all = []\n",
    "\n",
    "for repeat_seed in [8, 16, 32, 64, 128]: #5 repeats random seeds\n",
    "    outer = KFold(n_splits = n_splits, shuffle = True, random_state = repeat_seed)\n",
    "    outer_idx = list(outer.split(range(len(Y))))\n",
    "    \n",
    "    for c in [1, 3, 5]: \n",
    "        \n",
    "        mp = mp.fit(cluster_channels = c, verbose = 0)\n",
    "        for i, idx in enumerate(outer_idx):\n",
    "            \n",
    "            train_idx, valid_idx = idx\n",
    "            fold_num = \"fold_%s\" % str(i+1).zfill(2) \n",
    "            \n",
    "            validY = Y[valid_idx]\n",
    "            validx = X[valid_idx]\n",
    "\n",
    "            trainx = X[train_idx]\n",
    "            trainY = Y[train_idx]\n",
    "\n",
    "            trainX = mp.batch_transform(trainx, scale_method = 'standard')\n",
    "            validX = mp.batch_transform(validx, scale_method = 'standard')\n",
    "            print(\"\\n input train and test X shape is %s, %s \" % (trainX.shape,  validX.shape))\n",
    "            clf = AggModel.MultiClassEstimator(epochs = 200,  verbose = 0)\n",
    "            clf.fit(trainX, trainY, X_valid = validX, y_valid = validY)\n",
    "\n",
    "            history = clf.history.history\n",
    "            history['fold'] = fold_num\n",
    "            history['c'] = c\n",
    "            history['repeat_seed'] = repeat_seed\n",
    "            \n",
    "            run_all.append(history)"
   ]
  },
  {
   "cell_type": "code",
   "execution_count": 179,
   "metadata": {},
   "outputs": [],
   "source": [
    "dfr = pd.DataFrame(run_all)\n",
    "dfr.to_csv('./5FCV_valid.csv')"
   ]
  },
  {
   "cell_type": "code",
   "execution_count": 154,
   "metadata": {},
   "outputs": [],
   "source": [
    "sns.set(style = 'white', font_scale=1.2)"
   ]
  },
  {
   "cell_type": "code",
   "execution_count": 178,
   "metadata": {},
   "outputs": [
    {
     "data": {
      "image/png": "[encoded data removed]",
      "text/plain": [
       "<Figure size 1296x432 with 2 Axes>"
      ]
     },
     "metadata": {},
     "output_type": "display_data"
    }
   ],
   "source": [
    "fig, axes = plt.subplots(nrows=1, ncols=2, figsize=(18,6), sharex=False, sharey=False, )\n",
    "ax1, ax2 = axes        \n",
    "\n",
    "\n",
    "col = 'val_loss'\n",
    "loss_mean = dfr.groupby(['c']).agg({col: lambda x:x.tolist()})[col].apply(lambda x: np.array(x).mean(axis=0)).apply(pd.Series).T\n",
    "loss_std = dfr.groupby(['c']).agg({col: lambda x:x.tolist()})[col].apply(lambda x: np.array(x).std(axis=0)).apply(pd.Series).T\n",
    "loss_mean.plot(ax=ax1, lw = 3, color = color)\n",
    "ax1.set_ylabel('Validate loss')\n",
    "ax1.set_xlabel('Epochs')\n",
    "\n",
    "# for i, j in zip(loss_mean.columns, color[:3]):\n",
    "#     bottom = loss_mean[i]-loss_std[i]\n",
    "#     up = loss_mean[i] + loss_std[i]\n",
    "#     ax1.fill_between(loss_mean.index, bottom, up,alpha=0.2, color = j)\n",
    "\n",
    "#plt.savefig(os.path.join(results_save_folder, 'performance_01_test.png'), bbox_inches='tight', dpi=300)\n",
    "\n",
    "col = 'val_accuracy'\n",
    "acc_mean = dfr.groupby(['c']).agg({col: lambda x:x.tolist()})[col].apply(lambda x: np.array(x).mean(axis=0)).apply(pd.Series).T\n",
    "acc_std = dfr.groupby(['c']).agg({col: lambda x:x.tolist()})[col].apply(lambda x: np.array(x).std(axis=0)).apply(pd.Series).T\n",
    "acc_mean.plot(ax=ax2, lw = 3, color = color)\n",
    "ax2.set_ylabel('Validate accuracy')\n",
    "ax2.set_xlabel('Epochs')\n",
    "\n",
    "plt.savefig('5FCV_valid.png', bbox_inches='tight', dpi=300)"
   ]
  },
  {
   "cell_type": "code",
   "execution_count": null,
   "metadata": {},
   "outputs": [],
   "source": []
  },
  {
   "cell_type": "code",
   "execution_count": null,
   "metadata": {},
   "outputs": [],
   "source": []
  },
  {
   "cell_type": "code",
   "execution_count": null,
   "metadata": {},
   "outputs": [],
   "source": []
  },
  {
   "cell_type": "code",
   "execution_count": null,
   "metadata": {},
   "outputs": [],
   "source": []
  }
 ],
 "metadata": {
  "kernelspec": {
   "display_name": "Python 3",
   "language": "python",
   "name": "python3"
  },
  "language_info": {
   "codemirror_mode": {
    "name": "ipython",
    "version": 3
   },
   "file_extension": ".py",
   "mimetype": "text/x-python",
   "name": "python",
   "nbconvert_exporter": "python",
   "pygments_lexer": "ipython3",
   "version": "3.7.6"
  }
 },
 "nbformat": 4,
 "nbformat_minor": 4
}
