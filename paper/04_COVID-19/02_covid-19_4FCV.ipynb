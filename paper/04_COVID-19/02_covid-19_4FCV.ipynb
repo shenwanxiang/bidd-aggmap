{
 "cells": [
  {
   "cell_type": "code",
   "execution_count": 1,
   "metadata": {},
   "outputs": [],
   "source": [
    "# -*- coding: utf-8 -*-\n",
    "\"\"\"\n",
    "Created on Sun Aug 16 17:10:53 2020\n",
    "\n",
    "@author: wanxiang.shen@u.nus.edu\n",
    "\"\"\"\n",
    "\n",
    "import warnings\n",
    "warnings.filterwarnings(\"ignore\")\n",
    "\n",
    "\n",
    "import pandas as pd\n",
    "import numpy as np\n",
    "\n",
    "from sklearn.model_selection import KFold, StratifiedKFold\n",
    "from sklearn.metrics import confusion_matrix, precision_recall_curve, roc_auc_score\n",
    "from sklearn.metrics import auc as calculate_auc\n",
    "\n",
    "import matplotlib.pyplot as plt\n",
    "import seaborn as sns\n",
    "\n",
    "from aggmap import AggMap, AggModel\n",
    "\n",
    "np.random.seed(666) #just for reaptable results\n",
    "\n",
    "def prc_auc_score(y_true, y_score):\n",
    "    precision, recall, threshold  = precision_recall_curve(y_true, y_score) #PRC_AUC\n",
    "    auc = calculate_auc(recall, precision)\n",
    "    return auc"
   ]
  },
  {
   "cell_type": "code",
   "execution_count": 2,
   "metadata": {},
   "outputs": [
    {
     "name": "stdout",
     "output_type": "stream",
     "text": [
      "2020-08-18 14:10:42,726 - INFO - [bidd-aggmap] - Calculating distance ...\n",
      "2020-08-18 14:10:42,734 - INFO - [bidd-aggmap] - the number of process is 16\n"
     ]
    },
    {
     "name": "stderr",
     "output_type": "stream",
     "text": [
      "100%|##########| 3828/3828 [00:02<00:00, 1362.76it/s]\n",
      "100%|##########| 3828/3828 [00:00<00:00, 1217270.33it/s]\n",
      "100%|##########| 88/88 [00:00<00:00, 1031.89it/s]\n"
     ]
    },
    {
     "name": "stdout",
     "output_type": "stream",
     "text": [
      "2020-08-18 14:10:46,009 - INFO - [bidd-aggmap] - applying hierarchical clustering to obtain group information ...\n",
      "2020-08-18 14:10:51,376 - INFO - [bidd-aggmap] - Applying grid feature map(assignment), this may take several minutes(1~30 min)\n",
      "2020-08-18 14:10:51,406 - INFO - [bidd-aggmap] - Finished\n"
     ]
    },
    {
     "data": {
      "text/plain": [
       "<aggmap.map.AggMap at 0x7f46b665d290>"
      ]
     },
     "execution_count": 2,
     "metadata": {},
     "output_type": "execute_result"
    }
   ],
   "source": [
    "dfx  = pd.read_excel('./COVID19.xlsx', sheet_name='data')\n",
    "dfy  = pd.read_excel('./COVID19.xlsx', sheet_name='sample_info')\n",
    "\n",
    "dfx = dfx[dfx.columns[1:]]\n",
    "cols = [\"p-%s\" % c for c in dfx.columns]\n",
    "dfx.columns = cols\n",
    "\n",
    "X = dfx.values\n",
    "Y = pd.get_dummies(dfy['class']).values.astype(float)\n",
    "\n",
    "mp = AggMap(dfx, metric = 'correlation')\n",
    "mp.fit(cluster_channels = 5, verbose = 0)"
   ]
  },
  {
   "cell_type": "markdown",
   "metadata": {},
   "source": [
    "## 4-fold cross validation and repeat 5 times "
   ]
  },
  {
   "cell_type": "code",
   "execution_count": 3,
   "metadata": {},
   "outputs": [
    {
     "name": "stderr",
     "output_type": "stream",
     "text": [
      "100%|##########| 271/271 [00:05<00:00, 51.41it/s]\n",
      "100%|##########| 91/91 [00:00<00:00, 979.53it/s]\n"
     ]
    },
    {
     "name": "stdout",
     "output_type": "stream",
     "text": [
      "\n",
      " input train and test X shape is (271, 10, 9, 5), (91, 10, 9, 5) \n",
      "MultiClassEstimator(batch_size=128, conv1_kernel_size=11, dense_avf='relu',\n",
      "                    dense_layers=[128], epochs=100, lr=0.0001, metric='ROC',\n",
      "                    monitor='val_loss', name='AggMap MultiClass Estimator',\n",
      "                    patience=10000, random_state=32, verbose=0)\n"
     ]
    },
    {
     "name": "stderr",
     "output_type": "stream",
     "text": [
      "100%|##########| 271/271 [00:00<00:00, 784.95it/s]\n",
      "100%|##########| 91/91 [00:00<00:00, 1075.71it/s]\n"
     ]
    },
    {
     "name": "stdout",
     "output_type": "stream",
     "text": [
      "\n",
      " input train and test X shape is (271, 10, 9, 5), (91, 10, 9, 5) \n",
      "MultiClassEstimator(batch_size=128, conv1_kernel_size=11, dense_avf='relu',\n",
      "                    dense_layers=[128], epochs=100, lr=0.0001, metric='ROC',\n",
      "                    monitor='val_loss', name='AggMap MultiClass Estimator',\n",
      "                    patience=10000, random_state=32, verbose=0)\n"
     ]
    },
    {
     "name": "stderr",
     "output_type": "stream",
     "text": [
      "100%|##########| 272/272 [00:00<00:00, 1033.77it/s]\n",
      "100%|##########| 90/90 [00:00<00:00, 1182.65it/s]\n"
     ]
    },
    {
     "name": "stdout",
     "output_type": "stream",
     "text": [
      "\n",
      " input train and test X shape is (272, 10, 9, 5), (90, 10, 9, 5) \n",
      "MultiClassEstimator(batch_size=128, conv1_kernel_size=11, dense_avf='relu',\n",
      "                    dense_layers=[128], epochs=100, lr=0.0001, metric='ROC',\n",
      "                    monitor='val_loss', name='AggMap MultiClass Estimator',\n",
      "                    patience=10000, random_state=32, verbose=0)\n"
     ]
    },
    {
     "name": "stderr",
     "output_type": "stream",
     "text": [
      "100%|##########| 272/272 [00:00<00:00, 595.22it/s] \n",
      "100%|##########| 90/90 [00:00<00:00, 813.79it/s]\n"
     ]
    },
    {
     "name": "stdout",
     "output_type": "stream",
     "text": [
      "\n",
      " input train and test X shape is (272, 10, 9, 5), (90, 10, 9, 5) \n",
      "MultiClassEstimator(batch_size=128, conv1_kernel_size=11, dense_avf='relu',\n",
      "                    dense_layers=[128], epochs=100, lr=0.0001, metric='ROC',\n",
      "                    monitor='val_loss', name='AggMap MultiClass Estimator',\n",
      "                    patience=10000, random_state=32, verbose=0)\n"
     ]
    },
    {
     "name": "stderr",
     "output_type": "stream",
     "text": [
      "100%|##########| 271/271 [00:00<00:00, 1265.77it/s]\n",
      "100%|##########| 91/91 [00:00<00:00, 1271.46it/s]\n"
     ]
    },
    {
     "name": "stdout",
     "output_type": "stream",
     "text": [
      "\n",
      " input train and test X shape is (271, 10, 9, 5), (91, 10, 9, 5) \n",
      "MultiClassEstimator(batch_size=128, conv1_kernel_size=11, dense_avf='relu',\n",
      "                    dense_layers=[128], epochs=100, lr=0.0001, metric='ROC',\n",
      "                    monitor='val_loss', name='AggMap MultiClass Estimator',\n",
      "                    patience=10000, random_state=32, verbose=0)\n"
     ]
    },
    {
     "name": "stderr",
     "output_type": "stream",
     "text": [
      "100%|##########| 271/271 [00:00<00:00, 1171.60it/s]\n",
      "100%|##########| 91/91 [00:00<00:00, 1001.49it/s]\n"
     ]
    },
    {
     "name": "stdout",
     "output_type": "stream",
     "text": [
      "\n",
      " input train and test X shape is (271, 10, 9, 5), (91, 10, 9, 5) \n",
      "MultiClassEstimator(batch_size=128, conv1_kernel_size=11, dense_avf='relu',\n",
      "                    dense_layers=[128], epochs=100, lr=0.0001, metric='ROC',\n",
      "                    monitor='val_loss', name='AggMap MultiClass Estimator',\n",
      "                    patience=10000, random_state=32, verbose=0)\n"
     ]
    },
    {
     "name": "stderr",
     "output_type": "stream",
     "text": [
      "100%|##########| 272/272 [00:00<00:00, 1017.59it/s]\n",
      "100%|##########| 90/90 [00:00<00:00, 930.37it/s]\n"
     ]
    },
    {
     "name": "stdout",
     "output_type": "stream",
     "text": [
      "\n",
      " input train and test X shape is (272, 10, 9, 5), (90, 10, 9, 5) \n",
      "MultiClassEstimator(batch_size=128, conv1_kernel_size=11, dense_avf='relu',\n",
      "                    dense_layers=[128], epochs=100, lr=0.0001, metric='ROC',\n",
      "                    monitor='val_loss', name='AggMap MultiClass Estimator',\n",
      "                    patience=10000, random_state=32, verbose=0)\n"
     ]
    },
    {
     "name": "stderr",
     "output_type": "stream",
     "text": [
      "100%|##########| 272/272 [00:00<00:00, 1384.33it/s]\n",
      "100%|##########| 90/90 [00:00<00:00, 1102.71it/s]\n"
     ]
    },
    {
     "name": "stdout",
     "output_type": "stream",
     "text": [
      "\n",
      " input train and test X shape is (272, 10, 9, 5), (90, 10, 9, 5) \n",
      "MultiClassEstimator(batch_size=128, conv1_kernel_size=11, dense_avf='relu',\n",
      "                    dense_layers=[128], epochs=100, lr=0.0001, metric='ROC',\n",
      "                    monitor='val_loss', name='AggMap MultiClass Estimator',\n",
      "                    patience=10000, random_state=32, verbose=0)\n"
     ]
    },
    {
     "name": "stderr",
     "output_type": "stream",
     "text": [
      "100%|##########| 271/271 [00:00<00:00, 1142.92it/s]\n",
      "100%|##########| 91/91 [00:00<00:00, 1176.11it/s]\n"
     ]
    },
    {
     "name": "stdout",
     "output_type": "stream",
     "text": [
      "\n",
      " input train and test X shape is (271, 10, 9, 5), (91, 10, 9, 5) \n",
      "MultiClassEstimator(batch_size=128, conv1_kernel_size=11, dense_avf='relu',\n",
      "                    dense_layers=[128], epochs=100, lr=0.0001, metric='ROC',\n",
      "                    monitor='val_loss', name='AggMap MultiClass Estimator',\n",
      "                    patience=10000, random_state=32, verbose=0)\n"
     ]
    },
    {
     "name": "stderr",
     "output_type": "stream",
     "text": [
      "100%|##########| 271/271 [00:00<00:00, 1299.00it/s]\n",
      "100%|##########| 91/91 [00:00<00:00, 1652.30it/s]\n"
     ]
    },
    {
     "name": "stdout",
     "output_type": "stream",
     "text": [
      "\n",
      " input train and test X shape is (271, 10, 9, 5), (91, 10, 9, 5) \n",
      "MultiClassEstimator(batch_size=128, conv1_kernel_size=11, dense_avf='relu',\n",
      "                    dense_layers=[128], epochs=100, lr=0.0001, metric='ROC',\n",
      "                    monitor='val_loss', name='AggMap MultiClass Estimator',\n",
      "                    patience=10000, random_state=32, verbose=0)\n"
     ]
    },
    {
     "name": "stderr",
     "output_type": "stream",
     "text": [
      "100%|##########| 272/272 [00:00<00:00, 1016.68it/s]\n",
      "100%|##########| 90/90 [00:00<00:00, 990.59it/s]\n"
     ]
    },
    {
     "name": "stdout",
     "output_type": "stream",
     "text": [
      "\n",
      " input train and test X shape is (272, 10, 9, 5), (90, 10, 9, 5) \n",
      "MultiClassEstimator(batch_size=128, conv1_kernel_size=11, dense_avf='relu',\n",
      "                    dense_layers=[128], epochs=100, lr=0.0001, metric='ROC',\n",
      "                    monitor='val_loss', name='AggMap MultiClass Estimator',\n",
      "                    patience=10000, random_state=32, verbose=0)\n"
     ]
    },
    {
     "name": "stderr",
     "output_type": "stream",
     "text": [
      "100%|##########| 272/272 [00:00<00:00, 1091.68it/s]\n",
      "100%|##########| 90/90 [00:00<00:00, 991.72it/s]\n"
     ]
    },
    {
     "name": "stdout",
     "output_type": "stream",
     "text": [
      "\n",
      " input train and test X shape is (272, 10, 9, 5), (90, 10, 9, 5) \n",
      "MultiClassEstimator(batch_size=128, conv1_kernel_size=11, dense_avf='relu',\n",
      "                    dense_layers=[128], epochs=100, lr=0.0001, metric='ROC',\n",
      "                    monitor='val_loss', name='AggMap MultiClass Estimator',\n",
      "                    patience=10000, random_state=32, verbose=0)\n"
     ]
    },
    {
     "name": "stderr",
     "output_type": "stream",
     "text": [
      "100%|##########| 271/271 [00:00<00:00, 1153.12it/s]\n",
      "100%|##########| 91/91 [00:00<00:00, 776.18it/s]\n"
     ]
    },
    {
     "name": "stdout",
     "output_type": "stream",
     "text": [
      "\n",
      " input train and test X shape is (271, 10, 9, 5), (91, 10, 9, 5) \n",
      "MultiClassEstimator(batch_size=128, conv1_kernel_size=11, dense_avf='relu',\n",
      "                    dense_layers=[128], epochs=100, lr=0.0001, metric='ROC',\n",
      "                    monitor='val_loss', name='AggMap MultiClass Estimator',\n",
      "                    patience=10000, random_state=32, verbose=0)\n"
     ]
    },
    {
     "name": "stderr",
     "output_type": "stream",
     "text": [
      "100%|##########| 271/271 [00:00<00:00, 1245.54it/s]\n",
      "100%|##########| 91/91 [00:00<00:00, 1058.30it/s]\n"
     ]
    },
    {
     "name": "stdout",
     "output_type": "stream",
     "text": [
      "\n",
      " input train and test X shape is (271, 10, 9, 5), (91, 10, 9, 5) \n",
      "MultiClassEstimator(batch_size=128, conv1_kernel_size=11, dense_avf='relu',\n",
      "                    dense_layers=[128], epochs=100, lr=0.0001, metric='ROC',\n",
      "                    monitor='val_loss', name='AggMap MultiClass Estimator',\n",
      "                    patience=10000, random_state=32, verbose=0)\n"
     ]
    },
    {
     "name": "stderr",
     "output_type": "stream",
     "text": [
      "100%|##########| 272/272 [00:00<00:00, 1301.00it/s]\n",
      "100%|##########| 90/90 [00:00<00:00, 546.83it/s]\n"
     ]
    },
    {
     "name": "stdout",
     "output_type": "stream",
     "text": [
      "\n",
      " input train and test X shape is (272, 10, 9, 5), (90, 10, 9, 5) \n",
      "MultiClassEstimator(batch_size=128, conv1_kernel_size=11, dense_avf='relu',\n",
      "                    dense_layers=[128], epochs=100, lr=0.0001, metric='ROC',\n",
      "                    monitor='val_loss', name='AggMap MultiClass Estimator',\n",
      "                    patience=10000, random_state=32, verbose=0)\n"
     ]
    },
    {
     "name": "stderr",
     "output_type": "stream",
     "text": [
      "100%|##########| 272/272 [00:00<00:00, 782.08it/s] \n",
      "100%|##########| 90/90 [00:00<00:00, 1204.20it/s]\n"
     ]
    },
    {
     "name": "stdout",
     "output_type": "stream",
     "text": [
      "\n",
      " input train and test X shape is (272, 10, 9, 5), (90, 10, 9, 5) \n",
      "MultiClassEstimator(batch_size=128, conv1_kernel_size=11, dense_avf='relu',\n",
      "                    dense_layers=[128], epochs=100, lr=0.0001, metric='ROC',\n",
      "                    monitor='val_loss', name='AggMap MultiClass Estimator',\n",
      "                    patience=10000, random_state=32, verbose=0)\n"
     ]
    },
    {
     "name": "stderr",
     "output_type": "stream",
     "text": [
      "100%|##########| 271/271 [00:00<00:00, 1247.27it/s]\n",
      "100%|##########| 91/91 [00:00<00:00, 1206.96it/s]\n"
     ]
    },
    {
     "name": "stdout",
     "output_type": "stream",
     "text": [
      "\n",
      " input train and test X shape is (271, 10, 9, 5), (91, 10, 9, 5) \n",
      "MultiClassEstimator(batch_size=128, conv1_kernel_size=11, dense_avf='relu',\n",
      "                    dense_layers=[128], epochs=100, lr=0.0001, metric='ROC',\n",
      "                    monitor='val_loss', name='AggMap MultiClass Estimator',\n",
      "                    patience=10000, random_state=32, verbose=0)\n"
     ]
    },
    {
     "name": "stderr",
     "output_type": "stream",
     "text": [
      "100%|##########| 271/271 [00:00<00:00, 1014.71it/s]\n",
      "100%|##########| 91/91 [00:00<00:00, 1077.83it/s]\n"
     ]
    },
    {
     "name": "stdout",
     "output_type": "stream",
     "text": [
      "\n",
      " input train and test X shape is (271, 10, 9, 5), (91, 10, 9, 5) \n",
      "MultiClassEstimator(batch_size=128, conv1_kernel_size=11, dense_avf='relu',\n",
      "                    dense_layers=[128], epochs=100, lr=0.0001, metric='ROC',\n",
      "                    monitor='val_loss', name='AggMap MultiClass Estimator',\n",
      "                    patience=10000, random_state=32, verbose=0)\n"
     ]
    },
    {
     "name": "stderr",
     "output_type": "stream",
     "text": [
      "100%|##########| 272/272 [00:00<00:00, 765.03it/s]\n",
      "100%|##########| 90/90 [00:00<00:00, 958.79it/s]\n"
     ]
    },
    {
     "name": "stdout",
     "output_type": "stream",
     "text": [
      "\n",
      " input train and test X shape is (272, 10, 9, 5), (90, 10, 9, 5) \n",
      "MultiClassEstimator(batch_size=128, conv1_kernel_size=11, dense_avf='relu',\n",
      "                    dense_layers=[128], epochs=100, lr=0.0001, metric='ROC',\n",
      "                    monitor='val_loss', name='AggMap MultiClass Estimator',\n",
      "                    patience=10000, random_state=32, verbose=0)\n"
     ]
    },
    {
     "name": "stderr",
     "output_type": "stream",
     "text": [
      "100%|##########| 272/272 [00:00<00:00, 1024.81it/s]\n",
      "100%|##########| 90/90 [00:00<00:00, 958.51it/s]\n"
     ]
    },
    {
     "name": "stdout",
     "output_type": "stream",
     "text": [
      "\n",
      " input train and test X shape is (272, 10, 9, 5), (90, 10, 9, 5) \n",
      "MultiClassEstimator(batch_size=128, conv1_kernel_size=11, dense_avf='relu',\n",
      "                    dense_layers=[128], epochs=100, lr=0.0001, metric='ROC',\n",
      "                    monitor='val_loss', name='AggMap MultiClass Estimator',\n",
      "                    patience=10000, random_state=32, verbose=0)\n"
     ]
    }
   ],
   "source": [
    "outer_fold = 4\n",
    "\n",
    "run_all = []\n",
    "for repeat_seed in [8, 16, 32, 64, 128]: #5 repeats random seeds\n",
    "    \n",
    "    outer = KFold(n_splits = outer_fold, shuffle = True, random_state = repeat_seed)\n",
    "    outer_idx = outer.split(range(len(Y)), Y[:,0])\n",
    "\n",
    "    for i, idx in enumerate(outer_idx):\n",
    "        \n",
    "        fold_num = \"fold_%s\" % str(i).zfill(2) \n",
    "        \n",
    "        train_idx, test_idx = idx\n",
    "        \n",
    "        testY = Y[test_idx]\n",
    "        testx = X[test_idx]\n",
    "        \n",
    "        trainx = X[train_idx]\n",
    "        trainY = Y[train_idx]\n",
    "\n",
    "        trainX = mp.batch_transform(trainx, scale_method = 'standard')\n",
    "        testX = mp.batch_transform(testx, scale_method = 'standard')\n",
    "        \n",
    "        print(\"\\n input train and test X shape is %s, %s \" % (trainX.shape,  testX.shape))\n",
    "        \n",
    "        clf = AggModel.MultiClassEstimator(epochs = 100,  verbose = 0)\n",
    "        clf.fit(trainX, trainY)\n",
    "\n",
    "        y_true = testY[:,0]\n",
    "        y_pred = clf.predict(testX)[:,0]\n",
    "        y_score = clf.predict_proba(testX)[:,0]\n",
    "\n",
    "        tn, fp, fn, tp = confusion_matrix(y_true, y_pred).ravel()\n",
    "        \n",
    "        acc = (tp + tn) / sum([tn, fp, fn, tp])\n",
    "        \n",
    "        sensitivity = tp / sum([tp, fn])\n",
    "        specificity = tn / sum([tn, fp])\n",
    "        \n",
    "        prc_auc = prc_auc_score(y_true, y_score)\n",
    "        roc_auc = roc_auc_score(y_true, y_score)\n",
    "        \n",
    "        precision = tp / sum([tp, fp])\n",
    "        recall =  tp / sum([tp, fn]) #equals to sensitivity\n",
    "        \n",
    "        \n",
    "        res = {'fold': fold_num,\n",
    "               'repeat_seed':repeat_seed,\n",
    "               \n",
    "               'accuracy':acc, \n",
    "               \n",
    "               'prc_auc':prc_auc, \n",
    "               'roc_auc':roc_auc,\n",
    "\n",
    "               'sensitivity': sensitivity, \n",
    "               'specificity': specificity,\n",
    "               \n",
    "               'precision':precision,\n",
    "               'recall':recall,\n",
    "              }\n",
    "        \n",
    "        run_all.append(res)"
   ]
  },
  {
   "cell_type": "code",
   "execution_count": 4,
   "metadata": {},
   "outputs": [
    {
     "data": {
      "text/plain": [
       "323138"
      ]
     },
     "execution_count": 4,
     "metadata": {},
     "output_type": "execute_result"
    }
   ],
   "source": [
    "clf._model.count_params()"
   ]
  },
  {
   "cell_type": "code",
   "execution_count": 6,
   "metadata": {},
   "outputs": [
    {
     "data": {
      "text/html": [
       "<div>\n",
       "<style scoped>\n",
       "    .dataframe tbody tr th:only-of-type {\n",
       "        vertical-align: middle;\n",
       "    }\n",
       "\n",
       "    .dataframe tbody tr th {\n",
       "        vertical-align: top;\n",
       "    }\n",
       "\n",
       "    .dataframe thead th {\n",
       "        text-align: right;\n",
       "    }\n",
       "</style>\n",
       "<table border=\"1\" class=\"dataframe\">\n",
       "  <thead>\n",
       "    <tr style=\"text-align: right;\">\n",
       "      <th></th>\n",
       "      <th>fold</th>\n",
       "      <th>repeat_seed</th>\n",
       "      <th>accuracy</th>\n",
       "      <th>prc_auc</th>\n",
       "      <th>roc_auc</th>\n",
       "      <th>sensitivity</th>\n",
       "      <th>specificity</th>\n",
       "      <th>precision</th>\n",
       "      <th>recall</th>\n",
       "    </tr>\n",
       "  </thead>\n",
       "  <tbody>\n",
       "    <tr>\n",
       "      <td>0</td>\n",
       "      <td>fold_00</td>\n",
       "      <td>8</td>\n",
       "      <td>0.934066</td>\n",
       "      <td>0.993149</td>\n",
       "      <td>0.990138</td>\n",
       "      <td>0.961538</td>\n",
       "      <td>0.897436</td>\n",
       "      <td>0.925926</td>\n",
       "      <td>0.961538</td>\n",
       "    </tr>\n",
       "    <tr>\n",
       "      <td>1</td>\n",
       "      <td>fold_01</td>\n",
       "      <td>8</td>\n",
       "      <td>0.934066</td>\n",
       "      <td>0.990188</td>\n",
       "      <td>0.983488</td>\n",
       "      <td>0.929825</td>\n",
       "      <td>0.941176</td>\n",
       "      <td>0.963636</td>\n",
       "      <td>0.929825</td>\n",
       "    </tr>\n",
       "    <tr>\n",
       "      <td>2</td>\n",
       "      <td>fold_02</td>\n",
       "      <td>8</td>\n",
       "      <td>0.900000</td>\n",
       "      <td>0.970073</td>\n",
       "      <td>0.969877</td>\n",
       "      <td>0.933333</td>\n",
       "      <td>0.866667</td>\n",
       "      <td>0.875000</td>\n",
       "      <td>0.933333</td>\n",
       "    </tr>\n",
       "    <tr>\n",
       "      <td>3</td>\n",
       "      <td>fold_03</td>\n",
       "      <td>8</td>\n",
       "      <td>0.977778</td>\n",
       "      <td>0.994337</td>\n",
       "      <td>0.991494</td>\n",
       "      <td>0.982456</td>\n",
       "      <td>0.969697</td>\n",
       "      <td>0.982456</td>\n",
       "      <td>0.982456</td>\n",
       "    </tr>\n",
       "    <tr>\n",
       "      <td>4</td>\n",
       "      <td>fold_00</td>\n",
       "      <td>16</td>\n",
       "      <td>0.967033</td>\n",
       "      <td>0.996818</td>\n",
       "      <td>0.994388</td>\n",
       "      <td>0.946429</td>\n",
       "      <td>1.000000</td>\n",
       "      <td>1.000000</td>\n",
       "      <td>0.946429</td>\n",
       "    </tr>\n",
       "    <tr>\n",
       "      <td>5</td>\n",
       "      <td>fold_01</td>\n",
       "      <td>16</td>\n",
       "      <td>0.956044</td>\n",
       "      <td>0.991180</td>\n",
       "      <td>0.985036</td>\n",
       "      <td>0.964912</td>\n",
       "      <td>0.941176</td>\n",
       "      <td>0.964912</td>\n",
       "      <td>0.964912</td>\n",
       "    </tr>\n",
       "    <tr>\n",
       "      <td>6</td>\n",
       "      <td>fold_02</td>\n",
       "      <td>16</td>\n",
       "      <td>0.944444</td>\n",
       "      <td>0.992035</td>\n",
       "      <td>0.990575</td>\n",
       "      <td>1.000000</td>\n",
       "      <td>0.880952</td>\n",
       "      <td>0.905660</td>\n",
       "      <td>1.000000</td>\n",
       "    </tr>\n",
       "    <tr>\n",
       "      <td>7</td>\n",
       "      <td>fold_03</td>\n",
       "      <td>16</td>\n",
       "      <td>0.933333</td>\n",
       "      <td>0.980059</td>\n",
       "      <td>0.980000</td>\n",
       "      <td>0.980000</td>\n",
       "      <td>0.875000</td>\n",
       "      <td>0.907407</td>\n",
       "      <td>0.980000</td>\n",
       "    </tr>\n",
       "    <tr>\n",
       "      <td>8</td>\n",
       "      <td>fold_00</td>\n",
       "      <td>32</td>\n",
       "      <td>0.890110</td>\n",
       "      <td>0.980737</td>\n",
       "      <td>0.966837</td>\n",
       "      <td>0.946429</td>\n",
       "      <td>0.800000</td>\n",
       "      <td>0.883333</td>\n",
       "      <td>0.946429</td>\n",
       "    </tr>\n",
       "    <tr>\n",
       "      <td>9</td>\n",
       "      <td>fold_01</td>\n",
       "      <td>32</td>\n",
       "      <td>0.912088</td>\n",
       "      <td>0.978132</td>\n",
       "      <td>0.975980</td>\n",
       "      <td>0.980392</td>\n",
       "      <td>0.825000</td>\n",
       "      <td>0.877193</td>\n",
       "      <td>0.980392</td>\n",
       "    </tr>\n",
       "    <tr>\n",
       "      <td>10</td>\n",
       "      <td>fold_02</td>\n",
       "      <td>32</td>\n",
       "      <td>0.966667</td>\n",
       "      <td>0.999660</td>\n",
       "      <td>0.999486</td>\n",
       "      <td>0.944444</td>\n",
       "      <td>1.000000</td>\n",
       "      <td>1.000000</td>\n",
       "      <td>0.944444</td>\n",
       "    </tr>\n",
       "    <tr>\n",
       "      <td>11</td>\n",
       "      <td>fold_03</td>\n",
       "      <td>32</td>\n",
       "      <td>0.955556</td>\n",
       "      <td>0.996207</td>\n",
       "      <td>0.995500</td>\n",
       "      <td>1.000000</td>\n",
       "      <td>0.900000</td>\n",
       "      <td>0.925926</td>\n",
       "      <td>1.000000</td>\n",
       "    </tr>\n",
       "    <tr>\n",
       "      <td>12</td>\n",
       "      <td>fold_00</td>\n",
       "      <td>64</td>\n",
       "      <td>0.934066</td>\n",
       "      <td>0.991691</td>\n",
       "      <td>0.987805</td>\n",
       "      <td>0.940000</td>\n",
       "      <td>0.926829</td>\n",
       "      <td>0.940000</td>\n",
       "      <td>0.940000</td>\n",
       "    </tr>\n",
       "    <tr>\n",
       "      <td>13</td>\n",
       "      <td>fold_01</td>\n",
       "      <td>64</td>\n",
       "      <td>0.901099</td>\n",
       "      <td>0.983058</td>\n",
       "      <td>0.970918</td>\n",
       "      <td>0.857143</td>\n",
       "      <td>0.971429</td>\n",
       "      <td>0.979592</td>\n",
       "      <td>0.857143</td>\n",
       "    </tr>\n",
       "    <tr>\n",
       "      <td>14</td>\n",
       "      <td>fold_02</td>\n",
       "      <td>64</td>\n",
       "      <td>0.944444</td>\n",
       "      <td>0.985310</td>\n",
       "      <td>0.984684</td>\n",
       "      <td>0.956522</td>\n",
       "      <td>0.931818</td>\n",
       "      <td>0.936170</td>\n",
       "      <td>0.956522</td>\n",
       "    </tr>\n",
       "    <tr>\n",
       "      <td>15</td>\n",
       "      <td>fold_03</td>\n",
       "      <td>64</td>\n",
       "      <td>0.944444</td>\n",
       "      <td>0.984299</td>\n",
       "      <td>0.974850</td>\n",
       "      <td>1.000000</td>\n",
       "      <td>0.838710</td>\n",
       "      <td>0.921875</td>\n",
       "      <td>1.000000</td>\n",
       "    </tr>\n",
       "    <tr>\n",
       "      <td>16</td>\n",
       "      <td>fold_00</td>\n",
       "      <td>128</td>\n",
       "      <td>0.934066</td>\n",
       "      <td>0.989008</td>\n",
       "      <td>0.983984</td>\n",
       "      <td>0.944444</td>\n",
       "      <td>0.918919</td>\n",
       "      <td>0.944444</td>\n",
       "      <td>0.944444</td>\n",
       "    </tr>\n",
       "    <tr>\n",
       "      <td>17</td>\n",
       "      <td>fold_01</td>\n",
       "      <td>128</td>\n",
       "      <td>0.945055</td>\n",
       "      <td>0.995412</td>\n",
       "      <td>0.994146</td>\n",
       "      <td>0.960000</td>\n",
       "      <td>0.926829</td>\n",
       "      <td>0.941176</td>\n",
       "      <td>0.960000</td>\n",
       "    </tr>\n",
       "    <tr>\n",
       "      <td>18</td>\n",
       "      <td>fold_02</td>\n",
       "      <td>128</td>\n",
       "      <td>0.933333</td>\n",
       "      <td>0.994881</td>\n",
       "      <td>0.992284</td>\n",
       "      <td>0.962963</td>\n",
       "      <td>0.888889</td>\n",
       "      <td>0.928571</td>\n",
       "      <td>0.962963</td>\n",
       "    </tr>\n",
       "    <tr>\n",
       "      <td>19</td>\n",
       "      <td>fold_03</td>\n",
       "      <td>128</td>\n",
       "      <td>0.944444</td>\n",
       "      <td>0.991763</td>\n",
       "      <td>0.986741</td>\n",
       "      <td>0.962264</td>\n",
       "      <td>0.918919</td>\n",
       "      <td>0.944444</td>\n",
       "      <td>0.962264</td>\n",
       "    </tr>\n",
       "  </tbody>\n",
       "</table>\n",
       "</div>"
      ],
      "text/plain": [
       "       fold  repeat_seed  accuracy   prc_auc   roc_auc  sensitivity  \\\n",
       "0   fold_00            8  0.934066  0.993149  0.990138     0.961538   \n",
       "1   fold_01            8  0.934066  0.990188  0.983488     0.929825   \n",
       "2   fold_02            8  0.900000  0.970073  0.969877     0.933333   \n",
       "3   fold_03            8  0.977778  0.994337  0.991494     0.982456   \n",
       "4   fold_00           16  0.967033  0.996818  0.994388     0.946429   \n",
       "5   fold_01           16  0.956044  0.991180  0.985036     0.964912   \n",
       "6   fold_02           16  0.944444  0.992035  0.990575     1.000000   \n",
       "7   fold_03           16  0.933333  0.980059  0.980000     0.980000   \n",
       "8   fold_00           32  0.890110  0.980737  0.966837     0.946429   \n",
       "9   fold_01           32  0.912088  0.978132  0.975980     0.980392   \n",
       "10  fold_02           32  0.966667  0.999660  0.999486     0.944444   \n",
       "11  fold_03           32  0.955556  0.996207  0.995500     1.000000   \n",
       "12  fold_00           64  0.934066  0.991691  0.987805     0.940000   \n",
       "13  fold_01           64  0.901099  0.983058  0.970918     0.857143   \n",
       "14  fold_02           64  0.944444  0.985310  0.984684     0.956522   \n",
       "15  fold_03           64  0.944444  0.984299  0.974850     1.000000   \n",
       "16  fold_00          128  0.934066  0.989008  0.983984     0.944444   \n",
       "17  fold_01          128  0.945055  0.995412  0.994146     0.960000   \n",
       "18  fold_02          128  0.933333  0.994881  0.992284     0.962963   \n",
       "19  fold_03          128  0.944444  0.991763  0.986741     0.962264   \n",
       "\n",
       "    specificity  precision    recall  \n",
       "0      0.897436   0.925926  0.961538  \n",
       "1      0.941176   0.963636  0.929825  \n",
       "2      0.866667   0.875000  0.933333  \n",
       "3      0.969697   0.982456  0.982456  \n",
       "4      1.000000   1.000000  0.946429  \n",
       "5      0.941176   0.964912  0.964912  \n",
       "6      0.880952   0.905660  1.000000  \n",
       "7      0.875000   0.907407  0.980000  \n",
       "8      0.800000   0.883333  0.946429  \n",
       "9      0.825000   0.877193  0.980392  \n",
       "10     1.000000   1.000000  0.944444  \n",
       "11     0.900000   0.925926  1.000000  \n",
       "12     0.926829   0.940000  0.940000  \n",
       "13     0.971429   0.979592  0.857143  \n",
       "14     0.931818   0.936170  0.956522  \n",
       "15     0.838710   0.921875  1.000000  \n",
       "16     0.918919   0.944444  0.944444  \n",
       "17     0.926829   0.941176  0.960000  \n",
       "18     0.888889   0.928571  0.962963  \n",
       "19     0.918919   0.944444  0.962264  "
      ]
     },
     "execution_count": 6,
     "metadata": {},
     "output_type": "execute_result"
    }
   ],
   "source": [
    "df = pd.DataFrame(run_all)\n",
    "df.to_excel('results.xlsx')\n",
    "df"
   ]
  },
  {
   "cell_type": "code",
   "execution_count": 10,
   "metadata": {},
   "outputs": [
    {
     "data": {
      "text/html": [
       "<div>\n",
       "<style scoped>\n",
       "    .dataframe tbody tr th:only-of-type {\n",
       "        vertical-align: middle;\n",
       "    }\n",
       "\n",
       "    .dataframe tbody tr th {\n",
       "        vertical-align: top;\n",
       "    }\n",
       "\n",
       "    .dataframe thead th {\n",
       "        text-align: right;\n",
       "    }\n",
       "</style>\n",
       "<table border=\"1\" class=\"dataframe\">\n",
       "  <thead>\n",
       "    <tr style=\"text-align: right;\">\n",
       "      <th></th>\n",
       "      <th>repeat_seed</th>\n",
       "      <th>accuracy</th>\n",
       "      <th>prc_auc</th>\n",
       "      <th>roc_auc</th>\n",
       "      <th>sensitivity</th>\n",
       "      <th>specificity</th>\n",
       "      <th>precision</th>\n",
       "      <th>recall</th>\n",
       "    </tr>\n",
       "    <tr>\n",
       "      <th>repeat_seed</th>\n",
       "      <th></th>\n",
       "      <th></th>\n",
       "      <th></th>\n",
       "      <th></th>\n",
       "      <th></th>\n",
       "      <th></th>\n",
       "      <th></th>\n",
       "      <th></th>\n",
       "    </tr>\n",
       "  </thead>\n",
       "  <tbody>\n",
       "    <tr>\n",
       "      <td>8</td>\n",
       "      <td>8.0</td>\n",
       "      <td>0.936477</td>\n",
       "      <td>0.986937</td>\n",
       "      <td>0.983749</td>\n",
       "      <td>0.951788</td>\n",
       "      <td>0.918744</td>\n",
       "      <td>0.936755</td>\n",
       "      <td>0.951788</td>\n",
       "    </tr>\n",
       "    <tr>\n",
       "      <td>16</td>\n",
       "      <td>16.0</td>\n",
       "      <td>0.950214</td>\n",
       "      <td>0.990023</td>\n",
       "      <td>0.987500</td>\n",
       "      <td>0.972835</td>\n",
       "      <td>0.924282</td>\n",
       "      <td>0.944495</td>\n",
       "      <td>0.972835</td>\n",
       "    </tr>\n",
       "    <tr>\n",
       "      <td>32</td>\n",
       "      <td>32.0</td>\n",
       "      <td>0.931105</td>\n",
       "      <td>0.988684</td>\n",
       "      <td>0.984451</td>\n",
       "      <td>0.967816</td>\n",
       "      <td>0.881250</td>\n",
       "      <td>0.921613</td>\n",
       "      <td>0.967816</td>\n",
       "    </tr>\n",
       "    <tr>\n",
       "      <td>64</td>\n",
       "      <td>64.0</td>\n",
       "      <td>0.931013</td>\n",
       "      <td>0.986090</td>\n",
       "      <td>0.979564</td>\n",
       "      <td>0.938416</td>\n",
       "      <td>0.917196</td>\n",
       "      <td>0.944409</td>\n",
       "      <td>0.938416</td>\n",
       "    </tr>\n",
       "    <tr>\n",
       "      <td>128</td>\n",
       "      <td>128.0</td>\n",
       "      <td>0.939225</td>\n",
       "      <td>0.992766</td>\n",
       "      <td>0.989289</td>\n",
       "      <td>0.957418</td>\n",
       "      <td>0.913389</td>\n",
       "      <td>0.939659</td>\n",
       "      <td>0.957418</td>\n",
       "    </tr>\n",
       "  </tbody>\n",
       "</table>\n",
       "</div>"
      ],
      "text/plain": [
       "             repeat_seed  accuracy   prc_auc   roc_auc  sensitivity  \\\n",
       "repeat_seed                                                           \n",
       "8                    8.0  0.936477  0.986937  0.983749     0.951788   \n",
       "16                  16.0  0.950214  0.990023  0.987500     0.972835   \n",
       "32                  32.0  0.931105  0.988684  0.984451     0.967816   \n",
       "64                  64.0  0.931013  0.986090  0.979564     0.938416   \n",
       "128                128.0  0.939225  0.992766  0.989289     0.957418   \n",
       "\n",
       "             specificity  precision    recall  \n",
       "repeat_seed                                    \n",
       "8               0.918744   0.936755  0.951788  \n",
       "16              0.924282   0.944495  0.972835  \n",
       "32              0.881250   0.921613  0.967816  \n",
       "64              0.917196   0.944409  0.938416  \n",
       "128             0.913389   0.939659  0.957418  "
      ]
     },
     "execution_count": 10,
     "metadata": {},
     "output_type": "execute_result"
    }
   ],
   "source": [
    "results = df.groupby(['repeat_seed']).apply(np.mean)\n",
    "results"
   ]
  },
  {
   "cell_type": "code",
   "execution_count": 11,
   "metadata": {},
   "outputs": [
    {
     "data": {
      "text/plain": [
       "repeat_seed    49.600\n",
       "accuracy        0.938\n",
       "prc_auc         0.989\n",
       "roc_auc         0.985\n",
       "sensitivity     0.958\n",
       "specificity     0.911\n",
       "precision       0.937\n",
       "recall          0.958\n",
       "dtype: float64"
      ]
     },
     "execution_count": 11,
     "metadata": {},
     "output_type": "execute_result"
    }
   ],
   "source": [
    "results.mean().round(3)"
   ]
  },
  {
   "cell_type": "code",
   "execution_count": 12,
   "metadata": {},
   "outputs": [
    {
     "data": {
      "text/plain": [
       "repeat_seed    48.793\n",
       "accuracy        0.008\n",
       "prc_auc         0.003\n",
       "roc_auc         0.004\n",
       "sensitivity     0.014\n",
       "specificity     0.017\n",
       "precision       0.009\n",
       "recall          0.014\n",
       "dtype: float64"
      ]
     },
     "execution_count": 12,
     "metadata": {},
     "output_type": "execute_result"
    }
   ],
   "source": [
    "results.std().round(3)"
   ]
  },
  {
   "cell_type": "code",
   "execution_count": null,
   "metadata": {},
   "outputs": [],
   "source": []
  },
  {
   "cell_type": "code",
   "execution_count": null,
   "metadata": {},
   "outputs": [],
   "source": []
  },
  {
   "cell_type": "code",
   "execution_count": null,
   "metadata": {},
   "outputs": [],
   "source": []
  },
  {
   "cell_type": "code",
   "execution_count": null,
   "metadata": {},
   "outputs": [],
   "source": []
  },
  {
   "cell_type": "code",
   "execution_count": null,
   "metadata": {},
   "outputs": [],
   "source": []
  },
  {
   "cell_type": "code",
   "execution_count": null,
   "metadata": {},
   "outputs": [],
   "source": []
  }
 ],
 "metadata": {
  "kernelspec": {
   "display_name": "Python 3",
   "language": "python",
   "name": "python3"
  },
  "language_info": {
   "codemirror_mode": {
    "name": "ipython",
    "version": 3
   },
   "file_extension": ".py",
   "mimetype": "text/x-python",
   "name": "python",
   "nbconvert_exporter": "python",
   "pygments_lexer": "ipython3",
   "version": "3.7.6"
  }
 },
 "nbformat": 4,
 "nbformat_minor": 4
}
