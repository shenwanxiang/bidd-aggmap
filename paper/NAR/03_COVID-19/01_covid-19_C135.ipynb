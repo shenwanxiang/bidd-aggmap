{
 "cells": [
  {
   "cell_type": "code",
   "execution_count": 7,
   "metadata": {},
   "outputs": [
    {
     "data": {
      "image/png": "[encoded data removed]",
      "text/plain": [
       "<Figure size 432x72 with 1 Axes>"
      ]
     },
     "metadata": {},
     "output_type": "display_data"
    }
   ],
   "source": [
    "# -*- coding: utf-8 -*-\n",
    "\"\"\"\n",
    "Created on Sun Aug 16 17:10:53 2020\n",
    "\n",
    "@author: wanxiang.shen@u.nus.edu\n",
    "\"\"\"\n",
    "\n",
    "import warnings\n",
    "warnings.filterwarnings(\"ignore\")\n",
    "\n",
    "\n",
    "import pandas as pd\n",
    "import numpy as np\n",
    "\n",
    "from sklearn.model_selection import KFold, StratifiedKFold\n",
    "from sklearn.metrics import confusion_matrix, precision_recall_curve\n",
    "from sklearn.metrics import auc as calculate_auc\n",
    "\n",
    "import matplotlib.pyplot as plt\n",
    "import seaborn as sns\n",
    "\n",
    "from aggmap import AggMap, AggModel\n",
    "\n",
    "np.random.seed(666) #just for reaptable results\n",
    "\n",
    "\n",
    "color = sns.color_palette(\"rainbow_r\", 6) #PiYG\n",
    "sns.palplot(color)"
   ]
  },
  {
   "cell_type": "code",
   "execution_count": 8,
   "metadata": {},
   "outputs": [
    {
     "name": "stdout",
     "output_type": "stream",
     "text": [
      "2020-10-25 15:00:30,354 - \u001b[32mINFO\u001b[0m - [bidd-aggmap]\u001b[0m - Calculating distance ...\u001b[0m\n",
      "2020-10-25 15:00:30,354 - \u001b[32mINFO\u001b[0m - [bidd-aggmap]\u001b[0m - the number of process is 16\u001b[0m\n"
     ]
    },
    {
     "name": "stderr",
     "output_type": "stream",
     "text": [
      "100%|##########| 3828/3828 [00:00<00:00, 12543.09it/s]\n",
      "100%|##########| 3828/3828 [00:00<00:00, 1803414.10it/s]\n",
      "100%|##########| 88/88 [00:00<00:00, 756.39it/s]\n"
     ]
    }
   ],
   "source": [
    "dfx  = pd.read_excel('./COVID19.xlsx', sheet_name='data')\n",
    "dfy  = pd.read_excel('./COVID19.xlsx', sheet_name='sample_info')\n",
    "\n",
    "dfx = dfx[dfx.columns[1:]]\n",
    "cols = [\"p-%s\" % c for c in dfx.columns]\n",
    "dfx.columns = cols\n",
    "\n",
    "X = dfx.values\n",
    "Y = pd.get_dummies(dfy['class']).values.astype(float)\n",
    "\n",
    "mp = AggMap(dfx, metric = 'correlation')"
   ]
  },
  {
   "cell_type": "code",
   "execution_count": null,
   "metadata": {},
   "outputs": [],
   "source": []
  },
  {
   "cell_type": "markdown",
   "metadata": {},
   "source": [
    "## 5-fold cross validation and repeat 5 times "
   ]
  },
  {
   "cell_type": "code",
   "execution_count": 9,
   "metadata": {},
   "outputs": [
    {
     "name": "stderr",
     "output_type": "stream",
     "text": [
      "  0%|          | 0/289 [00:00<?, ?it/s]"
     ]
    },
    {
     "name": "stdout",
     "output_type": "stream",
     "text": [
      "2020-10-25 15:00:32,254 - \u001b[32mINFO\u001b[0m - [bidd-aggmap]\u001b[0m - applying hierarchical clustering to obtain group information ...\u001b[0m\n",
      "2020-10-25 15:00:32,434 - \u001b[32mINFO\u001b[0m - [bidd-aggmap]\u001b[0m - Applying grid feature map(assignment), this may take several minutes(1~30 min)\u001b[0m\n",
      "2020-10-25 15:00:32,444 - \u001b[32mINFO\u001b[0m - [bidd-aggmap]\u001b[0m - Finished\u001b[0m\n"
     ]
    },
    {
     "name": "stderr",
     "output_type": "stream",
     "text": [
      "100%|##########| 289/289 [00:02<00:00, 102.57it/s]\n",
      "100%|##########| 73/73 [00:00<00:00, 1592.49it/s]\n"
     ]
    },
    {
     "name": "stdout",
     "output_type": "stream",
     "text": [
      "\n",
      " input train and test X shape is (289, 10, 9, 1), (73, 10, 9, 1) \n",
      "MultiClassEstimator(batch_size=4, epochs=50, gpuid='1')\n"
     ]
    },
    {
     "name": "stderr",
     "output_type": "stream",
     "text": [
      "100%|##########| 289/289 [00:00<00:00, 1704.37it/s]\n",
      "100%|##########| 73/73 [00:00<00:00, 1612.12it/s]\n"
     ]
    },
    {
     "name": "stdout",
     "output_type": "stream",
     "text": [
      "\n",
      " input train and test X shape is (289, 10, 9, 1), (73, 10, 9, 1) \n",
      "MultiClassEstimator(batch_size=4, epochs=50, gpuid='1')\n"
     ]
    },
    {
     "name": "stderr",
     "output_type": "stream",
     "text": [
      "100%|##########| 290/290 [00:00<00:00, 1623.55it/s]\n",
      "100%|##########| 72/72 [00:00<00:00, 1394.75it/s]\n"
     ]
    },
    {
     "name": "stdout",
     "output_type": "stream",
     "text": [
      "\n",
      " input train and test X shape is (290, 10, 9, 1), (72, 10, 9, 1) \n",
      "MultiClassEstimator(batch_size=4, epochs=50, gpuid='1')\n"
     ]
    },
    {
     "name": "stderr",
     "output_type": "stream",
     "text": [
      "100%|##########| 290/290 [00:00<00:00, 1536.80it/s]\n",
      "100%|##########| 72/72 [00:00<00:00, 2003.12it/s]\n"
     ]
    },
    {
     "name": "stdout",
     "output_type": "stream",
     "text": [
      "\n",
      " input train and test X shape is (290, 10, 9, 1), (72, 10, 9, 1) \n",
      "MultiClassEstimator(batch_size=4, epochs=50, gpuid='1')\n"
     ]
    },
    {
     "name": "stderr",
     "output_type": "stream",
     "text": [
      "100%|##########| 290/290 [00:00<00:00, 1586.64it/s]\n",
      "100%|##########| 72/72 [00:00<00:00, 1500.41it/s]\n"
     ]
    },
    {
     "name": "stdout",
     "output_type": "stream",
     "text": [
      "\n",
      " input train and test X shape is (290, 10, 9, 1), (72, 10, 9, 1) \n",
      "MultiClassEstimator(batch_size=4, epochs=50, gpuid='1')\n"
     ]
    },
    {
     "name": "stderr",
     "output_type": "stream",
     "text": [
      "  0%|          | 0/289 [00:00<?, ?it/s]"
     ]
    },
    {
     "name": "stdout",
     "output_type": "stream",
     "text": [
      "2020-10-25 15:02:36,139 - \u001b[32mINFO\u001b[0m - [bidd-aggmap]\u001b[0m - applying hierarchical clustering to obtain group information ...\u001b[0m\n",
      "2020-10-25 15:02:36,321 - \u001b[32mINFO\u001b[0m - [bidd-aggmap]\u001b[0m - Applying grid feature map(assignment), this may take several minutes(1~30 min)\u001b[0m\n",
      "2020-10-25 15:02:36,332 - \u001b[32mINFO\u001b[0m - [bidd-aggmap]\u001b[0m - Finished\u001b[0m\n"
     ]
    },
    {
     "name": "stderr",
     "output_type": "stream",
     "text": [
      "100%|##########| 289/289 [00:00<00:00, 1269.65it/s]\n",
      "100%|##########| 73/73 [00:00<00:00, 1659.43it/s]\n"
     ]
    },
    {
     "name": "stdout",
     "output_type": "stream",
     "text": [
      "\n",
      " input train and test X shape is (289, 10, 9, 3), (73, 10, 9, 3) \n",
      "MultiClassEstimator(batch_size=4, epochs=50, gpuid='1')\n"
     ]
    },
    {
     "name": "stderr",
     "output_type": "stream",
     "text": [
      "100%|##########| 289/289 [00:00<00:00, 1483.53it/s]\n",
      "100%|##########| 73/73 [00:00<00:00, 1632.17it/s]\n"
     ]
    },
    {
     "name": "stdout",
     "output_type": "stream",
     "text": [
      "\n",
      " input train and test X shape is (289, 10, 9, 3), (73, 10, 9, 3) \n",
      "MultiClassEstimator(batch_size=4, epochs=50, gpuid='1')\n"
     ]
    },
    {
     "name": "stderr",
     "output_type": "stream",
     "text": [
      "100%|##########| 290/290 [00:00<00:00, 1658.82it/s]\n",
      "100%|##########| 72/72 [00:00<00:00, 1407.64it/s]\n"
     ]
    },
    {
     "name": "stdout",
     "output_type": "stream",
     "text": [
      "\n",
      " input train and test X shape is (290, 10, 9, 3), (72, 10, 9, 3) \n",
      "MultiClassEstimator(batch_size=4, epochs=50, gpuid='1')\n"
     ]
    },
    {
     "name": "stderr",
     "output_type": "stream",
     "text": [
      "100%|##########| 290/290 [00:00<00:00, 1389.52it/s]\n",
      "100%|##########| 72/72 [00:00<00:00, 1664.97it/s]\n"
     ]
    },
    {
     "name": "stdout",
     "output_type": "stream",
     "text": [
      "\n",
      " input train and test X shape is (290, 10, 9, 3), (72, 10, 9, 3) \n",
      "MultiClassEstimator(batch_size=4, epochs=50, gpuid='1')\n"
     ]
    },
    {
     "name": "stderr",
     "output_type": "stream",
     "text": [
      "100%|##########| 290/290 [00:00<00:00, 1620.26it/s]\n",
      "100%|##########| 72/72 [00:00<00:00, 1336.30it/s]\n"
     ]
    },
    {
     "name": "stdout",
     "output_type": "stream",
     "text": [
      "\n",
      " input train and test X shape is (290, 10, 9, 3), (72, 10, 9, 3) \n",
      "MultiClassEstimator(batch_size=4, epochs=50, gpuid='1')\n",
      "2020-10-25 15:04:37,788 - \u001b[32mINFO\u001b[0m - [bidd-aggmap]\u001b[0m - applying hierarchical clustering to obtain group information ...\u001b[0m\n",
      "2020-10-25 15:04:37,976 - \u001b[32mINFO\u001b[0m - [bidd-aggmap]\u001b[0m - Applying grid feature map(assignment), this may take several minutes(1~30 min)\u001b[0m\n"
     ]
    },
    {
     "name": "stderr",
     "output_type": "stream",
     "text": [
      "100%|##########| 289/289 [00:00<00:00, 1673.56it/s]"
     ]
    },
    {
     "name": "stdout",
     "output_type": "stream",
     "text": [
      "2020-10-25 15:04:37,990 - \u001b[32mINFO\u001b[0m - [bidd-aggmap]\u001b[0m - Finished\u001b[0m\n"
     ]
    },
    {
     "name": "stderr",
     "output_type": "stream",
     "text": [
      "\n",
      "100%|##########| 73/73 [00:00<00:00, 1741.36it/s]\n"
     ]
    },
    {
     "name": "stdout",
     "output_type": "stream",
     "text": [
      "\n",
      " input train and test X shape is (289, 10, 9, 5), (73, 10, 9, 5) \n",
      "MultiClassEstimator(batch_size=4, epochs=50, gpuid='1')\n"
     ]
    },
    {
     "name": "stderr",
     "output_type": "stream",
     "text": [
      "100%|##########| 289/289 [00:00<00:00, 1656.33it/s]\n",
      "100%|##########| 73/73 [00:00<00:00, 1356.36it/s]\n"
     ]
    },
    {
     "name": "stdout",
     "output_type": "stream",
     "text": [
      "\n",
      " input train and test X shape is (289, 10, 9, 5), (73, 10, 9, 5) \n",
      "MultiClassEstimator(batch_size=4, epochs=50, gpuid='1')\n"
     ]
    },
    {
     "name": "stderr",
     "output_type": "stream",
     "text": [
      "100%|##########| 290/290 [00:00<00:00, 1653.54it/s]\n",
      "100%|##########| 72/72 [00:00<00:00, 1795.98it/s]\n"
     ]
    },
    {
     "name": "stdout",
     "output_type": "stream",
     "text": [
      "\n",
      " input train and test X shape is (290, 10, 9, 5), (72, 10, 9, 5) \n",
      "MultiClassEstimator(batch_size=4, epochs=50, gpuid='1')\n"
     ]
    },
    {
     "name": "stderr",
     "output_type": "stream",
     "text": [
      "100%|##########| 290/290 [00:00<00:00, 1789.66it/s]\n",
      "100%|##########| 72/72 [00:00<00:00, 1750.37it/s]\n"
     ]
    },
    {
     "name": "stdout",
     "output_type": "stream",
     "text": [
      "\n",
      " input train and test X shape is (290, 10, 9, 5), (72, 10, 9, 5) \n",
      "MultiClassEstimator(batch_size=4, epochs=50, gpuid='1')\n"
     ]
    },
    {
     "name": "stderr",
     "output_type": "stream",
     "text": [
      "100%|##########| 290/290 [00:00<00:00, 1666.12it/s]\n",
      "100%|##########| 72/72 [00:00<00:00, 1203.72it/s]\n"
     ]
    },
    {
     "name": "stdout",
     "output_type": "stream",
     "text": [
      "\n",
      " input train and test X shape is (290, 10, 9, 5), (72, 10, 9, 5) \n",
      "MultiClassEstimator(batch_size=4, epochs=50, gpuid='1')\n"
     ]
    },
    {
     "name": "stderr",
     "output_type": "stream",
     "text": [
      "  0%|          | 0/289 [00:00<?, ?it/s]"
     ]
    },
    {
     "name": "stdout",
     "output_type": "stream",
     "text": [
      "2020-10-25 15:06:39,109 - \u001b[32mINFO\u001b[0m - [bidd-aggmap]\u001b[0m - applying hierarchical clustering to obtain group information ...\u001b[0m\n",
      "2020-10-25 15:06:39,288 - \u001b[32mINFO\u001b[0m - [bidd-aggmap]\u001b[0m - Applying grid feature map(assignment), this may take several minutes(1~30 min)\u001b[0m\n",
      "2020-10-25 15:06:39,298 - \u001b[32mINFO\u001b[0m - [bidd-aggmap]\u001b[0m - Finished\u001b[0m\n"
     ]
    },
    {
     "name": "stderr",
     "output_type": "stream",
     "text": [
      "100%|##########| 289/289 [00:00<00:00, 1646.38it/s]\n",
      "100%|##########| 73/73 [00:00<00:00, 1593.27it/s]\n"
     ]
    },
    {
     "name": "stdout",
     "output_type": "stream",
     "text": [
      "\n",
      " input train and test X shape is (289, 10, 9, 1), (73, 10, 9, 1) \n",
      "MultiClassEstimator(batch_size=4, epochs=50, gpuid='1')\n"
     ]
    },
    {
     "name": "stderr",
     "output_type": "stream",
     "text": [
      "100%|##########| 289/289 [00:00<00:00, 1634.97it/s]\n",
      "100%|##########| 73/73 [00:00<00:00, 1712.09it/s]\n"
     ]
    },
    {
     "name": "stdout",
     "output_type": "stream",
     "text": [
      "\n",
      " input train and test X shape is (289, 10, 9, 1), (73, 10, 9, 1) \n",
      "MultiClassEstimator(batch_size=4, epochs=50, gpuid='1')\n"
     ]
    },
    {
     "name": "stderr",
     "output_type": "stream",
     "text": [
      "100%|##########| 290/290 [00:00<00:00, 1526.68it/s]\n",
      "100%|##########| 72/72 [00:00<00:00, 1521.88it/s]\n"
     ]
    },
    {
     "name": "stdout",
     "output_type": "stream",
     "text": [
      "\n",
      " input train and test X shape is (290, 10, 9, 1), (72, 10, 9, 1) \n",
      "MultiClassEstimator(batch_size=4, epochs=50, gpuid='1')\n"
     ]
    },
    {
     "name": "stderr",
     "output_type": "stream",
     "text": [
      "100%|##########| 290/290 [00:00<00:00, 1695.80it/s]\n",
      "100%|##########| 72/72 [00:00<00:00, 1521.50it/s]\n"
     ]
    },
    {
     "name": "stdout",
     "output_type": "stream",
     "text": [
      "\n",
      " input train and test X shape is (290, 10, 9, 1), (72, 10, 9, 1) \n",
      "MultiClassEstimator(batch_size=4, epochs=50, gpuid='1')\n"
     ]
    },
    {
     "name": "stderr",
     "output_type": "stream",
     "text": [
      "100%|##########| 290/290 [00:00<00:00, 1525.84it/s]\n",
      "100%|##########| 72/72 [00:00<00:00, 1686.31it/s]\n"
     ]
    },
    {
     "name": "stdout",
     "output_type": "stream",
     "text": [
      "\n",
      " input train and test X shape is (290, 10, 9, 1), (72, 10, 9, 1) \n",
      "MultiClassEstimator(batch_size=4, epochs=50, gpuid='1')\n",
      "2020-10-25 15:08:40,151 - \u001b[32mINFO\u001b[0m - [bidd-aggmap]\u001b[0m - applying hierarchical clustering to obtain group information ...\u001b[0m\n",
      "2020-10-25 15:08:40,349 - \u001b[32mINFO\u001b[0m - [bidd-aggmap]\u001b[0m - Applying grid feature map(assignment), this may take several minutes(1~30 min)\u001b[0m\n"
     ]
    },
    {
     "name": "stderr",
     "output_type": "stream",
     "text": [
      " 22%|##2       | 64/289 [00:00<00:00, 586.89it/s]"
     ]
    },
    {
     "name": "stdout",
     "output_type": "stream",
     "text": [
      "2020-10-25 15:08:40,363 - \u001b[32mINFO\u001b[0m - [bidd-aggmap]\u001b[0m - Finished\u001b[0m\n"
     ]
    },
    {
     "name": "stderr",
     "output_type": "stream",
     "text": [
      "100%|##########| 289/289 [00:00<00:00, 1275.42it/s]\n",
      "100%|##########| 73/73 [00:00<00:00, 1695.32it/s]\n"
     ]
    },
    {
     "name": "stdout",
     "output_type": "stream",
     "text": [
      "\n",
      " input train and test X shape is (289, 10, 9, 3), (73, 10, 9, 3) \n",
      "MultiClassEstimator(batch_size=4, epochs=50, gpuid='1')\n"
     ]
    },
    {
     "name": "stderr",
     "output_type": "stream",
     "text": [
      "100%|##########| 289/289 [00:00<00:00, 1511.63it/s]\n",
      "100%|##########| 73/73 [00:00<00:00, 1810.79it/s]\n"
     ]
    },
    {
     "name": "stdout",
     "output_type": "stream",
     "text": [
      "\n",
      " input train and test X shape is (289, 10, 9, 3), (73, 10, 9, 3) \n",
      "MultiClassEstimator(batch_size=4, epochs=50, gpuid='1')\n"
     ]
    },
    {
     "name": "stderr",
     "output_type": "stream",
     "text": [
      "100%|##########| 290/290 [00:00<00:00, 1615.37it/s]\n",
      "100%|##########| 72/72 [00:00<00:00, 1762.98it/s]\n"
     ]
    },
    {
     "name": "stdout",
     "output_type": "stream",
     "text": [
      "\n",
      " input train and test X shape is (290, 10, 9, 3), (72, 10, 9, 3) \n",
      "MultiClassEstimator(batch_size=4, epochs=50, gpuid='1')\n"
     ]
    },
    {
     "name": "stderr",
     "output_type": "stream",
     "text": [
      "100%|##########| 290/290 [00:00<00:00, 1637.86it/s]\n",
      "100%|##########| 72/72 [00:00<00:00, 1682.38it/s]\n"
     ]
    },
    {
     "name": "stdout",
     "output_type": "stream",
     "text": [
      "\n",
      " input train and test X shape is (290, 10, 9, 3), (72, 10, 9, 3) \n",
      "MultiClassEstimator(batch_size=4, epochs=50, gpuid='1')\n"
     ]
    },
    {
     "name": "stderr",
     "output_type": "stream",
     "text": [
      "100%|##########| 290/290 [00:00<00:00, 1523.87it/s]\n",
      "100%|##########| 72/72 [00:00<00:00, 1741.26it/s]\n"
     ]
    },
    {
     "name": "stdout",
     "output_type": "stream",
     "text": [
      "\n",
      " input train and test X shape is (290, 10, 9, 3), (72, 10, 9, 3) \n",
      "MultiClassEstimator(batch_size=4, epochs=50, gpuid='1')\n"
     ]
    },
    {
     "name": "stderr",
     "output_type": "stream",
     "text": [
      "  0%|          | 0/289 [00:00<?, ?it/s]"
     ]
    },
    {
     "name": "stdout",
     "output_type": "stream",
     "text": [
      "2020-10-25 15:10:41,087 - \u001b[32mINFO\u001b[0m - [bidd-aggmap]\u001b[0m - applying hierarchical clustering to obtain group information ...\u001b[0m\n",
      "2020-10-25 15:10:41,267 - \u001b[32mINFO\u001b[0m - [bidd-aggmap]\u001b[0m - Applying grid feature map(assignment), this may take several minutes(1~30 min)\u001b[0m\n",
      "2020-10-25 15:10:41,280 - \u001b[32mINFO\u001b[0m - [bidd-aggmap]\u001b[0m - Finished\u001b[0m\n"
     ]
    },
    {
     "name": "stderr",
     "output_type": "stream",
     "text": [
      "100%|##########| 289/289 [00:00<00:00, 1654.40it/s]\n",
      "100%|##########| 73/73 [00:00<00:00, 1416.57it/s]\n"
     ]
    },
    {
     "name": "stdout",
     "output_type": "stream",
     "text": [
      "\n",
      " input train and test X shape is (289, 10, 9, 5), (73, 10, 9, 5) \n",
      "MultiClassEstimator(batch_size=4, epochs=50, gpuid='1')\n"
     ]
    },
    {
     "name": "stderr",
     "output_type": "stream",
     "text": [
      "100%|##########| 289/289 [00:00<00:00, 1700.28it/s]\n",
      "100%|##########| 73/73 [00:00<00:00, 1725.68it/s]\n"
     ]
    },
    {
     "name": "stdout",
     "output_type": "stream",
     "text": [
      "\n",
      " input train and test X shape is (289, 10, 9, 5), (73, 10, 9, 5) \n",
      "MultiClassEstimator(batch_size=4, epochs=50, gpuid='1')\n"
     ]
    },
    {
     "name": "stderr",
     "output_type": "stream",
     "text": [
      "100%|##########| 290/290 [00:00<00:00, 1411.22it/s]\n",
      "100%|##########| 72/72 [00:00<00:00, 1239.99it/s]\n"
     ]
    },
    {
     "name": "stdout",
     "output_type": "stream",
     "text": [
      "\n",
      " input train and test X shape is (290, 10, 9, 5), (72, 10, 9, 5) \n",
      "MultiClassEstimator(batch_size=4, epochs=50, gpuid='1')\n"
     ]
    },
    {
     "name": "stderr",
     "output_type": "stream",
     "text": [
      "100%|##########| 290/290 [00:00<00:00, 1638.17it/s]\n",
      "100%|##########| 72/72 [00:00<00:00, 1479.96it/s]\n"
     ]
    },
    {
     "name": "stdout",
     "output_type": "stream",
     "text": [
      "\n",
      " input train and test X shape is (290, 10, 9, 5), (72, 10, 9, 5) \n",
      "MultiClassEstimator(batch_size=4, epochs=50, gpuid='1')\n"
     ]
    },
    {
     "name": "stderr",
     "output_type": "stream",
     "text": [
      "100%|##########| 290/290 [00:00<00:00, 1730.13it/s]\n",
      "100%|##########| 72/72 [00:00<00:00, 2042.80it/s]\n"
     ]
    },
    {
     "name": "stdout",
     "output_type": "stream",
     "text": [
      "\n",
      " input train and test X shape is (290, 10, 9, 5), (72, 10, 9, 5) \n",
      "MultiClassEstimator(batch_size=4, epochs=50, gpuid='1')\n"
     ]
    },
    {
     "name": "stderr",
     "output_type": "stream",
     "text": [
      "  0%|          | 0/289 [00:00<?, ?it/s]"
     ]
    },
    {
     "name": "stdout",
     "output_type": "stream",
     "text": [
      "2020-10-25 15:12:42,348 - \u001b[32mINFO\u001b[0m - [bidd-aggmap]\u001b[0m - applying hierarchical clustering to obtain group information ...\u001b[0m\n",
      "2020-10-25 15:12:42,528 - \u001b[32mINFO\u001b[0m - [bidd-aggmap]\u001b[0m - Applying grid feature map(assignment), this may take several minutes(1~30 min)\u001b[0m\n",
      "2020-10-25 15:12:42,539 - \u001b[32mINFO\u001b[0m - [bidd-aggmap]\u001b[0m - Finished\u001b[0m\n"
     ]
    },
    {
     "name": "stderr",
     "output_type": "stream",
     "text": [
      "100%|##########| 289/289 [00:00<00:00, 1490.83it/s]\n",
      "100%|##########| 73/73 [00:00<00:00, 1839.98it/s]\n"
     ]
    },
    {
     "name": "stdout",
     "output_type": "stream",
     "text": [
      "\n",
      " input train and test X shape is (289, 10, 9, 1), (73, 10, 9, 1) \n",
      "MultiClassEstimator(batch_size=4, epochs=50, gpuid='1')\n"
     ]
    },
    {
     "name": "stderr",
     "output_type": "stream",
     "text": [
      "100%|##########| 289/289 [00:00<00:00, 1461.25it/s]\n",
      "100%|##########| 73/73 [00:00<00:00, 1420.97it/s]\n"
     ]
    },
    {
     "name": "stdout",
     "output_type": "stream",
     "text": [
      "\n",
      " input train and test X shape is (289, 10, 9, 1), (73, 10, 9, 1) \n",
      "MultiClassEstimator(batch_size=4, epochs=50, gpuid='1')\n"
     ]
    },
    {
     "name": "stderr",
     "output_type": "stream",
     "text": [
      "100%|##########| 290/290 [00:00<00:00, 1460.50it/s]\n",
      "100%|##########| 72/72 [00:00<00:00, 1567.85it/s]\n"
     ]
    },
    {
     "name": "stdout",
     "output_type": "stream",
     "text": [
      "\n",
      " input train and test X shape is (290, 10, 9, 1), (72, 10, 9, 1) \n",
      "MultiClassEstimator(batch_size=4, epochs=50, gpuid='1')\n"
     ]
    },
    {
     "name": "stderr",
     "output_type": "stream",
     "text": [
      "100%|##########| 290/290 [00:00<00:00, 1568.72it/s]\n",
      "100%|##########| 72/72 [00:00<00:00, 1772.19it/s]\n"
     ]
    },
    {
     "name": "stdout",
     "output_type": "stream",
     "text": [
      "\n",
      " input train and test X shape is (290, 10, 9, 1), (72, 10, 9, 1) \n",
      "MultiClassEstimator(batch_size=4, epochs=50, gpuid='1')\n"
     ]
    },
    {
     "name": "stderr",
     "output_type": "stream",
     "text": [
      "100%|##########| 290/290 [00:00<00:00, 1705.71it/s]\n",
      "100%|##########| 72/72 [00:00<00:00, 1785.50it/s]\n"
     ]
    },
    {
     "name": "stdout",
     "output_type": "stream",
     "text": [
      "\n",
      " input train and test X shape is (290, 10, 9, 1), (72, 10, 9, 1) \n",
      "MultiClassEstimator(batch_size=4, epochs=50, gpuid='1')\n",
      "2020-10-25 15:14:42,974 - \u001b[32mINFO\u001b[0m - [bidd-aggmap]\u001b[0m - applying hierarchical clustering to obtain group information ...\u001b[0m\n",
      "2020-10-25 15:14:43,164 - \u001b[32mINFO\u001b[0m - [bidd-aggmap]\u001b[0m - Applying grid feature map(assignment), this may take several minutes(1~30 min)\u001b[0m\n",
      "2020-10-25 15:14:43,175 - \u001b[32mINFO\u001b[0m - [bidd-aggmap]\u001b[0m - Finished\u001b[0m\n"
     ]
    },
    {
     "name": "stderr",
     "output_type": "stream",
     "text": [
      "100%|##########| 289/289 [00:00<00:00, 1810.62it/s]\n",
      "100%|##########| 73/73 [00:00<00:00, 1285.44it/s]\n"
     ]
    },
    {
     "name": "stdout",
     "output_type": "stream",
     "text": [
      "\n",
      " input train and test X shape is (289, 10, 9, 3), (73, 10, 9, 3) \n",
      "MultiClassEstimator(batch_size=4, epochs=50, gpuid='1')\n"
     ]
    },
    {
     "name": "stderr",
     "output_type": "stream",
     "text": [
      "100%|##########| 289/289 [00:00<00:00, 1623.81it/s]\n",
      "100%|##########| 73/73 [00:00<00:00, 1749.49it/s]\n"
     ]
    },
    {
     "name": "stdout",
     "output_type": "stream",
     "text": [
      "\n",
      " input train and test X shape is (289, 10, 9, 3), (73, 10, 9, 3) \n",
      "MultiClassEstimator(batch_size=4, epochs=50, gpuid='1')\n"
     ]
    },
    {
     "name": "stderr",
     "output_type": "stream",
     "text": [
      "100%|##########| 290/290 [00:00<00:00, 1460.08it/s]\n",
      "100%|##########| 72/72 [00:00<00:00, 2040.32it/s]\n"
     ]
    },
    {
     "name": "stdout",
     "output_type": "stream",
     "text": [
      "\n",
      " input train and test X shape is (290, 10, 9, 3), (72, 10, 9, 3) \n",
      "MultiClassEstimator(batch_size=4, epochs=50, gpuid='1')\n"
     ]
    },
    {
     "name": "stderr",
     "output_type": "stream",
     "text": [
      "100%|##########| 290/290 [00:00<00:00, 1600.04it/s]\n",
      "100%|##########| 72/72 [00:00<00:00, 1685.75it/s]\n"
     ]
    },
    {
     "name": "stdout",
     "output_type": "stream",
     "text": [
      "\n",
      " input train and test X shape is (290, 10, 9, 3), (72, 10, 9, 3) \n",
      "MultiClassEstimator(batch_size=4, epochs=50, gpuid='1')\n"
     ]
    },
    {
     "name": "stderr",
     "output_type": "stream",
     "text": [
      "100%|##########| 290/290 [00:00<00:00, 1703.98it/s]\n",
      "100%|##########| 72/72 [00:00<00:00, 1010.23it/s]\n"
     ]
    },
    {
     "name": "stdout",
     "output_type": "stream",
     "text": [
      "\n",
      " input train and test X shape is (290, 10, 9, 3), (72, 10, 9, 3) \n",
      "MultiClassEstimator(batch_size=4, epochs=50, gpuid='1')\n"
     ]
    },
    {
     "name": "stderr",
     "output_type": "stream",
     "text": [
      "  0%|          | 0/289 [00:00<?, ?it/s]"
     ]
    },
    {
     "name": "stdout",
     "output_type": "stream",
     "text": [
      "2020-10-25 15:16:44,254 - \u001b[32mINFO\u001b[0m - [bidd-aggmap]\u001b[0m - applying hierarchical clustering to obtain group information ...\u001b[0m\n",
      "2020-10-25 15:16:44,435 - \u001b[32mINFO\u001b[0m - [bidd-aggmap]\u001b[0m - Applying grid feature map(assignment), this may take several minutes(1~30 min)\u001b[0m\n",
      "2020-10-25 15:16:44,448 - \u001b[32mINFO\u001b[0m - [bidd-aggmap]\u001b[0m - Finished\u001b[0m\n"
     ]
    },
    {
     "name": "stderr",
     "output_type": "stream",
     "text": [
      "100%|##########| 289/289 [00:00<00:00, 1602.56it/s]\n",
      "100%|##########| 73/73 [00:00<00:00, 1648.18it/s]\n"
     ]
    },
    {
     "name": "stdout",
     "output_type": "stream",
     "text": [
      "\n",
      " input train and test X shape is (289, 10, 9, 5), (73, 10, 9, 5) \n",
      "MultiClassEstimator(batch_size=4, epochs=50, gpuid='1')\n"
     ]
    },
    {
     "name": "stderr",
     "output_type": "stream",
     "text": [
      "100%|##########| 289/289 [00:00<00:00, 1620.29it/s]\n",
      "100%|##########| 73/73 [00:00<00:00, 1124.99it/s]\n"
     ]
    },
    {
     "name": "stdout",
     "output_type": "stream",
     "text": [
      "\n",
      " input train and test X shape is (289, 10, 9, 5), (73, 10, 9, 5) \n",
      "MultiClassEstimator(batch_size=4, epochs=50, gpuid='1')\n"
     ]
    },
    {
     "name": "stderr",
     "output_type": "stream",
     "text": [
      "100%|##########| 290/290 [00:00<00:00, 1559.32it/s]\n",
      "100%|##########| 72/72 [00:00<00:00, 2160.82it/s]\n"
     ]
    },
    {
     "name": "stdout",
     "output_type": "stream",
     "text": [
      "\n",
      " input train and test X shape is (290, 10, 9, 5), (72, 10, 9, 5) \n",
      "MultiClassEstimator(batch_size=4, epochs=50, gpuid='1')\n"
     ]
    },
    {
     "name": "stderr",
     "output_type": "stream",
     "text": [
      "100%|##########| 290/290 [00:00<00:00, 1646.85it/s]\n",
      "100%|##########| 72/72 [00:00<00:00, 1296.02it/s]\n"
     ]
    },
    {
     "name": "stdout",
     "output_type": "stream",
     "text": [
      "\n",
      " input train and test X shape is (290, 10, 9, 5), (72, 10, 9, 5) \n",
      "MultiClassEstimator(batch_size=4, epochs=50, gpuid='1')\n"
     ]
    },
    {
     "name": "stderr",
     "output_type": "stream",
     "text": [
      "100%|##########| 290/290 [00:00<00:00, 1604.73it/s]\n",
      "100%|##########| 72/72 [00:00<00:00, 1512.93it/s]\n"
     ]
    },
    {
     "name": "stdout",
     "output_type": "stream",
     "text": [
      "\n",
      " input train and test X shape is (290, 10, 9, 5), (72, 10, 9, 5) \n",
      "MultiClassEstimator(batch_size=4, epochs=50, gpuid='1')\n"
     ]
    },
    {
     "name": "stderr",
     "output_type": "stream",
     "text": [
      "  0%|          | 0/289 [00:00<?, ?it/s]"
     ]
    },
    {
     "name": "stdout",
     "output_type": "stream",
     "text": [
      "2020-10-25 15:18:46,082 - \u001b[32mINFO\u001b[0m - [bidd-aggmap]\u001b[0m - applying hierarchical clustering to obtain group information ...\u001b[0m\n",
      "2020-10-25 15:18:46,264 - \u001b[32mINFO\u001b[0m - [bidd-aggmap]\u001b[0m - Applying grid feature map(assignment), this may take several minutes(1~30 min)\u001b[0m\n",
      "2020-10-25 15:18:46,274 - \u001b[32mINFO\u001b[0m - [bidd-aggmap]\u001b[0m - Finished\u001b[0m\n"
     ]
    },
    {
     "name": "stderr",
     "output_type": "stream",
     "text": [
      "100%|##########| 289/289 [00:00<00:00, 1401.48it/s]\n",
      "100%|##########| 73/73 [00:00<00:00, 1869.04it/s]\n"
     ]
    },
    {
     "name": "stdout",
     "output_type": "stream",
     "text": [
      "\n",
      " input train and test X shape is (289, 10, 9, 1), (73, 10, 9, 1) \n",
      "MultiClassEstimator(batch_size=4, epochs=50, gpuid='1')\n"
     ]
    },
    {
     "name": "stderr",
     "output_type": "stream",
     "text": [
      "100%|##########| 289/289 [00:00<00:00, 1606.90it/s]\n",
      "100%|##########| 73/73 [00:00<00:00, 1597.45it/s]\n"
     ]
    },
    {
     "name": "stdout",
     "output_type": "stream",
     "text": [
      "\n",
      " input train and test X shape is (289, 10, 9, 1), (73, 10, 9, 1) \n",
      "MultiClassEstimator(batch_size=4, epochs=50, gpuid='1')\n"
     ]
    },
    {
     "name": "stderr",
     "output_type": "stream",
     "text": [
      "100%|##########| 290/290 [00:00<00:00, 1392.59it/s]\n",
      "100%|##########| 72/72 [00:00<00:00, 1429.80it/s]\n"
     ]
    },
    {
     "name": "stdout",
     "output_type": "stream",
     "text": [
      "\n",
      " input train and test X shape is (290, 10, 9, 1), (72, 10, 9, 1) \n",
      "MultiClassEstimator(batch_size=4, epochs=50, gpuid='1')\n"
     ]
    },
    {
     "name": "stderr",
     "output_type": "stream",
     "text": [
      "100%|##########| 290/290 [00:00<00:00, 1691.53it/s]\n",
      "100%|##########| 72/72 [00:00<00:00, 1801.62it/s]\n"
     ]
    },
    {
     "name": "stdout",
     "output_type": "stream",
     "text": [
      "\n",
      " input train and test X shape is (290, 10, 9, 1), (72, 10, 9, 1) \n",
      "MultiClassEstimator(batch_size=4, epochs=50, gpuid='1')\n"
     ]
    },
    {
     "name": "stderr",
     "output_type": "stream",
     "text": [
      "100%|##########| 290/290 [00:00<00:00, 1590.68it/s]\n",
      "100%|##########| 72/72 [00:00<00:00, 1469.22it/s]\n"
     ]
    },
    {
     "name": "stdout",
     "output_type": "stream",
     "text": [
      "\n",
      " input train and test X shape is (290, 10, 9, 1), (72, 10, 9, 1) \n",
      "MultiClassEstimator(batch_size=4, epochs=50, gpuid='1')\n"
     ]
    },
    {
     "name": "stderr",
     "output_type": "stream",
     "text": [
      "  0%|          | 0/289 [00:00<?, ?it/s]"
     ]
    },
    {
     "name": "stdout",
     "output_type": "stream",
     "text": [
      "2020-10-25 15:20:46,594 - \u001b[32mINFO\u001b[0m - [bidd-aggmap]\u001b[0m - applying hierarchical clustering to obtain group information ...\u001b[0m\n",
      "2020-10-25 15:20:46,775 - \u001b[32mINFO\u001b[0m - [bidd-aggmap]\u001b[0m - Applying grid feature map(assignment), this may take several minutes(1~30 min)\u001b[0m\n",
      "2020-10-25 15:20:46,786 - \u001b[32mINFO\u001b[0m - [bidd-aggmap]\u001b[0m - Finished\u001b[0m\n"
     ]
    },
    {
     "name": "stderr",
     "output_type": "stream",
     "text": [
      "100%|##########| 289/289 [00:00<00:00, 1538.23it/s]\n",
      "100%|##########| 73/73 [00:00<00:00, 2184.94it/s]\n"
     ]
    },
    {
     "name": "stdout",
     "output_type": "stream",
     "text": [
      "\n",
      " input train and test X shape is (289, 10, 9, 3), (73, 10, 9, 3) \n",
      "MultiClassEstimator(batch_size=4, epochs=50, gpuid='1')\n"
     ]
    },
    {
     "name": "stderr",
     "output_type": "stream",
     "text": [
      "100%|##########| 289/289 [00:00<00:00, 1492.92it/s]\n",
      "100%|##########| 73/73 [00:00<00:00, 1427.80it/s]\n"
     ]
    },
    {
     "name": "stdout",
     "output_type": "stream",
     "text": [
      "\n",
      " input train and test X shape is (289, 10, 9, 3), (73, 10, 9, 3) \n",
      "MultiClassEstimator(batch_size=4, epochs=50, gpuid='1')\n"
     ]
    },
    {
     "name": "stderr",
     "output_type": "stream",
     "text": [
      "100%|##########| 290/290 [00:00<00:00, 1309.92it/s]\n",
      "100%|##########| 72/72 [00:00<00:00, 1512.85it/s]\n"
     ]
    },
    {
     "name": "stdout",
     "output_type": "stream",
     "text": [
      "\n",
      " input train and test X shape is (290, 10, 9, 3), (72, 10, 9, 3) \n",
      "MultiClassEstimator(batch_size=4, epochs=50, gpuid='1')\n"
     ]
    },
    {
     "name": "stderr",
     "output_type": "stream",
     "text": [
      "100%|##########| 290/290 [00:00<00:00, 1350.82it/s]\n",
      "100%|##########| 72/72 [00:00<00:00, 1688.07it/s]\n"
     ]
    },
    {
     "name": "stdout",
     "output_type": "stream",
     "text": [
      "\n",
      " input train and test X shape is (290, 10, 9, 3), (72, 10, 9, 3) \n",
      "MultiClassEstimator(batch_size=4, epochs=50, gpuid='1')\n"
     ]
    },
    {
     "name": "stderr",
     "output_type": "stream",
     "text": [
      "100%|##########| 290/290 [00:00<00:00, 1637.20it/s]\n",
      "100%|##########| 72/72 [00:00<00:00, 1448.62it/s]\n"
     ]
    },
    {
     "name": "stdout",
     "output_type": "stream",
     "text": [
      "\n",
      " input train and test X shape is (290, 10, 9, 3), (72, 10, 9, 3) \n",
      "MultiClassEstimator(batch_size=4, epochs=50, gpuid='1')\n"
     ]
    },
    {
     "name": "stderr",
     "output_type": "stream",
     "text": [
      "  0%|          | 0/289 [00:00<?, ?it/s]"
     ]
    },
    {
     "name": "stdout",
     "output_type": "stream",
     "text": [
      "2020-10-25 15:22:47,977 - \u001b[32mINFO\u001b[0m - [bidd-aggmap]\u001b[0m - applying hierarchical clustering to obtain group information ...\u001b[0m\n",
      "2020-10-25 15:22:48,164 - \u001b[32mINFO\u001b[0m - [bidd-aggmap]\u001b[0m - Applying grid feature map(assignment), this may take several minutes(1~30 min)\u001b[0m\n",
      "2020-10-25 15:22:48,177 - \u001b[32mINFO\u001b[0m - [bidd-aggmap]\u001b[0m - Finished\u001b[0m\n"
     ]
    },
    {
     "name": "stderr",
     "output_type": "stream",
     "text": [
      "100%|##########| 289/289 [00:00<00:00, 1611.45it/s]\n",
      "100%|##########| 73/73 [00:00<00:00, 1599.78it/s]\n"
     ]
    },
    {
     "name": "stdout",
     "output_type": "stream",
     "text": [
      "\n",
      " input train and test X shape is (289, 10, 9, 5), (73, 10, 9, 5) \n",
      "MultiClassEstimator(batch_size=4, epochs=50, gpuid='1')\n"
     ]
    },
    {
     "name": "stderr",
     "output_type": "stream",
     "text": [
      "100%|##########| 289/289 [00:00<00:00, 1570.96it/s]\n",
      "100%|##########| 73/73 [00:00<00:00, 1498.88it/s]\n"
     ]
    },
    {
     "name": "stdout",
     "output_type": "stream",
     "text": [
      "\n",
      " input train and test X shape is (289, 10, 9, 5), (73, 10, 9, 5) \n",
      "MultiClassEstimator(batch_size=4, epochs=50, gpuid='1')\n"
     ]
    },
    {
     "name": "stderr",
     "output_type": "stream",
     "text": [
      "100%|##########| 290/290 [00:00<00:00, 1672.30it/s]\n",
      "100%|##########| 72/72 [00:00<00:00, 1029.90it/s]\n"
     ]
    },
    {
     "name": "stdout",
     "output_type": "stream",
     "text": [
      "\n",
      " input train and test X shape is (290, 10, 9, 5), (72, 10, 9, 5) \n",
      "MultiClassEstimator(batch_size=4, epochs=50, gpuid='1')\n"
     ]
    },
    {
     "name": "stderr",
     "output_type": "stream",
     "text": [
      "100%|##########| 290/290 [00:00<00:00, 1756.66it/s]\n",
      "100%|##########| 72/72 [00:00<00:00, 1577.68it/s]\n"
     ]
    },
    {
     "name": "stdout",
     "output_type": "stream",
     "text": [
      "\n",
      " input train and test X shape is (290, 10, 9, 5), (72, 10, 9, 5) \n",
      "MultiClassEstimator(batch_size=4, epochs=50, gpuid='1')\n"
     ]
    },
    {
     "name": "stderr",
     "output_type": "stream",
     "text": [
      "100%|##########| 290/290 [00:00<00:00, 1408.17it/s]\n",
      "100%|##########| 72/72 [00:00<00:00, 1499.01it/s]\n"
     ]
    },
    {
     "name": "stdout",
     "output_type": "stream",
     "text": [
      "\n",
      " input train and test X shape is (290, 10, 9, 5), (72, 10, 9, 5) \n",
      "MultiClassEstimator(batch_size=4, epochs=50, gpuid='1')\n"
     ]
    },
    {
     "name": "stderr",
     "output_type": "stream",
     "text": [
      "  0%|          | 0/289 [00:00<?, ?it/s]"
     ]
    },
    {
     "name": "stdout",
     "output_type": "stream",
     "text": [
      "2020-10-25 15:24:49,390 - \u001b[32mINFO\u001b[0m - [bidd-aggmap]\u001b[0m - applying hierarchical clustering to obtain group information ...\u001b[0m\n",
      "2020-10-25 15:24:49,571 - \u001b[32mINFO\u001b[0m - [bidd-aggmap]\u001b[0m - Applying grid feature map(assignment), this may take several minutes(1~30 min)\u001b[0m\n",
      "2020-10-25 15:24:49,580 - \u001b[32mINFO\u001b[0m - [bidd-aggmap]\u001b[0m - Finished\u001b[0m\n"
     ]
    },
    {
     "name": "stderr",
     "output_type": "stream",
     "text": [
      "100%|##########| 289/289 [00:00<00:00, 1378.69it/s]\n",
      "100%|##########| 73/73 [00:00<00:00, 2325.50it/s]\n"
     ]
    },
    {
     "name": "stdout",
     "output_type": "stream",
     "text": [
      "\n",
      " input train and test X shape is (289, 10, 9, 1), (73, 10, 9, 1) \n",
      "MultiClassEstimator(batch_size=4, epochs=50, gpuid='1')\n"
     ]
    },
    {
     "name": "stderr",
     "output_type": "stream",
     "text": [
      "100%|##########| 289/289 [00:00<00:00, 1530.05it/s]\n",
      "100%|##########| 73/73 [00:00<00:00, 1644.72it/s]\n"
     ]
    },
    {
     "name": "stdout",
     "output_type": "stream",
     "text": [
      "\n",
      " input train and test X shape is (289, 10, 9, 1), (73, 10, 9, 1) \n",
      "MultiClassEstimator(batch_size=4, epochs=50, gpuid='1')\n"
     ]
    },
    {
     "name": "stderr",
     "output_type": "stream",
     "text": [
      "100%|##########| 290/290 [00:00<00:00, 1582.60it/s]\n",
      "100%|##########| 72/72 [00:00<00:00, 1033.10it/s]\n"
     ]
    },
    {
     "name": "stdout",
     "output_type": "stream",
     "text": [
      "\n",
      " input train and test X shape is (290, 10, 9, 1), (72, 10, 9, 1) \n",
      "MultiClassEstimator(batch_size=4, epochs=50, gpuid='1')\n"
     ]
    },
    {
     "name": "stderr",
     "output_type": "stream",
     "text": [
      "100%|##########| 290/290 [00:00<00:00, 1364.80it/s]\n",
      "100%|##########| 72/72 [00:00<00:00, 1678.73it/s]\n"
     ]
    },
    {
     "name": "stdout",
     "output_type": "stream",
     "text": [
      "\n",
      " input train and test X shape is (290, 10, 9, 1), (72, 10, 9, 1) \n",
      "MultiClassEstimator(batch_size=4, epochs=50, gpuid='1')\n"
     ]
    },
    {
     "name": "stderr",
     "output_type": "stream",
     "text": [
      "100%|##########| 290/290 [00:00<00:00, 1440.55it/s]\n",
      "100%|##########| 72/72 [00:00<00:00, 1440.97it/s]\n"
     ]
    },
    {
     "name": "stdout",
     "output_type": "stream",
     "text": [
      "\n",
      " input train and test X shape is (290, 10, 9, 1), (72, 10, 9, 1) \n",
      "MultiClassEstimator(batch_size=4, epochs=50, gpuid='1')\n"
     ]
    },
    {
     "name": "stderr",
     "output_type": "stream",
     "text": [
      "  0%|          | 0/289 [00:00<?, ?it/s]"
     ]
    },
    {
     "name": "stdout",
     "output_type": "stream",
     "text": [
      "2020-10-25 15:26:50,276 - \u001b[32mINFO\u001b[0m - [bidd-aggmap]\u001b[0m - applying hierarchical clustering to obtain group information ...\u001b[0m\n",
      "2020-10-25 15:26:50,456 - \u001b[32mINFO\u001b[0m - [bidd-aggmap]\u001b[0m - Applying grid feature map(assignment), this may take several minutes(1~30 min)\u001b[0m\n",
      "2020-10-25 15:26:50,468 - \u001b[32mINFO\u001b[0m - [bidd-aggmap]\u001b[0m - Finished\u001b[0m\n"
     ]
    },
    {
     "name": "stderr",
     "output_type": "stream",
     "text": [
      "100%|##########| 289/289 [00:00<00:00, 1650.33it/s]\n",
      "100%|##########| 73/73 [00:00<00:00, 1487.25it/s]\n"
     ]
    },
    {
     "name": "stdout",
     "output_type": "stream",
     "text": [
      "\n",
      " input train and test X shape is (289, 10, 9, 3), (73, 10, 9, 3) \n",
      "MultiClassEstimator(batch_size=4, epochs=50, gpuid='1')\n"
     ]
    },
    {
     "name": "stderr",
     "output_type": "stream",
     "text": [
      "100%|##########| 289/289 [00:00<00:00, 1614.78it/s]\n",
      "100%|##########| 73/73 [00:00<00:00, 1698.20it/s]\n"
     ]
    },
    {
     "name": "stdout",
     "output_type": "stream",
     "text": [
      "\n",
      " input train and test X shape is (289, 10, 9, 3), (73, 10, 9, 3) \n",
      "MultiClassEstimator(batch_size=4, epochs=50, gpuid='1')\n"
     ]
    },
    {
     "name": "stderr",
     "output_type": "stream",
     "text": [
      "100%|##########| 290/290 [00:00<00:00, 1846.41it/s]\n",
      "100%|##########| 72/72 [00:00<00:00, 2095.93it/s]\n"
     ]
    },
    {
     "name": "stdout",
     "output_type": "stream",
     "text": [
      "\n",
      " input train and test X shape is (290, 10, 9, 3), (72, 10, 9, 3) \n",
      "MultiClassEstimator(batch_size=4, epochs=50, gpuid='1')\n"
     ]
    },
    {
     "name": "stderr",
     "output_type": "stream",
     "text": [
      "100%|##########| 290/290 [00:00<00:00, 1507.46it/s]\n",
      "100%|##########| 72/72 [00:00<00:00, 1778.05it/s]\n"
     ]
    },
    {
     "name": "stdout",
     "output_type": "stream",
     "text": [
      "\n",
      " input train and test X shape is (290, 10, 9, 3), (72, 10, 9, 3) \n",
      "MultiClassEstimator(batch_size=4, epochs=50, gpuid='1')\n"
     ]
    },
    {
     "name": "stderr",
     "output_type": "stream",
     "text": [
      "100%|##########| 290/290 [00:00<00:00, 1743.65it/s]\n",
      "100%|##########| 72/72 [00:00<00:00, 1378.54it/s]\n"
     ]
    },
    {
     "name": "stdout",
     "output_type": "stream",
     "text": [
      "\n",
      " input train and test X shape is (290, 10, 9, 3), (72, 10, 9, 3) \n",
      "MultiClassEstimator(batch_size=4, epochs=50, gpuid='1')\n"
     ]
    },
    {
     "name": "stderr",
     "output_type": "stream",
     "text": [
      "  0%|          | 0/289 [00:00<?, ?it/s]"
     ]
    },
    {
     "name": "stdout",
     "output_type": "stream",
     "text": [
      "2020-10-25 15:28:49,736 - \u001b[32mINFO\u001b[0m - [bidd-aggmap]\u001b[0m - applying hierarchical clustering to obtain group information ...\u001b[0m\n",
      "2020-10-25 15:28:49,915 - \u001b[32mINFO\u001b[0m - [bidd-aggmap]\u001b[0m - Applying grid feature map(assignment), this may take several minutes(1~30 min)\u001b[0m\n",
      "2020-10-25 15:28:49,929 - \u001b[32mINFO\u001b[0m - [bidd-aggmap]\u001b[0m - Finished\u001b[0m\n"
     ]
    },
    {
     "name": "stderr",
     "output_type": "stream",
     "text": [
      "100%|##########| 289/289 [00:00<00:00, 1853.43it/s]\n",
      "100%|##########| 73/73 [00:00<00:00, 1519.70it/s]\n"
     ]
    },
    {
     "name": "stdout",
     "output_type": "stream",
     "text": [
      "\n",
      " input train and test X shape is (289, 10, 9, 5), (73, 10, 9, 5) \n",
      "MultiClassEstimator(batch_size=4, epochs=50, gpuid='1')\n"
     ]
    },
    {
     "name": "stderr",
     "output_type": "stream",
     "text": [
      "100%|##########| 289/289 [00:00<00:00, 1651.63it/s]\n",
      "100%|##########| 73/73 [00:00<00:00, 1726.99it/s]\n"
     ]
    },
    {
     "name": "stdout",
     "output_type": "stream",
     "text": [
      "\n",
      " input train and test X shape is (289, 10, 9, 5), (73, 10, 9, 5) \n",
      "MultiClassEstimator(batch_size=4, epochs=50, gpuid='1')\n"
     ]
    },
    {
     "name": "stderr",
     "output_type": "stream",
     "text": [
      "100%|##########| 290/290 [00:00<00:00, 1689.53it/s]\n",
      "100%|##########| 72/72 [00:00<00:00, 1990.35it/s]\n"
     ]
    },
    {
     "name": "stdout",
     "output_type": "stream",
     "text": [
      "\n",
      " input train and test X shape is (290, 10, 9, 5), (72, 10, 9, 5) \n",
      "MultiClassEstimator(batch_size=4, epochs=50, gpuid='1')\n"
     ]
    },
    {
     "name": "stderr",
     "output_type": "stream",
     "text": [
      "100%|##########| 290/290 [00:00<00:00, 1628.23it/s]\n",
      "100%|##########| 72/72 [00:00<00:00, 1715.42it/s]\n"
     ]
    },
    {
     "name": "stdout",
     "output_type": "stream",
     "text": [
      "\n",
      " input train and test X shape is (290, 10, 9, 5), (72, 10, 9, 5) \n",
      "MultiClassEstimator(batch_size=4, epochs=50, gpuid='1')\n"
     ]
    },
    {
     "name": "stderr",
     "output_type": "stream",
     "text": [
      "100%|##########| 290/290 [00:00<00:00, 1568.67it/s]\n",
      "100%|##########| 72/72 [00:00<00:00, 1247.69it/s]\n"
     ]
    },
    {
     "name": "stdout",
     "output_type": "stream",
     "text": [
      "\n",
      " input train and test X shape is (290, 10, 9, 5), (72, 10, 9, 5) \n",
      "MultiClassEstimator(batch_size=4, epochs=50, gpuid='1')\n"
     ]
    }
   ],
   "source": [
    "n_splits = 5 #5-fold reapeat 5 times\n",
    "\n",
    "run_all = []\n",
    "\n",
    "for repeat_seed in [8, 16, 32, 64, 128]: #5 repeats random seeds\n",
    "    outer = KFold(n_splits = n_splits, shuffle = True, random_state = repeat_seed)\n",
    "    outer_idx = list(outer.split(range(len(Y))))\n",
    "    \n",
    "    for c in [1, 3, 5]: \n",
    "        \n",
    "        mp = mp.fit(cluster_channels = c, verbose = 0)\n",
    "        for i, idx in enumerate(outer_idx):\n",
    "            \n",
    "            train_idx, valid_idx = idx\n",
    "            fold_num = \"fold_%s\" % str(i+1).zfill(2) \n",
    "            \n",
    "            validY = Y[valid_idx]\n",
    "            validx = X[valid_idx]\n",
    "\n",
    "            trainx = X[train_idx]\n",
    "            trainY = Y[train_idx]\n",
    "\n",
    "            trainX = mp.batch_transform(trainx, scale_method = 'standard')\n",
    "            validX = mp.batch_transform(validx, scale_method = 'standard')\n",
    "            print(\"\\n input train and test X shape is %s, %s \" % (trainX.shape,  validX.shape))\n",
    "            clf = AggModel.MultiClassEstimator(epochs = 50,  \n",
    "                                               batch_size = 4,\n",
    "                                               verbose = 0, gpuid=1)\n",
    "            clf.fit(trainX, trainY, X_valid = validX, y_valid = validY)\n",
    "\n",
    "            history = clf.history.history\n",
    "            history['fold'] = fold_num\n",
    "            history['c'] = c\n",
    "            history['repeat_seed'] = repeat_seed\n",
    "            \n",
    "            run_all.append(history)"
   ]
  },
  {
   "cell_type": "code",
   "execution_count": 10,
   "metadata": {},
   "outputs": [],
   "source": [
    "dfr = pd.DataFrame(run_all)\n",
    "dfr.to_csv('./5FCV_valid.csv')"
   ]
  },
  {
   "cell_type": "code",
   "execution_count": 13,
   "metadata": {},
   "outputs": [],
   "source": []
  },
  {
   "cell_type": "code",
   "execution_count": 26,
   "metadata": {},
   "outputs": [
    {
     "data": {
      "image/png": "[encoded data removed]",
      "text/plain": [
       "<Figure size 1296x432 with 2 Axes>"
      ]
     },
     "metadata": {},
     "output_type": "display_data"
    }
   ],
   "source": [
    "sns.set(style = 'white', font_scale=1.8)\n",
    "\n",
    "fig, axes = plt.subplots(nrows=1, ncols=2, figsize=(18,6), sharex=False, sharey=False, )\n",
    "ax1, ax2 = axes        \n",
    "\n",
    "\n",
    "col = 'val_loss'\n",
    "loss_mean = dfr.groupby(['c']).agg({col: lambda x:x.tolist()})[col].apply(lambda x: np.array(x).mean(axis=0)).apply(pd.Series).T\n",
    "loss_std = dfr.groupby(['c']).agg({col: lambda x:x.tolist()})[col].apply(lambda x: np.array(x).std(axis=0)).apply(pd.Series).T\n",
    "\n",
    "loss_mean.columns.name = 'Channels'\n",
    "loss_std.columns.name = 'Channels'\n",
    "\n",
    "loss_mean.plot(ax=ax1, lw = 3, color = color)\n",
    "ax1.set_ylabel('Validation loss')\n",
    "ax1.set_xlabel('Epochs')\n",
    "\n",
    "# for i, j in zip(loss_mean.columns, color[:3]):\n",
    "#     bottom = loss_mean[i]-loss_std[i]\n",
    "#     up = loss_mean[i] + loss_std[i]\n",
    "#     ax1.fill_between(loss_mean.index, bottom, up,alpha=0.2, color = j)\n",
    "\n",
    "#plt.savefig(os.path.join(results_save_folder, 'performance_01_test.png'), bbox_inches='tight', dpi=300)\n",
    "\n",
    "col = 'val_accuracy'\n",
    "acc_mean = dfr.groupby(['c']).agg({col: lambda x:x.tolist()})[col].apply(lambda x: np.array(x).mean(axis=0)).apply(pd.Series).T\n",
    "acc_std = dfr.groupby(['c']).agg({col: lambda x:x.tolist()})[col].apply(lambda x: np.array(x).std(axis=0)).apply(pd.Series).T\n",
    "\n",
    "\n",
    "acc_mean.columns.name = 'Channels'\n",
    "acc_std.columns.name = 'Channels'\n",
    "\n",
    "acc_mean.plot(ax=ax2, lw = 3, color = color)\n",
    "ax2.set_ylabel('Validation accuracy')\n",
    "ax2.set_xlabel('Epochs')\n",
    "\n",
    "fig.tight_layout()\n",
    "plt.subplots_adjust(left=None, bottom=None, right=None, top=None, wspace=0.3)\n",
    "plt.savefig('5FCV_valid.png', bbox_inches='tight', dpi=400)"
   ]
  },
  {
   "cell_type": "code",
   "execution_count": 24,
   "metadata": {},
   "outputs": [],
   "source": [
    "dfr = pd.read_csv('./5FCV_valid.csv',index_col=0)\n",
    "f = lambda x:[float(i) for i in x.replace(\"[\",'').replace(\"]\",'').split(',')]\n",
    "dfr['accuracy'] = dfr['accuracy'].apply(f)\n",
    "dfr['val_accuracy'] = dfr['val_accuracy'].apply(f)\n",
    "dfr['val_loss'] = dfr['val_loss'].apply(f)\n",
    "dfr['loss'] = dfr['loss'].apply(f)"
   ]
  },
  {
   "cell_type": "code",
   "execution_count": 28,
   "metadata": {},
   "outputs": [
    {
     "data": {
      "image/png": "[encoded data removed]",
      "text/plain": [
       "<Figure size 648x432 with 1 Axes>"
      ]
     },
     "metadata": {},
     "output_type": "display_data"
    }
   ],
   "source": [
    "sns.set(style = 'white', font_scale=2)\n",
    "\n",
    "fig, axes = plt.subplots(nrows=1, ncols=1, figsize=(9,6), sharex=False, sharey=False, )\n",
    "ax2 = axes        \n",
    "\n",
    "col = 'val_accuracy'\n",
    "acc_mean = dfr.groupby(['c']).agg({col: lambda x:x.tolist()})[col].apply(lambda x: np.array(x).mean(axis=0)).apply(pd.Series).T\n",
    "acc_std = dfr.groupby(['c']).agg({col: lambda x:x.tolist()})[col].apply(lambda x: np.array(x).std(axis=0)).apply(pd.Series).T\n",
    "\n",
    "\n",
    "acc_mean.columns.name = 'Channels'\n",
    "acc_std.columns.name = 'Channels'\n",
    "\n",
    "acc_mean.plot(ax=ax2, lw = 4, color = color)\n",
    "ax2.set_ylabel('Accuracy')\n",
    "ax2.set_xlabel('Epochs')\n",
    "#plt.title('COVMS')\n",
    "\n",
    "ax2.tick_params(bottom='on', left='off',  labelleft='on', labelbottom='on', pad=-.6,)\n",
    "sns.despine(top=True, right=True, left=False, bottom=False)\n",
    "\n",
    "fig.tight_layout()\n",
    "plt.subplots_adjust(left=None, bottom=None, right=None, top=None, wspace=0.3)\n",
    "#plt.savefig('5FCV_valid_acc.pdf', bbox_inches='tight', dpi=400)"
   ]
  },
  {
   "cell_type": "code",
   "execution_count": 18,
   "metadata": {},
   "outputs": [],
   "source": []
  },
  {
   "cell_type": "code",
   "execution_count": null,
   "metadata": {},
   "outputs": [],
   "source": []
  },
  {
   "cell_type": "code",
   "execution_count": null,
   "metadata": {},
   "outputs": [],
   "source": []
  }
 ],
 "metadata": {
  "kernelspec": {
   "display_name": "Python 3",
   "language": "python",
   "name": "python3"
  },
  "language_info": {
   "codemirror_mode": {
    "name": "ipython",
    "version": 3
   },
   "file_extension": ".py",
   "mimetype": "text/x-python",
   "name": "python",
   "nbconvert_exporter": "python",
   "pygments_lexer": "ipython3",
   "version": "3.6.9"
  }
 },
 "nbformat": 4,
 "nbformat_minor": 4
}
