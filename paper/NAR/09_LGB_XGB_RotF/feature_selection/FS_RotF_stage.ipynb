{
 "cells": [
  {
   "cell_type": "code",
   "execution_count": 2,
   "id": "931c12be-557b-4a7e-87b6-af7424a7a3ce",
   "metadata": {},
   "outputs": [],
   "source": [
    "import warnings, os\n",
    "warnings.filterwarnings(\"ignore\")\n",
    "\n",
    "import pandas as pd\n",
    "import numpy as np\n",
    "from glob import glob\n",
    "\n",
    "\n",
    "import matplotlib.pyplot as plt\n",
    "import matplotlib.image as mpimg\n",
    "\n",
    "from aggmap import AggMap, loadmap\n",
    "import seaborn as sns\n",
    "\n",
    "\n",
    "import xgboost as xgb\n",
    "from sklearn.model_selection import train_test_split, GridSearchCV\n",
    "from sklearn.pipeline import Pipeline\n",
    "from sklearn.preprocessing import StandardScaler\n",
    "from sklearn.decomposition import PCA\n",
    "from sklearn.model_selection import KFold, StratifiedKFold\n",
    "from sklearn.metrics import confusion_matrix, precision_recall_curve, roc_auc_score\n",
    "from sklearn.metrics import auc as calculate_auc\n"
   ]
  },
  {
   "cell_type": "code",
   "execution_count": null,
   "id": "f597d637-8d68-4dfe-9bee-cd00224ef8c6",
   "metadata": {},
   "outputs": [],
   "source": []
  },
  {
   "cell_type": "markdown",
   "id": "c3c77a85-e140-49d3-be3b-d2425ba6eabd",
   "metadata": {},
   "source": [
    "## LGR, RF, KNN, ROF, XGBoost"
   ]
  },
  {
   "cell_type": "code",
   "execution_count": 3,
   "id": "aec65eed-0693-443c-80f2-b779c474f6a3",
   "metadata": {},
   "outputs": [],
   "source": [
    "from sklearn.ensemble import RandomForestClassifier\n",
    "from rotation_forest import RotationForestClassifier"
   ]
  },
  {
   "cell_type": "code",
   "execution_count": 4,
   "id": "61fb799f-14c2-40a6-987f-e002f4655755",
   "metadata": {},
   "outputs": [],
   "source": [
    "def score(dfr):\n",
    "    y_true = dfr.y_true\n",
    "    y_score = dfr.y_score\n",
    "    y_pred = dfr.y_score.round()\n",
    "\n",
    "    tn, fp, fn, tp = confusion_matrix(y_true, y_pred).ravel()\n",
    "\n",
    "    acc = (tp + tn) / sum([tn, fp, fn, tp])\n",
    "    auc = roc_auc_score(y_true, y_score)\n",
    "    ber =  (fp / (fp + tn) + fn / (tp + fn)) * 0.5\n",
    "\n",
    "    print('acc: %.3f, roc-auc: %.3f, BER: %.3f' % (acc,auc,ber))\n",
    "\n",
    "    return acc, auc\n",
    "\n",
    "\n",
    "def get_best_params(X, y):\n",
    "    clf = RotationForestClassifier()\n",
    "    parameters = {'max_depth': [4, 6, 9],\n",
    "                  'n_estimators': [10, 50, 100]}\n",
    "\n",
    "    grid = GridSearchCV(clf, parameters, scoring='roc_auc', n_jobs=9, iid=False, cv=5, verbose=2)\n",
    "    gres = grid.fit(X, y)\n",
    "    return grid.best_params_"
   ]
  },
  {
   "cell_type": "code",
   "execution_count": 5,
   "id": "c653ec41-1f2f-498d-b2a9-9ddb3e958f6f",
   "metadata": {
    "tags": []
   },
   "outputs": [
    {
     "name": "stdout",
     "output_type": "stream",
     "text": [
      "################################################## /home/shenwanxiang/Research/AggMapNet_dataset/TCGA-S/O_z-score_train_THCA_stage.h5 ##################################################\n",
      "/home/shenwanxiang/Research/AggMapNet_dataset/TCGA-S/O_z-score_train_THCA_stage.h5 {0: 291, 1: 222}\n",
      "\n",
      "Input train and test X shape is (410, 173), (103, 173)  \n",
      "\n",
      "Getting the best parameters by gridsearch \n",
      "\n"
     ]
    },
    {
     "name": "stderr",
     "output_type": "stream",
     "text": [
      "[Parallel(n_jobs=20)]: Using backend ThreadingBackend with 20 concurrent workers.\n",
      "[Parallel(n_jobs=20)]: Done  10 tasks      | elapsed:    1.5s\n",
      "[Parallel(n_jobs=20)]: Done  50 out of  50 | elapsed:    3.2s finished\n",
      "[Parallel(n_jobs=20)]: Using backend ThreadingBackend with 20 concurrent workers.\n",
      "[Parallel(n_jobs=20)]: Done  10 tasks      | elapsed:    0.2s\n",
      "[Parallel(n_jobs=20)]: Done  50 out of  50 | elapsed:    0.9s finished\n",
      "[Parallel(n_jobs=20)]: Using backend ThreadingBackend with 20 concurrent workers.\n"
     ]
    },
    {
     "name": "stdout",
     "output_type": "stream",
     "text": [
      "acc: 0.650, roc-auc: 0.657, BER: 0.350\n",
      "\n",
      "Input train and test X shape is (410, 137), (103, 137)  \n",
      "\n",
      "Getting the best parameters by gridsearch \n",
      "\n"
     ]
    },
    {
     "name": "stderr",
     "output_type": "stream",
     "text": [
      "[Parallel(n_jobs=20)]: Done  10 tasks      | elapsed:    1.1s\n",
      "[Parallel(n_jobs=20)]: Done  50 out of  50 | elapsed:    2.5s finished\n",
      "[Parallel(n_jobs=20)]: Using backend ThreadingBackend with 20 concurrent workers.\n",
      "[Parallel(n_jobs=20)]: Done  10 tasks      | elapsed:    0.2s\n",
      "[Parallel(n_jobs=20)]: Done  50 out of  50 | elapsed:    0.9s finished\n"
     ]
    },
    {
     "name": "stdout",
     "output_type": "stream",
     "text": [
      "acc: 0.485, roc-auc: 0.549, BER: 0.504\n",
      "\n",
      "Input train and test X shape is (410, 145), (103, 145)  \n",
      "\n",
      "Getting the best parameters by gridsearch \n",
      "\n"
     ]
    },
    {
     "name": "stderr",
     "output_type": "stream",
     "text": [
      "[Parallel(n_jobs=20)]: Using backend ThreadingBackend with 20 concurrent workers.\n",
      "[Parallel(n_jobs=20)]: Done  10 tasks      | elapsed:    1.2s\n",
      "[Parallel(n_jobs=20)]: Done  50 out of  50 | elapsed:    2.5s finished\n",
      "[Parallel(n_jobs=20)]: Using backend ThreadingBackend with 20 concurrent workers.\n",
      "[Parallel(n_jobs=20)]: Done  10 tasks      | elapsed:    0.2s\n",
      "[Parallel(n_jobs=20)]: Done  50 out of  50 | elapsed:    0.9s finished\n",
      "[Parallel(n_jobs=20)]: Using backend ThreadingBackend with 20 concurrent workers.\n"
     ]
    },
    {
     "name": "stdout",
     "output_type": "stream",
     "text": [
      "acc: 0.563, roc-auc: 0.547, BER: 0.445\n",
      "\n",
      "Input train and test X shape is (411, 148), (102, 148)  \n",
      "\n",
      "Getting the best parameters by gridsearch \n",
      "\n"
     ]
    },
    {
     "name": "stderr",
     "output_type": "stream",
     "text": [
      "[Parallel(n_jobs=20)]: Done  10 tasks      | elapsed:    1.3s\n",
      "[Parallel(n_jobs=20)]: Done  50 out of  50 | elapsed:    2.6s finished\n",
      "[Parallel(n_jobs=20)]: Using backend ThreadingBackend with 20 concurrent workers.\n",
      "[Parallel(n_jobs=20)]: Done  10 tasks      | elapsed:    0.3s\n",
      "[Parallel(n_jobs=20)]: Done  50 out of  50 | elapsed:    1.0s finished\n"
     ]
    },
    {
     "name": "stdout",
     "output_type": "stream",
     "text": [
      "acc: 0.549, roc-auc: 0.556, BER: 0.467\n",
      "\n",
      "Input train and test X shape is (411, 165), (102, 165)  \n",
      "\n",
      "Getting the best parameters by gridsearch \n",
      "\n"
     ]
    },
    {
     "name": "stderr",
     "output_type": "stream",
     "text": [
      "[Parallel(n_jobs=20)]: Using backend ThreadingBackend with 20 concurrent workers.\n",
      "[Parallel(n_jobs=20)]: Done  10 tasks      | elapsed:    1.2s\n",
      "[Parallel(n_jobs=20)]: Done  50 out of  50 | elapsed:    2.7s finished\n",
      "[Parallel(n_jobs=20)]: Using backend ThreadingBackend with 20 concurrent workers.\n",
      "[Parallel(n_jobs=20)]: Done  10 tasks      | elapsed:    0.2s\n",
      "[Parallel(n_jobs=20)]: Done  50 out of  50 | elapsed:    0.9s finished\n"
     ]
    },
    {
     "name": "stdout",
     "output_type": "stream",
     "text": [
      "acc: 0.510, roc-auc: 0.493, BER: 0.495\n",
      "The auc score for /home/shenwanxiang/Research/AggMapNet_dataset/TCGA-S/O_z-score_train_THCA_stage.h5 is 0.5603776443023266.\n",
      "################################################## /home/shenwanxiang/Research/AggMapNet_dataset/TCGA-S/O_z-score_train_UCEC_stage.h5 ##################################################\n",
      "/home/shenwanxiang/Research/AggMapNet_dataset/TCGA-S/O_z-score_train_UCEC_stage.h5 {0: 342, 1: 212}\n",
      "\n",
      "Input train and test X shape is (443, 2367), (111, 2367)  \n",
      "\n",
      "Getting the best parameters by gridsearch \n",
      "\n"
     ]
    },
    {
     "name": "stderr",
     "output_type": "stream",
     "text": [
      "[Parallel(n_jobs=20)]: Using backend ThreadingBackend with 20 concurrent workers.\n",
      "[Parallel(n_jobs=20)]: Done  10 tasks      | elapsed:   25.5s\n",
      "[Parallel(n_jobs=20)]: Done  50 out of  50 | elapsed:   59.1s finished\n",
      "[Parallel(n_jobs=20)]: Using backend ThreadingBackend with 20 concurrent workers.\n",
      "[Parallel(n_jobs=20)]: Done  10 tasks      | elapsed:    0.7s\n",
      "[Parallel(n_jobs=20)]: Done  50 out of  50 | elapsed:    2.9s finished\n"
     ]
    },
    {
     "name": "stdout",
     "output_type": "stream",
     "text": [
      "acc: 0.595, roc-auc: 0.610, BER: 0.417\n",
      "\n",
      "Input train and test X shape is (443, 2775), (111, 2775)  \n",
      "\n",
      "Getting the best parameters by gridsearch \n",
      "\n"
     ]
    },
    {
     "name": "stderr",
     "output_type": "stream",
     "text": [
      "[Parallel(n_jobs=20)]: Using backend ThreadingBackend with 20 concurrent workers.\n",
      "[Parallel(n_jobs=20)]: Done  10 tasks      | elapsed:   33.0s\n",
      "[Parallel(n_jobs=20)]: Done  50 out of  50 | elapsed:  1.3min finished\n",
      "[Parallel(n_jobs=20)]: Using backend ThreadingBackend with 20 concurrent workers.\n",
      "[Parallel(n_jobs=20)]: Done  10 tasks      | elapsed:    0.7s\n",
      "[Parallel(n_jobs=20)]: Done  50 out of  50 | elapsed:    2.9s finished\n"
     ]
    },
    {
     "name": "stdout",
     "output_type": "stream",
     "text": [
      "acc: 0.631, roc-auc: 0.648, BER: 0.385\n",
      "\n",
      "Input train and test X shape is (443, 2829), (111, 2829)  \n",
      "\n",
      "Getting the best parameters by gridsearch \n",
      "\n"
     ]
    },
    {
     "name": "stderr",
     "output_type": "stream",
     "text": [
      "[Parallel(n_jobs=20)]: Using backend ThreadingBackend with 20 concurrent workers.\n",
      "[Parallel(n_jobs=20)]: Done  10 tasks      | elapsed:   30.9s\n",
      "[Parallel(n_jobs=20)]: Done  50 out of  50 | elapsed:  1.3min finished\n",
      "[Parallel(n_jobs=20)]: Using backend ThreadingBackend with 20 concurrent workers.\n",
      "[Parallel(n_jobs=20)]: Done  10 tasks      | elapsed:    0.8s\n",
      "[Parallel(n_jobs=20)]: Done  50 out of  50 | elapsed:    3.2s finished\n"
     ]
    },
    {
     "name": "stdout",
     "output_type": "stream",
     "text": [
      "acc: 0.532, roc-auc: 0.573, BER: 0.473\n",
      "\n",
      "Input train and test X shape is (443, 2782), (111, 2782)  \n",
      "\n",
      "Getting the best parameters by gridsearch \n",
      "\n"
     ]
    },
    {
     "name": "stderr",
     "output_type": "stream",
     "text": [
      "[Parallel(n_jobs=20)]: Using backend ThreadingBackend with 20 concurrent workers.\n",
      "[Parallel(n_jobs=20)]: Done  10 tasks      | elapsed:   32.4s\n",
      "[Parallel(n_jobs=20)]: Done  50 out of  50 | elapsed:  1.4min finished\n",
      "[Parallel(n_jobs=20)]: Using backend ThreadingBackend with 20 concurrent workers.\n",
      "[Parallel(n_jobs=20)]: Done  10 tasks      | elapsed:    0.6s\n",
      "[Parallel(n_jobs=20)]: Done  50 out of  50 | elapsed:    2.6s finished\n"
     ]
    },
    {
     "name": "stdout",
     "output_type": "stream",
     "text": [
      "acc: 0.595, roc-auc: 0.637, BER: 0.419\n",
      "\n",
      "Input train and test X shape is (444, 3644), (110, 3644)  \n",
      "\n",
      "Getting the best parameters by gridsearch \n",
      "\n"
     ]
    },
    {
     "name": "stderr",
     "output_type": "stream",
     "text": [
      "[Parallel(n_jobs=20)]: Using backend ThreadingBackend with 20 concurrent workers.\n",
      "[Parallel(n_jobs=20)]: Done  10 tasks      | elapsed:   48.3s\n",
      "[Parallel(n_jobs=20)]: Done  50 out of  50 | elapsed:  2.0min finished\n",
      "[Parallel(n_jobs=20)]: Using backend ThreadingBackend with 20 concurrent workers.\n",
      "[Parallel(n_jobs=20)]: Done  10 tasks      | elapsed:    0.9s\n",
      "[Parallel(n_jobs=20)]: Done  50 out of  50 | elapsed:    4.0s finished\n"
     ]
    },
    {
     "name": "stdout",
     "output_type": "stream",
     "text": [
      "acc: 0.564, roc-auc: 0.596, BER: 0.451\n",
      "The auc score for /home/shenwanxiang/Research/AggMapNet_dataset/TCGA-S/O_z-score_train_UCEC_stage.h5 is 0.6127780987261711.\n",
      "################################################## /home/shenwanxiang/Research/AggMapNet_dataset/TCGA-S/O_z-score_train_COAD_stage.h5 ##################################################\n",
      "/home/shenwanxiang/Research/AggMapNet_dataset/TCGA-S/O_z-score_train_COAD_stage.h5 {0: 296, 1: 209}\n",
      "\n",
      "Input train and test X shape is (404, 649), (101, 649)  \n",
      "\n",
      "Getting the best parameters by gridsearch \n",
      "\n"
     ]
    },
    {
     "name": "stderr",
     "output_type": "stream",
     "text": [
      "[Parallel(n_jobs=20)]: Using backend ThreadingBackend with 20 concurrent workers.\n",
      "[Parallel(n_jobs=20)]: Done  10 tasks      | elapsed:    4.6s\n",
      "[Parallel(n_jobs=20)]: Done  50 out of  50 | elapsed:   10.1s finished\n",
      "[Parallel(n_jobs=20)]: Using backend ThreadingBackend with 20 concurrent workers.\n",
      "[Parallel(n_jobs=20)]: Done  10 tasks      | elapsed:    0.4s\n",
      "[Parallel(n_jobs=20)]: Done  50 out of  50 | elapsed:    1.2s finished\n"
     ]
    },
    {
     "name": "stdout",
     "output_type": "stream",
     "text": [
      "acc: 0.604, roc-auc: 0.638, BER: 0.393\n",
      "\n",
      "Input train and test X shape is (404, 700), (101, 700)  \n",
      "\n",
      "Getting the best parameters by gridsearch \n",
      "\n"
     ]
    },
    {
     "name": "stderr",
     "output_type": "stream",
     "text": [
      "[Parallel(n_jobs=20)]: Using backend ThreadingBackend with 20 concurrent workers.\n",
      "[Parallel(n_jobs=20)]: Done  10 tasks      | elapsed:    5.0s\n",
      "[Parallel(n_jobs=20)]: Done  50 out of  50 | elapsed:   11.2s finished\n",
      "[Parallel(n_jobs=20)]: Using backend ThreadingBackend with 20 concurrent workers.\n",
      "[Parallel(n_jobs=20)]: Done  10 tasks      | elapsed:    0.3s\n",
      "[Parallel(n_jobs=20)]: Done  50 out of  50 | elapsed:    0.8s finished\n",
      "[Parallel(n_jobs=20)]: Using backend ThreadingBackend with 20 concurrent workers.\n"
     ]
    },
    {
     "name": "stdout",
     "output_type": "stream",
     "text": [
      "acc: 0.634, roc-auc: 0.633, BER: 0.382\n",
      "\n",
      "Input train and test X shape is (404, 419), (101, 419)  \n",
      "\n",
      "Getting the best parameters by gridsearch \n",
      "\n"
     ]
    },
    {
     "name": "stderr",
     "output_type": "stream",
     "text": [
      "[Parallel(n_jobs=20)]: Done  10 tasks      | elapsed:    3.3s\n",
      "[Parallel(n_jobs=20)]: Done  50 out of  50 | elapsed:    6.8s finished\n",
      "[Parallel(n_jobs=20)]: Using backend ThreadingBackend with 20 concurrent workers.\n",
      "[Parallel(n_jobs=20)]: Done  10 tasks      | elapsed:    0.3s\n",
      "[Parallel(n_jobs=20)]: Done  50 out of  50 | elapsed:    1.0s finished\n",
      "[Parallel(n_jobs=20)]: Using backend ThreadingBackend with 20 concurrent workers.\n"
     ]
    },
    {
     "name": "stdout",
     "output_type": "stream",
     "text": [
      "acc: 0.634, roc-auc: 0.618, BER: 0.368\n",
      "\n",
      "Input train and test X shape is (404, 269), (101, 269)  \n",
      "\n",
      "Getting the best parameters by gridsearch \n",
      "\n"
     ]
    },
    {
     "name": "stderr",
     "output_type": "stream",
     "text": [
      "[Parallel(n_jobs=20)]: Done  10 tasks      | elapsed:    2.1s\n",
      "[Parallel(n_jobs=20)]: Done  50 out of  50 | elapsed:    4.4s finished\n",
      "[Parallel(n_jobs=20)]: Using backend ThreadingBackend with 20 concurrent workers.\n",
      "[Parallel(n_jobs=20)]: Done  10 tasks      | elapsed:    0.3s\n",
      "[Parallel(n_jobs=20)]: Done  50 out of  50 | elapsed:    1.0s finished\n"
     ]
    },
    {
     "name": "stdout",
     "output_type": "stream",
     "text": [
      "acc: 0.584, roc-auc: 0.608, BER: 0.417\n",
      "\n",
      "Input train and test X shape is (404, 610), (101, 610)  \n",
      "\n",
      "Getting the best parameters by gridsearch \n",
      "\n"
     ]
    },
    {
     "name": "stderr",
     "output_type": "stream",
     "text": [
      "[Parallel(n_jobs=20)]: Using backend ThreadingBackend with 20 concurrent workers.\n",
      "[Parallel(n_jobs=20)]: Done  10 tasks      | elapsed:    4.0s\n",
      "[Parallel(n_jobs=20)]: Done  50 out of  50 | elapsed:    9.4s finished\n",
      "[Parallel(n_jobs=20)]: Using backend ThreadingBackend with 20 concurrent workers.\n",
      "[Parallel(n_jobs=20)]: Done  10 tasks      | elapsed:    0.3s\n",
      "[Parallel(n_jobs=20)]: Done  50 out of  50 | elapsed:    1.2s finished\n"
     ]
    },
    {
     "name": "stdout",
     "output_type": "stream",
     "text": [
      "acc: 0.614, roc-auc: 0.635, BER: 0.419\n",
      "The auc score for /home/shenwanxiang/Research/AggMapNet_dataset/TCGA-S/O_z-score_train_COAD_stage.h5 is 0.6263503852457064.\n",
      "################################################## /home/shenwanxiang/Research/AggMapNet_dataset/TCGA-S/O_z-score_validate_LUSC_stage.h5 ##################################################\n",
      "/home/shenwanxiang/Research/AggMapNet_dataset/TCGA-S/O_z-score_validate_LUSC_stage.h5 {1: 255, 0: 249}\n",
      "\n",
      "Input train and test X shape is (403, 153), (101, 153)  \n",
      "\n",
      "Getting the best parameters by gridsearch \n",
      "\n"
     ]
    },
    {
     "name": "stderr",
     "output_type": "stream",
     "text": [
      "[Parallel(n_jobs=20)]: Using backend ThreadingBackend with 20 concurrent workers.\n",
      "[Parallel(n_jobs=20)]: Done  10 tasks      | elapsed:    1.2s\n",
      "[Parallel(n_jobs=20)]: Done  50 out of  50 | elapsed:    2.9s finished\n",
      "[Parallel(n_jobs=20)]: Using backend ThreadingBackend with 20 concurrent workers.\n",
      "[Parallel(n_jobs=20)]: Done  10 tasks      | elapsed:    0.1s\n",
      "[Parallel(n_jobs=20)]: Done  50 out of  50 | elapsed:    0.8s finished\n"
     ]
    },
    {
     "name": "stdout",
     "output_type": "stream",
     "text": [
      "acc: 0.584, roc-auc: 0.630, BER: 0.418\n",
      "\n",
      "Input train and test X shape is (403, 228), (101, 228)  \n",
      "\n",
      "Getting the best parameters by gridsearch \n",
      "\n"
     ]
    },
    {
     "name": "stderr",
     "output_type": "stream",
     "text": [
      "[Parallel(n_jobs=20)]: Using backend ThreadingBackend with 20 concurrent workers.\n",
      "[Parallel(n_jobs=20)]: Done  10 tasks      | elapsed:    2.2s\n",
      "[Parallel(n_jobs=20)]: Done  50 out of  50 | elapsed:    4.1s finished\n",
      "[Parallel(n_jobs=20)]: Using backend ThreadingBackend with 20 concurrent workers.\n",
      "[Parallel(n_jobs=20)]: Done  10 tasks      | elapsed:    0.3s\n",
      "[Parallel(n_jobs=20)]: Done  50 out of  50 | elapsed:    0.8s finished\n",
      "[Parallel(n_jobs=20)]: Using backend ThreadingBackend with 20 concurrent workers.\n"
     ]
    },
    {
     "name": "stdout",
     "output_type": "stream",
     "text": [
      "acc: 0.535, roc-auc: 0.542, BER: 0.458\n",
      "\n",
      "Input train and test X shape is (403, 221), (101, 221)  \n",
      "\n",
      "Getting the best parameters by gridsearch \n",
      "\n"
     ]
    },
    {
     "name": "stderr",
     "output_type": "stream",
     "text": [
      "[Parallel(n_jobs=20)]: Done  10 tasks      | elapsed:    1.6s\n",
      "[Parallel(n_jobs=20)]: Done  50 out of  50 | elapsed:    3.6s finished\n",
      "[Parallel(n_jobs=20)]: Using backend ThreadingBackend with 20 concurrent workers.\n",
      "[Parallel(n_jobs=20)]: Done  10 tasks      | elapsed:    0.3s\n",
      "[Parallel(n_jobs=20)]: Done  50 out of  50 | elapsed:    0.9s finished\n",
      "[Parallel(n_jobs=20)]: Using backend ThreadingBackend with 20 concurrent workers.\n"
     ]
    },
    {
     "name": "stdout",
     "output_type": "stream",
     "text": [
      "acc: 0.564, roc-auc: 0.589, BER: 0.435\n",
      "\n",
      "Input train and test X shape is (403, 246), (101, 246)  \n",
      "\n",
      "Getting the best parameters by gridsearch \n",
      "\n"
     ]
    },
    {
     "name": "stderr",
     "output_type": "stream",
     "text": [
      "[Parallel(n_jobs=20)]: Done  10 tasks      | elapsed:    1.8s\n",
      "[Parallel(n_jobs=20)]: Done  50 out of  50 | elapsed:    3.9s finished\n",
      "[Parallel(n_jobs=20)]: Using backend ThreadingBackend with 20 concurrent workers.\n",
      "[Parallel(n_jobs=20)]: Done  10 tasks      | elapsed:    0.3s\n",
      "[Parallel(n_jobs=20)]: Done  50 out of  50 | elapsed:    0.7s finished\n"
     ]
    },
    {
     "name": "stdout",
     "output_type": "stream",
     "text": [
      "acc: 0.535, roc-auc: 0.528, BER: 0.469\n",
      "\n",
      "Input train and test X shape is (404, 237), (100, 237)  \n",
      "\n",
      "Getting the best parameters by gridsearch \n",
      "\n"
     ]
    },
    {
     "name": "stderr",
     "output_type": "stream",
     "text": [
      "[Parallel(n_jobs=20)]: Using backend ThreadingBackend with 20 concurrent workers.\n",
      "[Parallel(n_jobs=20)]: Done  10 tasks      | elapsed:    1.9s\n",
      "[Parallel(n_jobs=20)]: Done  50 out of  50 | elapsed:    4.0s finished\n",
      "[Parallel(n_jobs=20)]: Using backend ThreadingBackend with 20 concurrent workers.\n",
      "[Parallel(n_jobs=20)]: Done  10 tasks      | elapsed:    0.3s\n",
      "[Parallel(n_jobs=20)]: Done  50 out of  50 | elapsed:    0.6s finished\n"
     ]
    },
    {
     "name": "stdout",
     "output_type": "stream",
     "text": [
      "acc: 0.520, roc-auc: 0.563, BER: 0.470\n",
      "The auc score for /home/shenwanxiang/Research/AggMapNet_dataset/TCGA-S/O_z-score_validate_LUSC_stage.h5 is 0.5704224356607789.\n",
      "################################################## /home/shenwanxiang/Research/AggMapNet_dataset/TCGA-S/O_z-score_train_KIRC_stage.h5 ##################################################\n",
      "/home/shenwanxiang/Research/AggMapNet_dataset/TCGA-S/O_z-score_train_KIRC_stage.h5 {0: 338, 1: 206}\n",
      "\n",
      "Input train and test X shape is (435, 3919), (109, 3919)  \n",
      "\n",
      "Getting the best parameters by gridsearch \n",
      "\n"
     ]
    },
    {
     "name": "stderr",
     "output_type": "stream",
     "text": [
      "[Parallel(n_jobs=20)]: Using backend ThreadingBackend with 20 concurrent workers.\n",
      "[Parallel(n_jobs=20)]: Done  10 tasks      | elapsed:   59.5s\n",
      "[Parallel(n_jobs=20)]: Done  50 out of  50 | elapsed:  2.3min finished\n",
      "[Parallel(n_jobs=20)]: Using backend ThreadingBackend with 20 concurrent workers.\n",
      "[Parallel(n_jobs=20)]: Done  10 tasks      | elapsed:    0.8s\n",
      "[Parallel(n_jobs=20)]: Done  50 out of  50 | elapsed:    3.7s finished\n"
     ]
    },
    {
     "name": "stdout",
     "output_type": "stream",
     "text": [
      "acc: 0.615, roc-auc: 0.606, BER: 0.415\n",
      "\n",
      "Input train and test X shape is (435, 2527), (109, 2527)  \n",
      "\n",
      "Getting the best parameters by gridsearch \n",
      "\n"
     ]
    },
    {
     "name": "stderr",
     "output_type": "stream",
     "text": [
      "[Parallel(n_jobs=20)]: Using backend ThreadingBackend with 20 concurrent workers.\n",
      "[Parallel(n_jobs=20)]: Done  10 tasks      | elapsed:   27.3s\n",
      "[Parallel(n_jobs=20)]: Done  50 out of  50 | elapsed:  1.1min finished\n",
      "[Parallel(n_jobs=20)]: Using backend ThreadingBackend with 20 concurrent workers.\n",
      "[Parallel(n_jobs=20)]: Done  10 tasks      | elapsed:    0.7s\n",
      "[Parallel(n_jobs=20)]: Done  50 out of  50 | elapsed:    3.2s finished\n"
     ]
    },
    {
     "name": "stdout",
     "output_type": "stream",
     "text": [
      "acc: 0.697, roc-auc: 0.730, BER: 0.296\n",
      "\n",
      "Input train and test X shape is (435, 3131), (109, 3131)  \n",
      "\n",
      "Getting the best parameters by gridsearch \n",
      "\n"
     ]
    },
    {
     "name": "stderr",
     "output_type": "stream",
     "text": [
      "[Parallel(n_jobs=20)]: Using backend ThreadingBackend with 20 concurrent workers.\n",
      "[Parallel(n_jobs=20)]: Done  10 tasks      | elapsed:   44.4s\n",
      "[Parallel(n_jobs=20)]: Done  50 out of  50 | elapsed:  1.8min finished\n",
      "[Parallel(n_jobs=20)]: Using backend ThreadingBackend with 20 concurrent workers.\n",
      "[Parallel(n_jobs=20)]: Done  10 tasks      | elapsed:    0.8s\n",
      "[Parallel(n_jobs=20)]: Done  50 out of  50 | elapsed:    3.4s finished\n"
     ]
    },
    {
     "name": "stdout",
     "output_type": "stream",
     "text": [
      "acc: 0.670, roc-auc: 0.721, BER: 0.334\n",
      "\n",
      "Input train and test X shape is (435, 2820), (109, 2820)  \n",
      "\n",
      "Getting the best parameters by gridsearch \n",
      "\n"
     ]
    },
    {
     "name": "stderr",
     "output_type": "stream",
     "text": [
      "[Parallel(n_jobs=20)]: Using backend ThreadingBackend with 20 concurrent workers.\n",
      "[Parallel(n_jobs=20)]: Done  10 tasks      | elapsed:   37.5s\n",
      "[Parallel(n_jobs=20)]: Done  50 out of  50 | elapsed:  1.5min finished\n",
      "[Parallel(n_jobs=20)]: Using backend ThreadingBackend with 20 concurrent workers.\n",
      "[Parallel(n_jobs=20)]: Done  10 tasks      | elapsed:    0.9s\n",
      "[Parallel(n_jobs=20)]: Done  50 out of  50 | elapsed:    3.5s finished\n"
     ]
    },
    {
     "name": "stdout",
     "output_type": "stream",
     "text": [
      "acc: 0.615, roc-auc: 0.601, BER: 0.404\n",
      "\n",
      "Input train and test X shape is (436, 3255), (108, 3255)  \n",
      "\n",
      "Getting the best parameters by gridsearch \n",
      "\n"
     ]
    },
    {
     "name": "stderr",
     "output_type": "stream",
     "text": [
      "[Parallel(n_jobs=20)]: Using backend ThreadingBackend with 20 concurrent workers.\n",
      "[Parallel(n_jobs=20)]: Done  10 tasks      | elapsed:   47.6s\n",
      "[Parallel(n_jobs=20)]: Done  50 out of  50 | elapsed:  1.9min finished\n",
      "[Parallel(n_jobs=20)]: Using backend ThreadingBackend with 20 concurrent workers.\n",
      "[Parallel(n_jobs=20)]: Done  10 tasks      | elapsed:    1.0s\n",
      "[Parallel(n_jobs=20)]: Done  50 out of  50 | elapsed:    4.4s finished\n"
     ]
    },
    {
     "name": "stdout",
     "output_type": "stream",
     "text": [
      "acc: 0.704, roc-auc: 0.684, BER: 0.329\n",
      "The auc score for /home/shenwanxiang/Research/AggMapNet_dataset/TCGA-S/O_z-score_train_KIRC_stage.h5 is 0.6684028418372271.\n",
      "################################################## /home/shenwanxiang/Research/AggMapNet_dataset/TCGA-S/O_z-score_test_BRCA_stage.h5 ##################################################\n",
      "/home/shenwanxiang/Research/AggMapNet_dataset/TCGA-S/O_z-score_test_BRCA_stage.h5 {0: 861, 1: 273}\n",
      "\n",
      "Input train and test X shape is (907, 139), (227, 139)  \n",
      "\n",
      "Getting the best parameters by gridsearch \n",
      "\n"
     ]
    },
    {
     "name": "stderr",
     "output_type": "stream",
     "text": [
      "[Parallel(n_jobs=20)]: Using backend ThreadingBackend with 20 concurrent workers.\n",
      "[Parallel(n_jobs=20)]: Done  10 tasks      | elapsed:    1.8s\n",
      "[Parallel(n_jobs=20)]: Done  50 out of  50 | elapsed:    3.9s finished\n",
      "[Parallel(n_jobs=20)]: Using backend ThreadingBackend with 20 concurrent workers.\n",
      "[Parallel(n_jobs=20)]: Done  10 tasks      | elapsed:    0.3s\n",
      "[Parallel(n_jobs=20)]: Done  50 out of  50 | elapsed:    1.1s finished\n"
     ]
    },
    {
     "name": "stdout",
     "output_type": "stream",
     "text": [
      "acc: 0.634, roc-auc: 0.550, BER: 0.458\n",
      "\n",
      "Input train and test X shape is (907, 313), (227, 313)  \n",
      "\n",
      "Getting the best parameters by gridsearch \n",
      "\n"
     ]
    },
    {
     "name": "stderr",
     "output_type": "stream",
     "text": [
      "[Parallel(n_jobs=20)]: Using backend ThreadingBackend with 20 concurrent workers.\n",
      "[Parallel(n_jobs=20)]: Done  10 tasks      | elapsed:    3.2s\n",
      "[Parallel(n_jobs=20)]: Done  50 out of  50 | elapsed:    7.6s finished\n",
      "[Parallel(n_jobs=20)]: Using backend ThreadingBackend with 20 concurrent workers.\n",
      "[Parallel(n_jobs=20)]: Done  10 tasks      | elapsed:    0.2s\n",
      "[Parallel(n_jobs=20)]: Done  50 out of  50 | elapsed:    0.8s finished\n"
     ]
    },
    {
     "name": "stdout",
     "output_type": "stream",
     "text": [
      "acc: 0.634, roc-auc: 0.492, BER: 0.512\n",
      "\n",
      "Input train and test X shape is (907, 162), (227, 162)  \n",
      "\n",
      "Getting the best parameters by gridsearch \n",
      "\n"
     ]
    },
    {
     "name": "stderr",
     "output_type": "stream",
     "text": [
      "[Parallel(n_jobs=20)]: Using backend ThreadingBackend with 20 concurrent workers.\n",
      "[Parallel(n_jobs=20)]: Done  10 tasks      | elapsed:    2.0s\n",
      "[Parallel(n_jobs=20)]: Done  50 out of  50 | elapsed:    4.3s finished\n",
      "[Parallel(n_jobs=20)]: Using backend ThreadingBackend with 20 concurrent workers.\n",
      "[Parallel(n_jobs=20)]: Done  10 tasks      | elapsed:    0.2s\n",
      "[Parallel(n_jobs=20)]: Done  50 out of  50 | elapsed:    0.9s finished\n"
     ]
    },
    {
     "name": "stdout",
     "output_type": "stream",
     "text": [
      "acc: 0.678, roc-auc: 0.535, BER: 0.492\n",
      "\n",
      "Input train and test X shape is (907, 753), (227, 753)  \n",
      "\n",
      "Getting the best parameters by gridsearch \n",
      "\n"
     ]
    },
    {
     "name": "stderr",
     "output_type": "stream",
     "text": [
      "[Parallel(n_jobs=20)]: Using backend ThreadingBackend with 20 concurrent workers.\n",
      "[Parallel(n_jobs=20)]: Done  10 tasks      | elapsed:   10.3s\n",
      "[Parallel(n_jobs=20)]: Done  50 out of  50 | elapsed:   22.2s finished\n",
      "[Parallel(n_jobs=20)]: Using backend ThreadingBackend with 20 concurrent workers.\n",
      "[Parallel(n_jobs=20)]: Done  10 tasks      | elapsed:    0.4s\n",
      "[Parallel(n_jobs=20)]: Done  50 out of  50 | elapsed:    1.5s finished\n"
     ]
    },
    {
     "name": "stdout",
     "output_type": "stream",
     "text": [
      "acc: 0.674, roc-auc: 0.557, BER: 0.457\n",
      "\n",
      "Input train and test X shape is (908, 153), (226, 153)  \n",
      "\n",
      "Getting the best parameters by gridsearch \n",
      "\n"
     ]
    },
    {
     "name": "stderr",
     "output_type": "stream",
     "text": [
      "[Parallel(n_jobs=20)]: Using backend ThreadingBackend with 20 concurrent workers.\n",
      "[Parallel(n_jobs=20)]: Done  10 tasks      | elapsed:    2.0s\n",
      "[Parallel(n_jobs=20)]: Done  50 out of  50 | elapsed:    3.9s finished\n",
      "[Parallel(n_jobs=20)]: Using backend ThreadingBackend with 20 concurrent workers.\n",
      "[Parallel(n_jobs=20)]: Done  10 tasks      | elapsed:    0.3s\n",
      "[Parallel(n_jobs=20)]: Done  50 out of  50 | elapsed:    0.9s finished\n"
     ]
    },
    {
     "name": "stdout",
     "output_type": "stream",
     "text": [
      "acc: 0.624, roc-auc: 0.481, BER: 0.514\n",
      "The auc score for /home/shenwanxiang/Research/AggMapNet_dataset/TCGA-S/O_z-score_test_BRCA_stage.h5 is 0.522846258885483.\n",
      "################################################## /home/shenwanxiang/Research/AggMapNet_dataset/TCGA-S/O_z-score_train_SKCM_stage.h5 ##################################################\n",
      "/home/shenwanxiang/Research/AggMapNet_dataset/TCGA-S/O_z-score_train_SKCM_stage.h5 {0: 157, 1: 92}\n",
      "\n",
      "Input train and test X shape is (199, 1291), (50, 1291)  \n",
      "\n",
      "Getting the best parameters by gridsearch \n",
      "\n"
     ]
    },
    {
     "name": "stderr",
     "output_type": "stream",
     "text": [
      "[Parallel(n_jobs=20)]: Using backend ThreadingBackend with 20 concurrent workers.\n",
      "[Parallel(n_jobs=20)]: Done  10 tasks      | elapsed:    7.5s\n",
      "[Parallel(n_jobs=20)]: Done  50 out of  50 | elapsed:   20.0s finished\n",
      "[Parallel(n_jobs=20)]: Using backend ThreadingBackend with 20 concurrent workers.\n",
      "[Parallel(n_jobs=20)]: Done  10 tasks      | elapsed:    0.5s\n",
      "[Parallel(n_jobs=20)]: Done  50 out of  50 | elapsed:    1.9s finished\n",
      "[Parallel(n_jobs=20)]: Using backend ThreadingBackend with 20 concurrent workers.\n"
     ]
    },
    {
     "name": "stdout",
     "output_type": "stream",
     "text": [
      "acc: 0.660, roc-auc: 0.636, BER: 0.367\n",
      "\n",
      "Input train and test X shape is (199, 1872), (50, 1872)  \n",
      "\n",
      "Getting the best parameters by gridsearch \n",
      "\n"
     ]
    },
    {
     "name": "stderr",
     "output_type": "stream",
     "text": [
      "[Parallel(n_jobs=20)]: Done  10 tasks      | elapsed:   14.5s\n",
      "[Parallel(n_jobs=20)]: Done  50 out of  50 | elapsed:   34.1s finished\n",
      "[Parallel(n_jobs=20)]: Using backend ThreadingBackend with 20 concurrent workers.\n",
      "[Parallel(n_jobs=20)]: Done  10 tasks      | elapsed:    0.5s\n",
      "[Parallel(n_jobs=20)]: Done  50 out of  50 | elapsed:    2.3s finished\n"
     ]
    },
    {
     "name": "stdout",
     "output_type": "stream",
     "text": [
      "acc: 0.600, roc-auc: 0.597, BER: 0.445\n",
      "\n",
      "Input train and test X shape is (199, 1163), (50, 1163)  \n",
      "\n",
      "Getting the best parameters by gridsearch \n",
      "\n"
     ]
    },
    {
     "name": "stderr",
     "output_type": "stream",
     "text": [
      "[Parallel(n_jobs=20)]: Using backend ThreadingBackend with 20 concurrent workers.\n",
      "[Parallel(n_jobs=20)]: Done  10 tasks      | elapsed:    7.3s\n",
      "[Parallel(n_jobs=20)]: Done  50 out of  50 | elapsed:   17.7s finished\n",
      "[Parallel(n_jobs=20)]: Using backend ThreadingBackend with 20 concurrent workers.\n",
      "[Parallel(n_jobs=20)]: Done  10 tasks      | elapsed:    0.5s\n",
      "[Parallel(n_jobs=20)]: Done  50 out of  50 | elapsed:    1.8s finished\n",
      "[Parallel(n_jobs=20)]: Using backend ThreadingBackend with 20 concurrent workers.\n"
     ]
    },
    {
     "name": "stdout",
     "output_type": "stream",
     "text": [
      "acc: 0.640, roc-auc: 0.671, BER: 0.381\n",
      "\n",
      "Input train and test X shape is (199, 1976), (50, 1976)  \n",
      "\n",
      "Getting the best parameters by gridsearch \n",
      "\n"
     ]
    },
    {
     "name": "stderr",
     "output_type": "stream",
     "text": [
      "[Parallel(n_jobs=20)]: Done  10 tasks      | elapsed:   14.7s\n",
      "[Parallel(n_jobs=20)]: Done  50 out of  50 | elapsed:   36.3s finished\n",
      "[Parallel(n_jobs=20)]: Using backend ThreadingBackend with 20 concurrent workers.\n",
      "[Parallel(n_jobs=20)]: Done  10 tasks      | elapsed:    0.5s\n",
      "[Parallel(n_jobs=20)]: Done  50 out of  50 | elapsed:    2.1s finished\n",
      "[Parallel(n_jobs=20)]: Using backend ThreadingBackend with 20 concurrent workers.\n"
     ]
    },
    {
     "name": "stdout",
     "output_type": "stream",
     "text": [
      "acc: 0.740, roc-auc: 0.735, BER: 0.292\n",
      "\n",
      "Input train and test X shape is (200, 1638), (49, 1638)  \n",
      "\n",
      "Getting the best parameters by gridsearch \n",
      "\n"
     ]
    },
    {
     "name": "stderr",
     "output_type": "stream",
     "text": [
      "[Parallel(n_jobs=20)]: Done  10 tasks      | elapsed:   12.1s\n",
      "[Parallel(n_jobs=20)]: Done  50 out of  50 | elapsed:   27.6s finished\n",
      "[Parallel(n_jobs=20)]: Using backend ThreadingBackend with 20 concurrent workers.\n",
      "[Parallel(n_jobs=20)]: Done  10 tasks      | elapsed:    0.4s\n",
      "[Parallel(n_jobs=20)]: Done  50 out of  50 | elapsed:    1.8s finished\n"
     ]
    },
    {
     "name": "stdout",
     "output_type": "stream",
     "text": [
      "acc: 0.571, roc-auc: 0.611, BER: 0.452\n",
      "The auc score for /home/shenwanxiang/Research/AggMapNet_dataset/TCGA-S/O_z-score_train_SKCM_stage.h5 is 0.6499553289057559.\n",
      "################################################## /home/shenwanxiang/Research/AggMapNet_dataset/TCGA-S/O_z-score_train_LIHC_stage.h5 ##################################################\n",
      "/home/shenwanxiang/Research/AggMapNet_dataset/TCGA-S/O_z-score_train_LIHC_stage.h5 {0: 197, 1: 177}\n",
      "\n",
      "Input train and test X shape is (299, 1040), (75, 1040)  \n",
      "\n",
      "Getting the best parameters by gridsearch \n",
      "\n"
     ]
    },
    {
     "name": "stderr",
     "output_type": "stream",
     "text": [
      "[Parallel(n_jobs=20)]: Using backend ThreadingBackend with 20 concurrent workers.\n",
      "[Parallel(n_jobs=20)]: Done  10 tasks      | elapsed:    7.6s\n",
      "[Parallel(n_jobs=20)]: Done  50 out of  50 | elapsed:   17.3s finished\n",
      "[Parallel(n_jobs=20)]: Using backend ThreadingBackend with 20 concurrent workers.\n",
      "[Parallel(n_jobs=20)]: Done  10 tasks      | elapsed:    0.3s\n",
      "[Parallel(n_jobs=20)]: Done  50 out of  50 | elapsed:    1.3s finished\n",
      "[Parallel(n_jobs=20)]: Using backend ThreadingBackend with 20 concurrent workers.\n"
     ]
    },
    {
     "name": "stdout",
     "output_type": "stream",
     "text": [
      "acc: 0.640, roc-auc: 0.661, BER: 0.366\n",
      "\n",
      "Input train and test X shape is (299, 1811), (75, 1811)  \n",
      "\n",
      "Getting the best parameters by gridsearch \n",
      "\n"
     ]
    },
    {
     "name": "stderr",
     "output_type": "stream",
     "text": [
      "[Parallel(n_jobs=20)]: Done  10 tasks      | elapsed:   16.4s\n",
      "[Parallel(n_jobs=20)]: Done  50 out of  50 | elapsed:   37.5s finished\n",
      "[Parallel(n_jobs=20)]: Using backend ThreadingBackend with 20 concurrent workers.\n",
      "[Parallel(n_jobs=20)]: Done  10 tasks      | elapsed:    0.4s\n",
      "[Parallel(n_jobs=20)]: Done  50 out of  50 | elapsed:    2.1s finished\n"
     ]
    },
    {
     "name": "stdout",
     "output_type": "stream",
     "text": [
      "acc: 0.547, roc-auc: 0.586, BER: 0.455\n",
      "\n",
      "Input train and test X shape is (299, 1818), (75, 1818)  \n",
      "\n",
      "Getting the best parameters by gridsearch \n",
      "\n"
     ]
    },
    {
     "name": "stderr",
     "output_type": "stream",
     "text": [
      "[Parallel(n_jobs=20)]: Using backend ThreadingBackend with 20 concurrent workers.\n",
      "[Parallel(n_jobs=20)]: Done  10 tasks      | elapsed:   16.3s\n",
      "[Parallel(n_jobs=20)]: Done  50 out of  50 | elapsed:   38.7s finished\n",
      "[Parallel(n_jobs=20)]: Using backend ThreadingBackend with 20 concurrent workers.\n",
      "[Parallel(n_jobs=20)]: Done  10 tasks      | elapsed:    0.6s\n",
      "[Parallel(n_jobs=20)]: Done  50 out of  50 | elapsed:    2.5s finished\n"
     ]
    },
    {
     "name": "stdout",
     "output_type": "stream",
     "text": [
      "acc: 0.560, roc-auc: 0.564, BER: 0.444\n",
      "\n",
      "Input train and test X shape is (299, 1565), (75, 1565)  \n",
      "\n",
      "Getting the best parameters by gridsearch \n",
      "\n"
     ]
    },
    {
     "name": "stderr",
     "output_type": "stream",
     "text": [
      "[Parallel(n_jobs=20)]: Using backend ThreadingBackend with 20 concurrent workers.\n",
      "[Parallel(n_jobs=20)]: Done  10 tasks      | elapsed:   13.0s\n",
      "[Parallel(n_jobs=20)]: Done  50 out of  50 | elapsed:   31.5s finished\n",
      "[Parallel(n_jobs=20)]: Using backend ThreadingBackend with 20 concurrent workers.\n",
      "[Parallel(n_jobs=20)]: Done  10 tasks      | elapsed:    0.5s\n",
      "[Parallel(n_jobs=20)]: Done  50 out of  50 | elapsed:    2.0s finished\n",
      "[Parallel(n_jobs=20)]: Using backend ThreadingBackend with 20 concurrent workers.\n"
     ]
    },
    {
     "name": "stdout",
     "output_type": "stream",
     "text": [
      "acc: 0.587, roc-auc: 0.570, BER: 0.420\n",
      "\n",
      "Input train and test X shape is (300, 1488), (74, 1488)  \n",
      "\n",
      "Getting the best parameters by gridsearch \n",
      "\n"
     ]
    },
    {
     "name": "stderr",
     "output_type": "stream",
     "text": [
      "[Parallel(n_jobs=20)]: Done  10 tasks      | elapsed:   12.6s\n",
      "[Parallel(n_jobs=20)]: Done  50 out of  50 | elapsed:   28.6s finished\n",
      "[Parallel(n_jobs=20)]: Using backend ThreadingBackend with 20 concurrent workers.\n",
      "[Parallel(n_jobs=20)]: Done  10 tasks      | elapsed:    0.4s\n",
      "[Parallel(n_jobs=20)]: Done  50 out of  50 | elapsed:    1.7s finished\n"
     ]
    },
    {
     "name": "stdout",
     "output_type": "stream",
     "text": [
      "acc: 0.527, roc-auc: 0.565, BER: 0.471\n",
      "The auc score for /home/shenwanxiang/Research/AggMapNet_dataset/TCGA-S/O_z-score_train_LIHC_stage.h5 is 0.5893107953121723.\n",
      "################################################## /home/shenwanxiang/Research/AggMapNet_dataset/TCGA-S/O_z-score_train_LUAD_stage.h5 ##################################################\n",
      "/home/shenwanxiang/Research/AggMapNet_dataset/TCGA-S/O_z-score_train_LUAD_stage.h5 {0: 306, 1: 236}\n",
      "\n",
      "Input train and test X shape is (433, 2581), (109, 2581)  \n",
      "\n",
      "Getting the best parameters by gridsearch \n",
      "\n"
     ]
    },
    {
     "name": "stderr",
     "output_type": "stream",
     "text": [
      "[Parallel(n_jobs=20)]: Using backend ThreadingBackend with 20 concurrent workers.\n",
      "[Parallel(n_jobs=20)]: Done  10 tasks      | elapsed:   32.8s\n",
      "[Parallel(n_jobs=20)]: Done  50 out of  50 | elapsed:  1.3min finished\n",
      "[Parallel(n_jobs=20)]: Using backend ThreadingBackend with 20 concurrent workers.\n",
      "[Parallel(n_jobs=20)]: Done  10 tasks      | elapsed:    0.7s\n",
      "[Parallel(n_jobs=20)]: Done  50 out of  50 | elapsed:    3.1s finished\n"
     ]
    },
    {
     "name": "stdout",
     "output_type": "stream",
     "text": [
      "acc: 0.505, roc-auc: 0.519, BER: 0.496\n",
      "\n",
      "Input train and test X shape is (433, 2899), (109, 2899)  \n",
      "\n",
      "Getting the best parameters by gridsearch \n",
      "\n"
     ]
    },
    {
     "name": "stderr",
     "output_type": "stream",
     "text": [
      "[Parallel(n_jobs=20)]: Using backend ThreadingBackend with 20 concurrent workers.\n",
      "[Parallel(n_jobs=20)]: Done  10 tasks      | elapsed:   39.8s\n",
      "[Parallel(n_jobs=20)]: Done  50 out of  50 | elapsed:  1.6min finished\n",
      "[Parallel(n_jobs=20)]: Using backend ThreadingBackend with 20 concurrent workers.\n",
      "[Parallel(n_jobs=20)]: Done  10 tasks      | elapsed:    0.7s\n",
      "[Parallel(n_jobs=20)]: Done  50 out of  50 | elapsed:    3.1s finished\n"
     ]
    },
    {
     "name": "stdout",
     "output_type": "stream",
     "text": [
      "acc: 0.624, roc-auc: 0.660, BER: 0.370\n",
      "\n",
      "Input train and test X shape is (434, 4500), (108, 4500)  \n",
      "\n",
      "Getting the best parameters by gridsearch \n",
      "\n"
     ]
    },
    {
     "name": "stderr",
     "output_type": "stream",
     "text": [
      "[Parallel(n_jobs=20)]: Using backend ThreadingBackend with 20 concurrent workers.\n",
      "[Parallel(n_jobs=20)]: Done  10 tasks      | elapsed:  1.2min\n",
      "[Parallel(n_jobs=20)]: Done  50 out of  50 | elapsed:  2.8min finished\n",
      "[Parallel(n_jobs=20)]: Using backend ThreadingBackend with 20 concurrent workers.\n",
      "[Parallel(n_jobs=20)]: Done  10 tasks      | elapsed:    0.9s\n",
      "[Parallel(n_jobs=20)]: Done  50 out of  50 | elapsed:    4.7s finished\n"
     ]
    },
    {
     "name": "stdout",
     "output_type": "stream",
     "text": [
      "acc: 0.602, roc-auc: 0.611, BER: 0.401\n",
      "\n",
      "Input train and test X shape is (434, 4902), (108, 4902)  \n",
      "\n",
      "Getting the best parameters by gridsearch \n",
      "\n"
     ]
    },
    {
     "name": "stderr",
     "output_type": "stream",
     "text": [
      "[Parallel(n_jobs=20)]: Using backend ThreadingBackend with 20 concurrent workers.\n",
      "[Parallel(n_jobs=20)]: Done  10 tasks      | elapsed:  1.2min\n",
      "[Parallel(n_jobs=20)]: Done  50 out of  50 | elapsed:  2.8min finished\n",
      "[Parallel(n_jobs=20)]: Using backend ThreadingBackend with 20 concurrent workers.\n",
      "[Parallel(n_jobs=20)]: Done  10 tasks      | elapsed:    1.2s\n",
      "[Parallel(n_jobs=20)]: Done  50 out of  50 | elapsed:    5.5s finished\n"
     ]
    },
    {
     "name": "stdout",
     "output_type": "stream",
     "text": [
      "acc: 0.519, roc-auc: 0.435, BER: 0.488\n",
      "\n",
      "Input train and test X shape is (434, 3779), (108, 3779)  \n",
      "\n",
      "Getting the best parameters by gridsearch \n",
      "\n"
     ]
    },
    {
     "name": "stderr",
     "output_type": "stream",
     "text": [
      "[Parallel(n_jobs=20)]: Using backend ThreadingBackend with 20 concurrent workers.\n",
      "[Parallel(n_jobs=20)]: Done  10 tasks      | elapsed:   48.5s\n",
      "[Parallel(n_jobs=20)]: Done  50 out of  50 | elapsed:  1.9min finished\n",
      "[Parallel(n_jobs=20)]: Using backend ThreadingBackend with 20 concurrent workers.\n",
      "[Parallel(n_jobs=20)]: Done  10 tasks      | elapsed:    0.9s\n",
      "[Parallel(n_jobs=20)]: Done  50 out of  50 | elapsed:    4.0s finished\n"
     ]
    },
    {
     "name": "stdout",
     "output_type": "stream",
     "text": [
      "acc: 0.519, roc-auc: 0.487, BER: 0.519\n",
      "The auc score for /home/shenwanxiang/Research/AggMapNet_dataset/TCGA-S/O_z-score_train_LUAD_stage.h5 is 0.542422906954157.\n",
      "################################################## /home/shenwanxiang/Research/AggMapNet_dataset/TCGA-S/O_z-score_train_STAD_stage.h5 ##################################################\n",
      "/home/shenwanxiang/Research/AggMapNet_dataset/TCGA-S/O_z-score_train_STAD_stage.h5 {1: 210, 0: 206}\n",
      "\n",
      "Input train and test X shape is (332, 262), (84, 262)  \n",
      "\n",
      "Getting the best parameters by gridsearch \n",
      "\n"
     ]
    },
    {
     "name": "stderr",
     "output_type": "stream",
     "text": [
      "[Parallel(n_jobs=20)]: Using backend ThreadingBackend with 20 concurrent workers.\n",
      "[Parallel(n_jobs=20)]: Done  10 tasks      | elapsed:    1.8s\n",
      "[Parallel(n_jobs=20)]: Done  50 out of  50 | elapsed:    4.0s finished\n",
      "[Parallel(n_jobs=20)]: Using backend ThreadingBackend with 20 concurrent workers.\n",
      "[Parallel(n_jobs=20)]: Done  10 tasks      | elapsed:    0.2s\n",
      "[Parallel(n_jobs=20)]: Done  50 out of  50 | elapsed:    0.7s finished\n"
     ]
    },
    {
     "name": "stdout",
     "output_type": "stream",
     "text": [
      "acc: 0.536, roc-auc: 0.604, BER: 0.467\n",
      "\n",
      "Input train and test X shape is (333, 122), (83, 122)  \n",
      "\n",
      "Getting the best parameters by gridsearch \n",
      "\n"
     ]
    },
    {
     "name": "stderr",
     "output_type": "stream",
     "text": [
      "[Parallel(n_jobs=20)]: Using backend ThreadingBackend with 20 concurrent workers.\n",
      "[Parallel(n_jobs=20)]: Done  10 tasks      | elapsed:    1.5s\n",
      "[Parallel(n_jobs=20)]: Done  50 out of  50 | elapsed:    1.9s finished\n",
      "[Parallel(n_jobs=20)]: Using backend ThreadingBackend with 20 concurrent workers.\n",
      "[Parallel(n_jobs=20)]: Done  10 tasks      | elapsed:    0.2s\n",
      "[Parallel(n_jobs=20)]: Done  50 out of  50 | elapsed:    0.8s finished\n"
     ]
    },
    {
     "name": "stdout",
     "output_type": "stream",
     "text": [
      "acc: 0.494, roc-auc: 0.514, BER: 0.508\n",
      "\n",
      "Input train and test X shape is (333, 203), (83, 203)  \n",
      "\n",
      "Getting the best parameters by gridsearch \n",
      "\n"
     ]
    },
    {
     "name": "stderr",
     "output_type": "stream",
     "text": [
      "[Parallel(n_jobs=20)]: Using backend ThreadingBackend with 20 concurrent workers.\n",
      "[Parallel(n_jobs=20)]: Done  10 tasks      | elapsed:    1.2s\n",
      "[Parallel(n_jobs=20)]: Done  50 out of  50 | elapsed:    2.9s finished\n",
      "[Parallel(n_jobs=20)]: Using backend ThreadingBackend with 20 concurrent workers.\n",
      "[Parallel(n_jobs=20)]: Done  10 tasks      | elapsed:    0.3s\n",
      "[Parallel(n_jobs=20)]: Done  50 out of  50 | elapsed:    0.9s finished\n"
     ]
    },
    {
     "name": "stdout",
     "output_type": "stream",
     "text": [
      "acc: 0.470, roc-auc: 0.486, BER: 0.528\n",
      "\n",
      "Input train and test X shape is (333, 105), (83, 105)  \n",
      "\n",
      "Getting the best parameters by gridsearch \n",
      "\n"
     ]
    },
    {
     "name": "stderr",
     "output_type": "stream",
     "text": [
      "[Parallel(n_jobs=20)]: Using backend ThreadingBackend with 20 concurrent workers.\n",
      "[Parallel(n_jobs=20)]: Done  10 tasks      | elapsed:    1.0s\n",
      "[Parallel(n_jobs=20)]: Done  50 out of  50 | elapsed:    1.8s finished\n",
      "[Parallel(n_jobs=20)]: Using backend ThreadingBackend with 20 concurrent workers.\n",
      "[Parallel(n_jobs=20)]: Done  10 tasks      | elapsed:    0.1s\n",
      "[Parallel(n_jobs=20)]: Done  50 out of  50 | elapsed:    0.8s finished\n",
      "[Parallel(n_jobs=20)]: Using backend ThreadingBackend with 20 concurrent workers.\n"
     ]
    },
    {
     "name": "stdout",
     "output_type": "stream",
     "text": [
      "acc: 0.639, roc-auc: 0.607, BER: 0.360\n",
      "\n",
      "Input train and test X shape is (333, 505), (83, 505)  \n",
      "\n",
      "Getting the best parameters by gridsearch \n",
      "\n"
     ]
    },
    {
     "name": "stderr",
     "output_type": "stream",
     "text": [
      "[Parallel(n_jobs=20)]: Done  10 tasks      | elapsed:    3.5s\n",
      "[Parallel(n_jobs=20)]: Done  50 out of  50 | elapsed:    7.3s finished\n",
      "[Parallel(n_jobs=20)]: Using backend ThreadingBackend with 20 concurrent workers.\n",
      "[Parallel(n_jobs=20)]: Done  10 tasks      | elapsed:    0.4s\n"
     ]
    },
    {
     "name": "stdout",
     "output_type": "stream",
     "text": [
      "acc: 0.566, roc-auc: 0.577, BER: 0.433\n",
      "The auc score for /home/shenwanxiang/Research/AggMapNet_dataset/TCGA-S/O_z-score_train_STAD_stage.h5 is 0.557600557426456.\n"
     ]
    },
    {
     "name": "stderr",
     "output_type": "stream",
     "text": [
      "[Parallel(n_jobs=20)]: Done  50 out of  50 | elapsed:    1.4s finished\n"
     ]
    }
   ],
   "source": [
    "lst = glob('/home/shenwanxiang/Research/AggMapNet_dataset/TCGA-S/*.h5')\n",
    "n_fold = 5\n",
    "\n",
    "res = []\n",
    "for p in lst:\n",
    "    \n",
    "    print('#'*50 + ' %s ' % p + '#'*50 )\n",
    "    dfx = pd.read_hdf(p, key = 'expression')\n",
    "    dfy = pd.read_hdf(p, key = 'labels')\n",
    "    print(p, dfy.value_counts().to_dict())\n",
    "\n",
    "    outer = KFold(n_splits = n_fold, shuffle = True, random_state = 123)\n",
    "    outer_idx = list(outer.split(dfx, dfy))\n",
    "\n",
    "    fold_all = []\n",
    "    for i, idx in enumerate(outer_idx):\n",
    "\n",
    "        fold_num = \"fold_%s\" % str(i).zfill(2) \n",
    "\n",
    "        train_idx, test_idx = idx\n",
    "\n",
    "        # subset feature selection by the fold change\n",
    "        dfxy_train = dfx.iloc[train_idx].join(dfy.iloc[train_idx])\n",
    "        abds = dfxy_train.groupby(dfy.name).mean()\n",
    "        fc = abs(abds.iloc[0] - abds.iloc[1])\n",
    "        selected = fc[fc > 0.5].index\n",
    "\n",
    "        trainX = dfx[selected].iloc[train_idx].values\n",
    "        trainY = dfy.iloc[train_idx].values\n",
    "\n",
    "        testX = dfx[selected].iloc[test_idx].values\n",
    "        testY = dfy.iloc[test_idx].values\n",
    "\n",
    "        ## training\n",
    "        print(\"\\nInput train and test X shape is %s, %s  \\n\" % (trainX.shape,  testX.shape))\n",
    "        print(\"Getting the best parameters by gridsearch \\n\")\n",
    "        #best_params = get_best_params(trainX, trainY)\n",
    "        \n",
    "        best_params = {'n_estimators':50, 'n_features_per_subset':10}\n",
    "        \n",
    "        clf = RotationForestClassifier(**best_params, n_jobs=20, verbose=1)\n",
    "        clf.fit(trainX, trainY)\n",
    "\n",
    "        ## evaluation\n",
    "        y_true = testY\n",
    "        y_score = clf.predict_proba(testX)[:,1]\n",
    "        dfr = pd.DataFrame([y_true, y_score]).T\n",
    "        dfr.columns = ['y_true', 'y_score']\n",
    "        dfr.index = dfy.iloc[test_idx].index\n",
    "        acc, auc = score(dfr)\n",
    "        \n",
    "        fold_all.append(auc)\n",
    "        res.append([auc, i, p, best_params])\n",
    "        \n",
    "    print('The auc score for %s is %s.' % (p, np.mean(fold_all)))\n"
   ]
  },
  {
   "cell_type": "code",
   "execution_count": 8,
   "id": "c2bf318a-99e4-45b3-a948-0dd09b430d81",
   "metadata": {},
   "outputs": [
    {
     "data": {
      "text/html": [
       "<div>\n",
       "<style scoped>\n",
       "    .dataframe tbody tr th:only-of-type {\n",
       "        vertical-align: middle;\n",
       "    }\n",
       "\n",
       "    .dataframe tbody tr th {\n",
       "        vertical-align: top;\n",
       "    }\n",
       "\n",
       "    .dataframe thead th {\n",
       "        text-align: right;\n",
       "    }\n",
       "</style>\n",
       "<table border=\"1\" class=\"dataframe\">\n",
       "  <thead>\n",
       "    <tr style=\"text-align: right;\">\n",
       "      <th></th>\n",
       "      <th>score</th>\n",
       "      <th>fold</th>\n",
       "    </tr>\n",
       "    <tr>\n",
       "      <th>task</th>\n",
       "      <th></th>\n",
       "      <th></th>\n",
       "    </tr>\n",
       "  </thead>\n",
       "  <tbody>\n",
       "    <tr>\n",
       "      <th>/home/shenwanxiang/Research/AggMapNet_dataset/TCGA-S/O_z-score_train_KIRC_stage.h5</th>\n",
       "      <td>0.668403</td>\n",
       "      <td>2</td>\n",
       "    </tr>\n",
       "    <tr>\n",
       "      <th>/home/shenwanxiang/Research/AggMapNet_dataset/TCGA-S/O_z-score_train_SKCM_stage.h5</th>\n",
       "      <td>0.649955</td>\n",
       "      <td>2</td>\n",
       "    </tr>\n",
       "    <tr>\n",
       "      <th>/home/shenwanxiang/Research/AggMapNet_dataset/TCGA-S/O_z-score_train_COAD_stage.h5</th>\n",
       "      <td>0.626350</td>\n",
       "      <td>2</td>\n",
       "    </tr>\n",
       "    <tr>\n",
       "      <th>/home/shenwanxiang/Research/AggMapNet_dataset/TCGA-S/O_z-score_train_UCEC_stage.h5</th>\n",
       "      <td>0.612778</td>\n",
       "      <td>2</td>\n",
       "    </tr>\n",
       "    <tr>\n",
       "      <th>/home/shenwanxiang/Research/AggMapNet_dataset/TCGA-S/O_z-score_train_LIHC_stage.h5</th>\n",
       "      <td>0.589311</td>\n",
       "      <td>2</td>\n",
       "    </tr>\n",
       "    <tr>\n",
       "      <th>/home/shenwanxiang/Research/AggMapNet_dataset/TCGA-S/O_z-score_validate_LUSC_stage.h5</th>\n",
       "      <td>0.570422</td>\n",
       "      <td>2</td>\n",
       "    </tr>\n",
       "    <tr>\n",
       "      <th>/home/shenwanxiang/Research/AggMapNet_dataset/TCGA-S/O_z-score_train_THCA_stage.h5</th>\n",
       "      <td>0.560378</td>\n",
       "      <td>2</td>\n",
       "    </tr>\n",
       "    <tr>\n",
       "      <th>/home/shenwanxiang/Research/AggMapNet_dataset/TCGA-S/O_z-score_train_STAD_stage.h5</th>\n",
       "      <td>0.557601</td>\n",
       "      <td>2</td>\n",
       "    </tr>\n",
       "    <tr>\n",
       "      <th>/home/shenwanxiang/Research/AggMapNet_dataset/TCGA-S/O_z-score_train_LUAD_stage.h5</th>\n",
       "      <td>0.542423</td>\n",
       "      <td>2</td>\n",
       "    </tr>\n",
       "    <tr>\n",
       "      <th>/home/shenwanxiang/Research/AggMapNet_dataset/TCGA-S/O_z-score_test_BRCA_stage.h5</th>\n",
       "      <td>0.522846</td>\n",
       "      <td>2</td>\n",
       "    </tr>\n",
       "  </tbody>\n",
       "</table>\n",
       "</div>"
      ],
      "text/plain": [
       "                                                       score  fold\n",
       "task                                                              \n",
       "/home/shenwanxiang/Research/AggMapNet_dataset/T...  0.668403     2\n",
       "/home/shenwanxiang/Research/AggMapNet_dataset/T...  0.649955     2\n",
       "/home/shenwanxiang/Research/AggMapNet_dataset/T...  0.626350     2\n",
       "/home/shenwanxiang/Research/AggMapNet_dataset/T...  0.612778     2\n",
       "/home/shenwanxiang/Research/AggMapNet_dataset/T...  0.589311     2\n",
       "/home/shenwanxiang/Research/AggMapNet_dataset/T...  0.570422     2\n",
       "/home/shenwanxiang/Research/AggMapNet_dataset/T...  0.560378     2\n",
       "/home/shenwanxiang/Research/AggMapNet_dataset/T...  0.557601     2\n",
       "/home/shenwanxiang/Research/AggMapNet_dataset/T...  0.542423     2\n",
       "/home/shenwanxiang/Research/AggMapNet_dataset/T...  0.522846     2"
      ]
     },
     "execution_count": 8,
     "metadata": {},
     "output_type": "execute_result"
    }
   ],
   "source": [
    "dfres = pd.DataFrame(res, columns = ['score', 'fold', 'task', 'best_params'])\n",
    "dfres.to_csv('./FS_RoationForest_5FCV_results_stage.csv')\n",
    "dfres.groupby('task').mean().sort_values('score',ascending=False)"
   ]
  },
  {
   "cell_type": "code",
   "execution_count": null,
   "id": "7f8b31cc-bcf3-4dff-8651-4adab17599b8",
   "metadata": {},
   "outputs": [],
   "source": []
  },
  {
   "cell_type": "code",
   "execution_count": null,
   "id": "55f8c166-cfed-4623-87fa-59d4777c1076",
   "metadata": {},
   "outputs": [],
   "source": []
  },
  {
   "cell_type": "code",
   "execution_count": null,
   "id": "90b90549-5fb6-4153-853e-dba1fbd10c75",
   "metadata": {},
   "outputs": [],
   "source": []
  }
 ],
 "metadata": {
  "kernelspec": {
   "display_name": "Python 3",
   "language": "python",
   "name": "python3"
  },
  "language_info": {
   "codemirror_mode": {
    "name": "ipython",
    "version": 3
   },
   "file_extension": ".py",
   "mimetype": "text/x-python",
   "name": "python",
   "nbconvert_exporter": "python",
   "pygments_lexer": "ipython3",
   "version": "3.6.10"
  }
 },
 "nbformat": 4,
 "nbformat_minor": 5
}
