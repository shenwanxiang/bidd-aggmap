{
 "cells": [
  {
   "cell_type": "code",
   "execution_count": 1,
   "id": "931c12be-557b-4a7e-87b6-af7424a7a3ce",
   "metadata": {},
   "outputs": [],
   "source": [
    "import warnings, os\n",
    "warnings.filterwarnings(\"ignore\")\n",
    "\n",
    "import pandas as pd\n",
    "import numpy as np\n",
    "from glob import glob\n",
    "\n",
    "\n",
    "import matplotlib.pyplot as plt\n",
    "import matplotlib.image as mpimg\n",
    "\n",
    "from aggmap import AggMap, loadmap\n",
    "import seaborn as sns\n",
    "\n",
    "\n",
    "import xgboost as xgb\n",
    "from sklearn.model_selection import train_test_split, GridSearchCV\n",
    "from sklearn.pipeline import Pipeline\n",
    "from sklearn.preprocessing import StandardScaler\n",
    "from sklearn.decomposition import PCA\n",
    "from sklearn.model_selection import KFold, StratifiedKFold\n",
    "from sklearn.metrics import confusion_matrix, precision_recall_curve, roc_auc_score\n",
    "from sklearn.metrics import auc as calculate_auc\n"
   ]
  },
  {
   "cell_type": "code",
   "execution_count": null,
   "id": "f597d637-8d68-4dfe-9bee-cd00224ef8c6",
   "metadata": {},
   "outputs": [],
   "source": []
  },
  {
   "cell_type": "markdown",
   "id": "c3c77a85-e140-49d3-be3b-d2425ba6eabd",
   "metadata": {},
   "source": [
    "## LGR, RF, KNN, ROF, XGBoost"
   ]
  },
  {
   "cell_type": "code",
   "execution_count": 2,
   "id": "aec65eed-0693-443c-80f2-b779c474f6a3",
   "metadata": {},
   "outputs": [],
   "source": [
    "from sklearn.ensemble import RandomForestClassifier\n",
    "from rotation_forest import RotationForestClassifier"
   ]
  },
  {
   "cell_type": "code",
   "execution_count": 3,
   "id": "61fb799f-14c2-40a6-987f-e002f4655755",
   "metadata": {},
   "outputs": [],
   "source": [
    "def score(dfr):\n",
    "    y_true = dfr.y_true\n",
    "    y_score = dfr.y_score\n",
    "    y_pred = dfr.y_score.round()\n",
    "\n",
    "    tn, fp, fn, tp = confusion_matrix(y_true, y_pred).ravel()\n",
    "\n",
    "    acc = (tp + tn) / sum([tn, fp, fn, tp])\n",
    "    auc = roc_auc_score(y_true, y_score)\n",
    "    ber =  (fp / (fp + tn) + fn / (tp + fn)) * 0.5\n",
    "\n",
    "    print('acc: %.3f, roc-auc: %.3f, BER: %.3f' % (acc,auc,ber))\n",
    "\n",
    "    return acc, auc\n",
    "\n",
    "\n",
    "def get_best_params(X, y):\n",
    "    clf = RotationForestClassifier()\n",
    "    parameters = {'max_depth': [4, 6, 9],\n",
    "                  'n_estimators': [10, 50, 100]}\n",
    "\n",
    "    grid = GridSearchCV(clf, parameters, scoring='roc_auc', n_jobs=9, iid=False, cv=5, verbose=2)\n",
    "    gres = grid.fit(X, y)\n",
    "    return grid.best_params_"
   ]
  },
  {
   "cell_type": "code",
   "execution_count": 4,
   "id": "c653ec41-1f2f-498d-b2a9-9ddb3e958f6f",
   "metadata": {
    "collapsed": true,
    "jupyter": {
     "outputs_hidden": true
    },
    "tags": []
   },
   "outputs": [
    {
     "name": "stdout",
     "output_type": "stream",
     "text": [
      "################################################## /home/shenwanxiang/Research/AggMapNet_dataset/TCGA-G/O_z-score_train_LIHC_grade.h5 ##################################################\n",
      "/home/shenwanxiang/Research/AggMapNet_dataset/TCGA-G/O_z-score_train_LIHC_grade.h5 {0: 250, 1: 124}\n",
      "\n",
      "Input train and test X shape is (299, 2260), (75, 2260)  \n",
      "\n",
      "Getting the best parameters by gridsearch \n",
      "\n"
     ]
    },
    {
     "name": "stderr",
     "output_type": "stream",
     "text": [
      "[Parallel(n_jobs=20)]: Using backend ThreadingBackend with 20 concurrent workers.\n",
      "[Parallel(n_jobs=20)]: Done  10 tasks      | elapsed:   18.2s\n",
      "[Parallel(n_jobs=20)]: Done  50 out of  50 | elapsed:   43.7s finished\n",
      "[Parallel(n_jobs=20)]: Using backend ThreadingBackend with 20 concurrent workers.\n",
      "[Parallel(n_jobs=20)]: Done  10 tasks      | elapsed:    0.7s\n",
      "[Parallel(n_jobs=20)]: Done  50 out of  50 | elapsed:    2.9s finished\n"
     ]
    },
    {
     "name": "stdout",
     "output_type": "stream",
     "text": [
      "acc: 0.613, roc-auc: 0.583, BER: 0.424\n",
      "\n",
      "Input train and test X shape is (299, 2854), (75, 2854)  \n",
      "\n",
      "Getting the best parameters by gridsearch \n",
      "\n"
     ]
    },
    {
     "name": "stderr",
     "output_type": "stream",
     "text": [
      "[Parallel(n_jobs=20)]: Using backend ThreadingBackend with 20 concurrent workers.\n",
      "[Parallel(n_jobs=20)]: Done  10 tasks      | elapsed:   27.4s\n",
      "[Parallel(n_jobs=20)]: Done  50 out of  50 | elapsed:   59.7s finished\n",
      "[Parallel(n_jobs=20)]: Using backend ThreadingBackend with 20 concurrent workers.\n",
      "[Parallel(n_jobs=20)]: Done  10 tasks      | elapsed:    0.7s\n",
      "[Parallel(n_jobs=20)]: Done  50 out of  50 | elapsed:    3.2s finished\n"
     ]
    },
    {
     "name": "stdout",
     "output_type": "stream",
     "text": [
      "acc: 0.533, roc-auc: 0.464, BER: 0.528\n",
      "\n",
      "Input train and test X shape is (299, 1785), (75, 1785)  \n",
      "\n",
      "Getting the best parameters by gridsearch \n",
      "\n"
     ]
    },
    {
     "name": "stderr",
     "output_type": "stream",
     "text": [
      "[Parallel(n_jobs=20)]: Using backend ThreadingBackend with 20 concurrent workers.\n",
      "[Parallel(n_jobs=20)]: Done  10 tasks      | elapsed:   15.7s\n",
      "[Parallel(n_jobs=20)]: Done  50 out of  50 | elapsed:   37.2s finished\n",
      "[Parallel(n_jobs=20)]: Using backend ThreadingBackend with 20 concurrent workers.\n",
      "[Parallel(n_jobs=20)]: Done  10 tasks      | elapsed:    0.5s\n",
      "[Parallel(n_jobs=20)]: Done  50 out of  50 | elapsed:    2.2s finished\n"
     ]
    },
    {
     "name": "stdout",
     "output_type": "stream",
     "text": [
      "acc: 0.640, roc-auc: 0.525, BER: 0.429\n",
      "\n",
      "Input train and test X shape is (299, 1909), (75, 1909)  \n",
      "\n",
      "Getting the best parameters by gridsearch \n",
      "\n"
     ]
    },
    {
     "name": "stderr",
     "output_type": "stream",
     "text": [
      "[Parallel(n_jobs=20)]: Using backend ThreadingBackend with 20 concurrent workers.\n",
      "[Parallel(n_jobs=20)]: Done  10 tasks      | elapsed:   15.2s\n",
      "[Parallel(n_jobs=20)]: Done  50 out of  50 | elapsed:   37.0s finished\n",
      "[Parallel(n_jobs=20)]: Using backend ThreadingBackend with 20 concurrent workers.\n",
      "[Parallel(n_jobs=20)]: Done  10 tasks      | elapsed:    0.7s\n",
      "[Parallel(n_jobs=20)]: Done  50 out of  50 | elapsed:    2.6s finished\n",
      "[Parallel(n_jobs=20)]: Using backend ThreadingBackend with 20 concurrent workers.\n"
     ]
    },
    {
     "name": "stdout",
     "output_type": "stream",
     "text": [
      "acc: 0.613, roc-auc: 0.543, BER: 0.468\n",
      "\n",
      "Input train and test X shape is (300, 1627), (74, 1627)  \n",
      "\n",
      "Getting the best parameters by gridsearch \n",
      "\n"
     ]
    },
    {
     "name": "stderr",
     "output_type": "stream",
     "text": [
      "[Parallel(n_jobs=20)]: Done  10 tasks      | elapsed:   12.7s\n",
      "[Parallel(n_jobs=20)]: Done  50 out of  50 | elapsed:   30.2s finished\n",
      "[Parallel(n_jobs=20)]: Using backend ThreadingBackend with 20 concurrent workers.\n",
      "[Parallel(n_jobs=20)]: Done  10 tasks      | elapsed:    0.4s\n",
      "[Parallel(n_jobs=20)]: Done  50 out of  50 | elapsed:    1.6s finished\n"
     ]
    },
    {
     "name": "stdout",
     "output_type": "stream",
     "text": [
      "acc: 0.595, roc-auc: 0.637, BER: 0.459\n",
      "The auc score for /home/shenwanxiang/Research/AggMapNet_dataset/TCGA-G/O_z-score_train_LIHC_grade.h5 is 0.5503683877434502.\n",
      "################################################## /home/shenwanxiang/Research/AggMapNet_dataset/TCGA-G/O_z-score_train_KIRC_grade.h5 ##################################################\n",
      "/home/shenwanxiang/Research/AggMapNet_dataset/TCGA-G/O_z-score_train_KIRC_grade.h5 {0: 337, 1: 207}\n",
      "\n",
      "Input train and test X shape is (435, 307), (109, 307)  \n",
      "\n",
      "Getting the best parameters by gridsearch \n",
      "\n"
     ]
    },
    {
     "name": "stderr",
     "output_type": "stream",
     "text": [
      "[Parallel(n_jobs=20)]: Using backend ThreadingBackend with 20 concurrent workers.\n",
      "[Parallel(n_jobs=20)]: Done  10 tasks      | elapsed:    2.8s\n",
      "[Parallel(n_jobs=20)]: Done  50 out of  50 | elapsed:    5.5s finished\n",
      "[Parallel(n_jobs=20)]: Using backend ThreadingBackend with 20 concurrent workers.\n",
      "[Parallel(n_jobs=20)]: Done  10 tasks      | elapsed:    0.2s\n",
      "[Parallel(n_jobs=20)]: Done  50 out of  50 | elapsed:    0.6s finished\n"
     ]
    },
    {
     "name": "stdout",
     "output_type": "stream",
     "text": [
      "acc: 0.532, roc-auc: 0.485, BER: 0.488\n",
      "\n",
      "Input train and test X shape is (435, 173), (109, 173)  \n",
      "\n",
      "Getting the best parameters by gridsearch \n",
      "\n"
     ]
    },
    {
     "name": "stderr",
     "output_type": "stream",
     "text": [
      "[Parallel(n_jobs=20)]: Using backend ThreadingBackend with 20 concurrent workers.\n",
      "[Parallel(n_jobs=20)]: Done  10 tasks      | elapsed:    1.8s\n",
      "[Parallel(n_jobs=20)]: Done  50 out of  50 | elapsed:    3.3s finished\n",
      "[Parallel(n_jobs=20)]: Using backend ThreadingBackend with 20 concurrent workers.\n",
      "[Parallel(n_jobs=20)]: Done  10 tasks      | elapsed:    0.2s\n",
      "[Parallel(n_jobs=20)]: Done  50 out of  50 | elapsed:    0.5s finished\n"
     ]
    },
    {
     "name": "stdout",
     "output_type": "stream",
     "text": [
      "acc: 0.532, roc-auc: 0.491, BER: 0.492\n",
      "\n",
      "Input train and test X shape is (435, 209), (109, 209)  \n",
      "\n",
      "Getting the best parameters by gridsearch \n",
      "\n"
     ]
    },
    {
     "name": "stderr",
     "output_type": "stream",
     "text": [
      "[Parallel(n_jobs=20)]: Using backend ThreadingBackend with 20 concurrent workers.\n",
      "[Parallel(n_jobs=20)]: Done  10 tasks      | elapsed:    1.6s\n",
      "[Parallel(n_jobs=20)]: Done  50 out of  50 | elapsed:    3.6s finished\n",
      "[Parallel(n_jobs=20)]: Using backend ThreadingBackend with 20 concurrent workers.\n",
      "[Parallel(n_jobs=20)]: Done  10 tasks      | elapsed:    0.2s\n",
      "[Parallel(n_jobs=20)]: Done  50 out of  50 | elapsed:    0.7s finished\n"
     ]
    },
    {
     "name": "stdout",
     "output_type": "stream",
     "text": [
      "acc: 0.541, roc-auc: 0.523, BER: 0.490\n",
      "\n",
      "Input train and test X shape is (435, 284), (109, 284)  \n",
      "\n",
      "Getting the best parameters by gridsearch \n",
      "\n"
     ]
    },
    {
     "name": "stderr",
     "output_type": "stream",
     "text": [
      "[Parallel(n_jobs=20)]: Using backend ThreadingBackend with 20 concurrent workers.\n",
      "[Parallel(n_jobs=20)]: Done  10 tasks      | elapsed:    2.4s\n",
      "[Parallel(n_jobs=20)]: Done  50 out of  50 | elapsed:    4.7s finished\n",
      "[Parallel(n_jobs=20)]: Using backend ThreadingBackend with 20 concurrent workers.\n",
      "[Parallel(n_jobs=20)]: Done  10 tasks      | elapsed:    0.3s\n",
      "[Parallel(n_jobs=20)]: Done  50 out of  50 | elapsed:    0.9s finished\n"
     ]
    },
    {
     "name": "stdout",
     "output_type": "stream",
     "text": [
      "acc: 0.495, roc-auc: 0.489, BER: 0.546\n",
      "\n",
      "Input train and test X shape is (436, 1027), (108, 1027)  \n",
      "\n",
      "Getting the best parameters by gridsearch \n",
      "\n"
     ]
    },
    {
     "name": "stderr",
     "output_type": "stream",
     "text": [
      "[Parallel(n_jobs=20)]: Using backend ThreadingBackend with 20 concurrent workers.\n",
      "[Parallel(n_jobs=20)]: Done  10 tasks      | elapsed:    8.1s\n",
      "[Parallel(n_jobs=20)]: Done  50 out of  50 | elapsed:   18.2s finished\n",
      "[Parallel(n_jobs=20)]: Using backend ThreadingBackend with 20 concurrent workers.\n",
      "[Parallel(n_jobs=20)]: Done  10 tasks      | elapsed:    0.4s\n",
      "[Parallel(n_jobs=20)]: Done  50 out of  50 | elapsed:    1.6s finished\n"
     ]
    },
    {
     "name": "stdout",
     "output_type": "stream",
     "text": [
      "acc: 0.565, roc-auc: 0.583, BER: 0.458\n",
      "The auc score for /home/shenwanxiang/Research/AggMapNet_dataset/TCGA-G/O_z-score_train_KIRC_grade.h5 is 0.5139632783180559.\n",
      "################################################## /home/shenwanxiang/Research/AggMapNet_dataset/TCGA-G/O_z-score_train_STAD_grade.h5 ##################################################\n",
      "/home/shenwanxiang/Research/AggMapNet_dataset/TCGA-G/O_z-score_train_STAD_grade.h5 {1: 246, 0: 170}\n",
      "\n",
      "Input train and test X shape is (332, 4322), (84, 4322)  \n",
      "\n",
      "Getting the best parameters by gridsearch \n",
      "\n"
     ]
    },
    {
     "name": "stderr",
     "output_type": "stream",
     "text": [
      "[Parallel(n_jobs=20)]: Using backend ThreadingBackend with 20 concurrent workers.\n",
      "[Parallel(n_jobs=20)]: Done  10 tasks      | elapsed:   55.7s\n",
      "[Parallel(n_jobs=20)]: Done  50 out of  50 | elapsed:  2.2min finished\n",
      "[Parallel(n_jobs=20)]: Using backend ThreadingBackend with 20 concurrent workers.\n",
      "[Parallel(n_jobs=20)]: Done  10 tasks      | elapsed:    0.9s\n",
      "[Parallel(n_jobs=20)]: Done  50 out of  50 | elapsed:    4.2s finished\n"
     ]
    },
    {
     "name": "stdout",
     "output_type": "stream",
     "text": [
      "acc: 0.643, roc-auc: 0.684, BER: 0.366\n",
      "\n",
      "Input train and test X shape is (333, 1721), (83, 1721)  \n",
      "\n",
      "Getting the best parameters by gridsearch \n",
      "\n"
     ]
    },
    {
     "name": "stderr",
     "output_type": "stream",
     "text": [
      "[Parallel(n_jobs=20)]: Using backend ThreadingBackend with 20 concurrent workers.\n",
      "[Parallel(n_jobs=20)]: Done  10 tasks      | elapsed:   13.4s\n",
      "[Parallel(n_jobs=20)]: Done  50 out of  50 | elapsed:   34.0s finished\n",
      "[Parallel(n_jobs=20)]: Using backend ThreadingBackend with 20 concurrent workers.\n",
      "[Parallel(n_jobs=20)]: Done  10 tasks      | elapsed:    0.5s\n",
      "[Parallel(n_jobs=20)]: Done  50 out of  50 | elapsed:    2.1s finished\n"
     ]
    },
    {
     "name": "stdout",
     "output_type": "stream",
     "text": [
      "acc: 0.627, roc-auc: 0.670, BER: 0.374\n",
      "\n",
      "Input train and test X shape is (333, 5304), (83, 5304)  \n",
      "\n",
      "Getting the best parameters by gridsearch \n",
      "\n"
     ]
    },
    {
     "name": "stderr",
     "output_type": "stream",
     "text": [
      "[Parallel(n_jobs=20)]: Using backend ThreadingBackend with 20 concurrent workers.\n",
      "[Parallel(n_jobs=20)]: Done  10 tasks      | elapsed:  1.3min\n",
      "[Parallel(n_jobs=20)]: Done  50 out of  50 | elapsed:  2.9min finished\n",
      "[Parallel(n_jobs=20)]: Using backend ThreadingBackend with 20 concurrent workers.\n",
      "[Parallel(n_jobs=20)]: Done  10 tasks      | elapsed:    1.2s\n",
      "[Parallel(n_jobs=20)]: Done  50 out of  50 | elapsed:    5.5s finished\n"
     ]
    },
    {
     "name": "stdout",
     "output_type": "stream",
     "text": [
      "acc: 0.627, roc-auc: 0.631, BER: 0.380\n",
      "\n",
      "Input train and test X shape is (333, 3486), (83, 3486)  \n",
      "\n",
      "Getting the best parameters by gridsearch \n",
      "\n"
     ]
    },
    {
     "name": "stderr",
     "output_type": "stream",
     "text": [
      "[Parallel(n_jobs=20)]: Using backend ThreadingBackend with 20 concurrent workers.\n",
      "[Parallel(n_jobs=20)]: Done  10 tasks      | elapsed:   40.6s\n",
      "[Parallel(n_jobs=20)]: Done  50 out of  50 | elapsed:  1.6min finished\n",
      "[Parallel(n_jobs=20)]: Using backend ThreadingBackend with 20 concurrent workers.\n",
      "[Parallel(n_jobs=20)]: Done  10 tasks      | elapsed:    0.7s\n",
      "[Parallel(n_jobs=20)]: Done  50 out of  50 | elapsed:    3.5s finished\n"
     ]
    },
    {
     "name": "stdout",
     "output_type": "stream",
     "text": [
      "acc: 0.627, roc-auc: 0.634, BER: 0.397\n",
      "\n",
      "Input train and test X shape is (333, 3015), (83, 3015)  \n",
      "\n",
      "Getting the best parameters by gridsearch \n",
      "\n"
     ]
    },
    {
     "name": "stderr",
     "output_type": "stream",
     "text": [
      "[Parallel(n_jobs=20)]: Using backend ThreadingBackend with 20 concurrent workers.\n",
      "[Parallel(n_jobs=20)]: Done  10 tasks      | elapsed:   32.2s\n",
      "[Parallel(n_jobs=20)]: Done  50 out of  50 | elapsed:  1.2min finished\n",
      "[Parallel(n_jobs=20)]: Using backend ThreadingBackend with 20 concurrent workers.\n",
      "[Parallel(n_jobs=20)]: Done  10 tasks      | elapsed:    0.7s\n",
      "[Parallel(n_jobs=20)]: Done  50 out of  50 | elapsed:    3.0s finished\n"
     ]
    },
    {
     "name": "stdout",
     "output_type": "stream",
     "text": [
      "acc: 0.614, roc-auc: 0.562, BER: 0.395\n",
      "The auc score for /home/shenwanxiang/Research/AggMapNet_dataset/TCGA-G/O_z-score_train_STAD_grade.h5 is 0.6362670411009275.\n",
      "################################################## /home/shenwanxiang/Research/AggMapNet_dataset/TCGA-G/O_z-score_train_UCEC_grade.h5 ##################################################\n",
      "/home/shenwanxiang/Research/AggMapNet_dataset/TCGA-G/O_z-score_train_UCEC_grade.h5 {1: 324, 0: 230}\n",
      "\n",
      "Input train and test X shape is (443, 5259), (111, 5259)  \n",
      "\n",
      "Getting the best parameters by gridsearch \n",
      "\n"
     ]
    },
    {
     "name": "stderr",
     "output_type": "stream",
     "text": [
      "[Parallel(n_jobs=20)]: Using backend ThreadingBackend with 20 concurrent workers.\n",
      "[Parallel(n_jobs=20)]: Done  10 tasks      | elapsed:  1.3min\n",
      "[Parallel(n_jobs=20)]: Done  50 out of  50 | elapsed:  3.2min finished\n",
      "[Parallel(n_jobs=20)]: Using backend ThreadingBackend with 20 concurrent workers.\n",
      "[Parallel(n_jobs=20)]: Done  10 tasks      | elapsed:    1.3s\n",
      "[Parallel(n_jobs=20)]: Done  50 out of  50 | elapsed:    5.8s finished\n"
     ]
    },
    {
     "name": "stdout",
     "output_type": "stream",
     "text": [
      "acc: 0.721, roc-auc: 0.770, BER: 0.281\n",
      "\n",
      "Input train and test X shape is (443, 5302), (111, 5302)  \n",
      "\n",
      "Getting the best parameters by gridsearch \n",
      "\n"
     ]
    },
    {
     "name": "stderr",
     "output_type": "stream",
     "text": [
      "[Parallel(n_jobs=20)]: Using backend ThreadingBackend with 20 concurrent workers.\n",
      "[Parallel(n_jobs=20)]: Done  10 tasks      | elapsed:  1.4min\n",
      "[Parallel(n_jobs=20)]: Done  50 out of  50 | elapsed:  3.2min finished\n",
      "[Parallel(n_jobs=20)]: Using backend ThreadingBackend with 20 concurrent workers.\n",
      "[Parallel(n_jobs=20)]: Done  10 tasks      | elapsed:    1.2s\n",
      "[Parallel(n_jobs=20)]: Done  50 out of  50 | elapsed:    6.1s finished\n"
     ]
    },
    {
     "name": "stdout",
     "output_type": "stream",
     "text": [
      "acc: 0.748, roc-auc: 0.774, BER: 0.250\n",
      "\n",
      "Input train and test X shape is (443, 5521), (111, 5521)  \n",
      "\n",
      "Getting the best parameters by gridsearch \n",
      "\n"
     ]
    },
    {
     "name": "stderr",
     "output_type": "stream",
     "text": [
      "[Parallel(n_jobs=20)]: Using backend ThreadingBackend with 20 concurrent workers.\n",
      "[Parallel(n_jobs=20)]: Done  10 tasks      | elapsed:  1.3min\n",
      "[Parallel(n_jobs=20)]: Done  50 out of  50 | elapsed:  3.2min finished\n",
      "[Parallel(n_jobs=20)]: Using backend ThreadingBackend with 20 concurrent workers.\n",
      "[Parallel(n_jobs=20)]: Done  10 tasks      | elapsed:    1.3s\n",
      "[Parallel(n_jobs=20)]: Done  50 out of  50 | elapsed:    6.1s finished\n"
     ]
    },
    {
     "name": "stdout",
     "output_type": "stream",
     "text": [
      "acc: 0.739, roc-auc: 0.726, BER: 0.287\n",
      "\n",
      "Input train and test X shape is (443, 5512), (111, 5512)  \n",
      "\n",
      "Getting the best parameters by gridsearch \n",
      "\n"
     ]
    },
    {
     "name": "stderr",
     "output_type": "stream",
     "text": [
      "[Parallel(n_jobs=20)]: Using backend ThreadingBackend with 20 concurrent workers.\n",
      "[Parallel(n_jobs=20)]: Done  10 tasks      | elapsed:  1.4min\n",
      "[Parallel(n_jobs=20)]: Done  50 out of  50 | elapsed:  3.3min finished\n",
      "[Parallel(n_jobs=20)]: Using backend ThreadingBackend with 20 concurrent workers.\n",
      "[Parallel(n_jobs=20)]: Done  10 tasks      | elapsed:    1.3s\n",
      "[Parallel(n_jobs=20)]: Done  50 out of  50 | elapsed:    5.8s finished\n"
     ]
    },
    {
     "name": "stdout",
     "output_type": "stream",
     "text": [
      "acc: 0.748, roc-auc: 0.785, BER: 0.264\n",
      "\n",
      "Input train and test X shape is (444, 5381), (110, 5381)  \n",
      "\n",
      "Getting the best parameters by gridsearch \n",
      "\n"
     ]
    },
    {
     "name": "stderr",
     "output_type": "stream",
     "text": [
      "[Parallel(n_jobs=20)]: Using backend ThreadingBackend with 20 concurrent workers.\n",
      "[Parallel(n_jobs=20)]: Done  10 tasks      | elapsed:  1.4min\n",
      "[Parallel(n_jobs=20)]: Done  50 out of  50 | elapsed:  3.4min finished\n",
      "[Parallel(n_jobs=20)]: Using backend ThreadingBackend with 20 concurrent workers.\n",
      "[Parallel(n_jobs=20)]: Done  10 tasks      | elapsed:    1.3s\n",
      "[Parallel(n_jobs=20)]: Done  50 out of  50 | elapsed:    6.0s finished\n"
     ]
    },
    {
     "name": "stdout",
     "output_type": "stream",
     "text": [
      "acc: 0.709, roc-auc: 0.798, BER: 0.286\n",
      "The auc score for /home/shenwanxiang/Research/AggMapNet_dataset/TCGA-G/O_z-score_train_UCEC_grade.h5 is 0.7705151800207262.\n",
      "################################################## /home/shenwanxiang/Research/AggMapNet_dataset/TCGA-G/O_z-score_train_PAAD_grade.h5 ##################################################\n",
      "/home/shenwanxiang/Research/AggMapNet_dataset/TCGA-G/O_z-score_train_PAAD_grade.h5 {0: 131, 1: 48}\n",
      "\n",
      "Input train and test X shape is (143, 2606), (36, 2606)  \n",
      "\n",
      "Getting the best parameters by gridsearch \n",
      "\n"
     ]
    },
    {
     "name": "stderr",
     "output_type": "stream",
     "text": [
      "[Parallel(n_jobs=20)]: Using backend ThreadingBackend with 20 concurrent workers.\n",
      "[Parallel(n_jobs=20)]: Done  10 tasks      | elapsed:   18.1s\n",
      "[Parallel(n_jobs=20)]: Done  50 out of  50 | elapsed:   40.4s finished\n",
      "[Parallel(n_jobs=20)]: Using backend ThreadingBackend with 20 concurrent workers.\n",
      "[Parallel(n_jobs=20)]: Done  10 tasks      | elapsed:    0.6s\n",
      "[Parallel(n_jobs=20)]: Done  50 out of  50 | elapsed:    2.3s finished\n",
      "[Parallel(n_jobs=20)]: Using backend ThreadingBackend with 20 concurrent workers.\n"
     ]
    },
    {
     "name": "stdout",
     "output_type": "stream",
     "text": [
      "acc: 0.722, roc-auc: 0.359, BER: 0.484\n",
      "\n",
      "Input train and test X shape is (143, 1927), (36, 1927)  \n",
      "\n",
      "Getting the best parameters by gridsearch \n",
      "\n"
     ]
    },
    {
     "name": "stderr",
     "output_type": "stream",
     "text": [
      "[Parallel(n_jobs=20)]: Done  10 tasks      | elapsed:   11.9s\n",
      "[Parallel(n_jobs=20)]: Done  50 out of  50 | elapsed:   28.8s finished\n",
      "[Parallel(n_jobs=20)]: Using backend ThreadingBackend with 20 concurrent workers.\n",
      "[Parallel(n_jobs=20)]: Done  10 tasks      | elapsed:    0.6s\n",
      "[Parallel(n_jobs=20)]: Done  50 out of  50 | elapsed:    1.8s finished\n",
      "[Parallel(n_jobs=20)]: Using backend ThreadingBackend with 20 concurrent workers.\n"
     ]
    },
    {
     "name": "stdout",
     "output_type": "stream",
     "text": [
      "acc: 0.528, roc-auc: 0.522, BER: 0.520\n",
      "\n",
      "Input train and test X shape is (143, 1935), (36, 1935)  \n",
      "\n",
      "Getting the best parameters by gridsearch \n",
      "\n"
     ]
    },
    {
     "name": "stderr",
     "output_type": "stream",
     "text": [
      "[Parallel(n_jobs=20)]: Done  10 tasks      | elapsed:   12.0s\n",
      "[Parallel(n_jobs=20)]: Done  50 out of  50 | elapsed:   28.9s finished\n",
      "[Parallel(n_jobs=20)]: Using backend ThreadingBackend with 20 concurrent workers.\n",
      "[Parallel(n_jobs=20)]: Done  10 tasks      | elapsed:    0.6s\n",
      "[Parallel(n_jobs=20)]: Done  50 out of  50 | elapsed:    2.3s finished\n",
      "[Parallel(n_jobs=20)]: Using backend ThreadingBackend with 20 concurrent workers.\n"
     ]
    },
    {
     "name": "stdout",
     "output_type": "stream",
     "text": [
      "acc: 0.722, roc-auc: 0.409, BER: 0.444\n",
      "\n",
      "Input train and test X shape is (143, 2736), (36, 2736)  \n",
      "\n",
      "Getting the best parameters by gridsearch \n",
      "\n"
     ]
    },
    {
     "name": "stderr",
     "output_type": "stream",
     "text": [
      "[Parallel(n_jobs=20)]: Done  10 tasks      | elapsed:   20.0s\n",
      "[Parallel(n_jobs=20)]: Done  50 out of  50 | elapsed:   47.9s finished\n",
      "[Parallel(n_jobs=20)]: Using backend ThreadingBackend with 20 concurrent workers.\n",
      "[Parallel(n_jobs=20)]: Done  10 tasks      | elapsed:    0.6s\n",
      "[Parallel(n_jobs=20)]: Done  50 out of  50 | elapsed:    2.7s finished\n"
     ]
    },
    {
     "name": "stdout",
     "output_type": "stream",
     "text": [
      "acc: 0.583, roc-auc: 0.512, BER: 0.584\n",
      "\n",
      "Input train and test X shape is (144, 1740), (35, 1740)  \n",
      "\n",
      "Getting the best parameters by gridsearch \n",
      "\n"
     ]
    },
    {
     "name": "stderr",
     "output_type": "stream",
     "text": [
      "[Parallel(n_jobs=20)]: Using backend ThreadingBackend with 20 concurrent workers.\n",
      "[Parallel(n_jobs=20)]: Done  10 tasks      | elapsed:    9.6s\n",
      "[Parallel(n_jobs=20)]: Done  50 out of  50 | elapsed:   24.2s finished\n",
      "[Parallel(n_jobs=20)]: Using backend ThreadingBackend with 20 concurrent workers.\n",
      "[Parallel(n_jobs=20)]: Done  10 tasks      | elapsed:    0.4s\n",
      "[Parallel(n_jobs=20)]: Done  50 out of  50 | elapsed:    1.7s finished\n"
     ]
    },
    {
     "name": "stdout",
     "output_type": "stream",
     "text": [
      "acc: 0.571, roc-auc: 0.648, BER: 0.483\n",
      "The auc score for /home/shenwanxiang/Research/AggMapNet_dataset/TCGA-G/O_z-score_train_PAAD_grade.h5 is 0.4902455510560416.\n",
      "################################################## /home/shenwanxiang/Research/AggMapNet_dataset/TCGA-G/O_z-score_train_CESC_grade.h5 ##################################################\n",
      "/home/shenwanxiang/Research/AggMapNet_dataset/TCGA-G/O_z-score_train_CESC_grade.h5 {0: 187, 1: 119}\n",
      "\n",
      "Input train and test X shape is (244, 1925), (62, 1925)  \n",
      "\n",
      "Getting the best parameters by gridsearch \n",
      "\n"
     ]
    },
    {
     "name": "stderr",
     "output_type": "stream",
     "text": [
      "[Parallel(n_jobs=20)]: Using backend ThreadingBackend with 20 concurrent workers.\n",
      "[Parallel(n_jobs=20)]: Done  10 tasks      | elapsed:   16.5s\n",
      "[Parallel(n_jobs=20)]: Done  50 out of  50 | elapsed:   37.2s finished\n",
      "[Parallel(n_jobs=20)]: Using backend ThreadingBackend with 20 concurrent workers.\n",
      "[Parallel(n_jobs=20)]: Done  10 tasks      | elapsed:    0.5s\n",
      "[Parallel(n_jobs=20)]: Done  50 out of  50 | elapsed:    2.3s finished\n",
      "[Parallel(n_jobs=20)]: Using backend ThreadingBackend with 20 concurrent workers.\n"
     ]
    },
    {
     "name": "stdout",
     "output_type": "stream",
     "text": [
      "acc: 0.484, roc-auc: 0.409, BER: 0.553\n",
      "\n",
      "Input train and test X shape is (245, 2420), (61, 2420)  \n",
      "\n",
      "Getting the best parameters by gridsearch \n",
      "\n"
     ]
    },
    {
     "name": "stderr",
     "output_type": "stream",
     "text": [
      "[Parallel(n_jobs=20)]: Done  10 tasks      | elapsed:   19.6s\n",
      "[Parallel(n_jobs=20)]: Done  50 out of  50 | elapsed:   46.7s finished\n",
      "[Parallel(n_jobs=20)]: Using backend ThreadingBackend with 20 concurrent workers.\n",
      "[Parallel(n_jobs=20)]: Done  10 tasks      | elapsed:    0.6s\n",
      "[Parallel(n_jobs=20)]: Done  50 out of  50 | elapsed:    2.7s finished\n"
     ]
    },
    {
     "name": "stdout",
     "output_type": "stream",
     "text": [
      "acc: 0.508, roc-auc: 0.543, BER: 0.503\n",
      "\n",
      "Input train and test X shape is (245, 1470), (61, 1470)  \n",
      "\n",
      "Getting the best parameters by gridsearch \n",
      "\n"
     ]
    },
    {
     "name": "stderr",
     "output_type": "stream",
     "text": [
      "[Parallel(n_jobs=20)]: Using backend ThreadingBackend with 20 concurrent workers.\n",
      "[Parallel(n_jobs=20)]: Done  10 tasks      | elapsed:   10.8s\n",
      "[Parallel(n_jobs=20)]: Done  50 out of  50 | elapsed:   24.8s finished\n",
      "[Parallel(n_jobs=20)]: Using backend ThreadingBackend with 20 concurrent workers.\n",
      "[Parallel(n_jobs=20)]: Done  10 tasks      | elapsed:    0.3s\n",
      "[Parallel(n_jobs=20)]: Done  50 out of  50 | elapsed:    1.3s finished\n",
      "[Parallel(n_jobs=20)]: Using backend ThreadingBackend with 20 concurrent workers.\n"
     ]
    },
    {
     "name": "stdout",
     "output_type": "stream",
     "text": [
      "acc: 0.639, roc-auc: 0.538, BER: 0.467\n",
      "\n",
      "Input train and test X shape is (245, 1944), (61, 1944)  \n",
      "\n",
      "Getting the best parameters by gridsearch \n",
      "\n"
     ]
    },
    {
     "name": "stderr",
     "output_type": "stream",
     "text": [
      "[Parallel(n_jobs=20)]: Done  10 tasks      | elapsed:   16.8s\n",
      "[Parallel(n_jobs=20)]: Done  50 out of  50 | elapsed:   37.7s finished\n",
      "[Parallel(n_jobs=20)]: Using backend ThreadingBackend with 20 concurrent workers.\n",
      "[Parallel(n_jobs=20)]: Done  10 tasks      | elapsed:    0.4s\n",
      "[Parallel(n_jobs=20)]: Done  50 out of  50 | elapsed:    1.9s finished\n",
      "[Parallel(n_jobs=20)]: Using backend ThreadingBackend with 20 concurrent workers.\n"
     ]
    },
    {
     "name": "stdout",
     "output_type": "stream",
     "text": [
      "acc: 0.492, roc-auc: 0.466, BER: 0.521\n",
      "\n",
      "Input train and test X shape is (245, 2096), (61, 2096)  \n",
      "\n",
      "Getting the best parameters by gridsearch \n",
      "\n"
     ]
    },
    {
     "name": "stderr",
     "output_type": "stream",
     "text": [
      "[Parallel(n_jobs=20)]: Done  10 tasks      | elapsed:   13.9s\n",
      "[Parallel(n_jobs=20)]: Done  50 out of  50 | elapsed:   33.3s finished\n",
      "[Parallel(n_jobs=20)]: Using backend ThreadingBackend with 20 concurrent workers.\n",
      "[Parallel(n_jobs=20)]: Done  10 tasks      | elapsed:    0.6s\n",
      "[Parallel(n_jobs=20)]: Done  50 out of  50 | elapsed:    2.4s finished\n"
     ]
    },
    {
     "name": "stdout",
     "output_type": "stream",
     "text": [
      "acc: 0.508, roc-auc: 0.507, BER: 0.515\n",
      "The auc score for /home/shenwanxiang/Research/AggMapNet_dataset/TCGA-G/O_z-score_train_CESC_grade.h5 is 0.4926340683693625.\n",
      "################################################## /home/shenwanxiang/Research/AggMapNet_dataset/TCGA-G/O_z-score_test_HNSC_grade.h5 ##################################################\n",
      "/home/shenwanxiang/Research/AggMapNet_dataset/TCGA-G/O_z-score_test_HNSC_grade.h5 {0: 385, 1: 119}\n",
      "\n",
      "Input train and test X shape is (403, 1849), (101, 1849)  \n",
      "\n",
      "Getting the best parameters by gridsearch \n",
      "\n"
     ]
    },
    {
     "name": "stderr",
     "output_type": "stream",
     "text": [
      "[Parallel(n_jobs=20)]: Using backend ThreadingBackend with 20 concurrent workers.\n",
      "[Parallel(n_jobs=20)]: Done  10 tasks      | elapsed:   17.3s\n",
      "[Parallel(n_jobs=20)]: Done  50 out of  50 | elapsed:   38.6s finished\n",
      "[Parallel(n_jobs=20)]: Using backend ThreadingBackend with 20 concurrent workers.\n",
      "[Parallel(n_jobs=20)]: Done  10 tasks      | elapsed:    0.6s\n",
      "[Parallel(n_jobs=20)]: Done  50 out of  50 | elapsed:    2.6s finished\n"
     ]
    },
    {
     "name": "stdout",
     "output_type": "stream",
     "text": [
      "acc: 0.772, roc-auc: 0.684, BER: 0.359\n",
      "\n",
      "Input train and test X shape is (403, 2578), (101, 2578)  \n",
      "\n",
      "Getting the best parameters by gridsearch \n",
      "\n"
     ]
    },
    {
     "name": "stderr",
     "output_type": "stream",
     "text": [
      "[Parallel(n_jobs=20)]: Using backend ThreadingBackend with 20 concurrent workers.\n",
      "[Parallel(n_jobs=20)]: Done  10 tasks      | elapsed:   27.9s\n",
      "[Parallel(n_jobs=20)]: Done  50 out of  50 | elapsed:  1.0min finished\n",
      "[Parallel(n_jobs=20)]: Using backend ThreadingBackend with 20 concurrent workers.\n",
      "[Parallel(n_jobs=20)]: Done  10 tasks      | elapsed:    0.6s\n",
      "[Parallel(n_jobs=20)]: Done  50 out of  50 | elapsed:    2.5s finished\n"
     ]
    },
    {
     "name": "stdout",
     "output_type": "stream",
     "text": [
      "acc: 0.663, roc-auc: 0.529, BER: 0.493\n",
      "\n",
      "Input train and test X shape is (403, 1450), (101, 1450)  \n",
      "\n",
      "Getting the best parameters by gridsearch \n",
      "\n"
     ]
    },
    {
     "name": "stderr",
     "output_type": "stream",
     "text": [
      "[Parallel(n_jobs=20)]: Using backend ThreadingBackend with 20 concurrent workers.\n",
      "[Parallel(n_jobs=20)]: Done  10 tasks      | elapsed:   12.3s\n",
      "[Parallel(n_jobs=20)]: Done  50 out of  50 | elapsed:   27.0s finished\n",
      "[Parallel(n_jobs=20)]: Using backend ThreadingBackend with 20 concurrent workers.\n",
      "[Parallel(n_jobs=20)]: Done  10 tasks      | elapsed:    0.5s\n",
      "[Parallel(n_jobs=20)]: Done  50 out of  50 | elapsed:    1.9s finished\n"
     ]
    },
    {
     "name": "stdout",
     "output_type": "stream",
     "text": [
      "acc: 0.634, roc-auc: 0.540, BER: 0.502\n",
      "\n",
      "Input train and test X shape is (403, 1612), (101, 1612)  \n",
      "\n",
      "Getting the best parameters by gridsearch \n",
      "\n"
     ]
    },
    {
     "name": "stderr",
     "output_type": "stream",
     "text": [
      "[Parallel(n_jobs=20)]: Using backend ThreadingBackend with 20 concurrent workers.\n",
      "[Parallel(n_jobs=20)]: Done  10 tasks      | elapsed:   14.1s\n",
      "[Parallel(n_jobs=20)]: Done  50 out of  50 | elapsed:   30.4s finished\n",
      "[Parallel(n_jobs=20)]: Using backend ThreadingBackend with 20 concurrent workers.\n",
      "[Parallel(n_jobs=20)]: Done  10 tasks      | elapsed:    0.5s\n",
      "[Parallel(n_jobs=20)]: Done  50 out of  50 | elapsed:    2.1s finished\n"
     ]
    },
    {
     "name": "stdout",
     "output_type": "stream",
     "text": [
      "acc: 0.703, roc-auc: 0.596, BER: 0.412\n",
      "\n",
      "Input train and test X shape is (404, 955), (100, 955)  \n",
      "\n",
      "Getting the best parameters by gridsearch \n",
      "\n"
     ]
    },
    {
     "name": "stderr",
     "output_type": "stream",
     "text": [
      "[Parallel(n_jobs=20)]: Using backend ThreadingBackend with 20 concurrent workers.\n",
      "[Parallel(n_jobs=20)]: Done  10 tasks      | elapsed:    6.8s\n",
      "[Parallel(n_jobs=20)]: Done  50 out of  50 | elapsed:   16.0s finished\n",
      "[Parallel(n_jobs=20)]: Using backend ThreadingBackend with 20 concurrent workers.\n",
      "[Parallel(n_jobs=20)]: Done  10 tasks      | elapsed:    0.3s\n",
      "[Parallel(n_jobs=20)]: Done  50 out of  50 | elapsed:    1.6s finished\n"
     ]
    },
    {
     "name": "stdout",
     "output_type": "stream",
     "text": [
      "acc: 0.720, roc-auc: 0.587, BER: 0.398\n",
      "The auc score for /home/shenwanxiang/Research/AggMapNet_dataset/TCGA-G/O_z-score_test_HNSC_grade.h5 is 0.587228666777675.\n",
      "################################################## /home/shenwanxiang/Research/AggMapNet_dataset/TCGA-G/O_z-score_train_LGG_grade.h5 ##################################################\n",
      "/home/shenwanxiang/Research/AggMapNet_dataset/TCGA-G/O_z-score_train_LGG_grade.h5 {1: 269, 0: 263}\n",
      "\n",
      "Input train and test X shape is (425, 2390), (107, 2390)  \n",
      "\n",
      "Getting the best parameters by gridsearch \n",
      "\n"
     ]
    },
    {
     "name": "stderr",
     "output_type": "stream",
     "text": [
      "[Parallel(n_jobs=20)]: Using backend ThreadingBackend with 20 concurrent workers.\n",
      "[Parallel(n_jobs=20)]: Done  10 tasks      | elapsed:   24.1s\n",
      "[Parallel(n_jobs=20)]: Done  50 out of  50 | elapsed:   55.9s finished\n",
      "[Parallel(n_jobs=20)]: Using backend ThreadingBackend with 20 concurrent workers.\n",
      "[Parallel(n_jobs=20)]: Done  10 tasks      | elapsed:    0.7s\n",
      "[Parallel(n_jobs=20)]: Done  50 out of  50 | elapsed:    2.9s finished\n"
     ]
    },
    {
     "name": "stdout",
     "output_type": "stream",
     "text": [
      "acc: 0.673, roc-auc: 0.657, BER: 0.331\n",
      "\n",
      "Input train and test X shape is (425, 3233), (107, 3233)  \n",
      "\n",
      "Getting the best parameters by gridsearch \n",
      "\n"
     ]
    },
    {
     "name": "stderr",
     "output_type": "stream",
     "text": [
      "[Parallel(n_jobs=20)]: Using backend ThreadingBackend with 20 concurrent workers.\n",
      "[Parallel(n_jobs=20)]: Done  10 tasks      | elapsed:   32.9s\n",
      "[Parallel(n_jobs=20)]: Done  50 out of  50 | elapsed:  1.3min finished\n",
      "[Parallel(n_jobs=20)]: Using backend ThreadingBackend with 20 concurrent workers.\n",
      "[Parallel(n_jobs=20)]: Done  10 tasks      | elapsed:    0.7s\n",
      "[Parallel(n_jobs=20)]: Done  50 out of  50 | elapsed:    2.9s finished\n"
     ]
    },
    {
     "name": "stdout",
     "output_type": "stream",
     "text": [
      "acc: 0.654, roc-auc: 0.695, BER: 0.346\n",
      "\n",
      "Input train and test X shape is (426, 3169), (106, 3169)  \n",
      "\n",
      "Getting the best parameters by gridsearch \n",
      "\n"
     ]
    },
    {
     "name": "stderr",
     "output_type": "stream",
     "text": [
      "[Parallel(n_jobs=20)]: Using backend ThreadingBackend with 20 concurrent workers.\n",
      "[Parallel(n_jobs=20)]: Done  10 tasks      | elapsed:   32.1s\n",
      "[Parallel(n_jobs=20)]: Done  50 out of  50 | elapsed:  1.3min finished\n",
      "[Parallel(n_jobs=20)]: Using backend ThreadingBackend with 20 concurrent workers.\n",
      "[Parallel(n_jobs=20)]: Done  10 tasks      | elapsed:    0.8s\n",
      "[Parallel(n_jobs=20)]: Done  50 out of  50 | elapsed:    3.4s finished\n"
     ]
    },
    {
     "name": "stdout",
     "output_type": "stream",
     "text": [
      "acc: 0.660, roc-auc: 0.704, BER: 0.341\n",
      "\n",
      "Input train and test X shape is (426, 2814), (106, 2814)  \n",
      "\n",
      "Getting the best parameters by gridsearch \n",
      "\n"
     ]
    },
    {
     "name": "stderr",
     "output_type": "stream",
     "text": [
      "[Parallel(n_jobs=20)]: Using backend ThreadingBackend with 20 concurrent workers.\n",
      "[Parallel(n_jobs=20)]: Done  10 tasks      | elapsed:   27.8s\n",
      "[Parallel(n_jobs=20)]: Done  50 out of  50 | elapsed:  1.1min finished\n",
      "[Parallel(n_jobs=20)]: Using backend ThreadingBackend with 20 concurrent workers.\n",
      "[Parallel(n_jobs=20)]: Done  10 tasks      | elapsed:    0.8s\n",
      "[Parallel(n_jobs=20)]: Done  50 out of  50 | elapsed:    3.1s finished\n"
     ]
    },
    {
     "name": "stdout",
     "output_type": "stream",
     "text": [
      "acc: 0.632, roc-auc: 0.668, BER: 0.354\n",
      "\n",
      "Input train and test X shape is (426, 3157), (106, 3157)  \n",
      "\n",
      "Getting the best parameters by gridsearch \n",
      "\n"
     ]
    },
    {
     "name": "stderr",
     "output_type": "stream",
     "text": [
      "[Parallel(n_jobs=20)]: Using backend ThreadingBackend with 20 concurrent workers.\n",
      "[Parallel(n_jobs=20)]: Done  10 tasks      | elapsed:   32.5s\n",
      "[Parallel(n_jobs=20)]: Done  50 out of  50 | elapsed:  1.2min finished\n",
      "[Parallel(n_jobs=20)]: Using backend ThreadingBackend with 20 concurrent workers.\n",
      "[Parallel(n_jobs=20)]: Done  10 tasks      | elapsed:    0.9s\n"
     ]
    },
    {
     "name": "stdout",
     "output_type": "stream",
     "text": [
      "acc: 0.557, roc-auc: 0.633, BER: 0.443\n",
      "The auc score for /home/shenwanxiang/Research/AggMapNet_dataset/TCGA-G/O_z-score_train_LGG_grade.h5 is 0.6712292527971315.\n"
     ]
    },
    {
     "name": "stderr",
     "output_type": "stream",
     "text": [
      "[Parallel(n_jobs=20)]: Done  50 out of  50 | elapsed:    3.4s finished\n"
     ]
    }
   ],
   "source": [
    "lst = glob('/home/shenwanxiang/Research/AggMapNet_dataset/TCGA-G/*.h5')\n",
    "\n",
    "n_fold = 5\n",
    "\n",
    "res = []\n",
    "for p in lst:\n",
    "    \n",
    "    print('#'*50 + ' %s ' % p + '#'*50 )\n",
    "    dfx = pd.read_hdf(p, key = 'expression')\n",
    "    dfy = pd.read_hdf(p, key = 'labels')\n",
    "    print(p, dfy.value_counts().to_dict())\n",
    "\n",
    "    outer = KFold(n_splits = n_fold, shuffle = True, random_state = 123)\n",
    "    outer_idx = list(outer.split(dfx, dfy))\n",
    "\n",
    "    fold_all = []\n",
    "    for i, idx in enumerate(outer_idx):\n",
    "\n",
    "        fold_num = \"fold_%s\" % str(i).zfill(2) \n",
    "\n",
    "        train_idx, test_idx = idx\n",
    "\n",
    "        # subset feature selection by the fold change\n",
    "        dfxy_train = dfx.iloc[train_idx].join(dfy.iloc[train_idx])\n",
    "        abds = dfxy_train.groupby(dfy.name).mean()\n",
    "        fc = abs(abds.iloc[0] - abds.iloc[1])\n",
    "        selected = fc[fc > 0.5].index\n",
    "\n",
    "        trainX = dfx[selected].iloc[train_idx].values\n",
    "        trainY = dfy.iloc[train_idx].values\n",
    "\n",
    "        testX = dfx[selected].iloc[test_idx].values\n",
    "        testY = dfy.iloc[test_idx].values\n",
    "\n",
    "        ## training\n",
    "        print(\"\\nInput train and test X shape is %s, %s  \\n\" % (trainX.shape,  testX.shape))\n",
    "        print(\"Getting the best parameters by gridsearch \\n\")\n",
    "        #best_params = get_best_params(trainX, trainY)\n",
    "        best_params = {'n_estimators':50, 'n_features_per_subset':10}\n",
    "        \n",
    "        clf = RotationForestClassifier(**best_params, n_jobs=20, verbose=1)\n",
    "        clf.fit(trainX, trainY)\n",
    "\n",
    "        ## evaluation\n",
    "        y_true = testY\n",
    "        y_score = clf.predict_proba(testX)[:,1]\n",
    "        dfr = pd.DataFrame([y_true, y_score]).T\n",
    "        dfr.columns = ['y_true', 'y_score']\n",
    "        dfr.index = dfy.iloc[test_idx].index\n",
    "        acc, auc = score(dfr)\n",
    "        \n",
    "        fold_all.append(auc)\n",
    "        res.append([auc, i, p, best_params])\n",
    "        \n",
    "    print('The auc score for %s is %s.' % (p, np.mean(fold_all)))\n"
   ]
  },
  {
   "cell_type": "code",
   "execution_count": 7,
   "id": "c2bf318a-99e4-45b3-a948-0dd09b430d81",
   "metadata": {
    "tags": []
   },
   "outputs": [
    {
     "data": {
      "text/html": [
       "<div>\n",
       "<style scoped>\n",
       "    .dataframe tbody tr th:only-of-type {\n",
       "        vertical-align: middle;\n",
       "    }\n",
       "\n",
       "    .dataframe tbody tr th {\n",
       "        vertical-align: top;\n",
       "    }\n",
       "\n",
       "    .dataframe thead th {\n",
       "        text-align: right;\n",
       "    }\n",
       "</style>\n",
       "<table border=\"1\" class=\"dataframe\">\n",
       "  <thead>\n",
       "    <tr style=\"text-align: right;\">\n",
       "      <th></th>\n",
       "      <th>score</th>\n",
       "      <th>fold</th>\n",
       "    </tr>\n",
       "    <tr>\n",
       "      <th>task</th>\n",
       "      <th></th>\n",
       "      <th></th>\n",
       "    </tr>\n",
       "  </thead>\n",
       "  <tbody>\n",
       "    <tr>\n",
       "      <th>/home/shenwanxiang/Research/AggMapNet_dataset/TCGA-G/O_z-score_train_UCEC_grade.h5</th>\n",
       "      <td>0.770515</td>\n",
       "      <td>2</td>\n",
       "    </tr>\n",
       "    <tr>\n",
       "      <th>/home/shenwanxiang/Research/AggMapNet_dataset/TCGA-G/O_z-score_train_LGG_grade.h5</th>\n",
       "      <td>0.671229</td>\n",
       "      <td>2</td>\n",
       "    </tr>\n",
       "    <tr>\n",
       "      <th>/home/shenwanxiang/Research/AggMapNet_dataset/TCGA-G/O_z-score_train_STAD_grade.h5</th>\n",
       "      <td>0.636267</td>\n",
       "      <td>2</td>\n",
       "    </tr>\n",
       "    <tr>\n",
       "      <th>/home/shenwanxiang/Research/AggMapNet_dataset/TCGA-G/O_z-score_test_HNSC_grade.h5</th>\n",
       "      <td>0.587229</td>\n",
       "      <td>2</td>\n",
       "    </tr>\n",
       "    <tr>\n",
       "      <th>/home/shenwanxiang/Research/AggMapNet_dataset/TCGA-G/O_z-score_train_LIHC_grade.h5</th>\n",
       "      <td>0.550368</td>\n",
       "      <td>2</td>\n",
       "    </tr>\n",
       "    <tr>\n",
       "      <th>/home/shenwanxiang/Research/AggMapNet_dataset/TCGA-G/O_z-score_train_KIRC_grade.h5</th>\n",
       "      <td>0.513963</td>\n",
       "      <td>2</td>\n",
       "    </tr>\n",
       "    <tr>\n",
       "      <th>/home/shenwanxiang/Research/AggMapNet_dataset/TCGA-G/O_z-score_train_CESC_grade.h5</th>\n",
       "      <td>0.492634</td>\n",
       "      <td>2</td>\n",
       "    </tr>\n",
       "    <tr>\n",
       "      <th>/home/shenwanxiang/Research/AggMapNet_dataset/TCGA-G/O_z-score_train_PAAD_grade.h5</th>\n",
       "      <td>0.490246</td>\n",
       "      <td>2</td>\n",
       "    </tr>\n",
       "  </tbody>\n",
       "</table>\n",
       "</div>"
      ],
      "text/plain": [
       "                                                       score  fold\n",
       "task                                                              \n",
       "/home/shenwanxiang/Research/AggMapNet_dataset/T...  0.770515     2\n",
       "/home/shenwanxiang/Research/AggMapNet_dataset/T...  0.671229     2\n",
       "/home/shenwanxiang/Research/AggMapNet_dataset/T...  0.636267     2\n",
       "/home/shenwanxiang/Research/AggMapNet_dataset/T...  0.587229     2\n",
       "/home/shenwanxiang/Research/AggMapNet_dataset/T...  0.550368     2\n",
       "/home/shenwanxiang/Research/AggMapNet_dataset/T...  0.513963     2\n",
       "/home/shenwanxiang/Research/AggMapNet_dataset/T...  0.492634     2\n",
       "/home/shenwanxiang/Research/AggMapNet_dataset/T...  0.490246     2"
      ]
     },
     "execution_count": 7,
     "metadata": {},
     "output_type": "execute_result"
    }
   ],
   "source": [
    "dfres = pd.DataFrame(res, columns = ['score', 'fold', 'task','best_params'])\n",
    "dfres.to_csv('./FS_RoationForest_5FCV_results_grade.csv')\n",
    "dfres.groupby('task').mean().sort_values('score',ascending=False)"
   ]
  },
  {
   "cell_type": "code",
   "execution_count": null,
   "id": "7f8b31cc-bcf3-4dff-8651-4adab17599b8",
   "metadata": {},
   "outputs": [],
   "source": []
  },
  {
   "cell_type": "code",
   "execution_count": null,
   "id": "55f8c166-cfed-4623-87fa-59d4777c1076",
   "metadata": {},
   "outputs": [],
   "source": []
  },
  {
   "cell_type": "code",
   "execution_count": null,
   "id": "90b90549-5fb6-4153-853e-dba1fbd10c75",
   "metadata": {},
   "outputs": [],
   "source": []
  }
 ],
 "metadata": {
  "kernelspec": {
   "display_name": "Python 3",
   "language": "python",
   "name": "python3"
  },
  "language_info": {
   "codemirror_mode": {
    "name": "ipython",
    "version": 3
   },
   "file_extension": ".py",
   "mimetype": "text/x-python",
   "name": "python",
   "nbconvert_exporter": "python",
   "pygments_lexer": "ipython3",
   "version": "3.6.10"
  }
 },
 "nbformat": 4,
 "nbformat_minor": 5
}
