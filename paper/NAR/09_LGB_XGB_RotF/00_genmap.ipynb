{
 "cells": [
  {
   "cell_type": "code",
   "execution_count": 6,
   "id": "20862919-d469-44ca-9ed1-f0c1b8b45913",
   "metadata": {},
   "outputs": [],
   "source": [
    "import warnings, os\n",
    "warnings.filterwarnings(\"ignore\")\n",
    "\n",
    "import pandas as pd\n",
    "import numpy as np\n",
    "from glob import glob\n",
    "import matplotlib.pyplot as plt\n",
    "import seaborn as sns\n",
    "\n",
    "from aggmap import AggMap, AggMapNet, loadmap\n",
    "from aggmap import show\n",
    "np.random.seed(666) #just for reaptable results\n"
   ]
  },
  {
   "cell_type": "code",
   "execution_count": 7,
   "id": "ff1483a3-40f2-4ccb-9f9b-d52d29e119e5",
   "metadata": {},
   "outputs": [],
   "source": [
    "lst = glob('/home/shenwanxiang/Research/AggMapNet_dataset/TCGA-G/*.h5')\n",
    "lst2 = glob('/home/shenwanxiang/Research/AggMapNet_dataset/TCGA-S/*.h5')\n",
    "lst.extend(lst2)"
   ]
  },
  {
   "cell_type": "code",
   "execution_count": 8,
   "id": "214e3369-bbb6-416c-8f0d-c0c1b4303d7f",
   "metadata": {},
   "outputs": [],
   "source": [
    "res = []\n",
    "for p in lst:\n",
    "    df = pd.read_hdf(p, key = 'expression')\n",
    "    #df['group'] = p\n",
    "    res.append(df)"
   ]
  },
  {
   "cell_type": "code",
   "execution_count": 9,
   "id": "cdb3c66d-8a9f-4272-b04d-eec89d8468e7",
   "metadata": {},
   "outputs": [],
   "source": [
    "dfx = pd.concat(res, axis=0)"
   ]
  },
  {
   "cell_type": "code",
   "execution_count": 10,
   "id": "e67eabc7-915f-4324-bfe3-99f23709ddea",
   "metadata": {},
   "outputs": [
    {
     "name": "stdout",
     "output_type": "stream",
     "text": [
      "2021-10-21 12:52:15,294 - \u001b[32mINFO\u001b[0m - [bidd-aggmap]\u001b[0m - Calculating distance ...\u001b[0m\n"
     ]
    },
    {
     "name": "stderr",
     "output_type": "stream",
     "text": [
      "100%|##########| 17970/17970 [00:24<00:00, 727.08it/s]\n"
     ]
    },
    {
     "name": "stdout",
     "output_type": "stream",
     "text": [
      "2021-10-21 13:07:04,181 - \u001b[32mINFO\u001b[0m - [bidd-aggmap]\u001b[0m - applying hierarchical clustering to obtain group information ...\u001b[0m\n",
      "2021-10-21 13:07:38,012 - \u001b[32mINFO\u001b[0m - [bidd-aggmap]\u001b[0m - Applying grid assignment of feature points, this may take several minutes(1~30 min)\u001b[0m\n",
      "2021-10-21 13:40:00,368 - \u001b[32mINFO\u001b[0m - [bidd-aggmap]\u001b[0m - Finished\u001b[0m\n"
     ]
    },
    {
     "data": {
      "text/plain": [
       "<aggmap.map.AggMap at 0x7ff1f142ee80>"
      ]
     },
     "execution_count": 10,
     "metadata": {},
     "output_type": "execute_result"
    }
   ],
   "source": [
    "mp = AggMap(dfx, metric = 'correlation', by_scipy=True)\n",
    "mp.fit(cluster_channels = 30, verbose = 0, var_thr = 0)"
   ]
  },
  {
   "cell_type": "code",
   "execution_count": 11,
   "id": "ba60f550-3071-4abe-a7ed-d42bf384ce98",
   "metadata": {},
   "outputs": [
    {
     "data": {
      "text/plain": [
       "['/home/shenwanxiang/Research/AggMapNet_dataset/TCGA-S-G.mp']"
      ]
     },
     "execution_count": 11,
     "metadata": {},
     "output_type": "execute_result"
    }
   ],
   "source": [
    "mp.save('/home/shenwanxiang/Research/AggMapNet_dataset/TCGA-S-G.mp')"
   ]
  },
  {
   "cell_type": "code",
   "execution_count": null,
   "id": "919da072-77ab-4c87-abaa-1efedf64cdab",
   "metadata": {},
   "outputs": [],
   "source": []
  }
 ],
 "metadata": {
  "kernelspec": {
   "display_name": "Python 3",
   "language": "python",
   "name": "python3"
  },
  "language_info": {
   "codemirror_mode": {
    "name": "ipython",
    "version": 3
   },
   "file_extension": ".py",
   "mimetype": "text/x-python",
   "name": "python",
   "nbconvert_exporter": "python",
   "pygments_lexer": "ipython3",
   "version": "3.6.10"
  }
 },
 "nbformat": 4,
 "nbformat_minor": 5
}
