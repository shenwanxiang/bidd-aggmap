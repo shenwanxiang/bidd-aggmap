{
 "cells": [
  {
   "cell_type": "code",
   "execution_count": 2,
   "id": "ac67c608-d93e-4424-89ff-b010a95e45bf",
   "metadata": {},
   "outputs": [
    {
     "name": "stdout",
     "output_type": "stream",
     "text": [
      "total 116M\n",
      "-rw-rw-r-- 1 shenwanxiang shenwanxiang 121K Sep 14 20:15 \u001b[0m\u001b[01;35m2D_grid_gray.svg\u001b[0m\n",
      "-rw-rw-r-- 1 shenwanxiang shenwanxiang 121K Sep 14 20:20 \u001b[01;35m2D_grid.svg\u001b[0m\n",
      "-rw-rw-r-- 1 shenwanxiang shenwanxiang 111K Sep 14 20:19 \u001b[01;35m2D_scatter_gray.svg\u001b[0m\n",
      "-rw-rw-r-- 1 shenwanxiang shenwanxiang 111K Sep 14 20:20 \u001b[01;35m2D_scatter.svg\u001b[0m\n",
      "-rw-rw-r-- 1 shenwanxiang shenwanxiang 121K Sep 14 20:19 \u001b[01;35m2D_s_gray.svg\u001b[0m\n",
      "-rw-rw-r-- 1 shenwanxiang shenwanxiang 111M Sep 13 17:43 \u001b[01;35mdist_orignal.svg\u001b[0m\n",
      "-rw-rw-r-- 1 shenwanxiang shenwanxiang 2.8M Sep 13 16:22 \u001b[01;35mgraph_optimized.svg\u001b[0m\n",
      "-rw-rw-r-- 1 shenwanxiang shenwanxiang 964K Sep 13 17:18 \u001b[01;35mgraph_orignal.svg\u001b[0m\n",
      "-rw-rw-r-- 1 shenwanxiang shenwanxiang 964K Sep 13 17:58 \u001b[01;35mgraph_randomized.svg\u001b[0m\n",
      "-rw-rw-r-- 1 shenwanxiang shenwanxiang 121K Sep 14 20:19 \u001b[01;35minit_embed.svg\u001b[0m\n",
      "-rw-rw-r-- 1 shenwanxiang shenwanxiang   72 Sep 14 21:50 Untitled.ipynb\n"
     ]
    }
   ],
   "source": [
    "ls -lh"
   ]
  },
  {
   "cell_type": "code",
   "execution_count": null,
   "id": "67c96d5f-7bdf-4472-b3ed-6860aa320bbd",
   "metadata": {},
   "outputs": [],
   "source": []
  }
 ],
 "metadata": {
  "kernelspec": {
   "display_name": "Python 3",
   "language": "python",
   "name": "python3"
  },
  "language_info": {
   "codemirror_mode": {
    "name": "ipython",
    "version": 3
   },
   "file_extension": ".py",
   "mimetype": "text/x-python",
   "name": "python",
   "nbconvert_exporter": "python",
   "pygments_lexer": "ipython3",
   "version": "3.6.10"
  }
 },
 "nbformat": 4,
 "nbformat_minor": 5
}
