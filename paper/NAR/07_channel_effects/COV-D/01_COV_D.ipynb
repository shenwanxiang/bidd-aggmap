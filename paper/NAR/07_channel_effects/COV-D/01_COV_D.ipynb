{
 "cells": [
  {
   "cell_type": "code",
   "execution_count": 1,
   "metadata": {},
   "outputs": [
    {
     "data": {
      "image/png": "[encoded data removed]",
      "text/plain": [
       "<Figure size 936x72 with 1 Axes>"
      ]
     },
     "metadata": {
      "needs_background": "light"
     },
     "output_type": "display_data"
    }
   ],
   "source": [
    "# -*- coding: utf-8 -*-\n",
    "\"\"\"\n",
    "Created on Sun Aug 16 17:10:53 2020\n",
    "\n",
    "@author: wanxiang.shen@u.nus.edu\n",
    "\"\"\"\n",
    "\n",
    "import warnings\n",
    "warnings.filterwarnings(\"ignore\")\n",
    "\n",
    "\n",
    "import pandas as pd\n",
    "import numpy as np\n",
    "\n",
    "from sklearn.model_selection import KFold, StratifiedKFold\n",
    "from sklearn.metrics import confusion_matrix, precision_recall_curve\n",
    "from sklearn.metrics import auc as calculate_auc\n",
    "\n",
    "import matplotlib.pyplot as plt\n",
    "import seaborn as sns\n",
    "\n",
    "from aggmap import AggMap, AggMapNet\n",
    "\n",
    "np.random.seed(666) #just for reaptable results\n",
    "\n",
    "channel_list =  list(range(1, 50, 4))\n",
    "\n",
    "color = sns.color_palette(\"rainbow_r\", len(channel_list)) #PiYG\n",
    "sns.palplot(color)"
   ]
  },
  {
   "cell_type": "code",
   "execution_count": null,
   "metadata": {},
   "outputs": [],
   "source": []
  },
  {
   "cell_type": "code",
   "execution_count": null,
   "metadata": {},
   "outputs": [],
   "source": []
  },
  {
   "cell_type": "code",
   "execution_count": 2,
   "metadata": {},
   "outputs": [
    {
     "name": "stdout",
     "output_type": "stream",
     "text": [
      "2021-10-14 12:51:29,523 - \u001b[32mINFO\u001b[0m - [bidd-aggmap]\u001b[0m - Calculating distance ...\u001b[0m\n",
      "2021-10-14 12:51:29,524 - \u001b[32mINFO\u001b[0m - [bidd-aggmap]\u001b[0m - the number of process is 16\u001b[0m\n"
     ]
    },
    {
     "name": "stderr",
     "output_type": "stream",
     "text": [
      "100%|##########| 3828/3828 [00:00<00:00, 8090.93it/s] \n",
      "100%|##########| 3828/3828 [00:00<00:00, 1714263.90it/s]\n",
      "100%|##########| 88/88 [00:00<00:00, 995.00it/s]\n"
     ]
    }
   ],
   "source": [
    "dfx  = pd.read_excel('../../03_COVID-19/COVID19.xlsx', sheet_name='data')\n",
    "dfy  = pd.read_excel('../../03_COVID-19/COVID19.xlsx', sheet_name='sample_info')\n",
    "\n",
    "dfx = dfx[dfx.columns[1:]]\n",
    "cols = [\"p-%s\" % c for c in dfx.columns]\n",
    "dfx.columns = cols\n",
    "\n",
    "X = dfx.values\n",
    "Y = pd.get_dummies(dfy['class']).values.astype(float)\n",
    "\n",
    "mp = AggMap(dfx, metric = 'correlation')"
   ]
  },
  {
   "cell_type": "code",
   "execution_count": null,
   "metadata": {},
   "outputs": [],
   "source": []
  },
  {
   "cell_type": "markdown",
   "metadata": {},
   "source": [
    "## 5-fold cross validation and repeat 5 times "
   ]
  },
  {
   "cell_type": "code",
   "execution_count": 3,
   "metadata": {
    "tags": []
   },
   "outputs": [
    {
     "name": "stdout",
     "output_type": "stream",
     "text": [
      "2021-10-14 12:51:30,272 - \u001b[32mINFO\u001b[0m - [bidd-aggmap]\u001b[0m - applying hierarchical clustering to obtain group information ...\u001b[0m\n",
      "2021-10-14 12:51:35,257 - \u001b[32mINFO\u001b[0m - [bidd-aggmap]\u001b[0m - Applying grid assignment of feature points, this may take several minutes(1~30 min)\u001b[0m\n",
      "2021-10-14 12:51:35,266 - \u001b[32mINFO\u001b[0m - [bidd-aggmap]\u001b[0m - Finished\u001b[0m\n"
     ]
    },
    {
     "name": "stderr",
     "output_type": "stream",
     "text": [
      "100%|##########| 289/289 [00:03<00:00, 79.40it/s] \n",
      "100%|##########| 73/73 [00:00<00:00, 471.49it/s]\n"
     ]
    },
    {
     "name": "stdout",
     "output_type": "stream",
     "text": [
      "\n",
      " input train and test X shape is (289, 10, 9, 1), (73, 10, 9, 1) \n"
     ]
    },
    {
     "name": "stderr",
     "output_type": "stream",
     "text": [
      "100%|##########| 289/289 [00:00<00:00, 693.88it/s]\n",
      "100%|##########| 73/73 [00:00<00:00, 414.01it/s]\n"
     ]
    },
    {
     "name": "stdout",
     "output_type": "stream",
     "text": [
      "\n",
      " input train and test X shape is (289, 10, 9, 1), (73, 10, 9, 1) \n"
     ]
    },
    {
     "name": "stderr",
     "output_type": "stream",
     "text": [
      "100%|##########| 290/290 [00:00<00:00, 617.23it/s]\n",
      "100%|##########| 72/72 [00:00<00:00, 433.45it/s]\n"
     ]
    },
    {
     "name": "stdout",
     "output_type": "stream",
     "text": [
      "\n",
      " input train and test X shape is (290, 10, 9, 1), (72, 10, 9, 1) \n"
     ]
    },
    {
     "name": "stderr",
     "output_type": "stream",
     "text": [
      "100%|##########| 290/290 [00:00<00:00, 655.71it/s]\n",
      "100%|##########| 72/72 [00:00<00:00, 378.65it/s]\n"
     ]
    },
    {
     "name": "stdout",
     "output_type": "stream",
     "text": [
      "\n",
      " input train and test X shape is (290, 10, 9, 1), (72, 10, 9, 1) \n"
     ]
    },
    {
     "name": "stderr",
     "output_type": "stream",
     "text": [
      "100%|##########| 290/290 [00:00<00:00, 602.02it/s]\n",
      "100%|##########| 72/72 [00:00<00:00, 453.69it/s]\n"
     ]
    },
    {
     "name": "stdout",
     "output_type": "stream",
     "text": [
      "\n",
      " input train and test X shape is (290, 10, 9, 1), (72, 10, 9, 1) \n",
      "2021-10-14 12:54:09,379 - \u001b[32mINFO\u001b[0m - [bidd-aggmap]\u001b[0m - applying hierarchical clustering to obtain group information ...\u001b[0m\n",
      "2021-10-14 12:54:10,243 - \u001b[32mINFO\u001b[0m - [bidd-aggmap]\u001b[0m - Applying grid assignment of feature points, this may take several minutes(1~30 min)\u001b[0m\n",
      "2021-10-14 12:54:10,252 - \u001b[32mINFO\u001b[0m - [bidd-aggmap]\u001b[0m - Finished\u001b[0m\n"
     ]
    },
    {
     "name": "stderr",
     "output_type": "stream",
     "text": [
      "100%|##########| 289/289 [00:00<00:00, 705.02it/s]\n",
      "100%|##########| 73/73 [00:00<00:00, 440.41it/s]\n"
     ]
    },
    {
     "name": "stdout",
     "output_type": "stream",
     "text": [
      "\n",
      " input train and test X shape is (289, 10, 9, 5), (73, 10, 9, 5) \n"
     ]
    },
    {
     "name": "stderr",
     "output_type": "stream",
     "text": [
      "100%|##########| 289/289 [00:00<00:00, 695.97it/s]\n",
      "100%|##########| 73/73 [00:00<00:00, 511.47it/s]\n"
     ]
    },
    {
     "name": "stdout",
     "output_type": "stream",
     "text": [
      "\n",
      " input train and test X shape is (289, 10, 9, 5), (73, 10, 9, 5) \n"
     ]
    },
    {
     "name": "stderr",
     "output_type": "stream",
     "text": [
      "100%|##########| 290/290 [00:00<00:00, 702.45it/s]\n",
      "100%|##########| 72/72 [00:00<00:00, 446.19it/s]\n"
     ]
    },
    {
     "name": "stdout",
     "output_type": "stream",
     "text": [
      "\n",
      " input train and test X shape is (290, 10, 9, 5), (72, 10, 9, 5) \n"
     ]
    },
    {
     "name": "stderr",
     "output_type": "stream",
     "text": [
      "100%|##########| 290/290 [00:00<00:00, 714.94it/s]\n",
      "100%|##########| 72/72 [00:00<00:00, 433.23it/s]\n"
     ]
    },
    {
     "name": "stdout",
     "output_type": "stream",
     "text": [
      "\n",
      " input train and test X shape is (290, 10, 9, 5), (72, 10, 9, 5) \n"
     ]
    },
    {
     "name": "stderr",
     "output_type": "stream",
     "text": [
      "100%|##########| 290/290 [00:00<00:00, 674.37it/s]\n",
      "100%|##########| 72/72 [00:00<00:00, 449.42it/s]\n"
     ]
    },
    {
     "name": "stdout",
     "output_type": "stream",
     "text": [
      "\n",
      " input train and test X shape is (290, 10, 9, 5), (72, 10, 9, 5) \n",
      "2021-10-14 12:56:40,561 - \u001b[32mINFO\u001b[0m - [bidd-aggmap]\u001b[0m - applying hierarchical clustering to obtain group information ...\u001b[0m\n",
      "2021-10-14 12:56:41,635 - \u001b[32mINFO\u001b[0m - [bidd-aggmap]\u001b[0m - Applying grid assignment of feature points, this may take several minutes(1~30 min)\u001b[0m\n",
      "2021-10-14 12:56:41,648 - \u001b[32mINFO\u001b[0m - [bidd-aggmap]\u001b[0m - Finished\u001b[0m\n"
     ]
    },
    {
     "name": "stderr",
     "output_type": "stream",
     "text": [
      "100%|##########| 289/289 [00:00<00:00, 744.79it/s]\n",
      "100%|##########| 73/73 [00:00<00:00, 464.49it/s]\n"
     ]
    },
    {
     "name": "stdout",
     "output_type": "stream",
     "text": [
      "\n",
      " input train and test X shape is (289, 10, 9, 9), (73, 10, 9, 9) \n"
     ]
    },
    {
     "name": "stderr",
     "output_type": "stream",
     "text": [
      "100%|##########| 289/289 [00:00<00:00, 870.82it/s]\n",
      "100%|##########| 73/73 [00:00<00:00, 464.98it/s]\n"
     ]
    },
    {
     "name": "stdout",
     "output_type": "stream",
     "text": [
      "\n",
      " input train and test X shape is (289, 10, 9, 9), (73, 10, 9, 9) \n"
     ]
    },
    {
     "name": "stderr",
     "output_type": "stream",
     "text": [
      "100%|##########| 290/290 [00:00<00:00, 705.54it/s]\n",
      "100%|##########| 72/72 [00:00<00:00, 477.42it/s]\n"
     ]
    },
    {
     "name": "stdout",
     "output_type": "stream",
     "text": [
      "\n",
      " input train and test X shape is (290, 10, 9, 9), (72, 10, 9, 9) \n"
     ]
    },
    {
     "name": "stderr",
     "output_type": "stream",
     "text": [
      "100%|##########| 290/290 [00:00<00:00, 721.86it/s]\n",
      "100%|##########| 72/72 [00:00<00:00, 530.60it/s]\n"
     ]
    },
    {
     "name": "stdout",
     "output_type": "stream",
     "text": [
      "\n",
      " input train and test X shape is (290, 10, 9, 9), (72, 10, 9, 9) \n"
     ]
    },
    {
     "name": "stderr",
     "output_type": "stream",
     "text": [
      "100%|##########| 290/290 [00:00<00:00, 777.90it/s]\n",
      "100%|##########| 72/72 [00:00<00:00, 496.13it/s]\n"
     ]
    },
    {
     "name": "stdout",
     "output_type": "stream",
     "text": [
      "\n",
      " input train and test X shape is (290, 10, 9, 9), (72, 10, 9, 9) \n",
      "2021-10-14 12:59:11,197 - \u001b[32mINFO\u001b[0m - [bidd-aggmap]\u001b[0m - applying hierarchical clustering to obtain group information ...\u001b[0m\n",
      "2021-10-14 12:59:12,105 - \u001b[32mINFO\u001b[0m - [bidd-aggmap]\u001b[0m - Applying grid assignment of feature points, this may take several minutes(1~30 min)\u001b[0m\n",
      "2021-10-14 12:59:12,120 - \u001b[32mINFO\u001b[0m - [bidd-aggmap]\u001b[0m - Finished\u001b[0m\n"
     ]
    },
    {
     "name": "stderr",
     "output_type": "stream",
     "text": [
      "100%|##########| 289/289 [00:00<00:00, 929.88it/s]\n",
      "100%|##########| 73/73 [00:00<00:00, 472.35it/s]\n"
     ]
    },
    {
     "name": "stdout",
     "output_type": "stream",
     "text": [
      "\n",
      " input train and test X shape is (289, 10, 9, 13), (73, 10, 9, 13) \n"
     ]
    },
    {
     "name": "stderr",
     "output_type": "stream",
     "text": [
      "100%|##########| 289/289 [00:00<00:00, 813.75it/s]\n",
      "100%|##########| 73/73 [00:00<00:00, 572.18it/s]\n"
     ]
    },
    {
     "name": "stdout",
     "output_type": "stream",
     "text": [
      "\n",
      " input train and test X shape is (289, 10, 9, 13), (73, 10, 9, 13) \n"
     ]
    },
    {
     "name": "stderr",
     "output_type": "stream",
     "text": [
      "100%|##########| 290/290 [00:00<00:00, 757.84it/s]\n",
      "100%|##########| 72/72 [00:00<00:00, 535.69it/s]\n"
     ]
    },
    {
     "name": "stdout",
     "output_type": "stream",
     "text": [
      "\n",
      " input train and test X shape is (290, 10, 9, 13), (72, 10, 9, 13) \n"
     ]
    },
    {
     "name": "stderr",
     "output_type": "stream",
     "text": [
      "100%|##########| 290/290 [00:00<00:00, 735.94it/s]\n",
      "100%|##########| 72/72 [00:00<00:00, 440.17it/s]\n"
     ]
    },
    {
     "name": "stdout",
     "output_type": "stream",
     "text": [
      "\n",
      " input train and test X shape is (290, 10, 9, 13), (72, 10, 9, 13) \n"
     ]
    },
    {
     "name": "stderr",
     "output_type": "stream",
     "text": [
      "100%|##########| 290/290 [00:00<00:00, 653.91it/s]\n",
      "100%|##########| 72/72 [00:00<00:00, 427.72it/s]\n"
     ]
    },
    {
     "name": "stdout",
     "output_type": "stream",
     "text": [
      "\n",
      " input train and test X shape is (290, 10, 9, 13), (72, 10, 9, 13) \n",
      "2021-10-14 13:01:42,319 - \u001b[32mINFO\u001b[0m - [bidd-aggmap]\u001b[0m - applying hierarchical clustering to obtain group information ...\u001b[0m\n",
      "2021-10-14 13:01:43,218 - \u001b[32mINFO\u001b[0m - [bidd-aggmap]\u001b[0m - Applying grid assignment of feature points, this may take several minutes(1~30 min)\u001b[0m\n",
      "2021-10-14 13:01:43,235 - \u001b[32mINFO\u001b[0m - [bidd-aggmap]\u001b[0m - Finished\u001b[0m\n"
     ]
    },
    {
     "name": "stderr",
     "output_type": "stream",
     "text": [
      "100%|##########| 289/289 [00:00<00:00, 745.16it/s]\n",
      "100%|##########| 73/73 [00:00<00:00, 581.54it/s]\n"
     ]
    },
    {
     "name": "stdout",
     "output_type": "stream",
     "text": [
      "\n",
      " input train and test X shape is (289, 10, 9, 17), (73, 10, 9, 17) \n"
     ]
    },
    {
     "name": "stderr",
     "output_type": "stream",
     "text": [
      "100%|##########| 289/289 [00:00<00:00, 769.68it/s]\n",
      "100%|##########| 73/73 [00:00<00:00, 541.65it/s]\n"
     ]
    },
    {
     "name": "stdout",
     "output_type": "stream",
     "text": [
      "\n",
      " input train and test X shape is (289, 10, 9, 17), (73, 10, 9, 17) \n"
     ]
    },
    {
     "name": "stderr",
     "output_type": "stream",
     "text": [
      "100%|##########| 290/290 [00:00<00:00, 645.89it/s]\n",
      "100%|##########| 72/72 [00:00<00:00, 429.50it/s]\n"
     ]
    },
    {
     "name": "stdout",
     "output_type": "stream",
     "text": [
      "\n",
      " input train and test X shape is (290, 10, 9, 17), (72, 10, 9, 17) \n"
     ]
    },
    {
     "name": "stderr",
     "output_type": "stream",
     "text": [
      "100%|##########| 290/290 [00:00<00:00, 681.65it/s]\n",
      "100%|##########| 72/72 [00:00<00:00, 424.77it/s]\n"
     ]
    },
    {
     "name": "stdout",
     "output_type": "stream",
     "text": [
      "\n",
      " input train and test X shape is (290, 10, 9, 17), (72, 10, 9, 17) \n"
     ]
    },
    {
     "name": "stderr",
     "output_type": "stream",
     "text": [
      "100%|##########| 290/290 [00:00<00:00, 639.27it/s]\n",
      "100%|##########| 72/72 [00:00<00:00, 577.70it/s]\n"
     ]
    },
    {
     "name": "stdout",
     "output_type": "stream",
     "text": [
      "\n",
      " input train and test X shape is (290, 10, 9, 17), (72, 10, 9, 17) \n",
      "2021-10-14 13:04:14,827 - \u001b[32mINFO\u001b[0m - [bidd-aggmap]\u001b[0m - applying hierarchical clustering to obtain group information ...\u001b[0m\n",
      "2021-10-14 13:04:15,728 - \u001b[32mINFO\u001b[0m - [bidd-aggmap]\u001b[0m - Applying grid assignment of feature points, this may take several minutes(1~30 min)\u001b[0m\n",
      "2021-10-14 13:04:15,747 - \u001b[32mINFO\u001b[0m - [bidd-aggmap]\u001b[0m - Finished\u001b[0m\n"
     ]
    },
    {
     "name": "stderr",
     "output_type": "stream",
     "text": [
      "100%|##########| 289/289 [00:00<00:00, 630.93it/s]\n",
      "100%|##########| 73/73 [00:00<00:00, 449.52it/s]\n"
     ]
    },
    {
     "name": "stdout",
     "output_type": "stream",
     "text": [
      "\n",
      " input train and test X shape is (289, 10, 9, 21), (73, 10, 9, 21) \n"
     ]
    },
    {
     "name": "stderr",
     "output_type": "stream",
     "text": [
      "100%|##########| 289/289 [00:00<00:00, 716.16it/s]\n",
      "100%|##########| 73/73 [00:00<00:00, 919.97it/s]\n"
     ]
    },
    {
     "name": "stdout",
     "output_type": "stream",
     "text": [
      "\n",
      " input train and test X shape is (289, 10, 9, 21), (73, 10, 9, 21) \n"
     ]
    },
    {
     "name": "stderr",
     "output_type": "stream",
     "text": [
      "100%|##########| 290/290 [00:00<00:00, 646.95it/s]\n",
      "100%|##########| 72/72 [00:00<00:00, 501.55it/s]\n"
     ]
    },
    {
     "name": "stdout",
     "output_type": "stream",
     "text": [
      "\n",
      " input train and test X shape is (290, 10, 9, 21), (72, 10, 9, 21) \n"
     ]
    },
    {
     "name": "stderr",
     "output_type": "stream",
     "text": [
      "100%|##########| 290/290 [00:00<00:00, 712.72it/s]\n",
      "100%|##########| 72/72 [00:00<00:00, 547.98it/s]\n"
     ]
    },
    {
     "name": "stdout",
     "output_type": "stream",
     "text": [
      "\n",
      " input train and test X shape is (290, 10, 9, 21), (72, 10, 9, 21) \n"
     ]
    },
    {
     "name": "stderr",
     "output_type": "stream",
     "text": [
      "100%|##########| 290/290 [00:00<00:00, 658.85it/s]\n",
      "100%|##########| 72/72 [00:00<00:00, 468.61it/s]\n"
     ]
    },
    {
     "name": "stdout",
     "output_type": "stream",
     "text": [
      "\n",
      " input train and test X shape is (290, 10, 9, 21), (72, 10, 9, 21) \n",
      "2021-10-14 13:06:46,655 - \u001b[32mINFO\u001b[0m - [bidd-aggmap]\u001b[0m - applying hierarchical clustering to obtain group information ...\u001b[0m\n",
      "2021-10-14 13:06:47,853 - \u001b[32mINFO\u001b[0m - [bidd-aggmap]\u001b[0m - Applying grid assignment of feature points, this may take several minutes(1~30 min)\u001b[0m\n",
      "2021-10-14 13:06:47,874 - \u001b[32mINFO\u001b[0m - [bidd-aggmap]\u001b[0m - Finished\u001b[0m\n"
     ]
    },
    {
     "name": "stderr",
     "output_type": "stream",
     "text": [
      "100%|##########| 289/289 [00:00<00:00, 825.09it/s]\n",
      "100%|##########| 73/73 [00:00<00:00, 456.40it/s]\n"
     ]
    },
    {
     "name": "stdout",
     "output_type": "stream",
     "text": [
      "\n",
      " input train and test X shape is (289, 10, 9, 25), (73, 10, 9, 25) \n"
     ]
    },
    {
     "name": "stderr",
     "output_type": "stream",
     "text": [
      "100%|##########| 289/289 [00:00<00:00, 686.32it/s]\n",
      "100%|##########| 73/73 [00:00<00:00, 451.90it/s]\n"
     ]
    },
    {
     "name": "stdout",
     "output_type": "stream",
     "text": [
      "\n",
      " input train and test X shape is (289, 10, 9, 25), (73, 10, 9, 25) \n"
     ]
    },
    {
     "name": "stderr",
     "output_type": "stream",
     "text": [
      "100%|##########| 290/290 [00:00<00:00, 696.27it/s]\n",
      "100%|##########| 72/72 [00:00<00:00, 424.14it/s]\n"
     ]
    },
    {
     "name": "stdout",
     "output_type": "stream",
     "text": [
      "\n",
      " input train and test X shape is (290, 10, 9, 25), (72, 10, 9, 25) \n"
     ]
    },
    {
     "name": "stderr",
     "output_type": "stream",
     "text": [
      "100%|##########| 290/290 [00:00<00:00, 660.56it/s]\n",
      "100%|##########| 72/72 [00:00<00:00, 468.17it/s]\n"
     ]
    },
    {
     "name": "stdout",
     "output_type": "stream",
     "text": [
      "\n",
      " input train and test X shape is (290, 10, 9, 25), (72, 10, 9, 25) \n"
     ]
    },
    {
     "name": "stderr",
     "output_type": "stream",
     "text": [
      "100%|##########| 290/290 [00:00<00:00, 747.99it/s]\n",
      "100%|##########| 72/72 [00:00<00:00, 489.00it/s]\n"
     ]
    },
    {
     "name": "stdout",
     "output_type": "stream",
     "text": [
      "\n",
      " input train and test X shape is (290, 10, 9, 25), (72, 10, 9, 25) \n",
      "2021-10-14 13:09:18,942 - \u001b[32mINFO\u001b[0m - [bidd-aggmap]\u001b[0m - applying hierarchical clustering to obtain group information ...\u001b[0m\n",
      "2021-10-14 13:09:19,897 - \u001b[32mINFO\u001b[0m - [bidd-aggmap]\u001b[0m - Applying grid assignment of feature points, this may take several minutes(1~30 min)\u001b[0m\n",
      "2021-10-14 13:09:19,918 - \u001b[32mINFO\u001b[0m - [bidd-aggmap]\u001b[0m - Finished\u001b[0m\n"
     ]
    },
    {
     "name": "stderr",
     "output_type": "stream",
     "text": [
      "100%|##########| 289/289 [00:00<00:00, 969.36it/s]\n",
      "100%|##########| 73/73 [00:00<00:00, 768.36it/s]\n"
     ]
    },
    {
     "name": "stdout",
     "output_type": "stream",
     "text": [
      "\n",
      " input train and test X shape is (289, 10, 9, 29), (73, 10, 9, 29) \n"
     ]
    },
    {
     "name": "stderr",
     "output_type": "stream",
     "text": [
      "100%|##########| 289/289 [00:00<00:00, 683.36it/s]\n",
      "100%|##########| 73/73 [00:00<00:00, 511.03it/s]\n"
     ]
    },
    {
     "name": "stdout",
     "output_type": "stream",
     "text": [
      "\n",
      " input train and test X shape is (289, 10, 9, 29), (73, 10, 9, 29) \n"
     ]
    },
    {
     "name": "stderr",
     "output_type": "stream",
     "text": [
      "100%|##########| 290/290 [00:00<00:00, 711.99it/s]\n",
      "100%|##########| 72/72 [00:00<00:00, 448.76it/s]\n"
     ]
    },
    {
     "name": "stdout",
     "output_type": "stream",
     "text": [
      "\n",
      " input train and test X shape is (290, 10, 9, 29), (72, 10, 9, 29) \n"
     ]
    },
    {
     "name": "stderr",
     "output_type": "stream",
     "text": [
      "100%|##########| 290/290 [00:00<00:00, 778.16it/s]\n",
      "100%|##########| 72/72 [00:00<00:00, 448.56it/s]\n"
     ]
    },
    {
     "name": "stdout",
     "output_type": "stream",
     "text": [
      "\n",
      " input train and test X shape is (290, 10, 9, 29), (72, 10, 9, 29) \n"
     ]
    },
    {
     "name": "stderr",
     "output_type": "stream",
     "text": [
      "100%|##########| 290/290 [00:00<00:00, 652.31it/s]\n",
      "100%|##########| 72/72 [00:00<00:00, 439.53it/s]\n"
     ]
    },
    {
     "name": "stdout",
     "output_type": "stream",
     "text": [
      "\n",
      " input train and test X shape is (290, 10, 9, 29), (72, 10, 9, 29) \n",
      "2021-10-14 13:11:51,517 - \u001b[32mINFO\u001b[0m - [bidd-aggmap]\u001b[0m - applying hierarchical clustering to obtain group information ...\u001b[0m\n",
      "2021-10-14 13:11:52,587 - \u001b[32mINFO\u001b[0m - [bidd-aggmap]\u001b[0m - Applying grid assignment of feature points, this may take several minutes(1~30 min)\u001b[0m\n",
      "2021-10-14 13:11:52,613 - \u001b[32mINFO\u001b[0m - [bidd-aggmap]\u001b[0m - Finished\u001b[0m\n"
     ]
    },
    {
     "name": "stderr",
     "output_type": "stream",
     "text": [
      "100%|##########| 289/289 [00:00<00:00, 686.62it/s]\n",
      "100%|##########| 73/73 [00:00<00:00, 405.11it/s]\n"
     ]
    },
    {
     "name": "stdout",
     "output_type": "stream",
     "text": [
      "\n",
      " input train and test X shape is (289, 10, 9, 33), (73, 10, 9, 33) \n"
     ]
    },
    {
     "name": "stderr",
     "output_type": "stream",
     "text": [
      "100%|##########| 289/289 [00:00<00:00, 690.73it/s]\n",
      "100%|##########| 73/73 [00:00<00:00, 491.35it/s]\n"
     ]
    },
    {
     "name": "stdout",
     "output_type": "stream",
     "text": [
      "\n",
      " input train and test X shape is (289, 10, 9, 33), (73, 10, 9, 33) \n"
     ]
    },
    {
     "name": "stderr",
     "output_type": "stream",
     "text": [
      "100%|##########| 290/290 [00:00<00:00, 794.11it/s]\n",
      "100%|##########| 72/72 [00:00<00:00, 634.92it/s]\n"
     ]
    },
    {
     "name": "stdout",
     "output_type": "stream",
     "text": [
      "\n",
      " input train and test X shape is (290, 10, 9, 33), (72, 10, 9, 33) \n"
     ]
    },
    {
     "name": "stderr",
     "output_type": "stream",
     "text": [
      "100%|##########| 290/290 [00:00<00:00, 686.55it/s]\n",
      "100%|##########| 72/72 [00:00<00:00, 541.63it/s]\n"
     ]
    },
    {
     "name": "stdout",
     "output_type": "stream",
     "text": [
      "\n",
      " input train and test X shape is (290, 10, 9, 33), (72, 10, 9, 33) \n"
     ]
    },
    {
     "name": "stderr",
     "output_type": "stream",
     "text": [
      "100%|##########| 290/290 [00:00<00:00, 690.07it/s]\n",
      "100%|##########| 72/72 [00:00<00:00, 469.93it/s]\n"
     ]
    },
    {
     "name": "stdout",
     "output_type": "stream",
     "text": [
      "\n",
      " input train and test X shape is (290, 10, 9, 33), (72, 10, 9, 33) \n",
      "2021-10-14 13:14:22,504 - \u001b[32mINFO\u001b[0m - [bidd-aggmap]\u001b[0m - applying hierarchical clustering to obtain group information ...\u001b[0m\n",
      "2021-10-14 13:14:23,564 - \u001b[32mINFO\u001b[0m - [bidd-aggmap]\u001b[0m - Applying grid assignment of feature points, this may take several minutes(1~30 min)\u001b[0m\n",
      "2021-10-14 13:14:23,591 - \u001b[32mINFO\u001b[0m - [bidd-aggmap]\u001b[0m - Finished\u001b[0m\n"
     ]
    },
    {
     "name": "stderr",
     "output_type": "stream",
     "text": [
      "100%|##########| 289/289 [00:00<00:00, 815.69it/s]\n",
      "100%|##########| 73/73 [00:00<00:00, 490.39it/s]\n"
     ]
    },
    {
     "name": "stdout",
     "output_type": "stream",
     "text": [
      "\n",
      " input train and test X shape is (289, 10, 9, 37), (73, 10, 9, 37) \n"
     ]
    },
    {
     "name": "stderr",
     "output_type": "stream",
     "text": [
      "100%|##########| 289/289 [00:00<00:00, 664.94it/s]\n",
      "100%|##########| 73/73 [00:00<00:00, 492.28it/s]\n"
     ]
    },
    {
     "name": "stdout",
     "output_type": "stream",
     "text": [
      "\n",
      " input train and test X shape is (289, 10, 9, 37), (73, 10, 9, 37) \n"
     ]
    },
    {
     "name": "stderr",
     "output_type": "stream",
     "text": [
      "100%|##########| 290/290 [00:00<00:00, 652.35it/s]\n",
      "100%|##########| 72/72 [00:00<00:00, 448.82it/s]\n"
     ]
    },
    {
     "name": "stdout",
     "output_type": "stream",
     "text": [
      "\n",
      " input train and test X shape is (290, 10, 9, 37), (72, 10, 9, 37) \n"
     ]
    },
    {
     "name": "stderr",
     "output_type": "stream",
     "text": [
      "100%|##########| 290/290 [00:00<00:00, 615.59it/s]\n",
      "100%|##########| 72/72 [00:00<00:00, 528.12it/s]\n"
     ]
    },
    {
     "name": "stdout",
     "output_type": "stream",
     "text": [
      "\n",
      " input train and test X shape is (290, 10, 9, 37), (72, 10, 9, 37) \n"
     ]
    },
    {
     "name": "stderr",
     "output_type": "stream",
     "text": [
      "100%|##########| 290/290 [00:00<00:00, 618.73it/s]\n",
      "100%|##########| 72/72 [00:00<00:00, 480.30it/s]\n"
     ]
    },
    {
     "name": "stdout",
     "output_type": "stream",
     "text": [
      "\n",
      " input train and test X shape is (290, 10, 9, 37), (72, 10, 9, 37) \n",
      "2021-10-14 13:16:55,233 - \u001b[32mINFO\u001b[0m - [bidd-aggmap]\u001b[0m - applying hierarchical clustering to obtain group information ...\u001b[0m\n",
      "2021-10-14 13:16:56,351 - \u001b[32mINFO\u001b[0m - [bidd-aggmap]\u001b[0m - Applying grid assignment of feature points, this may take several minutes(1~30 min)\u001b[0m\n",
      "2021-10-14 13:16:56,382 - \u001b[32mINFO\u001b[0m - [bidd-aggmap]\u001b[0m - Finished\u001b[0m\n"
     ]
    },
    {
     "name": "stderr",
     "output_type": "stream",
     "text": [
      "100%|##########| 289/289 [00:00<00:00, 682.20it/s]\n",
      "100%|##########| 73/73 [00:00<00:00, 429.26it/s]\n"
     ]
    },
    {
     "name": "stdout",
     "output_type": "stream",
     "text": [
      "\n",
      " input train and test X shape is (289, 10, 9, 41), (73, 10, 9, 41) \n"
     ]
    },
    {
     "name": "stderr",
     "output_type": "stream",
     "text": [
      "100%|##########| 289/289 [00:00<00:00, 690.17it/s]\n",
      "100%|##########| 73/73 [00:00<00:00, 538.05it/s]\n"
     ]
    },
    {
     "name": "stdout",
     "output_type": "stream",
     "text": [
      "\n",
      " input train and test X shape is (289, 10, 9, 41), (73, 10, 9, 41) \n"
     ]
    },
    {
     "name": "stderr",
     "output_type": "stream",
     "text": [
      "100%|##########| 290/290 [00:00<00:00, 649.07it/s]\n",
      "100%|##########| 72/72 [00:00<00:00, 472.14it/s]\n"
     ]
    },
    {
     "name": "stdout",
     "output_type": "stream",
     "text": [
      "\n",
      " input train and test X shape is (290, 10, 9, 41), (72, 10, 9, 41) \n"
     ]
    },
    {
     "name": "stderr",
     "output_type": "stream",
     "text": [
      "100%|##########| 290/290 [00:00<00:00, 664.26it/s]\n",
      "100%|##########| 72/72 [00:00<00:00, 400.09it/s]\n"
     ]
    },
    {
     "name": "stdout",
     "output_type": "stream",
     "text": [
      "\n",
      " input train and test X shape is (290, 10, 9, 41), (72, 10, 9, 41) \n"
     ]
    },
    {
     "name": "stderr",
     "output_type": "stream",
     "text": [
      "100%|##########| 290/290 [00:00<00:00, 647.67it/s]\n",
      "100%|##########| 72/72 [00:00<00:00, 411.07it/s]\n"
     ]
    },
    {
     "name": "stdout",
     "output_type": "stream",
     "text": [
      "\n",
      " input train and test X shape is (290, 10, 9, 41), (72, 10, 9, 41) \n",
      "2021-10-14 13:19:26,605 - \u001b[32mINFO\u001b[0m - [bidd-aggmap]\u001b[0m - applying hierarchical clustering to obtain group information ...\u001b[0m\n",
      "2021-10-14 13:19:27,654 - \u001b[32mINFO\u001b[0m - [bidd-aggmap]\u001b[0m - Applying grid assignment of feature points, this may take several minutes(1~30 min)\u001b[0m\n",
      "2021-10-14 13:19:27,685 - \u001b[32mINFO\u001b[0m - [bidd-aggmap]\u001b[0m - Finished\u001b[0m\n"
     ]
    },
    {
     "name": "stderr",
     "output_type": "stream",
     "text": [
      "100%|##########| 289/289 [00:00<00:00, 786.57it/s]\n",
      "100%|##########| 73/73 [00:00<00:00, 398.47it/s]\n"
     ]
    },
    {
     "name": "stdout",
     "output_type": "stream",
     "text": [
      "\n",
      " input train and test X shape is (289, 10, 9, 45), (73, 10, 9, 45) \n"
     ]
    },
    {
     "name": "stderr",
     "output_type": "stream",
     "text": [
      "100%|##########| 289/289 [00:00<00:00, 641.46it/s]\n",
      "100%|##########| 73/73 [00:00<00:00, 448.50it/s]\n"
     ]
    },
    {
     "name": "stdout",
     "output_type": "stream",
     "text": [
      "\n",
      " input train and test X shape is (289, 10, 9, 45), (73, 10, 9, 45) \n"
     ]
    },
    {
     "name": "stderr",
     "output_type": "stream",
     "text": [
      "100%|##########| 290/290 [00:00<00:00, 681.26it/s]\n",
      "100%|##########| 72/72 [00:00<00:00, 458.51it/s]\n"
     ]
    },
    {
     "name": "stdout",
     "output_type": "stream",
     "text": [
      "\n",
      " input train and test X shape is (290, 10, 9, 45), (72, 10, 9, 45) \n"
     ]
    },
    {
     "name": "stderr",
     "output_type": "stream",
     "text": [
      "100%|##########| 290/290 [00:00<00:00, 599.57it/s]\n",
      "100%|##########| 72/72 [00:00<00:00, 524.02it/s]\n"
     ]
    },
    {
     "name": "stdout",
     "output_type": "stream",
     "text": [
      "\n",
      " input train and test X shape is (290, 10, 9, 45), (72, 10, 9, 45) \n"
     ]
    },
    {
     "name": "stderr",
     "output_type": "stream",
     "text": [
      "100%|##########| 290/290 [00:00<00:00, 697.57it/s]\n",
      "100%|##########| 72/72 [00:00<00:00, 394.99it/s]\n"
     ]
    },
    {
     "name": "stdout",
     "output_type": "stream",
     "text": [
      "\n",
      " input train and test X shape is (290, 10, 9, 45), (72, 10, 9, 45) \n",
      "2021-10-14 13:21:59,059 - \u001b[32mINFO\u001b[0m - [bidd-aggmap]\u001b[0m - applying hierarchical clustering to obtain group information ...\u001b[0m\n",
      "2021-10-14 13:22:00,190 - \u001b[32mINFO\u001b[0m - [bidd-aggmap]\u001b[0m - Applying grid assignment of feature points, this may take several minutes(1~30 min)\u001b[0m\n",
      "2021-10-14 13:22:00,223 - \u001b[32mINFO\u001b[0m - [bidd-aggmap]\u001b[0m - Finished\u001b[0m\n"
     ]
    },
    {
     "name": "stderr",
     "output_type": "stream",
     "text": [
      "100%|##########| 289/289 [00:00<00:00, 739.77it/s]\n",
      "100%|##########| 73/73 [00:00<00:00, 459.82it/s]\n"
     ]
    },
    {
     "name": "stdout",
     "output_type": "stream",
     "text": [
      "\n",
      " input train and test X shape is (289, 10, 9, 49), (73, 10, 9, 49) \n"
     ]
    },
    {
     "name": "stderr",
     "output_type": "stream",
     "text": [
      "100%|##########| 289/289 [00:00<00:00, 591.02it/s]\n",
      "100%|##########| 73/73 [00:00<00:00, 477.15it/s]\n"
     ]
    },
    {
     "name": "stdout",
     "output_type": "stream",
     "text": [
      "\n",
      " input train and test X shape is (289, 10, 9, 49), (73, 10, 9, 49) \n"
     ]
    },
    {
     "name": "stderr",
     "output_type": "stream",
     "text": [
      "100%|##########| 290/290 [00:00<00:00, 681.51it/s]\n",
      "100%|##########| 72/72 [00:00<00:00, 537.21it/s]\n"
     ]
    },
    {
     "name": "stdout",
     "output_type": "stream",
     "text": [
      "\n",
      " input train and test X shape is (290, 10, 9, 49), (72, 10, 9, 49) \n"
     ]
    },
    {
     "name": "stderr",
     "output_type": "stream",
     "text": [
      "100%|##########| 290/290 [00:00<00:00, 756.95it/s]\n",
      "100%|##########| 72/72 [00:00<00:00, 496.26it/s]\n"
     ]
    },
    {
     "name": "stdout",
     "output_type": "stream",
     "text": [
      "\n",
      " input train and test X shape is (290, 10, 9, 49), (72, 10, 9, 49) \n"
     ]
    },
    {
     "name": "stderr",
     "output_type": "stream",
     "text": [
      "100%|##########| 290/290 [00:00<00:00, 673.87it/s]\n",
      "100%|##########| 72/72 [00:00<00:00, 463.39it/s]\n"
     ]
    },
    {
     "name": "stdout",
     "output_type": "stream",
     "text": [
      "\n",
      " input train and test X shape is (290, 10, 9, 49), (72, 10, 9, 49) \n",
      "2021-10-14 13:24:30,779 - \u001b[32mINFO\u001b[0m - [bidd-aggmap]\u001b[0m - applying hierarchical clustering to obtain group information ...\u001b[0m\n",
      "2021-10-14 13:24:31,843 - \u001b[32mINFO\u001b[0m - [bidd-aggmap]\u001b[0m - Applying grid assignment of feature points, this may take several minutes(1~30 min)\u001b[0m\n",
      "2021-10-14 13:24:31,852 - \u001b[32mINFO\u001b[0m - [bidd-aggmap]\u001b[0m - Finished\u001b[0m\n"
     ]
    },
    {
     "name": "stderr",
     "output_type": "stream",
     "text": [
      "100%|##########| 289/289 [00:00<00:00, 649.92it/s]\n",
      "100%|##########| 73/73 [00:00<00:00, 589.26it/s]\n"
     ]
    },
    {
     "name": "stdout",
     "output_type": "stream",
     "text": [
      "\n",
      " input train and test X shape is (289, 10, 9, 1), (73, 10, 9, 1) \n"
     ]
    },
    {
     "name": "stderr",
     "output_type": "stream",
     "text": [
      "100%|##########| 289/289 [00:00<00:00, 719.64it/s]\n",
      "100%|##########| 73/73 [00:00<00:00, 508.12it/s]\n"
     ]
    },
    {
     "name": "stdout",
     "output_type": "stream",
     "text": [
      "\n",
      " input train and test X shape is (289, 10, 9, 1), (73, 10, 9, 1) \n"
     ]
    },
    {
     "name": "stderr",
     "output_type": "stream",
     "text": [
      "100%|##########| 290/290 [00:00<00:00, 714.29it/s]\n",
      "100%|##########| 72/72 [00:00<00:00, 439.29it/s]\n"
     ]
    },
    {
     "name": "stdout",
     "output_type": "stream",
     "text": [
      "\n",
      " input train and test X shape is (290, 10, 9, 1), (72, 10, 9, 1) \n"
     ]
    },
    {
     "name": "stderr",
     "output_type": "stream",
     "text": [
      "100%|##########| 290/290 [00:00<00:00, 655.34it/s]\n",
      "100%|##########| 72/72 [00:00<00:00, 409.02it/s]\n"
     ]
    },
    {
     "name": "stdout",
     "output_type": "stream",
     "text": [
      "\n",
      " input train and test X shape is (290, 10, 9, 1), (72, 10, 9, 1) \n"
     ]
    },
    {
     "name": "stderr",
     "output_type": "stream",
     "text": [
      "100%|##########| 290/290 [00:00<00:00, 676.85it/s]\n",
      "100%|##########| 72/72 [00:00<00:00, 449.43it/s]\n"
     ]
    },
    {
     "name": "stdout",
     "output_type": "stream",
     "text": [
      "\n",
      " input train and test X shape is (290, 10, 9, 1), (72, 10, 9, 1) \n",
      "2021-10-14 13:26:59,900 - \u001b[32mINFO\u001b[0m - [bidd-aggmap]\u001b[0m - applying hierarchical clustering to obtain group information ...\u001b[0m\n",
      "2021-10-14 13:27:01,066 - \u001b[32mINFO\u001b[0m - [bidd-aggmap]\u001b[0m - Applying grid assignment of feature points, this may take several minutes(1~30 min)\u001b[0m\n",
      "2021-10-14 13:27:01,077 - \u001b[32mINFO\u001b[0m - [bidd-aggmap]\u001b[0m - Finished\u001b[0m\n"
     ]
    },
    {
     "name": "stderr",
     "output_type": "stream",
     "text": [
      "100%|##########| 289/289 [00:00<00:00, 906.20it/s]\n",
      "100%|##########| 73/73 [00:00<00:00, 712.03it/s]\n"
     ]
    },
    {
     "name": "stdout",
     "output_type": "stream",
     "text": [
      "\n",
      " input train and test X shape is (289, 10, 9, 5), (73, 10, 9, 5) \n"
     ]
    },
    {
     "name": "stderr",
     "output_type": "stream",
     "text": [
      "100%|##########| 289/289 [00:00<00:00, 675.05it/s]\n",
      "100%|##########| 73/73 [00:00<00:00, 575.85it/s]\n"
     ]
    },
    {
     "name": "stdout",
     "output_type": "stream",
     "text": [
      "\n",
      " input train and test X shape is (289, 10, 9, 5), (73, 10, 9, 5) \n"
     ]
    },
    {
     "name": "stderr",
     "output_type": "stream",
     "text": [
      "100%|##########| 290/290 [00:00<00:00, 704.11it/s]\n",
      "100%|##########| 72/72 [00:00<00:00, 412.23it/s]\n"
     ]
    },
    {
     "name": "stdout",
     "output_type": "stream",
     "text": [
      "\n",
      " input train and test X shape is (290, 10, 9, 5), (72, 10, 9, 5) \n"
     ]
    },
    {
     "name": "stderr",
     "output_type": "stream",
     "text": [
      "100%|##########| 290/290 [00:00<00:00, 702.41it/s]\n",
      "100%|##########| 72/72 [00:00<00:00, 385.66it/s]\n"
     ]
    },
    {
     "name": "stdout",
     "output_type": "stream",
     "text": [
      "\n",
      " input train and test X shape is (290, 10, 9, 5), (72, 10, 9, 5) \n"
     ]
    },
    {
     "name": "stderr",
     "output_type": "stream",
     "text": [
      "100%|##########| 290/290 [00:00<00:00, 787.02it/s]\n",
      "100%|##########| 72/72 [00:00<00:00, 426.33it/s]\n"
     ]
    },
    {
     "name": "stdout",
     "output_type": "stream",
     "text": [
      "\n",
      " input train and test X shape is (290, 10, 9, 5), (72, 10, 9, 5) \n",
      "2021-10-14 13:29:31,837 - \u001b[32mINFO\u001b[0m - [bidd-aggmap]\u001b[0m - applying hierarchical clustering to obtain group information ...\u001b[0m\n",
      "2021-10-14 13:29:32,790 - \u001b[32mINFO\u001b[0m - [bidd-aggmap]\u001b[0m - Applying grid assignment of feature points, this may take several minutes(1~30 min)\u001b[0m\n",
      "2021-10-14 13:29:32,803 - \u001b[32mINFO\u001b[0m - [bidd-aggmap]\u001b[0m - Finished\u001b[0m\n"
     ]
    },
    {
     "name": "stderr",
     "output_type": "stream",
     "text": [
      "100%|##########| 289/289 [00:00<00:00, 704.44it/s]\n",
      "100%|##########| 73/73 [00:00<00:00, 485.06it/s]\n"
     ]
    },
    {
     "name": "stdout",
     "output_type": "stream",
     "text": [
      "\n",
      " input train and test X shape is (289, 10, 9, 9), (73, 10, 9, 9) \n"
     ]
    },
    {
     "name": "stderr",
     "output_type": "stream",
     "text": [
      "100%|##########| 289/289 [00:00<00:00, 717.90it/s]\n",
      "100%|##########| 73/73 [00:00<00:00, 469.14it/s]\n"
     ]
    },
    {
     "name": "stdout",
     "output_type": "stream",
     "text": [
      "\n",
      " input train and test X shape is (289, 10, 9, 9), (73, 10, 9, 9) \n"
     ]
    },
    {
     "name": "stderr",
     "output_type": "stream",
     "text": [
      "100%|##########| 290/290 [00:00<00:00, 665.40it/s]\n",
      "100%|##########| 72/72 [00:00<00:00, 495.17it/s]\n"
     ]
    },
    {
     "name": "stdout",
     "output_type": "stream",
     "text": [
      "\n",
      " input train and test X shape is (290, 10, 9, 9), (72, 10, 9, 9) \n"
     ]
    },
    {
     "name": "stderr",
     "output_type": "stream",
     "text": [
      "100%|##########| 290/290 [00:00<00:00, 725.33it/s]\n",
      "100%|##########| 72/72 [00:00<00:00, 453.24it/s]\n"
     ]
    },
    {
     "name": "stdout",
     "output_type": "stream",
     "text": [
      "\n",
      " input train and test X shape is (290, 10, 9, 9), (72, 10, 9, 9) \n"
     ]
    },
    {
     "name": "stderr",
     "output_type": "stream",
     "text": [
      "100%|##########| 290/290 [00:00<00:00, 711.66it/s]\n",
      "100%|##########| 72/72 [00:00<00:00, 522.67it/s]\n"
     ]
    },
    {
     "name": "stdout",
     "output_type": "stream",
     "text": [
      "\n",
      " input train and test X shape is (290, 10, 9, 9), (72, 10, 9, 9) \n",
      "2021-10-14 13:32:02,446 - \u001b[32mINFO\u001b[0m - [bidd-aggmap]\u001b[0m - applying hierarchical clustering to obtain group information ...\u001b[0m\n",
      "2021-10-14 13:32:03,344 - \u001b[32mINFO\u001b[0m - [bidd-aggmap]\u001b[0m - Applying grid assignment of feature points, this may take several minutes(1~30 min)\u001b[0m\n",
      "2021-10-14 13:32:03,358 - \u001b[32mINFO\u001b[0m - [bidd-aggmap]\u001b[0m - Finished\u001b[0m\n"
     ]
    },
    {
     "name": "stderr",
     "output_type": "stream",
     "text": [
      "100%|##########| 289/289 [00:00<00:00, 812.31it/s]\n",
      "100%|##########| 73/73 [00:00<00:00, 501.77it/s]\n"
     ]
    },
    {
     "name": "stdout",
     "output_type": "stream",
     "text": [
      "\n",
      " input train and test X shape is (289, 10, 9, 13), (73, 10, 9, 13) \n"
     ]
    },
    {
     "name": "stderr",
     "output_type": "stream",
     "text": [
      "100%|##########| 289/289 [00:00<00:00, 706.46it/s]\n",
      "100%|##########| 73/73 [00:00<00:00, 487.30it/s]\n"
     ]
    },
    {
     "name": "stdout",
     "output_type": "stream",
     "text": [
      "\n",
      " input train and test X shape is (289, 10, 9, 13), (73, 10, 9, 13) \n"
     ]
    },
    {
     "name": "stderr",
     "output_type": "stream",
     "text": [
      "100%|##########| 290/290 [00:00<00:00, 873.51it/s]\n",
      "100%|##########| 72/72 [00:00<00:00, 424.37it/s]\n"
     ]
    },
    {
     "name": "stdout",
     "output_type": "stream",
     "text": [
      "\n",
      " input train and test X shape is (290, 10, 9, 13), (72, 10, 9, 13) \n"
     ]
    },
    {
     "name": "stderr",
     "output_type": "stream",
     "text": [
      "100%|##########| 290/290 [00:00<00:00, 695.21it/s]\n",
      "100%|##########| 72/72 [00:00<00:00, 606.65it/s]\n"
     ]
    },
    {
     "name": "stdout",
     "output_type": "stream",
     "text": [
      "\n",
      " input train and test X shape is (290, 10, 9, 13), (72, 10, 9, 13) \n"
     ]
    },
    {
     "name": "stderr",
     "output_type": "stream",
     "text": [
      "100%|##########| 290/290 [00:00<00:00, 816.43it/s]\n",
      "100%|##########| 72/72 [00:00<00:00, 448.78it/s]\n"
     ]
    },
    {
     "name": "stdout",
     "output_type": "stream",
     "text": [
      "\n",
      " input train and test X shape is (290, 10, 9, 13), (72, 10, 9, 13) \n",
      "2021-10-14 13:34:30,001 - \u001b[32mINFO\u001b[0m - [bidd-aggmap]\u001b[0m - applying hierarchical clustering to obtain group information ...\u001b[0m\n",
      "2021-10-14 13:34:30,937 - \u001b[32mINFO\u001b[0m - [bidd-aggmap]\u001b[0m - Applying grid assignment of feature points, this may take several minutes(1~30 min)\u001b[0m\n",
      "2021-10-14 13:34:30,953 - \u001b[32mINFO\u001b[0m - [bidd-aggmap]\u001b[0m - Finished\u001b[0m\n"
     ]
    },
    {
     "name": "stderr",
     "output_type": "stream",
     "text": [
      "100%|##########| 289/289 [00:00<00:00, 797.82it/s]\n",
      "100%|##########| 73/73 [00:00<00:00, 467.68it/s]\n"
     ]
    },
    {
     "name": "stdout",
     "output_type": "stream",
     "text": [
      "\n",
      " input train and test X shape is (289, 10, 9, 17), (73, 10, 9, 17) \n"
     ]
    },
    {
     "name": "stderr",
     "output_type": "stream",
     "text": [
      "100%|##########| 289/289 [00:00<00:00, 686.04it/s]\n",
      "100%|##########| 73/73 [00:00<00:00, 490.51it/s]\n"
     ]
    },
    {
     "name": "stdout",
     "output_type": "stream",
     "text": [
      "\n",
      " input train and test X shape is (289, 10, 9, 17), (73, 10, 9, 17) \n"
     ]
    },
    {
     "name": "stderr",
     "output_type": "stream",
     "text": [
      "100%|##########| 290/290 [00:00<00:00, 737.77it/s]\n",
      "100%|##########| 72/72 [00:00<00:00, 447.75it/s]\n"
     ]
    },
    {
     "name": "stdout",
     "output_type": "stream",
     "text": [
      "\n",
      " input train and test X shape is (290, 10, 9, 17), (72, 10, 9, 17) \n"
     ]
    },
    {
     "name": "stderr",
     "output_type": "stream",
     "text": [
      "100%|##########| 290/290 [00:00<00:00, 809.29it/s]\n",
      "100%|##########| 72/72 [00:00<00:00, 763.90it/s]\n"
     ]
    },
    {
     "name": "stdout",
     "output_type": "stream",
     "text": [
      "\n",
      " input train and test X shape is (290, 10, 9, 17), (72, 10, 9, 17) \n"
     ]
    },
    {
     "name": "stderr",
     "output_type": "stream",
     "text": [
      "100%|##########| 290/290 [00:00<00:00, 683.82it/s]\n",
      "100%|##########| 72/72 [00:00<00:00, 459.78it/s]\n"
     ]
    },
    {
     "name": "stdout",
     "output_type": "stream",
     "text": [
      "\n",
      " input train and test X shape is (290, 10, 9, 17), (72, 10, 9, 17) \n",
      "2021-10-14 13:37:02,173 - \u001b[32mINFO\u001b[0m - [bidd-aggmap]\u001b[0m - applying hierarchical clustering to obtain group information ...\u001b[0m\n",
      "2021-10-14 13:37:03,264 - \u001b[32mINFO\u001b[0m - [bidd-aggmap]\u001b[0m - Applying grid assignment of feature points, this may take several minutes(1~30 min)\u001b[0m\n",
      "2021-10-14 13:37:03,283 - \u001b[32mINFO\u001b[0m - [bidd-aggmap]\u001b[0m - Finished\u001b[0m\n"
     ]
    },
    {
     "name": "stderr",
     "output_type": "stream",
     "text": [
      "100%|##########| 289/289 [00:00<00:00, 748.13it/s]\n",
      "100%|##########| 73/73 [00:00<00:00, 605.02it/s]\n"
     ]
    },
    {
     "name": "stdout",
     "output_type": "stream",
     "text": [
      "\n",
      " input train and test X shape is (289, 10, 9, 21), (73, 10, 9, 21) \n"
     ]
    },
    {
     "name": "stderr",
     "output_type": "stream",
     "text": [
      "100%|##########| 289/289 [00:00<00:00, 830.21it/s]\n",
      "100%|##########| 73/73 [00:00<00:00, 831.62it/s]\n"
     ]
    },
    {
     "name": "stdout",
     "output_type": "stream",
     "text": [
      "\n",
      " input train and test X shape is (289, 10, 9, 21), (73, 10, 9, 21) \n"
     ]
    },
    {
     "name": "stderr",
     "output_type": "stream",
     "text": [
      "100%|##########| 290/290 [00:00<00:00, 655.44it/s]\n",
      "100%|##########| 72/72 [00:00<00:00, 452.14it/s]\n"
     ]
    },
    {
     "name": "stdout",
     "output_type": "stream",
     "text": [
      "\n",
      " input train and test X shape is (290, 10, 9, 21), (72, 10, 9, 21) \n"
     ]
    },
    {
     "name": "stderr",
     "output_type": "stream",
     "text": [
      "100%|##########| 290/290 [00:00<00:00, 385.99it/s]\n",
      "100%|##########| 72/72 [00:00<00:00, 487.04it/s]\n"
     ]
    },
    {
     "name": "stdout",
     "output_type": "stream",
     "text": [
      "\n",
      " input train and test X shape is (290, 10, 9, 21), (72, 10, 9, 21) \n"
     ]
    },
    {
     "name": "stderr",
     "output_type": "stream",
     "text": [
      "100%|##########| 290/290 [00:00<00:00, 703.73it/s]\n",
      "100%|##########| 72/72 [00:00<00:00, 446.44it/s]\n"
     ]
    },
    {
     "name": "stdout",
     "output_type": "stream",
     "text": [
      "\n",
      " input train and test X shape is (290, 10, 9, 21), (72, 10, 9, 21) \n",
      "2021-10-14 13:39:34,402 - \u001b[32mINFO\u001b[0m - [bidd-aggmap]\u001b[0m - applying hierarchical clustering to obtain group information ...\u001b[0m\n",
      "2021-10-14 13:39:35,365 - \u001b[32mINFO\u001b[0m - [bidd-aggmap]\u001b[0m - Applying grid assignment of feature points, this may take several minutes(1~30 min)\u001b[0m\n",
      "2021-10-14 13:39:35,385 - \u001b[32mINFO\u001b[0m - [bidd-aggmap]\u001b[0m - Finished\u001b[0m\n"
     ]
    },
    {
     "name": "stderr",
     "output_type": "stream",
     "text": [
      "100%|##########| 289/289 [00:00<00:00, 719.59it/s]\n",
      "100%|##########| 73/73 [00:00<00:00, 441.43it/s]\n"
     ]
    },
    {
     "name": "stdout",
     "output_type": "stream",
     "text": [
      "\n",
      " input train and test X shape is (289, 10, 9, 25), (73, 10, 9, 25) \n"
     ]
    },
    {
     "name": "stderr",
     "output_type": "stream",
     "text": [
      "100%|##########| 289/289 [00:00<00:00, 691.95it/s]\n",
      "100%|##########| 73/73 [00:00<00:00, 468.85it/s]\n"
     ]
    },
    {
     "name": "stdout",
     "output_type": "stream",
     "text": [
      "\n",
      " input train and test X shape is (289, 10, 9, 25), (73, 10, 9, 25) \n"
     ]
    },
    {
     "name": "stderr",
     "output_type": "stream",
     "text": [
      "100%|##########| 290/290 [00:00<00:00, 636.93it/s]\n",
      "100%|##########| 72/72 [00:00<00:00, 454.69it/s]\n"
     ]
    },
    {
     "name": "stdout",
     "output_type": "stream",
     "text": [
      "\n",
      " input train and test X shape is (290, 10, 9, 25), (72, 10, 9, 25) \n"
     ]
    },
    {
     "name": "stderr",
     "output_type": "stream",
     "text": [
      "100%|##########| 290/290 [00:00<00:00, 679.05it/s]\n",
      "100%|##########| 72/72 [00:00<00:00, 491.20it/s]\n"
     ]
    },
    {
     "name": "stdout",
     "output_type": "stream",
     "text": [
      "\n",
      " input train and test X shape is (290, 10, 9, 25), (72, 10, 9, 25) \n"
     ]
    },
    {
     "name": "stderr",
     "output_type": "stream",
     "text": [
      "100%|##########| 290/290 [00:00<00:00, 628.32it/s]\n",
      "100%|##########| 72/72 [00:00<00:00, 539.76it/s]\n"
     ]
    },
    {
     "name": "stdout",
     "output_type": "stream",
     "text": [
      "\n",
      " input train and test X shape is (290, 10, 9, 25), (72, 10, 9, 25) \n",
      "2021-10-14 13:42:05,919 - \u001b[32mINFO\u001b[0m - [bidd-aggmap]\u001b[0m - applying hierarchical clustering to obtain group information ...\u001b[0m\n",
      "2021-10-14 13:42:06,899 - \u001b[32mINFO\u001b[0m - [bidd-aggmap]\u001b[0m - Applying grid assignment of feature points, this may take several minutes(1~30 min)\u001b[0m\n",
      "2021-10-14 13:42:06,923 - \u001b[32mINFO\u001b[0m - [bidd-aggmap]\u001b[0m - Finished\u001b[0m\n"
     ]
    },
    {
     "name": "stderr",
     "output_type": "stream",
     "text": [
      "100%|##########| 289/289 [00:00<00:00, 811.14it/s]\n",
      "100%|##########| 73/73 [00:00<00:00, 445.62it/s]\n"
     ]
    },
    {
     "name": "stdout",
     "output_type": "stream",
     "text": [
      "\n",
      " input train and test X shape is (289, 10, 9, 29), (73, 10, 9, 29) \n"
     ]
    },
    {
     "name": "stderr",
     "output_type": "stream",
     "text": [
      "100%|##########| 289/289 [00:00<00:00, 745.75it/s]\n",
      "100%|##########| 73/73 [00:00<00:00, 484.19it/s]\n"
     ]
    },
    {
     "name": "stdout",
     "output_type": "stream",
     "text": [
      "\n",
      " input train and test X shape is (289, 10, 9, 29), (73, 10, 9, 29) \n"
     ]
    },
    {
     "name": "stderr",
     "output_type": "stream",
     "text": [
      "100%|##########| 290/290 [00:00<00:00, 811.64it/s]\n",
      "100%|##########| 72/72 [00:00<00:00, 466.72it/s]\n"
     ]
    },
    {
     "name": "stdout",
     "output_type": "stream",
     "text": [
      "\n",
      " input train and test X shape is (290, 10, 9, 29), (72, 10, 9, 29) \n"
     ]
    },
    {
     "name": "stderr",
     "output_type": "stream",
     "text": [
      "100%|##########| 290/290 [00:00<00:00, 695.67it/s]\n",
      "100%|##########| 72/72 [00:00<00:00, 473.01it/s]\n"
     ]
    },
    {
     "name": "stdout",
     "output_type": "stream",
     "text": [
      "\n",
      " input train and test X shape is (290, 10, 9, 29), (72, 10, 9, 29) \n"
     ]
    },
    {
     "name": "stderr",
     "output_type": "stream",
     "text": [
      "100%|##########| 290/290 [00:00<00:00, 802.86it/s]\n",
      "100%|##########| 72/72 [00:00<00:00, 509.33it/s]\n"
     ]
    },
    {
     "name": "stdout",
     "output_type": "stream",
     "text": [
      "\n",
      " input train and test X shape is (290, 10, 9, 29), (72, 10, 9, 29) \n",
      "2021-10-14 13:44:38,010 - \u001b[32mINFO\u001b[0m - [bidd-aggmap]\u001b[0m - applying hierarchical clustering to obtain group information ...\u001b[0m\n",
      "2021-10-14 13:44:39,064 - \u001b[32mINFO\u001b[0m - [bidd-aggmap]\u001b[0m - Applying grid assignment of feature points, this may take several minutes(1~30 min)\u001b[0m\n",
      "2021-10-14 13:44:39,088 - \u001b[32mINFO\u001b[0m - [bidd-aggmap]\u001b[0m - Finished\u001b[0m\n"
     ]
    },
    {
     "name": "stderr",
     "output_type": "stream",
     "text": [
      "100%|##########| 289/289 [00:00<00:00, 674.49it/s]\n",
      "100%|##########| 73/73 [00:00<00:00, 503.17it/s]\n"
     ]
    },
    {
     "name": "stdout",
     "output_type": "stream",
     "text": [
      "\n",
      " input train and test X shape is (289, 10, 9, 33), (73, 10, 9, 33) \n"
     ]
    },
    {
     "name": "stderr",
     "output_type": "stream",
     "text": [
      "100%|##########| 289/289 [00:00<00:00, 671.22it/s]\n",
      "100%|##########| 73/73 [00:00<00:00, 447.88it/s]\n"
     ]
    },
    {
     "name": "stdout",
     "output_type": "stream",
     "text": [
      "\n",
      " input train and test X shape is (289, 10, 9, 33), (73, 10, 9, 33) \n"
     ]
    },
    {
     "name": "stderr",
     "output_type": "stream",
     "text": [
      "100%|##########| 290/290 [00:00<00:00, 670.84it/s]\n",
      "100%|##########| 72/72 [00:00<00:00, 490.48it/s]\n"
     ]
    },
    {
     "name": "stdout",
     "output_type": "stream",
     "text": [
      "\n",
      " input train and test X shape is (290, 10, 9, 33), (72, 10, 9, 33) \n"
     ]
    },
    {
     "name": "stderr",
     "output_type": "stream",
     "text": [
      "100%|##########| 290/290 [00:00<00:00, 648.48it/s]\n",
      "100%|##########| 72/72 [00:00<00:00, 374.42it/s]\n"
     ]
    },
    {
     "name": "stdout",
     "output_type": "stream",
     "text": [
      "\n",
      " input train and test X shape is (290, 10, 9, 33), (72, 10, 9, 33) \n"
     ]
    },
    {
     "name": "stderr",
     "output_type": "stream",
     "text": [
      "100%|##########| 290/290 [00:00<00:00, 648.72it/s]\n",
      "100%|##########| 72/72 [00:00<00:00, 499.68it/s]\n"
     ]
    },
    {
     "name": "stdout",
     "output_type": "stream",
     "text": [
      "\n",
      " input train and test X shape is (290, 10, 9, 33), (72, 10, 9, 33) \n",
      "2021-10-14 13:47:09,345 - \u001b[32mINFO\u001b[0m - [bidd-aggmap]\u001b[0m - applying hierarchical clustering to obtain group information ...\u001b[0m\n",
      "2021-10-14 13:47:10,278 - \u001b[32mINFO\u001b[0m - [bidd-aggmap]\u001b[0m - Applying grid assignment of feature points, this may take several minutes(1~30 min)\u001b[0m\n",
      "2021-10-14 13:47:10,305 - \u001b[32mINFO\u001b[0m - [bidd-aggmap]\u001b[0m - Finished\u001b[0m\n"
     ]
    },
    {
     "name": "stderr",
     "output_type": "stream",
     "text": [
      "100%|##########| 289/289 [00:00<00:00, 765.90it/s]\n",
      "100%|##########| 73/73 [00:00<00:00, 517.33it/s]\n"
     ]
    },
    {
     "name": "stdout",
     "output_type": "stream",
     "text": [
      "\n",
      " input train and test X shape is (289, 10, 9, 37), (73, 10, 9, 37) \n"
     ]
    },
    {
     "name": "stderr",
     "output_type": "stream",
     "text": [
      "100%|##########| 289/289 [00:00<00:00, 649.76it/s]\n",
      "100%|##########| 73/73 [00:00<00:00, 437.36it/s]\n"
     ]
    },
    {
     "name": "stdout",
     "output_type": "stream",
     "text": [
      "\n",
      " input train and test X shape is (289, 10, 9, 37), (73, 10, 9, 37) \n"
     ]
    },
    {
     "name": "stderr",
     "output_type": "stream",
     "text": [
      "100%|##########| 290/290 [00:00<00:00, 659.00it/s]\n",
      "100%|##########| 72/72 [00:00<00:00, 402.09it/s]\n"
     ]
    },
    {
     "name": "stdout",
     "output_type": "stream",
     "text": [
      "\n",
      " input train and test X shape is (290, 10, 9, 37), (72, 10, 9, 37) \n"
     ]
    },
    {
     "name": "stderr",
     "output_type": "stream",
     "text": [
      "100%|##########| 290/290 [00:00<00:00, 867.74it/s]\n",
      "100%|##########| 72/72 [00:00<00:00, 676.88it/s]\n"
     ]
    },
    {
     "name": "stdout",
     "output_type": "stream",
     "text": [
      "\n",
      " input train and test X shape is (290, 10, 9, 37), (72, 10, 9, 37) \n"
     ]
    },
    {
     "name": "stderr",
     "output_type": "stream",
     "text": [
      "100%|##########| 290/290 [00:00<00:00, 628.91it/s]\n",
      "100%|##########| 72/72 [00:00<00:00, 488.09it/s]\n"
     ]
    },
    {
     "name": "stdout",
     "output_type": "stream",
     "text": [
      "\n",
      " input train and test X shape is (290, 10, 9, 37), (72, 10, 9, 37) \n",
      "2021-10-14 13:49:42,171 - \u001b[32mINFO\u001b[0m - [bidd-aggmap]\u001b[0m - applying hierarchical clustering to obtain group information ...\u001b[0m\n",
      "2021-10-14 13:49:43,242 - \u001b[32mINFO\u001b[0m - [bidd-aggmap]\u001b[0m - Applying grid assignment of feature points, this may take several minutes(1~30 min)\u001b[0m\n",
      "2021-10-14 13:49:43,272 - \u001b[32mINFO\u001b[0m - [bidd-aggmap]\u001b[0m - Finished\u001b[0m\n"
     ]
    },
    {
     "name": "stderr",
     "output_type": "stream",
     "text": [
      "100%|##########| 289/289 [00:00<00:00, 686.58it/s]\n",
      "100%|##########| 73/73 [00:00<00:00, 426.83it/s]\n"
     ]
    },
    {
     "name": "stdout",
     "output_type": "stream",
     "text": [
      "\n",
      " input train and test X shape is (289, 10, 9, 41), (73, 10, 9, 41) \n"
     ]
    },
    {
     "name": "stderr",
     "output_type": "stream",
     "text": [
      "100%|##########| 289/289 [00:00<00:00, 701.48it/s]\n",
      "100%|##########| 73/73 [00:00<00:00, 730.18it/s]\n"
     ]
    },
    {
     "name": "stdout",
     "output_type": "stream",
     "text": [
      "\n",
      " input train and test X shape is (289, 10, 9, 41), (73, 10, 9, 41) \n"
     ]
    },
    {
     "name": "stderr",
     "output_type": "stream",
     "text": [
      "100%|##########| 290/290 [00:00<00:00, 836.39it/s]\n",
      "100%|##########| 72/72 [00:00<00:00, 405.56it/s]\n"
     ]
    },
    {
     "name": "stdout",
     "output_type": "stream",
     "text": [
      "\n",
      " input train and test X shape is (290, 10, 9, 41), (72, 10, 9, 41) \n"
     ]
    },
    {
     "name": "stderr",
     "output_type": "stream",
     "text": [
      "100%|##########| 290/290 [00:00<00:00, 633.35it/s]\n",
      "100%|##########| 72/72 [00:00<00:00, 448.92it/s]\n"
     ]
    },
    {
     "name": "stdout",
     "output_type": "stream",
     "text": [
      "\n",
      " input train and test X shape is (290, 10, 9, 41), (72, 10, 9, 41) \n"
     ]
    },
    {
     "name": "stderr",
     "output_type": "stream",
     "text": [
      "100%|##########| 290/290 [00:00<00:00, 610.25it/s]\n",
      "100%|##########| 72/72 [00:00<00:00, 414.71it/s]\n"
     ]
    },
    {
     "name": "stdout",
     "output_type": "stream",
     "text": [
      "\n",
      " input train and test X shape is (290, 10, 9, 41), (72, 10, 9, 41) \n",
      "2021-10-14 13:52:12,941 - \u001b[32mINFO\u001b[0m - [bidd-aggmap]\u001b[0m - applying hierarchical clustering to obtain group information ...\u001b[0m\n",
      "2021-10-14 13:52:13,862 - \u001b[32mINFO\u001b[0m - [bidd-aggmap]\u001b[0m - Applying grid assignment of feature points, this may take several minutes(1~30 min)\u001b[0m\n",
      "2021-10-14 13:52:13,893 - \u001b[32mINFO\u001b[0m - [bidd-aggmap]\u001b[0m - Finished\u001b[0m\n"
     ]
    },
    {
     "name": "stderr",
     "output_type": "stream",
     "text": [
      "100%|##########| 289/289 [00:00<00:00, 664.40it/s]\n",
      "100%|##########| 73/73 [00:00<00:00, 405.60it/s]\n"
     ]
    },
    {
     "name": "stdout",
     "output_type": "stream",
     "text": [
      "\n",
      " input train and test X shape is (289, 10, 9, 45), (73, 10, 9, 45) \n"
     ]
    },
    {
     "name": "stderr",
     "output_type": "stream",
     "text": [
      "100%|##########| 289/289 [00:00<00:00, 716.00it/s]\n",
      "100%|##########| 73/73 [00:00<00:00, 481.28it/s]\n"
     ]
    },
    {
     "name": "stdout",
     "output_type": "stream",
     "text": [
      "\n",
      " input train and test X shape is (289, 10, 9, 45), (73, 10, 9, 45) \n"
     ]
    },
    {
     "name": "stderr",
     "output_type": "stream",
     "text": [
      "100%|##########| 290/290 [00:00<00:00, 783.78it/s]\n",
      "100%|##########| 72/72 [00:00<00:00, 588.18it/s]\n"
     ]
    },
    {
     "name": "stdout",
     "output_type": "stream",
     "text": [
      "\n",
      " input train and test X shape is (290, 10, 9, 45), (72, 10, 9, 45) \n"
     ]
    },
    {
     "name": "stderr",
     "output_type": "stream",
     "text": [
      "100%|##########| 290/290 [00:00<00:00, 763.88it/s]\n",
      "100%|##########| 72/72 [00:00<00:00, 387.38it/s]\n"
     ]
    },
    {
     "name": "stdout",
     "output_type": "stream",
     "text": [
      "\n",
      " input train and test X shape is (290, 10, 9, 45), (72, 10, 9, 45) \n"
     ]
    },
    {
     "name": "stderr",
     "output_type": "stream",
     "text": [
      "100%|##########| 290/290 [00:00<00:00, 673.04it/s]\n",
      "100%|##########| 72/72 [00:00<00:00, 546.42it/s]\n"
     ]
    },
    {
     "name": "stdout",
     "output_type": "stream",
     "text": [
      "\n",
      " input train and test X shape is (290, 10, 9, 45), (72, 10, 9, 45) \n",
      "2021-10-14 13:54:41,744 - \u001b[32mINFO\u001b[0m - [bidd-aggmap]\u001b[0m - applying hierarchical clustering to obtain group information ...\u001b[0m\n",
      "2021-10-14 13:54:42,597 - \u001b[32mINFO\u001b[0m - [bidd-aggmap]\u001b[0m - Applying grid assignment of feature points, this may take several minutes(1~30 min)\u001b[0m\n",
      "2021-10-14 13:54:42,629 - \u001b[32mINFO\u001b[0m - [bidd-aggmap]\u001b[0m - Finished\u001b[0m\n"
     ]
    },
    {
     "name": "stderr",
     "output_type": "stream",
     "text": [
      "100%|##########| 289/289 [00:00<00:00, 600.50it/s]\n",
      "100%|##########| 73/73 [00:00<00:00, 523.07it/s]\n"
     ]
    },
    {
     "name": "stdout",
     "output_type": "stream",
     "text": [
      "\n",
      " input train and test X shape is (289, 10, 9, 49), (73, 10, 9, 49) \n"
     ]
    },
    {
     "name": "stderr",
     "output_type": "stream",
     "text": [
      "100%|##########| 289/289 [00:00<00:00, 641.53it/s]\n",
      "100%|##########| 73/73 [00:00<00:00, 460.16it/s]\n"
     ]
    },
    {
     "name": "stdout",
     "output_type": "stream",
     "text": [
      "\n",
      " input train and test X shape is (289, 10, 9, 49), (73, 10, 9, 49) \n"
     ]
    },
    {
     "name": "stderr",
     "output_type": "stream",
     "text": [
      "100%|##########| 290/290 [00:00<00:00, 649.40it/s]\n",
      "100%|##########| 72/72 [00:00<00:00, 470.25it/s]\n"
     ]
    },
    {
     "name": "stdout",
     "output_type": "stream",
     "text": [
      "\n",
      " input train and test X shape is (290, 10, 9, 49), (72, 10, 9, 49) \n"
     ]
    },
    {
     "name": "stderr",
     "output_type": "stream",
     "text": [
      "100%|##########| 290/290 [00:00<00:00, 686.03it/s]\n",
      "100%|##########| 72/72 [00:00<00:00, 450.17it/s]\n"
     ]
    },
    {
     "name": "stdout",
     "output_type": "stream",
     "text": [
      "\n",
      " input train and test X shape is (290, 10, 9, 49), (72, 10, 9, 49) \n"
     ]
    },
    {
     "name": "stderr",
     "output_type": "stream",
     "text": [
      "100%|##########| 290/290 [00:00<00:00, 715.55it/s]\n",
      "100%|##########| 72/72 [00:00<00:00, 387.82it/s]\n"
     ]
    },
    {
     "name": "stdout",
     "output_type": "stream",
     "text": [
      "\n",
      " input train and test X shape is (290, 10, 9, 49), (72, 10, 9, 49) \n",
      "2021-10-14 13:57:13,716 - \u001b[32mINFO\u001b[0m - [bidd-aggmap]\u001b[0m - applying hierarchical clustering to obtain group information ...\u001b[0m\n",
      "2021-10-14 13:57:14,770 - \u001b[32mINFO\u001b[0m - [bidd-aggmap]\u001b[0m - Applying grid assignment of feature points, this may take several minutes(1~30 min)\u001b[0m\n",
      "2021-10-14 13:57:14,779 - \u001b[32mINFO\u001b[0m - [bidd-aggmap]\u001b[0m - Finished\u001b[0m\n"
     ]
    },
    {
     "name": "stderr",
     "output_type": "stream",
     "text": [
      "100%|##########| 289/289 [00:00<00:00, 758.97it/s]\n",
      "100%|##########| 73/73 [00:00<00:00, 832.83it/s]\n"
     ]
    },
    {
     "name": "stdout",
     "output_type": "stream",
     "text": [
      "\n",
      " input train and test X shape is (289, 10, 9, 1), (73, 10, 9, 1) \n"
     ]
    },
    {
     "name": "stderr",
     "output_type": "stream",
     "text": [
      "100%|##########| 289/289 [00:00<00:00, 719.29it/s]\n",
      "100%|##########| 73/73 [00:00<00:00, 523.51it/s]\n"
     ]
    },
    {
     "name": "stdout",
     "output_type": "stream",
     "text": [
      "\n",
      " input train and test X shape is (289, 10, 9, 1), (73, 10, 9, 1) \n"
     ]
    },
    {
     "name": "stderr",
     "output_type": "stream",
     "text": [
      "100%|##########| 290/290 [00:00<00:00, 717.71it/s]\n",
      "100%|##########| 72/72 [00:00<00:00, 459.20it/s]\n"
     ]
    },
    {
     "name": "stdout",
     "output_type": "stream",
     "text": [
      "\n",
      " input train and test X shape is (290, 10, 9, 1), (72, 10, 9, 1) \n"
     ]
    },
    {
     "name": "stderr",
     "output_type": "stream",
     "text": [
      "100%|##########| 290/290 [00:00<00:00, 677.53it/s]\n",
      "100%|##########| 72/72 [00:00<00:00, 340.30it/s]\n"
     ]
    },
    {
     "name": "stdout",
     "output_type": "stream",
     "text": [
      "\n",
      " input train and test X shape is (290, 10, 9, 1), (72, 10, 9, 1) \n"
     ]
    },
    {
     "name": "stderr",
     "output_type": "stream",
     "text": [
      "100%|##########| 290/290 [00:00<00:00, 644.83it/s]\n",
      "100%|##########| 72/72 [00:00<00:00, 481.80it/s]\n"
     ]
    },
    {
     "name": "stdout",
     "output_type": "stream",
     "text": [
      "\n",
      " input train and test X shape is (290, 10, 9, 1), (72, 10, 9, 1) \n",
      "2021-10-14 13:59:43,196 - \u001b[32mINFO\u001b[0m - [bidd-aggmap]\u001b[0m - applying hierarchical clustering to obtain group information ...\u001b[0m\n",
      "2021-10-14 13:59:44,082 - \u001b[32mINFO\u001b[0m - [bidd-aggmap]\u001b[0m - Applying grid assignment of feature points, this may take several minutes(1~30 min)\u001b[0m\n",
      "2021-10-14 13:59:44,092 - \u001b[32mINFO\u001b[0m - [bidd-aggmap]\u001b[0m - Finished\u001b[0m\n"
     ]
    },
    {
     "name": "stderr",
     "output_type": "stream",
     "text": [
      "100%|##########| 289/289 [00:00<00:00, 792.20it/s]\n",
      "100%|##########| 73/73 [00:00<00:00, 718.42it/s]\n"
     ]
    },
    {
     "name": "stdout",
     "output_type": "stream",
     "text": [
      "\n",
      " input train and test X shape is (289, 10, 9, 5), (73, 10, 9, 5) \n"
     ]
    },
    {
     "name": "stderr",
     "output_type": "stream",
     "text": [
      "100%|##########| 289/289 [00:00<00:00, 753.22it/s]\n",
      "100%|##########| 73/73 [00:00<00:00, 450.16it/s]\n"
     ]
    },
    {
     "name": "stdout",
     "output_type": "stream",
     "text": [
      "\n",
      " input train and test X shape is (289, 10, 9, 5), (73, 10, 9, 5) \n"
     ]
    },
    {
     "name": "stderr",
     "output_type": "stream",
     "text": [
      "100%|##########| 290/290 [00:00<00:00, 685.87it/s]\n",
      "100%|##########| 72/72 [00:00<00:00, 454.57it/s]\n"
     ]
    },
    {
     "name": "stdout",
     "output_type": "stream",
     "text": [
      "\n",
      " input train and test X shape is (290, 10, 9, 5), (72, 10, 9, 5) \n"
     ]
    },
    {
     "name": "stderr",
     "output_type": "stream",
     "text": [
      "100%|##########| 290/290 [00:00<00:00, 672.00it/s]\n",
      "100%|##########| 72/72 [00:00<00:00, 436.69it/s]\n"
     ]
    },
    {
     "name": "stdout",
     "output_type": "stream",
     "text": [
      "\n",
      " input train and test X shape is (290, 10, 9, 5), (72, 10, 9, 5) \n"
     ]
    },
    {
     "name": "stderr",
     "output_type": "stream",
     "text": [
      "100%|##########| 290/290 [00:00<00:00, 662.93it/s]\n",
      "100%|##########| 72/72 [00:00<00:00, 537.04it/s]\n"
     ]
    },
    {
     "name": "stdout",
     "output_type": "stream",
     "text": [
      "\n",
      " input train and test X shape is (290, 10, 9, 5), (72, 10, 9, 5) \n",
      "2021-10-14 14:02:14,503 - \u001b[32mINFO\u001b[0m - [bidd-aggmap]\u001b[0m - applying hierarchical clustering to obtain group information ...\u001b[0m\n",
      "2021-10-14 14:02:15,367 - \u001b[32mINFO\u001b[0m - [bidd-aggmap]\u001b[0m - Applying grid assignment of feature points, this may take several minutes(1~30 min)\u001b[0m\n",
      "2021-10-14 14:02:15,379 - \u001b[32mINFO\u001b[0m - [bidd-aggmap]\u001b[0m - Finished\u001b[0m\n"
     ]
    },
    {
     "name": "stderr",
     "output_type": "stream",
     "text": [
      "100%|##########| 289/289 [00:00<00:00, 825.30it/s]\n",
      "100%|##########| 73/73 [00:00<00:00, 643.81it/s]\n"
     ]
    },
    {
     "name": "stdout",
     "output_type": "stream",
     "text": [
      "\n",
      " input train and test X shape is (289, 10, 9, 9), (73, 10, 9, 9) \n"
     ]
    },
    {
     "name": "stderr",
     "output_type": "stream",
     "text": [
      "100%|##########| 289/289 [00:00<00:00, 691.80it/s]\n",
      "100%|##########| 73/73 [00:00<00:00, 523.13it/s]\n"
     ]
    },
    {
     "name": "stdout",
     "output_type": "stream",
     "text": [
      "\n",
      " input train and test X shape is (289, 10, 9, 9), (73, 10, 9, 9) \n"
     ]
    },
    {
     "name": "stderr",
     "output_type": "stream",
     "text": [
      "100%|##########| 290/290 [00:00<00:00, 821.99it/s]\n",
      "100%|##########| 72/72 [00:00<00:00, 447.40it/s]\n"
     ]
    },
    {
     "name": "stdout",
     "output_type": "stream",
     "text": [
      "\n",
      " input train and test X shape is (290, 10, 9, 9), (72, 10, 9, 9) \n"
     ]
    },
    {
     "name": "stderr",
     "output_type": "stream",
     "text": [
      "100%|##########| 290/290 [00:00<00:00, 729.94it/s]\n",
      "100%|##########| 72/72 [00:00<00:00, 431.49it/s]\n"
     ]
    },
    {
     "name": "stdout",
     "output_type": "stream",
     "text": [
      "\n",
      " input train and test X shape is (290, 10, 9, 9), (72, 10, 9, 9) \n"
     ]
    },
    {
     "name": "stderr",
     "output_type": "stream",
     "text": [
      "100%|##########| 290/290 [00:00<00:00, 731.50it/s]\n",
      "100%|##########| 72/72 [00:00<00:00, 444.27it/s]\n"
     ]
    },
    {
     "name": "stdout",
     "output_type": "stream",
     "text": [
      "\n",
      " input train and test X shape is (290, 10, 9, 9), (72, 10, 9, 9) \n",
      "2021-10-14 14:04:46,349 - \u001b[32mINFO\u001b[0m - [bidd-aggmap]\u001b[0m - applying hierarchical clustering to obtain group information ...\u001b[0m\n",
      "2021-10-14 14:04:47,241 - \u001b[32mINFO\u001b[0m - [bidd-aggmap]\u001b[0m - Applying grid assignment of feature points, this may take several minutes(1~30 min)\u001b[0m\n",
      "2021-10-14 14:04:47,255 - \u001b[32mINFO\u001b[0m - [bidd-aggmap]\u001b[0m - Finished\u001b[0m\n"
     ]
    },
    {
     "name": "stderr",
     "output_type": "stream",
     "text": [
      "100%|##########| 289/289 [00:00<00:00, 828.29it/s]\n",
      "100%|##########| 73/73 [00:00<00:00, 472.49it/s]\n"
     ]
    },
    {
     "name": "stdout",
     "output_type": "stream",
     "text": [
      "\n",
      " input train and test X shape is (289, 10, 9, 13), (73, 10, 9, 13) \n"
     ]
    },
    {
     "name": "stderr",
     "output_type": "stream",
     "text": [
      "100%|##########| 289/289 [00:00<00:00, 724.54it/s]\n",
      "100%|##########| 73/73 [00:00<00:00, 528.98it/s]\n"
     ]
    },
    {
     "name": "stdout",
     "output_type": "stream",
     "text": [
      "\n",
      " input train and test X shape is (289, 10, 9, 13), (73, 10, 9, 13) \n"
     ]
    },
    {
     "name": "stderr",
     "output_type": "stream",
     "text": [
      "100%|##########| 290/290 [00:00<00:00, 761.65it/s]\n",
      "100%|##########| 72/72 [00:00<00:00, 457.57it/s]\n"
     ]
    },
    {
     "name": "stdout",
     "output_type": "stream",
     "text": [
      "\n",
      " input train and test X shape is (290, 10, 9, 13), (72, 10, 9, 13) \n"
     ]
    },
    {
     "name": "stderr",
     "output_type": "stream",
     "text": [
      "100%|##########| 290/290 [00:00<00:00, 825.66it/s]\n",
      "100%|##########| 72/72 [00:00<00:00, 415.29it/s]\n"
     ]
    },
    {
     "name": "stdout",
     "output_type": "stream",
     "text": [
      "\n",
      " input train and test X shape is (290, 10, 9, 13), (72, 10, 9, 13) \n"
     ]
    },
    {
     "name": "stderr",
     "output_type": "stream",
     "text": [
      "100%|##########| 290/290 [00:00<00:00, 715.18it/s]\n",
      "100%|##########| 72/72 [00:00<00:00, 517.63it/s]\n"
     ]
    },
    {
     "name": "stdout",
     "output_type": "stream",
     "text": [
      "\n",
      " input train and test X shape is (290, 10, 9, 13), (72, 10, 9, 13) \n",
      "2021-10-14 14:07:17,978 - \u001b[32mINFO\u001b[0m - [bidd-aggmap]\u001b[0m - applying hierarchical clustering to obtain group information ...\u001b[0m\n",
      "2021-10-14 14:07:18,867 - \u001b[32mINFO\u001b[0m - [bidd-aggmap]\u001b[0m - Applying grid assignment of feature points, this may take several minutes(1~30 min)\u001b[0m\n",
      "2021-10-14 14:07:18,883 - \u001b[32mINFO\u001b[0m - [bidd-aggmap]\u001b[0m - Finished\u001b[0m\n"
     ]
    },
    {
     "name": "stderr",
     "output_type": "stream",
     "text": [
      "100%|##########| 289/289 [00:00<00:00, 721.45it/s]\n",
      "100%|##########| 73/73 [00:00<00:00, 535.47it/s]\n"
     ]
    },
    {
     "name": "stdout",
     "output_type": "stream",
     "text": [
      "\n",
      " input train and test X shape is (289, 10, 9, 17), (73, 10, 9, 17) \n"
     ]
    },
    {
     "name": "stderr",
     "output_type": "stream",
     "text": [
      "100%|##########| 289/289 [00:00<00:00, 653.13it/s]\n",
      "100%|##########| 73/73 [00:00<00:00, 526.59it/s]\n"
     ]
    },
    {
     "name": "stdout",
     "output_type": "stream",
     "text": [
      "\n",
      " input train and test X shape is (289, 10, 9, 17), (73, 10, 9, 17) \n"
     ]
    },
    {
     "name": "stderr",
     "output_type": "stream",
     "text": [
      "100%|##########| 290/290 [00:00<00:00, 747.89it/s]\n",
      "100%|##########| 72/72 [00:00<00:00, 514.76it/s]\n"
     ]
    },
    {
     "name": "stdout",
     "output_type": "stream",
     "text": [
      "\n",
      " input train and test X shape is (290, 10, 9, 17), (72, 10, 9, 17) \n"
     ]
    },
    {
     "name": "stderr",
     "output_type": "stream",
     "text": [
      "100%|##########| 290/290 [00:00<00:00, 696.74it/s]\n",
      "100%|##########| 72/72 [00:00<00:00, 512.12it/s]\n"
     ]
    },
    {
     "name": "stdout",
     "output_type": "stream",
     "text": [
      "\n",
      " input train and test X shape is (290, 10, 9, 17), (72, 10, 9, 17) \n"
     ]
    },
    {
     "name": "stderr",
     "output_type": "stream",
     "text": [
      "100%|##########| 290/290 [00:00<00:00, 693.51it/s]\n",
      "100%|##########| 72/72 [00:00<00:00, 524.95it/s]\n"
     ]
    },
    {
     "name": "stdout",
     "output_type": "stream",
     "text": [
      "\n",
      " input train and test X shape is (290, 10, 9, 17), (72, 10, 9, 17) \n",
      "2021-10-14 14:09:48,794 - \u001b[32mINFO\u001b[0m - [bidd-aggmap]\u001b[0m - applying hierarchical clustering to obtain group information ...\u001b[0m\n",
      "2021-10-14 14:09:49,657 - \u001b[32mINFO\u001b[0m - [bidd-aggmap]\u001b[0m - Applying grid assignment of feature points, this may take several minutes(1~30 min)\u001b[0m\n",
      "2021-10-14 14:09:49,675 - \u001b[32mINFO\u001b[0m - [bidd-aggmap]\u001b[0m - Finished\u001b[0m\n"
     ]
    },
    {
     "name": "stderr",
     "output_type": "stream",
     "text": [
      "100%|##########| 289/289 [00:00<00:00, 816.41it/s]\n",
      "100%|##########| 73/73 [00:00<00:00, 442.79it/s]\n"
     ]
    },
    {
     "name": "stdout",
     "output_type": "stream",
     "text": [
      "\n",
      " input train and test X shape is (289, 10, 9, 21), (73, 10, 9, 21) \n"
     ]
    },
    {
     "name": "stderr",
     "output_type": "stream",
     "text": [
      "100%|##########| 289/289 [00:00<00:00, 639.42it/s]\n",
      "100%|##########| 73/73 [00:00<00:00, 706.67it/s]\n"
     ]
    },
    {
     "name": "stdout",
     "output_type": "stream",
     "text": [
      "\n",
      " input train and test X shape is (289, 10, 9, 21), (73, 10, 9, 21) \n"
     ]
    },
    {
     "name": "stderr",
     "output_type": "stream",
     "text": [
      "100%|##########| 290/290 [00:00<00:00, 769.67it/s]\n",
      "100%|##########| 72/72 [00:00<00:00, 435.37it/s]\n"
     ]
    },
    {
     "name": "stdout",
     "output_type": "stream",
     "text": [
      "\n",
      " input train and test X shape is (290, 10, 9, 21), (72, 10, 9, 21) \n"
     ]
    },
    {
     "name": "stderr",
     "output_type": "stream",
     "text": [
      "100%|##########| 290/290 [00:00<00:00, 712.70it/s]\n",
      "100%|##########| 72/72 [00:00<00:00, 688.77it/s]\n"
     ]
    },
    {
     "name": "stdout",
     "output_type": "stream",
     "text": [
      "\n",
      " input train and test X shape is (290, 10, 9, 21), (72, 10, 9, 21) \n"
     ]
    },
    {
     "name": "stderr",
     "output_type": "stream",
     "text": [
      "100%|##########| 290/290 [00:00<00:00, 669.15it/s]\n",
      "100%|##########| 72/72 [00:00<00:00, 498.18it/s]\n"
     ]
    },
    {
     "name": "stdout",
     "output_type": "stream",
     "text": [
      "\n",
      " input train and test X shape is (290, 10, 9, 21), (72, 10, 9, 21) \n",
      "2021-10-14 14:12:21,809 - \u001b[32mINFO\u001b[0m - [bidd-aggmap]\u001b[0m - applying hierarchical clustering to obtain group information ...\u001b[0m\n",
      "2021-10-14 14:12:22,741 - \u001b[32mINFO\u001b[0m - [bidd-aggmap]\u001b[0m - Applying grid assignment of feature points, this may take several minutes(1~30 min)\u001b[0m\n",
      "2021-10-14 14:12:22,763 - \u001b[32mINFO\u001b[0m - [bidd-aggmap]\u001b[0m - Finished\u001b[0m\n"
     ]
    },
    {
     "name": "stderr",
     "output_type": "stream",
     "text": [
      "100%|##########| 289/289 [00:00<00:00, 904.60it/s]\n",
      "100%|##########| 73/73 [00:00<00:00, 558.45it/s]\n"
     ]
    },
    {
     "name": "stdout",
     "output_type": "stream",
     "text": [
      "\n",
      " input train and test X shape is (289, 10, 9, 25), (73, 10, 9, 25) \n"
     ]
    },
    {
     "name": "stderr",
     "output_type": "stream",
     "text": [
      "100%|##########| 289/289 [00:00<00:00, 766.65it/s]\n",
      "100%|##########| 73/73 [00:00<00:00, 476.02it/s]\n"
     ]
    },
    {
     "name": "stdout",
     "output_type": "stream",
     "text": [
      "\n",
      " input train and test X shape is (289, 10, 9, 25), (73, 10, 9, 25) \n"
     ]
    },
    {
     "name": "stderr",
     "output_type": "stream",
     "text": [
      "100%|##########| 290/290 [00:00<00:00, 719.06it/s]\n",
      "100%|##########| 72/72 [00:00<00:00, 418.05it/s]\n"
     ]
    },
    {
     "name": "stdout",
     "output_type": "stream",
     "text": [
      "\n",
      " input train and test X shape is (290, 10, 9, 25), (72, 10, 9, 25) \n"
     ]
    },
    {
     "name": "stderr",
     "output_type": "stream",
     "text": [
      "100%|##########| 290/290 [00:00<00:00, 720.27it/s]\n",
      "100%|##########| 72/72 [00:00<00:00, 467.67it/s]\n"
     ]
    },
    {
     "name": "stdout",
     "output_type": "stream",
     "text": [
      "\n",
      " input train and test X shape is (290, 10, 9, 25), (72, 10, 9, 25) \n"
     ]
    },
    {
     "name": "stderr",
     "output_type": "stream",
     "text": [
      "100%|##########| 290/290 [00:00<00:00, 732.72it/s]\n",
      "100%|##########| 72/72 [00:00<00:00, 485.57it/s]\n"
     ]
    },
    {
     "name": "stdout",
     "output_type": "stream",
     "text": [
      "\n",
      " input train and test X shape is (290, 10, 9, 25), (72, 10, 9, 25) \n",
      "2021-10-14 14:14:52,039 - \u001b[32mINFO\u001b[0m - [bidd-aggmap]\u001b[0m - applying hierarchical clustering to obtain group information ...\u001b[0m\n",
      "2021-10-14 14:14:52,927 - \u001b[32mINFO\u001b[0m - [bidd-aggmap]\u001b[0m - Applying grid assignment of feature points, this may take several minutes(1~30 min)\u001b[0m\n",
      "2021-10-14 14:14:52,949 - \u001b[32mINFO\u001b[0m - [bidd-aggmap]\u001b[0m - Finished\u001b[0m\n"
     ]
    },
    {
     "name": "stderr",
     "output_type": "stream",
     "text": [
      "100%|##########| 289/289 [00:00<00:00, 810.53it/s]\n",
      "100%|##########| 73/73 [00:00<00:00, 514.19it/s]\n"
     ]
    },
    {
     "name": "stdout",
     "output_type": "stream",
     "text": [
      "\n",
      " input train and test X shape is (289, 10, 9, 29), (73, 10, 9, 29) \n"
     ]
    },
    {
     "name": "stderr",
     "output_type": "stream",
     "text": [
      "100%|##########| 289/289 [00:00<00:00, 701.17it/s]\n",
      "100%|##########| 73/73 [00:00<00:00, 463.22it/s]\n"
     ]
    },
    {
     "name": "stdout",
     "output_type": "stream",
     "text": [
      "\n",
      " input train and test X shape is (289, 10, 9, 29), (73, 10, 9, 29) \n"
     ]
    },
    {
     "name": "stderr",
     "output_type": "stream",
     "text": [
      "100%|##########| 290/290 [00:00<00:00, 693.14it/s]\n",
      "100%|##########| 72/72 [00:00<00:00, 466.90it/s]\n"
     ]
    },
    {
     "name": "stdout",
     "output_type": "stream",
     "text": [
      "\n",
      " input train and test X shape is (290, 10, 9, 29), (72, 10, 9, 29) \n"
     ]
    },
    {
     "name": "stderr",
     "output_type": "stream",
     "text": [
      "100%|##########| 290/290 [00:00<00:00, 822.45it/s]\n",
      "100%|##########| 72/72 [00:00<00:00, 732.56it/s]\n"
     ]
    },
    {
     "name": "stdout",
     "output_type": "stream",
     "text": [
      "\n",
      " input train and test X shape is (290, 10, 9, 29), (72, 10, 9, 29) \n"
     ]
    },
    {
     "name": "stderr",
     "output_type": "stream",
     "text": [
      "100%|##########| 290/290 [00:00<00:00, 724.67it/s]\n",
      "100%|##########| 72/72 [00:00<00:00, 563.89it/s]\n"
     ]
    },
    {
     "name": "stdout",
     "output_type": "stream",
     "text": [
      "\n",
      " input train and test X shape is (290, 10, 9, 29), (72, 10, 9, 29) \n",
      "2021-10-14 14:17:24,412 - \u001b[32mINFO\u001b[0m - [bidd-aggmap]\u001b[0m - applying hierarchical clustering to obtain group information ...\u001b[0m\n",
      "2021-10-14 14:17:25,289 - \u001b[32mINFO\u001b[0m - [bidd-aggmap]\u001b[0m - Applying grid assignment of feature points, this may take several minutes(1~30 min)\u001b[0m\n",
      "2021-10-14 14:17:25,313 - \u001b[32mINFO\u001b[0m - [bidd-aggmap]\u001b[0m - Finished\u001b[0m\n"
     ]
    },
    {
     "name": "stderr",
     "output_type": "stream",
     "text": [
      "100%|##########| 289/289 [00:00<00:00, 702.66it/s]\n",
      "100%|##########| 73/73 [00:00<00:00, 585.17it/s]\n"
     ]
    },
    {
     "name": "stdout",
     "output_type": "stream",
     "text": [
      "\n",
      " input train and test X shape is (289, 10, 9, 33), (73, 10, 9, 33) \n"
     ]
    },
    {
     "name": "stderr",
     "output_type": "stream",
     "text": [
      "100%|##########| 289/289 [00:00<00:00, 732.23it/s]\n",
      "100%|##########| 73/73 [00:00<00:00, 509.48it/s]\n"
     ]
    },
    {
     "name": "stdout",
     "output_type": "stream",
     "text": [
      "\n",
      " input train and test X shape is (289, 10, 9, 33), (73, 10, 9, 33) \n"
     ]
    },
    {
     "name": "stderr",
     "output_type": "stream",
     "text": [
      "100%|##########| 290/290 [00:00<00:00, 700.44it/s]\n",
      "100%|##########| 72/72 [00:00<00:00, 441.49it/s]\n"
     ]
    },
    {
     "name": "stdout",
     "output_type": "stream",
     "text": [
      "\n",
      " input train and test X shape is (290, 10, 9, 33), (72, 10, 9, 33) \n"
     ]
    },
    {
     "name": "stderr",
     "output_type": "stream",
     "text": [
      "100%|##########| 290/290 [00:00<00:00, 616.44it/s]\n",
      "100%|##########| 72/72 [00:00<00:00, 488.24it/s]\n"
     ]
    },
    {
     "name": "stdout",
     "output_type": "stream",
     "text": [
      "\n",
      " input train and test X shape is (290, 10, 9, 33), (72, 10, 9, 33) \n"
     ]
    },
    {
     "name": "stderr",
     "output_type": "stream",
     "text": [
      "100%|##########| 290/290 [00:00<00:00, 646.12it/s]\n",
      "100%|##########| 72/72 [00:00<00:00, 649.75it/s]\n"
     ]
    },
    {
     "name": "stdout",
     "output_type": "stream",
     "text": [
      "\n",
      " input train and test X shape is (290, 10, 9, 33), (72, 10, 9, 33) \n",
      "2021-10-14 14:19:57,518 - \u001b[32mINFO\u001b[0m - [bidd-aggmap]\u001b[0m - applying hierarchical clustering to obtain group information ...\u001b[0m\n",
      "2021-10-14 14:19:58,533 - \u001b[32mINFO\u001b[0m - [bidd-aggmap]\u001b[0m - Applying grid assignment of feature points, this may take several minutes(1~30 min)\u001b[0m\n",
      "2021-10-14 14:19:58,559 - \u001b[32mINFO\u001b[0m - [bidd-aggmap]\u001b[0m - Finished\u001b[0m\n"
     ]
    },
    {
     "name": "stderr",
     "output_type": "stream",
     "text": [
      "100%|##########| 289/289 [00:00<00:00, 692.67it/s]\n",
      "100%|##########| 73/73 [00:00<00:00, 597.68it/s]\n"
     ]
    },
    {
     "name": "stdout",
     "output_type": "stream",
     "text": [
      "\n",
      " input train and test X shape is (289, 10, 9, 37), (73, 10, 9, 37) \n"
     ]
    },
    {
     "name": "stderr",
     "output_type": "stream",
     "text": [
      "100%|##########| 289/289 [00:00<00:00, 675.67it/s]\n",
      "100%|##########| 73/73 [00:00<00:00, 443.67it/s]\n"
     ]
    },
    {
     "name": "stdout",
     "output_type": "stream",
     "text": [
      "\n",
      " input train and test X shape is (289, 10, 9, 37), (73, 10, 9, 37) \n"
     ]
    },
    {
     "name": "stderr",
     "output_type": "stream",
     "text": [
      "100%|##########| 290/290 [00:00<00:00, 670.28it/s]\n",
      "100%|##########| 72/72 [00:00<00:00, 501.01it/s]\n"
     ]
    },
    {
     "name": "stdout",
     "output_type": "stream",
     "text": [
      "\n",
      " input train and test X shape is (290, 10, 9, 37), (72, 10, 9, 37) \n"
     ]
    },
    {
     "name": "stderr",
     "output_type": "stream",
     "text": [
      "100%|##########| 290/290 [00:00<00:00, 691.13it/s]\n",
      "100%|##########| 72/72 [00:00<00:00, 536.76it/s]\n"
     ]
    },
    {
     "name": "stdout",
     "output_type": "stream",
     "text": [
      "\n",
      " input train and test X shape is (290, 10, 9, 37), (72, 10, 9, 37) \n"
     ]
    },
    {
     "name": "stderr",
     "output_type": "stream",
     "text": [
      "100%|##########| 290/290 [00:00<00:00, 627.93it/s]\n",
      "100%|##########| 72/72 [00:00<00:00, 421.11it/s]\n"
     ]
    },
    {
     "name": "stdout",
     "output_type": "stream",
     "text": [
      "\n",
      " input train and test X shape is (290, 10, 9, 37), (72, 10, 9, 37) \n",
      "2021-10-14 14:22:30,739 - \u001b[32mINFO\u001b[0m - [bidd-aggmap]\u001b[0m - applying hierarchical clustering to obtain group information ...\u001b[0m\n",
      "2021-10-14 14:22:31,582 - \u001b[32mINFO\u001b[0m - [bidd-aggmap]\u001b[0m - Applying grid assignment of feature points, this may take several minutes(1~30 min)\u001b[0m\n",
      "2021-10-14 14:22:31,609 - \u001b[32mINFO\u001b[0m - [bidd-aggmap]\u001b[0m - Finished\u001b[0m\n"
     ]
    },
    {
     "name": "stderr",
     "output_type": "stream",
     "text": [
      "100%|##########| 289/289 [00:00<00:00, 718.71it/s]\n",
      "100%|##########| 73/73 [00:00<00:00, 575.65it/s]\n"
     ]
    },
    {
     "name": "stdout",
     "output_type": "stream",
     "text": [
      "\n",
      " input train and test X shape is (289, 10, 9, 41), (73, 10, 9, 41) \n"
     ]
    },
    {
     "name": "stderr",
     "output_type": "stream",
     "text": [
      "100%|##########| 289/289 [00:00<00:00, 681.64it/s]\n",
      "100%|##########| 73/73 [00:00<00:00, 460.51it/s]\n"
     ]
    },
    {
     "name": "stdout",
     "output_type": "stream",
     "text": [
      "\n",
      " input train and test X shape is (289, 10, 9, 41), (73, 10, 9, 41) \n"
     ]
    },
    {
     "name": "stderr",
     "output_type": "stream",
     "text": [
      "100%|##########| 290/290 [00:00<00:00, 701.32it/s]\n",
      "100%|##########| 72/72 [00:00<00:00, 437.76it/s]\n"
     ]
    },
    {
     "name": "stdout",
     "output_type": "stream",
     "text": [
      "\n",
      " input train and test X shape is (290, 10, 9, 41), (72, 10, 9, 41) \n"
     ]
    },
    {
     "name": "stderr",
     "output_type": "stream",
     "text": [
      "100%|##########| 290/290 [00:00<00:00, 678.43it/s]\n",
      "100%|##########| 72/72 [00:00<00:00, 466.11it/s]\n"
     ]
    },
    {
     "name": "stdout",
     "output_type": "stream",
     "text": [
      "\n",
      " input train and test X shape is (290, 10, 9, 41), (72, 10, 9, 41) \n"
     ]
    },
    {
     "name": "stderr",
     "output_type": "stream",
     "text": [
      "100%|##########| 290/290 [00:00<00:00, 643.70it/s]\n",
      "100%|##########| 72/72 [00:00<00:00, 429.91it/s]\n"
     ]
    },
    {
     "name": "stdout",
     "output_type": "stream",
     "text": [
      "\n",
      " input train and test X shape is (290, 10, 9, 41), (72, 10, 9, 41) \n",
      "2021-10-14 14:25:03,155 - \u001b[32mINFO\u001b[0m - [bidd-aggmap]\u001b[0m - applying hierarchical clustering to obtain group information ...\u001b[0m\n",
      "2021-10-14 14:25:04,041 - \u001b[32mINFO\u001b[0m - [bidd-aggmap]\u001b[0m - Applying grid assignment of feature points, this may take several minutes(1~30 min)\u001b[0m\n",
      "2021-10-14 14:25:04,070 - \u001b[32mINFO\u001b[0m - [bidd-aggmap]\u001b[0m - Finished\u001b[0m\n"
     ]
    },
    {
     "name": "stderr",
     "output_type": "stream",
     "text": [
      "100%|##########| 289/289 [00:00<00:00, 772.30it/s]\n",
      "100%|##########| 73/73 [00:00<00:00, 462.26it/s]\n"
     ]
    },
    {
     "name": "stdout",
     "output_type": "stream",
     "text": [
      "\n",
      " input train and test X shape is (289, 10, 9, 45), (73, 10, 9, 45) \n"
     ]
    },
    {
     "name": "stderr",
     "output_type": "stream",
     "text": [
      "100%|##########| 289/289 [00:00<00:00, 719.89it/s]\n",
      "100%|##########| 73/73 [00:00<00:00, 513.81it/s]\n"
     ]
    },
    {
     "name": "stdout",
     "output_type": "stream",
     "text": [
      "\n",
      " input train and test X shape is (289, 10, 9, 45), (73, 10, 9, 45) \n"
     ]
    },
    {
     "name": "stderr",
     "output_type": "stream",
     "text": [
      "100%|##########| 290/290 [00:00<00:00, 718.93it/s]\n",
      "100%|##########| 72/72 [00:00<00:00, 470.82it/s]\n"
     ]
    },
    {
     "name": "stdout",
     "output_type": "stream",
     "text": [
      "\n",
      " input train and test X shape is (290, 10, 9, 45), (72, 10, 9, 45) \n"
     ]
    },
    {
     "name": "stderr",
     "output_type": "stream",
     "text": [
      "100%|##########| 290/290 [00:00<00:00, 731.84it/s]\n",
      "100%|##########| 72/72 [00:00<00:00, 479.57it/s]\n"
     ]
    },
    {
     "name": "stdout",
     "output_type": "stream",
     "text": [
      "\n",
      " input train and test X shape is (290, 10, 9, 45), (72, 10, 9, 45) \n"
     ]
    },
    {
     "name": "stderr",
     "output_type": "stream",
     "text": [
      "100%|##########| 290/290 [00:00<00:00, 691.90it/s]\n",
      "100%|##########| 72/72 [00:00<00:00, 449.25it/s]\n"
     ]
    },
    {
     "name": "stdout",
     "output_type": "stream",
     "text": [
      "\n",
      " input train and test X shape is (290, 10, 9, 45), (72, 10, 9, 45) \n",
      "2021-10-14 14:27:34,359 - \u001b[32mINFO\u001b[0m - [bidd-aggmap]\u001b[0m - applying hierarchical clustering to obtain group information ...\u001b[0m\n",
      "2021-10-14 14:27:35,170 - \u001b[32mINFO\u001b[0m - [bidd-aggmap]\u001b[0m - Applying grid assignment of feature points, this may take several minutes(1~30 min)\u001b[0m\n",
      "2021-10-14 14:27:35,202 - \u001b[32mINFO\u001b[0m - [bidd-aggmap]\u001b[0m - Finished\u001b[0m\n"
     ]
    },
    {
     "name": "stderr",
     "output_type": "stream",
     "text": [
      "100%|##########| 289/289 [00:00<00:00, 732.77it/s]\n",
      "100%|##########| 73/73 [00:00<00:00, 819.45it/s]\n"
     ]
    },
    {
     "name": "stdout",
     "output_type": "stream",
     "text": [
      "\n",
      " input train and test X shape is (289, 10, 9, 49), (73, 10, 9, 49) \n"
     ]
    },
    {
     "name": "stderr",
     "output_type": "stream",
     "text": [
      "100%|##########| 289/289 [00:00<00:00, 623.16it/s]\n",
      "100%|##########| 73/73 [00:00<00:00, 492.86it/s]\n"
     ]
    },
    {
     "name": "stdout",
     "output_type": "stream",
     "text": [
      "\n",
      " input train and test X shape is (289, 10, 9, 49), (73, 10, 9, 49) \n"
     ]
    },
    {
     "name": "stderr",
     "output_type": "stream",
     "text": [
      "100%|##########| 290/290 [00:00<00:00, 683.02it/s]\n",
      "100%|##########| 72/72 [00:00<00:00, 443.26it/s]\n"
     ]
    },
    {
     "name": "stdout",
     "output_type": "stream",
     "text": [
      "\n",
      " input train and test X shape is (290, 10, 9, 49), (72, 10, 9, 49) \n"
     ]
    },
    {
     "name": "stderr",
     "output_type": "stream",
     "text": [
      "100%|##########| 290/290 [00:00<00:00, 687.57it/s]\n",
      "100%|##########| 72/72 [00:00<00:00, 476.23it/s]\n"
     ]
    },
    {
     "name": "stdout",
     "output_type": "stream",
     "text": [
      "\n",
      " input train and test X shape is (290, 10, 9, 49), (72, 10, 9, 49) \n"
     ]
    },
    {
     "name": "stderr",
     "output_type": "stream",
     "text": [
      "100%|##########| 290/290 [00:00<00:00, 673.99it/s]\n",
      "100%|##########| 72/72 [00:00<00:00, 438.00it/s]\n"
     ]
    },
    {
     "name": "stdout",
     "output_type": "stream",
     "text": [
      "\n",
      " input train and test X shape is (290, 10, 9, 49), (72, 10, 9, 49) \n",
      "2021-10-14 14:30:07,117 - \u001b[32mINFO\u001b[0m - [bidd-aggmap]\u001b[0m - applying hierarchical clustering to obtain group information ...\u001b[0m\n",
      "2021-10-14 14:30:08,003 - \u001b[32mINFO\u001b[0m - [bidd-aggmap]\u001b[0m - Applying grid assignment of feature points, this may take several minutes(1~30 min)\u001b[0m\n",
      "2021-10-14 14:30:08,012 - \u001b[32mINFO\u001b[0m - [bidd-aggmap]\u001b[0m - Finished\u001b[0m\n"
     ]
    },
    {
     "name": "stderr",
     "output_type": "stream",
     "text": [
      "100%|##########| 289/289 [00:00<00:00, 712.89it/s]\n",
      "100%|##########| 73/73 [00:00<00:00, 509.03it/s]\n"
     ]
    },
    {
     "name": "stdout",
     "output_type": "stream",
     "text": [
      "\n",
      " input train and test X shape is (289, 10, 9, 1), (73, 10, 9, 1) \n"
     ]
    },
    {
     "name": "stderr",
     "output_type": "stream",
     "text": [
      "100%|##########| 289/289 [00:00<00:00, 679.80it/s]\n",
      "100%|##########| 73/73 [00:00<00:00, 460.91it/s]\n"
     ]
    },
    {
     "name": "stdout",
     "output_type": "stream",
     "text": [
      "\n",
      " input train and test X shape is (289, 10, 9, 1), (73, 10, 9, 1) \n"
     ]
    },
    {
     "name": "stderr",
     "output_type": "stream",
     "text": [
      "100%|##########| 290/290 [00:00<00:00, 685.66it/s]\n",
      "100%|##########| 72/72 [00:00<00:00, 482.94it/s]\n"
     ]
    },
    {
     "name": "stdout",
     "output_type": "stream",
     "text": [
      "\n",
      " input train and test X shape is (290, 10, 9, 1), (72, 10, 9, 1) \n"
     ]
    },
    {
     "name": "stderr",
     "output_type": "stream",
     "text": [
      "100%|##########| 290/290 [00:00<00:00, 708.47it/s]\n",
      "100%|##########| 72/72 [00:00<00:00, 537.21it/s]\n"
     ]
    },
    {
     "name": "stdout",
     "output_type": "stream",
     "text": [
      "\n",
      " input train and test X shape is (290, 10, 9, 1), (72, 10, 9, 1) \n"
     ]
    },
    {
     "name": "stderr",
     "output_type": "stream",
     "text": [
      "100%|##########| 290/290 [00:00<00:00, 727.12it/s]\n",
      "100%|##########| 72/72 [00:00<00:00, 513.94it/s]\n"
     ]
    },
    {
     "name": "stdout",
     "output_type": "stream",
     "text": [
      "\n",
      " input train and test X shape is (290, 10, 9, 1), (72, 10, 9, 1) \n",
      "2021-10-14 14:32:36,330 - \u001b[32mINFO\u001b[0m - [bidd-aggmap]\u001b[0m - applying hierarchical clustering to obtain group information ...\u001b[0m\n",
      "2021-10-14 14:32:37,381 - \u001b[32mINFO\u001b[0m - [bidd-aggmap]\u001b[0m - Applying grid assignment of feature points, this may take several minutes(1~30 min)\u001b[0m\n",
      "2021-10-14 14:32:37,392 - \u001b[32mINFO\u001b[0m - [bidd-aggmap]\u001b[0m - Finished\u001b[0m\n"
     ]
    },
    {
     "name": "stderr",
     "output_type": "stream",
     "text": [
      "100%|##########| 289/289 [00:00<00:00, 751.56it/s]\n",
      "100%|##########| 73/73 [00:00<00:00, 503.74it/s]\n"
     ]
    },
    {
     "name": "stdout",
     "output_type": "stream",
     "text": [
      "\n",
      " input train and test X shape is (289, 10, 9, 5), (73, 10, 9, 5) \n"
     ]
    },
    {
     "name": "stderr",
     "output_type": "stream",
     "text": [
      "100%|##########| 289/289 [00:00<00:00, 781.16it/s]\n",
      "100%|##########| 73/73 [00:00<00:00, 534.79it/s]\n"
     ]
    },
    {
     "name": "stdout",
     "output_type": "stream",
     "text": [
      "\n",
      " input train and test X shape is (289, 10, 9, 5), (73, 10, 9, 5) \n"
     ]
    },
    {
     "name": "stderr",
     "output_type": "stream",
     "text": [
      "100%|##########| 290/290 [00:00<00:00, 721.95it/s]\n",
      "100%|##########| 72/72 [00:00<00:00, 418.89it/s]\n"
     ]
    },
    {
     "name": "stdout",
     "output_type": "stream",
     "text": [
      "\n",
      " input train and test X shape is (290, 10, 9, 5), (72, 10, 9, 5) \n"
     ]
    },
    {
     "name": "stderr",
     "output_type": "stream",
     "text": [
      "100%|##########| 290/290 [00:00<00:00, 709.38it/s]\n",
      "100%|##########| 72/72 [00:00<00:00, 497.15it/s]\n"
     ]
    },
    {
     "name": "stdout",
     "output_type": "stream",
     "text": [
      "\n",
      " input train and test X shape is (290, 10, 9, 5), (72, 10, 9, 5) \n"
     ]
    },
    {
     "name": "stderr",
     "output_type": "stream",
     "text": [
      "100%|##########| 290/290 [00:00<00:00, 748.41it/s]\n",
      "100%|##########| 72/72 [00:00<00:00, 420.67it/s]\n"
     ]
    },
    {
     "name": "stdout",
     "output_type": "stream",
     "text": [
      "\n",
      " input train and test X shape is (290, 10, 9, 5), (72, 10, 9, 5) \n",
      "2021-10-14 14:35:08,466 - \u001b[32mINFO\u001b[0m - [bidd-aggmap]\u001b[0m - applying hierarchical clustering to obtain group information ...\u001b[0m\n",
      "2021-10-14 14:35:09,521 - \u001b[32mINFO\u001b[0m - [bidd-aggmap]\u001b[0m - Applying grid assignment of feature points, this may take several minutes(1~30 min)\u001b[0m\n",
      "2021-10-14 14:35:09,534 - \u001b[32mINFO\u001b[0m - [bidd-aggmap]\u001b[0m - Finished\u001b[0m\n"
     ]
    },
    {
     "name": "stderr",
     "output_type": "stream",
     "text": [
      "100%|##########| 289/289 [00:00<00:00, 739.60it/s]\n",
      "100%|##########| 73/73 [00:00<00:00, 553.22it/s]\n"
     ]
    },
    {
     "name": "stdout",
     "output_type": "stream",
     "text": [
      "\n",
      " input train and test X shape is (289, 10, 9, 9), (73, 10, 9, 9) \n"
     ]
    },
    {
     "name": "stderr",
     "output_type": "stream",
     "text": [
      "100%|##########| 289/289 [00:00<00:00, 820.84it/s]\n",
      "100%|##########| 73/73 [00:00<00:00, 518.83it/s]\n"
     ]
    },
    {
     "name": "stdout",
     "output_type": "stream",
     "text": [
      "\n",
      " input train and test X shape is (289, 10, 9, 9), (73, 10, 9, 9) \n"
     ]
    },
    {
     "name": "stderr",
     "output_type": "stream",
     "text": [
      "100%|##########| 290/290 [00:00<00:00, 902.59it/s]\n",
      "100%|##########| 72/72 [00:00<00:00, 539.19it/s]\n"
     ]
    },
    {
     "name": "stdout",
     "output_type": "stream",
     "text": [
      "\n",
      " input train and test X shape is (290, 10, 9, 9), (72, 10, 9, 9) \n"
     ]
    },
    {
     "name": "stderr",
     "output_type": "stream",
     "text": [
      "100%|##########| 290/290 [00:00<00:00, 703.95it/s]\n",
      "100%|##########| 72/72 [00:00<00:00, 540.64it/s]\n"
     ]
    },
    {
     "name": "stdout",
     "output_type": "stream",
     "text": [
      "\n",
      " input train and test X shape is (290, 10, 9, 9), (72, 10, 9, 9) \n"
     ]
    },
    {
     "name": "stderr",
     "output_type": "stream",
     "text": [
      "100%|##########| 290/290 [00:00<00:00, 725.65it/s]\n",
      "100%|##########| 72/72 [00:00<00:00, 672.06it/s]\n"
     ]
    },
    {
     "name": "stdout",
     "output_type": "stream",
     "text": [
      "\n",
      " input train and test X shape is (290, 10, 9, 9), (72, 10, 9, 9) \n",
      "2021-10-14 14:37:38,849 - \u001b[32mINFO\u001b[0m - [bidd-aggmap]\u001b[0m - applying hierarchical clustering to obtain group information ...\u001b[0m\n",
      "2021-10-14 14:37:39,859 - \u001b[32mINFO\u001b[0m - [bidd-aggmap]\u001b[0m - Applying grid assignment of feature points, this may take several minutes(1~30 min)\u001b[0m\n",
      "2021-10-14 14:37:39,874 - \u001b[32mINFO\u001b[0m - [bidd-aggmap]\u001b[0m - Finished\u001b[0m\n"
     ]
    },
    {
     "name": "stderr",
     "output_type": "stream",
     "text": [
      "100%|##########| 289/289 [00:00<00:00, 803.43it/s]\n",
      "100%|##########| 73/73 [00:00<00:00, 537.21it/s]\n"
     ]
    },
    {
     "name": "stdout",
     "output_type": "stream",
     "text": [
      "\n",
      " input train and test X shape is (289, 10, 9, 13), (73, 10, 9, 13) \n"
     ]
    },
    {
     "name": "stderr",
     "output_type": "stream",
     "text": [
      "100%|##########| 289/289 [00:00<00:00, 671.76it/s]\n",
      "100%|##########| 73/73 [00:00<00:00, 452.40it/s]\n"
     ]
    },
    {
     "name": "stdout",
     "output_type": "stream",
     "text": [
      "\n",
      " input train and test X shape is (289, 10, 9, 13), (73, 10, 9, 13) \n"
     ]
    },
    {
     "name": "stderr",
     "output_type": "stream",
     "text": [
      "100%|##########| 290/290 [00:00<00:00, 836.30it/s]\n",
      "100%|##########| 72/72 [00:00<00:00, 510.49it/s]\n"
     ]
    },
    {
     "name": "stdout",
     "output_type": "stream",
     "text": [
      "\n",
      " input train and test X shape is (290, 10, 9, 13), (72, 10, 9, 13) \n"
     ]
    },
    {
     "name": "stderr",
     "output_type": "stream",
     "text": [
      "100%|##########| 290/290 [00:00<00:00, 804.28it/s]\n",
      "100%|##########| 72/72 [00:00<00:00, 489.38it/s]\n"
     ]
    },
    {
     "name": "stdout",
     "output_type": "stream",
     "text": [
      "\n",
      " input train and test X shape is (290, 10, 9, 13), (72, 10, 9, 13) \n"
     ]
    },
    {
     "name": "stderr",
     "output_type": "stream",
     "text": [
      "100%|##########| 290/290 [00:00<00:00, 763.87it/s]\n",
      "100%|##########| 72/72 [00:00<00:00, 417.59it/s]\n"
     ]
    },
    {
     "name": "stdout",
     "output_type": "stream",
     "text": [
      "\n",
      " input train and test X shape is (290, 10, 9, 13), (72, 10, 9, 13) \n",
      "2021-10-14 14:40:11,118 - \u001b[32mINFO\u001b[0m - [bidd-aggmap]\u001b[0m - applying hierarchical clustering to obtain group information ...\u001b[0m\n",
      "2021-10-14 14:40:12,006 - \u001b[32mINFO\u001b[0m - [bidd-aggmap]\u001b[0m - Applying grid assignment of feature points, this may take several minutes(1~30 min)\u001b[0m\n",
      "2021-10-14 14:40:12,023 - \u001b[32mINFO\u001b[0m - [bidd-aggmap]\u001b[0m - Finished\u001b[0m\n"
     ]
    },
    {
     "name": "stderr",
     "output_type": "stream",
     "text": [
      "100%|##########| 289/289 [00:00<00:00, 845.33it/s]\n",
      "100%|##########| 73/73 [00:00<00:00, 530.03it/s]\n"
     ]
    },
    {
     "name": "stdout",
     "output_type": "stream",
     "text": [
      "\n",
      " input train and test X shape is (289, 10, 9, 17), (73, 10, 9, 17) \n"
     ]
    },
    {
     "name": "stderr",
     "output_type": "stream",
     "text": [
      "100%|##########| 289/289 [00:00<00:00, 695.65it/s]\n",
      "100%|##########| 73/73 [00:00<00:00, 489.04it/s]\n"
     ]
    },
    {
     "name": "stdout",
     "output_type": "stream",
     "text": [
      "\n",
      " input train and test X shape is (289, 10, 9, 17), (73, 10, 9, 17) \n"
     ]
    },
    {
     "name": "stderr",
     "output_type": "stream",
     "text": [
      "100%|##########| 290/290 [00:00<00:00, 736.98it/s]\n",
      "100%|##########| 72/72 [00:00<00:00, 501.99it/s]\n"
     ]
    },
    {
     "name": "stdout",
     "output_type": "stream",
     "text": [
      "\n",
      " input train and test X shape is (290, 10, 9, 17), (72, 10, 9, 17) \n"
     ]
    },
    {
     "name": "stderr",
     "output_type": "stream",
     "text": [
      "100%|##########| 290/290 [00:00<00:00, 791.72it/s]\n",
      "100%|##########| 72/72 [00:00<00:00, 471.81it/s]\n"
     ]
    },
    {
     "name": "stdout",
     "output_type": "stream",
     "text": [
      "\n",
      " input train and test X shape is (290, 10, 9, 17), (72, 10, 9, 17) \n"
     ]
    },
    {
     "name": "stderr",
     "output_type": "stream",
     "text": [
      "100%|##########| 290/290 [00:00<00:00, 695.81it/s]\n",
      "100%|##########| 72/72 [00:00<00:00, 482.65it/s]\n"
     ]
    },
    {
     "name": "stdout",
     "output_type": "stream",
     "text": [
      "\n",
      " input train and test X shape is (290, 10, 9, 17), (72, 10, 9, 17) \n",
      "2021-10-14 14:42:41,529 - \u001b[32mINFO\u001b[0m - [bidd-aggmap]\u001b[0m - applying hierarchical clustering to obtain group information ...\u001b[0m\n",
      "2021-10-14 14:42:42,498 - \u001b[32mINFO\u001b[0m - [bidd-aggmap]\u001b[0m - Applying grid assignment of feature points, this may take several minutes(1~30 min)\u001b[0m\n",
      "2021-10-14 14:42:42,517 - \u001b[32mINFO\u001b[0m - [bidd-aggmap]\u001b[0m - Finished\u001b[0m\n"
     ]
    },
    {
     "name": "stderr",
     "output_type": "stream",
     "text": [
      "100%|##########| 289/289 [00:00<00:00, 880.49it/s]\n",
      "100%|##########| 73/73 [00:00<00:00, 687.94it/s]\n"
     ]
    },
    {
     "name": "stdout",
     "output_type": "stream",
     "text": [
      "\n",
      " input train and test X shape is (289, 10, 9, 21), (73, 10, 9, 21) \n"
     ]
    },
    {
     "name": "stderr",
     "output_type": "stream",
     "text": [
      "100%|##########| 289/289 [00:00<00:00, 763.33it/s]\n",
      "100%|##########| 73/73 [00:00<00:00, 490.13it/s]\n"
     ]
    },
    {
     "name": "stdout",
     "output_type": "stream",
     "text": [
      "\n",
      " input train and test X shape is (289, 10, 9, 21), (73, 10, 9, 21) \n"
     ]
    },
    {
     "name": "stderr",
     "output_type": "stream",
     "text": [
      "100%|##########| 290/290 [00:00<00:00, 877.01it/s]\n",
      "100%|##########| 72/72 [00:00<00:00, 765.19it/s]\n"
     ]
    },
    {
     "name": "stdout",
     "output_type": "stream",
     "text": [
      "\n",
      " input train and test X shape is (290, 10, 9, 21), (72, 10, 9, 21) \n"
     ]
    },
    {
     "name": "stderr",
     "output_type": "stream",
     "text": [
      "100%|##########| 290/290 [00:00<00:00, 698.93it/s]\n",
      "100%|##########| 72/72 [00:00<00:00, 616.69it/s]\n"
     ]
    },
    {
     "name": "stdout",
     "output_type": "stream",
     "text": [
      "\n",
      " input train and test X shape is (290, 10, 9, 21), (72, 10, 9, 21) \n"
     ]
    },
    {
     "name": "stderr",
     "output_type": "stream",
     "text": [
      "100%|##########| 290/290 [00:00<00:00, 731.93it/s]\n",
      "100%|##########| 72/72 [00:00<00:00, 444.25it/s]\n"
     ]
    },
    {
     "name": "stdout",
     "output_type": "stream",
     "text": [
      "\n",
      " input train and test X shape is (290, 10, 9, 21), (72, 10, 9, 21) \n",
      "2021-10-14 14:45:12,417 - \u001b[32mINFO\u001b[0m - [bidd-aggmap]\u001b[0m - applying hierarchical clustering to obtain group information ...\u001b[0m\n",
      "2021-10-14 14:45:13,294 - \u001b[32mINFO\u001b[0m - [bidd-aggmap]\u001b[0m - Applying grid assignment of feature points, this may take several minutes(1~30 min)\u001b[0m\n",
      "2021-10-14 14:45:13,314 - \u001b[32mINFO\u001b[0m - [bidd-aggmap]\u001b[0m - Finished\u001b[0m\n"
     ]
    },
    {
     "name": "stderr",
     "output_type": "stream",
     "text": [
      "100%|##########| 289/289 [00:00<00:00, 785.82it/s]\n",
      "100%|##########| 73/73 [00:00<00:00, 623.72it/s]\n"
     ]
    },
    {
     "name": "stdout",
     "output_type": "stream",
     "text": [
      "\n",
      " input train and test X shape is (289, 10, 9, 25), (73, 10, 9, 25) \n"
     ]
    },
    {
     "name": "stderr",
     "output_type": "stream",
     "text": [
      "100%|##########| 289/289 [00:00<00:00, 667.91it/s]\n",
      "100%|##########| 73/73 [00:00<00:00, 415.36it/s]\n"
     ]
    },
    {
     "name": "stdout",
     "output_type": "stream",
     "text": [
      "\n",
      " input train and test X shape is (289, 10, 9, 25), (73, 10, 9, 25) \n"
     ]
    },
    {
     "name": "stderr",
     "output_type": "stream",
     "text": [
      "100%|##########| 290/290 [00:00<00:00, 697.63it/s]\n",
      "100%|##########| 72/72 [00:00<00:00, 456.30it/s]\n"
     ]
    },
    {
     "name": "stdout",
     "output_type": "stream",
     "text": [
      "\n",
      " input train and test X shape is (290, 10, 9, 25), (72, 10, 9, 25) \n"
     ]
    },
    {
     "name": "stderr",
     "output_type": "stream",
     "text": [
      "100%|##########| 290/290 [00:00<00:00, 785.94it/s]\n",
      "100%|##########| 72/72 [00:00<00:00, 459.40it/s]\n"
     ]
    },
    {
     "name": "stdout",
     "output_type": "stream",
     "text": [
      "\n",
      " input train and test X shape is (290, 10, 9, 25), (72, 10, 9, 25) \n"
     ]
    },
    {
     "name": "stderr",
     "output_type": "stream",
     "text": [
      "100%|##########| 290/290 [00:00<00:00, 730.21it/s]\n",
      "100%|##########| 72/72 [00:00<00:00, 456.71it/s]\n"
     ]
    },
    {
     "name": "stdout",
     "output_type": "stream",
     "text": [
      "\n",
      " input train and test X shape is (290, 10, 9, 25), (72, 10, 9, 25) \n",
      "2021-10-14 14:47:43,597 - \u001b[32mINFO\u001b[0m - [bidd-aggmap]\u001b[0m - applying hierarchical clustering to obtain group information ...\u001b[0m\n",
      "2021-10-14 14:47:44,712 - \u001b[32mINFO\u001b[0m - [bidd-aggmap]\u001b[0m - Applying grid assignment of feature points, this may take several minutes(1~30 min)\u001b[0m\n",
      "2021-10-14 14:47:44,734 - \u001b[32mINFO\u001b[0m - [bidd-aggmap]\u001b[0m - Finished\u001b[0m\n"
     ]
    },
    {
     "name": "stderr",
     "output_type": "stream",
     "text": [
      "100%|##########| 289/289 [00:00<00:00, 808.26it/s]\n",
      "100%|##########| 73/73 [00:00<00:00, 528.13it/s]\n"
     ]
    },
    {
     "name": "stdout",
     "output_type": "stream",
     "text": [
      "\n",
      " input train and test X shape is (289, 10, 9, 29), (73, 10, 9, 29) \n"
     ]
    },
    {
     "name": "stderr",
     "output_type": "stream",
     "text": [
      "100%|##########| 289/289 [00:00<00:00, 667.86it/s]\n",
      "100%|##########| 73/73 [00:00<00:00, 462.57it/s]\n"
     ]
    },
    {
     "name": "stdout",
     "output_type": "stream",
     "text": [
      "\n",
      " input train and test X shape is (289, 10, 9, 29), (73, 10, 9, 29) \n"
     ]
    },
    {
     "name": "stderr",
     "output_type": "stream",
     "text": [
      "100%|##########| 290/290 [00:00<00:00, 667.92it/s]\n",
      "100%|##########| 72/72 [00:00<00:00, 439.27it/s]\n"
     ]
    },
    {
     "name": "stdout",
     "output_type": "stream",
     "text": [
      "\n",
      " input train and test X shape is (290, 10, 9, 29), (72, 10, 9, 29) \n"
     ]
    },
    {
     "name": "stderr",
     "output_type": "stream",
     "text": [
      "100%|##########| 290/290 [00:00<00:00, 622.12it/s]\n",
      "100%|##########| 72/72 [00:00<00:00, 459.63it/s]\n"
     ]
    },
    {
     "name": "stdout",
     "output_type": "stream",
     "text": [
      "\n",
      " input train and test X shape is (290, 10, 9, 29), (72, 10, 9, 29) \n"
     ]
    },
    {
     "name": "stderr",
     "output_type": "stream",
     "text": [
      "100%|##########| 290/290 [00:00<00:00, 579.46it/s]\n",
      "100%|##########| 72/72 [00:00<00:00, 512.61it/s]\n"
     ]
    },
    {
     "name": "stdout",
     "output_type": "stream",
     "text": [
      "\n",
      " input train and test X shape is (290, 10, 9, 29), (72, 10, 9, 29) \n",
      "2021-10-14 14:50:15,740 - \u001b[32mINFO\u001b[0m - [bidd-aggmap]\u001b[0m - applying hierarchical clustering to obtain group information ...\u001b[0m\n",
      "2021-10-14 14:50:16,776 - \u001b[32mINFO\u001b[0m - [bidd-aggmap]\u001b[0m - Applying grid assignment of feature points, this may take several minutes(1~30 min)\u001b[0m\n",
      "2021-10-14 14:50:16,800 - \u001b[32mINFO\u001b[0m - [bidd-aggmap]\u001b[0m - Finished\u001b[0m\n"
     ]
    },
    {
     "name": "stderr",
     "output_type": "stream",
     "text": [
      "100%|##########| 289/289 [00:00<00:00, 810.85it/s]\n",
      "100%|##########| 73/73 [00:00<00:00, 613.73it/s]\n"
     ]
    },
    {
     "name": "stdout",
     "output_type": "stream",
     "text": [
      "\n",
      " input train and test X shape is (289, 10, 9, 33), (73, 10, 9, 33) \n"
     ]
    },
    {
     "name": "stderr",
     "output_type": "stream",
     "text": [
      "100%|##########| 289/289 [00:00<00:00, 615.82it/s]\n",
      "100%|##########| 73/73 [00:00<00:00, 432.58it/s]\n"
     ]
    },
    {
     "name": "stdout",
     "output_type": "stream",
     "text": [
      "\n",
      " input train and test X shape is (289, 10, 9, 33), (73, 10, 9, 33) \n"
     ]
    },
    {
     "name": "stderr",
     "output_type": "stream",
     "text": [
      "100%|##########| 290/290 [00:00<00:00, 766.40it/s]\n",
      "100%|##########| 72/72 [00:00<00:00, 494.69it/s]\n"
     ]
    },
    {
     "name": "stdout",
     "output_type": "stream",
     "text": [
      "\n",
      " input train and test X shape is (290, 10, 9, 33), (72, 10, 9, 33) \n"
     ]
    },
    {
     "name": "stderr",
     "output_type": "stream",
     "text": [
      "100%|##########| 290/290 [00:00<00:00, 596.99it/s]\n",
      "100%|##########| 72/72 [00:00<00:00, 423.26it/s]\n"
     ]
    },
    {
     "name": "stdout",
     "output_type": "stream",
     "text": [
      "\n",
      " input train and test X shape is (290, 10, 9, 33), (72, 10, 9, 33) \n"
     ]
    },
    {
     "name": "stderr",
     "output_type": "stream",
     "text": [
      "100%|##########| 290/290 [00:00<00:00, 719.33it/s]\n",
      "100%|##########| 72/72 [00:00<00:00, 450.19it/s]\n"
     ]
    },
    {
     "name": "stdout",
     "output_type": "stream",
     "text": [
      "\n",
      " input train and test X shape is (290, 10, 9, 33), (72, 10, 9, 33) \n",
      "2021-10-14 14:52:47,045 - \u001b[32mINFO\u001b[0m - [bidd-aggmap]\u001b[0m - applying hierarchical clustering to obtain group information ...\u001b[0m\n",
      "2021-10-14 14:52:47,917 - \u001b[32mINFO\u001b[0m - [bidd-aggmap]\u001b[0m - Applying grid assignment of feature points, this may take several minutes(1~30 min)\u001b[0m\n",
      "2021-10-14 14:52:47,943 - \u001b[32mINFO\u001b[0m - [bidd-aggmap]\u001b[0m - Finished\u001b[0m\n"
     ]
    },
    {
     "name": "stderr",
     "output_type": "stream",
     "text": [
      "100%|##########| 289/289 [00:00<00:00, 695.33it/s]\n",
      "100%|##########| 73/73 [00:00<00:00, 510.43it/s]\n"
     ]
    },
    {
     "name": "stdout",
     "output_type": "stream",
     "text": [
      "\n",
      " input train and test X shape is (289, 10, 9, 37), (73, 10, 9, 37) \n"
     ]
    },
    {
     "name": "stderr",
     "output_type": "stream",
     "text": [
      "100%|##########| 289/289 [00:00<00:00, 645.08it/s]\n",
      "100%|##########| 73/73 [00:00<00:00, 460.39it/s]\n"
     ]
    },
    {
     "name": "stdout",
     "output_type": "stream",
     "text": [
      "\n",
      " input train and test X shape is (289, 10, 9, 37), (73, 10, 9, 37) \n"
     ]
    },
    {
     "name": "stderr",
     "output_type": "stream",
     "text": [
      "100%|##########| 290/290 [00:00<00:00, 676.75it/s]\n",
      "100%|##########| 72/72 [00:00<00:00, 540.87it/s]\n"
     ]
    },
    {
     "name": "stdout",
     "output_type": "stream",
     "text": [
      "\n",
      " input train and test X shape is (290, 10, 9, 37), (72, 10, 9, 37) \n"
     ]
    },
    {
     "name": "stderr",
     "output_type": "stream",
     "text": [
      "100%|##########| 290/290 [00:00<00:00, 707.49it/s]\n",
      "100%|##########| 72/72 [00:00<00:00, 505.79it/s]\n"
     ]
    },
    {
     "name": "stdout",
     "output_type": "stream",
     "text": [
      "\n",
      " input train and test X shape is (290, 10, 9, 37), (72, 10, 9, 37) \n"
     ]
    },
    {
     "name": "stderr",
     "output_type": "stream",
     "text": [
      "100%|##########| 290/290 [00:00<00:00, 778.60it/s]\n",
      "100%|##########| 72/72 [00:00<00:00, 448.19it/s]\n"
     ]
    },
    {
     "name": "stdout",
     "output_type": "stream",
     "text": [
      "\n",
      " input train and test X shape is (290, 10, 9, 37), (72, 10, 9, 37) \n",
      "2021-10-14 14:55:20,364 - \u001b[32mINFO\u001b[0m - [bidd-aggmap]\u001b[0m - applying hierarchical clustering to obtain group information ...\u001b[0m\n",
      "2021-10-14 14:55:21,240 - \u001b[32mINFO\u001b[0m - [bidd-aggmap]\u001b[0m - Applying grid assignment of feature points, this may take several minutes(1~30 min)\u001b[0m\n",
      "2021-10-14 14:55:21,268 - \u001b[32mINFO\u001b[0m - [bidd-aggmap]\u001b[0m - Finished\u001b[0m\n"
     ]
    },
    {
     "name": "stderr",
     "output_type": "stream",
     "text": [
      "100%|##########| 289/289 [00:00<00:00, 724.05it/s]\n",
      "100%|##########| 73/73 [00:00<00:00, 490.77it/s]\n"
     ]
    },
    {
     "name": "stdout",
     "output_type": "stream",
     "text": [
      "\n",
      " input train and test X shape is (289, 10, 9, 41), (73, 10, 9, 41) \n"
     ]
    },
    {
     "name": "stderr",
     "output_type": "stream",
     "text": [
      "100%|##########| 289/289 [00:00<00:00, 612.02it/s]\n",
      "100%|##########| 73/73 [00:00<00:00, 436.67it/s]\n"
     ]
    },
    {
     "name": "stdout",
     "output_type": "stream",
     "text": [
      "\n",
      " input train and test X shape is (289, 10, 9, 41), (73, 10, 9, 41) \n"
     ]
    },
    {
     "name": "stderr",
     "output_type": "stream",
     "text": [
      "100%|##########| 290/290 [00:00<00:00, 704.45it/s]\n",
      "100%|##########| 72/72 [00:00<00:00, 709.20it/s]\n"
     ]
    },
    {
     "name": "stdout",
     "output_type": "stream",
     "text": [
      "\n",
      " input train and test X shape is (290, 10, 9, 41), (72, 10, 9, 41) \n"
     ]
    },
    {
     "name": "stderr",
     "output_type": "stream",
     "text": [
      "100%|##########| 290/290 [00:00<00:00, 778.63it/s]\n",
      "100%|##########| 72/72 [00:00<00:00, 488.47it/s]\n"
     ]
    },
    {
     "name": "stdout",
     "output_type": "stream",
     "text": [
      "\n",
      " input train and test X shape is (290, 10, 9, 41), (72, 10, 9, 41) \n"
     ]
    },
    {
     "name": "stderr",
     "output_type": "stream",
     "text": [
      "100%|##########| 290/290 [00:00<00:00, 690.94it/s]\n",
      "100%|##########| 72/72 [00:00<00:00, 460.24it/s]\n"
     ]
    },
    {
     "name": "stdout",
     "output_type": "stream",
     "text": [
      "\n",
      " input train and test X shape is (290, 10, 9, 41), (72, 10, 9, 41) \n",
      "2021-10-14 14:57:52,648 - \u001b[32mINFO\u001b[0m - [bidd-aggmap]\u001b[0m - applying hierarchical clustering to obtain group information ...\u001b[0m\n",
      "2021-10-14 14:57:53,554 - \u001b[32mINFO\u001b[0m - [bidd-aggmap]\u001b[0m - Applying grid assignment of feature points, this may take several minutes(1~30 min)\u001b[0m\n",
      "2021-10-14 14:57:53,586 - \u001b[32mINFO\u001b[0m - [bidd-aggmap]\u001b[0m - Finished\u001b[0m\n"
     ]
    },
    {
     "name": "stderr",
     "output_type": "stream",
     "text": [
      "100%|##########| 289/289 [00:00<00:00, 680.90it/s]\n",
      "100%|##########| 73/73 [00:00<00:00, 485.97it/s]\n"
     ]
    },
    {
     "name": "stdout",
     "output_type": "stream",
     "text": [
      "\n",
      " input train and test X shape is (289, 10, 9, 45), (73, 10, 9, 45) \n"
     ]
    },
    {
     "name": "stderr",
     "output_type": "stream",
     "text": [
      "100%|##########| 289/289 [00:00<00:00, 668.30it/s]\n",
      "100%|##########| 73/73 [00:00<00:00, 552.79it/s]\n"
     ]
    },
    {
     "name": "stdout",
     "output_type": "stream",
     "text": [
      "\n",
      " input train and test X shape is (289, 10, 9, 45), (73, 10, 9, 45) \n"
     ]
    },
    {
     "name": "stderr",
     "output_type": "stream",
     "text": [
      "100%|##########| 290/290 [00:00<00:00, 821.62it/s]\n",
      "100%|##########| 72/72 [00:00<00:00, 584.14it/s]\n"
     ]
    },
    {
     "name": "stdout",
     "output_type": "stream",
     "text": [
      "\n",
      " input train and test X shape is (290, 10, 9, 45), (72, 10, 9, 45) \n"
     ]
    },
    {
     "name": "stderr",
     "output_type": "stream",
     "text": [
      "100%|##########| 290/290 [00:00<00:00, 716.00it/s]\n",
      "100%|##########| 72/72 [00:00<00:00, 488.35it/s]\n"
     ]
    },
    {
     "name": "stdout",
     "output_type": "stream",
     "text": [
      "\n",
      " input train and test X shape is (290, 10, 9, 45), (72, 10, 9, 45) \n"
     ]
    },
    {
     "name": "stderr",
     "output_type": "stream",
     "text": [
      "100%|##########| 290/290 [00:00<00:00, 691.94it/s]\n",
      "100%|##########| 72/72 [00:00<00:00, 440.83it/s]\n"
     ]
    },
    {
     "name": "stdout",
     "output_type": "stream",
     "text": [
      "\n",
      " input train and test X shape is (290, 10, 9, 45), (72, 10, 9, 45) \n",
      "2021-10-14 15:00:25,296 - \u001b[32mINFO\u001b[0m - [bidd-aggmap]\u001b[0m - applying hierarchical clustering to obtain group information ...\u001b[0m\n",
      "2021-10-14 15:00:26,319 - \u001b[32mINFO\u001b[0m - [bidd-aggmap]\u001b[0m - Applying grid assignment of feature points, this may take several minutes(1~30 min)\u001b[0m\n",
      "2021-10-14 15:00:26,351 - \u001b[32mINFO\u001b[0m - [bidd-aggmap]\u001b[0m - Finished\u001b[0m\n"
     ]
    },
    {
     "name": "stderr",
     "output_type": "stream",
     "text": [
      "100%|##########| 289/289 [00:00<00:00, 790.85it/s]\n",
      "100%|##########| 73/73 [00:00<00:00, 571.95it/s]\n"
     ]
    },
    {
     "name": "stdout",
     "output_type": "stream",
     "text": [
      "\n",
      " input train and test X shape is (289, 10, 9, 49), (73, 10, 9, 49) \n"
     ]
    },
    {
     "name": "stderr",
     "output_type": "stream",
     "text": [
      "100%|##########| 289/289 [00:00<00:00, 728.05it/s]\n",
      "100%|##########| 73/73 [00:00<00:00, 546.35it/s]\n"
     ]
    },
    {
     "name": "stdout",
     "output_type": "stream",
     "text": [
      "\n",
      " input train and test X shape is (289, 10, 9, 49), (73, 10, 9, 49) \n"
     ]
    },
    {
     "name": "stderr",
     "output_type": "stream",
     "text": [
      "100%|##########| 290/290 [00:00<00:00, 714.02it/s]\n",
      "100%|##########| 72/72 [00:00<00:00, 640.51it/s]\n"
     ]
    },
    {
     "name": "stdout",
     "output_type": "stream",
     "text": [
      "\n",
      " input train and test X shape is (290, 10, 9, 49), (72, 10, 9, 49) \n"
     ]
    },
    {
     "name": "stderr",
     "output_type": "stream",
     "text": [
      "100%|##########| 290/290 [00:00<00:00, 676.90it/s]\n",
      "100%|##########| 72/72 [00:00<00:00, 416.14it/s]\n"
     ]
    },
    {
     "name": "stdout",
     "output_type": "stream",
     "text": [
      "\n",
      " input train and test X shape is (290, 10, 9, 49), (72, 10, 9, 49) \n"
     ]
    },
    {
     "name": "stderr",
     "output_type": "stream",
     "text": [
      "100%|##########| 290/290 [00:00<00:00, 637.59it/s]\n",
      "100%|##########| 72/72 [00:00<00:00, 472.26it/s]\n"
     ]
    },
    {
     "name": "stdout",
     "output_type": "stream",
     "text": [
      "\n",
      " input train and test X shape is (290, 10, 9, 49), (72, 10, 9, 49) \n",
      "2021-10-14 15:02:57,666 - \u001b[32mINFO\u001b[0m - [bidd-aggmap]\u001b[0m - applying hierarchical clustering to obtain group information ...\u001b[0m\n",
      "2021-10-14 15:02:58,683 - \u001b[32mINFO\u001b[0m - [bidd-aggmap]\u001b[0m - Applying grid assignment of feature points, this may take several minutes(1~30 min)\u001b[0m\n",
      "2021-10-14 15:02:58,692 - \u001b[32mINFO\u001b[0m - [bidd-aggmap]\u001b[0m - Finished\u001b[0m\n"
     ]
    },
    {
     "name": "stderr",
     "output_type": "stream",
     "text": [
      "100%|##########| 289/289 [00:00<00:00, 676.92it/s]\n",
      "100%|##########| 73/73 [00:00<00:00, 465.86it/s]\n"
     ]
    },
    {
     "name": "stdout",
     "output_type": "stream",
     "text": [
      "\n",
      " input train and test X shape is (289, 10, 9, 1), (73, 10, 9, 1) \n"
     ]
    },
    {
     "name": "stderr",
     "output_type": "stream",
     "text": [
      "100%|##########| 289/289 [00:00<00:00, 654.48it/s]\n",
      "100%|##########| 73/73 [00:00<00:00, 500.30it/s]\n"
     ]
    },
    {
     "name": "stdout",
     "output_type": "stream",
     "text": [
      "\n",
      " input train and test X shape is (289, 10, 9, 1), (73, 10, 9, 1) \n"
     ]
    },
    {
     "name": "stderr",
     "output_type": "stream",
     "text": [
      "100%|##########| 290/290 [00:00<00:00, 826.75it/s]\n",
      "100%|##########| 72/72 [00:00<00:00, 883.58it/s]\n"
     ]
    },
    {
     "name": "stdout",
     "output_type": "stream",
     "text": [
      "\n",
      " input train and test X shape is (290, 10, 9, 1), (72, 10, 9, 1) \n"
     ]
    },
    {
     "name": "stderr",
     "output_type": "stream",
     "text": [
      "100%|##########| 290/290 [00:00<00:00, 733.33it/s]\n",
      "100%|##########| 72/72 [00:00<00:00, 605.21it/s]\n"
     ]
    },
    {
     "name": "stdout",
     "output_type": "stream",
     "text": [
      "\n",
      " input train and test X shape is (290, 10, 9, 1), (72, 10, 9, 1) \n"
     ]
    },
    {
     "name": "stderr",
     "output_type": "stream",
     "text": [
      "100%|##########| 290/290 [00:00<00:00, 687.75it/s]\n",
      "100%|##########| 72/72 [00:00<00:00, 488.88it/s]\n"
     ]
    },
    {
     "name": "stdout",
     "output_type": "stream",
     "text": [
      "\n",
      " input train and test X shape is (290, 10, 9, 1), (72, 10, 9, 1) \n",
      "2021-10-14 15:05:21,811 - \u001b[32mINFO\u001b[0m - [bidd-aggmap]\u001b[0m - applying hierarchical clustering to obtain group information ...\u001b[0m\n",
      "2021-10-14 15:05:22,960 - \u001b[32mINFO\u001b[0m - [bidd-aggmap]\u001b[0m - Applying grid assignment of feature points, this may take several minutes(1~30 min)\u001b[0m\n",
      "2021-10-14 15:05:22,971 - \u001b[32mINFO\u001b[0m - [bidd-aggmap]\u001b[0m - Finished\u001b[0m\n"
     ]
    },
    {
     "name": "stderr",
     "output_type": "stream",
     "text": [
      "100%|##########| 289/289 [00:00<00:00, 801.27it/s]\n",
      "100%|##########| 73/73 [00:00<00:00, 480.51it/s]\n"
     ]
    },
    {
     "name": "stdout",
     "output_type": "stream",
     "text": [
      "\n",
      " input train and test X shape is (289, 10, 9, 5), (73, 10, 9, 5) \n"
     ]
    },
    {
     "name": "stderr",
     "output_type": "stream",
     "text": [
      "100%|##########| 289/289 [00:00<00:00, 643.99it/s]\n",
      "100%|##########| 73/73 [00:00<00:00, 406.97it/s]\n"
     ]
    },
    {
     "name": "stdout",
     "output_type": "stream",
     "text": [
      "\n",
      " input train and test X shape is (289, 10, 9, 5), (73, 10, 9, 5) \n"
     ]
    },
    {
     "name": "stderr",
     "output_type": "stream",
     "text": [
      "100%|##########| 290/290 [00:00<00:00, 694.22it/s]\n",
      "100%|##########| 72/72 [00:00<00:00, 481.11it/s]\n"
     ]
    },
    {
     "name": "stdout",
     "output_type": "stream",
     "text": [
      "\n",
      " input train and test X shape is (290, 10, 9, 5), (72, 10, 9, 5) \n"
     ]
    },
    {
     "name": "stderr",
     "output_type": "stream",
     "text": [
      "100%|##########| 290/290 [00:00<00:00, 683.13it/s]\n",
      "100%|##########| 72/72 [00:00<00:00, 490.41it/s]\n"
     ]
    },
    {
     "name": "stdout",
     "output_type": "stream",
     "text": [
      "\n",
      " input train and test X shape is (290, 10, 9, 5), (72, 10, 9, 5) \n"
     ]
    },
    {
     "name": "stderr",
     "output_type": "stream",
     "text": [
      "100%|##########| 290/290 [00:00<00:00, 725.83it/s]\n",
      "100%|##########| 72/72 [00:00<00:00, 478.86it/s]\n"
     ]
    },
    {
     "name": "stdout",
     "output_type": "stream",
     "text": [
      "\n",
      " input train and test X shape is (290, 10, 9, 5), (72, 10, 9, 5) \n",
      "2021-10-14 15:07:54,049 - \u001b[32mINFO\u001b[0m - [bidd-aggmap]\u001b[0m - applying hierarchical clustering to obtain group information ...\u001b[0m\n",
      "2021-10-14 15:07:55,117 - \u001b[32mINFO\u001b[0m - [bidd-aggmap]\u001b[0m - Applying grid assignment of feature points, this may take several minutes(1~30 min)\u001b[0m\n",
      "2021-10-14 15:07:55,131 - \u001b[32mINFO\u001b[0m - [bidd-aggmap]\u001b[0m - Finished\u001b[0m\n"
     ]
    },
    {
     "name": "stderr",
     "output_type": "stream",
     "text": [
      "100%|##########| 289/289 [00:00<00:00, 728.65it/s]\n",
      "100%|##########| 73/73 [00:00<00:00, 514.17it/s]\n"
     ]
    },
    {
     "name": "stdout",
     "output_type": "stream",
     "text": [
      "\n",
      " input train and test X shape is (289, 10, 9, 9), (73, 10, 9, 9) \n"
     ]
    },
    {
     "name": "stderr",
     "output_type": "stream",
     "text": [
      "100%|##########| 289/289 [00:00<00:00, 850.60it/s]\n",
      "100%|##########| 73/73 [00:00<00:00, 512.32it/s]\n"
     ]
    },
    {
     "name": "stdout",
     "output_type": "stream",
     "text": [
      "\n",
      " input train and test X shape is (289, 10, 9, 9), (73, 10, 9, 9) \n"
     ]
    },
    {
     "name": "stderr",
     "output_type": "stream",
     "text": [
      "100%|##########| 290/290 [00:00<00:00, 703.42it/s]\n",
      "100%|##########| 72/72 [00:00<00:00, 437.26it/s]\n"
     ]
    },
    {
     "name": "stdout",
     "output_type": "stream",
     "text": [
      "\n",
      " input train and test X shape is (290, 10, 9, 9), (72, 10, 9, 9) \n"
     ]
    },
    {
     "name": "stderr",
     "output_type": "stream",
     "text": [
      "100%|##########| 290/290 [00:00<00:00, 740.75it/s]\n",
      "100%|##########| 72/72 [00:00<00:00, 559.06it/s]\n"
     ]
    },
    {
     "name": "stdout",
     "output_type": "stream",
     "text": [
      "\n",
      " input train and test X shape is (290, 10, 9, 9), (72, 10, 9, 9) \n"
     ]
    },
    {
     "name": "stderr",
     "output_type": "stream",
     "text": [
      "100%|##########| 290/290 [00:00<00:00, 673.49it/s]\n",
      "100%|##########| 72/72 [00:00<00:00, 496.52it/s]\n"
     ]
    },
    {
     "name": "stdout",
     "output_type": "stream",
     "text": [
      "\n",
      " input train and test X shape is (290, 10, 9, 9), (72, 10, 9, 9) \n",
      "2021-10-14 15:10:25,585 - \u001b[32mINFO\u001b[0m - [bidd-aggmap]\u001b[0m - applying hierarchical clustering to obtain group information ...\u001b[0m\n",
      "2021-10-14 15:10:26,467 - \u001b[32mINFO\u001b[0m - [bidd-aggmap]\u001b[0m - Applying grid assignment of feature points, this may take several minutes(1~30 min)\u001b[0m\n",
      "2021-10-14 15:10:26,481 - \u001b[32mINFO\u001b[0m - [bidd-aggmap]\u001b[0m - Finished\u001b[0m\n"
     ]
    },
    {
     "name": "stderr",
     "output_type": "stream",
     "text": [
      "100%|##########| 289/289 [00:00<00:00, 712.39it/s]\n",
      "100%|##########| 73/73 [00:00<00:00, 487.79it/s]\n"
     ]
    },
    {
     "name": "stdout",
     "output_type": "stream",
     "text": [
      "\n",
      " input train and test X shape is (289, 10, 9, 13), (73, 10, 9, 13) \n"
     ]
    },
    {
     "name": "stderr",
     "output_type": "stream",
     "text": [
      "100%|##########| 289/289 [00:00<00:00, 722.60it/s]\n",
      "100%|##########| 73/73 [00:00<00:00, 463.71it/s]\n"
     ]
    },
    {
     "name": "stdout",
     "output_type": "stream",
     "text": [
      "\n",
      " input train and test X shape is (289, 10, 9, 13), (73, 10, 9, 13) \n"
     ]
    },
    {
     "name": "stderr",
     "output_type": "stream",
     "text": [
      "100%|##########| 290/290 [00:00<00:00, 715.10it/s]\n",
      "100%|##########| 72/72 [00:00<00:00, 506.19it/s]\n"
     ]
    },
    {
     "name": "stdout",
     "output_type": "stream",
     "text": [
      "\n",
      " input train and test X shape is (290, 10, 9, 13), (72, 10, 9, 13) \n"
     ]
    },
    {
     "name": "stderr",
     "output_type": "stream",
     "text": [
      "100%|##########| 290/290 [00:00<00:00, 714.21it/s]\n",
      "100%|##########| 72/72 [00:00<00:00, 525.39it/s]\n"
     ]
    },
    {
     "name": "stdout",
     "output_type": "stream",
     "text": [
      "\n",
      " input train and test X shape is (290, 10, 9, 13), (72, 10, 9, 13) \n"
     ]
    },
    {
     "name": "stderr",
     "output_type": "stream",
     "text": [
      "100%|##########| 290/290 [00:00<00:00, 709.25it/s]\n",
      "100%|##########| 72/72 [00:00<00:00, 483.50it/s]\n"
     ]
    },
    {
     "name": "stdout",
     "output_type": "stream",
     "text": [
      "\n",
      " input train and test X shape is (290, 10, 9, 13), (72, 10, 9, 13) \n",
      "2021-10-14 15:12:58,844 - \u001b[32mINFO\u001b[0m - [bidd-aggmap]\u001b[0m - applying hierarchical clustering to obtain group information ...\u001b[0m\n",
      "2021-10-14 15:12:59,915 - \u001b[32mINFO\u001b[0m - [bidd-aggmap]\u001b[0m - Applying grid assignment of feature points, this may take several minutes(1~30 min)\u001b[0m\n",
      "2021-10-14 15:12:59,931 - \u001b[32mINFO\u001b[0m - [bidd-aggmap]\u001b[0m - Finished\u001b[0m\n"
     ]
    },
    {
     "name": "stderr",
     "output_type": "stream",
     "text": [
      "100%|##########| 289/289 [00:00<00:00, 735.98it/s]\n",
      "100%|##########| 73/73 [00:00<00:00, 527.39it/s]\n"
     ]
    },
    {
     "name": "stdout",
     "output_type": "stream",
     "text": [
      "\n",
      " input train and test X shape is (289, 10, 9, 17), (73, 10, 9, 17) \n"
     ]
    },
    {
     "name": "stderr",
     "output_type": "stream",
     "text": [
      "100%|##########| 289/289 [00:00<00:00, 689.85it/s]\n",
      "100%|##########| 73/73 [00:00<00:00, 471.73it/s]\n"
     ]
    },
    {
     "name": "stdout",
     "output_type": "stream",
     "text": [
      "\n",
      " input train and test X shape is (289, 10, 9, 17), (73, 10, 9, 17) \n"
     ]
    },
    {
     "name": "stderr",
     "output_type": "stream",
     "text": [
      "100%|##########| 290/290 [00:00<00:00, 692.33it/s]\n",
      "100%|##########| 72/72 [00:00<00:00, 491.95it/s]\n"
     ]
    },
    {
     "name": "stdout",
     "output_type": "stream",
     "text": [
      "\n",
      " input train and test X shape is (290, 10, 9, 17), (72, 10, 9, 17) \n"
     ]
    },
    {
     "name": "stderr",
     "output_type": "stream",
     "text": [
      "100%|##########| 290/290 [00:00<00:00, 716.78it/s]\n",
      "100%|##########| 72/72 [00:00<00:00, 831.26it/s]\n"
     ]
    },
    {
     "name": "stdout",
     "output_type": "stream",
     "text": [
      "\n",
      " input train and test X shape is (290, 10, 9, 17), (72, 10, 9, 17) \n"
     ]
    },
    {
     "name": "stderr",
     "output_type": "stream",
     "text": [
      "100%|##########| 290/290 [00:00<00:00, 756.66it/s]\n",
      "100%|##########| 72/72 [00:00<00:00, 496.08it/s]\n"
     ]
    },
    {
     "name": "stdout",
     "output_type": "stream",
     "text": [
      "\n",
      " input train and test X shape is (290, 10, 9, 17), (72, 10, 9, 17) \n",
      "2021-10-14 15:15:30,802 - \u001b[32mINFO\u001b[0m - [bidd-aggmap]\u001b[0m - applying hierarchical clustering to obtain group information ...\u001b[0m\n",
      "2021-10-14 15:15:31,846 - \u001b[32mINFO\u001b[0m - [bidd-aggmap]\u001b[0m - Applying grid assignment of feature points, this may take several minutes(1~30 min)\u001b[0m\n",
      "2021-10-14 15:15:31,865 - \u001b[32mINFO\u001b[0m - [bidd-aggmap]\u001b[0m - Finished\u001b[0m\n"
     ]
    },
    {
     "name": "stderr",
     "output_type": "stream",
     "text": [
      "100%|##########| 289/289 [00:00<00:00, 904.35it/s]\n",
      "100%|##########| 73/73 [00:00<00:00, 593.17it/s]\n"
     ]
    },
    {
     "name": "stdout",
     "output_type": "stream",
     "text": [
      "\n",
      " input train and test X shape is (289, 10, 9, 21), (73, 10, 9, 21) \n"
     ]
    },
    {
     "name": "stderr",
     "output_type": "stream",
     "text": [
      "100%|##########| 289/289 [00:00<00:00, 668.39it/s]\n",
      "100%|##########| 73/73 [00:00<00:00, 509.50it/s]\n"
     ]
    },
    {
     "name": "stdout",
     "output_type": "stream",
     "text": [
      "\n",
      " input train and test X shape is (289, 10, 9, 21), (73, 10, 9, 21) \n"
     ]
    },
    {
     "name": "stderr",
     "output_type": "stream",
     "text": [
      "100%|##########| 290/290 [00:00<00:00, 709.27it/s]\n",
      "100%|##########| 72/72 [00:00<00:00, 391.23it/s]\n"
     ]
    },
    {
     "name": "stdout",
     "output_type": "stream",
     "text": [
      "\n",
      " input train and test X shape is (290, 10, 9, 21), (72, 10, 9, 21) \n"
     ]
    },
    {
     "name": "stderr",
     "output_type": "stream",
     "text": [
      "100%|##########| 290/290 [00:00<00:00, 640.32it/s]\n",
      "100%|##########| 72/72 [00:00<00:00, 459.98it/s]\n"
     ]
    },
    {
     "name": "stdout",
     "output_type": "stream",
     "text": [
      "\n",
      " input train and test X shape is (290, 10, 9, 21), (72, 10, 9, 21) \n"
     ]
    },
    {
     "name": "stderr",
     "output_type": "stream",
     "text": [
      "100%|##########| 290/290 [00:00<00:00, 665.78it/s]\n",
      "100%|##########| 72/72 [00:00<00:00, 461.01it/s]\n"
     ]
    },
    {
     "name": "stdout",
     "output_type": "stream",
     "text": [
      "\n",
      " input train and test X shape is (290, 10, 9, 21), (72, 10, 9, 21) \n",
      "2021-10-14 15:18:04,987 - \u001b[32mINFO\u001b[0m - [bidd-aggmap]\u001b[0m - applying hierarchical clustering to obtain group information ...\u001b[0m\n",
      "2021-10-14 15:18:06,129 - \u001b[32mINFO\u001b[0m - [bidd-aggmap]\u001b[0m - Applying grid assignment of feature points, this may take several minutes(1~30 min)\u001b[0m\n",
      "2021-10-14 15:18:06,150 - \u001b[32mINFO\u001b[0m - [bidd-aggmap]\u001b[0m - Finished\u001b[0m\n"
     ]
    },
    {
     "name": "stderr",
     "output_type": "stream",
     "text": [
      "100%|##########| 289/289 [00:00<00:00, 706.69it/s]\n",
      "100%|##########| 73/73 [00:00<00:00, 607.98it/s]\n"
     ]
    },
    {
     "name": "stdout",
     "output_type": "stream",
     "text": [
      "\n",
      " input train and test X shape is (289, 10, 9, 25), (73, 10, 9, 25) \n"
     ]
    },
    {
     "name": "stderr",
     "output_type": "stream",
     "text": [
      "100%|##########| 289/289 [00:00<00:00, 755.85it/s]\n",
      "100%|##########| 73/73 [00:00<00:00, 432.57it/s]\n"
     ]
    },
    {
     "name": "stdout",
     "output_type": "stream",
     "text": [
      "\n",
      " input train and test X shape is (289, 10, 9, 25), (73, 10, 9, 25) \n"
     ]
    },
    {
     "name": "stderr",
     "output_type": "stream",
     "text": [
      "100%|##########| 290/290 [00:00<00:00, 810.62it/s]\n",
      "100%|##########| 72/72 [00:00<00:00, 497.64it/s]\n"
     ]
    },
    {
     "name": "stdout",
     "output_type": "stream",
     "text": [
      "\n",
      " input train and test X shape is (290, 10, 9, 25), (72, 10, 9, 25) \n"
     ]
    },
    {
     "name": "stderr",
     "output_type": "stream",
     "text": [
      "100%|##########| 290/290 [00:00<00:00, 689.54it/s]\n",
      "100%|##########| 72/72 [00:00<00:00, 500.89it/s]\n"
     ]
    },
    {
     "name": "stdout",
     "output_type": "stream",
     "text": [
      "\n",
      " input train and test X shape is (290, 10, 9, 25), (72, 10, 9, 25) \n"
     ]
    },
    {
     "name": "stderr",
     "output_type": "stream",
     "text": [
      "100%|##########| 290/290 [00:00<00:00, 638.33it/s]\n",
      "100%|##########| 72/72 [00:00<00:00, 461.92it/s]\n"
     ]
    },
    {
     "name": "stdout",
     "output_type": "stream",
     "text": [
      "\n",
      " input train and test X shape is (290, 10, 9, 25), (72, 10, 9, 25) \n",
      "2021-10-14 15:20:36,861 - \u001b[32mINFO\u001b[0m - [bidd-aggmap]\u001b[0m - applying hierarchical clustering to obtain group information ...\u001b[0m\n",
      "2021-10-14 15:20:37,758 - \u001b[32mINFO\u001b[0m - [bidd-aggmap]\u001b[0m - Applying grid assignment of feature points, this may take several minutes(1~30 min)\u001b[0m\n",
      "2021-10-14 15:20:37,781 - \u001b[32mINFO\u001b[0m - [bidd-aggmap]\u001b[0m - Finished\u001b[0m\n"
     ]
    },
    {
     "name": "stderr",
     "output_type": "stream",
     "text": [
      "100%|##########| 289/289 [00:00<00:00, 914.28it/s]\n",
      "100%|##########| 73/73 [00:00<00:00, 508.19it/s]\n"
     ]
    },
    {
     "name": "stdout",
     "output_type": "stream",
     "text": [
      "\n",
      " input train and test X shape is (289, 10, 9, 29), (73, 10, 9, 29) \n"
     ]
    },
    {
     "name": "stderr",
     "output_type": "stream",
     "text": [
      "100%|##########| 289/289 [00:00<00:00, 675.87it/s]\n",
      "100%|##########| 73/73 [00:00<00:00, 419.19it/s]\n"
     ]
    },
    {
     "name": "stdout",
     "output_type": "stream",
     "text": [
      "\n",
      " input train and test X shape is (289, 10, 9, 29), (73, 10, 9, 29) \n"
     ]
    },
    {
     "name": "stderr",
     "output_type": "stream",
     "text": [
      "100%|##########| 290/290 [00:00<00:00, 675.57it/s]\n",
      "100%|##########| 72/72 [00:00<00:00, 496.99it/s]\n"
     ]
    },
    {
     "name": "stdout",
     "output_type": "stream",
     "text": [
      "\n",
      " input train and test X shape is (290, 10, 9, 29), (72, 10, 9, 29) \n"
     ]
    },
    {
     "name": "stderr",
     "output_type": "stream",
     "text": [
      "100%|##########| 290/290 [00:00<00:00, 706.34it/s]\n",
      "100%|##########| 72/72 [00:00<00:00, 582.73it/s]\n"
     ]
    },
    {
     "name": "stdout",
     "output_type": "stream",
     "text": [
      "\n",
      " input train and test X shape is (290, 10, 9, 29), (72, 10, 9, 29) \n"
     ]
    },
    {
     "name": "stderr",
     "output_type": "stream",
     "text": [
      "100%|##########| 290/290 [00:00<00:00, 666.25it/s]\n",
      "100%|##########| 72/72 [00:00<00:00, 456.51it/s]\n"
     ]
    },
    {
     "name": "stdout",
     "output_type": "stream",
     "text": [
      "\n",
      " input train and test X shape is (290, 10, 9, 29), (72, 10, 9, 29) \n",
      "2021-10-14 15:23:11,296 - \u001b[32mINFO\u001b[0m - [bidd-aggmap]\u001b[0m - applying hierarchical clustering to obtain group information ...\u001b[0m\n",
      "2021-10-14 15:23:12,193 - \u001b[32mINFO\u001b[0m - [bidd-aggmap]\u001b[0m - Applying grid assignment of feature points, this may take several minutes(1~30 min)\u001b[0m\n",
      "2021-10-14 15:23:12,218 - \u001b[32mINFO\u001b[0m - [bidd-aggmap]\u001b[0m - Finished\u001b[0m\n"
     ]
    },
    {
     "name": "stderr",
     "output_type": "stream",
     "text": [
      "100%|##########| 289/289 [00:00<00:00, 797.73it/s]\n",
      "100%|##########| 73/73 [00:00<00:00, 543.52it/s]\n"
     ]
    },
    {
     "name": "stdout",
     "output_type": "stream",
     "text": [
      "\n",
      " input train and test X shape is (289, 10, 9, 33), (73, 10, 9, 33) \n"
     ]
    },
    {
     "name": "stderr",
     "output_type": "stream",
     "text": [
      "100%|##########| 289/289 [00:00<00:00, 782.93it/s]\n",
      "100%|##########| 73/73 [00:00<00:00, 471.56it/s]\n"
     ]
    },
    {
     "name": "stdout",
     "output_type": "stream",
     "text": [
      "\n",
      " input train and test X shape is (289, 10, 9, 33), (73, 10, 9, 33) \n"
     ]
    },
    {
     "name": "stderr",
     "output_type": "stream",
     "text": [
      "100%|##########| 290/290 [00:00<00:00, 641.38it/s]\n",
      "100%|##########| 72/72 [00:00<00:00, 485.99it/s]\n"
     ]
    },
    {
     "name": "stdout",
     "output_type": "stream",
     "text": [
      "\n",
      " input train and test X shape is (290, 10, 9, 33), (72, 10, 9, 33) \n"
     ]
    },
    {
     "name": "stderr",
     "output_type": "stream",
     "text": [
      "100%|##########| 290/290 [00:00<00:00, 581.30it/s]\n",
      "100%|##########| 72/72 [00:00<00:00, 422.81it/s]\n"
     ]
    },
    {
     "name": "stdout",
     "output_type": "stream",
     "text": [
      "\n",
      " input train and test X shape is (290, 10, 9, 33), (72, 10, 9, 33) \n"
     ]
    },
    {
     "name": "stderr",
     "output_type": "stream",
     "text": [
      "100%|##########| 290/290 [00:00<00:00, 714.93it/s]\n",
      "100%|##########| 72/72 [00:00<00:00, 459.97it/s]\n"
     ]
    },
    {
     "name": "stdout",
     "output_type": "stream",
     "text": [
      "\n",
      " input train and test X shape is (290, 10, 9, 33), (72, 10, 9, 33) \n",
      "2021-10-14 15:25:44,025 - \u001b[32mINFO\u001b[0m - [bidd-aggmap]\u001b[0m - applying hierarchical clustering to obtain group information ...\u001b[0m\n",
      "2021-10-14 15:25:45,098 - \u001b[32mINFO\u001b[0m - [bidd-aggmap]\u001b[0m - Applying grid assignment of feature points, this may take several minutes(1~30 min)\u001b[0m\n",
      "2021-10-14 15:25:45,125 - \u001b[32mINFO\u001b[0m - [bidd-aggmap]\u001b[0m - Finished\u001b[0m\n"
     ]
    },
    {
     "name": "stderr",
     "output_type": "stream",
     "text": [
      "100%|##########| 289/289 [00:00<00:00, 700.78it/s]\n",
      "100%|##########| 73/73 [00:00<00:00, 419.23it/s]\n"
     ]
    },
    {
     "name": "stdout",
     "output_type": "stream",
     "text": [
      "\n",
      " input train and test X shape is (289, 10, 9, 37), (73, 10, 9, 37) \n"
     ]
    },
    {
     "name": "stderr",
     "output_type": "stream",
     "text": [
      "100%|##########| 289/289 [00:00<00:00, 723.62it/s]\n",
      "100%|##########| 73/73 [00:00<00:00, 518.39it/s]\n"
     ]
    },
    {
     "name": "stdout",
     "output_type": "stream",
     "text": [
      "\n",
      " input train and test X shape is (289, 10, 9, 37), (73, 10, 9, 37) \n"
     ]
    },
    {
     "name": "stderr",
     "output_type": "stream",
     "text": [
      "100%|##########| 290/290 [00:00<00:00, 737.93it/s]\n",
      "100%|##########| 72/72 [00:00<00:00, 448.92it/s]\n"
     ]
    },
    {
     "name": "stdout",
     "output_type": "stream",
     "text": [
      "\n",
      " input train and test X shape is (290, 10, 9, 37), (72, 10, 9, 37) \n"
     ]
    },
    {
     "name": "stderr",
     "output_type": "stream",
     "text": [
      "100%|##########| 290/290 [00:00<00:00, 682.11it/s]\n",
      "100%|##########| 72/72 [00:00<00:00, 572.23it/s]\n"
     ]
    },
    {
     "name": "stdout",
     "output_type": "stream",
     "text": [
      "\n",
      " input train and test X shape is (290, 10, 9, 37), (72, 10, 9, 37) \n"
     ]
    },
    {
     "name": "stderr",
     "output_type": "stream",
     "text": [
      "100%|##########| 290/290 [00:00<00:00, 693.13it/s]\n",
      "100%|##########| 72/72 [00:00<00:00, 450.83it/s]\n"
     ]
    },
    {
     "name": "stdout",
     "output_type": "stream",
     "text": [
      "\n",
      " input train and test X shape is (290, 10, 9, 37), (72, 10, 9, 37) \n",
      "2021-10-14 15:28:17,601 - \u001b[32mINFO\u001b[0m - [bidd-aggmap]\u001b[0m - applying hierarchical clustering to obtain group information ...\u001b[0m\n",
      "2021-10-14 15:28:18,485 - \u001b[32mINFO\u001b[0m - [bidd-aggmap]\u001b[0m - Applying grid assignment of feature points, this may take several minutes(1~30 min)\u001b[0m\n",
      "2021-10-14 15:28:18,514 - \u001b[32mINFO\u001b[0m - [bidd-aggmap]\u001b[0m - Finished\u001b[0m\n"
     ]
    },
    {
     "name": "stderr",
     "output_type": "stream",
     "text": [
      "100%|##########| 289/289 [00:00<00:00, 572.28it/s]\n",
      "100%|##########| 73/73 [00:00<00:00, 628.28it/s]\n"
     ]
    },
    {
     "name": "stdout",
     "output_type": "stream",
     "text": [
      "\n",
      " input train and test X shape is (289, 10, 9, 41), (73, 10, 9, 41) \n"
     ]
    },
    {
     "name": "stderr",
     "output_type": "stream",
     "text": [
      "100%|##########| 289/289 [00:00<00:00, 679.73it/s]\n",
      "100%|##########| 73/73 [00:00<00:00, 417.26it/s]\n"
     ]
    },
    {
     "name": "stdout",
     "output_type": "stream",
     "text": [
      "\n",
      " input train and test X shape is (289, 10, 9, 41), (73, 10, 9, 41) \n"
     ]
    },
    {
     "name": "stderr",
     "output_type": "stream",
     "text": [
      "100%|##########| 290/290 [00:00<00:00, 669.64it/s]\n",
      "100%|##########| 72/72 [00:00<00:00, 394.26it/s]\n"
     ]
    },
    {
     "name": "stdout",
     "output_type": "stream",
     "text": [
      "\n",
      " input train and test X shape is (290, 10, 9, 41), (72, 10, 9, 41) \n"
     ]
    },
    {
     "name": "stderr",
     "output_type": "stream",
     "text": [
      "100%|##########| 290/290 [00:00<00:00, 662.13it/s]\n",
      "100%|##########| 72/72 [00:00<00:00, 618.16it/s]\n"
     ]
    },
    {
     "name": "stdout",
     "output_type": "stream",
     "text": [
      "\n",
      " input train and test X shape is (290, 10, 9, 41), (72, 10, 9, 41) \n"
     ]
    },
    {
     "name": "stderr",
     "output_type": "stream",
     "text": [
      "100%|##########| 290/290 [00:00<00:00, 745.82it/s]\n",
      "100%|##########| 72/72 [00:00<00:00, 409.72it/s]\n"
     ]
    },
    {
     "name": "stdout",
     "output_type": "stream",
     "text": [
      "\n",
      " input train and test X shape is (290, 10, 9, 41), (72, 10, 9, 41) \n",
      "2021-10-14 15:30:49,923 - \u001b[32mINFO\u001b[0m - [bidd-aggmap]\u001b[0m - applying hierarchical clustering to obtain group information ...\u001b[0m\n",
      "2021-10-14 15:30:51,093 - \u001b[32mINFO\u001b[0m - [bidd-aggmap]\u001b[0m - Applying grid assignment of feature points, this may take several minutes(1~30 min)\u001b[0m\n",
      "2021-10-14 15:30:51,124 - \u001b[32mINFO\u001b[0m - [bidd-aggmap]\u001b[0m - Finished\u001b[0m\n"
     ]
    },
    {
     "name": "stderr",
     "output_type": "stream",
     "text": [
      "100%|##########| 289/289 [00:00<00:00, 733.25it/s]\n",
      "100%|##########| 73/73 [00:00<00:00, 507.18it/s]\n"
     ]
    },
    {
     "name": "stdout",
     "output_type": "stream",
     "text": [
      "\n",
      " input train and test X shape is (289, 10, 9, 45), (73, 10, 9, 45) \n"
     ]
    },
    {
     "name": "stderr",
     "output_type": "stream",
     "text": [
      "100%|##########| 289/289 [00:00<00:00, 676.55it/s]\n",
      "100%|##########| 73/73 [00:00<00:00, 507.52it/s]\n"
     ]
    },
    {
     "name": "stdout",
     "output_type": "stream",
     "text": [
      "\n",
      " input train and test X shape is (289, 10, 9, 45), (73, 10, 9, 45) \n"
     ]
    },
    {
     "name": "stderr",
     "output_type": "stream",
     "text": [
      "100%|##########| 290/290 [00:00<00:00, 581.94it/s]\n",
      "100%|##########| 72/72 [00:00<00:00, 416.89it/s]\n"
     ]
    },
    {
     "name": "stdout",
     "output_type": "stream",
     "text": [
      "\n",
      " input train and test X shape is (290, 10, 9, 45), (72, 10, 9, 45) \n"
     ]
    },
    {
     "name": "stderr",
     "output_type": "stream",
     "text": [
      "100%|##########| 290/290 [00:00<00:00, 595.02it/s]\n",
      "100%|##########| 72/72 [00:00<00:00, 522.44it/s]\n"
     ]
    },
    {
     "name": "stdout",
     "output_type": "stream",
     "text": [
      "\n",
      " input train and test X shape is (290, 10, 9, 45), (72, 10, 9, 45) \n"
     ]
    },
    {
     "name": "stderr",
     "output_type": "stream",
     "text": [
      "100%|##########| 290/290 [00:00<00:00, 669.20it/s]\n",
      "100%|##########| 72/72 [00:00<00:00, 469.16it/s]\n"
     ]
    },
    {
     "name": "stdout",
     "output_type": "stream",
     "text": [
      "\n",
      " input train and test X shape is (290, 10, 9, 45), (72, 10, 9, 45) \n",
      "2021-10-14 15:33:23,158 - \u001b[32mINFO\u001b[0m - [bidd-aggmap]\u001b[0m - applying hierarchical clustering to obtain group information ...\u001b[0m\n",
      "2021-10-14 15:33:24,217 - \u001b[32mINFO\u001b[0m - [bidd-aggmap]\u001b[0m - Applying grid assignment of feature points, this may take several minutes(1~30 min)\u001b[0m\n",
      "2021-10-14 15:33:24,251 - \u001b[32mINFO\u001b[0m - [bidd-aggmap]\u001b[0m - Finished\u001b[0m\n"
     ]
    },
    {
     "name": "stderr",
     "output_type": "stream",
     "text": [
      "100%|##########| 289/289 [00:00<00:00, 673.80it/s]\n",
      "100%|##########| 73/73 [00:00<00:00, 477.22it/s]\n"
     ]
    },
    {
     "name": "stdout",
     "output_type": "stream",
     "text": [
      "\n",
      " input train and test X shape is (289, 10, 9, 49), (73, 10, 9, 49) \n"
     ]
    },
    {
     "name": "stderr",
     "output_type": "stream",
     "text": [
      "100%|##########| 289/289 [00:00<00:00, 660.67it/s]\n",
      "100%|##########| 73/73 [00:00<00:00, 570.89it/s]\n"
     ]
    },
    {
     "name": "stdout",
     "output_type": "stream",
     "text": [
      "\n",
      " input train and test X shape is (289, 10, 9, 49), (73, 10, 9, 49) \n"
     ]
    },
    {
     "name": "stderr",
     "output_type": "stream",
     "text": [
      "100%|##########| 290/290 [00:00<00:00, 699.56it/s]\n",
      "100%|##########| 72/72 [00:00<00:00, 401.36it/s]\n"
     ]
    },
    {
     "name": "stdout",
     "output_type": "stream",
     "text": [
      "\n",
      " input train and test X shape is (290, 10, 9, 49), (72, 10, 9, 49) \n"
     ]
    },
    {
     "name": "stderr",
     "output_type": "stream",
     "text": [
      "100%|##########| 290/290 [00:00<00:00, 554.14it/s]\n",
      "100%|##########| 72/72 [00:00<00:00, 518.13it/s]\n"
     ]
    },
    {
     "name": "stdout",
     "output_type": "stream",
     "text": [
      "\n",
      " input train and test X shape is (290, 10, 9, 49), (72, 10, 9, 49) \n"
     ]
    },
    {
     "name": "stderr",
     "output_type": "stream",
     "text": [
      "100%|##########| 290/290 [00:00<00:00, 611.16it/s]\n",
      "100%|##########| 72/72 [00:00<00:00, 406.00it/s]\n"
     ]
    },
    {
     "name": "stdout",
     "output_type": "stream",
     "text": [
      "\n",
      " input train and test X shape is (290, 10, 9, 49), (72, 10, 9, 49) \n"
     ]
    }
   ],
   "source": [
    "n_splits = 5 #5-fold reapeat 5 times\n",
    "\n",
    "run_all = []\n",
    "\n",
    "for repeat_seed in [8, 16, 32, 64, 128]: #3 repeats random seeds #, 16, 32, 64, 128\n",
    "    outer = KFold(n_splits = n_splits, shuffle = True, random_state = repeat_seed)\n",
    "    outer_idx = list(outer.split(range(len(Y))))\n",
    "    \n",
    "    for c in channel_list: \n",
    "        \n",
    "        mp = mp.fit(cluster_channels = c, verbose = 0)\n",
    "        for i, idx in enumerate(outer_idx):\n",
    "            \n",
    "            train_idx, valid_idx = idx\n",
    "            fold_num = \"fold_%s\" % str(i+1).zfill(2) \n",
    "            \n",
    "            validY = Y[valid_idx]\n",
    "            validx = X[valid_idx]\n",
    "\n",
    "            trainx = X[train_idx]\n",
    "            trainY = Y[train_idx]\n",
    "\n",
    "            trainX = mp.batch_transform(trainx, scale_method = 'standard')\n",
    "            validX = mp.batch_transform(validx, scale_method = 'standard')\n",
    "            print(\"\\n input train and test X shape is %s, %s \" % (trainX.shape,  validX.shape))\n",
    "            clf = AggMapNet.MultiClassEstimator(epochs = 50,  \n",
    "                                               metric = 'ROC',\n",
    "                                               batch_size = 4,\n",
    "                                               verbose = 0, gpuid=0)\n",
    "            clf.fit(trainX, trainY, X_valid = validX, y_valid = validY)\n",
    "\n",
    "            history = clf.history\n",
    "            history['fold'] = fold_num\n",
    "            history['c'] = c\n",
    "            history['repeat_seed'] = repeat_seed\n",
    "            \n",
    "            run_all.append(history)"
   ]
  },
  {
   "cell_type": "code",
   "execution_count": null,
   "metadata": {},
   "outputs": [],
   "source": []
  },
  {
   "cell_type": "code",
   "execution_count": 4,
   "metadata": {},
   "outputs": [],
   "source": [
    "dfr = pd.DataFrame(run_all)\n",
    "dfr = dfr[dfr.c.isin([1, 5, 9, 17, 25, 41])]\n",
    "dfr = dfr[dfr.c.isin(channel_list)]\n",
    "dfr.to_csv('./5FCV_valid_covid19.csv')"
   ]
  },
  {
   "cell_type": "code",
   "execution_count": null,
   "metadata": {},
   "outputs": [],
   "source": []
  },
  {
   "cell_type": "code",
   "execution_count": 5,
   "metadata": {},
   "outputs": [],
   "source": [
    "color = sns.color_palette(\"rainbow_r\", len(dfr.c.unique())) #PiYG"
   ]
  },
  {
   "cell_type": "code",
   "execution_count": null,
   "metadata": {},
   "outputs": [],
   "source": []
  },
  {
   "cell_type": "code",
   "execution_count": 22,
   "metadata": {},
   "outputs": [
    {
     "data": {
      "image/png": "[encoded data removed]",
      "text/plain": [
       "<Figure size 1296x432 with 2 Axes>"
      ]
     },
     "metadata": {},
     "output_type": "display_data"
    }
   ],
   "source": [
    "sns.set(style = 'white', font_scale=1.8)\n",
    "\n",
    "fig, axes = plt.subplots(nrows=1, ncols=2, figsize=(18,6), sharex=False, sharey=False, )\n",
    "ax1, ax2 = axes        \n",
    "\n",
    "\n",
    "col = 'val_loss'\n",
    "loss_mean = dfr.groupby(['c']).agg({col: lambda x:x.tolist()})[col].apply(lambda x: np.array(x).mean(axis=0)).apply(pd.Series).T\n",
    "loss_std = dfr.groupby(['c']).agg({col: lambda x:x.tolist()})[col].apply(lambda x: np.array(x).std(axis=0)).apply(pd.Series).T\n",
    "\n",
    "loss_mean.columns.name = 'Channels'\n",
    "loss_std.columns.name = 'Channels'\n",
    "\n",
    "loss_mean.plot(ax=ax1, lw = 3, color = color)\n",
    "ax1.set_ylabel('Validation loss')\n",
    "ax1.set_xlabel('Epochs')\n",
    "ax1.legend(loc='upper right')\n",
    "# for i, j in zip(loss_mean.columns, color[:3]):\n",
    "#     bottom = loss_mean[i]-loss_std[i]\n",
    "#     up = loss_mean[i] + loss_std[i]\n",
    "#     ax1.fill_between(loss_mean.index, bottom, up,alpha=0.2, color = j)\n",
    "\n",
    "#plt.savefig(os.path.join(results_save_folder, 'performance_01_test.png'), bbox_inches='tight', dpi=300)\n",
    "\n",
    "col = 'val_roc_auc'\n",
    "acc_mean = dfr.groupby(['c']).agg({col: lambda x:x.tolist()})[col].apply(lambda x: np.array(x).mean(axis=0)).apply(pd.Series).T\n",
    "acc_std = dfr.groupby(['c']).agg({col: lambda x:x.tolist()})[col].apply(lambda x: np.array(x).std(axis=0)).apply(pd.Series).T\n",
    "\n",
    "\n",
    "acc_mean.columns.name = 'Channels'\n",
    "acc_std.columns.name = 'Channels'\n",
    "\n",
    "acc_mean.plot(ax=ax2, lw = 3, color = color)\n",
    "ax2.set_ylabel('Validaion ROC-AUC')\n",
    "ax2.set_xlabel('Epochs')\n",
    "ax2.set_ylim(0.85, 0.99)\n",
    "\n",
    "fig.tight_layout()\n",
    "plt.subplots_adjust(left=None, bottom=None, right=None, top=None, wspace=0.3)\n",
    "plt.savefig('5FCV_valid_covid19.png', bbox_inches='tight', dpi=400)"
   ]
  },
  {
   "cell_type": "code",
   "execution_count": 19,
   "metadata": {
    "tags": []
   },
   "outputs": [],
   "source": [
    "dfr = pd.read_csv('./5FCV_valid_covid19.csv',index_col=0)\n",
    "f = lambda x:[float(i) for i in x.replace(\"[\",'').replace(\"]\",'').split(',')]\n",
    "dfr['roc_auc'] = dfr['roc_auc'].apply(f)\n",
    "dfr['val_roc_auc'] = dfr['val_roc_auc'].apply(f)\n",
    "dfr['val_loss'] = dfr['val_loss'].apply(f)\n",
    "dfr['loss'] = dfr['loss'].apply(f)"
   ]
  },
  {
   "cell_type": "code",
   "execution_count": 16,
   "metadata": {},
   "outputs": [],
   "source": [
    "color = sns.color_palette(\"rainbow_r\", len(dfr.c.unique())) #PiYG"
   ]
  },
  {
   "cell_type": "code",
   "execution_count": 24,
   "metadata": {},
   "outputs": [
    {
     "data": {
      "image/png": "[encoded data removed]",
      "text/plain": [
       "<Figure size 648x432 with 1 Axes>"
      ]
     },
     "metadata": {},
     "output_type": "display_data"
    }
   ],
   "source": [
    "sns.set(style = 'white', font_scale=2)\n",
    "\n",
    "fig, axes = plt.subplots(nrows=1, ncols=1, figsize=(9,6), sharex=False, sharey=False, )\n",
    "ax2 = axes        \n",
    "\n",
    "col = 'val_roc_auc'\n",
    "acc_mean = dfr.groupby(['c']).agg({col: lambda x:x.tolist()})[col].apply(lambda x: np.array(x).mean(axis=0)).apply(pd.Series).T\n",
    "acc_std = dfr.groupby(['c']).agg({col: lambda x:x.tolist()})[col].apply(lambda x: np.array(x).std(axis=0)).apply(pd.Series).T\n",
    "\n",
    "\n",
    "acc_mean.columns.name = 'Channels'\n",
    "acc_std.columns.name = 'Channels'\n",
    "\n",
    "acc_mean.plot(ax=ax2, lw = 3, color = color)\n",
    "ax2.set_ylabel('Validaion ROC-AUC')\n",
    "ax2.set_xlabel('Epochs')\n",
    "ax2.set_ylim(0.85, 0.99)\n",
    "#plt.title('COVMS')\n",
    "\n",
    "ax2.tick_params(bottom='on', left='off',  labelleft='on', labelbottom='on', pad=-.6,)\n",
    "sns.despine(top=True, right=True, left=False, bottom=False)\n",
    "\n",
    "fig.tight_layout()\n",
    "plt.subplots_adjust(left=None, bottom=None, right=None, top=None, wspace=0.3)\n",
    "#plt.savefig('5FCV_valid_acc.pdf', bbox_inches='tight', dpi=400)\n",
    "\n",
    "ax2.legend(loc='lower right')\n",
    "plt.savefig('5FCV_valid_covid19_AUC.pdf', bbox_inches='tight', dpi=400)"
   ]
  },
  {
   "cell_type": "code",
   "execution_count": null,
   "metadata": {},
   "outputs": [],
   "source": []
  },
  {
   "cell_type": "code",
   "execution_count": null,
   "metadata": {},
   "outputs": [],
   "source": []
  },
  {
   "cell_type": "code",
   "execution_count": null,
   "metadata": {},
   "outputs": [],
   "source": []
  },
  {
   "cell_type": "code",
   "execution_count": null,
   "metadata": {},
   "outputs": [],
   "source": []
  },
  {
   "cell_type": "code",
   "execution_count": null,
   "metadata": {},
   "outputs": [],
   "source": []
  }
 ],
 "metadata": {
  "kernelspec": {
   "display_name": "Python 3",
   "language": "python",
   "name": "python3"
  },
  "language_info": {
   "codemirror_mode": {
    "name": "ipython",
    "version": 3
   },
   "file_extension": ".py",
   "mimetype": "text/x-python",
   "name": "python",
   "nbconvert_exporter": "python",
   "pygments_lexer": "ipython3",
   "version": "3.6.10"
  }
 },
 "nbformat": 4,
 "nbformat_minor": 4
}
