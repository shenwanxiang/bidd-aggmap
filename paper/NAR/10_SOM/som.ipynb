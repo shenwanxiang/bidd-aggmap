{
 "cells": [
  {
   "cell_type": "code",
   "execution_count": 53,
   "id": "2348d74d-b6cb-4974-a916-da968e8b2fd7",
   "metadata": {},
   "outputs": [],
   "source": [
    "import pandas as pd"
   ]
  },
  {
   "cell_type": "code",
   "execution_count": 77,
   "id": "873b745b-9f4e-414e-a878-4b6278ce6736",
   "metadata": {},
   "outputs": [],
   "source": [
    "from minisom import MiniSom\n",
    "\n",
    "import numpy as np\n",
    "import matplotlib.pyplot as plt\n",
    "%matplotlib inline\n",
    "\n",
    "from sklearn import datasets\n",
    "from sklearn.preprocessing import scale\n",
    "\n",
    "import seaborn as sns"
   ]
  },
  {
   "cell_type": "code",
   "execution_count": 91,
   "id": "6b76167a-0fc7-4933-91ed-df5e9999d3c5",
   "metadata": {},
   "outputs": [],
   "source": [
    "# load the digits dataset from scikit-learn\n",
    "digits = datasets.load_digits(n_class=10)\n",
    "data = digits.data  # matrix where each row is a vector that represent a digit.\n",
    "data = scale(data)\n",
    "dfx = pd.DataFrame(data)\n",
    "num = digits.target  # num[i] is the digit represented by data[i]\n",
    "cols = dfx.columns.tolist()\n",
    "np.random.shuffle(cols)\n",
    "dfx1 = dfx[cols]\n",
    "\n",
    "X = dfx1.T.values\n"
   ]
  },
  {
   "cell_type": "code",
   "execution_count": 122,
   "id": "78db08aa-2d47-4225-b155-f20a7106370a",
   "metadata": {
    "tags": []
   },
   "outputs": [
    {
     "name": "stderr",
     "output_type": "stream",
     "text": [
      "/home/shenwanxiang/anaconda3/envs/molmap/lib/python3.6/site-packages/minisom.py:370: ComplexWarning: Casting complex values to real discards the imaginary part\n",
      "  self._weights[i, j] = c1*pc[pc_order[0]] + c2*pc[pc_order[1]]\n"
     ]
    },
    {
     "name": "stdout",
     "output_type": "stream",
     "text": [
      " [ 10000 / 10000 ] 100% - 0:00:00 left \n",
      " quantization error: 16.10853863033332\n"
     ]
    },
    {
     "name": "stderr",
     "output_type": "stream",
     "text": [
      "/home/shenwanxiang/anaconda3/envs/molmap/lib/python3.6/site-packages/minisom.py:486: RuntimeWarning: invalid value encountered in sqrt\n",
      "  return sqrt(-2 * cross_term + input_data_sq + weights_flat_sq.T)\n"
     ]
    }
   ],
   "source": [
    "\n",
    "som = MiniSom(8, 8, 1797, sigma=1, learning_rate=0.5, neighborhood_function='triangle')\n",
    "som.pca_weights_init(X)\n",
    "som.train(X, 10000, random_order=True, verbose=True)  # random training"
   ]
  },
  {
   "cell_type": "code",
   "execution_count": null,
   "id": "7f3ee5b3-d9d8-4c6f-b9a4-09f7a74a3083",
   "metadata": {},
   "outputs": [],
   "source": []
  },
  {
   "cell_type": "code",
   "execution_count": 123,
   "id": "0d34fd44-335d-41a8-b777-b9aa8c9ed020",
   "metadata": {},
   "outputs": [],
   "source": [
    "wp = []\n",
    "for i, x in enumerate(X):\n",
    "    x,y = som.winner(x)\n",
    "    wp.append([x, y, i])"
   ]
  },
  {
   "cell_type": "code",
   "execution_count": 124,
   "id": "0db0988b-950b-4397-b739-df67b310c3de",
   "metadata": {},
   "outputs": [],
   "source": [
    "idx = pd.DataFrame(wp).sort_values([0, 1])[2].tolist()"
   ]
  },
  {
   "cell_type": "code",
   "execution_count": 125,
   "id": "721e93bb-36c1-4efa-9336-c9fdadd9ede2",
   "metadata": {},
   "outputs": [
    {
     "data": {
      "text/plain": [
       "<matplotlib.image.AxesImage at 0x7f05807fa710>"
      ]
     },
     "execution_count": 125,
     "metadata": {},
     "output_type": "execute_result"
    },
    {
     "data": {
      "image/png": "[encoded data removed]",
      "text/plain": [
       "<Figure size 432x288 with 1 Axes>"
      ]
     },
     "metadata": {
      "needs_background": "light"
     },
     "output_type": "display_data"
    }
   ],
   "source": [
    "plt.imshow(X[:, 12].reshape(8,8))"
   ]
  },
  {
   "cell_type": "code",
   "execution_count": 130,
   "id": "4690a7be-d8e3-4016-b7e1-585e3f305804",
   "metadata": {},
   "outputs": [
    {
     "data": {
      "text/plain": [
       "<matplotlib.image.AxesImage at 0x7f0580750c18>"
      ]
     },
     "execution_count": 130,
     "metadata": {},
     "output_type": "execute_result"
    },
    {
     "data": {
      "image/png": "[encoded data removed]",
      "text/plain": [
       "<Figure size 432x288 with 1 Axes>"
      ]
     },
     "metadata": {
      "needs_background": "light"
     },
     "output_type": "display_data"
    }
   ],
   "source": [
    "plt.imshow(dfx1.values[19][idx].reshape(8,8))"
   ]
  },
  {
   "cell_type": "code",
   "execution_count": 76,
   "id": "42e7af1f-a5a4-4344-ba1f-e97eeb4871ac",
   "metadata": {},
   "outputs": [
    {
     "data": {
      "image/png": "[encoded data removed]",
      "text/plain": [
       "<Figure size 576x576 with 1 Axes>"
      ]
     },
     "metadata": {
      "needs_background": "light"
     },
     "output_type": "display_data"
    }
   ],
   "source": [
    "plt.figure(figsize=(8, 8))\n",
    "wmap = {}\n",
    "im = 0\n",
    "for x, t in zip(data.T, num):  # scatterplot\n",
    "    w = som.winner(x)\n",
    "    wmap[w] = im\n",
    "    plt. text(w[0],  w[1],  str(t),\n",
    "              color=plt.cm.rainbow(t / 10.), fontdict={'weight': 'bold',  'size': 11})\n",
    "    im = im + 1\n",
    "plt.axis([0, som.get_weights().shape[0], 0,  som.get_weights().shape[1]])\n",
    "# plt.savefig('resulting_images/som_digts.png')\n",
    "plt.show()"
   ]
  },
  {
   "cell_type": "code",
   "execution_count": 134,
   "id": "0d2da8a7-6c81-4f0a-9fcb-4fde4b58f4c8",
   "metadata": {},
   "outputs": [
    {
     "data": {
      "text/plain": [
       "<AxesSubplot:>"
      ]
     },
     "execution_count": 134,
     "metadata": {},
     "output_type": "execute_result"
    },
    {
     "data": {
      "image/png": "[encoded data removed]",
      "text/plain": [
       "<Figure size 432x288 with 2 Axes>"
      ]
     },
     "metadata": {
      "needs_background": "light"
     },
     "output_type": "display_data"
    }
   ],
   "source": [
    "sns.heatmap(som.distance_map())"
   ]
  },
  {
   "cell_type": "code",
   "execution_count": null,
   "id": "bb243b2c-4867-446b-b6c6-e0bc56c1615f",
   "metadata": {},
   "outputs": [],
   "source": []
  }
 ],
 "metadata": {
  "kernelspec": {
   "display_name": "Python 3",
   "language": "python",
   "name": "python3"
  },
  "language_info": {
   "codemirror_mode": {
    "name": "ipython",
    "version": 3
   },
   "file_extension": ".py",
   "mimetype": "text/x-python",
   "name": "python",
   "nbconvert_exporter": "python",
   "pygments_lexer": "ipython3",
   "version": "3.6.10"
  }
 },
 "nbformat": 4,
 "nbformat_minor": 5
}
