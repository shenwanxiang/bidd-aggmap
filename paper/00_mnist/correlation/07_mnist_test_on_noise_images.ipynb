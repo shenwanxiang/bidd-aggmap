{
 "cells": [
  {
   "cell_type": "code",
   "execution_count": 157,
   "metadata": {},
   "outputs": [],
   "source": [
    "import matplotlib.pyplot as plt\n",
    "from joblib import load, dump\n",
    "from sklearn.model_selection import train_test_split\n",
    "from sklearn.metrics import accuracy_score, classification_report\n",
    "import pandas as pd\n",
    "import numpy as np\n",
    "import warnings, os\n",
    "from glob import glob\n",
    "from sklearn.utils import shuffle\n",
    "\n",
    "import seaborn as sns\n",
    "import scipy.stats as stats\n",
    "import tensorflow as tf\n",
    "\n",
    "import aggmap\n",
    "from aggmap import loadmap, aggmodel\n",
    "\n",
    "\n",
    "import os\n",
    "os.environ[\"CUDA_VISIBLE_DEVICES\"]=\"4\"\n",
    "sns.set(style= 'white',font_scale = 1.2)\n",
    "\n",
    "## fix random seed to get repeatale results\n",
    "seed = 666\n",
    "np.random.seed(seed)\n",
    "tf.compat.v1.set_random_seed(seed)\n",
    "warnings.filterwarnings(\"ignore\")"
   ]
  },
  {
   "cell_type": "code",
   "execution_count": 2,
   "metadata": {},
   "outputs": [],
   "source": [
    "(x_train, y_train), (x_test, y_test) = tf.keras.datasets.mnist.load_data() #(x_train, y_train), (x_test, y_test)\n",
    "mnist_labels_dict = {0: '0', 1: '1',2: '2', 3:'3',4: '4', 5: '5', 6: '6', 7:'7', 8:'8', 9:'9'}\n",
    "testY = pd.get_dummies(y_test).values.astype(float)\n",
    "shuffled_cols = shuffle(range(784), random_state=7) #the training shufffle random seed is 7, so do not change this"
   ]
  },
  {
   "cell_type": "code",
   "execution_count": 3,
   "metadata": {},
   "outputs": [],
   "source": [
    "results_save_folder = './imgs'\n",
    "data_save_folder = '/raid/shenwanxiang/aggmap/mnist/correlation/'\n",
    "\n",
    "mp_ORSAgg1 = loadmap(os.path.join(data_save_folder, 'mp_ORSAgg1.mp'))\n",
    "mp_ORSAggC4 = loadmap(os.path.join(data_save_folder, 'mp_ORSAggC4.mp'))\n",
    "mp_ORSAggC10 = loadmap(os.path.join(data_save_folder, 'mp_ORSAggC10.mp'))\n",
    "mp_ORSAggV4 = loadmap(os.path.join(data_save_folder, 'mp_ORSAggV4.mp'))"
   ]
  },
  {
   "cell_type": "code",
   "execution_count": 4,
   "metadata": {},
   "outputs": [],
   "source": [
    "model_OR1 = tf.keras.models.load_model('./model_results/model_OR1.h5')\n",
    "model_ORS1 = tf.keras.models.load_model('./model_results/model_ORS1.h5')\n",
    "model_ORSAgg1 = tf.keras.models.load_model('./model_results/model_ORSAgg1.h5')\n",
    "model_ORSAggC4 = tf.keras.models.load_model('./model_results/model_ORSAggC4.h5')\n",
    "model_ORSAggC10 = tf.keras.models.load_model('./model_results/model_ORSAggC10.h5')\n",
    "model_ORSAggV4 = tf.keras.models.load_model('./model_results/model_ORSAggV4.h5')"
   ]
  },
  {
   "cell_type": "code",
   "execution_count": 13,
   "metadata": {},
   "outputs": [
    {
     "data": {
      "text/plain": [
       "4"
      ]
     },
     "execution_count": 13,
     "metadata": {},
     "output_type": "execute_result"
    }
   ],
   "source": [
    "mp_ORSAggC4.cluster_channels"
   ]
  },
  {
   "cell_type": "code",
   "execution_count": 32,
   "metadata": {},
   "outputs": [
    {
     "name": "stderr",
     "output_type": "stream",
     "text": [
      "100%|##########| 10000/10000 [00:35<00:00, 278.60it/s]\n",
      "100%|##########| 10000/10000 [00:35<00:00, 281.64it/s]\n",
      "100%|##########| 10000/10000 [00:42<00:00, 235.02it/s]\n",
      "100%|##########| 10000/10000 [00:41<00:00, 238.31it/s]\n",
      "100%|##########| 10000/10000 [00:42<00:00, 234.44it/s]\n",
      "100%|##########| 10000/10000 [00:42<00:00, 234.67it/s]\n",
      "100%|##########| 10000/10000 [00:42<00:00, 236.24it/s]\n",
      "100%|##########| 10000/10000 [00:43<00:00, 229.73it/s]\n",
      "100%|##########| 10000/10000 [00:43<00:00, 229.48it/s]\n",
      "100%|##########| 10000/10000 [00:43<00:00, 231.33it/s]\n",
      "100%|##########| 10000/10000 [00:43<00:00, 231.97it/s]\n",
      "100%|##########| 10000/10000 [00:42<00:00, 232.95it/s]\n",
      "100%|##########| 10000/10000 [00:42<00:00, 233.23it/s]\n",
      "100%|##########| 10000/10000 [00:43<00:00, 232.05it/s]\n",
      "100%|##########| 10000/10000 [00:42<00:00, 236.20it/s]\n",
      "100%|##########| 10000/10000 [00:42<00:00, 237.71it/s]\n",
      "100%|##########| 10000/10000 [00:43<00:00, 229.58it/s]\n",
      "100%|##########| 10000/10000 [00:35<00:00, 281.78it/s]\n",
      "100%|##########| 10000/10000 [00:36<00:00, 274.41it/s]\n",
      "100%|##########| 10000/10000 [00:41<00:00, 238.67it/s]\n",
      "100%|##########| 10000/10000 [00:35<00:00, 279.96it/s]\n"
     ]
    }
   ],
   "source": [
    "def gauss_noisy(X, c = 0.38):\n",
    "    ''' \n",
    "    X: 4D array, n,w,h,c\n",
    "    '''\n",
    "    X = X/255.\n",
    "    np.random.seed(123)\n",
    "    X = np.clip(X + np.random.normal(size = X.shape, scale = c), 0, 1) * 255\n",
    "    return X\n",
    "\n",
    "stddevs = np.arange(0, 0.8, 0.12)\n",
    "\n",
    "testX_noisys = []\n",
    "testX_noisy_names = []\n",
    "for stddev in stddevs:\n",
    "    testX = x_test.reshape(-1, 28,28, 1)\n",
    "    testX_noisy = gauss_noisy(testX, c = stddev)\n",
    "    testX_noisys.append(testX_noisy)\n",
    "    testX_noisy_names.append('stddev: %.2f' % stddev)\n",
    "    \n",
    "\n",
    "testX_noisys_shuffle = []\n",
    "for testX_noisy in testX_noisys:\n",
    "    testX_noisy = testX_noisy.reshape(-1, 28*28)\n",
    "    testX_noisy = testX_noisy.T[shuffled_cols].T.reshape(-1, 28,28, 1)\n",
    "    testX_noisys_shuffle.append(testX_noisy)\n",
    "    \n",
    "    \n",
    "testX_noisys_shuffle_ORSAgg1 = []\n",
    "for testX_noisy_shuffle in testX_noisys_shuffle:\n",
    "    testX_noisy_shuffle = testX_noisy_shuffle.reshape(-1, 28*28)\n",
    "    testX_noisy_shuffle = mp_ORSAgg1.batch_transform(testX_noisy_shuffle, scale = False, n_jobs=10)\n",
    "    testX_noisy_shuffle = testX_noisy_shuffle.reshape(-1, mp_ORSAgg1.fmap_shape[0],mp_ORSAgg1.fmap_shape[1], 1)\n",
    "    testX_noisys_shuffle_ORSAgg1.append(testX_noisy_shuffle)\n",
    "    \n",
    "testX_noisys_shuffle_ORSAggC4 = []\n",
    "for testX_noisy_shuffle in testX_noisys_shuffle:\n",
    "    testX_noisy_shuffle = testX_noisy_shuffle.reshape(-1, 28*28)\n",
    "    testX_noisy_shuffle = mp_ORSAggC4.batch_transform(testX_noisy_shuffle, scale = False, n_jobs=10)\n",
    "    testX_noisy_shuffle = testX_noisy_shuffle.reshape(-1, mp_ORSAggC4.fmap_shape[0],mp_ORSAggC4.fmap_shape[1], 4)\n",
    "    testX_noisys_shuffle_ORSAggC4.append(testX_noisy_shuffle)\n",
    "    \n",
    "testX_noisys_shuffle_ORSAggC10 = []\n",
    "for testX_noisy_shuffle in testX_noisys_shuffle:\n",
    "    testX_noisy_shuffle = testX_noisy_shuffle.reshape(-1, 28*28)\n",
    "    testX_noisy_shuffle = mp_ORSAggC10.batch_transform(testX_noisy_shuffle, scale = False, n_jobs=10)\n",
    "    testX_noisy_shuffle = testX_noisy_shuffle.reshape(-1, mp_ORSAggC10.fmap_shape[0],mp_ORSAggC10.fmap_shape[1], 10)\n",
    "    testX_noisys_shuffle_ORSAggC10.append(testX_noisy_shuffle)\n",
    "    \n",
    "\n",
    "testX_noisys_shuffle_ORSAggV4 = []\n",
    "for testX_noisy_shuffle in testX_noisys_shuffle:\n",
    "    testX_noisy_shuffle = testX_noisy_shuffle.reshape(-1, 28*28)\n",
    "    testX_noisy_shuffle = mp_ORSAggV4.batch_transform(testX_noisy_shuffle, scale = False, n_jobs=10)\n",
    "    testX_noisy_shuffle = testX_noisy_shuffle.reshape(-1, mp_ORSAggV4.fmap_shape[0],mp_ORSAggV4.fmap_shape[1], 4)\n",
    "    testX_noisys_shuffle_ORSAggV4.append(testX_noisy_shuffle)"
   ]
  },
  {
   "cell_type": "code",
   "execution_count": null,
   "metadata": {},
   "outputs": [],
   "source": []
  },
  {
   "cell_type": "code",
   "execution_count": 218,
   "metadata": {},
   "outputs": [],
   "source": [
    "acc = []\n",
    "loss = []\n",
    "for xor,xors, xagg1, xaggc4, xaggc10, xaggv4 in zip(testX_noisys, \n",
    "                                                    testX_noisys_shuffle,\n",
    "                                                    testX_noisys_shuffle_ORSAgg1, \n",
    "                                                    testX_noisys_shuffle_ORSAggC4, \n",
    "                                                    testX_noisys_shuffle_ORSAggC10, \n",
    "                                                    testX_noisys_shuffle_ORSAggV4):\n",
    "    ls1, acc1 = model_OR1.evaluate(xor/255., testY, verbose = 0)\n",
    "    ls2, acc2 = model_ORS1.evaluate(xors/255., testY, verbose = 0)\n",
    "    ls3, acc3 = model_ORSAgg1.evaluate(xagg1/255., testY, verbose = 0)\n",
    "\n",
    "    ls4, acc4 = model_ORSAggC4.evaluate(xaggc4/255., testY, verbose = 0)\n",
    "    ls5, acc5 = model_ORSAggC10.evaluate(xaggc10/255., testY, verbose = 0)\n",
    "    \n",
    "    ls6, acc6 = model_ORSAggV4.evaluate(xaggv4/255., testY, verbose = 0)    \n",
    "    \n",
    "    \n",
    "    acc.append([acc1, acc2, acc3, acc4, acc5, acc6])\n",
    "    loss.append([ls1, ls2, ls3, ls4, ls5, ls6])"
   ]
  },
  {
   "cell_type": "code",
   "execution_count": 292,
   "metadata": {},
   "outputs": [],
   "source": [
    "index = [\"%.2f\" % i for i in stddevs] \n",
    "\n",
    "df1 = pd.DataFrame(acc, columns = ['OR1', 'ORS1', 'ORSAgg1', 'ORSAggC4', 'ORSAggC10', 'ORSAggV4'], index = index)\n",
    "df2 = pd.DataFrame(loss, columns = ['OR1', 'ORS1', 'ORSAgg1', 'ORSAggC4', 'ORSAggC10', 'ORSAggV4'], index = index)\n",
    "\n",
    "df1.index.name = 'Guassian noise stddev'\n",
    "df2.index.name = 'Guassian noise stddev'\n",
    "\n",
    "df1.to_csv(os.path.join(results_save_folder, 'performance_test_gauss_acc.csv'))\n",
    "df2.to_csv(os.path.join(results_save_folder, 'performance_test_gauss_loss.csv'))"
   ]
  },
  {
   "cell_type": "code",
   "execution_count": null,
   "metadata": {},
   "outputs": [],
   "source": []
  },
  {
   "cell_type": "code",
   "execution_count": 296,
   "metadata": {},
   "outputs": [],
   "source": [
    "select = ['OR1',  'ORSAggC4'] \n",
    "df1 = df1[select]\n",
    "df2 = df2[select]"
   ]
  },
  {
   "cell_type": "code",
   "execution_count": 304,
   "metadata": {},
   "outputs": [
    {
     "data": {
      "image/png": "[encoded data removed]",
      "text/plain": [
       "<Figure size 432x72 with 1 Axes>"
      ]
     },
     "metadata": {},
     "output_type": "display_data"
    }
   ],
   "source": [
    "cols = df1.mean().sort_values().index\n",
    "\n",
    "c = sns.color_palette(\"rainbow_r\", 6).as_hex()\n",
    "color = [c[1], c[2]]\n",
    "sns.palplot(c)"
   ]
  },
  {
   "cell_type": "code",
   "execution_count": 306,
   "metadata": {},
   "outputs": [
    {
     "data": {
      "image/png": "[encoded data removed]",
      "text/plain": [
       "<Figure size 1296x432 with 2 Axes>"
      ]
     },
     "metadata": {},
     "output_type": "display_data"
    }
   ],
   "source": [
    "fig, axes = plt.subplots(nrows=1, ncols=2, figsize=(18,6), sharex=False, sharey=False, )\n",
    "ax2, ax1 = axes        \n",
    "\n",
    "df1[cols].plot(kind = 'line',  color = color, ax = ax1, legend = False)\n",
    "df1[cols].plot(kind = 'bar',  color = color, ax = ax1)\n",
    "for x,y in enumerate(df1.index):\n",
    "    m1 = df1.iloc[x].iloc[0]\n",
    "    m2 = df1.iloc[x].iloc[1]\n",
    "    v = '%.2f vs. %.2f' % (m1,m2)\n",
    "    if x >= 2:\n",
    "        ax1.annotate(v, xy = (x-0.5, df1.iloc[x].mean() +0.001), fontsize= 10)\n",
    "    \n",
    "    \n",
    "ax1.set_ylabel('Test accuracy')\n",
    "ax1.set_xticklabels(labels = df1.index,rotation=45, ha = 'right')\n",
    "\n",
    "df2[cols].plot(kind = 'line',  color = color, ax = ax2, legend = False)\n",
    "df2[cols].plot(kind = 'bar', color = color, ax = ax2)\n",
    "\n",
    "\n",
    "for x,y in enumerate(df2.index):\n",
    "    m1 = df2.iloc[x].iloc[0]\n",
    "    m2 = df2.iloc[x].iloc[1]\n",
    "    v = '%.2f vs. %.2f' % (m1,m2)\n",
    "    if x >= 2:\n",
    "        ax2.annotate(v, xy = (x-0.5, df2.iloc[x].mean()), fontsize= 10)\n",
    "    \n",
    "    \n",
    "# for x,y in enumerate(df2.values):\n",
    "#     ax2.annotate('%.3f' % y, xy = (x-0.25, y+0.002))\n",
    "ax2.set_ylabel('Test loss')\n",
    "ax2.set_xticklabels(labels = df2.index,rotation=45, ha = 'right')\n",
    "\n",
    "plt.savefig(os.path.join(results_save_folder, 'performance_Guassian_Noise_test.png'), bbox_inches='tight', dpi=300)"
   ]
  },
  {
   "cell_type": "code",
   "execution_count": null,
   "metadata": {},
   "outputs": [],
   "source": []
  },
  {
   "cell_type": "code",
   "execution_count": null,
   "metadata": {},
   "outputs": [],
   "source": []
  },
  {
   "cell_type": "code",
   "execution_count": null,
   "metadata": {},
   "outputs": [],
   "source": []
  },
  {
   "cell_type": "code",
   "execution_count": null,
   "metadata": {},
   "outputs": [],
   "source": []
  },
  {
   "cell_type": "code",
   "execution_count": 266,
   "metadata": {},
   "outputs": [
    {
     "data": {
      "text/html": [
       "<div>\n",
       "<style scoped>\n",
       "    .dataframe tbody tr th:only-of-type {\n",
       "        vertical-align: middle;\n",
       "    }\n",
       "\n",
       "    .dataframe tbody tr th {\n",
       "        vertical-align: top;\n",
       "    }\n",
       "\n",
       "    .dataframe thead th {\n",
       "        text-align: right;\n",
       "    }\n",
       "</style>\n",
       "<table border=\"1\" class=\"dataframe\">\n",
       "  <thead>\n",
       "    <tr style=\"text-align: right;\">\n",
       "      <th></th>\n",
       "      <th>OR1</th>\n",
       "      <th>ORSAggC4</th>\n",
       "    </tr>\n",
       "    <tr>\n",
       "      <th>Guassian noise stddev</th>\n",
       "      <th></th>\n",
       "      <th></th>\n",
       "    </tr>\n",
       "  </thead>\n",
       "  <tbody>\n",
       "    <tr>\n",
       "      <th>0.00</th>\n",
       "      <td>0.9927</td>\n",
       "      <td>0.9889</td>\n",
       "    </tr>\n",
       "    <tr>\n",
       "      <th>0.12</th>\n",
       "      <td>0.9927</td>\n",
       "      <td>0.9889</td>\n",
       "    </tr>\n",
       "    <tr>\n",
       "      <th>0.24</th>\n",
       "      <td>0.9647</td>\n",
       "      <td>0.9742</td>\n",
       "    </tr>\n",
       "    <tr>\n",
       "      <th>0.36</th>\n",
       "      <td>0.6416</td>\n",
       "      <td>0.8559</td>\n",
       "    </tr>\n",
       "    <tr>\n",
       "      <th>0.48</th>\n",
       "      <td>0.3147</td>\n",
       "      <td>0.5212</td>\n",
       "    </tr>\n",
       "    <tr>\n",
       "      <th>0.60</th>\n",
       "      <td>0.1646</td>\n",
       "      <td>0.2771</td>\n",
       "    </tr>\n",
       "    <tr>\n",
       "      <th>0.72</th>\n",
       "      <td>0.1155</td>\n",
       "      <td>0.1741</td>\n",
       "    </tr>\n",
       "  </tbody>\n",
       "</table>\n",
       "</div>"
      ],
      "text/plain": [
       "                          OR1  ORSAggC4\n",
       "Guassian noise stddev                  \n",
       "0.00                   0.9927    0.9889\n",
       "0.12                   0.9927    0.9889\n",
       "0.24                   0.9647    0.9742\n",
       "0.36                   0.6416    0.8559\n",
       "0.48                   0.3147    0.5212\n",
       "0.60                   0.1646    0.2771\n",
       "0.72                   0.1155    0.1741"
      ]
     },
     "execution_count": 266,
     "metadata": {},
     "output_type": "execute_result"
    }
   ],
   "source": [
    "df1"
   ]
  },
  {
   "cell_type": "code",
   "execution_count": null,
   "metadata": {},
   "outputs": [],
   "source": []
  },
  {
   "cell_type": "code",
   "execution_count": 181,
   "metadata": {},
   "outputs": [],
   "source": [
    "import sys,os\n",
    "import pandas as pd\n",
    "import numpy as np\n",
    "import warnings\n",
    "\n",
    "import tensorflow as tf\n",
    "from sklearn.utils import shuffle\n",
    "from joblib import load, dump\n",
    "from itertools import chain\n",
    "import matplotlib.pyplot as plt\n",
    "import seaborn as sns\n",
    "\n",
    "from aggmap import AggMap\n",
    "import aggmap\n",
    "\n",
    "warnings.filterwarnings(\"ignore\")\n",
    "\n",
    "def imshow(x_arr,  ax,  color_list = ['#ff0c00','#25ff00', '#1300ff','#d000ff','#e2ff00', \n",
    "              '#00fff6', '#ff8800', '#fccde5','#178b66', '#8a0075'], x_max = 255, vmin = -1, vmax = 1,):\n",
    "    \n",
    "    \n",
    "    assert x_arr.ndim == 3, 'input must be 3d array!'\n",
    "    w, h, c = x_arr.shape\n",
    "    assert len(color_list) >= c, 'length of the color list should equal or larger than channel numbers'\n",
    "    \n",
    "    x = x_arr.copy()\n",
    "    x[x == 0] = 'nan'\n",
    "\n",
    "    xxx = x_arr.sum(axis=-1)\n",
    "    xxx[xxx != 0] = 'nan'\n",
    "        \n",
    "    \n",
    "    cmaps = [sns.light_palette(color, n_colors =  100, reverse=False) for color in color_list]\n",
    "\n",
    "    for i in range(c):\n",
    "        data = x[:,:,i]/x_max\n",
    "        sns.heatmap(data, cmap = cmaps[i],  vmin = vmin, vmax = vmax,  \n",
    "                    yticklabels=False, xticklabels=False, cbar=False, ax=ax, ) # linewidths=0.005, linecolor = '0.9'\n",
    "\n",
    "    sns.heatmap(xxx, vmin=0, vmax=1, cmap = 'Greys', yticklabels=False, xticklabels=False, cbar=False, ax=ax)\n",
    "    #-100000\n",
    "    \n",
    "    ax.axhline(y=0, color='grey',lw=2, ls =  '--')\n",
    "    ax.axhline(y=data.shape[0], color='grey',lw=2, ls =  '--')\n",
    "    \n",
    "    ax.autoscale()\n",
    "    ax.axvline(x=data.shape[1], color='grey',lw=2, ls =  '--')  \n",
    "    ax.axvline(x=0, color='grey',lw=2, ls =  '--')\n",
    "\n",
    "\n",
    "def imshow_wrap(x):\n",
    "    fig, ax = plt.subplots(figsize=(4,4))\n",
    "    imshow(x.astype(float), ax=ax, x_max = 255, vmin = -0.001, vmax=1)\n",
    "    \n",
    "\n",
    "def tracked_orignal_change(orignal_image, new_mp):\n",
    "    \n",
    "    #mp = mp_ORSAggS4\n",
    "    #orignal_image = trainX_OR1[0]\n",
    "    df = new_mp._S.df.copy()\n",
    "    SI = df.groupby('Subtypes').apply(lambda x:x.index.to_list())\n",
    "    M, N, C = orignal_image.shape\n",
    "    v = orignal_image.reshape(M*N*C, )\n",
    "    arr_res = []\n",
    "    for i, j in SI.items():\n",
    "        j = [int(k.replace('p-',''))-1 for k in j]\n",
    "        arr_1d = np.zeros(M*N, )\n",
    "        arr_1d[j] = v[j]\n",
    "        arr = arr_1d.reshape(M, N)  \n",
    "        arr_res.append(arr)\n",
    "    arr_tracked = np.stack(arr_res, axis=-1)\n",
    "    return arr_tracked\n"
   ]
  },
  {
   "cell_type": "code",
   "execution_count": 184,
   "metadata": {},
   "outputs": [
    {
     "data": {
      "text/plain": [
       "(27, 27, 1)"
      ]
     },
     "execution_count": 184,
     "metadata": {},
     "output_type": "execute_result"
    }
   ],
   "source": [
    "testX_noisys_shuffle_ORSAgg1[4][0].shape"
   ]
  },
  {
   "cell_type": "code",
   "execution_count": 205,
   "metadata": {},
   "outputs": [
    {
     "data": {
      "image/png": "[encoded data removed]",
      "text/plain": [
       "<Figure size 288x288 with 1 Axes>"
      ]
     },
     "metadata": {},
     "output_type": "display_data"
    }
   ],
   "source": [
    "imshow_wrap(testX_noisys_shuffle_ORSAggC4[2][132])"
   ]
  },
  {
   "cell_type": "code",
   "execution_count": 206,
   "metadata": {},
   "outputs": [
    {
     "data": {
      "image/png": "[encoded data removed]",
      "text/plain": [
       "<Figure size 288x288 with 1 Axes>"
      ]
     },
     "metadata": {},
     "output_type": "display_data"
    }
   ],
   "source": [
    "imshow_wrap(testX_noisys[2][132])"
   ]
  },
  {
   "cell_type": "code",
   "execution_count": null,
   "metadata": {},
   "outputs": [],
   "source": []
  },
  {
   "cell_type": "code",
   "execution_count": null,
   "metadata": {},
   "outputs": [],
   "source": []
  },
  {
   "cell_type": "code",
   "execution_count": 25,
   "metadata": {},
   "outputs": [],
   "source": []
  },
  {
   "cell_type": "code",
   "execution_count": 26,
   "metadata": {},
   "outputs": [],
   "source": []
  },
  {
   "cell_type": "code",
   "execution_count": null,
   "metadata": {},
   "outputs": [],
   "source": []
  }
 ],
 "metadata": {
  "kernelspec": {
   "display_name": "Python 3",
   "language": "python",
   "name": "python3"
  },
  "language_info": {
   "codemirror_mode": {
    "name": "ipython",
    "version": 3
   },
   "file_extension": ".py",
   "mimetype": "text/x-python",
   "name": "python",
   "nbconvert_exporter": "python",
   "pygments_lexer": "ipython3",
   "version": "3.6.9"
  }
 },
 "nbformat": 4,
 "nbformat_minor": 4
}
