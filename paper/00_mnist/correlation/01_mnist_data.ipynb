{
 "cells": [
  {
   "cell_type": "code",
   "execution_count": 1,
   "metadata": {},
   "outputs": [],
   "source": [
    "import sys,os\n",
    "import pandas as pd\n",
    "import numpy as np\n",
    "import warnings\n",
    "\n",
    "import tensorflow as tf\n",
    "from sklearn.utils import shuffle\n",
    "from joblib import load, dump\n",
    "from itertools import chain\n",
    "import matplotlib.pyplot as plt\n",
    "import seaborn as sns\n",
    "\n",
    "from aggmap import AggMap\n",
    "import aggmap\n",
    "\n",
    "warnings.filterwarnings(\"ignore\")"
   ]
  },
  {
   "cell_type": "code",
   "execution_count": 2,
   "metadata": {},
   "outputs": [
    {
     "data": {
      "image/png": "[encoded data removed]",
      "text/plain": [
       "<Figure size 720x72 with 1 Axes>"
      ]
     },
     "metadata": {
      "needs_background": "light"
     },
     "output_type": "display_data"
    }
   ],
   "source": [
    "color_list = ['#ff0c00','#25ff00', '#1300ff','#d000ff','#e2ff00', \n",
    "              '#00fff6', '#ff8800', '#fccde5','#178b66', '#8a0075'] #colors for different channels\n",
    "sns.palplot(color_list)"
   ]
  },
  {
   "cell_type": "code",
   "execution_count": null,
   "metadata": {},
   "outputs": [],
   "source": []
  },
  {
   "cell_type": "code",
   "execution_count": 3,
   "metadata": {},
   "outputs": [],
   "source": [
    "data_save_folder = '/raid/shenwanxiang/aggmap/mnist/correlation/'\n",
    "\n",
    "metric = 'correlation' # similarity measurement\n",
    "var_thr = 0 # feature variance should larger than 0\n",
    "\n",
    "if not os.path.exists(data_save_folder):\n",
    "    os.makedirs(data_save_folder)"
   ]
  },
  {
   "cell_type": "code",
   "execution_count": 4,
   "metadata": {},
   "outputs": [],
   "source": [
    "(x_train, y_train), (x_test, y_test) = tf.keras.datasets.mnist.load_data() #(x_train, y_train), (x_test, y_test)\n",
    "mnist_labels_dict = {0: 0, 1: 1,2: 2, 3:3,4: 4, 5: 5, 6: 6, 7:7, 8:8, 9:9}"
   ]
  },
  {
   "cell_type": "code",
   "execution_count": null,
   "metadata": {},
   "outputs": [],
   "source": []
  },
  {
   "cell_type": "code",
   "execution_count": null,
   "metadata": {},
   "outputs": [],
   "source": []
  },
  {
   "cell_type": "markdown",
   "metadata": {},
   "source": [
    "## 1) orignal(c=1): OR1"
   ]
  },
  {
   "cell_type": "code",
   "execution_count": 5,
   "metadata": {},
   "outputs": [
    {
     "data": {
      "text/plain": [
       "['/raid/shenwanxiang/aggmap/mnist/correlation/01_X_OR1.data']"
      ]
     },
     "execution_count": 5,
     "metadata": {},
     "output_type": "execute_result"
    }
   ],
   "source": [
    "## 1) orignal(c=1): OR1\n",
    "_, w, h = x_train.shape\n",
    "trainX_OR1 = x_train.reshape(x_train.shape[0], w, h, 1)\n",
    "testX_OR1 = x_test.reshape(x_test.shape[0], w, h, 1)\n",
    "\n",
    "dump((trainX_OR1, testX_OR1),  os.path.join(data_save_folder, '01_X_OR1.data')) "
   ]
  },
  {
   "cell_type": "code",
   "execution_count": null,
   "metadata": {},
   "outputs": [],
   "source": []
  },
  {
   "cell_type": "markdown",
   "metadata": {},
   "source": [
    "# A. shuffle"
   ]
  },
  {
   "cell_type": "code",
   "execution_count": 6,
   "metadata": {},
   "outputs": [],
   "source": [
    "orignal_cols = ['p-%s' % str((i+1)).zfill(len(str(w*h))) for i in range(w*h)]\n",
    "x_train_df = pd.DataFrame(x_train.reshape(x_train.shape[0], w*h), columns = orignal_cols)\n",
    "x_test_df = pd.DataFrame(x_test.reshape(x_test.shape[0], w*h), columns = orignal_cols)\n",
    "shuffled_cols = shuffle(orignal_cols, random_state=7)\n",
    "x_train_df = x_train_df[shuffled_cols]\n",
    "x_test_df = x_test_df[shuffled_cols]"
   ]
  },
  {
   "cell_type": "code",
   "execution_count": null,
   "metadata": {},
   "outputs": [],
   "source": []
  },
  {
   "cell_type": "code",
   "execution_count": null,
   "metadata": {},
   "outputs": [],
   "source": []
  },
  {
   "cell_type": "markdown",
   "metadata": {},
   "source": [
    "## 2) ORS1: "
   ]
  },
  {
   "cell_type": "code",
   "execution_count": 7,
   "metadata": {},
   "outputs": [
    {
     "data": {
      "text/plain": [
       "['/raid/shenwanxiang/aggmap/mnist/correlation/02_X_ORS1.data']"
      ]
     },
     "execution_count": 7,
     "metadata": {},
     "output_type": "execute_result"
    }
   ],
   "source": [
    "## 2) shuffle(c=1): ORS1\n",
    "trainX_ORS1 = x_train_df.values.reshape(-1, w, h, 1)\n",
    "testX_ORS1 = x_test_df.values.reshape(-1, w, h, 1)\n",
    "dump((trainX_ORS1, testX_ORS1),  os.path.join(data_save_folder, '02_X_ORS1.data')) "
   ]
  },
  {
   "cell_type": "code",
   "execution_count": null,
   "metadata": {},
   "outputs": [],
   "source": []
  },
  {
   "cell_type": "code",
   "execution_count": null,
   "metadata": {},
   "outputs": [],
   "source": []
  },
  {
   "cell_type": "code",
   "execution_count": 8,
   "metadata": {},
   "outputs": [
    {
     "name": "stdout",
     "output_type": "stream",
     "text": [
      "2020-08-10 15:49:27,276 - \u001b[32mINFO\u001b[0m - [bidd-aggmap]\u001b[0m - Calculating distance ...\u001b[0m\n",
      "2020-08-10 15:49:27,312 - \u001b[32mINFO\u001b[0m - [bidd-aggmap]\u001b[0m - the number of process is 16\u001b[0m\n"
     ]
    },
    {
     "name": "stderr",
     "output_type": "stream",
     "text": [
      "100%|##########| 306936/306936 [00:53<00:00, 5722.93it/s]\n",
      "100%|##########| 306936/306936 [00:00<00:00, 1813309.84it/s]\n",
      "100%|##########| 784/784 [00:02<00:00, 349.03it/s]"
     ]
    },
    {
     "name": "stdout",
     "output_type": "stream",
     "text": [
      "2020-08-10 15:50:23,544 - \u001b[32mINFO\u001b[0m - [bidd-aggmap]\u001b[0m - Calculating distance ...\u001b[0m\n",
      "2020-08-10 15:50:23,578 - \u001b[32mINFO\u001b[0m - [bidd-aggmap]\u001b[0m - the number of process is 16\u001b[0m\n"
     ]
    },
    {
     "name": "stderr",
     "output_type": "stream",
     "text": [
      "\n",
      "100%|##########| 306936/306936 [00:10<00:00, 28121.23it/s]\n",
      "100%|##########| 306936/306936 [00:00<00:00, 1856254.30it/s]\n",
      "100%|##########| 784/784 [00:01<00:00, 686.58it/s]\n"
     ]
    },
    {
     "data": {
      "text/plain": [
       "['/raid/shenwanxiang/aggmap/mnist/correlation/test.mp']"
      ]
     },
     "execution_count": 8,
     "metadata": {},
     "output_type": "execute_result"
    }
   ],
   "source": [
    "mp_train = AggMap(x_train_df, metric = metric)\n",
    "mp_test = AggMap(x_test_df, metric = metric)\n",
    "\n",
    "mp_train.save(os.path.join(data_save_folder, 'train.mp'))\n",
    "mp_test.save(os.path.join(data_save_folder, 'test.mp'))"
   ]
  },
  {
   "cell_type": "code",
   "execution_count": null,
   "metadata": {},
   "outputs": [],
   "source": []
  },
  {
   "cell_type": "code",
   "execution_count": null,
   "metadata": {},
   "outputs": [],
   "source": []
  },
  {
   "cell_type": "markdown",
   "metadata": {},
   "source": [
    "## 03) orignal_shuffle_agglomerate(c=1): ORSAgg1"
   ]
  },
  {
   "cell_type": "code",
   "execution_count": 9,
   "metadata": {},
   "outputs": [
    {
     "name": "stdout",
     "output_type": "stream",
     "text": [
      "2020-08-10 15:50:40,467 - \u001b[32mINFO\u001b[0m - [bidd-aggmap]\u001b[0m - Applying grid feature map(assignment), this may take several minutes(1~30 min)\u001b[0m\n"
     ]
    },
    {
     "name": "stderr",
     "output_type": "stream",
     "text": [
      "  0%|          | 0/60000 [00:00<?, ?it/s]"
     ]
    },
    {
     "name": "stdout",
     "output_type": "stream",
     "text": [
      "2020-08-10 15:50:41,188 - \u001b[32mINFO\u001b[0m - [bidd-aggmap]\u001b[0m - Finished\u001b[0m\n"
     ]
    },
    {
     "name": "stderr",
     "output_type": "stream",
     "text": [
      "100%|##########| 60000/60000 [03:21<00:00, 297.21it/s]\n",
      "100%|##########| 10000/10000 [00:33<00:00, 302.15it/s]\n"
     ]
    },
    {
     "data": {
      "text/plain": [
       "['/raid/shenwanxiang/aggmap/mnist/correlation/03_X_ORSAgg1.data']"
      ]
     },
     "execution_count": 9,
     "metadata": {},
     "output_type": "execute_result"
    }
   ],
   "source": [
    "## orignal_shuffle_agglomerate(c=1): ORSAgg1\n",
    "mp_ORSAgg1 = mp_train.copy().fit(verbose = 0, var_thr = var_thr, feature_group_list=['feature_point' for i in range(w*h)], \n",
    "                        group_color_dict = {'feature_point':color_list[0]})\n",
    "\n",
    "trainX_ORSAgg1 = mp_ORSAgg1.batch_transform(x_train_df.values, scale = False, n_jobs = 10)\n",
    "testX_ORSAgg1 = mp_ORSAgg1.batch_transform(x_test_df.values, scale = False, n_jobs = 10)\n",
    "mp_ORSAgg1.save(os.path.join(data_save_folder, 'mp_ORSAgg1.mp'))\n",
    "dump((trainX_ORSAgg1, testX_ORSAgg1),  os.path.join(data_save_folder, '03_X_ORSAgg1.data')) "
   ]
  },
  {
   "cell_type": "code",
   "execution_count": null,
   "metadata": {},
   "outputs": [],
   "source": []
  },
  {
   "cell_type": "code",
   "execution_count": null,
   "metadata": {},
   "outputs": [],
   "source": []
  },
  {
   "cell_type": "markdown",
   "metadata": {},
   "source": [
    "# B. cluster channels"
   ]
  },
  {
   "cell_type": "code",
   "execution_count": null,
   "metadata": {},
   "outputs": [],
   "source": []
  },
  {
   "cell_type": "markdown",
   "metadata": {},
   "source": [
    "## 04) orignal_shuffle_agglomerate_cluster(c=4): ORSAggC4"
   ]
  },
  {
   "cell_type": "code",
   "execution_count": 10,
   "metadata": {},
   "outputs": [
    {
     "name": "stdout",
     "output_type": "stream",
     "text": [
      "2020-08-10 15:54:37,692 - \u001b[32mINFO\u001b[0m - [bidd-aggmap]\u001b[0m - applying hierarchical clustering to obtain group information ...\u001b[0m\n",
      "2020-08-10 15:54:38,930 - \u001b[32mINFO\u001b[0m - [bidd-aggmap]\u001b[0m - Applying grid feature map(assignment), this may take several minutes(1~30 min)\u001b[0m\n"
     ]
    },
    {
     "name": "stderr",
     "output_type": "stream",
     "text": [
      "  0%|          | 0/60000 [00:00<?, ?it/s]"
     ]
    },
    {
     "name": "stdout",
     "output_type": "stream",
     "text": [
      "2020-08-10 15:54:39,655 - \u001b[32mINFO\u001b[0m - [bidd-aggmap]\u001b[0m - Finished\u001b[0m\n"
     ]
    },
    {
     "name": "stderr",
     "output_type": "stream",
     "text": [
      "100%|##########| 60000/60000 [03:22<00:00, 296.40it/s]\n",
      "100%|##########| 10000/10000 [00:33<00:00, 294.65it/s]\n"
     ]
    },
    {
     "data": {
      "text/plain": [
       "['/raid/shenwanxiang/aggmap/mnist/correlation/04_X_ORSAggC4.data']"
      ]
     },
     "execution_count": 10,
     "metadata": {},
     "output_type": "execute_result"
    }
   ],
   "source": [
    "## 04) orignal_shuffle_agglomerate_cluster(c=4): ORSAggC4\n",
    "mp_ORSAggC4 = mp_train.copy().fit(verbose = 0, cluster_channels=4, var_thr = var_thr, \n",
    "                         group_color_dict = dict(zip(['cluster_01', 'cluster_02', 'cluster_03', 'cluster_04'],color_list[:4])))\n",
    "\n",
    "trainX_ORSAggC4 = mp_ORSAggC4.batch_transform(x_train_df.values, scale = False, n_jobs = 10)\n",
    "testX_ORSAggC4 = mp_ORSAggC4.batch_transform(x_test_df.values, scale = False, n_jobs = 10)\n",
    "\n",
    "mp_ORSAggC4.save(os.path.join(data_save_folder, 'mp_ORSAggC4.mp'))\n",
    "dump((trainX_ORSAggC4, testX_ORSAggC4),  os.path.join(data_save_folder, '04_X_ORSAggC4.data')) "
   ]
  },
  {
   "cell_type": "code",
   "execution_count": null,
   "metadata": {},
   "outputs": [],
   "source": []
  },
  {
   "cell_type": "code",
   "execution_count": null,
   "metadata": {},
   "outputs": [],
   "source": []
  },
  {
   "cell_type": "markdown",
   "metadata": {},
   "source": [
    "## 05) orignal_shuffle_agglomerate_cluster(c=10): ORSAggC10"
   ]
  },
  {
   "cell_type": "code",
   "execution_count": 11,
   "metadata": {},
   "outputs": [
    {
     "name": "stdout",
     "output_type": "stream",
     "text": [
      "2020-08-10 15:58:39,823 - \u001b[32mINFO\u001b[0m - [bidd-aggmap]\u001b[0m - applying hierarchical clustering to obtain group information ...\u001b[0m\n",
      "2020-08-10 15:58:41,048 - \u001b[32mINFO\u001b[0m - [bidd-aggmap]\u001b[0m - Applying grid feature map(assignment), this may take several minutes(1~30 min)\u001b[0m\n"
     ]
    },
    {
     "name": "stderr",
     "output_type": "stream",
     "text": [
      "  0%|          | 0/60000 [00:00<?, ?it/s]"
     ]
    },
    {
     "name": "stdout",
     "output_type": "stream",
     "text": [
      "2020-08-10 15:58:41,773 - \u001b[32mINFO\u001b[0m - [bidd-aggmap]\u001b[0m - Finished\u001b[0m\n"
     ]
    },
    {
     "name": "stderr",
     "output_type": "stream",
     "text": [
      "100%|##########| 60000/60000 [04:12<00:00, 237.71it/s]\n",
      "100%|##########| 10000/10000 [00:36<00:00, 270.96it/s]\n"
     ]
    },
    {
     "data": {
      "text/plain": [
       "['/raid/shenwanxiang/aggmap/mnist/correlation/05_X_ORSAggC10.data']"
      ]
     },
     "execution_count": 11,
     "metadata": {},
     "output_type": "execute_result"
    }
   ],
   "source": [
    "## 05) orignal_shuffle_agglomerate_cluster(c=4): ORSAggC4\n",
    "mp_ORSAggC10 = mp_train.copy().fit(verbose = 0, cluster_channels=10, var_thr = var_thr, \n",
    "                         group_color_dict = dict(zip(['cluster_%s' % str(i).zfill(2) for i in range(10)],color_list)))\n",
    "trainX_ORSAggC10 = mp_ORSAggC10.batch_transform(x_train_df.values, scale = False, n_jobs = 10)\n",
    "testX_ORSAggC10 = mp_ORSAggC10.batch_transform(x_test_df.values, scale = False, n_jobs = 10)\n",
    "\n",
    "mp_ORSAggC10.save(os.path.join(data_save_folder, 'mp_ORSAggC10.mp'))\n",
    "dump((trainX_ORSAggC10, testX_ORSAggC10),  os.path.join(data_save_folder, '05_X_ORSAggC10.data')) "
   ]
  },
  {
   "cell_type": "code",
   "execution_count": null,
   "metadata": {},
   "outputs": [],
   "source": []
  },
  {
   "cell_type": "code",
   "execution_count": null,
   "metadata": {},
   "outputs": [],
   "source": []
  },
  {
   "cell_type": "markdown",
   "metadata": {},
   "source": [
    "# C. self-difined channel"
   ]
  },
  {
   "cell_type": "code",
   "execution_count": 12,
   "metadata": {},
   "outputs": [],
   "source": [
    "# self-difined channel\n",
    "self_color_dict = dict(zip(['area-1', 'area-2', 'area-3', 'area-4'], color_list[:4]))\n",
    "\n",
    "# split area as channels\n",
    "area = []\n",
    "for i, arr in enumerate(np.array_split(range(28*28), 4)):\n",
    "    area.append(['area-%s' % (i+1) for k in arr])\n",
    "f = np.array(list(chain(*area))).reshape(28,28, order = 'f')\n",
    "v_list = f.reshape(28*28).tolist()\n",
    "v_list = pd.Series(shuffled_cols).map(dict(zip(orignal_cols, v_list))).to_list()\n"
   ]
  },
  {
   "cell_type": "code",
   "execution_count": null,
   "metadata": {},
   "outputs": [],
   "source": []
  },
  {
   "cell_type": "markdown",
   "metadata": {},
   "source": [
    "## 6) orignal_shuffle_agglomerate_vertical(c=4): ORSAggV4"
   ]
  },
  {
   "cell_type": "code",
   "execution_count": 13,
   "metadata": {},
   "outputs": [
    {
     "name": "stdout",
     "output_type": "stream",
     "text": [
      "2020-08-10 16:03:41,128 - \u001b[32mINFO\u001b[0m - [bidd-aggmap]\u001b[0m - Applying grid feature map(assignment), this may take several minutes(1~30 min)\u001b[0m\n"
     ]
    },
    {
     "name": "stderr",
     "output_type": "stream",
     "text": [
      "  0%|          | 0/60000 [00:00<?, ?it/s]"
     ]
    },
    {
     "name": "stdout",
     "output_type": "stream",
     "text": [
      "2020-08-10 16:03:41,851 - \u001b[32mINFO\u001b[0m - [bidd-aggmap]\u001b[0m - Finished\u001b[0m\n"
     ]
    },
    {
     "name": "stderr",
     "output_type": "stream",
     "text": [
      "100%|##########| 60000/60000 [03:21<00:00, 297.83it/s]\n",
      "100%|##########| 10000/10000 [00:33<00:00, 294.13it/s]\n"
     ]
    },
    {
     "data": {
      "text/plain": [
       "['/raid/shenwanxiang/aggmap/mnist/correlation/06_X_ORSAggV4.data']"
      ]
     },
     "execution_count": 13,
     "metadata": {},
     "output_type": "execute_result"
    }
   ],
   "source": [
    "## 6) ORSAggV4\n",
    "mp_ORSAggV4 = mp_train.copy().fit(verbose = 0, feature_group_list = v_list, var_thr = var_thr, \n",
    "                         group_color_dict = self_color_dict)\n",
    "trainX_ORSAggV4 = mp_ORSAggV4.batch_transform(x_train_df.values, scale = False, n_jobs = 10)\n",
    "testX_ORSAggV4 = mp_ORSAggV4.batch_transform(x_test_df.values, scale = False, n_jobs = 10)\n",
    "\n",
    "mp_ORSAggV4.save(os.path.join(data_save_folder, 'mp_ORSAggV4.mp'))\n",
    "dump((trainX_ORSAggV4, testX_ORSAggV4),  os.path.join(data_save_folder, '06_X_ORSAggV4.data')) "
   ]
  },
  {
   "cell_type": "code",
   "execution_count": null,
   "metadata": {},
   "outputs": [],
   "source": []
  },
  {
   "cell_type": "code",
   "execution_count": null,
   "metadata": {},
   "outputs": [],
   "source": []
  },
  {
   "cell_type": "code",
   "execution_count": null,
   "metadata": {},
   "outputs": [],
   "source": []
  }
 ],
 "metadata": {
  "kernelspec": {
   "display_name": "Python 3",
   "language": "python",
   "name": "python3"
  },
  "language_info": {
   "codemirror_mode": {
    "name": "ipython",
    "version": 3
   },
   "file_extension": ".py",
   "mimetype": "text/x-python",
   "name": "python",
   "nbconvert_exporter": "python",
   "pygments_lexer": "ipython3",
   "version": "3.6.9"
  }
 },
 "nbformat": 4,
 "nbformat_minor": 4
}
