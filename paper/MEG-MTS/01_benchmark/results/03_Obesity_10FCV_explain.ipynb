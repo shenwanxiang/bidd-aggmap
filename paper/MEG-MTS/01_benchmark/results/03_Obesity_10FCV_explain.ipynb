{
 "cells": [
  {
   "cell_type": "code",
   "execution_count": 1,
   "metadata": {},
   "outputs": [],
   "source": [
    "import warnings, os\n",
    "warnings.filterwarnings(\"ignore\")\n",
    "\n",
    "from copy import copy\n",
    "import pandas as pd\n",
    "import numpy as np\n",
    "from tqdm import tqdm\n",
    "from sklearn.model_selection import KFold, StratifiedKFold\n",
    "from sklearn.metrics import confusion_matrix, precision_recall_curve\n",
    "from sklearn.metrics import roc_auc_score, matthews_corrcoef, precision_score, recall_score, f1_score\n",
    "\n",
    "\n",
    "import seaborn as sns\n",
    "import matplotlib.pyplot as plt\n",
    "from joblib import dump, load\n",
    "\n",
    "from aggmap import AggMap, AggModel, loadmap\n",
    "from aggmap.AggModel import load_model, save_model\n",
    "from aggmap import show\n",
    "\n",
    "\n",
    "np.random.seed(666) #just for reaptable results\n",
    "\n",
    "\n",
    "def score(dfr):\n",
    "    y_true = dfr.y_true\n",
    "    y_score = dfr.y_score\n",
    "    y_pred = dfr.y_pred\n",
    "\n",
    "    '''\n",
    "    the metrics are taken from orignal paper:\n",
    "    Meta-Signer: Metagenomic Signature Identifier based on Rank Aggregation of Features\n",
    "    https://github.com/YDaiLab/Meta-Signer/blob/bd6a1cd98d1035f848ecb6e53d9ee67a85871db2/src/utils/metasigner_io.py#L34\n",
    "    '''\n",
    "    auc = roc_auc_score(y_true, y_score, average='weighted')        \n",
    "    mcc = matthews_corrcoef(y_true, y_pred)\n",
    "    pres = precision_score(y_true, y_pred, average='weighted')\n",
    "    recall = recall_score(y_true, y_pred, average='weighted')\n",
    "    f1 = f1_score(y_true, y_pred, average='weighted')\n",
    "    \n",
    "    print('roc-auc: %.3f, mcc: %.3f, pres: %.3f, recall: %.3f, f1: %.3f' % (auc, mcc, pres, recall, f1))\n",
    "\n",
    "    return auc, mcc, pres, recall, f1"
   ]
  },
  {
   "cell_type": "markdown",
   "metadata": {},
   "source": [
    "# read data"
   ]
  },
  {
   "cell_type": "code",
   "execution_count": 2,
   "metadata": {},
   "outputs": [],
   "source": [
    "task = 'Obesity'\n",
    "data_path = '../01_data/species_level/%s/' % (task)\n",
    "save_dir = '%s_results' % task\n",
    "if not os.path.exists(save_dir):\n",
    "    os.makedirs(save_dir)\n",
    "\n",
    "dfa = pd.read_csv(os.path.join(data_path, 'abundance.tsv'),sep='\\t', header=None, index_col=0)\n",
    "dfy = pd.read_csv(os.path.join(data_path, 'labels.txt'),sep='\\t', header=None)\n",
    "dfx = dfa.T\n",
    "dfy = pd.get_dummies(dfy[0].map({'obesity':1, 'leaness':0}))\n",
    "Y = dfy.values"
   ]
  },
  {
   "cell_type": "markdown",
   "metadata": {},
   "source": [
    "# generate Fmaps"
   ]
  },
  {
   "cell_type": "code",
   "execution_count": 3,
   "metadata": {},
   "outputs": [
    {
     "name": "stdout",
     "output_type": "stream",
     "text": [
      "2021-08-18 13:32:45,776 - \u001b[32mINFO\u001b[0m - [bidd-aggmap]\u001b[0m - Calculating distance ...\u001b[0m\n",
      "2021-08-18 13:32:45,789 - \u001b[32mINFO\u001b[0m - [bidd-aggmap]\u001b[0m - the number of process is 16\u001b[0m\n"
     ]
    },
    {
     "name": "stderr",
     "output_type": "stream",
     "text": [
      "100%|##########| 107880/107880 [00:03<00:00, 29266.02it/s]\n",
      "100%|##########| 107880/107880 [00:00<00:00, 1878849.79it/s]\n",
      "100%|##########| 465/465 [00:00<00:00, 799.78it/s]\n"
     ]
    },
    {
     "name": "stdout",
     "output_type": "stream",
     "text": [
      "2021-08-18 13:32:50,334 - \u001b[32mINFO\u001b[0m - [bidd-aggmap]\u001b[0m - applying hierarchical clustering to obtain group information ...\u001b[0m\n",
      "2021-08-18 13:32:54,327 - \u001b[32mINFO\u001b[0m - [bidd-aggmap]\u001b[0m - Applying grid feature map(assignment), this may take several minutes(1~30 min)\u001b[0m\n"
     ]
    },
    {
     "name": "stderr",
     "output_type": "stream",
     "text": [
      "  0%|          | 0/253 [00:00<?, ?it/s]"
     ]
    },
    {
     "name": "stdout",
     "output_type": "stream",
     "text": [
      "2021-08-18 13:32:54,695 - \u001b[32mINFO\u001b[0m - [bidd-aggmap]\u001b[0m - Finished\u001b[0m\n",
      "2021-08-18 13:32:54,695 - \u001b[32mINFO\u001b[0m - [bidd-aggmap]\u001b[0m - generate file: Obesity_results/feature points_465_correlation_umap_mp\u001b[0m\n",
      "2021-08-18 13:32:54,718 - \u001b[32mINFO\u001b[0m - [bidd-aggmap]\u001b[0m - save html file to Obesity_results/feature points_465_correlation_umap_mp\u001b[0m\n",
      "2021-08-18 13:32:54,718 - \u001b[32mINFO\u001b[0m - [bidd-aggmap]\u001b[0m - generate file: Obesity_results/feature points_465_correlation_umap_scatter\u001b[0m\n",
      "2021-08-18 13:32:54,737 - \u001b[32mINFO\u001b[0m - [bidd-aggmap]\u001b[0m - save html file to Obesity_results/feature points_465_correlation_umap_scatter\u001b[0m\n"
     ]
    },
    {
     "name": "stderr",
     "output_type": "stream",
     "text": [
      "100%|##########| 253/253 [00:02<00:00, 84.58it/s]\n"
     ]
    }
   ],
   "source": [
    "#could be optimized\n",
    "featHPs = {\"best_fill\":1e-2, \"best_scale_method\":'standard', \"best_channel_number\":8}\n",
    "dfx = np.log(dfx + featHPs.get('best_fill'))\n",
    "mp = AggMap(dfx, metric = 'correlation')\n",
    "mp = mp.fit(cluster_channels = featHPs.get('best_channel_number'), verbose = 0)\n",
    "\n",
    "mp.plot_grid(save_dir)\n",
    "mp.plot_scatter(save_dir)\n",
    "mp.save(os.path.join(save_dir, 'agg.mp'))\n",
    "\n",
    "X = mp.batch_transform(dfx.values, scale = featHPs.get('best_scale_method')) # NaN values should be the lowest value"
   ]
  },
  {
   "cell_type": "code",
   "execution_count": 4,
   "metadata": {},
   "outputs": [
    {
     "data": {
      "image/png": "[encoded data removed]",
      "text/plain": [
       "<Figure size 1152x576 with 1 Axes>"
      ]
     },
     "metadata": {
      "needs_background": "light"
     },
     "output_type": "display_data"
    }
   ],
   "source": [
    "fig_tree = mp.plot_tree(add_leaf_labels = False, leaf_font_size = 1)\n",
    "fig_tree.savefig(os.path.join(save_dir, 'tree.png'), bbox_inches='tight', dpi=300)"
   ]
  },
  {
   "cell_type": "markdown",
   "metadata": {},
   "source": [
    "# 10FCV"
   ]
  },
  {
   "cell_type": "code",
   "execution_count": 5,
   "metadata": {},
   "outputs": [
    {
     "name": "stdout",
     "output_type": "stream",
     "text": [
      "################################################## repeat_seed: 8; fold_00 ##################################################\n",
      "\n",
      " input train and test X shape is (227, 22, 22, 8), (26, 22, 22, 8) \n",
      "saving model to Obesity_results/fold_00.model\n",
      "roc-auc: 0.595, mcc: 0.150, pres: 0.615, recall: 0.615, f1: 0.615\n",
      "{'auc': 0.595, 'mcc': 0.15, 'pres': 0.615, 'recall': 0.615, 'f1': 0.615, 'i': 0.0, 'repeat_seed': 8.0}\n",
      "################################################## repeat_seed: 8; fold_01 ##################################################\n",
      "\n",
      " input train and test X shape is (227, 22, 22, 8), (26, 22, 22, 8) \n",
      "saving model to Obesity_results/fold_01.model\n",
      "roc-auc: 0.745, mcc: 0.320, pres: 0.692, recall: 0.692, f1: 0.692\n",
      "{'auc': 0.745, 'mcc': 0.32, 'pres': 0.692, 'recall': 0.692, 'f1': 0.692, 'i': 0.0, 'repeat_seed': 8.0}\n",
      "################################################## repeat_seed: 8; fold_02 ##################################################\n",
      "\n",
      " input train and test X shape is (227, 22, 22, 8), (26, 22, 22, 8) \n",
      "saving model to Obesity_results/fold_02.model\n",
      "roc-auc: 0.536, mcc: 0.055, pres: 0.574, recall: 0.615, f1: 0.581\n",
      "{'auc': 0.536, 'mcc': 0.055, 'pres': 0.574, 'recall': 0.615, 'f1': 0.581, 'i': 0.0, 'repeat_seed': 8.0}\n",
      "################################################## repeat_seed: 8; fold_03 ##################################################\n",
      "\n",
      " input train and test X shape is (228, 22, 22, 8), (25, 22, 22, 8) \n",
      "saving model to Obesity_results/fold_03.model\n",
      "roc-auc: 0.662, mcc: 0.265, pres: 0.680, recall: 0.680, f1: 0.680\n",
      "{'auc': 0.662, 'mcc': 0.265, 'pres': 0.68, 'recall': 0.68, 'f1': 0.68, 'i': 0.0, 'repeat_seed': 8.0}\n",
      "################################################## repeat_seed: 8; fold_04 ##################################################\n",
      "\n",
      " input train and test X shape is (228, 22, 22, 8), (25, 22, 22, 8) \n",
      "saving model to Obesity_results/fold_04.model\n",
      "roc-auc: 0.569, mcc: 0.355, pres: 0.727, recall: 0.720, f1: 0.685\n",
      "{'auc': 0.569, 'mcc': 0.355, 'pres': 0.727, 'recall': 0.72, 'f1': 0.685, 'i': 0.0, 'repeat_seed': 8.0}\n",
      "################################################## repeat_seed: 8; fold_05 ##################################################\n",
      "\n",
      " input train and test X shape is (228, 22, 22, 8), (25, 22, 22, 8) \n",
      "saving model to Obesity_results/fold_05.model\n",
      "roc-auc: 0.583, mcc: 0.164, pres: 0.618, recall: 0.640, f1: 0.619\n",
      "{'auc': 0.583, 'mcc': 0.164, 'pres': 0.618, 'recall': 0.64, 'f1': 0.619, 'i': 0.0, 'repeat_seed': 8.0}\n",
      "################################################## repeat_seed: 8; fold_06 ##################################################\n",
      "\n",
      " input train and test X shape is (228, 22, 22, 8), (25, 22, 22, 8) \n",
      "saving model to Obesity_results/fold_06.model\n",
      "roc-auc: 0.611, mcc: 0.021, pres: 0.549, recall: 0.560, f1: 0.554\n",
      "{'auc': 0.611, 'mcc': 0.021, 'pres': 0.549, 'recall': 0.56, 'f1': 0.554, 'i': 0.0, 'repeat_seed': 8.0}\n",
      "################################################## repeat_seed: 8; fold_07 ##################################################\n",
      "\n",
      " input train and test X shape is (228, 22, 22, 8), (25, 22, 22, 8) \n",
      "saving model to Obesity_results/fold_07.model\n",
      "roc-auc: 0.681, mcc: 0.250, pres: 0.664, recall: 0.680, f1: 0.652\n",
      "{'auc': 0.681, 'mcc': 0.25, 'pres': 0.664, 'recall': 0.68, 'f1': 0.652, 'i': 0.0, 'repeat_seed': 8.0}\n",
      "################################################## repeat_seed: 8; fold_08 ##################################################\n",
      "\n",
      " input train and test X shape is (228, 22, 22, 8), (25, 22, 22, 8) \n",
      "saving model to Obesity_results/fold_08.model\n",
      "roc-auc: 0.639, mcc: 0.275, pres: 0.668, recall: 0.680, f1: 0.669\n",
      "{'auc': 0.639, 'mcc': 0.275, 'pres': 0.668, 'recall': 0.68, 'f1': 0.669, 'i': 0.0, 'repeat_seed': 8.0}\n",
      "################################################## repeat_seed: 8; fold_09 ##################################################\n",
      "\n",
      " input train and test X shape is (228, 22, 22, 8), (25, 22, 22, 8) \n",
      "saving model to Obesity_results/fold_09.model\n",
      "roc-auc: 0.694, mcc: 0.200, pres: 0.632, recall: 0.640, f1: 0.635\n",
      "{'auc': 0.694, 'mcc': 0.2, 'pres': 0.632, 'recall': 0.64, 'f1': 0.635, 'i': 0.0, 'repeat_seed': 8.0}\n",
      "\n",
      "\n",
      "results for seed 8\n",
      "{'auc': 0.6315, 'mcc': 0.20550000000000002, 'pres': 0.6418999999999999, 'recall': 0.6521999999999999, 'f1': 0.6382, 'i': 0.0, 'repeat_seed': 8.0}\n",
      "################################################## repeat_seed: 16; fold_00 ##################################################\n",
      "\n",
      " input train and test X shape is (227, 22, 22, 8), (26, 22, 22, 8) \n",
      "roc-auc: 0.719, mcc: 0.359, pres: 0.712, recall: 0.692, f1: 0.698\n",
      "{'auc': 0.719, 'mcc': 0.359, 'pres': 0.712, 'recall': 0.692, 'f1': 0.698, 'i': 1.0, 'repeat_seed': 16.0}\n",
      "################################################## repeat_seed: 16; fold_01 ##################################################\n",
      "\n",
      " input train and test X shape is (227, 22, 22, 8), (26, 22, 22, 8) \n",
      "roc-auc: 0.595, mcc: 0.040, pres: 0.566, recall: 0.577, f1: 0.571\n",
      "{'auc': 0.595, 'mcc': 0.04, 'pres': 0.566, 'recall': 0.577, 'f1': 0.571, 'i': 1.0, 'repeat_seed': 16.0}\n",
      "################################################## repeat_seed: 16; fold_02 ##################################################\n",
      "\n",
      " input train and test X shape is (227, 22, 22, 8), (26, 22, 22, 8) \n",
      "roc-auc: 0.614, mcc: -0.146, pres: 0.418, recall: 0.615, f1: 0.498\n",
      "{'auc': 0.614, 'mcc': -0.146, 'pres': 0.418, 'recall': 0.615, 'f1': 0.498, 'i': 1.0, 'repeat_seed': 16.0}\n",
      "################################################## repeat_seed: 16; fold_03 ##################################################\n",
      "\n",
      " input train and test X shape is (228, 22, 22, 8), (25, 22, 22, 8) \n",
      "roc-auc: 0.537, mcc: 0.081, pres: 0.600, recall: 0.600, f1: 0.600\n",
      "{'auc': 0.537, 'mcc': 0.081, 'pres': 0.6, 'recall': 0.6, 'f1': 0.6, 'i': 1.0, 'repeat_seed': 16.0}\n",
      "################################################## repeat_seed: 16; fold_04 ##################################################\n",
      "\n",
      " input train and test X shape is (228, 22, 22, 8), (25, 22, 22, 8) \n",
      "roc-auc: 0.771, mcc: -0.021, pres: 0.527, recall: 0.600, f1: 0.532\n",
      "{'auc': 0.771, 'mcc': -0.021, 'pres': 0.527, 'recall': 0.6, 'f1': 0.532, 'i': 1.0, 'repeat_seed': 16.0}\n",
      "################################################## repeat_seed: 16; fold_05 ##################################################\n",
      "\n",
      " input train and test X shape is (228, 22, 22, 8), (25, 22, 22, 8) \n",
      "roc-auc: 0.743, mcc: 0.359, pres: 0.712, recall: 0.720, f1: 0.704\n",
      "{'auc': 0.743, 'mcc': 0.359, 'pres': 0.712, 'recall': 0.72, 'f1': 0.704, 'i': 1.0, 'repeat_seed': 16.0}\n",
      "################################################## repeat_seed: 16; fold_06 ##################################################\n",
      "\n",
      " input train and test X shape is (228, 22, 22, 8), (25, 22, 22, 8) \n",
      "roc-auc: 0.549, mcc: -0.097, pres: 0.494, recall: 0.520, f1: 0.504\n",
      "{'auc': 0.549, 'mcc': -0.097, 'pres': 0.494, 'recall': 0.52, 'f1': 0.504, 'i': 1.0, 'repeat_seed': 16.0}\n",
      "################################################## repeat_seed: 16; fold_07 ##################################################\n",
      "\n",
      " input train and test X shape is (228, 22, 22, 8), (25, 22, 22, 8) \n",
      "roc-auc: 0.660, mcc: 0.379, pres: 0.714, recall: 0.720, f1: 0.716\n",
      "{'auc': 0.66, 'mcc': 0.379, 'pres': 0.714, 'recall': 0.72, 'f1': 0.716, 'i': 1.0, 'repeat_seed': 16.0}\n",
      "################################################## repeat_seed: 16; fold_08 ##################################################\n",
      "\n",
      " input train and test X shape is (228, 22, 22, 8), (25, 22, 22, 8) \n",
      "roc-auc: 0.708, mcc: 0.306, pres: 0.680, recall: 0.680, f1: 0.680\n",
      "{'auc': 0.708, 'mcc': 0.306, 'pres': 0.68, 'recall': 0.68, 'f1': 0.68, 'i': 1.0, 'repeat_seed': 16.0}\n",
      "################################################## repeat_seed: 16; fold_09 ##################################################\n",
      "\n",
      " input train and test X shape is (228, 22, 22, 8), (25, 22, 22, 8) \n",
      "roc-auc: 0.424, mcc: -0.031, pres: 0.524, recall: 0.560, f1: 0.535\n",
      "{'auc': 0.424, 'mcc': -0.031, 'pres': 0.524, 'recall': 0.56, 'f1': 0.535, 'i': 1.0, 'repeat_seed': 16.0}\n",
      "\n",
      "\n",
      "results for seed 16\n",
      "{'auc': 0.632, 'mcc': 0.12290000000000001, 'pres': 0.5947, 'recall': 0.6283999999999998, 'f1': 0.6037999999999999, 'i': 1.0, 'repeat_seed': 16.0}\n",
      "################################################## repeat_seed: 32; fold_00 ##################################################\n",
      "\n",
      " input train and test X shape is (227, 22, 22, 8), (26, 22, 22, 8) \n",
      "roc-auc: 0.699, mcc: 0.320, pres: 0.692, recall: 0.692, f1: 0.692\n",
      "{'auc': 0.699, 'mcc': 0.32, 'pres': 0.692, 'recall': 0.692, 'f1': 0.692, 'i': 2.0, 'repeat_seed': 32.0}\n",
      "################################################## repeat_seed: 32; fold_01 ##################################################\n",
      "\n",
      " input train and test X shape is (227, 22, 22, 8), (26, 22, 22, 8) \n",
      "roc-auc: 0.745, mcc: 0.320, pres: 0.692, recall: 0.692, f1: 0.692\n",
      "{'auc': 0.745, 'mcc': 0.32, 'pres': 0.692, 'recall': 0.692, 'f1': 0.692, 'i': 2.0, 'repeat_seed': 32.0}\n",
      "################################################## repeat_seed: 32; fold_02 ##################################################\n",
      "\n",
      " input train and test X shape is (227, 22, 22, 8), (26, 22, 22, 8) \n",
      "roc-auc: 0.529, mcc: -0.010, pres: 0.542, recall: 0.615, f1: 0.548\n",
      "{'auc': 0.529, 'mcc': -0.01, 'pres': 0.542, 'recall': 0.615, 'f1': 0.548, 'i': 2.0, 'repeat_seed': 32.0}\n",
      "################################################## repeat_seed: 32; fold_03 ##################################################\n",
      "\n",
      " input train and test X shape is (228, 22, 22, 8), (25, 22, 22, 8) \n",
      "roc-auc: 0.772, mcc: 0.514, pres: 0.800, recall: 0.800, f1: 0.785\n",
      "{'auc': 0.772, 'mcc': 0.514, 'pres': 0.8, 'recall': 0.8, 'f1': 0.785, 'i': 2.0, 'repeat_seed': 32.0}\n",
      "################################################## repeat_seed: 32; fold_04 ##################################################\n",
      "\n",
      " input train and test X shape is (228, 22, 22, 8), (25, 22, 22, 8) \n",
      "roc-auc: 0.632, mcc: 0.250, pres: 0.664, recall: 0.680, f1: 0.652\n",
      "{'auc': 0.632, 'mcc': 0.25, 'pres': 0.664, 'recall': 0.68, 'f1': 0.652, 'i': 2.0, 'repeat_seed': 32.0}\n",
      "################################################## repeat_seed: 32; fold_05 ##################################################\n",
      "\n",
      " input train and test X shape is (228, 22, 22, 8), (25, 22, 22, 8) \n",
      "roc-auc: 0.729, mcc: 0.355, pres: 0.727, recall: 0.720, f1: 0.685\n",
      "{'auc': 0.729, 'mcc': 0.355, 'pres': 0.727, 'recall': 0.72, 'f1': 0.685, 'i': 2.0, 'repeat_seed': 32.0}\n",
      "################################################## repeat_seed: 32; fold_06 ##################################################\n",
      "\n",
      " input train and test X shape is (228, 22, 22, 8), (25, 22, 22, 8) \n",
      "roc-auc: 0.611, mcc: 0.132, pres: 0.600, recall: 0.600, f1: 0.600\n",
      "{'auc': 0.611, 'mcc': 0.132, 'pres': 0.6, 'recall': 0.6, 'f1': 0.6, 'i': 2.0, 'repeat_seed': 32.0}\n",
      "################################################## repeat_seed: 32; fold_07 ##################################################\n",
      "\n",
      " input train and test X shape is (228, 22, 22, 8), (25, 22, 22, 8) \n",
      "roc-auc: 0.618, mcc: 0.275, pres: 0.668, recall: 0.680, f1: 0.669\n",
      "{'auc': 0.618, 'mcc': 0.275, 'pres': 0.668, 'recall': 0.68, 'f1': 0.669, 'i': 2.0, 'repeat_seed': 32.0}\n",
      "################################################## repeat_seed: 32; fold_08 ##################################################\n",
      "\n",
      " input train and test X shape is (228, 22, 22, 8), (25, 22, 22, 8) \n",
      "roc-auc: 0.611, mcc: 0.113, pres: 0.593, recall: 0.560, f1: 0.569\n",
      "{'auc': 0.611, 'mcc': 0.113, 'pres': 0.593, 'recall': 0.56, 'f1': 0.569, 'i': 2.0, 'repeat_seed': 32.0}\n",
      "################################################## repeat_seed: 32; fold_09 ##################################################\n",
      "\n",
      " input train and test X shape is (228, 22, 22, 8), (25, 22, 22, 8) \n",
      "roc-auc: 0.819, mcc: 0.479, pres: 0.760, recall: 0.760, f1: 0.760\n",
      "{'auc': 0.819, 'mcc': 0.479, 'pres': 0.76, 'recall': 0.76, 'f1': 0.76, 'i': 2.0, 'repeat_seed': 32.0}\n",
      "\n",
      "\n",
      "results for seed 32\n",
      "{'auc': 0.6765, 'mcc': 0.27480000000000004, 'pres': 0.6738, 'recall': 0.6799, 'f1': 0.6652, 'i': 2.0, 'repeat_seed': 32.0}\n",
      "################################################## repeat_seed: 64; fold_00 ##################################################\n",
      "\n",
      " input train and test X shape is (227, 22, 22, 8), (26, 22, 22, 8) \n",
      "roc-auc: 0.608, mcc: 0.260, pres: 0.675, recall: 0.692, f1: 0.665\n",
      "{'auc': 0.608, 'mcc': 0.26, 'pres': 0.675, 'recall': 0.692, 'f1': 0.665, 'i': 3.0, 'repeat_seed': 64.0}\n",
      "################################################## repeat_seed: 64; fold_01 ##################################################\n",
      "\n",
      " input train and test X shape is (227, 22, 22, 8), (26, 22, 22, 8) \n",
      "roc-auc: 0.647, mcc: 0.260, pres: 0.675, recall: 0.692, f1: 0.665\n",
      "{'auc': 0.647, 'mcc': 0.26, 'pres': 0.675, 'recall': 0.692, 'f1': 0.665, 'i': 3.0, 'repeat_seed': 64.0}\n",
      "################################################## repeat_seed: 64; fold_02 ##################################################\n",
      "\n",
      " input train and test X shape is (227, 22, 22, 8), (26, 22, 22, 8) \n",
      "roc-auc: 0.412, mcc: -0.207, pres: 0.450, recall: 0.500, f1: 0.470\n",
      "{'auc': 0.412, 'mcc': -0.207, 'pres': 0.45, 'recall': 0.5, 'f1': 0.47, 'i': 3.0, 'repeat_seed': 64.0}\n",
      "################################################## repeat_seed: 64; fold_03 ##################################################\n",
      "\n",
      " input train and test X shape is (228, 22, 22, 8), (25, 22, 22, 8) \n",
      "roc-auc: 0.662, mcc: -0.129, pres: 0.506, recall: 0.560, f1: 0.527\n",
      "{'auc': 0.662, 'mcc': -0.129, 'pres': 0.506, 'recall': 0.56, 'f1': 0.527, 'i': 3.0, 'repeat_seed': 64.0}\n",
      "################################################## repeat_seed: 64; fold_04 ##################################################\n",
      "\n",
      " input train and test X shape is (228, 22, 22, 8), (25, 22, 22, 8) \n",
      "roc-auc: 0.611, mcc: 0.089, pres: 0.581, recall: 0.600, f1: 0.587\n",
      "{'auc': 0.611, 'mcc': 0.089, 'pres': 0.581, 'recall': 0.6, 'f1': 0.587, 'i': 3.0, 'repeat_seed': 64.0}\n",
      "################################################## repeat_seed: 64; fold_05 ##################################################\n",
      "\n",
      " input train and test X shape is (228, 22, 22, 8), (25, 22, 22, 8) \n",
      "roc-auc: 0.875, mcc: 0.554, pres: 0.805, recall: 0.800, f1: 0.789\n",
      "{'auc': 0.875, 'mcc': 0.554, 'pres': 0.805, 'recall': 0.8, 'f1': 0.789, 'i': 3.0, 'repeat_seed': 64.0}\n",
      "################################################## repeat_seed: 64; fold_06 ##################################################\n",
      "\n",
      " input train and test X shape is (228, 22, 22, 8), (25, 22, 22, 8) \n",
      "roc-auc: 0.493, mcc: -0.097, pres: 0.494, recall: 0.520, f1: 0.504\n",
      "{'auc': 0.493, 'mcc': -0.097, 'pres': 0.494, 'recall': 0.52, 'f1': 0.504, 'i': 3.0, 'repeat_seed': 64.0}\n",
      "################################################## repeat_seed: 64; fold_07 ##################################################\n",
      "\n",
      " input train and test X shape is (228, 22, 22, 8), (25, 22, 22, 8) \n",
      "roc-auc: 0.875, mcc: 0.379, pres: 0.714, recall: 0.720, f1: 0.716\n",
      "{'auc': 0.875, 'mcc': 0.379, 'pres': 0.714, 'recall': 0.72, 'f1': 0.716, 'i': 3.0, 'repeat_seed': 64.0}\n",
      "################################################## repeat_seed: 64; fold_08 ##################################################\n",
      "\n",
      " input train and test X shape is (228, 22, 22, 8), (25, 22, 22, 8) \n",
      "roc-auc: 0.729, mcc: 0.578, pres: 0.807, recall: 0.800, f1: 0.802\n",
      "{'auc': 0.729, 'mcc': 0.578, 'pres': 0.807, 'recall': 0.8, 'f1': 0.802, 'i': 3.0, 'repeat_seed': 64.0}\n",
      "################################################## repeat_seed: 64; fold_09 ##################################################\n",
      "\n",
      " input train and test X shape is (228, 22, 22, 8), (25, 22, 22, 8) \n",
      "roc-auc: 0.424, mcc: -0.097, pres: 0.494, recall: 0.520, f1: 0.504\n",
      "{'auc': 0.424, 'mcc': -0.097, 'pres': 0.494, 'recall': 0.52, 'f1': 0.504, 'i': 3.0, 'repeat_seed': 64.0}\n",
      "\n",
      "\n",
      "results for seed 64\n",
      "{'auc': 0.6336, 'mcc': 0.15899999999999997, 'pres': 0.6201000000000001, 'recall': 0.6404, 'f1': 0.6228999999999999, 'i': 3.0, 'repeat_seed': 64.0}\n",
      "################################################## repeat_seed: 128; fold_00 ##################################################\n",
      "\n",
      " input train and test X shape is (227, 22, 22, 8), (26, 22, 22, 8) \n",
      "roc-auc: 0.549, mcc: 0.177, pres: 0.631, recall: 0.654, f1: 0.633\n",
      "{'auc': 0.549, 'mcc': 0.177, 'pres': 0.631, 'recall': 0.654, 'f1': 0.633, 'i': 4.0, 'repeat_seed': 128.0}\n",
      "################################################## repeat_seed: 128; fold_01 ##################################################\n",
      "\n",
      " input train and test X shape is (227, 22, 22, 8), (26, 22, 22, 8) \n",
      "roc-auc: 0.680, mcc: 0.137, pres: 0.611, recall: 0.577, f1: 0.587\n",
      "{'auc': 0.68, 'mcc': 0.137, 'pres': 0.611, 'recall': 0.577, 'f1': 0.587, 'i': 4.0, 'repeat_seed': 128.0}\n",
      "################################################## repeat_seed: 128; fold_02 ##################################################\n",
      "\n",
      " input train and test X shape is (227, 22, 22, 8), (26, 22, 22, 8) \n",
      "roc-auc: 0.601, mcc: 0.093, pres: 0.609, recall: 0.654, f1: 0.573\n",
      "{'auc': 0.601, 'mcc': 0.093, 'pres': 0.609, 'recall': 0.654, 'f1': 0.573, 'i': 4.0, 'repeat_seed': 128.0}\n",
      "################################################## repeat_seed: 128; fold_03 ##################################################\n",
      "\n",
      " input train and test X shape is (228, 22, 22, 8), (25, 22, 22, 8) \n",
      "roc-auc: 0.699, mcc: 0.265, pres: 0.680, recall: 0.680, f1: 0.680\n",
      "{'auc': 0.699, 'mcc': 0.265, 'pres': 0.68, 'recall': 0.68, 'f1': 0.68, 'i': 4.0, 'repeat_seed': 128.0}\n",
      "################################################## repeat_seed: 128; fold_04 ##################################################\n",
      "\n",
      " input train and test X shape is (228, 22, 22, 8), (25, 22, 22, 8) \n",
      "roc-auc: 0.576, mcc: 0.068, pres: 0.571, recall: 0.560, f1: 0.564\n",
      "{'auc': 0.576, 'mcc': 0.068, 'pres': 0.571, 'recall': 0.56, 'f1': 0.564, 'i': 4.0, 'repeat_seed': 128.0}\n",
      "################################################## repeat_seed: 128; fold_05 ##################################################\n",
      "\n",
      " input train and test X shape is (228, 22, 22, 8), (25, 22, 22, 8) \n",
      "roc-auc: 0.840, mcc: 0.408, pres: 0.728, recall: 0.720, f1: 0.723\n",
      "{'auc': 0.84, 'mcc': 0.408, 'pres': 0.728, 'recall': 0.72, 'f1': 0.723, 'i': 4.0, 'repeat_seed': 128.0}\n",
      "################################################## repeat_seed: 128; fold_06 ##################################################\n",
      "\n",
      " input train and test X shape is (228, 22, 22, 8), (25, 22, 22, 8) \n",
      "roc-auc: 0.549, mcc: 0.175, pres: 0.621, recall: 0.600, f1: 0.607\n",
      "{'auc': 0.549, 'mcc': 0.175, 'pres': 0.621, 'recall': 0.6, 'f1': 0.607, 'i': 4.0, 'repeat_seed': 128.0}\n",
      "################################################## repeat_seed: 128; fold_07 ##################################################\n",
      "\n",
      " input train and test X shape is (228, 22, 22, 8), (25, 22, 22, 8) \n",
      "roc-auc: 0.417, mcc: -0.097, pres: 0.494, recall: 0.520, f1: 0.504\n",
      "{'auc': 0.417, 'mcc': -0.097, 'pres': 0.494, 'recall': 0.52, 'f1': 0.504, 'i': 4.0, 'repeat_seed': 128.0}\n",
      "################################################## repeat_seed: 128; fold_08 ##################################################\n",
      "\n",
      " input train and test X shape is (228, 22, 22, 8), (25, 22, 22, 8) \n",
      "roc-auc: 0.840, mcc: 0.582, pres: 0.848, recall: 0.800, f1: 0.775\n",
      "{'auc': 0.84, 'mcc': 0.582, 'pres': 0.848, 'recall': 0.8, 'f1': 0.775, 'i': 4.0, 'repeat_seed': 128.0}\n",
      "################################################## repeat_seed: 128; fold_09 ##################################################\n",
      "\n",
      " input train and test X shape is (228, 22, 22, 8), (25, 22, 22, 8) \n",
      "roc-auc: 0.778, mcc: 0.408, pres: 0.728, recall: 0.720, f1: 0.723\n",
      "{'auc': 0.778, 'mcc': 0.408, 'pres': 0.728, 'recall': 0.72, 'f1': 0.723, 'i': 4.0, 'repeat_seed': 128.0}\n",
      "\n",
      "\n",
      "results for seed 128\n",
      "{'auc': 0.6529, 'mcc': 0.22159999999999996, 'pres': 0.6521, 'recall': 0.6485, 'f1': 0.6369, 'i': 4.0, 'repeat_seed': 128.0}\n",
      "################################################## repeat_seed: 256; fold_00 ##################################################\n",
      "\n",
      " input train and test X shape is (227, 22, 22, 8), (26, 22, 22, 8) \n",
      "roc-auc: 0.765, mcc: 0.391, pres: 0.725, recall: 0.731, f1: 0.727\n",
      "{'auc': 0.765, 'mcc': 0.391, 'pres': 0.725, 'recall': 0.731, 'f1': 0.727, 'i': 5.0, 'repeat_seed': 256.0}\n",
      "################################################## repeat_seed: 256; fold_01 ##################################################\n",
      "\n",
      " input train and test X shape is (227, 22, 22, 8), (26, 22, 22, 8) \n",
      "roc-auc: 0.660, mcc: 0.138, pres: 0.619, recall: 0.654, f1: 0.609\n",
      "{'auc': 0.66, 'mcc': 0.138, 'pres': 0.619, 'recall': 0.654, 'f1': 0.609, 'i': 5.0, 'repeat_seed': 256.0}\n",
      "################################################## repeat_seed: 256; fold_02 ##################################################\n",
      "\n",
      " input train and test X shape is (227, 22, 22, 8), (26, 22, 22, 8) \n",
      "roc-auc: 0.523, mcc: 0.105, pres: 0.596, recall: 0.615, f1: 0.602\n",
      "{'auc': 0.523, 'mcc': 0.105, 'pres': 0.596, 'recall': 0.615, 'f1': 0.602, 'i': 5.0, 'repeat_seed': 256.0}\n",
      "################################################## repeat_seed: 256; fold_03 ##################################################\n",
      "\n",
      " input train and test X shape is (228, 22, 22, 8), (25, 22, 22, 8) \n",
      "roc-auc: 0.662, mcc: 0.217, pres: 0.661, recall: 0.680, f1: 0.666\n",
      "{'auc': 0.662, 'mcc': 0.217, 'pres': 0.661, 'recall': 0.68, 'f1': 0.666, 'i': 5.0, 'repeat_seed': 256.0}\n",
      "################################################## repeat_seed: 256; fold_04 ##################################################\n",
      "\n",
      " input train and test X shape is (228, 22, 22, 8), (25, 22, 22, 8) \n",
      "roc-auc: 0.674, mcc: 0.238, pres: 0.649, recall: 0.640, f1: 0.644\n",
      "{'auc': 0.674, 'mcc': 0.238, 'pres': 0.649, 'recall': 0.64, 'f1': 0.644, 'i': 5.0, 'repeat_seed': 256.0}\n",
      "################################################## repeat_seed: 256; fold_05 ##################################################\n",
      "\n",
      " input train and test X shape is (228, 22, 22, 8), (25, 22, 22, 8) \n",
      "roc-auc: 0.722, mcc: 0.238, pres: 0.649, recall: 0.640, f1: 0.644\n",
      "{'auc': 0.722, 'mcc': 0.238, 'pres': 0.649, 'recall': 0.64, 'f1': 0.644, 'i': 5.0, 'repeat_seed': 256.0}\n",
      "################################################## repeat_seed: 256; fold_06 ##################################################\n",
      "\n",
      " input train and test X shape is (228, 22, 22, 8), (25, 22, 22, 8) \n",
      "roc-auc: 0.688, mcc: 0.275, pres: 0.668, recall: 0.680, f1: 0.669\n",
      "{'auc': 0.688, 'mcc': 0.275, 'pres': 0.668, 'recall': 0.68, 'f1': 0.669, 'i': 5.0, 'repeat_seed': 256.0}\n",
      "################################################## repeat_seed: 256; fold_07 ##################################################\n",
      "\n",
      " input train and test X shape is (228, 22, 22, 8), (25, 22, 22, 8) \n",
      "roc-auc: 0.771, mcc: 0.460, pres: 0.755, recall: 0.760, f1: 0.752\n",
      "{'auc': 0.771, 'mcc': 0.46, 'pres': 0.755, 'recall': 0.76, 'f1': 0.752, 'i': 5.0, 'repeat_seed': 256.0}\n",
      "################################################## repeat_seed: 256; fold_08 ##################################################\n",
      "\n",
      " input train and test X shape is (228, 22, 22, 8), (25, 22, 22, 8) \n",
      "roc-auc: 0.632, mcc: -0.100, pres: 0.486, recall: 0.560, f1: 0.505\n",
      "{'auc': 0.632, 'mcc': -0.1, 'pres': 0.486, 'recall': 0.56, 'f1': 0.505, 'i': 5.0, 'repeat_seed': 256.0}\n",
      "################################################## repeat_seed: 256; fold_09 ##################################################\n",
      "\n",
      " input train and test X shape is (228, 22, 22, 8), (25, 22, 22, 8) \n",
      "roc-auc: 0.458, mcc: -0.031, pres: 0.524, recall: 0.560, f1: 0.535\n",
      "{'auc': 0.458, 'mcc': -0.031, 'pres': 0.524, 'recall': 0.56, 'f1': 0.535, 'i': 5.0, 'repeat_seed': 256.0}\n",
      "\n",
      "\n",
      "results for seed 256\n",
      "{'auc': 0.6555, 'mcc': 0.1931, 'pres': 0.6332, 'recall': 0.6520000000000001, 'f1': 0.6353, 'i': 5.0, 'repeat_seed': 256.0}\n",
      "################################################## repeat_seed: 1024; fold_00 ##################################################\n",
      "\n",
      " input train and test X shape is (227, 22, 22, 8), (26, 22, 22, 8) \n",
      "roc-auc: 0.549, mcc: 0.177, pres: 0.631, recall: 0.654, f1: 0.633\n",
      "{'auc': 0.549, 'mcc': 0.177, 'pres': 0.631, 'recall': 0.654, 'f1': 0.633, 'i': 6.0, 'repeat_seed': 1024.0}\n",
      "################################################## repeat_seed: 1024; fold_01 ##################################################\n",
      "\n",
      " input train and test X shape is (227, 22, 22, 8), (26, 22, 22, 8) \n",
      "roc-auc: 0.837, mcc: 0.566, pres: 0.804, recall: 0.808, f1: 0.805\n",
      "{'auc': 0.837, 'mcc': 0.566, 'pres': 0.804, 'recall': 0.808, 'f1': 0.805, 'i': 6.0, 'repeat_seed': 1024.0}\n",
      "################################################## repeat_seed: 1024; fold_02 ##################################################\n",
      "\n",
      " input train and test X shape is (227, 22, 22, 8), (26, 22, 22, 8) \n",
      "roc-auc: 0.627, mcc: 0.216, pres: 0.645, recall: 0.654, f1: 0.649\n",
      "{'auc': 0.627, 'mcc': 0.216, 'pres': 0.645, 'recall': 0.654, 'f1': 0.649, 'i': 6.0, 'repeat_seed': 1024.0}\n",
      "################################################## repeat_seed: 1024; fold_03 ##################################################\n",
      "\n",
      " input train and test X shape is (228, 22, 22, 8), (25, 22, 22, 8) \n",
      "roc-auc: 0.596, mcc: 0.217, pres: 0.661, recall: 0.680, f1: 0.666\n",
      "{'auc': 0.596, 'mcc': 0.217, 'pres': 0.661, 'recall': 0.68, 'f1': 0.666, 'i': 6.0, 'repeat_seed': 1024.0}\n",
      "################################################## repeat_seed: 1024; fold_04 ##################################################\n",
      "\n",
      " input train and test X shape is (228, 22, 22, 8), (25, 22, 22, 8) \n",
      "roc-auc: 0.688, mcc: 0.200, pres: 0.632, recall: 0.640, f1: 0.635\n",
      "{'auc': 0.688, 'mcc': 0.2, 'pres': 0.632, 'recall': 0.64, 'f1': 0.635, 'i': 6.0, 'repeat_seed': 1024.0}\n",
      "################################################## repeat_seed: 1024; fold_05 ##################################################\n",
      "\n",
      " input train and test X shape is (228, 22, 22, 8), (25, 22, 22, 8) \n",
      "roc-auc: 0.382, mcc: -0.226, pres: 0.431, recall: 0.480, f1: 0.450\n",
      "{'auc': 0.382, 'mcc': -0.226, 'pres': 0.431, 'recall': 0.48, 'f1': 0.45, 'i': 6.0, 'repeat_seed': 1024.0}\n",
      "################################################## repeat_seed: 1024; fold_06 ##################################################\n",
      "\n",
      " input train and test X shape is (228, 22, 22, 8), (25, 22, 22, 8) \n",
      "roc-auc: 0.771, mcc: 0.306, pres: 0.680, recall: 0.680, f1: 0.680\n",
      "{'auc': 0.771, 'mcc': 0.306, 'pres': 0.68, 'recall': 0.68, 'f1': 0.68, 'i': 6.0, 'repeat_seed': 1024.0}\n",
      "################################################## repeat_seed: 1024; fold_07 ##################################################\n",
      "\n",
      " input train and test X shape is (228, 22, 22, 8), (25, 22, 22, 8) \n",
      "roc-auc: 0.632, mcc: -0.100, pres: 0.486, recall: 0.560, f1: 0.505\n",
      "{'auc': 0.632, 'mcc': -0.1, 'pres': 0.486, 'recall': 0.56, 'f1': 0.505, 'i': 6.0, 'repeat_seed': 1024.0}\n",
      "################################################## repeat_seed: 1024; fold_08 ##################################################\n",
      "\n",
      " input train and test X shape is (228, 22, 22, 8), (25, 22, 22, 8) \n",
      "roc-auc: 0.528, mcc: 0.200, pres: 0.632, recall: 0.640, f1: 0.635\n",
      "{'auc': 0.528, 'mcc': 0.2, 'pres': 0.632, 'recall': 0.64, 'f1': 0.635, 'i': 6.0, 'repeat_seed': 1024.0}\n",
      "################################################## repeat_seed: 1024; fold_09 ##################################################\n",
      "\n",
      " input train and test X shape is (228, 22, 22, 8), (25, 22, 22, 8) \n",
      "roc-auc: 0.764, mcc: 0.554, pres: 0.805, recall: 0.800, f1: 0.789\n",
      "{'auc': 0.764, 'mcc': 0.554, 'pres': 0.805, 'recall': 0.8, 'f1': 0.789, 'i': 6.0, 'repeat_seed': 1024.0}\n",
      "\n",
      "\n",
      "results for seed 1024\n",
      "{'auc': 0.6374, 'mcc': 0.211, 'pres': 0.6406999999999999, 'recall': 0.6596, 'f1': 0.6446999999999999, 'i': 6.0, 'repeat_seed': 1024.0}\n",
      "################################################## repeat_seed: 2048; fold_00 ##################################################\n",
      "\n",
      " input train and test X shape is (227, 22, 22, 8), (26, 22, 22, 8) \n",
      "roc-auc: 0.758, mcc: 0.566, pres: 0.804, recall: 0.808, f1: 0.805\n",
      "{'auc': 0.758, 'mcc': 0.566, 'pres': 0.804, 'recall': 0.808, 'f1': 0.805, 'i': 7.0, 'repeat_seed': 2048.0}\n",
      "################################################## repeat_seed: 2048; fold_01 ##################################################\n",
      "\n",
      " input train and test X shape is (227, 22, 22, 8), (26, 22, 22, 8) \n",
      "roc-auc: 0.614, mcc: 0.320, pres: 0.692, recall: 0.692, f1: 0.692\n",
      "{'auc': 0.614, 'mcc': 0.32, 'pres': 0.692, 'recall': 0.692, 'f1': 0.692, 'i': 7.0, 'repeat_seed': 2048.0}\n",
      "################################################## repeat_seed: 2048; fold_02 ##################################################\n",
      "\n",
      " input train and test X shape is (227, 22, 22, 8), (26, 22, 22, 8) \n",
      "roc-auc: 0.784, mcc: 0.138, pres: 0.619, recall: 0.654, f1: 0.609\n",
      "{'auc': 0.784, 'mcc': 0.138, 'pres': 0.619, 'recall': 0.654, 'f1': 0.609, 'i': 7.0, 'repeat_seed': 2048.0}\n",
      "################################################## repeat_seed: 2048; fold_03 ##################################################\n",
      "\n",
      " input train and test X shape is (228, 22, 22, 8), (25, 22, 22, 8) \n",
      "roc-auc: 0.757, mcc: 0.449, pres: 0.760, recall: 0.760, f1: 0.760\n",
      "{'auc': 0.757, 'mcc': 0.449, 'pres': 0.76, 'recall': 0.76, 'f1': 0.76, 'i': 7.0, 'repeat_seed': 2048.0}\n",
      "################################################## repeat_seed: 2048; fold_04 ##################################################\n",
      "\n",
      " input train and test X shape is (228, 22, 22, 8), (25, 22, 22, 8) \n",
      "roc-auc: 0.472, mcc: -0.031, pres: 0.524, recall: 0.560, f1: 0.535\n",
      "{'auc': 0.472, 'mcc': -0.031, 'pres': 0.524, 'recall': 0.56, 'f1': 0.535, 'i': 7.0, 'repeat_seed': 2048.0}\n",
      "################################################## repeat_seed: 2048; fold_05 ##################################################\n",
      "\n",
      " input train and test X shape is (228, 22, 22, 8), (25, 22, 22, 8) \n",
      "roc-auc: 0.597, mcc: 0.021, pres: 0.549, recall: 0.560, f1: 0.554\n",
      "{'auc': 0.597, 'mcc': 0.021, 'pres': 0.549, 'recall': 0.56, 'f1': 0.554, 'i': 7.0, 'repeat_seed': 2048.0}\n",
      "################################################## repeat_seed: 2048; fold_06 ##################################################\n",
      "\n",
      " input train and test X shape is (228, 22, 22, 8), (25, 22, 22, 8) \n",
      "roc-auc: 0.743, mcc: 0.359, pres: 0.712, recall: 0.720, f1: 0.704\n",
      "{'auc': 0.743, 'mcc': 0.359, 'pres': 0.712, 'recall': 0.72, 'f1': 0.704, 'i': 7.0, 'repeat_seed': 2048.0}\n",
      "################################################## repeat_seed: 2048; fold_07 ##################################################\n",
      "\n",
      " input train and test X shape is (228, 22, 22, 8), (25, 22, 22, 8) \n",
      "roc-auc: 0.382, mcc: -0.226, pres: 0.431, recall: 0.480, f1: 0.450\n",
      "{'auc': 0.382, 'mcc': -0.226, 'pres': 0.431, 'recall': 0.48, 'f1': 0.45, 'i': 7.0, 'repeat_seed': 2048.0}\n",
      "################################################## repeat_seed: 2048; fold_08 ##################################################\n",
      "\n",
      " input train and test X shape is (228, 22, 22, 8), (25, 22, 22, 8) \n",
      "roc-auc: 0.743, mcc: 0.557, pres: 0.797, recall: 0.800, f1: 0.797\n",
      "{'auc': 0.743, 'mcc': 0.557, 'pres': 0.797, 'recall': 0.8, 'f1': 0.797, 'i': 7.0, 'repeat_seed': 2048.0}\n",
      "################################################## repeat_seed: 2048; fold_09 ##################################################\n",
      "\n",
      " input train and test X shape is (228, 22, 22, 8), (25, 22, 22, 8) \n",
      "roc-auc: 0.674, mcc: 0.379, pres: 0.714, recall: 0.720, f1: 0.716\n",
      "{'auc': 0.674, 'mcc': 0.379, 'pres': 0.714, 'recall': 0.72, 'f1': 0.716, 'i': 7.0, 'repeat_seed': 2048.0}\n",
      "\n",
      "\n",
      "results for seed 2048\n",
      "{'auc': 0.6524, 'mcc': 0.2532, 'pres': 0.6602, 'recall': 0.6754, 'f1': 0.6622, 'i': 7.0, 'repeat_seed': 2048.0}\n",
      "################################################## repeat_seed: 4096; fold_00 ##################################################\n",
      "\n",
      " input train and test X shape is (227, 22, 22, 8), (26, 22, 22, 8) \n",
      "roc-auc: 0.752, mcc: 0.260, pres: 0.675, recall: 0.692, f1: 0.665\n",
      "{'auc': 0.752, 'mcc': 0.26, 'pres': 0.675, 'recall': 0.692, 'f1': 0.665, 'i': 8.0, 'repeat_seed': 4096.0}\n",
      "################################################## repeat_seed: 4096; fold_01 ##################################################\n",
      "\n",
      " input train and test X shape is (227, 22, 22, 8), (26, 22, 22, 8) \n",
      "roc-auc: 0.549, mcc: -0.015, pres: 0.540, recall: 0.577, f1: 0.552\n",
      "{'auc': 0.549, 'mcc': -0.015, 'pres': 0.54, 'recall': 0.577, 'f1': 0.552, 'i': 8.0, 'repeat_seed': 4096.0}\n",
      "################################################## repeat_seed: 4096; fold_02 ##################################################\n",
      "\n",
      " input train and test X shape is (227, 22, 22, 8), (26, 22, 22, 8) \n",
      "roc-auc: 0.595, mcc: 0.040, pres: 0.566, recall: 0.577, f1: 0.571\n",
      "{'auc': 0.595, 'mcc': 0.04, 'pres': 0.566, 'recall': 0.577, 'f1': 0.571, 'i': 8.0, 'repeat_seed': 4096.0}\n",
      "################################################## repeat_seed: 4096; fold_03 ##################################################\n",
      "\n",
      " input train and test X shape is (228, 22, 22, 8), (25, 22, 22, 8) \n",
      "roc-auc: 0.449, mcc: 0.081, pres: 0.600, recall: 0.600, f1: 0.600\n",
      "{'auc': 0.449, 'mcc': 0.081, 'pres': 0.6, 'recall': 0.6, 'f1': 0.6, 'i': 8.0, 'repeat_seed': 4096.0}\n",
      "################################################## repeat_seed: 4096; fold_04 ##################################################\n",
      "\n",
      " input train and test X shape is (228, 22, 22, 8), (25, 22, 22, 8) \n",
      "roc-auc: 0.528, mcc: 0.042, pres: 0.560, recall: 0.600, f1: 0.565\n",
      "{'auc': 0.528, 'mcc': 0.042, 'pres': 0.56, 'recall': 0.6, 'f1': 0.565, 'i': 8.0, 'repeat_seed': 4096.0}\n",
      "################################################## repeat_seed: 4096; fold_05 ##################################################\n",
      "\n",
      " input train and test X shape is (228, 22, 22, 8), (25, 22, 22, 8) \n",
      "roc-auc: 0.639, mcc: 0.275, pres: 0.668, recall: 0.680, f1: 0.669\n",
      "{'auc': 0.639, 'mcc': 0.275, 'pres': 0.668, 'recall': 0.68, 'f1': 0.669, 'i': 8.0, 'repeat_seed': 4096.0}\n",
      "################################################## repeat_seed: 4096; fold_06 ##################################################\n",
      "\n",
      " input train and test X shape is (228, 22, 22, 8), (25, 22, 22, 8) \n",
      "roc-auc: 0.722, mcc: 0.557, pres: 0.797, recall: 0.800, f1: 0.797\n",
      "{'auc': 0.722, 'mcc': 0.557, 'pres': 0.797, 'recall': 0.8, 'f1': 0.797, 'i': 8.0, 'repeat_seed': 4096.0}\n",
      "################################################## repeat_seed: 4096; fold_07 ##################################################\n",
      "\n",
      " input train and test X shape is (228, 22, 22, 8), (25, 22, 22, 8) \n",
      "roc-auc: 0.618, mcc: 0.236, pres: 0.676, recall: 0.680, f1: 0.625\n",
      "{'auc': 0.618, 'mcc': 0.236, 'pres': 0.676, 'recall': 0.68, 'f1': 0.625, 'i': 8.0, 'repeat_seed': 4096.0}\n",
      "################################################## repeat_seed: 4096; fold_08 ##################################################\n",
      "\n",
      " input train and test X shape is (228, 22, 22, 8), (25, 22, 22, 8) \n",
      "roc-auc: 0.694, mcc: 0.250, pres: 0.664, recall: 0.680, f1: 0.652\n",
      "{'auc': 0.694, 'mcc': 0.25, 'pres': 0.664, 'recall': 0.68, 'f1': 0.652, 'i': 8.0, 'repeat_seed': 4096.0}\n",
      "################################################## repeat_seed: 4096; fold_09 ##################################################\n",
      "\n",
      " input train and test X shape is (228, 22, 22, 8), (25, 22, 22, 8) \n",
      "roc-auc: 0.590, mcc: 0.007, pres: 0.542, recall: 0.520, f1: 0.528\n",
      "{'auc': 0.59, 'mcc': 0.007, 'pres': 0.542, 'recall': 0.52, 'f1': 0.528, 'i': 8.0, 'repeat_seed': 4096.0}\n",
      "\n",
      "\n",
      "results for seed 4096\n",
      "{'auc': 0.6136, 'mcc': 0.1733, 'pres': 0.6288, 'recall': 0.6405999999999998, 'f1': 0.6224000000000001, 'i': 8.0, 'repeat_seed': 4096.0}\n",
      "################################################## repeat_seed: 8192; fold_00 ##################################################\n",
      "\n",
      " input train and test X shape is (227, 22, 22, 8), (26, 22, 22, 8) \n",
      "roc-auc: 0.680, mcc: 0.216, pres: 0.645, recall: 0.654, f1: 0.649\n",
      "{'auc': 0.68, 'mcc': 0.216, 'pres': 0.645, 'recall': 0.654, 'f1': 0.649, 'i': 9.0, 'repeat_seed': 8192.0}\n",
      "################################################## repeat_seed: 8192; fold_01 ##################################################\n",
      "\n",
      " input train and test X shape is (227, 22, 22, 8), (26, 22, 22, 8) \n",
      "roc-auc: 0.693, mcc: 0.359, pres: 0.712, recall: 0.692, f1: 0.698\n",
      "{'auc': 0.693, 'mcc': 0.359, 'pres': 0.712, 'recall': 0.692, 'f1': 0.698, 'i': 9.0, 'repeat_seed': 8192.0}\n",
      "################################################## repeat_seed: 8192; fold_02 ##################################################\n",
      "\n",
      " input train and test X shape is (227, 22, 22, 8), (26, 22, 22, 8) \n",
      "roc-auc: 0.523, mcc: 0.040, pres: 0.566, recall: 0.577, f1: 0.571\n",
      "{'auc': 0.523, 'mcc': 0.04, 'pres': 0.566, 'recall': 0.577, 'f1': 0.571, 'i': 9.0, 'repeat_seed': 8192.0}\n",
      "################################################## repeat_seed: 8192; fold_03 ##################################################\n",
      "\n",
      " input train and test X shape is (228, 22, 22, 8), (25, 22, 22, 8) \n",
      "roc-auc: 0.669, mcc: 0.300, pres: 0.702, recall: 0.720, f1: 0.699\n",
      "{'auc': 0.669, 'mcc': 0.3, 'pres': 0.702, 'recall': 0.72, 'f1': 0.699, 'i': 9.0, 'repeat_seed': 8192.0}\n",
      "################################################## repeat_seed: 8192; fold_04 ##################################################\n",
      "\n",
      " input train and test X shape is (228, 22, 22, 8), (25, 22, 22, 8) \n",
      "roc-auc: 0.639, mcc: 0.132, pres: 0.600, recall: 0.600, f1: 0.600\n",
      "{'auc': 0.639, 'mcc': 0.132, 'pres': 0.6, 'recall': 0.6, 'f1': 0.6, 'i': 9.0, 'repeat_seed': 8192.0}\n",
      "################################################## repeat_seed: 8192; fold_05 ##################################################\n",
      "\n",
      " input train and test X shape is (228, 22, 22, 8), (25, 22, 22, 8) \n",
      "roc-auc: 0.538, mcc: 0.086, pres: 0.597, recall: 0.640, f1: 0.558\n",
      "{'auc': 0.538, 'mcc': 0.086, 'pres': 0.597, 'recall': 0.64, 'f1': 0.558, 'i': 9.0, 'repeat_seed': 8192.0}\n",
      "################################################## repeat_seed: 8192; fold_06 ##################################################\n",
      "\n",
      " input train and test X shape is (228, 22, 22, 8), (25, 22, 22, 8) \n",
      "roc-auc: 0.674, mcc: 0.275, pres: 0.668, recall: 0.680, f1: 0.669\n",
      "{'auc': 0.674, 'mcc': 0.275, 'pres': 0.668, 'recall': 0.68, 'f1': 0.669, 'i': 9.0, 'repeat_seed': 8192.0}\n",
      "################################################## repeat_seed: 8192; fold_07 ##################################################\n",
      "\n",
      " input train and test X shape is (228, 22, 22, 8), (25, 22, 22, 8) \n",
      "roc-auc: 0.833, mcc: 0.379, pres: 0.714, recall: 0.720, f1: 0.716\n",
      "{'auc': 0.833, 'mcc': 0.379, 'pres': 0.714, 'recall': 0.72, 'f1': 0.716, 'i': 9.0, 'repeat_seed': 8192.0}\n",
      "################################################## repeat_seed: 8192; fold_08 ##################################################\n",
      "\n",
      " input train and test X shape is (228, 22, 22, 8), (25, 22, 22, 8) \n",
      "roc-auc: 0.674, mcc: 0.132, pres: 0.600, recall: 0.600, f1: 0.600\n",
      "{'auc': 0.674, 'mcc': 0.132, 'pres': 0.6, 'recall': 0.6, 'f1': 0.6, 'i': 9.0, 'repeat_seed': 8192.0}\n",
      "################################################## repeat_seed: 8192; fold_09 ##################################################\n",
      "\n",
      " input train and test X shape is (228, 22, 22, 8), (25, 22, 22, 8) \n",
      "roc-auc: 0.465, mcc: -0.167, pres: 0.456, recall: 0.520, f1: 0.478\n",
      "{'auc': 0.465, 'mcc': -0.167, 'pres': 0.456, 'recall': 0.52, 'f1': 0.478, 'i': 9.0, 'repeat_seed': 8192.0}\n",
      "\n",
      "\n",
      "results for seed 8192\n",
      "{'auc': 0.6388, 'mcc': 0.17520000000000005, 'pres': 0.6260000000000001, 'recall': 0.6402999999999999, 'f1': 0.6238, 'i': 9.0, 'repeat_seed': 8192.0}\n"
     ]
    }
   ],
   "source": [
    "gpuid = 6\n",
    "\n",
    "outer_fold = 10\n",
    "repeat_seeds = [8, 16, 32, 64, 128, 256, 1024, 2048, 4096, 8192] #10 repeats random seeds 8, 16, 32, 64, 128\n",
    "\n",
    "each_fold_results = []\n",
    "run_all_res = []\n",
    "\n",
    "for i, repeat_seed in enumerate(repeat_seeds): \n",
    "    outer = StratifiedKFold(n_splits = outer_fold, shuffle = True, random_state = repeat_seed)\n",
    "    outer_idx = outer.split(range(len(dfy)), dfy.idxmax(axis=1))\n",
    "    run_one_res = []\n",
    "    one_repeat_results = []\n",
    "    for j, idx in enumerate(outer_idx):\n",
    "        fold_num = \"fold_%s\" % str(j).zfill(2) \n",
    "        print('#'*50 + ' repeat_seed: %s; %s ' % (repeat_seed, fold_num) + '#'*50 )\n",
    "        \n",
    "        train_idx, test_idx = idx\n",
    "\n",
    "        testY = Y[test_idx]\n",
    "        testX = X[test_idx]\n",
    "        \n",
    "        trainX = X[train_idx]\n",
    "        trainY = Y[train_idx]\n",
    "\n",
    "        print(\"\\n input train and test X shape is %s, %s \" % (trainX.shape,  testX.shape))\n",
    "\n",
    "        clf = AggModel.MultiClassEstimator(epochs = 50,  batch_size = 2, verbose = 0, gpuid=gpuid) #\n",
    "        clf.fit(trainX, trainY)  #, \n",
    "        \n",
    "        ## save model for explaination\n",
    "        if i == 0:\n",
    "            clf.save_model(os.path.join(save_dir, '%s.model' % fold_num))\n",
    "            paras = clf.get_params()\n",
    "            paras.update({'featHPs':featHPs})\n",
    "            pd.Series(paras).to_json(os.path.join(save_dir, 'HPs.json'))\n",
    "\n",
    "        pred_proba = clf.predict_proba(testX)\n",
    "        y_true = testY[:,1] \n",
    "        y_score = pred_proba[:,1]\n",
    "        y_pred = np.argmax(pred_proba, axis=1)\n",
    "        \n",
    "        dfr = pd.DataFrame([y_true, y_score, y_pred]).T\n",
    "        dfr.columns = ['y_true', 'y_score', 'y_pred']\n",
    "        dfr.index = dfy.iloc[test_idx].index\n",
    "        auc, mcc, pres, recall, f1  = score(dfr)\n",
    "        run_one_res.append(dfr)\n",
    "        ts = pd.Series([auc, mcc, pres, recall, f1, i, repeat_seed]).round(3)\n",
    "        ts.index = ['auc', 'mcc', 'pres', 'recall', 'f1', 'i', 'repeat_seed']\n",
    "        print(ts.to_dict())\n",
    "        each_fold_results.append(ts.to_dict())    \n",
    "        one_repeat_results.append(ts.to_dict())\n",
    "    print('\\n\\nresults for seed %s' % repeat_seed)\n",
    "    print(pd.DataFrame(one_repeat_results).mean().to_dict())\n",
    "    \n",
    "    run_all_res.append(pd.concat(run_one_res))"
   ]
  },
  {
   "cell_type": "code",
   "execution_count": 6,
   "metadata": {},
   "outputs": [
    {
     "data": {
      "text/plain": [
       "auc       0.64242\n",
       "mcc       0.19896\n",
       "pres      0.63715\n",
       "recall    0.65173\n",
       "f1        0.63554\n",
       "i         4.50000\n",
       "dtype: float64"
      ]
     },
     "execution_count": 6,
     "metadata": {},
     "output_type": "execute_result"
    }
   ],
   "source": [
    "pd.DataFrame(each_fold_results).groupby('repeat_seed').mean().mean()"
   ]
  },
  {
   "cell_type": "code",
   "execution_count": 7,
   "metadata": {},
   "outputs": [
    {
     "data": {
      "text/plain": [
       "auc       0.113380\n",
       "mcc       0.199374\n",
       "pres      0.095793\n",
       "recall    0.081050\n",
       "f1        0.087811\n",
       "i         0.000000\n",
       "dtype: float64"
      ]
     },
     "execution_count": 7,
     "metadata": {},
     "output_type": "execute_result"
    }
   ],
   "source": [
    "pd.DataFrame(each_fold_results).groupby('repeat_seed').std().mean()"
   ]
  },
  {
   "cell_type": "code",
   "execution_count": 8,
   "metadata": {},
   "outputs": [],
   "source": [
    "pd.DataFrame(each_fold_results).to_csv(os.path.join(save_dir, 'performance_results.csv'))"
   ]
  },
  {
   "cell_type": "code",
   "execution_count": null,
   "metadata": {},
   "outputs": [],
   "source": []
  },
  {
   "cell_type": "code",
   "execution_count": null,
   "metadata": {},
   "outputs": [],
   "source": []
  },
  {
   "cell_type": "code",
   "execution_count": null,
   "metadata": {},
   "outputs": [],
   "source": []
  },
  {
   "cell_type": "markdown",
   "metadata": {},
   "source": [
    "# feature importance"
   ]
  },
  {
   "cell_type": "code",
   "execution_count": 24,
   "metadata": {},
   "outputs": [
    {
     "name": "stderr",
     "output_type": "stream",
     "text": [
      "  0%|          | 0/484 [00:00<?, ?it/s]"
     ]
    },
    {
     "name": "stdout",
     "output_type": "stream",
     "text": [
      "calculating feature importance for column 1 ...\n"
     ]
    },
    {
     "name": "stderr",
     "output_type": "stream",
     "text": [
      "100%|##########| 484/484 [00:31<00:00, 15.60it/s]\n",
      "  0%|          | 0/484 [00:00<?, ?it/s]"
     ]
    },
    {
     "name": "stdout",
     "output_type": "stream",
     "text": [
      "calculating feature importance for column 1 ...\n"
     ]
    },
    {
     "name": "stderr",
     "output_type": "stream",
     "text": [
      "100%|##########| 484/484 [00:29<00:00, 16.59it/s]\n",
      "  0%|          | 0/484 [00:00<?, ?it/s]"
     ]
    },
    {
     "name": "stdout",
     "output_type": "stream",
     "text": [
      "calculating feature importance for column 1 ...\n"
     ]
    },
    {
     "name": "stderr",
     "output_type": "stream",
     "text": [
      "100%|##########| 484/484 [00:42<00:00, 11.49it/s]\n",
      "  0%|          | 0/484 [00:00<?, ?it/s]"
     ]
    },
    {
     "name": "stdout",
     "output_type": "stream",
     "text": [
      "calculating feature importance for column 1 ...\n"
     ]
    },
    {
     "name": "stderr",
     "output_type": "stream",
     "text": [
      "100%|##########| 484/484 [00:47<00:00, 10.23it/s]\n",
      "  0%|          | 0/484 [00:00<?, ?it/s]"
     ]
    },
    {
     "name": "stdout",
     "output_type": "stream",
     "text": [
      "calculating feature importance for column 1 ...\n"
     ]
    },
    {
     "name": "stderr",
     "output_type": "stream",
     "text": [
      "100%|##########| 484/484 [00:45<00:00, 10.74it/s]\n",
      "  0%|          | 0/484 [00:00<?, ?it/s]"
     ]
    },
    {
     "name": "stdout",
     "output_type": "stream",
     "text": [
      "calculating feature importance for column 1 ...\n"
     ]
    },
    {
     "name": "stderr",
     "output_type": "stream",
     "text": [
      "100%|##########| 484/484 [00:24<00:00, 19.37it/s]\n",
      "  0%|          | 0/484 [00:00<?, ?it/s]"
     ]
    },
    {
     "name": "stdout",
     "output_type": "stream",
     "text": [
      "calculating feature importance for column 1 ...\n"
     ]
    },
    {
     "name": "stderr",
     "output_type": "stream",
     "text": [
      "100%|##########| 484/484 [00:13<00:00, 36.16it/s]\n",
      "  0%|          | 0/484 [00:00<?, ?it/s]"
     ]
    },
    {
     "name": "stdout",
     "output_type": "stream",
     "text": [
      "calculating feature importance for column 1 ...\n"
     ]
    },
    {
     "name": "stderr",
     "output_type": "stream",
     "text": [
      "100%|##########| 484/484 [00:13<00:00, 36.03it/s]\n",
      "  0%|          | 0/484 [00:00<?, ?it/s]"
     ]
    },
    {
     "name": "stdout",
     "output_type": "stream",
     "text": [
      "calculating feature importance for column 1 ...\n"
     ]
    },
    {
     "name": "stderr",
     "output_type": "stream",
     "text": [
      "100%|##########| 484/484 [00:13<00:00, 35.56it/s]\n",
      "  0%|          | 0/484 [00:00<?, ?it/s]"
     ]
    },
    {
     "name": "stdout",
     "output_type": "stream",
     "text": [
      "calculating feature importance for column 1 ...\n"
     ]
    },
    {
     "name": "stderr",
     "output_type": "stream",
     "text": [
      "100%|##########| 484/484 [00:14<00:00, 32.35it/s]\n"
     ]
    }
   ],
   "source": [
    "all_imps = []\n",
    "for i in range(10):\n",
    "    clf = load_model(os.path.join(save_dir, 'fold_%s.model' % str(i).zfill(2)))\n",
    "    dfe = clf.explain_model(mp, clf.X_, clf.y_, binary_task=True, apply_logrithm=False)\n",
    "    df_imp = dfe.col_1_importance.to_frame(name = 'fold_%s_imp' % str(i).zfill(2))\n",
    "    all_imps.append(df_imp)"
   ]
  },
  {
   "cell_type": "code",
   "execution_count": 25,
   "metadata": {},
   "outputs": [],
   "source": [
    "dfi = dfe[dfe.columns[:-1]]\n",
    "dfi['scatter_x'] = dfi.v.map(mp.df_embedding.x)\n",
    "dfi['scatter_y'] = dfi.v.map(mp.df_embedding.y)\n",
    "\n",
    "dfimp_all = pd.concat(all_imps, axis=1)\n",
    "dfi = dfi.join(dfimp_all.mean(axis=1).to_frame(name = 'avg_imp'))\n",
    "dfi = dfi.join(dfimp_all)\n",
    "dfi.to_csv(os.path.join(save_dir, 'feature_imp_results.csv'))"
   ]
  },
  {
   "cell_type": "code",
   "execution_count": null,
   "metadata": {},
   "outputs": [],
   "source": []
  },
  {
   "cell_type": "code",
   "execution_count": 29,
   "metadata": {},
   "outputs": [
    {
     "data": {
      "text/plain": [
       "<matplotlib.axes._subplots.AxesSubplot at 0x7f2084249828>"
      ]
     },
     "execution_count": 29,
     "metadata": {},
     "output_type": "execute_result"
    },
    {
     "data": {
      "image/png": "[encoded data removed]",
      "text/plain": [
       "<Figure size 432x288 with 2 Axes>"
      ]
     },
     "metadata": {
      "needs_background": "light"
     },
     "output_type": "display_data"
    }
   ],
   "source": [
    "sns.heatmap(dfi.avg_imp.values.reshape(*mp.fmap_shape), vmin=0, vmax=5, cmap = 'jet')"
   ]
  },
  {
   "cell_type": "code",
   "execution_count": 33,
   "metadata": {},
   "outputs": [
    {
     "data": {
      "text/plain": [
       "355    16.120526\n",
       "335     6.987221\n",
       "315     5.575095\n",
       "338     3.741903\n",
       "269     2.613542\n",
       "337     2.577776\n",
       "336     2.228910\n",
       "313     2.212121\n",
       "442     2.031295\n",
       "246     1.840159\n",
       "379     1.823118\n",
       "162     1.563421\n",
       "222     1.391112\n",
       "312     1.219480\n",
       "317     1.196944\n",
       "333     1.181315\n",
       "228     0.938736\n",
       "267     0.929964\n",
       "248     0.821031\n",
       "357     0.733433\n",
       "Name: avg_imp, dtype: float64"
      ]
     },
     "execution_count": 33,
     "metadata": {},
     "output_type": "execute_result"
    }
   ],
   "source": [
    "dfi.avg_imp.sort_values(ascending=False).head(20)"
   ]
  },
  {
   "cell_type": "code",
   "execution_count": null,
   "metadata": {},
   "outputs": [],
   "source": []
  },
  {
   "cell_type": "code",
   "execution_count": null,
   "metadata": {},
   "outputs": [],
   "source": []
  },
  {
   "cell_type": "code",
   "execution_count": null,
   "metadata": {},
   "outputs": [],
   "source": []
  },
  {
   "cell_type": "code",
   "execution_count": null,
   "metadata": {},
   "outputs": [],
   "source": []
  },
  {
   "cell_type": "code",
   "execution_count": null,
   "metadata": {},
   "outputs": [],
   "source": []
  }
 ],
 "metadata": {
  "kernelspec": {
   "display_name": "Python 3",
   "language": "python",
   "name": "python3"
  },
  "language_info": {
   "codemirror_mode": {
    "name": "ipython",
    "version": 3
   },
   "file_extension": ".py",
   "mimetype": "text/x-python",
   "name": "python",
   "nbconvert_exporter": "python",
   "pygments_lexer": "ipython3",
   "version": "3.6.10"
  }
 },
 "nbformat": 4,
 "nbformat_minor": 4
}
