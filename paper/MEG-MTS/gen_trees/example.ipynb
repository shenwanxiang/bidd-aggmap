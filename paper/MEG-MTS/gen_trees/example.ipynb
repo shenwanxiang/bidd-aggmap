{
 "cells": [
  {
   "cell_type": "code",
   "execution_count": 1,
   "metadata": {},
   "outputs": [],
   "source": [
    "import csv\n",
    "from collections import defaultdict\n",
    "from pprint import pprint\n",
    "import pandas as pd\n",
    "\n",
    "def tree(): \n",
    "    return defaultdict(tree)\n",
    "\n",
    "def tree_add(t, path):\n",
    "    for node in path:\n",
    "        t = t[node]\n",
    "\n",
    "def pprint_tree(tree_instance):\n",
    "    def dicts(t): return {k: dicts(t[k]) for k in t}\n",
    "    pprint(dicts(tree_instance))\n",
    "\n",
    "def dfs_to_tree(dfs):\n",
    "    t = tree()\n",
    "    for i in range(len(dfs)):\n",
    "        row = dfs.iloc[i].dropna().tolist()\n",
    "        tree_add(t, row)\n",
    "    return t\n",
    "\n",
    "def tree_to_newick(root):\n",
    "    items = []\n",
    "    for k in root.keys():\n",
    "        s = ''\n",
    "        if len(root[k].keys()) > 0:\n",
    "            sub_tree = tree_to_newick(root[k])\n",
    "            if sub_tree != '':\n",
    "                s += '(' + sub_tree + ')'\n",
    "        s += k\n",
    "        items.append(s)\n",
    "    return ','.join(items)\n",
    "\n",
    "def dfs_to_weightless_newick(dfs):\n",
    "    t = dfs_to_tree(dfs)\n",
    "    newick_tree = tree_to_newick(t)\n",
    "    return newick_tree\n",
    "\n",
    "\n",
    "if __name__ == '__main__':\n",
    "    \n",
    "    species_list = pd.read_csv('./species.list.csv', header=None,index_col=0)[1].to_list()\n",
    "    dfs = pd.Series(species_list).apply(lambda x: dict([i.split('__') for i in x.split('|')])).apply(pd.Series)\n",
    "    level_dict = {'k':'kingdom', 'p':'phylum', 'c':'class' ,'o':'order' ,'f':'family' ,'g': 'genus','s': 'species'}\n",
    "    dfs = dfs.rename(columns=level_dict)\n",
    "    nwk_string = dfs_to_weightless_newick(dfs)\n",
    "    with open(\"1.nwk\", \"w\") as f:\n",
    "        f.write(nwk_string)"
   ]
  },
  {
   "cell_type": "code",
   "execution_count": null,
   "metadata": {},
   "outputs": [],
   "source": []
  },
  {
   "cell_type": "code",
   "execution_count": 7,
   "metadata": {},
   "outputs": [],
   "source": []
  },
  {
   "cell_type": "code",
   "execution_count": null,
   "metadata": {},
   "outputs": [],
   "source": []
  },
  {
   "cell_type": "code",
   "execution_count": null,
   "metadata": {},
   "outputs": [],
   "source": []
  },
  {
   "cell_type": "code",
   "execution_count": null,
   "metadata": {},
   "outputs": [],
   "source": []
  },
  {
   "cell_type": "code",
   "execution_count": null,
   "metadata": {},
   "outputs": [],
   "source": []
  }
 ],
 "metadata": {
  "kernelspec": {
   "display_name": "Python 3",
   "language": "python",
   "name": "python3"
  },
  "language_info": {
   "codemirror_mode": {
    "name": "ipython",
    "version": 3
   },
   "file_extension": ".py",
   "mimetype": "text/x-python",
   "name": "python",
   "nbconvert_exporter": "python",
   "pygments_lexer": "ipython3",
   "version": "3.6.9"
  }
 },
 "nbformat": 4,
 "nbformat_minor": 4
}
