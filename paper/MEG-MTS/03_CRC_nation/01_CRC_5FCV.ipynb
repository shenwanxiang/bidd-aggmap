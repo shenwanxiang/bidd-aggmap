{
 "cells": [
  {
   "cell_type": "code",
   "execution_count": 2,
   "metadata": {},
   "outputs": [],
   "source": [
    "import warnings\n",
    "warnings.filterwarnings(\"ignore\")\n",
    "\n",
    "\n",
    "import pandas as pd\n",
    "import numpy as np\n",
    "\n",
    "from sklearn.model_selection import KFold, StratifiedKFold\n",
    "from sklearn.metrics import confusion_matrix, precision_recall_curve\n",
    "from sklearn.metrics import auc as calculate_auc\n",
    "from sklearn.datasets import load_breast_cancer\n",
    "\n",
    "import matplotlib.pyplot as plt\n",
    "import seaborn as sns\n",
    "\n",
    "from aggmap import AggMap, AggModel\n",
    "\n",
    "np.random.seed(777) #just for reaptable results\n",
    "\n",
    "\n",
    "color = sns.color_palette(\"rainbow_r\", 6) #PiYG\n",
    "sns.palplot(color)"
   ]
  },
  {
   "cell_type": "code",
   "execution_count": null,
   "metadata": {},
   "outputs": [],
   "source": []
  },
  {
   "cell_type": "code",
   "execution_count": 3,
   "metadata": {},
   "outputs": [],
   "source": [
    "dfx = pd.read_excel('./CRC.xlsx', sheet_name='data')\n",
    "dfx = dfx[dfx.columns[1:]]\n",
    "dfx = np.log(dfx + 1e-8)\n",
    "\n",
    "feature_groups_df = pd.read_excel('./CRC.xlsx', sheet_name='feature_info')\n",
    "feature_group_list = feature_groups_df.Group.tolist()\n",
    "\n",
    "dfy_all = pd.read_excel('./CRC.xlsx', sheet_name='sample_info')\n",
    "dfy = pd.get_dummies(dfy_all['Group'])\n",
    "\n",
    "\n",
    "\n",
    "X = dfx.values.astype(float)\n",
    "Y = dfy.values.astype(float)\n"
   ]
  },
  {
   "cell_type": "code",
   "execution_count": 5,
   "metadata": {},
   "outputs": [
    {
     "data": {
      "text/html": [
       "<div>\n",
       "<style scoped>\n",
       "    .dataframe tbody tr th:only-of-type {\n",
       "        vertical-align: middle;\n",
       "    }\n",
       "\n",
       "    .dataframe tbody tr th {\n",
       "        vertical-align: top;\n",
       "    }\n",
       "\n",
       "    .dataframe thead th {\n",
       "        text-align: right;\n",
       "    }\n",
       "</style>\n",
       "<table border=\"1\" class=\"dataframe\">\n",
       "  <thead>\n",
       "    <tr style=\"text-align: right;\">\n",
       "      <th></th>\n",
       "      <th>Clostridium saccharogumia [ref_mOTU_v2_0473]</th>\n",
       "      <th>Clostridium innocuum [ref_mOTU_v2_0643]</th>\n",
       "      <th>Clostridium sp. KLE 1755 [ref_mOTU_v2_0860]</th>\n",
       "      <th>Clostridium scindens [ref_mOTU_v2_0883]</th>\n",
       "      <th>Clostridium boltae/clostridioforme [ref_mOTU_v2_0886]</th>\n",
       "      <th>Clostridium butyricum [ref_mOTU_v2_0978]</th>\n",
       "      <th>Clostridium clostridioforme [ref_mOTU_v2_0979]</th>\n",
       "      <th>Clostridium clostridioforme [ref_mOTU_v2_0980]</th>\n",
       "      <th>Clostridium perfringens [ref_mOTU_v2_1117]</th>\n",
       "      <th>Clostridium saccharolyticum [ref_mOTU_v2_1380]</th>\n",
       "      <th>...</th>\n",
       "      <th>unknown Tyzzerella [meta_mOTU_v2_7425]</th>\n",
       "      <th>unknown Veillonella [meta_mOTU_v2_5811]</th>\n",
       "      <th>unknown Veillonellaceae [meta_mOTU_v2_6765]</th>\n",
       "      <th>unknown Veillonellaceae [meta_mOTU_v2_6915]</th>\n",
       "      <th>unknown Verrucomicrobia [meta_mOTU_v2_6061]</th>\n",
       "      <th>Veillonella atypica [ref_mOTU_v2_0561]</th>\n",
       "      <th>Veillonella dispar [ref_mOTU_v2_4469]</th>\n",
       "      <th>Veillonella parvula [ref_mOTU_v2_1042]</th>\n",
       "      <th>Veillonella sp. [ref_mOTU_v2_5068]</th>\n",
       "      <th>Verrucomicrobia bacterium CAG:312_58_20 [meta_mOTU_v2_6090]</th>\n",
       "    </tr>\n",
       "  </thead>\n",
       "  <tbody>\n",
       "    <tr>\n",
       "      <th>0</th>\n",
       "      <td>-9.379543</td>\n",
       "      <td>-18.420681</td>\n",
       "      <td>-9.379543</td>\n",
       "      <td>-8.974117</td>\n",
       "      <td>-9.379543</td>\n",
       "      <td>-18.420681</td>\n",
       "      <td>-18.420681</td>\n",
       "      <td>-18.420681</td>\n",
       "      <td>-18.420681</td>\n",
       "      <td>-18.420681</td>\n",
       "      <td>...</td>\n",
       "      <td>-18.420681</td>\n",
       "      <td>-10.072571</td>\n",
       "      <td>-18.420681</td>\n",
       "      <td>-18.420681</td>\n",
       "      <td>-18.420681</td>\n",
       "      <td>-9.379543</td>\n",
       "      <td>-18.420681</td>\n",
       "      <td>-9.379543</td>\n",
       "      <td>-18.420681</td>\n",
       "      <td>-18.420681</td>\n",
       "    </tr>\n",
       "    <tr>\n",
       "      <th>1</th>\n",
       "      <td>-18.420681</td>\n",
       "      <td>-18.420681</td>\n",
       "      <td>-18.420681</td>\n",
       "      <td>-18.420681</td>\n",
       "      <td>-8.591690</td>\n",
       "      <td>-18.420681</td>\n",
       "      <td>-18.420681</td>\n",
       "      <td>-18.420681</td>\n",
       "      <td>-18.420681</td>\n",
       "      <td>-18.420681</td>\n",
       "      <td>...</td>\n",
       "      <td>-18.420681</td>\n",
       "      <td>-18.420681</td>\n",
       "      <td>-18.420681</td>\n",
       "      <td>-18.420681</td>\n",
       "      <td>-18.420681</td>\n",
       "      <td>-18.420681</td>\n",
       "      <td>-18.420681</td>\n",
       "      <td>-7.205436</td>\n",
       "      <td>-18.420681</td>\n",
       "      <td>-18.420681</td>\n",
       "    </tr>\n",
       "    <tr>\n",
       "      <th>2</th>\n",
       "      <td>-18.420681</td>\n",
       "      <td>-9.631756</td>\n",
       "      <td>-9.226342</td>\n",
       "      <td>-9.631756</td>\n",
       "      <td>-9.226342</td>\n",
       "      <td>-18.420681</td>\n",
       "      <td>-18.420681</td>\n",
       "      <td>-18.420681</td>\n",
       "      <td>-8.938685</td>\n",
       "      <td>-18.420681</td>\n",
       "      <td>...</td>\n",
       "      <td>-18.420681</td>\n",
       "      <td>-8.379102</td>\n",
       "      <td>-18.420681</td>\n",
       "      <td>-18.420681</td>\n",
       "      <td>-18.420681</td>\n",
       "      <td>-8.938685</td>\n",
       "      <td>-9.226342</td>\n",
       "      <td>-8.938685</td>\n",
       "      <td>-8.715557</td>\n",
       "      <td>-18.420681</td>\n",
       "    </tr>\n",
       "    <tr>\n",
       "      <th>3</th>\n",
       "      <td>-5.993957</td>\n",
       "      <td>-18.420681</td>\n",
       "      <td>-18.420681</td>\n",
       "      <td>-18.420681</td>\n",
       "      <td>-7.092562</td>\n",
       "      <td>-18.420681</td>\n",
       "      <td>-18.420681</td>\n",
       "      <td>-18.420681</td>\n",
       "      <td>-18.420681</td>\n",
       "      <td>-18.420681</td>\n",
       "      <td>...</td>\n",
       "      <td>-18.420681</td>\n",
       "      <td>-18.420681</td>\n",
       "      <td>-18.420681</td>\n",
       "      <td>-18.420681</td>\n",
       "      <td>-18.420681</td>\n",
       "      <td>-7.785697</td>\n",
       "      <td>-7.785697</td>\n",
       "      <td>-6.687101</td>\n",
       "      <td>-7.092562</td>\n",
       "      <td>-18.420681</td>\n",
       "    </tr>\n",
       "    <tr>\n",
       "      <th>4</th>\n",
       "      <td>-18.420681</td>\n",
       "      <td>-8.172694</td>\n",
       "      <td>-8.865805</td>\n",
       "      <td>-9.271235</td>\n",
       "      <td>-8.355008</td>\n",
       "      <td>-18.420681</td>\n",
       "      <td>-18.420681</td>\n",
       "      <td>-18.420681</td>\n",
       "      <td>-18.420681</td>\n",
       "      <td>-18.420681</td>\n",
       "      <td>...</td>\n",
       "      <td>-18.420681</td>\n",
       "      <td>-18.420681</td>\n",
       "      <td>-18.420681</td>\n",
       "      <td>-18.420681</td>\n",
       "      <td>-18.420681</td>\n",
       "      <td>-18.420681</td>\n",
       "      <td>-18.420681</td>\n",
       "      <td>-9.964276</td>\n",
       "      <td>-18.420681</td>\n",
       "      <td>-18.420681</td>\n",
       "    </tr>\n",
       "    <tr>\n",
       "      <th>...</th>\n",
       "      <td>...</td>\n",
       "      <td>...</td>\n",
       "      <td>...</td>\n",
       "      <td>...</td>\n",
       "      <td>...</td>\n",
       "      <td>...</td>\n",
       "      <td>...</td>\n",
       "      <td>...</td>\n",
       "      <td>...</td>\n",
       "      <td>...</td>\n",
       "      <td>...</td>\n",
       "      <td>...</td>\n",
       "      <td>...</td>\n",
       "      <td>...</td>\n",
       "      <td>...</td>\n",
       "      <td>...</td>\n",
       "      <td>...</td>\n",
       "      <td>...</td>\n",
       "      <td>...</td>\n",
       "      <td>...</td>\n",
       "      <td>...</td>\n",
       "    </tr>\n",
       "    <tr>\n",
       "      <th>570</th>\n",
       "      <td>-18.420681</td>\n",
       "      <td>-18.420681</td>\n",
       "      <td>-18.420681</td>\n",
       "      <td>-18.420681</td>\n",
       "      <td>-18.420681</td>\n",
       "      <td>-18.420681</td>\n",
       "      <td>-18.420681</td>\n",
       "      <td>-18.420681</td>\n",
       "      <td>-18.420681</td>\n",
       "      <td>-18.420681</td>\n",
       "      <td>...</td>\n",
       "      <td>-7.666201</td>\n",
       "      <td>-18.420681</td>\n",
       "      <td>-18.420681</td>\n",
       "      <td>-18.420681</td>\n",
       "      <td>-18.420681</td>\n",
       "      <td>-18.420681</td>\n",
       "      <td>-18.420681</td>\n",
       "      <td>-18.420681</td>\n",
       "      <td>-18.420681</td>\n",
       "      <td>-18.420681</td>\n",
       "    </tr>\n",
       "    <tr>\n",
       "      <th>571</th>\n",
       "      <td>-18.420681</td>\n",
       "      <td>-18.420681</td>\n",
       "      <td>-18.420681</td>\n",
       "      <td>-18.420681</td>\n",
       "      <td>-10.260526</td>\n",
       "      <td>-18.420681</td>\n",
       "      <td>-18.420681</td>\n",
       "      <td>-18.420681</td>\n",
       "      <td>-18.420681</td>\n",
       "      <td>-8.651317</td>\n",
       "      <td>...</td>\n",
       "      <td>-18.420681</td>\n",
       "      <td>-18.420681</td>\n",
       "      <td>-18.420681</td>\n",
       "      <td>-18.420681</td>\n",
       "      <td>-18.420681</td>\n",
       "      <td>-9.567522</td>\n",
       "      <td>-18.420681</td>\n",
       "      <td>-18.420681</td>\n",
       "      <td>-18.420681</td>\n",
       "      <td>-18.420681</td>\n",
       "    </tr>\n",
       "    <tr>\n",
       "      <th>572</th>\n",
       "      <td>-18.420681</td>\n",
       "      <td>-18.420681</td>\n",
       "      <td>-18.420681</td>\n",
       "      <td>-18.420681</td>\n",
       "      <td>-18.420681</td>\n",
       "      <td>-18.420681</td>\n",
       "      <td>-18.420681</td>\n",
       "      <td>-18.420681</td>\n",
       "      <td>-18.420681</td>\n",
       "      <td>-7.158112</td>\n",
       "      <td>...</td>\n",
       "      <td>-18.420681</td>\n",
       "      <td>-18.420681</td>\n",
       "      <td>-18.420681</td>\n",
       "      <td>-18.420681</td>\n",
       "      <td>-18.420681</td>\n",
       "      <td>-18.420681</td>\n",
       "      <td>-18.420681</td>\n",
       "      <td>-18.420681</td>\n",
       "      <td>-18.420681</td>\n",
       "      <td>-18.420681</td>\n",
       "    </tr>\n",
       "    <tr>\n",
       "      <th>573</th>\n",
       "      <td>-8.155519</td>\n",
       "      <td>-9.254061</td>\n",
       "      <td>-9.254061</td>\n",
       "      <td>-9.254061</td>\n",
       "      <td>-8.560966</td>\n",
       "      <td>-18.420681</td>\n",
       "      <td>-18.420681</td>\n",
       "      <td>-18.420681</td>\n",
       "      <td>-18.420681</td>\n",
       "      <td>-8.560966</td>\n",
       "      <td>...</td>\n",
       "      <td>-18.420681</td>\n",
       "      <td>-9.254061</td>\n",
       "      <td>-18.420681</td>\n",
       "      <td>-18.420681</td>\n",
       "      <td>-18.420681</td>\n",
       "      <td>-18.420681</td>\n",
       "      <td>-18.420681</td>\n",
       "      <td>-9.254061</td>\n",
       "      <td>-18.420681</td>\n",
       "      <td>-18.420681</td>\n",
       "    </tr>\n",
       "    <tr>\n",
       "      <th>574</th>\n",
       "      <td>-18.420681</td>\n",
       "      <td>-18.420681</td>\n",
       "      <td>-18.420681</td>\n",
       "      <td>-18.420681</td>\n",
       "      <td>-18.420681</td>\n",
       "      <td>-18.420681</td>\n",
       "      <td>-18.420681</td>\n",
       "      <td>-18.420681</td>\n",
       "      <td>-18.420681</td>\n",
       "      <td>-9.257024</td>\n",
       "      <td>...</td>\n",
       "      <td>-18.420681</td>\n",
       "      <td>-18.420681</td>\n",
       "      <td>-18.420681</td>\n",
       "      <td>-18.420681</td>\n",
       "      <td>-18.420681</td>\n",
       "      <td>-18.420681</td>\n",
       "      <td>-18.420681</td>\n",
       "      <td>-6.859224</td>\n",
       "      <td>-9.257024</td>\n",
       "      <td>-7.647670</td>\n",
       "    </tr>\n",
       "  </tbody>\n",
       "</table>\n",
       "<p>575 rows × 849 columns</p>\n",
       "</div>"
      ],
      "text/plain": [
       "     Clostridium saccharogumia [ref_mOTU_v2_0473]  \\\n",
       "0                                       -9.379543   \n",
       "1                                      -18.420681   \n",
       "2                                      -18.420681   \n",
       "3                                       -5.993957   \n",
       "4                                      -18.420681   \n",
       "..                                            ...   \n",
       "570                                    -18.420681   \n",
       "571                                    -18.420681   \n",
       "572                                    -18.420681   \n",
       "573                                     -8.155519   \n",
       "574                                    -18.420681   \n",
       "\n",
       "     Clostridium innocuum [ref_mOTU_v2_0643]  \\\n",
       "0                                 -18.420681   \n",
       "1                                 -18.420681   \n",
       "2                                  -9.631756   \n",
       "3                                 -18.420681   \n",
       "4                                  -8.172694   \n",
       "..                                       ...   \n",
       "570                               -18.420681   \n",
       "571                               -18.420681   \n",
       "572                               -18.420681   \n",
       "573                                -9.254061   \n",
       "574                               -18.420681   \n",
       "\n",
       "     Clostridium sp. KLE 1755 [ref_mOTU_v2_0860]  \\\n",
       "0                                      -9.379543   \n",
       "1                                     -18.420681   \n",
       "2                                      -9.226342   \n",
       "3                                     -18.420681   \n",
       "4                                      -8.865805   \n",
       "..                                           ...   \n",
       "570                                   -18.420681   \n",
       "571                                   -18.420681   \n",
       "572                                   -18.420681   \n",
       "573                                    -9.254061   \n",
       "574                                   -18.420681   \n",
       "\n",
       "     Clostridium scindens [ref_mOTU_v2_0883]  \\\n",
       "0                                  -8.974117   \n",
       "1                                 -18.420681   \n",
       "2                                  -9.631756   \n",
       "3                                 -18.420681   \n",
       "4                                  -9.271235   \n",
       "..                                       ...   \n",
       "570                               -18.420681   \n",
       "571                               -18.420681   \n",
       "572                               -18.420681   \n",
       "573                                -9.254061   \n",
       "574                               -18.420681   \n",
       "\n",
       "     Clostridium boltae/clostridioforme [ref_mOTU_v2_0886]  \\\n",
       "0                                            -9.379543       \n",
       "1                                            -8.591690       \n",
       "2                                            -9.226342       \n",
       "3                                            -7.092562       \n",
       "4                                            -8.355008       \n",
       "..                                                 ...       \n",
       "570                                         -18.420681       \n",
       "571                                         -10.260526       \n",
       "572                                         -18.420681       \n",
       "573                                          -8.560966       \n",
       "574                                         -18.420681       \n",
       "\n",
       "     Clostridium butyricum [ref_mOTU_v2_0978]  \\\n",
       "0                                  -18.420681   \n",
       "1                                  -18.420681   \n",
       "2                                  -18.420681   \n",
       "3                                  -18.420681   \n",
       "4                                  -18.420681   \n",
       "..                                        ...   \n",
       "570                                -18.420681   \n",
       "571                                -18.420681   \n",
       "572                                -18.420681   \n",
       "573                                -18.420681   \n",
       "574                                -18.420681   \n",
       "\n",
       "     Clostridium clostridioforme [ref_mOTU_v2_0979]  \\\n",
       "0                                        -18.420681   \n",
       "1                                        -18.420681   \n",
       "2                                        -18.420681   \n",
       "3                                        -18.420681   \n",
       "4                                        -18.420681   \n",
       "..                                              ...   \n",
       "570                                      -18.420681   \n",
       "571                                      -18.420681   \n",
       "572                                      -18.420681   \n",
       "573                                      -18.420681   \n",
       "574                                      -18.420681   \n",
       "\n",
       "     Clostridium clostridioforme [ref_mOTU_v2_0980]  \\\n",
       "0                                        -18.420681   \n",
       "1                                        -18.420681   \n",
       "2                                        -18.420681   \n",
       "3                                        -18.420681   \n",
       "4                                        -18.420681   \n",
       "..                                              ...   \n",
       "570                                      -18.420681   \n",
       "571                                      -18.420681   \n",
       "572                                      -18.420681   \n",
       "573                                      -18.420681   \n",
       "574                                      -18.420681   \n",
       "\n",
       "     Clostridium perfringens [ref_mOTU_v2_1117]  \\\n",
       "0                                    -18.420681   \n",
       "1                                    -18.420681   \n",
       "2                                     -8.938685   \n",
       "3                                    -18.420681   \n",
       "4                                    -18.420681   \n",
       "..                                          ...   \n",
       "570                                  -18.420681   \n",
       "571                                  -18.420681   \n",
       "572                                  -18.420681   \n",
       "573                                  -18.420681   \n",
       "574                                  -18.420681   \n",
       "\n",
       "     Clostridium saccharolyticum [ref_mOTU_v2_1380]  ...  \\\n",
       "0                                        -18.420681  ...   \n",
       "1                                        -18.420681  ...   \n",
       "2                                        -18.420681  ...   \n",
       "3                                        -18.420681  ...   \n",
       "4                                        -18.420681  ...   \n",
       "..                                              ...  ...   \n",
       "570                                      -18.420681  ...   \n",
       "571                                       -8.651317  ...   \n",
       "572                                       -7.158112  ...   \n",
       "573                                       -8.560966  ...   \n",
       "574                                       -9.257024  ...   \n",
       "\n",
       "     unknown Tyzzerella [meta_mOTU_v2_7425]  \\\n",
       "0                                -18.420681   \n",
       "1                                -18.420681   \n",
       "2                                -18.420681   \n",
       "3                                -18.420681   \n",
       "4                                -18.420681   \n",
       "..                                      ...   \n",
       "570                               -7.666201   \n",
       "571                              -18.420681   \n",
       "572                              -18.420681   \n",
       "573                              -18.420681   \n",
       "574                              -18.420681   \n",
       "\n",
       "     unknown Veillonella [meta_mOTU_v2_5811]  \\\n",
       "0                                 -10.072571   \n",
       "1                                 -18.420681   \n",
       "2                                  -8.379102   \n",
       "3                                 -18.420681   \n",
       "4                                 -18.420681   \n",
       "..                                       ...   \n",
       "570                               -18.420681   \n",
       "571                               -18.420681   \n",
       "572                               -18.420681   \n",
       "573                                -9.254061   \n",
       "574                               -18.420681   \n",
       "\n",
       "     unknown Veillonellaceae [meta_mOTU_v2_6765]  \\\n",
       "0                                     -18.420681   \n",
       "1                                     -18.420681   \n",
       "2                                     -18.420681   \n",
       "3                                     -18.420681   \n",
       "4                                     -18.420681   \n",
       "..                                           ...   \n",
       "570                                   -18.420681   \n",
       "571                                   -18.420681   \n",
       "572                                   -18.420681   \n",
       "573                                   -18.420681   \n",
       "574                                   -18.420681   \n",
       "\n",
       "     unknown Veillonellaceae [meta_mOTU_v2_6915]  \\\n",
       "0                                     -18.420681   \n",
       "1                                     -18.420681   \n",
       "2                                     -18.420681   \n",
       "3                                     -18.420681   \n",
       "4                                     -18.420681   \n",
       "..                                           ...   \n",
       "570                                   -18.420681   \n",
       "571                                   -18.420681   \n",
       "572                                   -18.420681   \n",
       "573                                   -18.420681   \n",
       "574                                   -18.420681   \n",
       "\n",
       "     unknown Verrucomicrobia [meta_mOTU_v2_6061]  \\\n",
       "0                                     -18.420681   \n",
       "1                                     -18.420681   \n",
       "2                                     -18.420681   \n",
       "3                                     -18.420681   \n",
       "4                                     -18.420681   \n",
       "..                                           ...   \n",
       "570                                   -18.420681   \n",
       "571                                   -18.420681   \n",
       "572                                   -18.420681   \n",
       "573                                   -18.420681   \n",
       "574                                   -18.420681   \n",
       "\n",
       "     Veillonella atypica [ref_mOTU_v2_0561]  \\\n",
       "0                                 -9.379543   \n",
       "1                                -18.420681   \n",
       "2                                 -8.938685   \n",
       "3                                 -7.785697   \n",
       "4                                -18.420681   \n",
       "..                                      ...   \n",
       "570                              -18.420681   \n",
       "571                               -9.567522   \n",
       "572                              -18.420681   \n",
       "573                              -18.420681   \n",
       "574                              -18.420681   \n",
       "\n",
       "     Veillonella dispar [ref_mOTU_v2_4469]  \\\n",
       "0                               -18.420681   \n",
       "1                               -18.420681   \n",
       "2                                -9.226342   \n",
       "3                                -7.785697   \n",
       "4                               -18.420681   \n",
       "..                                     ...   \n",
       "570                             -18.420681   \n",
       "571                             -18.420681   \n",
       "572                             -18.420681   \n",
       "573                             -18.420681   \n",
       "574                             -18.420681   \n",
       "\n",
       "     Veillonella parvula [ref_mOTU_v2_1042]  \\\n",
       "0                                 -9.379543   \n",
       "1                                 -7.205436   \n",
       "2                                 -8.938685   \n",
       "3                                 -6.687101   \n",
       "4                                 -9.964276   \n",
       "..                                      ...   \n",
       "570                              -18.420681   \n",
       "571                              -18.420681   \n",
       "572                              -18.420681   \n",
       "573                               -9.254061   \n",
       "574                               -6.859224   \n",
       "\n",
       "     Veillonella sp. [ref_mOTU_v2_5068]  \\\n",
       "0                            -18.420681   \n",
       "1                            -18.420681   \n",
       "2                             -8.715557   \n",
       "3                             -7.092562   \n",
       "4                            -18.420681   \n",
       "..                                  ...   \n",
       "570                          -18.420681   \n",
       "571                          -18.420681   \n",
       "572                          -18.420681   \n",
       "573                          -18.420681   \n",
       "574                           -9.257024   \n",
       "\n",
       "     Verrucomicrobia bacterium CAG:312_58_20 [meta_mOTU_v2_6090]  \n",
       "0                                           -18.420681            \n",
       "1                                           -18.420681            \n",
       "2                                           -18.420681            \n",
       "3                                           -18.420681            \n",
       "4                                           -18.420681            \n",
       "..                                                 ...            \n",
       "570                                         -18.420681            \n",
       "571                                         -18.420681            \n",
       "572                                         -18.420681            \n",
       "573                                         -18.420681            \n",
       "574                                          -7.647670            \n",
       "\n",
       "[575 rows x 849 columns]"
      ]
     },
     "execution_count": 5,
     "metadata": {},
     "output_type": "execute_result"
    }
   ],
   "source": [
    "dfx"
   ]
  },
  {
   "cell_type": "code",
   "execution_count": null,
   "metadata": {},
   "outputs": [],
   "source": []
  },
  {
   "cell_type": "code",
   "execution_count": 27,
   "metadata": {},
   "outputs": [
    {
     "name": "stdout",
     "output_type": "stream",
     "text": [
      "2020-08-19 13:15:41,265 - INFO - [bidd-aggmap] - Calculating distance ...\n",
      "2020-08-19 13:15:41,346 - INFO - [bidd-aggmap] - the number of process is 16\n"
     ]
    },
    {
     "name": "stderr",
     "output_type": "stream",
     "text": [
      "100%|##########| 359976/359976 [00:19<00:00, 18369.84it/s]\n",
      "100%|##########| 359976/359976 [00:00<00:00, 1096710.32it/s]\n",
      "100%|##########| 849/849 [00:00<00:00, 979.97it/s] \n"
     ]
    }
   ],
   "source": [
    "mp = AggMap(dfx, metric = 'correlation')"
   ]
  },
  {
   "cell_type": "code",
   "execution_count": 28,
   "metadata": {},
   "outputs": [
    {
     "data": {
      "text/plain": [
       "Country  Group\n",
       "AUS      CRC      46\n",
       "         CTR      63\n",
       "CHI      CRC      74\n",
       "         CTR      54\n",
       "FRA      CRC      53\n",
       "         CTR      61\n",
       "GER      CRC      60\n",
       "         CTR      60\n",
       "USA      CRC      52\n",
       "         CTR      52\n",
       "dtype: int64"
      ]
     },
     "execution_count": 28,
     "metadata": {},
     "output_type": "execute_result"
    }
   ],
   "source": [
    "dfy_all.groupby(['Country', 'Group']).size()"
   ]
  },
  {
   "cell_type": "code",
   "execution_count": 29,
   "metadata": {},
   "outputs": [
    {
     "data": {
      "text/plain": [
       "Country  Group\n",
       "AUS      CRC      [171, 172, 173, 174, 175, 176, 177, 178, 179, ...\n",
       "         CTR      [114, 115, 116, 117, 118, 119, 120, 121, 122, ...\n",
       "CHI      CRC      [223, 224, 225, 226, 227, 228, 229, 230, 232, ...\n",
       "         CTR      [231, 233, 241, 243, 247, 255, 270, 271, 272, ...\n",
       "FRA      CRC      [3, 8, 14, 18, 19, 21, 22, 27, 30, 31, 32, 34,...\n",
       "         CTR      [0, 1, 2, 4, 5, 6, 7, 9, 10, 11, 12, 13, 15, 1...\n",
       "GER      CRC      [457, 458, 459, 460, 461, 466, 467, 468, 469, ...\n",
       "         CTR      [455, 456, 462, 463, 464, 465, 471, 473, 474, ...\n",
       "USA      CRC      [353, 354, 355, 356, 357, 360, 363, 365, 367, ...\n",
       "         CTR      [351, 352, 358, 359, 361, 362, 364, 366, 368, ...\n",
       "dtype: object"
      ]
     },
     "execution_count": 29,
     "metadata": {},
     "output_type": "execute_result"
    }
   ],
   "source": [
    "country_idx = dfy_all.groupby(['Country', 'Group']).apply(lambda x:x.index.tolist())\n",
    "country_idx"
   ]
  },
  {
   "cell_type": "code",
   "execution_count": null,
   "metadata": {},
   "outputs": [],
   "source": []
  },
  {
   "cell_type": "code",
   "execution_count": null,
   "metadata": {},
   "outputs": [
    {
     "name": "stdout",
     "output_type": "stream",
     "text": [
      "2020-08-19 13:16:04,189 - INFO - [bidd-aggmap] - applying hierarchical clustering to obtain group information ...\n",
      "2020-08-19 13:16:07,607 - INFO - [bidd-aggmap] - Applying grid feature map(assignment), this may take several minutes(1~30 min)\n",
      "2020-08-19 13:16:10,128 - INFO - [bidd-aggmap] - Finished\n"
     ]
    },
    {
     "name": "stderr",
     "output_type": "stream",
     "text": [
      "100%|##########| 460/460 [00:18<00:00, 24.27it/s]\n",
      "100%|##########| 115/115 [00:00<00:00, 209.35it/s]\n"
     ]
    },
    {
     "name": "stdout",
     "output_type": "stream",
     "text": [
      "\n",
      " input train and test X shape is (460, 30, 29, 1), (115, 30, 29, 1) \n",
      "MultiClassEstimator(batch_size=128, conv1_kernel_size=11, dense_avf='relu',\n",
      "                    dense_layers=[128], epochs=200, lr=0.0001, metric='PRC',\n",
      "                    monitor='val_loss', name='AggMap MultiClass Estimator',\n",
      "                    patience=10000, random_state=32, verbose=0)\n"
     ]
    },
    {
     "name": "stderr",
     "output_type": "stream",
     "text": [
      "100%|##########| 460/460 [00:00<00:00, 1415.47it/s]\n",
      "100%|##########| 115/115 [00:00<00:00, 770.30it/s]\n"
     ]
    },
    {
     "name": "stdout",
     "output_type": "stream",
     "text": [
      "\n",
      " input train and test X shape is (460, 30, 29, 1), (115, 30, 29, 1) \n",
      "MultiClassEstimator(batch_size=128, conv1_kernel_size=11, dense_avf='relu',\n",
      "                    dense_layers=[128], epochs=200, lr=0.0001, metric='PRC',\n",
      "                    monitor='val_loss', name='AggMap MultiClass Estimator',\n",
      "                    patience=10000, random_state=32, verbose=0)\n"
     ]
    },
    {
     "name": "stderr",
     "output_type": "stream",
     "text": [
      "100%|##########| 460/460 [00:01<00:00, 231.51it/s]\n",
      "100%|##########| 115/115 [00:00<00:00, 230.99it/s]\n"
     ]
    },
    {
     "name": "stdout",
     "output_type": "stream",
     "text": [
      "\n",
      " input train and test X shape is (460, 30, 29, 1), (115, 30, 29, 1) \n",
      "MultiClassEstimator(batch_size=128, conv1_kernel_size=11, dense_avf='relu',\n",
      "                    dense_layers=[128], epochs=200, lr=0.0001, metric='PRC',\n",
      "                    monitor='val_loss', name='AggMap MultiClass Estimator',\n",
      "                    patience=10000, random_state=32, verbose=0)\n"
     ]
    },
    {
     "name": "stderr",
     "output_type": "stream",
     "text": [
      "100%|##########| 460/460 [00:00<00:00, 1477.07it/s]\n",
      "100%|##########| 115/115 [00:00<00:00, 802.81it/s]\n"
     ]
    },
    {
     "name": "stdout",
     "output_type": "stream",
     "text": [
      "\n",
      " input train and test X shape is (460, 30, 29, 1), (115, 30, 29, 1) \n",
      "MultiClassEstimator(batch_size=128, conv1_kernel_size=11, dense_avf='relu',\n",
      "                    dense_layers=[128], epochs=200, lr=0.0001, metric='PRC',\n",
      "                    monitor='val_loss', name='AggMap MultiClass Estimator',\n",
      "                    patience=10000, random_state=32, verbose=0)\n"
     ]
    },
    {
     "name": "stderr",
     "output_type": "stream",
     "text": [
      "100%|##########| 460/460 [00:00<00:00, 1521.05it/s]\n",
      "100%|##########| 115/115 [00:00<00:00, 807.13it/s]\n"
     ]
    },
    {
     "name": "stdout",
     "output_type": "stream",
     "text": [
      "\n",
      " input train and test X shape is (460, 30, 29, 1), (115, 30, 29, 1) \n",
      "MultiClassEstimator(batch_size=128, conv1_kernel_size=11, dense_avf='relu',\n",
      "                    dense_layers=[128], epochs=200, lr=0.0001, metric='PRC',\n",
      "                    monitor='val_loss', name='AggMap MultiClass Estimator',\n",
      "                    patience=10000, random_state=32, verbose=0)\n",
      "2020-08-19 13:34:21,182 - INFO - [bidd-aggmap] - applying hierarchical clustering to obtain group information ...\n",
      "2020-08-19 13:34:23,326 - INFO - [bidd-aggmap] - Applying grid feature map(assignment), this may take several minutes(1~30 min)\n",
      "2020-08-19 13:34:24,956 - INFO - [bidd-aggmap] - Finished\n"
     ]
    },
    {
     "name": "stderr",
     "output_type": "stream",
     "text": [
      "100%|##########| 460/460 [00:00<00:00, 1423.70it/s]\n",
      "100%|##########| 115/115 [00:00<00:00, 932.64it/s]\n"
     ]
    },
    {
     "name": "stdout",
     "output_type": "stream",
     "text": [
      "\n",
      " input train and test X shape is (460, 30, 29, 3), (115, 30, 29, 3) \n",
      "MultiClassEstimator(batch_size=128, conv1_kernel_size=11, dense_avf='relu',\n",
      "                    dense_layers=[128], epochs=200, lr=0.0001, metric='PRC',\n",
      "                    monitor='val_loss', name='AggMap MultiClass Estimator',\n",
      "                    patience=10000, random_state=32, verbose=0)\n"
     ]
    },
    {
     "name": "stderr",
     "output_type": "stream",
     "text": [
      "100%|##########| 460/460 [00:02<00:00, 177.44it/s]\n",
      "100%|##########| 115/115 [00:00<00:00, 233.22it/s]\n"
     ]
    },
    {
     "name": "stdout",
     "output_type": "stream",
     "text": [
      "\n",
      " input train and test X shape is (460, 30, 29, 3), (115, 30, 29, 3) \n",
      "MultiClassEstimator(batch_size=128, conv1_kernel_size=11, dense_avf='relu',\n",
      "                    dense_layers=[128], epochs=200, lr=0.0001, metric='PRC',\n",
      "                    monitor='val_loss', name='AggMap MultiClass Estimator',\n",
      "                    patience=10000, random_state=32, verbose=0)\n"
     ]
    },
    {
     "name": "stderr",
     "output_type": "stream",
     "text": [
      "100%|##########| 460/460 [00:00<00:00, 1281.40it/s]\n",
      "100%|##########| 115/115 [00:00<00:00, 902.33it/s]\n"
     ]
    },
    {
     "name": "stdout",
     "output_type": "stream",
     "text": [
      "\n",
      " input train and test X shape is (460, 30, 29, 3), (115, 30, 29, 3) \n",
      "MultiClassEstimator(batch_size=128, conv1_kernel_size=11, dense_avf='relu',\n",
      "                    dense_layers=[128], epochs=200, lr=0.0001, metric='PRC',\n",
      "                    monitor='val_loss', name='AggMap MultiClass Estimator',\n",
      "                    patience=10000, random_state=32, verbose=0)\n"
     ]
    },
    {
     "name": "stderr",
     "output_type": "stream",
     "text": [
      "100%|##########| 460/460 [00:04<00:00, 103.28it/s]\n",
      "100%|##########| 115/115 [00:00<00:00, 257.95it/s]\n"
     ]
    },
    {
     "name": "stdout",
     "output_type": "stream",
     "text": [
      "\n",
      " input train and test X shape is (460, 30, 29, 3), (115, 30, 29, 3) \n",
      "MultiClassEstimator(batch_size=128, conv1_kernel_size=11, dense_avf='relu',\n",
      "                    dense_layers=[128], epochs=200, lr=0.0001, metric='PRC',\n",
      "                    monitor='val_loss', name='AggMap MultiClass Estimator',\n",
      "                    patience=10000, random_state=32, verbose=0)\n"
     ]
    },
    {
     "name": "stderr",
     "output_type": "stream",
     "text": [
      "100%|##########| 460/460 [00:00<00:00, 1142.97it/s]\n",
      "100%|##########| 115/115 [00:00<00:00, 689.54it/s]\n"
     ]
    },
    {
     "name": "stdout",
     "output_type": "stream",
     "text": [
      "\n",
      " input train and test X shape is (460, 30, 29, 3), (115, 30, 29, 3) \n",
      "MultiClassEstimator(batch_size=128, conv1_kernel_size=11, dense_avf='relu',\n",
      "                    dense_layers=[128], epochs=200, lr=0.0001, metric='PRC',\n",
      "                    monitor='val_loss', name='AggMap MultiClass Estimator',\n",
      "                    patience=10000, random_state=32, verbose=0)\n",
      "2020-08-19 13:55:53,063 - INFO - [bidd-aggmap] - applying hierarchical clustering to obtain group information ...\n",
      "2020-08-19 13:55:55,185 - INFO - [bidd-aggmap] - Applying grid feature map(assignment), this may take several minutes(1~30 min)\n",
      "2020-08-19 13:55:56,802 - INFO - [bidd-aggmap] - Finished\n"
     ]
    },
    {
     "name": "stderr",
     "output_type": "stream",
     "text": [
      "100%|##########| 460/460 [00:00<00:00, 1326.17it/s]\n",
      "100%|##########| 115/115 [00:00<00:00, 695.79it/s]\n"
     ]
    },
    {
     "name": "stdout",
     "output_type": "stream",
     "text": [
      "\n",
      " input train and test X shape is (460, 30, 29, 5), (115, 30, 29, 5) \n",
      "MultiClassEstimator(batch_size=128, conv1_kernel_size=11, dense_avf='relu',\n",
      "                    dense_layers=[128], epochs=200, lr=0.0001, metric='PRC',\n",
      "                    monitor='val_loss', name='AggMap MultiClass Estimator',\n",
      "                    patience=10000, random_state=32, verbose=0)\n"
     ]
    },
    {
     "name": "stderr",
     "output_type": "stream",
     "text": [
      "100%|##########| 460/460 [00:00<00:00, 1370.06it/s]\n",
      "100%|##########| 115/115 [00:00<00:00, 677.54it/s]\n"
     ]
    },
    {
     "name": "stdout",
     "output_type": "stream",
     "text": [
      "\n",
      " input train and test X shape is (460, 30, 29, 5), (115, 30, 29, 5) \n",
      "MultiClassEstimator(batch_size=128, conv1_kernel_size=11, dense_avf='relu',\n",
      "                    dense_layers=[128], epochs=200, lr=0.0001, metric='PRC',\n",
      "                    monitor='val_loss', name='AggMap MultiClass Estimator',\n",
      "                    patience=10000, random_state=32, verbose=0)\n"
     ]
    },
    {
     "name": "stderr",
     "output_type": "stream",
     "text": [
      "100%|##########| 460/460 [00:00<00:00, 1430.12it/s]\n",
      "100%|##########| 115/115 [00:00<00:00, 920.38it/s]\n"
     ]
    },
    {
     "name": "stdout",
     "output_type": "stream",
     "text": [
      "\n",
      " input train and test X shape is (460, 30, 29, 5), (115, 30, 29, 5) \n",
      "MultiClassEstimator(batch_size=128, conv1_kernel_size=11, dense_avf='relu',\n",
      "                    dense_layers=[128], epochs=200, lr=0.0001, metric='PRC',\n",
      "                    monitor='val_loss', name='AggMap MultiClass Estimator',\n",
      "                    patience=10000, random_state=32, verbose=0)\n"
     ]
    },
    {
     "name": "stderr",
     "output_type": "stream",
     "text": [
      "100%|##########| 460/460 [00:00<00:00, 1486.10it/s]\n",
      "100%|##########| 115/115 [00:00<00:00, 921.00it/s]\n"
     ]
    },
    {
     "name": "stdout",
     "output_type": "stream",
     "text": [
      "\n",
      " input train and test X shape is (460, 30, 29, 5), (115, 30, 29, 5) \n",
      "MultiClassEstimator(batch_size=128, conv1_kernel_size=11, dense_avf='relu',\n",
      "                    dense_layers=[128], epochs=200, lr=0.0001, metric='PRC',\n",
      "                    monitor='val_loss', name='AggMap MultiClass Estimator',\n",
      "                    patience=10000, random_state=32, verbose=0)\n"
     ]
    },
    {
     "name": "stderr",
     "output_type": "stream",
     "text": [
      "100%|##########| 460/460 [00:00<00:00, 1226.60it/s]\n",
      "100%|##########| 115/115 [00:00<00:00, 745.22it/s]\n"
     ]
    },
    {
     "name": "stdout",
     "output_type": "stream",
     "text": [
      "\n",
      " input train and test X shape is (460, 30, 29, 5), (115, 30, 29, 5) \n",
      "MultiClassEstimator(batch_size=128, conv1_kernel_size=11, dense_avf='relu',\n",
      "                    dense_layers=[128], epochs=200, lr=0.0001, metric='PRC',\n",
      "                    monitor='val_loss', name='AggMap MultiClass Estimator',\n",
      "                    patience=10000, random_state=32, verbose=0)\n",
      "2020-08-19 14:15:26,656 - INFO - [bidd-aggmap] - applying hierarchical clustering to obtain group information ...\n",
      "2020-08-19 14:15:30,057 - INFO - [bidd-aggmap] - Applying grid feature map(assignment), this may take several minutes(1~30 min)\n",
      "2020-08-19 14:15:32,605 - INFO - [bidd-aggmap] - Finished\n"
     ]
    },
    {
     "name": "stderr",
     "output_type": "stream",
     "text": [
      "100%|##########| 460/460 [00:01<00:00, 232.46it/s]\n",
      "100%|##########| 115/115 [00:00<00:00, 241.12it/s]\n"
     ]
    },
    {
     "name": "stdout",
     "output_type": "stream",
     "text": [
      "\n",
      " input train and test X shape is (460, 30, 29, 1), (115, 30, 29, 1) \n",
      "MultiClassEstimator(batch_size=128, conv1_kernel_size=11, dense_avf='relu',\n",
      "                    dense_layers=[128], epochs=200, lr=0.0001, metric='PRC',\n",
      "                    monitor='val_loss', name='AggMap MultiClass Estimator',\n",
      "                    patience=10000, random_state=32, verbose=0)\n"
     ]
    },
    {
     "name": "stderr",
     "output_type": "stream",
     "text": [
      "100%|##########| 460/460 [00:00<00:00, 1299.37it/s]\n",
      "100%|##########| 115/115 [00:00<00:00, 723.37it/s]\n"
     ]
    },
    {
     "name": "stdout",
     "output_type": "stream",
     "text": [
      "\n",
      " input train and test X shape is (460, 30, 29, 1), (115, 30, 29, 1) \n",
      "MultiClassEstimator(batch_size=128, conv1_kernel_size=11, dense_avf='relu',\n",
      "                    dense_layers=[128], epochs=200, lr=0.0001, metric='PRC',\n",
      "                    monitor='val_loss', name='AggMap MultiClass Estimator',\n",
      "                    patience=10000, random_state=32, verbose=0)\n"
     ]
    },
    {
     "name": "stderr",
     "output_type": "stream",
     "text": [
      "100%|##########| 460/460 [00:01<00:00, 234.20it/s]\n",
      "100%|##########| 115/115 [00:00<00:00, 243.23it/s]\n"
     ]
    },
    {
     "name": "stdout",
     "output_type": "stream",
     "text": [
      "\n",
      " input train and test X shape is (460, 30, 29, 1), (115, 30, 29, 1) \n",
      "MultiClassEstimator(batch_size=128, conv1_kernel_size=11, dense_avf='relu',\n",
      "                    dense_layers=[128], epochs=200, lr=0.0001, metric='PRC',\n",
      "                    monitor='val_loss', name='AggMap MultiClass Estimator',\n",
      "                    patience=10000, random_state=32, verbose=0)\n"
     ]
    },
    {
     "name": "stderr",
     "output_type": "stream",
     "text": [
      "100%|##########| 460/460 [00:00<00:00, 1433.42it/s]\n",
      "100%|##########| 115/115 [00:00<00:00, 982.96it/s]\n"
     ]
    },
    {
     "name": "stdout",
     "output_type": "stream",
     "text": [
      "\n",
      " input train and test X shape is (460, 30, 29, 1), (115, 30, 29, 1) \n",
      "MultiClassEstimator(batch_size=128, conv1_kernel_size=11, dense_avf='relu',\n",
      "                    dense_layers=[128], epochs=200, lr=0.0001, metric='PRC',\n",
      "                    monitor='val_loss', name='AggMap MultiClass Estimator',\n",
      "                    patience=10000, random_state=32, verbose=0)\n"
     ]
    },
    {
     "name": "stderr",
     "output_type": "stream",
     "text": [
      "100%|##########| 460/460 [00:00<00:00, 1189.12it/s]\n",
      "100%|##########| 115/115 [00:00<00:00, 935.33it/s]\n"
     ]
    },
    {
     "name": "stdout",
     "output_type": "stream",
     "text": [
      "\n",
      " input train and test X shape is (460, 30, 29, 1), (115, 30, 29, 1) \n",
      "MultiClassEstimator(batch_size=128, conv1_kernel_size=11, dense_avf='relu',\n",
      "                    dense_layers=[128], epochs=200, lr=0.0001, metric='PRC',\n",
      "                    monitor='val_loss', name='AggMap MultiClass Estimator',\n",
      "                    patience=10000, random_state=32, verbose=0)\n",
      "2020-08-19 14:32:21,617 - INFO - [bidd-aggmap] - applying hierarchical clustering to obtain group information ...\n",
      "2020-08-19 14:32:23,917 - INFO - [bidd-aggmap] - Applying grid feature map(assignment), this may take several minutes(1~30 min)\n",
      "2020-08-19 14:32:25,588 - INFO - [bidd-aggmap] - Finished\n"
     ]
    },
    {
     "name": "stderr",
     "output_type": "stream",
     "text": [
      "100%|##########| 460/460 [00:00<00:00, 1209.86it/s]\n",
      "100%|##########| 115/115 [00:00<00:00, 722.31it/s]\n"
     ]
    },
    {
     "name": "stdout",
     "output_type": "stream",
     "text": [
      "\n",
      " input train and test X shape is (460, 30, 29, 3), (115, 30, 29, 3) \n",
      "MultiClassEstimator(batch_size=128, conv1_kernel_size=11, dense_avf='relu',\n",
      "                    dense_layers=[128], epochs=200, lr=0.0001, metric='PRC',\n",
      "                    monitor='val_loss', name='AggMap MultiClass Estimator',\n",
      "                    patience=10000, random_state=32, verbose=0)\n"
     ]
    },
    {
     "name": "stderr",
     "output_type": "stream",
     "text": [
      "100%|##########| 460/460 [00:00<00:00, 1280.56it/s]\n",
      "100%|##########| 115/115 [00:00<00:00, 781.87it/s]\n"
     ]
    },
    {
     "name": "stdout",
     "output_type": "stream",
     "text": [
      "\n",
      " input train and test X shape is (460, 30, 29, 3), (115, 30, 29, 3) \n",
      "MultiClassEstimator(batch_size=128, conv1_kernel_size=11, dense_avf='relu',\n",
      "                    dense_layers=[128], epochs=200, lr=0.0001, metric='PRC',\n",
      "                    monitor='val_loss', name='AggMap MultiClass Estimator',\n",
      "                    patience=10000, random_state=32, verbose=0)\n"
     ]
    },
    {
     "name": "stderr",
     "output_type": "stream",
     "text": [
      "100%|##########| 460/460 [00:00<00:00, 940.69it/s]\n",
      "100%|##########| 115/115 [00:01<00:00, 70.56it/s]\n"
     ]
    },
    {
     "name": "stdout",
     "output_type": "stream",
     "text": [
      "\n",
      " input train and test X shape is (460, 30, 29, 3), (115, 30, 29, 3) \n",
      "MultiClassEstimator(batch_size=128, conv1_kernel_size=11, dense_avf='relu',\n",
      "                    dense_layers=[128], epochs=200, lr=0.0001, metric='PRC',\n",
      "                    monitor='val_loss', name='AggMap MultiClass Estimator',\n",
      "                    patience=10000, random_state=32, verbose=0)\n"
     ]
    },
    {
     "name": "stderr",
     "output_type": "stream",
     "text": [
      "100%|##########| 460/460 [00:05<00:00, 88.32it/s]\n",
      "100%|##########| 115/115 [00:00<00:00, 728.36it/s]\n"
     ]
    },
    {
     "name": "stdout",
     "output_type": "stream",
     "text": [
      "\n",
      " input train and test X shape is (460, 30, 29, 3), (115, 30, 29, 3) \n",
      "MultiClassEstimator(batch_size=128, conv1_kernel_size=11, dense_avf='relu',\n",
      "                    dense_layers=[128], epochs=200, lr=0.0001, metric='PRC',\n",
      "                    monitor='val_loss', name='AggMap MultiClass Estimator',\n",
      "                    patience=10000, random_state=32, verbose=0)\n"
     ]
    },
    {
     "name": "stderr",
     "output_type": "stream",
     "text": [
      "100%|##########| 460/460 [00:19<00:00, 33.88it/s]\n",
      "100%|##########| 115/115 [00:00<00:00, 193.49it/s]\n"
     ]
    },
    {
     "name": "stdout",
     "output_type": "stream",
     "text": [
      "\n",
      " input train and test X shape is (460, 30, 29, 3), (115, 30, 29, 3) \n",
      "MultiClassEstimator(batch_size=128, conv1_kernel_size=11, dense_avf='relu',\n",
      "                    dense_layers=[128], epochs=200, lr=0.0001, metric='PRC',\n",
      "                    monitor='val_loss', name='AggMap MultiClass Estimator',\n",
      "                    patience=10000, random_state=32, verbose=0)\n",
      "2020-08-19 14:56:20,029 - INFO - [bidd-aggmap] - applying hierarchical clustering to obtain group information ...\n",
      "2020-08-19 14:56:22,227 - INFO - [bidd-aggmap] - Applying grid feature map(assignment), this may take several minutes(1~30 min)\n",
      "2020-08-19 14:56:23,864 - INFO - [bidd-aggmap] - Finished\n"
     ]
    },
    {
     "name": "stderr",
     "output_type": "stream",
     "text": [
      "100%|##########| 460/460 [00:00<00:00, 1686.36it/s]\n",
      "100%|##########| 115/115 [00:00<00:00, 689.52it/s]\n"
     ]
    },
    {
     "name": "stdout",
     "output_type": "stream",
     "text": [
      "\n",
      " input train and test X shape is (460, 30, 29, 5), (115, 30, 29, 5) \n",
      "MultiClassEstimator(batch_size=128, conv1_kernel_size=11, dense_avf='relu',\n",
      "                    dense_layers=[128], epochs=200, lr=0.0001, metric='PRC',\n",
      "                    monitor='val_loss', name='AggMap MultiClass Estimator',\n",
      "                    patience=10000, random_state=32, verbose=0)\n"
     ]
    },
    {
     "name": "stderr",
     "output_type": "stream",
     "text": [
      "100%|##########| 460/460 [00:00<00:00, 1183.91it/s]\n",
      "100%|##########| 115/115 [00:00<00:00, 715.81it/s]\n"
     ]
    },
    {
     "name": "stdout",
     "output_type": "stream",
     "text": [
      "\n",
      " input train and test X shape is (460, 30, 29, 5), (115, 30, 29, 5) \n",
      "MultiClassEstimator(batch_size=128, conv1_kernel_size=11, dense_avf='relu',\n",
      "                    dense_layers=[128], epochs=200, lr=0.0001, metric='PRC',\n",
      "                    monitor='val_loss', name='AggMap MultiClass Estimator',\n",
      "                    patience=10000, random_state=32, verbose=0)\n"
     ]
    },
    {
     "name": "stderr",
     "output_type": "stream",
     "text": [
      "100%|##########| 460/460 [00:00<00:00, 1288.37it/s]\n",
      "100%|##########| 115/115 [00:00<00:00, 714.18it/s]\n"
     ]
    },
    {
     "name": "stdout",
     "output_type": "stream",
     "text": [
      "\n",
      " input train and test X shape is (460, 30, 29, 5), (115, 30, 29, 5) \n",
      "MultiClassEstimator(batch_size=128, conv1_kernel_size=11, dense_avf='relu',\n",
      "                    dense_layers=[128], epochs=200, lr=0.0001, metric='PRC',\n",
      "                    monitor='val_loss', name='AggMap MultiClass Estimator',\n",
      "                    patience=10000, random_state=32, verbose=0)\n"
     ]
    },
    {
     "name": "stderr",
     "output_type": "stream",
     "text": [
      "100%|##########| 460/460 [00:00<00:00, 1124.77it/s]\n",
      "100%|##########| 115/115 [00:00<00:00, 690.16it/s]\n"
     ]
    },
    {
     "name": "stdout",
     "output_type": "stream",
     "text": [
      "\n",
      " input train and test X shape is (460, 30, 29, 5), (115, 30, 29, 5) \n",
      "MultiClassEstimator(batch_size=128, conv1_kernel_size=11, dense_avf='relu',\n",
      "                    dense_layers=[128], epochs=200, lr=0.0001, metric='PRC',\n",
      "                    monitor='val_loss', name='AggMap MultiClass Estimator',\n",
      "                    patience=10000, random_state=32, verbose=0)\n"
     ]
    },
    {
     "name": "stderr",
     "output_type": "stream",
     "text": [
      "100%|##########| 460/460 [00:00<00:00, 1320.67it/s]\n",
      "100%|##########| 115/115 [00:00<00:00, 789.27it/s]\n"
     ]
    },
    {
     "name": "stdout",
     "output_type": "stream",
     "text": [
      "\n",
      " input train and test X shape is (460, 30, 29, 5), (115, 30, 29, 5) \n",
      "MultiClassEstimator(batch_size=128, conv1_kernel_size=11, dense_avf='relu',\n",
      "                    dense_layers=[128], epochs=200, lr=0.0001, metric='PRC',\n",
      "                    monitor='val_loss', name='AggMap MultiClass Estimator',\n",
      "                    patience=10000, random_state=32, verbose=0)\n",
      "2020-08-19 15:15:37,238 - INFO - [bidd-aggmap] - applying hierarchical clustering to obtain group information ...\n",
      "2020-08-19 15:15:39,418 - INFO - [bidd-aggmap] - Applying grid feature map(assignment), this may take several minutes(1~30 min)\n",
      "2020-08-19 15:15:41,038 - INFO - [bidd-aggmap] - Finished\n"
     ]
    },
    {
     "name": "stderr",
     "output_type": "stream",
     "text": [
      "100%|##########| 460/460 [00:00<00:00, 1907.94it/s]\n",
      "100%|##########| 115/115 [00:00<00:00, 770.31it/s]\n"
     ]
    },
    {
     "name": "stdout",
     "output_type": "stream",
     "text": [
      "\n",
      " input train and test X shape is (460, 30, 29, 1), (115, 30, 29, 1) \n",
      "MultiClassEstimator(batch_size=128, conv1_kernel_size=11, dense_avf='relu',\n",
      "                    dense_layers=[128], epochs=200, lr=0.0001, metric='PRC',\n",
      "                    monitor='val_loss', name='AggMap MultiClass Estimator',\n",
      "                    patience=10000, random_state=32, verbose=0)\n"
     ]
    },
    {
     "name": "stderr",
     "output_type": "stream",
     "text": [
      "100%|##########| 460/460 [00:00<00:00, 1354.83it/s]\n",
      "100%|##########| 115/115 [00:00<00:00, 729.78it/s]\n"
     ]
    },
    {
     "name": "stdout",
     "output_type": "stream",
     "text": [
      "\n",
      " input train and test X shape is (460, 30, 29, 1), (115, 30, 29, 1) \n",
      "MultiClassEstimator(batch_size=128, conv1_kernel_size=11, dense_avf='relu',\n",
      "                    dense_layers=[128], epochs=200, lr=0.0001, metric='PRC',\n",
      "                    monitor='val_loss', name='AggMap MultiClass Estimator',\n",
      "                    patience=10000, random_state=32, verbose=0)\n"
     ]
    },
    {
     "name": "stderr",
     "output_type": "stream",
     "text": [
      "100%|##########| 460/460 [00:00<00:00, 1287.77it/s]\n",
      "100%|##########| 115/115 [00:00<00:00, 989.50it/s]\n"
     ]
    },
    {
     "name": "stdout",
     "output_type": "stream",
     "text": [
      "\n",
      " input train and test X shape is (460, 30, 29, 1), (115, 30, 29, 1) \n",
      "MultiClassEstimator(batch_size=128, conv1_kernel_size=11, dense_avf='relu',\n",
      "                    dense_layers=[128], epochs=200, lr=0.0001, metric='PRC',\n",
      "                    monitor='val_loss', name='AggMap MultiClass Estimator',\n",
      "                    patience=10000, random_state=32, verbose=0)\n"
     ]
    },
    {
     "name": "stderr",
     "output_type": "stream",
     "text": [
      "100%|##########| 460/460 [00:00<00:00, 1497.20it/s]\n",
      "100%|##########| 115/115 [00:00<00:00, 742.12it/s]\n"
     ]
    },
    {
     "name": "stdout",
     "output_type": "stream",
     "text": [
      "\n",
      " input train and test X shape is (460, 30, 29, 1), (115, 30, 29, 1) \n",
      "MultiClassEstimator(batch_size=128, conv1_kernel_size=11, dense_avf='relu',\n",
      "                    dense_layers=[128], epochs=200, lr=0.0001, metric='PRC',\n",
      "                    monitor='val_loss', name='AggMap MultiClass Estimator',\n",
      "                    patience=10000, random_state=32, verbose=0)\n"
     ]
    },
    {
     "name": "stderr",
     "output_type": "stream",
     "text": [
      "100%|##########| 460/460 [00:00<00:00, 1346.76it/s]\n",
      "100%|##########| 115/115 [00:00<00:00, 732.66it/s]\n"
     ]
    },
    {
     "name": "stdout",
     "output_type": "stream",
     "text": [
      "\n",
      " input train and test X shape is (460, 30, 29, 1), (115, 30, 29, 1) \n",
      "MultiClassEstimator(batch_size=128, conv1_kernel_size=11, dense_avf='relu',\n",
      "                    dense_layers=[128], epochs=200, lr=0.0001, metric='PRC',\n",
      "                    monitor='val_loss', name='AggMap MultiClass Estimator',\n",
      "                    patience=10000, random_state=32, verbose=0)\n",
      "2020-08-19 15:29:37,633 - INFO - [bidd-aggmap] - applying hierarchical clustering to obtain group information ...\n",
      "2020-08-19 15:29:39,767 - INFO - [bidd-aggmap] - Applying grid feature map(assignment), this may take several minutes(1~30 min)\n",
      "2020-08-19 15:29:41,381 - INFO - [bidd-aggmap] - Finished\n"
     ]
    },
    {
     "name": "stderr",
     "output_type": "stream",
     "text": [
      "100%|##########| 460/460 [00:00<00:00, 1404.36it/s]\n",
      "100%|##########| 115/115 [00:00<00:00, 729.96it/s]\n"
     ]
    },
    {
     "name": "stdout",
     "output_type": "stream",
     "text": [
      "\n",
      " input train and test X shape is (460, 30, 29, 3), (115, 30, 29, 3) \n",
      "MultiClassEstimator(batch_size=128, conv1_kernel_size=11, dense_avf='relu',\n",
      "                    dense_layers=[128], epochs=200, lr=0.0001, metric='PRC',\n",
      "                    monitor='val_loss', name='AggMap MultiClass Estimator',\n",
      "                    patience=10000, random_state=32, verbose=0)\n"
     ]
    },
    {
     "name": "stderr",
     "output_type": "stream",
     "text": [
      "100%|##########| 460/460 [00:00<00:00, 1486.00it/s]\n",
      "100%|##########| 115/115 [00:00<00:00, 940.25it/s]\n"
     ]
    },
    {
     "name": "stdout",
     "output_type": "stream",
     "text": [
      "\n",
      " input train and test X shape is (460, 30, 29, 3), (115, 30, 29, 3) \n",
      "MultiClassEstimator(batch_size=128, conv1_kernel_size=11, dense_avf='relu',\n",
      "                    dense_layers=[128], epochs=200, lr=0.0001, metric='PRC',\n",
      "                    monitor='val_loss', name='AggMap MultiClass Estimator',\n",
      "                    patience=10000, random_state=32, verbose=0)\n"
     ]
    },
    {
     "name": "stderr",
     "output_type": "stream",
     "text": [
      "100%|##########| 460/460 [00:00<00:00, 1298.75it/s]\n",
      "100%|##########| 115/115 [00:00<00:00, 735.54it/s]\n"
     ]
    },
    {
     "name": "stdout",
     "output_type": "stream",
     "text": [
      "\n",
      " input train and test X shape is (460, 30, 29, 3), (115, 30, 29, 3) \n",
      "MultiClassEstimator(batch_size=128, conv1_kernel_size=11, dense_avf='relu',\n",
      "                    dense_layers=[128], epochs=200, lr=0.0001, metric='PRC',\n",
      "                    monitor='val_loss', name='AggMap MultiClass Estimator',\n",
      "                    patience=10000, random_state=32, verbose=0)\n"
     ]
    },
    {
     "name": "stderr",
     "output_type": "stream",
     "text": [
      "100%|##########| 460/460 [00:00<00:00, 1312.67it/s]\n",
      "100%|##########| 115/115 [00:00<00:00, 726.70it/s]\n"
     ]
    },
    {
     "name": "stdout",
     "output_type": "stream",
     "text": [
      "\n",
      " input train and test X shape is (460, 30, 29, 3), (115, 30, 29, 3) \n",
      "MultiClassEstimator(batch_size=128, conv1_kernel_size=11, dense_avf='relu',\n",
      "                    dense_layers=[128], epochs=200, lr=0.0001, metric='PRC',\n",
      "                    monitor='val_loss', name='AggMap MultiClass Estimator',\n",
      "                    patience=10000, random_state=32, verbose=0)\n"
     ]
    },
    {
     "name": "stderr",
     "output_type": "stream",
     "text": [
      "100%|##########| 460/460 [00:00<00:00, 1183.96it/s]\n",
      "100%|##########| 115/115 [00:00<00:00, 677.50it/s]\n"
     ]
    },
    {
     "name": "stdout",
     "output_type": "stream",
     "text": [
      "\n",
      " input train and test X shape is (460, 30, 29, 3), (115, 30, 29, 3) \n",
      "MultiClassEstimator(batch_size=128, conv1_kernel_size=11, dense_avf='relu',\n",
      "                    dense_layers=[128], epochs=200, lr=0.0001, metric='PRC',\n",
      "                    monitor='val_loss', name='AggMap MultiClass Estimator',\n",
      "                    patience=10000, random_state=32, verbose=0)\n",
      "2020-08-19 15:45:56,713 - INFO - [bidd-aggmap] - applying hierarchical clustering to obtain group information ...\n",
      "2020-08-19 15:45:58,875 - INFO - [bidd-aggmap] - Applying grid feature map(assignment), this may take several minutes(1~30 min)\n",
      "2020-08-19 15:46:00,505 - INFO - [bidd-aggmap] - Finished\n"
     ]
    },
    {
     "name": "stderr",
     "output_type": "stream",
     "text": [
      "100%|##########| 460/460 [00:00<00:00, 1269.08it/s]\n",
      "100%|##########| 115/115 [00:00<00:00, 762.68it/s]\n"
     ]
    },
    {
     "name": "stdout",
     "output_type": "stream",
     "text": [
      "\n",
      " input train and test X shape is (460, 30, 29, 5), (115, 30, 29, 5) \n",
      "MultiClassEstimator(batch_size=128, conv1_kernel_size=11, dense_avf='relu',\n",
      "                    dense_layers=[128], epochs=200, lr=0.0001, metric='PRC',\n",
      "                    monitor='val_loss', name='AggMap MultiClass Estimator',\n",
      "                    patience=10000, random_state=32, verbose=0)\n"
     ]
    },
    {
     "name": "stderr",
     "output_type": "stream",
     "text": [
      "100%|##########| 460/460 [00:00<00:00, 1311.93it/s]\n",
      "100%|##########| 115/115 [00:00<00:00, 712.32it/s]\n"
     ]
    },
    {
     "name": "stdout",
     "output_type": "stream",
     "text": [
      "\n",
      " input train and test X shape is (460, 30, 29, 5), (115, 30, 29, 5) \n",
      "MultiClassEstimator(batch_size=128, conv1_kernel_size=11, dense_avf='relu',\n",
      "                    dense_layers=[128], epochs=200, lr=0.0001, metric='PRC',\n",
      "                    monitor='val_loss', name='AggMap MultiClass Estimator',\n",
      "                    patience=10000, random_state=32, verbose=0)\n"
     ]
    },
    {
     "name": "stderr",
     "output_type": "stream",
     "text": [
      "100%|##########| 460/460 [00:00<00:00, 1234.02it/s]\n",
      "100%|##########| 115/115 [00:00<00:00, 916.67it/s]\n"
     ]
    },
    {
     "name": "stdout",
     "output_type": "stream",
     "text": [
      "\n",
      " input train and test X shape is (460, 30, 29, 5), (115, 30, 29, 5) \n",
      "MultiClassEstimator(batch_size=128, conv1_kernel_size=11, dense_avf='relu',\n",
      "                    dense_layers=[128], epochs=200, lr=0.0001, metric='PRC',\n",
      "                    monitor='val_loss', name='AggMap MultiClass Estimator',\n",
      "                    patience=10000, random_state=32, verbose=0)\n"
     ]
    },
    {
     "name": "stderr",
     "output_type": "stream",
     "text": [
      "100%|##########| 460/460 [00:00<00:00, 1306.93it/s]\n",
      "100%|##########| 115/115 [00:00<00:00, 921.83it/s]\n"
     ]
    },
    {
     "name": "stdout",
     "output_type": "stream",
     "text": [
      "\n",
      " input train and test X shape is (460, 30, 29, 5), (115, 30, 29, 5) \n",
      "MultiClassEstimator(batch_size=128, conv1_kernel_size=11, dense_avf='relu',\n",
      "                    dense_layers=[128], epochs=200, lr=0.0001, metric='PRC',\n",
      "                    monitor='val_loss', name='AggMap MultiClass Estimator',\n",
      "                    patience=10000, random_state=32, verbose=0)\n"
     ]
    },
    {
     "name": "stderr",
     "output_type": "stream",
     "text": [
      "100%|##########| 460/460 [00:00<00:00, 1433.21it/s]\n",
      "100%|##########| 115/115 [00:00<00:00, 732.85it/s]\n"
     ]
    },
    {
     "name": "stdout",
     "output_type": "stream",
     "text": [
      "\n",
      " input train and test X shape is (460, 30, 29, 5), (115, 30, 29, 5) \n",
      "MultiClassEstimator(batch_size=128, conv1_kernel_size=11, dense_avf='relu',\n",
      "                    dense_layers=[128], epochs=200, lr=0.0001, metric='PRC',\n",
      "                    monitor='val_loss', name='AggMap MultiClass Estimator',\n",
      "                    patience=10000, random_state=32, verbose=0)\n",
      "2020-08-19 16:04:36,126 - INFO - [bidd-aggmap] - applying hierarchical clustering to obtain group information ...\n",
      "2020-08-19 16:04:38,252 - INFO - [bidd-aggmap] - Applying grid feature map(assignment), this may take several minutes(1~30 min)\n",
      "2020-08-19 16:04:39,871 - INFO - [bidd-aggmap] - Finished\n"
     ]
    },
    {
     "name": "stderr",
     "output_type": "stream",
     "text": [
      "100%|##########| 460/460 [00:00<00:00, 1189.80it/s]\n",
      "100%|##########| 115/115 [00:00<00:00, 575.43it/s]\n"
     ]
    },
    {
     "name": "stdout",
     "output_type": "stream",
     "text": [
      "\n",
      " input train and test X shape is (460, 30, 29, 1), (115, 30, 29, 1) \n",
      "MultiClassEstimator(batch_size=128, conv1_kernel_size=11, dense_avf='relu',\n",
      "                    dense_layers=[128], epochs=200, lr=0.0001, metric='PRC',\n",
      "                    monitor='val_loss', name='AggMap MultiClass Estimator',\n",
      "                    patience=10000, random_state=32, verbose=0)\n"
     ]
    },
    {
     "name": "stderr",
     "output_type": "stream",
     "text": [
      "100%|##########| 460/460 [00:00<00:00, 1330.05it/s]\n",
      "100%|##########| 115/115 [00:00<00:00, 917.13it/s]\n"
     ]
    },
    {
     "name": "stdout",
     "output_type": "stream",
     "text": [
      "\n",
      " input train and test X shape is (460, 30, 29, 1), (115, 30, 29, 1) \n",
      "MultiClassEstimator(batch_size=128, conv1_kernel_size=11, dense_avf='relu',\n",
      "                    dense_layers=[128], epochs=200, lr=0.0001, metric='PRC',\n",
      "                    monitor='val_loss', name='AggMap MultiClass Estimator',\n",
      "                    patience=10000, random_state=32, verbose=0)\n"
     ]
    },
    {
     "name": "stderr",
     "output_type": "stream",
     "text": [
      "100%|##########| 460/460 [00:00<00:00, 1366.72it/s]\n",
      "100%|##########| 115/115 [00:00<00:00, 928.90it/s]\n"
     ]
    },
    {
     "name": "stdout",
     "output_type": "stream",
     "text": [
      "\n",
      " input train and test X shape is (460, 30, 29, 1), (115, 30, 29, 1) \n",
      "MultiClassEstimator(batch_size=128, conv1_kernel_size=11, dense_avf='relu',\n",
      "                    dense_layers=[128], epochs=200, lr=0.0001, metric='PRC',\n",
      "                    monitor='val_loss', name='AggMap MultiClass Estimator',\n",
      "                    patience=10000, random_state=32, verbose=0)\n"
     ]
    },
    {
     "name": "stderr",
     "output_type": "stream",
     "text": [
      "100%|##########| 460/460 [00:00<00:00, 1272.71it/s]\n",
      "100%|##########| 115/115 [00:00<00:00, 867.30it/s]\n"
     ]
    },
    {
     "name": "stdout",
     "output_type": "stream",
     "text": [
      "\n",
      " input train and test X shape is (460, 30, 29, 1), (115, 30, 29, 1) \n",
      "MultiClassEstimator(batch_size=128, conv1_kernel_size=11, dense_avf='relu',\n",
      "                    dense_layers=[128], epochs=200, lr=0.0001, metric='PRC',\n",
      "                    monitor='val_loss', name='AggMap MultiClass Estimator',\n",
      "                    patience=10000, random_state=32, verbose=0)\n"
     ]
    },
    {
     "name": "stderr",
     "output_type": "stream",
     "text": [
      "100%|##########| 460/460 [00:00<00:00, 1301.79it/s]\n",
      "100%|##########| 115/115 [00:00<00:00, 964.04it/s]\n"
     ]
    },
    {
     "name": "stdout",
     "output_type": "stream",
     "text": [
      "\n",
      " input train and test X shape is (460, 30, 29, 1), (115, 30, 29, 1) \n",
      "MultiClassEstimator(batch_size=128, conv1_kernel_size=11, dense_avf='relu',\n",
      "                    dense_layers=[128], epochs=200, lr=0.0001, metric='PRC',\n",
      "                    monitor='val_loss', name='AggMap MultiClass Estimator',\n",
      "                    patience=10000, random_state=32, verbose=0)\n",
      "2020-08-19 16:18:30,517 - INFO - [bidd-aggmap] - applying hierarchical clustering to obtain group information ...\n",
      "2020-08-19 16:18:32,645 - INFO - [bidd-aggmap] - Applying grid feature map(assignment), this may take several minutes(1~30 min)\n",
      "2020-08-19 16:18:34,293 - INFO - [bidd-aggmap] - Finished\n"
     ]
    },
    {
     "name": "stderr",
     "output_type": "stream",
     "text": [
      "100%|##########| 460/460 [00:00<00:00, 1813.78it/s]\n",
      "100%|##########| 115/115 [00:00<00:00, 963.79it/s]\n"
     ]
    },
    {
     "name": "stdout",
     "output_type": "stream",
     "text": [
      "\n",
      " input train and test X shape is (460, 30, 29, 3), (115, 30, 29, 3) \n",
      "MultiClassEstimator(batch_size=128, conv1_kernel_size=11, dense_avf='relu',\n",
      "                    dense_layers=[128], epochs=200, lr=0.0001, metric='PRC',\n",
      "                    monitor='val_loss', name='AggMap MultiClass Estimator',\n",
      "                    patience=10000, random_state=32, verbose=0)\n"
     ]
    },
    {
     "name": "stderr",
     "output_type": "stream",
     "text": [
      "100%|##########| 460/460 [00:00<00:00, 1525.85it/s]\n",
      "100%|##########| 115/115 [00:00<00:00, 900.31it/s]\n"
     ]
    },
    {
     "name": "stdout",
     "output_type": "stream",
     "text": [
      "\n",
      " input train and test X shape is (460, 30, 29, 3), (115, 30, 29, 3) \n",
      "MultiClassEstimator(batch_size=128, conv1_kernel_size=11, dense_avf='relu',\n",
      "                    dense_layers=[128], epochs=200, lr=0.0001, metric='PRC',\n",
      "                    monitor='val_loss', name='AggMap MultiClass Estimator',\n",
      "                    patience=10000, random_state=32, verbose=0)\n"
     ]
    },
    {
     "name": "stderr",
     "output_type": "stream",
     "text": [
      "100%|##########| 460/460 [00:00<00:00, 1168.11it/s]\n",
      "100%|##########| 115/115 [00:00<00:00, 738.23it/s]\n"
     ]
    },
    {
     "name": "stdout",
     "output_type": "stream",
     "text": [
      "\n",
      " input train and test X shape is (460, 30, 29, 3), (115, 30, 29, 3) \n",
      "MultiClassEstimator(batch_size=128, conv1_kernel_size=11, dense_avf='relu',\n",
      "                    dense_layers=[128], epochs=200, lr=0.0001, metric='PRC',\n",
      "                    monitor='val_loss', name='AggMap MultiClass Estimator',\n",
      "                    patience=10000, random_state=32, verbose=0)\n"
     ]
    },
    {
     "name": "stderr",
     "output_type": "stream",
     "text": [
      "100%|##########| 460/460 [00:00<00:00, 1244.65it/s]\n",
      "100%|##########| 115/115 [00:00<00:00, 799.77it/s]\n"
     ]
    },
    {
     "name": "stdout",
     "output_type": "stream",
     "text": [
      "\n",
      " input train and test X shape is (460, 30, 29, 3), (115, 30, 29, 3) \n",
      "MultiClassEstimator(batch_size=128, conv1_kernel_size=11, dense_avf='relu',\n",
      "                    dense_layers=[128], epochs=200, lr=0.0001, metric='PRC',\n",
      "                    monitor='val_loss', name='AggMap MultiClass Estimator',\n",
      "                    patience=10000, random_state=32, verbose=0)\n"
     ]
    },
    {
     "name": "stderr",
     "output_type": "stream",
     "text": [
      "100%|##########| 460/460 [00:00<00:00, 1183.29it/s]\n",
      "100%|##########| 115/115 [00:00<00:00, 764.13it/s]\n"
     ]
    },
    {
     "name": "stdout",
     "output_type": "stream",
     "text": [
      "\n",
      " input train and test X shape is (460, 30, 29, 3), (115, 30, 29, 3) \n",
      "MultiClassEstimator(batch_size=128, conv1_kernel_size=11, dense_avf='relu',\n",
      "                    dense_layers=[128], epochs=200, lr=0.0001, metric='PRC',\n",
      "                    monitor='val_loss', name='AggMap MultiClass Estimator',\n",
      "                    patience=10000, random_state=32, verbose=0)\n"
     ]
    }
   ],
   "source": [
    "n_splits = 5 #5-fold reapeat 5 times\n",
    "run_all = []\n",
    "\n",
    "for repeat_seed in [8, 16, 32, 64, 128]: #5 repeats random seeds \n",
    "    \n",
    "    outer = KFold(n_splits = n_splits, shuffle = True, random_state = repeat_seed)\n",
    "    outer_idx = list(outer.split(range(len(Y))))\n",
    "    \n",
    "    for c in [1, 3, 5]: \n",
    "        \n",
    "        #mp = mp.fit(cluster_channels = c, verbose = 0)\n",
    "        \n",
    "        mp.fit(cluster_channels = c, verbose = 0)\n",
    "        \n",
    "        for i, idx in enumerate(outer_idx):\n",
    "            \n",
    "            train_idx, valid_idx = idx\n",
    "            fold_num = \"fold_%s\" % str(i+1).zfill(2) \n",
    "            \n",
    "            validY = Y[valid_idx]\n",
    "            validx = X[valid_idx]\n",
    "\n",
    "            trainx = X[train_idx]\n",
    "            trainY = Y[train_idx]\n",
    "\n",
    "            trainX = mp.batch_transform(trainx, scale_method = 'standard')\n",
    "            validX = mp.batch_transform(validx, scale_method = 'standard')\n",
    "            print(\"\\n input train and test X shape is %s, %s \" % (trainX.shape,  validX.shape))\n",
    "            clf = AggModel.MultiClassEstimator(epochs = 200,  verbose = 0, metric = 'PRC')\n",
    "            clf.fit(trainX, trainY, X_valid = validX, y_valid = validY)\n",
    "\n",
    "            history = clf.history.history\n",
    "            history['fold'] = fold_num\n",
    "            history['c'] = c\n",
    "            history['repeat_seed'] = repeat_seed\n",
    "            \n",
    "            run_all.append(history)"
   ]
  },
  {
   "cell_type": "code",
   "execution_count": 34,
   "metadata": {},
   "outputs": [],
   "source": [
    "dfr = pd.DataFrame(run_all)\n",
    "dfr.to_csv('./5FCV_valid.csv')"
   ]
  },
  {
   "cell_type": "code",
   "execution_count": 35,
   "metadata": {},
   "outputs": [],
   "source": [
    "sns.set(style = 'white', font_scale=1.2)"
   ]
  },
  {
   "cell_type": "code",
   "execution_count": 36,
   "metadata": {},
   "outputs": [
    {
     "data": {
      "image/png": "[encoded data removed]",
      "text/plain": [
       "<Figure size 1296x432 with 2 Axes>"
      ]
     },
     "metadata": {},
     "output_type": "display_data"
    }
   ],
   "source": [
    "fig, axes = plt.subplots(nrows=1, ncols=2, figsize=(18,6), sharex=False, sharey=False, )\n",
    "ax1, ax2 = axes        \n",
    "\n",
    "\n",
    "\n",
    "col = 'val_loss'\n",
    "loss_mean = dfr.groupby(['c']).agg({col: lambda x:x.tolist()})[col].apply(lambda x: np.array(x).mean(axis=0)).apply(pd.Series).T\n",
    "loss_std = dfr.groupby(['c']).agg({col: lambda x:x.tolist()})[col].apply(lambda x: np.array(x).std(axis=0)).apply(pd.Series).T\n",
    "loss_mean.plot(ax=ax1, lw = 2, color = color) # ,ylim = (-2.55, -2) \n",
    "ax1.set_ylabel('Validate loss')\n",
    "ax1.set_xlabel('Epochs')\n",
    "\n",
    "\n",
    "\n",
    "\n",
    "col = 'val_accuracy'\n",
    "acc_mean = dfr.groupby(['c']).agg({col: lambda x:x.tolist()})[col].apply(lambda x: np.array(x).mean(axis=0)).apply(pd.Series).T\n",
    "acc_std = dfr.groupby(['c']).agg({col: lambda x:x.tolist()})[col].apply(lambda x: np.array(x).std(axis=0)).apply(pd.Series).T\n",
    "acc_mean.plot(ax=ax2, lw = 2, color = color)\n",
    "ax2.set_ylabel('Validate accuracy')\n",
    "ax2.set_xlabel('Epochs')\n",
    "\n",
    "plt.savefig('5FCV_valid.png', bbox_inches='tight', dpi=300)"
   ]
  },
  {
   "cell_type": "code",
   "execution_count": null,
   "metadata": {},
   "outputs": [],
   "source": []
  },
  {
   "cell_type": "code",
   "execution_count": null,
   "metadata": {},
   "outputs": [],
   "source": []
  },
  {
   "cell_type": "code",
   "execution_count": null,
   "metadata": {},
   "outputs": [],
   "source": []
  },
  {
   "cell_type": "code",
   "execution_count": null,
   "metadata": {},
   "outputs": [],
   "source": []
  }
 ],
 "metadata": {
  "kernelspec": {
   "display_name": "Python 3",
   "language": "python",
   "name": "python3"
  },
  "language_info": {
   "codemirror_mode": {
    "name": "ipython",
    "version": 3
   },
   "file_extension": ".py",
   "mimetype": "text/x-python",
   "name": "python",
   "nbconvert_exporter": "python",
   "pygments_lexer": "ipython3",
   "version": "3.6.10"
  }
 },
 "nbformat": 4,
 "nbformat_minor": 4
}
