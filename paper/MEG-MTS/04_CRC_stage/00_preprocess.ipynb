{
 "cells": [
  {
   "cell_type": "code",
   "execution_count": 2,
   "metadata": {},
   "outputs": [],
   "source": [
    "import pandas as pd\n",
    "import numpy as np\n"
   ]
  },
  {
   "cell_type": "markdown",
   "metadata": {},
   "source": [
    "``` \n",
    "10-fold cross validation, and this was repeated for 100 times.\n",
    "Discriminant features identified from LASSO logistic regression classifiers and\n",
    "random-forest classifiers for distinguishing S0 (n= 27) and SIII/IV (n= 54) cases from the healthy controls (n= 127). \n",
    "```"
   ]
  },
  {
   "cell_type": "code",
   "execution_count": 4,
   "metadata": {},
   "outputs": [],
   "source": [
    "# df1 = pd.read_excel('./subject.xlsx', sheet_name='616')\n",
    "# df2 = pd.read_excel('./subject.xlsx', sheet_name='406')\n",
    "\n",
    "# df1 = df1.set_index('Subject_ID')\n",
    "# df2 = df2.set_index('Subject_ID')"
   ]
  },
  {
   "cell_type": "code",
   "execution_count": 18,
   "metadata": {},
   "outputs": [],
   "source": [
    "idx = list(set(df1.index) & set(df2.index))"
   ]
  },
  {
   "cell_type": "code",
   "execution_count": 21,
   "metadata": {},
   "outputs": [
    {
     "data": {
      "text/plain": [
       "Group\n",
       "HS               30\n",
       "Healthy         127\n",
       "MP               40\n",
       "Stage_0          27\n",
       "Stage_III_IV     54\n",
       "Stage_I_II       69\n",
       "dtype: int64"
      ]
     },
     "execution_count": 21,
     "metadata": {},
     "output_type": "execute_result"
    }
   ],
   "source": [
    "df1.loc[idx].groupby('Group').size()"
   ]
  },
  {
   "cell_type": "code",
   "execution_count": null,
   "metadata": {},
   "outputs": [],
   "source": [
    "df1 = pd.read_excel('./subject.xlsx', sheet_name='616')\n",
    "df2 = pd.read_excel('./subject.xlsx', sheet_name='406')\n",
    "\n",
    "df1 = df1.set_index('Subject_ID')\n",
    "df2 = df2.set_index('Subject_ID')\n",
    "\n",
    "commom_idx = list(set(df1.index) & set(df2.index))\n",
    "\n",
    "df1.loc[commom_idx].to_excel('./subject_info.xlsx')\n",
    "\n",
    "\n",
    "dfx = pd.read_excel('./data.xlsx', sheet_name='Species', index_col = 0)\n",
    "dfx = dfx[commom_idx]\n",
    "dfx = dfx.T\n",
    "dfx.index = dfx.index.astype(int)\n",
    "dfx.to_excel('./data_species.xlsx')\n"
   ]
  },
  {
   "cell_type": "markdown",
   "metadata": {},
   "source": [
    "## get 7278 higher intensity data"
   ]
  },
  {
   "cell_type": "code",
   "execution_count": 3,
   "metadata": {},
   "outputs": [],
   "source": [
    "label = pd.read_excel('./data/subject_info.xlsx', index_col = 'Subject_ID')\n",
    "data = pd.read_excel('./data/data_species.xlsx', index_col = 0)"
   ]
  },
  {
   "cell_type": "code",
   "execution_count": 4,
   "metadata": {},
   "outputs": [
    {
     "data": {
      "text/plain": [
       "Group\n",
       "HS               30\n",
       "Healthy         127\n",
       "MP               40\n",
       "Stage_0          27\n",
       "Stage_III_IV     54\n",
       "Stage_I_II       69\n",
       "dtype: int64"
      ]
     },
     "execution_count": 4,
     "metadata": {},
     "output_type": "execute_result"
    }
   ],
   "source": [
    "label.groupby('Group').size()"
   ]
  },
  {
   "cell_type": "code",
   "execution_count": 36,
   "metadata": {},
   "outputs": [
    {
     "data": {
      "text/plain": [
       "7278"
      ]
     },
     "execution_count": 36,
     "metadata": {},
     "output_type": "execute_result"
    }
   ],
   "source": [
    "setlist = []\n",
    "for i in ['MP','Stage_0', 'Stage_I_II', 'Stage_III_IV']:\n",
    "    grpid = label[label.Group == i].index\n",
    "    s = data.loc[grpid].mean()\n",
    "    setlist.append(set(s[s > 1e-8].index))\n",
    "    \n",
    "select_sps = set.union(*setlist)\n",
    "\n",
    "order = dict(zip(data.columns, range(len(data.columns))))\n",
    "select_sps = sorted(list(select_sps), key=lambda x: order[x]) \n",
    "\n",
    "len(select_sps)"
   ]
  },
  {
   "cell_type": "code",
   "execution_count": 17,
   "metadata": {},
   "outputs": [],
   "source": []
  },
  {
   "cell_type": "code",
   "execution_count": 37,
   "metadata": {},
   "outputs": [],
   "source": [
    "dfx = data[select_sps]\n",
    "dfx.to_excel('./data/data_7278_species_preprocessed.xlsx')"
   ]
  },
  {
   "cell_type": "code",
   "execution_count": 38,
   "metadata": {},
   "outputs": [],
   "source": [
    "dfy = label[label.Group.isin(['Healthy', 'MP', 'Stage_0', 'Stage_III_IV', 'Stage_I_II'])]"
   ]
  },
  {
   "cell_type": "code",
   "execution_count": 39,
   "metadata": {},
   "outputs": [],
   "source": [
    "dfx = dfx.loc[dfy.index]"
   ]
  },
  {
   "cell_type": "code",
   "execution_count": 40,
   "metadata": {},
   "outputs": [],
   "source": [
    "dfx.to_csv('./data/dfx.csv')\n",
    "dfy.to_csv('./data/dfy.csv')"
   ]
  },
  {
   "cell_type": "code",
   "execution_count": 41,
   "metadata": {},
   "outputs": [
    {
     "name": "stderr",
     "output_type": "stream",
     "text": [
      "/home/sxh/anaconda3/envs/rdkit2020/lib/python3.6/site-packages/ipykernel_launcher.py:1: FutureWarning: The signature of `Series.to_csv` was aligned to that of `DataFrame.to_csv`, and argument 'header' will change its default value from False to True: please pass an explicit value to suppress this warning.\n",
      "  \"\"\"Entry point for launching an IPython kernel.\n"
     ]
    }
   ],
   "source": [
    "pd.Series(list(select_sps)).to_csv('./data/selected_species.csv')"
   ]
  },
  {
   "cell_type": "code",
   "execution_count": null,
   "metadata": {},
   "outputs": [],
   "source": []
  },
  {
   "cell_type": "code",
   "execution_count": null,
   "metadata": {},
   "outputs": [],
   "source": []
  },
  {
   "cell_type": "code",
   "execution_count": null,
   "metadata": {},
   "outputs": [],
   "source": []
  },
  {
   "cell_type": "code",
   "execution_count": null,
   "metadata": {},
   "outputs": [],
   "source": []
  },
  {
   "cell_type": "code",
   "execution_count": null,
   "metadata": {},
   "outputs": [],
   "source": []
  }
 ],
 "metadata": {
  "kernelspec": {
   "display_name": "Python 3",
   "language": "python",
   "name": "python3"
  },
  "language_info": {
   "codemirror_mode": {
    "name": "ipython",
    "version": 3
   },
   "file_extension": ".py",
   "mimetype": "text/x-python",
   "name": "python",
   "nbconvert_exporter": "python",
   "pygments_lexer": "ipython3",
   "version": "3.6.10"
  }
 },
 "nbformat": 4,
 "nbformat_minor": 4
}
