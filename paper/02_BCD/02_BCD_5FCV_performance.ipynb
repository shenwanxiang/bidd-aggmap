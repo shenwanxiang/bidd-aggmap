{
 "cells": [
  {
   "cell_type": "code",
   "execution_count": 18,
   "metadata": {},
   "outputs": [],
   "source": [
    "import warnings\n",
    "warnings.filterwarnings(\"ignore\")\n",
    "\n",
    "\n",
    "import pandas as pd\n",
    "import numpy as np\n",
    "\n",
    "from sklearn.model_selection import KFold, StratifiedKFold\n",
    "from sklearn.metrics import confusion_matrix, precision_recall_curve, roc_auc_score\n",
    "from sklearn.metrics import auc as calculate_auc\n",
    "from sklearn.datasets import load_breast_cancer\n",
    "\n",
    "import matplotlib.pyplot as plt\n",
    "import seaborn as sns\n",
    "\n",
    "from aggmap import AggMap, AggModel\n",
    "\n",
    "np.random.seed(666) #just for reaptable results\n",
    "\n",
    "def prc_auc_score(y_true, y_score):\n",
    "    precision, recall, threshold  = precision_recall_curve(y_true, y_score) #PRC_AUC\n",
    "    auc = calculate_auc(recall, precision)\n",
    "    return auc"
   ]
  },
  {
   "cell_type": "code",
   "execution_count": 19,
   "metadata": {},
   "outputs": [],
   "source": [
    "data = load_breast_cancer()\n",
    "dfx = pd.DataFrame(data.data, columns= data.feature_names)\n",
    "y = pd.Series(data.target).map({0:'malignant', 1:'benign'})\n",
    "dfy = pd.get_dummies(y) \n",
    "X = dfx.values.astype(float)\n",
    "Y = dfy.values.astype(float)"
   ]
  },
  {
   "cell_type": "code",
   "execution_count": 20,
   "metadata": {},
   "outputs": [
    {
     "name": "stdout",
     "output_type": "stream",
     "text": [
      "2020-10-18 17:08:58,496 - \u001b[32mINFO\u001b[0m - [bidd-aggmap]\u001b[0m - Calculating distance ...\u001b[0m\n",
      "2020-10-18 17:08:58,497 - \u001b[32mINFO\u001b[0m - [bidd-aggmap]\u001b[0m - the number of process is 16\u001b[0m\n"
     ]
    },
    {
     "name": "stderr",
     "output_type": "stream",
     "text": [
      "100%|##########| 435/435 [00:00<00:00, 2331.26it/s]\n",
      "100%|##########| 435/435 [00:00<00:00, 1239485.22it/s]\n",
      "100%|##########| 30/30 [00:00<00:00, 643.72it/s]\n"
     ]
    },
    {
     "name": "stdout",
     "output_type": "stream",
     "text": [
      "2020-10-18 17:09:00,122 - \u001b[32mINFO\u001b[0m - [bidd-aggmap]\u001b[0m - applying hierarchical clustering to obtain group information ...\u001b[0m\n",
      "2020-10-18 17:09:00,193 - \u001b[32mINFO\u001b[0m - [bidd-aggmap]\u001b[0m - Applying grid feature map(assignment), this may take several minutes(1~30 min)\u001b[0m\n",
      "2020-10-18 17:09:00,202 - \u001b[32mINFO\u001b[0m - [bidd-aggmap]\u001b[0m - Finished\u001b[0m\n"
     ]
    },
    {
     "data": {
      "text/plain": [
       "<aggmap.map.AggMap at 0x7f4530628a58>"
      ]
     },
     "execution_count": 20,
     "metadata": {},
     "output_type": "execute_result"
    }
   ],
   "source": [
    "mp = AggMap(dfx, metric = 'correlation')\n",
    "mp.fit(cluster_channels = 5, verbose = 0)"
   ]
  },
  {
   "cell_type": "markdown",
   "metadata": {},
   "source": [
    "## 5-fold cross validation and repeat 5 times "
   ]
  },
  {
   "cell_type": "code",
   "execution_count": 21,
   "metadata": {},
   "outputs": [
    {
     "name": "stderr",
     "output_type": "stream",
     "text": [
      "100%|##########| 455/455 [00:02<00:00, 178.64it/s]\n",
      "100%|##########| 114/114 [00:00<00:00, 1173.89it/s]\n"
     ]
    },
    {
     "name": "stdout",
     "output_type": "stream",
     "text": [
      "\n",
      " input train and test X shape is (455, 6, 5, 5), (114, 6, 5, 5) \n",
      "MultiClassEstimator(batch_size=8, epochs=100, gpuid='3')\n"
     ]
    },
    {
     "name": "stderr",
     "output_type": "stream",
     "text": [
      "100%|##########| 455/455 [00:00<00:00, 1868.59it/s]\n",
      "100%|##########| 114/114 [00:00<00:00, 1157.82it/s]\n"
     ]
    },
    {
     "name": "stdout",
     "output_type": "stream",
     "text": [
      "\n",
      " input train and test X shape is (455, 6, 5, 5), (114, 6, 5, 5) \n",
      "MultiClassEstimator(batch_size=8, epochs=100, gpuid='3')\n"
     ]
    },
    {
     "name": "stderr",
     "output_type": "stream",
     "text": [
      "100%|##########| 455/455 [00:00<00:00, 2233.28it/s]\n",
      "100%|##########| 114/114 [00:00<00:00, 1075.66it/s]\n"
     ]
    },
    {
     "name": "stdout",
     "output_type": "stream",
     "text": [
      "\n",
      " input train and test X shape is (455, 6, 5, 5), (114, 6, 5, 5) \n",
      "MultiClassEstimator(batch_size=8, epochs=100, gpuid='3')\n"
     ]
    },
    {
     "name": "stderr",
     "output_type": "stream",
     "text": [
      "100%|##########| 455/455 [00:00<00:00, 2279.89it/s]\n",
      "100%|##########| 114/114 [00:00<00:00, 2030.62it/s]\n"
     ]
    },
    {
     "name": "stdout",
     "output_type": "stream",
     "text": [
      "\n",
      " input train and test X shape is (455, 6, 5, 5), (114, 6, 5, 5) \n",
      "MultiClassEstimator(batch_size=8, epochs=100, gpuid='3')\n"
     ]
    },
    {
     "name": "stderr",
     "output_type": "stream",
     "text": [
      "100%|##########| 456/456 [00:00<00:00, 2511.44it/s]\n",
      "100%|##########| 113/113 [00:00<00:00, 1053.18it/s]\n"
     ]
    },
    {
     "name": "stdout",
     "output_type": "stream",
     "text": [
      "\n",
      " input train and test X shape is (456, 6, 5, 5), (113, 6, 5, 5) \n",
      "MultiClassEstimator(batch_size=8, epochs=100, gpuid='3')\n"
     ]
    },
    {
     "name": "stderr",
     "output_type": "stream",
     "text": [
      "100%|##########| 455/455 [00:00<00:00, 2388.93it/s]\n",
      "100%|##########| 114/114 [00:00<00:00, 1242.74it/s]\n"
     ]
    },
    {
     "name": "stdout",
     "output_type": "stream",
     "text": [
      "\n",
      " input train and test X shape is (455, 6, 5, 5), (114, 6, 5, 5) \n",
      "MultiClassEstimator(batch_size=8, epochs=100, gpuid='3')\n"
     ]
    },
    {
     "name": "stderr",
     "output_type": "stream",
     "text": [
      "100%|##########| 455/455 [00:00<00:00, 2363.47it/s]\n",
      "100%|##########| 114/114 [00:00<00:00, 1449.91it/s]\n"
     ]
    },
    {
     "name": "stdout",
     "output_type": "stream",
     "text": [
      "\n",
      " input train and test X shape is (455, 6, 5, 5), (114, 6, 5, 5) \n",
      "MultiClassEstimator(batch_size=8, epochs=100, gpuid='3')\n"
     ]
    },
    {
     "name": "stderr",
     "output_type": "stream",
     "text": [
      "100%|##########| 455/455 [00:00<00:00, 2028.96it/s]\n",
      "100%|##########| 114/114 [00:00<00:00, 1114.57it/s]\n"
     ]
    },
    {
     "name": "stdout",
     "output_type": "stream",
     "text": [
      "\n",
      " input train and test X shape is (455, 6, 5, 5), (114, 6, 5, 5) \n",
      "MultiClassEstimator(batch_size=8, epochs=100, gpuid='3')\n"
     ]
    },
    {
     "name": "stderr",
     "output_type": "stream",
     "text": [
      "100%|##########| 455/455 [00:00<00:00, 2243.35it/s]\n",
      "100%|##########| 114/114 [00:00<00:00, 2213.99it/s]\n"
     ]
    },
    {
     "name": "stdout",
     "output_type": "stream",
     "text": [
      "\n",
      " input train and test X shape is (455, 6, 5, 5), (114, 6, 5, 5) \n",
      "MultiClassEstimator(batch_size=8, epochs=100, gpuid='3')\n"
     ]
    },
    {
     "name": "stderr",
     "output_type": "stream",
     "text": [
      "100%|##########| 456/456 [00:00<00:00, 2174.13it/s]\n",
      "100%|##########| 113/113 [00:00<00:00, 1052.04it/s]\n"
     ]
    },
    {
     "name": "stdout",
     "output_type": "stream",
     "text": [
      "\n",
      " input train and test X shape is (456, 6, 5, 5), (113, 6, 5, 5) \n",
      "MultiClassEstimator(batch_size=8, epochs=100, gpuid='3')\n"
     ]
    },
    {
     "name": "stderr",
     "output_type": "stream",
     "text": [
      "100%|##########| 455/455 [00:00<00:00, 2327.33it/s]\n",
      "100%|##########| 114/114 [00:00<00:00, 1396.02it/s]\n"
     ]
    },
    {
     "name": "stdout",
     "output_type": "stream",
     "text": [
      "\n",
      " input train and test X shape is (455, 6, 5, 5), (114, 6, 5, 5) \n",
      "MultiClassEstimator(batch_size=8, epochs=100, gpuid='3')\n"
     ]
    },
    {
     "name": "stderr",
     "output_type": "stream",
     "text": [
      "100%|##########| 455/455 [00:00<00:00, 2761.98it/s]\n",
      "100%|##########| 114/114 [00:00<00:00, 1203.31it/s]\n"
     ]
    },
    {
     "name": "stdout",
     "output_type": "stream",
     "text": [
      "\n",
      " input train and test X shape is (455, 6, 5, 5), (114, 6, 5, 5) \n",
      "MultiClassEstimator(batch_size=8, epochs=100, gpuid='3')\n"
     ]
    },
    {
     "name": "stderr",
     "output_type": "stream",
     "text": [
      "100%|##########| 455/455 [00:00<00:00, 2487.96it/s]\n",
      "100%|##########| 114/114 [00:00<00:00, 1264.28it/s]\n"
     ]
    },
    {
     "name": "stdout",
     "output_type": "stream",
     "text": [
      "\n",
      " input train and test X shape is (455, 6, 5, 5), (114, 6, 5, 5) \n",
      "MultiClassEstimator(batch_size=8, epochs=100, gpuid='3')\n"
     ]
    },
    {
     "name": "stderr",
     "output_type": "stream",
     "text": [
      "100%|##########| 455/455 [00:00<00:00, 2535.23it/s]\n",
      "100%|##########| 114/114 [00:00<00:00, 1244.76it/s]\n"
     ]
    },
    {
     "name": "stdout",
     "output_type": "stream",
     "text": [
      "\n",
      " input train and test X shape is (455, 6, 5, 5), (114, 6, 5, 5) \n",
      "MultiClassEstimator(batch_size=8, epochs=100, gpuid='3')\n"
     ]
    },
    {
     "name": "stderr",
     "output_type": "stream",
     "text": [
      "100%|##########| 456/456 [00:00<00:00, 2106.77it/s]\n",
      "100%|##########| 113/113 [00:00<00:00, 1327.68it/s]\n"
     ]
    },
    {
     "name": "stdout",
     "output_type": "stream",
     "text": [
      "\n",
      " input train and test X shape is (456, 6, 5, 5), (113, 6, 5, 5) \n",
      "MultiClassEstimator(batch_size=8, epochs=100, gpuid='3')\n"
     ]
    },
    {
     "name": "stderr",
     "output_type": "stream",
     "text": [
      "100%|##########| 455/455 [00:00<00:00, 1881.95it/s]\n",
      "100%|##########| 114/114 [00:00<00:00, 1085.10it/s]\n"
     ]
    },
    {
     "name": "stdout",
     "output_type": "stream",
     "text": [
      "\n",
      " input train and test X shape is (455, 6, 5, 5), (114, 6, 5, 5) \n",
      "MultiClassEstimator(batch_size=8, epochs=100, gpuid='3')\n"
     ]
    },
    {
     "name": "stderr",
     "output_type": "stream",
     "text": [
      "100%|##########| 455/455 [00:00<00:00, 2314.39it/s]\n",
      "100%|##########| 114/114 [00:00<00:00, 1226.59it/s]\n"
     ]
    },
    {
     "name": "stdout",
     "output_type": "stream",
     "text": [
      "\n",
      " input train and test X shape is (455, 6, 5, 5), (114, 6, 5, 5) \n",
      "MultiClassEstimator(batch_size=8, epochs=100, gpuid='3')\n"
     ]
    },
    {
     "name": "stderr",
     "output_type": "stream",
     "text": [
      "100%|##########| 455/455 [00:00<00:00, 2224.12it/s]\n",
      "100%|##########| 114/114 [00:00<00:00, 1492.31it/s]\n"
     ]
    },
    {
     "name": "stdout",
     "output_type": "stream",
     "text": [
      "\n",
      " input train and test X shape is (455, 6, 5, 5), (114, 6, 5, 5) \n",
      "MultiClassEstimator(batch_size=8, epochs=100, gpuid='3')\n"
     ]
    },
    {
     "name": "stderr",
     "output_type": "stream",
     "text": [
      "100%|##########| 455/455 [00:00<00:00, 1906.39it/s]\n",
      "100%|##########| 114/114 [00:00<00:00, 1647.64it/s]\n"
     ]
    },
    {
     "name": "stdout",
     "output_type": "stream",
     "text": [
      "\n",
      " input train and test X shape is (455, 6, 5, 5), (114, 6, 5, 5) \n",
      "MultiClassEstimator(batch_size=8, epochs=100, gpuid='3')\n"
     ]
    },
    {
     "name": "stderr",
     "output_type": "stream",
     "text": [
      "100%|##########| 456/456 [00:00<00:00, 1978.81it/s]\n",
      "100%|##########| 113/113 [00:00<00:00, 1101.21it/s]\n"
     ]
    },
    {
     "name": "stdout",
     "output_type": "stream",
     "text": [
      "\n",
      " input train and test X shape is (456, 6, 5, 5), (113, 6, 5, 5) \n",
      "MultiClassEstimator(batch_size=8, epochs=100, gpuid='3')\n"
     ]
    },
    {
     "name": "stderr",
     "output_type": "stream",
     "text": [
      "100%|##########| 455/455 [00:00<00:00, 2067.13it/s]\n",
      "100%|##########| 114/114 [00:00<00:00, 1401.61it/s]\n"
     ]
    },
    {
     "name": "stdout",
     "output_type": "stream",
     "text": [
      "\n",
      " input train and test X shape is (455, 6, 5, 5), (114, 6, 5, 5) \n",
      "MultiClassEstimator(batch_size=8, epochs=100, gpuid='3')\n"
     ]
    },
    {
     "name": "stderr",
     "output_type": "stream",
     "text": [
      "100%|##########| 455/455 [00:00<00:00, 2030.36it/s]\n",
      "100%|##########| 114/114 [00:00<00:00, 1475.68it/s]\n"
     ]
    },
    {
     "name": "stdout",
     "output_type": "stream",
     "text": [
      "\n",
      " input train and test X shape is (455, 6, 5, 5), (114, 6, 5, 5) \n",
      "MultiClassEstimator(batch_size=8, epochs=100, gpuid='3')\n"
     ]
    },
    {
     "name": "stderr",
     "output_type": "stream",
     "text": [
      "100%|##########| 455/455 [00:00<00:00, 2195.03it/s]\n",
      "100%|##########| 114/114 [00:00<00:00, 1621.40it/s]\n"
     ]
    },
    {
     "name": "stdout",
     "output_type": "stream",
     "text": [
      "\n",
      " input train and test X shape is (455, 6, 5, 5), (114, 6, 5, 5) \n",
      "MultiClassEstimator(batch_size=8, epochs=100, gpuid='3')\n"
     ]
    },
    {
     "name": "stderr",
     "output_type": "stream",
     "text": [
      "100%|##########| 455/455 [00:00<00:00, 2439.38it/s]\n",
      "100%|##########| 114/114 [00:00<00:00, 1296.54it/s]\n"
     ]
    },
    {
     "name": "stdout",
     "output_type": "stream",
     "text": [
      "\n",
      " input train and test X shape is (455, 6, 5, 5), (114, 6, 5, 5) \n",
      "MultiClassEstimator(batch_size=8, epochs=100, gpuid='3')\n"
     ]
    },
    {
     "name": "stderr",
     "output_type": "stream",
     "text": [
      "100%|##########| 456/456 [00:00<00:00, 2966.46it/s]\n",
      "100%|##########| 113/113 [00:00<00:00, 1105.69it/s]\n"
     ]
    },
    {
     "name": "stdout",
     "output_type": "stream",
     "text": [
      "\n",
      " input train and test X shape is (456, 6, 5, 5), (113, 6, 5, 5) \n",
      "MultiClassEstimator(batch_size=8, epochs=100, gpuid='3')\n"
     ]
    }
   ],
   "source": [
    "outer_fold = 5\n",
    "\n",
    "run_all = []\n",
    "for repeat_seed in [8, 16, 32, 64, 128]: #5 repeats random seeds\n",
    "    \n",
    "    outer = KFold(n_splits = outer_fold, shuffle = True, random_state = repeat_seed)\n",
    "    outer_idx = outer.split(range(len(Y)), Y[:,0])\n",
    "\n",
    "    for i, idx in enumerate(outer_idx):\n",
    "        \n",
    "        fold_num = \"fold_%s\" % str(i).zfill(2) \n",
    "        \n",
    "        train_idx, test_idx = idx\n",
    "        \n",
    "        testY = Y[test_idx]\n",
    "        testx = X[test_idx]\n",
    "        \n",
    "        trainx = X[train_idx]\n",
    "        trainY = Y[train_idx]\n",
    "\n",
    "        trainX = mp.batch_transform(trainx, scale_method = 'standard')\n",
    "        testX = mp.batch_transform(testx, scale_method = 'standard')\n",
    "        \n",
    "        print(\"\\n input train and test X shape is %s, %s \" % (trainX.shape,  testX.shape))\n",
    "        \n",
    "        clf = AggModel.MultiClassEstimator(epochs = 100, gpuid = 3, conv1_kernel_size = 11, batch_size = 8, verbose = 0)\n",
    "        clf.fit(trainX, trainY)\n",
    "\n",
    "        y_true = testY[:,0]\n",
    "        y_pred = clf.predict(testX)[:,0]\n",
    "        y_score = clf.predict_proba(testX)[:,0]\n",
    "\n",
    "        tn, fp, fn, tp = confusion_matrix(y_true, y_pred).ravel()\n",
    "        \n",
    "        acc = (tp + tn) / sum([tn, fp, fn, tp])\n",
    "        \n",
    "        sensitivity = tp / sum([tp, fn])\n",
    "        specificity = tn / sum([tn, fp])\n",
    "        \n",
    "        prc_auc = prc_auc_score(y_true, y_score)\n",
    "        roc_auc = roc_auc_score(y_true, y_score)\n",
    "        \n",
    "        precision = tp / sum([tp, fp])\n",
    "        recall =  tp / sum([tp, fn]) #equals to sensitivity\n",
    "        \n",
    "        \n",
    "        res = {'fold': fold_num,\n",
    "               'repeat_seed':repeat_seed,\n",
    "               \n",
    "               'accuracy':acc, \n",
    "               \n",
    "               'prc_auc':prc_auc, \n",
    "               'roc_auc':roc_auc,\n",
    "\n",
    "               'sensitivity': sensitivity, \n",
    "               'specificity': specificity,\n",
    "               \n",
    "               'precision':precision,\n",
    "               'recall':recall,\n",
    "              }\n",
    "        \n",
    "        run_all.append(res)"
   ]
  },
  {
   "cell_type": "code",
   "execution_count": null,
   "metadata": {},
   "outputs": [],
   "source": []
  },
  {
   "cell_type": "code",
   "execution_count": 22,
   "metadata": {},
   "outputs": [
    {
     "data": {
      "text/plain": [
       "323138"
      ]
     },
     "execution_count": 22,
     "metadata": {},
     "output_type": "execute_result"
    }
   ],
   "source": [
    "clf._model.count_params()"
   ]
  },
  {
   "cell_type": "code",
   "execution_count": 23,
   "metadata": {},
   "outputs": [
    {
     "data": {
      "text/html": [
       "<div>\n",
       "<style scoped>\n",
       "    .dataframe tbody tr th:only-of-type {\n",
       "        vertical-align: middle;\n",
       "    }\n",
       "\n",
       "    .dataframe tbody tr th {\n",
       "        vertical-align: top;\n",
       "    }\n",
       "\n",
       "    .dataframe thead th {\n",
       "        text-align: right;\n",
       "    }\n",
       "</style>\n",
       "<table border=\"1\" class=\"dataframe\">\n",
       "  <thead>\n",
       "    <tr style=\"text-align: right;\">\n",
       "      <th></th>\n",
       "      <th>fold</th>\n",
       "      <th>repeat_seed</th>\n",
       "      <th>accuracy</th>\n",
       "      <th>prc_auc</th>\n",
       "      <th>roc_auc</th>\n",
       "      <th>sensitivity</th>\n",
       "      <th>specificity</th>\n",
       "      <th>precision</th>\n",
       "      <th>recall</th>\n",
       "    </tr>\n",
       "  </thead>\n",
       "  <tbody>\n",
       "    <tr>\n",
       "      <th>0</th>\n",
       "      <td>fold_00</td>\n",
       "      <td>8</td>\n",
       "      <td>0.973684</td>\n",
       "      <td>0.998427</td>\n",
       "      <td>0.997762</td>\n",
       "      <td>0.970588</td>\n",
       "      <td>0.978261</td>\n",
       "      <td>0.985075</td>\n",
       "      <td>0.970588</td>\n",
       "    </tr>\n",
       "    <tr>\n",
       "      <th>1</th>\n",
       "      <td>fold_01</td>\n",
       "      <td>8</td>\n",
       "      <td>0.964912</td>\n",
       "      <td>0.998809</td>\n",
       "      <td>0.998016</td>\n",
       "      <td>0.958333</td>\n",
       "      <td>0.976190</td>\n",
       "      <td>0.985714</td>\n",
       "      <td>0.958333</td>\n",
       "    </tr>\n",
       "    <tr>\n",
       "      <th>2</th>\n",
       "      <td>fold_02</td>\n",
       "      <td>8</td>\n",
       "      <td>0.982456</td>\n",
       "      <td>0.987934</td>\n",
       "      <td>0.985075</td>\n",
       "      <td>1.000000</td>\n",
       "      <td>0.957447</td>\n",
       "      <td>0.971014</td>\n",
       "      <td>1.000000</td>\n",
       "    </tr>\n",
       "    <tr>\n",
       "      <th>3</th>\n",
       "      <td>fold_03</td>\n",
       "      <td>8</td>\n",
       "      <td>0.973684</td>\n",
       "      <td>0.987289</td>\n",
       "      <td>0.983696</td>\n",
       "      <td>0.985294</td>\n",
       "      <td>0.956522</td>\n",
       "      <td>0.971014</td>\n",
       "      <td>0.985294</td>\n",
       "    </tr>\n",
       "    <tr>\n",
       "      <th>4</th>\n",
       "      <td>fold_04</td>\n",
       "      <td>8</td>\n",
       "      <td>0.964602</td>\n",
       "      <td>0.999112</td>\n",
       "      <td>0.997640</td>\n",
       "      <td>0.987805</td>\n",
       "      <td>0.903226</td>\n",
       "      <td>0.964286</td>\n",
       "      <td>0.987805</td>\n",
       "    </tr>\n",
       "    <tr>\n",
       "      <th>5</th>\n",
       "      <td>fold_00</td>\n",
       "      <td>16</td>\n",
       "      <td>0.956140</td>\n",
       "      <td>0.994579</td>\n",
       "      <td>0.990812</td>\n",
       "      <td>0.972603</td>\n",
       "      <td>0.926829</td>\n",
       "      <td>0.959459</td>\n",
       "      <td>0.972603</td>\n",
       "    </tr>\n",
       "    <tr>\n",
       "      <th>6</th>\n",
       "      <td>fold_01</td>\n",
       "      <td>16</td>\n",
       "      <td>0.991228</td>\n",
       "      <td>1.000000</td>\n",
       "      <td>1.000000</td>\n",
       "      <td>0.985714</td>\n",
       "      <td>1.000000</td>\n",
       "      <td>1.000000</td>\n",
       "      <td>0.985714</td>\n",
       "    </tr>\n",
       "    <tr>\n",
       "      <th>7</th>\n",
       "      <td>fold_02</td>\n",
       "      <td>16</td>\n",
       "      <td>0.973684</td>\n",
       "      <td>0.998249</td>\n",
       "      <td>0.996537</td>\n",
       "      <td>0.986842</td>\n",
       "      <td>0.947368</td>\n",
       "      <td>0.974026</td>\n",
       "      <td>0.986842</td>\n",
       "    </tr>\n",
       "    <tr>\n",
       "      <th>8</th>\n",
       "      <td>fold_03</td>\n",
       "      <td>16</td>\n",
       "      <td>0.982456</td>\n",
       "      <td>0.998860</td>\n",
       "      <td>0.998412</td>\n",
       "      <td>0.985075</td>\n",
       "      <td>0.978723</td>\n",
       "      <td>0.985075</td>\n",
       "      <td>0.985075</td>\n",
       "    </tr>\n",
       "    <tr>\n",
       "      <th>9</th>\n",
       "      <td>fold_04</td>\n",
       "      <td>16</td>\n",
       "      <td>0.955752</td>\n",
       "      <td>0.987508</td>\n",
       "      <td>0.981556</td>\n",
       "      <td>0.957746</td>\n",
       "      <td>0.952381</td>\n",
       "      <td>0.971429</td>\n",
       "      <td>0.957746</td>\n",
       "    </tr>\n",
       "    <tr>\n",
       "      <th>10</th>\n",
       "      <td>fold_00</td>\n",
       "      <td>32</td>\n",
       "      <td>0.991228</td>\n",
       "      <td>0.998517</td>\n",
       "      <td>0.997727</td>\n",
       "      <td>1.000000</td>\n",
       "      <td>0.977273</td>\n",
       "      <td>0.985915</td>\n",
       "      <td>1.000000</td>\n",
       "    </tr>\n",
       "    <tr>\n",
       "      <th>11</th>\n",
       "      <td>fold_01</td>\n",
       "      <td>32</td>\n",
       "      <td>0.947368</td>\n",
       "      <td>0.996650</td>\n",
       "      <td>0.995237</td>\n",
       "      <td>0.940299</td>\n",
       "      <td>0.957447</td>\n",
       "      <td>0.969231</td>\n",
       "      <td>0.940299</td>\n",
       "    </tr>\n",
       "    <tr>\n",
       "      <th>12</th>\n",
       "      <td>fold_02</td>\n",
       "      <td>32</td>\n",
       "      <td>0.973684</td>\n",
       "      <td>0.997701</td>\n",
       "      <td>0.996457</td>\n",
       "      <td>1.000000</td>\n",
       "      <td>0.933333</td>\n",
       "      <td>0.958333</td>\n",
       "      <td>1.000000</td>\n",
       "    </tr>\n",
       "    <tr>\n",
       "      <th>13</th>\n",
       "      <td>fold_03</td>\n",
       "      <td>32</td>\n",
       "      <td>0.982456</td>\n",
       "      <td>0.990070</td>\n",
       "      <td>0.984274</td>\n",
       "      <td>0.986667</td>\n",
       "      <td>0.974359</td>\n",
       "      <td>0.986667</td>\n",
       "      <td>0.986667</td>\n",
       "    </tr>\n",
       "    <tr>\n",
       "      <th>14</th>\n",
       "      <td>fold_04</td>\n",
       "      <td>32</td>\n",
       "      <td>0.991150</td>\n",
       "      <td>0.999828</td>\n",
       "      <td>0.999644</td>\n",
       "      <td>0.986842</td>\n",
       "      <td>1.000000</td>\n",
       "      <td>1.000000</td>\n",
       "      <td>0.986842</td>\n",
       "    </tr>\n",
       "    <tr>\n",
       "      <th>15</th>\n",
       "      <td>fold_00</td>\n",
       "      <td>64</td>\n",
       "      <td>0.973684</td>\n",
       "      <td>0.998409</td>\n",
       "      <td>0.996884</td>\n",
       "      <td>0.986842</td>\n",
       "      <td>0.947368</td>\n",
       "      <td>0.974026</td>\n",
       "      <td>0.986842</td>\n",
       "    </tr>\n",
       "    <tr>\n",
       "      <th>16</th>\n",
       "      <td>fold_01</td>\n",
       "      <td>64</td>\n",
       "      <td>0.947368</td>\n",
       "      <td>0.987774</td>\n",
       "      <td>0.980263</td>\n",
       "      <td>0.960526</td>\n",
       "      <td>0.921053</td>\n",
       "      <td>0.960526</td>\n",
       "      <td>0.960526</td>\n",
       "    </tr>\n",
       "    <tr>\n",
       "      <th>17</th>\n",
       "      <td>fold_02</td>\n",
       "      <td>64</td>\n",
       "      <td>0.956140</td>\n",
       "      <td>0.996784</td>\n",
       "      <td>0.993767</td>\n",
       "      <td>0.973684</td>\n",
       "      <td>0.921053</td>\n",
       "      <td>0.961039</td>\n",
       "      <td>0.973684</td>\n",
       "    </tr>\n",
       "    <tr>\n",
       "      <th>18</th>\n",
       "      <td>fold_03</td>\n",
       "      <td>64</td>\n",
       "      <td>0.982456</td>\n",
       "      <td>0.999365</td>\n",
       "      <td>0.999034</td>\n",
       "      <td>0.985507</td>\n",
       "      <td>0.977778</td>\n",
       "      <td>0.985507</td>\n",
       "      <td>0.985507</td>\n",
       "    </tr>\n",
       "    <tr>\n",
       "      <th>19</th>\n",
       "      <td>fold_04</td>\n",
       "      <td>64</td>\n",
       "      <td>0.991150</td>\n",
       "      <td>1.000000</td>\n",
       "      <td>1.000000</td>\n",
       "      <td>0.983333</td>\n",
       "      <td>1.000000</td>\n",
       "      <td>1.000000</td>\n",
       "      <td>0.983333</td>\n",
       "    </tr>\n",
       "    <tr>\n",
       "      <th>20</th>\n",
       "      <td>fold_00</td>\n",
       "      <td>128</td>\n",
       "      <td>0.973684</td>\n",
       "      <td>0.999306</td>\n",
       "      <td>0.999053</td>\n",
       "      <td>1.000000</td>\n",
       "      <td>0.937500</td>\n",
       "      <td>0.956522</td>\n",
       "      <td>1.000000</td>\n",
       "    </tr>\n",
       "    <tr>\n",
       "      <th>21</th>\n",
       "      <td>fold_01</td>\n",
       "      <td>128</td>\n",
       "      <td>0.982456</td>\n",
       "      <td>0.996742</td>\n",
       "      <td>0.994874</td>\n",
       "      <td>0.986111</td>\n",
       "      <td>0.976190</td>\n",
       "      <td>0.986111</td>\n",
       "      <td>0.986111</td>\n",
       "    </tr>\n",
       "    <tr>\n",
       "      <th>22</th>\n",
       "      <td>fold_02</td>\n",
       "      <td>128</td>\n",
       "      <td>0.947368</td>\n",
       "      <td>0.989339</td>\n",
       "      <td>0.975683</td>\n",
       "      <td>0.975309</td>\n",
       "      <td>0.878788</td>\n",
       "      <td>0.951807</td>\n",
       "      <td>0.975309</td>\n",
       "    </tr>\n",
       "    <tr>\n",
       "      <th>23</th>\n",
       "      <td>fold_03</td>\n",
       "      <td>128</td>\n",
       "      <td>0.947368</td>\n",
       "      <td>0.994253</td>\n",
       "      <td>0.992779</td>\n",
       "      <td>0.953846</td>\n",
       "      <td>0.938776</td>\n",
       "      <td>0.953846</td>\n",
       "      <td>0.953846</td>\n",
       "    </tr>\n",
       "    <tr>\n",
       "      <th>24</th>\n",
       "      <td>fold_04</td>\n",
       "      <td>128</td>\n",
       "      <td>0.991150</td>\n",
       "      <td>1.000000</td>\n",
       "      <td>1.000000</td>\n",
       "      <td>0.986301</td>\n",
       "      <td>1.000000</td>\n",
       "      <td>1.000000</td>\n",
       "      <td>0.986301</td>\n",
       "    </tr>\n",
       "  </tbody>\n",
       "</table>\n",
       "</div>"
      ],
      "text/plain": [
       "       fold  repeat_seed  accuracy   prc_auc   roc_auc  sensitivity  \\\n",
       "0   fold_00            8  0.973684  0.998427  0.997762     0.970588   \n",
       "1   fold_01            8  0.964912  0.998809  0.998016     0.958333   \n",
       "2   fold_02            8  0.982456  0.987934  0.985075     1.000000   \n",
       "3   fold_03            8  0.973684  0.987289  0.983696     0.985294   \n",
       "4   fold_04            8  0.964602  0.999112  0.997640     0.987805   \n",
       "5   fold_00           16  0.956140  0.994579  0.990812     0.972603   \n",
       "6   fold_01           16  0.991228  1.000000  1.000000     0.985714   \n",
       "7   fold_02           16  0.973684  0.998249  0.996537     0.986842   \n",
       "8   fold_03           16  0.982456  0.998860  0.998412     0.985075   \n",
       "9   fold_04           16  0.955752  0.987508  0.981556     0.957746   \n",
       "10  fold_00           32  0.991228  0.998517  0.997727     1.000000   \n",
       "11  fold_01           32  0.947368  0.996650  0.995237     0.940299   \n",
       "12  fold_02           32  0.973684  0.997701  0.996457     1.000000   \n",
       "13  fold_03           32  0.982456  0.990070  0.984274     0.986667   \n",
       "14  fold_04           32  0.991150  0.999828  0.999644     0.986842   \n",
       "15  fold_00           64  0.973684  0.998409  0.996884     0.986842   \n",
       "16  fold_01           64  0.947368  0.987774  0.980263     0.960526   \n",
       "17  fold_02           64  0.956140  0.996784  0.993767     0.973684   \n",
       "18  fold_03           64  0.982456  0.999365  0.999034     0.985507   \n",
       "19  fold_04           64  0.991150  1.000000  1.000000     0.983333   \n",
       "20  fold_00          128  0.973684  0.999306  0.999053     1.000000   \n",
       "21  fold_01          128  0.982456  0.996742  0.994874     0.986111   \n",
       "22  fold_02          128  0.947368  0.989339  0.975683     0.975309   \n",
       "23  fold_03          128  0.947368  0.994253  0.992779     0.953846   \n",
       "24  fold_04          128  0.991150  1.000000  1.000000     0.986301   \n",
       "\n",
       "    specificity  precision    recall  \n",
       "0      0.978261   0.985075  0.970588  \n",
       "1      0.976190   0.985714  0.958333  \n",
       "2      0.957447   0.971014  1.000000  \n",
       "3      0.956522   0.971014  0.985294  \n",
       "4      0.903226   0.964286  0.987805  \n",
       "5      0.926829   0.959459  0.972603  \n",
       "6      1.000000   1.000000  0.985714  \n",
       "7      0.947368   0.974026  0.986842  \n",
       "8      0.978723   0.985075  0.985075  \n",
       "9      0.952381   0.971429  0.957746  \n",
       "10     0.977273   0.985915  1.000000  \n",
       "11     0.957447   0.969231  0.940299  \n",
       "12     0.933333   0.958333  1.000000  \n",
       "13     0.974359   0.986667  0.986667  \n",
       "14     1.000000   1.000000  0.986842  \n",
       "15     0.947368   0.974026  0.986842  \n",
       "16     0.921053   0.960526  0.960526  \n",
       "17     0.921053   0.961039  0.973684  \n",
       "18     0.977778   0.985507  0.985507  \n",
       "19     1.000000   1.000000  0.983333  \n",
       "20     0.937500   0.956522  1.000000  \n",
       "21     0.976190   0.986111  0.986111  \n",
       "22     0.878788   0.951807  0.975309  \n",
       "23     0.938776   0.953846  0.953846  \n",
       "24     1.000000   1.000000  0.986301  "
      ]
     },
     "execution_count": 23,
     "metadata": {},
     "output_type": "execute_result"
    }
   ],
   "source": [
    "df = pd.DataFrame(run_all)\n",
    "df.to_excel('results.xlsx')\n",
    "df"
   ]
  },
  {
   "cell_type": "code",
   "execution_count": 24,
   "metadata": {},
   "outputs": [
    {
     "data": {
      "text/html": [
       "<div>\n",
       "<style scoped>\n",
       "    .dataframe tbody tr th:only-of-type {\n",
       "        vertical-align: middle;\n",
       "    }\n",
       "\n",
       "    .dataframe tbody tr th {\n",
       "        vertical-align: top;\n",
       "    }\n",
       "\n",
       "    .dataframe thead th {\n",
       "        text-align: right;\n",
       "    }\n",
       "</style>\n",
       "<table border=\"1\" class=\"dataframe\">\n",
       "  <thead>\n",
       "    <tr style=\"text-align: right;\">\n",
       "      <th></th>\n",
       "      <th>repeat_seed</th>\n",
       "      <th>accuracy</th>\n",
       "      <th>prc_auc</th>\n",
       "      <th>roc_auc</th>\n",
       "      <th>sensitivity</th>\n",
       "      <th>specificity</th>\n",
       "      <th>precision</th>\n",
       "      <th>recall</th>\n",
       "    </tr>\n",
       "    <tr>\n",
       "      <th>repeat_seed</th>\n",
       "      <th></th>\n",
       "      <th></th>\n",
       "      <th></th>\n",
       "      <th></th>\n",
       "      <th></th>\n",
       "      <th></th>\n",
       "      <th></th>\n",
       "      <th></th>\n",
       "    </tr>\n",
       "  </thead>\n",
       "  <tbody>\n",
       "    <tr>\n",
       "      <th>8</th>\n",
       "      <td>8.0</td>\n",
       "      <td>0.971868</td>\n",
       "      <td>0.994314</td>\n",
       "      <td>0.992438</td>\n",
       "      <td>0.980404</td>\n",
       "      <td>0.954329</td>\n",
       "      <td>0.975421</td>\n",
       "      <td>0.980404</td>\n",
       "    </tr>\n",
       "    <tr>\n",
       "      <th>16</th>\n",
       "      <td>16.0</td>\n",
       "      <td>0.971852</td>\n",
       "      <td>0.995839</td>\n",
       "      <td>0.993463</td>\n",
       "      <td>0.977596</td>\n",
       "      <td>0.961060</td>\n",
       "      <td>0.977998</td>\n",
       "      <td>0.977596</td>\n",
       "    </tr>\n",
       "    <tr>\n",
       "      <th>32</th>\n",
       "      <td>32.0</td>\n",
       "      <td>0.977177</td>\n",
       "      <td>0.996553</td>\n",
       "      <td>0.994668</td>\n",
       "      <td>0.982761</td>\n",
       "      <td>0.968482</td>\n",
       "      <td>0.980029</td>\n",
       "      <td>0.982761</td>\n",
       "    </tr>\n",
       "    <tr>\n",
       "      <th>64</th>\n",
       "      <td>64.0</td>\n",
       "      <td>0.970160</td>\n",
       "      <td>0.996466</td>\n",
       "      <td>0.993990</td>\n",
       "      <td>0.977979</td>\n",
       "      <td>0.953450</td>\n",
       "      <td>0.976220</td>\n",
       "      <td>0.977979</td>\n",
       "    </tr>\n",
       "    <tr>\n",
       "      <th>128</th>\n",
       "      <td>128.0</td>\n",
       "      <td>0.968406</td>\n",
       "      <td>0.995928</td>\n",
       "      <td>0.992478</td>\n",
       "      <td>0.980313</td>\n",
       "      <td>0.946251</td>\n",
       "      <td>0.969657</td>\n",
       "      <td>0.980313</td>\n",
       "    </tr>\n",
       "  </tbody>\n",
       "</table>\n",
       "</div>"
      ],
      "text/plain": [
       "             repeat_seed  accuracy   prc_auc   roc_auc  sensitivity  \\\n",
       "repeat_seed                                                           \n",
       "8                    8.0  0.971868  0.994314  0.992438     0.980404   \n",
       "16                  16.0  0.971852  0.995839  0.993463     0.977596   \n",
       "32                  32.0  0.977177  0.996553  0.994668     0.982761   \n",
       "64                  64.0  0.970160  0.996466  0.993990     0.977979   \n",
       "128                128.0  0.968406  0.995928  0.992478     0.980313   \n",
       "\n",
       "             specificity  precision    recall  \n",
       "repeat_seed                                    \n",
       "8               0.954329   0.975421  0.980404  \n",
       "16              0.961060   0.977998  0.977596  \n",
       "32              0.968482   0.980029  0.982761  \n",
       "64              0.953450   0.976220  0.977979  \n",
       "128             0.946251   0.969657  0.980313  "
      ]
     },
     "execution_count": 24,
     "metadata": {},
     "output_type": "execute_result"
    }
   ],
   "source": [
    "results = df.groupby(['repeat_seed']).apply(np.mean)\n",
    "results"
   ]
  },
  {
   "cell_type": "code",
   "execution_count": 25,
   "metadata": {},
   "outputs": [
    {
     "data": {
      "text/plain": [
       "repeat_seed    49.600\n",
       "accuracy        0.972\n",
       "prc_auc         0.996\n",
       "roc_auc         0.993\n",
       "sensitivity     0.980\n",
       "specificity     0.957\n",
       "precision       0.976\n",
       "recall          0.980\n",
       "dtype: float64"
      ]
     },
     "execution_count": 25,
     "metadata": {},
     "output_type": "execute_result"
    }
   ],
   "source": [
    "results.mean().round(3)"
   ]
  },
  {
   "cell_type": "code",
   "execution_count": 26,
   "metadata": {},
   "outputs": [
    {
     "data": {
      "text/plain": [
       "repeat_seed    49.600\n",
       "accuracy        0.972\n",
       "prc_auc         0.996\n",
       "roc_auc         0.993\n",
       "sensitivity     0.980\n",
       "specificity     0.957\n",
       "precision       0.976\n",
       "recall          0.980\n",
       "dtype: float64"
      ]
     },
     "execution_count": 26,
     "metadata": {},
     "output_type": "execute_result"
    }
   ],
   "source": [
    "results.mean().round(3)"
   ]
  },
  {
   "cell_type": "code",
   "execution_count": 27,
   "metadata": {},
   "outputs": [
    {
     "data": {
      "text/plain": [
       "repeat_seed    48.793\n",
       "accuracy        0.003\n",
       "prc_auc         0.001\n",
       "roc_auc         0.001\n",
       "sensitivity     0.002\n",
       "specificity     0.008\n",
       "precision       0.004\n",
       "recall          0.002\n",
       "dtype: float64"
      ]
     },
     "execution_count": 27,
     "metadata": {},
     "output_type": "execute_result"
    }
   ],
   "source": [
    "results.std().round(3)"
   ]
  },
  {
   "cell_type": "code",
   "execution_count": null,
   "metadata": {},
   "outputs": [],
   "source": []
  },
  {
   "cell_type": "code",
   "execution_count": null,
   "metadata": {},
   "outputs": [],
   "source": []
  },
  {
   "cell_type": "code",
   "execution_count": null,
   "metadata": {},
   "outputs": [],
   "source": []
  },
  {
   "cell_type": "code",
   "execution_count": null,
   "metadata": {},
   "outputs": [],
   "source": []
  },
  {
   "cell_type": "code",
   "execution_count": null,
   "metadata": {},
   "outputs": [],
   "source": []
  },
  {
   "cell_type": "code",
   "execution_count": null,
   "metadata": {},
   "outputs": [],
   "source": []
  }
 ],
 "metadata": {
  "kernelspec": {
   "display_name": "Python 3",
   "language": "python",
   "name": "python3"
  },
  "language_info": {
   "codemirror_mode": {
    "name": "ipython",
    "version": 3
   },
   "file_extension": ".py",
   "mimetype": "text/x-python",
   "name": "python",
   "nbconvert_exporter": "python",
   "pygments_lexer": "ipython3",
   "version": "3.6.9"
  }
 },
 "nbformat": 4,
 "nbformat_minor": 4
}
