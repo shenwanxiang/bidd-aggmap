{
 "cells": [
  {
   "cell_type": "code",
   "execution_count": 1,
   "metadata": {},
   "outputs": [],
   "source": [
    "import warnings\n",
    "warnings.filterwarnings(\"ignore\")\n",
    "\n",
    "\n",
    "import pandas as pd\n",
    "import numpy as np\n",
    "\n",
    "from sklearn.model_selection import KFold, StratifiedKFold\n",
    "from sklearn.metrics import confusion_matrix, precision_recall_curve, roc_auc_score\n",
    "from sklearn.metrics import auc as calculate_auc\n",
    "from sklearn.datasets import load_breast_cancer\n",
    "\n",
    "import matplotlib.pyplot as plt\n",
    "import seaborn as sns\n",
    "\n",
    "from aggmap import AggMap, AggModel\n",
    "\n",
    "np.random.seed(666) #just for reaptable results\n",
    "\n",
    "def prc_auc_score(y_true, y_score):\n",
    "    precision, recall, threshold  = precision_recall_curve(y_true, y_score) #PRC_AUC\n",
    "    auc = calculate_auc(recall, precision)\n",
    "    return auc"
   ]
  },
  {
   "cell_type": "code",
   "execution_count": 2,
   "metadata": {},
   "outputs": [],
   "source": [
    "data = load_breast_cancer()\n",
    "dfx = pd.DataFrame(data.data, columns= data.feature_names)\n",
    "y = pd.Series(data.target).map({0:'malignant', 1:'benign'})\n",
    "dfy = pd.get_dummies(y) \n",
    "X = dfx.values.astype(float)\n",
    "Y = dfy.values.astype(float)"
   ]
  },
  {
   "cell_type": "code",
   "execution_count": 3,
   "metadata": {},
   "outputs": [
    {
     "name": "stdout",
     "output_type": "stream",
     "text": [
      "2020-10-25 13:21:53,302 - \u001b[32mINFO\u001b[0m - [bidd-aggmap]\u001b[0m - Calculating distance ...\u001b[0m\n",
      "2020-10-25 13:21:53,303 - \u001b[32mINFO\u001b[0m - [bidd-aggmap]\u001b[0m - the number of process is 16\u001b[0m\n"
     ]
    },
    {
     "name": "stderr",
     "output_type": "stream",
     "text": [
      "100%|##########| 435/435 [00:00<00:00, 2033.91it/s]\n",
      "100%|##########| 435/435 [00:00<00:00, 1042584.14it/s]\n",
      "100%|##########| 30/30 [00:00<00:00, 697.30it/s]\n"
     ]
    },
    {
     "name": "stdout",
     "output_type": "stream",
     "text": [
      "2020-10-25 13:21:53,758 - \u001b[32mINFO\u001b[0m - [bidd-aggmap]\u001b[0m - applying hierarchical clustering to obtain group information ...\u001b[0m\n",
      "2020-10-25 13:21:56,955 - \u001b[32mINFO\u001b[0m - [bidd-aggmap]\u001b[0m - Applying grid feature map(assignment), this may take several minutes(1~30 min)\u001b[0m\n",
      "2020-10-25 13:21:56,965 - \u001b[32mINFO\u001b[0m - [bidd-aggmap]\u001b[0m - Finished\u001b[0m\n"
     ]
    },
    {
     "data": {
      "text/plain": [
       "<aggmap.map.AggMap at 0x7fd0a0131828>"
      ]
     },
     "execution_count": 3,
     "metadata": {},
     "output_type": "execute_result"
    }
   ],
   "source": [
    "mp = AggMap(dfx, metric = 'correlation')\n",
    "mp.fit(cluster_channels = 5, verbose = 0)"
   ]
  },
  {
   "cell_type": "markdown",
   "metadata": {},
   "source": [
    "## 5-fold cross validation and repeat 5 times "
   ]
  },
  {
   "cell_type": "code",
   "execution_count": 4,
   "metadata": {},
   "outputs": [
    {
     "name": "stderr",
     "output_type": "stream",
     "text": [
      "100%|##########| 455/455 [00:02<00:00, 189.11it/s]\n",
      "100%|##########| 114/114 [00:00<00:00, 1502.05it/s]\n"
     ]
    },
    {
     "name": "stdout",
     "output_type": "stream",
     "text": [
      "\n",
      " input train and test X shape is (455, 6, 5, 5), (114, 6, 5, 5) \n",
      "MultiClassEstimator(batch_size=8, epochs=50, gpuid='3')\n"
     ]
    },
    {
     "name": "stderr",
     "output_type": "stream",
     "text": [
      "100%|##########| 455/455 [00:00<00:00, 1812.91it/s]\n",
      "100%|##########| 114/114 [00:00<00:00, 991.65it/s]\n"
     ]
    },
    {
     "name": "stdout",
     "output_type": "stream",
     "text": [
      "\n",
      " input train and test X shape is (455, 6, 5, 5), (114, 6, 5, 5) \n",
      "MultiClassEstimator(batch_size=8, epochs=50, gpuid='3')\n"
     ]
    },
    {
     "name": "stderr",
     "output_type": "stream",
     "text": [
      "100%|##########| 455/455 [00:00<00:00, 2113.32it/s]\n",
      "100%|##########| 114/114 [00:00<00:00, 1519.00it/s]\n"
     ]
    },
    {
     "name": "stdout",
     "output_type": "stream",
     "text": [
      "\n",
      " input train and test X shape is (455, 6, 5, 5), (114, 6, 5, 5) \n",
      "MultiClassEstimator(batch_size=8, epochs=50, gpuid='3')\n"
     ]
    },
    {
     "name": "stderr",
     "output_type": "stream",
     "text": [
      "100%|##########| 455/455 [00:00<00:00, 2101.09it/s]\n",
      "100%|##########| 114/114 [00:00<00:00, 1320.83it/s]\n"
     ]
    },
    {
     "name": "stdout",
     "output_type": "stream",
     "text": [
      "\n",
      " input train and test X shape is (455, 6, 5, 5), (114, 6, 5, 5) \n",
      "MultiClassEstimator(batch_size=8, epochs=50, gpuid='3')\n"
     ]
    },
    {
     "name": "stderr",
     "output_type": "stream",
     "text": [
      "100%|##########| 456/456 [00:00<00:00, 1952.04it/s]\n",
      "100%|##########| 113/113 [00:00<00:00, 1431.82it/s]\n"
     ]
    },
    {
     "name": "stdout",
     "output_type": "stream",
     "text": [
      "\n",
      " input train and test X shape is (456, 6, 5, 5), (113, 6, 5, 5) \n",
      "MultiClassEstimator(batch_size=8, epochs=50, gpuid='3')\n"
     ]
    },
    {
     "name": "stderr",
     "output_type": "stream",
     "text": [
      "100%|##########| 455/455 [00:00<00:00, 2459.70it/s]\n",
      "100%|##########| 114/114 [00:00<00:00, 1511.48it/s]\n"
     ]
    },
    {
     "name": "stdout",
     "output_type": "stream",
     "text": [
      "\n",
      " input train and test X shape is (455, 6, 5, 5), (114, 6, 5, 5) \n",
      "MultiClassEstimator(batch_size=8, epochs=50, gpuid='3')\n"
     ]
    },
    {
     "name": "stderr",
     "output_type": "stream",
     "text": [
      "100%|##########| 455/455 [00:00<00:00, 2173.62it/s]\n",
      "100%|##########| 114/114 [00:00<00:00, 1095.20it/s]\n"
     ]
    },
    {
     "name": "stdout",
     "output_type": "stream",
     "text": [
      "\n",
      " input train and test X shape is (455, 6, 5, 5), (114, 6, 5, 5) \n",
      "MultiClassEstimator(batch_size=8, epochs=50, gpuid='3')\n"
     ]
    },
    {
     "name": "stderr",
     "output_type": "stream",
     "text": [
      "100%|##########| 455/455 [00:00<00:00, 2240.99it/s]\n",
      "100%|##########| 114/114 [00:00<00:00, 1281.32it/s]\n"
     ]
    },
    {
     "name": "stdout",
     "output_type": "stream",
     "text": [
      "\n",
      " input train and test X shape is (455, 6, 5, 5), (114, 6, 5, 5) \n",
      "MultiClassEstimator(batch_size=8, epochs=50, gpuid='3')\n"
     ]
    },
    {
     "name": "stderr",
     "output_type": "stream",
     "text": [
      "100%|##########| 455/455 [00:00<00:00, 2087.39it/s]\n",
      "100%|##########| 114/114 [00:00<00:00, 1350.97it/s]\n"
     ]
    },
    {
     "name": "stdout",
     "output_type": "stream",
     "text": [
      "\n",
      " input train and test X shape is (455, 6, 5, 5), (114, 6, 5, 5) \n",
      "MultiClassEstimator(batch_size=8, epochs=50, gpuid='3')\n"
     ]
    },
    {
     "name": "stderr",
     "output_type": "stream",
     "text": [
      "100%|##########| 456/456 [00:00<00:00, 2328.73it/s]\n",
      "100%|##########| 113/113 [00:00<00:00, 1261.46it/s]\n"
     ]
    },
    {
     "name": "stdout",
     "output_type": "stream",
     "text": [
      "\n",
      " input train and test X shape is (456, 6, 5, 5), (113, 6, 5, 5) \n",
      "MultiClassEstimator(batch_size=8, epochs=50, gpuid='3')\n"
     ]
    },
    {
     "name": "stderr",
     "output_type": "stream",
     "text": [
      "100%|##########| 455/455 [00:00<00:00, 1842.14it/s]\n",
      "100%|##########| 114/114 [00:00<00:00, 1493.52it/s]\n"
     ]
    },
    {
     "name": "stdout",
     "output_type": "stream",
     "text": [
      "\n",
      " input train and test X shape is (455, 6, 5, 5), (114, 6, 5, 5) \n",
      "MultiClassEstimator(batch_size=8, epochs=50, gpuid='3')\n"
     ]
    },
    {
     "name": "stderr",
     "output_type": "stream",
     "text": [
      "100%|##########| 455/455 [00:00<00:00, 2174.25it/s]\n",
      "100%|##########| 114/114 [00:00<00:00, 979.39it/s]\n"
     ]
    },
    {
     "name": "stdout",
     "output_type": "stream",
     "text": [
      "\n",
      " input train and test X shape is (455, 6, 5, 5), (114, 6, 5, 5) \n",
      "MultiClassEstimator(batch_size=8, epochs=50, gpuid='3')\n"
     ]
    },
    {
     "name": "stderr",
     "output_type": "stream",
     "text": [
      "100%|##########| 455/455 [00:00<00:00, 2050.65it/s]\n",
      "100%|##########| 114/114 [00:00<00:00, 1499.98it/s]\n"
     ]
    },
    {
     "name": "stdout",
     "output_type": "stream",
     "text": [
      "\n",
      " input train and test X shape is (455, 6, 5, 5), (114, 6, 5, 5) \n",
      "MultiClassEstimator(batch_size=8, epochs=50, gpuid='3')\n"
     ]
    },
    {
     "name": "stderr",
     "output_type": "stream",
     "text": [
      "100%|##########| 455/455 [00:00<00:00, 2142.64it/s]\n",
      "100%|##########| 114/114 [00:00<00:00, 1167.48it/s]\n"
     ]
    },
    {
     "name": "stdout",
     "output_type": "stream",
     "text": [
      "\n",
      " input train and test X shape is (455, 6, 5, 5), (114, 6, 5, 5) \n",
      "MultiClassEstimator(batch_size=8, epochs=50, gpuid='3')\n"
     ]
    },
    {
     "name": "stderr",
     "output_type": "stream",
     "text": [
      "100%|##########| 456/456 [00:00<00:00, 2016.07it/s]\n",
      "100%|##########| 113/113 [00:00<00:00, 1181.95it/s]\n"
     ]
    },
    {
     "name": "stdout",
     "output_type": "stream",
     "text": [
      "\n",
      " input train and test X shape is (456, 6, 5, 5), (113, 6, 5, 5) \n",
      "MultiClassEstimator(batch_size=8, epochs=50, gpuid='3')\n"
     ]
    },
    {
     "name": "stderr",
     "output_type": "stream",
     "text": [
      "100%|##########| 455/455 [00:00<00:00, 2247.61it/s]\n",
      "100%|##########| 114/114 [00:00<00:00, 1133.97it/s]\n"
     ]
    },
    {
     "name": "stdout",
     "output_type": "stream",
     "text": [
      "\n",
      " input train and test X shape is (455, 6, 5, 5), (114, 6, 5, 5) \n",
      "MultiClassEstimator(batch_size=8, epochs=50, gpuid='3')\n"
     ]
    },
    {
     "name": "stderr",
     "output_type": "stream",
     "text": [
      "100%|##########| 455/455 [00:00<00:00, 2583.43it/s]\n",
      "100%|##########| 114/114 [00:00<00:00, 1121.67it/s]\n"
     ]
    },
    {
     "name": "stdout",
     "output_type": "stream",
     "text": [
      "\n",
      " input train and test X shape is (455, 6, 5, 5), (114, 6, 5, 5) \n",
      "MultiClassEstimator(batch_size=8, epochs=50, gpuid='3')\n"
     ]
    },
    {
     "name": "stderr",
     "output_type": "stream",
     "text": [
      "100%|##########| 455/455 [00:00<00:00, 2230.31it/s]\n",
      "100%|##########| 114/114 [00:00<00:00, 1496.58it/s]\n"
     ]
    },
    {
     "name": "stdout",
     "output_type": "stream",
     "text": [
      "\n",
      " input train and test X shape is (455, 6, 5, 5), (114, 6, 5, 5) \n",
      "MultiClassEstimator(batch_size=8, epochs=50, gpuid='3')\n"
     ]
    },
    {
     "name": "stderr",
     "output_type": "stream",
     "text": [
      "100%|##########| 455/455 [00:00<00:00, 2408.96it/s]\n",
      "100%|##########| 114/114 [00:00<00:00, 1240.13it/s]\n"
     ]
    },
    {
     "name": "stdout",
     "output_type": "stream",
     "text": [
      "\n",
      " input train and test X shape is (455, 6, 5, 5), (114, 6, 5, 5) \n",
      "MultiClassEstimator(batch_size=8, epochs=50, gpuid='3')\n"
     ]
    },
    {
     "name": "stderr",
     "output_type": "stream",
     "text": [
      "100%|##########| 456/456 [00:00<00:00, 2302.78it/s]\n",
      "100%|##########| 113/113 [00:00<00:00, 1487.66it/s]\n"
     ]
    },
    {
     "name": "stdout",
     "output_type": "stream",
     "text": [
      "\n",
      " input train and test X shape is (456, 6, 5, 5), (113, 6, 5, 5) \n",
      "MultiClassEstimator(batch_size=8, epochs=50, gpuid='3')\n"
     ]
    },
    {
     "name": "stderr",
     "output_type": "stream",
     "text": [
      "100%|##########| 455/455 [00:00<00:00, 2320.78it/s]\n",
      "100%|##########| 114/114 [00:00<00:00, 1235.80it/s]\n"
     ]
    },
    {
     "name": "stdout",
     "output_type": "stream",
     "text": [
      "\n",
      " input train and test X shape is (455, 6, 5, 5), (114, 6, 5, 5) \n",
      "MultiClassEstimator(batch_size=8, epochs=50, gpuid='3')\n"
     ]
    },
    {
     "name": "stderr",
     "output_type": "stream",
     "text": [
      "100%|##########| 455/455 [00:00<00:00, 2172.20it/s]\n",
      "100%|##########| 114/114 [00:00<00:00, 1310.78it/s]\n"
     ]
    },
    {
     "name": "stdout",
     "output_type": "stream",
     "text": [
      "\n",
      " input train and test X shape is (455, 6, 5, 5), (114, 6, 5, 5) \n",
      "MultiClassEstimator(batch_size=8, epochs=50, gpuid='3')\n"
     ]
    },
    {
     "name": "stderr",
     "output_type": "stream",
     "text": [
      "100%|##########| 455/455 [00:00<00:00, 2043.14it/s]\n",
      "100%|##########| 114/114 [00:00<00:00, 1226.62it/s]\n"
     ]
    },
    {
     "name": "stdout",
     "output_type": "stream",
     "text": [
      "\n",
      " input train and test X shape is (455, 6, 5, 5), (114, 6, 5, 5) \n",
      "MultiClassEstimator(batch_size=8, epochs=50, gpuid='3')\n"
     ]
    },
    {
     "name": "stderr",
     "output_type": "stream",
     "text": [
      "100%|##########| 455/455 [00:00<00:00, 2131.37it/s]\n",
      "100%|##########| 114/114 [00:00<00:00, 1137.82it/s]\n"
     ]
    },
    {
     "name": "stdout",
     "output_type": "stream",
     "text": [
      "\n",
      " input train and test X shape is (455, 6, 5, 5), (114, 6, 5, 5) \n",
      "MultiClassEstimator(batch_size=8, epochs=50, gpuid='3')\n"
     ]
    },
    {
     "name": "stderr",
     "output_type": "stream",
     "text": [
      "100%|##########| 456/456 [00:00<00:00, 2417.40it/s]\n",
      "100%|##########| 113/113 [00:00<00:00, 1447.45it/s]\n"
     ]
    },
    {
     "name": "stdout",
     "output_type": "stream",
     "text": [
      "\n",
      " input train and test X shape is (456, 6, 5, 5), (113, 6, 5, 5) \n",
      "MultiClassEstimator(batch_size=8, epochs=50, gpuid='3')\n"
     ]
    }
   ],
   "source": [
    "outer_fold = 5\n",
    "\n",
    "run_all = []\n",
    "for repeat_seed in [8, 16, 32, 64, 128]: #5 repeats random seeds\n",
    "    \n",
    "    outer = KFold(n_splits = outer_fold, shuffle = True, random_state = repeat_seed)\n",
    "    outer_idx = outer.split(range(len(Y)), Y[:,0])\n",
    "\n",
    "    for i, idx in enumerate(outer_idx):\n",
    "        \n",
    "        fold_num = \"fold_%s\" % str(i).zfill(2) \n",
    "        \n",
    "        train_idx, test_idx = idx\n",
    "        \n",
    "        testY = Y[test_idx]\n",
    "        testx = X[test_idx]\n",
    "        \n",
    "        trainx = X[train_idx]\n",
    "        trainY = Y[train_idx]\n",
    "\n",
    "        trainX = mp.batch_transform(trainx, scale_method = 'standard')\n",
    "        testX = mp.batch_transform(testx, scale_method = 'standard')\n",
    "        \n",
    "        print(\"\\n input train and test X shape is %s, %s \" % (trainX.shape,  testX.shape))\n",
    "        \n",
    "        clf = AggModel.MultiClassEstimator(epochs = 50, gpuid = 3, \n",
    "                                           batch_size = 8, verbose = 0) #conv1_kernel_size = 5,\n",
    "        clf.fit(trainX, trainY)\n",
    "\n",
    "        y_true = testY[:,0]\n",
    "        y_pred = clf.predict(testX)[:,0]\n",
    "        y_score = clf.predict_proba(testX)[:,0]\n",
    "\n",
    "        tn, fp, fn, tp = confusion_matrix(y_true, y_pred).ravel()\n",
    "        \n",
    "        acc = (tp + tn) / sum([tn, fp, fn, tp])\n",
    "        \n",
    "        sensitivity = tp / sum([tp, fn])\n",
    "        specificity = tn / sum([tn, fp])\n",
    "        \n",
    "        prc_auc = prc_auc_score(y_true, y_score)\n",
    "        roc_auc = roc_auc_score(y_true, y_score)\n",
    "        \n",
    "        precision = tp / sum([tp, fp])\n",
    "        recall =  tp / sum([tp, fn]) #equals to sensitivity\n",
    "        \n",
    "        \n",
    "        res = {'fold': fold_num,\n",
    "               'repeat_seed':repeat_seed,\n",
    "               \n",
    "               'accuracy':acc, \n",
    "               \n",
    "               'prc_auc':prc_auc, \n",
    "               'roc_auc':roc_auc,\n",
    "\n",
    "               'sensitivity': sensitivity, \n",
    "               'specificity': specificity,\n",
    "               \n",
    "               'precision':precision,\n",
    "               'recall':recall,\n",
    "               'F1': 2*precision*sensitivity/(precision+sensitivity)\n",
    "              }\n",
    "        \n",
    "        run_all.append(res)"
   ]
  },
  {
   "cell_type": "code",
   "execution_count": null,
   "metadata": {},
   "outputs": [],
   "source": []
  },
  {
   "cell_type": "code",
   "execution_count": 5,
   "metadata": {},
   "outputs": [
    {
     "data": {
      "text/plain": [
       "323138"
      ]
     },
     "execution_count": 5,
     "metadata": {},
     "output_type": "execute_result"
    }
   ],
   "source": [
    "clf._model.count_params()"
   ]
  },
  {
   "cell_type": "code",
   "execution_count": 6,
   "metadata": {},
   "outputs": [],
   "source": [
    "df = pd.DataFrame(run_all)\n",
    "df.to_excel('results.xlsx')\n"
   ]
  },
  {
   "cell_type": "code",
   "execution_count": 7,
   "metadata": {},
   "outputs": [
    {
     "data": {
      "text/plain": [
       "repeat_seed    49.600\n",
       "accuracy        0.972\n",
       "prc_auc         0.996\n",
       "roc_auc         0.994\n",
       "sensitivity     0.980\n",
       "specificity     0.955\n",
       "precision       0.975\n",
       "recall          0.980\n",
       "F1              0.978\n",
       "dtype: float64"
      ]
     },
     "execution_count": 7,
     "metadata": {},
     "output_type": "execute_result"
    }
   ],
   "source": [
    "df.groupby('repeat_seed').apply(np.mean).mean().round(3)"
   ]
  },
  {
   "cell_type": "code",
   "execution_count": 8,
   "metadata": {},
   "outputs": [
    {
     "data": {
      "text/plain": [
       "repeat_seed    0.000\n",
       "accuracy       0.014\n",
       "prc_auc        0.005\n",
       "roc_auc        0.007\n",
       "sensitivity    0.013\n",
       "specificity    0.032\n",
       "precision      0.015\n",
       "recall         0.013\n",
       "F1             0.011\n",
       "dtype: float64"
      ]
     },
     "execution_count": 8,
     "metadata": {},
     "output_type": "execute_result"
    }
   ],
   "source": [
    "df.groupby('repeat_seed').apply(np.std).mean().round(3)"
   ]
  },
  {
   "cell_type": "code",
   "execution_count": null,
   "metadata": {},
   "outputs": [],
   "source": []
  },
  {
   "cell_type": "code",
   "execution_count": null,
   "metadata": {},
   "outputs": [],
   "source": []
  },
  {
   "cell_type": "code",
   "execution_count": null,
   "metadata": {},
   "outputs": [],
   "source": []
  },
  {
   "cell_type": "code",
   "execution_count": null,
   "metadata": {},
   "outputs": [],
   "source": []
  },
  {
   "cell_type": "code",
   "execution_count": null,
   "metadata": {},
   "outputs": [],
   "source": []
  },
  {
   "cell_type": "code",
   "execution_count": null,
   "metadata": {},
   "outputs": [],
   "source": []
  }
 ],
 "metadata": {
  "kernelspec": {
   "display_name": "Python 3",
   "language": "python",
   "name": "python3"
  },
  "language_info": {
   "codemirror_mode": {
    "name": "ipython",
    "version": 3
   },
   "file_extension": ".py",
   "mimetype": "text/x-python",
   "name": "python",
   "nbconvert_exporter": "python",
   "pygments_lexer": "ipython3",
   "version": "3.6.9"
  }
 },
 "nbformat": 4,
 "nbformat_minor": 4
}
