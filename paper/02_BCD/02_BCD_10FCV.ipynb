{
 "cells": [
  {
   "cell_type": "code",
   "execution_count": 1,
   "metadata": {},
   "outputs": [],
   "source": [
    "import warnings\n",
    "warnings.filterwarnings(\"ignore\")\n",
    "\n",
    "\n",
    "import pandas as pd\n",
    "import numpy as np\n",
    "\n",
    "from sklearn.model_selection import KFold, StratifiedKFold\n",
    "from sklearn.metrics import confusion_matrix, precision_recall_curve, roc_auc_score\n",
    "from sklearn.metrics import auc as calculate_auc\n",
    "from sklearn.datasets import load_breast_cancer\n",
    "\n",
    "import matplotlib.pyplot as plt\n",
    "import seaborn as sns\n",
    "\n",
    "from aggmap import AggMap, AggModel\n",
    "\n",
    "np.random.seed(666) #just for reaptable results\n",
    "\n",
    "def prc_auc_score(y_true, y_score):\n",
    "    precision, recall, threshold  = precision_recall_curve(y_true, y_score) #PRC_AUC\n",
    "    auc = calculate_auc(recall, precision)\n",
    "    return auc"
   ]
  },
  {
   "cell_type": "code",
   "execution_count": 2,
   "metadata": {},
   "outputs": [],
   "source": [
    "data = load_breast_cancer()\n",
    "dfx = pd.DataFrame(data.data, columns= data.feature_names)\n",
    "y = pd.Series(data.target).map({0:'malignant', 1:'benign'})\n",
    "dfy = pd.get_dummies(y) \n",
    "X = dfx.values.astype(float)\n",
    "Y = dfy.values.astype(float)"
   ]
  },
  {
   "cell_type": "code",
   "execution_count": 3,
   "metadata": {},
   "outputs": [
    {
     "name": "stdout",
     "output_type": "stream",
     "text": [
      "2020-10-17 12:07:28,170 - \u001b[32mINFO\u001b[0m - [bidd-aggmap]\u001b[0m - Calculating distance ...\u001b[0m\n",
      "2020-10-17 12:07:28,171 - \u001b[32mINFO\u001b[0m - [bidd-aggmap]\u001b[0m - the number of process is 16\u001b[0m\n"
     ]
    },
    {
     "name": "stderr",
     "output_type": "stream",
     "text": [
      "100%|##########| 435/435 [00:00<00:00, 1789.42it/s]\n",
      "100%|##########| 435/435 [00:00<00:00, 1084089.27it/s]\n",
      "100%|##########| 30/30 [00:00<00:00, 558.40it/s]\n"
     ]
    },
    {
     "name": "stdout",
     "output_type": "stream",
     "text": [
      "2020-10-17 12:07:28,671 - \u001b[32mINFO\u001b[0m - [bidd-aggmap]\u001b[0m - applying hierarchical clustering to obtain group information ...\u001b[0m\n",
      "2020-10-17 12:07:32,583 - \u001b[32mINFO\u001b[0m - [bidd-aggmap]\u001b[0m - Applying grid feature map(assignment), this may take several minutes(1~30 min)\u001b[0m\n",
      "2020-10-17 12:07:32,593 - \u001b[32mINFO\u001b[0m - [bidd-aggmap]\u001b[0m - Finished\u001b[0m\n"
     ]
    },
    {
     "data": {
      "text/plain": [
       "<aggmap.map.AggMap at 0x7f2bc02f42b0>"
      ]
     },
     "execution_count": 3,
     "metadata": {},
     "output_type": "execute_result"
    }
   ],
   "source": [
    "mp = AggMap(dfx, metric = 'correlation')\n",
    "mp.fit(cluster_channels = 5, verbose = 0)"
   ]
  },
  {
   "cell_type": "markdown",
   "metadata": {},
   "source": [
    "## 10-fold cross validation and repeat 5 times "
   ]
  },
  {
   "cell_type": "code",
   "execution_count": null,
   "metadata": {},
   "outputs": [
    {
     "name": "stderr",
     "output_type": "stream",
     "text": [
      "100%|##########| 512/512 [00:03<00:00, 160.06it/s]\n",
      "100%|##########| 57/57 [00:00<00:00, 933.93it/s]\n"
     ]
    },
    {
     "name": "stdout",
     "output_type": "stream",
     "text": [
      "\n",
      " input train and test X shape is (512, 6, 5, 5), (57, 6, 5, 5) \n",
      "MultiClassEstimator(batch_size=8, gpuid='1')\n"
     ]
    },
    {
     "name": "stderr",
     "output_type": "stream",
     "text": [
      "100%|##########| 512/512 [00:00<00:00, 1770.22it/s]\n",
      "100%|##########| 57/57 [00:00<00:00, 700.66it/s]\n"
     ]
    },
    {
     "name": "stdout",
     "output_type": "stream",
     "text": [
      "\n",
      " input train and test X shape is (512, 6, 5, 5), (57, 6, 5, 5) \n",
      "MultiClassEstimator(batch_size=8, gpuid='1')\n"
     ]
    },
    {
     "name": "stderr",
     "output_type": "stream",
     "text": [
      "100%|##########| 512/512 [00:00<00:00, 2000.92it/s]\n",
      "100%|##########| 57/57 [00:00<00:00, 501.56it/s]\n"
     ]
    },
    {
     "name": "stdout",
     "output_type": "stream",
     "text": [
      "\n",
      " input train and test X shape is (512, 6, 5, 5), (57, 6, 5, 5) \n",
      "MultiClassEstimator(batch_size=8, gpuid='1')\n"
     ]
    },
    {
     "name": "stderr",
     "output_type": "stream",
     "text": [
      "100%|##########| 512/512 [00:00<00:00, 2136.14it/s]\n",
      "100%|##########| 57/57 [00:00<00:00, 875.87it/s]\n"
     ]
    },
    {
     "name": "stdout",
     "output_type": "stream",
     "text": [
      "\n",
      " input train and test X shape is (512, 6, 5, 5), (57, 6, 5, 5) \n",
      "MultiClassEstimator(batch_size=8, gpuid='1')\n"
     ]
    },
    {
     "name": "stderr",
     "output_type": "stream",
     "text": [
      "100%|##########| 512/512 [00:00<00:00, 1280.29it/s]\n",
      "100%|##########| 57/57 [00:00<00:00, 767.33it/s]\n"
     ]
    },
    {
     "name": "stdout",
     "output_type": "stream",
     "text": [
      "\n",
      " input train and test X shape is (512, 6, 5, 5), (57, 6, 5, 5) \n",
      "MultiClassEstimator(batch_size=8, gpuid='1')\n"
     ]
    },
    {
     "name": "stderr",
     "output_type": "stream",
     "text": [
      "100%|##########| 512/512 [00:00<00:00, 2343.50it/s]\n",
      "100%|##########| 57/57 [00:00<00:00, 817.75it/s]\n"
     ]
    },
    {
     "name": "stdout",
     "output_type": "stream",
     "text": [
      "\n",
      " input train and test X shape is (512, 6, 5, 5), (57, 6, 5, 5) \n",
      "MultiClassEstimator(batch_size=8, gpuid='1')\n"
     ]
    },
    {
     "name": "stderr",
     "output_type": "stream",
     "text": [
      "100%|##########| 512/512 [00:00<00:00, 2663.59it/s]\n",
      "100%|##########| 57/57 [00:00<00:00, 899.16it/s]\n"
     ]
    },
    {
     "name": "stdout",
     "output_type": "stream",
     "text": [
      "\n",
      " input train and test X shape is (512, 6, 5, 5), (57, 6, 5, 5) \n",
      "MultiClassEstimator(batch_size=8, gpuid='1')\n"
     ]
    },
    {
     "name": "stderr",
     "output_type": "stream",
     "text": [
      "100%|##########| 512/512 [00:00<00:00, 2456.42it/s]\n",
      "100%|##########| 57/57 [00:00<00:00, 797.70it/s]\n"
     ]
    },
    {
     "name": "stdout",
     "output_type": "stream",
     "text": [
      "\n",
      " input train and test X shape is (512, 6, 5, 5), (57, 6, 5, 5) \n",
      "MultiClassEstimator(batch_size=8, gpuid='1')\n"
     ]
    },
    {
     "name": "stderr",
     "output_type": "stream",
     "text": [
      "100%|##########| 512/512 [00:00<00:00, 3027.84it/s]\n",
      "100%|##########| 57/57 [00:00<00:00, 709.09it/s]\n"
     ]
    },
    {
     "name": "stdout",
     "output_type": "stream",
     "text": [
      "\n",
      " input train and test X shape is (512, 6, 5, 5), (57, 6, 5, 5) \n",
      "MultiClassEstimator(batch_size=8, gpuid='1')\n"
     ]
    },
    {
     "name": "stderr",
     "output_type": "stream",
     "text": [
      "100%|##########| 513/513 [00:00<00:00, 2246.06it/s]\n",
      "100%|##########| 56/56 [00:00<00:00, 608.79it/s]\n"
     ]
    },
    {
     "name": "stdout",
     "output_type": "stream",
     "text": [
      "\n",
      " input train and test X shape is (513, 6, 5, 5), (56, 6, 5, 5) \n",
      "MultiClassEstimator(batch_size=8, gpuid='1')\n"
     ]
    },
    {
     "name": "stderr",
     "output_type": "stream",
     "text": [
      "100%|##########| 512/512 [00:00<00:00, 2771.30it/s]\n",
      "100%|##########| 57/57 [00:00<00:00, 1018.26it/s]\n"
     ]
    },
    {
     "name": "stdout",
     "output_type": "stream",
     "text": [
      "\n",
      " input train and test X shape is (512, 6, 5, 5), (57, 6, 5, 5) \n",
      "MultiClassEstimator(batch_size=8, gpuid='1')\n"
     ]
    },
    {
     "name": "stderr",
     "output_type": "stream",
     "text": [
      "100%|##########| 512/512 [00:00<00:00, 2302.34it/s]\n",
      "100%|##########| 57/57 [00:00<00:00, 2115.49it/s]\n"
     ]
    },
    {
     "name": "stdout",
     "output_type": "stream",
     "text": [
      "\n",
      " input train and test X shape is (512, 6, 5, 5), (57, 6, 5, 5) \n",
      "MultiClassEstimator(batch_size=8, gpuid='1')\n"
     ]
    },
    {
     "name": "stderr",
     "output_type": "stream",
     "text": [
      "100%|##########| 512/512 [00:00<00:00, 2616.33it/s]\n",
      "100%|##########| 57/57 [00:00<00:00, 722.39it/s]\n"
     ]
    },
    {
     "name": "stdout",
     "output_type": "stream",
     "text": [
      "\n",
      " input train and test X shape is (512, 6, 5, 5), (57, 6, 5, 5) \n",
      "MultiClassEstimator(batch_size=8, gpuid='1')\n"
     ]
    },
    {
     "name": "stderr",
     "output_type": "stream",
     "text": [
      "100%|##########| 512/512 [00:00<00:00, 2519.94it/s]\n",
      "100%|##########| 57/57 [00:00<00:00, 832.04it/s]\n"
     ]
    },
    {
     "name": "stdout",
     "output_type": "stream",
     "text": [
      "\n",
      " input train and test X shape is (512, 6, 5, 5), (57, 6, 5, 5) \n",
      "MultiClassEstimator(batch_size=8, gpuid='1')\n"
     ]
    },
    {
     "name": "stderr",
     "output_type": "stream",
     "text": [
      "100%|##########| 512/512 [00:00<00:00, 2300.94it/s]\n",
      "100%|##########| 57/57 [00:00<00:00, 798.84it/s]\n"
     ]
    },
    {
     "name": "stdout",
     "output_type": "stream",
     "text": [
      "\n",
      " input train and test X shape is (512, 6, 5, 5), (57, 6, 5, 5) \n",
      "MultiClassEstimator(batch_size=8, gpuid='1')\n"
     ]
    }
   ],
   "source": [
    "outer_fold = 10\n",
    "\n",
    "run_all = []\n",
    "for repeat_seed in [8, 16, 32, 64, 128]: #5 repeats random seeds\n",
    "    \n",
    "    outer = KFold(n_splits = outer_fold, shuffle = True, random_state = repeat_seed)\n",
    "    outer_idx = outer.split(range(len(Y)), Y[:,0])\n",
    "\n",
    "    for i, idx in enumerate(outer_idx):\n",
    "        \n",
    "        fold_num = \"fold_%s\" % str(i).zfill(2) \n",
    "        \n",
    "        train_idx, test_idx = idx\n",
    "        \n",
    "        testY = Y[test_idx]\n",
    "        testx = X[test_idx]\n",
    "        \n",
    "        trainx = X[train_idx]\n",
    "        trainY = Y[train_idx]\n",
    "\n",
    "        trainX = mp.batch_transform(trainx, scale_method = 'standard')\n",
    "        testX = mp.batch_transform(testx, scale_method = 'standard')\n",
    "        \n",
    "        print(\"\\n input train and test X shape is %s, %s \" % (trainX.shape,  testX.shape))\n",
    "        \n",
    "        clf = AggModel.MultiClassEstimator(epochs = 200, gpuid = 1, batch_size = 8, verbose = 0)\n",
    "        clf.fit(trainX, trainY)\n",
    "\n",
    "        y_true = testY[:,0]\n",
    "        y_pred = clf.predict(testX)[:,0]\n",
    "        y_score = clf.predict_proba(testX)[:,0]\n",
    "\n",
    "        tn, fp, fn, tp = confusion_matrix(y_true, y_pred).ravel()\n",
    "        \n",
    "        acc = (tp + tn) / sum([tn, fp, fn, tp])\n",
    "        \n",
    "        sensitivity = tp / sum([tp, fn])\n",
    "        specificity = tn / sum([tn, fp])\n",
    "        \n",
    "        prc_auc = prc_auc_score(y_true, y_score)\n",
    "        roc_auc = roc_auc_score(y_true, y_score)\n",
    "        \n",
    "        precision = tp / sum([tp, fp])\n",
    "        recall =  tp / sum([tp, fn]) #equals to sensitivity\n",
    "        \n",
    "        \n",
    "        res = {'fold': fold_num,\n",
    "               'repeat_seed':repeat_seed,\n",
    "               \n",
    "               'accuracy':acc, \n",
    "               \n",
    "               'prc_auc':prc_auc, \n",
    "               'roc_auc':roc_auc,\n",
    "\n",
    "               'sensitivity': sensitivity, \n",
    "               'specificity': specificity,\n",
    "               \n",
    "               'precision':precision,\n",
    "               'recall':recall,\n",
    "              }\n",
    "        \n",
    "        run_all.append(res)"
   ]
  },
  {
   "cell_type": "code",
   "execution_count": null,
   "metadata": {},
   "outputs": [],
   "source": []
  },
  {
   "cell_type": "code",
   "execution_count": null,
   "metadata": {},
   "outputs": [],
   "source": [
    "clf._model.count_params()"
   ]
  },
  {
   "cell_type": "code",
   "execution_count": null,
   "metadata": {},
   "outputs": [],
   "source": [
    "df = pd.DataFrame(run_all)\n",
    "df.to_excel('results.xlsx')\n",
    "df"
   ]
  },
  {
   "cell_type": "code",
   "execution_count": null,
   "metadata": {},
   "outputs": [],
   "source": [
    "results = df.groupby(['repeat_seed']).apply(np.mean)\n",
    "results"
   ]
  },
  {
   "cell_type": "code",
   "execution_count": null,
   "metadata": {},
   "outputs": [],
   "source": [
    "results.mean().round(3)"
   ]
  },
  {
   "cell_type": "code",
   "execution_count": 31,
   "metadata": {},
   "outputs": [
    {
     "data": {
      "text/plain": [
       "repeat_seed    49.600\n",
       "accuracy        0.974\n",
       "prc_auc         0.997\n",
       "roc_auc         0.995\n",
       "sensitivity     0.984\n",
       "specificity     0.957\n",
       "precision       0.976\n",
       "recall          0.984\n",
       "dtype: float64"
      ]
     },
     "execution_count": 31,
     "metadata": {},
     "output_type": "execute_result"
    }
   ],
   "source": [
    "results.mean().round(3)"
   ]
  },
  {
   "cell_type": "code",
   "execution_count": 32,
   "metadata": {},
   "outputs": [
    {
     "data": {
      "text/plain": [
       "repeat_seed    48.793\n",
       "accuracy        0.002\n",
       "prc_auc         0.000\n",
       "roc_auc         0.001\n",
       "sensitivity     0.002\n",
       "specificity     0.009\n",
       "precision       0.003\n",
       "recall          0.002\n",
       "dtype: float64"
      ]
     },
     "execution_count": 32,
     "metadata": {},
     "output_type": "execute_result"
    }
   ],
   "source": [
    "results.std().round(3)"
   ]
  },
  {
   "cell_type": "code",
   "execution_count": null,
   "metadata": {},
   "outputs": [],
   "source": []
  },
  {
   "cell_type": "code",
   "execution_count": null,
   "metadata": {},
   "outputs": [],
   "source": []
  },
  {
   "cell_type": "code",
   "execution_count": null,
   "metadata": {},
   "outputs": [],
   "source": []
  },
  {
   "cell_type": "code",
   "execution_count": null,
   "metadata": {},
   "outputs": [],
   "source": []
  },
  {
   "cell_type": "code",
   "execution_count": null,
   "metadata": {},
   "outputs": [],
   "source": []
  },
  {
   "cell_type": "code",
   "execution_count": null,
   "metadata": {},
   "outputs": [],
   "source": []
  }
 ],
 "metadata": {
  "kernelspec": {
   "display_name": "Python 3",
   "language": "python",
   "name": "python3"
  },
  "language_info": {
   "codemirror_mode": {
    "name": "ipython",
    "version": 3
   },
   "file_extension": ".py",
   "mimetype": "text/x-python",
   "name": "python",
   "nbconvert_exporter": "python",
   "pygments_lexer": "ipython3",
   "version": "3.6.9"
  }
 },
 "nbformat": 4,
 "nbformat_minor": 4
}
