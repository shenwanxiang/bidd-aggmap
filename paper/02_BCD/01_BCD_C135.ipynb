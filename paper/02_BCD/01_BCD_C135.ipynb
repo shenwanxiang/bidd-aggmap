{
 "cells": [
  {
   "cell_type": "code",
   "execution_count": 36,
   "metadata": {},
   "outputs": [
    {
     "data": {
      "image/png": "[encoded data removed]",
      "text/plain": [
       "<Figure size 432x72 with 1 Axes>"
      ]
     },
     "metadata": {},
     "output_type": "display_data"
    }
   ],
   "source": [
    "import warnings\n",
    "warnings.filterwarnings(\"ignore\")\n",
    "\n",
    "\n",
    "import pandas as pd\n",
    "import numpy as np\n",
    "\n",
    "from sklearn.model_selection import KFold, StratifiedKFold\n",
    "from sklearn.metrics import confusion_matrix, precision_recall_curve\n",
    "from sklearn.metrics import auc as calculate_auc\n",
    "from sklearn.datasets import load_breast_cancer\n",
    "\n",
    "import matplotlib.pyplot as plt\n",
    "import seaborn as sns\n",
    "\n",
    "from aggmap import AggMap, AggModel\n",
    "\n",
    "np.random.seed(888) #just for reaptable results\n",
    "\n",
    "\n",
    "color = sns.color_palette(\"rainbow_r\", 6) #PiYG\n",
    "sns.palplot(color)"
   ]
  },
  {
   "cell_type": "code",
   "execution_count": null,
   "metadata": {},
   "outputs": [],
   "source": []
  },
  {
   "cell_type": "code",
   "execution_count": 37,
   "metadata": {},
   "outputs": [],
   "source": [
    "data = load_breast_cancer()\n",
    "dfx = pd.DataFrame(data.data, columns= data.feature_names)\n",
    "y = pd.Series(data.target).map({0:'malignant', 1:'benign'})\n",
    "dfy = pd.get_dummies(y)"
   ]
  },
  {
   "cell_type": "code",
   "execution_count": 38,
   "metadata": {},
   "outputs": [
    {
     "name": "stdout",
     "output_type": "stream",
     "text": [
      "2020-10-25 19:02:15,158 - \u001b[32mINFO\u001b[0m - [bidd-aggmap]\u001b[0m - Calculating distance ...\u001b[0m\n",
      "2020-10-25 19:02:15,158 - \u001b[32mINFO\u001b[0m - [bidd-aggmap]\u001b[0m - the number of process is 16\u001b[0m\n"
     ]
    },
    {
     "name": "stderr",
     "output_type": "stream",
     "text": [
      "100%|##########| 435/435 [00:00<00:00, 2384.34it/s]\n",
      "100%|##########| 435/435 [00:00<00:00, 884831.35it/s]\n",
      "100%|##########| 30/30 [00:00<00:00, 693.07it/s]\n"
     ]
    }
   ],
   "source": [
    "X = dfx.values.astype(float)\n",
    "Y = dfy.values.astype(float)\n",
    "\n",
    "mp = AggMap(dfx, metric = 'correlation')"
   ]
  },
  {
   "cell_type": "code",
   "execution_count": 39,
   "metadata": {},
   "outputs": [
    {
     "name": "stderr",
     "output_type": "stream",
     "text": [
      "  0%|          | 0/455 [00:00<?, ?it/s]"
     ]
    },
    {
     "name": "stdout",
     "output_type": "stream",
     "text": [
      "2020-10-25 19:02:16,876 - \u001b[32mINFO\u001b[0m - [bidd-aggmap]\u001b[0m - applying hierarchical clustering to obtain group information ...\u001b[0m\n",
      "2020-10-25 19:02:16,945 - \u001b[32mINFO\u001b[0m - [bidd-aggmap]\u001b[0m - Applying grid feature map(assignment), this may take several minutes(1~30 min)\u001b[0m\n",
      "2020-10-25 19:02:16,950 - \u001b[32mINFO\u001b[0m - [bidd-aggmap]\u001b[0m - Finished\u001b[0m\n"
     ]
    },
    {
     "name": "stderr",
     "output_type": "stream",
     "text": [
      "100%|##########| 455/455 [00:02<00:00, 178.70it/s]\n",
      "100%|##########| 114/114 [00:00<00:00, 1088.20it/s]\n"
     ]
    },
    {
     "name": "stdout",
     "output_type": "stream",
     "text": [
      "\n",
      " input train and test X shape is (455, 6, 5, 1), (114, 6, 5, 1) \n",
      "MultiClassEstimator(batch_size=8, epochs=50, gpuid='6', metric='ACC')\n"
     ]
    },
    {
     "name": "stderr",
     "output_type": "stream",
     "text": [
      "100%|##########| 455/455 [00:00<00:00, 2443.53it/s]\n",
      "100%|##########| 114/114 [00:00<00:00, 1215.51it/s]\n"
     ]
    },
    {
     "name": "stdout",
     "output_type": "stream",
     "text": [
      "\n",
      " input train and test X shape is (455, 6, 5, 1), (114, 6, 5, 1) \n",
      "MultiClassEstimator(batch_size=8, epochs=50, gpuid='6', metric='ACC')\n"
     ]
    },
    {
     "name": "stderr",
     "output_type": "stream",
     "text": [
      "100%|##########| 455/455 [00:00<00:00, 2195.76it/s]\n",
      "100%|##########| 114/114 [00:00<00:00, 1403.09it/s]\n"
     ]
    },
    {
     "name": "stdout",
     "output_type": "stream",
     "text": [
      "\n",
      " input train and test X shape is (455, 6, 5, 1), (114, 6, 5, 1) \n",
      "MultiClassEstimator(batch_size=8, epochs=50, gpuid='6', metric='ACC')\n"
     ]
    },
    {
     "name": "stderr",
     "output_type": "stream",
     "text": [
      "100%|##########| 455/455 [00:00<00:00, 1991.43it/s]\n",
      "100%|##########| 114/114 [00:00<00:00, 2647.20it/s]\n"
     ]
    },
    {
     "name": "stdout",
     "output_type": "stream",
     "text": [
      "\n",
      " input train and test X shape is (455, 6, 5, 1), (114, 6, 5, 1) \n",
      "MultiClassEstimator(batch_size=8, epochs=50, gpuid='6', metric='ACC')\n"
     ]
    },
    {
     "name": "stderr",
     "output_type": "stream",
     "text": [
      "100%|##########| 456/456 [00:00<00:00, 2120.78it/s]\n",
      "100%|##########| 113/113 [00:00<00:00, 1430.69it/s]\n"
     ]
    },
    {
     "name": "stdout",
     "output_type": "stream",
     "text": [
      "\n",
      " input train and test X shape is (456, 6, 5, 1), (113, 6, 5, 1) \n",
      "MultiClassEstimator(batch_size=8, epochs=50, gpuid='6', metric='ACC')\n"
     ]
    },
    {
     "name": "stderr",
     "output_type": "stream",
     "text": [
      " 24%|##3       | 108/455 [00:00<00:00, 1027.55it/s]"
     ]
    },
    {
     "name": "stdout",
     "output_type": "stream",
     "text": [
      "2020-10-25 19:04:04,062 - \u001b[32mINFO\u001b[0m - [bidd-aggmap]\u001b[0m - applying hierarchical clustering to obtain group information ...\u001b[0m\n",
      "2020-10-25 19:04:04,131 - \u001b[32mINFO\u001b[0m - [bidd-aggmap]\u001b[0m - Applying grid feature map(assignment), this may take several minutes(1~30 min)\u001b[0m\n",
      "2020-10-25 19:04:04,138 - \u001b[32mINFO\u001b[0m - [bidd-aggmap]\u001b[0m - Finished\u001b[0m\n"
     ]
    },
    {
     "name": "stderr",
     "output_type": "stream",
     "text": [
      "100%|##########| 455/455 [00:00<00:00, 2339.36it/s]\n",
      "100%|##########| 114/114 [00:00<00:00, 1104.89it/s]\n"
     ]
    },
    {
     "name": "stdout",
     "output_type": "stream",
     "text": [
      "\n",
      " input train and test X shape is (455, 6, 5, 3), (114, 6, 5, 3) \n",
      "MultiClassEstimator(batch_size=8, epochs=50, gpuid='6', metric='ACC')\n"
     ]
    },
    {
     "name": "stderr",
     "output_type": "stream",
     "text": [
      "100%|##########| 455/455 [00:00<00:00, 2294.55it/s]\n",
      "100%|##########| 114/114 [00:00<00:00, 1612.82it/s]\n"
     ]
    },
    {
     "name": "stdout",
     "output_type": "stream",
     "text": [
      "\n",
      " input train and test X shape is (455, 6, 5, 3), (114, 6, 5, 3) \n",
      "MultiClassEstimator(batch_size=8, epochs=50, gpuid='6', metric='ACC')\n"
     ]
    },
    {
     "name": "stderr",
     "output_type": "stream",
     "text": [
      "100%|##########| 455/455 [00:00<00:00, 2137.58it/s]\n",
      "100%|##########| 114/114 [00:00<00:00, 1099.28it/s]\n"
     ]
    },
    {
     "name": "stdout",
     "output_type": "stream",
     "text": [
      "\n",
      " input train and test X shape is (455, 6, 5, 3), (114, 6, 5, 3) \n",
      "MultiClassEstimator(batch_size=8, epochs=50, gpuid='6', metric='ACC')\n"
     ]
    },
    {
     "name": "stderr",
     "output_type": "stream",
     "text": [
      "100%|##########| 455/455 [00:00<00:00, 2085.02it/s]\n",
      "100%|##########| 114/114 [00:00<00:00, 1316.95it/s]\n"
     ]
    },
    {
     "name": "stdout",
     "output_type": "stream",
     "text": [
      "\n",
      " input train and test X shape is (455, 6, 5, 3), (114, 6, 5, 3) \n",
      "MultiClassEstimator(batch_size=8, epochs=50, gpuid='6', metric='ACC')\n"
     ]
    },
    {
     "name": "stderr",
     "output_type": "stream",
     "text": [
      "100%|##########| 456/456 [00:00<00:00, 2037.89it/s]\n",
      "100%|##########| 113/113 [00:00<00:00, 1599.25it/s]\n"
     ]
    },
    {
     "name": "stdout",
     "output_type": "stream",
     "text": [
      "\n",
      " input train and test X shape is (456, 6, 5, 3), (113, 6, 5, 3) \n",
      "MultiClassEstimator(batch_size=8, epochs=50, gpuid='6', metric='ACC')\n"
     ]
    },
    {
     "name": "stderr",
     "output_type": "stream",
     "text": [
      " 22%|##1       | 98/455 [00:00<00:00, 979.44it/s]"
     ]
    },
    {
     "name": "stdout",
     "output_type": "stream",
     "text": [
      "2020-10-25 19:05:49,423 - \u001b[32mINFO\u001b[0m - [bidd-aggmap]\u001b[0m - applying hierarchical clustering to obtain group information ...\u001b[0m\n",
      "2020-10-25 19:05:49,492 - \u001b[32mINFO\u001b[0m - [bidd-aggmap]\u001b[0m - Applying grid feature map(assignment), this may take several minutes(1~30 min)\u001b[0m\n",
      "2020-10-25 19:05:49,502 - \u001b[32mINFO\u001b[0m - [bidd-aggmap]\u001b[0m - Finished\u001b[0m\n"
     ]
    },
    {
     "name": "stderr",
     "output_type": "stream",
     "text": [
      "100%|##########| 455/455 [00:00<00:00, 2277.65it/s]\n",
      "100%|##########| 114/114 [00:00<00:00, 1265.11it/s]\n"
     ]
    },
    {
     "name": "stdout",
     "output_type": "stream",
     "text": [
      "\n",
      " input train and test X shape is (455, 6, 5, 5), (114, 6, 5, 5) \n",
      "MultiClassEstimator(batch_size=8, epochs=50, gpuid='6', metric='ACC')\n"
     ]
    },
    {
     "name": "stderr",
     "output_type": "stream",
     "text": [
      "100%|##########| 455/455 [00:00<00:00, 2364.97it/s]\n",
      "100%|##########| 114/114 [00:00<00:00, 1121.58it/s]\n"
     ]
    },
    {
     "name": "stdout",
     "output_type": "stream",
     "text": [
      "\n",
      " input train and test X shape is (455, 6, 5, 5), (114, 6, 5, 5) \n",
      "MultiClassEstimator(batch_size=8, epochs=50, gpuid='6', metric='ACC')\n"
     ]
    },
    {
     "name": "stderr",
     "output_type": "stream",
     "text": [
      "100%|##########| 455/455 [00:00<00:00, 2153.00it/s]\n",
      "100%|##########| 114/114 [00:00<00:00, 1281.80it/s]\n"
     ]
    },
    {
     "name": "stdout",
     "output_type": "stream",
     "text": [
      "\n",
      " input train and test X shape is (455, 6, 5, 5), (114, 6, 5, 5) \n",
      "MultiClassEstimator(batch_size=8, epochs=50, gpuid='6', metric='ACC')\n"
     ]
    },
    {
     "name": "stderr",
     "output_type": "stream",
     "text": [
      "100%|##########| 455/455 [00:00<00:00, 2252.91it/s]\n",
      "100%|##########| 114/114 [00:00<00:00, 1051.26it/s]\n"
     ]
    },
    {
     "name": "stdout",
     "output_type": "stream",
     "text": [
      "\n",
      " input train and test X shape is (455, 6, 5, 5), (114, 6, 5, 5) \n",
      "MultiClassEstimator(batch_size=8, epochs=50, gpuid='6', metric='ACC')\n"
     ]
    },
    {
     "name": "stderr",
     "output_type": "stream",
     "text": [
      "100%|##########| 456/456 [00:00<00:00, 2185.70it/s]\n",
      "100%|##########| 113/113 [00:00<00:00, 1231.55it/s]\n"
     ]
    },
    {
     "name": "stdout",
     "output_type": "stream",
     "text": [
      "\n",
      " input train and test X shape is (456, 6, 5, 5), (113, 6, 5, 5) \n",
      "MultiClassEstimator(batch_size=8, epochs=50, gpuid='6', metric='ACC')\n"
     ]
    },
    {
     "name": "stderr",
     "output_type": "stream",
     "text": [
      " 28%|##8       | 128/455 [00:00<00:00, 1156.59it/s]"
     ]
    },
    {
     "name": "stdout",
     "output_type": "stream",
     "text": [
      "2020-10-25 19:07:35,235 - \u001b[32mINFO\u001b[0m - [bidd-aggmap]\u001b[0m - applying hierarchical clustering to obtain group information ...\u001b[0m\n",
      "2020-10-25 19:07:35,302 - \u001b[32mINFO\u001b[0m - [bidd-aggmap]\u001b[0m - Applying grid feature map(assignment), this may take several minutes(1~30 min)\u001b[0m\n",
      "2020-10-25 19:07:35,308 - \u001b[32mINFO\u001b[0m - [bidd-aggmap]\u001b[0m - Finished\u001b[0m\n"
     ]
    },
    {
     "name": "stderr",
     "output_type": "stream",
     "text": [
      "100%|##########| 455/455 [00:00<00:00, 2294.61it/s]\n",
      "100%|##########| 114/114 [00:00<00:00, 1505.28it/s]\n"
     ]
    },
    {
     "name": "stdout",
     "output_type": "stream",
     "text": [
      "\n",
      " input train and test X shape is (455, 6, 5, 1), (114, 6, 5, 1) \n",
      "MultiClassEstimator(batch_size=8, epochs=50, gpuid='6', metric='ACC')\n"
     ]
    },
    {
     "name": "stderr",
     "output_type": "stream",
     "text": [
      "100%|##########| 455/455 [00:00<00:00, 2329.43it/s]\n",
      "100%|##########| 114/114 [00:00<00:00, 1111.31it/s]\n"
     ]
    },
    {
     "name": "stdout",
     "output_type": "stream",
     "text": [
      "\n",
      " input train and test X shape is (455, 6, 5, 1), (114, 6, 5, 1) \n",
      "MultiClassEstimator(batch_size=8, epochs=50, gpuid='6', metric='ACC')\n"
     ]
    },
    {
     "name": "stderr",
     "output_type": "stream",
     "text": [
      "100%|##########| 455/455 [00:00<00:00, 2102.83it/s]\n",
      "100%|##########| 114/114 [00:00<00:00, 1316.01it/s]\n"
     ]
    },
    {
     "name": "stdout",
     "output_type": "stream",
     "text": [
      "\n",
      " input train and test X shape is (455, 6, 5, 1), (114, 6, 5, 1) \n",
      "MultiClassEstimator(batch_size=8, epochs=50, gpuid='6', metric='ACC')\n"
     ]
    },
    {
     "name": "stderr",
     "output_type": "stream",
     "text": [
      "100%|##########| 455/455 [00:00<00:00, 2362.16it/s]\n",
      "100%|##########| 114/114 [00:00<00:00, 1182.34it/s]\n"
     ]
    },
    {
     "name": "stdout",
     "output_type": "stream",
     "text": [
      "\n",
      " input train and test X shape is (455, 6, 5, 1), (114, 6, 5, 1) \n",
      "MultiClassEstimator(batch_size=8, epochs=50, gpuid='6', metric='ACC')\n"
     ]
    },
    {
     "name": "stderr",
     "output_type": "stream",
     "text": [
      "100%|##########| 456/456 [00:00<00:00, 1905.65it/s]\n",
      "100%|##########| 113/113 [00:00<00:00, 1294.31it/s]\n"
     ]
    },
    {
     "name": "stdout",
     "output_type": "stream",
     "text": [
      "\n",
      " input train and test X shape is (456, 6, 5, 1), (113, 6, 5, 1) \n",
      "MultiClassEstimator(batch_size=8, epochs=50, gpuid='6', metric='ACC')\n"
     ]
    },
    {
     "name": "stderr",
     "output_type": "stream",
     "text": [
      " 14%|#4        | 64/455 [00:00<00:00, 638.74it/s]"
     ]
    },
    {
     "name": "stdout",
     "output_type": "stream",
     "text": [
      "2020-10-25 19:09:19,783 - \u001b[32mINFO\u001b[0m - [bidd-aggmap]\u001b[0m - applying hierarchical clustering to obtain group information ...\u001b[0m\n",
      "2020-10-25 19:09:19,853 - \u001b[32mINFO\u001b[0m - [bidd-aggmap]\u001b[0m - Applying grid feature map(assignment), this may take several minutes(1~30 min)\u001b[0m\n",
      "2020-10-25 19:09:19,860 - \u001b[32mINFO\u001b[0m - [bidd-aggmap]\u001b[0m - Finished\u001b[0m\n"
     ]
    },
    {
     "name": "stderr",
     "output_type": "stream",
     "text": [
      "100%|##########| 455/455 [00:00<00:00, 2213.00it/s]\n",
      "100%|##########| 114/114 [00:00<00:00, 1331.76it/s]\n"
     ]
    },
    {
     "name": "stdout",
     "output_type": "stream",
     "text": [
      "\n",
      " input train and test X shape is (455, 6, 5, 3), (114, 6, 5, 3) \n",
      "MultiClassEstimator(batch_size=8, epochs=50, gpuid='6', metric='ACC')\n"
     ]
    },
    {
     "name": "stderr",
     "output_type": "stream",
     "text": [
      "100%|##########| 455/455 [00:00<00:00, 2013.79it/s]\n",
      "100%|##########| 114/114 [00:00<00:00, 1280.99it/s]\n"
     ]
    },
    {
     "name": "stdout",
     "output_type": "stream",
     "text": [
      "\n",
      " input train and test X shape is (455, 6, 5, 3), (114, 6, 5, 3) \n",
      "MultiClassEstimator(batch_size=8, epochs=50, gpuid='6', metric='ACC')\n"
     ]
    },
    {
     "name": "stderr",
     "output_type": "stream",
     "text": [
      "100%|##########| 455/455 [00:00<00:00, 2255.27it/s]\n",
      "100%|##########| 114/114 [00:00<00:00, 1448.19it/s]\n"
     ]
    },
    {
     "name": "stdout",
     "output_type": "stream",
     "text": [
      "\n",
      " input train and test X shape is (455, 6, 5, 3), (114, 6, 5, 3) \n",
      "MultiClassEstimator(batch_size=8, epochs=50, gpuid='6', metric='ACC')\n"
     ]
    },
    {
     "name": "stderr",
     "output_type": "stream",
     "text": [
      "100%|##########| 455/455 [00:00<00:00, 2048.16it/s]\n",
      "100%|##########| 114/114 [00:00<00:00, 1456.43it/s]\n"
     ]
    },
    {
     "name": "stdout",
     "output_type": "stream",
     "text": [
      "\n",
      " input train and test X shape is (455, 6, 5, 3), (114, 6, 5, 3) \n",
      "MultiClassEstimator(batch_size=8, epochs=50, gpuid='6', metric='ACC')\n"
     ]
    },
    {
     "name": "stderr",
     "output_type": "stream",
     "text": [
      "100%|##########| 456/456 [00:00<00:00, 2072.57it/s]\n",
      "100%|##########| 113/113 [00:00<00:00, 1118.34it/s]\n"
     ]
    },
    {
     "name": "stdout",
     "output_type": "stream",
     "text": [
      "\n",
      " input train and test X shape is (456, 6, 5, 3), (113, 6, 5, 3) \n",
      "MultiClassEstimator(batch_size=8, epochs=50, gpuid='6', metric='ACC')\n"
     ]
    },
    {
     "name": "stderr",
     "output_type": "stream",
     "text": [
      " 28%|##8       | 128/455 [00:00<00:00, 1091.61it/s]"
     ]
    },
    {
     "name": "stdout",
     "output_type": "stream",
     "text": [
      "2020-10-25 19:11:05,114 - \u001b[32mINFO\u001b[0m - [bidd-aggmap]\u001b[0m - applying hierarchical clustering to obtain group information ...\u001b[0m\n",
      "2020-10-25 19:11:05,181 - \u001b[32mINFO\u001b[0m - [bidd-aggmap]\u001b[0m - Applying grid feature map(assignment), this may take several minutes(1~30 min)\u001b[0m\n",
      "2020-10-25 19:11:05,190 - \u001b[32mINFO\u001b[0m - [bidd-aggmap]\u001b[0m - Finished\u001b[0m\n"
     ]
    },
    {
     "name": "stderr",
     "output_type": "stream",
     "text": [
      "100%|##########| 455/455 [00:00<00:00, 2489.57it/s]\n",
      "100%|##########| 114/114 [00:00<00:00, 1271.44it/s]\n"
     ]
    },
    {
     "name": "stdout",
     "output_type": "stream",
     "text": [
      "\n",
      " input train and test X shape is (455, 6, 5, 5), (114, 6, 5, 5) \n",
      "MultiClassEstimator(batch_size=8, epochs=50, gpuid='6', metric='ACC')\n"
     ]
    },
    {
     "name": "stderr",
     "output_type": "stream",
     "text": [
      "100%|##########| 455/455 [00:00<00:00, 2166.76it/s]\n",
      "100%|##########| 114/114 [00:00<00:00, 1178.05it/s]\n"
     ]
    },
    {
     "name": "stdout",
     "output_type": "stream",
     "text": [
      "\n",
      " input train and test X shape is (455, 6, 5, 5), (114, 6, 5, 5) \n",
      "MultiClassEstimator(batch_size=8, epochs=50, gpuid='6', metric='ACC')\n"
     ]
    },
    {
     "name": "stderr",
     "output_type": "stream",
     "text": [
      "100%|##########| 455/455 [00:00<00:00, 2149.73it/s]\n",
      "100%|##########| 114/114 [00:00<00:00, 1075.97it/s]\n"
     ]
    },
    {
     "name": "stdout",
     "output_type": "stream",
     "text": [
      "\n",
      " input train and test X shape is (455, 6, 5, 5), (114, 6, 5, 5) \n",
      "MultiClassEstimator(batch_size=8, epochs=50, gpuid='6', metric='ACC')\n"
     ]
    },
    {
     "name": "stderr",
     "output_type": "stream",
     "text": [
      "100%|##########| 455/455 [00:00<00:00, 2127.56it/s]\n",
      "100%|##########| 114/114 [00:00<00:00, 1160.91it/s]\n"
     ]
    },
    {
     "name": "stdout",
     "output_type": "stream",
     "text": [
      "\n",
      " input train and test X shape is (455, 6, 5, 5), (114, 6, 5, 5) \n",
      "MultiClassEstimator(batch_size=8, epochs=50, gpuid='6', metric='ACC')\n"
     ]
    },
    {
     "name": "stderr",
     "output_type": "stream",
     "text": [
      "100%|##########| 456/456 [00:00<00:00, 2098.35it/s]\n",
      "100%|##########| 113/113 [00:00<00:00, 1286.30it/s]\n"
     ]
    },
    {
     "name": "stdout",
     "output_type": "stream",
     "text": [
      "\n",
      " input train and test X shape is (456, 6, 5, 5), (113, 6, 5, 5) \n",
      "MultiClassEstimator(batch_size=8, epochs=50, gpuid='6', metric='ACC')\n"
     ]
    },
    {
     "name": "stderr",
     "output_type": "stream",
     "text": [
      " 24%|##3       | 108/455 [00:00<00:00, 1044.18it/s]"
     ]
    },
    {
     "name": "stdout",
     "output_type": "stream",
     "text": [
      "2020-10-25 19:12:50,525 - \u001b[32mINFO\u001b[0m - [bidd-aggmap]\u001b[0m - applying hierarchical clustering to obtain group information ...\u001b[0m\n",
      "2020-10-25 19:12:50,591 - \u001b[32mINFO\u001b[0m - [bidd-aggmap]\u001b[0m - Applying grid feature map(assignment), this may take several minutes(1~30 min)\u001b[0m\n",
      "2020-10-25 19:12:50,596 - \u001b[32mINFO\u001b[0m - [bidd-aggmap]\u001b[0m - Finished\u001b[0m\n"
     ]
    },
    {
     "name": "stderr",
     "output_type": "stream",
     "text": [
      "100%|##########| 455/455 [00:00<00:00, 2488.10it/s]\n",
      "100%|##########| 114/114 [00:00<00:00, 1220.71it/s]\n"
     ]
    },
    {
     "name": "stdout",
     "output_type": "stream",
     "text": [
      "\n",
      " input train and test X shape is (455, 6, 5, 1), (114, 6, 5, 1) \n",
      "MultiClassEstimator(batch_size=8, epochs=50, gpuid='6', metric='ACC')\n"
     ]
    },
    {
     "name": "stderr",
     "output_type": "stream",
     "text": [
      "100%|##########| 455/455 [00:00<00:00, 2561.77it/s]\n",
      "100%|##########| 114/114 [00:00<00:00, 1410.92it/s]\n"
     ]
    },
    {
     "name": "stdout",
     "output_type": "stream",
     "text": [
      "\n",
      " input train and test X shape is (455, 6, 5, 1), (114, 6, 5, 1) \n",
      "MultiClassEstimator(batch_size=8, epochs=50, gpuid='6', metric='ACC')\n"
     ]
    },
    {
     "name": "stderr",
     "output_type": "stream",
     "text": [
      "100%|##########| 455/455 [00:00<00:00, 2398.59it/s]\n",
      "100%|##########| 114/114 [00:00<00:00, 1272.74it/s]\n"
     ]
    },
    {
     "name": "stdout",
     "output_type": "stream",
     "text": [
      "\n",
      " input train and test X shape is (455, 6, 5, 1), (114, 6, 5, 1) \n",
      "MultiClassEstimator(batch_size=8, epochs=50, gpuid='6', metric='ACC')\n"
     ]
    },
    {
     "name": "stderr",
     "output_type": "stream",
     "text": [
      "100%|##########| 455/455 [00:00<00:00, 2401.85it/s]\n",
      "100%|##########| 114/114 [00:00<00:00, 1150.64it/s]\n"
     ]
    },
    {
     "name": "stdout",
     "output_type": "stream",
     "text": [
      "\n",
      " input train and test X shape is (455, 6, 5, 1), (114, 6, 5, 1) \n",
      "MultiClassEstimator(batch_size=8, epochs=50, gpuid='6', metric='ACC')\n"
     ]
    },
    {
     "name": "stderr",
     "output_type": "stream",
     "text": [
      "100%|##########| 456/456 [00:00<00:00, 2372.19it/s]\n",
      "100%|##########| 113/113 [00:00<00:00, 1173.36it/s]\n"
     ]
    },
    {
     "name": "stdout",
     "output_type": "stream",
     "text": [
      "\n",
      " input train and test X shape is (456, 6, 5, 1), (113, 6, 5, 1) \n",
      "MultiClassEstimator(batch_size=8, epochs=50, gpuid='6', metric='ACC')\n"
     ]
    },
    {
     "name": "stderr",
     "output_type": "stream",
     "text": [
      " 45%|####4     | 204/455 [00:00<00:00, 1899.46it/s]"
     ]
    },
    {
     "name": "stdout",
     "output_type": "stream",
     "text": [
      "2020-10-25 19:14:35,116 - \u001b[32mINFO\u001b[0m - [bidd-aggmap]\u001b[0m - applying hierarchical clustering to obtain group information ...\u001b[0m\n",
      "2020-10-25 19:14:35,183 - \u001b[32mINFO\u001b[0m - [bidd-aggmap]\u001b[0m - Applying grid feature map(assignment), this may take several minutes(1~30 min)\u001b[0m\n",
      "2020-10-25 19:14:35,189 - \u001b[32mINFO\u001b[0m - [bidd-aggmap]\u001b[0m - Finished\u001b[0m\n"
     ]
    },
    {
     "name": "stderr",
     "output_type": "stream",
     "text": [
      "100%|##########| 455/455 [00:00<00:00, 2822.90it/s]\n",
      "100%|##########| 114/114 [00:00<00:00, 1188.41it/s]\n"
     ]
    },
    {
     "name": "stdout",
     "output_type": "stream",
     "text": [
      "\n",
      " input train and test X shape is (455, 6, 5, 3), (114, 6, 5, 3) \n",
      "MultiClassEstimator(batch_size=8, epochs=50, gpuid='6', metric='ACC')\n"
     ]
    },
    {
     "name": "stderr",
     "output_type": "stream",
     "text": [
      "100%|##########| 455/455 [00:00<00:00, 2005.76it/s]\n",
      "100%|##########| 114/114 [00:00<00:00, 1326.44it/s]\n"
     ]
    },
    {
     "name": "stdout",
     "output_type": "stream",
     "text": [
      "\n",
      " input train and test X shape is (455, 6, 5, 3), (114, 6, 5, 3) \n",
      "MultiClassEstimator(batch_size=8, epochs=50, gpuid='6', metric='ACC')\n"
     ]
    },
    {
     "name": "stderr",
     "output_type": "stream",
     "text": [
      "100%|##########| 455/455 [00:00<00:00, 2257.84it/s]\n",
      "100%|##########| 114/114 [00:00<00:00, 1422.09it/s]\n"
     ]
    },
    {
     "name": "stdout",
     "output_type": "stream",
     "text": [
      "\n",
      " input train and test X shape is (455, 6, 5, 3), (114, 6, 5, 3) \n",
      "MultiClassEstimator(batch_size=8, epochs=50, gpuid='6', metric='ACC')\n"
     ]
    },
    {
     "name": "stderr",
     "output_type": "stream",
     "text": [
      "100%|##########| 455/455 [00:00<00:00, 2284.38it/s]\n",
      "100%|##########| 114/114 [00:00<00:00, 1282.72it/s]\n"
     ]
    },
    {
     "name": "stdout",
     "output_type": "stream",
     "text": [
      "\n",
      " input train and test X shape is (455, 6, 5, 3), (114, 6, 5, 3) \n",
      "MultiClassEstimator(batch_size=8, epochs=50, gpuid='6', metric='ACC')\n"
     ]
    },
    {
     "name": "stderr",
     "output_type": "stream",
     "text": [
      "100%|##########| 456/456 [00:00<00:00, 2356.68it/s]\n",
      "100%|##########| 113/113 [00:00<00:00, 1394.92it/s]\n"
     ]
    },
    {
     "name": "stdout",
     "output_type": "stream",
     "text": [
      "\n",
      " input train and test X shape is (456, 6, 5, 3), (113, 6, 5, 3) \n",
      "MultiClassEstimator(batch_size=8, epochs=50, gpuid='6', metric='ACC')\n"
     ]
    },
    {
     "name": "stderr",
     "output_type": "stream",
     "text": [
      " 28%|##8       | 128/455 [00:00<00:00, 1216.64it/s]"
     ]
    },
    {
     "name": "stdout",
     "output_type": "stream",
     "text": [
      "2020-10-25 19:16:20,538 - \u001b[32mINFO\u001b[0m - [bidd-aggmap]\u001b[0m - applying hierarchical clustering to obtain group information ...\u001b[0m\n",
      "2020-10-25 19:16:20,605 - \u001b[32mINFO\u001b[0m - [bidd-aggmap]\u001b[0m - Applying grid feature map(assignment), this may take several minutes(1~30 min)\u001b[0m\n",
      "2020-10-25 19:16:20,614 - \u001b[32mINFO\u001b[0m - [bidd-aggmap]\u001b[0m - Finished\u001b[0m\n"
     ]
    },
    {
     "name": "stderr",
     "output_type": "stream",
     "text": [
      "100%|##########| 455/455 [00:00<00:00, 2758.82it/s]\n",
      "100%|##########| 114/114 [00:00<00:00, 1156.76it/s]\n"
     ]
    },
    {
     "name": "stdout",
     "output_type": "stream",
     "text": [
      "\n",
      " input train and test X shape is (455, 6, 5, 5), (114, 6, 5, 5) \n",
      "MultiClassEstimator(batch_size=8, epochs=50, gpuid='6', metric='ACC')\n"
     ]
    },
    {
     "name": "stderr",
     "output_type": "stream",
     "text": [
      "100%|##########| 455/455 [00:00<00:00, 2363.61it/s]\n",
      "100%|##########| 114/114 [00:00<00:00, 1085.53it/s]\n"
     ]
    },
    {
     "name": "stdout",
     "output_type": "stream",
     "text": [
      "\n",
      " input train and test X shape is (455, 6, 5, 5), (114, 6, 5, 5) \n",
      "MultiClassEstimator(batch_size=8, epochs=50, gpuid='6', metric='ACC')\n"
     ]
    },
    {
     "name": "stderr",
     "output_type": "stream",
     "text": [
      "100%|##########| 455/455 [00:00<00:00, 1995.48it/s]\n",
      "100%|##########| 114/114 [00:00<00:00, 1068.68it/s]\n"
     ]
    },
    {
     "name": "stdout",
     "output_type": "stream",
     "text": [
      "\n",
      " input train and test X shape is (455, 6, 5, 5), (114, 6, 5, 5) \n",
      "MultiClassEstimator(batch_size=8, epochs=50, gpuid='6', metric='ACC')\n"
     ]
    },
    {
     "name": "stderr",
     "output_type": "stream",
     "text": [
      "100%|##########| 455/455 [00:00<00:00, 2147.78it/s]\n",
      "100%|##########| 114/114 [00:00<00:00, 1101.59it/s]\n"
     ]
    },
    {
     "name": "stdout",
     "output_type": "stream",
     "text": [
      "\n",
      " input train and test X shape is (455, 6, 5, 5), (114, 6, 5, 5) \n",
      "MultiClassEstimator(batch_size=8, epochs=50, gpuid='6', metric='ACC')\n"
     ]
    },
    {
     "name": "stderr",
     "output_type": "stream",
     "text": [
      "100%|##########| 456/456 [00:00<00:00, 2328.42it/s]\n",
      "100%|##########| 113/113 [00:00<00:00, 1073.31it/s]\n"
     ]
    },
    {
     "name": "stdout",
     "output_type": "stream",
     "text": [
      "\n",
      " input train and test X shape is (456, 6, 5, 5), (113, 6, 5, 5) \n",
      "MultiClassEstimator(batch_size=8, epochs=50, gpuid='6', metric='ACC')\n"
     ]
    },
    {
     "name": "stderr",
     "output_type": "stream",
     "text": [
      " 28%|##8       | 128/455 [00:00<00:00, 1244.27it/s]"
     ]
    },
    {
     "name": "stdout",
     "output_type": "stream",
     "text": [
      "2020-10-25 19:18:06,886 - \u001b[32mINFO\u001b[0m - [bidd-aggmap]\u001b[0m - applying hierarchical clustering to obtain group information ...\u001b[0m\n",
      "2020-10-25 19:18:06,955 - \u001b[32mINFO\u001b[0m - [bidd-aggmap]\u001b[0m - Applying grid feature map(assignment), this may take several minutes(1~30 min)\u001b[0m\n",
      "2020-10-25 19:18:06,961 - \u001b[32mINFO\u001b[0m - [bidd-aggmap]\u001b[0m - Finished\u001b[0m\n"
     ]
    },
    {
     "name": "stderr",
     "output_type": "stream",
     "text": [
      "100%|##########| 455/455 [00:00<00:00, 2120.84it/s]\n",
      "100%|##########| 114/114 [00:00<00:00, 1241.38it/s]\n"
     ]
    },
    {
     "name": "stdout",
     "output_type": "stream",
     "text": [
      "\n",
      " input train and test X shape is (455, 6, 5, 1), (114, 6, 5, 1) \n",
      "MultiClassEstimator(batch_size=8, epochs=50, gpuid='6', metric='ACC')\n"
     ]
    },
    {
     "name": "stderr",
     "output_type": "stream",
     "text": [
      "100%|##########| 455/455 [00:00<00:00, 2132.92it/s]\n",
      "100%|##########| 114/114 [00:00<00:00, 1413.00it/s]\n"
     ]
    },
    {
     "name": "stdout",
     "output_type": "stream",
     "text": [
      "\n",
      " input train and test X shape is (455, 6, 5, 1), (114, 6, 5, 1) \n",
      "MultiClassEstimator(batch_size=8, epochs=50, gpuid='6', metric='ACC')\n"
     ]
    },
    {
     "name": "stderr",
     "output_type": "stream",
     "text": [
      "100%|##########| 455/455 [00:00<00:00, 2219.86it/s]\n",
      "100%|##########| 114/114 [00:00<00:00, 1172.15it/s]\n"
     ]
    },
    {
     "name": "stdout",
     "output_type": "stream",
     "text": [
      "\n",
      " input train and test X shape is (455, 6, 5, 1), (114, 6, 5, 1) \n",
      "MultiClassEstimator(batch_size=8, epochs=50, gpuid='6', metric='ACC')\n"
     ]
    },
    {
     "name": "stderr",
     "output_type": "stream",
     "text": [
      "100%|##########| 455/455 [00:00<00:00, 2371.02it/s]\n",
      "100%|##########| 114/114 [00:00<00:00, 1110.81it/s]\n"
     ]
    },
    {
     "name": "stdout",
     "output_type": "stream",
     "text": [
      "\n",
      " input train and test X shape is (455, 6, 5, 1), (114, 6, 5, 1) \n",
      "MultiClassEstimator(batch_size=8, epochs=50, gpuid='6', metric='ACC')\n"
     ]
    },
    {
     "name": "stderr",
     "output_type": "stream",
     "text": [
      "100%|##########| 456/456 [00:00<00:00, 2395.88it/s]\n",
      "100%|##########| 113/113 [00:00<00:00, 1479.78it/s]\n"
     ]
    },
    {
     "name": "stdout",
     "output_type": "stream",
     "text": [
      "\n",
      " input train and test X shape is (456, 6, 5, 1), (113, 6, 5, 1) \n",
      "MultiClassEstimator(batch_size=8, epochs=50, gpuid='6', metric='ACC')\n"
     ]
    },
    {
     "name": "stderr",
     "output_type": "stream",
     "text": [
      "  0%|          | 0/455 [00:00<?, ?it/s]"
     ]
    },
    {
     "name": "stdout",
     "output_type": "stream",
     "text": [
      "2020-10-25 19:19:52,603 - \u001b[32mINFO\u001b[0m - [bidd-aggmap]\u001b[0m - applying hierarchical clustering to obtain group information ...\u001b[0m\n",
      "2020-10-25 19:19:52,674 - \u001b[32mINFO\u001b[0m - [bidd-aggmap]\u001b[0m - Applying grid feature map(assignment), this may take several minutes(1~30 min)\u001b[0m\n",
      "2020-10-25 19:19:52,682 - \u001b[32mINFO\u001b[0m - [bidd-aggmap]\u001b[0m - Finished\u001b[0m\n"
     ]
    },
    {
     "name": "stderr",
     "output_type": "stream",
     "text": [
      "100%|##########| 455/455 [00:00<00:00, 2443.86it/s]\n",
      "100%|##########| 114/114 [00:00<00:00, 1653.65it/s]\n"
     ]
    },
    {
     "name": "stdout",
     "output_type": "stream",
     "text": [
      "\n",
      " input train and test X shape is (455, 6, 5, 3), (114, 6, 5, 3) \n",
      "MultiClassEstimator(batch_size=8, epochs=50, gpuid='6', metric='ACC')\n"
     ]
    },
    {
     "name": "stderr",
     "output_type": "stream",
     "text": [
      "100%|##########| 455/455 [00:00<00:00, 1970.72it/s]\n",
      "100%|##########| 114/114 [00:00<00:00, 1424.42it/s]\n"
     ]
    },
    {
     "name": "stdout",
     "output_type": "stream",
     "text": [
      "\n",
      " input train and test X shape is (455, 6, 5, 3), (114, 6, 5, 3) \n",
      "MultiClassEstimator(batch_size=8, epochs=50, gpuid='6', metric='ACC')\n"
     ]
    },
    {
     "name": "stderr",
     "output_type": "stream",
     "text": [
      "100%|##########| 455/455 [00:00<00:00, 1940.38it/s]\n",
      "100%|##########| 114/114 [00:00<00:00, 1260.68it/s]\n"
     ]
    },
    {
     "name": "stdout",
     "output_type": "stream",
     "text": [
      "\n",
      " input train and test X shape is (455, 6, 5, 3), (114, 6, 5, 3) \n",
      "MultiClassEstimator(batch_size=8, epochs=50, gpuid='6', metric='ACC')\n"
     ]
    },
    {
     "name": "stderr",
     "output_type": "stream",
     "text": [
      "100%|##########| 455/455 [00:00<00:00, 2002.94it/s]\n",
      "100%|##########| 114/114 [00:00<00:00, 1191.69it/s]\n"
     ]
    },
    {
     "name": "stdout",
     "output_type": "stream",
     "text": [
      "\n",
      " input train and test X shape is (455, 6, 5, 3), (114, 6, 5, 3) \n",
      "MultiClassEstimator(batch_size=8, epochs=50, gpuid='6', metric='ACC')\n"
     ]
    },
    {
     "name": "stderr",
     "output_type": "stream",
     "text": [
      "100%|##########| 456/456 [00:00<00:00, 2047.04it/s]\n",
      "100%|##########| 113/113 [00:00<00:00, 1693.12it/s]\n"
     ]
    },
    {
     "name": "stdout",
     "output_type": "stream",
     "text": [
      "\n",
      " input train and test X shape is (456, 6, 5, 3), (113, 6, 5, 3) \n",
      "MultiClassEstimator(batch_size=8, epochs=50, gpuid='6', metric='ACC')\n"
     ]
    },
    {
     "name": "stderr",
     "output_type": "stream",
     "text": [
      "  0%|          | 0/455 [00:00<?, ?it/s]"
     ]
    },
    {
     "name": "stdout",
     "output_type": "stream",
     "text": [
      "2020-10-25 19:21:39,063 - \u001b[32mINFO\u001b[0m - [bidd-aggmap]\u001b[0m - applying hierarchical clustering to obtain group information ...\u001b[0m\n",
      "2020-10-25 19:21:39,133 - \u001b[32mINFO\u001b[0m - [bidd-aggmap]\u001b[0m - Applying grid feature map(assignment), this may take several minutes(1~30 min)\u001b[0m\n",
      "2020-10-25 19:21:39,143 - \u001b[32mINFO\u001b[0m - [bidd-aggmap]\u001b[0m - Finished\u001b[0m\n"
     ]
    },
    {
     "name": "stderr",
     "output_type": "stream",
     "text": [
      "100%|##########| 455/455 [00:00<00:00, 2387.08it/s]\n",
      "100%|##########| 114/114 [00:00<00:00, 1131.55it/s]\n"
     ]
    },
    {
     "name": "stdout",
     "output_type": "stream",
     "text": [
      "\n",
      " input train and test X shape is (455, 6, 5, 5), (114, 6, 5, 5) \n",
      "MultiClassEstimator(batch_size=8, epochs=50, gpuid='6', metric='ACC')\n"
     ]
    },
    {
     "name": "stderr",
     "output_type": "stream",
     "text": [
      "100%|##########| 455/455 [00:00<00:00, 2268.27it/s]\n",
      "100%|##########| 114/114 [00:00<00:00, 1245.27it/s]\n"
     ]
    },
    {
     "name": "stdout",
     "output_type": "stream",
     "text": [
      "\n",
      " input train and test X shape is (455, 6, 5, 5), (114, 6, 5, 5) \n",
      "MultiClassEstimator(batch_size=8, epochs=50, gpuid='6', metric='ACC')\n"
     ]
    },
    {
     "name": "stderr",
     "output_type": "stream",
     "text": [
      "100%|##########| 455/455 [00:00<00:00, 2171.76it/s]\n",
      "100%|##########| 114/114 [00:00<00:00, 1083.38it/s]\n"
     ]
    },
    {
     "name": "stdout",
     "output_type": "stream",
     "text": [
      "\n",
      " input train and test X shape is (455, 6, 5, 5), (114, 6, 5, 5) \n",
      "MultiClassEstimator(batch_size=8, epochs=50, gpuid='6', metric='ACC')\n"
     ]
    },
    {
     "name": "stderr",
     "output_type": "stream",
     "text": [
      "100%|##########| 455/455 [00:00<00:00, 2008.74it/s]\n",
      "100%|##########| 114/114 [00:00<00:00, 1068.02it/s]\n"
     ]
    },
    {
     "name": "stdout",
     "output_type": "stream",
     "text": [
      "\n",
      " input train and test X shape is (455, 6, 5, 5), (114, 6, 5, 5) \n",
      "MultiClassEstimator(batch_size=8, epochs=50, gpuid='6', metric='ACC')\n"
     ]
    },
    {
     "name": "stderr",
     "output_type": "stream",
     "text": [
      "100%|##########| 456/456 [00:00<00:00, 2336.45it/s]\n",
      "100%|##########| 113/113 [00:00<00:00, 1453.42it/s]\n"
     ]
    },
    {
     "name": "stdout",
     "output_type": "stream",
     "text": [
      "\n",
      " input train and test X shape is (456, 6, 5, 5), (113, 6, 5, 5) \n",
      "MultiClassEstimator(batch_size=8, epochs=50, gpuid='6', metric='ACC')\n"
     ]
    },
    {
     "name": "stderr",
     "output_type": "stream",
     "text": [
      " 37%|###6      | 168/455 [00:00<00:00, 1567.98it/s]"
     ]
    },
    {
     "name": "stdout",
     "output_type": "stream",
     "text": [
      "2020-10-25 19:23:24,960 - \u001b[32mINFO\u001b[0m - [bidd-aggmap]\u001b[0m - applying hierarchical clustering to obtain group information ...\u001b[0m\n",
      "2020-10-25 19:23:25,027 - \u001b[32mINFO\u001b[0m - [bidd-aggmap]\u001b[0m - Applying grid feature map(assignment), this may take several minutes(1~30 min)\u001b[0m\n",
      "2020-10-25 19:23:25,033 - \u001b[32mINFO\u001b[0m - [bidd-aggmap]\u001b[0m - Finished\u001b[0m\n"
     ]
    },
    {
     "name": "stderr",
     "output_type": "stream",
     "text": [
      "100%|##########| 455/455 [00:00<00:00, 2806.06it/s]\n",
      "100%|##########| 114/114 [00:00<00:00, 1313.18it/s]\n"
     ]
    },
    {
     "name": "stdout",
     "output_type": "stream",
     "text": [
      "\n",
      " input train and test X shape is (455, 6, 5, 1), (114, 6, 5, 1) \n",
      "MultiClassEstimator(batch_size=8, epochs=50, gpuid='6', metric='ACC')\n"
     ]
    },
    {
     "name": "stderr",
     "output_type": "stream",
     "text": [
      "100%|##########| 455/455 [00:00<00:00, 2327.81it/s]\n",
      "100%|##########| 114/114 [00:00<00:00, 1263.48it/s]\n"
     ]
    },
    {
     "name": "stdout",
     "output_type": "stream",
     "text": [
      "\n",
      " input train and test X shape is (455, 6, 5, 1), (114, 6, 5, 1) \n",
      "MultiClassEstimator(batch_size=8, epochs=50, gpuid='6', metric='ACC')\n"
     ]
    },
    {
     "name": "stderr",
     "output_type": "stream",
     "text": [
      "100%|##########| 455/455 [00:00<00:00, 2361.61it/s]\n",
      "100%|##########| 114/114 [00:00<00:00, 1264.73it/s]\n"
     ]
    },
    {
     "name": "stdout",
     "output_type": "stream",
     "text": [
      "\n",
      " input train and test X shape is (455, 6, 5, 1), (114, 6, 5, 1) \n",
      "MultiClassEstimator(batch_size=8, epochs=50, gpuid='6', metric='ACC')\n"
     ]
    },
    {
     "name": "stderr",
     "output_type": "stream",
     "text": [
      "100%|##########| 455/455 [00:00<00:00, 1891.84it/s]\n",
      "100%|##########| 114/114 [00:00<00:00, 1198.10it/s]\n"
     ]
    },
    {
     "name": "stdout",
     "output_type": "stream",
     "text": [
      "\n",
      " input train and test X shape is (455, 6, 5, 1), (114, 6, 5, 1) \n",
      "MultiClassEstimator(batch_size=8, epochs=50, gpuid='6', metric='ACC')\n"
     ]
    },
    {
     "name": "stderr",
     "output_type": "stream",
     "text": [
      "100%|##########| 456/456 [00:00<00:00, 2039.73it/s]\n",
      "100%|##########| 113/113 [00:00<00:00, 1171.37it/s]\n"
     ]
    },
    {
     "name": "stdout",
     "output_type": "stream",
     "text": [
      "\n",
      " input train and test X shape is (456, 6, 5, 1), (113, 6, 5, 1) \n",
      "MultiClassEstimator(batch_size=8, epochs=50, gpuid='6', metric='ACC')\n"
     ]
    },
    {
     "name": "stderr",
     "output_type": "stream",
     "text": [
      " 23%|##3       | 106/455 [00:00<00:00, 968.71it/s]"
     ]
    },
    {
     "name": "stdout",
     "output_type": "stream",
     "text": [
      "2020-10-25 19:25:10,196 - \u001b[32mINFO\u001b[0m - [bidd-aggmap]\u001b[0m - applying hierarchical clustering to obtain group information ...\u001b[0m\n",
      "2020-10-25 19:25:10,264 - \u001b[32mINFO\u001b[0m - [bidd-aggmap]\u001b[0m - Applying grid feature map(assignment), this may take several minutes(1~30 min)\u001b[0m\n",
      "2020-10-25 19:25:10,271 - \u001b[32mINFO\u001b[0m - [bidd-aggmap]\u001b[0m - Finished\u001b[0m\n"
     ]
    },
    {
     "name": "stderr",
     "output_type": "stream",
     "text": [
      "100%|##########| 455/455 [00:00<00:00, 2357.63it/s]\n",
      "100%|##########| 114/114 [00:00<00:00, 1454.04it/s]\n"
     ]
    },
    {
     "name": "stdout",
     "output_type": "stream",
     "text": [
      "\n",
      " input train and test X shape is (455, 6, 5, 3), (114, 6, 5, 3) \n",
      "MultiClassEstimator(batch_size=8, epochs=50, gpuid='6', metric='ACC')\n"
     ]
    },
    {
     "name": "stderr",
     "output_type": "stream",
     "text": [
      "100%|##########| 455/455 [00:00<00:00, 2166.34it/s]\n",
      "100%|##########| 114/114 [00:00<00:00, 1282.63it/s]\n"
     ]
    },
    {
     "name": "stdout",
     "output_type": "stream",
     "text": [
      "\n",
      " input train and test X shape is (455, 6, 5, 3), (114, 6, 5, 3) \n",
      "MultiClassEstimator(batch_size=8, epochs=50, gpuid='6', metric='ACC')\n"
     ]
    },
    {
     "name": "stderr",
     "output_type": "stream",
     "text": [
      "100%|##########| 455/455 [00:00<00:00, 2033.29it/s]\n",
      "100%|##########| 114/114 [00:00<00:00, 1424.08it/s]\n"
     ]
    },
    {
     "name": "stdout",
     "output_type": "stream",
     "text": [
      "\n",
      " input train and test X shape is (455, 6, 5, 3), (114, 6, 5, 3) \n",
      "MultiClassEstimator(batch_size=8, epochs=50, gpuid='6', metric='ACC')\n"
     ]
    },
    {
     "name": "stderr",
     "output_type": "stream",
     "text": [
      "100%|##########| 455/455 [00:00<00:00, 2370.91it/s]\n",
      "100%|##########| 114/114 [00:00<00:00, 1484.35it/s]\n"
     ]
    },
    {
     "name": "stdout",
     "output_type": "stream",
     "text": [
      "\n",
      " input train and test X shape is (455, 6, 5, 3), (114, 6, 5, 3) \n",
      "MultiClassEstimator(batch_size=8, epochs=50, gpuid='6', metric='ACC')\n"
     ]
    },
    {
     "name": "stderr",
     "output_type": "stream",
     "text": [
      "100%|##########| 456/456 [00:00<00:00, 2198.18it/s]\n",
      "100%|##########| 113/113 [00:00<00:00, 1413.42it/s]\n"
     ]
    },
    {
     "name": "stdout",
     "output_type": "stream",
     "text": [
      "\n",
      " input train and test X shape is (456, 6, 5, 3), (113, 6, 5, 3) \n",
      "MultiClassEstimator(batch_size=8, epochs=50, gpuid='6', metric='ACC')\n"
     ]
    },
    {
     "name": "stderr",
     "output_type": "stream",
     "text": [
      "  0%|          | 0/455 [00:00<?, ?it/s]"
     ]
    },
    {
     "name": "stdout",
     "output_type": "stream",
     "text": [
      "2020-10-25 19:26:55,273 - \u001b[32mINFO\u001b[0m - [bidd-aggmap]\u001b[0m - applying hierarchical clustering to obtain group information ...\u001b[0m\n",
      "2020-10-25 19:26:55,341 - \u001b[32mINFO\u001b[0m - [bidd-aggmap]\u001b[0m - Applying grid feature map(assignment), this may take several minutes(1~30 min)\u001b[0m\n",
      "2020-10-25 19:26:55,350 - \u001b[32mINFO\u001b[0m - [bidd-aggmap]\u001b[0m - Finished\u001b[0m\n"
     ]
    },
    {
     "name": "stderr",
     "output_type": "stream",
     "text": [
      "100%|##########| 455/455 [00:00<00:00, 2687.63it/s]\n",
      "100%|##########| 114/114 [00:00<00:00, 1428.94it/s]\n"
     ]
    },
    {
     "name": "stdout",
     "output_type": "stream",
     "text": [
      "\n",
      " input train and test X shape is (455, 6, 5, 5), (114, 6, 5, 5) \n",
      "MultiClassEstimator(batch_size=8, epochs=50, gpuid='6', metric='ACC')\n"
     ]
    },
    {
     "name": "stderr",
     "output_type": "stream",
     "text": [
      "100%|##########| 455/455 [00:00<00:00, 2174.00it/s]\n",
      "100%|##########| 114/114 [00:00<00:00, 1216.41it/s]\n"
     ]
    },
    {
     "name": "stdout",
     "output_type": "stream",
     "text": [
      "\n",
      " input train and test X shape is (455, 6, 5, 5), (114, 6, 5, 5) \n",
      "MultiClassEstimator(batch_size=8, epochs=50, gpuid='6', metric='ACC')\n"
     ]
    },
    {
     "name": "stderr",
     "output_type": "stream",
     "text": [
      "100%|##########| 455/455 [00:00<00:00, 2171.80it/s]\n",
      "100%|##########| 114/114 [00:00<00:00, 1062.36it/s]\n"
     ]
    },
    {
     "name": "stdout",
     "output_type": "stream",
     "text": [
      "\n",
      " input train and test X shape is (455, 6, 5, 5), (114, 6, 5, 5) \n",
      "MultiClassEstimator(batch_size=8, epochs=50, gpuid='6', metric='ACC')\n"
     ]
    },
    {
     "name": "stderr",
     "output_type": "stream",
     "text": [
      "100%|##########| 455/455 [00:00<00:00, 1978.99it/s]\n",
      "100%|##########| 114/114 [00:00<00:00, 1629.14it/s]\n"
     ]
    },
    {
     "name": "stdout",
     "output_type": "stream",
     "text": [
      "\n",
      " input train and test X shape is (455, 6, 5, 5), (114, 6, 5, 5) \n",
      "MultiClassEstimator(batch_size=8, epochs=50, gpuid='6', metric='ACC')\n"
     ]
    },
    {
     "name": "stderr",
     "output_type": "stream",
     "text": [
      "100%|##########| 456/456 [00:00<00:00, 2822.06it/s]\n",
      "100%|##########| 113/113 [00:00<00:00, 1278.77it/s]\n"
     ]
    },
    {
     "name": "stdout",
     "output_type": "stream",
     "text": [
      "\n",
      " input train and test X shape is (456, 6, 5, 5), (113, 6, 5, 5) \n",
      "MultiClassEstimator(batch_size=8, epochs=50, gpuid='6', metric='ACC')\n"
     ]
    }
   ],
   "source": [
    "n_splits = 5 #5-fold reapeat 5 times\n",
    "run_all = []\n",
    "\n",
    "for repeat_seed in  [8, 16, 32, 64, 128]: #5 repeats random seeds \n",
    "    \n",
    "    outer = KFold(n_splits = n_splits, shuffle = True, random_state = repeat_seed)\n",
    "    outer_idx = list(outer.split(range(len(Y))))\n",
    "    \n",
    "    for c in [1, 3, 5]: \n",
    "        \n",
    "        mp = mp.fit(cluster_channels = c, verbose = 0)\n",
    "            \n",
    "        for i, idx in enumerate(outer_idx):\n",
    "            \n",
    "            train_idx, valid_idx = idx\n",
    "            fold_num = \"fold_%s\" % str(i+1).zfill(2) \n",
    "            \n",
    "            validY = Y[valid_idx]\n",
    "            validx = X[valid_idx]\n",
    "\n",
    "            trainx = X[train_idx]\n",
    "            trainY = Y[train_idx]\n",
    "\n",
    "            trainX = mp.batch_transform(trainx, scale_method = 'standard')\n",
    "            validX = mp.batch_transform(validx, scale_method = 'standard')\n",
    "            print(\"\\n input train and test X shape is %s, %s \" % (trainX.shape,  validX.shape))\n",
    "            clf = AggModel.MultiClassEstimator(epochs = 50, \n",
    "                                               batch_size = 8, gpuid = 6,\n",
    "                                               metric = 'ACC',verbose = 0)\n",
    "            clf.fit(trainX, trainY, X_valid = validX, y_valid = validY)\n",
    "\n",
    "            history = clf.history.history\n",
    "            history['fold'] = fold_num\n",
    "            history['c'] = c\n",
    "            history['repeat_seed'] = repeat_seed\n",
    "            \n",
    "            run_all.append(history)"
   ]
  },
  {
   "cell_type": "code",
   "execution_count": null,
   "metadata": {},
   "outputs": [],
   "source": []
  },
  {
   "cell_type": "code",
   "execution_count": 40,
   "metadata": {},
   "outputs": [],
   "source": [
    "dfr = pd.DataFrame(run_all)\n",
    "dfr.to_csv('./5FCV_valid.csv')"
   ]
  },
  {
   "cell_type": "code",
   "execution_count": 41,
   "metadata": {},
   "outputs": [],
   "source": [
    "sns.set(style = 'white', font_scale=1.8)"
   ]
  },
  {
   "cell_type": "code",
   "execution_count": 42,
   "metadata": {},
   "outputs": [
    {
     "data": {
      "image/png": "[encoded data removed]",
      "text/plain": [
       "<Figure size 1296x432 with 2 Axes>"
      ]
     },
     "metadata": {},
     "output_type": "display_data"
    }
   ],
   "source": [
    "fig, axes = plt.subplots(nrows=1, ncols=2, figsize=(18,6), sharex=False, sharey=False, )\n",
    "ax1, ax2 = axes        \n",
    "\n",
    "\n",
    "col = 'val_loss'\n",
    "loss_mean = dfr.groupby(['c']).agg({col: lambda x:x.tolist()})[col].apply(lambda x: np.array(x).mean(axis=0)).apply(pd.Series).T\n",
    "loss_std = dfr.groupby(['c']).agg({col: lambda x:x.tolist()})[col].apply(lambda x: np.array(x).std(axis=0)).apply(pd.Series).T\n",
    "loss_mean.head(50).plot(ax=ax1, lw = 2, color = color) # ,ylim = (-2.55, -2) \n",
    "ax1.set_ylabel('Validation loss')\n",
    "ax1.set_xlabel('Epochs')\n",
    "\n",
    "\n",
    "col = 'val_accuracy'\n",
    "acc_mean = dfr.groupby(['c']).agg({col: lambda x:x.tolist()})[col].apply(lambda x: np.array(x).mean(axis=0)).apply(pd.Series).T\n",
    "acc_std = dfr.groupby(['c']).agg({col: lambda x:x.tolist()})[col].apply(lambda x: np.array(x).std(axis=0)).apply(pd.Series).T\n",
    "acc_mean.head(50).plot(ax=ax2, lw = 2, color = color)\n",
    "ax2.set_ylabel('Validation accuracy')\n",
    "ax2.set_xlabel('Epochs')\n",
    "\n",
    "\n",
    "plt.savefig('5FCV_valid.png', bbox_inches='tight', dpi=300)"
   ]
  },
  {
   "cell_type": "code",
   "execution_count": null,
   "metadata": {},
   "outputs": [],
   "source": []
  },
  {
   "cell_type": "code",
   "execution_count": 43,
   "metadata": {},
   "outputs": [
    {
     "data": {
      "image/png": "[encoded data removed]",
      "text/plain": [
       "<Figure size 648x432 with 1 Axes>"
      ]
     },
     "metadata": {},
     "output_type": "display_data"
    }
   ],
   "source": [
    "sns.set(style = 'white', font_scale=1.8)\n",
    "\n",
    "fig, axes = plt.subplots(nrows=1, ncols=1, figsize=(9,6), sharex=False, sharey=False, )\n",
    "ax2 = axes        \n",
    "\n",
    "col = 'val_accuracy'\n",
    "acc_mean = dfr.groupby(['c']).agg({col: lambda x:x.tolist()})[col].apply(lambda x: np.array(x).mean(axis=0)).apply(pd.Series).T\n",
    "acc_std = dfr.groupby(['c']).agg({col: lambda x:x.tolist()})[col].apply(lambda x: np.array(x).std(axis=0)).apply(pd.Series).T\n",
    "\n",
    "\n",
    "acc_mean.columns.name = 'Channels'\n",
    "acc_std.columns.name = 'Channels'\n",
    "\n",
    "acc_mean.plot(ax=ax2, lw = 3, color = color)\n",
    "ax2.set_ylabel('Validation accuracy')\n",
    "ax2.set_xlabel('Epochs')\n",
    "plt.title('WDBC')\n",
    "fig.tight_layout()\n",
    "plt.subplots_adjust(left=None, bottom=None, right=None, top=None, wspace=0.3)\n",
    "plt.savefig('5FCV_valid_acc.png', bbox_inches='tight', dpi=400)"
   ]
  },
  {
   "cell_type": "code",
   "execution_count": null,
   "metadata": {},
   "outputs": [],
   "source": []
  },
  {
   "cell_type": "code",
   "execution_count": null,
   "metadata": {},
   "outputs": [],
   "source": []
  }
 ],
 "metadata": {
  "kernelspec": {
   "display_name": "Python 3",
   "language": "python",
   "name": "python3"
  },
  "language_info": {
   "codemirror_mode": {
    "name": "ipython",
    "version": 3
   },
   "file_extension": ".py",
   "mimetype": "text/x-python",
   "name": "python",
   "nbconvert_exporter": "python",
   "pygments_lexer": "ipython3",
   "version": "3.6.9"
  }
 },
 "nbformat": 4,
 "nbformat_minor": 4
}
