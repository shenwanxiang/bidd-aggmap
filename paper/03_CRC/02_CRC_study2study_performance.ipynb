{
 "cells": [
  {
   "cell_type": "code",
   "execution_count": 169,
   "metadata": {},
   "outputs": [],
   "source": [
    "import warnings\n",
    "warnings.filterwarnings(\"ignore\")\n",
    "\n",
    "\n",
    "import pandas as pd\n",
    "import numpy as np\n",
    "\n",
    "from sklearn.model_selection import KFold, StratifiedKFold\n",
    "from sklearn.metrics import confusion_matrix, precision_recall_curve, roc_auc_score\n",
    "from sklearn.metrics import auc as calculate_auc\n",
    "\n",
    "import matplotlib.pyplot as plt\n",
    "import seaborn as sns\n",
    "\n",
    "from aggmap import AggMap, AggModel\n",
    "\n",
    "np.random.seed(666) #just for reaptable results\n",
    "\n",
    "def prc_auc_score(y_true, y_score):\n",
    "    precision, recall, threshold  = precision_recall_curve(y_true, y_score) #PRC_AUC\n",
    "    auc = calculate_auc(recall, precision)\n",
    "    return auc"
   ]
  },
  {
   "cell_type": "code",
   "execution_count": 170,
   "metadata": {},
   "outputs": [],
   "source": [
    "dfx = pd.read_excel('./CRC.xlsx', sheet_name='data')\n",
    "dfx = dfx[dfx.columns[1:]]\n",
    "dfx = np.log(dfx + 1e-8)\n",
    "\n",
    "feature_groups_df = pd.read_excel('./CRC.xlsx', sheet_name='feature_info')\n",
    "feature_group_list = feature_groups_df.Group.tolist()\n",
    "\n",
    "dfy_all = pd.read_excel('./CRC.xlsx', sheet_name='sample_info')\n",
    "dfy = pd.get_dummies(dfy_all['Group'])\n",
    "\n",
    "\n",
    "\n",
    "X = dfx.values.astype(float)\n",
    "Y = dfy.values.astype(float)\n"
   ]
  },
  {
   "cell_type": "code",
   "execution_count": 171,
   "metadata": {},
   "outputs": [
    {
     "name": "stdout",
     "output_type": "stream",
     "text": [
      "2020-08-19 14:39:24,152 - INFO - [bidd-aggmap] - Calculating distance ...\n",
      "2020-08-19 14:39:24,192 - INFO - [bidd-aggmap] - the number of process is 16\n"
     ]
    },
    {
     "name": "stderr",
     "output_type": "stream",
     "text": [
      "100%|##########| 359976/359976 [00:23<00:00, 15523.36it/s]\n",
      "100%|##########| 359976/359976 [00:00<00:00, 988185.60it/s] \n",
      "100%|##########| 849/849 [00:00<00:00, 989.19it/s] \n"
     ]
    },
    {
     "name": "stdout",
     "output_type": "stream",
     "text": [
      "2020-08-19 14:39:49,430 - INFO - [bidd-aggmap] - applying hierarchical clustering to obtain group information ...\n",
      "2020-08-19 14:39:52,909 - INFO - [bidd-aggmap] - Applying grid feature map(assignment), this may take several minutes(1~30 min)\n",
      "2020-08-19 14:39:55,493 - INFO - [bidd-aggmap] - Finished\n"
     ]
    },
    {
     "data": {
      "text/plain": [
       "(30, 29)"
      ]
     },
     "execution_count": 171,
     "metadata": {},
     "output_type": "execute_result"
    }
   ],
   "source": [
    "\n",
    "mp = AggMap(dfx, metric = 'correlation')\n",
    "mp.fit(cluster_channels = 5, verbose = 0)\n",
    "\n",
    "mp.fmap_shape"
   ]
  },
  {
   "cell_type": "code",
   "execution_count": null,
   "metadata": {},
   "outputs": [],
   "source": []
  },
  {
   "cell_type": "markdown",
   "metadata": {},
   "source": [
    "## 5 countries to countries cross validation"
   ]
  },
  {
   "cell_type": "code",
   "execution_count": 172,
   "metadata": {},
   "outputs": [
    {
     "data": {
      "text/plain": [
       "Country\n",
       "AUS    [114, 115, 116, 117, 118, 119, 120, 121, 122, ...\n",
       "CHI    [223, 224, 225, 226, 227, 228, 229, 230, 231, ...\n",
       "FRA    [0, 1, 2, 3, 4, 5, 6, 7, 8, 9, 10, 11, 12, 13,...\n",
       "GER    [455, 456, 457, 458, 459, 460, 461, 462, 463, ...\n",
       "USA    [351, 352, 353, 354, 355, 356, 357, 358, 359, ...\n",
       "dtype: object"
      ]
     },
     "execution_count": 172,
     "metadata": {},
     "output_type": "execute_result"
    }
   ],
   "source": [
    "country_idx = dfy_all.groupby(['Country']).apply(lambda x:x.index.tolist())\n",
    "country_idx"
   ]
  },
  {
   "cell_type": "code",
   "execution_count": 173,
   "metadata": {},
   "outputs": [],
   "source": [
    "country_names = country_idx.index.tolist()"
   ]
  },
  {
   "cell_type": "code",
   "execution_count": null,
   "metadata": {},
   "outputs": [],
   "source": []
  },
  {
   "cell_type": "code",
   "execution_count": 174,
   "metadata": {},
   "outputs": [
    {
     "name": "stderr",
     "output_type": "stream",
     "text": [
      "100%|##########| 109/109 [00:07<00:00, 13.78it/s]\n"
     ]
    },
    {
     "name": "stdout",
     "output_type": "stream",
     "text": [
      "MultiClassEstimator(batch_size=128, conv1_kernel_size=11, dense_avf='relu',\n",
      "                    dense_layers=[128], epochs=200, lr=0.0001, metric='ROC',\n",
      "                    monitor='val_loss', name='AggMap MultiClass Estimator',\n",
      "                    patience=10000, random_state=32, verbose=0)\n"
     ]
    },
    {
     "name": "stderr",
     "output_type": "stream",
     "text": [
      "100%|##########| 109/109 [00:00<00:00, 159.15it/s]\n"
     ]
    },
    {
     "name": "stdout",
     "output_type": "stream",
     "text": [
      "\n",
      " input train and test X shape is (109, 30, 29, 5), (109, 30, 29, 5) \n"
     ]
    },
    {
     "name": "stderr",
     "output_type": "stream",
     "text": [
      "100%|##########| 128/128 [00:00<00:00, 181.90it/s]\n"
     ]
    },
    {
     "name": "stdout",
     "output_type": "stream",
     "text": [
      "\n",
      " input train and test X shape is (109, 30, 29, 5), (128, 30, 29, 5) \n"
     ]
    },
    {
     "name": "stderr",
     "output_type": "stream",
     "text": [
      "100%|##########| 114/114 [00:00<00:00, 178.31it/s]\n"
     ]
    },
    {
     "name": "stdout",
     "output_type": "stream",
     "text": [
      "\n",
      " input train and test X shape is (109, 30, 29, 5), (114, 30, 29, 5) \n"
     ]
    },
    {
     "name": "stderr",
     "output_type": "stream",
     "text": [
      "100%|##########| 120/120 [00:00<00:00, 187.85it/s]\n"
     ]
    },
    {
     "name": "stdout",
     "output_type": "stream",
     "text": [
      "\n",
      " input train and test X shape is (109, 30, 29, 5), (120, 30, 29, 5) \n"
     ]
    },
    {
     "name": "stderr",
     "output_type": "stream",
     "text": [
      "100%|##########| 104/104 [00:00<00:00, 214.99it/s]\n"
     ]
    },
    {
     "name": "stdout",
     "output_type": "stream",
     "text": [
      "\n",
      " input train and test X shape is (109, 30, 29, 5), (104, 30, 29, 5) \n"
     ]
    },
    {
     "name": "stderr",
     "output_type": "stream",
     "text": [
      "100%|##########| 128/128 [00:00<00:00, 221.37it/s]\n"
     ]
    },
    {
     "name": "stdout",
     "output_type": "stream",
     "text": [
      "MultiClassEstimator(batch_size=128, conv1_kernel_size=11, dense_avf='relu',\n",
      "                    dense_layers=[128], epochs=200, lr=0.0001, metric='ROC',\n",
      "                    monitor='val_loss', name='AggMap MultiClass Estimator',\n",
      "                    patience=10000, random_state=32, verbose=0)\n"
     ]
    },
    {
     "name": "stderr",
     "output_type": "stream",
     "text": [
      "100%|##########| 109/109 [00:00<00:00, 538.39it/s]\n"
     ]
    },
    {
     "name": "stdout",
     "output_type": "stream",
     "text": [
      "\n",
      " input train and test X shape is (128, 30, 29, 5), (109, 30, 29, 5) \n"
     ]
    },
    {
     "name": "stderr",
     "output_type": "stream",
     "text": [
      "100%|##########| 128/128 [00:00<00:00, 570.80it/s]\n"
     ]
    },
    {
     "name": "stdout",
     "output_type": "stream",
     "text": [
      "\n",
      " input train and test X shape is (128, 30, 29, 5), (128, 30, 29, 5) \n"
     ]
    },
    {
     "name": "stderr",
     "output_type": "stream",
     "text": [
      "100%|##########| 114/114 [00:00<00:00, 463.10it/s]\n"
     ]
    },
    {
     "name": "stdout",
     "output_type": "stream",
     "text": [
      "\n",
      " input train and test X shape is (128, 30, 29, 5), (114, 30, 29, 5) \n"
     ]
    },
    {
     "name": "stderr",
     "output_type": "stream",
     "text": [
      "100%|##########| 120/120 [00:00<00:00, 600.47it/s]\n"
     ]
    },
    {
     "name": "stdout",
     "output_type": "stream",
     "text": [
      "\n",
      " input train and test X shape is (128, 30, 29, 5), (120, 30, 29, 5) \n"
     ]
    },
    {
     "name": "stderr",
     "output_type": "stream",
     "text": [
      "100%|##########| 104/104 [00:00<00:00, 578.62it/s]\n"
     ]
    },
    {
     "name": "stdout",
     "output_type": "stream",
     "text": [
      "\n",
      " input train and test X shape is (128, 30, 29, 5), (104, 30, 29, 5) \n"
     ]
    },
    {
     "name": "stderr",
     "output_type": "stream",
     "text": [
      "100%|##########| 114/114 [00:00<00:00, 722.91it/s]\n"
     ]
    },
    {
     "name": "stdout",
     "output_type": "stream",
     "text": [
      "MultiClassEstimator(batch_size=128, conv1_kernel_size=11, dense_avf='relu',\n",
      "                    dense_layers=[128], epochs=200, lr=0.0001, metric='ROC',\n",
      "                    monitor='val_loss', name='AggMap MultiClass Estimator',\n",
      "                    patience=10000, random_state=32, verbose=0)\n"
     ]
    },
    {
     "name": "stderr",
     "output_type": "stream",
     "text": [
      "100%|##########| 109/109 [00:00<00:00, 234.81it/s]\n"
     ]
    },
    {
     "name": "stdout",
     "output_type": "stream",
     "text": [
      "\n",
      " input train and test X shape is (114, 30, 29, 5), (109, 30, 29, 5) \n"
     ]
    },
    {
     "name": "stderr",
     "output_type": "stream",
     "text": [
      "100%|##########| 128/128 [00:00<00:00, 193.87it/s]\n"
     ]
    },
    {
     "name": "stdout",
     "output_type": "stream",
     "text": [
      "\n",
      " input train and test X shape is (114, 30, 29, 5), (128, 30, 29, 5) \n"
     ]
    },
    {
     "name": "stderr",
     "output_type": "stream",
     "text": [
      "100%|##########| 114/114 [00:00<00:00, 202.04it/s]\n"
     ]
    },
    {
     "name": "stdout",
     "output_type": "stream",
     "text": [
      "\n",
      " input train and test X shape is (114, 30, 29, 5), (114, 30, 29, 5) \n"
     ]
    },
    {
     "name": "stderr",
     "output_type": "stream",
     "text": [
      "100%|##########| 120/120 [00:00<00:00, 169.89it/s]\n"
     ]
    },
    {
     "name": "stdout",
     "output_type": "stream",
     "text": [
      "\n",
      " input train and test X shape is (114, 30, 29, 5), (120, 30, 29, 5) \n"
     ]
    },
    {
     "name": "stderr",
     "output_type": "stream",
     "text": [
      "100%|##########| 104/104 [00:00<00:00, 193.78it/s]\n"
     ]
    },
    {
     "name": "stdout",
     "output_type": "stream",
     "text": [
      "\n",
      " input train and test X shape is (114, 30, 29, 5), (104, 30, 29, 5) \n"
     ]
    },
    {
     "name": "stderr",
     "output_type": "stream",
     "text": [
      "100%|##########| 120/120 [00:00<00:00, 183.45it/s]\n"
     ]
    },
    {
     "name": "stdout",
     "output_type": "stream",
     "text": [
      "MultiClassEstimator(batch_size=128, conv1_kernel_size=11, dense_avf='relu',\n",
      "                    dense_layers=[128], epochs=200, lr=0.0001, metric='ROC',\n",
      "                    monitor='val_loss', name='AggMap MultiClass Estimator',\n",
      "                    patience=10000, random_state=32, verbose=0)\n"
     ]
    },
    {
     "name": "stderr",
     "output_type": "stream",
     "text": [
      "100%|##########| 109/109 [00:00<00:00, 172.21it/s]\n"
     ]
    },
    {
     "name": "stdout",
     "output_type": "stream",
     "text": [
      "\n",
      " input train and test X shape is (120, 30, 29, 5), (109, 30, 29, 5) \n"
     ]
    },
    {
     "name": "stderr",
     "output_type": "stream",
     "text": [
      "100%|##########| 128/128 [00:00<00:00, 216.90it/s]\n"
     ]
    },
    {
     "name": "stdout",
     "output_type": "stream",
     "text": [
      "\n",
      " input train and test X shape is (120, 30, 29, 5), (128, 30, 29, 5) \n"
     ]
    },
    {
     "name": "stderr",
     "output_type": "stream",
     "text": [
      "100%|##########| 114/114 [00:00<00:00, 248.83it/s]\n"
     ]
    },
    {
     "name": "stdout",
     "output_type": "stream",
     "text": [
      "\n",
      " input train and test X shape is (120, 30, 29, 5), (114, 30, 29, 5) \n"
     ]
    },
    {
     "name": "stderr",
     "output_type": "stream",
     "text": [
      "100%|##########| 120/120 [00:00<00:00, 175.74it/s]\n"
     ]
    },
    {
     "name": "stdout",
     "output_type": "stream",
     "text": [
      "\n",
      " input train and test X shape is (120, 30, 29, 5), (120, 30, 29, 5) \n"
     ]
    },
    {
     "name": "stderr",
     "output_type": "stream",
     "text": [
      "100%|##########| 104/104 [00:00<00:00, 187.06it/s]\n"
     ]
    },
    {
     "name": "stdout",
     "output_type": "stream",
     "text": [
      "\n",
      " input train and test X shape is (120, 30, 29, 5), (104, 30, 29, 5) \n"
     ]
    },
    {
     "name": "stderr",
     "output_type": "stream",
     "text": [
      "100%|##########| 104/104 [00:00<00:00, 155.63it/s]\n"
     ]
    },
    {
     "name": "stdout",
     "output_type": "stream",
     "text": [
      "MultiClassEstimator(batch_size=128, conv1_kernel_size=11, dense_avf='relu',\n",
      "                    dense_layers=[128], epochs=200, lr=0.0001, metric='ROC',\n",
      "                    monitor='val_loss', name='AggMap MultiClass Estimator',\n",
      "                    patience=10000, random_state=32, verbose=0)\n"
     ]
    },
    {
     "name": "stderr",
     "output_type": "stream",
     "text": [
      "100%|##########| 109/109 [00:00<00:00, 197.58it/s]\n"
     ]
    },
    {
     "name": "stdout",
     "output_type": "stream",
     "text": [
      "\n",
      " input train and test X shape is (104, 30, 29, 5), (109, 30, 29, 5) \n"
     ]
    },
    {
     "name": "stderr",
     "output_type": "stream",
     "text": [
      "100%|##########| 128/128 [00:00<00:00, 158.62it/s]\n"
     ]
    },
    {
     "name": "stdout",
     "output_type": "stream",
     "text": [
      "\n",
      " input train and test X shape is (104, 30, 29, 5), (128, 30, 29, 5) \n"
     ]
    },
    {
     "name": "stderr",
     "output_type": "stream",
     "text": [
      "100%|##########| 114/114 [00:00<00:00, 186.68it/s]\n"
     ]
    },
    {
     "name": "stdout",
     "output_type": "stream",
     "text": [
      "\n",
      " input train and test X shape is (104, 30, 29, 5), (114, 30, 29, 5) \n"
     ]
    },
    {
     "name": "stderr",
     "output_type": "stream",
     "text": [
      "100%|##########| 120/120 [00:00<00:00, 237.24it/s]\n"
     ]
    },
    {
     "name": "stdout",
     "output_type": "stream",
     "text": [
      "\n",
      " input train and test X shape is (104, 30, 29, 5), (120, 30, 29, 5) \n"
     ]
    },
    {
     "name": "stderr",
     "output_type": "stream",
     "text": [
      "100%|##########| 104/104 [00:00<00:00, 256.33it/s]\n"
     ]
    },
    {
     "name": "stdout",
     "output_type": "stream",
     "text": [
      "\n",
      " input train and test X shape is (104, 30, 29, 5), (104, 30, 29, 5) \n"
     ]
    }
   ],
   "source": [
    "#study to study transfer\n",
    "\n",
    "run_all = []\n",
    "for train_country in country_names:\n",
    "\n",
    "    train_idx = country_idx.loc[train_country]\n",
    "\n",
    "    trainx = X[train_idx]\n",
    "    trainY = Y[train_idx]\n",
    "    trainX = mp.batch_transform(trainx, scale_method = 'standard')        \n",
    "\n",
    "    clf = AggModel.MultiClassEstimator(epochs = 200,  verbose = 0)\n",
    "    clf.fit(trainX, trainY)    \n",
    "    \n",
    "    for test_country in country_names:\n",
    "        \n",
    "        test_idx = country_idx.loc[test_country]\n",
    "        testY = Y[test_idx]\n",
    "        testx = X[test_idx]\n",
    "\n",
    "        testX = mp.batch_transform(testx, scale_method = 'standard')\n",
    "        print(\"\\n input train and test X shape is %s, %s \" % (trainX.shape,  testX.shape))\n",
    "\n",
    "        y_true = testY[:,0]\n",
    "        y_pred = clf.predict(testX)[:,0]\n",
    "        y_score = clf.predict_proba(testX)[:,0]\n",
    "\n",
    "        tn, fp, fn, tp = confusion_matrix(y_true, y_pred).ravel()\n",
    "\n",
    "        acc = (tp + tn) / sum([tn, fp, fn, tp])\n",
    "\n",
    "        sensitivity = tp / sum([tp, fn])\n",
    "        specificity = tn / sum([tn, fp])\n",
    "\n",
    "        prc_auc = prc_auc_score(y_true, y_score)\n",
    "        roc_auc = roc_auc_score(y_true, y_score)\n",
    "\n",
    "        precision = tp / sum([tp, fp])\n",
    "        recall =  tp / sum([tp, fn]) #equals to sensitivity\n",
    "\n",
    "\n",
    "        res = {'train_country': train_country,\n",
    "               'test_country':test_country,\n",
    "\n",
    "               'accuracy':acc, \n",
    "\n",
    "               'prc_auc':prc_auc, \n",
    "               'roc_auc':roc_auc,\n",
    "\n",
    "               'sensitivity': sensitivity, \n",
    "               'specificity': specificity,\n",
    "\n",
    "               'precision':precision,\n",
    "               'recall':recall,\n",
    "              }\n",
    "\n",
    "        run_all.append(res)"
   ]
  },
  {
   "cell_type": "code",
   "execution_count": 175,
   "metadata": {},
   "outputs": [
    {
     "data": {
      "text/plain": [
       "323138"
      ]
     },
     "execution_count": 175,
     "metadata": {},
     "output_type": "execute_result"
    }
   ],
   "source": [
    "clf._model.count_params()"
   ]
  },
  {
   "cell_type": "code",
   "execution_count": 200,
   "metadata": {},
   "outputs": [
    {
     "data": {
      "text/html": [
       "<div>\n",
       "<style scoped>\n",
       "    .dataframe tbody tr th:only-of-type {\n",
       "        vertical-align: middle;\n",
       "    }\n",
       "\n",
       "    .dataframe tbody tr th {\n",
       "        vertical-align: top;\n",
       "    }\n",
       "\n",
       "    .dataframe thead th {\n",
       "        text-align: right;\n",
       "    }\n",
       "</style>\n",
       "<table border=\"1\" class=\"dataframe\">\n",
       "  <thead>\n",
       "    <tr style=\"text-align: right;\">\n",
       "      <th></th>\n",
       "      <th>train_country</th>\n",
       "      <th>test_country</th>\n",
       "      <th>accuracy</th>\n",
       "      <th>prc_auc</th>\n",
       "      <th>roc_auc</th>\n",
       "      <th>sensitivity</th>\n",
       "      <th>specificity</th>\n",
       "      <th>precision</th>\n",
       "      <th>recall</th>\n",
       "    </tr>\n",
       "  </thead>\n",
       "  <tbody>\n",
       "    <tr>\n",
       "      <td>0</td>\n",
       "      <td>AUS</td>\n",
       "      <td>AUS</td>\n",
       "      <td>1.000000</td>\n",
       "      <td>1.000000</td>\n",
       "      <td>1.000000</td>\n",
       "      <td>1.000000</td>\n",
       "      <td>1.000000</td>\n",
       "      <td>1.000000</td>\n",
       "      <td>1.000000</td>\n",
       "    </tr>\n",
       "    <tr>\n",
       "      <td>1</td>\n",
       "      <td>AUS</td>\n",
       "      <td>CHI</td>\n",
       "      <td>0.656250</td>\n",
       "      <td>0.788183</td>\n",
       "      <td>0.701201</td>\n",
       "      <td>0.635135</td>\n",
       "      <td>0.685185</td>\n",
       "      <td>0.734375</td>\n",
       "      <td>0.635135</td>\n",
       "    </tr>\n",
       "    <tr>\n",
       "      <td>2</td>\n",
       "      <td>AUS</td>\n",
       "      <td>FRA</td>\n",
       "      <td>0.640351</td>\n",
       "      <td>0.712288</td>\n",
       "      <td>0.725023</td>\n",
       "      <td>0.641509</td>\n",
       "      <td>0.639344</td>\n",
       "      <td>0.607143</td>\n",
       "      <td>0.641509</td>\n",
       "    </tr>\n",
       "    <tr>\n",
       "      <td>3</td>\n",
       "      <td>AUS</td>\n",
       "      <td>GER</td>\n",
       "      <td>0.750000</td>\n",
       "      <td>0.854516</td>\n",
       "      <td>0.827222</td>\n",
       "      <td>0.733333</td>\n",
       "      <td>0.766667</td>\n",
       "      <td>0.758621</td>\n",
       "      <td>0.733333</td>\n",
       "    </tr>\n",
       "    <tr>\n",
       "      <td>4</td>\n",
       "      <td>AUS</td>\n",
       "      <td>USA</td>\n",
       "      <td>0.711538</td>\n",
       "      <td>0.794221</td>\n",
       "      <td>0.762944</td>\n",
       "      <td>0.750000</td>\n",
       "      <td>0.673077</td>\n",
       "      <td>0.696429</td>\n",
       "      <td>0.750000</td>\n",
       "    </tr>\n",
       "    <tr>\n",
       "      <td>5</td>\n",
       "      <td>CHI</td>\n",
       "      <td>AUS</td>\n",
       "      <td>0.660550</td>\n",
       "      <td>0.739672</td>\n",
       "      <td>0.760524</td>\n",
       "      <td>0.717391</td>\n",
       "      <td>0.619048</td>\n",
       "      <td>0.578947</td>\n",
       "      <td>0.717391</td>\n",
       "    </tr>\n",
       "    <tr>\n",
       "      <td>6</td>\n",
       "      <td>CHI</td>\n",
       "      <td>CHI</td>\n",
       "      <td>1.000000</td>\n",
       "      <td>1.000000</td>\n",
       "      <td>1.000000</td>\n",
       "      <td>1.000000</td>\n",
       "      <td>1.000000</td>\n",
       "      <td>1.000000</td>\n",
       "      <td>1.000000</td>\n",
       "    </tr>\n",
       "    <tr>\n",
       "      <td>7</td>\n",
       "      <td>CHI</td>\n",
       "      <td>FRA</td>\n",
       "      <td>0.666667</td>\n",
       "      <td>0.744154</td>\n",
       "      <td>0.762140</td>\n",
       "      <td>0.716981</td>\n",
       "      <td>0.622951</td>\n",
       "      <td>0.622951</td>\n",
       "      <td>0.716981</td>\n",
       "    </tr>\n",
       "    <tr>\n",
       "      <td>8</td>\n",
       "      <td>CHI</td>\n",
       "      <td>GER</td>\n",
       "      <td>0.783333</td>\n",
       "      <td>0.852679</td>\n",
       "      <td>0.865556</td>\n",
       "      <td>0.700000</td>\n",
       "      <td>0.866667</td>\n",
       "      <td>0.840000</td>\n",
       "      <td>0.700000</td>\n",
       "    </tr>\n",
       "    <tr>\n",
       "      <td>9</td>\n",
       "      <td>CHI</td>\n",
       "      <td>USA</td>\n",
       "      <td>0.682692</td>\n",
       "      <td>0.715291</td>\n",
       "      <td>0.730769</td>\n",
       "      <td>0.750000</td>\n",
       "      <td>0.615385</td>\n",
       "      <td>0.661017</td>\n",
       "      <td>0.750000</td>\n",
       "    </tr>\n",
       "    <tr>\n",
       "      <td>10</td>\n",
       "      <td>FRA</td>\n",
       "      <td>AUS</td>\n",
       "      <td>0.715596</td>\n",
       "      <td>0.812323</td>\n",
       "      <td>0.845411</td>\n",
       "      <td>0.369565</td>\n",
       "      <td>0.968254</td>\n",
       "      <td>0.894737</td>\n",
       "      <td>0.369565</td>\n",
       "    </tr>\n",
       "    <tr>\n",
       "      <td>11</td>\n",
       "      <td>FRA</td>\n",
       "      <td>CHI</td>\n",
       "      <td>0.703125</td>\n",
       "      <td>0.841768</td>\n",
       "      <td>0.816316</td>\n",
       "      <td>0.621622</td>\n",
       "      <td>0.814815</td>\n",
       "      <td>0.821429</td>\n",
       "      <td>0.621622</td>\n",
       "    </tr>\n",
       "    <tr>\n",
       "      <td>12</td>\n",
       "      <td>FRA</td>\n",
       "      <td>FRA</td>\n",
       "      <td>1.000000</td>\n",
       "      <td>1.000000</td>\n",
       "      <td>1.000000</td>\n",
       "      <td>1.000000</td>\n",
       "      <td>1.000000</td>\n",
       "      <td>1.000000</td>\n",
       "      <td>1.000000</td>\n",
       "    </tr>\n",
       "    <tr>\n",
       "      <td>13</td>\n",
       "      <td>FRA</td>\n",
       "      <td>GER</td>\n",
       "      <td>0.683333</td>\n",
       "      <td>0.831193</td>\n",
       "      <td>0.832500</td>\n",
       "      <td>0.500000</td>\n",
       "      <td>0.866667</td>\n",
       "      <td>0.789474</td>\n",
       "      <td>0.500000</td>\n",
       "    </tr>\n",
       "    <tr>\n",
       "      <td>14</td>\n",
       "      <td>FRA</td>\n",
       "      <td>USA</td>\n",
       "      <td>0.596154</td>\n",
       "      <td>0.664250</td>\n",
       "      <td>0.703402</td>\n",
       "      <td>0.403846</td>\n",
       "      <td>0.788462</td>\n",
       "      <td>0.656250</td>\n",
       "      <td>0.403846</td>\n",
       "    </tr>\n",
       "    <tr>\n",
       "      <td>15</td>\n",
       "      <td>GER</td>\n",
       "      <td>AUS</td>\n",
       "      <td>0.614679</td>\n",
       "      <td>0.751301</td>\n",
       "      <td>0.765010</td>\n",
       "      <td>0.782609</td>\n",
       "      <td>0.492063</td>\n",
       "      <td>0.529412</td>\n",
       "      <td>0.782609</td>\n",
       "    </tr>\n",
       "    <tr>\n",
       "      <td>16</td>\n",
       "      <td>GER</td>\n",
       "      <td>CHI</td>\n",
       "      <td>0.710938</td>\n",
       "      <td>0.829634</td>\n",
       "      <td>0.811562</td>\n",
       "      <td>0.864865</td>\n",
       "      <td>0.500000</td>\n",
       "      <td>0.703297</td>\n",
       "      <td>0.864865</td>\n",
       "    </tr>\n",
       "    <tr>\n",
       "      <td>17</td>\n",
       "      <td>GER</td>\n",
       "      <td>FRA</td>\n",
       "      <td>0.649123</td>\n",
       "      <td>0.737632</td>\n",
       "      <td>0.748531</td>\n",
       "      <td>0.792453</td>\n",
       "      <td>0.524590</td>\n",
       "      <td>0.591549</td>\n",
       "      <td>0.792453</td>\n",
       "    </tr>\n",
       "    <tr>\n",
       "      <td>18</td>\n",
       "      <td>GER</td>\n",
       "      <td>GER</td>\n",
       "      <td>1.000000</td>\n",
       "      <td>1.000000</td>\n",
       "      <td>1.000000</td>\n",
       "      <td>1.000000</td>\n",
       "      <td>1.000000</td>\n",
       "      <td>1.000000</td>\n",
       "      <td>1.000000</td>\n",
       "    </tr>\n",
       "    <tr>\n",
       "      <td>19</td>\n",
       "      <td>GER</td>\n",
       "      <td>USA</td>\n",
       "      <td>0.653846</td>\n",
       "      <td>0.759499</td>\n",
       "      <td>0.761464</td>\n",
       "      <td>0.769231</td>\n",
       "      <td>0.538462</td>\n",
       "      <td>0.625000</td>\n",
       "      <td>0.769231</td>\n",
       "    </tr>\n",
       "    <tr>\n",
       "      <td>20</td>\n",
       "      <td>USA</td>\n",
       "      <td>AUS</td>\n",
       "      <td>0.743119</td>\n",
       "      <td>0.773826</td>\n",
       "      <td>0.797447</td>\n",
       "      <td>0.695652</td>\n",
       "      <td>0.777778</td>\n",
       "      <td>0.695652</td>\n",
       "      <td>0.695652</td>\n",
       "    </tr>\n",
       "    <tr>\n",
       "      <td>21</td>\n",
       "      <td>USA</td>\n",
       "      <td>CHI</td>\n",
       "      <td>0.671875</td>\n",
       "      <td>0.781515</td>\n",
       "      <td>0.719219</td>\n",
       "      <td>0.716216</td>\n",
       "      <td>0.611111</td>\n",
       "      <td>0.716216</td>\n",
       "      <td>0.716216</td>\n",
       "    </tr>\n",
       "    <tr>\n",
       "      <td>22</td>\n",
       "      <td>USA</td>\n",
       "      <td>FRA</td>\n",
       "      <td>0.631579</td>\n",
       "      <td>0.623098</td>\n",
       "      <td>0.657903</td>\n",
       "      <td>0.622642</td>\n",
       "      <td>0.639344</td>\n",
       "      <td>0.600000</td>\n",
       "      <td>0.622642</td>\n",
       "    </tr>\n",
       "    <tr>\n",
       "      <td>23</td>\n",
       "      <td>USA</td>\n",
       "      <td>GER</td>\n",
       "      <td>0.733333</td>\n",
       "      <td>0.774225</td>\n",
       "      <td>0.809722</td>\n",
       "      <td>0.666667</td>\n",
       "      <td>0.800000</td>\n",
       "      <td>0.769231</td>\n",
       "      <td>0.666667</td>\n",
       "    </tr>\n",
       "    <tr>\n",
       "      <td>24</td>\n",
       "      <td>USA</td>\n",
       "      <td>USA</td>\n",
       "      <td>1.000000</td>\n",
       "      <td>1.000000</td>\n",
       "      <td>1.000000</td>\n",
       "      <td>1.000000</td>\n",
       "      <td>1.000000</td>\n",
       "      <td>1.000000</td>\n",
       "      <td>1.000000</td>\n",
       "    </tr>\n",
       "  </tbody>\n",
       "</table>\n",
       "</div>"
      ],
      "text/plain": [
       "   train_country test_country  accuracy   prc_auc   roc_auc  sensitivity  \\\n",
       "0            AUS          AUS  1.000000  1.000000  1.000000     1.000000   \n",
       "1            AUS          CHI  0.656250  0.788183  0.701201     0.635135   \n",
       "2            AUS          FRA  0.640351  0.712288  0.725023     0.641509   \n",
       "3            AUS          GER  0.750000  0.854516  0.827222     0.733333   \n",
       "4            AUS          USA  0.711538  0.794221  0.762944     0.750000   \n",
       "5            CHI          AUS  0.660550  0.739672  0.760524     0.717391   \n",
       "6            CHI          CHI  1.000000  1.000000  1.000000     1.000000   \n",
       "7            CHI          FRA  0.666667  0.744154  0.762140     0.716981   \n",
       "8            CHI          GER  0.783333  0.852679  0.865556     0.700000   \n",
       "9            CHI          USA  0.682692  0.715291  0.730769     0.750000   \n",
       "10           FRA          AUS  0.715596  0.812323  0.845411     0.369565   \n",
       "11           FRA          CHI  0.703125  0.841768  0.816316     0.621622   \n",
       "12           FRA          FRA  1.000000  1.000000  1.000000     1.000000   \n",
       "13           FRA          GER  0.683333  0.831193  0.832500     0.500000   \n",
       "14           FRA          USA  0.596154  0.664250  0.703402     0.403846   \n",
       "15           GER          AUS  0.614679  0.751301  0.765010     0.782609   \n",
       "16           GER          CHI  0.710938  0.829634  0.811562     0.864865   \n",
       "17           GER          FRA  0.649123  0.737632  0.748531     0.792453   \n",
       "18           GER          GER  1.000000  1.000000  1.000000     1.000000   \n",
       "19           GER          USA  0.653846  0.759499  0.761464     0.769231   \n",
       "20           USA          AUS  0.743119  0.773826  0.797447     0.695652   \n",
       "21           USA          CHI  0.671875  0.781515  0.719219     0.716216   \n",
       "22           USA          FRA  0.631579  0.623098  0.657903     0.622642   \n",
       "23           USA          GER  0.733333  0.774225  0.809722     0.666667   \n",
       "24           USA          USA  1.000000  1.000000  1.000000     1.000000   \n",
       "\n",
       "    specificity  precision    recall  \n",
       "0      1.000000   1.000000  1.000000  \n",
       "1      0.685185   0.734375  0.635135  \n",
       "2      0.639344   0.607143  0.641509  \n",
       "3      0.766667   0.758621  0.733333  \n",
       "4      0.673077   0.696429  0.750000  \n",
       "5      0.619048   0.578947  0.717391  \n",
       "6      1.000000   1.000000  1.000000  \n",
       "7      0.622951   0.622951  0.716981  \n",
       "8      0.866667   0.840000  0.700000  \n",
       "9      0.615385   0.661017  0.750000  \n",
       "10     0.968254   0.894737  0.369565  \n",
       "11     0.814815   0.821429  0.621622  \n",
       "12     1.000000   1.000000  1.000000  \n",
       "13     0.866667   0.789474  0.500000  \n",
       "14     0.788462   0.656250  0.403846  \n",
       "15     0.492063   0.529412  0.782609  \n",
       "16     0.500000   0.703297  0.864865  \n",
       "17     0.524590   0.591549  0.792453  \n",
       "18     1.000000   1.000000  1.000000  \n",
       "19     0.538462   0.625000  0.769231  \n",
       "20     0.777778   0.695652  0.695652  \n",
       "21     0.611111   0.716216  0.716216  \n",
       "22     0.639344   0.600000  0.622642  \n",
       "23     0.800000   0.769231  0.666667  \n",
       "24     1.000000   1.000000  1.000000  "
      ]
     },
     "execution_count": 200,
     "metadata": {},
     "output_type": "execute_result"
    }
   ],
   "source": [
    "df = pd.DataFrame(run_all)\n",
    "df.to_csv('./run_all.csv')\n",
    "df"
   ]
  },
  {
   "cell_type": "code",
   "execution_count": 245,
   "metadata": {},
   "outputs": [],
   "source": [
    "dfres = pd.crosstab(index = df.train_country, columns= df.test_country, values= df.roc_auc, aggfunc = np.mean)"
   ]
  },
  {
   "cell_type": "code",
   "execution_count": 246,
   "metadata": {},
   "outputs": [],
   "source": [
    "dfres.to_excel('study2study_results_ROC.xlsx')"
   ]
  },
  {
   "cell_type": "code",
   "execution_count": 247,
   "metadata": {},
   "outputs": [],
   "source": [
    "cols = ['FRA', 'AUS', 'CHI', 'USA', 'GER']"
   ]
  },
  {
   "cell_type": "code",
   "execution_count": 248,
   "metadata": {},
   "outputs": [
    {
     "data": {
      "text/html": [
       "<div>\n",
       "<style scoped>\n",
       "    .dataframe tbody tr th:only-of-type {\n",
       "        vertical-align: middle;\n",
       "    }\n",
       "\n",
       "    .dataframe tbody tr th {\n",
       "        vertical-align: top;\n",
       "    }\n",
       "\n",
       "    .dataframe thead th {\n",
       "        text-align: right;\n",
       "    }\n",
       "</style>\n",
       "<table border=\"1\" class=\"dataframe\">\n",
       "  <thead>\n",
       "    <tr style=\"text-align: right;\">\n",
       "      <th>test_country</th>\n",
       "      <th>FRA</th>\n",
       "      <th>AUS</th>\n",
       "      <th>CHI</th>\n",
       "      <th>USA</th>\n",
       "      <th>GER</th>\n",
       "    </tr>\n",
       "    <tr>\n",
       "      <th>train_country</th>\n",
       "      <th></th>\n",
       "      <th></th>\n",
       "      <th></th>\n",
       "      <th></th>\n",
       "      <th></th>\n",
       "    </tr>\n",
       "  </thead>\n",
       "  <tbody>\n",
       "    <tr>\n",
       "      <td>FRA</td>\n",
       "      <td>1.00</td>\n",
       "      <td>0.85</td>\n",
       "      <td>0.82</td>\n",
       "      <td>0.70</td>\n",
       "      <td>0.83</td>\n",
       "    </tr>\n",
       "    <tr>\n",
       "      <td>AUS</td>\n",
       "      <td>0.73</td>\n",
       "      <td>1.00</td>\n",
       "      <td>0.70</td>\n",
       "      <td>0.76</td>\n",
       "      <td>0.83</td>\n",
       "    </tr>\n",
       "    <tr>\n",
       "      <td>CHI</td>\n",
       "      <td>0.76</td>\n",
       "      <td>0.76</td>\n",
       "      <td>1.00</td>\n",
       "      <td>0.73</td>\n",
       "      <td>0.87</td>\n",
       "    </tr>\n",
       "    <tr>\n",
       "      <td>USA</td>\n",
       "      <td>0.66</td>\n",
       "      <td>0.80</td>\n",
       "      <td>0.72</td>\n",
       "      <td>1.00</td>\n",
       "      <td>0.81</td>\n",
       "    </tr>\n",
       "    <tr>\n",
       "      <td>GER</td>\n",
       "      <td>0.75</td>\n",
       "      <td>0.77</td>\n",
       "      <td>0.81</td>\n",
       "      <td>0.76</td>\n",
       "      <td>1.00</td>\n",
       "    </tr>\n",
       "  </tbody>\n",
       "</table>\n",
       "</div>"
      ],
      "text/plain": [
       "test_country    FRA   AUS   CHI   USA   GER\n",
       "train_country                              \n",
       "FRA            1.00  0.85  0.82  0.70  0.83\n",
       "AUS            0.73  1.00  0.70  0.76  0.83\n",
       "CHI            0.76  0.76  1.00  0.73  0.87\n",
       "USA            0.66  0.80  0.72  1.00  0.81\n",
       "GER            0.75  0.77  0.81  0.76  1.00"
      ]
     },
     "execution_count": 248,
     "metadata": {},
     "output_type": "execute_result"
    }
   ],
   "source": [
    "ourmodel_df = dfres[cols].loc[cols].round(2)\n",
    "ourmodel_df"
   ]
  },
  {
   "cell_type": "code",
   "execution_count": 249,
   "metadata": {},
   "outputs": [
    {
     "data": {
      "text/html": [
       "<div>\n",
       "<style scoped>\n",
       "    .dataframe tbody tr th:only-of-type {\n",
       "        vertical-align: middle;\n",
       "    }\n",
       "\n",
       "    .dataframe tbody tr th {\n",
       "        vertical-align: top;\n",
       "    }\n",
       "\n",
       "    .dataframe thead th {\n",
       "        text-align: right;\n",
       "    }\n",
       "</style>\n",
       "<table border=\"1\" class=\"dataframe\">\n",
       "  <thead>\n",
       "    <tr style=\"text-align: right;\">\n",
       "      <th>test_country</th>\n",
       "      <th>FRA</th>\n",
       "      <th>AUS</th>\n",
       "      <th>CHI</th>\n",
       "      <th>USA</th>\n",
       "      <th>GER</th>\n",
       "    </tr>\n",
       "    <tr>\n",
       "      <th>train_country</th>\n",
       "      <th></th>\n",
       "      <th></th>\n",
       "      <th></th>\n",
       "      <th></th>\n",
       "      <th></th>\n",
       "    </tr>\n",
       "  </thead>\n",
       "  <tbody>\n",
       "    <tr>\n",
       "      <td>FRA</td>\n",
       "      <td>0.85</td>\n",
       "      <td>0.76</td>\n",
       "      <td>0.82</td>\n",
       "      <td>0.64</td>\n",
       "      <td>0.83</td>\n",
       "    </tr>\n",
       "    <tr>\n",
       "      <td>AUS</td>\n",
       "      <td>0.62</td>\n",
       "      <td>0.92</td>\n",
       "      <td>0.74</td>\n",
       "      <td>0.59</td>\n",
       "      <td>0.65</td>\n",
       "    </tr>\n",
       "    <tr>\n",
       "      <td>CHI</td>\n",
       "      <td>0.82</td>\n",
       "      <td>0.76</td>\n",
       "      <td>0.81</td>\n",
       "      <td>0.67</td>\n",
       "      <td>0.83</td>\n",
       "    </tr>\n",
       "    <tr>\n",
       "      <td>USA</td>\n",
       "      <td>0.76</td>\n",
       "      <td>0.78</td>\n",
       "      <td>0.70</td>\n",
       "      <td>0.74</td>\n",
       "      <td>0.79</td>\n",
       "    </tr>\n",
       "    <tr>\n",
       "      <td>GER</td>\n",
       "      <td>0.84</td>\n",
       "      <td>0.79</td>\n",
       "      <td>0.88</td>\n",
       "      <td>0.74</td>\n",
       "      <td>0.79</td>\n",
       "    </tr>\n",
       "  </tbody>\n",
       "</table>\n",
       "</div>"
      ],
      "text/plain": [
       "test_country    FRA   AUS   CHI   USA   GER\n",
       "train_country                              \n",
       "FRA            0.85  0.76  0.82  0.64  0.83\n",
       "AUS            0.62  0.92  0.74  0.59  0.65\n",
       "CHI            0.82  0.76  0.81  0.67  0.83\n",
       "USA            0.76  0.78  0.70  0.74  0.79\n",
       "GER            0.84  0.79  0.88  0.74  0.79"
      ]
     },
     "execution_count": 249,
     "metadata": {},
     "output_type": "execute_result"
    }
   ],
   "source": [
    "y = \"\"\"0.85 0.76 0.82 0.64 0.83\n",
    "0.62 0.92 0.74 0.59 0.65\n",
    "0.82 0.76 0.81 0.67 0.83\n",
    "0.76 0.78 0.70 0.74 0.79\n",
    "0.84 0.79 0.88 0.74 0.79\"\"\" \n",
    "# from paper of : Meta-analysis of fecal metagenomes reveals global microbial signatures that are specific for colorectal cancer\n",
    "previous_df = pd.DataFrame([i.split(' ') for i in y.split('\\n')], columns = ourmodel_df.columns, index = ourmodel_df.index).astype(float)\n",
    "previous_df"
   ]
  },
  {
   "cell_type": "code",
   "execution_count": 250,
   "metadata": {},
   "outputs": [],
   "source": [
    "def get_non_diag_mean(df):\n",
    "    v = df.values.copy()\n",
    "    \n",
    "    np.fill_diagonal(v, np.nan)\n",
    "    \n",
    "    mean =  pd.DataFrame(v, columns = df.columns, index = df.index).mean(axis=1).round(2)\n",
    "    std = pd.DataFrame(v, columns = df.columns, index = df.index).std(axis=1).round(2)\n",
    "    return mean,std"
   ]
  },
  {
   "cell_type": "code",
   "execution_count": 251,
   "metadata": {},
   "outputs": [
    {
     "data": {
      "text/plain": [
       "0.7500000000000001"
      ]
     },
     "execution_count": 251,
     "metadata": {},
     "output_type": "execute_result"
    }
   ],
   "source": [
    "get_non_diag_mean(previous_df)[0].mean()"
   ]
  },
  {
   "cell_type": "code",
   "execution_count": 252,
   "metadata": {},
   "outputs": [
    {
     "data": {
      "text/plain": [
       "0.772"
      ]
     },
     "execution_count": 252,
     "metadata": {},
     "output_type": "execute_result"
    }
   ],
   "source": [
    "get_non_diag_mean(ourmodel_df)[0].mean()"
   ]
  },
  {
   "cell_type": "code",
   "execution_count": 330,
   "metadata": {},
   "outputs": [
    {
     "data": {
      "image/png": "[encoded data removed]",
      "text/plain": [
       "<Figure size 720x432 with 1 Axes>"
      ]
     },
     "metadata": {},
     "output_type": "display_data"
    }
   ],
   "source": [
    "sns.set(style = 'white', font_scale=1.2)\n",
    "\n",
    "fig, ax = plt.subplots(nrows=1, ncols=1, figsize=(10,6), sharex = True, sharey = True)\n",
    "\n",
    "y1 = get_non_diag_mean(previous_df)[0].to_frame(name = 'LASSO')\n",
    "y2 = get_non_diag_mean(ourmodel_df)[0].to_frame(name = 'AggMapNet')\n",
    "\n",
    "y1_err = get_non_diag_mean(previous_df)[1].to_frame(name = 'LASSO')\n",
    "y2_err = get_non_diag_mean(ourmodel_df)[1].to_frame(name = 'AggMapNet')\n",
    "\n",
    "y = y1.join(y2)\n",
    "y_err = y1_err.join(y2_err)\n",
    "\n",
    "color = sns.color_palette(\"rainbow_r\", 5) #PiYG\n",
    "\n",
    "y.plot(kind = 'bar',ax = ax, color = color, yerr= y_err,ylim = (0.5, 0.96), error_kw=dict(ecolor='gray', lw=2, capsize=6, capthick=2))\n",
    "ax.set_ylabel('ROC-AUC')\n",
    "ax.set_xlabel('Train_country')\n",
    "\n",
    "\n",
    "for x_, y_ in enumerate(y.LASSO.values):\n",
    "    ax.annotate('%.2f' % y_, xy = (x_-0.33, y_+0.002), fontsize =10)\n",
    "\n",
    "for  x_, y_ in enumerate(y.AggMapNet.values):\n",
    "    ax.annotate('%.2f' % y_, xy = (x_+0.13, y_+0.002), fontsize =10)\n",
    "    \n",
    "ax.set_xticklabels(labels = y.index,rotation=45, ha = 'right')\n",
    "\n",
    "    \n",
    "fig.savefig('./CRC_performance_comparasion_mean.png', bbox_inches='tight', dpi=300) "
   ]
  },
  {
   "cell_type": "code",
   "execution_count": null,
   "metadata": {},
   "outputs": [],
   "source": []
  },
  {
   "cell_type": "code",
   "execution_count": 300,
   "metadata": {},
   "outputs": [
    {
     "data": {
      "image/png": "[encoded data removed]",
      "text/plain": [
       "<Figure size 1008x288 with 4 Axes>"
      ]
     },
     "metadata": {},
     "output_type": "display_data"
    }
   ],
   "source": [
    "fig, axes = plt.subplots(nrows=1, ncols=2, figsize=(14,4),)\n",
    "\n",
    "ax2, ax1 = axes\n",
    "\n",
    "sns.heatmap( ourmodel_df.round(2), cmap = 'Greens',  ax = ax1, annot=True,  vmin = 0.6, vmax = 0.9)\n",
    "ax1.set_title(\"Peformance in AggMapNet\")\n",
    "\n",
    "sns.heatmap(previous_df.round(2), cmap = 'Greens',  ax = ax2, annot=True, vmin = 0.6, vmax = 0.9)\n",
    "ax2.set_title(\"Peformance in LASSO\")\n",
    "ax2.set_ylabel('Train_country')\n",
    "\n",
    "\n",
    "fig.savefig('./CRC_performance_comparasion_all.png', bbox_inches='tight', dpi=300) "
   ]
  },
  {
   "cell_type": "code",
   "execution_count": null,
   "metadata": {},
   "outputs": [],
   "source": []
  },
  {
   "cell_type": "code",
   "execution_count": null,
   "metadata": {},
   "outputs": [],
   "source": []
  },
  {
   "cell_type": "code",
   "execution_count": null,
   "metadata": {},
   "outputs": [],
   "source": []
  },
  {
   "cell_type": "code",
   "execution_count": null,
   "metadata": {},
   "outputs": [],
   "source": []
  },
  {
   "cell_type": "code",
   "execution_count": null,
   "metadata": {},
   "outputs": [],
   "source": []
  }
 ],
 "metadata": {
  "kernelspec": {
   "display_name": "Python 3",
   "language": "python",
   "name": "python3"
  },
  "language_info": {
   "codemirror_mode": {
    "name": "ipython",
    "version": 3
   },
   "file_extension": ".py",
   "mimetype": "text/x-python",
   "name": "python",
   "nbconvert_exporter": "python",
   "pygments_lexer": "ipython3",
   "version": "3.7.6"
  }
 },
 "nbformat": 4,
 "nbformat_minor": 4
}
