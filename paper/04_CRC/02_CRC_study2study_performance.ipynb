{
 "cells": [
  {
   "cell_type": "code",
   "execution_count": 15,
   "metadata": {},
   "outputs": [],
   "source": [
    "import warnings, os\n",
    "warnings.filterwarnings(\"ignore\")\n",
    "\n",
    "\n",
    "import pandas as pd\n",
    "import numpy as np\n",
    "\n",
    "from sklearn.model_selection import KFold, StratifiedKFold\n",
    "from sklearn.metrics import confusion_matrix, precision_recall_curve, roc_auc_score\n",
    "from sklearn.metrics import auc as calculate_auc\n",
    "\n",
    "import matplotlib.pyplot as plt\n",
    "import seaborn as sns\n",
    "\n",
    "from aggmap import AggMap, AggModel\n",
    "\n",
    "np.random.seed(666) #just for reaptable results\n",
    "\n",
    "def prc_auc_score(y_true, y_score):\n",
    "    precision, recall, threshold  = precision_recall_curve(y_true, y_score) #PRC_AUC\n",
    "    auc = calculate_auc(recall, precision)\n",
    "    return auc"
   ]
  },
  {
   "cell_type": "code",
   "execution_count": 16,
   "metadata": {},
   "outputs": [],
   "source": [
    "dfx = pd.read_excel('./CRC.xlsx', sheet_name='data')\n",
    "dfx = dfx[dfx.columns[1:]]\n",
    "dfx = np.log(dfx + 1e-8)\n",
    "\n",
    "feature_groups_df = pd.read_excel('./CRC.xlsx', sheet_name='feature_info')\n",
    "feature_group_list = feature_groups_df.Group.tolist()\n",
    "\n",
    "dfy_all = pd.read_excel('./CRC.xlsx', sheet_name='sample_info')\n",
    "dfy = pd.get_dummies(dfy_all['Group'])\n",
    "\n",
    "\n",
    "\n",
    "X = dfx.values.astype(float)\n",
    "Y = dfy.values.astype(float)\n"
   ]
  },
  {
   "cell_type": "code",
   "execution_count": 17,
   "metadata": {},
   "outputs": [],
   "source": [
    "model_save_path = './model'\n",
    "if not os.path.exists(model_save_path):\n",
    "    os.makedirs(model_save_path)"
   ]
  },
  {
   "cell_type": "code",
   "execution_count": 4,
   "metadata": {},
   "outputs": [
    {
     "name": "stdout",
     "output_type": "stream",
     "text": [
      "2020-10-14 18:12:47,531 - \u001b[32mINFO\u001b[0m - [bidd-aggmap]\u001b[0m - Calculating distance ...\u001b[0m\n",
      "2020-10-14 18:12:47,576 - \u001b[32mINFO\u001b[0m - [bidd-aggmap]\u001b[0m - the number of process is 16\u001b[0m\n"
     ]
    },
    {
     "name": "stderr",
     "output_type": "stream",
     "text": [
      "100%|##########| 359976/359976 [00:11<00:00, 31774.53it/s]\n",
      "100%|##########| 359976/359976 [00:00<00:00, 1740598.13it/s]\n",
      "100%|##########| 849/849 [00:01<00:00, 797.40it/s]\n"
     ]
    },
    {
     "name": "stdout",
     "output_type": "stream",
     "text": [
      "2020-10-14 18:13:00,429 - \u001b[32mINFO\u001b[0m - [bidd-aggmap]\u001b[0m - applying hierarchical clustering to obtain group information ...\u001b[0m\n",
      "2020-10-14 18:13:05,341 - \u001b[32mINFO\u001b[0m - [bidd-aggmap]\u001b[0m - Applying grid feature map(assignment), this may take several minutes(1~30 min)\u001b[0m\n",
      "2020-10-14 18:13:06,771 - \u001b[32mINFO\u001b[0m - [bidd-aggmap]\u001b[0m - Finished\u001b[0m\n"
     ]
    },
    {
     "data": {
      "text/plain": [
       "['./model/aggmap.mp']"
      ]
     },
     "execution_count": 4,
     "metadata": {},
     "output_type": "execute_result"
    }
   ],
   "source": [
    "mp = AggMap(dfx, metric = 'correlation')\n",
    "mp.fit(cluster_channels = 5, verbose = 0)\n",
    "\n",
    "mp.save(os.path.join(model_save_path, 'aggmap.mp'))"
   ]
  },
  {
   "cell_type": "code",
   "execution_count": null,
   "metadata": {},
   "outputs": [],
   "source": []
  },
  {
   "cell_type": "markdown",
   "metadata": {},
   "source": [
    "## 5 countries to countries cross validation"
   ]
  },
  {
   "cell_type": "code",
   "execution_count": 18,
   "metadata": {},
   "outputs": [
    {
     "data": {
      "text/plain": [
       "Country\n",
       "AUS    [114, 115, 116, 117, 118, 119, 120, 121, 122, ...\n",
       "CHI    [223, 224, 225, 226, 227, 228, 229, 230, 231, ...\n",
       "FRA    [0, 1, 2, 3, 4, 5, 6, 7, 8, 9, 10, 11, 12, 13,...\n",
       "GER    [455, 456, 457, 458, 459, 460, 461, 462, 463, ...\n",
       "USA    [351, 352, 353, 354, 355, 356, 357, 358, 359, ...\n",
       "dtype: object"
      ]
     },
     "execution_count": 18,
     "metadata": {},
     "output_type": "execute_result"
    }
   ],
   "source": [
    "country_idx = dfy_all.groupby(['Country']).apply(lambda x:x.index.tolist())\n",
    "country_idx"
   ]
  },
  {
   "cell_type": "code",
   "execution_count": 19,
   "metadata": {},
   "outputs": [],
   "source": [
    "country_names = country_idx.index.tolist()"
   ]
  },
  {
   "cell_type": "code",
   "execution_count": 7,
   "metadata": {},
   "outputs": [
    {
     "name": "stderr",
     "output_type": "stream",
     "text": [
      "100%|##########| 109/109 [00:02<00:00, 39.73it/s]\n"
     ]
    },
    {
     "name": "stdout",
     "output_type": "stream",
     "text": [
      "MultiClassEstimator(batch_size=1, conv1_kernel_size=5, epochs=30, gpuid='1')\n"
     ]
    },
    {
     "name": "stderr",
     "output_type": "stream",
     "text": [
      "100%|##########| 109/109 [00:00<00:00, 507.43it/s]\n"
     ]
    },
    {
     "name": "stdout",
     "output_type": "stream",
     "text": [
      "\n",
      " input train and test X shape is (109, 30, 29, 5), (109, 30, 29, 5) \n"
     ]
    },
    {
     "name": "stderr",
     "output_type": "stream",
     "text": [
      "100%|##########| 128/128 [00:00<00:00, 634.33it/s]\n",
      "  0%|          | 0/114 [00:00<?, ?it/s]"
     ]
    },
    {
     "name": "stdout",
     "output_type": "stream",
     "text": [
      "\n",
      " input train and test X shape is (109, 30, 29, 5), (128, 30, 29, 5) \n"
     ]
    },
    {
     "name": "stderr",
     "output_type": "stream",
     "text": [
      "100%|##########| 114/114 [00:00<00:00, 519.46it/s]\n",
      "  0%|          | 0/120 [00:00<?, ?it/s]"
     ]
    },
    {
     "name": "stdout",
     "output_type": "stream",
     "text": [
      "\n",
      " input train and test X shape is (109, 30, 29, 5), (114, 30, 29, 5) \n"
     ]
    },
    {
     "name": "stderr",
     "output_type": "stream",
     "text": [
      "100%|##########| 120/120 [00:00<00:00, 569.72it/s]\n",
      "  0%|          | 0/104 [00:00<?, ?it/s]"
     ]
    },
    {
     "name": "stdout",
     "output_type": "stream",
     "text": [
      "\n",
      " input train and test X shape is (109, 30, 29, 5), (120, 30, 29, 5) \n"
     ]
    },
    {
     "name": "stderr",
     "output_type": "stream",
     "text": [
      "100%|##########| 104/104 [00:00<00:00, 575.80it/s]\n",
      "  0%|          | 0/128 [00:00<?, ?it/s]"
     ]
    },
    {
     "name": "stdout",
     "output_type": "stream",
     "text": [
      "\n",
      " input train and test X shape is (109, 30, 29, 5), (104, 30, 29, 5) \n"
     ]
    },
    {
     "name": "stderr",
     "output_type": "stream",
     "text": [
      "100%|##########| 128/128 [00:00<00:00, 608.45it/s]\n"
     ]
    },
    {
     "name": "stdout",
     "output_type": "stream",
     "text": [
      "MultiClassEstimator(batch_size=1, conv1_kernel_size=5, epochs=30, gpuid='1')\n"
     ]
    },
    {
     "name": "stderr",
     "output_type": "stream",
     "text": [
      "100%|##########| 109/109 [00:00<00:00, 424.63it/s]\n",
      "  0%|          | 0/128 [00:00<?, ?it/s]"
     ]
    },
    {
     "name": "stdout",
     "output_type": "stream",
     "text": [
      "\n",
      " input train and test X shape is (128, 30, 29, 5), (109, 30, 29, 5) \n"
     ]
    },
    {
     "name": "stderr",
     "output_type": "stream",
     "text": [
      "100%|##########| 128/128 [00:00<00:00, 623.89it/s]\n",
      " 51%|#####     | 58/114 [00:00<00:00, 536.94it/s]"
     ]
    },
    {
     "name": "stdout",
     "output_type": "stream",
     "text": [
      "\n",
      " input train and test X shape is (128, 30, 29, 5), (128, 30, 29, 5) \n"
     ]
    },
    {
     "name": "stderr",
     "output_type": "stream",
     "text": [
      "100%|##########| 114/114 [00:00<00:00, 607.12it/s]\n",
      "  0%|          | 0/120 [00:00<?, ?it/s]"
     ]
    },
    {
     "name": "stdout",
     "output_type": "stream",
     "text": [
      "\n",
      " input train and test X shape is (128, 30, 29, 5), (114, 30, 29, 5) \n"
     ]
    },
    {
     "name": "stderr",
     "output_type": "stream",
     "text": [
      "100%|##########| 120/120 [00:00<00:00, 575.09it/s]\n",
      " 56%|#####5    | 58/104 [00:00<00:00, 529.71it/s]"
     ]
    },
    {
     "name": "stdout",
     "output_type": "stream",
     "text": [
      "\n",
      " input train and test X shape is (128, 30, 29, 5), (120, 30, 29, 5) \n"
     ]
    },
    {
     "name": "stderr",
     "output_type": "stream",
     "text": [
      "100%|##########| 104/104 [00:00<00:00, 549.72it/s]\n",
      "  0%|          | 0/114 [00:00<?, ?it/s]"
     ]
    },
    {
     "name": "stdout",
     "output_type": "stream",
     "text": [
      "\n",
      " input train and test X shape is (128, 30, 29, 5), (104, 30, 29, 5) \n"
     ]
    },
    {
     "name": "stderr",
     "output_type": "stream",
     "text": [
      "100%|##########| 114/114 [00:00<00:00, 490.80it/s]\n"
     ]
    },
    {
     "name": "stdout",
     "output_type": "stream",
     "text": [
      "MultiClassEstimator(batch_size=1, conv1_kernel_size=5, epochs=30, gpuid='1')\n"
     ]
    },
    {
     "name": "stderr",
     "output_type": "stream",
     "text": [
      "100%|##########| 109/109 [00:00<00:00, 418.82it/s]\n",
      " 38%|###7      | 48/128 [00:00<00:00, 463.64it/s]"
     ]
    },
    {
     "name": "stdout",
     "output_type": "stream",
     "text": [
      "\n",
      " input train and test X shape is (114, 30, 29, 5), (109, 30, 29, 5) \n"
     ]
    },
    {
     "name": "stderr",
     "output_type": "stream",
     "text": [
      "100%|##########| 128/128 [00:00<00:00, 589.24it/s]\n",
      "  0%|          | 0/114 [00:00<?, ?it/s]"
     ]
    },
    {
     "name": "stdout",
     "output_type": "stream",
     "text": [
      "\n",
      " input train and test X shape is (114, 30, 29, 5), (128, 30, 29, 5) \n"
     ]
    },
    {
     "name": "stderr",
     "output_type": "stream",
     "text": [
      "100%|##########| 114/114 [00:00<00:00, 513.57it/s]\n",
      "  0%|          | 0/120 [00:00<?, ?it/s]"
     ]
    },
    {
     "name": "stdout",
     "output_type": "stream",
     "text": [
      "\n",
      " input train and test X shape is (114, 30, 29, 5), (114, 30, 29, 5) \n"
     ]
    },
    {
     "name": "stderr",
     "output_type": "stream",
     "text": [
      "100%|##########| 120/120 [00:00<00:00, 584.16it/s]\n",
      " 56%|#####5    | 58/104 [00:00<00:00, 526.65it/s]"
     ]
    },
    {
     "name": "stdout",
     "output_type": "stream",
     "text": [
      "\n",
      " input train and test X shape is (114, 30, 29, 5), (120, 30, 29, 5) \n"
     ]
    },
    {
     "name": "stderr",
     "output_type": "stream",
     "text": [
      "100%|##########| 104/104 [00:00<00:00, 548.09it/s]\n",
      " 40%|####      | 48/120 [00:00<00:00, 460.68it/s]"
     ]
    },
    {
     "name": "stdout",
     "output_type": "stream",
     "text": [
      "\n",
      " input train and test X shape is (114, 30, 29, 5), (104, 30, 29, 5) \n"
     ]
    },
    {
     "name": "stderr",
     "output_type": "stream",
     "text": [
      "100%|##########| 120/120 [00:00<00:00, 560.03it/s]\n"
     ]
    },
    {
     "name": "stdout",
     "output_type": "stream",
     "text": [
      "MultiClassEstimator(batch_size=1, conv1_kernel_size=5, epochs=30, gpuid='1')\n"
     ]
    },
    {
     "name": "stderr",
     "output_type": "stream",
     "text": [
      "100%|##########| 109/109 [00:00<00:00, 518.27it/s]\n",
      " 45%|####5     | 58/128 [00:00<00:00, 544.72it/s]"
     ]
    },
    {
     "name": "stdout",
     "output_type": "stream",
     "text": [
      "\n",
      " input train and test X shape is (120, 30, 29, 5), (109, 30, 29, 5) \n"
     ]
    },
    {
     "name": "stderr",
     "output_type": "stream",
     "text": [
      "100%|##########| 128/128 [00:00<00:00, 606.28it/s]\n",
      "  0%|          | 0/114 [00:00<?, ?it/s]"
     ]
    },
    {
     "name": "stdout",
     "output_type": "stream",
     "text": [
      "\n",
      " input train and test X shape is (120, 30, 29, 5), (128, 30, 29, 5) \n"
     ]
    },
    {
     "name": "stderr",
     "output_type": "stream",
     "text": [
      "100%|##########| 114/114 [00:00<00:00, 622.41it/s]\n",
      " 48%|####8     | 58/120 [00:00<00:00, 528.73it/s]"
     ]
    },
    {
     "name": "stdout",
     "output_type": "stream",
     "text": [
      "\n",
      " input train and test X shape is (120, 30, 29, 5), (114, 30, 29, 5) \n"
     ]
    },
    {
     "name": "stderr",
     "output_type": "stream",
     "text": [
      "100%|##########| 120/120 [00:00<00:00, 609.82it/s]\n",
      " 56%|#####5    | 58/104 [00:00<00:00, 532.29it/s]"
     ]
    },
    {
     "name": "stdout",
     "output_type": "stream",
     "text": [
      "\n",
      " input train and test X shape is (120, 30, 29, 5), (120, 30, 29, 5) \n"
     ]
    },
    {
     "name": "stderr",
     "output_type": "stream",
     "text": [
      "100%|##########| 104/104 [00:00<00:00, 569.35it/s]\n",
      " 46%|####6     | 48/104 [00:00<00:00, 429.51it/s]"
     ]
    },
    {
     "name": "stdout",
     "output_type": "stream",
     "text": [
      "\n",
      " input train and test X shape is (120, 30, 29, 5), (104, 30, 29, 5) \n"
     ]
    },
    {
     "name": "stderr",
     "output_type": "stream",
     "text": [
      "100%|##########| 104/104 [00:00<00:00, 503.61it/s]\n"
     ]
    },
    {
     "name": "stdout",
     "output_type": "stream",
     "text": [
      "MultiClassEstimator(batch_size=1, conv1_kernel_size=5, epochs=30, gpuid='1')\n"
     ]
    },
    {
     "name": "stderr",
     "output_type": "stream",
     "text": [
      "100%|##########| 109/109 [00:00<00:00, 469.51it/s]\n",
      "  0%|          | 0/128 [00:00<?, ?it/s]"
     ]
    },
    {
     "name": "stdout",
     "output_type": "stream",
     "text": [
      "\n",
      " input train and test X shape is (104, 30, 29, 5), (109, 30, 29, 5) \n"
     ]
    },
    {
     "name": "stderr",
     "output_type": "stream",
     "text": [
      "100%|##########| 128/128 [00:00<00:00, 576.39it/s]\n",
      "  0%|          | 0/114 [00:00<?, ?it/s]"
     ]
    },
    {
     "name": "stdout",
     "output_type": "stream",
     "text": [
      "\n",
      " input train and test X shape is (104, 30, 29, 5), (128, 30, 29, 5) \n"
     ]
    },
    {
     "name": "stderr",
     "output_type": "stream",
     "text": [
      "100%|##########| 114/114 [00:00<00:00, 618.78it/s]\n",
      "  0%|          | 0/120 [00:00<?, ?it/s]"
     ]
    },
    {
     "name": "stdout",
     "output_type": "stream",
     "text": [
      "\n",
      " input train and test X shape is (104, 30, 29, 5), (114, 30, 29, 5) \n"
     ]
    },
    {
     "name": "stderr",
     "output_type": "stream",
     "text": [
      "100%|##########| 120/120 [00:00<00:00, 578.57it/s]\n",
      " 56%|#####5    | 58/104 [00:00<00:00, 534.33it/s]"
     ]
    },
    {
     "name": "stdout",
     "output_type": "stream",
     "text": [
      "\n",
      " input train and test X shape is (104, 30, 29, 5), (120, 30, 29, 5) \n"
     ]
    },
    {
     "name": "stderr",
     "output_type": "stream",
     "text": [
      "100%|##########| 104/104 [00:00<00:00, 557.34it/s]\n"
     ]
    },
    {
     "name": "stdout",
     "output_type": "stream",
     "text": [
      "\n",
      " input train and test X shape is (104, 30, 29, 5), (104, 30, 29, 5) \n"
     ]
    }
   ],
   "source": [
    "#study to study transfer\n",
    "\n",
    "run_all = []\n",
    "for train_country in country_names:\n",
    "\n",
    "    train_idx = country_idx.loc[train_country]\n",
    "\n",
    "    trainx = X[train_idx]\n",
    "    trainY = Y[train_idx]\n",
    "    trainX = mp.batch_transform(trainx, scale_method = 'standard')        \n",
    "\n",
    "    clf = AggModel.MultiClassEstimator(epochs = 30,  batch_size = 1, \n",
    "                                       conv1_kernel_size = 5, \n",
    "                                       verbose = 0, gpuid = 1)\n",
    "    clf.fit(trainX, trainY)  \n",
    "    \n",
    "    ## save model\n",
    "    clf._model.save(os.path.join(model_save_path, '%s.h5' % train_country))\n",
    "    \n",
    "    for test_country in country_names:\n",
    "        \n",
    "        test_idx = country_idx.loc[test_country]\n",
    "        testY = Y[test_idx]\n",
    "        testx = X[test_idx]\n",
    "\n",
    "        testX = mp.batch_transform(testx, scale_method = 'standard')\n",
    "        print(\"\\n input train and test X shape is %s, %s \" % (trainX.shape,  testX.shape))\n",
    "\n",
    "        y_true = testY[:,0]\n",
    "        y_pred = clf.predict(testX)[:,0]\n",
    "        y_score = clf.predict_proba(testX)[:,0]\n",
    "\n",
    "        tn, fp, fn, tp = confusion_matrix(y_true, y_pred).ravel()\n",
    "\n",
    "        acc = (tp + tn) / sum([tn, fp, fn, tp])\n",
    "\n",
    "        sensitivity = tp / sum([tp, fn])\n",
    "        specificity = tn / sum([tn, fp])\n",
    "\n",
    "        prc_auc = prc_auc_score(y_true, y_score)\n",
    "        roc_auc = roc_auc_score(y_true, y_score)\n",
    "\n",
    "        precision = tp / sum([tp, fp])\n",
    "        recall =  tp / sum([tp, fn]) #equals to sensitivity\n",
    "\n",
    "\n",
    "        res = {'train_country': train_country,\n",
    "               'test_country':test_country,\n",
    "\n",
    "               'accuracy':acc, \n",
    "\n",
    "               'prc_auc':prc_auc, \n",
    "               'roc_auc':roc_auc,\n",
    "\n",
    "               'sensitivity': sensitivity, \n",
    "               'specificity': specificity,\n",
    "\n",
    "               'precision':precision,\n",
    "               'recall':recall,\n",
    "              }\n",
    "\n",
    "        run_all.append(res)"
   ]
  },
  {
   "cell_type": "code",
   "execution_count": 8,
   "metadata": {},
   "outputs": [
    {
     "data": {
      "text/plain": [
       "300098"
      ]
     },
     "execution_count": 8,
     "metadata": {},
     "output_type": "execute_result"
    }
   ],
   "source": [
    "clf._model.count_params()"
   ]
  },
  {
   "cell_type": "code",
   "execution_count": 9,
   "metadata": {},
   "outputs": [
    {
     "data": {
      "text/html": [
       "<div>\n",
       "<style scoped>\n",
       "    .dataframe tbody tr th:only-of-type {\n",
       "        vertical-align: middle;\n",
       "    }\n",
       "\n",
       "    .dataframe tbody tr th {\n",
       "        vertical-align: top;\n",
       "    }\n",
       "\n",
       "    .dataframe thead th {\n",
       "        text-align: right;\n",
       "    }\n",
       "</style>\n",
       "<table border=\"1\" class=\"dataframe\">\n",
       "  <thead>\n",
       "    <tr style=\"text-align: right;\">\n",
       "      <th></th>\n",
       "      <th>train_country</th>\n",
       "      <th>test_country</th>\n",
       "      <th>accuracy</th>\n",
       "      <th>prc_auc</th>\n",
       "      <th>roc_auc</th>\n",
       "      <th>sensitivity</th>\n",
       "      <th>specificity</th>\n",
       "      <th>precision</th>\n",
       "      <th>recall</th>\n",
       "    </tr>\n",
       "  </thead>\n",
       "  <tbody>\n",
       "    <tr>\n",
       "      <th>0</th>\n",
       "      <td>AUS</td>\n",
       "      <td>AUS</td>\n",
       "      <td>1.000000</td>\n",
       "      <td>1.000000</td>\n",
       "      <td>1.000000</td>\n",
       "      <td>1.000000</td>\n",
       "      <td>1.000000</td>\n",
       "      <td>1.000000</td>\n",
       "      <td>1.000000</td>\n",
       "    </tr>\n",
       "    <tr>\n",
       "      <th>1</th>\n",
       "      <td>AUS</td>\n",
       "      <td>CHI</td>\n",
       "      <td>0.703125</td>\n",
       "      <td>0.813108</td>\n",
       "      <td>0.746246</td>\n",
       "      <td>0.567568</td>\n",
       "      <td>0.888889</td>\n",
       "      <td>0.875000</td>\n",
       "      <td>0.567568</td>\n",
       "    </tr>\n",
       "    <tr>\n",
       "      <th>2</th>\n",
       "      <td>AUS</td>\n",
       "      <td>FRA</td>\n",
       "      <td>0.710526</td>\n",
       "      <td>0.783998</td>\n",
       "      <td>0.753789</td>\n",
       "      <td>0.603774</td>\n",
       "      <td>0.803279</td>\n",
       "      <td>0.727273</td>\n",
       "      <td>0.603774</td>\n",
       "    </tr>\n",
       "    <tr>\n",
       "      <th>3</th>\n",
       "      <td>AUS</td>\n",
       "      <td>GER</td>\n",
       "      <td>0.833333</td>\n",
       "      <td>0.914126</td>\n",
       "      <td>0.887500</td>\n",
       "      <td>0.716667</td>\n",
       "      <td>0.950000</td>\n",
       "      <td>0.934783</td>\n",
       "      <td>0.716667</td>\n",
       "    </tr>\n",
       "    <tr>\n",
       "      <th>4</th>\n",
       "      <td>AUS</td>\n",
       "      <td>USA</td>\n",
       "      <td>0.721154</td>\n",
       "      <td>0.811904</td>\n",
       "      <td>0.781065</td>\n",
       "      <td>0.557692</td>\n",
       "      <td>0.884615</td>\n",
       "      <td>0.828571</td>\n",
       "      <td>0.557692</td>\n",
       "    </tr>\n",
       "    <tr>\n",
       "      <th>5</th>\n",
       "      <td>CHI</td>\n",
       "      <td>AUS</td>\n",
       "      <td>0.724771</td>\n",
       "      <td>0.797203</td>\n",
       "      <td>0.820566</td>\n",
       "      <td>0.717391</td>\n",
       "      <td>0.730159</td>\n",
       "      <td>0.660000</td>\n",
       "      <td>0.717391</td>\n",
       "    </tr>\n",
       "    <tr>\n",
       "      <th>6</th>\n",
       "      <td>CHI</td>\n",
       "      <td>CHI</td>\n",
       "      <td>1.000000</td>\n",
       "      <td>1.000000</td>\n",
       "      <td>1.000000</td>\n",
       "      <td>1.000000</td>\n",
       "      <td>1.000000</td>\n",
       "      <td>1.000000</td>\n",
       "      <td>1.000000</td>\n",
       "    </tr>\n",
       "    <tr>\n",
       "      <th>7</th>\n",
       "      <td>CHI</td>\n",
       "      <td>FRA</td>\n",
       "      <td>0.692982</td>\n",
       "      <td>0.795018</td>\n",
       "      <td>0.793999</td>\n",
       "      <td>0.754717</td>\n",
       "      <td>0.639344</td>\n",
       "      <td>0.645161</td>\n",
       "      <td>0.754717</td>\n",
       "    </tr>\n",
       "    <tr>\n",
       "      <th>8</th>\n",
       "      <td>CHI</td>\n",
       "      <td>GER</td>\n",
       "      <td>0.800000</td>\n",
       "      <td>0.903254</td>\n",
       "      <td>0.895833</td>\n",
       "      <td>0.683333</td>\n",
       "      <td>0.916667</td>\n",
       "      <td>0.891304</td>\n",
       "      <td>0.683333</td>\n",
       "    </tr>\n",
       "    <tr>\n",
       "      <th>9</th>\n",
       "      <td>CHI</td>\n",
       "      <td>USA</td>\n",
       "      <td>0.634615</td>\n",
       "      <td>0.761357</td>\n",
       "      <td>0.762944</td>\n",
       "      <td>0.557692</td>\n",
       "      <td>0.711538</td>\n",
       "      <td>0.659091</td>\n",
       "      <td>0.557692</td>\n",
       "    </tr>\n",
       "    <tr>\n",
       "      <th>10</th>\n",
       "      <td>FRA</td>\n",
       "      <td>AUS</td>\n",
       "      <td>0.834862</td>\n",
       "      <td>0.888084</td>\n",
       "      <td>0.879917</td>\n",
       "      <td>0.630435</td>\n",
       "      <td>0.984127</td>\n",
       "      <td>0.966667</td>\n",
       "      <td>0.630435</td>\n",
       "    </tr>\n",
       "    <tr>\n",
       "      <th>11</th>\n",
       "      <td>FRA</td>\n",
       "      <td>CHI</td>\n",
       "      <td>0.765625</td>\n",
       "      <td>0.875822</td>\n",
       "      <td>0.864239</td>\n",
       "      <td>0.675676</td>\n",
       "      <td>0.888889</td>\n",
       "      <td>0.892857</td>\n",
       "      <td>0.675676</td>\n",
       "    </tr>\n",
       "    <tr>\n",
       "      <th>12</th>\n",
       "      <td>FRA</td>\n",
       "      <td>FRA</td>\n",
       "      <td>1.000000</td>\n",
       "      <td>1.000000</td>\n",
       "      <td>1.000000</td>\n",
       "      <td>1.000000</td>\n",
       "      <td>1.000000</td>\n",
       "      <td>1.000000</td>\n",
       "      <td>1.000000</td>\n",
       "    </tr>\n",
       "    <tr>\n",
       "      <th>13</th>\n",
       "      <td>FRA</td>\n",
       "      <td>GER</td>\n",
       "      <td>0.841667</td>\n",
       "      <td>0.928808</td>\n",
       "      <td>0.923889</td>\n",
       "      <td>0.733333</td>\n",
       "      <td>0.950000</td>\n",
       "      <td>0.936170</td>\n",
       "      <td>0.733333</td>\n",
       "    </tr>\n",
       "    <tr>\n",
       "      <th>14</th>\n",
       "      <td>FRA</td>\n",
       "      <td>USA</td>\n",
       "      <td>0.673077</td>\n",
       "      <td>0.797559</td>\n",
       "      <td>0.768121</td>\n",
       "      <td>0.461538</td>\n",
       "      <td>0.884615</td>\n",
       "      <td>0.800000</td>\n",
       "      <td>0.461538</td>\n",
       "    </tr>\n",
       "    <tr>\n",
       "      <th>15</th>\n",
       "      <td>GER</td>\n",
       "      <td>AUS</td>\n",
       "      <td>0.697248</td>\n",
       "      <td>0.865209</td>\n",
       "      <td>0.856453</td>\n",
       "      <td>0.782609</td>\n",
       "      <td>0.634921</td>\n",
       "      <td>0.610169</td>\n",
       "      <td>0.782609</td>\n",
       "    </tr>\n",
       "    <tr>\n",
       "      <th>16</th>\n",
       "      <td>GER</td>\n",
       "      <td>CHI</td>\n",
       "      <td>0.781250</td>\n",
       "      <td>0.878832</td>\n",
       "      <td>0.857357</td>\n",
       "      <td>0.918919</td>\n",
       "      <td>0.592593</td>\n",
       "      <td>0.755556</td>\n",
       "      <td>0.918919</td>\n",
       "    </tr>\n",
       "    <tr>\n",
       "      <th>17</th>\n",
       "      <td>GER</td>\n",
       "      <td>FRA</td>\n",
       "      <td>0.684211</td>\n",
       "      <td>0.815907</td>\n",
       "      <td>0.811011</td>\n",
       "      <td>0.849057</td>\n",
       "      <td>0.540984</td>\n",
       "      <td>0.616438</td>\n",
       "      <td>0.849057</td>\n",
       "    </tr>\n",
       "    <tr>\n",
       "      <th>18</th>\n",
       "      <td>GER</td>\n",
       "      <td>GER</td>\n",
       "      <td>1.000000</td>\n",
       "      <td>1.000000</td>\n",
       "      <td>1.000000</td>\n",
       "      <td>1.000000</td>\n",
       "      <td>1.000000</td>\n",
       "      <td>1.000000</td>\n",
       "      <td>1.000000</td>\n",
       "    </tr>\n",
       "    <tr>\n",
       "      <th>19</th>\n",
       "      <td>GER</td>\n",
       "      <td>USA</td>\n",
       "      <td>0.730769</td>\n",
       "      <td>0.795040</td>\n",
       "      <td>0.779956</td>\n",
       "      <td>0.807692</td>\n",
       "      <td>0.653846</td>\n",
       "      <td>0.700000</td>\n",
       "      <td>0.807692</td>\n",
       "    </tr>\n",
       "    <tr>\n",
       "      <th>20</th>\n",
       "      <td>USA</td>\n",
       "      <td>AUS</td>\n",
       "      <td>0.788991</td>\n",
       "      <td>0.844465</td>\n",
       "      <td>0.855763</td>\n",
       "      <td>0.760870</td>\n",
       "      <td>0.809524</td>\n",
       "      <td>0.744681</td>\n",
       "      <td>0.760870</td>\n",
       "    </tr>\n",
       "    <tr>\n",
       "      <th>21</th>\n",
       "      <td>USA</td>\n",
       "      <td>CHI</td>\n",
       "      <td>0.718750</td>\n",
       "      <td>0.810950</td>\n",
       "      <td>0.764264</td>\n",
       "      <td>0.716216</td>\n",
       "      <td>0.722222</td>\n",
       "      <td>0.779412</td>\n",
       "      <td>0.716216</td>\n",
       "    </tr>\n",
       "    <tr>\n",
       "      <th>22</th>\n",
       "      <td>USA</td>\n",
       "      <td>FRA</td>\n",
       "      <td>0.631579</td>\n",
       "      <td>0.680584</td>\n",
       "      <td>0.692236</td>\n",
       "      <td>0.622642</td>\n",
       "      <td>0.639344</td>\n",
       "      <td>0.600000</td>\n",
       "      <td>0.622642</td>\n",
       "    </tr>\n",
       "    <tr>\n",
       "      <th>23</th>\n",
       "      <td>USA</td>\n",
       "      <td>GER</td>\n",
       "      <td>0.733333</td>\n",
       "      <td>0.819753</td>\n",
       "      <td>0.811389</td>\n",
       "      <td>0.650000</td>\n",
       "      <td>0.816667</td>\n",
       "      <td>0.780000</td>\n",
       "      <td>0.650000</td>\n",
       "    </tr>\n",
       "    <tr>\n",
       "      <th>24</th>\n",
       "      <td>USA</td>\n",
       "      <td>USA</td>\n",
       "      <td>1.000000</td>\n",
       "      <td>1.000000</td>\n",
       "      <td>1.000000</td>\n",
       "      <td>1.000000</td>\n",
       "      <td>1.000000</td>\n",
       "      <td>1.000000</td>\n",
       "      <td>1.000000</td>\n",
       "    </tr>\n",
       "  </tbody>\n",
       "</table>\n",
       "</div>"
      ],
      "text/plain": [
       "   train_country test_country  accuracy   prc_auc   roc_auc  sensitivity  \\\n",
       "0            AUS          AUS  1.000000  1.000000  1.000000     1.000000   \n",
       "1            AUS          CHI  0.703125  0.813108  0.746246     0.567568   \n",
       "2            AUS          FRA  0.710526  0.783998  0.753789     0.603774   \n",
       "3            AUS          GER  0.833333  0.914126  0.887500     0.716667   \n",
       "4            AUS          USA  0.721154  0.811904  0.781065     0.557692   \n",
       "5            CHI          AUS  0.724771  0.797203  0.820566     0.717391   \n",
       "6            CHI          CHI  1.000000  1.000000  1.000000     1.000000   \n",
       "7            CHI          FRA  0.692982  0.795018  0.793999     0.754717   \n",
       "8            CHI          GER  0.800000  0.903254  0.895833     0.683333   \n",
       "9            CHI          USA  0.634615  0.761357  0.762944     0.557692   \n",
       "10           FRA          AUS  0.834862  0.888084  0.879917     0.630435   \n",
       "11           FRA          CHI  0.765625  0.875822  0.864239     0.675676   \n",
       "12           FRA          FRA  1.000000  1.000000  1.000000     1.000000   \n",
       "13           FRA          GER  0.841667  0.928808  0.923889     0.733333   \n",
       "14           FRA          USA  0.673077  0.797559  0.768121     0.461538   \n",
       "15           GER          AUS  0.697248  0.865209  0.856453     0.782609   \n",
       "16           GER          CHI  0.781250  0.878832  0.857357     0.918919   \n",
       "17           GER          FRA  0.684211  0.815907  0.811011     0.849057   \n",
       "18           GER          GER  1.000000  1.000000  1.000000     1.000000   \n",
       "19           GER          USA  0.730769  0.795040  0.779956     0.807692   \n",
       "20           USA          AUS  0.788991  0.844465  0.855763     0.760870   \n",
       "21           USA          CHI  0.718750  0.810950  0.764264     0.716216   \n",
       "22           USA          FRA  0.631579  0.680584  0.692236     0.622642   \n",
       "23           USA          GER  0.733333  0.819753  0.811389     0.650000   \n",
       "24           USA          USA  1.000000  1.000000  1.000000     1.000000   \n",
       "\n",
       "    specificity  precision    recall  \n",
       "0      1.000000   1.000000  1.000000  \n",
       "1      0.888889   0.875000  0.567568  \n",
       "2      0.803279   0.727273  0.603774  \n",
       "3      0.950000   0.934783  0.716667  \n",
       "4      0.884615   0.828571  0.557692  \n",
       "5      0.730159   0.660000  0.717391  \n",
       "6      1.000000   1.000000  1.000000  \n",
       "7      0.639344   0.645161  0.754717  \n",
       "8      0.916667   0.891304  0.683333  \n",
       "9      0.711538   0.659091  0.557692  \n",
       "10     0.984127   0.966667  0.630435  \n",
       "11     0.888889   0.892857  0.675676  \n",
       "12     1.000000   1.000000  1.000000  \n",
       "13     0.950000   0.936170  0.733333  \n",
       "14     0.884615   0.800000  0.461538  \n",
       "15     0.634921   0.610169  0.782609  \n",
       "16     0.592593   0.755556  0.918919  \n",
       "17     0.540984   0.616438  0.849057  \n",
       "18     1.000000   1.000000  1.000000  \n",
       "19     0.653846   0.700000  0.807692  \n",
       "20     0.809524   0.744681  0.760870  \n",
       "21     0.722222   0.779412  0.716216  \n",
       "22     0.639344   0.600000  0.622642  \n",
       "23     0.816667   0.780000  0.650000  \n",
       "24     1.000000   1.000000  1.000000  "
      ]
     },
     "execution_count": 9,
     "metadata": {},
     "output_type": "execute_result"
    }
   ],
   "source": [
    "df = pd.DataFrame(run_all)\n",
    "df.to_csv('./run_all.csv')\n",
    "df"
   ]
  },
  {
   "cell_type": "code",
   "execution_count": 10,
   "metadata": {},
   "outputs": [],
   "source": [
    "dfres = pd.crosstab(index = df.train_country, columns= df.test_country, values= df.roc_auc, aggfunc = np.mean)"
   ]
  },
  {
   "cell_type": "code",
   "execution_count": 11,
   "metadata": {},
   "outputs": [],
   "source": [
    "dfres.to_excel('study2study_results_ROC.xlsx')"
   ]
  },
  {
   "cell_type": "code",
   "execution_count": 3,
   "metadata": {},
   "outputs": [
    {
     "data": {
      "text/html": [
       "<div>\n",
       "<style scoped>\n",
       "    .dataframe tbody tr th:only-of-type {\n",
       "        vertical-align: middle;\n",
       "    }\n",
       "\n",
       "    .dataframe tbody tr th {\n",
       "        vertical-align: top;\n",
       "    }\n",
       "\n",
       "    .dataframe thead th {\n",
       "        text-align: right;\n",
       "    }\n",
       "</style>\n",
       "<table border=\"1\" class=\"dataframe\">\n",
       "  <thead>\n",
       "    <tr style=\"text-align: right;\">\n",
       "      <th></th>\n",
       "      <th>AUS</th>\n",
       "      <th>CHN</th>\n",
       "      <th>FRA</th>\n",
       "      <th>DEU</th>\n",
       "      <th>USA</th>\n",
       "    </tr>\n",
       "    <tr>\n",
       "      <th>train_country</th>\n",
       "      <th></th>\n",
       "      <th></th>\n",
       "      <th></th>\n",
       "      <th></th>\n",
       "      <th></th>\n",
       "    </tr>\n",
       "  </thead>\n",
       "  <tbody>\n",
       "    <tr>\n",
       "      <th>AUS</th>\n",
       "      <td>1.000000</td>\n",
       "      <td>0.746246</td>\n",
       "      <td>0.753789</td>\n",
       "      <td>0.887500</td>\n",
       "      <td>0.781065</td>\n",
       "    </tr>\n",
       "    <tr>\n",
       "      <th>CHN</th>\n",
       "      <td>0.820566</td>\n",
       "      <td>1.000000</td>\n",
       "      <td>0.793999</td>\n",
       "      <td>0.895833</td>\n",
       "      <td>0.762944</td>\n",
       "    </tr>\n",
       "    <tr>\n",
       "      <th>FRA</th>\n",
       "      <td>0.879917</td>\n",
       "      <td>0.864239</td>\n",
       "      <td>1.000000</td>\n",
       "      <td>0.923889</td>\n",
       "      <td>0.768121</td>\n",
       "    </tr>\n",
       "    <tr>\n",
       "      <th>DEU</th>\n",
       "      <td>0.856453</td>\n",
       "      <td>0.857357</td>\n",
       "      <td>0.811011</td>\n",
       "      <td>1.000000</td>\n",
       "      <td>0.779956</td>\n",
       "    </tr>\n",
       "    <tr>\n",
       "      <th>USA</th>\n",
       "      <td>0.855763</td>\n",
       "      <td>0.764264</td>\n",
       "      <td>0.692236</td>\n",
       "      <td>0.811389</td>\n",
       "      <td>1.000000</td>\n",
       "    </tr>\n",
       "  </tbody>\n",
       "</table>\n",
       "</div>"
      ],
      "text/plain": [
       "                    AUS       CHN       FRA       DEU       USA\n",
       "train_country                                                  \n",
       "AUS            1.000000  0.746246  0.753789  0.887500  0.781065\n",
       "CHN            0.820566  1.000000  0.793999  0.895833  0.762944\n",
       "FRA            0.879917  0.864239  1.000000  0.923889  0.768121\n",
       "DEU            0.856453  0.857357  0.811011  1.000000  0.779956\n",
       "USA            0.855763  0.764264  0.692236  0.811389  1.000000"
      ]
     },
     "execution_count": 3,
     "metadata": {},
     "output_type": "execute_result"
    }
   ],
   "source": [
    "dfres = pd.read_excel('study2study_results_ROC.xlsx',index_col='train_country')\n",
    "\n",
    "dfres = dfres.rename(columns = {'AUS':\"AUS\", 'CHI':'CHN', 'FRA':'FRA', 'GER':'DEU', 'USA':'USA'},\n",
    "                    index =  {'AUS':\"AUS\", 'CHI':'CHN', 'FRA':'FRA', 'GER':'DEU', 'USA':'USA'}\n",
    "                    )\n",
    "\n",
    "dfres"
   ]
  },
  {
   "cell_type": "code",
   "execution_count": 4,
   "metadata": {},
   "outputs": [],
   "source": [
    "cols = ['FRA', 'AUS', 'CHN', 'USA', 'DEU']"
   ]
  },
  {
   "cell_type": "code",
   "execution_count": 5,
   "metadata": {},
   "outputs": [
    {
     "data": {
      "text/html": [
       "<div>\n",
       "<style scoped>\n",
       "    .dataframe tbody tr th:only-of-type {\n",
       "        vertical-align: middle;\n",
       "    }\n",
       "\n",
       "    .dataframe tbody tr th {\n",
       "        vertical-align: top;\n",
       "    }\n",
       "\n",
       "    .dataframe thead th {\n",
       "        text-align: right;\n",
       "    }\n",
       "</style>\n",
       "<table border=\"1\" class=\"dataframe\">\n",
       "  <thead>\n",
       "    <tr style=\"text-align: right;\">\n",
       "      <th></th>\n",
       "      <th>FRA</th>\n",
       "      <th>AUS</th>\n",
       "      <th>CHN</th>\n",
       "      <th>USA</th>\n",
       "      <th>DEU</th>\n",
       "    </tr>\n",
       "    <tr>\n",
       "      <th>train_country</th>\n",
       "      <th></th>\n",
       "      <th></th>\n",
       "      <th></th>\n",
       "      <th></th>\n",
       "      <th></th>\n",
       "    </tr>\n",
       "  </thead>\n",
       "  <tbody>\n",
       "    <tr>\n",
       "      <th>FRA</th>\n",
       "      <td>1.000</td>\n",
       "      <td>0.880</td>\n",
       "      <td>0.864</td>\n",
       "      <td>0.768</td>\n",
       "      <td>0.924</td>\n",
       "    </tr>\n",
       "    <tr>\n",
       "      <th>AUS</th>\n",
       "      <td>0.754</td>\n",
       "      <td>1.000</td>\n",
       "      <td>0.746</td>\n",
       "      <td>0.781</td>\n",
       "      <td>0.888</td>\n",
       "    </tr>\n",
       "    <tr>\n",
       "      <th>CHN</th>\n",
       "      <td>0.794</td>\n",
       "      <td>0.821</td>\n",
       "      <td>1.000</td>\n",
       "      <td>0.763</td>\n",
       "      <td>0.896</td>\n",
       "    </tr>\n",
       "    <tr>\n",
       "      <th>USA</th>\n",
       "      <td>0.692</td>\n",
       "      <td>0.856</td>\n",
       "      <td>0.764</td>\n",
       "      <td>1.000</td>\n",
       "      <td>0.811</td>\n",
       "    </tr>\n",
       "    <tr>\n",
       "      <th>DEU</th>\n",
       "      <td>0.811</td>\n",
       "      <td>0.856</td>\n",
       "      <td>0.857</td>\n",
       "      <td>0.780</td>\n",
       "      <td>1.000</td>\n",
       "    </tr>\n",
       "  </tbody>\n",
       "</table>\n",
       "</div>"
      ],
      "text/plain": [
       "                 FRA    AUS    CHN    USA    DEU\n",
       "train_country                                   \n",
       "FRA            1.000  0.880  0.864  0.768  0.924\n",
       "AUS            0.754  1.000  0.746  0.781  0.888\n",
       "CHN            0.794  0.821  1.000  0.763  0.896\n",
       "USA            0.692  0.856  0.764  1.000  0.811\n",
       "DEU            0.811  0.856  0.857  0.780  1.000"
      ]
     },
     "execution_count": 5,
     "metadata": {},
     "output_type": "execute_result"
    }
   ],
   "source": [
    "ourmodel_df = dfres[cols].loc[cols].round(3)\n",
    "ourmodel_df"
   ]
  },
  {
   "cell_type": "code",
   "execution_count": 6,
   "metadata": {},
   "outputs": [
    {
     "data": {
      "text/html": [
       "<div>\n",
       "<style scoped>\n",
       "    .dataframe tbody tr th:only-of-type {\n",
       "        vertical-align: middle;\n",
       "    }\n",
       "\n",
       "    .dataframe tbody tr th {\n",
       "        vertical-align: top;\n",
       "    }\n",
       "\n",
       "    .dataframe thead th {\n",
       "        text-align: right;\n",
       "    }\n",
       "</style>\n",
       "<table border=\"1\" class=\"dataframe\">\n",
       "  <thead>\n",
       "    <tr style=\"text-align: right;\">\n",
       "      <th>Test set</th>\n",
       "      <th>AUS</th>\n",
       "      <th>CHN</th>\n",
       "      <th>DEU</th>\n",
       "      <th>FRA</th>\n",
       "      <th>USA</th>\n",
       "    </tr>\n",
       "    <tr>\n",
       "      <th>Training set</th>\n",
       "      <th></th>\n",
       "      <th></th>\n",
       "      <th></th>\n",
       "      <th></th>\n",
       "      <th></th>\n",
       "    </tr>\n",
       "  </thead>\n",
       "  <tbody>\n",
       "    <tr>\n",
       "      <th>AUS</th>\n",
       "      <td>0.911663</td>\n",
       "      <td>0.741992</td>\n",
       "      <td>0.651944</td>\n",
       "      <td>0.628518</td>\n",
       "      <td>0.589497</td>\n",
       "    </tr>\n",
       "    <tr>\n",
       "      <th>CHN</th>\n",
       "      <td>0.764665</td>\n",
       "      <td>0.826076</td>\n",
       "      <td>0.830833</td>\n",
       "      <td>0.825549</td>\n",
       "      <td>0.669379</td>\n",
       "    </tr>\n",
       "    <tr>\n",
       "      <th>DEU</th>\n",
       "      <td>0.777778</td>\n",
       "      <td>0.877878</td>\n",
       "      <td>0.787500</td>\n",
       "      <td>0.844417</td>\n",
       "      <td>0.743713</td>\n",
       "    </tr>\n",
       "    <tr>\n",
       "      <th>FRA</th>\n",
       "      <td>0.768806</td>\n",
       "      <td>0.826577</td>\n",
       "      <td>0.831667</td>\n",
       "      <td>0.838231</td>\n",
       "      <td>0.642382</td>\n",
       "    </tr>\n",
       "    <tr>\n",
       "      <th>USA</th>\n",
       "      <td>0.777433</td>\n",
       "      <td>0.696947</td>\n",
       "      <td>0.788889</td>\n",
       "      <td>0.751005</td>\n",
       "      <td>0.729660</td>\n",
       "    </tr>\n",
       "  </tbody>\n",
       "</table>\n",
       "</div>"
      ],
      "text/plain": [
       "Test set           AUS       CHN       DEU       FRA       USA\n",
       "Training set                                                  \n",
       "AUS           0.911663  0.741992  0.651944  0.628518  0.589497\n",
       "CHN           0.764665  0.826076  0.830833  0.825549  0.669379\n",
       "DEU           0.777778  0.877878  0.787500  0.844417  0.743713\n",
       "FRA           0.768806  0.826577  0.831667  0.838231  0.642382\n",
       "USA           0.777433  0.696947  0.788889  0.751005  0.729660"
      ]
     },
     "execution_count": 6,
     "metadata": {},
     "output_type": "execute_result"
    }
   ],
   "source": [
    "y = \"\"\"Training set\tTest set\tAUC\n",
    "FRA\tFRA\t0.838230745\n",
    "FRA\tDEU\t0.831666667\n",
    "FRA\tCHN\t0.826576577\n",
    "FRA\tUSA\t0.642381657\n",
    "FRA\tAUS\t0.768806073\n",
    "DEU\tFRA\t0.84441695\n",
    "DEU\tDEU\t0.7875\n",
    "DEU\tCHN\t0.877877878\n",
    "DEU\tUSA\t0.743713018\n",
    "DEU\tAUS\t0.777777778\n",
    "CHN\tFRA\t0.825549026\n",
    "CHN\tDEU\t0.830833333\n",
    "CHN\tCHN\t0.826076076\n",
    "CHN\tUSA\t0.669378698\n",
    "CHN\tAUS\t0.764665286\n",
    "USA\tFRA\t0.751005258\n",
    "USA\tDEU\t0.788888889\n",
    "USA\tCHN\t0.696946947\n",
    "USA\tUSA\t0.729659763\n",
    "USA\tAUS\t0.777432712\n",
    "AUS\tFRA\t0.628518404\n",
    "AUS\tDEU\t0.651944444\n",
    "AUS\tCHN\t0.741991992\n",
    "AUS\tUSA\t0.589497041\n",
    "AUS\tAUS\t0.911663216\"\"\" \n",
    "pres = [i.split('\\t') for i in y.split('\\n')]\n",
    "\n",
    "previous_df = pd.DataFrame(pres[1:], columns=pres[0])\n",
    "previous_df['AUC'] = previous_df['AUC'].astype('float')\n",
    "previous_df = pd.pivot_table(previous_df, values='AUC', index='Training set', columns='Test set')\n",
    "\n",
    "previous_df"
   ]
  },
  {
   "cell_type": "code",
   "execution_count": 7,
   "metadata": {},
   "outputs": [
    {
     "data": {
      "text/html": [
       "<div>\n",
       "<style scoped>\n",
       "    .dataframe tbody tr th:only-of-type {\n",
       "        vertical-align: middle;\n",
       "    }\n",
       "\n",
       "    .dataframe tbody tr th {\n",
       "        vertical-align: top;\n",
       "    }\n",
       "\n",
       "    .dataframe thead th {\n",
       "        text-align: right;\n",
       "    }\n",
       "</style>\n",
       "<table border=\"1\" class=\"dataframe\">\n",
       "  <thead>\n",
       "    <tr style=\"text-align: right;\">\n",
       "      <th></th>\n",
       "      <th>AUS</th>\n",
       "      <th>CHN</th>\n",
       "      <th>DEU</th>\n",
       "      <th>FRA</th>\n",
       "      <th>USA</th>\n",
       "    </tr>\n",
       "    <tr>\n",
       "      <th>Training set</th>\n",
       "      <th></th>\n",
       "      <th></th>\n",
       "      <th></th>\n",
       "      <th></th>\n",
       "      <th></th>\n",
       "    </tr>\n",
       "  </thead>\n",
       "  <tbody>\n",
       "    <tr>\n",
       "      <th>AUS</th>\n",
       "      <td>1.000</td>\n",
       "      <td>0.746</td>\n",
       "      <td>0.888</td>\n",
       "      <td>0.754</td>\n",
       "      <td>0.781</td>\n",
       "    </tr>\n",
       "    <tr>\n",
       "      <th>CHN</th>\n",
       "      <td>0.821</td>\n",
       "      <td>1.000</td>\n",
       "      <td>0.896</td>\n",
       "      <td>0.794</td>\n",
       "      <td>0.763</td>\n",
       "    </tr>\n",
       "    <tr>\n",
       "      <th>DEU</th>\n",
       "      <td>0.856</td>\n",
       "      <td>0.857</td>\n",
       "      <td>1.000</td>\n",
       "      <td>0.811</td>\n",
       "      <td>0.780</td>\n",
       "    </tr>\n",
       "    <tr>\n",
       "      <th>FRA</th>\n",
       "      <td>0.880</td>\n",
       "      <td>0.864</td>\n",
       "      <td>0.924</td>\n",
       "      <td>1.000</td>\n",
       "      <td>0.768</td>\n",
       "    </tr>\n",
       "    <tr>\n",
       "      <th>USA</th>\n",
       "      <td>0.856</td>\n",
       "      <td>0.764</td>\n",
       "      <td>0.811</td>\n",
       "      <td>0.692</td>\n",
       "      <td>1.000</td>\n",
       "    </tr>\n",
       "  </tbody>\n",
       "</table>\n",
       "</div>"
      ],
      "text/plain": [
       "                AUS    CHN    DEU    FRA    USA\n",
       "Training set                                   \n",
       "AUS           1.000  0.746  0.888  0.754  0.781\n",
       "CHN           0.821  1.000  0.896  0.794  0.763\n",
       "DEU           0.856  0.857  1.000  0.811  0.780\n",
       "FRA           0.880  0.864  0.924  1.000  0.768\n",
       "USA           0.856  0.764  0.811  0.692  1.000"
      ]
     },
     "execution_count": 7,
     "metadata": {},
     "output_type": "execute_result"
    }
   ],
   "source": [
    "ourmodel_df = ourmodel_df.loc[previous_df.index][previous_df.columns]\n",
    "ourmodel_df"
   ]
  },
  {
   "cell_type": "code",
   "execution_count": null,
   "metadata": {},
   "outputs": [],
   "source": []
  },
  {
   "cell_type": "code",
   "execution_count": 8,
   "metadata": {},
   "outputs": [],
   "source": [
    "def get_non_diag_mean(df):\n",
    "    v = df.values.copy()\n",
    "    \n",
    "    np.fill_diagonal(v, np.nan)\n",
    "    \n",
    "    mean =  pd.DataFrame(v, columns = df.columns, index = df.index).mean(axis=1).round(2)\n",
    "    std = pd.DataFrame(v, columns = df.columns, index = df.index).std(axis=1).round(2)\n",
    "    return mean,std"
   ]
  },
  {
   "cell_type": "code",
   "execution_count": 9,
   "metadata": {},
   "outputs": [
    {
     "data": {
      "text/plain": [
       "0.75"
      ]
     },
     "execution_count": 9,
     "metadata": {},
     "output_type": "execute_result"
    }
   ],
   "source": [
    "get_non_diag_mean(previous_df)[0].mean()"
   ]
  },
  {
   "cell_type": "code",
   "execution_count": 10,
   "metadata": {},
   "outputs": [
    {
     "data": {
      "text/plain": [
       "0.8160000000000001"
      ]
     },
     "execution_count": 10,
     "metadata": {},
     "output_type": "execute_result"
    }
   ],
   "source": [
    "get_non_diag_mean(ourmodel_df)[0].mean()"
   ]
  },
  {
   "cell_type": "code",
   "execution_count": 14,
   "metadata": {},
   "outputs": [
    {
     "data": {
      "image/png": "[encoded data removed]",
      "text/plain": [
       "<Figure size 1296x432 with 1 Axes>"
      ]
     },
     "metadata": {},
     "output_type": "display_data"
    }
   ],
   "source": [
    "sns.set(style = 'white', font_scale=1.8)\n",
    "\n",
    "fig, ax = plt.subplots(nrows=1, ncols=1, figsize=(18,6), sharex = True, sharey = True)\n",
    "\n",
    "y1 = get_non_diag_mean(previous_df)[0].to_frame(name = 'LASSO')\n",
    "y2 = get_non_diag_mean(ourmodel_df)[0].to_frame(name = 'AggMapNet')\n",
    "\n",
    "y1_err = get_non_diag_mean(previous_df)[1].to_frame(name = 'LASSO')\n",
    "y2_err = get_non_diag_mean(ourmodel_df)[1].to_frame(name = 'AggMapNet')\n",
    "\n",
    "y = y1.join(y2)\n",
    "y_err = y1_err.join(y2_err)\n",
    "\n",
    "color = sns.color_palette(\"rainbow_r\", 5) #PiYG\n",
    "\n",
    "y.plot(kind = 'bar',ax = ax, color = color, yerr= y_err,ylim = (0.5, 0.96), error_kw=dict(ecolor='gray', lw=2, capsize=6, capthick=2))\n",
    "ax.set_ylabel('ROC-AUC')\n",
    "#ax.set_title('Study To Study Transfer (STST) Average Performance')\n",
    "ax.set_xlabel('Study To Study Transfer Training Country')\n",
    "\n",
    "for x_, y_ in enumerate(y['LASSO'].values):\n",
    "    ax.annotate('%.2f' % y_, xy = (x_-0.39, y_+0.002), fontsize =18)\n",
    "\n",
    "for  x_, y_ in enumerate(y['AggMapNet'].values):\n",
    "    ax.annotate('%.2f' % y_, xy = (x_+0.14, y_+0.002), fontsize =18)\n",
    "    \n",
    "ax.set_xticklabels(labels = y.index,rotation=0, ha = 'center')\n",
    "ax.set_ylim(0.5,1.0)\n",
    "    \n",
    "fig.savefig('./results/STST_loso_aggmap_vs_lasso__comparasion_mean.png', bbox_inches='tight', dpi=400) "
   ]
  },
  {
   "cell_type": "code",
   "execution_count": null,
   "metadata": {},
   "outputs": [],
   "source": []
  },
  {
   "cell_type": "code",
   "execution_count": 13,
   "metadata": {},
   "outputs": [
    {
     "data": {
      "image/png": "[encoded data removed]",
      "text/plain": [
       "<Figure size 1152x288 with 4 Axes>"
      ]
     },
     "metadata": {},
     "output_type": "display_data"
    }
   ],
   "source": [
    "sns.set(style = 'white', font_scale=1.4)\n",
    "fig, axes = plt.subplots(nrows=1, ncols=2, figsize=(16,4),)\n",
    "\n",
    "ax2, ax1 = axes\n",
    "\n",
    "sns.heatmap(ourmodel_df.round(2), cmap = 'Greens',  ax = ax1, annot=True,  vmin = 0.6, vmax = 0.9)\n",
    "ax1.set_title(\"Peformance in AggMapNet\")\n",
    "\n",
    "sns.heatmap(previous_df.round(2), cmap = 'Greens',  ax = ax2, annot=True, vmin = 0.6, vmax = 0.9,)\n",
    "ax2.set_title(\"Peformance in LASSO\")\n",
    "\n",
    "ax1.set_ylabel('Train country')\n",
    "ax2.set_ylabel('Train country')\n",
    "\n",
    "ax1.set_xlabel('Test country')\n",
    "ax2.set_xlabel('Test country')\n",
    "\n",
    "\n",
    "fig.savefig('./results/STST_loso_aggmap_vs_lasso_comparasion_all.png', bbox_inches='tight', dpi=400) "
   ]
  },
  {
   "cell_type": "code",
   "execution_count": null,
   "metadata": {},
   "outputs": [],
   "source": []
  },
  {
   "cell_type": "code",
   "execution_count": null,
   "metadata": {},
   "outputs": [],
   "source": []
  },
  {
   "cell_type": "code",
   "execution_count": null,
   "metadata": {},
   "outputs": [],
   "source": []
  },
  {
   "cell_type": "code",
   "execution_count": null,
   "metadata": {},
   "outputs": [],
   "source": []
  },
  {
   "cell_type": "code",
   "execution_count": 28,
   "metadata": {},
   "outputs": [],
   "source": [
    "#number of samples\n",
    "res = {}\n",
    "for train_country in country_names:\n",
    "\n",
    "    train_idx = country_idx.loc[train_country]\n",
    "\n",
    "    trainx = X[train_idx]\n",
    "    trainY = Y[train_idx]\n",
    "    \n",
    "    ntr = len(trainx)\n",
    "    for test_country in country_names:\n",
    "        \n",
    "        if test_country == train_country:\n",
    "            continue\n",
    "            \n",
    "        test_idx = country_idx.loc[test_country]\n",
    "        testY = Y[test_idx]\n",
    "        testx = X[test_idx]\n",
    "        nts = len(testx)\n",
    "        n = nts + ntr\n",
    "        \n",
    "        res.update({'%s-%s' % (train_country, test_country) :n })"
   ]
  },
  {
   "cell_type": "code",
   "execution_count": 29,
   "metadata": {},
   "outputs": [
    {
     "data": {
      "text/html": [
       "<div>\n",
       "<style scoped>\n",
       "    .dataframe tbody tr th:only-of-type {\n",
       "        vertical-align: middle;\n",
       "    }\n",
       "\n",
       "    .dataframe tbody tr th {\n",
       "        vertical-align: top;\n",
       "    }\n",
       "\n",
       "    .dataframe thead th {\n",
       "        text-align: right;\n",
       "    }\n",
       "</style>\n",
       "<table border=\"1\" class=\"dataframe\">\n",
       "  <thead>\n",
       "    <tr style=\"text-align: right;\">\n",
       "      <th></th>\n",
       "      <th>0</th>\n",
       "    </tr>\n",
       "  </thead>\n",
       "  <tbody>\n",
       "    <tr>\n",
       "      <th>AUS-CHI</th>\n",
       "      <td>237</td>\n",
       "    </tr>\n",
       "    <tr>\n",
       "      <th>AUS-FRA</th>\n",
       "      <td>223</td>\n",
       "    </tr>\n",
       "    <tr>\n",
       "      <th>AUS-GER</th>\n",
       "      <td>229</td>\n",
       "    </tr>\n",
       "    <tr>\n",
       "      <th>AUS-USA</th>\n",
       "      <td>213</td>\n",
       "    </tr>\n",
       "    <tr>\n",
       "      <th>CHI-AUS</th>\n",
       "      <td>237</td>\n",
       "    </tr>\n",
       "    <tr>\n",
       "      <th>CHI-FRA</th>\n",
       "      <td>242</td>\n",
       "    </tr>\n",
       "    <tr>\n",
       "      <th>CHI-GER</th>\n",
       "      <td>248</td>\n",
       "    </tr>\n",
       "    <tr>\n",
       "      <th>CHI-USA</th>\n",
       "      <td>232</td>\n",
       "    </tr>\n",
       "    <tr>\n",
       "      <th>FRA-AUS</th>\n",
       "      <td>223</td>\n",
       "    </tr>\n",
       "    <tr>\n",
       "      <th>FRA-CHI</th>\n",
       "      <td>242</td>\n",
       "    </tr>\n",
       "    <tr>\n",
       "      <th>FRA-GER</th>\n",
       "      <td>234</td>\n",
       "    </tr>\n",
       "    <tr>\n",
       "      <th>FRA-USA</th>\n",
       "      <td>218</td>\n",
       "    </tr>\n",
       "    <tr>\n",
       "      <th>GER-AUS</th>\n",
       "      <td>229</td>\n",
       "    </tr>\n",
       "    <tr>\n",
       "      <th>GER-CHI</th>\n",
       "      <td>248</td>\n",
       "    </tr>\n",
       "    <tr>\n",
       "      <th>GER-FRA</th>\n",
       "      <td>234</td>\n",
       "    </tr>\n",
       "    <tr>\n",
       "      <th>GER-USA</th>\n",
       "      <td>224</td>\n",
       "    </tr>\n",
       "    <tr>\n",
       "      <th>USA-AUS</th>\n",
       "      <td>213</td>\n",
       "    </tr>\n",
       "    <tr>\n",
       "      <th>USA-CHI</th>\n",
       "      <td>232</td>\n",
       "    </tr>\n",
       "    <tr>\n",
       "      <th>USA-FRA</th>\n",
       "      <td>218</td>\n",
       "    </tr>\n",
       "    <tr>\n",
       "      <th>USA-GER</th>\n",
       "      <td>224</td>\n",
       "    </tr>\n",
       "  </tbody>\n",
       "</table>\n",
       "</div>"
      ],
      "text/plain": [
       "           0\n",
       "AUS-CHI  237\n",
       "AUS-FRA  223\n",
       "AUS-GER  229\n",
       "AUS-USA  213\n",
       "CHI-AUS  237\n",
       "CHI-FRA  242\n",
       "CHI-GER  248\n",
       "CHI-USA  232\n",
       "FRA-AUS  223\n",
       "FRA-CHI  242\n",
       "FRA-GER  234\n",
       "FRA-USA  218\n",
       "GER-AUS  229\n",
       "GER-CHI  248\n",
       "GER-FRA  234\n",
       "GER-USA  224\n",
       "USA-AUS  213\n",
       "USA-CHI  232\n",
       "USA-FRA  218\n",
       "USA-GER  224"
      ]
     },
     "execution_count": 29,
     "metadata": {},
     "output_type": "execute_result"
    }
   ],
   "source": [
    "pd.DataFrame([res]).T"
   ]
  },
  {
   "cell_type": "code",
   "execution_count": null,
   "metadata": {},
   "outputs": [],
   "source": []
  }
 ],
 "metadata": {
  "kernelspec": {
   "display_name": "Python 3",
   "language": "python",
   "name": "python3"
  },
  "language_info": {
   "codemirror_mode": {
    "name": "ipython",
    "version": 3
   },
   "file_extension": ".py",
   "mimetype": "text/x-python",
   "name": "python",
   "nbconvert_exporter": "python",
   "pygments_lexer": "ipython3",
   "version": "3.6.9"
  }
 },
 "nbformat": 4,
 "nbformat_minor": 4
}
