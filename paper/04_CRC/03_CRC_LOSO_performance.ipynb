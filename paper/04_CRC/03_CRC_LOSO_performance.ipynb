{
 "cells": [
  {
   "cell_type": "code",
   "execution_count": 2,
   "metadata": {},
   "outputs": [],
   "source": [
    "import warnings, os\n",
    "warnings.filterwarnings(\"ignore\")\n",
    "\n",
    "\n",
    "import pandas as pd\n",
    "import numpy as np\n",
    "\n",
    "from sklearn.model_selection import KFold, StratifiedKFold\n",
    "from sklearn.metrics import confusion_matrix, precision_recall_curve, roc_auc_score\n",
    "from sklearn.metrics import auc as calculate_auc\n",
    "\n",
    "import matplotlib.pyplot as plt\n",
    "import seaborn as sns\n",
    "\n",
    "from aggmap import AggMap, AggModel\n",
    "\n",
    "np.random.seed(666) #just for reaptable results\n",
    "\n",
    "def prc_auc_score(y_true, y_score):\n",
    "    precision, recall, threshold  = precision_recall_curve(y_true, y_score) #PRC_AUC\n",
    "    auc = calculate_auc(recall, precision)\n",
    "    return auc"
   ]
  },
  {
   "cell_type": "code",
   "execution_count": 3,
   "metadata": {},
   "outputs": [],
   "source": [
    "dfx = pd.read_excel('./CRC.xlsx', sheet_name='data')\n",
    "dfx = dfx[dfx.columns[1:]]\n",
    "dfx = np.log(dfx + 1e-8)\n",
    "\n",
    "feature_groups_df = pd.read_excel('./CRC.xlsx', sheet_name='feature_info')\n",
    "feature_group_list = feature_groups_df.Group.tolist()\n",
    "\n",
    "dfy_all = pd.read_excel('./CRC.xlsx', sheet_name='sample_info')\n",
    "dfy = pd.get_dummies(dfy_all['Group'])\n",
    "\n",
    "\n",
    "\n",
    "X = dfx.values.astype(float)\n",
    "Y = dfy.values.astype(float)\n"
   ]
  },
  {
   "cell_type": "code",
   "execution_count": 4,
   "metadata": {},
   "outputs": [],
   "source": [
    "model_save_path = './model'\n",
    "if not os.path.exists(model_save_path):\n",
    "    os.makedirs(model_save_path)"
   ]
  },
  {
   "cell_type": "code",
   "execution_count": 5,
   "metadata": {},
   "outputs": [
    {
     "name": "stdout",
     "output_type": "stream",
     "text": [
      "2020-10-14 19:09:10,945 - \u001b[32mINFO\u001b[0m - [bidd-aggmap]\u001b[0m - Calculating distance ...\u001b[0m\n",
      "2020-10-14 19:09:10,990 - \u001b[32mINFO\u001b[0m - [bidd-aggmap]\u001b[0m - the number of process is 16\u001b[0m\n"
     ]
    },
    {
     "name": "stderr",
     "output_type": "stream",
     "text": [
      "100%|##########| 359976/359976 [00:12<00:00, 27744.70it/s]\n",
      "100%|##########| 359976/359976 [00:00<00:00, 1800512.75it/s]\n",
      "100%|##########| 849/849 [00:01<00:00, 775.73it/s]\n"
     ]
    },
    {
     "name": "stdout",
     "output_type": "stream",
     "text": [
      "2020-10-14 19:09:25,529 - \u001b[32mINFO\u001b[0m - [bidd-aggmap]\u001b[0m - applying hierarchical clustering to obtain group information ...\u001b[0m\n",
      "2020-10-14 19:09:30,579 - \u001b[32mINFO\u001b[0m - [bidd-aggmap]\u001b[0m - Applying grid feature map(assignment), this may take several minutes(1~30 min)\u001b[0m\n",
      "2020-10-14 19:09:32,040 - \u001b[32mINFO\u001b[0m - [bidd-aggmap]\u001b[0m - Finished\u001b[0m\n"
     ]
    },
    {
     "data": {
      "text/plain": [
       "['./model/aggmap.mp']"
      ]
     },
     "execution_count": 5,
     "metadata": {},
     "output_type": "execute_result"
    }
   ],
   "source": [
    "mp = AggMap(dfx, metric = 'correlation')\n",
    "mp.fit(cluster_channels = 5, verbose = 0)\n",
    "\n",
    "mp.save(os.path.join(model_save_path, 'aggmap.mp'))"
   ]
  },
  {
   "cell_type": "code",
   "execution_count": null,
   "metadata": {},
   "outputs": [],
   "source": []
  },
  {
   "cell_type": "markdown",
   "metadata": {},
   "source": [
    "## Leave One Study Out: LOSO"
   ]
  },
  {
   "cell_type": "code",
   "execution_count": 6,
   "metadata": {},
   "outputs": [
    {
     "data": {
      "text/plain": [
       "Country\n",
       "AUS    [114, 115, 116, 117, 118, 119, 120, 121, 122, ...\n",
       "CHI    [223, 224, 225, 226, 227, 228, 229, 230, 231, ...\n",
       "FRA    [0, 1, 2, 3, 4, 5, 6, 7, 8, 9, 10, 11, 12, 13,...\n",
       "GER    [455, 456, 457, 458, 459, 460, 461, 462, 463, ...\n",
       "USA    [351, 352, 353, 354, 355, 356, 357, 358, 359, ...\n",
       "dtype: object"
      ]
     },
     "execution_count": 6,
     "metadata": {},
     "output_type": "execute_result"
    }
   ],
   "source": [
    "country_idx = dfy_all.groupby(['Country']).apply(lambda x:x.index.tolist())\n",
    "country_idx"
   ]
  },
  {
   "cell_type": "code",
   "execution_count": 7,
   "metadata": {},
   "outputs": [],
   "source": [
    "country_names = country_idx.index.tolist()"
   ]
  },
  {
   "cell_type": "code",
   "execution_count": 94,
   "metadata": {},
   "outputs": [
    {
     "name": "stderr",
     "output_type": "stream",
     "text": [
      "  0%|          | 0/466 [00:00<?, ?it/s]"
     ]
    },
    {
     "name": "stdout",
     "output_type": "stream",
     "text": [
      "466 109\n"
     ]
    },
    {
     "name": "stderr",
     "output_type": "stream",
     "text": [
      "100%|##########| 466/466 [00:03<00:00, 141.31it/s]\n",
      "100%|##########| 109/109 [00:00<00:00, 532.17it/s]\n"
     ]
    },
    {
     "name": "stdout",
     "output_type": "stream",
     "text": [
      "MultiClassEstimator(batch_size=1, conv1_kernel_size=5, epochs=30, gpuid='2')\n"
     ]
    },
    {
     "name": "stderr",
     "output_type": "stream",
     "text": [
      " 11%|#         | 48/447 [00:00<00:00, 444.90it/s]"
     ]
    },
    {
     "name": "stdout",
     "output_type": "stream",
     "text": [
      "447 128\n"
     ]
    },
    {
     "name": "stderr",
     "output_type": "stream",
     "text": [
      "100%|##########| 447/447 [00:00<00:00, 1053.30it/s]\n",
      "100%|##########| 128/128 [00:00<00:00, 581.04it/s]\n"
     ]
    },
    {
     "name": "stdout",
     "output_type": "stream",
     "text": [
      "MultiClassEstimator(batch_size=1, conv1_kernel_size=5, epochs=30, gpuid='2')\n"
     ]
    },
    {
     "name": "stderr",
     "output_type": "stream",
     "text": [
      "  9%|8         | 40/461 [00:00<00:01, 325.10it/s]"
     ]
    },
    {
     "name": "stdout",
     "output_type": "stream",
     "text": [
      "461 114\n"
     ]
    },
    {
     "name": "stderr",
     "output_type": "stream",
     "text": [
      "100%|##########| 461/461 [00:00<00:00, 953.08it/s]\n",
      "100%|##########| 114/114 [00:00<00:00, 521.01it/s]\n"
     ]
    },
    {
     "name": "stdout",
     "output_type": "stream",
     "text": [
      "MultiClassEstimator(batch_size=1, conv1_kernel_size=5, epochs=30, gpuid='2')\n"
     ]
    },
    {
     "name": "stderr",
     "output_type": "stream",
     "text": [
      "  9%|8         | 40/455 [00:00<00:01, 307.27it/s]"
     ]
    },
    {
     "name": "stdout",
     "output_type": "stream",
     "text": [
      "455 120\n"
     ]
    },
    {
     "name": "stderr",
     "output_type": "stream",
     "text": [
      "100%|##########| 455/455 [00:00<00:00, 934.80it/s]\n",
      "100%|##########| 120/120 [00:00<00:00, 565.92it/s]\n"
     ]
    },
    {
     "name": "stdout",
     "output_type": "stream",
     "text": [
      "MultiClassEstimator(batch_size=1, conv1_kernel_size=5, epochs=30, gpuid='2')\n"
     ]
    },
    {
     "name": "stderr",
     "output_type": "stream",
     "text": [
      "  8%|8         | 40/471 [00:00<00:01, 349.91it/s]"
     ]
    },
    {
     "name": "stdout",
     "output_type": "stream",
     "text": [
      "471 104\n"
     ]
    },
    {
     "name": "stderr",
     "output_type": "stream",
     "text": [
      "100%|##########| 471/471 [00:00<00:00, 1002.66it/s]\n",
      "100%|##########| 104/104 [00:00<00:00, 539.54it/s]\n"
     ]
    },
    {
     "name": "stdout",
     "output_type": "stream",
     "text": [
      "MultiClassEstimator(batch_size=1, conv1_kernel_size=5, epochs=30, gpuid='2')\n"
     ]
    }
   ],
   "source": [
    "# LOSO\n",
    "\n",
    "from itertools import chain\n",
    "\n",
    "run_all= []\n",
    "for test_country in country_names:\n",
    "    \n",
    "    test_idx = country_idx.loc[test_country]\n",
    "    train_idxs = country_idx[country_idx.index != test_country].tolist()\n",
    "    #print(train_idxs)\n",
    "    train_idx = list(chain(*train_idxs))\n",
    "    #print(train_idx)\n",
    "\n",
    "    print(len(train_idx), len(test_idx)) \n",
    "    \n",
    "    trainx = X[train_idx]\n",
    "    trainY = Y[train_idx]\n",
    "    \n",
    "    testY = Y[test_idx]\n",
    "    testx = X[test_idx]\n",
    "    \n",
    "    trainX = mp.batch_transform(trainx, scale_method = 'standard')\n",
    "    testX = mp.batch_transform(testx, scale_method = 'standard')  \n",
    "\n",
    "    clf = AggModel.MultiClassEstimator(epochs = 30, conv1_kernel_size = 5, batch_size = 1, gpuid = 2, verbose = 0)\n",
    "    clf.fit(trainX, trainY)    \n",
    "    \n",
    "    y_true = testY[:,0]\n",
    "    y_pred = clf.predict(testX)[:,0]\n",
    "    y_score = clf.predict_proba(testX)[:,0] ##对test_x进行预测，返回值为array数组，其中每行都代表一个样本，第一个值表示预测为0的概率，第二个值表示预测为1的概率，并且每行的概率值之和都为1。\n",
    "\n",
    "    tn, fp, fn, tp = confusion_matrix(y_true, y_pred).ravel()\n",
    "\n",
    "    acc = (tp + tn) / sum([tn, fp, fn, tp])\n",
    "\n",
    "    sensitivity = tp / sum([tp, fn])\n",
    "    specificity = tn / sum([tn, fp])\n",
    "\n",
    "    prc_auc = prc_auc_score(y_true, y_score)\n",
    "    roc_auc = roc_auc_score(y_true, y_score)\n",
    "\n",
    "    precision = tp / sum([tp, fp])\n",
    "    recall =  tp / sum([tp, fn]) #equals to sensitivity\n",
    "\n",
    "\n",
    "    res = {#'train_country': train_country,\n",
    "            'test_country':test_country,\n",
    "            'accuracy':acc, \n",
    "            'prc_auc':prc_auc, \n",
    "            'roc_auc':roc_auc,\n",
    "            'sensitivity': sensitivity, \n",
    "            'specificity': specificity,\n",
    "            'precision':precision,\n",
    "            'recall':recall,\n",
    "              }\n",
    "    run_all.append(res)    "
   ]
  },
  {
   "cell_type": "code",
   "execution_count": 95,
   "metadata": {},
   "outputs": [
    {
     "data": {
      "text/plain": [
       "300098"
      ]
     },
     "execution_count": 95,
     "metadata": {},
     "output_type": "execute_result"
    }
   ],
   "source": [
    "clf._model.count_params()"
   ]
  },
  {
   "cell_type": "code",
   "execution_count": 96,
   "metadata": {},
   "outputs": [
    {
     "data": {
      "text/html": [
       "<div>\n",
       "<style scoped>\n",
       "    .dataframe tbody tr th:only-of-type {\n",
       "        vertical-align: middle;\n",
       "    }\n",
       "\n",
       "    .dataframe tbody tr th {\n",
       "        vertical-align: top;\n",
       "    }\n",
       "\n",
       "    .dataframe thead th {\n",
       "        text-align: right;\n",
       "    }\n",
       "</style>\n",
       "<table border=\"1\" class=\"dataframe\">\n",
       "  <thead>\n",
       "    <tr style=\"text-align: right;\">\n",
       "      <th></th>\n",
       "      <th>test_country</th>\n",
       "      <th>accuracy</th>\n",
       "      <th>prc_auc</th>\n",
       "      <th>roc_auc</th>\n",
       "      <th>sensitivity</th>\n",
       "      <th>specificity</th>\n",
       "      <th>precision</th>\n",
       "      <th>recall</th>\n",
       "    </tr>\n",
       "  </thead>\n",
       "  <tbody>\n",
       "    <tr>\n",
       "      <th>0</th>\n",
       "      <td>AUS</td>\n",
       "      <td>0.844037</td>\n",
       "      <td>0.917441</td>\n",
       "      <td>0.920635</td>\n",
       "      <td>0.739130</td>\n",
       "      <td>0.920635</td>\n",
       "      <td>0.871795</td>\n",
       "      <td>0.739130</td>\n",
       "    </tr>\n",
       "    <tr>\n",
       "      <th>1</th>\n",
       "      <td>CHI</td>\n",
       "      <td>0.765625</td>\n",
       "      <td>0.886529</td>\n",
       "      <td>0.851727</td>\n",
       "      <td>0.729730</td>\n",
       "      <td>0.814815</td>\n",
       "      <td>0.843750</td>\n",
       "      <td>0.729730</td>\n",
       "    </tr>\n",
       "    <tr>\n",
       "      <th>2</th>\n",
       "      <td>FRA</td>\n",
       "      <td>0.710526</td>\n",
       "      <td>0.853104</td>\n",
       "      <td>0.838849</td>\n",
       "      <td>0.792453</td>\n",
       "      <td>0.639344</td>\n",
       "      <td>0.656250</td>\n",
       "      <td>0.792453</td>\n",
       "    </tr>\n",
       "    <tr>\n",
       "      <th>3</th>\n",
       "      <td>GER</td>\n",
       "      <td>0.850000</td>\n",
       "      <td>0.922430</td>\n",
       "      <td>0.910278</td>\n",
       "      <td>0.766667</td>\n",
       "      <td>0.933333</td>\n",
       "      <td>0.920000</td>\n",
       "      <td>0.766667</td>\n",
       "    </tr>\n",
       "    <tr>\n",
       "      <th>4</th>\n",
       "      <td>USA</td>\n",
       "      <td>0.682692</td>\n",
       "      <td>0.786532</td>\n",
       "      <td>0.726701</td>\n",
       "      <td>0.557692</td>\n",
       "      <td>0.807692</td>\n",
       "      <td>0.743590</td>\n",
       "      <td>0.557692</td>\n",
       "    </tr>\n",
       "  </tbody>\n",
       "</table>\n",
       "</div>"
      ],
      "text/plain": [
       "  test_country  accuracy   prc_auc   roc_auc  sensitivity  specificity  \\\n",
       "0          AUS  0.844037  0.917441  0.920635     0.739130     0.920635   \n",
       "1          CHI  0.765625  0.886529  0.851727     0.729730     0.814815   \n",
       "2          FRA  0.710526  0.853104  0.838849     0.792453     0.639344   \n",
       "3          GER  0.850000  0.922430  0.910278     0.766667     0.933333   \n",
       "4          USA  0.682692  0.786532  0.726701     0.557692     0.807692   \n",
       "\n",
       "   precision    recall  \n",
       "0   0.871795  0.739130  \n",
       "1   0.843750  0.729730  \n",
       "2   0.656250  0.792453  \n",
       "3   0.920000  0.766667  \n",
       "4   0.743590  0.557692  "
      ]
     },
     "execution_count": 96,
     "metadata": {},
     "output_type": "execute_result"
    }
   ],
   "source": [
    "df = pd.DataFrame(run_all)\n",
    "df.to_csv('./run_all_LOSO.csv')\n",
    "df"
   ]
  },
  {
   "cell_type": "code",
   "execution_count": 3,
   "metadata": {},
   "outputs": [],
   "source": [
    "df = pd.read_csv('./run_all_LOSO.csv', index_col = 0)\n",
    "df['test_country'] = df.test_country.map({'AUS':\"AUS\", 'CHI':'CHN', 'FRA':'FRA', 'GER':'DEU', 'USA':'USA'})"
   ]
  },
  {
   "cell_type": "code",
   "execution_count": 4,
   "metadata": {},
   "outputs": [],
   "source": [
    "dfres = pd.crosstab(index = 'roc_auc', columns= df.test_country, values= df.roc_auc, aggfunc = np.mean)\n",
    "dfres.to_excel('./LOSO_results_ROC.xlsx')"
   ]
  },
  {
   "cell_type": "code",
   "execution_count": 5,
   "metadata": {},
   "outputs": [
    {
     "data": {
      "text/html": [
       "<div>\n",
       "<style scoped>\n",
       "    .dataframe tbody tr th:only-of-type {\n",
       "        vertical-align: middle;\n",
       "    }\n",
       "\n",
       "    .dataframe tbody tr th {\n",
       "        vertical-align: top;\n",
       "    }\n",
       "\n",
       "    .dataframe thead th {\n",
       "        text-align: right;\n",
       "    }\n",
       "</style>\n",
       "<table border=\"1\" class=\"dataframe\">\n",
       "  <thead>\n",
       "    <tr style=\"text-align: right;\">\n",
       "      <th>row_0</th>\n",
       "      <th>roc_auc</th>\n",
       "    </tr>\n",
       "    <tr>\n",
       "      <th>test_country</th>\n",
       "      <th></th>\n",
       "    </tr>\n",
       "  </thead>\n",
       "  <tbody>\n",
       "    <tr>\n",
       "      <th>AUS</th>\n",
       "      <td>0.920635</td>\n",
       "    </tr>\n",
       "    <tr>\n",
       "      <th>CHN</th>\n",
       "      <td>0.851727</td>\n",
       "    </tr>\n",
       "    <tr>\n",
       "      <th>DEU</th>\n",
       "      <td>0.910278</td>\n",
       "    </tr>\n",
       "    <tr>\n",
       "      <th>FRA</th>\n",
       "      <td>0.838849</td>\n",
       "    </tr>\n",
       "    <tr>\n",
       "      <th>USA</th>\n",
       "      <td>0.726701</td>\n",
       "    </tr>\n",
       "  </tbody>\n",
       "</table>\n",
       "</div>"
      ],
      "text/plain": [
       "row_0          roc_auc\n",
       "test_country          \n",
       "AUS           0.920635\n",
       "CHN           0.851727\n",
       "DEU           0.910278\n",
       "FRA           0.838849\n",
       "USA           0.726701"
      ]
     },
     "execution_count": 5,
     "metadata": {},
     "output_type": "execute_result"
    }
   ],
   "source": [
    "dfres.T"
   ]
  },
  {
   "cell_type": "code",
   "execution_count": 6,
   "metadata": {},
   "outputs": [],
   "source": [
    "def get_non_diag_mean(df):\n",
    "    v = df.values.copy()\n",
    "    np.fill_diagonal(v, np.nan)\n",
    "    mean =  pd.DataFrame(v, columns = df.columns, index = df.index).mean(axis=1).round(2)\n",
    "    std = pd.DataFrame(v, columns = df.columns, index = df.index).std(axis=1).round(2)\n",
    "    return mean,std"
   ]
  },
  {
   "cell_type": "code",
   "execution_count": 7,
   "metadata": {},
   "outputs": [],
   "source": [
    "study2study_df = pd.read_excel('./study2study_results_ROC.xlsx', index_col='train_country')"
   ]
  },
  {
   "cell_type": "code",
   "execution_count": 8,
   "metadata": {},
   "outputs": [
    {
     "data": {
      "text/html": [
       "<div>\n",
       "<style scoped>\n",
       "    .dataframe tbody tr th:only-of-type {\n",
       "        vertical-align: middle;\n",
       "    }\n",
       "\n",
       "    .dataframe tbody tr th {\n",
       "        vertical-align: top;\n",
       "    }\n",
       "\n",
       "    .dataframe thead th {\n",
       "        text-align: right;\n",
       "    }\n",
       "</style>\n",
       "<table border=\"1\" class=\"dataframe\">\n",
       "  <thead>\n",
       "    <tr style=\"text-align: right;\">\n",
       "      <th></th>\n",
       "      <th>AggMap-study2study</th>\n",
       "    </tr>\n",
       "    <tr>\n",
       "      <th>train_country</th>\n",
       "      <th></th>\n",
       "    </tr>\n",
       "  </thead>\n",
       "  <tbody>\n",
       "    <tr>\n",
       "      <th>AUS</th>\n",
       "      <td>0.79</td>\n",
       "    </tr>\n",
       "    <tr>\n",
       "      <th>CHI</th>\n",
       "      <td>0.82</td>\n",
       "    </tr>\n",
       "    <tr>\n",
       "      <th>FRA</th>\n",
       "      <td>0.86</td>\n",
       "    </tr>\n",
       "    <tr>\n",
       "      <th>GER</th>\n",
       "      <td>0.83</td>\n",
       "    </tr>\n",
       "    <tr>\n",
       "      <th>USA</th>\n",
       "      <td>0.78</td>\n",
       "    </tr>\n",
       "  </tbody>\n",
       "</table>\n",
       "</div>"
      ],
      "text/plain": [
       "               AggMap-study2study\n",
       "train_country                    \n",
       "AUS                          0.79\n",
       "CHI                          0.82\n",
       "FRA                          0.86\n",
       "GER                          0.83\n",
       "USA                          0.78"
      ]
     },
     "execution_count": 8,
     "metadata": {},
     "output_type": "execute_result"
    }
   ],
   "source": [
    "get_non_diag_mean(study2study_df)[0].to_frame(name = 'AggMap-study2study')"
   ]
  },
  {
   "cell_type": "code",
   "execution_count": 9,
   "metadata": {},
   "outputs": [],
   "source": [
    "y_previous =  {\"AUS\":0.85,\"CHN\": 0.84, \"FRA\":0.82, \"DEU\":0.90, \"USA\": 0.70}"
   ]
  },
  {
   "cell_type": "code",
   "execution_count": null,
   "metadata": {},
   "outputs": [],
   "source": []
  },
  {
   "cell_type": "code",
   "execution_count": 10,
   "metadata": {},
   "outputs": [],
   "source": [
    "order = ['FRA', 'AUS', 'CHN', 'USA', 'DEU']"
   ]
  },
  {
   "cell_type": "code",
   "execution_count": 14,
   "metadata": {},
   "outputs": [
    {
     "data": {
      "image/png": "[encoded data removed]",
      "text/plain": [
       "<Figure size 1008x432 with 1 Axes>"
      ]
     },
     "metadata": {},
     "output_type": "display_data"
    }
   ],
   "source": [
    "sns.set(style = 'white', font_scale=1.8)\n",
    "\n",
    "fig, ax = plt.subplots(nrows=1, ncols=1, figsize=(14,6), sharex = True, sharey = True)\n",
    "\n",
    "y1 = pd.Series(y_previous).to_frame(name = 'LASSO-LOSO')\n",
    "y2 = dfres.T['roc_auc'].to_frame(name = 'AggMapNet-LOSO')\n",
    "\n",
    "#y1_err = get_non_diag_mean(study2study_df)[1].to_frame(name = 'AggMap-study2study')\n",
    "#y2_err = get_non_diag_mean(ourmodel_df)[1].to_frame(name = 'AggMap-LOSO')\n",
    "\n",
    "y = y1.join(y2)\n",
    "#y_err = y1_err #.join(y2_err)\n",
    "\n",
    "y = y.loc[order]\n",
    "#y_err = y_err.loc[order]\n",
    "\n",
    "color = sns.color_palette(\"rainbow_r\", 5) #PiYG\n",
    "\n",
    "y.plot(kind = 'bar',ax = ax, color = color, ylim = (0.5, 0.96), error_kw=dict(ecolor='gray', lw=2, capsize=6, capthick=2))\n",
    "ax.set_ylabel('ROC-AUC')\n",
    "ax.set_xlabel('Test country')\n",
    "ax.set_ylim(0.5,1.1)\n",
    "\n",
    "\n",
    "for x_, y_ in enumerate(y['LASSO-LOSO'].values):\n",
    "    ax.annotate('%.2f' % y_, xy = (x_-0.27, y_+0.002), fontsize =18)\n",
    "\n",
    "for  x_, y_ in enumerate(y['AggMapNet-LOSO'].values):\n",
    "    ax.annotate('%.2f' % y_, xy = (x_, y_+0.002), fontsize =18)\n",
    "    \n",
    "ax.set_xticklabels(labels = y.index,rotation=0, ha = 'center')\n",
    "\n",
    "fig.savefig('./results/loso_aggmap_vs_lasso.png', bbox_inches='tight', dpi=400) \n",
    "fig.savefig('./results/loso_aggmap_vs_lasso.svg', bbox_inches='tight', dpi=400) "
   ]
  },
  {
   "cell_type": "code",
   "execution_count": null,
   "metadata": {},
   "outputs": [],
   "source": []
  },
  {
   "cell_type": "code",
   "execution_count": null,
   "metadata": {},
   "outputs": [],
   "source": []
  },
  {
   "cell_type": "code",
   "execution_count": null,
   "metadata": {},
   "outputs": [],
   "source": []
  },
  {
   "cell_type": "code",
   "execution_count": null,
   "metadata": {},
   "outputs": [],
   "source": []
  },
  {
   "cell_type": "code",
   "execution_count": null,
   "metadata": {},
   "outputs": [],
   "source": []
  }
 ],
 "metadata": {
  "kernelspec": {
   "display_name": "Python 3",
   "language": "python",
   "name": "python3"
  },
  "language_info": {
   "codemirror_mode": {
    "name": "ipython",
    "version": 3
   },
   "file_extension": ".py",
   "mimetype": "text/x-python",
   "name": "python",
   "nbconvert_exporter": "python",
   "pygments_lexer": "ipython3",
   "version": "3.6.9"
  }
 },
 "nbformat": 4,
 "nbformat_minor": 4
}
