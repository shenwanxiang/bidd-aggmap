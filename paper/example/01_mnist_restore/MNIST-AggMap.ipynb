{
 "cells": [
  {
   "cell_type": "code",
   "execution_count": 1,
   "id": "e374cee0-2db8-4df5-a1f1-7be63928112b",
   "metadata": {},
   "outputs": [],
   "source": [
    "import pandas as pd\n",
    "import numpy as np\n",
    "import tensorflow as tf\n",
    "from sklearn.utils import shuffle\n",
    "import matplotlib.pyplot as plt\n",
    "from aggmap import AggMap\n"
   ]
  },
  {
   "cell_type": "code",
   "execution_count": 2,
   "id": "72eb532d-0cd5-45a7-b453-ed108fcef78d",
   "metadata": {},
   "outputs": [],
   "source": [
    "(x_train, y_train), (x_test, y_test) = tf.keras.datasets.mnist.load_data() #load data"
   ]
  },
  {
   "cell_type": "code",
   "execution_count": 3,
   "id": "4e87802f-df13-4957-87fd-b0e562b2d9b3",
   "metadata": {},
   "outputs": [],
   "source": [
    "_, w, h = x_train.shape\n",
    "orignal_cols = ['p-%s' % str((i+1)).zfill(len(str(w*h))) for i in range(w*h)]\n",
    "x_train_df = pd.DataFrame(x_train.reshape(x_train.shape[0], w*h), columns=orignal_cols)\n",
    "x_test_df = pd.DataFrame(x_test.reshape(x_test.shape[0], w*h), columns=orignal_cols)"
   ]
  },
  {
   "cell_type": "code",
   "execution_count": 4,
   "id": "3ed7d521-0c83-4e03-808b-1d9559f11363",
   "metadata": {},
   "outputs": [
    {
     "data": {
      "image/png": "[encoded data removed]",
      "text/plain": [
       "<Figure size 432x288 with 1 Axes>"
      ]
     },
     "metadata": {
      "needs_background": "light"
     },
     "output_type": "display_data"
    }
   ],
   "source": [
    "ax = plt.imshow(x_train_df.iloc[0].values.reshape(w,h))"
   ]
  },
  {
   "cell_type": "code",
   "execution_count": 5,
   "id": "5e3d1cb8-a894-4626-a8f2-e6a96778d7c8",
   "metadata": {},
   "outputs": [
    {
     "data": {
      "image/png": "[encoded data removed]",
      "text/plain": [
       "<Figure size 432x288 with 1 Axes>"
      ]
     },
     "metadata": {
      "needs_background": "light"
     },
     "output_type": "display_data"
    }
   ],
   "source": [
    "ax = plt.imshow(x_test_df.iloc[0].values.reshape(w,h))"
   ]
  },
  {
   "cell_type": "code",
   "execution_count": null,
   "id": "7363c597-3df6-41ce-820f-b5ffadd3bf80",
   "metadata": {},
   "outputs": [],
   "source": []
  },
  {
   "cell_type": "markdown",
   "id": "66189c02-746a-4652-8956-90021183e6e7",
   "metadata": {},
   "source": [
    "## Step1: MNIST pixel random permutation"
   ]
  },
  {
   "cell_type": "code",
   "execution_count": 6,
   "id": "9b75a33b-86c1-4aa1-beb3-aacfa0838dff",
   "metadata": {},
   "outputs": [],
   "source": [
    "shuffled_cols = shuffle(orignal_cols, random_state=111)\n",
    "x_train_df_shuffled = x_train_df[shuffled_cols]\n",
    "x_test_df_shuffled = x_test_df[shuffled_cols]"
   ]
  },
  {
   "cell_type": "code",
   "execution_count": 7,
   "id": "50a60f1d-f38f-4a01-90f9-de9fbbddd5bb",
   "metadata": {},
   "outputs": [
    {
     "data": {
      "image/png": "[encoded data removed]",
      "text/plain": [
       "<Figure size 432x288 with 1 Axes>"
      ]
     },
     "metadata": {
      "needs_background": "light"
     },
     "output_type": "display_data"
    }
   ],
   "source": [
    "ax = plt.imshow(x_train_df_shuffled.iloc[0].values.reshape(w,h))"
   ]
  },
  {
   "cell_type": "code",
   "execution_count": 8,
   "id": "970f5165-da92-4cca-af8f-6ff6f20b19c6",
   "metadata": {},
   "outputs": [
    {
     "data": {
      "image/png": "[encoded data removed]",
      "text/plain": [
       "<Figure size 432x288 with 1 Axes>"
      ]
     },
     "metadata": {
      "needs_background": "light"
     },
     "output_type": "display_data"
    }
   ],
   "source": [
    "ax = plt.imshow(x_test_df_shuffled.iloc[0].values.reshape(w,h))"
   ]
  },
  {
   "cell_type": "code",
   "execution_count": null,
   "id": "2e2d3b34-4ba0-4f03-aaec-dc727dc3f10c",
   "metadata": {},
   "outputs": [],
   "source": []
  },
  {
   "cell_type": "markdown",
   "id": "5ff55cb0-d6a7-4490-b8e9-3f2a7a5b82ae",
   "metadata": {},
   "source": [
    "## Step2: AggMap pre-fitting on training set"
   ]
  },
  {
   "cell_type": "code",
   "execution_count": 9,
   "id": "ba9efed8-11f9-42dd-9819-a171551a5c6b",
   "metadata": {},
   "outputs": [
    {
     "name": "stdout",
     "output_type": "stream",
     "text": [
      "2021-10-04 02:32:45,967 - \u001b[32mINFO\u001b[0m - [bidd-aggmap]\u001b[0m - Calculating distance ...\u001b[0m\n",
      "2021-10-04 02:32:46,004 - \u001b[32mINFO\u001b[0m - [bidd-aggmap]\u001b[0m - the number of process is 16\u001b[0m\n"
     ]
    },
    {
     "name": "stderr",
     "output_type": "stream",
     "text": [
      "100%|#########################################################################| 306936/306936 [00:54<00:00, 5664.44it/s]\n",
      "100%|######################################################################| 306936/306936 [00:00<00:00, 1966620.01it/s]\n",
      "100%|################################################################################| 784/784 [00:02<00:00, 362.02it/s]\n"
     ]
    },
    {
     "name": "stdout",
     "output_type": "stream",
     "text": [
      "2021-10-04 02:33:42,732 - \u001b[32mINFO\u001b[0m - [bidd-aggmap]\u001b[0m - applying hierarchical clustering to obtain group information ...\u001b[0m\n",
      "2021-10-04 02:33:46,554 - \u001b[32mINFO\u001b[0m - [bidd-aggmap]\u001b[0m - Applying grid feature map(assignment), this may take several minutes(1~30 min)\u001b[0m\n",
      "2021-10-04 02:33:47,175 - \u001b[32mINFO\u001b[0m - [bidd-aggmap]\u001b[0m - Finished\u001b[0m\n"
     ]
    }
   ],
   "source": [
    "mp = AggMap(x_train_df_shuffled, metric='correlation')\n",
    "mp = mp.fit(cluster_channels=1, var_thr=0, verbose=0)"
   ]
  },
  {
   "cell_type": "code",
   "execution_count": null,
   "id": "816902d4-0d94-441f-a577-1e0cc472d6ab",
   "metadata": {},
   "outputs": [],
   "source": []
  },
  {
   "cell_type": "markdown",
   "id": "6cfc6f5d-7bae-409e-9789-ef371cbc7d06",
   "metadata": {},
   "source": [
    "## Step3: AggMap transformation on training and test test"
   ]
  },
  {
   "cell_type": "code",
   "execution_count": 10,
   "id": "0aabf684-e8c7-4c5e-b170-c335ea07828d",
   "metadata": {},
   "outputs": [
    {
     "name": "stderr",
     "output_type": "stream",
     "text": [
      "100%|###########################################################################| 60000/60000 [00:29<00:00, 2043.71it/s]\n",
      "100%|###########################################################################| 10000/10000 [00:04<00:00, 2351.53it/s]\n"
     ]
    }
   ],
   "source": [
    "x_train_restructured = mp.batch_transform(x_train_df_shuffled.values)\n",
    "x_test_restructured = mp.batch_transform(x_test_df_shuffled.values)"
   ]
  },
  {
   "cell_type": "code",
   "execution_count": 11,
   "id": "72ff0bd8-80f8-4ec4-bf1d-9fc5ea242915",
   "metadata": {},
   "outputs": [
    {
     "data": {
      "image/png": "[encoded data removed]",
      "text/plain": [
       "<Figure size 432x288 with 1 Axes>"
      ]
     },
     "metadata": {
      "needs_background": "light"
     },
     "output_type": "display_data"
    }
   ],
   "source": [
    "ax = plt.imshow(x_train_restructured[0].reshape(*mp.fmap_shape))"
   ]
  },
  {
   "cell_type": "code",
   "execution_count": 12,
   "id": "7299d60d-470c-4cbc-b617-a9515b270319",
   "metadata": {},
   "outputs": [
    {
     "data": {
      "image/png": "[encoded data removed]",
      "text/plain": [
       "<Figure size 432x288 with 1 Axes>"
      ]
     },
     "metadata": {
      "needs_background": "light"
     },
     "output_type": "display_data"
    }
   ],
   "source": [
    "ax = plt.imshow(x_test_restructured[0].reshape(*mp.fmap_shape))"
   ]
  }
 ],
 "metadata": {
  "kernelspec": {
   "display_name": "Python 3 (ipykernel)",
   "language": "python",
   "name": "python3"
  },
  "language_info": {
   "codemirror_mode": {
    "name": "ipython",
    "version": 3
   },
   "file_extension": ".py",
   "mimetype": "text/x-python",
   "name": "python",
   "nbconvert_exporter": "python",
   "pygments_lexer": "ipython3",
   "version": "3.8.11"
  }
 },
 "nbformat": 4,
 "nbformat_minor": 5
}
