{
 "cells": [
  {
   "cell_type": "code",
   "execution_count": 1,
   "id": "370cfd26-1b60-463c-baaf-70c8e55f0bd3",
   "metadata": {
    "tags": []
   },
   "outputs": [],
   "source": [
    "# -*- coding: utf-8 -*-\n",
    "\"\"\"\n",
    "Example pipeline code for \n",
    "1) AggMap multi-channel Fmaps transformation; \n",
    "2) AggMapNet model traininng, validation;\n",
    "3) AggModel explainations using Shap and Simp values.\n",
    "\"\"\"\n",
    "\n",
    "from sklearn.datasets import load_breast_cancer\n",
    "from aggmap import AggMap, AggMapNet\n",
    "import pandas as pd\n",
    "\n",
    "# Data loading\n",
    "data = load_breast_cancer()\n",
    "dfx = pd.DataFrame(data.data, columns=data.feature_names)\n",
    "dfy = pd.get_dummies(pd.Series(data.target))\n"
   ]
  },
  {
   "cell_type": "markdown",
   "id": "e0b7a3a2-e10f-4a0e-bef2-b5a179456163",
   "metadata": {},
   "source": [
    "## 传入一个自定义的距离： info_dist, should be a vector-form distance"
   ]
  },
  {
   "cell_type": "code",
   "execution_count": 2,
   "id": "22698c34-849d-47d7-a4e9-6638d039ccb3",
   "metadata": {},
   "outputs": [
    {
     "name": "stdout",
     "output_type": "stream",
     "text": [
      "2021-10-11 11:18:06,236 - \u001b[32mINFO\u001b[0m - [bidd-aggmap]\u001b[0m - skip to calculate the distance\u001b[0m\n"
     ]
    },
    {
     "name": "stderr",
     "output_type": "stream",
     "text": [
      "100%|##########| 30/30 [00:00<00:00, 1047.53it/s]\n"
     ]
    }
   ],
   "source": [
    "from scipy.spatial.distance import pdist\n",
    "info_dist = pdist(dfx.T, metric='canberra')\n",
    "mp = AggMap(dfx, info_distance = info_dist)"
   ]
  },
  {
   "cell_type": "code",
   "execution_count": null,
   "id": "dd17edf4-5ec8-4376-8ae6-3ebf0f865a00",
   "metadata": {},
   "outputs": [],
   "source": []
  },
  {
   "cell_type": "code",
   "execution_count": 3,
   "id": "8c6c6bb3-7ca2-4a5d-aa61-b4432300dc42",
   "metadata": {},
   "outputs": [
    {
     "name": "stdout",
     "output_type": "stream",
     "text": [
      "2021-10-11 11:18:06,322 - \u001b[32mINFO\u001b[0m - [bidd-aggmap]\u001b[0m - applying hierarchical clustering to obtain group information ...\u001b[0m\n",
      "UMAP(a=None, angular_rp_forest=False, b=None, dens_frac=0.0, dens_lambda=0.0,\n",
      "     dens_var_shift=0.1, densmap=False, disconnection_distance=None,\n",
      "     force_approximation_algorithm=False, init='spectral', learning_rate=1.0,\n",
      "     local_connectivity=1.0, low_memory=True, metric='precomputed',\n",
      "     metric_kwds=None, min_dist=0.1, n_components=2, n_epochs=None, n_jobs=-1,\n",
      "     n_neighbors=15, negative_sample_rate=5, output_dens=False,\n",
      "     output_metric='euclidean', output_metric_kwds=None, random_state=32,\n",
      "     repulsion_strength=1.0, set_op_mix_ratio=1.0, spread=1.0,\n",
      "     target_metric='categorical', target_metric_kwds=None, ...)\n",
      "Construct fuzzy simplicial set\n",
      "Mon Oct 11 11:18:06 2021 Finding Nearest Neighbors\n",
      "Mon Oct 11 11:18:08 2021 Finished Nearest Neighbor Search\n",
      "Mon Oct 11 11:18:09 2021 Construct embedding\n",
      "\tcompleted  0  /  500 epochs\n",
      "\tcompleted  50  /  500 epochs\n",
      "\tcompleted  100  /  500 epochs\n",
      "\tcompleted  150  /  500 epochs\n",
      "\tcompleted  200  /  500 epochs\n",
      "\tcompleted  250  /  500 epochs\n",
      "\tcompleted  300  /  500 epochs\n",
      "\tcompleted  350  /  500 epochs\n",
      "\tcompleted  400  /  500 epochs\n",
      "\tcompleted  450  /  500 epochs\n",
      "Mon Oct 11 11:18:10 2021 Finished embedding\n",
      "2021-10-11 11:18:10,455 - \u001b[32mINFO\u001b[0m - [bidd-aggmap]\u001b[0m - Applying grid feature map(assignment), this may take several minutes(1~30 min)\u001b[0m\n",
      "2021-10-11 11:18:10,462 - \u001b[32mINFO\u001b[0m - [bidd-aggmap]\u001b[0m - Finished\u001b[0m\n"
     ]
    },
    {
     "data": {
      "text/plain": [
       "<aggmap.map.AggMap at 0x7fb1f01f2160>"
      ]
     },
     "execution_count": 3,
     "metadata": {},
     "output_type": "execute_result"
    }
   ],
   "source": [
    "mp.fit()"
   ]
  },
  {
   "cell_type": "code",
   "execution_count": null,
   "id": "8d0dbfa2-4aff-4dcc-a7e3-651a5c7f678b",
   "metadata": {},
   "outputs": [],
   "source": []
  }
 ],
 "metadata": {
  "kernelspec": {
   "display_name": "Python 3",
   "language": "python",
   "name": "python3"
  },
  "language_info": {
   "codemirror_mode": {
    "name": "ipython",
    "version": 3
   },
   "file_extension": ".py",
   "mimetype": "text/x-python",
   "name": "python",
   "nbconvert_exporter": "python",
   "pygments_lexer": "ipython3",
   "version": "3.6.10"
  }
 },
 "nbformat": 4,
 "nbformat_minor": 5
}
