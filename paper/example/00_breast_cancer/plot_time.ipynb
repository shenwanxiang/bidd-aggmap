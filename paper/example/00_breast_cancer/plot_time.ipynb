{
 "cells": [
  {
   "cell_type": "markdown",
   "id": "74403734-e2d4-4df2-9c02-3f601563726d",
   "metadata": {},
   "source": [
    "## shap kernel-explainer: backgroud samples:10\n",
    "\n",
    "#### O(m*l*(2n+2048)), where l is the number of background samples, n is number of features and m is number of samples"
   ]
  },
  {
   "cell_type": "code",
   "execution_count": 35,
   "id": "50b75b53-4ae4-441e-a602-cef152571243",
   "metadata": {},
   "outputs": [],
   "source": [
    "import pandas as pd\n",
    "import seaborn as sns\n",
    "import matplotlib.pyplot as plt"
   ]
  },
  {
   "cell_type": "code",
   "execution_count": null,
   "id": "b3464074-e898-4606-ba9c-7d85461008a9",
   "metadata": {},
   "outputs": [],
   "source": []
  },
  {
   "cell_type": "code",
   "execution_count": 36,
   "id": "0c009855-ec86-4cd1-a6f6-e4037d2a0635",
   "metadata": {},
   "outputs": [],
   "source": [
    "df = pd.read_csv('time.csv')"
   ]
  },
  {
   "cell_type": "code",
   "execution_count": 37,
   "id": "ab2a6b41-0d41-4733-a797-d70d75a82c26",
   "metadata": {},
   "outputs": [],
   "source": [
    "df = df.unstack().reset_index()\n",
    "\n",
    "df.columns = ['explainer', 'repeats', 'time(s)']"
   ]
  },
  {
   "cell_type": "code",
   "execution_count": 38,
   "id": "70b73338-3122-49aa-9827-b2604680e08d",
   "metadata": {},
   "outputs": [
    {
     "data": {
      "text/html": [
       "<div>\n",
       "<style scoped>\n",
       "    .dataframe tbody tr th:only-of-type {\n",
       "        vertical-align: middle;\n",
       "    }\n",
       "\n",
       "    .dataframe tbody tr th {\n",
       "        vertical-align: top;\n",
       "    }\n",
       "\n",
       "    .dataframe thead th {\n",
       "        text-align: right;\n",
       "    }\n",
       "</style>\n",
       "<table border=\"1\" class=\"dataframe\">\n",
       "  <thead>\n",
       "    <tr style=\"text-align: right;\">\n",
       "      <th></th>\n",
       "      <th>explainer</th>\n",
       "      <th>repeats</th>\n",
       "      <th>time(s)</th>\n",
       "    </tr>\n",
       "  </thead>\n",
       "  <tbody>\n",
       "    <tr>\n",
       "      <th>0</th>\n",
       "      <td>Shap-explainer</td>\n",
       "      <td>0</td>\n",
       "      <td>3812.300000</td>\n",
       "    </tr>\n",
       "    <tr>\n",
       "      <th>1</th>\n",
       "      <td>Shap-explainer</td>\n",
       "      <td>1</td>\n",
       "      <td>3829.370000</td>\n",
       "    </tr>\n",
       "    <tr>\n",
       "      <th>2</th>\n",
       "      <td>Shap-explainer</td>\n",
       "      <td>2</td>\n",
       "      <td>3835.060000</td>\n",
       "    </tr>\n",
       "    <tr>\n",
       "      <th>3</th>\n",
       "      <td>Simp-explainer</td>\n",
       "      <td>0</td>\n",
       "      <td>2.501675</td>\n",
       "    </tr>\n",
       "    <tr>\n",
       "      <th>4</th>\n",
       "      <td>Simp-explainer</td>\n",
       "      <td>1</td>\n",
       "      <td>2.388111</td>\n",
       "    </tr>\n",
       "    <tr>\n",
       "      <th>5</th>\n",
       "      <td>Simp-explainer</td>\n",
       "      <td>2</td>\n",
       "      <td>2.249441</td>\n",
       "    </tr>\n",
       "  </tbody>\n",
       "</table>\n",
       "</div>"
      ],
      "text/plain": [
       "        explainer  repeats      time(s)\n",
       "0  Shap-explainer        0  3812.300000\n",
       "1  Shap-explainer        1  3829.370000\n",
       "2  Shap-explainer        2  3835.060000\n",
       "3  Simp-explainer        0     2.501675\n",
       "4  Simp-explainer        1     2.388111\n",
       "5  Simp-explainer        2     2.249441"
      ]
     },
     "execution_count": 38,
     "metadata": {},
     "output_type": "execute_result"
    }
   ],
   "source": [
    "df"
   ]
  },
  {
   "cell_type": "code",
   "execution_count": 69,
   "id": "92abe92f-3f42-412a-9def-c027429eab35",
   "metadata": {},
   "outputs": [
    {
     "data": {
      "image/png": "[encoded data removed]",
      "text/plain": [
       "<Figure size 432x576 with 1 Axes>"
      ]
     },
     "metadata": {},
     "output_type": "display_data"
    }
   ],
   "source": [
    "import seaborn as sns\n",
    "sns.set(font_scale=1.4, style='white')\n",
    "\n",
    "fig, ax = plt.subplots(figsize=(6,8))\n",
    "\n",
    "g = sns.barplot(x = 'explainer', y = 'time(s)', data =  df, ax=ax)\n",
    "\n",
    "g.set_yscale(\"log\")\n",
    "_ = g.set(xlabel=\" \", ylabel=\"time(s)\")\n",
    "\n",
    "ax.tick_params(axis='x', rotation=0, labelsize=20)\n",
    "ax.tick_params(axis='y', rotation=0, labelsize=20)\n",
    "ax.set_ylabel(\"Time(s)\", fontsize=22)\n",
    "sns.despine(ax = ax, top=True, right=True, left=False, bottom=False)\n",
    "\n",
    "ax.text(-0.2, 4200, '~1 hr', fontsize=22)\n",
    "ax.text(0.65, 4, '~2.3 sec', fontsize=22)\n",
    "\n",
    "fig.savefig('./time.pdf', bbox_inches='tight', dpi=400) "
   ]
  },
  {
   "cell_type": "code",
   "execution_count": null,
   "id": "2f0540f8-7bd2-484a-b6ea-960331ae848e",
   "metadata": {},
   "outputs": [],
   "source": []
  },
  {
   "cell_type": "code",
   "execution_count": null,
   "id": "63eb182b-40b1-4581-a80e-320a81ba1985",
   "metadata": {},
   "outputs": [],
   "source": []
  },
  {
   "cell_type": "code",
   "execution_count": null,
   "id": "6db1d809-f08e-4e40-877c-c271fd38a72d",
   "metadata": {},
   "outputs": [],
   "source": []
  }
 ],
 "metadata": {
  "kernelspec": {
   "display_name": "Python 3",
   "language": "python",
   "name": "python3"
  },
  "language_info": {
   "codemirror_mode": {
    "name": "ipython",
    "version": 3
   },
   "file_extension": ".py",
   "mimetype": "text/x-python",
   "name": "python",
   "nbconvert_exporter": "python",
   "pygments_lexer": "ipython3",
   "version": "3.6.10"
  }
 },
 "nbformat": 4,
 "nbformat_minor": 5
}
