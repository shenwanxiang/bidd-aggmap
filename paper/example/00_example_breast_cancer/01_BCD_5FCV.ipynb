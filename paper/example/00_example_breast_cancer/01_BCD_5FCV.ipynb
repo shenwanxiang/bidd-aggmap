{
 "cells": [
  {
   "cell_type": "code",
   "execution_count": 1,
   "metadata": {},
   "outputs": [
    {
     "data": {
      "image/png": "[encoded data removed]",
      "text/plain": [
       "<Figure size 432x72 with 1 Axes>"
      ]
     },
     "metadata": {
      "needs_background": "light"
     },
     "output_type": "display_data"
    }
   ],
   "source": [
    "import warnings\n",
    "warnings.filterwarnings(\"ignore\")\n",
    "\n",
    "\n",
    "import pandas as pd\n",
    "import numpy as np\n",
    "\n",
    "from sklearn.model_selection import KFold, StratifiedKFold\n",
    "from sklearn.metrics import confusion_matrix, precision_recall_curve\n",
    "from sklearn.metrics import auc as calculate_auc\n",
    "from sklearn.datasets import load_breast_cancer\n",
    "\n",
    "import matplotlib.pyplot as plt\n",
    "import seaborn as sns\n",
    "\n",
    "from aggmap import AggMap, AggModel\n",
    "\n",
    "np.random.seed(888) #just for reaptable results\n",
    "\n",
    "\n",
    "color = sns.color_palette(\"rainbow_r\", 6) #PiYG\n",
    "sns.palplot(color)"
   ]
  },
  {
   "cell_type": "code",
   "execution_count": null,
   "metadata": {},
   "outputs": [],
   "source": []
  },
  {
   "cell_type": "code",
   "execution_count": 2,
   "metadata": {},
   "outputs": [],
   "source": [
    "data = load_breast_cancer()\n",
    "dfx = pd.DataFrame(data.data, columns= data.feature_names)\n",
    "y = pd.Series(data.target).map({0:'malignant', 1:'benign'})\n",
    "dfy = pd.get_dummies(y)"
   ]
  },
  {
   "cell_type": "code",
   "execution_count": 3,
   "metadata": {},
   "outputs": [
    {
     "name": "stdout",
     "output_type": "stream",
     "text": [
      "2020-08-18 14:10:27,310 - INFO - [bidd-aggmap] - Calculating distance ...\n",
      "2020-08-18 14:10:27,314 - INFO - [bidd-aggmap] - the number of process is 16\n"
     ]
    },
    {
     "name": "stderr",
     "output_type": "stream",
     "text": [
      "100%|##########| 435/435 [00:01<00:00, 307.27it/s]\n",
      "100%|##########| 435/435 [00:00<00:00, 803400.37it/s]\n",
      "100%|##########| 30/30 [00:00<00:00, 972.92it/s]\n"
     ]
    }
   ],
   "source": [
    "X = dfx.values.astype(float)\n",
    "Y = dfy.values.astype(float)\n",
    "\n",
    "mp = AggMap(dfx, metric = 'correlation')"
   ]
  },
  {
   "cell_type": "code",
   "execution_count": 4,
   "metadata": {},
   "outputs": [
    {
     "name": "stdout",
     "output_type": "stream",
     "text": [
      "2020-08-18 14:10:29,080 - INFO - [bidd-aggmap] - applying hierarchical clustering to obtain group information ...\n",
      "2020-08-18 14:10:33,613 - INFO - [bidd-aggmap] - Applying grid feature map(assignment), this may take several minutes(1~30 min)\n",
      "2020-08-18 14:10:33,624 - INFO - [bidd-aggmap] - Finished\n"
     ]
    },
    {
     "name": "stderr",
     "output_type": "stream",
     "text": [
      "100%|##########| 455/455 [00:04<00:00, 94.60it/s]\n",
      "100%|##########| 114/114 [00:00<00:00, 1695.52it/s]\n"
     ]
    },
    {
     "name": "stdout",
     "output_type": "stream",
     "text": [
      "\n",
      " input train and test X shape is (455, 6, 5, 1), (114, 6, 5, 1) \n",
      "MultiClassEstimator(batch_size=128, conv1_kernel_size=11, dense_avf='relu',\n",
      "                    dense_layers=[128], epochs=200, lr=0.0001, metric='ROC',\n",
      "                    monitor='val_loss', name='AggMap MultiClass Estimator',\n",
      "                    patience=10000, random_state=32, verbose=0)\n"
     ]
    },
    {
     "name": "stderr",
     "output_type": "stream",
     "text": [
      "100%|##########| 455/455 [00:00<00:00, 1846.86it/s]\n",
      "100%|##########| 114/114 [00:00<00:00, 1732.80it/s]\n"
     ]
    },
    {
     "name": "stdout",
     "output_type": "stream",
     "text": [
      "\n",
      " input train and test X shape is (455, 6, 5, 1), (114, 6, 5, 1) \n",
      "MultiClassEstimator(batch_size=128, conv1_kernel_size=11, dense_avf='relu',\n",
      "                    dense_layers=[128], epochs=200, lr=0.0001, metric='ROC',\n",
      "                    monitor='val_loss', name='AggMap MultiClass Estimator',\n",
      "                    patience=10000, random_state=32, verbose=0)\n"
     ]
    },
    {
     "name": "stderr",
     "output_type": "stream",
     "text": [
      "100%|##########| 455/455 [00:00<00:00, 1838.31it/s]\n",
      "100%|##########| 114/114 [00:00<00:00, 1461.41it/s]\n"
     ]
    },
    {
     "name": "stdout",
     "output_type": "stream",
     "text": [
      "\n",
      " input train and test X shape is (455, 6, 5, 1), (114, 6, 5, 1) \n",
      "MultiClassEstimator(batch_size=128, conv1_kernel_size=11, dense_avf='relu',\n",
      "                    dense_layers=[128], epochs=200, lr=0.0001, metric='ROC',\n",
      "                    monitor='val_loss', name='AggMap MultiClass Estimator',\n",
      "                    patience=10000, random_state=32, verbose=0)\n"
     ]
    },
    {
     "name": "stderr",
     "output_type": "stream",
     "text": [
      "100%|##########| 455/455 [00:00<00:00, 1300.94it/s]\n",
      "100%|##########| 114/114 [00:00<00:00, 1523.24it/s]\n"
     ]
    },
    {
     "name": "stdout",
     "output_type": "stream",
     "text": [
      "\n",
      " input train and test X shape is (455, 6, 5, 1), (114, 6, 5, 1) \n",
      "MultiClassEstimator(batch_size=128, conv1_kernel_size=11, dense_avf='relu',\n",
      "                    dense_layers=[128], epochs=200, lr=0.0001, metric='ROC',\n",
      "                    monitor='val_loss', name='AggMap MultiClass Estimator',\n",
      "                    patience=10000, random_state=32, verbose=0)\n"
     ]
    },
    {
     "name": "stderr",
     "output_type": "stream",
     "text": [
      "100%|##########| 456/456 [00:00<00:00, 1167.79it/s]\n",
      "100%|##########| 113/113 [00:00<00:00, 1257.08it/s]\n"
     ]
    },
    {
     "name": "stdout",
     "output_type": "stream",
     "text": [
      "\n",
      " input train and test X shape is (456, 6, 5, 1), (113, 6, 5, 1) \n",
      "MultiClassEstimator(batch_size=128, conv1_kernel_size=11, dense_avf='relu',\n",
      "                    dense_layers=[128], epochs=200, lr=0.0001, metric='ROC',\n",
      "                    monitor='val_loss', name='AggMap MultiClass Estimator',\n",
      "                    patience=10000, random_state=32, verbose=0)\n",
      "2020-08-18 14:14:00,493 - INFO - [bidd-aggmap] - applying hierarchical clustering to obtain group information ...\n",
      "2020-08-18 14:14:00,628 - INFO - [bidd-aggmap] - Applying grid feature map(assignment), this may take several minutes(1~30 min)\n",
      "2020-08-18 14:14:00,644 - INFO - [bidd-aggmap] - Finished\n"
     ]
    },
    {
     "name": "stderr",
     "output_type": "stream",
     "text": [
      "100%|##########| 455/455 [00:00<00:00, 1632.57it/s]\n",
      "100%|##########| 114/114 [00:00<00:00, 1340.10it/s]\n"
     ]
    },
    {
     "name": "stdout",
     "output_type": "stream",
     "text": [
      "\n",
      " input train and test X shape is (455, 6, 5, 3), (114, 6, 5, 3) \n",
      "MultiClassEstimator(batch_size=128, conv1_kernel_size=11, dense_avf='relu',\n",
      "                    dense_layers=[128], epochs=200, lr=0.0001, metric='ROC',\n",
      "                    monitor='val_loss', name='AggMap MultiClass Estimator',\n",
      "                    patience=10000, random_state=32, verbose=0)\n"
     ]
    },
    {
     "name": "stderr",
     "output_type": "stream",
     "text": [
      "100%|##########| 455/455 [00:00<00:00, 1665.18it/s]\n",
      "100%|##########| 114/114 [00:00<00:00, 933.72it/s]\n"
     ]
    },
    {
     "name": "stdout",
     "output_type": "stream",
     "text": [
      "\n",
      " input train and test X shape is (455, 6, 5, 3), (114, 6, 5, 3) \n",
      "MultiClassEstimator(batch_size=128, conv1_kernel_size=11, dense_avf='relu',\n",
      "                    dense_layers=[128], epochs=200, lr=0.0001, metric='ROC',\n",
      "                    monitor='val_loss', name='AggMap MultiClass Estimator',\n",
      "                    patience=10000, random_state=32, verbose=0)\n"
     ]
    },
    {
     "name": "stderr",
     "output_type": "stream",
     "text": [
      "100%|##########| 455/455 [00:00<00:00, 1429.37it/s]\n",
      "100%|##########| 114/114 [00:00<00:00, 1463.05it/s]\n"
     ]
    },
    {
     "name": "stdout",
     "output_type": "stream",
     "text": [
      "\n",
      " input train and test X shape is (455, 6, 5, 3), (114, 6, 5, 3) \n",
      "MultiClassEstimator(batch_size=128, conv1_kernel_size=11, dense_avf='relu',\n",
      "                    dense_layers=[128], epochs=200, lr=0.0001, metric='ROC',\n",
      "                    monitor='val_loss', name='AggMap MultiClass Estimator',\n",
      "                    patience=10000, random_state=32, verbose=0)\n"
     ]
    },
    {
     "name": "stderr",
     "output_type": "stream",
     "text": [
      "100%|##########| 455/455 [00:00<00:00, 2300.01it/s]\n",
      "100%|##########| 114/114 [00:00<00:00, 2267.18it/s]\n"
     ]
    },
    {
     "name": "stdout",
     "output_type": "stream",
     "text": [
      "\n",
      " input train and test X shape is (455, 6, 5, 3), (114, 6, 5, 3) \n",
      "MultiClassEstimator(batch_size=128, conv1_kernel_size=11, dense_avf='relu',\n",
      "                    dense_layers=[128], epochs=200, lr=0.0001, metric='ROC',\n",
      "                    monitor='val_loss', name='AggMap MultiClass Estimator',\n",
      "                    patience=10000, random_state=32, verbose=0)\n"
     ]
    },
    {
     "name": "stderr",
     "output_type": "stream",
     "text": [
      "100%|##########| 456/456 [00:00<00:00, 1690.56it/s]\n",
      "100%|##########| 113/113 [00:00<00:00, 831.83it/s]\n"
     ]
    },
    {
     "name": "stdout",
     "output_type": "stream",
     "text": [
      "\n",
      " input train and test X shape is (456, 6, 5, 3), (113, 6, 5, 3) \n",
      "MultiClassEstimator(batch_size=128, conv1_kernel_size=11, dense_avf='relu',\n",
      "                    dense_layers=[128], epochs=200, lr=0.0001, metric='ROC',\n",
      "                    monitor='val_loss', name='AggMap MultiClass Estimator',\n",
      "                    patience=10000, random_state=32, verbose=0)\n",
      "2020-08-18 14:17:39,832 - INFO - [bidd-aggmap] - applying hierarchical clustering to obtain group information ...\n",
      "2020-08-18 14:17:39,953 - INFO - [bidd-aggmap] - Applying grid feature map(assignment), this may take several minutes(1~30 min)\n",
      "2020-08-18 14:17:39,970 - INFO - [bidd-aggmap] - Finished\n"
     ]
    },
    {
     "name": "stderr",
     "output_type": "stream",
     "text": [
      "100%|##########| 455/455 [00:00<00:00, 1712.88it/s]\n",
      "100%|##########| 114/114 [00:00<00:00, 1343.00it/s]\n"
     ]
    },
    {
     "name": "stdout",
     "output_type": "stream",
     "text": [
      "\n",
      " input train and test X shape is (455, 6, 5, 5), (114, 6, 5, 5) \n",
      "MultiClassEstimator(batch_size=128, conv1_kernel_size=11, dense_avf='relu',\n",
      "                    dense_layers=[128], epochs=200, lr=0.0001, metric='ROC',\n",
      "                    monitor='val_loss', name='AggMap MultiClass Estimator',\n",
      "                    patience=10000, random_state=32, verbose=0)\n"
     ]
    },
    {
     "name": "stderr",
     "output_type": "stream",
     "text": [
      "100%|##########| 455/455 [00:00<00:00, 1295.72it/s]\n",
      "100%|##########| 114/114 [00:00<00:00, 1211.82it/s]\n"
     ]
    },
    {
     "name": "stdout",
     "output_type": "stream",
     "text": [
      "\n",
      " input train and test X shape is (455, 6, 5, 5), (114, 6, 5, 5) \n",
      "MultiClassEstimator(batch_size=128, conv1_kernel_size=11, dense_avf='relu',\n",
      "                    dense_layers=[128], epochs=200, lr=0.0001, metric='ROC',\n",
      "                    monitor='val_loss', name='AggMap MultiClass Estimator',\n",
      "                    patience=10000, random_state=32, verbose=0)\n"
     ]
    },
    {
     "name": "stderr",
     "output_type": "stream",
     "text": [
      "100%|##########| 455/455 [00:00<00:00, 1259.38it/s]\n",
      "100%|##########| 114/114 [00:00<00:00, 1544.13it/s]\n"
     ]
    },
    {
     "name": "stdout",
     "output_type": "stream",
     "text": [
      "\n",
      " input train and test X shape is (455, 6, 5, 5), (114, 6, 5, 5) \n",
      "MultiClassEstimator(batch_size=128, conv1_kernel_size=11, dense_avf='relu',\n",
      "                    dense_layers=[128], epochs=200, lr=0.0001, metric='ROC',\n",
      "                    monitor='val_loss', name='AggMap MultiClass Estimator',\n",
      "                    patience=10000, random_state=32, verbose=0)\n"
     ]
    },
    {
     "name": "stderr",
     "output_type": "stream",
     "text": [
      "100%|##########| 455/455 [00:00<00:00, 805.46it/s] \n",
      "100%|##########| 114/114 [00:00<00:00, 1265.78it/s]\n"
     ]
    },
    {
     "name": "stdout",
     "output_type": "stream",
     "text": [
      "\n",
      " input train and test X shape is (455, 6, 5, 5), (114, 6, 5, 5) \n",
      "MultiClassEstimator(batch_size=128, conv1_kernel_size=11, dense_avf='relu',\n",
      "                    dense_layers=[128], epochs=200, lr=0.0001, metric='ROC',\n",
      "                    monitor='val_loss', name='AggMap MultiClass Estimator',\n",
      "                    patience=10000, random_state=32, verbose=0)\n"
     ]
    },
    {
     "name": "stderr",
     "output_type": "stream",
     "text": [
      "100%|##########| 456/456 [00:00<00:00, 1630.26it/s]\n",
      "100%|##########| 113/113 [00:00<00:00, 1183.28it/s]\n"
     ]
    },
    {
     "name": "stdout",
     "output_type": "stream",
     "text": [
      "\n",
      " input train and test X shape is (456, 6, 5, 5), (113, 6, 5, 5) \n",
      "MultiClassEstimator(batch_size=128, conv1_kernel_size=11, dense_avf='relu',\n",
      "                    dense_layers=[128], epochs=200, lr=0.0001, metric='ROC',\n",
      "                    monitor='val_loss', name='AggMap MultiClass Estimator',\n",
      "                    patience=10000, random_state=32, verbose=0)\n",
      "2020-08-18 14:21:44,592 - INFO - [bidd-aggmap] - applying hierarchical clustering to obtain group information ...\n",
      "2020-08-18 14:21:44,770 - INFO - [bidd-aggmap] - Applying grid feature map(assignment), this may take several minutes(1~30 min)\n",
      "2020-08-18 14:21:44,783 - INFO - [bidd-aggmap] - Finished\n"
     ]
    },
    {
     "name": "stderr",
     "output_type": "stream",
     "text": [
      "100%|##########| 455/455 [00:00<00:00, 865.01it/s]\n",
      "100%|##########| 114/114 [00:00<00:00, 1143.43it/s]\n"
     ]
    },
    {
     "name": "stdout",
     "output_type": "stream",
     "text": [
      "\n",
      " input train and test X shape is (455, 6, 5, 1), (114, 6, 5, 1) \n",
      "MultiClassEstimator(batch_size=128, conv1_kernel_size=11, dense_avf='relu',\n",
      "                    dense_layers=[128], epochs=200, lr=0.0001, metric='ROC',\n",
      "                    monitor='val_loss', name='AggMap MultiClass Estimator',\n",
      "                    patience=10000, random_state=32, verbose=0)\n"
     ]
    },
    {
     "name": "stderr",
     "output_type": "stream",
     "text": [
      "100%|##########| 455/455 [00:00<00:00, 1815.08it/s]\n",
      "100%|##########| 114/114 [00:00<00:00, 1231.34it/s]\n"
     ]
    },
    {
     "name": "stdout",
     "output_type": "stream",
     "text": [
      "\n",
      " input train and test X shape is (455, 6, 5, 1), (114, 6, 5, 1) \n",
      "MultiClassEstimator(batch_size=128, conv1_kernel_size=11, dense_avf='relu',\n",
      "                    dense_layers=[128], epochs=200, lr=0.0001, metric='ROC',\n",
      "                    monitor='val_loss', name='AggMap MultiClass Estimator',\n",
      "                    patience=10000, random_state=32, verbose=0)\n"
     ]
    },
    {
     "name": "stderr",
     "output_type": "stream",
     "text": [
      "100%|##########| 455/455 [00:00<00:00, 2000.74it/s]\n",
      "100%|##########| 114/114 [00:00<00:00, 1187.38it/s]\n"
     ]
    },
    {
     "name": "stdout",
     "output_type": "stream",
     "text": [
      "\n",
      " input train and test X shape is (455, 6, 5, 1), (114, 6, 5, 1) \n",
      "MultiClassEstimator(batch_size=128, conv1_kernel_size=11, dense_avf='relu',\n",
      "                    dense_layers=[128], epochs=200, lr=0.0001, metric='ROC',\n",
      "                    monitor='val_loss', name='AggMap MultiClass Estimator',\n",
      "                    patience=10000, random_state=32, verbose=0)\n"
     ]
    },
    {
     "name": "stderr",
     "output_type": "stream",
     "text": [
      "100%|##########| 455/455 [00:00<00:00, 1491.21it/s]\n",
      "100%|##########| 114/114 [00:00<00:00, 1300.22it/s]\n"
     ]
    },
    {
     "name": "stdout",
     "output_type": "stream",
     "text": [
      "\n",
      " input train and test X shape is (455, 6, 5, 1), (114, 6, 5, 1) \n",
      "MultiClassEstimator(batch_size=128, conv1_kernel_size=11, dense_avf='relu',\n",
      "                    dense_layers=[128], epochs=200, lr=0.0001, metric='ROC',\n",
      "                    monitor='val_loss', name='AggMap MultiClass Estimator',\n",
      "                    patience=10000, random_state=32, verbose=0)\n"
     ]
    },
    {
     "name": "stderr",
     "output_type": "stream",
     "text": [
      "100%|##########| 456/456 [00:00<00:00, 2760.76it/s]\n",
      "100%|##########| 113/113 [00:00<00:00, 2138.81it/s]\n"
     ]
    },
    {
     "name": "stdout",
     "output_type": "stream",
     "text": [
      "\n",
      " input train and test X shape is (456, 6, 5, 1), (113, 6, 5, 1) \n",
      "MultiClassEstimator(batch_size=128, conv1_kernel_size=11, dense_avf='relu',\n",
      "                    dense_layers=[128], epochs=200, lr=0.0001, metric='ROC',\n",
      "                    monitor='val_loss', name='AggMap MultiClass Estimator',\n",
      "                    patience=10000, random_state=32, verbose=0)\n",
      "2020-08-18 14:24:59,171 - INFO - [bidd-aggmap] - applying hierarchical clustering to obtain group information ...\n",
      "2020-08-18 14:24:59,284 - INFO - [bidd-aggmap] - Applying grid feature map(assignment), this may take several minutes(1~30 min)\n",
      "2020-08-18 14:24:59,297 - INFO - [bidd-aggmap] - Finished\n"
     ]
    },
    {
     "name": "stderr",
     "output_type": "stream",
     "text": [
      "100%|##########| 455/455 [00:00<00:00, 2438.06it/s]\n",
      "100%|##########| 114/114 [00:00<00:00, 1829.78it/s]\n"
     ]
    },
    {
     "name": "stdout",
     "output_type": "stream",
     "text": [
      "\n",
      " input train and test X shape is (455, 6, 5, 3), (114, 6, 5, 3) \n",
      "MultiClassEstimator(batch_size=128, conv1_kernel_size=11, dense_avf='relu',\n",
      "                    dense_layers=[128], epochs=200, lr=0.0001, metric='ROC',\n",
      "                    monitor='val_loss', name='AggMap MultiClass Estimator',\n",
      "                    patience=10000, random_state=32, verbose=0)\n"
     ]
    },
    {
     "name": "stderr",
     "output_type": "stream",
     "text": [
      "100%|##########| 455/455 [00:00<00:00, 3628.94it/s]\n",
      "100%|##########| 114/114 [00:00<00:00, 2731.24it/s]\n"
     ]
    },
    {
     "name": "stdout",
     "output_type": "stream",
     "text": [
      "\n",
      " input train and test X shape is (455, 6, 5, 3), (114, 6, 5, 3) \n",
      "MultiClassEstimator(batch_size=128, conv1_kernel_size=11, dense_avf='relu',\n",
      "                    dense_layers=[128], epochs=200, lr=0.0001, metric='ROC',\n",
      "                    monitor='val_loss', name='AggMap MultiClass Estimator',\n",
      "                    patience=10000, random_state=32, verbose=0)\n"
     ]
    },
    {
     "name": "stderr",
     "output_type": "stream",
     "text": [
      "100%|##########| 455/455 [00:00<00:00, 2445.00it/s]\n",
      "100%|##########| 114/114 [00:00<00:00, 1323.98it/s]\n"
     ]
    },
    {
     "name": "stdout",
     "output_type": "stream",
     "text": [
      "\n",
      " input train and test X shape is (455, 6, 5, 3), (114, 6, 5, 3) \n",
      "MultiClassEstimator(batch_size=128, conv1_kernel_size=11, dense_avf='relu',\n",
      "                    dense_layers=[128], epochs=200, lr=0.0001, metric='ROC',\n",
      "                    monitor='val_loss', name='AggMap MultiClass Estimator',\n",
      "                    patience=10000, random_state=32, verbose=0)\n"
     ]
    },
    {
     "name": "stderr",
     "output_type": "stream",
     "text": [
      "100%|##########| 455/455 [00:00<00:00, 2203.94it/s]\n",
      "100%|##########| 114/114 [00:00<00:00, 1921.06it/s]\n"
     ]
    },
    {
     "name": "stdout",
     "output_type": "stream",
     "text": [
      "\n",
      " input train and test X shape is (455, 6, 5, 3), (114, 6, 5, 3) \n",
      "MultiClassEstimator(batch_size=128, conv1_kernel_size=11, dense_avf='relu',\n",
      "                    dense_layers=[128], epochs=200, lr=0.0001, metric='ROC',\n",
      "                    monitor='val_loss', name='AggMap MultiClass Estimator',\n",
      "                    patience=10000, random_state=32, verbose=0)\n"
     ]
    },
    {
     "name": "stderr",
     "output_type": "stream",
     "text": [
      "100%|##########| 456/456 [00:00<00:00, 3054.20it/s]\n",
      "100%|##########| 113/113 [00:00<00:00, 2209.99it/s]\n"
     ]
    },
    {
     "name": "stdout",
     "output_type": "stream",
     "text": [
      "\n",
      " input train and test X shape is (456, 6, 5, 3), (113, 6, 5, 3) \n",
      "MultiClassEstimator(batch_size=128, conv1_kernel_size=11, dense_avf='relu',\n",
      "                    dense_layers=[128], epochs=200, lr=0.0001, metric='ROC',\n",
      "                    monitor='val_loss', name='AggMap MultiClass Estimator',\n",
      "                    patience=10000, random_state=32, verbose=0)\n",
      "2020-08-18 14:27:37,387 - INFO - [bidd-aggmap] - applying hierarchical clustering to obtain group information ...\n",
      "2020-08-18 14:27:37,498 - INFO - [bidd-aggmap] - Applying grid feature map(assignment), this may take several minutes(1~30 min)\n",
      "2020-08-18 14:27:37,513 - INFO - [bidd-aggmap] - Finished\n"
     ]
    },
    {
     "name": "stderr",
     "output_type": "stream",
     "text": [
      "100%|##########| 455/455 [00:00<00:00, 2599.84it/s]\n",
      "100%|##########| 114/114 [00:00<00:00, 2007.86it/s]\n"
     ]
    },
    {
     "name": "stdout",
     "output_type": "stream",
     "text": [
      "\n",
      " input train and test X shape is (455, 6, 5, 5), (114, 6, 5, 5) \n",
      "MultiClassEstimator(batch_size=128, conv1_kernel_size=11, dense_avf='relu',\n",
      "                    dense_layers=[128], epochs=200, lr=0.0001, metric='ROC',\n",
      "                    monitor='val_loss', name='AggMap MultiClass Estimator',\n",
      "                    patience=10000, random_state=32, verbose=0)\n"
     ]
    },
    {
     "name": "stderr",
     "output_type": "stream",
     "text": [
      "100%|##########| 455/455 [00:00<00:00, 2687.13it/s]\n",
      "100%|##########| 114/114 [00:00<00:00, 2033.71it/s]\n"
     ]
    },
    {
     "name": "stdout",
     "output_type": "stream",
     "text": [
      "\n",
      " input train and test X shape is (455, 6, 5, 5), (114, 6, 5, 5) \n",
      "MultiClassEstimator(batch_size=128, conv1_kernel_size=11, dense_avf='relu',\n",
      "                    dense_layers=[128], epochs=200, lr=0.0001, metric='ROC',\n",
      "                    monitor='val_loss', name='AggMap MultiClass Estimator',\n",
      "                    patience=10000, random_state=32, verbose=0)\n"
     ]
    },
    {
     "name": "stderr",
     "output_type": "stream",
     "text": [
      "100%|##########| 455/455 [00:00<00:00, 3172.93it/s]\n",
      "100%|##########| 114/114 [00:00<00:00, 1491.58it/s]\n"
     ]
    },
    {
     "name": "stdout",
     "output_type": "stream",
     "text": [
      "\n",
      " input train and test X shape is (455, 6, 5, 5), (114, 6, 5, 5) \n",
      "MultiClassEstimator(batch_size=128, conv1_kernel_size=11, dense_avf='relu',\n",
      "                    dense_layers=[128], epochs=200, lr=0.0001, metric='ROC',\n",
      "                    monitor='val_loss', name='AggMap MultiClass Estimator',\n",
      "                    patience=10000, random_state=32, verbose=0)\n"
     ]
    },
    {
     "name": "stderr",
     "output_type": "stream",
     "text": [
      "100%|##########| 455/455 [00:00<00:00, 2220.27it/s]\n",
      "100%|##########| 114/114 [00:00<00:00, 1644.71it/s]\n"
     ]
    },
    {
     "name": "stdout",
     "output_type": "stream",
     "text": [
      "\n",
      " input train and test X shape is (455, 6, 5, 5), (114, 6, 5, 5) \n",
      "MultiClassEstimator(batch_size=128, conv1_kernel_size=11, dense_avf='relu',\n",
      "                    dense_layers=[128], epochs=200, lr=0.0001, metric='ROC',\n",
      "                    monitor='val_loss', name='AggMap MultiClass Estimator',\n",
      "                    patience=10000, random_state=32, verbose=0)\n"
     ]
    },
    {
     "name": "stderr",
     "output_type": "stream",
     "text": [
      "100%|##########| 456/456 [00:00<00:00, 3146.75it/s]\n",
      "100%|##########| 113/113 [00:00<00:00, 1794.13it/s]\n"
     ]
    },
    {
     "name": "stdout",
     "output_type": "stream",
     "text": [
      "\n",
      " input train and test X shape is (456, 6, 5, 5), (113, 6, 5, 5) \n",
      "MultiClassEstimator(batch_size=128, conv1_kernel_size=11, dense_avf='relu',\n",
      "                    dense_layers=[128], epochs=200, lr=0.0001, metric='ROC',\n",
      "                    monitor='val_loss', name='AggMap MultiClass Estimator',\n",
      "                    patience=10000, random_state=32, verbose=0)\n",
      "2020-08-18 14:30:26,169 - INFO - [bidd-aggmap] - applying hierarchical clustering to obtain group information ...\n",
      "2020-08-18 14:30:26,278 - INFO - [bidd-aggmap] - Applying grid feature map(assignment), this may take several minutes(1~30 min)\n",
      "2020-08-18 14:30:26,289 - INFO - [bidd-aggmap] - Finished\n"
     ]
    },
    {
     "name": "stderr",
     "output_type": "stream",
     "text": [
      "100%|##########| 455/455 [00:00<00:00, 2899.88it/s]\n",
      "100%|##########| 114/114 [00:00<00:00, 2277.05it/s]\n"
     ]
    },
    {
     "name": "stdout",
     "output_type": "stream",
     "text": [
      "\n",
      " input train and test X shape is (455, 6, 5, 1), (114, 6, 5, 1) \n",
      "MultiClassEstimator(batch_size=128, conv1_kernel_size=11, dense_avf='relu',\n",
      "                    dense_layers=[128], epochs=200, lr=0.0001, metric='ROC',\n",
      "                    monitor='val_loss', name='AggMap MultiClass Estimator',\n",
      "                    patience=10000, random_state=32, verbose=0)\n"
     ]
    },
    {
     "name": "stderr",
     "output_type": "stream",
     "text": [
      "100%|##########| 455/455 [00:00<00:00, 3608.25it/s]\n",
      "100%|##########| 114/114 [00:00<00:00, 1698.64it/s]\n"
     ]
    },
    {
     "name": "stdout",
     "output_type": "stream",
     "text": [
      "\n",
      " input train and test X shape is (455, 6, 5, 1), (114, 6, 5, 1) \n",
      "MultiClassEstimator(batch_size=128, conv1_kernel_size=11, dense_avf='relu',\n",
      "                    dense_layers=[128], epochs=200, lr=0.0001, metric='ROC',\n",
      "                    monitor='val_loss', name='AggMap MultiClass Estimator',\n",
      "                    patience=10000, random_state=32, verbose=0)\n"
     ]
    },
    {
     "name": "stderr",
     "output_type": "stream",
     "text": [
      "100%|##########| 455/455 [00:00<00:00, 3066.23it/s]\n",
      "100%|##########| 114/114 [00:00<00:00, 1635.18it/s]\n"
     ]
    },
    {
     "name": "stdout",
     "output_type": "stream",
     "text": [
      "\n",
      " input train and test X shape is (455, 6, 5, 1), (114, 6, 5, 1) \n",
      "MultiClassEstimator(batch_size=128, conv1_kernel_size=11, dense_avf='relu',\n",
      "                    dense_layers=[128], epochs=200, lr=0.0001, metric='ROC',\n",
      "                    monitor='val_loss', name='AggMap MultiClass Estimator',\n",
      "                    patience=10000, random_state=32, verbose=0)\n"
     ]
    },
    {
     "name": "stderr",
     "output_type": "stream",
     "text": [
      "100%|##########| 455/455 [00:00<00:00, 3077.92it/s]\n",
      "100%|##########| 114/114 [00:00<00:00, 1588.65it/s]\n"
     ]
    },
    {
     "name": "stdout",
     "output_type": "stream",
     "text": [
      "\n",
      " input train and test X shape is (455, 6, 5, 1), (114, 6, 5, 1) \n",
      "MultiClassEstimator(batch_size=128, conv1_kernel_size=11, dense_avf='relu',\n",
      "                    dense_layers=[128], epochs=200, lr=0.0001, metric='ROC',\n",
      "                    monitor='val_loss', name='AggMap MultiClass Estimator',\n",
      "                    patience=10000, random_state=32, verbose=0)\n"
     ]
    },
    {
     "name": "stderr",
     "output_type": "stream",
     "text": [
      "100%|##########| 456/456 [00:00<00:00, 2493.38it/s]\n",
      "100%|##########| 113/113 [00:00<00:00, 1802.43it/s]\n"
     ]
    },
    {
     "name": "stdout",
     "output_type": "stream",
     "text": [
      "\n",
      " input train and test X shape is (456, 6, 5, 1), (113, 6, 5, 1) \n",
      "MultiClassEstimator(batch_size=128, conv1_kernel_size=11, dense_avf='relu',\n",
      "                    dense_layers=[128], epochs=200, lr=0.0001, metric='ROC',\n",
      "                    monitor='val_loss', name='AggMap MultiClass Estimator',\n",
      "                    patience=10000, random_state=32, verbose=0)\n",
      "2020-08-18 14:32:55,905 - INFO - [bidd-aggmap] - applying hierarchical clustering to obtain group information ...\n",
      "2020-08-18 14:32:56,022 - INFO - [bidd-aggmap] - Applying grid feature map(assignment), this may take several minutes(1~30 min)\n",
      "2020-08-18 14:32:56,034 - INFO - [bidd-aggmap] - Finished\n"
     ]
    },
    {
     "name": "stderr",
     "output_type": "stream",
     "text": [
      "100%|##########| 455/455 [00:00<00:00, 2309.77it/s]\n",
      "100%|##########| 114/114 [00:00<00:00, 1686.36it/s]\n"
     ]
    },
    {
     "name": "stdout",
     "output_type": "stream",
     "text": [
      "\n",
      " input train and test X shape is (455, 6, 5, 3), (114, 6, 5, 3) \n",
      "MultiClassEstimator(batch_size=128, conv1_kernel_size=11, dense_avf='relu',\n",
      "                    dense_layers=[128], epochs=200, lr=0.0001, metric='ROC',\n",
      "                    monitor='val_loss', name='AggMap MultiClass Estimator',\n",
      "                    patience=10000, random_state=32, verbose=0)\n"
     ]
    },
    {
     "name": "stderr",
     "output_type": "stream",
     "text": [
      "100%|##########| 455/455 [00:00<00:00, 1460.05it/s]\n",
      "100%|##########| 114/114 [00:00<00:00, 1601.87it/s]\n"
     ]
    },
    {
     "name": "stdout",
     "output_type": "stream",
     "text": [
      "\n",
      " input train and test X shape is (455, 6, 5, 3), (114, 6, 5, 3) \n",
      "MultiClassEstimator(batch_size=128, conv1_kernel_size=11, dense_avf='relu',\n",
      "                    dense_layers=[128], epochs=200, lr=0.0001, metric='ROC',\n",
      "                    monitor='val_loss', name='AggMap MultiClass Estimator',\n",
      "                    patience=10000, random_state=32, verbose=0)\n"
     ]
    },
    {
     "name": "stderr",
     "output_type": "stream",
     "text": [
      "100%|##########| 455/455 [00:00<00:00, 987.53it/s]\n",
      "100%|##########| 114/114 [00:00<00:00, 997.38it/s] \n"
     ]
    },
    {
     "name": "stdout",
     "output_type": "stream",
     "text": [
      "\n",
      " input train and test X shape is (455, 6, 5, 3), (114, 6, 5, 3) \n",
      "MultiClassEstimator(batch_size=128, conv1_kernel_size=11, dense_avf='relu',\n",
      "                    dense_layers=[128], epochs=200, lr=0.0001, metric='ROC',\n",
      "                    monitor='val_loss', name='AggMap MultiClass Estimator',\n",
      "                    patience=10000, random_state=32, verbose=0)\n"
     ]
    },
    {
     "name": "stderr",
     "output_type": "stream",
     "text": [
      "100%|##########| 455/455 [00:00<00:00, 973.62it/s]\n",
      "100%|##########| 114/114 [00:00<00:00, 1353.65it/s]\n"
     ]
    },
    {
     "name": "stdout",
     "output_type": "stream",
     "text": [
      "\n",
      " input train and test X shape is (455, 6, 5, 3), (114, 6, 5, 3) \n",
      "MultiClassEstimator(batch_size=128, conv1_kernel_size=11, dense_avf='relu',\n",
      "                    dense_layers=[128], epochs=200, lr=0.0001, metric='ROC',\n",
      "                    monitor='val_loss', name='AggMap MultiClass Estimator',\n",
      "                    patience=10000, random_state=32, verbose=0)\n"
     ]
    },
    {
     "name": "stderr",
     "output_type": "stream",
     "text": [
      "100%|##########| 456/456 [00:00<00:00, 538.59it/s]\n",
      "100%|##########| 113/113 [00:00<00:00, 1146.66it/s]\n"
     ]
    },
    {
     "name": "stdout",
     "output_type": "stream",
     "text": [
      "\n",
      " input train and test X shape is (456, 6, 5, 3), (113, 6, 5, 3) \n",
      "MultiClassEstimator(batch_size=128, conv1_kernel_size=11, dense_avf='relu',\n",
      "                    dense_layers=[128], epochs=200, lr=0.0001, metric='ROC',\n",
      "                    monitor='val_loss', name='AggMap MultiClass Estimator',\n",
      "                    patience=10000, random_state=32, verbose=0)\n",
      "2020-08-18 14:36:48,085 - INFO - [bidd-aggmap] - applying hierarchical clustering to obtain group information ...\n",
      "2020-08-18 14:36:48,236 - INFO - [bidd-aggmap] - Applying grid feature map(assignment), this may take several minutes(1~30 min)\n",
      "2020-08-18 14:36:48,295 - INFO - [bidd-aggmap] - Finished\n"
     ]
    },
    {
     "name": "stderr",
     "output_type": "stream",
     "text": [
      "100%|##########| 455/455 [00:01<00:00, 386.71it/s]\n",
      "100%|##########| 114/114 [00:00<00:00, 1301.60it/s]\n"
     ]
    },
    {
     "name": "stdout",
     "output_type": "stream",
     "text": [
      "\n",
      " input train and test X shape is (455, 6, 5, 5), (114, 6, 5, 5) \n",
      "MultiClassEstimator(batch_size=128, conv1_kernel_size=11, dense_avf='relu',\n",
      "                    dense_layers=[128], epochs=200, lr=0.0001, metric='ROC',\n",
      "                    monitor='val_loss', name='AggMap MultiClass Estimator',\n",
      "                    patience=10000, random_state=32, verbose=0)\n"
     ]
    },
    {
     "name": "stderr",
     "output_type": "stream",
     "text": [
      "100%|##########| 455/455 [00:00<00:00, 780.91it/s]\n",
      "100%|##########| 114/114 [00:00<00:00, 1079.44it/s]\n"
     ]
    },
    {
     "name": "stdout",
     "output_type": "stream",
     "text": [
      "\n",
      " input train and test X shape is (455, 6, 5, 5), (114, 6, 5, 5) \n",
      "MultiClassEstimator(batch_size=128, conv1_kernel_size=11, dense_avf='relu',\n",
      "                    dense_layers=[128], epochs=200, lr=0.0001, metric='ROC',\n",
      "                    monitor='val_loss', name='AggMap MultiClass Estimator',\n",
      "                    patience=10000, random_state=32, verbose=0)\n"
     ]
    },
    {
     "name": "stderr",
     "output_type": "stream",
     "text": [
      "100%|##########| 455/455 [00:00<00:00, 783.67it/s] \n",
      "100%|##########| 114/114 [00:00<00:00, 1332.36it/s]\n"
     ]
    },
    {
     "name": "stdout",
     "output_type": "stream",
     "text": [
      "\n",
      " input train and test X shape is (455, 6, 5, 5), (114, 6, 5, 5) \n",
      "MultiClassEstimator(batch_size=128, conv1_kernel_size=11, dense_avf='relu',\n",
      "                    dense_layers=[128], epochs=200, lr=0.0001, metric='ROC',\n",
      "                    monitor='val_loss', name='AggMap MultiClass Estimator',\n",
      "                    patience=10000, random_state=32, verbose=0)\n"
     ]
    },
    {
     "name": "stderr",
     "output_type": "stream",
     "text": [
      "100%|##########| 455/455 [00:00<00:00, 1103.43it/s]\n",
      "100%|##########| 114/114 [00:00<00:00, 505.12it/s]\n"
     ]
    },
    {
     "name": "stdout",
     "output_type": "stream",
     "text": [
      "\n",
      " input train and test X shape is (455, 6, 5, 5), (114, 6, 5, 5) \n",
      "MultiClassEstimator(batch_size=128, conv1_kernel_size=11, dense_avf='relu',\n",
      "                    dense_layers=[128], epochs=200, lr=0.0001, metric='ROC',\n",
      "                    monitor='val_loss', name='AggMap MultiClass Estimator',\n",
      "                    patience=10000, random_state=32, verbose=0)\n"
     ]
    },
    {
     "name": "stderr",
     "output_type": "stream",
     "text": [
      "100%|##########| 456/456 [00:00<00:00, 3254.31it/s]\n",
      "100%|##########| 113/113 [00:00<00:00, 1738.19it/s]\n"
     ]
    },
    {
     "name": "stdout",
     "output_type": "stream",
     "text": [
      "\n",
      " input train and test X shape is (456, 6, 5, 5), (113, 6, 5, 5) \n",
      "MultiClassEstimator(batch_size=128, conv1_kernel_size=11, dense_avf='relu',\n",
      "                    dense_layers=[128], epochs=200, lr=0.0001, metric='ROC',\n",
      "                    monitor='val_loss', name='AggMap MultiClass Estimator',\n",
      "                    patience=10000, random_state=32, verbose=0)\n",
      "2020-08-18 14:41:39,507 - INFO - [bidd-aggmap] - applying hierarchical clustering to obtain group information ...\n",
      "2020-08-18 14:41:39,620 - INFO - [bidd-aggmap] - Applying grid feature map(assignment), this may take several minutes(1~30 min)\n",
      "2020-08-18 14:41:39,631 - INFO - [bidd-aggmap] - Finished\n"
     ]
    },
    {
     "name": "stderr",
     "output_type": "stream",
     "text": [
      "100%|##########| 455/455 [00:00<00:00, 1120.43it/s]\n",
      "100%|##########| 114/114 [00:00<00:00, 908.91it/s] \n"
     ]
    },
    {
     "name": "stdout",
     "output_type": "stream",
     "text": [
      "\n",
      " input train and test X shape is (455, 6, 5, 1), (114, 6, 5, 1) \n",
      "MultiClassEstimator(batch_size=128, conv1_kernel_size=11, dense_avf='relu',\n",
      "                    dense_layers=[128], epochs=200, lr=0.0001, metric='ROC',\n",
      "                    monitor='val_loss', name='AggMap MultiClass Estimator',\n",
      "                    patience=10000, random_state=32, verbose=0)\n"
     ]
    },
    {
     "name": "stderr",
     "output_type": "stream",
     "text": [
      "100%|##########| 455/455 [00:00<00:00, 1340.02it/s]\n",
      "100%|##########| 114/114 [00:00<00:00, 1829.67it/s]\n"
     ]
    },
    {
     "name": "stdout",
     "output_type": "stream",
     "text": [
      "\n",
      " input train and test X shape is (455, 6, 5, 1), (114, 6, 5, 1) \n",
      "MultiClassEstimator(batch_size=128, conv1_kernel_size=11, dense_avf='relu',\n",
      "                    dense_layers=[128], epochs=200, lr=0.0001, metric='ROC',\n",
      "                    monitor='val_loss', name='AggMap MultiClass Estimator',\n",
      "                    patience=10000, random_state=32, verbose=0)\n"
     ]
    },
    {
     "name": "stderr",
     "output_type": "stream",
     "text": [
      "100%|##########| 455/455 [00:00<00:00, 989.25it/s]\n",
      "100%|##########| 114/114 [00:00<00:00, 1275.91it/s]\n"
     ]
    },
    {
     "name": "stdout",
     "output_type": "stream",
     "text": [
      "\n",
      " input train and test X shape is (455, 6, 5, 1), (114, 6, 5, 1) \n",
      "MultiClassEstimator(batch_size=128, conv1_kernel_size=11, dense_avf='relu',\n",
      "                    dense_layers=[128], epochs=200, lr=0.0001, metric='ROC',\n",
      "                    monitor='val_loss', name='AggMap MultiClass Estimator',\n",
      "                    patience=10000, random_state=32, verbose=0)\n"
     ]
    },
    {
     "name": "stderr",
     "output_type": "stream",
     "text": [
      "100%|##########| 455/455 [00:00<00:00, 1051.24it/s]\n",
      "100%|##########| 114/114 [00:00<00:00, 638.97it/s]\n"
     ]
    },
    {
     "name": "stdout",
     "output_type": "stream",
     "text": [
      "\n",
      " input train and test X shape is (455, 6, 5, 1), (114, 6, 5, 1) \n",
      "MultiClassEstimator(batch_size=128, conv1_kernel_size=11, dense_avf='relu',\n",
      "                    dense_layers=[128], epochs=200, lr=0.0001, metric='ROC',\n",
      "                    monitor='val_loss', name='AggMap MultiClass Estimator',\n",
      "                    patience=10000, random_state=32, verbose=0)\n"
     ]
    },
    {
     "name": "stderr",
     "output_type": "stream",
     "text": [
      "100%|##########| 456/456 [00:00<00:00, 715.81it/s]\n",
      "100%|##########| 113/113 [00:00<00:00, 1296.92it/s]\n"
     ]
    },
    {
     "name": "stdout",
     "output_type": "stream",
     "text": [
      "\n",
      " input train and test X shape is (456, 6, 5, 1), (113, 6, 5, 1) \n",
      "MultiClassEstimator(batch_size=128, conv1_kernel_size=11, dense_avf='relu',\n",
      "                    dense_layers=[128], epochs=200, lr=0.0001, metric='ROC',\n",
      "                    monitor='val_loss', name='AggMap MultiClass Estimator',\n",
      "                    patience=10000, random_state=32, verbose=0)\n",
      "2020-08-18 14:45:32,499 - INFO - [bidd-aggmap] - applying hierarchical clustering to obtain group information ...\n",
      "2020-08-18 14:45:32,619 - INFO - [bidd-aggmap] - Applying grid feature map(assignment), this may take several minutes(1~30 min)\n",
      "2020-08-18 14:45:32,632 - INFO - [bidd-aggmap] - Finished\n"
     ]
    },
    {
     "name": "stderr",
     "output_type": "stream",
     "text": [
      "100%|##########| 455/455 [00:00<00:00, 666.55it/s]\n",
      "100%|##########| 114/114 [00:00<00:00, 1263.41it/s]\n"
     ]
    },
    {
     "name": "stdout",
     "output_type": "stream",
     "text": [
      "\n",
      " input train and test X shape is (455, 6, 5, 3), (114, 6, 5, 3) \n",
      "MultiClassEstimator(batch_size=128, conv1_kernel_size=11, dense_avf='relu',\n",
      "                    dense_layers=[128], epochs=200, lr=0.0001, metric='ROC',\n",
      "                    monitor='val_loss', name='AggMap MultiClass Estimator',\n",
      "                    patience=10000, random_state=32, verbose=0)\n"
     ]
    },
    {
     "name": "stderr",
     "output_type": "stream",
     "text": [
      "100%|##########| 455/455 [00:00<00:00, 537.86it/s]\n",
      "100%|##########| 114/114 [00:00<00:00, 774.40it/s]\n"
     ]
    },
    {
     "name": "stdout",
     "output_type": "stream",
     "text": [
      "\n",
      " input train and test X shape is (455, 6, 5, 3), (114, 6, 5, 3) \n",
      "MultiClassEstimator(batch_size=128, conv1_kernel_size=11, dense_avf='relu',\n",
      "                    dense_layers=[128], epochs=200, lr=0.0001, metric='ROC',\n",
      "                    monitor='val_loss', name='AggMap MultiClass Estimator',\n",
      "                    patience=10000, random_state=32, verbose=0)\n"
     ]
    },
    {
     "name": "stderr",
     "output_type": "stream",
     "text": [
      "100%|##########| 455/455 [00:00<00:00, 618.18it/s]\n",
      "100%|##########| 114/114 [00:00<00:00, 620.78it/s]\n"
     ]
    },
    {
     "name": "stdout",
     "output_type": "stream",
     "text": [
      "\n",
      " input train and test X shape is (455, 6, 5, 3), (114, 6, 5, 3) \n",
      "MultiClassEstimator(batch_size=128, conv1_kernel_size=11, dense_avf='relu',\n",
      "                    dense_layers=[128], epochs=200, lr=0.0001, metric='ROC',\n",
      "                    monitor='val_loss', name='AggMap MultiClass Estimator',\n",
      "                    patience=10000, random_state=32, verbose=0)\n"
     ]
    },
    {
     "name": "stderr",
     "output_type": "stream",
     "text": [
      "100%|##########| 455/455 [00:00<00:00, 725.92it/s]\n",
      "100%|##########| 114/114 [00:00<00:00, 397.58it/s]\n"
     ]
    },
    {
     "name": "stdout",
     "output_type": "stream",
     "text": [
      "\n",
      " input train and test X shape is (455, 6, 5, 3), (114, 6, 5, 3) \n",
      "MultiClassEstimator(batch_size=128, conv1_kernel_size=11, dense_avf='relu',\n",
      "                    dense_layers=[128], epochs=200, lr=0.0001, metric='ROC',\n",
      "                    monitor='val_loss', name='AggMap MultiClass Estimator',\n",
      "                    patience=10000, random_state=32, verbose=0)\n"
     ]
    },
    {
     "name": "stderr",
     "output_type": "stream",
     "text": [
      "100%|##########| 456/456 [00:00<00:00, 729.77it/s]\n",
      "100%|##########| 113/113 [00:00<00:00, 519.54it/s]\n"
     ]
    },
    {
     "name": "stdout",
     "output_type": "stream",
     "text": [
      "\n",
      " input train and test X shape is (456, 6, 5, 3), (113, 6, 5, 3) \n",
      "MultiClassEstimator(batch_size=128, conv1_kernel_size=11, dense_avf='relu',\n",
      "                    dense_layers=[128], epochs=200, lr=0.0001, metric='ROC',\n",
      "                    monitor='val_loss', name='AggMap MultiClass Estimator',\n",
      "                    patience=10000, random_state=32, verbose=0)\n",
      "2020-08-18 14:50:03,391 - INFO - [bidd-aggmap] - applying hierarchical clustering to obtain group information ...\n",
      "2020-08-18 14:50:03,539 - INFO - [bidd-aggmap] - Applying grid feature map(assignment), this may take several minutes(1~30 min)\n",
      "2020-08-18 14:50:03,555 - INFO - [bidd-aggmap] - Finished\n"
     ]
    },
    {
     "name": "stderr",
     "output_type": "stream",
     "text": [
      "100%|##########| 455/455 [00:00<00:00, 1659.10it/s]\n",
      "100%|##########| 114/114 [00:00<00:00, 813.01it/s]\n"
     ]
    },
    {
     "name": "stdout",
     "output_type": "stream",
     "text": [
      "\n",
      " input train and test X shape is (455, 6, 5, 5), (114, 6, 5, 5) \n",
      "MultiClassEstimator(batch_size=128, conv1_kernel_size=11, dense_avf='relu',\n",
      "                    dense_layers=[128], epochs=200, lr=0.0001, metric='ROC',\n",
      "                    monitor='val_loss', name='AggMap MultiClass Estimator',\n",
      "                    patience=10000, random_state=32, verbose=0)\n"
     ]
    },
    {
     "name": "stderr",
     "output_type": "stream",
     "text": [
      "100%|##########| 455/455 [00:00<00:00, 565.55it/s]\n",
      "100%|##########| 114/114 [00:00<00:00, 976.17it/s]\n"
     ]
    },
    {
     "name": "stdout",
     "output_type": "stream",
     "text": [
      "\n",
      " input train and test X shape is (455, 6, 5, 5), (114, 6, 5, 5) \n",
      "MultiClassEstimator(batch_size=128, conv1_kernel_size=11, dense_avf='relu',\n",
      "                    dense_layers=[128], epochs=200, lr=0.0001, metric='ROC',\n",
      "                    monitor='val_loss', name='AggMap MultiClass Estimator',\n",
      "                    patience=10000, random_state=32, verbose=0)\n"
     ]
    },
    {
     "name": "stderr",
     "output_type": "stream",
     "text": [
      "100%|##########| 455/455 [00:00<00:00, 981.39it/s]\n",
      "100%|##########| 114/114 [00:00<00:00, 1270.04it/s]\n"
     ]
    },
    {
     "name": "stdout",
     "output_type": "stream",
     "text": [
      "\n",
      " input train and test X shape is (455, 6, 5, 5), (114, 6, 5, 5) \n",
      "MultiClassEstimator(batch_size=128, conv1_kernel_size=11, dense_avf='relu',\n",
      "                    dense_layers=[128], epochs=200, lr=0.0001, metric='ROC',\n",
      "                    monitor='val_loss', name='AggMap MultiClass Estimator',\n",
      "                    patience=10000, random_state=32, verbose=0)\n"
     ]
    },
    {
     "name": "stderr",
     "output_type": "stream",
     "text": [
      "100%|##########| 455/455 [00:00<00:00, 546.28it/s]\n",
      "100%|##########| 114/114 [00:00<00:00, 636.83it/s]\n"
     ]
    },
    {
     "name": "stdout",
     "output_type": "stream",
     "text": [
      "\n",
      " input train and test X shape is (455, 6, 5, 5), (114, 6, 5, 5) \n",
      "MultiClassEstimator(batch_size=128, conv1_kernel_size=11, dense_avf='relu',\n",
      "                    dense_layers=[128], epochs=200, lr=0.0001, metric='ROC',\n",
      "                    monitor='val_loss', name='AggMap MultiClass Estimator',\n",
      "                    patience=10000, random_state=32, verbose=0)\n"
     ]
    },
    {
     "name": "stderr",
     "output_type": "stream",
     "text": [
      "100%|##########| 456/456 [00:00<00:00, 462.06it/s]\n",
      "100%|##########| 113/113 [00:00<00:00, 601.07it/s]\n"
     ]
    },
    {
     "name": "stdout",
     "output_type": "stream",
     "text": [
      "\n",
      " input train and test X shape is (456, 6, 5, 5), (113, 6, 5, 5) \n",
      "MultiClassEstimator(batch_size=128, conv1_kernel_size=11, dense_avf='relu',\n",
      "                    dense_layers=[128], epochs=200, lr=0.0001, metric='ROC',\n",
      "                    monitor='val_loss', name='AggMap MultiClass Estimator',\n",
      "                    patience=10000, random_state=32, verbose=0)\n",
      "2020-08-18 14:54:58,183 - INFO - [bidd-aggmap] - applying hierarchical clustering to obtain group information ...\n",
      "2020-08-18 14:54:58,357 - INFO - [bidd-aggmap] - Applying grid feature map(assignment), this may take several minutes(1~30 min)\n",
      "2020-08-18 14:54:58,386 - INFO - [bidd-aggmap] - Finished\n"
     ]
    },
    {
     "name": "stderr",
     "output_type": "stream",
     "text": [
      "100%|##########| 455/455 [00:00<00:00, 1268.62it/s]\n",
      "100%|##########| 114/114 [00:00<00:00, 934.31it/s]\n"
     ]
    },
    {
     "name": "stdout",
     "output_type": "stream",
     "text": [
      "\n",
      " input train and test X shape is (455, 6, 5, 1), (114, 6, 5, 1) \n",
      "MultiClassEstimator(batch_size=128, conv1_kernel_size=11, dense_avf='relu',\n",
      "                    dense_layers=[128], epochs=200, lr=0.0001, metric='ROC',\n",
      "                    monitor='val_loss', name='AggMap MultiClass Estimator',\n",
      "                    patience=10000, random_state=32, verbose=0)\n"
     ]
    },
    {
     "name": "stderr",
     "output_type": "stream",
     "text": [
      "100%|##########| 455/455 [00:00<00:00, 3573.42it/s]\n",
      "100%|##########| 114/114 [00:00<00:00, 1424.97it/s]\n"
     ]
    },
    {
     "name": "stdout",
     "output_type": "stream",
     "text": [
      "\n",
      " input train and test X shape is (455, 6, 5, 1), (114, 6, 5, 1) \n",
      "MultiClassEstimator(batch_size=128, conv1_kernel_size=11, dense_avf='relu',\n",
      "                    dense_layers=[128], epochs=200, lr=0.0001, metric='ROC',\n",
      "                    monitor='val_loss', name='AggMap MultiClass Estimator',\n",
      "                    patience=10000, random_state=32, verbose=0)\n"
     ]
    },
    {
     "name": "stderr",
     "output_type": "stream",
     "text": [
      "100%|##########| 455/455 [00:00<00:00, 550.65it/s]\n",
      "100%|##########| 114/114 [00:00<00:00, 1289.71it/s]\n"
     ]
    },
    {
     "name": "stdout",
     "output_type": "stream",
     "text": [
      "\n",
      " input train and test X shape is (455, 6, 5, 1), (114, 6, 5, 1) \n",
      "MultiClassEstimator(batch_size=128, conv1_kernel_size=11, dense_avf='relu',\n",
      "                    dense_layers=[128], epochs=200, lr=0.0001, metric='ROC',\n",
      "                    monitor='val_loss', name='AggMap MultiClass Estimator',\n",
      "                    patience=10000, random_state=32, verbose=0)\n"
     ]
    },
    {
     "name": "stderr",
     "output_type": "stream",
     "text": [
      "100%|##########| 455/455 [00:00<00:00, 711.10it/s] \n",
      "100%|##########| 114/114 [00:00<00:00, 1034.58it/s]\n"
     ]
    },
    {
     "name": "stdout",
     "output_type": "stream",
     "text": [
      "\n",
      " input train and test X shape is (455, 6, 5, 1), (114, 6, 5, 1) \n",
      "MultiClassEstimator(batch_size=128, conv1_kernel_size=11, dense_avf='relu',\n",
      "                    dense_layers=[128], epochs=200, lr=0.0001, metric='ROC',\n",
      "                    monitor='val_loss', name='AggMap MultiClass Estimator',\n",
      "                    patience=10000, random_state=32, verbose=0)\n"
     ]
    },
    {
     "name": "stderr",
     "output_type": "stream",
     "text": [
      "100%|##########| 456/456 [00:00<00:00, 873.84it/s]\n",
      "100%|##########| 113/113 [00:00<00:00, 320.57it/s]\n"
     ]
    },
    {
     "name": "stdout",
     "output_type": "stream",
     "text": [
      "\n",
      " input train and test X shape is (456, 6, 5, 1), (113, 6, 5, 1) \n",
      "MultiClassEstimator(batch_size=128, conv1_kernel_size=11, dense_avf='relu',\n",
      "                    dense_layers=[128], epochs=200, lr=0.0001, metric='ROC',\n",
      "                    monitor='val_loss', name='AggMap MultiClass Estimator',\n",
      "                    patience=10000, random_state=32, verbose=0)\n",
      "2020-08-18 14:58:47,062 - INFO - [bidd-aggmap] - applying hierarchical clustering to obtain group information ...\n",
      "2020-08-18 14:58:47,195 - INFO - [bidd-aggmap] - Applying grid feature map(assignment), this may take several minutes(1~30 min)\n",
      "2020-08-18 14:58:47,222 - INFO - [bidd-aggmap] - Finished\n"
     ]
    },
    {
     "name": "stderr",
     "output_type": "stream",
     "text": [
      "100%|##########| 455/455 [00:00<00:00, 1055.36it/s]\n",
      "100%|##########| 114/114 [00:00<00:00, 880.24it/s]\n"
     ]
    },
    {
     "name": "stdout",
     "output_type": "stream",
     "text": [
      "\n",
      " input train and test X shape is (455, 6, 5, 3), (114, 6, 5, 3) \n",
      "MultiClassEstimator(batch_size=128, conv1_kernel_size=11, dense_avf='relu',\n",
      "                    dense_layers=[128], epochs=200, lr=0.0001, metric='ROC',\n",
      "                    monitor='val_loss', name='AggMap MultiClass Estimator',\n",
      "                    patience=10000, random_state=32, verbose=0)\n"
     ]
    },
    {
     "name": "stderr",
     "output_type": "stream",
     "text": [
      "100%|##########| 455/455 [00:00<00:00, 478.98it/s]\n",
      "100%|##########| 114/114 [00:00<00:00, 765.28it/s]\n"
     ]
    },
    {
     "name": "stdout",
     "output_type": "stream",
     "text": [
      "\n",
      " input train and test X shape is (455, 6, 5, 3), (114, 6, 5, 3) \n",
      "MultiClassEstimator(batch_size=128, conv1_kernel_size=11, dense_avf='relu',\n",
      "                    dense_layers=[128], epochs=200, lr=0.0001, metric='ROC',\n",
      "                    monitor='val_loss', name='AggMap MultiClass Estimator',\n",
      "                    patience=10000, random_state=32, verbose=0)\n"
     ]
    },
    {
     "name": "stderr",
     "output_type": "stream",
     "text": [
      "100%|##########| 455/455 [00:01<00:00, 379.86it/s]\n",
      "100%|##########| 114/114 [00:00<00:00, 1547.17it/s]\n"
     ]
    },
    {
     "name": "stdout",
     "output_type": "stream",
     "text": [
      "\n",
      " input train and test X shape is (455, 6, 5, 3), (114, 6, 5, 3) \n",
      "MultiClassEstimator(batch_size=128, conv1_kernel_size=11, dense_avf='relu',\n",
      "                    dense_layers=[128], epochs=200, lr=0.0001, metric='ROC',\n",
      "                    monitor='val_loss', name='AggMap MultiClass Estimator',\n",
      "                    patience=10000, random_state=32, verbose=0)\n"
     ]
    },
    {
     "name": "stderr",
     "output_type": "stream",
     "text": [
      "100%|##########| 455/455 [00:00<00:00, 634.51it/s] \n",
      "100%|##########| 114/114 [00:00<00:00, 649.56it/s]\n"
     ]
    },
    {
     "name": "stdout",
     "output_type": "stream",
     "text": [
      "\n",
      " input train and test X shape is (455, 6, 5, 3), (114, 6, 5, 3) \n",
      "MultiClassEstimator(batch_size=128, conv1_kernel_size=11, dense_avf='relu',\n",
      "                    dense_layers=[128], epochs=200, lr=0.0001, metric='ROC',\n",
      "                    monitor='val_loss', name='AggMap MultiClass Estimator',\n",
      "                    patience=10000, random_state=32, verbose=0)\n"
     ]
    },
    {
     "name": "stderr",
     "output_type": "stream",
     "text": [
      "100%|##########| 456/456 [00:00<00:00, 1757.29it/s]\n",
      "100%|##########| 113/113 [00:00<00:00, 2183.07it/s]\n"
     ]
    },
    {
     "name": "stdout",
     "output_type": "stream",
     "text": [
      "\n",
      " input train and test X shape is (456, 6, 5, 3), (113, 6, 5, 3) \n",
      "MultiClassEstimator(batch_size=128, conv1_kernel_size=11, dense_avf='relu',\n",
      "                    dense_layers=[128], epochs=200, lr=0.0001, metric='ROC',\n",
      "                    monitor='val_loss', name='AggMap MultiClass Estimator',\n",
      "                    patience=10000, random_state=32, verbose=0)\n",
      "2020-08-18 15:02:56,144 - INFO - [bidd-aggmap] - applying hierarchical clustering to obtain group information ...\n",
      "2020-08-18 15:02:56,268 - INFO - [bidd-aggmap] - Applying grid feature map(assignment), this may take several minutes(1~30 min)\n",
      "2020-08-18 15:02:56,297 - INFO - [bidd-aggmap] - Finished\n"
     ]
    },
    {
     "name": "stderr",
     "output_type": "stream",
     "text": [
      "100%|##########| 455/455 [00:00<00:00, 1056.86it/s]\n",
      "100%|##########| 114/114 [00:00<00:00, 1394.91it/s]\n"
     ]
    },
    {
     "name": "stdout",
     "output_type": "stream",
     "text": [
      "\n",
      " input train and test X shape is (455, 6, 5, 5), (114, 6, 5, 5) \n",
      "MultiClassEstimator(batch_size=128, conv1_kernel_size=11, dense_avf='relu',\n",
      "                    dense_layers=[128], epochs=200, lr=0.0001, metric='ROC',\n",
      "                    monitor='val_loss', name='AggMap MultiClass Estimator',\n",
      "                    patience=10000, random_state=32, verbose=0)\n"
     ]
    },
    {
     "name": "stderr",
     "output_type": "stream",
     "text": [
      "100%|##########| 455/455 [00:00<00:00, 1363.13it/s]\n",
      "100%|##########| 114/114 [00:00<00:00, 1564.15it/s]\n"
     ]
    },
    {
     "name": "stdout",
     "output_type": "stream",
     "text": [
      "\n",
      " input train and test X shape is (455, 6, 5, 5), (114, 6, 5, 5) \n",
      "MultiClassEstimator(batch_size=128, conv1_kernel_size=11, dense_avf='relu',\n",
      "                    dense_layers=[128], epochs=200, lr=0.0001, metric='ROC',\n",
      "                    monitor='val_loss', name='AggMap MultiClass Estimator',\n",
      "                    patience=10000, random_state=32, verbose=0)\n"
     ]
    },
    {
     "name": "stderr",
     "output_type": "stream",
     "text": [
      "100%|##########| 455/455 [00:00<00:00, 2339.79it/s]\n",
      "100%|##########| 114/114 [00:00<00:00, 1160.61it/s]\n"
     ]
    },
    {
     "name": "stdout",
     "output_type": "stream",
     "text": [
      "\n",
      " input train and test X shape is (455, 6, 5, 5), (114, 6, 5, 5) \n",
      "MultiClassEstimator(batch_size=128, conv1_kernel_size=11, dense_avf='relu',\n",
      "                    dense_layers=[128], epochs=200, lr=0.0001, metric='ROC',\n",
      "                    monitor='val_loss', name='AggMap MultiClass Estimator',\n",
      "                    patience=10000, random_state=32, verbose=0)\n"
     ]
    },
    {
     "name": "stderr",
     "output_type": "stream",
     "text": [
      "100%|##########| 455/455 [00:00<00:00, 2730.11it/s]\n",
      "100%|##########| 114/114 [00:00<00:00, 1065.06it/s]\n"
     ]
    },
    {
     "name": "stdout",
     "output_type": "stream",
     "text": [
      "\n",
      " input train and test X shape is (455, 6, 5, 5), (114, 6, 5, 5) \n",
      "MultiClassEstimator(batch_size=128, conv1_kernel_size=11, dense_avf='relu',\n",
      "                    dense_layers=[128], epochs=200, lr=0.0001, metric='ROC',\n",
      "                    monitor='val_loss', name='AggMap MultiClass Estimator',\n",
      "                    patience=10000, random_state=32, verbose=0)\n"
     ]
    },
    {
     "name": "stderr",
     "output_type": "stream",
     "text": [
      "100%|##########| 456/456 [00:00<00:00, 1956.09it/s]\n",
      "100%|##########| 113/113 [00:00<00:00, 975.47it/s] \n"
     ]
    },
    {
     "name": "stdout",
     "output_type": "stream",
     "text": [
      "\n",
      " input train and test X shape is (456, 6, 5, 5), (113, 6, 5, 5) \n",
      "MultiClassEstimator(batch_size=128, conv1_kernel_size=11, dense_avf='relu',\n",
      "                    dense_layers=[128], epochs=200, lr=0.0001, metric='ROC',\n",
      "                    monitor='val_loss', name='AggMap MultiClass Estimator',\n",
      "                    patience=10000, random_state=32, verbose=0)\n"
     ]
    }
   ],
   "source": [
    "n_splits = 5 #5-fold reapeat 5 times\n",
    "run_all = []\n",
    "\n",
    "for repeat_seed in  [8, 16, 32, 64, 128]: #5 repeats random seeds \n",
    "    \n",
    "    outer = KFold(n_splits = n_splits, shuffle = True, random_state = repeat_seed)\n",
    "    outer_idx = list(outer.split(range(len(Y))))\n",
    "    \n",
    "    for c in [1, 3, 5]: \n",
    "        \n",
    "        mp = mp.fit(cluster_channels = c, verbose = 0)\n",
    "            \n",
    "        for i, idx in enumerate(outer_idx):\n",
    "            \n",
    "            train_idx, valid_idx = idx\n",
    "            fold_num = \"fold_%s\" % str(i+1).zfill(2) \n",
    "            \n",
    "            validY = Y[valid_idx]\n",
    "            validx = X[valid_idx]\n",
    "\n",
    "            trainx = X[train_idx]\n",
    "            trainY = Y[train_idx]\n",
    "\n",
    "            trainX = mp.batch_transform(trainx, scale_method = 'standard')\n",
    "            validX = mp.batch_transform(validx, scale_method = 'standard')\n",
    "            print(\"\\n input train and test X shape is %s, %s \" % (trainX.shape,  validX.shape))\n",
    "            clf = AggModel.MultiClassEstimator(epochs = 200,  verbose = 0)\n",
    "            clf.fit(trainX, trainY, X_valid = validX, y_valid = validY)\n",
    "\n",
    "            history = clf.history.history\n",
    "            history['fold'] = fold_num\n",
    "            history['c'] = c\n",
    "            history['repeat_seed'] = repeat_seed\n",
    "            \n",
    "            run_all.append(history)"
   ]
  },
  {
   "cell_type": "code",
   "execution_count": null,
   "metadata": {},
   "outputs": [],
   "source": []
  },
  {
   "cell_type": "code",
   "execution_count": 5,
   "metadata": {},
   "outputs": [],
   "source": [
    "dfr = pd.DataFrame(run_all)\n",
    "dfr.to_csv('./5FCV_valid.csv')"
   ]
  },
  {
   "cell_type": "code",
   "execution_count": 6,
   "metadata": {},
   "outputs": [],
   "source": [
    "sns.set(style = 'white', font_scale=1.2)"
   ]
  },
  {
   "cell_type": "code",
   "execution_count": 7,
   "metadata": {},
   "outputs": [
    {
     "data": {
      "image/png": "[encoded data removed]",
      "text/plain": [
       "<Figure size 1296x432 with 2 Axes>"
      ]
     },
     "metadata": {},
     "output_type": "display_data"
    }
   ],
   "source": [
    "fig, axes = plt.subplots(nrows=1, ncols=2, figsize=(18,6), sharex=False, sharey=False, )\n",
    "ax1, ax2 = axes        \n",
    "\n",
    "\n",
    "\n",
    "col = 'val_loss'\n",
    "loss_mean = dfr.groupby(['c']).agg({col: lambda x:x.tolist()})[col].apply(lambda x: np.array(x).mean(axis=0)).apply(pd.Series).T\n",
    "loss_std = dfr.groupby(['c']).agg({col: lambda x:x.tolist()})[col].apply(lambda x: np.array(x).std(axis=0)).apply(pd.Series).T\n",
    "loss_mean.plot(ax=ax1, lw = 2, color = color,ylim = (0.07, 0.12) ) # ,ylim = (-2.55, -2) \n",
    "ax1.set_ylabel('Validate loss')\n",
    "ax1.set_xlabel('Epochs')\n",
    "\n",
    "\n",
    "\n",
    "\n",
    "col = 'val_accuracy'\n",
    "acc_mean = dfr.groupby(['c']).agg({col: lambda x:x.tolist()})[col].apply(lambda x: np.array(x).mean(axis=0)).apply(pd.Series).T\n",
    "acc_std = dfr.groupby(['c']).agg({col: lambda x:x.tolist()})[col].apply(lambda x: np.array(x).std(axis=0)).apply(pd.Series).T\n",
    "acc_mean.plot(ax=ax2, lw = 2, color = color, ylim = (0.9, 0.978))\n",
    "ax2.set_ylabel('Validate accuracy')\n",
    "ax2.set_xlabel('Epochs')\n",
    "\n",
    "plt.savefig('5FCV_valid.png', bbox_inches='tight', dpi=300)"
   ]
  },
  {
   "cell_type": "code",
   "execution_count": null,
   "metadata": {},
   "outputs": [],
   "source": []
  },
  {
   "cell_type": "code",
   "execution_count": null,
   "metadata": {},
   "outputs": [],
   "source": []
  },
  {
   "cell_type": "code",
   "execution_count": null,
   "metadata": {},
   "outputs": [],
   "source": []
  },
  {
   "cell_type": "code",
   "execution_count": null,
   "metadata": {},
   "outputs": [],
   "source": []
  }
 ],
 "metadata": {
  "kernelspec": {
   "display_name": "Python 3",
   "language": "python",
   "name": "python3"
  },
  "language_info": {
   "codemirror_mode": {
    "name": "ipython",
    "version": 3
   },
   "file_extension": ".py",
   "mimetype": "text/x-python",
   "name": "python",
   "nbconvert_exporter": "python",
   "pygments_lexer": "ipython3",
   "version": "3.7.6"
  }
 },
 "nbformat": 4,
 "nbformat_minor": 4
}
