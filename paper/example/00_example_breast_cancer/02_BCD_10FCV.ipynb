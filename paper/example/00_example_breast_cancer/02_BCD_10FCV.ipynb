{
 "cells": [
  {
   "cell_type": "code",
   "execution_count": 21,
   "metadata": {},
   "outputs": [],
   "source": [
    "import warnings\n",
    "warnings.filterwarnings(\"ignore\")\n",
    "\n",
    "\n",
    "import pandas as pd\n",
    "import numpy as np\n",
    "\n",
    "from sklearn.model_selection import KFold, StratifiedKFold\n",
    "from sklearn.metrics import confusion_matrix, precision_recall_curve, roc_auc_score\n",
    "from sklearn.metrics import auc as calculate_auc\n",
    "from sklearn.datasets import load_breast_cancer\n",
    "\n",
    "import matplotlib.pyplot as plt\n",
    "import seaborn as sns\n",
    "\n",
    "from aggmap import AggMap, AggModel\n",
    "\n",
    "np.random.seed(666) #just for reaptable results\n",
    "\n",
    "def prc_auc_score(y_true, y_score):\n",
    "    precision, recall, threshold  = precision_recall_curve(y_true, y_score) #PRC_AUC\n",
    "    auc = calculate_auc(recall, precision)\n",
    "    return auc"
   ]
  },
  {
   "cell_type": "code",
   "execution_count": 22,
   "metadata": {},
   "outputs": [],
   "source": [
    "data = load_breast_cancer()\n",
    "dfx = pd.DataFrame(data.data, columns= data.feature_names)\n",
    "y = pd.Series(data.target).map({0:'malignant', 1:'benign'})\n",
    "dfy = pd.get_dummies(y) \n",
    "X = dfx.values.astype(float)\n",
    "Y = dfy.values.astype(float)"
   ]
  },
  {
   "cell_type": "code",
   "execution_count": 23,
   "metadata": {},
   "outputs": [
    {
     "name": "stdout",
     "output_type": "stream",
     "text": [
      "2020-08-18 14:08:36,002 - INFO - [bidd-aggmap] - Calculating distance ...\n",
      "2020-08-18 14:08:36,004 - INFO - [bidd-aggmap] - the number of process is 16\n"
     ]
    },
    {
     "name": "stderr",
     "output_type": "stream",
     "text": [
      "100%|##########| 435/435 [00:00<00:00, 450.67it/s]\n",
      "100%|##########| 435/435 [00:00<00:00, 815975.96it/s]\n",
      "100%|##########| 30/30 [00:00<00:00, 1049.24it/s]\n"
     ]
    },
    {
     "name": "stdout",
     "output_type": "stream",
     "text": [
      "2020-08-18 14:08:37,652 - INFO - [bidd-aggmap] - applying hierarchical clustering to obtain group information ...\n",
      "2020-08-18 14:08:37,767 - INFO - [bidd-aggmap] - Applying grid feature map(assignment), this may take several minutes(1~30 min)\n",
      "2020-08-18 14:08:37,786 - INFO - [bidd-aggmap] - Finished\n"
     ]
    },
    {
     "data": {
      "text/plain": [
       "<aggmap.map.AggMap at 0x7f3efd9d4b10>"
      ]
     },
     "execution_count": 23,
     "metadata": {},
     "output_type": "execute_result"
    }
   ],
   "source": [
    "mp = AggMap(dfx, metric = 'correlation')\n",
    "mp.fit(cluster_channels = 5, verbose = 0)"
   ]
  },
  {
   "cell_type": "markdown",
   "metadata": {},
   "source": [
    "## 10-fold cross validation and repeat 5 times "
   ]
  },
  {
   "cell_type": "code",
   "execution_count": 24,
   "metadata": {},
   "outputs": [
    {
     "name": "stderr",
     "output_type": "stream",
     "text": [
      "100%|##########| 512/512 [00:04<00:00, 108.66it/s]\n",
      "100%|##########| 57/57 [00:00<00:00, 1326.05it/s]\n"
     ]
    },
    {
     "name": "stdout",
     "output_type": "stream",
     "text": [
      "\n",
      " input train and test X shape is (512, 6, 5, 5), (57, 6, 5, 5) \n",
      "MultiClassEstimator(batch_size=128, conv1_kernel_size=11, dense_avf='relu',\n",
      "                    dense_layers=[128], epochs=200, lr=0.0001, metric='ROC',\n",
      "                    monitor='val_loss', name='AggMap MultiClass Estimator',\n",
      "                    patience=10000, random_state=32, verbose=0)\n"
     ]
    },
    {
     "name": "stderr",
     "output_type": "stream",
     "text": [
      "100%|##########| 512/512 [00:00<00:00, 3838.30it/s]\n",
      "100%|##########| 57/57 [00:00<00:00, 3568.50it/s]\n"
     ]
    },
    {
     "name": "stdout",
     "output_type": "stream",
     "text": [
      "\n",
      " input train and test X shape is (512, 6, 5, 5), (57, 6, 5, 5) \n",
      "MultiClassEstimator(batch_size=128, conv1_kernel_size=11, dense_avf='relu',\n",
      "                    dense_layers=[128], epochs=200, lr=0.0001, metric='ROC',\n",
      "                    monitor='val_loss', name='AggMap MultiClass Estimator',\n",
      "                    patience=10000, random_state=32, verbose=0)\n"
     ]
    },
    {
     "name": "stderr",
     "output_type": "stream",
     "text": [
      "100%|##########| 512/512 [00:00<00:00, 3884.44it/s]\n",
      "100%|##########| 57/57 [00:00<00:00, 3599.94it/s]\n"
     ]
    },
    {
     "name": "stdout",
     "output_type": "stream",
     "text": [
      "\n",
      " input train and test X shape is (512, 6, 5, 5), (57, 6, 5, 5) \n",
      "MultiClassEstimator(batch_size=128, conv1_kernel_size=11, dense_avf='relu',\n",
      "                    dense_layers=[128], epochs=200, lr=0.0001, metric='ROC',\n",
      "                    monitor='val_loss', name='AggMap MultiClass Estimator',\n",
      "                    patience=10000, random_state=32, verbose=0)\n"
     ]
    },
    {
     "name": "stderr",
     "output_type": "stream",
     "text": [
      "100%|##########| 512/512 [00:00<00:00, 3555.14it/s]\n",
      "100%|##########| 57/57 [00:00<00:00, 3577.63it/s]\n"
     ]
    },
    {
     "name": "stdout",
     "output_type": "stream",
     "text": [
      "\n",
      " input train and test X shape is (512, 6, 5, 5), (57, 6, 5, 5) \n",
      "MultiClassEstimator(batch_size=128, conv1_kernel_size=11, dense_avf='relu',\n",
      "                    dense_layers=[128], epochs=200, lr=0.0001, metric='ROC',\n",
      "                    monitor='val_loss', name='AggMap MultiClass Estimator',\n",
      "                    patience=10000, random_state=32, verbose=0)\n"
     ]
    },
    {
     "name": "stderr",
     "output_type": "stream",
     "text": [
      "100%|##########| 512/512 [00:00<00:00, 1571.70it/s]\n",
      "100%|##########| 57/57 [00:00<00:00, 1609.76it/s]\n"
     ]
    },
    {
     "name": "stdout",
     "output_type": "stream",
     "text": [
      "\n",
      " input train and test X shape is (512, 6, 5, 5), (57, 6, 5, 5) \n",
      "MultiClassEstimator(batch_size=128, conv1_kernel_size=11, dense_avf='relu',\n",
      "                    dense_layers=[128], epochs=200, lr=0.0001, metric='ROC',\n",
      "                    monitor='val_loss', name='AggMap MultiClass Estimator',\n",
      "                    patience=10000, random_state=32, verbose=0)\n"
     ]
    },
    {
     "name": "stderr",
     "output_type": "stream",
     "text": [
      "100%|##########| 512/512 [00:00<00:00, 2760.63it/s]\n",
      "100%|##########| 57/57 [00:00<00:00, 906.03it/s]\n"
     ]
    },
    {
     "name": "stdout",
     "output_type": "stream",
     "text": [
      "\n",
      " input train and test X shape is (512, 6, 5, 5), (57, 6, 5, 5) \n",
      "MultiClassEstimator(batch_size=128, conv1_kernel_size=11, dense_avf='relu',\n",
      "                    dense_layers=[128], epochs=200, lr=0.0001, metric='ROC',\n",
      "                    monitor='val_loss', name='AggMap MultiClass Estimator',\n",
      "                    patience=10000, random_state=32, verbose=0)\n"
     ]
    },
    {
     "name": "stderr",
     "output_type": "stream",
     "text": [
      "100%|##########| 512/512 [00:00<00:00, 1544.79it/s]\n",
      "100%|##########| 57/57 [00:00<00:00, 1004.78it/s]\n"
     ]
    },
    {
     "name": "stdout",
     "output_type": "stream",
     "text": [
      "\n",
      " input train and test X shape is (512, 6, 5, 5), (57, 6, 5, 5) \n",
      "MultiClassEstimator(batch_size=128, conv1_kernel_size=11, dense_avf='relu',\n",
      "                    dense_layers=[128], epochs=200, lr=0.0001, metric='ROC',\n",
      "                    monitor='val_loss', name='AggMap MultiClass Estimator',\n",
      "                    patience=10000, random_state=32, verbose=0)\n"
     ]
    },
    {
     "name": "stderr",
     "output_type": "stream",
     "text": [
      "100%|##########| 512/512 [00:00<00:00, 1528.52it/s]\n",
      "100%|##########| 57/57 [00:00<00:00, 805.37it/s]\n"
     ]
    },
    {
     "name": "stdout",
     "output_type": "stream",
     "text": [
      "\n",
      " input train and test X shape is (512, 6, 5, 5), (57, 6, 5, 5) \n",
      "MultiClassEstimator(batch_size=128, conv1_kernel_size=11, dense_avf='relu',\n",
      "                    dense_layers=[128], epochs=200, lr=0.0001, metric='ROC',\n",
      "                    monitor='val_loss', name='AggMap MultiClass Estimator',\n",
      "                    patience=10000, random_state=32, verbose=0)\n"
     ]
    },
    {
     "name": "stderr",
     "output_type": "stream",
     "text": [
      "100%|##########| 512/512 [00:00<00:00, 1550.53it/s]\n",
      "100%|##########| 57/57 [00:00<00:00, 919.00it/s]\n"
     ]
    },
    {
     "name": "stdout",
     "output_type": "stream",
     "text": [
      "\n",
      " input train and test X shape is (512, 6, 5, 5), (57, 6, 5, 5) \n",
      "MultiClassEstimator(batch_size=128, conv1_kernel_size=11, dense_avf='relu',\n",
      "                    dense_layers=[128], epochs=200, lr=0.0001, metric='ROC',\n",
      "                    monitor='val_loss', name='AggMap MultiClass Estimator',\n",
      "                    patience=10000, random_state=32, verbose=0)\n"
     ]
    },
    {
     "name": "stderr",
     "output_type": "stream",
     "text": [
      "100%|##########| 513/513 [00:00<00:00, 929.81it/s]\n",
      "100%|##########| 56/56 [00:00<00:00, 1287.96it/s]\n"
     ]
    },
    {
     "name": "stdout",
     "output_type": "stream",
     "text": [
      "\n",
      " input train and test X shape is (513, 6, 5, 5), (56, 6, 5, 5) \n",
      "MultiClassEstimator(batch_size=128, conv1_kernel_size=11, dense_avf='relu',\n",
      "                    dense_layers=[128], epochs=200, lr=0.0001, metric='ROC',\n",
      "                    monitor='val_loss', name='AggMap MultiClass Estimator',\n",
      "                    patience=10000, random_state=32, verbose=0)\n"
     ]
    },
    {
     "name": "stderr",
     "output_type": "stream",
     "text": [
      "100%|##########| 512/512 [00:00<00:00, 624.20it/s] \n",
      "100%|##########| 57/57 [00:00<00:00, 1345.08it/s]\n"
     ]
    },
    {
     "name": "stdout",
     "output_type": "stream",
     "text": [
      "\n",
      " input train and test X shape is (512, 6, 5, 5), (57, 6, 5, 5) \n",
      "MultiClassEstimator(batch_size=128, conv1_kernel_size=11, dense_avf='relu',\n",
      "                    dense_layers=[128], epochs=200, lr=0.0001, metric='ROC',\n",
      "                    monitor='val_loss', name='AggMap MultiClass Estimator',\n",
      "                    patience=10000, random_state=32, verbose=0)\n"
     ]
    },
    {
     "name": "stderr",
     "output_type": "stream",
     "text": [
      "100%|##########| 512/512 [00:00<00:00, 1511.58it/s]\n",
      "100%|##########| 57/57 [00:00<00:00, 1535.31it/s]\n"
     ]
    },
    {
     "name": "stdout",
     "output_type": "stream",
     "text": [
      "\n",
      " input train and test X shape is (512, 6, 5, 5), (57, 6, 5, 5) \n",
      "MultiClassEstimator(batch_size=128, conv1_kernel_size=11, dense_avf='relu',\n",
      "                    dense_layers=[128], epochs=200, lr=0.0001, metric='ROC',\n",
      "                    monitor='val_loss', name='AggMap MultiClass Estimator',\n",
      "                    patience=10000, random_state=32, verbose=0)\n"
     ]
    },
    {
     "name": "stderr",
     "output_type": "stream",
     "text": [
      "100%|##########| 512/512 [00:00<00:00, 778.01it/s] \n",
      "100%|##########| 57/57 [00:00<00:00, 1197.38it/s]\n"
     ]
    },
    {
     "name": "stdout",
     "output_type": "stream",
     "text": [
      "\n",
      " input train and test X shape is (512, 6, 5, 5), (57, 6, 5, 5) \n",
      "MultiClassEstimator(batch_size=128, conv1_kernel_size=11, dense_avf='relu',\n",
      "                    dense_layers=[128], epochs=200, lr=0.0001, metric='ROC',\n",
      "                    monitor='val_loss', name='AggMap MultiClass Estimator',\n",
      "                    patience=10000, random_state=32, verbose=0)\n"
     ]
    },
    {
     "name": "stderr",
     "output_type": "stream",
     "text": [
      "100%|##########| 512/512 [00:00<00:00, 1206.92it/s]\n",
      "100%|##########| 57/57 [00:00<00:00, 963.16it/s]\n"
     ]
    },
    {
     "name": "stdout",
     "output_type": "stream",
     "text": [
      "\n",
      " input train and test X shape is (512, 6, 5, 5), (57, 6, 5, 5) \n",
      "MultiClassEstimator(batch_size=128, conv1_kernel_size=11, dense_avf='relu',\n",
      "                    dense_layers=[128], epochs=200, lr=0.0001, metric='ROC',\n",
      "                    monitor='val_loss', name='AggMap MultiClass Estimator',\n",
      "                    patience=10000, random_state=32, verbose=0)\n"
     ]
    },
    {
     "name": "stderr",
     "output_type": "stream",
     "text": [
      "100%|##########| 512/512 [00:00<00:00, 1868.32it/s]\n",
      "100%|##########| 57/57 [00:00<00:00, 948.79it/s]\n"
     ]
    },
    {
     "name": "stdout",
     "output_type": "stream",
     "text": [
      "\n",
      " input train and test X shape is (512, 6, 5, 5), (57, 6, 5, 5) \n",
      "MultiClassEstimator(batch_size=128, conv1_kernel_size=11, dense_avf='relu',\n",
      "                    dense_layers=[128], epochs=200, lr=0.0001, metric='ROC',\n",
      "                    monitor='val_loss', name='AggMap MultiClass Estimator',\n",
      "                    patience=10000, random_state=32, verbose=0)\n"
     ]
    },
    {
     "name": "stderr",
     "output_type": "stream",
     "text": [
      "100%|##########| 512/512 [00:00<00:00, 1830.01it/s]\n",
      "100%|##########| 57/57 [00:00<00:00, 1083.52it/s]\n"
     ]
    },
    {
     "name": "stdout",
     "output_type": "stream",
     "text": [
      "\n",
      " input train and test X shape is (512, 6, 5, 5), (57, 6, 5, 5) \n",
      "MultiClassEstimator(batch_size=128, conv1_kernel_size=11, dense_avf='relu',\n",
      "                    dense_layers=[128], epochs=200, lr=0.0001, metric='ROC',\n",
      "                    monitor='val_loss', name='AggMap MultiClass Estimator',\n",
      "                    patience=10000, random_state=32, verbose=0)\n"
     ]
    },
    {
     "name": "stderr",
     "output_type": "stream",
     "text": [
      "100%|##########| 512/512 [00:00<00:00, 3314.79it/s]\n",
      "100%|##########| 57/57 [00:00<00:00, 1560.39it/s]\n"
     ]
    },
    {
     "name": "stdout",
     "output_type": "stream",
     "text": [
      "\n",
      " input train and test X shape is (512, 6, 5, 5), (57, 6, 5, 5) \n",
      "MultiClassEstimator(batch_size=128, conv1_kernel_size=11, dense_avf='relu',\n",
      "                    dense_layers=[128], epochs=200, lr=0.0001, metric='ROC',\n",
      "                    monitor='val_loss', name='AggMap MultiClass Estimator',\n",
      "                    patience=10000, random_state=32, verbose=0)\n"
     ]
    },
    {
     "name": "stderr",
     "output_type": "stream",
     "text": [
      "100%|##########| 512/512 [00:00<00:00, 1276.99it/s]\n",
      "100%|##########| 57/57 [00:00<00:00, 1728.58it/s]\n"
     ]
    },
    {
     "name": "stdout",
     "output_type": "stream",
     "text": [
      "\n",
      " input train and test X shape is (512, 6, 5, 5), (57, 6, 5, 5) \n",
      "MultiClassEstimator(batch_size=128, conv1_kernel_size=11, dense_avf='relu',\n",
      "                    dense_layers=[128], epochs=200, lr=0.0001, metric='ROC',\n",
      "                    monitor='val_loss', name='AggMap MultiClass Estimator',\n",
      "                    patience=10000, random_state=32, verbose=0)\n"
     ]
    },
    {
     "name": "stderr",
     "output_type": "stream",
     "text": [
      "100%|##########| 512/512 [00:00<00:00, 2629.08it/s]\n",
      "100%|##########| 57/57 [00:00<00:00, 1637.43it/s]\n"
     ]
    },
    {
     "name": "stdout",
     "output_type": "stream",
     "text": [
      "\n",
      " input train and test X shape is (512, 6, 5, 5), (57, 6, 5, 5) \n",
      "MultiClassEstimator(batch_size=128, conv1_kernel_size=11, dense_avf='relu',\n",
      "                    dense_layers=[128], epochs=200, lr=0.0001, metric='ROC',\n",
      "                    monitor='val_loss', name='AggMap MultiClass Estimator',\n",
      "                    patience=10000, random_state=32, verbose=0)\n"
     ]
    },
    {
     "name": "stderr",
     "output_type": "stream",
     "text": [
      "100%|##########| 513/513 [00:00<00:00, 2803.33it/s]\n",
      "100%|##########| 56/56 [00:00<00:00, 2255.72it/s]\n"
     ]
    },
    {
     "name": "stdout",
     "output_type": "stream",
     "text": [
      "\n",
      " input train and test X shape is (513, 6, 5, 5), (56, 6, 5, 5) \n",
      "MultiClassEstimator(batch_size=128, conv1_kernel_size=11, dense_avf='relu',\n",
      "                    dense_layers=[128], epochs=200, lr=0.0001, metric='ROC',\n",
      "                    monitor='val_loss', name='AggMap MultiClass Estimator',\n",
      "                    patience=10000, random_state=32, verbose=0)\n"
     ]
    },
    {
     "name": "stderr",
     "output_type": "stream",
     "text": [
      "100%|##########| 512/512 [00:00<00:00, 2176.58it/s]\n",
      "100%|##########| 57/57 [00:00<00:00, 2112.27it/s]\n"
     ]
    },
    {
     "name": "stdout",
     "output_type": "stream",
     "text": [
      "\n",
      " input train and test X shape is (512, 6, 5, 5), (57, 6, 5, 5) \n",
      "MultiClassEstimator(batch_size=128, conv1_kernel_size=11, dense_avf='relu',\n",
      "                    dense_layers=[128], epochs=200, lr=0.0001, metric='ROC',\n",
      "                    monitor='val_loss', name='AggMap MultiClass Estimator',\n",
      "                    patience=10000, random_state=32, verbose=0)\n"
     ]
    },
    {
     "name": "stderr",
     "output_type": "stream",
     "text": [
      "100%|##########| 512/512 [00:00<00:00, 2506.77it/s]\n",
      "100%|##########| 57/57 [00:00<00:00, 1699.40it/s]\n"
     ]
    },
    {
     "name": "stdout",
     "output_type": "stream",
     "text": [
      "\n",
      " input train and test X shape is (512, 6, 5, 5), (57, 6, 5, 5) \n",
      "MultiClassEstimator(batch_size=128, conv1_kernel_size=11, dense_avf='relu',\n",
      "                    dense_layers=[128], epochs=200, lr=0.0001, metric='ROC',\n",
      "                    monitor='val_loss', name='AggMap MultiClass Estimator',\n",
      "                    patience=10000, random_state=32, verbose=0)\n"
     ]
    },
    {
     "name": "stderr",
     "output_type": "stream",
     "text": [
      "100%|##########| 512/512 [00:00<00:00, 3125.91it/s]\n",
      "100%|##########| 57/57 [00:00<00:00, 1749.34it/s]\n"
     ]
    },
    {
     "name": "stdout",
     "output_type": "stream",
     "text": [
      "\n",
      " input train and test X shape is (512, 6, 5, 5), (57, 6, 5, 5) \n",
      "MultiClassEstimator(batch_size=128, conv1_kernel_size=11, dense_avf='relu',\n",
      "                    dense_layers=[128], epochs=200, lr=0.0001, metric='ROC',\n",
      "                    monitor='val_loss', name='AggMap MultiClass Estimator',\n",
      "                    patience=10000, random_state=32, verbose=0)\n"
     ]
    },
    {
     "name": "stderr",
     "output_type": "stream",
     "text": [
      "100%|##########| 512/512 [00:00<00:00, 2504.48it/s]\n",
      "100%|##########| 57/57 [00:00<00:00, 1320.20it/s]\n"
     ]
    },
    {
     "name": "stdout",
     "output_type": "stream",
     "text": [
      "\n",
      " input train and test X shape is (512, 6, 5, 5), (57, 6, 5, 5) \n",
      "MultiClassEstimator(batch_size=128, conv1_kernel_size=11, dense_avf='relu',\n",
      "                    dense_layers=[128], epochs=200, lr=0.0001, metric='ROC',\n",
      "                    monitor='val_loss', name='AggMap MultiClass Estimator',\n",
      "                    patience=10000, random_state=32, verbose=0)\n"
     ]
    },
    {
     "name": "stderr",
     "output_type": "stream",
     "text": [
      "100%|##########| 512/512 [00:00<00:00, 4165.62it/s]\n",
      "100%|##########| 57/57 [00:00<00:00, 2710.79it/s]\n"
     ]
    },
    {
     "name": "stdout",
     "output_type": "stream",
     "text": [
      "\n",
      " input train and test X shape is (512, 6, 5, 5), (57, 6, 5, 5) \n",
      "MultiClassEstimator(batch_size=128, conv1_kernel_size=11, dense_avf='relu',\n",
      "                    dense_layers=[128], epochs=200, lr=0.0001, metric='ROC',\n",
      "                    monitor='val_loss', name='AggMap MultiClass Estimator',\n",
      "                    patience=10000, random_state=32, verbose=0)\n"
     ]
    },
    {
     "name": "stderr",
     "output_type": "stream",
     "text": [
      "100%|##########| 512/512 [00:00<00:00, 2300.65it/s]\n",
      "100%|##########| 57/57 [00:00<00:00, 1528.79it/s]\n"
     ]
    },
    {
     "name": "stdout",
     "output_type": "stream",
     "text": [
      "\n",
      " input train and test X shape is (512, 6, 5, 5), (57, 6, 5, 5) \n",
      "MultiClassEstimator(batch_size=128, conv1_kernel_size=11, dense_avf='relu',\n",
      "                    dense_layers=[128], epochs=200, lr=0.0001, metric='ROC',\n",
      "                    monitor='val_loss', name='AggMap MultiClass Estimator',\n",
      "                    patience=10000, random_state=32, verbose=0)\n"
     ]
    },
    {
     "name": "stderr",
     "output_type": "stream",
     "text": [
      "100%|##########| 512/512 [00:00<00:00, 2937.73it/s]\n",
      "100%|##########| 57/57 [00:00<00:00, 1437.96it/s]\n"
     ]
    },
    {
     "name": "stdout",
     "output_type": "stream",
     "text": [
      "\n",
      " input train and test X shape is (512, 6, 5, 5), (57, 6, 5, 5) \n",
      "MultiClassEstimator(batch_size=128, conv1_kernel_size=11, dense_avf='relu',\n",
      "                    dense_layers=[128], epochs=200, lr=0.0001, metric='ROC',\n",
      "                    monitor='val_loss', name='AggMap MultiClass Estimator',\n",
      "                    patience=10000, random_state=32, verbose=0)\n"
     ]
    },
    {
     "name": "stderr",
     "output_type": "stream",
     "text": [
      "100%|##########| 512/512 [00:00<00:00, 1733.04it/s]\n",
      "100%|##########| 57/57 [00:00<00:00, 997.34it/s]\n"
     ]
    },
    {
     "name": "stdout",
     "output_type": "stream",
     "text": [
      "\n",
      " input train and test X shape is (512, 6, 5, 5), (57, 6, 5, 5) \n",
      "MultiClassEstimator(batch_size=128, conv1_kernel_size=11, dense_avf='relu',\n",
      "                    dense_layers=[128], epochs=200, lr=0.0001, metric='ROC',\n",
      "                    monitor='val_loss', name='AggMap MultiClass Estimator',\n",
      "                    patience=10000, random_state=32, verbose=0)\n"
     ]
    },
    {
     "name": "stderr",
     "output_type": "stream",
     "text": [
      "100%|##########| 512/512 [00:00<00:00, 656.07it/s]\n",
      "100%|##########| 57/57 [00:00<00:00, 1322.15it/s]\n"
     ]
    },
    {
     "name": "stdout",
     "output_type": "stream",
     "text": [
      "\n",
      " input train and test X shape is (512, 6, 5, 5), (57, 6, 5, 5) \n",
      "MultiClassEstimator(batch_size=128, conv1_kernel_size=11, dense_avf='relu',\n",
      "                    dense_layers=[128], epochs=200, lr=0.0001, metric='ROC',\n",
      "                    monitor='val_loss', name='AggMap MultiClass Estimator',\n",
      "                    patience=10000, random_state=32, verbose=0)\n"
     ]
    },
    {
     "name": "stderr",
     "output_type": "stream",
     "text": [
      "100%|##########| 513/513 [00:00<00:00, 761.35it/s] \n",
      "100%|##########| 56/56 [00:00<00:00, 629.46it/s]\n"
     ]
    },
    {
     "name": "stdout",
     "output_type": "stream",
     "text": [
      "\n",
      " input train and test X shape is (513, 6, 5, 5), (56, 6, 5, 5) \n",
      "MultiClassEstimator(batch_size=128, conv1_kernel_size=11, dense_avf='relu',\n",
      "                    dense_layers=[128], epochs=200, lr=0.0001, metric='ROC',\n",
      "                    monitor='val_loss', name='AggMap MultiClass Estimator',\n",
      "                    patience=10000, random_state=32, verbose=0)\n"
     ]
    },
    {
     "name": "stderr",
     "output_type": "stream",
     "text": [
      "100%|##########| 512/512 [00:00<00:00, 768.39it/s]\n",
      "100%|##########| 57/57 [00:00<00:00, 634.93it/s]\n"
     ]
    },
    {
     "name": "stdout",
     "output_type": "stream",
     "text": [
      "\n",
      " input train and test X shape is (512, 6, 5, 5), (57, 6, 5, 5) \n",
      "MultiClassEstimator(batch_size=128, conv1_kernel_size=11, dense_avf='relu',\n",
      "                    dense_layers=[128], epochs=200, lr=0.0001, metric='ROC',\n",
      "                    monitor='val_loss', name='AggMap MultiClass Estimator',\n",
      "                    patience=10000, random_state=32, verbose=0)\n"
     ]
    },
    {
     "name": "stderr",
     "output_type": "stream",
     "text": [
      "100%|##########| 512/512 [00:00<00:00, 1238.15it/s]\n",
      "100%|##########| 57/57 [00:00<00:00, 983.00it/s]\n"
     ]
    },
    {
     "name": "stdout",
     "output_type": "stream",
     "text": [
      "\n",
      " input train and test X shape is (512, 6, 5, 5), (57, 6, 5, 5) \n",
      "MultiClassEstimator(batch_size=128, conv1_kernel_size=11, dense_avf='relu',\n",
      "                    dense_layers=[128], epochs=200, lr=0.0001, metric='ROC',\n",
      "                    monitor='val_loss', name='AggMap MultiClass Estimator',\n",
      "                    patience=10000, random_state=32, verbose=0)\n"
     ]
    },
    {
     "name": "stderr",
     "output_type": "stream",
     "text": [
      "100%|##########| 512/512 [00:00<00:00, 1540.76it/s]\n",
      "100%|##########| 57/57 [00:00<00:00, 785.40it/s]\n"
     ]
    },
    {
     "name": "stdout",
     "output_type": "stream",
     "text": [
      "\n",
      " input train and test X shape is (512, 6, 5, 5), (57, 6, 5, 5) \n",
      "MultiClassEstimator(batch_size=128, conv1_kernel_size=11, dense_avf='relu',\n",
      "                    dense_layers=[128], epochs=200, lr=0.0001, metric='ROC',\n",
      "                    monitor='val_loss', name='AggMap MultiClass Estimator',\n",
      "                    patience=10000, random_state=32, verbose=0)\n"
     ]
    },
    {
     "name": "stderr",
     "output_type": "stream",
     "text": [
      "100%|##########| 512/512 [00:00<00:00, 681.64it/s] \n",
      "100%|##########| 57/57 [00:00<00:00, 743.68it/s]\n"
     ]
    },
    {
     "name": "stdout",
     "output_type": "stream",
     "text": [
      "\n",
      " input train and test X shape is (512, 6, 5, 5), (57, 6, 5, 5) \n",
      "MultiClassEstimator(batch_size=128, conv1_kernel_size=11, dense_avf='relu',\n",
      "                    dense_layers=[128], epochs=200, lr=0.0001, metric='ROC',\n",
      "                    monitor='val_loss', name='AggMap MultiClass Estimator',\n",
      "                    patience=10000, random_state=32, verbose=0)\n"
     ]
    },
    {
     "name": "stderr",
     "output_type": "stream",
     "text": [
      "100%|##########| 512/512 [00:00<00:00, 1337.13it/s]\n",
      "100%|##########| 57/57 [00:00<00:00, 1501.31it/s]\n"
     ]
    },
    {
     "name": "stdout",
     "output_type": "stream",
     "text": [
      "\n",
      " input train and test X shape is (512, 6, 5, 5), (57, 6, 5, 5) \n",
      "MultiClassEstimator(batch_size=128, conv1_kernel_size=11, dense_avf='relu',\n",
      "                    dense_layers=[128], epochs=200, lr=0.0001, metric='ROC',\n",
      "                    monitor='val_loss', name='AggMap MultiClass Estimator',\n",
      "                    patience=10000, random_state=32, verbose=0)\n"
     ]
    },
    {
     "name": "stderr",
     "output_type": "stream",
     "text": [
      "100%|##########| 512/512 [00:00<00:00, 1241.60it/s]\n",
      "100%|##########| 57/57 [00:00<00:00, 968.36it/s]\n"
     ]
    },
    {
     "name": "stdout",
     "output_type": "stream",
     "text": [
      "\n",
      " input train and test X shape is (512, 6, 5, 5), (57, 6, 5, 5) \n",
      "MultiClassEstimator(batch_size=128, conv1_kernel_size=11, dense_avf='relu',\n",
      "                    dense_layers=[128], epochs=200, lr=0.0001, metric='ROC',\n",
      "                    monitor='val_loss', name='AggMap MultiClass Estimator',\n",
      "                    patience=10000, random_state=32, verbose=0)\n"
     ]
    },
    {
     "name": "stderr",
     "output_type": "stream",
     "text": [
      "100%|##########| 512/512 [00:00<00:00, 1744.95it/s]\n",
      "100%|##########| 57/57 [00:00<00:00, 1236.46it/s]\n"
     ]
    },
    {
     "name": "stdout",
     "output_type": "stream",
     "text": [
      "\n",
      " input train and test X shape is (512, 6, 5, 5), (57, 6, 5, 5) \n",
      "MultiClassEstimator(batch_size=128, conv1_kernel_size=11, dense_avf='relu',\n",
      "                    dense_layers=[128], epochs=200, lr=0.0001, metric='ROC',\n",
      "                    monitor='val_loss', name='AggMap MultiClass Estimator',\n",
      "                    patience=10000, random_state=32, verbose=0)\n"
     ]
    },
    {
     "name": "stderr",
     "output_type": "stream",
     "text": [
      "100%|##########| 512/512 [00:01<00:00, 487.88it/s] \n",
      "100%|##########| 57/57 [00:00<00:00, 1089.97it/s]\n"
     ]
    },
    {
     "name": "stdout",
     "output_type": "stream",
     "text": [
      "\n",
      " input train and test X shape is (512, 6, 5, 5), (57, 6, 5, 5) \n",
      "MultiClassEstimator(batch_size=128, conv1_kernel_size=11, dense_avf='relu',\n",
      "                    dense_layers=[128], epochs=200, lr=0.0001, metric='ROC',\n",
      "                    monitor='val_loss', name='AggMap MultiClass Estimator',\n",
      "                    patience=10000, random_state=32, verbose=0)\n"
     ]
    },
    {
     "name": "stderr",
     "output_type": "stream",
     "text": [
      "100%|##########| 512/512 [00:00<00:00, 1405.15it/s]\n",
      "100%|##########| 57/57 [00:00<00:00, 1002.27it/s]\n"
     ]
    },
    {
     "name": "stdout",
     "output_type": "stream",
     "text": [
      "\n",
      " input train and test X shape is (512, 6, 5, 5), (57, 6, 5, 5) \n",
      "MultiClassEstimator(batch_size=128, conv1_kernel_size=11, dense_avf='relu',\n",
      "                    dense_layers=[128], epochs=200, lr=0.0001, metric='ROC',\n",
      "                    monitor='val_loss', name='AggMap MultiClass Estimator',\n",
      "                    patience=10000, random_state=32, verbose=0)\n"
     ]
    },
    {
     "name": "stderr",
     "output_type": "stream",
     "text": [
      "100%|##########| 513/513 [00:00<00:00, 709.88it/s]\n",
      "100%|##########| 56/56 [00:00<00:00, 1383.58it/s]\n"
     ]
    },
    {
     "name": "stdout",
     "output_type": "stream",
     "text": [
      "\n",
      " input train and test X shape is (513, 6, 5, 5), (56, 6, 5, 5) \n",
      "MultiClassEstimator(batch_size=128, conv1_kernel_size=11, dense_avf='relu',\n",
      "                    dense_layers=[128], epochs=200, lr=0.0001, metric='ROC',\n",
      "                    monitor='val_loss', name='AggMap MultiClass Estimator',\n",
      "                    patience=10000, random_state=32, verbose=0)\n"
     ]
    },
    {
     "name": "stderr",
     "output_type": "stream",
     "text": [
      "100%|##########| 512/512 [00:01<00:00, 502.28it/s]\n",
      "100%|##########| 57/57 [00:00<00:00, 1076.79it/s]\n"
     ]
    },
    {
     "name": "stdout",
     "output_type": "stream",
     "text": [
      "\n",
      " input train and test X shape is (512, 6, 5, 5), (57, 6, 5, 5) \n",
      "MultiClassEstimator(batch_size=128, conv1_kernel_size=11, dense_avf='relu',\n",
      "                    dense_layers=[128], epochs=200, lr=0.0001, metric='ROC',\n",
      "                    monitor='val_loss', name='AggMap MultiClass Estimator',\n",
      "                    patience=10000, random_state=32, verbose=0)\n"
     ]
    },
    {
     "name": "stderr",
     "output_type": "stream",
     "text": [
      "100%|##########| 512/512 [00:00<00:00, 604.60it/s] \n",
      "100%|##########| 57/57 [00:00<00:00, 1307.92it/s]\n"
     ]
    },
    {
     "name": "stdout",
     "output_type": "stream",
     "text": [
      "\n",
      " input train and test X shape is (512, 6, 5, 5), (57, 6, 5, 5) \n",
      "MultiClassEstimator(batch_size=128, conv1_kernel_size=11, dense_avf='relu',\n",
      "                    dense_layers=[128], epochs=200, lr=0.0001, metric='ROC',\n",
      "                    monitor='val_loss', name='AggMap MultiClass Estimator',\n",
      "                    patience=10000, random_state=32, verbose=0)\n"
     ]
    },
    {
     "name": "stderr",
     "output_type": "stream",
     "text": [
      "100%|##########| 512/512 [00:00<00:00, 1761.20it/s]\n",
      "100%|##########| 57/57 [00:00<00:00, 1543.19it/s]\n"
     ]
    },
    {
     "name": "stdout",
     "output_type": "stream",
     "text": [
      "\n",
      " input train and test X shape is (512, 6, 5, 5), (57, 6, 5, 5) \n",
      "MultiClassEstimator(batch_size=128, conv1_kernel_size=11, dense_avf='relu',\n",
      "                    dense_layers=[128], epochs=200, lr=0.0001, metric='ROC',\n",
      "                    monitor='val_loss', name='AggMap MultiClass Estimator',\n",
      "                    patience=10000, random_state=32, verbose=0)\n"
     ]
    },
    {
     "name": "stderr",
     "output_type": "stream",
     "text": [
      "100%|##########| 512/512 [00:01<00:00, 467.10it/s]\n",
      "100%|##########| 57/57 [00:00<00:00, 718.66it/s]\n"
     ]
    },
    {
     "name": "stdout",
     "output_type": "stream",
     "text": [
      "\n",
      " input train and test X shape is (512, 6, 5, 5), (57, 6, 5, 5) \n",
      "MultiClassEstimator(batch_size=128, conv1_kernel_size=11, dense_avf='relu',\n",
      "                    dense_layers=[128], epochs=200, lr=0.0001, metric='ROC',\n",
      "                    monitor='val_loss', name='AggMap MultiClass Estimator',\n",
      "                    patience=10000, random_state=32, verbose=0)\n"
     ]
    },
    {
     "name": "stderr",
     "output_type": "stream",
     "text": [
      "100%|##########| 512/512 [00:00<00:00, 1751.16it/s]\n",
      "100%|##########| 57/57 [00:00<00:00, 2473.77it/s]\n"
     ]
    },
    {
     "name": "stdout",
     "output_type": "stream",
     "text": [
      "\n",
      " input train and test X shape is (512, 6, 5, 5), (57, 6, 5, 5) \n",
      "MultiClassEstimator(batch_size=128, conv1_kernel_size=11, dense_avf='relu',\n",
      "                    dense_layers=[128], epochs=200, lr=0.0001, metric='ROC',\n",
      "                    monitor='val_loss', name='AggMap MultiClass Estimator',\n",
      "                    patience=10000, random_state=32, verbose=0)\n"
     ]
    },
    {
     "name": "stderr",
     "output_type": "stream",
     "text": [
      "100%|##########| 512/512 [00:00<00:00, 574.46it/s] \n",
      "100%|##########| 57/57 [00:00<00:00, 1253.61it/s]\n"
     ]
    },
    {
     "name": "stdout",
     "output_type": "stream",
     "text": [
      "\n",
      " input train and test X shape is (512, 6, 5, 5), (57, 6, 5, 5) \n",
      "MultiClassEstimator(batch_size=128, conv1_kernel_size=11, dense_avf='relu',\n",
      "                    dense_layers=[128], epochs=200, lr=0.0001, metric='ROC',\n",
      "                    monitor='val_loss', name='AggMap MultiClass Estimator',\n",
      "                    patience=10000, random_state=32, verbose=0)\n"
     ]
    },
    {
     "name": "stderr",
     "output_type": "stream",
     "text": [
      "100%|##########| 512/512 [00:00<00:00, 950.90it/s]\n",
      "100%|##########| 57/57 [00:00<00:00, 372.36it/s]\n"
     ]
    },
    {
     "name": "stdout",
     "output_type": "stream",
     "text": [
      "\n",
      " input train and test X shape is (512, 6, 5, 5), (57, 6, 5, 5) \n",
      "MultiClassEstimator(batch_size=128, conv1_kernel_size=11, dense_avf='relu',\n",
      "                    dense_layers=[128], epochs=200, lr=0.0001, metric='ROC',\n",
      "                    monitor='val_loss', name='AggMap MultiClass Estimator',\n",
      "                    patience=10000, random_state=32, verbose=0)\n"
     ]
    },
    {
     "name": "stderr",
     "output_type": "stream",
     "text": [
      "100%|##########| 512/512 [00:00<00:00, 822.02it/s] \n",
      "100%|##########| 57/57 [00:00<00:00, 1132.41it/s]\n"
     ]
    },
    {
     "name": "stdout",
     "output_type": "stream",
     "text": [
      "\n",
      " input train and test X shape is (512, 6, 5, 5), (57, 6, 5, 5) \n",
      "MultiClassEstimator(batch_size=128, conv1_kernel_size=11, dense_avf='relu',\n",
      "                    dense_layers=[128], epochs=200, lr=0.0001, metric='ROC',\n",
      "                    monitor='val_loss', name='AggMap MultiClass Estimator',\n",
      "                    patience=10000, random_state=32, verbose=0)\n"
     ]
    },
    {
     "name": "stderr",
     "output_type": "stream",
     "text": [
      "100%|##########| 512/512 [00:01<00:00, 494.06it/s]\n",
      "100%|##########| 57/57 [00:00<00:00, 560.65it/s]\n"
     ]
    },
    {
     "name": "stdout",
     "output_type": "stream",
     "text": [
      "\n",
      " input train and test X shape is (512, 6, 5, 5), (57, 6, 5, 5) \n",
      "MultiClassEstimator(batch_size=128, conv1_kernel_size=11, dense_avf='relu',\n",
      "                    dense_layers=[128], epochs=200, lr=0.0001, metric='ROC',\n",
      "                    monitor='val_loss', name='AggMap MultiClass Estimator',\n",
      "                    patience=10000, random_state=32, verbose=0)\n"
     ]
    },
    {
     "name": "stderr",
     "output_type": "stream",
     "text": [
      "100%|##########| 513/513 [00:00<00:00, 835.93it/s]\n",
      "100%|##########| 56/56 [00:00<00:00, 1102.69it/s]\n"
     ]
    },
    {
     "name": "stdout",
     "output_type": "stream",
     "text": [
      "\n",
      " input train and test X shape is (513, 6, 5, 5), (56, 6, 5, 5) \n",
      "MultiClassEstimator(batch_size=128, conv1_kernel_size=11, dense_avf='relu',\n",
      "                    dense_layers=[128], epochs=200, lr=0.0001, metric='ROC',\n",
      "                    monitor='val_loss', name='AggMap MultiClass Estimator',\n",
      "                    patience=10000, random_state=32, verbose=0)\n"
     ]
    }
   ],
   "source": [
    "outer_fold = 10\n",
    "\n",
    "run_all = []\n",
    "for repeat_seed in [8, 16, 32, 64, 128]: #5 repeats random seeds\n",
    "    \n",
    "    outer = KFold(n_splits = outer_fold, shuffle = True, random_state = repeat_seed)\n",
    "    outer_idx = outer.split(range(len(Y)), Y[:,0])\n",
    "\n",
    "    for i, idx in enumerate(outer_idx):\n",
    "        \n",
    "        fold_num = \"fold_%s\" % str(i).zfill(2) \n",
    "        \n",
    "        train_idx, test_idx = idx\n",
    "        \n",
    "        testY = Y[test_idx]\n",
    "        testx = X[test_idx]\n",
    "        \n",
    "        trainx = X[train_idx]\n",
    "        trainY = Y[train_idx]\n",
    "\n",
    "        trainX = mp.batch_transform(trainx, scale_method = 'standard')\n",
    "        testX = mp.batch_transform(testx, scale_method = 'standard')\n",
    "        \n",
    "        print(\"\\n input train and test X shape is %s, %s \" % (trainX.shape,  testX.shape))\n",
    "        \n",
    "        clf = AggModel.MultiClassEstimator(epochs = 200,  verbose = 0)\n",
    "        clf.fit(trainX, trainY)\n",
    "\n",
    "        y_true = testY[:,0]\n",
    "        y_pred = clf.predict(testX)[:,0]\n",
    "        y_score = clf.predict_proba(testX)[:,0]\n",
    "\n",
    "        tn, fp, fn, tp = confusion_matrix(y_true, y_pred).ravel()\n",
    "        \n",
    "        acc = (tp + tn) / sum([tn, fp, fn, tp])\n",
    "        \n",
    "        sensitivity = tp / sum([tp, fn])\n",
    "        specificity = tn / sum([tn, fp])\n",
    "        \n",
    "        prc_auc = prc_auc_score(y_true, y_score)\n",
    "        roc_auc = roc_auc_score(y_true, y_score)\n",
    "        \n",
    "        precision = tp / sum([tp, fp])\n",
    "        recall =  tp / sum([tp, fn]) #equals to sensitivity\n",
    "        \n",
    "        \n",
    "        res = {'fold': fold_num,\n",
    "               'repeat_seed':repeat_seed,\n",
    "               \n",
    "               'accuracy':acc, \n",
    "               \n",
    "               'prc_auc':prc_auc, \n",
    "               'roc_auc':roc_auc,\n",
    "\n",
    "               'sensitivity': sensitivity, \n",
    "               'specificity': specificity,\n",
    "               \n",
    "               'precision':precision,\n",
    "               'recall':recall,\n",
    "              }\n",
    "        \n",
    "        run_all.append(res)"
   ]
  },
  {
   "cell_type": "code",
   "execution_count": null,
   "metadata": {},
   "outputs": [],
   "source": []
  },
  {
   "cell_type": "code",
   "execution_count": 25,
   "metadata": {},
   "outputs": [
    {
     "data": {
      "text/plain": [
       "323138"
      ]
     },
     "execution_count": 25,
     "metadata": {},
     "output_type": "execute_result"
    }
   ],
   "source": [
    "clf._model.count_params()"
   ]
  },
  {
   "cell_type": "code",
   "execution_count": 26,
   "metadata": {},
   "outputs": [
    {
     "data": {
      "text/html": [
       "<div>\n",
       "<style scoped>\n",
       "    .dataframe tbody tr th:only-of-type {\n",
       "        vertical-align: middle;\n",
       "    }\n",
       "\n",
       "    .dataframe tbody tr th {\n",
       "        vertical-align: top;\n",
       "    }\n",
       "\n",
       "    .dataframe thead th {\n",
       "        text-align: right;\n",
       "    }\n",
       "</style>\n",
       "<table border=\"1\" class=\"dataframe\">\n",
       "  <thead>\n",
       "    <tr style=\"text-align: right;\">\n",
       "      <th></th>\n",
       "      <th>fold</th>\n",
       "      <th>repeat_seed</th>\n",
       "      <th>accuracy</th>\n",
       "      <th>prc_auc</th>\n",
       "      <th>roc_auc</th>\n",
       "      <th>sensitivity</th>\n",
       "      <th>specificity</th>\n",
       "      <th>precision</th>\n",
       "      <th>recall</th>\n",
       "    </tr>\n",
       "  </thead>\n",
       "  <tbody>\n",
       "    <tr>\n",
       "      <td>0</td>\n",
       "      <td>fold_00</td>\n",
       "      <td>8</td>\n",
       "      <td>0.982456</td>\n",
       "      <td>0.998907</td>\n",
       "      <td>0.998765</td>\n",
       "      <td>1.000000</td>\n",
       "      <td>0.962963</td>\n",
       "      <td>0.967742</td>\n",
       "      <td>1.000000</td>\n",
       "    </tr>\n",
       "    <tr>\n",
       "      <td>1</td>\n",
       "      <td>fold_01</td>\n",
       "      <td>8</td>\n",
       "      <td>1.000000</td>\n",
       "      <td>1.000000</td>\n",
       "      <td>1.000000</td>\n",
       "      <td>1.000000</td>\n",
       "      <td>1.000000</td>\n",
       "      <td>1.000000</td>\n",
       "      <td>1.000000</td>\n",
       "    </tr>\n",
       "    <tr>\n",
       "      <td>2</td>\n",
       "      <td>fold_02</td>\n",
       "      <td>8</td>\n",
       "      <td>0.947368</td>\n",
       "      <td>0.996187</td>\n",
       "      <td>0.993243</td>\n",
       "      <td>0.945946</td>\n",
       "      <td>0.950000</td>\n",
       "      <td>0.972222</td>\n",
       "      <td>0.945946</td>\n",
       "    </tr>\n",
       "    <tr>\n",
       "      <td>3</td>\n",
       "      <td>fold_03</td>\n",
       "      <td>8</td>\n",
       "      <td>1.000000</td>\n",
       "      <td>1.000000</td>\n",
       "      <td>1.000000</td>\n",
       "      <td>1.000000</td>\n",
       "      <td>1.000000</td>\n",
       "      <td>1.000000</td>\n",
       "      <td>1.000000</td>\n",
       "    </tr>\n",
       "    <tr>\n",
       "      <td>4</td>\n",
       "      <td>fold_04</td>\n",
       "      <td>8</td>\n",
       "      <td>0.964912</td>\n",
       "      <td>0.991985</td>\n",
       "      <td>0.988491</td>\n",
       "      <td>1.000000</td>\n",
       "      <td>0.913043</td>\n",
       "      <td>0.944444</td>\n",
       "      <td>1.000000</td>\n",
       "    </tr>\n",
       "    <tr>\n",
       "      <td>5</td>\n",
       "      <td>fold_05</td>\n",
       "      <td>8</td>\n",
       "      <td>1.000000</td>\n",
       "      <td>1.000000</td>\n",
       "      <td>1.000000</td>\n",
       "      <td>1.000000</td>\n",
       "      <td>1.000000</td>\n",
       "      <td>1.000000</td>\n",
       "      <td>1.000000</td>\n",
       "    </tr>\n",
       "    <tr>\n",
       "      <td>6</td>\n",
       "      <td>fold_06</td>\n",
       "      <td>8</td>\n",
       "      <td>1.000000</td>\n",
       "      <td>1.000000</td>\n",
       "      <td>1.000000</td>\n",
       "      <td>1.000000</td>\n",
       "      <td>1.000000</td>\n",
       "      <td>1.000000</td>\n",
       "      <td>1.000000</td>\n",
       "    </tr>\n",
       "    <tr>\n",
       "      <td>7</td>\n",
       "      <td>fold_07</td>\n",
       "      <td>8</td>\n",
       "      <td>0.964912</td>\n",
       "      <td>0.981654</td>\n",
       "      <td>0.979798</td>\n",
       "      <td>0.969697</td>\n",
       "      <td>0.958333</td>\n",
       "      <td>0.969697</td>\n",
       "      <td>0.969697</td>\n",
       "    </tr>\n",
       "    <tr>\n",
       "      <td>8</td>\n",
       "      <td>fold_08</td>\n",
       "      <td>8</td>\n",
       "      <td>0.947368</td>\n",
       "      <td>1.000000</td>\n",
       "      <td>1.000000</td>\n",
       "      <td>1.000000</td>\n",
       "      <td>0.850000</td>\n",
       "      <td>0.925000</td>\n",
       "      <td>1.000000</td>\n",
       "    </tr>\n",
       "    <tr>\n",
       "      <td>9</td>\n",
       "      <td>fold_09</td>\n",
       "      <td>8</td>\n",
       "      <td>0.946429</td>\n",
       "      <td>1.000000</td>\n",
       "      <td>1.000000</td>\n",
       "      <td>0.933333</td>\n",
       "      <td>1.000000</td>\n",
       "      <td>1.000000</td>\n",
       "      <td>0.933333</td>\n",
       "    </tr>\n",
       "    <tr>\n",
       "      <td>10</td>\n",
       "      <td>fold_00</td>\n",
       "      <td>16</td>\n",
       "      <td>0.964912</td>\n",
       "      <td>0.996187</td>\n",
       "      <td>0.993243</td>\n",
       "      <td>1.000000</td>\n",
       "      <td>0.900000</td>\n",
       "      <td>0.948718</td>\n",
       "      <td>1.000000</td>\n",
       "    </tr>\n",
       "    <tr>\n",
       "      <td>11</td>\n",
       "      <td>fold_01</td>\n",
       "      <td>16</td>\n",
       "      <td>0.947368</td>\n",
       "      <td>0.995246</td>\n",
       "      <td>0.992063</td>\n",
       "      <td>0.944444</td>\n",
       "      <td>0.952381</td>\n",
       "      <td>0.971429</td>\n",
       "      <td>0.944444</td>\n",
       "    </tr>\n",
       "    <tr>\n",
       "      <td>12</td>\n",
       "      <td>fold_02</td>\n",
       "      <td>16</td>\n",
       "      <td>0.964912</td>\n",
       "      <td>0.999095</td>\n",
       "      <td>0.998737</td>\n",
       "      <td>0.969697</td>\n",
       "      <td>0.958333</td>\n",
       "      <td>0.969697</td>\n",
       "      <td>0.969697</td>\n",
       "    </tr>\n",
       "    <tr>\n",
       "      <td>13</td>\n",
       "      <td>fold_03</td>\n",
       "      <td>16</td>\n",
       "      <td>1.000000</td>\n",
       "      <td>1.000000</td>\n",
       "      <td>1.000000</td>\n",
       "      <td>1.000000</td>\n",
       "      <td>1.000000</td>\n",
       "      <td>1.000000</td>\n",
       "      <td>1.000000</td>\n",
       "    </tr>\n",
       "    <tr>\n",
       "      <td>14</td>\n",
       "      <td>fold_04</td>\n",
       "      <td>16</td>\n",
       "      <td>0.982456</td>\n",
       "      <td>1.000000</td>\n",
       "      <td>1.000000</td>\n",
       "      <td>0.974359</td>\n",
       "      <td>1.000000</td>\n",
       "      <td>1.000000</td>\n",
       "      <td>0.974359</td>\n",
       "    </tr>\n",
       "    <tr>\n",
       "      <td>15</td>\n",
       "      <td>fold_05</td>\n",
       "      <td>16</td>\n",
       "      <td>0.964912</td>\n",
       "      <td>0.998539</td>\n",
       "      <td>0.997297</td>\n",
       "      <td>1.000000</td>\n",
       "      <td>0.900000</td>\n",
       "      <td>0.948718</td>\n",
       "      <td>1.000000</td>\n",
       "    </tr>\n",
       "    <tr>\n",
       "      <td>16</td>\n",
       "      <td>fold_06</td>\n",
       "      <td>16</td>\n",
       "      <td>0.982456</td>\n",
       "      <td>0.998746</td>\n",
       "      <td>0.998768</td>\n",
       "      <td>1.000000</td>\n",
       "      <td>0.965517</td>\n",
       "      <td>0.965517</td>\n",
       "      <td>1.000000</td>\n",
       "    </tr>\n",
       "    <tr>\n",
       "      <td>17</td>\n",
       "      <td>fold_07</td>\n",
       "      <td>16</td>\n",
       "      <td>0.982456</td>\n",
       "      <td>1.000000</td>\n",
       "      <td>1.000000</td>\n",
       "      <td>0.974359</td>\n",
       "      <td>1.000000</td>\n",
       "      <td>1.000000</td>\n",
       "      <td>0.974359</td>\n",
       "    </tr>\n",
       "    <tr>\n",
       "      <td>18</td>\n",
       "      <td>fold_08</td>\n",
       "      <td>16</td>\n",
       "      <td>0.982456</td>\n",
       "      <td>1.000000</td>\n",
       "      <td>1.000000</td>\n",
       "      <td>0.971429</td>\n",
       "      <td>1.000000</td>\n",
       "      <td>1.000000</td>\n",
       "      <td>0.971429</td>\n",
       "    </tr>\n",
       "    <tr>\n",
       "      <td>19</td>\n",
       "      <td>fold_09</td>\n",
       "      <td>16</td>\n",
       "      <td>0.964286</td>\n",
       "      <td>0.983504</td>\n",
       "      <td>0.975000</td>\n",
       "      <td>0.972222</td>\n",
       "      <td>0.950000</td>\n",
       "      <td>0.972222</td>\n",
       "      <td>0.972222</td>\n",
       "    </tr>\n",
       "    <tr>\n",
       "      <td>20</td>\n",
       "      <td>fold_00</td>\n",
       "      <td>32</td>\n",
       "      <td>0.982456</td>\n",
       "      <td>0.998269</td>\n",
       "      <td>0.997442</td>\n",
       "      <td>1.000000</td>\n",
       "      <td>0.956522</td>\n",
       "      <td>0.971429</td>\n",
       "      <td>1.000000</td>\n",
       "    </tr>\n",
       "    <tr>\n",
       "      <td>21</td>\n",
       "      <td>fold_01</td>\n",
       "      <td>32</td>\n",
       "      <td>1.000000</td>\n",
       "      <td>1.000000</td>\n",
       "      <td>1.000000</td>\n",
       "      <td>1.000000</td>\n",
       "      <td>1.000000</td>\n",
       "      <td>1.000000</td>\n",
       "      <td>1.000000</td>\n",
       "    </tr>\n",
       "    <tr>\n",
       "      <td>22</td>\n",
       "      <td>fold_02</td>\n",
       "      <td>32</td>\n",
       "      <td>0.947368</td>\n",
       "      <td>0.996824</td>\n",
       "      <td>0.994805</td>\n",
       "      <td>0.971429</td>\n",
       "      <td>0.909091</td>\n",
       "      <td>0.944444</td>\n",
       "      <td>0.971429</td>\n",
       "    </tr>\n",
       "    <tr>\n",
       "      <td>23</td>\n",
       "      <td>fold_03</td>\n",
       "      <td>32</td>\n",
       "      <td>0.964912</td>\n",
       "      <td>1.000000</td>\n",
       "      <td>1.000000</td>\n",
       "      <td>0.937500</td>\n",
       "      <td>1.000000</td>\n",
       "      <td>1.000000</td>\n",
       "      <td>0.937500</td>\n",
       "    </tr>\n",
       "    <tr>\n",
       "      <td>24</td>\n",
       "      <td>fold_04</td>\n",
       "      <td>32</td>\n",
       "      <td>0.982456</td>\n",
       "      <td>0.998367</td>\n",
       "      <td>0.997403</td>\n",
       "      <td>1.000000</td>\n",
       "      <td>0.954545</td>\n",
       "      <td>0.972222</td>\n",
       "      <td>1.000000</td>\n",
       "    </tr>\n",
       "    <tr>\n",
       "      <td>25</td>\n",
       "      <td>fold_05</td>\n",
       "      <td>32</td>\n",
       "      <td>0.947368</td>\n",
       "      <td>0.990953</td>\n",
       "      <td>0.987212</td>\n",
       "      <td>0.970588</td>\n",
       "      <td>0.913043</td>\n",
       "      <td>0.942857</td>\n",
       "      <td>0.970588</td>\n",
       "    </tr>\n",
       "    <tr>\n",
       "      <td>26</td>\n",
       "      <td>fold_06</td>\n",
       "      <td>32</td>\n",
       "      <td>0.964912</td>\n",
       "      <td>0.981770</td>\n",
       "      <td>0.977922</td>\n",
       "      <td>1.000000</td>\n",
       "      <td>0.909091</td>\n",
       "      <td>0.945946</td>\n",
       "      <td>1.000000</td>\n",
       "    </tr>\n",
       "    <tr>\n",
       "      <td>27</td>\n",
       "      <td>fold_07</td>\n",
       "      <td>32</td>\n",
       "      <td>0.982456</td>\n",
       "      <td>1.000000</td>\n",
       "      <td>1.000000</td>\n",
       "      <td>0.975000</td>\n",
       "      <td>1.000000</td>\n",
       "      <td>1.000000</td>\n",
       "      <td>0.975000</td>\n",
       "    </tr>\n",
       "    <tr>\n",
       "      <td>28</td>\n",
       "      <td>fold_08</td>\n",
       "      <td>32</td>\n",
       "      <td>0.982456</td>\n",
       "      <td>1.000000</td>\n",
       "      <td>1.000000</td>\n",
       "      <td>0.975000</td>\n",
       "      <td>1.000000</td>\n",
       "      <td>1.000000</td>\n",
       "      <td>0.975000</td>\n",
       "    </tr>\n",
       "    <tr>\n",
       "      <td>29</td>\n",
       "      <td>fold_09</td>\n",
       "      <td>32</td>\n",
       "      <td>1.000000</td>\n",
       "      <td>1.000000</td>\n",
       "      <td>1.000000</td>\n",
       "      <td>1.000000</td>\n",
       "      <td>1.000000</td>\n",
       "      <td>1.000000</td>\n",
       "      <td>1.000000</td>\n",
       "    </tr>\n",
       "    <tr>\n",
       "      <td>30</td>\n",
       "      <td>fold_00</td>\n",
       "      <td>64</td>\n",
       "      <td>0.982456</td>\n",
       "      <td>0.996634</td>\n",
       "      <td>0.994805</td>\n",
       "      <td>1.000000</td>\n",
       "      <td>0.954545</td>\n",
       "      <td>0.972222</td>\n",
       "      <td>1.000000</td>\n",
       "    </tr>\n",
       "    <tr>\n",
       "      <td>31</td>\n",
       "      <td>fold_01</td>\n",
       "      <td>64</td>\n",
       "      <td>0.964912</td>\n",
       "      <td>0.998810</td>\n",
       "      <td>0.996951</td>\n",
       "      <td>0.975610</td>\n",
       "      <td>0.937500</td>\n",
       "      <td>0.975610</td>\n",
       "      <td>0.975610</td>\n",
       "    </tr>\n",
       "    <tr>\n",
       "      <td>32</td>\n",
       "      <td>fold_02</td>\n",
       "      <td>64</td>\n",
       "      <td>0.912281</td>\n",
       "      <td>0.979272</td>\n",
       "      <td>0.963675</td>\n",
       "      <td>0.974359</td>\n",
       "      <td>0.777778</td>\n",
       "      <td>0.904762</td>\n",
       "      <td>0.974359</td>\n",
       "    </tr>\n",
       "    <tr>\n",
       "      <td>33</td>\n",
       "      <td>fold_03</td>\n",
       "      <td>64</td>\n",
       "      <td>1.000000</td>\n",
       "      <td>1.000000</td>\n",
       "      <td>1.000000</td>\n",
       "      <td>1.000000</td>\n",
       "      <td>1.000000</td>\n",
       "      <td>1.000000</td>\n",
       "      <td>1.000000</td>\n",
       "    </tr>\n",
       "    <tr>\n",
       "      <td>34</td>\n",
       "      <td>fold_04</td>\n",
       "      <td>64</td>\n",
       "      <td>0.929825</td>\n",
       "      <td>0.994563</td>\n",
       "      <td>0.990741</td>\n",
       "      <td>1.000000</td>\n",
       "      <td>0.809524</td>\n",
       "      <td>0.900000</td>\n",
       "      <td>1.000000</td>\n",
       "    </tr>\n",
       "    <tr>\n",
       "      <td>35</td>\n",
       "      <td>fold_05</td>\n",
       "      <td>64</td>\n",
       "      <td>1.000000</td>\n",
       "      <td>1.000000</td>\n",
       "      <td>1.000000</td>\n",
       "      <td>1.000000</td>\n",
       "      <td>1.000000</td>\n",
       "      <td>1.000000</td>\n",
       "      <td>1.000000</td>\n",
       "    </tr>\n",
       "    <tr>\n",
       "      <td>36</td>\n",
       "      <td>fold_06</td>\n",
       "      <td>64</td>\n",
       "      <td>1.000000</td>\n",
       "      <td>1.000000</td>\n",
       "      <td>1.000000</td>\n",
       "      <td>1.000000</td>\n",
       "      <td>1.000000</td>\n",
       "      <td>1.000000</td>\n",
       "      <td>1.000000</td>\n",
       "    </tr>\n",
       "    <tr>\n",
       "      <td>37</td>\n",
       "      <td>fold_07</td>\n",
       "      <td>64</td>\n",
       "      <td>0.964912</td>\n",
       "      <td>0.997514</td>\n",
       "      <td>0.996104</td>\n",
       "      <td>0.971429</td>\n",
       "      <td>0.954545</td>\n",
       "      <td>0.971429</td>\n",
       "      <td>0.971429</td>\n",
       "    </tr>\n",
       "    <tr>\n",
       "      <td>38</td>\n",
       "      <td>fold_08</td>\n",
       "      <td>64</td>\n",
       "      <td>0.964912</td>\n",
       "      <td>1.000000</td>\n",
       "      <td>1.000000</td>\n",
       "      <td>0.933333</td>\n",
       "      <td>1.000000</td>\n",
       "      <td>1.000000</td>\n",
       "      <td>0.933333</td>\n",
       "    </tr>\n",
       "    <tr>\n",
       "      <td>39</td>\n",
       "      <td>fold_09</td>\n",
       "      <td>64</td>\n",
       "      <td>1.000000</td>\n",
       "      <td>1.000000</td>\n",
       "      <td>1.000000</td>\n",
       "      <td>1.000000</td>\n",
       "      <td>1.000000</td>\n",
       "      <td>1.000000</td>\n",
       "      <td>1.000000</td>\n",
       "    </tr>\n",
       "    <tr>\n",
       "      <td>40</td>\n",
       "      <td>fold_00</td>\n",
       "      <td>128</td>\n",
       "      <td>1.000000</td>\n",
       "      <td>1.000000</td>\n",
       "      <td>1.000000</td>\n",
       "      <td>1.000000</td>\n",
       "      <td>1.000000</td>\n",
       "      <td>1.000000</td>\n",
       "      <td>1.000000</td>\n",
       "    </tr>\n",
       "    <tr>\n",
       "      <td>41</td>\n",
       "      <td>fold_01</td>\n",
       "      <td>128</td>\n",
       "      <td>0.982456</td>\n",
       "      <td>1.000000</td>\n",
       "      <td>1.000000</td>\n",
       "      <td>1.000000</td>\n",
       "      <td>0.956522</td>\n",
       "      <td>0.971429</td>\n",
       "      <td>1.000000</td>\n",
       "    </tr>\n",
       "    <tr>\n",
       "      <td>42</td>\n",
       "      <td>fold_02</td>\n",
       "      <td>128</td>\n",
       "      <td>0.982456</td>\n",
       "      <td>1.000000</td>\n",
       "      <td>1.000000</td>\n",
       "      <td>0.972222</td>\n",
       "      <td>1.000000</td>\n",
       "      <td>1.000000</td>\n",
       "      <td>0.972222</td>\n",
       "    </tr>\n",
       "    <tr>\n",
       "      <td>43</td>\n",
       "      <td>fold_03</td>\n",
       "      <td>128</td>\n",
       "      <td>0.982456</td>\n",
       "      <td>0.996822</td>\n",
       "      <td>0.994709</td>\n",
       "      <td>1.000000</td>\n",
       "      <td>0.952381</td>\n",
       "      <td>0.972973</td>\n",
       "      <td>1.000000</td>\n",
       "    </tr>\n",
       "    <tr>\n",
       "      <td>44</td>\n",
       "      <td>fold_04</td>\n",
       "      <td>128</td>\n",
       "      <td>0.982456</td>\n",
       "      <td>1.000000</td>\n",
       "      <td>1.000000</td>\n",
       "      <td>0.977273</td>\n",
       "      <td>1.000000</td>\n",
       "      <td>1.000000</td>\n",
       "      <td>0.977273</td>\n",
       "    </tr>\n",
       "    <tr>\n",
       "      <td>45</td>\n",
       "      <td>fold_05</td>\n",
       "      <td>128</td>\n",
       "      <td>0.877193</td>\n",
       "      <td>0.967802</td>\n",
       "      <td>0.952703</td>\n",
       "      <td>0.972973</td>\n",
       "      <td>0.700000</td>\n",
       "      <td>0.857143</td>\n",
       "      <td>0.972973</td>\n",
       "    </tr>\n",
       "    <tr>\n",
       "      <td>46</td>\n",
       "      <td>fold_06</td>\n",
       "      <td>128</td>\n",
       "      <td>0.982456</td>\n",
       "      <td>0.996207</td>\n",
       "      <td>0.994949</td>\n",
       "      <td>1.000000</td>\n",
       "      <td>0.958333</td>\n",
       "      <td>0.970588</td>\n",
       "      <td>1.000000</td>\n",
       "    </tr>\n",
       "    <tr>\n",
       "      <td>47</td>\n",
       "      <td>fold_07</td>\n",
       "      <td>128</td>\n",
       "      <td>0.964912</td>\n",
       "      <td>0.998046</td>\n",
       "      <td>0.997500</td>\n",
       "      <td>0.968750</td>\n",
       "      <td>0.960000</td>\n",
       "      <td>0.968750</td>\n",
       "      <td>0.968750</td>\n",
       "    </tr>\n",
       "    <tr>\n",
       "      <td>48</td>\n",
       "      <td>fold_08</td>\n",
       "      <td>128</td>\n",
       "      <td>0.982456</td>\n",
       "      <td>1.000000</td>\n",
       "      <td>1.000000</td>\n",
       "      <td>0.975610</td>\n",
       "      <td>1.000000</td>\n",
       "      <td>1.000000</td>\n",
       "      <td>0.975610</td>\n",
       "    </tr>\n",
       "    <tr>\n",
       "      <td>49</td>\n",
       "      <td>fold_09</td>\n",
       "      <td>128</td>\n",
       "      <td>0.982143</td>\n",
       "      <td>1.000000</td>\n",
       "      <td>1.000000</td>\n",
       "      <td>0.968750</td>\n",
       "      <td>1.000000</td>\n",
       "      <td>1.000000</td>\n",
       "      <td>0.968750</td>\n",
       "    </tr>\n",
       "  </tbody>\n",
       "</table>\n",
       "</div>"
      ],
      "text/plain": [
       "       fold  repeat_seed  accuracy   prc_auc   roc_auc  sensitivity  \\\n",
       "0   fold_00            8  0.982456  0.998907  0.998765     1.000000   \n",
       "1   fold_01            8  1.000000  1.000000  1.000000     1.000000   \n",
       "2   fold_02            8  0.947368  0.996187  0.993243     0.945946   \n",
       "3   fold_03            8  1.000000  1.000000  1.000000     1.000000   \n",
       "4   fold_04            8  0.964912  0.991985  0.988491     1.000000   \n",
       "5   fold_05            8  1.000000  1.000000  1.000000     1.000000   \n",
       "6   fold_06            8  1.000000  1.000000  1.000000     1.000000   \n",
       "7   fold_07            8  0.964912  0.981654  0.979798     0.969697   \n",
       "8   fold_08            8  0.947368  1.000000  1.000000     1.000000   \n",
       "9   fold_09            8  0.946429  1.000000  1.000000     0.933333   \n",
       "10  fold_00           16  0.964912  0.996187  0.993243     1.000000   \n",
       "11  fold_01           16  0.947368  0.995246  0.992063     0.944444   \n",
       "12  fold_02           16  0.964912  0.999095  0.998737     0.969697   \n",
       "13  fold_03           16  1.000000  1.000000  1.000000     1.000000   \n",
       "14  fold_04           16  0.982456  1.000000  1.000000     0.974359   \n",
       "15  fold_05           16  0.964912  0.998539  0.997297     1.000000   \n",
       "16  fold_06           16  0.982456  0.998746  0.998768     1.000000   \n",
       "17  fold_07           16  0.982456  1.000000  1.000000     0.974359   \n",
       "18  fold_08           16  0.982456  1.000000  1.000000     0.971429   \n",
       "19  fold_09           16  0.964286  0.983504  0.975000     0.972222   \n",
       "20  fold_00           32  0.982456  0.998269  0.997442     1.000000   \n",
       "21  fold_01           32  1.000000  1.000000  1.000000     1.000000   \n",
       "22  fold_02           32  0.947368  0.996824  0.994805     0.971429   \n",
       "23  fold_03           32  0.964912  1.000000  1.000000     0.937500   \n",
       "24  fold_04           32  0.982456  0.998367  0.997403     1.000000   \n",
       "25  fold_05           32  0.947368  0.990953  0.987212     0.970588   \n",
       "26  fold_06           32  0.964912  0.981770  0.977922     1.000000   \n",
       "27  fold_07           32  0.982456  1.000000  1.000000     0.975000   \n",
       "28  fold_08           32  0.982456  1.000000  1.000000     0.975000   \n",
       "29  fold_09           32  1.000000  1.000000  1.000000     1.000000   \n",
       "30  fold_00           64  0.982456  0.996634  0.994805     1.000000   \n",
       "31  fold_01           64  0.964912  0.998810  0.996951     0.975610   \n",
       "32  fold_02           64  0.912281  0.979272  0.963675     0.974359   \n",
       "33  fold_03           64  1.000000  1.000000  1.000000     1.000000   \n",
       "34  fold_04           64  0.929825  0.994563  0.990741     1.000000   \n",
       "35  fold_05           64  1.000000  1.000000  1.000000     1.000000   \n",
       "36  fold_06           64  1.000000  1.000000  1.000000     1.000000   \n",
       "37  fold_07           64  0.964912  0.997514  0.996104     0.971429   \n",
       "38  fold_08           64  0.964912  1.000000  1.000000     0.933333   \n",
       "39  fold_09           64  1.000000  1.000000  1.000000     1.000000   \n",
       "40  fold_00          128  1.000000  1.000000  1.000000     1.000000   \n",
       "41  fold_01          128  0.982456  1.000000  1.000000     1.000000   \n",
       "42  fold_02          128  0.982456  1.000000  1.000000     0.972222   \n",
       "43  fold_03          128  0.982456  0.996822  0.994709     1.000000   \n",
       "44  fold_04          128  0.982456  1.000000  1.000000     0.977273   \n",
       "45  fold_05          128  0.877193  0.967802  0.952703     0.972973   \n",
       "46  fold_06          128  0.982456  0.996207  0.994949     1.000000   \n",
       "47  fold_07          128  0.964912  0.998046  0.997500     0.968750   \n",
       "48  fold_08          128  0.982456  1.000000  1.000000     0.975610   \n",
       "49  fold_09          128  0.982143  1.000000  1.000000     0.968750   \n",
       "\n",
       "    specificity  precision    recall  \n",
       "0      0.962963   0.967742  1.000000  \n",
       "1      1.000000   1.000000  1.000000  \n",
       "2      0.950000   0.972222  0.945946  \n",
       "3      1.000000   1.000000  1.000000  \n",
       "4      0.913043   0.944444  1.000000  \n",
       "5      1.000000   1.000000  1.000000  \n",
       "6      1.000000   1.000000  1.000000  \n",
       "7      0.958333   0.969697  0.969697  \n",
       "8      0.850000   0.925000  1.000000  \n",
       "9      1.000000   1.000000  0.933333  \n",
       "10     0.900000   0.948718  1.000000  \n",
       "11     0.952381   0.971429  0.944444  \n",
       "12     0.958333   0.969697  0.969697  \n",
       "13     1.000000   1.000000  1.000000  \n",
       "14     1.000000   1.000000  0.974359  \n",
       "15     0.900000   0.948718  1.000000  \n",
       "16     0.965517   0.965517  1.000000  \n",
       "17     1.000000   1.000000  0.974359  \n",
       "18     1.000000   1.000000  0.971429  \n",
       "19     0.950000   0.972222  0.972222  \n",
       "20     0.956522   0.971429  1.000000  \n",
       "21     1.000000   1.000000  1.000000  \n",
       "22     0.909091   0.944444  0.971429  \n",
       "23     1.000000   1.000000  0.937500  \n",
       "24     0.954545   0.972222  1.000000  \n",
       "25     0.913043   0.942857  0.970588  \n",
       "26     0.909091   0.945946  1.000000  \n",
       "27     1.000000   1.000000  0.975000  \n",
       "28     1.000000   1.000000  0.975000  \n",
       "29     1.000000   1.000000  1.000000  \n",
       "30     0.954545   0.972222  1.000000  \n",
       "31     0.937500   0.975610  0.975610  \n",
       "32     0.777778   0.904762  0.974359  \n",
       "33     1.000000   1.000000  1.000000  \n",
       "34     0.809524   0.900000  1.000000  \n",
       "35     1.000000   1.000000  1.000000  \n",
       "36     1.000000   1.000000  1.000000  \n",
       "37     0.954545   0.971429  0.971429  \n",
       "38     1.000000   1.000000  0.933333  \n",
       "39     1.000000   1.000000  1.000000  \n",
       "40     1.000000   1.000000  1.000000  \n",
       "41     0.956522   0.971429  1.000000  \n",
       "42     1.000000   1.000000  0.972222  \n",
       "43     0.952381   0.972973  1.000000  \n",
       "44     1.000000   1.000000  0.977273  \n",
       "45     0.700000   0.857143  0.972973  \n",
       "46     0.958333   0.970588  1.000000  \n",
       "47     0.960000   0.968750  0.968750  \n",
       "48     1.000000   1.000000  0.975610  \n",
       "49     1.000000   1.000000  0.968750  "
      ]
     },
     "execution_count": 26,
     "metadata": {},
     "output_type": "execute_result"
    }
   ],
   "source": [
    "df = pd.DataFrame(run_all)\n",
    "df.to_excel('results.xlsx')\n",
    "df"
   ]
  },
  {
   "cell_type": "code",
   "execution_count": 30,
   "metadata": {},
   "outputs": [
    {
     "data": {
      "text/html": [
       "<div>\n",
       "<style scoped>\n",
       "    .dataframe tbody tr th:only-of-type {\n",
       "        vertical-align: middle;\n",
       "    }\n",
       "\n",
       "    .dataframe tbody tr th {\n",
       "        vertical-align: top;\n",
       "    }\n",
       "\n",
       "    .dataframe thead th {\n",
       "        text-align: right;\n",
       "    }\n",
       "</style>\n",
       "<table border=\"1\" class=\"dataframe\">\n",
       "  <thead>\n",
       "    <tr style=\"text-align: right;\">\n",
       "      <th></th>\n",
       "      <th>repeat_seed</th>\n",
       "      <th>accuracy</th>\n",
       "      <th>prc_auc</th>\n",
       "      <th>roc_auc</th>\n",
       "      <th>sensitivity</th>\n",
       "      <th>specificity</th>\n",
       "      <th>precision</th>\n",
       "      <th>recall</th>\n",
       "    </tr>\n",
       "    <tr>\n",
       "      <th>repeat_seed</th>\n",
       "      <th></th>\n",
       "      <th></th>\n",
       "      <th></th>\n",
       "      <th></th>\n",
       "      <th></th>\n",
       "      <th></th>\n",
       "      <th></th>\n",
       "      <th></th>\n",
       "    </tr>\n",
       "  </thead>\n",
       "  <tbody>\n",
       "    <tr>\n",
       "      <td>8</td>\n",
       "      <td>8.0</td>\n",
       "      <td>0.975345</td>\n",
       "      <td>0.996873</td>\n",
       "      <td>0.996030</td>\n",
       "      <td>0.984898</td>\n",
       "      <td>0.963434</td>\n",
       "      <td>0.977911</td>\n",
       "      <td>0.984898</td>\n",
       "    </tr>\n",
       "    <tr>\n",
       "      <td>16</td>\n",
       "      <td>16.0</td>\n",
       "      <td>0.973622</td>\n",
       "      <td>0.997132</td>\n",
       "      <td>0.995511</td>\n",
       "      <td>0.980651</td>\n",
       "      <td>0.962623</td>\n",
       "      <td>0.977630</td>\n",
       "      <td>0.980651</td>\n",
       "    </tr>\n",
       "    <tr>\n",
       "      <td>32</td>\n",
       "      <td>32.0</td>\n",
       "      <td>0.975439</td>\n",
       "      <td>0.996618</td>\n",
       "      <td>0.995478</td>\n",
       "      <td>0.982952</td>\n",
       "      <td>0.964229</td>\n",
       "      <td>0.977690</td>\n",
       "      <td>0.982952</td>\n",
       "    </tr>\n",
       "    <tr>\n",
       "      <td>64</td>\n",
       "      <td>64.0</td>\n",
       "      <td>0.971930</td>\n",
       "      <td>0.996679</td>\n",
       "      <td>0.994228</td>\n",
       "      <td>0.985473</td>\n",
       "      <td>0.943389</td>\n",
       "      <td>0.972402</td>\n",
       "      <td>0.985473</td>\n",
       "    </tr>\n",
       "    <tr>\n",
       "      <td>128</td>\n",
       "      <td>128.0</td>\n",
       "      <td>0.971898</td>\n",
       "      <td>0.995888</td>\n",
       "      <td>0.993986</td>\n",
       "      <td>0.983558</td>\n",
       "      <td>0.952724</td>\n",
       "      <td>0.974088</td>\n",
       "      <td>0.983558</td>\n",
       "    </tr>\n",
       "  </tbody>\n",
       "</table>\n",
       "</div>"
      ],
      "text/plain": [
       "             repeat_seed  accuracy   prc_auc   roc_auc  sensitivity  \\\n",
       "repeat_seed                                                           \n",
       "8                    8.0  0.975345  0.996873  0.996030     0.984898   \n",
       "16                  16.0  0.973622  0.997132  0.995511     0.980651   \n",
       "32                  32.0  0.975439  0.996618  0.995478     0.982952   \n",
       "64                  64.0  0.971930  0.996679  0.994228     0.985473   \n",
       "128                128.0  0.971898  0.995888  0.993986     0.983558   \n",
       "\n",
       "             specificity  precision    recall  \n",
       "repeat_seed                                    \n",
       "8               0.963434   0.977911  0.984898  \n",
       "16              0.962623   0.977630  0.980651  \n",
       "32              0.964229   0.977690  0.982952  \n",
       "64              0.943389   0.972402  0.985473  \n",
       "128             0.952724   0.974088  0.983558  "
      ]
     },
     "execution_count": 30,
     "metadata": {},
     "output_type": "execute_result"
    }
   ],
   "source": [
    "results = df.groupby(['repeat_seed']).apply(np.mean)\n",
    "results"
   ]
  },
  {
   "cell_type": "code",
   "execution_count": 31,
   "metadata": {},
   "outputs": [
    {
     "data": {
      "text/plain": [
       "repeat_seed    49.600\n",
       "accuracy        0.974\n",
       "prc_auc         0.997\n",
       "roc_auc         0.995\n",
       "sensitivity     0.984\n",
       "specificity     0.957\n",
       "precision       0.976\n",
       "recall          0.984\n",
       "dtype: float64"
      ]
     },
     "execution_count": 31,
     "metadata": {},
     "output_type": "execute_result"
    }
   ],
   "source": [
    "results.mean().round(3)"
   ]
  },
  {
   "cell_type": "code",
   "execution_count": 32,
   "metadata": {},
   "outputs": [
    {
     "data": {
      "text/plain": [
       "repeat_seed    48.793\n",
       "accuracy        0.002\n",
       "prc_auc         0.000\n",
       "roc_auc         0.001\n",
       "sensitivity     0.002\n",
       "specificity     0.009\n",
       "precision       0.003\n",
       "recall          0.002\n",
       "dtype: float64"
      ]
     },
     "execution_count": 32,
     "metadata": {},
     "output_type": "execute_result"
    }
   ],
   "source": [
    "results.std().round(3)"
   ]
  },
  {
   "cell_type": "code",
   "execution_count": null,
   "metadata": {},
   "outputs": [],
   "source": []
  },
  {
   "cell_type": "code",
   "execution_count": null,
   "metadata": {},
   "outputs": [],
   "source": []
  },
  {
   "cell_type": "code",
   "execution_count": null,
   "metadata": {},
   "outputs": [],
   "source": []
  },
  {
   "cell_type": "code",
   "execution_count": null,
   "metadata": {},
   "outputs": [],
   "source": []
  },
  {
   "cell_type": "code",
   "execution_count": null,
   "metadata": {},
   "outputs": [],
   "source": []
  },
  {
   "cell_type": "code",
   "execution_count": null,
   "metadata": {},
   "outputs": [],
   "source": []
  }
 ],
 "metadata": {
  "kernelspec": {
   "display_name": "Python 3",
   "language": "python",
   "name": "python3"
  },
  "language_info": {
   "codemirror_mode": {
    "name": "ipython",
    "version": 3
   },
   "file_extension": ".py",
   "mimetype": "text/x-python",
   "name": "python",
   "nbconvert_exporter": "python",
   "pygments_lexer": "ipython3",
   "version": "3.6.9"
  }
 },
 "nbformat": 4,
 "nbformat_minor": 4
}
