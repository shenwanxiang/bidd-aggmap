{
 "cells": [
  {
   "cell_type": "code",
   "execution_count": 1,
   "metadata": {},
   "outputs": [],
   "source": [
    "# -*- coding: utf-8 -*-\n",
    "\"\"\"\n",
    "Created on Sun Aug 16 17:10:53 2020\n",
    "\n",
    "@author: wanxiang.shen@u.nus.edu\n",
    "\"\"\"\n",
    "\n",
    "import warnings, os\n",
    "warnings.filterwarnings(\"ignore\")\n",
    "\n",
    "\n",
    "import pandas as pd\n",
    "import numpy as np\n",
    "from glob import glob\n",
    "\n",
    "from sklearn.model_selection import KFold, StratifiedKFold\n",
    "from sklearn.metrics import confusion_matrix, precision_recall_curve, roc_auc_score\n",
    "from sklearn.metrics import auc as calculate_auc\n",
    "\n",
    "import matplotlib.pyplot as plt\n",
    "import seaborn as sns\n",
    "\n",
    "from aggmap import AggMap, loadmap\n",
    "from aggmap import show\n",
    "np.random.seed(666) #just for reaptable results\n",
    "\n",
    "from aggmap.AggModel import RegressionEstimator, MultiClassEstimator, MultiLabelEstimator\n",
    "\n"
   ]
  },
  {
   "cell_type": "code",
   "execution_count": 2,
   "metadata": {},
   "outputs": [],
   "source": [
    "flist = glob('./data/*.csv.gzip')\n",
    "flist = pd.Series(flist).sort_values().tolist()\n",
    "fall = []\n",
    "for i in flist:\n",
    "    df1 = pd.read_csv(i, compression='gzip', index_col = 0)\n",
    "    df1['class'] = i.split('/')[-1].split('.csv')[0]\n",
    "    fall.append(df1)\n",
    "    \n",
    "df = pd.concat(fall, axis=0)"
   ]
  },
  {
   "cell_type": "code",
   "execution_count": 3,
   "metadata": {},
   "outputs": [],
   "source": [
    "dfx = df[df.columns[:-1]]\n",
    "dfy = df[df.columns[-1:]]\n",
    "dfx = np.log2(dfx + 1) #apply log2(x + 1)"
   ]
  },
  {
   "cell_type": "code",
   "execution_count": null,
   "metadata": {},
   "outputs": [
    {
     "name": "stderr",
     "output_type": "stream",
     "text": [
      " 10%|9         | 1018/10446 [03:16<33:38,  4.67it/s]"
     ]
    }
   ],
   "source": [
    "scale_method = 'minmax'\n",
    "mp = loadmap('/raid/shenwanxiang/agg_mp_object/pan-cancer.mp')\n",
    "X = mp.batch_transform(dfx.values, scale_method = scale_method) \n",
    "Y = pd.get_dummies(dfy['class']).values"
   ]
  },
  {
   "cell_type": "code",
   "execution_count": null,
   "metadata": {},
   "outputs": [],
   "source": []
  },
  {
   "cell_type": "code",
   "execution_count": null,
   "metadata": {},
   "outputs": [],
   "source": [
    "mp.fmap_shape"
   ]
  },
  {
   "cell_type": "code",
   "execution_count": null,
   "metadata": {},
   "outputs": [],
   "source": [
    "dfy.shape, dfx.shape"
   ]
  },
  {
   "cell_type": "code",
   "execution_count": null,
   "metadata": {},
   "outputs": [],
   "source": [
    "class_ = pd.get_dummies(dfy['class']).columns\n",
    "class_"
   ]
  },
  {
   "cell_type": "markdown",
   "metadata": {},
   "source": [
    "## feature maps"
   ]
  },
  {
   "cell_type": "code",
   "execution_count": null,
   "metadata": {},
   "outputs": [],
   "source": [
    "idx = dfy.reset_index().groupby('class').apply(lambda x:x.index.tolist())\n",
    "rows = idx.index.tolist()\n",
    "fontsize = 20\n",
    "fig, axes = plt.subplots(nrows=3, ncols=11, figsize=(25, 8), sharex = True, sharey = True)\n",
    "\n",
    "for row, ax in zip(rows, axes.ravel()):\n",
    "    pid = idx.loc[row][0]  \n",
    "    pid_name = row.split('_')[-1]\n",
    "    x = X[pid]\n",
    "    #ax.imshow(x.sum(axis=-1))\n",
    "    #show.imshow(x, ax = ax,  mode = 'dark', color_list= pd.Series(mp.colormaps).tolist(), x_max=1, vmin=0, vmax=0.5) #\n",
    "    show.imshow(x, ax = ax,  mode = 'dark', color_list= pd.Series(mp.colormaps).tolist(), x_max=x.max()-0.05, vmin=-0.1, ) # vmax=x.max()\n",
    "    ax.set_xlabel(pid_name, fontsize = fontsize) \n",
    "\n",
    "fig.tight_layout()\n",
    "fig.savefig('./fmp-5.png', bbox_inches='tight', dpi=400) \n",
    "# fig.savefig('./fmp.svg', bbox_inches='tight', dpi=400) "
   ]
  },
  {
   "cell_type": "code",
   "execution_count": null,
   "metadata": {},
   "outputs": [],
   "source": [
    "idx = dfy.reset_index().groupby('class').apply(lambda x:x.index.tolist())\n",
    "rows = idx.index.tolist()\n",
    "fontsize = 20\n",
    "fig, axes = plt.subplots(nrows=3, ncols=11, figsize=(25, 8), sharex = True, sharey = True)\n",
    "\n",
    "for row, ax in zip(rows, axes.ravel()):\n",
    "    pid = idx.loc[row][0]  \n",
    "    pid_name = row.split('_')[-1]\n",
    "    x = X[pid]\n",
    "    ax.imshow(x.sum(axis=-1), cmap = 'gray')\n",
    "    ax.set_xticks([])\n",
    "    ax.set_yticks([])\n",
    "    #show.imshow(x.sum(axis=-1).reshape(102,102,1), ax = ax,  mode = 'dark', color_list= ['gray'], x_max=1) #\n",
    "    ax.set_xlabel(pid_name, fontsize = fontsize) \n",
    "\n",
    "    \n",
    "fig.tight_layout()\n",
    "fig.savefig('./fmp-1.png', bbox_inches='tight', dpi=400) \n",
    "# fig.savefig('./fmp.svg', bbox_inches='tight', dpi=400) "
   ]
  },
  {
   "cell_type": "code",
   "execution_count": null,
   "metadata": {},
   "outputs": [],
   "source": []
  },
  {
   "cell_type": "markdown",
   "metadata": {},
   "source": [
    "## 10 fold cv performances "
   ]
  },
  {
   "cell_type": "code",
   "execution_count": null,
   "metadata": {},
   "outputs": [],
   "source": [
    "def get_best_epochs(X, y):\n",
    "    \n",
    "    ## get best epochs\n",
    "    kf = StratifiedKFold(n_splits = 5, shuffle = True, random_state=1)\n",
    "    split_idx = kf.split(X, y[:,1])\n",
    "    \n",
    "    epochs = []\n",
    "    for i, idx in enumerate(split_idx):\n",
    "\n",
    "        train_idx, test_idx = idx\n",
    "\n",
    "        testY = y[test_idx]\n",
    "        testX = X[test_idx]\n",
    "\n",
    "        trainX = X[train_idx]\n",
    "        trainY = y[train_idx]\n",
    "        \n",
    "        clf = MultiClassEstimator(batch_size = 64, \n",
    "                                  lr = 1e-3,  \n",
    "                                  batch_norm = True, \n",
    "                                  n_inception = 3,\n",
    "                                  gpuid = 7, \n",
    "                                  verbose = 0, \n",
    "                                  patience = 20, \n",
    "                                  monitor = 'val_loss') #\n",
    "        \n",
    "        clf.fit(trainX, trainY, testX, testY)  \n",
    "\n",
    "        epochs.append(clf._performance.best_epoch)\n",
    "    \n",
    "    best_epoch = int(np.mean(epochs))\n",
    "    print('Best Avg. Epochs: %s' % best_epoch)\n",
    "    return best_epoch\n",
    "\n",
    "outer_fold = 10\n",
    "# n, w,h,c = X.shape\n",
    "# X1 = X.sum(axis=-1).reshape(n,w,h,1)\n",
    "\n",
    "each_fold_results = []\n",
    "outer = StratifiedKFold(n_splits = outer_fold, shuffle = True)\n",
    "outer_idx = outer.split(X, dfy.values)\n",
    "\n",
    "print('#'*50  )\n",
    "run_one_res = []\n",
    "for i, idx in enumerate(outer_idx):\n",
    "\n",
    "    fold_num = \"fold_%s\" % str(i).zfill(2) \n",
    "\n",
    "    save_path = './new_res/%s' % fold_num\n",
    "    if not os.path.exists(save_path):\n",
    "        os.makedirs(save_path)\n",
    "\n",
    "    train_idx, test_idx = idx\n",
    "\n",
    "    testY = Y[test_idx]\n",
    "    testX = X[test_idx]\n",
    "\n",
    "    trainX = X[train_idx]\n",
    "    trainY = Y[train_idx]\n",
    "\n",
    "    test_true_label = pd.DataFrame(testY).idxmax(axis=1).to_frame(name = 'y_true')\n",
    "    test_true_label.index = dfy.iloc[test_idx].index\n",
    "    test_true_label = test_true_label.join(dfy.iloc[test_idx])\n",
    "    test_true_label.to_csv(os.path.join(save_path, 'test_true_label.csv'))\n",
    "\n",
    "    best_epochs = get_best_epochs(trainX, trainY)\n",
    "    \n",
    "    print(\"\\n input train and test X shape is %s, %s \" % (trainX.shape,  testX.shape))\n",
    "\n",
    "    clf = MultiClassEstimator(epochs = best_epochs, batch_size = 64, lr = 1e-3,  \n",
    "                              batch_norm = True, n_inception = 3,\n",
    "                              gpuid = 7, verbose = 1, metric = 'ACC', ) #\n",
    "    clf.fit(trainX, trainY) \n",
    "\n",
    "    clf._model.save(os.path.join(save_path, 'model.h5'))\n",
    "    \n",
    "    test_pred_label = pd.DataFrame(clf.predict(testX)).idxmax(axis=1).to_frame(name = 'y_pred')\n",
    "    test_pred_label.index = test_true_label.index\n",
    "    test_pred_label.to_csv(os.path.join(save_path, 'test_pred_label.csv'))\n",
    "\n",
    "    test_avg_loss, test_avg_acc = clf._model.evaluate(testX, testY, verbose=0)\n",
    "    print('test_avg_loss: %.3f, test_avg_acc: %.3f, ' % (test_avg_loss, test_avg_acc))\n",
    "\n",
    "    each_fold_results.append(test_avg_acc)"
   ]
  },
  {
   "cell_type": "code",
   "execution_count": null,
   "metadata": {},
   "outputs": [],
   "source": [
    "clf.get_params()"
   ]
  },
  {
   "cell_type": "code",
   "execution_count": null,
   "metadata": {},
   "outputs": [],
   "source": []
  },
  {
   "cell_type": "code",
   "execution_count": null,
   "metadata": {},
   "outputs": [],
   "source": []
  },
  {
   "cell_type": "code",
   "execution_count": null,
   "metadata": {},
   "outputs": [],
   "source": []
  },
  {
   "cell_type": "code",
   "execution_count": null,
   "metadata": {},
   "outputs": [],
   "source": []
  },
  {
   "cell_type": "code",
   "execution_count": null,
   "metadata": {},
   "outputs": [],
   "source": []
  },
  {
   "cell_type": "code",
   "execution_count": null,
   "metadata": {},
   "outputs": [],
   "source": []
  },
  {
   "cell_type": "code",
   "execution_count": null,
   "metadata": {},
   "outputs": [],
   "source": []
  }
 ],
 "metadata": {
  "kernelspec": {
   "display_name": "Python 3",
   "language": "python",
   "name": "python3"
  },
  "language_info": {
   "codemirror_mode": {
    "name": "ipython",
    "version": 3
   },
   "file_extension": ".py",
   "mimetype": "text/x-python",
   "name": "python",
   "nbconvert_exporter": "python",
   "pygments_lexer": "ipython3",
   "version": "3.6.9"
  }
 },
 "nbformat": 4,
 "nbformat_minor": 4
}
