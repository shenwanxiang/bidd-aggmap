{
 "cells": [
  {
   "cell_type": "code",
   "execution_count": 1,
   "metadata": {},
   "outputs": [],
   "source": [
    "# -*- coding: utf-8 -*-\n",
    "\"\"\"\n",
    "Created on Sun Aug 16 17:10:53 2020\n",
    "\n",
    "@author: wanxiang.shen@u.nus.edu\n",
    "\"\"\"\n",
    "\n",
    "import warnings, os\n",
    "warnings.filterwarnings(\"ignore\")\n",
    "\n",
    "\n",
    "import pandas as pd\n",
    "import numpy as np\n",
    "from glob import glob\n",
    "from joblib import load, dump\n",
    "from sklearn.model_selection import KFold, StratifiedKFold\n",
    "from sklearn.metrics import confusion_matrix, precision_recall_curve, roc_auc_score\n",
    "from sklearn.metrics import auc as calculate_auc\n",
    "\n",
    "import matplotlib.pyplot as plt\n",
    "import seaborn as sns\n",
    "\n",
    "from aggmap import AggMap, AggModel, loadmap\n",
    "from aggmap import show\n",
    "np.random.seed(666) #just for reaptable results\n",
    "\n",
    "import tensorflow as tf\n",
    "import os\n",
    "os.environ[\"CUDA_VISIBLE_DEVICES\"]=\"5\"\n",
    "\n",
    "sns.set(style= 'white',font_scale = 1.2)"
   ]
  },
  {
   "cell_type": "code",
   "execution_count": 2,
   "metadata": {},
   "outputs": [
    {
     "data": {
      "image/png": "[encoded data removed]",
      "text/plain": [
       "<Figure size 432x72 with 1 Axes>"
      ]
     },
     "metadata": {},
     "output_type": "display_data"
    }
   ],
   "source": [
    "sns.set(style = 'white', font_scale=1.8)\n",
    "colors = sns.color_palette(\"rainbow_r\", 6) #PiYG\n",
    "sns.palplot(colors)"
   ]
  },
  {
   "cell_type": "code",
   "execution_count": 3,
   "metadata": {},
   "outputs": [],
   "source": [
    "flist = glob('./data/*.csv.gzip')\n",
    "flist = pd.Series(flist).sort_values().tolist()\n",
    "fall = []\n",
    "for i in flist:\n",
    "    df1 = pd.read_csv(i, compression='gzip', index_col = 0)\n",
    "    df1['class'] = i.split('/')[-1].split('.csv')[0]\n",
    "    fall.append(df1)\n",
    "    \n",
    "df = pd.concat(fall, axis=0)\n",
    "dfx = df[df.columns[:-1]]\n",
    "dfy = df[df.columns[-1:]]\n",
    "dfx = np.log2(dfx + 1) #apply log2(x + 1)\n"
   ]
  },
  {
   "cell_type": "code",
   "execution_count": 4,
   "metadata": {},
   "outputs": [],
   "source": [
    "data_save_folder = '/raid/shenwanxiang/transcriptome/pan-cancer'\n",
    "\n",
    "X_noisys_5 = load(os.path.join(data_save_folder, 'Agg5_noisys.data')) \n",
    "X_noisys_1 = load(os.path.join(data_save_folder, 'Agg1_noisys.data')) "
   ]
  },
  {
   "cell_type": "code",
   "execution_count": 5,
   "metadata": {},
   "outputs": [],
   "source": [
    "dfy['idx'] = range(len(dfy))"
   ]
  },
  {
   "cell_type": "code",
   "execution_count": 6,
   "metadata": {},
   "outputs": [],
   "source": [
    "Y = pd.get_dummies(dfy['class']).values"
   ]
  },
  {
   "cell_type": "code",
   "execution_count": 7,
   "metadata": {},
   "outputs": [],
   "source": [
    "res5 = []\n",
    "\n",
    "stddevs = np.arange(0, 0.5, 0.08)\n",
    "\n",
    "for X, std in zip(X_noisys_5, stddevs):\n",
    "    \n",
    "    for i in range(10):\n",
    "\n",
    "        fold_num = \"fold_%s\" % str(i).zfill(2) \n",
    "        save_path = './fold_results_c5/%s' % fold_num\n",
    "        \n",
    "        test_index = pd.read_csv(os.path.join(save_path, 'test_true_label.csv'), index_col=0).index\n",
    "        test_idx = dfy[dfy.index.isin(test_index)]['idx'].tolist()\n",
    "        train_idx = dfy[~dfy.index.isin(test_index)]['idx'].tolist()\n",
    "\n",
    "        testY = Y[test_idx]\n",
    "        testX = X[test_idx]\n",
    "\n",
    "        trainX = X[train_idx]\n",
    "        trainY = Y[train_idx]\n",
    "        \n",
    "        model = tf.keras.models.load_model(os.path.join(save_path, 'model.h5'))\n",
    "        ls, acc = model.evaluate(testX, testY, verbose = 0)\n",
    "        res5.append([std, fold_num, ls, acc])\n",
    "    "
   ]
  },
  {
   "cell_type": "code",
   "execution_count": 8,
   "metadata": {},
   "outputs": [],
   "source": [
    "df5 = pd.DataFrame(res5, columns=['std', 'fold_num', 'loss', 'acc'])"
   ]
  },
  {
   "cell_type": "code",
   "execution_count": 9,
   "metadata": {},
   "outputs": [
    {
     "data": {
      "text/html": [
       "<div>\n",
       "<style scoped>\n",
       "    .dataframe tbody tr th:only-of-type {\n",
       "        vertical-align: middle;\n",
       "    }\n",
       "\n",
       "    .dataframe tbody tr th {\n",
       "        vertical-align: top;\n",
       "    }\n",
       "\n",
       "    .dataframe thead th {\n",
       "        text-align: right;\n",
       "    }\n",
       "</style>\n",
       "<table border=\"1\" class=\"dataframe\">\n",
       "  <thead>\n",
       "    <tr style=\"text-align: right;\">\n",
       "      <th></th>\n",
       "      <th>loss</th>\n",
       "      <th>acc</th>\n",
       "    </tr>\n",
       "    <tr>\n",
       "      <th>std</th>\n",
       "      <th></th>\n",
       "      <th></th>\n",
       "    </tr>\n",
       "  </thead>\n",
       "  <tbody>\n",
       "    <tr>\n",
       "      <th>0.00</th>\n",
       "      <td>0.271844</td>\n",
       "      <td>0.963718</td>\n",
       "    </tr>\n",
       "    <tr>\n",
       "      <th>0.08</th>\n",
       "      <td>0.297380</td>\n",
       "      <td>0.959697</td>\n",
       "    </tr>\n",
       "    <tr>\n",
       "      <th>0.16</th>\n",
       "      <td>0.398204</td>\n",
       "      <td>0.941604</td>\n",
       "    </tr>\n",
       "    <tr>\n",
       "      <th>0.24</th>\n",
       "      <td>0.662055</td>\n",
       "      <td>0.899005</td>\n",
       "    </tr>\n",
       "    <tr>\n",
       "      <th>0.32</th>\n",
       "      <td>1.297693</td>\n",
       "      <td>0.813233</td>\n",
       "    </tr>\n",
       "    <tr>\n",
       "      <th>0.40</th>\n",
       "      <td>2.466809</td>\n",
       "      <td>0.683713</td>\n",
       "    </tr>\n",
       "    <tr>\n",
       "      <th>0.48</th>\n",
       "      <td>4.190309</td>\n",
       "      <td>0.535235</td>\n",
       "    </tr>\n",
       "  </tbody>\n",
       "</table>\n",
       "</div>"
      ],
      "text/plain": [
       "          loss       acc\n",
       "std                     \n",
       "0.00  0.271844  0.963718\n",
       "0.08  0.297380  0.959697\n",
       "0.16  0.398204  0.941604\n",
       "0.24  0.662055  0.899005\n",
       "0.32  1.297693  0.813233\n",
       "0.40  2.466809  0.683713\n",
       "0.48  4.190309  0.535235"
      ]
     },
     "execution_count": 9,
     "metadata": {},
     "output_type": "execute_result"
    }
   ],
   "source": [
    "df5.groupby('std').mean()"
   ]
  },
  {
   "cell_type": "code",
   "execution_count": 10,
   "metadata": {},
   "outputs": [],
   "source": [
    "res1 = []\n",
    "\n",
    "stddevs = np.arange(0, 0.5, 0.08)\n",
    "\n",
    "for X, std in zip(X_noisys_1, stddevs):\n",
    "    \n",
    "    for i in range(10):\n",
    "\n",
    "        fold_num = \"fold_%s\" % str(i).zfill(2) \n",
    "        save_path = './fold_results_c1/%s' % fold_num\n",
    "        \n",
    "        test_index = pd.read_csv(os.path.join(save_path, 'test_true_label.csv'), index_col=0).index\n",
    "        test_idx = dfy[dfy.index.isin(test_index)]['idx'].tolist()\n",
    "        train_idx = dfy[~dfy.index.isin(test_index)]['idx'].tolist()\n",
    "\n",
    "        testY = Y[test_idx]\n",
    "        testX = X[test_idx]\n",
    "\n",
    "        trainX = X[train_idx]\n",
    "        trainY = Y[train_idx]\n",
    "        \n",
    "        model = tf.keras.models.load_model(os.path.join(save_path, 'model.h5'))\n",
    "        ls, acc = model.evaluate(testX, testY, verbose = 0)\n",
    "        res1.append([std, fold_num, ls, acc])\n",
    "    "
   ]
  },
  {
   "cell_type": "code",
   "execution_count": 11,
   "metadata": {},
   "outputs": [],
   "source": [
    "df1 = pd.DataFrame(res1, columns=['std', 'fold_num', 'loss', 'acc'])"
   ]
  },
  {
   "cell_type": "code",
   "execution_count": 12,
   "metadata": {},
   "outputs": [
    {
     "data": {
      "text/html": [
       "<div>\n",
       "<style scoped>\n",
       "    .dataframe tbody tr th:only-of-type {\n",
       "        vertical-align: middle;\n",
       "    }\n",
       "\n",
       "    .dataframe tbody tr th {\n",
       "        vertical-align: top;\n",
       "    }\n",
       "\n",
       "    .dataframe thead th {\n",
       "        text-align: right;\n",
       "    }\n",
       "</style>\n",
       "<table border=\"1\" class=\"dataframe\">\n",
       "  <thead>\n",
       "    <tr style=\"text-align: right;\">\n",
       "      <th></th>\n",
       "      <th>loss</th>\n",
       "      <th>acc</th>\n",
       "    </tr>\n",
       "    <tr>\n",
       "      <th>std</th>\n",
       "      <th></th>\n",
       "      <th></th>\n",
       "    </tr>\n",
       "  </thead>\n",
       "  <tbody>\n",
       "    <tr>\n",
       "      <th>0.00</th>\n",
       "      <td>0.345708</td>\n",
       "      <td>0.954528</td>\n",
       "    </tr>\n",
       "    <tr>\n",
       "      <th>0.08</th>\n",
       "      <td>0.389219</td>\n",
       "      <td>0.946678</td>\n",
       "    </tr>\n",
       "    <tr>\n",
       "      <th>0.16</th>\n",
       "      <td>0.553538</td>\n",
       "      <td>0.920734</td>\n",
       "    </tr>\n",
       "    <tr>\n",
       "      <th>0.24</th>\n",
       "      <td>1.017946</td>\n",
       "      <td>0.848358</td>\n",
       "    </tr>\n",
       "    <tr>\n",
       "      <th>0.32</th>\n",
       "      <td>2.086169</td>\n",
       "      <td>0.717202</td>\n",
       "    </tr>\n",
       "    <tr>\n",
       "      <th>0.40</th>\n",
       "      <td>3.738115</td>\n",
       "      <td>0.553980</td>\n",
       "    </tr>\n",
       "    <tr>\n",
       "      <th>0.48</th>\n",
       "      <td>5.635121</td>\n",
       "      <td>0.413353</td>\n",
       "    </tr>\n",
       "  </tbody>\n",
       "</table>\n",
       "</div>"
      ],
      "text/plain": [
       "          loss       acc\n",
       "std                     \n",
       "0.00  0.345708  0.954528\n",
       "0.08  0.389219  0.946678\n",
       "0.16  0.553538  0.920734\n",
       "0.24  1.017946  0.848358\n",
       "0.32  2.086169  0.717202\n",
       "0.40  3.738115  0.553980\n",
       "0.48  5.635121  0.413353"
      ]
     },
     "execution_count": 12,
     "metadata": {},
     "output_type": "execute_result"
    }
   ],
   "source": [
    "df1.groupby('std').mean()"
   ]
  },
  {
   "cell_type": "code",
   "execution_count": 13,
   "metadata": {},
   "outputs": [],
   "source": [
    "dfacc = df5.groupby('std').mean()['acc'].to_frame(name='C=5').join(df1.groupby('std').mean()['acc'].to_frame(name='C=1'))\n",
    "dfacc.index = dfacc.index.map(lambda x: \"%.2f\" % x)\n",
    "\n",
    "dfloss = df5.groupby('std').mean()['loss'].to_frame(name='C=5').join(df1.groupby('std').mean()['loss'].to_frame(name='C=1'))\n",
    "dfloss.index = dfloss.index.map(lambda x: \"%.2f\" % x)"
   ]
  },
  {
   "cell_type": "code",
   "execution_count": null,
   "metadata": {},
   "outputs": [],
   "source": []
  },
  {
   "cell_type": "code",
   "execution_count": 14,
   "metadata": {},
   "outputs": [],
   "source": [
    "color = [colors[2], colors[1], ]"
   ]
  },
  {
   "cell_type": "code",
   "execution_count": 26,
   "metadata": {},
   "outputs": [
    {
     "data": {
      "image/png": "[encoded data removed]",
      "text/plain": [
       "<Figure size 1440x504 with 2 Axes>"
      ]
     },
     "metadata": {},
     "output_type": "display_data"
    }
   ],
   "source": [
    "sns.set(style= 'white',font_scale = 2)\n",
    "fig, axes = plt.subplots(nrows=1, ncols=2, figsize=(20,7), sharex=False, sharey=False, )\n",
    "ax2, ax1 = axes        \n",
    "\n",
    "\n",
    "#dfacc.plot(kind = 'line',  color = color, ax = ax1, legend = False)\n",
    "dfacc.plot(kind = 'bar',  color = color, ax = ax1)\n",
    "\n",
    "for x,y in enumerate(dfacc.index):\n",
    "    for i, v in enumerate(dfacc.iloc[x].tolist()):\n",
    "        s =  \"%.2f\" % v \n",
    "        if i == 1:\n",
    "            ax1.text(x+0.02, v, s, fontsize= 16)\n",
    "        else:\n",
    "            ax1.text(x-0.42, v, s, fontsize= 16)\n",
    "    \n",
    "    \n",
    "ax1.set_ylabel('Test accuracy')\n",
    "ax1.set_xticklabels(labels = dfacc.index,rotation=45, ha = 'right')\n",
    "ax1.set_ylim(0.3, 1)\n",
    "\n",
    "#dfloss.plot(kind = 'line',  color = color, ax = ax2, legend = False)\n",
    "dfloss.plot(kind = 'bar', color = color, ax = ax2)\n",
    "\n",
    "\n",
    "for x,y in enumerate(dfloss.index):\n",
    "    for i, v in enumerate(dfloss.iloc[x].tolist()):\n",
    "        s =  \"%.2f\" % v \n",
    "        if i == 1:\n",
    "            ax2.text(x+0.02, v, s, fontsize= 16)\n",
    "        else:\n",
    "            ax2.text(x-0.42, v, s, fontsize= 16)\n",
    "    \n",
    "# for x,y in enumerate(df2.values):\n",
    "#     ax2.annotate('%.3f' % y, xy = (x-0.25, y+0.002))\n",
    "ax2.set_ylabel('Test loss')\n",
    "ax2.set_xticklabels(labels = dfloss.index,rotation=45, ha = 'right')\n",
    "\n",
    "fig.tight_layout()\n",
    "plt.subplots_adjust(left=None, bottom=None, right=None, top=None, wspace=0.2)\n",
    "#plt.savefig(os.path.join(results_save_folder, 'performance_Guassian_Noise_test.png'), bbox_inches='tight', dpi=400)"
   ]
  },
  {
   "cell_type": "code",
   "execution_count": 18,
   "metadata": {},
   "outputs": [
    {
     "data": {
      "text/plain": [
       "'0.48'"
      ]
     },
     "execution_count": 18,
     "metadata": {},
     "output_type": "execute_result"
    }
   ],
   "source": [
    "y"
   ]
  },
  {
   "cell_type": "code",
   "execution_count": 16,
   "metadata": {},
   "outputs": [
    {
     "data": {
      "text/html": [
       "<div>\n",
       "<style scoped>\n",
       "    .dataframe tbody tr th:only-of-type {\n",
       "        vertical-align: middle;\n",
       "    }\n",
       "\n",
       "    .dataframe tbody tr th {\n",
       "        vertical-align: top;\n",
       "    }\n",
       "\n",
       "    .dataframe thead th {\n",
       "        text-align: right;\n",
       "    }\n",
       "</style>\n",
       "<table border=\"1\" class=\"dataframe\">\n",
       "  <thead>\n",
       "    <tr style=\"text-align: right;\">\n",
       "      <th></th>\n",
       "      <th>C=5</th>\n",
       "      <th>C=1</th>\n",
       "    </tr>\n",
       "    <tr>\n",
       "      <th>std</th>\n",
       "      <th></th>\n",
       "      <th></th>\n",
       "    </tr>\n",
       "  </thead>\n",
       "  <tbody>\n",
       "    <tr>\n",
       "      <th>0.00</th>\n",
       "      <td>0.963718</td>\n",
       "      <td>0.954528</td>\n",
       "    </tr>\n",
       "    <tr>\n",
       "      <th>0.08</th>\n",
       "      <td>0.959697</td>\n",
       "      <td>0.946678</td>\n",
       "    </tr>\n",
       "    <tr>\n",
       "      <th>0.16</th>\n",
       "      <td>0.941604</td>\n",
       "      <td>0.920734</td>\n",
       "    </tr>\n",
       "    <tr>\n",
       "      <th>0.24</th>\n",
       "      <td>0.899005</td>\n",
       "      <td>0.848358</td>\n",
       "    </tr>\n",
       "    <tr>\n",
       "      <th>0.32</th>\n",
       "      <td>0.813233</td>\n",
       "      <td>0.717202</td>\n",
       "    </tr>\n",
       "    <tr>\n",
       "      <th>0.40</th>\n",
       "      <td>0.683713</td>\n",
       "      <td>0.553980</td>\n",
       "    </tr>\n",
       "    <tr>\n",
       "      <th>0.48</th>\n",
       "      <td>0.535235</td>\n",
       "      <td>0.413353</td>\n",
       "    </tr>\n",
       "  </tbody>\n",
       "</table>\n",
       "</div>"
      ],
      "text/plain": [
       "           C=5       C=1\n",
       "std                     \n",
       "0.00  0.963718  0.954528\n",
       "0.08  0.959697  0.946678\n",
       "0.16  0.941604  0.920734\n",
       "0.24  0.899005  0.848358\n",
       "0.32  0.813233  0.717202\n",
       "0.40  0.683713  0.553980\n",
       "0.48  0.535235  0.413353"
      ]
     },
     "execution_count": 16,
     "metadata": {},
     "output_type": "execute_result"
    }
   ],
   "source": [
    "dfacc"
   ]
  },
  {
   "cell_type": "code",
   "execution_count": 17,
   "metadata": {},
   "outputs": [
    {
     "data": {
      "text/html": [
       "<div>\n",
       "<style scoped>\n",
       "    .dataframe tbody tr th:only-of-type {\n",
       "        vertical-align: middle;\n",
       "    }\n",
       "\n",
       "    .dataframe tbody tr th {\n",
       "        vertical-align: top;\n",
       "    }\n",
       "\n",
       "    .dataframe thead th {\n",
       "        text-align: right;\n",
       "    }\n",
       "</style>\n",
       "<table border=\"1\" class=\"dataframe\">\n",
       "  <thead>\n",
       "    <tr style=\"text-align: right;\">\n",
       "      <th></th>\n",
       "      <th>C=5</th>\n",
       "      <th>C=1</th>\n",
       "    </tr>\n",
       "    <tr>\n",
       "      <th>std</th>\n",
       "      <th></th>\n",
       "      <th></th>\n",
       "    </tr>\n",
       "  </thead>\n",
       "  <tbody>\n",
       "    <tr>\n",
       "      <th>0.00</th>\n",
       "      <td>0.271844</td>\n",
       "      <td>0.345708</td>\n",
       "    </tr>\n",
       "    <tr>\n",
       "      <th>0.08</th>\n",
       "      <td>0.297380</td>\n",
       "      <td>0.389219</td>\n",
       "    </tr>\n",
       "    <tr>\n",
       "      <th>0.16</th>\n",
       "      <td>0.398204</td>\n",
       "      <td>0.553538</td>\n",
       "    </tr>\n",
       "    <tr>\n",
       "      <th>0.24</th>\n",
       "      <td>0.662055</td>\n",
       "      <td>1.017946</td>\n",
       "    </tr>\n",
       "    <tr>\n",
       "      <th>0.32</th>\n",
       "      <td>1.297693</td>\n",
       "      <td>2.086169</td>\n",
       "    </tr>\n",
       "    <tr>\n",
       "      <th>0.40</th>\n",
       "      <td>2.466809</td>\n",
       "      <td>3.738115</td>\n",
       "    </tr>\n",
       "    <tr>\n",
       "      <th>0.48</th>\n",
       "      <td>4.190309</td>\n",
       "      <td>5.635121</td>\n",
       "    </tr>\n",
       "  </tbody>\n",
       "</table>\n",
       "</div>"
      ],
      "text/plain": [
       "           C=5       C=1\n",
       "std                     \n",
       "0.00  0.271844  0.345708\n",
       "0.08  0.297380  0.389219\n",
       "0.16  0.398204  0.553538\n",
       "0.24  0.662055  1.017946\n",
       "0.32  1.297693  2.086169\n",
       "0.40  2.466809  3.738115\n",
       "0.48  4.190309  5.635121"
      ]
     },
     "execution_count": 17,
     "metadata": {},
     "output_type": "execute_result"
    }
   ],
   "source": [
    "dfloss"
   ]
  },
  {
   "cell_type": "code",
   "execution_count": null,
   "metadata": {},
   "outputs": [],
   "source": []
  },
  {
   "cell_type": "code",
   "execution_count": null,
   "metadata": {},
   "outputs": [],
   "source": []
  }
 ],
 "metadata": {
  "kernelspec": {
   "display_name": "Python 3",
   "language": "python",
   "name": "python3"
  },
  "language_info": {
   "codemirror_mode": {
    "name": "ipython",
    "version": 3
   },
   "file_extension": ".py",
   "mimetype": "text/x-python",
   "name": "python",
   "nbconvert_exporter": "python",
   "pygments_lexer": "ipython3",
   "version": "3.6.9"
  }
 },
 "nbformat": 4,
 "nbformat_minor": 4
}
