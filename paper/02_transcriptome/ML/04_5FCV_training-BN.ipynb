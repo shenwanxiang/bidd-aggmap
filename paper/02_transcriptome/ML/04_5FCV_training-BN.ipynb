{
 "cells": [
  {
   "cell_type": "code",
   "execution_count": 1,
   "metadata": {},
   "outputs": [],
   "source": [
    "# -*- coding: utf-8 -*-\n",
    "\"\"\"\n",
    "Created on Sun Aug 16 17:10:53 2020\n",
    "\n",
    "@author: wanxiang.shen@u.nus.edu\n",
    "\"\"\"\n",
    "\n",
    "import warnings, os\n",
    "warnings.filterwarnings(\"ignore\")\n",
    "\n",
    "\n",
    "import pandas as pd\n",
    "import numpy as np\n",
    "from glob import glob\n",
    "\n",
    "from sklearn.model_selection import KFold, StratifiedKFold\n",
    "from sklearn.metrics import confusion_matrix, precision_recall_curve, roc_auc_score\n",
    "from sklearn.metrics import auc as calculate_auc\n",
    "\n",
    "import matplotlib.pyplot as plt\n",
    "import seaborn as sns\n",
    "\n",
    "from aggmap import AggMap, loadmap, show\n",
    "\n",
    "from aggmap.AggModel import RegressionEstimator, MultiClassEstimator, MultiLabelEstimator\n",
    "\n",
    "\n",
    "np.random.seed(666) #just for reaptable results"
   ]
  },
  {
   "cell_type": "code",
   "execution_count": 2,
   "metadata": {},
   "outputs": [],
   "source": [
    "gpuid = 6"
   ]
  },
  {
   "cell_type": "code",
   "execution_count": null,
   "metadata": {},
   "outputs": [],
   "source": []
  },
  {
   "cell_type": "code",
   "execution_count": 3,
   "metadata": {},
   "outputs": [],
   "source": [
    "def score(dfr):\n",
    "    y_true = dfr.y_true\n",
    "    y_score = dfr.y_score\n",
    "    y_pred = dfr.y_score.round()\n",
    "\n",
    "    tn, fp, fn, tp = confusion_matrix(y_true, y_pred).ravel()\n",
    "\n",
    "    acc = (tp + tn) / sum([tn, fp, fn, tp])\n",
    "    auc = roc_auc_score(y_true, y_score)\n",
    "    ber =  (fp / (fp + tn) + fn / (tp + fn)) * 0.5\n",
    "\n",
    "    print('acc: %.3f, roc-auc: %.3f, BER: %.3f' % (acc,auc,ber))\n",
    "\n",
    "    return acc, auc\n",
    "\n",
    "def get_best_epochs(X, y, batch_size):\n",
    "    \n",
    "    ## get best epochs\n",
    "    kf = StratifiedKFold(n_splits = 5, shuffle = True, random_state=1)\n",
    "    split_idx = kf.split(X, y[:,1])\n",
    "    \n",
    "    epochs = []\n",
    "    for i, idx in enumerate(split_idx):\n",
    "\n",
    "        train_idx, test_idx = idx\n",
    "\n",
    "        testY = y[test_idx]\n",
    "        testX = X[test_idx]\n",
    "\n",
    "        trainX = X[train_idx]\n",
    "        trainY = y[train_idx]\n",
    "        \n",
    "        clf = MultiClassEstimator(gpuid = gpuid, \n",
    "                                  batch_norm = True,\n",
    "                                  conv1_kernel_size = 13,\n",
    "                                  batch_size = batch_size,\n",
    "                                  n_inception = 3,\n",
    "                                  patience = 20, \n",
    "                                  monitor = 'val_loss') #\n",
    "        \n",
    "        clf.fit(trainX, trainY, testX, testY)  \n",
    "\n",
    "        epochs.append(clf._performance.best_epoch)\n",
    "    \n",
    "    best_epoch = int(np.mean(epochs))\n",
    "    print('Best Avg. Epochs: %s' % best_epoch)\n",
    "    return best_epoch"
   ]
  },
  {
   "cell_type": "code",
   "execution_count": 4,
   "metadata": {},
   "outputs": [],
   "source": [
    "gpuid = 5"
   ]
  },
  {
   "cell_type": "code",
   "execution_count": 5,
   "metadata": {},
   "outputs": [],
   "source": [
    "mp = loadmap('/raid/shenwanxiang/agg_mp_object/RSPC-S.mp')"
   ]
  },
  {
   "cell_type": "code",
   "execution_count": null,
   "metadata": {},
   "outputs": [],
   "source": []
  },
  {
   "cell_type": "markdown",
   "metadata": {},
   "source": [
    "## 5 fold CV"
   ]
  },
  {
   "cell_type": "code",
   "execution_count": null,
   "metadata": {},
   "outputs": [
    {
     "name": "stderr",
     "output_type": "stream",
     "text": [
      "  0%|          | 0/554 [00:00<?, ?it/s]"
     ]
    },
    {
     "name": "stdout",
     "output_type": "stream",
     "text": [
      "################################################## ./tasks_O_z-score/O_z-score_train_UCEC_grade.h5 ##################################################\n",
      "./tasks_O_z-score/O_z-score_train_UCEC_grade.h5 {1: 324, 0: 230}\n"
     ]
    },
    {
     "name": "stderr",
     "output_type": "stream",
     "text": [
      "100%|##########| 554/554 [02:26<00:00,  3.77it/s]\n"
     ]
    },
    {
     "name": "stdout",
     "output_type": "stream",
     "text": [
      "\n",
      "Input train and test X shape is (443, 135, 134, 5), (111, 135, 134, 5)  \n",
      "\n",
      "Getting the best number of epochs \n",
      "\n",
      "{'epochs': 80, 'lr': 0.0001, 'conv1_kernel_size': 13, 'dense_layers': [128], 'dense_avf': 'relu', 'batch_size': 32, 'dropout': 0.0, 'batch_norm': True, 'n_inception': 3, 'monitor': 'val_loss', 'patience': 10000, 'random_state': 32, 'verbose': 0, 'name': 'AggMap MultiClass Estimator', 'gpuid': '5'}\n",
      "acc: 0.775, roc-auc: 0.867, BER: 0.220\n",
      "\n",
      "Input train and test X shape is (443, 135, 134, 5), (111, 135, 134, 5)  \n",
      "\n",
      "Getting the best number of epochs \n",
      "\n",
      "{'epochs': 80, 'lr': 0.0001, 'conv1_kernel_size': 13, 'dense_layers': [128], 'dense_avf': 'relu', 'batch_size': 32, 'dropout': 0.0, 'batch_norm': True, 'n_inception': 3, 'monitor': 'val_loss', 'patience': 10000, 'random_state': 32, 'verbose': 0, 'name': 'AggMap MultiClass Estimator', 'gpuid': '5'}\n",
      "acc: 0.802, roc-auc: 0.873, BER: 0.215\n",
      "\n",
      "Input train and test X shape is (443, 135, 134, 5), (111, 135, 134, 5)  \n",
      "\n",
      "Getting the best number of epochs \n",
      "\n",
      "{'epochs': 80, 'lr': 0.0001, 'conv1_kernel_size': 13, 'dense_layers': [128], 'dense_avf': 'relu', 'batch_size': 32, 'dropout': 0.0, 'batch_norm': True, 'n_inception': 3, 'monitor': 'val_loss', 'patience': 10000, 'random_state': 32, 'verbose': 0, 'name': 'AggMap MultiClass Estimator', 'gpuid': '5'}\n",
      "acc: 0.892, roc-auc: 0.929, BER: 0.111\n",
      "\n",
      "Input train and test X shape is (443, 135, 134, 5), (111, 135, 134, 5)  \n",
      "\n",
      "Getting the best number of epochs \n",
      "\n",
      "{'epochs': 80, 'lr': 0.0001, 'conv1_kernel_size': 13, 'dense_layers': [128], 'dense_avf': 'relu', 'batch_size': 32, 'dropout': 0.0, 'batch_norm': True, 'n_inception': 3, 'monitor': 'val_loss', 'patience': 10000, 'random_state': 32, 'verbose': 0, 'name': 'AggMap MultiClass Estimator', 'gpuid': '5'}\n"
     ]
    }
   ],
   "source": [
    "lst = glob('./tasks_O_z-score/*.h5')\n",
    "\n",
    "\n",
    "n_fold = 5\n",
    "\n",
    "\n",
    "res = []\n",
    "for p in lst:\n",
    "    \n",
    "    print('#'*50 + ' %s ' % p + '#'*50 )\n",
    "\n",
    "    dfx = pd.read_hdf(p, key = 'expression')\n",
    "    dfy = pd.read_hdf(p, key = 'labels')\n",
    "\n",
    "    print(p, dfy.value_counts().to_dict())\n",
    "    \n",
    "    X = mp.batch_transform(dfx.values)\n",
    "    Y = pd.get_dummies(dfy).values\n",
    "\n",
    "    outer = KFold(n_splits = n_fold, shuffle = True, random_state = 42)\n",
    "    outer_idx = outer.split(X, Y[:,1])\n",
    "\n",
    "    fold_all = []\n",
    "    for i, idx in enumerate(outer_idx):\n",
    "\n",
    "        fold_num = \"fold_%s\" % str(i).zfill(2) \n",
    "\n",
    "        train_idx, test_idx = idx\n",
    "\n",
    "        testY = Y[test_idx]\n",
    "        testX = X[test_idx]\n",
    "\n",
    "        trainX = X[train_idx]\n",
    "        trainY = Y[train_idx]\n",
    "\n",
    "        ## training\n",
    "        print(\"\\nInput train and test X shape is %s, %s  \\n\" % (trainX.shape,  testX.shape))\n",
    "        print(\"Getting the best number of epochs \\n\")\n",
    "        \n",
    "        #optimizied the first fold HPs only\n",
    "\n",
    "        batch_size = 32\n",
    "#         if len(trainX) < 128:\n",
    "#             batch_size = 16\n",
    "        best_epochs = 80 #get_best_epochs(trainX, trainY, batch_size = batch_size)\n",
    "\n",
    "        clf = MultiClassEstimator(epochs = best_epochs,  \n",
    "                                  gpuid = gpuid,  \n",
    "                                  conv1_kernel_size = 13, \n",
    "                                  batch_norm = True, \n",
    "                                  n_inception = 3,\n",
    "                                  batch_size = batch_size, \n",
    "                                  verbose=0) #\n",
    "        clf.fit(trainX, trainY)  #\n",
    "        \n",
    "        ## evaluate\n",
    "        y_true = testY[:,1] \n",
    "        y_score = clf.predict_proba(testX)[:,1]\n",
    "\n",
    "        dfr = pd.DataFrame([y_true, y_score]).T\n",
    "        dfr.columns = ['y_true', 'y_score']\n",
    "        dfr.index = dfy.iloc[test_idx].index\n",
    "        acc, auc = score(dfr)\n",
    "        \n",
    "        fold_all.append(auc)\n",
    "        \n",
    "        res.append([auc, i, p, best_epochs,  batch_size])\n",
    "        \n",
    "    print('The auc score for %s is %s.' % (p, np.mean(fold_all)))"
   ]
  },
  {
   "cell_type": "code",
   "execution_count": null,
   "metadata": {},
   "outputs": [],
   "source": [
    "clf.plot_model()"
   ]
  },
  {
   "cell_type": "code",
   "execution_count": null,
   "metadata": {},
   "outputs": [],
   "source": [
    "dfres = pd.DataFrame(res, columns = ['score', 'fold', 'task', 'best_epoch',  'batch_size'])\n",
    "dfres.to_csv('./5FCV_results_opt.csv')"
   ]
  },
  {
   "cell_type": "code",
   "execution_count": null,
   "metadata": {},
   "outputs": [],
   "source": [
    "dfres.groupby('task').mean().sort_values('score',ascending=False)"
   ]
  },
  {
   "cell_type": "code",
   "execution_count": null,
   "metadata": {},
   "outputs": [],
   "source": [
    "dfres.groupby('task').mean().mean()"
   ]
  },
  {
   "cell_type": "code",
   "execution_count": null,
   "metadata": {},
   "outputs": [],
   "source": [
    "dfres.groupby('task').mean().std()"
   ]
  },
  {
   "cell_type": "code",
   "execution_count": null,
   "metadata": {},
   "outputs": [],
   "source": []
  },
  {
   "cell_type": "code",
   "execution_count": null,
   "metadata": {},
   "outputs": [],
   "source": []
  },
  {
   "cell_type": "code",
   "execution_count": null,
   "metadata": {},
   "outputs": [],
   "source": []
  }
 ],
 "metadata": {
  "kernelspec": {
   "display_name": "Python 3",
   "language": "python",
   "name": "python3"
  },
  "language_info": {
   "codemirror_mode": {
    "name": "ipython",
    "version": 3
   },
   "file_extension": ".py",
   "mimetype": "text/x-python",
   "name": "python",
   "nbconvert_exporter": "python",
   "pygments_lexer": "ipython3",
   "version": "3.6.9"
  }
 },
 "nbformat": 4,
 "nbformat_minor": 4
}
