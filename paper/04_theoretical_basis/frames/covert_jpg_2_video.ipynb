{
 "cells": [
  {
   "cell_type": "code",
   "execution_count": 8,
   "id": "ea07ef9f-d349-4159-b563-7e79788e10b3",
   "metadata": {},
   "outputs": [],
   "source": [
    "import os\n",
    "import moviepy.video.io.ImageSequenceClip\n",
    "import pandas as pd\n"
   ]
  },
  {
   "cell_type": "code",
   "execution_count": null,
   "id": "9678c97e-22c8-4fc9-944b-90462996c6f5",
   "metadata": {},
   "outputs": [],
   "source": []
  },
  {
   "cell_type": "code",
   "execution_count": 9,
   "id": "05e9180e-90e6-42fb-b78d-ea4bae1b0e3a",
   "metadata": {
    "tags": []
   },
   "outputs": [
    {
     "name": "stdout",
     "output_type": "stream",
     "text": [
      "Moviepy - Building video ./mnist.mp4.\n",
      "Moviepy - Writing video ./mnist.mp4\n",
      "\n"
     ]
    },
    {
     "name": "stderr",
     "output_type": "stream",
     "text": [
      "                                                              \r"
     ]
    },
    {
     "name": "stdout",
     "output_type": "stream",
     "text": [
      "Moviepy - Done !\n",
      "Moviepy - video ready ./mnist.mp4\n"
     ]
    }
   ],
   "source": [
    "image_folder='./MNIST/'\n",
    "fps = 8\n",
    "\n",
    "image_files = [image_folder+'/'+img for img in os.listdir(image_folder) if img.endswith(\".jpg\")]\n",
    "image_files = pd.Series(image_files).sort_values().tolist()\n",
    "clip = moviepy.video.io.ImageSequenceClip.ImageSequenceClip(image_files, fps=fps)\n",
    "clip.write_videofile('./mnist.mp4')"
   ]
  },
  {
   "cell_type": "code",
   "execution_count": 10,
   "id": "67a6d195-60d4-4744-bb01-dc98c9ec2900",
   "metadata": {},
   "outputs": [
    {
     "name": "stdout",
     "output_type": "stream",
     "text": [
      "Moviepy - Building video fmnist.mp4.\n",
      "Moviepy - Writing video fmnist.mp4\n",
      "\n"
     ]
    },
    {
     "name": "stderr",
     "output_type": "stream",
     "text": [
      "                                                              \r"
     ]
    },
    {
     "name": "stdout",
     "output_type": "stream",
     "text": [
      "Moviepy - Done !\n",
      "Moviepy - video ready fmnist.mp4\n"
     ]
    }
   ],
   "source": [
    "image_folder='./FMNIST/'\n",
    "fps=8\n",
    "\n",
    "image_files = [image_folder+'/'+img for img in os.listdir(image_folder) if img.endswith(\".jpg\")]\n",
    "image_files = pd.Series(image_files).sort_values().tolist()\n",
    "clip = moviepy.video.io.ImageSequenceClip.ImageSequenceClip(image_files, fps=fps)\n",
    "clip.write_videofile('fmnist.mp4')"
   ]
  },
  {
   "cell_type": "code",
   "execution_count": 11,
   "id": "765827d2-e4a3-4aef-a297-d161fa5de6c8",
   "metadata": {},
   "outputs": [
    {
     "name": "stdout",
     "output_type": "stream",
     "text": [
      "total 102M\n",
      "-rw-rw-r-- 1 shenwanxiang shenwanxiang 3.3K Oct 30 10:27 covert_jpg_2_video.ipynb\n",
      "drwxrwxr-x 2 shenwanxiang shenwanxiang  20K Oct 29 21:33 \u001b[0m\u001b[01;34mFMNIST\u001b[0m/\n",
      "-rw-rw-r-- 1 shenwanxiang shenwanxiang  53M Oct 30 10:27 \u001b[01;35mfmnist.mp4\u001b[0m\n",
      "drwxrwxr-x 3 shenwanxiang shenwanxiang  20K Oct 29 22:13 \u001b[01;34mMNIST\u001b[0m/\n",
      "-rw-rw-r-- 1 shenwanxiang shenwanxiang  49M Oct 30 10:22 \u001b[01;35mmnist.mp4\u001b[0m\n"
     ]
    }
   ],
   "source": [
    "ls -lh"
   ]
  },
  {
   "cell_type": "code",
   "execution_count": null,
   "id": "f41c6d08-1180-46f9-87a5-5517eaa74a77",
   "metadata": {},
   "outputs": [],
   "source": []
  },
  {
   "cell_type": "code",
   "execution_count": null,
   "id": "87f4153e-26ac-4f12-984f-4c95a4b95208",
   "metadata": {},
   "outputs": [],
   "source": []
  }
 ],
 "metadata": {
  "kernelspec": {
   "display_name": "Python 3",
   "language": "python",
   "name": "python3"
  },
  "language_info": {
   "codemirror_mode": {
    "name": "ipython",
    "version": 3
   },
   "file_extension": ".py",
   "mimetype": "text/x-python",
   "name": "python",
   "nbconvert_exporter": "python",
   "pygments_lexer": "ipython3",
   "version": "3.6.10"
  }
 },
 "nbformat": 4,
 "nbformat_minor": 5
}
