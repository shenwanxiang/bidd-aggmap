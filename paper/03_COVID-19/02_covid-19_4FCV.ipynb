{
 "cells": [
  {
   "cell_type": "code",
   "execution_count": 1,
   "metadata": {},
   "outputs": [],
   "source": [
    "# -*- coding: utf-8 -*-\n",
    "\"\"\"\n",
    "Created on Sun Aug 16 17:10:53 2020\n",
    "\n",
    "@author: wanxiang.shen@u.nus.edu\n",
    "\"\"\"\n",
    "\n",
    "import warnings\n",
    "warnings.filterwarnings(\"ignore\")\n",
    "\n",
    "\n",
    "import pandas as pd\n",
    "import numpy as np\n",
    "\n",
    "from sklearn.model_selection import KFold, StratifiedKFold\n",
    "from sklearn.metrics import confusion_matrix, precision_recall_curve, roc_auc_score\n",
    "from sklearn.metrics import auc as calculate_auc\n",
    "\n",
    "import matplotlib.pyplot as plt\n",
    "import seaborn as sns\n",
    "\n",
    "from aggmap import AggMap, AggModel\n",
    "\n",
    "np.random.seed(666) #just for reaptable results\n",
    "\n",
    "def prc_auc_score(y_true, y_score):\n",
    "    precision, recall, threshold  = precision_recall_curve(y_true, y_score) #PRC_AUC\n",
    "    auc = calculate_auc(recall, precision)\n",
    "    return auc"
   ]
  },
  {
   "cell_type": "code",
   "execution_count": 2,
   "metadata": {},
   "outputs": [
    {
     "name": "stdout",
     "output_type": "stream",
     "text": [
      "2020-10-25 14:11:28,516 - \u001b[32mINFO\u001b[0m - [bidd-aggmap]\u001b[0m - Calculating distance ...\u001b[0m\n",
      "2020-10-25 14:11:28,517 - \u001b[32mINFO\u001b[0m - [bidd-aggmap]\u001b[0m - the number of process is 16\u001b[0m\n"
     ]
    },
    {
     "name": "stderr",
     "output_type": "stream",
     "text": [
      "100%|##########| 3828/3828 [00:00<00:00, 12905.89it/s]\n",
      "100%|##########| 3828/3828 [00:00<00:00, 1810531.77it/s]\n",
      "100%|##########| 88/88 [00:00<00:00, 758.49it/s]\n"
     ]
    },
    {
     "name": "stdout",
     "output_type": "stream",
     "text": [
      "2020-10-25 14:11:29,051 - \u001b[32mINFO\u001b[0m - [bidd-aggmap]\u001b[0m - applying hierarchical clustering to obtain group information ...\u001b[0m\n",
      "2020-10-25 14:11:32,679 - \u001b[32mINFO\u001b[0m - [bidd-aggmap]\u001b[0m - Applying grid feature map(assignment), this may take several minutes(1~30 min)\u001b[0m\n",
      "2020-10-25 14:11:32,696 - \u001b[32mINFO\u001b[0m - [bidd-aggmap]\u001b[0m - Finished\u001b[0m\n"
     ]
    },
    {
     "data": {
      "text/plain": [
       "<aggmap.map.AggMap at 0x7fee1492a588>"
      ]
     },
     "execution_count": 2,
     "metadata": {},
     "output_type": "execute_result"
    }
   ],
   "source": [
    "dfx  = pd.read_excel('./COVID19.xlsx', sheet_name='data')\n",
    "dfy  = pd.read_excel('./COVID19.xlsx', sheet_name='sample_info')\n",
    "\n",
    "dfx = dfx[dfx.columns[1:]]\n",
    "cols = [\"p-%s\" % c for c in dfx.columns]\n",
    "dfx.columns = cols\n",
    "\n",
    "X = dfx.values\n",
    "Y = pd.get_dummies(dfy['class']).values.astype(float)\n",
    "\n",
    "mp = AggMap(dfx, metric = 'correlation')\n",
    "mp.fit(cluster_channels = 5, verbose = 0)\n",
    "mp.save('./saved_model/aggmap.mp')"
   ]
  },
  {
   "cell_type": "markdown",
   "metadata": {},
   "source": [
    "## 4-fold cross validation and repeat 5 times "
   ]
  },
  {
   "cell_type": "code",
   "execution_count": 3,
   "metadata": {},
   "outputs": [
    {
     "name": "stderr",
     "output_type": "stream",
     "text": [
      "100%|##########| 271/271 [00:02<00:00, 95.45it/s]\n",
      "100%|##########| 91/91 [00:00<00:00, 1894.09it/s]\n"
     ]
    },
    {
     "name": "stdout",
     "output_type": "stream",
     "text": [
      "\n",
      " input train and test X shape is (271, 10, 9, 5), (91, 10, 9, 5) \n",
      "MultiClassEstimator(batch_size=4, epochs=50, gpuid='0')\n"
     ]
    },
    {
     "name": "stderr",
     "output_type": "stream",
     "text": [
      "100%|##########| 271/271 [00:00<00:00, 1438.62it/s]\n",
      "100%|##########| 91/91 [00:00<00:00, 2374.97it/s]\n"
     ]
    },
    {
     "name": "stdout",
     "output_type": "stream",
     "text": [
      "\n",
      " input train and test X shape is (271, 10, 9, 5), (91, 10, 9, 5) \n",
      "MultiClassEstimator(batch_size=4, epochs=50, gpuid='0')\n"
     ]
    },
    {
     "name": "stderr",
     "output_type": "stream",
     "text": [
      "100%|##########| 272/272 [00:00<00:00, 1495.34it/s]\n",
      "100%|##########| 90/90 [00:00<00:00, 1870.94it/s]\n"
     ]
    },
    {
     "name": "stdout",
     "output_type": "stream",
     "text": [
      "\n",
      " input train and test X shape is (272, 10, 9, 5), (90, 10, 9, 5) \n",
      "MultiClassEstimator(batch_size=4, epochs=50, gpuid='0')\n"
     ]
    },
    {
     "name": "stderr",
     "output_type": "stream",
     "text": [
      "100%|##########| 272/272 [00:00<00:00, 1515.19it/s]\n",
      "100%|##########| 90/90 [00:00<00:00, 1799.47it/s]\n"
     ]
    },
    {
     "name": "stdout",
     "output_type": "stream",
     "text": [
      "\n",
      " input train and test X shape is (272, 10, 9, 5), (90, 10, 9, 5) \n",
      "MultiClassEstimator(batch_size=4, epochs=50, gpuid='0')\n"
     ]
    },
    {
     "name": "stderr",
     "output_type": "stream",
     "text": [
      "100%|##########| 271/271 [00:00<00:00, 1660.22it/s]\n",
      "100%|##########| 91/91 [00:00<00:00, 1872.54it/s]\n"
     ]
    },
    {
     "name": "stdout",
     "output_type": "stream",
     "text": [
      "\n",
      " input train and test X shape is (271, 10, 9, 5), (91, 10, 9, 5) \n",
      "MultiClassEstimator(batch_size=4, epochs=50, gpuid='0')\n"
     ]
    },
    {
     "name": "stderr",
     "output_type": "stream",
     "text": [
      "100%|##########| 271/271 [00:00<00:00, 1530.90it/s]\n",
      "100%|##########| 91/91 [00:00<00:00, 1578.53it/s]\n"
     ]
    },
    {
     "name": "stdout",
     "output_type": "stream",
     "text": [
      "\n",
      " input train and test X shape is (271, 10, 9, 5), (91, 10, 9, 5) \n",
      "MultiClassEstimator(batch_size=4, epochs=50, gpuid='0')\n"
     ]
    },
    {
     "name": "stderr",
     "output_type": "stream",
     "text": [
      "100%|##########| 272/272 [00:00<00:00, 1344.21it/s]\n",
      "100%|##########| 90/90 [00:00<00:00, 1345.11it/s]\n"
     ]
    },
    {
     "name": "stdout",
     "output_type": "stream",
     "text": [
      "\n",
      " input train and test X shape is (272, 10, 9, 5), (90, 10, 9, 5) \n",
      "MultiClassEstimator(batch_size=4, epochs=50, gpuid='0')\n"
     ]
    },
    {
     "name": "stderr",
     "output_type": "stream",
     "text": [
      "100%|##########| 272/272 [00:00<00:00, 1371.79it/s]\n",
      "100%|##########| 90/90 [00:00<00:00, 1458.60it/s]\n"
     ]
    },
    {
     "name": "stdout",
     "output_type": "stream",
     "text": [
      "\n",
      " input train and test X shape is (272, 10, 9, 5), (90, 10, 9, 5) \n",
      "MultiClassEstimator(batch_size=4, epochs=50, gpuid='0')\n"
     ]
    },
    {
     "name": "stderr",
     "output_type": "stream",
     "text": [
      "100%|##########| 271/271 [00:00<00:00, 1388.32it/s]\n",
      "100%|##########| 91/91 [00:00<00:00, 1797.88it/s]\n"
     ]
    },
    {
     "name": "stdout",
     "output_type": "stream",
     "text": [
      "\n",
      " input train and test X shape is (271, 10, 9, 5), (91, 10, 9, 5) \n",
      "MultiClassEstimator(batch_size=4, epochs=50, gpuid='0')\n"
     ]
    },
    {
     "name": "stderr",
     "output_type": "stream",
     "text": [
      "100%|##########| 271/271 [00:00<00:00, 1226.31it/s]\n",
      "100%|##########| 91/91 [00:00<00:00, 1415.17it/s]\n"
     ]
    },
    {
     "name": "stdout",
     "output_type": "stream",
     "text": [
      "\n",
      " input train and test X shape is (271, 10, 9, 5), (91, 10, 9, 5) \n",
      "MultiClassEstimator(batch_size=4, epochs=50, gpuid='0')\n"
     ]
    },
    {
     "name": "stderr",
     "output_type": "stream",
     "text": [
      "100%|##########| 272/272 [00:00<00:00, 1543.79it/s]\n",
      "100%|##########| 90/90 [00:00<00:00, 813.46it/s]\n"
     ]
    },
    {
     "name": "stdout",
     "output_type": "stream",
     "text": [
      "\n",
      " input train and test X shape is (272, 10, 9, 5), (90, 10, 9, 5) \n",
      "MultiClassEstimator(batch_size=4, epochs=50, gpuid='0')\n"
     ]
    },
    {
     "name": "stderr",
     "output_type": "stream",
     "text": [
      "100%|##########| 272/272 [00:00<00:00, 1380.46it/s]\n",
      "100%|##########| 90/90 [00:00<00:00, 1315.10it/s]\n"
     ]
    },
    {
     "name": "stdout",
     "output_type": "stream",
     "text": [
      "\n",
      " input train and test X shape is (272, 10, 9, 5), (90, 10, 9, 5) \n",
      "MultiClassEstimator(batch_size=4, epochs=50, gpuid='0')\n"
     ]
    },
    {
     "name": "stderr",
     "output_type": "stream",
     "text": [
      "100%|##########| 271/271 [00:00<00:00, 1556.51it/s]\n",
      "100%|##########| 91/91 [00:00<00:00, 816.14it/s]\n"
     ]
    },
    {
     "name": "stdout",
     "output_type": "stream",
     "text": [
      "\n",
      " input train and test X shape is (271, 10, 9, 5), (91, 10, 9, 5) \n",
      "MultiClassEstimator(batch_size=4, epochs=50, gpuid='0')\n"
     ]
    },
    {
     "name": "stderr",
     "output_type": "stream",
     "text": [
      "100%|##########| 271/271 [00:00<00:00, 478.34it/s]\n",
      "100%|##########| 91/91 [00:00<00:00, 1539.23it/s]\n"
     ]
    },
    {
     "name": "stdout",
     "output_type": "stream",
     "text": [
      "\n",
      " input train and test X shape is (271, 10, 9, 5), (91, 10, 9, 5) \n",
      "MultiClassEstimator(batch_size=4, epochs=50, gpuid='0')\n"
     ]
    },
    {
     "name": "stderr",
     "output_type": "stream",
     "text": [
      "100%|##########| 272/272 [00:00<00:00, 1578.03it/s]\n",
      "100%|##########| 90/90 [00:00<00:00, 1426.57it/s]\n"
     ]
    },
    {
     "name": "stdout",
     "output_type": "stream",
     "text": [
      "\n",
      " input train and test X shape is (272, 10, 9, 5), (90, 10, 9, 5) \n",
      "MultiClassEstimator(batch_size=4, epochs=50, gpuid='0')\n"
     ]
    },
    {
     "name": "stderr",
     "output_type": "stream",
     "text": [
      "100%|##########| 272/272 [00:00<00:00, 1520.27it/s]\n",
      "100%|##########| 90/90 [00:00<00:00, 3196.53it/s]\n"
     ]
    },
    {
     "name": "stdout",
     "output_type": "stream",
     "text": [
      "\n",
      " input train and test X shape is (272, 10, 9, 5), (90, 10, 9, 5) \n",
      "MultiClassEstimator(batch_size=4, epochs=50, gpuid='0')\n"
     ]
    },
    {
     "name": "stderr",
     "output_type": "stream",
     "text": [
      "100%|##########| 271/271 [00:00<00:00, 1446.91it/s]\n",
      "100%|##########| 91/91 [00:00<00:00, 1065.90it/s]\n"
     ]
    },
    {
     "name": "stdout",
     "output_type": "stream",
     "text": [
      "\n",
      " input train and test X shape is (271, 10, 9, 5), (91, 10, 9, 5) \n",
      "MultiClassEstimator(batch_size=4, epochs=50, gpuid='0')\n"
     ]
    },
    {
     "name": "stderr",
     "output_type": "stream",
     "text": [
      "100%|##########| 271/271 [00:00<00:00, 1567.32it/s]\n",
      "100%|##########| 91/91 [00:00<00:00, 1710.37it/s]\n"
     ]
    },
    {
     "name": "stdout",
     "output_type": "stream",
     "text": [
      "\n",
      " input train and test X shape is (271, 10, 9, 5), (91, 10, 9, 5) \n",
      "MultiClassEstimator(batch_size=4, epochs=50, gpuid='0')\n"
     ]
    },
    {
     "name": "stderr",
     "output_type": "stream",
     "text": [
      "100%|##########| 272/272 [00:00<00:00, 1611.66it/s]\n",
      "100%|##########| 90/90 [00:00<00:00, 2224.83it/s]\n"
     ]
    },
    {
     "name": "stdout",
     "output_type": "stream",
     "text": [
      "\n",
      " input train and test X shape is (272, 10, 9, 5), (90, 10, 9, 5) \n",
      "MultiClassEstimator(batch_size=4, epochs=50, gpuid='0')\n"
     ]
    },
    {
     "name": "stderr",
     "output_type": "stream",
     "text": [
      "100%|##########| 272/272 [00:00<00:00, 1586.15it/s]\n",
      "100%|##########| 90/90 [00:00<00:00, 2132.44it/s]\n"
     ]
    },
    {
     "name": "stdout",
     "output_type": "stream",
     "text": [
      "\n",
      " input train and test X shape is (272, 10, 9, 5), (90, 10, 9, 5) \n",
      "MultiClassEstimator(batch_size=4, epochs=50, gpuid='0')\n"
     ]
    }
   ],
   "source": [
    "outer_fold = 4\n",
    "\n",
    "run_all = []\n",
    "for repeat_seed in [8, 16, 32, 64, 128]: #5 repeats random seeds\n",
    "    \n",
    "    outer = KFold(n_splits = outer_fold, shuffle = True, random_state = repeat_seed)\n",
    "    outer_idx = outer.split(range(len(Y)), Y[:,0])\n",
    "\n",
    "    for i, idx in enumerate(outer_idx):\n",
    "        \n",
    "        fold_num = \"fold_%s\" % str(i).zfill(2) \n",
    "        \n",
    "        train_idx, test_idx = idx\n",
    "        \n",
    "        testY = Y[test_idx]\n",
    "        testx = X[test_idx]\n",
    "        \n",
    "        trainx = X[train_idx]\n",
    "        trainY = Y[train_idx]\n",
    "\n",
    "        trainX = mp.batch_transform(trainx, scale_method = 'standard')\n",
    "        testX = mp.batch_transform(testx, scale_method = 'standard')\n",
    "        \n",
    "        print(\"\\n input train and test X shape is %s, %s \" % (trainX.shape,  testX.shape))\n",
    "        \n",
    "        # fit the model\n",
    "        clf = AggModel.MultiClassEstimator(epochs = 50,  batch_size = 4, verbose = 0)\n",
    "        clf.fit(trainX, trainY)\n",
    "        \n",
    "        # save the model for explaination\n",
    "        clf._model.save( './saved_model/seed_%s-%s.h5' % (repeat_seed, fold_num))\n",
    "        \n",
    "        # make prediction\n",
    "        y_true = testY[:,0]\n",
    "        y_pred = clf.predict(testX)[:,0]\n",
    "        y_score = clf.predict_proba(testX)[:,0]\n",
    "\n",
    "        tn, fp, fn, tp = confusion_matrix(y_true, y_pred).ravel()\n",
    "        \n",
    "        acc = (tp + tn) / sum([tn, fp, fn, tp])\n",
    "        \n",
    "        sensitivity = tp / sum([tp, fn])\n",
    "        specificity = tn / sum([tn, fp])\n",
    "        \n",
    "        prc_auc = prc_auc_score(y_true, y_score)\n",
    "        roc_auc = roc_auc_score(y_true, y_score)\n",
    "        \n",
    "        precision = tp / sum([tp, fp])\n",
    "        recall =  tp / sum([tp, fn]) #equals to sensitivity\n",
    "        \n",
    "        \n",
    "        res = {'fold': fold_num,\n",
    "               'repeat_seed':repeat_seed,\n",
    "               \n",
    "               'accuracy':acc, \n",
    "               \n",
    "               'prc_auc':prc_auc, \n",
    "               'roc_auc':roc_auc,\n",
    "\n",
    "               'sensitivity': sensitivity, \n",
    "               'specificity': specificity,\n",
    "               \n",
    "               'precision':precision,\n",
    "               'recall':recall,\n",
    "               \n",
    "               'F1': 2*precision*sensitivity/(precision+sensitivity)\n",
    "              }\n",
    "        \n",
    "        run_all.append(res)"
   ]
  },
  {
   "cell_type": "code",
   "execution_count": 4,
   "metadata": {},
   "outputs": [
    {
     "data": {
      "text/plain": [
       "323138"
      ]
     },
     "execution_count": 4,
     "metadata": {},
     "output_type": "execute_result"
    }
   ],
   "source": [
    "clf._model.count_params()"
   ]
  },
  {
   "cell_type": "code",
   "execution_count": 5,
   "metadata": {},
   "outputs": [
    {
     "data": {
      "text/html": [
       "<div>\n",
       "<style scoped>\n",
       "    .dataframe tbody tr th:only-of-type {\n",
       "        vertical-align: middle;\n",
       "    }\n",
       "\n",
       "    .dataframe tbody tr th {\n",
       "        vertical-align: top;\n",
       "    }\n",
       "\n",
       "    .dataframe thead th {\n",
       "        text-align: right;\n",
       "    }\n",
       "</style>\n",
       "<table border=\"1\" class=\"dataframe\">\n",
       "  <thead>\n",
       "    <tr style=\"text-align: right;\">\n",
       "      <th></th>\n",
       "      <th>fold</th>\n",
       "      <th>repeat_seed</th>\n",
       "      <th>accuracy</th>\n",
       "      <th>prc_auc</th>\n",
       "      <th>roc_auc</th>\n",
       "      <th>sensitivity</th>\n",
       "      <th>specificity</th>\n",
       "      <th>precision</th>\n",
       "      <th>recall</th>\n",
       "      <th>F1</th>\n",
       "    </tr>\n",
       "  </thead>\n",
       "  <tbody>\n",
       "    <tr>\n",
       "      <th>0</th>\n",
       "      <td>fold_00</td>\n",
       "      <td>8</td>\n",
       "      <td>0.945055</td>\n",
       "      <td>0.995818</td>\n",
       "      <td>0.994083</td>\n",
       "      <td>0.961538</td>\n",
       "      <td>0.923077</td>\n",
       "      <td>0.943396</td>\n",
       "      <td>0.961538</td>\n",
       "      <td>0.952381</td>\n",
       "    </tr>\n",
       "    <tr>\n",
       "      <th>1</th>\n",
       "      <td>fold_01</td>\n",
       "      <td>8</td>\n",
       "      <td>0.945055</td>\n",
       "      <td>0.990943</td>\n",
       "      <td>0.984520</td>\n",
       "      <td>0.947368</td>\n",
       "      <td>0.941176</td>\n",
       "      <td>0.964286</td>\n",
       "      <td>0.947368</td>\n",
       "      <td>0.955752</td>\n",
       "    </tr>\n",
       "    <tr>\n",
       "      <th>2</th>\n",
       "      <td>fold_02</td>\n",
       "      <td>8</td>\n",
       "      <td>0.911111</td>\n",
       "      <td>0.979841</td>\n",
       "      <td>0.979753</td>\n",
       "      <td>0.955556</td>\n",
       "      <td>0.866667</td>\n",
       "      <td>0.877551</td>\n",
       "      <td>0.955556</td>\n",
       "      <td>0.914894</td>\n",
       "    </tr>\n",
       "    <tr>\n",
       "      <th>3</th>\n",
       "      <td>fold_03</td>\n",
       "      <td>8</td>\n",
       "      <td>0.977778</td>\n",
       "      <td>0.995153</td>\n",
       "      <td>0.992557</td>\n",
       "      <td>0.982456</td>\n",
       "      <td>0.969697</td>\n",
       "      <td>0.982456</td>\n",
       "      <td>0.982456</td>\n",
       "      <td>0.982456</td>\n",
       "    </tr>\n",
       "    <tr>\n",
       "      <th>4</th>\n",
       "      <td>fold_00</td>\n",
       "      <td>16</td>\n",
       "      <td>0.978022</td>\n",
       "      <td>0.997892</td>\n",
       "      <td>0.996429</td>\n",
       "      <td>0.964286</td>\n",
       "      <td>1.000000</td>\n",
       "      <td>1.000000</td>\n",
       "      <td>0.964286</td>\n",
       "      <td>0.981818</td>\n",
       "    </tr>\n",
       "    <tr>\n",
       "      <th>5</th>\n",
       "      <td>fold_01</td>\n",
       "      <td>16</td>\n",
       "      <td>0.956044</td>\n",
       "      <td>0.992733</td>\n",
       "      <td>0.987616</td>\n",
       "      <td>0.964912</td>\n",
       "      <td>0.941176</td>\n",
       "      <td>0.964912</td>\n",
       "      <td>0.964912</td>\n",
       "      <td>0.964912</td>\n",
       "    </tr>\n",
       "    <tr>\n",
       "      <th>6</th>\n",
       "      <td>fold_02</td>\n",
       "      <td>16</td>\n",
       "      <td>0.944444</td>\n",
       "      <td>0.992718</td>\n",
       "      <td>0.991567</td>\n",
       "      <td>1.000000</td>\n",
       "      <td>0.880952</td>\n",
       "      <td>0.905660</td>\n",
       "      <td>1.000000</td>\n",
       "      <td>0.950495</td>\n",
       "    </tr>\n",
       "    <tr>\n",
       "      <th>7</th>\n",
       "      <td>fold_03</td>\n",
       "      <td>16</td>\n",
       "      <td>0.933333</td>\n",
       "      <td>0.982835</td>\n",
       "      <td>0.983000</td>\n",
       "      <td>0.960000</td>\n",
       "      <td>0.900000</td>\n",
       "      <td>0.923077</td>\n",
       "      <td>0.960000</td>\n",
       "      <td>0.941176</td>\n",
       "    </tr>\n",
       "    <tr>\n",
       "      <th>8</th>\n",
       "      <td>fold_00</td>\n",
       "      <td>32</td>\n",
       "      <td>0.890110</td>\n",
       "      <td>0.984197</td>\n",
       "      <td>0.971429</td>\n",
       "      <td>0.946429</td>\n",
       "      <td>0.800000</td>\n",
       "      <td>0.883333</td>\n",
       "      <td>0.946429</td>\n",
       "      <td>0.913793</td>\n",
       "    </tr>\n",
       "    <tr>\n",
       "      <th>9</th>\n",
       "      <td>fold_01</td>\n",
       "      <td>32</td>\n",
       "      <td>0.912088</td>\n",
       "      <td>0.985535</td>\n",
       "      <td>0.982353</td>\n",
       "      <td>0.980392</td>\n",
       "      <td>0.825000</td>\n",
       "      <td>0.877193</td>\n",
       "      <td>0.980392</td>\n",
       "      <td>0.925926</td>\n",
       "    </tr>\n",
       "    <tr>\n",
       "      <th>10</th>\n",
       "      <td>fold_02</td>\n",
       "      <td>32</td>\n",
       "      <td>0.966667</td>\n",
       "      <td>1.000000</td>\n",
       "      <td>1.000000</td>\n",
       "      <td>0.944444</td>\n",
       "      <td>1.000000</td>\n",
       "      <td>1.000000</td>\n",
       "      <td>0.944444</td>\n",
       "      <td>0.971429</td>\n",
       "    </tr>\n",
       "    <tr>\n",
       "      <th>11</th>\n",
       "      <td>fold_03</td>\n",
       "      <td>32</td>\n",
       "      <td>0.955556</td>\n",
       "      <td>0.995254</td>\n",
       "      <td>0.994500</td>\n",
       "      <td>1.000000</td>\n",
       "      <td>0.900000</td>\n",
       "      <td>0.925926</td>\n",
       "      <td>1.000000</td>\n",
       "      <td>0.961538</td>\n",
       "    </tr>\n",
       "    <tr>\n",
       "      <th>12</th>\n",
       "      <td>fold_00</td>\n",
       "      <td>64</td>\n",
       "      <td>0.945055</td>\n",
       "      <td>0.990689</td>\n",
       "      <td>0.985366</td>\n",
       "      <td>0.940000</td>\n",
       "      <td>0.951220</td>\n",
       "      <td>0.959184</td>\n",
       "      <td>0.940000</td>\n",
       "      <td>0.949495</td>\n",
       "    </tr>\n",
       "    <tr>\n",
       "      <th>13</th>\n",
       "      <td>fold_01</td>\n",
       "      <td>64</td>\n",
       "      <td>0.901099</td>\n",
       "      <td>0.985287</td>\n",
       "      <td>0.974490</td>\n",
       "      <td>0.857143</td>\n",
       "      <td>0.971429</td>\n",
       "      <td>0.979592</td>\n",
       "      <td>0.857143</td>\n",
       "      <td>0.914286</td>\n",
       "    </tr>\n",
       "    <tr>\n",
       "      <th>14</th>\n",
       "      <td>fold_02</td>\n",
       "      <td>64</td>\n",
       "      <td>0.955556</td>\n",
       "      <td>0.990794</td>\n",
       "      <td>0.990613</td>\n",
       "      <td>0.956522</td>\n",
       "      <td>0.954545</td>\n",
       "      <td>0.956522</td>\n",
       "      <td>0.956522</td>\n",
       "      <td>0.956522</td>\n",
       "    </tr>\n",
       "    <tr>\n",
       "      <th>15</th>\n",
       "      <td>fold_03</td>\n",
       "      <td>64</td>\n",
       "      <td>0.955556</td>\n",
       "      <td>0.987164</td>\n",
       "      <td>0.978677</td>\n",
       "      <td>1.000000</td>\n",
       "      <td>0.870968</td>\n",
       "      <td>0.936508</td>\n",
       "      <td>1.000000</td>\n",
       "      <td>0.967213</td>\n",
       "    </tr>\n",
       "    <tr>\n",
       "      <th>16</th>\n",
       "      <td>fold_00</td>\n",
       "      <td>128</td>\n",
       "      <td>0.945055</td>\n",
       "      <td>0.988950</td>\n",
       "      <td>0.983483</td>\n",
       "      <td>0.944444</td>\n",
       "      <td>0.945946</td>\n",
       "      <td>0.962264</td>\n",
       "      <td>0.944444</td>\n",
       "      <td>0.953271</td>\n",
       "    </tr>\n",
       "    <tr>\n",
       "      <th>17</th>\n",
       "      <td>fold_01</td>\n",
       "      <td>128</td>\n",
       "      <td>0.967033</td>\n",
       "      <td>0.997000</td>\n",
       "      <td>0.996098</td>\n",
       "      <td>0.960000</td>\n",
       "      <td>0.975610</td>\n",
       "      <td>0.979592</td>\n",
       "      <td>0.960000</td>\n",
       "      <td>0.969697</td>\n",
       "    </tr>\n",
       "    <tr>\n",
       "      <th>18</th>\n",
       "      <td>fold_02</td>\n",
       "      <td>128</td>\n",
       "      <td>0.955556</td>\n",
       "      <td>0.994370</td>\n",
       "      <td>0.991770</td>\n",
       "      <td>1.000000</td>\n",
       "      <td>0.888889</td>\n",
       "      <td>0.931034</td>\n",
       "      <td>1.000000</td>\n",
       "      <td>0.964286</td>\n",
       "    </tr>\n",
       "    <tr>\n",
       "      <th>19</th>\n",
       "      <td>fold_03</td>\n",
       "      <td>128</td>\n",
       "      <td>0.955556</td>\n",
       "      <td>0.993414</td>\n",
       "      <td>0.988781</td>\n",
       "      <td>0.962264</td>\n",
       "      <td>0.945946</td>\n",
       "      <td>0.962264</td>\n",
       "      <td>0.962264</td>\n",
       "      <td>0.962264</td>\n",
       "    </tr>\n",
       "  </tbody>\n",
       "</table>\n",
       "</div>"
      ],
      "text/plain": [
       "       fold  repeat_seed  accuracy   prc_auc   roc_auc  sensitivity  \\\n",
       "0   fold_00            8  0.945055  0.995818  0.994083     0.961538   \n",
       "1   fold_01            8  0.945055  0.990943  0.984520     0.947368   \n",
       "2   fold_02            8  0.911111  0.979841  0.979753     0.955556   \n",
       "3   fold_03            8  0.977778  0.995153  0.992557     0.982456   \n",
       "4   fold_00           16  0.978022  0.997892  0.996429     0.964286   \n",
       "5   fold_01           16  0.956044  0.992733  0.987616     0.964912   \n",
       "6   fold_02           16  0.944444  0.992718  0.991567     1.000000   \n",
       "7   fold_03           16  0.933333  0.982835  0.983000     0.960000   \n",
       "8   fold_00           32  0.890110  0.984197  0.971429     0.946429   \n",
       "9   fold_01           32  0.912088  0.985535  0.982353     0.980392   \n",
       "10  fold_02           32  0.966667  1.000000  1.000000     0.944444   \n",
       "11  fold_03           32  0.955556  0.995254  0.994500     1.000000   \n",
       "12  fold_00           64  0.945055  0.990689  0.985366     0.940000   \n",
       "13  fold_01           64  0.901099  0.985287  0.974490     0.857143   \n",
       "14  fold_02           64  0.955556  0.990794  0.990613     0.956522   \n",
       "15  fold_03           64  0.955556  0.987164  0.978677     1.000000   \n",
       "16  fold_00          128  0.945055  0.988950  0.983483     0.944444   \n",
       "17  fold_01          128  0.967033  0.997000  0.996098     0.960000   \n",
       "18  fold_02          128  0.955556  0.994370  0.991770     1.000000   \n",
       "19  fold_03          128  0.955556  0.993414  0.988781     0.962264   \n",
       "\n",
       "    specificity  precision    recall        F1  \n",
       "0      0.923077   0.943396  0.961538  0.952381  \n",
       "1      0.941176   0.964286  0.947368  0.955752  \n",
       "2      0.866667   0.877551  0.955556  0.914894  \n",
       "3      0.969697   0.982456  0.982456  0.982456  \n",
       "4      1.000000   1.000000  0.964286  0.981818  \n",
       "5      0.941176   0.964912  0.964912  0.964912  \n",
       "6      0.880952   0.905660  1.000000  0.950495  \n",
       "7      0.900000   0.923077  0.960000  0.941176  \n",
       "8      0.800000   0.883333  0.946429  0.913793  \n",
       "9      0.825000   0.877193  0.980392  0.925926  \n",
       "10     1.000000   1.000000  0.944444  0.971429  \n",
       "11     0.900000   0.925926  1.000000  0.961538  \n",
       "12     0.951220   0.959184  0.940000  0.949495  \n",
       "13     0.971429   0.979592  0.857143  0.914286  \n",
       "14     0.954545   0.956522  0.956522  0.956522  \n",
       "15     0.870968   0.936508  1.000000  0.967213  \n",
       "16     0.945946   0.962264  0.944444  0.953271  \n",
       "17     0.975610   0.979592  0.960000  0.969697  \n",
       "18     0.888889   0.931034  1.000000  0.964286  \n",
       "19     0.945946   0.962264  0.962264  0.962264  "
      ]
     },
     "execution_count": 5,
     "metadata": {},
     "output_type": "execute_result"
    }
   ],
   "source": [
    "df = pd.DataFrame(run_all)\n",
    "df.to_excel('results.xlsx')\n",
    "df"
   ]
  },
  {
   "cell_type": "code",
   "execution_count": 6,
   "metadata": {},
   "outputs": [
    {
     "data": {
      "text/html": [
       "<div>\n",
       "<style scoped>\n",
       "    .dataframe tbody tr th:only-of-type {\n",
       "        vertical-align: middle;\n",
       "    }\n",
       "\n",
       "    .dataframe tbody tr th {\n",
       "        vertical-align: top;\n",
       "    }\n",
       "\n",
       "    .dataframe thead th {\n",
       "        text-align: right;\n",
       "    }\n",
       "</style>\n",
       "<table border=\"1\" class=\"dataframe\">\n",
       "  <thead>\n",
       "    <tr style=\"text-align: right;\">\n",
       "      <th></th>\n",
       "      <th>repeat_seed</th>\n",
       "      <th>accuracy</th>\n",
       "      <th>prc_auc</th>\n",
       "      <th>roc_auc</th>\n",
       "      <th>sensitivity</th>\n",
       "      <th>specificity</th>\n",
       "      <th>precision</th>\n",
       "      <th>recall</th>\n",
       "      <th>F1</th>\n",
       "    </tr>\n",
       "    <tr>\n",
       "      <th>repeat_seed</th>\n",
       "      <th></th>\n",
       "      <th></th>\n",
       "      <th></th>\n",
       "      <th></th>\n",
       "      <th></th>\n",
       "      <th></th>\n",
       "      <th></th>\n",
       "      <th></th>\n",
       "      <th></th>\n",
       "    </tr>\n",
       "  </thead>\n",
       "  <tbody>\n",
       "    <tr>\n",
       "      <th>8</th>\n",
       "      <td>8.0</td>\n",
       "      <td>0.944750</td>\n",
       "      <td>0.990439</td>\n",
       "      <td>0.987728</td>\n",
       "      <td>0.961730</td>\n",
       "      <td>0.925154</td>\n",
       "      <td>0.941922</td>\n",
       "      <td>0.961730</td>\n",
       "      <td>0.951371</td>\n",
       "    </tr>\n",
       "    <tr>\n",
       "      <th>16</th>\n",
       "      <td>16.0</td>\n",
       "      <td>0.952961</td>\n",
       "      <td>0.991545</td>\n",
       "      <td>0.989653</td>\n",
       "      <td>0.972299</td>\n",
       "      <td>0.930532</td>\n",
       "      <td>0.948412</td>\n",
       "      <td>0.972299</td>\n",
       "      <td>0.959600</td>\n",
       "    </tr>\n",
       "    <tr>\n",
       "      <th>32</th>\n",
       "      <td>32.0</td>\n",
       "      <td>0.931105</td>\n",
       "      <td>0.991246</td>\n",
       "      <td>0.987070</td>\n",
       "      <td>0.967816</td>\n",
       "      <td>0.881250</td>\n",
       "      <td>0.921613</td>\n",
       "      <td>0.967816</td>\n",
       "      <td>0.943172</td>\n",
       "    </tr>\n",
       "    <tr>\n",
       "      <th>64</th>\n",
       "      <td>64.0</td>\n",
       "      <td>0.939316</td>\n",
       "      <td>0.988483</td>\n",
       "      <td>0.982286</td>\n",
       "      <td>0.938416</td>\n",
       "      <td>0.937040</td>\n",
       "      <td>0.957951</td>\n",
       "      <td>0.938416</td>\n",
       "      <td>0.946879</td>\n",
       "    </tr>\n",
       "    <tr>\n",
       "      <th>128</th>\n",
       "      <td>128.0</td>\n",
       "      <td>0.955800</td>\n",
       "      <td>0.993433</td>\n",
       "      <td>0.990033</td>\n",
       "      <td>0.966677</td>\n",
       "      <td>0.939098</td>\n",
       "      <td>0.958789</td>\n",
       "      <td>0.966677</td>\n",
       "      <td>0.962379</td>\n",
       "    </tr>\n",
       "  </tbody>\n",
       "</table>\n",
       "</div>"
      ],
      "text/plain": [
       "             repeat_seed  accuracy   prc_auc   roc_auc  sensitivity  \\\n",
       "repeat_seed                                                           \n",
       "8                    8.0  0.944750  0.990439  0.987728     0.961730   \n",
       "16                  16.0  0.952961  0.991545  0.989653     0.972299   \n",
       "32                  32.0  0.931105  0.991246  0.987070     0.967816   \n",
       "64                  64.0  0.939316  0.988483  0.982286     0.938416   \n",
       "128                128.0  0.955800  0.993433  0.990033     0.966677   \n",
       "\n",
       "             specificity  precision    recall        F1  \n",
       "repeat_seed                                              \n",
       "8               0.925154   0.941922  0.961730  0.951371  \n",
       "16              0.930532   0.948412  0.972299  0.959600  \n",
       "32              0.881250   0.921613  0.967816  0.943172  \n",
       "64              0.937040   0.957951  0.938416  0.946879  \n",
       "128             0.939098   0.958789  0.966677  0.962379  "
      ]
     },
     "execution_count": 6,
     "metadata": {},
     "output_type": "execute_result"
    }
   ],
   "source": [
    "results = df.groupby(['repeat_seed']).apply(np.mean)\n",
    "results"
   ]
  },
  {
   "cell_type": "code",
   "execution_count": 7,
   "metadata": {},
   "outputs": [
    {
     "data": {
      "text/plain": [
       "repeat_seed    49.600\n",
       "accuracy        0.945\n",
       "prc_auc         0.991\n",
       "roc_auc         0.987\n",
       "sensitivity     0.961\n",
       "specificity     0.923\n",
       "precision       0.946\n",
       "recall          0.961\n",
       "F1              0.953\n",
       "dtype: float64"
      ]
     },
     "execution_count": 7,
     "metadata": {},
     "output_type": "execute_result"
    }
   ],
   "source": [
    "df.groupby('repeat_seed').apply(np.mean).mean().round(3)"
   ]
  },
  {
   "cell_type": "code",
   "execution_count": 8,
   "metadata": {},
   "outputs": [
    {
     "data": {
      "text/plain": [
       "repeat_seed    0.000\n",
       "accuracy       0.020\n",
       "prc_auc        0.005\n",
       "roc_auc        0.007\n",
       "sensitivity    0.025\n",
       "specificity    0.046\n",
       "precision      0.032\n",
       "recall         0.025\n",
       "F1             0.018\n",
       "dtype: float64"
      ]
     },
     "execution_count": 8,
     "metadata": {},
     "output_type": "execute_result"
    }
   ],
   "source": [
    "df.groupby('repeat_seed').apply(np.std).mean().round(3)"
   ]
  },
  {
   "cell_type": "code",
   "execution_count": null,
   "metadata": {},
   "outputs": [],
   "source": []
  }
 ],
 "metadata": {
  "kernelspec": {
   "display_name": "Python 3",
   "language": "python",
   "name": "python3"
  },
  "language_info": {
   "codemirror_mode": {
    "name": "ipython",
    "version": 3
   },
   "file_extension": ".py",
   "mimetype": "text/x-python",
   "name": "python",
   "nbconvert_exporter": "python",
   "pygments_lexer": "ipython3",
   "version": "3.6.9"
  }
 },
 "nbformat": 4,
 "nbformat_minor": 4
}
