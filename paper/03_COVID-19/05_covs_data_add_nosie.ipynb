{
 "cells": [
  {
   "cell_type": "code",
   "execution_count": 1,
   "metadata": {},
   "outputs": [],
   "source": [
    "# -*- coding: utf-8 -*-\n",
    "\"\"\"\n",
    "Created on Sun Aug 16 17:10:53 2020\n",
    "\n",
    "@author: wanxiang.shen@u.nus.edu\n",
    "\"\"\"\n",
    "\n",
    "import warnings, os\n",
    "warnings.filterwarnings(\"ignore\")\n",
    "\n",
    "\n",
    "import pandas as pd\n",
    "import numpy as np\n",
    "from glob import glob\n",
    "\n",
    "from sklearn.model_selection import KFold, StratifiedKFold\n",
    "from sklearn.metrics import confusion_matrix, precision_recall_curve, roc_auc_score\n",
    "from sklearn.metrics import auc as calculate_auc\n",
    "from joblib import load, dump\n",
    "import matplotlib.pyplot as plt\n",
    "import seaborn as sns\n",
    "\n",
    "from aggmap import AggMap, AggModel, loadmap\n",
    "from aggmap import show\n",
    "np.random.seed(666) #just for reaptable results\n",
    "\n",
    "\n",
    "from tqdm import tqdm\n",
    "\n",
    "tqdm.pandas(ascii=True)"
   ]
  },
  {
   "cell_type": "code",
   "execution_count": 2,
   "metadata": {},
   "outputs": [],
   "source": [
    "def gauss_noisy(X, c = 0.38):\n",
    "    ''' \n",
    "    X: 4D array, n,w,h,c\n",
    "    '''\n",
    "    np.random.seed(123)\n",
    "    \n",
    "    X = np.clip(X + np.random.normal(size = X.shape, scale = c), 0, 1)\n",
    "    return X"
   ]
  },
  {
   "cell_type": "code",
   "execution_count": 3,
   "metadata": {},
   "outputs": [
    {
     "name": "stderr",
     "output_type": "stream",
     "text": [
      "100%|##########| 362/362 [00:02<00:00, 149.23it/s]\n"
     ]
    }
   ],
   "source": [
    "dfx  = pd.read_excel('./COVID19.xlsx', sheet_name='data')\n",
    "dfy  = pd.read_excel('./COVID19.xlsx', sheet_name='sample_info')\n",
    "mp = loadmap('./saved_model/aggmap.mp')\n",
    "\n",
    "scale_method = 'standard'\n",
    "\n",
    "\n",
    "dfx = dfx[dfx.columns[1:]]\n",
    "cols = [\"p-%s\" % c for c in dfx.columns]\n",
    "dfx.columns = cols\n",
    "\n",
    "X = mp.batch_transform(dfx.values, scale_method= scale_method)\n",
    "Y = pd.get_dummies(dfy['class']).values.astype(float)"
   ]
  },
  {
   "cell_type": "code",
   "execution_count": 4,
   "metadata": {},
   "outputs": [],
   "source": [
    "from sklearn.preprocessing import MinMaxScaler\n",
    "scaler = MinMaxScaler()\n",
    "scaler = scaler.fit(dfx)\n",
    "dfscale = pd.DataFrame(scaler.transform(dfx), index = dfx.index, columns=dfx.columns)"
   ]
  },
  {
   "cell_type": "code",
   "execution_count": null,
   "metadata": {},
   "outputs": [],
   "source": []
  },
  {
   "cell_type": "code",
   "execution_count": 6,
   "metadata": {},
   "outputs": [
    {
     "name": "stderr",
     "output_type": "stream",
     "text": [
      "100%|##########| 362/362 [00:00<00:00, 1927.82it/s]\n",
      "100%|##########| 362/362 [00:00<00:00, 3024.79it/s]\n",
      "100%|##########| 362/362 [00:00<00:00, 3031.28it/s]\n",
      "100%|##########| 362/362 [00:00<00:00, 3042.10it/s]\n",
      "100%|##########| 362/362 [00:00<00:00, 2745.17it/s]\n",
      "100%|##########| 362/362 [00:00<00:00, 3024.94it/s]\n",
      "100%|##########| 362/362 [00:00<00:00, 2990.56it/s]\n"
     ]
    },
    {
     "data": {
      "text/plain": [
       "['/raid/shenwanxiang/COVID-19/COV-C/Agg1_noisys.data']"
      ]
     },
     "execution_count": 6,
     "metadata": {},
     "output_type": "execute_result"
    }
   ],
   "source": [
    "data_save_folder = '/raid/shenwanxiang/COVID-19/COV-C'\n",
    "\n",
    "if not os.path.exists(data_save_folder):\n",
    "    os.makedirs(data_save_folder)\n",
    "    \n",
    "stddevs = np.arange(0, 0.5, 0.08)\n",
    "\n",
    "X_noisys_1 = []\n",
    "X_noisys_5 = []\n",
    "\n",
    "n, w, h, c = X.shape\n",
    "\n",
    "for stddev in stddevs:\n",
    "\n",
    "    dfscale_noise = gauss_noisy(dfscale, c=stddev)\n",
    "    dfx_noise = pd.DataFrame(scaler.inverse_transform(dfscale_noise))\n",
    "    X5_n = mp.batch_transform(dfx_noise.values, scale_method= scale_method)\n",
    "\n",
    "    X1_n = X5_n.sum(axis=-1).reshape(n, w, h, 1)\n",
    "    \n",
    "    X_noisys_5.append(X5_n)\n",
    "    X_noisys_1.append(X1_n)\n",
    "    \n",
    "dump(X_noisys_5,  os.path.join(data_save_folder, 'Agg5_noisys.data')) \n",
    "dump(X_noisys_1,  os.path.join(data_save_folder, 'Agg1_noisys.data')) "
   ]
  },
  {
   "cell_type": "code",
   "execution_count": null,
   "metadata": {},
   "outputs": [],
   "source": []
  },
  {
   "cell_type": "code",
   "execution_count": null,
   "metadata": {},
   "outputs": [],
   "source": []
  },
  {
   "cell_type": "code",
   "execution_count": null,
   "metadata": {},
   "outputs": [],
   "source": []
  },
  {
   "cell_type": "code",
   "execution_count": null,
   "metadata": {},
   "outputs": [],
   "source": []
  },
  {
   "cell_type": "code",
   "execution_count": null,
   "metadata": {},
   "outputs": [],
   "source": []
  },
  {
   "cell_type": "code",
   "execution_count": null,
   "metadata": {},
   "outputs": [],
   "source": []
  },
  {
   "cell_type": "code",
   "execution_count": null,
   "metadata": {},
   "outputs": [],
   "source": []
  },
  {
   "cell_type": "code",
   "execution_count": null,
   "metadata": {},
   "outputs": [],
   "source": []
  },
  {
   "cell_type": "code",
   "execution_count": 22,
   "metadata": {},
   "outputs": [
    {
     "data": {
      "image/png": "[encoded data removed]",
      "text/plain": [
       "<Figure size 1728x504 with 14 Axes>"
      ]
     },
     "metadata": {},
     "output_type": "display_data"
    }
   ],
   "source": [
    "rows = ['std. %.3f' % i for i in stddevs]\n",
    "fontsize = 26\n",
    "fig, axes = plt.subplots(nrows=2, ncols=len(rows), figsize=(24, 7), sharex = False, sharey = False)\n",
    "\n",
    "\n",
    "X1 = [X_noisys_1[i][0] for i in range(len(rows))]\n",
    "X2 = [X_noisys_5[i][0] for i in range(len(rows))]\n",
    "X1.extend(X2)\n",
    "\n",
    "for x, ax in zip(X1, axes.ravel()):\n",
    "    \n",
    "    \n",
    "    #ax.imshow(x.sum(axis=-1))\n",
    "    if x.shape[-1] == 1:\n",
    "        #ax.imshow(x.reshape(w, h), cmap = 'gray')\n",
    "        #ax.set_xticks([])\n",
    "        #ax.set_yticks([])\n",
    "        show.imshow(x.reshape(w, h, 1), ax = ax,  mode = 'dark', color_list= ['#bfbfbf'],   x_max=1, vmin=0.2, vmax=x.max()-0.8 )\n",
    "        \n",
    "    else:\n",
    "        show.imshow(x, ax = ax,  mode = 'dark', color_list= pd.Series(mp.colormaps).tolist(),  x_max=1, vmin=0.2, vmax=x.max()-0.8) # vmax=x.max()\n",
    "    \n",
    "    #\n",
    "\n",
    "for ax, name in zip(axes[0, :], rows):\n",
    "    ax.set_xlabel(name, fontsize = fontsize) \n",
    "    ax.xaxis.set_label_position('top') \n",
    "\n",
    "for ax, name in zip(axes[0:2, 0], ['C=1', 'C=5']):\n",
    "    ax.set_ylabel(name, fontsize = fontsize) \n",
    "\n",
    "    \n",
    "fig.tight_layout()\n",
    "\n",
    "fig.savefig('./noise-fmp-1-5.png', bbox_inches='tight', dpi=400) \n",
    "# fig.savefig('./fmp.svg', bbox_inches='tight', dpi=400) "
   ]
  },
  {
   "cell_type": "code",
   "execution_count": null,
   "metadata": {},
   "outputs": [],
   "source": []
  },
  {
   "cell_type": "code",
   "execution_count": null,
   "metadata": {},
   "outputs": [],
   "source": []
  },
  {
   "cell_type": "code",
   "execution_count": null,
   "metadata": {},
   "outputs": [],
   "source": []
  },
  {
   "cell_type": "code",
   "execution_count": null,
   "metadata": {},
   "outputs": [],
   "source": []
  }
 ],
 "metadata": {
  "kernelspec": {
   "display_name": "Python 3",
   "language": "python",
   "name": "python3"
  },
  "language_info": {
   "codemirror_mode": {
    "name": "ipython",
    "version": 3
   },
   "file_extension": ".py",
   "mimetype": "text/x-python",
   "name": "python",
   "nbconvert_exporter": "python",
   "pygments_lexer": "ipython3",
   "version": "3.6.9"
  }
 },
 "nbformat": 4,
 "nbformat_minor": 4
}
