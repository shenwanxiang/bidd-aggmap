{
 "cells": [
  {
   "cell_type": "code",
   "execution_count": 6,
   "id": "d3d83cb2-1251-4235-806c-04577502fa36",
   "metadata": {},
   "outputs": [],
   "source": []
  },
  {
   "cell_type": "code",
   "execution_count": 7,
   "id": "c79c57c7-d09f-4b00-b7a6-1a89996593c9",
   "metadata": {},
   "outputs": [
    {
     "ename": "ModuleNotFoundError",
     "evalue": "No module named 'pip.req'",
     "output_type": "error",
     "traceback": [
      "\u001b[0;31m---------------------------------------------------------------------------\u001b[0m",
      "\u001b[0;31mModuleNotFoundError\u001b[0m                       Traceback (most recent call last)",
      "Input \u001b[0;32mIn [7]\u001b[0m, in \u001b[0;36m<cell line: 1>\u001b[0;34m()\u001b[0m\n\u001b[0;32m----> 1\u001b[0m \u001b[38;5;28;01mfrom\u001b[39;00m \u001b[38;5;21;01mpip\u001b[39;00m\u001b[38;5;21;01m.\u001b[39;00m\u001b[38;5;21;01mreq\u001b[39;00m \u001b[38;5;28;01mimport\u001b[39;00m parse_requirements\n",
      "\u001b[0;31mModuleNotFoundError\u001b[0m: No module named 'pip.req'"
     ]
    }
   ],
   "source": [
    "from pip.req import parse_requirements"
   ]
  },
  {
   "cell_type": "code",
   "execution_count": null,
   "id": "db2a048e-575e-4d84-80c2-8a360758ab91",
   "metadata": {},
   "outputs": [],
   "source": [
    "\n",
    "reqs = parse_requirements(<requirements_path>)"
   ]
  },
  {
   "cell_type": "code",
   "execution_count": 3,
   "id": "97089ea6-eb33-4bab-9a5d-103881541e2b",
   "metadata": {},
   "outputs": [
    {
     "data": {
      "text/plain": [
       "['shap==0.39.0',\n",
       " 'numpy #==1.19.5',\n",
       " 'pandas==1.1.5 #pandas 1.3.x has bugs',\n",
       " 'seaborn==0.9.1',\n",
       " 'scikit-learn==0.22.2.post1',\n",
       " 'scipy #==1.1.0 #umap error for > 1.5.4: https://github.com/lmcinnes/umap/issues/496 ',\n",
       " 'joblib==0.13.2',\n",
       " 'umap-learn==0.3.10 #for paper repeatability',\n",
       " 'python-highcharts==0.4.2',\n",
       " 'tqdm',\n",
       " 'colored',\n",
       " 'colorlog==4.0.2',\n",
       " 'lapjv']"
      ]
     },
     "execution_count": 3,
     "metadata": {},
     "output_type": "execute_result"
    }
   ],
   "source": [
    "reqs"
   ]
  },
  {
   "cell_type": "code",
   "execution_count": null,
   "id": "f7d1cc48-a9c9-407a-8017-c2aa25b822a7",
   "metadata": {},
   "outputs": [],
   "source": []
  }
 ],
 "metadata": {
  "kernelspec": {
   "display_name": "Python 3 (ipykernel)",
   "language": "python",
   "name": "python3"
  },
  "language_info": {
   "codemirror_mode": {
    "name": "ipython",
    "version": 3
   },
   "file_extension": ".py",
   "mimetype": "text/x-python",
   "name": "python",
   "nbconvert_exporter": "python",
   "pygments_lexer": "ipython3",
   "version": "3.9.7"
  }
 },
 "nbformat": 4,
 "nbformat_minor": 5
}
