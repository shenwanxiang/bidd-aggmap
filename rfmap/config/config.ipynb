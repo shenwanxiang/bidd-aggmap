{
 "cells": [
  {
   "cell_type": "code",
   "execution_count": 1,
   "metadata": {},
   "outputs": [],
   "source": [
    "import pandas as pd"
   ]
  },
  {
   "cell_type": "code",
   "execution_count": 2,
   "metadata": {},
   "outputs": [],
   "source": [
    "#pd.read_pickle('./descriptor_scale.cfg')"
   ]
  },
  {
   "cell_type": "code",
   "execution_count": 3,
   "metadata": {},
   "outputs": [],
   "source": [
    "from __init__ import load_config\n",
    "\n"
   ]
  },
  {
   "cell_type": "code",
   "execution_count": 4,
   "metadata": {},
   "outputs": [
    {
     "name": "stdout",
     "output_type": "stream",
     "text": [
      "2019-12-02 19:33:09,488 - \u001b[32mINFO\u001b[0m - [bidd-molmap]\u001b[0m - downloading config file from google drive...\u001b[0m\n"
     ]
    },
    {
     "name": "stderr",
     "output_type": "stream",
     "text": [
      "Downloading...\n",
      "From: https://drive.google.com/uc?id=1fg013aERUGCiQOGaPLC-rpYldIStINtv\n",
      "To: /home/shenwanxiang/bidd-molmap/molmap/config/fingerprint_jaccard.cfg.gzip\n",
      "162MB [00:01, 99.6MB/s] "
     ]
    },
    {
     "name": "stdout",
     "output_type": "stream",
     "text": [
      "2019-12-02 19:33:12,398 - \u001b[32mINFO\u001b[0m - [bidd-molmap]\u001b[0m - finished...\u001b[0m\n"
     ]
    },
    {
     "name": "stderr",
     "output_type": "stream",
     "text": [
      "\n"
     ]
    }
   ],
   "source": [
    "df = load_config(ftype='fingerprint', metric='jaccard')"
   ]
  },
  {
   "cell_type": "code",
   "execution_count": 5,
   "metadata": {},
   "outputs": [
    {
     "name": "stdout",
     "output_type": "stream",
     "text": [
      "total 182M\n",
      "-rw-rw-r--. 1 shenwanxiang shenwanxiang 3.2K 12月  2 19:32 config.ipynb\n",
      "-rw-rw-r--. 1 shenwanxiang shenwanxiang  14M 12月  2 10:31 descriptor_correlation.cfg.gzip\n",
      "-rw-rw-r--. 1 shenwanxiang shenwanxiang  14M 12月  2 10:31 descriptor_cosine.cfg.gzip\n",
      "-rw-rw-r--. 1 shenwanxiang shenwanxiang  71K 12月  2 10:31 descriptor_scale.cfg.gzip\n",
      "-rw-rw-r--. 1 shenwanxiang shenwanxiang 155M 12月  2 19:33 fingerprint_jaccard.cfg.gzip\n",
      "-rw-rw-r--. 1 shenwanxiang shenwanxiang 384K 12月  2 19:18 fingerprint_scale.cfg.gzip\n",
      "-rw-rw-r--. 1 shenwanxiang shenwanxiang 1.3K 12月  2 19:31 __init__.py\n",
      "drwxrwxr-x. 2 shenwanxiang shenwanxiang   36 12月  2 19:31 \u001b[0m\u001b[01;34m__pycache__\u001b[0m/\n"
     ]
    }
   ],
   "source": [
    "ls -lh"
   ]
  },
  {
   "cell_type": "code",
   "execution_count": 6,
   "metadata": {},
   "outputs": [
    {
     "data": {
      "text/plain": [
       "array([[0.    , 0.9854, 0.9893, ..., 1.005 , 1.002 , 0.98  ],\n",
       "       [0.9854, 0.    , 0.9434, ..., 0.8384, 0.9917, 1.017 ],\n",
       "       [0.9893, 0.9434, 0.    , ..., 0.994 , 1.002 , 0.997 ],\n",
       "       ...,\n",
       "       [1.005 , 0.8384, 0.994 , ..., 0.    , 1.002 , 1.005 ],\n",
       "       [1.002 , 0.9917, 1.002 , ..., 1.002 , 0.    , 0.9946],\n",
       "       [0.98  , 1.017 , 0.997 , ..., 1.005 , 0.9946, 0.    ]],\n",
       "      dtype=float16)"
      ]
     },
     "execution_count": 6,
     "metadata": {},
     "output_type": "execute_result"
    }
   ],
   "source": [
    "df.values"
   ]
  },
  {
   "cell_type": "code",
   "execution_count": null,
   "metadata": {},
   "outputs": [],
   "source": []
  }
 ],
 "metadata": {
  "kernelspec": {
   "display_name": "Python 3",
   "language": "python",
   "name": "python3"
  },
  "language_info": {
   "codemirror_mode": {
    "name": "ipython",
    "version": 3
   },
   "file_extension": ".py",
   "mimetype": "text/x-python",
   "name": "python",
   "nbconvert_exporter": "python",
   "pygments_lexer": "ipython3",
   "version": "3.6.5"
  }
 },
 "nbformat": 4,
 "nbformat_minor": 4
}
