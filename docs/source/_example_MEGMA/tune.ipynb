{
 "cells": [
  {
   "cell_type": "code",
   "execution_count": 1,
   "id": "b1355e0e-d8a8-4aff-8404-3f741f11d078",
   "metadata": {},
   "outputs": [
    {
     "name": "stderr",
     "output_type": "stream",
     "text": [
      "2022-08-16 16:17:41.150563: I tensorflow/core/util/util.cc:169] oneDNN custom operations are on. You may see slightly different numerical results due to floating-point round-off errors from different computation orders. To turn them off, set the environment variable `TF_ENABLE_ONEDNN_OPTS=0`.\n"
     ]
    }
   ],
   "source": [
    "from sklearn.metrics import confusion_matrix\n",
    "from sklearn.metrics import precision_recall_curve \n",
    "from sklearn.metrics import roc_auc_score\n",
    "from sklearn.metrics import auc as calculate_auc\n",
    "import matplotlib.pyplot as plt\n",
    "import seaborn as sns\n",
    "import pandas as pd\n",
    "import numpy as np\n",
    "import os\n",
    "from tqdm import tqdm\n",
    "\n",
    "from aggmap import AggMap, AggMapNet\n",
    "from aggmap import show, loadmap\n",
    "\n",
    "np.random.seed(888) #just for reaptable results"
   ]
  },
  {
   "cell_type": "code",
   "execution_count": 2,
   "id": "f2598e17-4e78-4e66-a1b7-6165a9be9c19",
   "metadata": {},
   "outputs": [],
   "source": [
    "## AggMapNet parameters\n",
    "epochs = 30 #number of epochs\n",
    "lr = 1e-4 #learning rate\n",
    "batch_size = 2 #batch size\n",
    "conv1_kernel_size = 5 #kernal size of the first cnn layer\n",
    "gpuid = 1 #use which gpu to train the model\n",
    "\n",
    "def train(train_country,  n_epochs, n_neighbours):\n",
    "    \n",
    "    ## data process parameters\n",
    "    minv = 1e-8 #minimal value for log-transform\n",
    "    scale_method = 'standard' #data scaling method\n",
    "    url = 'https://raw.githubusercontent.com/shenwanxiang/bidd-aggmap/master/docs/source/_example_MEGMA/dataset/'\n",
    "    \n",
    "    dfx_vector = pd.read_csv(url + '%s_dfx.csv' % train_country, index_col='Sample_ID')\n",
    "    dfx_vector = np.log(dfx_vector + minv)\n",
    "    \n",
    "    megma = AggMap(dfx_vector, by_scipy=True)\n",
    "    megma = megma.fit(\n",
    "                      n_epochs = n_epochs,\n",
    "                      n_neighbours = n_neighbours,\n",
    "                      #can be optimized by each megma based on their model performance, such as 1, 2, 4, 8, 10, ..\n",
    "                      var_thr = 3,  \n",
    "                      verbose = 0)\n",
    "    \n",
    "    dfy = pd.read_csv(url + '%s_dfy.csv' % train_country, index_col='Sample_ID')\n",
    "\n",
    "    X = megma.batch_transform(dfx_vector.values, \n",
    "                              scale_method = scale_method)\n",
    "    Y = pd.get_dummies(dfy.Group).values\n",
    "    \n",
    "    # fit AggMapNet\n",
    "    clf = AggMapNet.MultiClassEstimator(epochs = epochs,  \n",
    "                                        batch_size = batch_size, \n",
    "                                        lr = lr, \n",
    "                                        conv1_kernel_size = conv1_kernel_size,\n",
    "                                        gpuid = gpuid,\n",
    "                                        verbose = 0)\n",
    "    clf.fit(X, Y)\n",
    "    return clf, megma\n",
    "\n",
    "def test(clf, megma, test_country):\n",
    "    \n",
    "    ## data process parameters\n",
    "    minv = 1e-8 #minimal value for log-transform\n",
    "    scale_method = 'standard' #data scaling method\n",
    "    url = 'https://raw.githubusercontent.com/shenwanxiang/bidd-aggmap/master/docs/source/_example_MEGMA/dataset/'\n",
    "    \n",
    "    dfx_vector = pd.read_csv(url + '%s_dfx.csv' % test_country, index_col='Sample_ID')\n",
    "    dfx_vector = np.log(dfx_vector + minv)\n",
    "    dfy = pd.read_csv(url + '%s_dfy.csv' % test_country, index_col='Sample_ID')\n",
    "    testX = megma.batch_transform(dfx_vector.values, \n",
    "                                  scale_method = scale_method)\n",
    "    testY = pd.get_dummies(dfy.Group).values \n",
    "    y_true = testY[:,0]\n",
    "    y_pred = clf.predict(testX)[:,0] \n",
    "    y_score = clf.predict_proba(testX)[:,0]\n",
    "\n",
    "    tn, fp, fn, tp = confusion_matrix(y_true, y_pred).ravel()\n",
    "    acc = (tp + tn) / sum([tn, fp, fn, tp])\n",
    "    sensitivity = tp / sum([tp, fn])\n",
    "    specificity = tn / sum([tn, fp])\n",
    "    roc_auc = roc_auc_score(y_true, y_score)\n",
    "    precision = tp / sum([tp, fp])\n",
    "    recall =  tp / sum([tp, fn]) #equals to sensitivity\n",
    "    \n",
    "    res = {'test_country':test_country,\n",
    "           'accuracy':acc, \n",
    "           'roc_auc':roc_auc,\n",
    "           'sensitivity': sensitivity, \n",
    "           'specificity': specificity,\n",
    "           'precision':precision,\n",
    "           'recall':recall}\n",
    "    return res\n",
    "\n",
    "def get_non_diag_mean(df):\n",
    "    v = df.values.copy()\n",
    "    np.fill_diagonal(v, np.nan)\n",
    "    mean =  pd.DataFrame(v, columns = df.columns, index = df.index).mean(axis=1).round(3)\n",
    "    std = pd.DataFrame(v, columns = df.columns, index = df.index).std(axis=1).round(3)\n",
    "    return mean,std"
   ]
  },
  {
   "cell_type": "code",
   "execution_count": null,
   "id": "671e682f-1739-45af-abfc-b5e223f76317",
   "metadata": {},
   "outputs": [],
   "source": []
  },
  {
   "cell_type": "code",
   "execution_count": null,
   "id": "f166345e-4b91-4b56-8b9a-c48c31abcceb",
   "metadata": {},
   "outputs": [],
   "source": []
  },
  {
   "cell_type": "code",
   "execution_count": 3,
   "id": "c7314fc3-8a6d-4969-b487-83dffca9df64",
   "metadata": {},
   "outputs": [],
   "source": [
    "def opt(country_var_thr, n_epochs):\n",
    "    \n",
    "    countries = ['AUS', 'CHN', 'DEU', 'FRA', 'USA'] \n",
    "    train_country = 'AUS'\n",
    "    all_res = []\n",
    "    clf, megma = train(train_country, country_var_thr, n_epochs)\n",
    "        # Test model performance using STST strategy\n",
    "    for test_country in countries:\n",
    "        res = test(clf, megma, test_country)\n",
    "        res.update({'train_country':train_country})\n",
    "        all_res.append(res)   \n",
    "            \n",
    "    df2 = pd.DataFrame(all_res)\n",
    "    dfres2 = pd.crosstab(index = df2.train_country, \n",
    "                        columns= df2.test_country, \n",
    "                        values= df2.roc_auc, \n",
    "                        aggfunc = np.mean)\n",
    "    \n",
    "    score = get_non_diag_mean(dfres2)[0].mean() #0.808\n",
    "    \n",
    "    return score"
   ]
  },
  {
   "cell_type": "code",
   "execution_count": 4,
   "id": "9bab33cb-4400-4ede-b2a3-7ed7e2a8e54f",
   "metadata": {
    "collapsed": true,
    "jupyter": {
     "outputs_hidden": true
    },
    "tags": []
   },
   "outputs": [
    {
     "name": "stderr",
     "output_type": "stream",
     "text": [
      "  0%|                                                                                             | 0/5 [00:00<?, ?it/s]"
     ]
    },
    {
     "name": "stdout",
     "output_type": "stream",
     "text": [
      "50 2.5\n",
      "2022-08-16 16:17:41,972 - \u001b[32mINFO\u001b[0m - [bidd-aggmap]\u001b[0m - Calculating distance ...\u001b[0m\n"
     ]
    },
    {
     "name": "stderr",
     "output_type": "stream",
     "text": [
      "\n",
      "  0%|                                                                                           | 0/849 [00:00<?, ?it/s]\u001b[A\n",
      "100%|###############################################################################| 849/849 [00:00<00:00, 5171.57it/s]\u001b[A"
     ]
    },
    {
     "name": "stdout",
     "output_type": "stream",
     "text": [
      "2022-08-16 16:17:42,156 - \u001b[32mINFO\u001b[0m - [bidd-aggmap]\u001b[0m - applying hierarchical clustering to obtain group information ...\u001b[0m\n"
     ]
    },
    {
     "name": "stderr",
     "output_type": "stream",
     "text": [
      "\n"
     ]
    },
    {
     "name": "stdout",
     "output_type": "stream",
     "text": [
      "2022-08-16 16:17:44,211 - \u001b[32mINFO\u001b[0m - [bidd-aggmap]\u001b[0m - Applying grid assignment of feature points, this may take several minutes(1~30 min)\u001b[0m\n",
      "2022-08-16 16:17:44,722 - \u001b[32mINFO\u001b[0m - [bidd-aggmap]\u001b[0m - Finished\u001b[0m\n"
     ]
    },
    {
     "name": "stderr",
     "output_type": "stream",
     "text": [
      "\n",
      "  0%|                                                                                           | 0/109 [00:00<?, ?it/s]\u001b[A\n",
      "  7%|######                                                                             | 8/109 [00:01<00:19,  5.16it/s]\u001b[A\n",
      " 15%|############                                                                      | 16/109 [00:01<00:08, 11.46it/s]\u001b[A\n",
      "100%|#################################################################################| 109/109 [00:01<00:00, 59.93it/s]\u001b[A\n",
      "2022-08-16 16:17:46.683080: I tensorflow/stream_executor/cuda/cuda_gpu_executor.cc:975] successful NUMA node read from SysFS had negative value (-1), but there must be at least one NUMA node, so returning NUMA node zero\n",
      "2022-08-16 16:17:46.699549: I tensorflow/stream_executor/cuda/cuda_gpu_executor.cc:975] successful NUMA node read from SysFS had negative value (-1), but there must be at least one NUMA node, so returning NUMA node zero\n",
      "2022-08-16 16:17:46.699678: I tensorflow/stream_executor/cuda/cuda_gpu_executor.cc:975] successful NUMA node read from SysFS had negative value (-1), but there must be at least one NUMA node, so returning NUMA node zero\n",
      "2022-08-16 16:17:46.700020: I tensorflow/core/platform/cpu_feature_guard.cc:193] This TensorFlow binary is optimized with oneAPI Deep Neural Network Library (oneDNN) to use the following CPU instructions in performance-critical operations:  AVX2 AVX_VNNI FMA\n",
      "To enable them in other operations, rebuild TensorFlow with the appropriate compiler flags.\n",
      "2022-08-16 16:17:46.701340: I tensorflow/stream_executor/cuda/cuda_gpu_executor.cc:975] successful NUMA node read from SysFS had negative value (-1), but there must be at least one NUMA node, so returning NUMA node zero\n",
      "2022-08-16 16:17:46.701445: I tensorflow/stream_executor/cuda/cuda_gpu_executor.cc:975] successful NUMA node read from SysFS had negative value (-1), but there must be at least one NUMA node, so returning NUMA node zero\n",
      "2022-08-16 16:17:46.701506: I tensorflow/stream_executor/cuda/cuda_gpu_executor.cc:975] successful NUMA node read from SysFS had negative value (-1), but there must be at least one NUMA node, so returning NUMA node zero\n",
      "2022-08-16 16:17:47.239616: I tensorflow/stream_executor/cuda/cuda_gpu_executor.cc:975] successful NUMA node read from SysFS had negative value (-1), but there must be at least one NUMA node, so returning NUMA node zero\n",
      "2022-08-16 16:17:47.239777: I tensorflow/stream_executor/cuda/cuda_gpu_executor.cc:975] successful NUMA node read from SysFS had negative value (-1), but there must be at least one NUMA node, so returning NUMA node zero\n",
      "2022-08-16 16:17:47.239869: I tensorflow/stream_executor/cuda/cuda_gpu_executor.cc:975] successful NUMA node read from SysFS had negative value (-1), but there must be at least one NUMA node, so returning NUMA node zero\n",
      "2022-08-16 16:17:47.239951: I tensorflow/core/common_runtime/gpu/gpu_device.cc:1532] Created device /job:localhost/replica:0/task:0/device:GPU:0 with 10091 MB memory:  -> device: 0, name: NVIDIA GeForce RTX 3080 Ti, pci bus id: 0000:04:00.0, compute capability: 8.6\n"
     ]
    },
    {
     "name": "stdout",
     "output_type": "stream",
     "text": [
      "MultiClassEstimator(batch_norm=False, batch_size=2, conv1_kernel_size=5,\n",
      "                    dense_avf='relu', dense_layers=[128], dropout=0.0,\n",
      "                    epochs=30, gpuid='1', last_avf='softmax',\n",
      "                    loss='categorical_crossentropy', lr=0.0001, metric='ACC',\n",
      "                    monitor='val_loss', n_inception=2,\n",
      "                    name='AggMap MultiClass Estimator', patience=10000,\n",
      "                    random_state=32, verbose=0)\n"
     ]
    },
    {
     "name": "stderr",
     "output_type": "stream",
     "text": [
      "2022-08-16 16:17:48.626466: I tensorflow/stream_executor/cuda/cuda_dnn.cc:384] Loaded cuDNN version 8302\n",
      "2022-08-16 16:17:49.866404: I tensorflow/core/platform/default/subprocess.cc:304] Start cannot spawn child process: No such file or directory\n",
      "2022-08-16 16:17:49.932667: I tensorflow/stream_executor/cuda/cuda_blas.cc:1786] TensorFloat-32 will be used for the matrix multiplication. This will only be logged once.\n",
      "\n",
      "100%|###############################################################################| 109/109 [00:00<00:00, 1122.34it/s]\u001b[A\n",
      "\n",
      "100%|###############################################################################| 128/128 [00:00<00:00, 2104.78it/s]\u001b[A\n",
      "\n",
      "100%|###############################################################################| 120/120 [00:00<00:00, 2185.20it/s]\u001b[A\n",
      "\n",
      "100%|###############################################################################| 114/114 [00:00<00:00, 2501.06it/s]\u001b[A\n",
      "\n",
      "100%|###############################################################################| 104/104 [00:00<00:00, 1525.62it/s]\u001b[A\n"
     ]
    },
    {
     "name": "stdout",
     "output_type": "stream",
     "text": [
      "50 3.5\n",
      "2022-08-16 16:18:14,535 - \u001b[32mINFO\u001b[0m - [bidd-aggmap]\u001b[0m - Calculating distance ...\u001b[0m\n"
     ]
    },
    {
     "name": "stderr",
     "output_type": "stream",
     "text": [
      "\n",
      "  0%|                                                                                           | 0/849 [00:00<?, ?it/s]\u001b[A\n",
      "100%|###############################################################################| 849/849 [00:00<00:00, 5645.76it/s]\u001b[A"
     ]
    },
    {
     "name": "stdout",
     "output_type": "stream",
     "text": [
      "2022-08-16 16:18:14,702 - \u001b[32mINFO\u001b[0m - [bidd-aggmap]\u001b[0m - applying hierarchical clustering to obtain group information ...\u001b[0m\n"
     ]
    },
    {
     "name": "stderr",
     "output_type": "stream",
     "text": [
      "\n"
     ]
    },
    {
     "name": "stdout",
     "output_type": "stream",
     "text": [
      "2022-08-16 16:18:14,790 - \u001b[32mINFO\u001b[0m - [bidd-aggmap]\u001b[0m - Applying grid assignment of feature points, this may take several minutes(1~30 min)\u001b[0m\n",
      "2022-08-16 16:18:15,191 - \u001b[32mINFO\u001b[0m - [bidd-aggmap]\u001b[0m - Finished\u001b[0m\n"
     ]
    },
    {
     "name": "stderr",
     "output_type": "stream",
     "text": [
      "\n",
      "100%|###############################################################################| 109/109 [00:00<00:00, 2336.30it/s]\u001b[A"
     ]
    },
    {
     "name": "stdout",
     "output_type": "stream",
     "text": [
      "MultiClassEstimator(batch_norm=False, batch_size=2, conv1_kernel_size=5,\n",
      "                    dense_avf='relu', dense_layers=[128], dropout=0.0,\n",
      "                    epochs=30, gpuid='1', last_avf='softmax',\n",
      "                    loss='categorical_crossentropy', lr=0.0001, metric='ACC',\n",
      "                    monitor='val_loss', n_inception=2,\n",
      "                    name='AggMap MultiClass Estimator', patience=10000,\n",
      "                    random_state=32, verbose=0)\n"
     ]
    },
    {
     "name": "stderr",
     "output_type": "stream",
     "text": [
      "\n",
      "\n",
      "100%|###############################################################################| 109/109 [00:00<00:00, 1921.47it/s]\u001b[A\n",
      "\n",
      "100%|###############################################################################| 128/128 [00:00<00:00, 2066.50it/s]\u001b[A\n",
      "\n",
      "100%|###############################################################################| 120/120 [00:00<00:00, 2200.03it/s]\u001b[A\n",
      "\n",
      "100%|###############################################################################| 114/114 [00:00<00:00, 2123.74it/s]\u001b[A\n",
      "\n",
      "100%|###############################################################################| 104/104 [00:00<00:00, 2275.28it/s]\u001b[A\n"
     ]
    },
    {
     "name": "stdout",
     "output_type": "stream",
     "text": [
      "50 4.5\n",
      "2022-08-16 16:18:33,807 - \u001b[32mINFO\u001b[0m - [bidd-aggmap]\u001b[0m - Calculating distance ...\u001b[0m\n"
     ]
    },
    {
     "name": "stderr",
     "output_type": "stream",
     "text": [
      "\n",
      "  0%|                                                                                           | 0/849 [00:00<?, ?it/s]\u001b[A\n",
      "100%|###############################################################################| 849/849 [00:00<00:00, 5491.06it/s]\u001b[A"
     ]
    },
    {
     "name": "stdout",
     "output_type": "stream",
     "text": [
      "2022-08-16 16:18:33,978 - \u001b[32mINFO\u001b[0m - [bidd-aggmap]\u001b[0m - applying hierarchical clustering to obtain group information ...\u001b[0m\n"
     ]
    },
    {
     "name": "stderr",
     "output_type": "stream",
     "text": [
      "\n"
     ]
    },
    {
     "name": "stdout",
     "output_type": "stream",
     "text": [
      "2022-08-16 16:18:34,110 - \u001b[32mINFO\u001b[0m - [bidd-aggmap]\u001b[0m - Applying grid assignment of feature points, this may take several minutes(1~30 min)\u001b[0m\n",
      "2022-08-16 16:18:34,496 - \u001b[32mINFO\u001b[0m - [bidd-aggmap]\u001b[0m - Finished\u001b[0m\n"
     ]
    },
    {
     "name": "stderr",
     "output_type": "stream",
     "text": [
      "\n",
      "100%|###############################################################################| 109/109 [00:00<00:00, 2441.04it/s]\u001b[A"
     ]
    },
    {
     "name": "stdout",
     "output_type": "stream",
     "text": [
      "MultiClassEstimator(batch_norm=False, batch_size=2, conv1_kernel_size=5,\n",
      "                    dense_avf='relu', dense_layers=[128], dropout=0.0,\n",
      "                    epochs=30, gpuid='1', last_avf='softmax',\n",
      "                    loss='categorical_crossentropy', lr=0.0001, metric='ACC',\n",
      "                    monitor='val_loss', n_inception=2,\n",
      "                    name='AggMap MultiClass Estimator', patience=10000,\n",
      "                    random_state=32, verbose=0)\n"
     ]
    },
    {
     "name": "stderr",
     "output_type": "stream",
     "text": [
      "\n",
      "\n",
      "100%|###############################################################################| 109/109 [00:00<00:00, 1938.52it/s]\u001b[A\n",
      "\n",
      "100%|###############################################################################| 128/128 [00:00<00:00, 2006.18it/s]\u001b[A\n",
      "\n",
      "100%|###############################################################################| 120/120 [00:00<00:00, 1988.88it/s]\u001b[A\n",
      "\n",
      "100%|###############################################################################| 114/114 [00:00<00:00, 2496.60it/s]\u001b[A\n",
      "\n",
      "100%|###############################################################################| 104/104 [00:00<00:00, 2148.68it/s]\u001b[A\n"
     ]
    },
    {
     "name": "stdout",
     "output_type": "stream",
     "text": [
      "50 5.5\n",
      "2022-08-16 16:18:44,645 - \u001b[32mINFO\u001b[0m - [bidd-aggmap]\u001b[0m - Calculating distance ...\u001b[0m\n"
     ]
    },
    {
     "name": "stderr",
     "output_type": "stream",
     "text": [
      "\n",
      "  0%|                                                                                           | 0/849 [00:00<?, ?it/s]\u001b[A\n",
      "100%|###############################################################################| 849/849 [00:00<00:00, 5417.07it/s]\u001b[A"
     ]
    },
    {
     "name": "stdout",
     "output_type": "stream",
     "text": [
      "2022-08-16 16:18:44,818 - \u001b[32mINFO\u001b[0m - [bidd-aggmap]\u001b[0m - applying hierarchical clustering to obtain group information ...\u001b[0m\n"
     ]
    },
    {
     "name": "stderr",
     "output_type": "stream",
     "text": [
      "\n"
     ]
    },
    {
     "name": "stdout",
     "output_type": "stream",
     "text": [
      "2022-08-16 16:18:44,903 - \u001b[32mINFO\u001b[0m - [bidd-aggmap]\u001b[0m - Applying grid assignment of feature points, this may take several minutes(1~30 min)\u001b[0m\n",
      "2022-08-16 16:18:45,197 - \u001b[32mINFO\u001b[0m - [bidd-aggmap]\u001b[0m - Finished\u001b[0m\n"
     ]
    },
    {
     "name": "stderr",
     "output_type": "stream",
     "text": [
      "\n",
      "100%|###############################################################################| 109/109 [00:00<00:00, 2499.03it/s]\u001b[A"
     ]
    },
    {
     "name": "stdout",
     "output_type": "stream",
     "text": [
      "MultiClassEstimator(batch_norm=False, batch_size=2, conv1_kernel_size=5,\n",
      "                    dense_avf='relu', dense_layers=[128], dropout=0.0,\n",
      "                    epochs=30, gpuid='1', last_avf='softmax',\n",
      "                    loss='categorical_crossentropy', lr=0.0001, metric='ACC',\n",
      "                    monitor='val_loss', n_inception=2,\n",
      "                    name='AggMap MultiClass Estimator', patience=10000,\n",
      "                    random_state=32, verbose=0)\n"
     ]
    },
    {
     "name": "stderr",
     "output_type": "stream",
     "text": [
      "\n",
      "\n",
      "100%|###############################################################################| 109/109 [00:00<00:00, 1315.99it/s]\u001b[A\n",
      "\n",
      "100%|###############################################################################| 128/128 [00:00<00:00, 2558.00it/s]\u001b[A\n",
      "\n",
      "100%|###############################################################################| 120/120 [00:00<00:00, 2222.54it/s]\u001b[A\n",
      "\n",
      "100%|###############################################################################| 114/114 [00:00<00:00, 2679.11it/s]\u001b[A\n",
      "\n",
      "100%|###############################################################################| 104/104 [00:00<00:00, 2439.27it/s]\u001b[A\n"
     ]
    },
    {
     "name": "stdout",
     "output_type": "stream",
     "text": [
      "50 6.5\n",
      "2022-08-16 16:18:55,312 - \u001b[32mINFO\u001b[0m - [bidd-aggmap]\u001b[0m - Calculating distance ...\u001b[0m\n"
     ]
    },
    {
     "name": "stderr",
     "output_type": "stream",
     "text": [
      "\n",
      "  0%|                                                                                           | 0/849 [00:00<?, ?it/s]\u001b[A\n",
      "100%|###############################################################################| 849/849 [00:00<00:00, 5401.67it/s]\u001b[A"
     ]
    },
    {
     "name": "stdout",
     "output_type": "stream",
     "text": [
      "2022-08-16 16:18:55,485 - \u001b[32mINFO\u001b[0m - [bidd-aggmap]\u001b[0m - applying hierarchical clustering to obtain group information ...\u001b[0m\n"
     ]
    },
    {
     "name": "stderr",
     "output_type": "stream",
     "text": [
      "\n"
     ]
    },
    {
     "name": "stdout",
     "output_type": "stream",
     "text": [
      "2022-08-16 16:18:55,560 - \u001b[32mINFO\u001b[0m - [bidd-aggmap]\u001b[0m - Applying grid assignment of feature points, this may take several minutes(1~30 min)\u001b[0m\n",
      "2022-08-16 16:18:55,822 - \u001b[32mINFO\u001b[0m - [bidd-aggmap]\u001b[0m - Finished\u001b[0m\n"
     ]
    },
    {
     "name": "stderr",
     "output_type": "stream",
     "text": [
      "\n",
      "100%|###############################################################################| 109/109 [00:00<00:00, 2544.38it/s]\u001b[A"
     ]
    },
    {
     "name": "stdout",
     "output_type": "stream",
     "text": [
      "MultiClassEstimator(batch_norm=False, batch_size=2, conv1_kernel_size=5,\n",
      "                    dense_avf='relu', dense_layers=[128], dropout=0.0,\n",
      "                    epochs=30, gpuid='1', last_avf='softmax',\n",
      "                    loss='categorical_crossentropy', lr=0.0001, metric='ACC',\n",
      "                    monitor='val_loss', n_inception=2,\n",
      "                    name='AggMap MultiClass Estimator', patience=10000,\n",
      "                    random_state=32, verbose=0)\n"
     ]
    },
    {
     "name": "stderr",
     "output_type": "stream",
     "text": [
      "\n",
      "\n",
      "100%|###############################################################################| 109/109 [00:00<00:00, 2171.21it/s]\u001b[A\n",
      "\n",
      "100%|###############################################################################| 128/128 [00:00<00:00, 2365.14it/s]\u001b[A\n",
      "\n",
      "100%|###############################################################################| 120/120 [00:00<00:00, 2775.86it/s]\u001b[A\n",
      "\n",
      "100%|###############################################################################| 114/114 [00:00<00:00, 2212.58it/s]\u001b[A\n",
      "\n",
      "100%|###############################################################################| 104/104 [00:00<00:00, 2347.69it/s]\u001b[A\n"
     ]
    },
    {
     "name": "stdout",
     "output_type": "stream",
     "text": [
      "50 7.5\n",
      "2022-08-16 16:19:05,253 - \u001b[32mINFO\u001b[0m - [bidd-aggmap]\u001b[0m - Calculating distance ...\u001b[0m\n"
     ]
    },
    {
     "name": "stderr",
     "output_type": "stream",
     "text": [
      "\n",
      "  0%|                                                                                           | 0/849 [00:00<?, ?it/s]\u001b[A\n",
      "100%|###############################################################################| 849/849 [00:00<00:00, 5518.96it/s]\u001b[A"
     ]
    },
    {
     "name": "stdout",
     "output_type": "stream",
     "text": [
      "2022-08-16 16:19:05,421 - \u001b[32mINFO\u001b[0m - [bidd-aggmap]\u001b[0m - applying hierarchical clustering to obtain group information ...\u001b[0m\n"
     ]
    },
    {
     "name": "stderr",
     "output_type": "stream",
     "text": [
      "\n"
     ]
    },
    {
     "name": "stdout",
     "output_type": "stream",
     "text": [
      "2022-08-16 16:19:05,544 - \u001b[32mINFO\u001b[0m - [bidd-aggmap]\u001b[0m - Applying grid assignment of feature points, this may take several minutes(1~30 min)\u001b[0m\n",
      "2022-08-16 16:19:05,807 - \u001b[32mINFO\u001b[0m - [bidd-aggmap]\u001b[0m - Finished\u001b[0m\n"
     ]
    },
    {
     "name": "stderr",
     "output_type": "stream",
     "text": [
      "\n",
      "100%|###############################################################################| 109/109 [00:00<00:00, 3184.99it/s]\u001b[A"
     ]
    },
    {
     "name": "stdout",
     "output_type": "stream",
     "text": [
      "MultiClassEstimator(batch_norm=False, batch_size=2, conv1_kernel_size=5,\n",
      "                    dense_avf='relu', dense_layers=[128], dropout=0.0,\n",
      "                    epochs=30, gpuid='1', last_avf='softmax',\n",
      "                    loss='categorical_crossentropy', lr=0.0001, metric='ACC',\n",
      "                    monitor='val_loss', n_inception=2,\n",
      "                    name='AggMap MultiClass Estimator', patience=10000,\n",
      "                    random_state=32, verbose=0)\n"
     ]
    },
    {
     "name": "stderr",
     "output_type": "stream",
     "text": [
      "\n",
      "\n",
      "100%|###############################################################################| 109/109 [00:00<00:00, 3133.68it/s]\u001b[A\n",
      "\n",
      "100%|###############################################################################| 128/128 [00:00<00:00, 2966.22it/s]\u001b[A\n",
      "\n",
      "100%|###############################################################################| 120/120 [00:00<00:00, 2891.63it/s]\u001b[A\n",
      "\n",
      "100%|###############################################################################| 114/114 [00:00<00:00, 2549.96it/s]\u001b[A\n",
      "\n",
      "100%|###############################################################################| 104/104 [00:00<00:00, 2428.14it/s]\u001b[A\n",
      " 20%|█████████████████                                                                    | 1/5 [01:33<06:15, 93.88s/it]"
     ]
    },
    {
     "name": "stdout",
     "output_type": "stream",
     "text": [
      "100 2.5\n",
      "2022-08-16 16:19:15,836 - \u001b[32mINFO\u001b[0m - [bidd-aggmap]\u001b[0m - Calculating distance ...\u001b[0m\n"
     ]
    },
    {
     "name": "stderr",
     "output_type": "stream",
     "text": [
      "\n",
      "  0%|                                                                                           | 0/849 [00:00<?, ?it/s]\u001b[A\n",
      "100%|###############################################################################| 849/849 [00:00<00:00, 5488.65it/s]\u001b[A"
     ]
    },
    {
     "name": "stdout",
     "output_type": "stream",
     "text": [
      "2022-08-16 16:19:16,006 - \u001b[32mINFO\u001b[0m - [bidd-aggmap]\u001b[0m - applying hierarchical clustering to obtain group information ...\u001b[0m\n"
     ]
    },
    {
     "name": "stderr",
     "output_type": "stream",
     "text": [
      "\n"
     ]
    },
    {
     "name": "stdout",
     "output_type": "stream",
     "text": [
      "2022-08-16 16:19:16,214 - \u001b[32mINFO\u001b[0m - [bidd-aggmap]\u001b[0m - Applying grid assignment of feature points, this may take several minutes(1~30 min)\u001b[0m\n",
      "2022-08-16 16:19:16,861 - \u001b[32mINFO\u001b[0m - [bidd-aggmap]\u001b[0m - Finished\u001b[0m\n"
     ]
    },
    {
     "name": "stderr",
     "output_type": "stream",
     "text": [
      "\n",
      "100%|###############################################################################| 109/109 [00:00<00:00, 1955.28it/s]\u001b[A"
     ]
    },
    {
     "name": "stdout",
     "output_type": "stream",
     "text": [
      "MultiClassEstimator(batch_norm=False, batch_size=2, conv1_kernel_size=5,\n",
      "                    dense_avf='relu', dense_layers=[128], dropout=0.0,\n",
      "                    epochs=30, gpuid='1', last_avf='softmax',\n",
      "                    loss='categorical_crossentropy', lr=0.0001, metric='ACC',\n",
      "                    monitor='val_loss', n_inception=2,\n",
      "                    name='AggMap MultiClass Estimator', patience=10000,\n",
      "                    random_state=32, verbose=0)\n"
     ]
    },
    {
     "name": "stderr",
     "output_type": "stream",
     "text": [
      "\n",
      "\n",
      "100%|###############################################################################| 109/109 [00:00<00:00, 2026.16it/s]\u001b[A\n",
      "\n",
      "100%|###############################################################################| 128/128 [00:00<00:00, 2364.74it/s]\u001b[A\n",
      "\n",
      "100%|###############################################################################| 120/120 [00:00<00:00, 2264.11it/s]\u001b[A\n",
      "\n",
      "100%|###############################################################################| 114/114 [00:00<00:00, 1660.65it/s]\u001b[A\n",
      "\n",
      "100%|###############################################################################| 104/104 [00:00<00:00, 2242.03it/s]\u001b[A\n"
     ]
    },
    {
     "name": "stdout",
     "output_type": "stream",
     "text": [
      "100 3.5\n",
      "2022-08-16 16:19:28,754 - \u001b[32mINFO\u001b[0m - [bidd-aggmap]\u001b[0m - Calculating distance ...\u001b[0m\n"
     ]
    },
    {
     "name": "stderr",
     "output_type": "stream",
     "text": [
      "\n",
      "  0%|                                                                                           | 0/849 [00:00<?, ?it/s]\u001b[A\n",
      "100%|###############################################################################| 849/849 [00:00<00:00, 5583.26it/s]\u001b[A"
     ]
    },
    {
     "name": "stdout",
     "output_type": "stream",
     "text": [
      "2022-08-16 16:19:28,921 - \u001b[32mINFO\u001b[0m - [bidd-aggmap]\u001b[0m - applying hierarchical clustering to obtain group information ...\u001b[0m\n"
     ]
    },
    {
     "name": "stderr",
     "output_type": "stream",
     "text": [
      "\n"
     ]
    },
    {
     "name": "stdout",
     "output_type": "stream",
     "text": [
      "2022-08-16 16:19:29,065 - \u001b[32mINFO\u001b[0m - [bidd-aggmap]\u001b[0m - Applying grid assignment of feature points, this may take several minutes(1~30 min)\u001b[0m\n",
      "2022-08-16 16:19:29,454 - \u001b[32mINFO\u001b[0m - [bidd-aggmap]\u001b[0m - Finished\u001b[0m\n"
     ]
    },
    {
     "name": "stderr",
     "output_type": "stream",
     "text": [
      "\n",
      "100%|###############################################################################| 109/109 [00:00<00:00, 2399.06it/s]\u001b[A"
     ]
    },
    {
     "name": "stdout",
     "output_type": "stream",
     "text": [
      "MultiClassEstimator(batch_norm=False, batch_size=2, conv1_kernel_size=5,\n",
      "                    dense_avf='relu', dense_layers=[128], dropout=0.0,\n",
      "                    epochs=30, gpuid='1', last_avf='softmax',\n",
      "                    loss='categorical_crossentropy', lr=0.0001, metric='ACC',\n",
      "                    monitor='val_loss', n_inception=2,\n",
      "                    name='AggMap MultiClass Estimator', patience=10000,\n",
      "                    random_state=32, verbose=0)\n"
     ]
    },
    {
     "name": "stderr",
     "output_type": "stream",
     "text": [
      "\n",
      "\n",
      "100%|###############################################################################| 109/109 [00:00<00:00, 2034.17it/s]\u001b[A\n",
      "\n",
      "100%|###############################################################################| 128/128 [00:00<00:00, 1666.35it/s]\u001b[A\n",
      "\n",
      "100%|###############################################################################| 120/120 [00:00<00:00, 2164.11it/s]\u001b[A\n",
      "\n",
      "100%|###############################################################################| 114/114 [00:00<00:00, 2134.14it/s]\u001b[A\n",
      "\n",
      "100%|###############################################################################| 104/104 [00:00<00:00, 2347.35it/s]\u001b[A\n"
     ]
    },
    {
     "name": "stdout",
     "output_type": "stream",
     "text": [
      "100 4.5\n",
      "2022-08-16 16:19:51,762 - \u001b[32mINFO\u001b[0m - [bidd-aggmap]\u001b[0m - Calculating distance ...\u001b[0m\n"
     ]
    },
    {
     "name": "stderr",
     "output_type": "stream",
     "text": [
      "\n",
      "  0%|                                                                                           | 0/849 [00:00<?, ?it/s]\u001b[A\n",
      "100%|###############################################################################| 849/849 [00:00<00:00, 5698.59it/s]\u001b[A"
     ]
    },
    {
     "name": "stdout",
     "output_type": "stream",
     "text": [
      "2022-08-16 16:19:51,926 - \u001b[32mINFO\u001b[0m - [bidd-aggmap]\u001b[0m - applying hierarchical clustering to obtain group information ...\u001b[0m\n"
     ]
    },
    {
     "name": "stderr",
     "output_type": "stream",
     "text": [
      "\n"
     ]
    },
    {
     "name": "stdout",
     "output_type": "stream",
     "text": [
      "2022-08-16 16:19:52,065 - \u001b[32mINFO\u001b[0m - [bidd-aggmap]\u001b[0m - Applying grid assignment of feature points, this may take several minutes(1~30 min)\u001b[0m\n",
      "2022-08-16 16:19:52,560 - \u001b[32mINFO\u001b[0m - [bidd-aggmap]\u001b[0m - Finished\u001b[0m\n"
     ]
    },
    {
     "name": "stderr",
     "output_type": "stream",
     "text": [
      "\n",
      "100%|###############################################################################| 109/109 [00:00<00:00, 1939.67it/s]\u001b[A"
     ]
    },
    {
     "name": "stdout",
     "output_type": "stream",
     "text": [
      "MultiClassEstimator(batch_norm=False, batch_size=2, conv1_kernel_size=5,\n",
      "                    dense_avf='relu', dense_layers=[128], dropout=0.0,\n",
      "                    epochs=30, gpuid='1', last_avf='softmax',\n",
      "                    loss='categorical_crossentropy', lr=0.0001, metric='ACC',\n",
      "                    monitor='val_loss', n_inception=2,\n",
      "                    name='AggMap MultiClass Estimator', patience=10000,\n",
      "                    random_state=32, verbose=0)\n"
     ]
    },
    {
     "name": "stderr",
     "output_type": "stream",
     "text": [
      "\n",
      "\n",
      "100%|###############################################################################| 109/109 [00:00<00:00, 2452.55it/s]\u001b[A\n",
      "\n",
      "100%|###############################################################################| 128/128 [00:00<00:00, 2186.97it/s]\u001b[A\n",
      "\n",
      "100%|###############################################################################| 120/120 [00:00<00:00, 2342.65it/s]\u001b[A\n",
      "\n",
      "100%|###############################################################################| 114/114 [00:00<00:00, 2168.82it/s]\u001b[A\n",
      "\n",
      "100%|###############################################################################| 104/104 [00:00<00:00, 2345.14it/s]\u001b[A\n"
     ]
    },
    {
     "name": "stdout",
     "output_type": "stream",
     "text": [
      "100 5.5\n",
      "2022-08-16 16:20:15,223 - \u001b[32mINFO\u001b[0m - [bidd-aggmap]\u001b[0m - Calculating distance ...\u001b[0m\n"
     ]
    },
    {
     "name": "stderr",
     "output_type": "stream",
     "text": [
      "\n",
      "  0%|                                                                                           | 0/849 [00:00<?, ?it/s]\u001b[A\n",
      "100%|###############################################################################| 849/849 [00:00<00:00, 5673.12it/s]\u001b[A"
     ]
    },
    {
     "name": "stdout",
     "output_type": "stream",
     "text": [
      "2022-08-16 16:20:15,387 - \u001b[32mINFO\u001b[0m - [bidd-aggmap]\u001b[0m - applying hierarchical clustering to obtain group information ...\u001b[0m\n"
     ]
    },
    {
     "name": "stderr",
     "output_type": "stream",
     "text": [
      "\n"
     ]
    },
    {
     "name": "stdout",
     "output_type": "stream",
     "text": [
      "2022-08-16 16:20:15,516 - \u001b[32mINFO\u001b[0m - [bidd-aggmap]\u001b[0m - Applying grid assignment of feature points, this may take several minutes(1~30 min)\u001b[0m\n",
      "2022-08-16 16:20:16,000 - \u001b[32mINFO\u001b[0m - [bidd-aggmap]\u001b[0m - Finished\u001b[0m\n"
     ]
    },
    {
     "name": "stderr",
     "output_type": "stream",
     "text": [
      "\n",
      "100%|###############################################################################| 109/109 [00:00<00:00, 2001.24it/s]\u001b[A"
     ]
    },
    {
     "name": "stdout",
     "output_type": "stream",
     "text": [
      "MultiClassEstimator(batch_norm=False, batch_size=2, conv1_kernel_size=5,\n",
      "                    dense_avf='relu', dense_layers=[128], dropout=0.0,\n",
      "                    epochs=30, gpuid='1', last_avf='softmax',\n",
      "                    loss='categorical_crossentropy', lr=0.0001, metric='ACC',\n",
      "                    monitor='val_loss', n_inception=2,\n",
      "                    name='AggMap MultiClass Estimator', patience=10000,\n",
      "                    random_state=32, verbose=0)\n"
     ]
    },
    {
     "name": "stderr",
     "output_type": "stream",
     "text": [
      "\n",
      "\n",
      "100%|###############################################################################| 109/109 [00:00<00:00, 2607.01it/s]\u001b[A\n",
      "\n",
      "100%|###############################################################################| 128/128 [00:00<00:00, 2553.78it/s]\u001b[A\n",
      "\n",
      "100%|###############################################################################| 120/120 [00:00<00:00, 2310.26it/s]\u001b[A\n",
      "\n",
      "100%|###############################################################################| 114/114 [00:00<00:00, 1871.25it/s]\u001b[A\n",
      "\n",
      "100%|###############################################################################| 104/104 [00:00<00:00, 1623.20it/s]\u001b[A\n"
     ]
    },
    {
     "name": "stdout",
     "output_type": "stream",
     "text": [
      "100 6.5\n",
      "2022-08-16 16:20:38,510 - \u001b[32mINFO\u001b[0m - [bidd-aggmap]\u001b[0m - Calculating distance ...\u001b[0m\n"
     ]
    },
    {
     "name": "stderr",
     "output_type": "stream",
     "text": [
      "\n",
      "  0%|                                                                                           | 0/849 [00:00<?, ?it/s]\u001b[A\n",
      "100%|###############################################################################| 849/849 [00:00<00:00, 5674.92it/s]\u001b[A"
     ]
    },
    {
     "name": "stdout",
     "output_type": "stream",
     "text": [
      "2022-08-16 16:20:38,674 - \u001b[32mINFO\u001b[0m - [bidd-aggmap]\u001b[0m - applying hierarchical clustering to obtain group information ...\u001b[0m\n"
     ]
    },
    {
     "name": "stderr",
     "output_type": "stream",
     "text": [
      "\n"
     ]
    },
    {
     "name": "stdout",
     "output_type": "stream",
     "text": [
      "2022-08-16 16:20:38,795 - \u001b[32mINFO\u001b[0m - [bidd-aggmap]\u001b[0m - Applying grid assignment of feature points, this may take several minutes(1~30 min)\u001b[0m\n",
      "2022-08-16 16:20:39,098 - \u001b[32mINFO\u001b[0m - [bidd-aggmap]\u001b[0m - Finished\u001b[0m\n"
     ]
    },
    {
     "name": "stderr",
     "output_type": "stream",
     "text": [
      "\n",
      "100%|###############################################################################| 109/109 [00:00<00:00, 3000.89it/s]\u001b[A"
     ]
    },
    {
     "name": "stdout",
     "output_type": "stream",
     "text": [
      "MultiClassEstimator(batch_norm=False, batch_size=2, conv1_kernel_size=5,\n",
      "                    dense_avf='relu', dense_layers=[128], dropout=0.0,\n",
      "                    epochs=30, gpuid='1', last_avf='softmax',\n",
      "                    loss='categorical_crossentropy', lr=0.0001, metric='ACC',\n",
      "                    monitor='val_loss', n_inception=2,\n",
      "                    name='AggMap MultiClass Estimator', patience=10000,\n",
      "                    random_state=32, verbose=0)\n"
     ]
    },
    {
     "name": "stderr",
     "output_type": "stream",
     "text": [
      "\n",
      "\n",
      "100%|###############################################################################| 109/109 [00:00<00:00, 2581.82it/s]\u001b[A\n",
      "\n",
      "100%|###############################################################################| 128/128 [00:00<00:00, 1391.17it/s]\u001b[A\n",
      "\n",
      "100%|###############################################################################| 120/120 [00:00<00:00, 2403.52it/s]\u001b[A\n",
      "\n",
      "100%|###############################################################################| 114/114 [00:00<00:00, 2245.73it/s]\u001b[A\n",
      "\n",
      "100%|###############################################################################| 104/104 [00:00<00:00, 2410.69it/s]\u001b[A\n"
     ]
    },
    {
     "name": "stdout",
     "output_type": "stream",
     "text": [
      "100 7.5\n",
      "2022-08-16 16:21:00,444 - \u001b[32mINFO\u001b[0m - [bidd-aggmap]\u001b[0m - Calculating distance ...\u001b[0m\n"
     ]
    },
    {
     "name": "stderr",
     "output_type": "stream",
     "text": [
      "\n",
      "  0%|                                                                                           | 0/849 [00:00<?, ?it/s]\u001b[A\n",
      "100%|###############################################################################| 849/849 [00:00<00:00, 5677.31it/s]\u001b[A"
     ]
    },
    {
     "name": "stdout",
     "output_type": "stream",
     "text": [
      "2022-08-16 16:21:00,608 - \u001b[32mINFO\u001b[0m - [bidd-aggmap]\u001b[0m - applying hierarchical clustering to obtain group information ...\u001b[0m\n"
     ]
    },
    {
     "name": "stderr",
     "output_type": "stream",
     "text": [
      "\n"
     ]
    },
    {
     "name": "stdout",
     "output_type": "stream",
     "text": [
      "2022-08-16 16:21:00,727 - \u001b[32mINFO\u001b[0m - [bidd-aggmap]\u001b[0m - Applying grid assignment of feature points, this may take several minutes(1~30 min)\u001b[0m\n",
      "2022-08-16 16:21:00,998 - \u001b[32mINFO\u001b[0m - [bidd-aggmap]\u001b[0m - Finished\u001b[0m\n"
     ]
    },
    {
     "name": "stderr",
     "output_type": "stream",
     "text": [
      "\n",
      "100%|###############################################################################| 109/109 [00:00<00:00, 1928.96it/s]\u001b[A"
     ]
    },
    {
     "name": "stdout",
     "output_type": "stream",
     "text": [
      "MultiClassEstimator(batch_norm=False, batch_size=2, conv1_kernel_size=5,\n",
      "                    dense_avf='relu', dense_layers=[128], dropout=0.0,\n",
      "                    epochs=30, gpuid='1', last_avf='softmax',\n",
      "                    loss='categorical_crossentropy', lr=0.0001, metric='ACC',\n",
      "                    monitor='val_loss', n_inception=2,\n",
      "                    name='AggMap MultiClass Estimator', patience=10000,\n",
      "                    random_state=32, verbose=0)\n"
     ]
    },
    {
     "name": "stderr",
     "output_type": "stream",
     "text": [
      "\n",
      "\n",
      "100%|###############################################################################| 109/109 [00:00<00:00, 2156.67it/s]\u001b[A\n",
      "\n",
      "100%|###############################################################################| 128/128 [00:00<00:00, 2110.67it/s]\u001b[A\n",
      "\n",
      "100%|###############################################################################| 120/120 [00:00<00:00, 2300.89it/s]\u001b[A\n",
      "\n",
      "100%|###############################################################################| 114/114 [00:00<00:00, 2147.24it/s]\u001b[A\n",
      "\n",
      "100%|###############################################################################| 104/104 [00:00<00:00, 1892.25it/s]\u001b[A\n",
      " 40%|█████████████████████████████████▌                                                  | 2/5 [03:43<05:44, 114.77s/it]"
     ]
    },
    {
     "name": "stdout",
     "output_type": "stream",
     "text": [
      "200 2.5\n",
      "2022-08-16 16:21:25,250 - \u001b[32mINFO\u001b[0m - [bidd-aggmap]\u001b[0m - Calculating distance ...\u001b[0m\n"
     ]
    },
    {
     "name": "stderr",
     "output_type": "stream",
     "text": [
      "\n",
      "  0%|                                                                                           | 0/849 [00:00<?, ?it/s]\u001b[A\n",
      "100%|###############################################################################| 849/849 [00:00<00:00, 5527.13it/s]\u001b[A"
     ]
    },
    {
     "name": "stdout",
     "output_type": "stream",
     "text": [
      "2022-08-16 16:21:25,419 - \u001b[32mINFO\u001b[0m - [bidd-aggmap]\u001b[0m - applying hierarchical clustering to obtain group information ...\u001b[0m\n"
     ]
    },
    {
     "name": "stderr",
     "output_type": "stream",
     "text": [
      "\n"
     ]
    },
    {
     "name": "stdout",
     "output_type": "stream",
     "text": [
      "2022-08-16 16:21:25,668 - \u001b[32mINFO\u001b[0m - [bidd-aggmap]\u001b[0m - Applying grid assignment of feature points, this may take several minutes(1~30 min)\u001b[0m\n",
      "2022-08-16 16:21:26,504 - \u001b[32mINFO\u001b[0m - [bidd-aggmap]\u001b[0m - Finished\u001b[0m\n"
     ]
    },
    {
     "name": "stderr",
     "output_type": "stream",
     "text": [
      "\n",
      "100%|###############################################################################| 109/109 [00:00<00:00, 2363.60it/s]\u001b[A"
     ]
    },
    {
     "name": "stdout",
     "output_type": "stream",
     "text": [
      "MultiClassEstimator(batch_norm=False, batch_size=2, conv1_kernel_size=5,\n",
      "                    dense_avf='relu', dense_layers=[128], dropout=0.0,\n",
      "                    epochs=30, gpuid='1', last_avf='softmax',\n",
      "                    loss='categorical_crossentropy', lr=0.0001, metric='ACC',\n",
      "                    monitor='val_loss', n_inception=2,\n",
      "                    name='AggMap MultiClass Estimator', patience=10000,\n",
      "                    random_state=32, verbose=0)\n"
     ]
    },
    {
     "name": "stderr",
     "output_type": "stream",
     "text": [
      "\n",
      "\n",
      "100%|###############################################################################| 109/109 [00:00<00:00, 2010.27it/s]\u001b[A\n",
      "\n",
      "100%|###############################################################################| 128/128 [00:00<00:00, 2483.57it/s]\u001b[A\n",
      "\n",
      "  0%|                                                                                           | 0/120 [00:00<?, ?it/s]\u001b[A\n",
      "100%|################################################################################| 120/120 [00:00<00:00, 979.00it/s]\u001b[A\n",
      "\n",
      "100%|###############################################################################| 114/114 [00:00<00:00, 1998.13it/s]\u001b[A\n",
      "\n",
      "100%|###############################################################################| 104/104 [00:00<00:00, 1823.54it/s]\u001b[A\n"
     ]
    },
    {
     "name": "stdout",
     "output_type": "stream",
     "text": [
      "200 3.5\n",
      "2022-08-16 16:21:49,861 - \u001b[32mINFO\u001b[0m - [bidd-aggmap]\u001b[0m - Calculating distance ...\u001b[0m\n"
     ]
    },
    {
     "name": "stderr",
     "output_type": "stream",
     "text": [
      "\n",
      "  0%|                                                                                           | 0/849 [00:00<?, ?it/s]\u001b[A\n",
      "100%|###############################################################################| 849/849 [00:00<00:00, 5663.88it/s]\u001b[A"
     ]
    },
    {
     "name": "stdout",
     "output_type": "stream",
     "text": [
      "2022-08-16 16:21:50,026 - \u001b[32mINFO\u001b[0m - [bidd-aggmap]\u001b[0m - applying hierarchical clustering to obtain group information ...\u001b[0m\n"
     ]
    },
    {
     "name": "stderr",
     "output_type": "stream",
     "text": [
      "\n"
     ]
    },
    {
     "name": "stdout",
     "output_type": "stream",
     "text": [
      "2022-08-16 16:21:50,261 - \u001b[32mINFO\u001b[0m - [bidd-aggmap]\u001b[0m - Applying grid assignment of feature points, this may take several minutes(1~30 min)\u001b[0m\n",
      "2022-08-16 16:21:50,927 - \u001b[32mINFO\u001b[0m - [bidd-aggmap]\u001b[0m - Finished\u001b[0m\n"
     ]
    },
    {
     "name": "stderr",
     "output_type": "stream",
     "text": [
      "\n",
      "100%|###############################################################################| 109/109 [00:00<00:00, 2382.27it/s]\u001b[A"
     ]
    },
    {
     "name": "stdout",
     "output_type": "stream",
     "text": [
      "MultiClassEstimator(batch_norm=False, batch_size=2, conv1_kernel_size=5,\n",
      "                    dense_avf='relu', dense_layers=[128], dropout=0.0,\n",
      "                    epochs=30, gpuid='1', last_avf='softmax',\n",
      "                    loss='categorical_crossentropy', lr=0.0001, metric='ACC',\n",
      "                    monitor='val_loss', n_inception=2,\n",
      "                    name='AggMap MultiClass Estimator', patience=10000,\n",
      "                    random_state=32, verbose=0)\n"
     ]
    },
    {
     "name": "stderr",
     "output_type": "stream",
     "text": [
      "\n",
      "\n",
      "100%|###############################################################################| 109/109 [00:00<00:00, 1646.45it/s]\u001b[A\n",
      "\n",
      "100%|###############################################################################| 128/128 [00:00<00:00, 1774.83it/s]\u001b[A\n",
      "\n",
      "100%|###############################################################################| 120/120 [00:00<00:00, 2685.00it/s]\u001b[A\n",
      "\n",
      "100%|###############################################################################| 114/114 [00:00<00:00, 2074.23it/s]\u001b[A\n",
      "\n",
      "100%|###############################################################################| 104/104 [00:00<00:00, 1481.43it/s]\u001b[A\n"
     ]
    },
    {
     "name": "stdout",
     "output_type": "stream",
     "text": [
      "200 4.5\n",
      "2022-08-16 16:22:13,073 - \u001b[32mINFO\u001b[0m - [bidd-aggmap]\u001b[0m - Calculating distance ...\u001b[0m\n"
     ]
    },
    {
     "name": "stderr",
     "output_type": "stream",
     "text": [
      "\n",
      "  0%|                                                                                           | 0/849 [00:00<?, ?it/s]\u001b[A\n",
      "100%|###############################################################################| 849/849 [00:00<00:00, 5674.40it/s]\u001b[A"
     ]
    },
    {
     "name": "stdout",
     "output_type": "stream",
     "text": [
      "2022-08-16 16:22:13,237 - \u001b[32mINFO\u001b[0m - [bidd-aggmap]\u001b[0m - applying hierarchical clustering to obtain group information ...\u001b[0m\n"
     ]
    },
    {
     "name": "stderr",
     "output_type": "stream",
     "text": [
      "\n"
     ]
    },
    {
     "name": "stdout",
     "output_type": "stream",
     "text": [
      "2022-08-16 16:22:13,463 - \u001b[32mINFO\u001b[0m - [bidd-aggmap]\u001b[0m - Applying grid assignment of feature points, this may take several minutes(1~30 min)\u001b[0m\n",
      "2022-08-16 16:22:13,897 - \u001b[32mINFO\u001b[0m - [bidd-aggmap]\u001b[0m - Finished\u001b[0m\n"
     ]
    },
    {
     "name": "stderr",
     "output_type": "stream",
     "text": [
      "\n",
      "100%|###############################################################################| 109/109 [00:00<00:00, 2327.50it/s]\u001b[A"
     ]
    },
    {
     "name": "stdout",
     "output_type": "stream",
     "text": [
      "MultiClassEstimator(batch_norm=False, batch_size=2, conv1_kernel_size=5,\n",
      "                    dense_avf='relu', dense_layers=[128], dropout=0.0,\n",
      "                    epochs=30, gpuid='1', last_avf='softmax',\n",
      "                    loss='categorical_crossentropy', lr=0.0001, metric='ACC',\n",
      "                    monitor='val_loss', n_inception=2,\n",
      "                    name='AggMap MultiClass Estimator', patience=10000,\n",
      "                    random_state=32, verbose=0)\n"
     ]
    },
    {
     "name": "stderr",
     "output_type": "stream",
     "text": [
      "\n",
      "\n",
      "100%|###############################################################################| 109/109 [00:00<00:00, 2558.10it/s]\u001b[A\n",
      "\n",
      "100%|###############################################################################| 128/128 [00:00<00:00, 2408.95it/s]\u001b[A\n",
      "\n",
      "100%|###############################################################################| 120/120 [00:00<00:00, 1257.43it/s]\u001b[A\n",
      "\n",
      "100%|###############################################################################| 114/114 [00:00<00:00, 2165.35it/s]\u001b[A\n",
      "\n",
      "100%|###############################################################################| 104/104 [00:00<00:00, 1777.61it/s]\u001b[A\n"
     ]
    },
    {
     "name": "stdout",
     "output_type": "stream",
     "text": [
      "200 5.5\n",
      "2022-08-16 16:22:35,438 - \u001b[32mINFO\u001b[0m - [bidd-aggmap]\u001b[0m - Calculating distance ...\u001b[0m\n"
     ]
    },
    {
     "name": "stderr",
     "output_type": "stream",
     "text": [
      "\n",
      "  0%|                                                                                           | 0/849 [00:00<?, ?it/s]\u001b[A\n",
      "100%|###############################################################################| 849/849 [00:00<00:00, 5685.59it/s]\u001b[A"
     ]
    },
    {
     "name": "stdout",
     "output_type": "stream",
     "text": [
      "2022-08-16 16:22:35,602 - \u001b[32mINFO\u001b[0m - [bidd-aggmap]\u001b[0m - applying hierarchical clustering to obtain group information ...\u001b[0m\n"
     ]
    },
    {
     "name": "stderr",
     "output_type": "stream",
     "text": [
      "\n"
     ]
    },
    {
     "name": "stdout",
     "output_type": "stream",
     "text": [
      "2022-08-16 16:22:35,815 - \u001b[32mINFO\u001b[0m - [bidd-aggmap]\u001b[0m - Applying grid assignment of feature points, this may take several minutes(1~30 min)\u001b[0m\n",
      "2022-08-16 16:22:36,302 - \u001b[32mINFO\u001b[0m - [bidd-aggmap]\u001b[0m - Finished\u001b[0m\n"
     ]
    },
    {
     "name": "stderr",
     "output_type": "stream",
     "text": [
      "\n",
      "100%|###############################################################################| 109/109 [00:00<00:00, 2552.11it/s]\u001b[A"
     ]
    },
    {
     "name": "stdout",
     "output_type": "stream",
     "text": [
      "MultiClassEstimator(batch_norm=False, batch_size=2, conv1_kernel_size=5,\n",
      "                    dense_avf='relu', dense_layers=[128], dropout=0.0,\n",
      "                    epochs=30, gpuid='1', last_avf='softmax',\n",
      "                    loss='categorical_crossentropy', lr=0.0001, metric='ACC',\n",
      "                    monitor='val_loss', n_inception=2,\n",
      "                    name='AggMap MultiClass Estimator', patience=10000,\n",
      "                    random_state=32, verbose=0)\n"
     ]
    },
    {
     "name": "stderr",
     "output_type": "stream",
     "text": [
      "\n",
      "\n",
      "100%|###############################################################################| 109/109 [00:00<00:00, 2651.04it/s]\u001b[A\n",
      "\n",
      "100%|###############################################################################| 128/128 [00:00<00:00, 1790.11it/s]\u001b[A\n",
      "\n",
      "100%|###############################################################################| 120/120 [00:00<00:00, 2207.01it/s]\u001b[A\n",
      "\n",
      "100%|###############################################################################| 114/114 [00:00<00:00, 2089.84it/s]\u001b[A\n",
      "\n",
      "100%|###############################################################################| 104/104 [00:00<00:00, 2119.67it/s]\u001b[A\n"
     ]
    },
    {
     "name": "stdout",
     "output_type": "stream",
     "text": [
      "200 6.5\n",
      "2022-08-16 16:22:54,649 - \u001b[32mINFO\u001b[0m - [bidd-aggmap]\u001b[0m - Calculating distance ...\u001b[0m\n"
     ]
    },
    {
     "name": "stderr",
     "output_type": "stream",
     "text": [
      "\n",
      "  0%|                                                                                           | 0/849 [00:00<?, ?it/s]\u001b[A\n",
      "100%|###############################################################################| 849/849 [00:00<00:00, 5090.52it/s]\u001b[A"
     ]
    },
    {
     "name": "stdout",
     "output_type": "stream",
     "text": [
      "2022-08-16 16:22:54,831 - \u001b[32mINFO\u001b[0m - [bidd-aggmap]\u001b[0m - applying hierarchical clustering to obtain group information ...\u001b[0m\n"
     ]
    },
    {
     "name": "stderr",
     "output_type": "stream",
     "text": [
      "\n"
     ]
    },
    {
     "name": "stdout",
     "output_type": "stream",
     "text": [
      "2022-08-16 16:22:55,039 - \u001b[32mINFO\u001b[0m - [bidd-aggmap]\u001b[0m - Applying grid assignment of feature points, this may take several minutes(1~30 min)\u001b[0m\n",
      "2022-08-16 16:22:55,423 - \u001b[32mINFO\u001b[0m - [bidd-aggmap]\u001b[0m - Finished\u001b[0m\n"
     ]
    },
    {
     "name": "stderr",
     "output_type": "stream",
     "text": [
      "\n",
      "100%|###############################################################################| 109/109 [00:00<00:00, 1797.82it/s]\u001b[A"
     ]
    },
    {
     "name": "stdout",
     "output_type": "stream",
     "text": [
      "MultiClassEstimator(batch_norm=False, batch_size=2, conv1_kernel_size=5,\n",
      "                    dense_avf='relu', dense_layers=[128], dropout=0.0,\n",
      "                    epochs=30, gpuid='1', last_avf='softmax',\n",
      "                    loss='categorical_crossentropy', lr=0.0001, metric='ACC',\n",
      "                    monitor='val_loss', n_inception=2,\n",
      "                    name='AggMap MultiClass Estimator', patience=10000,\n",
      "                    random_state=32, verbose=0)\n"
     ]
    },
    {
     "name": "stderr",
     "output_type": "stream",
     "text": [
      "\n",
      "\n",
      "  0%|                                                                                           | 0/109 [00:00<?, ?it/s]\u001b[A\n",
      "100%|################################################################################| 109/109 [00:00<00:00, 968.47it/s]\u001b[A\n",
      "\n",
      "  0%|                                                                                           | 0/128 [00:00<?, ?it/s]\u001b[A\n",
      "100%|###############################################################################| 128/128 [00:00<00:00, 1016.91it/s]\u001b[A\n",
      "\n",
      "100%|###############################################################################| 120/120 [00:00<00:00, 1865.48it/s]\u001b[A\n",
      "\n",
      "100%|###############################################################################| 114/114 [00:00<00:00, 1998.46it/s]\u001b[A\n",
      "\n",
      "100%|###############################################################################| 104/104 [00:00<00:00, 1876.13it/s]\u001b[A\n"
     ]
    },
    {
     "name": "stdout",
     "output_type": "stream",
     "text": [
      "200 7.5\n",
      "2022-08-16 16:23:11,290 - \u001b[32mINFO\u001b[0m - [bidd-aggmap]\u001b[0m - Calculating distance ...\u001b[0m\n"
     ]
    },
    {
     "name": "stderr",
     "output_type": "stream",
     "text": [
      "\n",
      "  0%|                                                                                           | 0/849 [00:00<?, ?it/s]\u001b[A\n",
      "100%|###############################################################################| 849/849 [00:00<00:00, 5224.65it/s]\u001b[A"
     ]
    },
    {
     "name": "stdout",
     "output_type": "stream",
     "text": [
      "2022-08-16 16:23:11,468 - \u001b[32mINFO\u001b[0m - [bidd-aggmap]\u001b[0m - applying hierarchical clustering to obtain group information ...\u001b[0m\n"
     ]
    },
    {
     "name": "stderr",
     "output_type": "stream",
     "text": [
      "\n"
     ]
    },
    {
     "name": "stdout",
     "output_type": "stream",
     "text": [
      "2022-08-16 16:23:11,667 - \u001b[32mINFO\u001b[0m - [bidd-aggmap]\u001b[0m - Applying grid assignment of feature points, this may take several minutes(1~30 min)\u001b[0m\n",
      "2022-08-16 16:23:12,043 - \u001b[32mINFO\u001b[0m - [bidd-aggmap]\u001b[0m - Finished\u001b[0m\n"
     ]
    },
    {
     "name": "stderr",
     "output_type": "stream",
     "text": [
      "\n",
      "100%|###############################################################################| 109/109 [00:00<00:00, 1913.28it/s]\u001b[A"
     ]
    },
    {
     "name": "stdout",
     "output_type": "stream",
     "text": [
      "MultiClassEstimator(batch_norm=False, batch_size=2, conv1_kernel_size=5,\n",
      "                    dense_avf='relu', dense_layers=[128], dropout=0.0,\n",
      "                    epochs=30, gpuid='1', last_avf='softmax',\n",
      "                    loss='categorical_crossentropy', lr=0.0001, metric='ACC',\n",
      "                    monitor='val_loss', n_inception=2,\n",
      "                    name='AggMap MultiClass Estimator', patience=10000,\n",
      "                    random_state=32, verbose=0)\n"
     ]
    },
    {
     "name": "stderr",
     "output_type": "stream",
     "text": [
      "\n",
      "\n",
      "100%|###############################################################################| 109/109 [00:00<00:00, 1948.15it/s]\u001b[A\n",
      "\n",
      "100%|###############################################################################| 128/128 [00:00<00:00, 2660.45it/s]\u001b[A\n",
      "\n",
      "100%|###############################################################################| 120/120 [00:00<00:00, 2846.20it/s]\u001b[A\n",
      "\n",
      "100%|###############################################################################| 114/114 [00:00<00:00, 2661.58it/s]\u001b[A\n",
      "\n",
      "100%|###############################################################################| 104/104 [00:00<00:00, 2479.47it/s]\u001b[A\n",
      " 60%|██████████████████████████████████████████████████▍                                 | 3/5 [05:48<03:58, 119.44s/it]"
     ]
    },
    {
     "name": "stdout",
     "output_type": "stream",
     "text": [
      "300 2.5\n",
      "2022-08-16 16:23:30,261 - \u001b[32mINFO\u001b[0m - [bidd-aggmap]\u001b[0m - Calculating distance ...\u001b[0m\n"
     ]
    },
    {
     "name": "stderr",
     "output_type": "stream",
     "text": [
      "\n",
      "  0%|                                                                                           | 0/849 [00:00<?, ?it/s]\u001b[A\n",
      "100%|###############################################################################| 849/849 [00:00<00:00, 5377.92it/s]\u001b[A"
     ]
    },
    {
     "name": "stdout",
     "output_type": "stream",
     "text": [
      "2022-08-16 16:23:30,437 - \u001b[32mINFO\u001b[0m - [bidd-aggmap]\u001b[0m - applying hierarchical clustering to obtain group information ...\u001b[0m\n"
     ]
    },
    {
     "name": "stderr",
     "output_type": "stream",
     "text": [
      "\n"
     ]
    },
    {
     "name": "stdout",
     "output_type": "stream",
     "text": [
      "2022-08-16 16:23:30,787 - \u001b[32mINFO\u001b[0m - [bidd-aggmap]\u001b[0m - Applying grid assignment of feature points, this may take several minutes(1~30 min)\u001b[0m\n",
      "2022-08-16 16:23:31,394 - \u001b[32mINFO\u001b[0m - [bidd-aggmap]\u001b[0m - Finished\u001b[0m\n"
     ]
    },
    {
     "name": "stderr",
     "output_type": "stream",
     "text": [
      "\n",
      "100%|###############################################################################| 109/109 [00:00<00:00, 1650.70it/s]\u001b[A"
     ]
    },
    {
     "name": "stdout",
     "output_type": "stream",
     "text": [
      "MultiClassEstimator(batch_norm=False, batch_size=2, conv1_kernel_size=5,\n",
      "                    dense_avf='relu', dense_layers=[128], dropout=0.0,\n",
      "                    epochs=30, gpuid='1', last_avf='softmax',\n",
      "                    loss='categorical_crossentropy', lr=0.0001, metric='ACC',\n",
      "                    monitor='val_loss', n_inception=2,\n",
      "                    name='AggMap MultiClass Estimator', patience=10000,\n",
      "                    random_state=32, verbose=0)\n"
     ]
    },
    {
     "name": "stderr",
     "output_type": "stream",
     "text": [
      "\n",
      "\n",
      "100%|###############################################################################| 109/109 [00:00<00:00, 1749.87it/s]\u001b[A\n",
      "\n",
      "100%|###############################################################################| 128/128 [00:00<00:00, 1934.35it/s]\u001b[A\n",
      "\n",
      "100%|###############################################################################| 120/120 [00:00<00:00, 1508.89it/s]\u001b[A\n",
      "\n",
      "100%|###############################################################################| 114/114 [00:00<00:00, 1612.06it/s]\u001b[A\n",
      "\n",
      "100%|###############################################################################| 104/104 [00:00<00:00, 2145.77it/s]\u001b[A\n"
     ]
    },
    {
     "name": "stdout",
     "output_type": "stream",
     "text": [
      "300 3.5\n",
      "2022-08-16 16:23:49,903 - \u001b[32mINFO\u001b[0m - [bidd-aggmap]\u001b[0m - Calculating distance ...\u001b[0m\n"
     ]
    },
    {
     "name": "stderr",
     "output_type": "stream",
     "text": [
      "\n",
      "  0%|                                                                                           | 0/849 [00:00<?, ?it/s]\u001b[A\n",
      "100%|###############################################################################| 849/849 [00:00<00:00, 5180.44it/s]\u001b[A"
     ]
    },
    {
     "name": "stdout",
     "output_type": "stream",
     "text": [
      "2022-08-16 16:23:50,084 - \u001b[32mINFO\u001b[0m - [bidd-aggmap]\u001b[0m - applying hierarchical clustering to obtain group information ...\u001b[0m\n"
     ]
    },
    {
     "name": "stderr",
     "output_type": "stream",
     "text": [
      "\n"
     ]
    },
    {
     "name": "stdout",
     "output_type": "stream",
     "text": [
      "2022-08-16 16:23:50,427 - \u001b[32mINFO\u001b[0m - [bidd-aggmap]\u001b[0m - Applying grid assignment of feature points, this may take several minutes(1~30 min)\u001b[0m\n",
      "2022-08-16 16:23:51,012 - \u001b[32mINFO\u001b[0m - [bidd-aggmap]\u001b[0m - Finished\u001b[0m\n"
     ]
    },
    {
     "name": "stderr",
     "output_type": "stream",
     "text": [
      "\n",
      "100%|###############################################################################| 109/109 [00:00<00:00, 2254.92it/s]\u001b[A"
     ]
    },
    {
     "name": "stdout",
     "output_type": "stream",
     "text": [
      "MultiClassEstimator(batch_norm=False, batch_size=2, conv1_kernel_size=5,\n",
      "                    dense_avf='relu', dense_layers=[128], dropout=0.0,\n",
      "                    epochs=30, gpuid='1', last_avf='softmax',\n",
      "                    loss='categorical_crossentropy', lr=0.0001, metric='ACC',\n",
      "                    monitor='val_loss', n_inception=2,\n",
      "                    name='AggMap MultiClass Estimator', patience=10000,\n",
      "                    random_state=32, verbose=0)\n"
     ]
    },
    {
     "name": "stderr",
     "output_type": "stream",
     "text": [
      "\n",
      "\n",
      "100%|###############################################################################| 109/109 [00:00<00:00, 2258.56it/s]\u001b[A\n",
      "\n",
      "100%|###############################################################################| 128/128 [00:00<00:00, 1955.91it/s]\u001b[A\n",
      "\n",
      "100%|###############################################################################| 120/120 [00:00<00:00, 2576.87it/s]\u001b[A\n",
      "\n",
      "100%|###############################################################################| 114/114 [00:00<00:00, 1951.21it/s]\u001b[A\n",
      "\n",
      "100%|###############################################################################| 104/104 [00:00<00:00, 1925.94it/s]\u001b[A\n"
     ]
    },
    {
     "name": "stdout",
     "output_type": "stream",
     "text": [
      "300 4.5\n",
      "2022-08-16 16:24:07,723 - \u001b[32mINFO\u001b[0m - [bidd-aggmap]\u001b[0m - Calculating distance ...\u001b[0m\n"
     ]
    },
    {
     "name": "stderr",
     "output_type": "stream",
     "text": [
      "\n",
      "  0%|                                                                                           | 0/849 [00:00<?, ?it/s]\u001b[A\n",
      "100%|###############################################################################| 849/849 [00:00<00:00, 5061.19it/s]\u001b[A"
     ]
    },
    {
     "name": "stdout",
     "output_type": "stream",
     "text": [
      "2022-08-16 16:24:07,907 - \u001b[32mINFO\u001b[0m - [bidd-aggmap]\u001b[0m - applying hierarchical clustering to obtain group information ...\u001b[0m\n"
     ]
    },
    {
     "name": "stderr",
     "output_type": "stream",
     "text": [
      "\n"
     ]
    },
    {
     "name": "stdout",
     "output_type": "stream",
     "text": [
      "2022-08-16 16:24:08,243 - \u001b[32mINFO\u001b[0m - [bidd-aggmap]\u001b[0m - Applying grid assignment of feature points, this may take several minutes(1~30 min)\u001b[0m\n",
      "2022-08-16 16:24:08,755 - \u001b[32mINFO\u001b[0m - [bidd-aggmap]\u001b[0m - Finished\u001b[0m\n"
     ]
    },
    {
     "name": "stderr",
     "output_type": "stream",
     "text": [
      "\n",
      "100%|###############################################################################| 109/109 [00:00<00:00, 1857.25it/s]\u001b[A"
     ]
    },
    {
     "name": "stdout",
     "output_type": "stream",
     "text": [
      "MultiClassEstimator(batch_norm=False, batch_size=2, conv1_kernel_size=5,\n",
      "                    dense_avf='relu', dense_layers=[128], dropout=0.0,\n",
      "                    epochs=30, gpuid='1', last_avf='softmax',\n",
      "                    loss='categorical_crossentropy', lr=0.0001, metric='ACC',\n",
      "                    monitor='val_loss', n_inception=2,\n",
      "                    name='AggMap MultiClass Estimator', patience=10000,\n",
      "                    random_state=32, verbose=0)\n"
     ]
    },
    {
     "name": "stderr",
     "output_type": "stream",
     "text": [
      "\n",
      "\n",
      "100%|###############################################################################| 109/109 [00:00<00:00, 1819.76it/s]\u001b[A\n",
      "\n",
      "100%|###############################################################################| 128/128 [00:00<00:00, 2304.35it/s]\u001b[A\n",
      "\n",
      "100%|###############################################################################| 120/120 [00:00<00:00, 2162.07it/s]\u001b[A\n",
      "\n",
      "100%|###############################################################################| 114/114 [00:00<00:00, 2441.39it/s]\u001b[A\n",
      "\n",
      "100%|###############################################################################| 104/104 [00:00<00:00, 2202.08it/s]\u001b[A\n"
     ]
    },
    {
     "name": "stdout",
     "output_type": "stream",
     "text": [
      "300 5.5\n",
      "2022-08-16 16:24:26,774 - \u001b[32mINFO\u001b[0m - [bidd-aggmap]\u001b[0m - Calculating distance ...\u001b[0m\n"
     ]
    },
    {
     "name": "stderr",
     "output_type": "stream",
     "text": [
      "\n",
      "  0%|                                                                                           | 0/849 [00:00<?, ?it/s]\u001b[A\n",
      "100%|###############################################################################| 849/849 [00:00<00:00, 5084.53it/s]\u001b[A"
     ]
    },
    {
     "name": "stdout",
     "output_type": "stream",
     "text": [
      "2022-08-16 16:24:26,956 - \u001b[32mINFO\u001b[0m - [bidd-aggmap]\u001b[0m - applying hierarchical clustering to obtain group information ...\u001b[0m\n"
     ]
    },
    {
     "name": "stderr",
     "output_type": "stream",
     "text": [
      "\n"
     ]
    },
    {
     "name": "stdout",
     "output_type": "stream",
     "text": [
      "2022-08-16 16:24:27,267 - \u001b[32mINFO\u001b[0m - [bidd-aggmap]\u001b[0m - Applying grid assignment of feature points, this may take several minutes(1~30 min)\u001b[0m\n",
      "2022-08-16 16:24:27,734 - \u001b[32mINFO\u001b[0m - [bidd-aggmap]\u001b[0m - Finished\u001b[0m\n"
     ]
    },
    {
     "name": "stderr",
     "output_type": "stream",
     "text": [
      "\n",
      "100%|###############################################################################| 109/109 [00:00<00:00, 2385.71it/s]\u001b[A"
     ]
    },
    {
     "name": "stdout",
     "output_type": "stream",
     "text": [
      "MultiClassEstimator(batch_norm=False, batch_size=2, conv1_kernel_size=5,\n",
      "                    dense_avf='relu', dense_layers=[128], dropout=0.0,\n",
      "                    epochs=30, gpuid='1', last_avf='softmax',\n",
      "                    loss='categorical_crossentropy', lr=0.0001, metric='ACC',\n",
      "                    monitor='val_loss', n_inception=2,\n",
      "                    name='AggMap MultiClass Estimator', patience=10000,\n",
      "                    random_state=32, verbose=0)\n"
     ]
    },
    {
     "name": "stderr",
     "output_type": "stream",
     "text": [
      "\n",
      "\n",
      "100%|###############################################################################| 109/109 [00:00<00:00, 1918.78it/s]\u001b[A\n",
      "\n",
      "100%|###############################################################################| 128/128 [00:00<00:00, 2050.98it/s]\u001b[A\n",
      "\n",
      "100%|###############################################################################| 120/120 [00:00<00:00, 2126.70it/s]\u001b[A\n",
      "\n",
      "100%|###############################################################################| 114/114 [00:00<00:00, 2094.33it/s]\u001b[A\n",
      "\n",
      "100%|###############################################################################| 104/104 [00:00<00:00, 1773.71it/s]\u001b[A\n"
     ]
    },
    {
     "name": "stdout",
     "output_type": "stream",
     "text": [
      "300 6.5\n",
      "2022-08-16 16:24:43,390 - \u001b[32mINFO\u001b[0m - [bidd-aggmap]\u001b[0m - Calculating distance ...\u001b[0m\n"
     ]
    },
    {
     "name": "stderr",
     "output_type": "stream",
     "text": [
      "\n",
      "  0%|                                                                                           | 0/849 [00:00<?, ?it/s]\u001b[A\n",
      "100%|###############################################################################| 849/849 [00:00<00:00, 5219.94it/s]\u001b[A"
     ]
    },
    {
     "name": "stdout",
     "output_type": "stream",
     "text": [
      "2022-08-16 16:24:43,568 - \u001b[32mINFO\u001b[0m - [bidd-aggmap]\u001b[0m - applying hierarchical clustering to obtain group information ...\u001b[0m\n"
     ]
    },
    {
     "name": "stderr",
     "output_type": "stream",
     "text": [
      "\n"
     ]
    },
    {
     "name": "stdout",
     "output_type": "stream",
     "text": [
      "2022-08-16 16:24:43,859 - \u001b[32mINFO\u001b[0m - [bidd-aggmap]\u001b[0m - Applying grid assignment of feature points, this may take several minutes(1~30 min)\u001b[0m\n",
      "2022-08-16 16:24:44,146 - \u001b[32mINFO\u001b[0m - [bidd-aggmap]\u001b[0m - Finished\u001b[0m\n"
     ]
    },
    {
     "name": "stderr",
     "output_type": "stream",
     "text": [
      "\n",
      "100%|###############################################################################| 109/109 [00:00<00:00, 1641.86it/s]\u001b[A"
     ]
    },
    {
     "name": "stdout",
     "output_type": "stream",
     "text": [
      "MultiClassEstimator(batch_norm=False, batch_size=2, conv1_kernel_size=5,\n",
      "                    dense_avf='relu', dense_layers=[128], dropout=0.0,\n",
      "                    epochs=30, gpuid='1', last_avf='softmax',\n",
      "                    loss='categorical_crossentropy', lr=0.0001, metric='ACC',\n",
      "                    monitor='val_loss', n_inception=2,\n",
      "                    name='AggMap MultiClass Estimator', patience=10000,\n",
      "                    random_state=32, verbose=0)\n"
     ]
    },
    {
     "name": "stderr",
     "output_type": "stream",
     "text": [
      "\n",
      "\n",
      "100%|###############################################################################| 109/109 [00:00<00:00, 2542.43it/s]\u001b[A\n",
      "\n",
      "100%|###############################################################################| 128/128 [00:00<00:00, 2366.04it/s]\u001b[A\n",
      "\n",
      "100%|###############################################################################| 120/120 [00:00<00:00, 2499.87it/s]\u001b[A\n",
      "\n",
      "100%|###############################################################################| 114/114 [00:00<00:00, 2488.40it/s]\u001b[A\n",
      "\n",
      "100%|###############################################################################| 104/104 [00:00<00:00, 2246.02it/s]\u001b[A\n"
     ]
    },
    {
     "name": "stdout",
     "output_type": "stream",
     "text": [
      "300 7.5\n",
      "2022-08-16 16:25:00,609 - \u001b[32mINFO\u001b[0m - [bidd-aggmap]\u001b[0m - Calculating distance ...\u001b[0m\n"
     ]
    },
    {
     "name": "stderr",
     "output_type": "stream",
     "text": [
      "\n",
      "  0%|                                                                                           | 0/849 [00:00<?, ?it/s]\u001b[A\n",
      "100%|###############################################################################| 849/849 [00:00<00:00, 5257.67it/s]\u001b[A"
     ]
    },
    {
     "name": "stdout",
     "output_type": "stream",
     "text": [
      "2022-08-16 16:25:00,786 - \u001b[32mINFO\u001b[0m - [bidd-aggmap]\u001b[0m - applying hierarchical clustering to obtain group information ...\u001b[0m\n"
     ]
    },
    {
     "name": "stderr",
     "output_type": "stream",
     "text": [
      "\n"
     ]
    },
    {
     "name": "stdout",
     "output_type": "stream",
     "text": [
      "2022-08-16 16:25:01,064 - \u001b[32mINFO\u001b[0m - [bidd-aggmap]\u001b[0m - Applying grid assignment of feature points, this may take several minutes(1~30 min)\u001b[0m\n",
      "2022-08-16 16:25:01,376 - \u001b[32mINFO\u001b[0m - [bidd-aggmap]\u001b[0m - Finished\u001b[0m\n"
     ]
    },
    {
     "name": "stderr",
     "output_type": "stream",
     "text": [
      "\n",
      "100%|###############################################################################| 109/109 [00:00<00:00, 2318.99it/s]\u001b[A"
     ]
    },
    {
     "name": "stdout",
     "output_type": "stream",
     "text": [
      "MultiClassEstimator(batch_norm=False, batch_size=2, conv1_kernel_size=5,\n",
      "                    dense_avf='relu', dense_layers=[128], dropout=0.0,\n",
      "                    epochs=30, gpuid='1', last_avf='softmax',\n",
      "                    loss='categorical_crossentropy', lr=0.0001, metric='ACC',\n",
      "                    monitor='val_loss', n_inception=2,\n",
      "                    name='AggMap MultiClass Estimator', patience=10000,\n",
      "                    random_state=32, verbose=0)\n"
     ]
    },
    {
     "name": "stderr",
     "output_type": "stream",
     "text": [
      "\n",
      "\n",
      "100%|###############################################################################| 109/109 [00:00<00:00, 2451.84it/s]\u001b[A\n",
      "\n",
      "100%|###############################################################################| 128/128 [00:00<00:00, 2059.70it/s]\u001b[A\n",
      "\n",
      "100%|###############################################################################| 120/120 [00:00<00:00, 1626.02it/s]\u001b[A\n",
      "\n",
      "100%|###############################################################################| 114/114 [00:00<00:00, 1528.40it/s]\u001b[A\n",
      "\n",
      "100%|###############################################################################| 104/104 [00:00<00:00, 2770.22it/s]\u001b[A\n",
      " 80%|███████████████████████████████████████████████████████████████████▏                | 4/5 [07:38<01:55, 115.79s/it]"
     ]
    },
    {
     "name": "stdout",
     "output_type": "stream",
     "text": [
      "500 2.5\n",
      "2022-08-16 16:25:20,421 - \u001b[32mINFO\u001b[0m - [bidd-aggmap]\u001b[0m - Calculating distance ...\u001b[0m\n"
     ]
    },
    {
     "name": "stderr",
     "output_type": "stream",
     "text": [
      "\n",
      "  0%|                                                                                           | 0/849 [00:00<?, ?it/s]\u001b[A\n",
      "100%|###############################################################################| 849/849 [00:00<00:00, 5230.83it/s]\u001b[A"
     ]
    },
    {
     "name": "stdout",
     "output_type": "stream",
     "text": [
      "2022-08-16 16:25:20,600 - \u001b[32mINFO\u001b[0m - [bidd-aggmap]\u001b[0m - applying hierarchical clustering to obtain group information ...\u001b[0m\n"
     ]
    },
    {
     "name": "stderr",
     "output_type": "stream",
     "text": [
      "\n"
     ]
    },
    {
     "name": "stdout",
     "output_type": "stream",
     "text": [
      "2022-08-16 16:25:21,162 - \u001b[32mINFO\u001b[0m - [bidd-aggmap]\u001b[0m - Applying grid assignment of feature points, this may take several minutes(1~30 min)\u001b[0m\n",
      "2022-08-16 16:25:21,475 - \u001b[32mINFO\u001b[0m - [bidd-aggmap]\u001b[0m - Finished\u001b[0m\n"
     ]
    },
    {
     "name": "stderr",
     "output_type": "stream",
     "text": [
      "\n",
      "100%|###############################################################################| 109/109 [00:00<00:00, 2321.30it/s]\u001b[A"
     ]
    },
    {
     "name": "stdout",
     "output_type": "stream",
     "text": [
      "MultiClassEstimator(batch_norm=False, batch_size=2, conv1_kernel_size=5,\n",
      "                    dense_avf='relu', dense_layers=[128], dropout=0.0,\n",
      "                    epochs=30, gpuid='1', last_avf='softmax',\n",
      "                    loss='categorical_crossentropy', lr=0.0001, metric='ACC',\n",
      "                    monitor='val_loss', n_inception=2,\n",
      "                    name='AggMap MultiClass Estimator', patience=10000,\n",
      "                    random_state=32, verbose=0)\n"
     ]
    },
    {
     "name": "stderr",
     "output_type": "stream",
     "text": [
      "\n",
      "\n",
      "100%|###############################################################################| 109/109 [00:00<00:00, 1787.63it/s]\u001b[A\n",
      "\n",
      "100%|###############################################################################| 128/128 [00:00<00:00, 1965.01it/s]\u001b[A\n",
      "\n",
      "100%|###############################################################################| 120/120 [00:00<00:00, 1474.96it/s]\u001b[A\n",
      "\n",
      "100%|###############################################################################| 114/114 [00:00<00:00, 1938.78it/s]\u001b[A\n",
      "\n",
      "100%|###############################################################################| 104/104 [00:00<00:00, 2093.24it/s]\u001b[A\n"
     ]
    },
    {
     "name": "stdout",
     "output_type": "stream",
     "text": [
      "500 3.5\n",
      "2022-08-16 16:25:39,216 - \u001b[32mINFO\u001b[0m - [bidd-aggmap]\u001b[0m - Calculating distance ...\u001b[0m\n"
     ]
    },
    {
     "name": "stderr",
     "output_type": "stream",
     "text": [
      "\n",
      "  0%|                                                                                           | 0/849 [00:00<?, ?it/s]\u001b[A\n",
      "100%|###############################################################################| 849/849 [00:00<00:00, 5243.46it/s]\u001b[A"
     ]
    },
    {
     "name": "stdout",
     "output_type": "stream",
     "text": [
      "2022-08-16 16:25:39,394 - \u001b[32mINFO\u001b[0m - [bidd-aggmap]\u001b[0m - applying hierarchical clustering to obtain group information ...\u001b[0m\n"
     ]
    },
    {
     "name": "stderr",
     "output_type": "stream",
     "text": [
      "\n"
     ]
    },
    {
     "name": "stdout",
     "output_type": "stream",
     "text": [
      "2022-08-16 16:25:39,945 - \u001b[32mINFO\u001b[0m - [bidd-aggmap]\u001b[0m - Applying grid assignment of feature points, this may take several minutes(1~30 min)\u001b[0m\n",
      "2022-08-16 16:25:40,260 - \u001b[32mINFO\u001b[0m - [bidd-aggmap]\u001b[0m - Finished\u001b[0m\n"
     ]
    },
    {
     "name": "stderr",
     "output_type": "stream",
     "text": [
      "\n",
      "100%|###############################################################################| 109/109 [00:00<00:00, 2281.03it/s]\u001b[A"
     ]
    },
    {
     "name": "stdout",
     "output_type": "stream",
     "text": [
      "MultiClassEstimator(batch_norm=False, batch_size=2, conv1_kernel_size=5,\n",
      "                    dense_avf='relu', dense_layers=[128], dropout=0.0,\n",
      "                    epochs=30, gpuid='1', last_avf='softmax',\n",
      "                    loss='categorical_crossentropy', lr=0.0001, metric='ACC',\n",
      "                    monitor='val_loss', n_inception=2,\n",
      "                    name='AggMap MultiClass Estimator', patience=10000,\n",
      "                    random_state=32, verbose=0)\n"
     ]
    },
    {
     "name": "stderr",
     "output_type": "stream",
     "text": [
      "\n",
      "\n",
      "100%|###############################################################################| 109/109 [00:00<00:00, 1884.23it/s]\u001b[A\n",
      "\n",
      "100%|###############################################################################| 128/128 [00:00<00:00, 2015.88it/s]\u001b[A\n",
      "\n",
      "100%|###############################################################################| 120/120 [00:00<00:00, 1547.58it/s]\u001b[A\n",
      "\n",
      "100%|###############################################################################| 114/114 [00:00<00:00, 2281.05it/s]\u001b[A\n",
      "\n",
      "100%|###############################################################################| 104/104 [00:00<00:00, 1687.95it/s]\u001b[A\n"
     ]
    },
    {
     "name": "stdout",
     "output_type": "stream",
     "text": [
      "500 4.5\n",
      "2022-08-16 16:25:57,293 - \u001b[32mINFO\u001b[0m - [bidd-aggmap]\u001b[0m - Calculating distance ...\u001b[0m\n"
     ]
    },
    {
     "name": "stderr",
     "output_type": "stream",
     "text": [
      "\n",
      "  0%|                                                                                           | 0/849 [00:00<?, ?it/s]\u001b[A\n",
      "100%|###############################################################################| 849/849 [00:00<00:00, 5231.43it/s]\u001b[A"
     ]
    },
    {
     "name": "stdout",
     "output_type": "stream",
     "text": [
      "2022-08-16 16:25:57,471 - \u001b[32mINFO\u001b[0m - [bidd-aggmap]\u001b[0m - applying hierarchical clustering to obtain group information ...\u001b[0m\n"
     ]
    },
    {
     "name": "stderr",
     "output_type": "stream",
     "text": [
      "\n"
     ]
    },
    {
     "name": "stdout",
     "output_type": "stream",
     "text": [
      "2022-08-16 16:25:57,988 - \u001b[32mINFO\u001b[0m - [bidd-aggmap]\u001b[0m - Applying grid assignment of feature points, this may take several minutes(1~30 min)\u001b[0m\n",
      "2022-08-16 16:25:58,259 - \u001b[32mINFO\u001b[0m - [bidd-aggmap]\u001b[0m - Finished\u001b[0m\n"
     ]
    },
    {
     "name": "stderr",
     "output_type": "stream",
     "text": [
      "\n",
      "100%|###############################################################################| 109/109 [00:00<00:00, 2292.35it/s]\u001b[A"
     ]
    },
    {
     "name": "stdout",
     "output_type": "stream",
     "text": [
      "MultiClassEstimator(batch_norm=False, batch_size=2, conv1_kernel_size=5,\n",
      "                    dense_avf='relu', dense_layers=[128], dropout=0.0,\n",
      "                    epochs=30, gpuid='1', last_avf='softmax',\n",
      "                    loss='categorical_crossentropy', lr=0.0001, metric='ACC',\n",
      "                    monitor='val_loss', n_inception=2,\n",
      "                    name='AggMap MultiClass Estimator', patience=10000,\n",
      "                    random_state=32, verbose=0)\n"
     ]
    },
    {
     "name": "stderr",
     "output_type": "stream",
     "text": [
      "\n",
      "\n",
      "100%|###############################################################################| 109/109 [00:00<00:00, 1821.18it/s]\u001b[A\n",
      "\n",
      "100%|###############################################################################| 128/128 [00:00<00:00, 1967.58it/s]\u001b[A\n",
      "\n",
      "100%|###############################################################################| 120/120 [00:00<00:00, 2088.16it/s]\u001b[A\n",
      "\n",
      "100%|###############################################################################| 114/114 [00:00<00:00, 1860.48it/s]\u001b[A\n",
      "\n",
      "100%|###############################################################################| 104/104 [00:00<00:00, 1781.55it/s]\u001b[A\n"
     ]
    },
    {
     "name": "stdout",
     "output_type": "stream",
     "text": [
      "500 5.5\n",
      "2022-08-16 16:26:14,623 - \u001b[32mINFO\u001b[0m - [bidd-aggmap]\u001b[0m - Calculating distance ...\u001b[0m\n"
     ]
    },
    {
     "name": "stderr",
     "output_type": "stream",
     "text": [
      "\n",
      "  0%|                                                                                           | 0/849 [00:00<?, ?it/s]\u001b[A\n",
      "100%|###############################################################################| 849/849 [00:00<00:00, 5237.56it/s]\u001b[A"
     ]
    },
    {
     "name": "stdout",
     "output_type": "stream",
     "text": [
      "2022-08-16 16:26:14,801 - \u001b[32mINFO\u001b[0m - [bidd-aggmap]\u001b[0m - applying hierarchical clustering to obtain group information ...\u001b[0m\n"
     ]
    },
    {
     "name": "stderr",
     "output_type": "stream",
     "text": [
      "\n"
     ]
    },
    {
     "name": "stdout",
     "output_type": "stream",
     "text": [
      "2022-08-16 16:26:15,283 - \u001b[32mINFO\u001b[0m - [bidd-aggmap]\u001b[0m - Applying grid assignment of feature points, this may take several minutes(1~30 min)\u001b[0m\n",
      "2022-08-16 16:26:15,666 - \u001b[32mINFO\u001b[0m - [bidd-aggmap]\u001b[0m - Finished\u001b[0m\n"
     ]
    },
    {
     "name": "stderr",
     "output_type": "stream",
     "text": [
      "\n",
      "100%|###############################################################################| 109/109 [00:00<00:00, 2385.14it/s]\u001b[A"
     ]
    },
    {
     "name": "stdout",
     "output_type": "stream",
     "text": [
      "MultiClassEstimator(batch_norm=False, batch_size=2, conv1_kernel_size=5,\n",
      "                    dense_avf='relu', dense_layers=[128], dropout=0.0,\n",
      "                    epochs=30, gpuid='1', last_avf='softmax',\n",
      "                    loss='categorical_crossentropy', lr=0.0001, metric='ACC',\n",
      "                    monitor='val_loss', n_inception=2,\n",
      "                    name='AggMap MultiClass Estimator', patience=10000,\n",
      "                    random_state=32, verbose=0)\n"
     ]
    },
    {
     "name": "stderr",
     "output_type": "stream",
     "text": [
      "\n",
      "\n",
      "100%|###############################################################################| 109/109 [00:00<00:00, 1763.75it/s]\u001b[A\n",
      "\n",
      "100%|###############################################################################| 128/128 [00:00<00:00, 1917.69it/s]\u001b[A\n",
      "\n",
      "100%|###############################################################################| 120/120 [00:00<00:00, 1978.52it/s]\u001b[A\n",
      "\n",
      "100%|###############################################################################| 114/114 [00:00<00:00, 2331.90it/s]\u001b[A\n",
      "\n",
      "100%|###############################################################################| 104/104 [00:00<00:00, 1921.02it/s]\u001b[A\n"
     ]
    },
    {
     "name": "stdout",
     "output_type": "stream",
     "text": [
      "500 6.5\n",
      "2022-08-16 16:26:33,570 - \u001b[32mINFO\u001b[0m - [bidd-aggmap]\u001b[0m - Calculating distance ...\u001b[0m\n"
     ]
    },
    {
     "name": "stderr",
     "output_type": "stream",
     "text": [
      "\n",
      "  0%|                                                                                           | 0/849 [00:00<?, ?it/s]\u001b[A\n",
      "100%|###############################################################################| 849/849 [00:00<00:00, 5617.12it/s]\u001b[A"
     ]
    },
    {
     "name": "stdout",
     "output_type": "stream",
     "text": [
      "2022-08-16 16:26:33,736 - \u001b[32mINFO\u001b[0m - [bidd-aggmap]\u001b[0m - applying hierarchical clustering to obtain group information ...\u001b[0m\n"
     ]
    },
    {
     "name": "stderr",
     "output_type": "stream",
     "text": [
      "\n"
     ]
    },
    {
     "name": "stdout",
     "output_type": "stream",
     "text": [
      "2022-08-16 16:26:34,170 - \u001b[32mINFO\u001b[0m - [bidd-aggmap]\u001b[0m - Applying grid assignment of feature points, this may take several minutes(1~30 min)\u001b[0m\n",
      "2022-08-16 16:26:34,398 - \u001b[32mINFO\u001b[0m - [bidd-aggmap]\u001b[0m - Finished\u001b[0m\n"
     ]
    },
    {
     "name": "stderr",
     "output_type": "stream",
     "text": [
      "\n",
      "100%|###############################################################################| 109/109 [00:00<00:00, 2581.62it/s]\u001b[A"
     ]
    },
    {
     "name": "stdout",
     "output_type": "stream",
     "text": [
      "MultiClassEstimator(batch_norm=False, batch_size=2, conv1_kernel_size=5,\n",
      "                    dense_avf='relu', dense_layers=[128], dropout=0.0,\n",
      "                    epochs=30, gpuid='1', last_avf='softmax',\n",
      "                    loss='categorical_crossentropy', lr=0.0001, metric='ACC',\n",
      "                    monitor='val_loss', n_inception=2,\n",
      "                    name='AggMap MultiClass Estimator', patience=10000,\n",
      "                    random_state=32, verbose=0)\n"
     ]
    },
    {
     "name": "stderr",
     "output_type": "stream",
     "text": [
      "\n",
      "\n",
      "100%|###############################################################################| 109/109 [00:00<00:00, 2013.34it/s]\u001b[A\n",
      "\n",
      "100%|###############################################################################| 128/128 [00:00<00:00, 2236.97it/s]\u001b[A\n",
      "\n",
      "100%|###############################################################################| 120/120 [00:00<00:00, 1693.65it/s]\u001b[A\n",
      "\n",
      "100%|###############################################################################| 114/114 [00:00<00:00, 2206.22it/s]\u001b[A\n",
      "\n",
      "100%|###############################################################################| 104/104 [00:00<00:00, 2305.83it/s]\u001b[A\n"
     ]
    },
    {
     "name": "stdout",
     "output_type": "stream",
     "text": [
      "500 7.5\n",
      "2022-08-16 16:26:57,645 - \u001b[32mINFO\u001b[0m - [bidd-aggmap]\u001b[0m - Calculating distance ...\u001b[0m\n"
     ]
    },
    {
     "name": "stderr",
     "output_type": "stream",
     "text": [
      "\n",
      "  0%|                                                                                           | 0/849 [00:00<?, ?it/s]\u001b[A\n",
      "100%|###############################################################################| 849/849 [00:00<00:00, 5610.79it/s]\u001b[A"
     ]
    },
    {
     "name": "stdout",
     "output_type": "stream",
     "text": [
      "2022-08-16 16:26:57,812 - \u001b[32mINFO\u001b[0m - [bidd-aggmap]\u001b[0m - applying hierarchical clustering to obtain group information ...\u001b[0m\n"
     ]
    },
    {
     "name": "stderr",
     "output_type": "stream",
     "text": [
      "\n"
     ]
    },
    {
     "name": "stdout",
     "output_type": "stream",
     "text": [
      "2022-08-16 16:26:58,225 - \u001b[32mINFO\u001b[0m - [bidd-aggmap]\u001b[0m - Applying grid assignment of feature points, this may take several minutes(1~30 min)\u001b[0m\n",
      "2022-08-16 16:26:58,454 - \u001b[32mINFO\u001b[0m - [bidd-aggmap]\u001b[0m - Finished\u001b[0m\n"
     ]
    },
    {
     "name": "stderr",
     "output_type": "stream",
     "text": [
      "\n",
      "100%|###############################################################################| 109/109 [00:00<00:00, 2598.45it/s]\u001b[A"
     ]
    },
    {
     "name": "stdout",
     "output_type": "stream",
     "text": [
      "MultiClassEstimator(batch_norm=False, batch_size=2, conv1_kernel_size=5,\n",
      "                    dense_avf='relu', dense_layers=[128], dropout=0.0,\n",
      "                    epochs=30, gpuid='1', last_avf='softmax',\n",
      "                    loss='categorical_crossentropy', lr=0.0001, metric='ACC',\n",
      "                    monitor='val_loss', n_inception=2,\n",
      "                    name='AggMap MultiClass Estimator', patience=10000,\n",
      "                    random_state=32, verbose=0)\n"
     ]
    },
    {
     "name": "stderr",
     "output_type": "stream",
     "text": [
      "\n",
      "\n",
      "100%|###############################################################################| 109/109 [00:00<00:00, 2491.83it/s]\u001b[A\n",
      "\n",
      "100%|###############################################################################| 128/128 [00:00<00:00, 2493.75it/s]\u001b[A\n",
      "\n",
      "100%|###############################################################################| 120/120 [00:00<00:00, 2709.13it/s]\u001b[A\n",
      "\n",
      "100%|###############################################################################| 114/114 [00:00<00:00, 2530.70it/s]\u001b[A\n",
      "\n",
      "100%|###############################################################################| 104/104 [00:00<00:00, 2243.07it/s]\u001b[A\n",
      "100%|████████████████████████████████████████████████████████████████████████████████████| 5/5 [09:33<00:00, 114.65s/it]\n"
     ]
    }
   ],
   "source": [
    "res = []\n",
    "for n_epochs in tqdm([50, 100, 200, 300, 500]):\n",
    "    print(n_epochs, var_thr)\n",
    "    score = opt(var_thr, n_epochs)\n",
    "    res.append([var_thr, n_epochs, score])"
   ]
  },
  {
   "cell_type": "code",
   "execution_count": 6,
   "id": "7915c55b-59a6-420b-abdc-7343ef78b57a",
   "metadata": {},
   "outputs": [
    {
     "data": {
      "text/html": [
       "<div>\n",
       "<style scoped>\n",
       "    .dataframe tbody tr th:only-of-type {\n",
       "        vertical-align: middle;\n",
       "    }\n",
       "\n",
       "    .dataframe tbody tr th {\n",
       "        vertical-align: top;\n",
       "    }\n",
       "\n",
       "    .dataframe thead th {\n",
       "        text-align: right;\n",
       "    }\n",
       "</style>\n",
       "<table border=\"1\" class=\"dataframe\">\n",
       "  <thead>\n",
       "    <tr style=\"text-align: right;\">\n",
       "      <th></th>\n",
       "      <th>0</th>\n",
       "      <th>1</th>\n",
       "      <th>2</th>\n",
       "    </tr>\n",
       "  </thead>\n",
       "  <tbody>\n",
       "    <tr>\n",
       "      <th>25</th>\n",
       "      <td>3.5</td>\n",
       "      <td>500</td>\n",
       "      <td>0.64</td>\n",
       "    </tr>\n",
       "    <tr>\n",
       "      <th>19</th>\n",
       "      <td>3.5</td>\n",
       "      <td>300</td>\n",
       "      <td>0.64</td>\n",
       "    </tr>\n",
       "    <tr>\n",
       "      <th>1</th>\n",
       "      <td>3.5</td>\n",
       "      <td>50</td>\n",
       "      <td>0.65</td>\n",
       "    </tr>\n",
       "    <tr>\n",
       "      <th>26</th>\n",
       "      <td>4.5</td>\n",
       "      <td>500</td>\n",
       "      <td>0.66</td>\n",
       "    </tr>\n",
       "    <tr>\n",
       "      <th>7</th>\n",
       "      <td>3.5</td>\n",
       "      <td>100</td>\n",
       "      <td>0.66</td>\n",
       "    </tr>\n",
       "    <tr>\n",
       "      <th>0</th>\n",
       "      <td>2.5</td>\n",
       "      <td>50</td>\n",
       "      <td>0.67</td>\n",
       "    </tr>\n",
       "    <tr>\n",
       "      <th>24</th>\n",
       "      <td>2.5</td>\n",
       "      <td>500</td>\n",
       "      <td>0.67</td>\n",
       "    </tr>\n",
       "    <tr>\n",
       "      <th>6</th>\n",
       "      <td>2.5</td>\n",
       "      <td>100</td>\n",
       "      <td>0.67</td>\n",
       "    </tr>\n",
       "    <tr>\n",
       "      <th>8</th>\n",
       "      <td>4.5</td>\n",
       "      <td>100</td>\n",
       "      <td>0.67</td>\n",
       "    </tr>\n",
       "    <tr>\n",
       "      <th>11</th>\n",
       "      <td>7.5</td>\n",
       "      <td>100</td>\n",
       "      <td>0.67</td>\n",
       "    </tr>\n",
       "    <tr>\n",
       "      <th>13</th>\n",
       "      <td>3.5</td>\n",
       "      <td>200</td>\n",
       "      <td>0.67</td>\n",
       "    </tr>\n",
       "    <tr>\n",
       "      <th>16</th>\n",
       "      <td>6.5</td>\n",
       "      <td>200</td>\n",
       "      <td>0.67</td>\n",
       "    </tr>\n",
       "    <tr>\n",
       "      <th>21</th>\n",
       "      <td>5.5</td>\n",
       "      <td>300</td>\n",
       "      <td>0.68</td>\n",
       "    </tr>\n",
       "    <tr>\n",
       "      <th>20</th>\n",
       "      <td>4.5</td>\n",
       "      <td>300</td>\n",
       "      <td>0.68</td>\n",
       "    </tr>\n",
       "    <tr>\n",
       "      <th>18</th>\n",
       "      <td>2.5</td>\n",
       "      <td>300</td>\n",
       "      <td>0.68</td>\n",
       "    </tr>\n",
       "    <tr>\n",
       "      <th>17</th>\n",
       "      <td>7.5</td>\n",
       "      <td>200</td>\n",
       "      <td>0.68</td>\n",
       "    </tr>\n",
       "    <tr>\n",
       "      <th>29</th>\n",
       "      <td>7.5</td>\n",
       "      <td>500</td>\n",
       "      <td>0.68</td>\n",
       "    </tr>\n",
       "    <tr>\n",
       "      <th>12</th>\n",
       "      <td>2.5</td>\n",
       "      <td>200</td>\n",
       "      <td>0.68</td>\n",
       "    </tr>\n",
       "    <tr>\n",
       "      <th>5</th>\n",
       "      <td>7.5</td>\n",
       "      <td>50</td>\n",
       "      <td>0.68</td>\n",
       "    </tr>\n",
       "    <tr>\n",
       "      <th>10</th>\n",
       "      <td>6.5</td>\n",
       "      <td>100</td>\n",
       "      <td>0.69</td>\n",
       "    </tr>\n",
       "    <tr>\n",
       "      <th>9</th>\n",
       "      <td>5.5</td>\n",
       "      <td>100</td>\n",
       "      <td>0.69</td>\n",
       "    </tr>\n",
       "    <tr>\n",
       "      <th>22</th>\n",
       "      <td>6.5</td>\n",
       "      <td>300</td>\n",
       "      <td>0.69</td>\n",
       "    </tr>\n",
       "    <tr>\n",
       "      <th>23</th>\n",
       "      <td>7.5</td>\n",
       "      <td>300</td>\n",
       "      <td>0.69</td>\n",
       "    </tr>\n",
       "    <tr>\n",
       "      <th>27</th>\n",
       "      <td>5.5</td>\n",
       "      <td>500</td>\n",
       "      <td>0.69</td>\n",
       "    </tr>\n",
       "    <tr>\n",
       "      <th>14</th>\n",
       "      <td>4.5</td>\n",
       "      <td>200</td>\n",
       "      <td>0.69</td>\n",
       "    </tr>\n",
       "    <tr>\n",
       "      <th>28</th>\n",
       "      <td>6.5</td>\n",
       "      <td>500</td>\n",
       "      <td>0.70</td>\n",
       "    </tr>\n",
       "    <tr>\n",
       "      <th>4</th>\n",
       "      <td>6.5</td>\n",
       "      <td>50</td>\n",
       "      <td>0.70</td>\n",
       "    </tr>\n",
       "    <tr>\n",
       "      <th>3</th>\n",
       "      <td>5.5</td>\n",
       "      <td>50</td>\n",
       "      <td>0.70</td>\n",
       "    </tr>\n",
       "    <tr>\n",
       "      <th>15</th>\n",
       "      <td>5.5</td>\n",
       "      <td>200</td>\n",
       "      <td>0.70</td>\n",
       "    </tr>\n",
       "    <tr>\n",
       "      <th>2</th>\n",
       "      <td>4.5</td>\n",
       "      <td>50</td>\n",
       "      <td>0.71</td>\n",
       "    </tr>\n",
       "  </tbody>\n",
       "</table>\n",
       "</div>"
      ],
      "text/plain": [
       "      0    1     2\n",
       "25  3.5  500  0.64\n",
       "19  3.5  300  0.64\n",
       "1   3.5   50  0.65\n",
       "26  4.5  500  0.66\n",
       "7   3.5  100  0.66\n",
       "0   2.5   50  0.67\n",
       "24  2.5  500  0.67\n",
       "6   2.5  100  0.67\n",
       "8   4.5  100  0.67\n",
       "11  7.5  100  0.67\n",
       "13  3.5  200  0.67\n",
       "16  6.5  200  0.67\n",
       "21  5.5  300  0.68\n",
       "20  4.5  300  0.68\n",
       "18  2.5  300  0.68\n",
       "17  7.5  200  0.68\n",
       "29  7.5  500  0.68\n",
       "12  2.5  200  0.68\n",
       "5   7.5   50  0.68\n",
       "10  6.5  100  0.69\n",
       "9   5.5  100  0.69\n",
       "22  6.5  300  0.69\n",
       "23  7.5  300  0.69\n",
       "27  5.5  500  0.69\n",
       "14  4.5  200  0.69\n",
       "28  6.5  500  0.70\n",
       "4   6.5   50  0.70\n",
       "3   5.5   50  0.70\n",
       "15  5.5  200  0.70\n",
       "2   4.5   50  0.71"
      ]
     },
     "execution_count": 6,
     "metadata": {},
     "output_type": "execute_result"
    }
   ],
   "source": [
    "pd.DataFrame(res).sort_values(2)"
   ]
  },
  {
   "cell_type": "code",
   "execution_count": null,
   "id": "26a637a5-c877-47f0-9c98-a5711c0d11cd",
   "metadata": {},
   "outputs": [],
   "source": []
  }
 ],
 "metadata": {
  "kernelspec": {
   "display_name": "Python 3 (ipykernel)",
   "language": "python",
   "name": "python3"
  },
  "language_info": {
   "codemirror_mode": {
    "name": "ipython",
    "version": 3
   },
   "file_extension": ".py",
   "mimetype": "text/x-python",
   "name": "python",
   "nbconvert_exporter": "python",
   "pygments_lexer": "ipython3",
   "version": "3.7.11"
  }
 },
 "nbformat": 4,
 "nbformat_minor": 5
}
