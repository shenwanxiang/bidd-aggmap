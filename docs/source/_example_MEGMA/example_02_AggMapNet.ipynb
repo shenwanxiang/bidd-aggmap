{
 "cells": [
  {
   "cell_type": "markdown",
   "id": "a8f02509-2431-41eb-bfd6-68948408b07a",
   "metadata": {},
   "source": [
    "## 3. Training & Test AggMapNet on Country-Specific MEGMA Fmaps\n",
    "\n",
    "In this section, we will introduce how to employ the CNN-based AggMapNet to train CRC detection models using the `megma` generated **2D-microbiomeprints (Fmaps)**. The CRC dection model is a classfication model because we have the binary labels (CRCs or CTRs) in our data. Same as the Fmaps generation, we can use the study to stduy transfer(STST) method to test the performance of our model.\n",
    "\n",
    "Note that in the STST experiment, the Fmaps can be transformed by a country-specific `megma` (fitted or trained by one country unlabelled metagenomic data) or an overall `megma` (fitted or trained by all unlabelled metagenomic data), becuase **MEGMA** is an unsupervised learning method and only needs to be fitted on the unlabelled data.\n",
    "\n",
    "First of all, let's try to explore the Fmaps transformed by a country-specific `megma` performance. Specifically, we are going to train the Fmaps generation model `MEGMA` (unsupervised model) and classficaition model `AggMapNet` (supervised model) based on one country data, and then we will test the performance of the model on the rest of the countries. "
   ]
  },
  {
   "cell_type": "markdown",
   "id": "09287d3c-5723-41f4-8061-6fa5be942fc8",
   "metadata": {},
   "source": [
    "### Traning the country-specific `MEGMA` and `AggMapNet` model"
   ]
  },
  {
   "cell_type": "code",
   "execution_count": 726,
   "id": "f51c8f8b-2912-4cbf-94c9-d38626862dfc",
   "metadata": {},
   "outputs": [],
   "source": [
    "from sklearn.metrics import confusion_matrix\n",
    "from sklearn.metrics import precision_recall_curve \n",
    "from sklearn.metrics import roc_auc_score\n",
    "from sklearn.metrics import auc as calculate_auc\n",
    "import matplotlib.pyplot as plt\n",
    "import seaborn as sns\n",
    "import pandas as pd\n",
    "import numpy as np\n",
    "import os\n",
    "\n",
    "from aggmap import AggMap, AggMapNet\n",
    "from aggmap import show, loadmap\n",
    "\n",
    "np.random.seed(123) #just for reaptable results\n",
    "\n",
    "save_dir = './model_results_1'\n",
    "if not os.path.exists(save_dir):\n",
    "    os.makedirs(save_dir)"
   ]
  },
  {
   "cell_type": "code",
   "execution_count": 727,
   "id": "990a2dab-b5c9-4624-87d2-72c4f8fe24a2",
   "metadata": {},
   "outputs": [],
   "source": [
    "## megma parameters\n",
    "metric = 'correlation' #distance metric\n",
    "cluster_channels = 5 #channel number\n",
    "emb_method = 'umap' #embedding method\n",
    "minv = 1e-8 #minimal value for log-transform\n",
    "scale_method = 'standard' #data scaling method\n",
    "\n",
    "megma_all = loadmap('./megma.all')\n",
    "\n",
    "## AggMapNet parameters\n",
    "epochs = 20 #number of epochs\n",
    "lr = 1e-4 #learning rate\n",
    "batch_size = 1 #batch size\n",
    "conv1_kernel_size = 5 #kernal size of the first cnn layer\n",
    "\n",
    "def train(train_country, megma = None):\n",
    "    \n",
    "    url = 'https://raw.githubusercontent.com/shenwanxiang/bidd-aggmap/master/docs/source/_example_MEGMA/dataset/'\n",
    "    dfx_vector = pd.read_csv(url + '%s_dfx.csv' % train_country, index_col='Sample_ID')\n",
    "    dfx_vector = np.log(dfx_vector + minv)\n",
    "    dfy = pd.read_csv(url + '%s_dfy.csv' % train_country, index_col='Sample_ID')\n",
    "\n",
    "    if megma is None:\n",
    "        # fit unsupervised megma & transform data\n",
    "        megma = AggMap(dfx_vector, metric=metric, by_scipy=True)\n",
    "        megma = megma.fit(cluster_channels = cluster_channels, \n",
    "                          emb_method = emb_method, \n",
    "                          var_thr = 3.0, ## Should be optimized by each megma based on model performance, such as 1, 2, 4, 8, 10, ..\n",
    "                          verbose=0)\n",
    "        \n",
    "    X = megma.batch_transform(dfx_vector.values, \n",
    "                              scale_method = scale_method)\n",
    "    Y = pd.get_dummies(dfy.Group).values\n",
    "    \n",
    "    # fit AggMapNet\n",
    "    clf = AggMapNet.MultiClassEstimator(epochs = epochs,  \n",
    "                                        batch_size = batch_size, \n",
    "                                        lr = lr, \n",
    "                                        conv1_kernel_size = conv1_kernel_size,\n",
    "                                        verbose = 0, gpuid = 1)\n",
    "    clf.fit(X, Y)\n",
    "    \n",
    "    ## save unsupervised megma and supervised AggMapNet model\n",
    "    megma_save_name = os.path.join(save_dir, 'megma.%s.mp' % train_country)\n",
    "    model_save_name = os.path.join(save_dir, 'aggmapnet.%s.h5' % train_country)\n",
    "    \n",
    "    clf.save_model(model_save_name)\n",
    "    megma.save(megma_save_name)\n",
    "\n",
    "    return clf, megma"
   ]
  },
  {
   "cell_type": "code",
   "execution_count": null,
   "id": "3f52b76c-c591-4543-be27-383236ba3364",
   "metadata": {},
   "outputs": [],
   "source": []
  },
  {
   "cell_type": "code",
   "execution_count": null,
   "id": "3f9466b7-f91e-4984-bb8c-d342aab8ed40",
   "metadata": {},
   "outputs": [],
   "source": []
  },
  {
   "cell_type": "markdown",
   "id": "74f55b0a-f1ca-43ea-af34-e8606f8858e7",
   "metadata": {},
   "source": [
    "### Test model performance using STST strategy"
   ]
  },
  {
   "cell_type": "code",
   "execution_count": 728,
   "id": "c6bca268-45cb-412b-87d1-8c516e8392ed",
   "metadata": {},
   "outputs": [],
   "source": [
    "def test(megma, clf, test_country):\n",
    "    url = 'https://raw.githubusercontent.com/shenwanxiang/bidd-aggmap/master/docs/source/_example_MEGMA/dataset/'\n",
    "    dfx_vector = pd.read_csv(url + '%s_dfx.csv' % test_country, index_col='Sample_ID')\n",
    "    dfx_vector = np.log(dfx_vector + minv)\n",
    "    dfy = pd.read_csv(url + '%s_dfy.csv' % test_country, index_col='Sample_ID')\n",
    "    testX = megma.batch_transform(dfx_vector.values, \n",
    "                                  scale_method = scale_method)\n",
    "    testY = pd.get_dummies(dfy.Group).values \n",
    "    y_true = testY[:,0]\n",
    "    y_pred = clf.predict(testX)[:,0] \n",
    "    y_score = clf.predict_proba(testX)[:,0]\n",
    "\n",
    "    tn, fp, fn, tp = confusion_matrix(y_true, y_pred).ravel()\n",
    "    acc = (tp + tn) / sum([tn, fp, fn, tp])\n",
    "    sensitivity = tp / sum([tp, fn])\n",
    "    specificity = tn / sum([tn, fp])\n",
    "    roc_auc = roc_auc_score(y_true, y_score)\n",
    "    precision = tp / sum([tp, fp])\n",
    "    recall =  tp / sum([tp, fn]) #equals to sensitivity\n",
    "    \n",
    "    res = {'test_country':test_country,\n",
    "           'accuracy':acc, \n",
    "           'roc_auc':roc_auc,\n",
    "           'sensitivity': sensitivity, \n",
    "           'specificity': specificity,\n",
    "           'precision':precision,\n",
    "           'recall':recall}\n",
    "    return res\n",
    "\n",
    "def get_non_diag_mean(df):\n",
    "    v = df.values.copy()\n",
    "    np.fill_diagonal(v, np.nan)\n",
    "    mean =  pd.DataFrame(v, columns = df.columns, index = df.index).mean(axis=1).round(2)\n",
    "    std = pd.DataFrame(v, columns = df.columns, index = df.index).std(axis=1).round(2)\n",
    "    return mean,std"
   ]
  },
  {
   "cell_type": "code",
   "execution_count": null,
   "id": "8badff7e-e050-4d7a-8409-f24e51fbd4df",
   "metadata": {
    "tags": []
   },
   "outputs": [],
   "source": []
  },
  {
   "cell_type": "code",
   "execution_count": 729,
   "id": "fa69d21d-5b89-4c92-aede-de67f00a062a",
   "metadata": {
    "tags": []
   },
   "outputs": [
    {
     "name": "stdout",
     "output_type": "stream",
     "text": [
      "2022-08-12 18:19:20,046 - \u001b[32mINFO\u001b[0m - [bidd-aggmap]\u001b[0m - Calculating distance ...\u001b[0m\n"
     ]
    },
    {
     "name": "stderr",
     "output_type": "stream",
     "text": [
      "100%|###############################################################################| 849/849 [00:00<00:00, 5665.11it/s]"
     ]
    },
    {
     "name": "stdout",
     "output_type": "stream",
     "text": [
      "2022-08-12 18:19:20,212 - \u001b[32mINFO\u001b[0m - [bidd-aggmap]\u001b[0m - applying hierarchical clustering to obtain group information ...\u001b[0m\n"
     ]
    },
    {
     "name": "stderr",
     "output_type": "stream",
     "text": [
      "\n"
     ]
    },
    {
     "name": "stdout",
     "output_type": "stream",
     "text": [
      "2022-08-12 18:19:20,661 - \u001b[32mINFO\u001b[0m - [bidd-aggmap]\u001b[0m - Applying grid assignment of feature points, this may take several minutes(1~30 min)\u001b[0m\n",
      "2022-08-12 18:19:20,979 - \u001b[32mINFO\u001b[0m - [bidd-aggmap]\u001b[0m - Finished\u001b[0m\n"
     ]
    },
    {
     "name": "stderr",
     "output_type": "stream",
     "text": [
      "100%|###############################################################################| 128/128 [00:00<00:00, 2675.38it/s]"
     ]
    },
    {
     "name": "stdout",
     "output_type": "stream",
     "text": [
      "MultiClassEstimator(batch_norm=False, batch_size=1, conv1_kernel_size=5,\n",
      "                    dense_avf='relu', dense_layers=[128], dropout=0.0,\n",
      "                    epochs=20, gpuid='1', last_avf='softmax',\n",
      "                    loss='categorical_crossentropy', lr=0.0001, metric='ACC',\n",
      "                    monitor='val_loss', n_inception=2,\n",
      "                    name='AggMap MultiClass Estimator', patience=10000,\n",
      "                    random_state=32, verbose=0)\n"
     ]
    },
    {
     "name": "stderr",
     "output_type": "stream",
     "text": [
      "\n"
     ]
    },
    {
     "name": "stdout",
     "output_type": "stream",
     "text": [
      "saving model to ./model_results_1/aggmapnet.CHN.h5\n"
     ]
    },
    {
     "name": "stderr",
     "output_type": "stream",
     "text": [
      "100%|###############################################################################| 128/128 [00:00<00:00, 3138.79it/s]\n",
      "100%|###############################################################################| 109/109 [00:00<00:00, 2089.47it/s]\n",
      "100%|###############################################################################| 120/120 [00:00<00:00, 1687.45it/s]\n",
      "100%|###############################################################################| 114/114 [00:00<00:00, 1841.37it/s]\n",
      "100%|###############################################################################| 104/104 [00:00<00:00, 1691.01it/s]\n"
     ]
    },
    {
     "name": "stdout",
     "output_type": "stream",
     "text": [
      "2022-08-12 18:19:55,492 - \u001b[32mINFO\u001b[0m - [bidd-aggmap]\u001b[0m - Calculating distance ...\u001b[0m\n"
     ]
    },
    {
     "name": "stderr",
     "output_type": "stream",
     "text": [
      "100%|###############################################################################| 849/849 [00:00<00:00, 5612.41it/s]"
     ]
    },
    {
     "name": "stdout",
     "output_type": "stream",
     "text": [
      "2022-08-12 18:19:55,660 - \u001b[32mINFO\u001b[0m - [bidd-aggmap]\u001b[0m - applying hierarchical clustering to obtain group information ...\u001b[0m\n"
     ]
    },
    {
     "name": "stderr",
     "output_type": "stream",
     "text": [
      "\n"
     ]
    },
    {
     "name": "stdout",
     "output_type": "stream",
     "text": [
      "2022-08-12 18:19:56,180 - \u001b[32mINFO\u001b[0m - [bidd-aggmap]\u001b[0m - Applying grid assignment of feature points, this may take several minutes(1~30 min)\u001b[0m\n",
      "2022-08-12 18:19:56,508 - \u001b[32mINFO\u001b[0m - [bidd-aggmap]\u001b[0m - Finished\u001b[0m\n"
     ]
    },
    {
     "name": "stderr",
     "output_type": "stream",
     "text": [
      "100%|###############################################################################| 109/109 [00:00<00:00, 2482.48it/s]"
     ]
    },
    {
     "name": "stdout",
     "output_type": "stream",
     "text": [
      "MultiClassEstimator(batch_norm=False, batch_size=1, conv1_kernel_size=5,\n",
      "                    dense_avf='relu', dense_layers=[128], dropout=0.0,\n",
      "                    epochs=20, gpuid='1', last_avf='softmax',\n",
      "                    loss='categorical_crossentropy', lr=0.0001, metric='ACC',\n",
      "                    monitor='val_loss', n_inception=2,\n",
      "                    name='AggMap MultiClass Estimator', patience=10000,\n",
      "                    random_state=32, verbose=0)\n"
     ]
    },
    {
     "name": "stderr",
     "output_type": "stream",
     "text": [
      "\n"
     ]
    },
    {
     "name": "stdout",
     "output_type": "stream",
     "text": [
      "saving model to ./model_results_1/aggmapnet.AUS.h5\n"
     ]
    },
    {
     "name": "stderr",
     "output_type": "stream",
     "text": [
      "100%|###############################################################################| 128/128 [00:00<00:00, 2137.50it/s]\n",
      "100%|###############################################################################| 109/109 [00:00<00:00, 2057.79it/s]\n",
      "100%|###############################################################################| 120/120 [00:00<00:00, 2260.19it/s]\n",
      "100%|###############################################################################| 114/114 [00:00<00:00, 2588.03it/s]\n",
      "100%|###############################################################################| 104/104 [00:00<00:00, 2245.48it/s]\n"
     ]
    },
    {
     "name": "stdout",
     "output_type": "stream",
     "text": [
      "2022-08-12 18:20:23,774 - \u001b[32mINFO\u001b[0m - [bidd-aggmap]\u001b[0m - Calculating distance ...\u001b[0m\n"
     ]
    },
    {
     "name": "stderr",
     "output_type": "stream",
     "text": [
      "100%|###############################################################################| 849/849 [00:00<00:00, 5664.05it/s]"
     ]
    },
    {
     "name": "stdout",
     "output_type": "stream",
     "text": [
      "2022-08-12 18:20:23,939 - \u001b[32mINFO\u001b[0m - [bidd-aggmap]\u001b[0m - applying hierarchical clustering to obtain group information ...\u001b[0m\n"
     ]
    },
    {
     "name": "stderr",
     "output_type": "stream",
     "text": [
      "\n"
     ]
    },
    {
     "name": "stdout",
     "output_type": "stream",
     "text": [
      "2022-08-12 18:20:24,468 - \u001b[32mINFO\u001b[0m - [bidd-aggmap]\u001b[0m - Applying grid assignment of feature points, this may take several minutes(1~30 min)\u001b[0m\n",
      "2022-08-12 18:20:24,776 - \u001b[32mINFO\u001b[0m - [bidd-aggmap]\u001b[0m - Finished\u001b[0m\n"
     ]
    },
    {
     "name": "stderr",
     "output_type": "stream",
     "text": [
      "100%|###############################################################################| 120/120 [00:00<00:00, 2694.31it/s]"
     ]
    },
    {
     "name": "stdout",
     "output_type": "stream",
     "text": [
      "MultiClassEstimator(batch_norm=False, batch_size=1, conv1_kernel_size=5,\n",
      "                    dense_avf='relu', dense_layers=[128], dropout=0.0,\n",
      "                    epochs=20, gpuid='1', last_avf='softmax',\n",
      "                    loss='categorical_crossentropy', lr=0.0001, metric='ACC',\n",
      "                    monitor='val_loss', n_inception=2,\n",
      "                    name='AggMap MultiClass Estimator', patience=10000,\n",
      "                    random_state=32, verbose=0)\n"
     ]
    },
    {
     "name": "stderr",
     "output_type": "stream",
     "text": [
      "\n"
     ]
    },
    {
     "name": "stdout",
     "output_type": "stream",
     "text": [
      "saving model to ./model_results_1/aggmapnet.DEU.h5\n"
     ]
    },
    {
     "name": "stderr",
     "output_type": "stream",
     "text": [
      "100%|###############################################################################| 128/128 [00:00<00:00, 2131.51it/s]\n",
      "100%|###############################################################################| 109/109 [00:00<00:00, 1984.90it/s]\n",
      "100%|###############################################################################| 120/120 [00:00<00:00, 2140.87it/s]\n",
      "100%|###############################################################################| 114/114 [00:00<00:00, 2542.43it/s]\n",
      "100%|###############################################################################| 104/104 [00:00<00:00, 1429.33it/s]\n"
     ]
    },
    {
     "name": "stdout",
     "output_type": "stream",
     "text": [
      "2022-08-12 18:20:55,057 - \u001b[32mINFO\u001b[0m - [bidd-aggmap]\u001b[0m - Calculating distance ...\u001b[0m\n"
     ]
    },
    {
     "name": "stderr",
     "output_type": "stream",
     "text": [
      "100%|###############################################################################| 849/849 [00:00<00:00, 5696.70it/s]"
     ]
    },
    {
     "name": "stdout",
     "output_type": "stream",
     "text": [
      "2022-08-12 18:20:55,230 - \u001b[32mINFO\u001b[0m - [bidd-aggmap]\u001b[0m - applying hierarchical clustering to obtain group information ...\u001b[0m\n"
     ]
    },
    {
     "name": "stderr",
     "output_type": "stream",
     "text": [
      "\n"
     ]
    },
    {
     "name": "stdout",
     "output_type": "stream",
     "text": [
      "2022-08-12 18:20:55,782 - \u001b[32mINFO\u001b[0m - [bidd-aggmap]\u001b[0m - Applying grid assignment of feature points, this may take several minutes(1~30 min)\u001b[0m\n",
      "2022-08-12 18:20:56,362 - \u001b[32mINFO\u001b[0m - [bidd-aggmap]\u001b[0m - Finished\u001b[0m\n"
     ]
    },
    {
     "name": "stderr",
     "output_type": "stream",
     "text": [
      "100%|###############################################################################| 114/114 [00:00<00:00, 2151.18it/s]"
     ]
    },
    {
     "name": "stdout",
     "output_type": "stream",
     "text": [
      "MultiClassEstimator(batch_norm=False, batch_size=1, conv1_kernel_size=5,\n",
      "                    dense_avf='relu', dense_layers=[128], dropout=0.0,\n",
      "                    epochs=20, gpuid='1', last_avf='softmax',\n",
      "                    loss='categorical_crossentropy', lr=0.0001, metric='ACC',\n",
      "                    monitor='val_loss', n_inception=2,\n",
      "                    name='AggMap MultiClass Estimator', patience=10000,\n",
      "                    random_state=32, verbose=0)\n"
     ]
    },
    {
     "name": "stderr",
     "output_type": "stream",
     "text": [
      "\n"
     ]
    },
    {
     "name": "stdout",
     "output_type": "stream",
     "text": [
      "saving model to ./model_results_1/aggmapnet.FRA.h5\n"
     ]
    },
    {
     "name": "stderr",
     "output_type": "stream",
     "text": [
      "100%|###############################################################################| 128/128 [00:00<00:00, 2006.21it/s]\n",
      "100%|###############################################################################| 109/109 [00:00<00:00, 1782.17it/s]\n",
      "100%|###############################################################################| 120/120 [00:00<00:00, 2206.04it/s]\n",
      "100%|###############################################################################| 114/114 [00:00<00:00, 2097.25it/s]\n",
      "100%|###############################################################################| 104/104 [00:00<00:00, 1537.21it/s]\n"
     ]
    },
    {
     "name": "stdout",
     "output_type": "stream",
     "text": [
      "2022-08-12 18:21:24,540 - \u001b[32mINFO\u001b[0m - [bidd-aggmap]\u001b[0m - Calculating distance ...\u001b[0m\n"
     ]
    },
    {
     "name": "stderr",
     "output_type": "stream",
     "text": [
      "100%|###############################################################################| 849/849 [00:00<00:00, 5664.88it/s]"
     ]
    },
    {
     "name": "stdout",
     "output_type": "stream",
     "text": [
      "2022-08-12 18:21:24,705 - \u001b[32mINFO\u001b[0m - [bidd-aggmap]\u001b[0m - applying hierarchical clustering to obtain group information ...\u001b[0m\n"
     ]
    },
    {
     "name": "stderr",
     "output_type": "stream",
     "text": [
      "\n"
     ]
    },
    {
     "name": "stdout",
     "output_type": "stream",
     "text": [
      "2022-08-12 18:21:25,243 - \u001b[32mINFO\u001b[0m - [bidd-aggmap]\u001b[0m - Applying grid assignment of feature points, this may take several minutes(1~30 min)\u001b[0m\n",
      "2022-08-12 18:21:25,458 - \u001b[32mINFO\u001b[0m - [bidd-aggmap]\u001b[0m - Finished\u001b[0m\n"
     ]
    },
    {
     "name": "stderr",
     "output_type": "stream",
     "text": [
      "100%|###############################################################################| 104/104 [00:00<00:00, 1930.66it/s]"
     ]
    },
    {
     "name": "stdout",
     "output_type": "stream",
     "text": [
      "MultiClassEstimator(batch_norm=False, batch_size=1, conv1_kernel_size=5,\n",
      "                    dense_avf='relu', dense_layers=[128], dropout=0.0,\n",
      "                    epochs=20, gpuid='1', last_avf='softmax',\n",
      "                    loss='categorical_crossentropy', lr=0.0001, metric='ACC',\n",
      "                    monitor='val_loss', n_inception=2,\n",
      "                    name='AggMap MultiClass Estimator', patience=10000,\n",
      "                    random_state=32, verbose=0)\n"
     ]
    },
    {
     "name": "stderr",
     "output_type": "stream",
     "text": [
      "\n"
     ]
    },
    {
     "name": "stdout",
     "output_type": "stream",
     "text": [
      "saving model to ./model_results_1/aggmapnet.USA.h5\n"
     ]
    },
    {
     "name": "stderr",
     "output_type": "stream",
     "text": [
      "100%|################################################################################| 128/128 [00:00<00:00, 964.64it/s]\n",
      "100%|###############################################################################| 109/109 [00:00<00:00, 1505.84it/s]\n",
      "100%|###############################################################################| 120/120 [00:00<00:00, 1753.06it/s]\n",
      "100%|###############################################################################| 114/114 [00:00<00:00, 1666.92it/s]\n",
      "100%|###############################################################################| 104/104 [00:00<00:00, 2345.45it/s]\n"
     ]
    },
    {
     "data": {
      "text/html": [
       "<div>\n",
       "<style scoped>\n",
       "    .dataframe tbody tr th:only-of-type {\n",
       "        vertical-align: middle;\n",
       "    }\n",
       "\n",
       "    .dataframe tbody tr th {\n",
       "        vertical-align: top;\n",
       "    }\n",
       "\n",
       "    .dataframe thead th {\n",
       "        text-align: right;\n",
       "    }\n",
       "</style>\n",
       "<table border=\"1\" class=\"dataframe\">\n",
       "  <thead>\n",
       "    <tr style=\"text-align: right;\">\n",
       "      <th>test_country</th>\n",
       "      <th>FRA</th>\n",
       "      <th>AUS</th>\n",
       "      <th>CHN</th>\n",
       "      <th>USA</th>\n",
       "      <th>DEU</th>\n",
       "    </tr>\n",
       "    <tr>\n",
       "      <th>train_country</th>\n",
       "      <th></th>\n",
       "      <th></th>\n",
       "      <th></th>\n",
       "      <th></th>\n",
       "      <th></th>\n",
       "    </tr>\n",
       "  </thead>\n",
       "  <tbody>\n",
       "    <tr>\n",
       "      <th>FRA</th>\n",
       "      <td>1.000</td>\n",
       "      <td>0.842</td>\n",
       "      <td>0.873</td>\n",
       "      <td>0.730</td>\n",
       "      <td>0.843</td>\n",
       "    </tr>\n",
       "    <tr>\n",
       "      <th>AUS</th>\n",
       "      <td>0.673</td>\n",
       "      <td>1.000</td>\n",
       "      <td>0.630</td>\n",
       "      <td>0.645</td>\n",
       "      <td>0.723</td>\n",
       "    </tr>\n",
       "    <tr>\n",
       "      <th>CHN</th>\n",
       "      <td>0.739</td>\n",
       "      <td>0.888</td>\n",
       "      <td>1.000</td>\n",
       "      <td>0.665</td>\n",
       "      <td>0.866</td>\n",
       "    </tr>\n",
       "    <tr>\n",
       "      <th>USA</th>\n",
       "      <td>0.663</td>\n",
       "      <td>0.801</td>\n",
       "      <td>0.761</td>\n",
       "      <td>1.000</td>\n",
       "      <td>0.791</td>\n",
       "    </tr>\n",
       "    <tr>\n",
       "      <th>DEU</th>\n",
       "      <td>0.774</td>\n",
       "      <td>0.723</td>\n",
       "      <td>0.798</td>\n",
       "      <td>0.735</td>\n",
       "      <td>1.000</td>\n",
       "    </tr>\n",
       "  </tbody>\n",
       "</table>\n",
       "</div>"
      ],
      "text/plain": [
       "test_country     FRA    AUS    CHN    USA    DEU\n",
       "train_country                                   \n",
       "FRA            1.000  0.842  0.873  0.730  0.843\n",
       "AUS            0.673  1.000  0.630  0.645  0.723\n",
       "CHN            0.739  0.888  1.000  0.665  0.866\n",
       "USA            0.663  0.801  0.761  1.000  0.791\n",
       "DEU            0.774  0.723  0.798  0.735  1.000"
      ]
     },
     "execution_count": 729,
     "metadata": {},
     "output_type": "execute_result"
    }
   ],
   "source": [
    "countries = ['CHN', 'AUS', 'DEU', 'FRA', 'USA'] # \n",
    "#megma_all = loadmap('./megma.all')\n",
    "all_res = []\n",
    "for train_country in countries:\n",
    "    clf, megma = train(train_country, megma = None)\n",
    "    for test_country in countries:\n",
    "        res = test(megma, clf, test_country)\n",
    "        res.update({'train_country':train_country})\n",
    "        all_res.append(res)\n",
    "\n",
    "df = pd.DataFrame(all_res)\n",
    "dfres = pd.crosstab(index = df.train_country, columns= df.test_country, values= df.roc_auc, aggfunc = np.mean)\n",
    "\n",
    "cols = ['FRA', 'AUS', 'CHN', 'USA', 'DEU']\n",
    "ourmodel_df1 = dfres[cols].loc[cols].round(3)\n",
    "ourmodel_df1"
   ]
  },
  {
   "cell_type": "code",
   "execution_count": 730,
   "id": "7b3c9145-aa35-4aed-a76e-265af939cf3e",
   "metadata": {
    "collapsed": true,
    "jupyter": {
     "outputs_hidden": true
    },
    "tags": []
   },
   "outputs": [
    {
     "name": "stderr",
     "output_type": "stream",
     "text": [
      "100%|###############################################################################| 128/128 [00:00<00:00, 1094.02it/s]\n"
     ]
    },
    {
     "name": "stdout",
     "output_type": "stream",
     "text": [
      "MultiClassEstimator(batch_norm=False, batch_size=1, conv1_kernel_size=5,\n",
      "                    dense_avf='relu', dense_layers=[128], dropout=0.0,\n",
      "                    epochs=20, gpuid='1', last_avf='softmax',\n",
      "                    loss='categorical_crossentropy', lr=0.0001, metric='ACC',\n",
      "                    monitor='val_loss', n_inception=2,\n",
      "                    name='AggMap MultiClass Estimator', patience=10000,\n",
      "                    random_state=32, verbose=0)\n",
      "saving model to ./model_results_1/aggmapnet.CHN.h5\n"
     ]
    },
    {
     "name": "stderr",
     "output_type": "stream",
     "text": [
      "100%|###############################################################################| 128/128 [00:00<00:00, 2034.74it/s]\n",
      "100%|###############################################################################| 109/109 [00:00<00:00, 1868.37it/s]\n",
      "100%|###############################################################################| 120/120 [00:00<00:00, 1779.01it/s]\n",
      "100%|###############################################################################| 114/114 [00:00<00:00, 1408.31it/s]\n",
      "100%|###############################################################################| 104/104 [00:00<00:00, 1698.24it/s]\n",
      "100%|###############################################################################| 109/109 [00:00<00:00, 1885.31it/s]\n"
     ]
    },
    {
     "name": "stdout",
     "output_type": "stream",
     "text": [
      "MultiClassEstimator(batch_norm=False, batch_size=1, conv1_kernel_size=5,\n",
      "                    dense_avf='relu', dense_layers=[128], dropout=0.0,\n",
      "                    epochs=20, gpuid='1', last_avf='softmax',\n",
      "                    loss='categorical_crossentropy', lr=0.0001, metric='ACC',\n",
      "                    monitor='val_loss', n_inception=2,\n",
      "                    name='AggMap MultiClass Estimator', patience=10000,\n",
      "                    random_state=32, verbose=0)\n",
      "saving model to ./model_results_1/aggmapnet.AUS.h5\n"
     ]
    },
    {
     "name": "stderr",
     "output_type": "stream",
     "text": [
      "100%|###############################################################################| 128/128 [00:00<00:00, 1672.06it/s]\n",
      "100%|###############################################################################| 109/109 [00:00<00:00, 1343.66it/s]\n",
      "100%|###############################################################################| 120/120 [00:00<00:00, 1742.47it/s]\n",
      "100%|###############################################################################| 114/114 [00:00<00:00, 1773.17it/s]\n",
      "100%|###############################################################################| 104/104 [00:00<00:00, 1719.19it/s]\n",
      "100%|###############################################################################| 120/120 [00:00<00:00, 2161.92it/s]\n"
     ]
    },
    {
     "name": "stdout",
     "output_type": "stream",
     "text": [
      "MultiClassEstimator(batch_norm=False, batch_size=1, conv1_kernel_size=5,\n",
      "                    dense_avf='relu', dense_layers=[128], dropout=0.0,\n",
      "                    epochs=20, gpuid='1', last_avf='softmax',\n",
      "                    loss='categorical_crossentropy', lr=0.0001, metric='ACC',\n",
      "                    monitor='val_loss', n_inception=2,\n",
      "                    name='AggMap MultiClass Estimator', patience=10000,\n",
      "                    random_state=32, verbose=0)\n",
      "saving model to ./model_results_1/aggmapnet.DEU.h5\n"
     ]
    },
    {
     "name": "stderr",
     "output_type": "stream",
     "text": [
      "100%|###############################################################################| 128/128 [00:00<00:00, 1167.29it/s]\n",
      "100%|###############################################################################| 109/109 [00:00<00:00, 1850.13it/s]\n",
      "100%|###############################################################################| 120/120 [00:00<00:00, 1593.74it/s]\n",
      "100%|###############################################################################| 114/114 [00:00<00:00, 1903.44it/s]\n",
      "100%|###############################################################################| 104/104 [00:00<00:00, 1478.87it/s]\n",
      "100%|###############################################################################| 114/114 [00:00<00:00, 1961.60it/s]\n"
     ]
    },
    {
     "name": "stdout",
     "output_type": "stream",
     "text": [
      "MultiClassEstimator(batch_norm=False, batch_size=1, conv1_kernel_size=5,\n",
      "                    dense_avf='relu', dense_layers=[128], dropout=0.0,\n",
      "                    epochs=20, gpuid='1', last_avf='softmax',\n",
      "                    loss='categorical_crossentropy', lr=0.0001, metric='ACC',\n",
      "                    monitor='val_loss', n_inception=2,\n",
      "                    name='AggMap MultiClass Estimator', patience=10000,\n",
      "                    random_state=32, verbose=0)\n",
      "saving model to ./model_results_1/aggmapnet.FRA.h5\n"
     ]
    },
    {
     "name": "stderr",
     "output_type": "stream",
     "text": [
      "100%|###############################################################################| 128/128 [00:00<00:00, 1751.22it/s]\n",
      "100%|###############################################################################| 109/109 [00:00<00:00, 1924.63it/s]\n",
      "100%|###############################################################################| 120/120 [00:00<00:00, 2083.32it/s]\n",
      "100%|###############################################################################| 114/114 [00:00<00:00, 1756.23it/s]\n",
      "100%|###############################################################################| 104/104 [00:00<00:00, 1488.04it/s]\n",
      "100%|###############################################################################| 104/104 [00:00<00:00, 1750.50it/s]\n"
     ]
    },
    {
     "name": "stdout",
     "output_type": "stream",
     "text": [
      "MultiClassEstimator(batch_norm=False, batch_size=1, conv1_kernel_size=5,\n",
      "                    dense_avf='relu', dense_layers=[128], dropout=0.0,\n",
      "                    epochs=20, gpuid='1', last_avf='softmax',\n",
      "                    loss='categorical_crossentropy', lr=0.0001, metric='ACC',\n",
      "                    monitor='val_loss', n_inception=2,\n",
      "                    name='AggMap MultiClass Estimator', patience=10000,\n",
      "                    random_state=32, verbose=0)\n",
      "saving model to ./model_results_1/aggmapnet.USA.h5\n"
     ]
    },
    {
     "name": "stderr",
     "output_type": "stream",
     "text": [
      "100%|###############################################################################| 128/128 [00:00<00:00, 1887.92it/s]\n",
      "100%|###############################################################################| 109/109 [00:00<00:00, 1918.38it/s]\n",
      "100%|###############################################################################| 120/120 [00:00<00:00, 2055.14it/s]\n",
      "100%|###############################################################################| 114/114 [00:00<00:00, 1585.87it/s]\n",
      "100%|###############################################################################| 104/104 [00:00<00:00, 1385.75it/s]\n"
     ]
    },
    {
     "data": {
      "text/html": [
       "<div>\n",
       "<style scoped>\n",
       "    .dataframe tbody tr th:only-of-type {\n",
       "        vertical-align: middle;\n",
       "    }\n",
       "\n",
       "    .dataframe tbody tr th {\n",
       "        vertical-align: top;\n",
       "    }\n",
       "\n",
       "    .dataframe thead th {\n",
       "        text-align: right;\n",
       "    }\n",
       "</style>\n",
       "<table border=\"1\" class=\"dataframe\">\n",
       "  <thead>\n",
       "    <tr style=\"text-align: right;\">\n",
       "      <th>test_country</th>\n",
       "      <th>FRA</th>\n",
       "      <th>AUS</th>\n",
       "      <th>CHN</th>\n",
       "      <th>USA</th>\n",
       "      <th>DEU</th>\n",
       "    </tr>\n",
       "    <tr>\n",
       "      <th>train_country</th>\n",
       "      <th></th>\n",
       "      <th></th>\n",
       "      <th></th>\n",
       "      <th></th>\n",
       "      <th></th>\n",
       "    </tr>\n",
       "  </thead>\n",
       "  <tbody>\n",
       "    <tr>\n",
       "      <th>FRA</th>\n",
       "      <td>1.000</td>\n",
       "      <td>0.873</td>\n",
       "      <td>0.853</td>\n",
       "      <td>0.753</td>\n",
       "      <td>0.909</td>\n",
       "    </tr>\n",
       "    <tr>\n",
       "      <th>AUS</th>\n",
       "      <td>0.759</td>\n",
       "      <td>1.000</td>\n",
       "      <td>0.732</td>\n",
       "      <td>0.761</td>\n",
       "      <td>0.882</td>\n",
       "    </tr>\n",
       "    <tr>\n",
       "      <th>CHN</th>\n",
       "      <td>0.789</td>\n",
       "      <td>0.817</td>\n",
       "      <td>1.000</td>\n",
       "      <td>0.773</td>\n",
       "      <td>0.888</td>\n",
       "    </tr>\n",
       "    <tr>\n",
       "      <th>USA</th>\n",
       "      <td>0.700</td>\n",
       "      <td>0.856</td>\n",
       "      <td>0.770</td>\n",
       "      <td>1.000</td>\n",
       "      <td>0.825</td>\n",
       "    </tr>\n",
       "    <tr>\n",
       "      <th>DEU</th>\n",
       "      <td>0.820</td>\n",
       "      <td>0.851</td>\n",
       "      <td>0.846</td>\n",
       "      <td>0.773</td>\n",
       "      <td>1.000</td>\n",
       "    </tr>\n",
       "  </tbody>\n",
       "</table>\n",
       "</div>"
      ],
      "text/plain": [
       "test_country     FRA    AUS    CHN    USA    DEU\n",
       "train_country                                   \n",
       "FRA            1.000  0.873  0.853  0.753  0.909\n",
       "AUS            0.759  1.000  0.732  0.761  0.882\n",
       "CHN            0.789  0.817  1.000  0.773  0.888\n",
       "USA            0.700  0.856  0.770  1.000  0.825\n",
       "DEU            0.820  0.851  0.846  0.773  1.000"
      ]
     },
     "execution_count": 730,
     "metadata": {},
     "output_type": "execute_result"
    }
   ],
   "source": [
    "countries = ['CHN', 'AUS', 'DEU', 'FRA', 'USA'] # \n",
    "all_res = []\n",
    "for train_country in countries:\n",
    "    clf, megma = train(train_country, megma = megma_all)\n",
    "\n",
    "    for test_country in countries:\n",
    "        res = test(megma, clf, test_country)\n",
    "        res.update({'train_country':train_country})\n",
    "        all_res.append(res)\n",
    "\n",
    "df = pd.DataFrame(all_res)\n",
    "dfres = pd.crosstab(index = df.train_country, columns= df.test_country, values= df.roc_auc, aggfunc = np.mean)\n",
    "\n",
    "cols = ['FRA', 'AUS', 'CHN', 'USA', 'DEU']\n",
    "ourmodel_df2 = dfres[cols].loc[cols].round(3)\n",
    "ourmodel_df2"
   ]
  },
  {
   "cell_type": "code",
   "execution_count": 751,
   "id": "8d84db7e-f433-4fb9-888e-32d7615e57d3",
   "metadata": {},
   "outputs": [
    {
     "data": {
      "text/plain": [
       "(train_country\n",
       " FRA    0.82\n",
       " AUS    0.67\n",
       " CHN    0.79\n",
       " USA    0.75\n",
       " DEU    0.76\n",
       " dtype: float64,\n",
       " train_country\n",
       " FRA    0.06\n",
       " AUS    0.04\n",
       " CHN    0.11\n",
       " USA    0.06\n",
       " DEU    0.03\n",
       " dtype: float64)"
      ]
     },
     "execution_count": 751,
     "metadata": {},
     "output_type": "execute_result"
    }
   ],
   "source": [
    "get_non_diag_mean(ourmodel_df1)"
   ]
  },
  {
   "cell_type": "code",
   "execution_count": null,
   "id": "7c51d214-efb5-4b50-8502-b3f79781ee74",
   "metadata": {},
   "outputs": [],
   "source": []
  },
  {
   "cell_type": "code",
   "execution_count": 750,
   "id": "2c3ed6e0-ceb4-4c9d-a430-41cc7bede96d",
   "metadata": {},
   "outputs": [
    {
     "data": {
      "image/png": "[encoded data removed]",
      "text/plain": [
       "<Figure size 1296x432 with 1 Axes>"
      ]
     },
     "metadata": {},
     "output_type": "display_data"
    }
   ],
   "source": [
    "sns.set(style = 'white', font_scale=2)\n",
    "\n",
    "fig, ax = plt.subplots(nrows=1, ncols=1, figsize=(18,6), sharex = True, sharey = True)\n",
    "\n",
    "y1 = get_non_diag_mean(ourmodel_df1)[0].to_frame(name = 'Country MEGMA')\n",
    "y2 = get_non_diag_mean(ourmodel_df2)[0].to_frame(name = 'Overall MEGMA')\n",
    "\n",
    "y1_err = get_non_diag_mean(ourmodel_df1)[1].to_frame(name = 'Country MEGMA')\n",
    "y2_err = get_non_diag_mean(ourmodel_df2)[1].to_frame(name = 'Overall MEGMA')\n",
    "\n",
    "y = y1.join(y2)\n",
    "y_err = y1_err.join(y2_err)\n",
    "\n",
    "color = sns.color_palette(\"rainbow_r\", 5) #PiYG\n",
    "\n",
    "y.plot(kind = 'bar',ax = ax, color = color, yerr= y_err,ylim = (0.5, 0.96), error_kw=dict(ecolor='gray', lw=2, capsize=6, capthick=2))\n",
    "ax.set_ylabel('ROC-AUC')\n",
    "#ax.set_title('Study To Study Transfer (STST) Average Performance')\n",
    "ax.set_xlabel('Study To Study Transfer Training Country')\n",
    "\n",
    "for x_, y_ in enumerate(y['Country MEGMA'].values):\n",
    "    ax.annotate('%.2f' % y_, xy = (x_-0.39, y_+0.002), fontsize =22)\n",
    "\n",
    "for  x_, y_ in enumerate(y['Overall MEGMA'].values):\n",
    "    ax.annotate('%.2f' % y_, xy = (x_+0.14, y_+0.002), fontsize =22)\n",
    "    \n",
    "ax.set_xticklabels(labels = y.index,rotation=0, ha = 'center')\n",
    "ax.set_ylim(0.5,1.05)\n",
    "\n",
    "ax.tick_params(bottom='on', left='off',  labelleft='on', labelbottom='on', pad=-.6,)\n",
    "sns.despine(top=True, right=True, left=False, bottom=False)\n",
    "\n",
    "\n",
    "# fig.savefig('./results/STST_loso_aggmap_vs_lasso__comparasion_mean.pdf', bbox_inches='tight', dpi=400) "
   ]
  },
  {
   "cell_type": "code",
   "execution_count": 742,
   "id": "b0ab4f18-84fa-42c5-9890-a15820b4a5b4",
   "metadata": {},
   "outputs": [
    {
     "data": {
      "text/plain": [
       "Text(0.5, 6.199999999999996, 'Test country')"
      ]
     },
     "execution_count": 742,
     "metadata": {},
     "output_type": "execute_result"
    },
    {
     "data": {
      "image/png": "[encoded data removed]",
      "text/plain": [
       "<Figure size 936x309.6 with 4 Axes>"
      ]
     },
     "metadata": {},
     "output_type": "display_data"
    }
   ],
   "source": [
    "sns.set(style = 'white', font_scale=1.8)\n",
    "fig, axes = plt.subplots(nrows=1, ncols=2, figsize=(13,4.3), sharex=True, sharey=True)\n",
    "\n",
    "ax1, ax2 = axes\n",
    "\n",
    "sns.heatmap(ourmodel_df1.round(2), cmap = 'Greens',  ax = ax1, annot=True,  vmin = 0.6, vmax = 0.9,)\n",
    "ax1.set_title(\"Country MEGMA\")\n",
    "\n",
    "sns.heatmap(ourmodel_df2.round(2), cmap = 'Greens',  ax = ax2, annot=True, vmin = 0.6, vmax = 0.9,)\n",
    "ax2.set_title(\"Overall MEGMA\")\n",
    "\n",
    "ax1.set_ylabel('Train country')\n",
    "# ax2.set_ylabel('Train country')\n",
    "\n",
    "ax1.set_xlabel('Test country')\n",
    "ax2.set_xlabel('Test country')"
   ]
  },
  {
   "cell_type": "code",
   "execution_count": null,
   "id": "53fc3a13-bc4c-46c0-8e91-d558785f1582",
   "metadata": {},
   "outputs": [],
   "source": []
  },
  {
   "cell_type": "code",
   "execution_count": null,
   "id": "e885c4df-a0ed-4fc9-917d-53b91cf8f664",
   "metadata": {},
   "outputs": [],
   "source": []
  },
  {
   "cell_type": "code",
   "execution_count": null,
   "id": "f5246eea-149f-4c4a-9d56-7ec1a78217ff",
   "metadata": {},
   "outputs": [],
   "source": []
  },
  {
   "cell_type": "code",
   "execution_count": null,
   "id": "f7c61a53-e679-406b-ac29-d7b80fb45f94",
   "metadata": {},
   "outputs": [],
   "source": []
  },
  {
   "cell_type": "code",
   "execution_count": null,
   "id": "fd40d880-1c7c-4233-a872-bf3bf7c8321e",
   "metadata": {},
   "outputs": [],
   "source": []
  },
  {
   "cell_type": "code",
   "execution_count": null,
   "id": "a96f1abc-fd1c-41a3-ad7e-b52112d35496",
   "metadata": {},
   "outputs": [],
   "source": []
  },
  {
   "cell_type": "code",
   "execution_count": null,
   "id": "db8f7bde-be1d-4baf-8869-dcc0863df3ce",
   "metadata": {},
   "outputs": [],
   "source": []
  },
  {
   "cell_type": "code",
   "execution_count": null,
   "id": "9a6f0bd5-4c63-4ce1-82ef-aae2d1a12f2f",
   "metadata": {},
   "outputs": [],
   "source": []
  },
  {
   "cell_type": "code",
   "execution_count": null,
   "id": "a48ef909-e514-448e-a0ef-b25bc2752c54",
   "metadata": {},
   "outputs": [],
   "source": []
  },
  {
   "cell_type": "code",
   "execution_count": null,
   "id": "2d4936f4-9fb2-4108-b3d9-141632a440b0",
   "metadata": {},
   "outputs": [],
   "source": []
  },
  {
   "cell_type": "code",
   "execution_count": null,
   "id": "14d3c853-ea72-4c06-9061-1973340d5b99",
   "metadata": {},
   "outputs": [],
   "source": []
  },
  {
   "cell_type": "code",
   "execution_count": null,
   "id": "7fda737d-f33f-4bd1-8e17-b82b32a32034",
   "metadata": {},
   "outputs": [],
   "source": []
  }
 ],
 "metadata": {
  "kernelspec": {
   "display_name": "Python 3 (ipykernel)",
   "language": "python",
   "name": "python3"
  },
  "language_info": {
   "codemirror_mode": {
    "name": "ipython",
    "version": 3
   },
   "file_extension": ".py",
   "mimetype": "text/x-python",
   "name": "python",
   "nbconvert_exporter": "python",
   "pygments_lexer": "ipython3",
   "version": "3.7.11"
  }
 },
 "nbformat": 4,
 "nbformat_minor": 5
}
