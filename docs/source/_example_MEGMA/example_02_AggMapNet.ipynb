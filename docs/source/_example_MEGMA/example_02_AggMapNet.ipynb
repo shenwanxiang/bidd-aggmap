{
 "cells": [
  {
   "cell_type": "markdown",
   "id": "a8f02509-2431-41eb-bfd6-68948408b07a",
   "metadata": {},
   "source": [
    "## 3. Training the CRC detection models based on MEGMA Fmaps \n",
    "\n",
    "Now that we have fitted the `megma` object for the Fmaps generation, we can train the CRC detection models based on these transformed Fmaps. We are going to use the convolutional neural network (CNN) based AggMapNet to train the Fmaps. AggMapNet is a simple yet efficient network architecture for low-sample size data, it has fewer trainable parameters and early-stopping strategy to stop from overfitting."
   ]
  },
  {
   "cell_type": "markdown",
   "id": "82f96f7a-209a-41a7-b636-514ccdc09226",
   "metadata": {},
   "source": [
    "[3.1 Training & test AggMapNet on overall MEGMA Fmaps](#3.1-Training-and-test-AggMapNet-on-overall-MEGMA-Fmaps)\n",
    "\n",
    "\n",
    "\n",
    "[3.2 Training and test AggMapNet on country specific MEGMA Fmaps](#3.2-Training-and-test-AggMapNet-on-country-specific-MEGMA-Fmaps)\n",
    "\n",
    "[3.3 Comparing the STST performance](#3.3-Comparing-the-STST-performance)"
   ]
  },
  {
   "cell_type": "code",
   "execution_count": 10,
   "id": "840e56c1-0ec6-42e7-a2ef-7b84cb9b380c",
   "metadata": {},
   "outputs": [],
   "source": [
    "from sklearn.metrics import confusion_matrix\n",
    "from sklearn.metrics import precision_recall_curve \n",
    "from sklearn.metrics import roc_auc_score\n",
    "from sklearn.metrics import auc as calculate_auc\n",
    "import matplotlib.pyplot as plt\n",
    "import seaborn as sns\n",
    "import pandas as pd\n",
    "import numpy as np\n",
    "import os\n",
    "\n",
    "from aggmap import AggMap, AggMapNet\n",
    "from aggmap import show, loadmap\n",
    "\n",
    "np.random.seed(666) #just for reaptable results"
   ]
  },
  {
   "cell_type": "code",
   "execution_count": 11,
   "id": "651c628a-6462-421e-8127-fec696986bc3",
   "metadata": {},
   "outputs": [],
   "source": [
    "## AggMapNet parameters\n",
    "epochs = 30 #number of epochs\n",
    "lr = 1e-4 #learning rate\n",
    "batch_size = 1 #batch size\n",
    "conv1_kernel_size = 5 #kernal size of the first cnn layer\n",
    "\n",
    "def train(train_country, megma, model_save_dir):\n",
    "    \n",
    "    ## data process parameters\n",
    "    minv = 1e-8 #minimal value for log-transform\n",
    "    scale_method = 'standard' #data scaling method\n",
    "    url = 'https://raw.githubusercontent.com/shenwanxiang/bidd-aggmap/master/docs/source/_example_MEGMA/dataset/'\n",
    "    \n",
    "    dfx_vector = pd.read_csv(url + '%s_dfx.csv' % train_country, index_col='Sample_ID')\n",
    "    dfx_vector = np.log(dfx_vector + minv)\n",
    "    dfy = pd.read_csv(url + '%s_dfy.csv' % train_country, index_col='Sample_ID')\n",
    "\n",
    "    X = megma.batch_transform(dfx_vector.values, \n",
    "                              scale_method = scale_method)\n",
    "    Y = pd.get_dummies(dfy.Group).values\n",
    "    \n",
    "    # fit AggMapNet\n",
    "    clf = AggMapNet.MultiClassEstimator(epochs = epochs,  \n",
    "                                        batch_size = batch_size, \n",
    "                                        lr = lr, \n",
    "                                        conv1_kernel_size = conv1_kernel_size,\n",
    "                                        verbose = 0, gpuid = 0)\n",
    "    clf.fit(X, Y)\n",
    "    \n",
    "    \n",
    "    ## save supervised AggMapNet model\n",
    "    model_save_name = os.path.join(model_save_dir, 'aggmapnet.%s.h5' % train_country)\n",
    "    clf.save_model(model_save_name)\n",
    "\n",
    "    return clf\n",
    "\n",
    "def test(clf, megma, test_country):\n",
    "    \n",
    "    ## data process parameters\n",
    "    minv = 1e-8 #minimal value for log-transform\n",
    "    scale_method = 'standard' #data scaling method\n",
    "    url = 'https://raw.githubusercontent.com/shenwanxiang/bidd-aggmap/master/docs/source/_example_MEGMA/dataset/'\n",
    "    \n",
    "    dfx_vector = pd.read_csv(url + '%s_dfx.csv' % test_country, index_col='Sample_ID')\n",
    "    dfx_vector = np.log(dfx_vector + minv)\n",
    "    dfy = pd.read_csv(url + '%s_dfy.csv' % test_country, index_col='Sample_ID')\n",
    "    testX = megma.batch_transform(dfx_vector.values, \n",
    "                                  scale_method = scale_method)\n",
    "    testY = pd.get_dummies(dfy.Group).values \n",
    "    y_true = testY[:,0]\n",
    "    y_pred = clf.predict(testX)[:,0] \n",
    "    y_score = clf.predict_proba(testX)[:,0]\n",
    "\n",
    "    tn, fp, fn, tp = confusion_matrix(y_true, y_pred).ravel()\n",
    "    acc = (tp + tn) / sum([tn, fp, fn, tp])\n",
    "    sensitivity = tp / sum([tp, fn])\n",
    "    specificity = tn / sum([tn, fp])\n",
    "    roc_auc = roc_auc_score(y_true, y_score)\n",
    "    precision = tp / sum([tp, fp])\n",
    "    recall =  tp / sum([tp, fn]) #equals to sensitivity\n",
    "    \n",
    "    res = {'test_country':test_country,\n",
    "           'accuracy':acc, \n",
    "           'roc_auc':roc_auc,\n",
    "           'sensitivity': sensitivity, \n",
    "           'specificity': specificity,\n",
    "           'precision':precision,\n",
    "           'recall':recall}\n",
    "    return res\n",
    "\n",
    "def get_non_diag_mean(df):\n",
    "    v = df.values.copy()\n",
    "    np.fill_diagonal(v, np.nan)\n",
    "    mean =  pd.DataFrame(v, columns = df.columns, index = df.index).mean(axis=1).round(2)\n",
    "    std = pd.DataFrame(v, columns = df.columns, index = df.index).std(axis=1).round(2)\n",
    "    return mean,std"
   ]
  },
  {
   "cell_type": "markdown",
   "id": "f86f28b7-c7d4-428d-b26e-18c89d1435fc",
   "metadata": {},
   "source": [
    "### 3.1 Training and test AggMapNet on overall MEGMA Fmaps\n",
    "\n",
    "In this section, we will introduce how to employ the CNN-based AggMapNet to train CRC detection models based on the `megma_all` generated **2D-microbiomeprints (Fmaps)**. The CRC dection model is a classfication model because we have the binary labels (CRCs or CTRs) in our data. Same as the Fmaps generation, we can use the study to stduy transfer(STST) method to test the performance of our model.\n",
    "\n",
    "Please be Noted that in the STST experiment, the Fmaps can be transformed by a country-specific `megma` (fitted or trained by one country unlabelled metagenomic data, such as `megma_usa`) or an overall `megma` (fitted or trained by all unlabelled metagenomic data, i.e., the `megma_all`), becuase **MEGMA** is an unsupervised learning method and only needs to be fitted on the unlabelled data.\n",
    "\n",
    "First of all, let's try to explore the STST model performance on the Fmaps transformed by an overall `megma_all` . Specifically, we are going to train the CRC classficaition model `AggMapNet` (supervised model) based the Fmaps that generated by `megma_all` (unsupervised model). We will train the CRC detection model based on one country data and test the model performance on the rest of the countries."
   ]
  },
  {
   "cell_type": "code",
   "execution_count": null,
   "id": "990a2dab-b5c9-4624-87d2-72c4f8fe24a2",
   "metadata": {
    "tags": []
   },
   "outputs": [
    {
     "name": "stderr",
     "output_type": "stream",
     "text": [
      "100%|#################################################################################| 109/109 [00:01<00:00, 60.17it/s]\n"
     ]
    },
    {
     "name": "stdout",
     "output_type": "stream",
     "text": [
      "MultiClassEstimator(batch_norm=False, batch_size=1, conv1_kernel_size=5,\n",
      "                    dense_avf='relu', dense_layers=[128], dropout=0.0,\n",
      "                    epochs=30, gpuid='0', last_avf='softmax',\n",
      "                    loss='categorical_crossentropy', lr=0.0001, metric='ACC',\n",
      "                    monitor='val_loss', n_inception=2,\n",
      "                    name='AggMap MultiClass Estimator', patience=10000,\n",
      "                    random_state=32, verbose=0)\n"
     ]
    }
   ],
   "source": [
    "save_dir = './model_results_overall'\n",
    "if not os.path.exists(save_dir):\n",
    "    os.makedirs(save_dir)\n",
    "\n",
    "# load the pre-fitted megma_all object\n",
    "megma = loadmap('./megma.all')\n",
    "\n",
    "countries = ['AUS', 'CHN', 'DEU', 'FRA', 'USA'] \n",
    "all_res1 = []\n",
    "for train_country in countries:\n",
    "    clf = train(train_country, megma, save_dir)\n",
    "    # Test model performance using STST strategy\n",
    "    for test_country in countries:\n",
    "        res = test(clf, megma, test_country)\n",
    "        res.update({'train_country':train_country})\n",
    "        all_res1.append(res)\n",
    "\n",
    "df1 = pd.DataFrame(all_res1)\n",
    "dfres1 = pd.crosstab(index = df1.train_country, \n",
    "                    columns= df1.test_country, \n",
    "                    values= df1.roc_auc, \n",
    "                    aggfunc = np.mean)"
   ]
  },
  {
   "cell_type": "markdown",
   "id": "74f55b0a-f1ca-43ea-af34-e8606f8858e7",
   "metadata": {},
   "source": [
    "### 3.2 Training and test AggMapNet on country specific MEGMA Fmaps\n",
    "\n",
    "In this section, we will introduce how to employ the CNN-based AggMapNet to train CRC detection models using the country-specific `megma` generated **2D-microbiomeprints (Fmaps)**. \n",
    "\n",
    "Specifically, we are going to use one country data to fit `megma` and `aggmapnet`, then we test the model performance on the rest of the countries. For example, if we trained the CRC detection model based on the USA data, we are going to use the `megma_usa` to transform the Fmaps for all of the countries, i.e., the country-specific megma will be used. Save as above model evaluation, we will train the AggMapNet-based CRC detection model on one country data (label data and abundance data) and test the model performance on the rest of the countries."
   ]
  },
  {
   "cell_type": "code",
   "execution_count": null,
   "id": "c6bca268-45cb-412b-87d1-8c516e8392ed",
   "metadata": {},
   "outputs": [],
   "source": [
    "save_dir = './model_results_specific'\n",
    "if not os.path.exists(save_dir):\n",
    "    os.makedirs(save_dir)\n",
    "\n",
    "all_res2 = []\n",
    "for train_country in countries:\n",
    "    # load the pre-fitted megma object., such as `megma_usa`.\n",
    "    megma = loadmap('./megma.%s' % train_country)\n",
    "    clf = train(train_country, megma, save_dir)\n",
    "    \n",
    "    # Test model performance using STST strategy\n",
    "    for test_country in countries:\n",
    "        res = test(clf, megma, test_country)\n",
    "        res.update({'train_country':train_country})\n",
    "        all_res2.append(res)\n",
    "\n",
    "df2 = pd.DataFrame(all_res2)\n",
    "dfres2 = pd.crosstab(index = df2.train_country, \n",
    "                    columns= df2.test_country, \n",
    "                    values= df2.roc_auc, \n",
    "                    aggfunc = np.mean)"
   ]
  },
  {
   "cell_type": "markdown",
   "id": "8331bcca-1bd0-4d53-9811-b6050454960a",
   "metadata": {},
   "source": [
    "### 3.3 Comparing the STST performance\n",
    "\n",
    "Now, let's compare the ROC-AUC performance of CRC detection model that trained on the Fmaps generated by overall `megma` and country-specific `megma`. We can see that the `megma_all` shows better performance than the country specific ones.\n",
    "\n",
    "This means that the Fmaps generated by `megma_all` have a more reasonable feature arrangement and combination than country-specific `megma`, and using these `megma_all` Fmaps to train the detection model will achieve better performance. This result is consistent with our previous discussion: `megma` shows better performance under large sample fitting. Since the fitting of `megma` only requires unlabeled data, in practice we can use a large amount of unlabeled data to pre-train `megma`, which is very helpful to the model performance.\n",
    "\n",
    "If the unlabeled data used to fit the `megma` is still limited, we can also adjust the `var_thr` parameter in the fitting stage of `megma` to make the generated Fmaps more structured. In this example, we used `var_thr = 3` to fit the country-specific `megma` for each country, but this value can be adjusted in each country, and we believe that under a larger value, such as 10, better roc-auc performances will be achieved."
   ]
  },
  {
   "cell_type": "code",
   "execution_count": null,
   "id": "2c3ed6e0-ceb4-4c9d-a430-41cc7bede96d",
   "metadata": {},
   "outputs": [],
   "source": [
    "sns.set(style = 'white', font_scale=2)\n",
    "\n",
    "fig, ax = plt.subplots(nrows=1, ncols=1, figsize=(18,6), sharex = True, sharey = True)\n",
    "\n",
    "y1 = get_non_diag_mean(dfres1)[0].to_frame(name = 'Overall MEGMA')\n",
    "y2 = get_non_diag_mean(dfres2)[0].to_frame(name = 'Country MEGMA')\n",
    "\n",
    "y1_err = get_non_diag_mean(dfres1)[1].to_frame(name = 'Overall MEGMA')\n",
    "y2_err = get_non_diag_mean(dfres2)[1].to_frame(name = 'Country MEGMA')\n",
    "\n",
    "y = y1.join(y2)\n",
    "y_err = y1_err.join(y2_err)\n",
    "\n",
    "color = sns.color_palette(\"rainbow_r\", 5) #PiYG\n",
    "\n",
    "y.plot(kind = 'bar',ax = ax, color = color, yerr= y_err,ylim = (0.5, 0.96), error_kw=dict(ecolor='gray', lw=2, capsize=6, capthick=2))\n",
    "ax.set_ylabel('ROC-AUC')\n",
    "#ax.set_title('Study To Study Transfer (STST) Average Performance')\n",
    "ax.set_xlabel('Study To Study Transfer Training Country')\n",
    "\n",
    "for x_, y_ in enumerate(y['Overall MEGMA'].values):\n",
    "    ax.annotate('%.2f' % y_, xy = (x_-0.39, y_+0.002), fontsize =22)\n",
    "\n",
    "for  x_, y_ in enumerate(y['Country MEGMA'].values):\n",
    "    ax.annotate('%.2f' % y_, xy = (x_+0.14, y_+0.002), fontsize =22)\n",
    "    \n",
    "ax.set_xticklabels(labels = y.index,rotation=0, ha = 'center')\n",
    "ax.set_ylim(0.5,1.05)\n",
    "\n",
    "ax.tick_params(bottom='on', left='off',  labelleft='on', labelbottom='on', pad=-.6,)\n",
    "sns.despine(top=True, right=True, left=False, bottom=False)\n",
    "\n",
    "fig.savefig('./images/STST_loso_aggmap_vs_lasso__comparasion_mean.pdf', bbox_inches='tight', dpi=400) "
   ]
  },
  {
   "cell_type": "code",
   "execution_count": null,
   "id": "b0ab4f18-84fa-42c5-9890-a15820b4a5b4",
   "metadata": {},
   "outputs": [],
   "source": [
    "sns.set(style = 'white', font_scale=1.8)\n",
    "fig, axes = plt.subplots(nrows=1, ncols=2, figsize=(13,4.3), sharex=True, sharey=True)\n",
    "\n",
    "ax1, ax2 = axes\n",
    "\n",
    "sns.heatmap(dfres1.round(2), cmap = 'Greens',  ax = ax1, annot=True,  vmin = 0.6, vmax = 0.9,)\n",
    "ax1.set_title(\"Overall MEGMA\")\n",
    "\n",
    "sns.heatmap(dfres2.round(2), cmap = 'Greens',  ax = ax2, annot=True, vmin = 0.6, vmax = 0.9,)\n",
    "ax2.set_title(\"Country MEGMA\")\n",
    "\n",
    "ax1.set_ylabel('Train country')\n",
    "# ax2.set_ylabel('Train country')\n",
    "\n",
    "ax1.set_xlabel('Test country')\n",
    "ax2.set_xlabel('Test country')"
   ]
  }
 ],
 "metadata": {
  "kernelspec": {
   "display_name": "Python 3 (ipykernel)",
   "language": "python",
   "name": "python3"
  },
  "language_info": {
   "codemirror_mode": {
    "name": "ipython",
    "version": 3
   },
   "file_extension": ".py",
   "mimetype": "text/x-python",
   "name": "python",
   "nbconvert_exporter": "python",
   "pygments_lexer": "ipython3",
   "version": "3.7.11"
  }
 },
 "nbformat": 4,
 "nbformat_minor": 5
}
