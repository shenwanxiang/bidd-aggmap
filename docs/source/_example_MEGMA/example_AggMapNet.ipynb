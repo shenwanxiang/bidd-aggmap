{
 "cells": [
  {
   "cell_type": "markdown",
   "id": "a8f02509-2431-41eb-bfd6-68948408b07a",
   "metadata": {},
   "source": [
    "## **AggMapNet trained on MEGMA Fmaps**\n",
    "\n",
    "### Supervised CRC detection model\n",
    "\n",
    "**MEGMA** is short for metagenomic **M**icrobial **E**mbedding, **G**rouping, and **M**apping **A**lgorithm (MEGMA) , which is a further step development of **AggMap** that specific for metagenomic data learning. **MEGMA** is developed to transform the tabular metagenomic data into spatially-correlated color image-like 2D-representations, named as the 2D-microbiomeprints (3D tensor data in the form of row, column and channel). 2D-microbiomeprints are multichannel feature maps (Fmaps) and are the inputs of ConvNet-based AggMapNet models. \n"
   ]
  },
  {
   "cell_type": "code",
   "execution_count": 2,
   "id": "159396b3-e336-4e36-8c31-d1afb7b0b076",
   "metadata": {},
   "outputs": [],
   "source": [
    "import pandas as pd\n",
    "import numpy as np\n",
    "\n",
    "import matplotlib.pyplot as plt\n",
    "import seaborn as sns\n",
    "\n",
    "from aggmap import AggMap, AggMapNet\n",
    "from aggmap import show, loadmap"
   ]
  },
  {
   "cell_type": "code",
   "execution_count": null,
   "id": "6d86d31f-e179-4c33-a45a-1e9029d4d453",
   "metadata": {},
   "outputs": [],
   "source": []
  },
  {
   "cell_type": "markdown",
   "id": "56e20da5-b529-4fe6-b384-8720cb63afd4",
   "metadata": {},
   "source": [
    "<div align=\"center\">\n",
    "   <span style=\"font-weight:bold;\">Table 1. The hyperparameters in AggMap feature restructuring.</span>\n",
    "</div>\n",
    "\n",
    "|Stage|Parameter|Default|Description|\n",
    "|:----|:----|:----|:----|\n",
    "|Initialization stage|`metric`|correlation|Distance metric to measure the similarities between the FPs|\n",
    "|Fitting Stage|`cluster_channels`|5|Number of the channels / clusters of the feature points|\n",
    "|Fitting Stage|`var_thr`|-1|Parameter to remove low-variance features. Feature points with variance lower than this threshold will be removed.|\n",
    "|Fitting Stage|**`n_epochs`**|500|UMAP parameter: Epochs in in minimization the differences of the two weighed graphs|\n",
    "|Fitting Stage|**`lr`**|1|UMAP parameter:Learning rate in minimization the differences of the two weighed graphs|\n",
    "|Fitting Stage|**`min_dist`**|0.01|UMAP parameter:The minimum distance apart that points are allowed to be in the low dimensional representation|\n",
    "|Fitting Stage|**`n_neighbors`**|15|UMAP parameter:K number of nearest neighbours when estimating the manifold structure of the data|\n",
    "|Transformation stage|`scale_method`|minmax|Data scaling by z-score standard scaling or minmax scaling|\n"
   ]
  },
  {
   "cell_type": "code",
   "execution_count": null,
   "id": "689d921e-74cb-435c-9374-b2229645bb3f",
   "metadata": {},
   "outputs": [],
   "source": []
  },
  {
   "cell_type": "code",
   "execution_count": null,
   "id": "707a4531-9bc6-4eff-93f5-58c7822db81c",
   "metadata": {},
   "outputs": [],
   "source": []
  },
  {
   "cell_type": "code",
   "execution_count": null,
   "id": "15efd578-b32e-4e71-a431-f89253680e9f",
   "metadata": {},
   "outputs": [],
   "source": []
  }
 ],
 "metadata": {
  "kernelspec": {
   "display_name": "Python 3 (ipykernel)",
   "language": "python",
   "name": "python3"
  },
  "language_info": {
   "codemirror_mode": {
    "name": "ipython",
    "version": 3
   },
   "file_extension": ".py",
   "mimetype": "text/x-python",
   "name": "python",
   "nbconvert_exporter": "python",
   "pygments_lexer": "ipython3",
   "version": "3.7.11"
  }
 },
 "nbformat": 4,
 "nbformat_minor": 5
}
