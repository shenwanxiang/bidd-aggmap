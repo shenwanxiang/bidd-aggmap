{
 "cells": [
  {
   "cell_type": "markdown",
   "id": "a8f02509-2431-41eb-bfd6-68948408b07a",
   "metadata": {},
   "source": [
    "## 3. Training & Test AggMapNet on MEGMA Fmaps\n",
    "\n",
    "In this section, we will introduce how to employ the CNN-based AggMapNet to train CRC detection models using the `megma` generated **2D-microbiomeprints (Fmaps)**. The CRC dection model is a classfication model because we have the binary labels (CRCs or CTRs) in our data. Same as the Fmaps generation, we can use the study to stduy transfer(STST) method to test the performance of our model.\n",
    "\n",
    "Noted that in the STST experiment, the Fmaps can be transformed by a country-specific `megma` (fitted or trained by one country unlabelled metagenomic data) or an overall `megma` (fitted or trained by all unlabelled metagenomic data), becuase **MEGMA** is an unsupervised learning method and was fitted on the unlabelled data only.\n",
    "\n",
    "First of all, we are going to train the classficaition model based on one country data, and then we will test the performance on the rest of the countries."
   ]
  },
  {
   "cell_type": "markdown",
   "id": "09287d3c-5723-41f4-8061-6fa5be942fc8",
   "metadata": {},
   "source": [
    "### Training CRC detection model "
   ]
  },
  {
   "cell_type": "code",
   "execution_count": null,
   "id": "53f6af64-7b0b-4461-b7c1-4fcaae6c6b26",
   "metadata": {},
   "outputs": [],
   "source": [
    "import pandas as pd\n",
    "import numpy as np\n",
    "\n",
    "import matplotlib.pyplot as plt\n",
    "import seaborn as sns\n",
    "\n",
    "from aggmap import AggMap, AggMapNet\n",
    "from aggmap import show, loadmap\n",
    "\n",
    "\n",
    "## megma parameters\n",
    "metric = 'correlation' #distance metric\n",
    "cluster_channels = 5 #channel number\n",
    "embed_methd = 'umap' #embedding method\n",
    "random_state = 888 #random seed\n",
    "minv = 1e-8 #minimal value for log-transform\n",
    "scale_method = 'standard' #data scaling method\n",
    "\n",
    "## AggMapNet parameters\n",
    "epochs = 30 #number of epochs\n",
    "lr = 1e-4 #learning rate\n",
    "batch_size = 2 #batch size\n",
    "conv1_kernel_size = 5 #kernal size of the first cnn layer\n",
    "\n",
    "\n",
    "\n",
    "\n",
    "countries = ['CHN',] # 'AUS', 'DEU', 'FRA', 'USA'\n",
    "\n",
    "url = 'https://raw.githubusercontent.com/shenwanxiang/bidd-aggmap/master/docs/source/_example_MEGMA/dataset/'\n",
    "\n",
    "for country in countries:\n",
    "    dfx_vector = pd.read_csv(url + '%s_dfx.csv' % country, index_col='Sample_ID')\n",
    "    dfx_vector = np.log(dfx_vector + minv)\n",
    "    \n",
    "    \n",
    "    dfy = pd.read_csv(url + '%s_dfy.csv' % country, index_col='Sample_ID')\n",
    "\n",
    "    \n",
    "    megma = AggMap(dfx_vector)\n",
    "    megma = megma.fit(random_state = random_state)\n",
    "    \n",
    "    save_name = './megma.%s' % country\n",
    "    megma.save(save_name)\n",
    "    \n",
    "    X = megma.batch_transform(dfx.values, scale_method = scale_method)\n",
    "    \n",
    "    Y = pd.get_dummies(dfy.Group).values"
   ]
  },
  {
   "cell_type": "code",
   "execution_count": null,
   "id": "c6bca268-45cb-412b-87d1-8c516e8392ed",
   "metadata": {},
   "outputs": [],
   "source": []
  },
  {
   "cell_type": "code",
   "execution_count": null,
   "id": "0991dc53-0fcf-453b-99d7-8b21f7093208",
   "metadata": {},
   "outputs": [],
   "source": []
  },
  {
   "cell_type": "code",
   "execution_count": null,
   "id": "b19afb5c-9bb8-47c4-afdf-296e5b64e12c",
   "metadata": {},
   "outputs": [],
   "source": []
  },
  {
   "cell_type": "code",
   "execution_count": null,
   "id": "dbb34e56-ece3-45c5-a132-01c43199de32",
   "metadata": {},
   "outputs": [],
   "source": []
  },
  {
   "cell_type": "markdown",
   "id": "8c0685e8-352e-4ed9-b88c-f2c19ff3f8cc",
   "metadata": {},
   "source": [
    "### Test model performance"
   ]
  },
  {
   "cell_type": "markdown",
   "id": "56e20da5-b529-4fe6-b384-8720cb63afd4",
   "metadata": {},
   "source": []
  },
  {
   "cell_type": "code",
   "execution_count": null,
   "id": "6bc12c97-aeae-4123-9082-e75557511763",
   "metadata": {},
   "outputs": [],
   "source": []
  },
  {
   "cell_type": "code",
   "execution_count": 6,
   "id": "e698f1d1-40ea-4141-98d9-9ea0038ea60d",
   "metadata": {},
   "outputs": [],
   "source": []
  },
  {
   "cell_type": "code",
   "execution_count": 3,
   "id": "6fc17a9b-ab73-45c1-9cc0-2b3a12a97393",
   "metadata": {
    "collapsed": true,
    "jupyter": {
     "outputs_hidden": true
    },
    "tags": []
   },
   "outputs": [
    {
     "name": "stdout",
     "output_type": "stream",
     "text": [
      "2022-08-06 15:10:30,490 - \u001b[32mINFO\u001b[0m - [bidd-aggmap]\u001b[0m - Calculating distance ...\u001b[0m\n",
      "2022-08-06 15:10:30,510 - \u001b[32mINFO\u001b[0m - [bidd-aggmap]\u001b[0m - the number of process is 16\u001b[0m\n"
     ]
    },
    {
     "name": "stderr",
     "output_type": "stream",
     "text": [
      "100%|######################################################################################################################################| 359976/359976 [00:28<00:00, 12756.09it/s]\n",
      "100%|####################################################################################################################################| 359976/359976 [00:00<00:00, 5400977.91it/s]\n",
      "100%|#############################################################################################################################################| 849/849 [00:00<00:00, 5723.42it/s]\n"
     ]
    },
    {
     "name": "stdout",
     "output_type": "stream",
     "text": [
      "2022-08-06 15:10:59,093 - \u001b[32mINFO\u001b[0m - [bidd-aggmap]\u001b[0m - applying hierarchical clustering to obtain group information ...\u001b[0m\n",
      "UMAP(a=None, angular_rp_forest=False, b=None, init='spectral',\n",
      "     learning_rate=1.0, local_connectivity=1.0, metric='precomputed',\n",
      "     metric_kwds=None, min_dist=0.1, n_components=2, n_epochs=None,\n",
      "     n_neighbors=15, negative_sample_rate=5, random_state=888,\n",
      "     repulsion_strength=1.0, set_op_mix_ratio=1.0, spread=1.0,\n",
      "     target_metric='categorical', target_metric_kwds=None,\n",
      "     target_n_neighbors=-1, target_weight=0.5, transform_queue_size=4.0,\n",
      "     transform_seed=42, verbose=2)\n",
      "Construct fuzzy simplicial set\n",
      "Sat Aug  6 15:10:59 2022 Finding Nearest Neighbors\n",
      "Sat Aug  6 15:10:59 2022 Finished Nearest Neighbor Search\n",
      "Sat Aug  6 15:10:59 2022 Construct embedding\n",
      "\tcompleted  0  /  500 epochs\n",
      "\tcompleted  50  /  500 epochs\n",
      "\tcompleted  100  /  500 epochs\n",
      "\tcompleted  150  /  500 epochs\n",
      "\tcompleted  200  /  500 epochs\n",
      "\tcompleted  250  /  500 epochs\n",
      "\tcompleted  300  /  500 epochs\n",
      "\tcompleted  350  /  500 epochs\n",
      "\tcompleted  400  /  500 epochs\n",
      "\tcompleted  450  /  500 epochs\n",
      "Sat Aug  6 15:11:01 2022 Finished embedding\n",
      "2022-08-06 15:11:01,210 - \u001b[32mINFO\u001b[0m - [bidd-aggmap]\u001b[0m - Applying grid assignment of feature points, this may take several minutes(1~30 min)\u001b[0m\n",
      "2022-08-06 15:11:01,511 - \u001b[32mINFO\u001b[0m - [bidd-aggmap]\u001b[0m - Finished\u001b[0m\n"
     ]
    }
   ],
   "source": []
  },
  {
   "cell_type": "code",
   "execution_count": 5,
   "id": "53812051-9f79-4ffc-bcc4-a765eba93ade",
   "metadata": {},
   "outputs": [
    {
     "data": {
      "text/html": [
       "<div>\n",
       "<style scoped>\n",
       "    .dataframe tbody tr th:only-of-type {\n",
       "        vertical-align: middle;\n",
       "    }\n",
       "\n",
       "    .dataframe tbody tr th {\n",
       "        vertical-align: top;\n",
       "    }\n",
       "\n",
       "    .dataframe thead th {\n",
       "        text-align: right;\n",
       "    }\n",
       "</style>\n",
       "<table border=\"1\" class=\"dataframe\">\n",
       "  <thead>\n",
       "    <tr style=\"text-align: right;\">\n",
       "      <th></th>\n",
       "      <th>CRC</th>\n",
       "      <th>CTR</th>\n",
       "    </tr>\n",
       "    <tr>\n",
       "      <th>Sample_ID</th>\n",
       "      <th></th>\n",
       "      <th></th>\n",
       "    </tr>\n",
       "  </thead>\n",
       "  <tbody>\n",
       "    <tr>\n",
       "      <th>ERR1018185</th>\n",
       "      <td>1</td>\n",
       "      <td>0</td>\n",
       "    </tr>\n",
       "    <tr>\n",
       "      <th>ERR1018186</th>\n",
       "      <td>1</td>\n",
       "      <td>0</td>\n",
       "    </tr>\n",
       "    <tr>\n",
       "      <th>ERR1018187</th>\n",
       "      <td>1</td>\n",
       "      <td>0</td>\n",
       "    </tr>\n",
       "    <tr>\n",
       "      <th>ERR1018188</th>\n",
       "      <td>1</td>\n",
       "      <td>0</td>\n",
       "    </tr>\n",
       "    <tr>\n",
       "      <th>ERR1018189</th>\n",
       "      <td>1</td>\n",
       "      <td>0</td>\n",
       "    </tr>\n",
       "    <tr>\n",
       "      <th>...</th>\n",
       "      <td>...</td>\n",
       "      <td>...</td>\n",
       "    </tr>\n",
       "    <tr>\n",
       "      <th>ERR1018308</th>\n",
       "      <td>0</td>\n",
       "      <td>1</td>\n",
       "    </tr>\n",
       "    <tr>\n",
       "      <th>ERR1018309</th>\n",
       "      <td>0</td>\n",
       "      <td>1</td>\n",
       "    </tr>\n",
       "    <tr>\n",
       "      <th>ERR1018310</th>\n",
       "      <td>1</td>\n",
       "      <td>0</td>\n",
       "    </tr>\n",
       "    <tr>\n",
       "      <th>ERR1018311</th>\n",
       "      <td>1</td>\n",
       "      <td>0</td>\n",
       "    </tr>\n",
       "    <tr>\n",
       "      <th>ERR1018312</th>\n",
       "      <td>1</td>\n",
       "      <td>0</td>\n",
       "    </tr>\n",
       "  </tbody>\n",
       "</table>\n",
       "<p>128 rows × 2 columns</p>\n",
       "</div>"
      ],
      "text/plain": [
       "            CRC  CTR\n",
       "Sample_ID           \n",
       "ERR1018185    1    0\n",
       "ERR1018186    1    0\n",
       "ERR1018187    1    0\n",
       "ERR1018188    1    0\n",
       "ERR1018189    1    0\n",
       "...         ...  ...\n",
       "ERR1018308    0    1\n",
       "ERR1018309    0    1\n",
       "ERR1018310    1    0\n",
       "ERR1018311    1    0\n",
       "ERR1018312    1    0\n",
       "\n",
       "[128 rows x 2 columns]"
      ]
     },
     "execution_count": 5,
     "metadata": {},
     "output_type": "execute_result"
    }
   ],
   "source": [
    "def train(dfx_vector, dfy, country, megma = None, ):\n",
    "    \n",
    "    if megma is None:\n",
    "        megma = AggMap(dfx_vector)\n",
    "        megma = megma.fit(random_state = random_state)\n",
    "\n",
    "        save_name = './megma.%s' % country\n",
    "        megma.save(save_name)    \n",
    "    \n",
    "    X = megma.batch_transform(dfx.values, scale_method = scale_method)\n",
    "    \n",
    "    Y = pd.get_dummies(dfy.Group).values    \n",
    "    \n",
    "    \n",
    "    \n",
    "    \n",
    "    "
   ]
  },
  {
   "cell_type": "code",
   "execution_count": null,
   "id": "b1200a03-515b-48ba-9c30-7e9702ee1e2f",
   "metadata": {},
   "outputs": [],
   "source": []
  }
 ],
 "metadata": {
  "kernelspec": {
   "display_name": "Python 3 (ipykernel)",
   "language": "python",
   "name": "python3"
  },
  "language_info": {
   "codemirror_mode": {
    "name": "ipython",
    "version": 3
   },
   "file_extension": ".py",
   "mimetype": "text/x-python",
   "name": "python",
   "nbconvert_exporter": "python",
   "pygments_lexer": "ipython3",
   "version": "3.7.11"
  }
 },
 "nbformat": 4,
 "nbformat_minor": 5
}
