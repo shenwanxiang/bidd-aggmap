{
 "cells": [
  {
   "cell_type": "markdown",
   "id": "cf8e156b-25c8-40cf-a18e-654a6c88cc70",
   "metadata": {},
   "source": [
    "## Important Signature Identification"
   ]
  },
  {
   "cell_type": "code",
   "execution_count": null,
   "id": "d4689652-b17c-4e20-9f66-9aa0be5337ed",
   "metadata": {},
   "outputs": [],
   "source": []
  }
 ],
 "metadata": {
  "kernelspec": {
   "display_name": "Python 3 (ipykernel)",
   "language": "python",
   "name": "python3"
  },
  "language_info": {
   "codemirror_mode": {
    "name": "ipython",
    "version": 3
   },
   "file_extension": ".py",
   "mimetype": "text/x-python",
   "name": "python",
   "nbconvert_exporter": "python",
   "pygments_lexer": "ipython3",
   "version": "3.7.11"
  }
 },
 "nbformat": 4,
 "nbformat_minor": 5
}
