{
 "cells": [
  {
   "cell_type": "markdown",
   "id": "cf8e156b-25c8-40cf-a18e-654a6c88cc70",
   "metadata": {},
   "source": [
    "## 4. Important microbial marker identification\n",
    "\n",
    "In this section, we are going to calculate the global feature importance (GFI) to find out the key microbes that contributes to the CRC detection model. The *simply-explainer* is used to calculate the GFI, more about the AggMapNet model exaplaination can be found [**here**](https://bidd-aggmap.readthedocs.io/en/latest/_HPs/hps_content.html#AggMapNet-Explainers). By calculating the importance score for each microbes, we can draw the saliency-map to find out the hot zone in the **2D-microbiomeprints**.\n",
    "\n",
    "[**Saliency-Map**](https://www.geeksforgeeks.org/what-is-saliency-map/) is an image in which the brightness of a pixel represents how salient the pixel is i.e brightness of a pixel is directly proportional to its saliency. It is generally a grayscale image. Saliency maps are also called as a heat map where hotness refers to those regions of the image which have a big impact on predicting the class which the object belongs to. \n",
    "\n",
    "The purpose of the saliency-map is to find the regions which are prominent or noticeable at every location in the visual field and to guide the selection of attended locations, based on the spatial distribution of saliency. \n",
    "\n",
    "\n",
    "\n"
   ]
  },
  {
   "cell_type": "markdown",
   "id": "61384768-72b0-4a75-893b-612e3751217c",
   "metadata": {},
   "source": [
    "[4.1 Calculate the global feature importance](#4.1-Calculate-the-global-feature-importance)\n",
    "\n",
    "* [4.1.1 GFI for model trained on overall MEGMA Fmaps](#4.1.1-GFI-for-model-trained-on-overall-MEGMA-Fmaps)\n",
    "\n",
    "* [4.1.2 GFI for model trained on country specific MEGMA Fmaps](#4.1.2-GFI-for-model-trained-on-country-specific-MEGMA-Fmaps)"
   ]
  },
  {
   "cell_type": "markdown",
   "id": "a87e8fc3-b31e-4a1e-9b18-db15b026923c",
   "metadata": {},
   "source": [
    "[4.2 Generate the explaination saliency map](#4.2-Generate-the-explaination-saliency-map) \n",
    "\n",
    "* [4.2.1 Saliency map for overall MEGMA Fmaps](#4.2.1-Saliency-map-for-overall-MEGMA-Fmaps)\n",
    "\n",
    "* [4.2.2 Saliency map country specific MEGMA Fmaps](#4.2.2-Saliency-map-country-specific-MEGMA-Fmaps)\n",
    "\n",
    "[4.3 Global feature importance correlation](#4.3-Global-feature-importance-correlation) \n",
    "\n",
    "[4.4 Discussions and conclusions on saliency map](#4.4-Discussions-and-conclusions-on-saliency-map) "
   ]
  },
  {
   "cell_type": "code",
   "execution_count": 40,
   "id": "bd6b6883-2c0f-4cba-91ef-6e366437d8ae",
   "metadata": {},
   "outputs": [],
   "source": [
    "from matplotlib.ticker import FormatStrFormatter\n",
    "import matplotlib.pyplot as plt\n",
    "import matplotlib.patches as patches\n",
    "import seaborn as sns\n",
    "import pandas as pd\n",
    "import numpy as np\n",
    "import os\n",
    "sns.set(style='white',  font='sans-serif', font_scale=2)\n",
    "\n",
    "\n",
    "from aggmap import loadmap, AggMapNet\n",
    "from aggmap.AggMapNet import load_model"
   ]
  },
  {
   "cell_type": "markdown",
   "id": "073e6030-0fb8-4ade-aff1-cd6a87d099b5",
   "metadata": {},
   "source": [
    "### 4.1 Calculate the global feature importance\n",
    "\n",
    "Let's calculate the GFI first. We need to reload the trained model that dumped in the disk. After that, we will use the `simply_explainer` to calculate GFI based on the training set data (i.e., the one country data used to train the model)."
   ]
  },
  {
   "cell_type": "markdown",
   "id": "b25cda54-6bb5-4625-a1de-c23a258b8886",
   "metadata": {},
   "source": [
    "#### 4.1.1 GFI for model trained on overall MEGMA Fmaps\n",
    "\n",
    "The global feature importance is calculated based on the training set. Once we got the GFI values, The megma object can help us to reshape the GFI vector to the saliency map. \n"
   ]
  },
  {
   "cell_type": "code",
   "execution_count": 41,
   "id": "d4689652-b17c-4e20-9f66-9aa0be5337ed",
   "metadata": {
    "tags": []
   },
   "outputs": [
    {
     "name": "stdout",
     "output_type": "stream",
     "text": [
      "2022-08-23 14:50:40,816 - \u001b[32mINFO\u001b[0m - [bidd-aggmap]\u001b[0m - Explaining the whole samples of the training Set\u001b[0m\n",
      "2022-08-23 14:50:40,876 - \u001b[32mINFO\u001b[0m - [bidd-aggmap]\u001b[0m - calculating feature importance for class 0 ...\u001b[0m\n"
     ]
    },
    {
     "name": "stderr",
     "output_type": "stream",
     "text": [
      "100%|################################################################################| 870/870 [00:06<00:00, 144.03it/s]"
     ]
    },
    {
     "name": "stdout",
     "output_type": "stream",
     "text": [
      "2022-08-23 14:50:46,919 - \u001b[32mINFO\u001b[0m - [bidd-aggmap]\u001b[0m - calculating feature importance for class 1 ...\u001b[0m\n"
     ]
    },
    {
     "name": "stderr",
     "output_type": "stream",
     "text": [
      "\n",
      "100%|################################################################################| 870/870 [00:07<00:00, 115.34it/s]\n"
     ]
    },
    {
     "name": "stdout",
     "output_type": "stream",
     "text": [
      "2022-08-23 14:50:54,534 - \u001b[32mINFO\u001b[0m - [bidd-aggmap]\u001b[0m - Explaining the whole samples of the training Set\u001b[0m\n",
      "2022-08-23 14:50:54,590 - \u001b[32mINFO\u001b[0m - [bidd-aggmap]\u001b[0m - calculating feature importance for class 0 ...\u001b[0m\n"
     ]
    },
    {
     "name": "stderr",
     "output_type": "stream",
     "text": [
      "100%|################################################################################| 870/870 [00:08<00:00, 101.50it/s]"
     ]
    },
    {
     "name": "stdout",
     "output_type": "stream",
     "text": [
      "2022-08-23 14:51:03,164 - \u001b[32mINFO\u001b[0m - [bidd-aggmap]\u001b[0m - calculating feature importance for class 1 ...\u001b[0m\n"
     ]
    },
    {
     "name": "stderr",
     "output_type": "stream",
     "text": [
      "\n",
      "100%|################################################################################| 870/870 [00:08<00:00, 102.50it/s]"
     ]
    },
    {
     "name": "stdout",
     "output_type": "stream",
     "text": [
      "2022-08-23 14:51:11,728 - \u001b[32mINFO\u001b[0m - [bidd-aggmap]\u001b[0m - Explaining the whole samples of the training Set\u001b[0m\n"
     ]
    },
    {
     "name": "stderr",
     "output_type": "stream",
     "text": [
      "\n"
     ]
    },
    {
     "name": "stdout",
     "output_type": "stream",
     "text": [
      "2022-08-23 14:51:11,783 - \u001b[32mINFO\u001b[0m - [bidd-aggmap]\u001b[0m - calculating feature importance for class 0 ...\u001b[0m\n"
     ]
    },
    {
     "name": "stderr",
     "output_type": "stream",
     "text": [
      "100%|################################################################################| 870/870 [00:07<00:00, 118.12it/s]"
     ]
    },
    {
     "name": "stdout",
     "output_type": "stream",
     "text": [
      "2022-08-23 14:51:19,151 - \u001b[32mINFO\u001b[0m - [bidd-aggmap]\u001b[0m - calculating feature importance for class 1 ...\u001b[0m\n"
     ]
    },
    {
     "name": "stderr",
     "output_type": "stream",
     "text": [
      "\n",
      "100%|################################################################################| 870/870 [00:07<00:00, 110.75it/s]"
     ]
    },
    {
     "name": "stdout",
     "output_type": "stream",
     "text": [
      "2022-08-23 14:51:27,072 - \u001b[32mINFO\u001b[0m - [bidd-aggmap]\u001b[0m - Explaining the whole samples of the training Set\u001b[0m\n",
      "2022-08-23 14:51:27,126 - \u001b[32mINFO\u001b[0m - [bidd-aggmap]\u001b[0m - calculating feature importance for class 0 ...\u001b[0m\n"
     ]
    },
    {
     "name": "stderr",
     "output_type": "stream",
     "text": [
      "\n",
      "100%|################################################################################| 870/870 [00:06<00:00, 131.94it/s]"
     ]
    },
    {
     "name": "stdout",
     "output_type": "stream",
     "text": [
      "2022-08-23 14:51:33,724 - \u001b[32mINFO\u001b[0m - [bidd-aggmap]\u001b[0m - calculating feature importance for class 1 ...\u001b[0m\n"
     ]
    },
    {
     "name": "stderr",
     "output_type": "stream",
     "text": [
      "\n",
      "100%|################################################################################| 870/870 [00:06<00:00, 125.66it/s]"
     ]
    },
    {
     "name": "stdout",
     "output_type": "stream",
     "text": [
      "2022-08-23 14:51:40,716 - \u001b[32mINFO\u001b[0m - [bidd-aggmap]\u001b[0m - Explaining the whole samples of the training Set\u001b[0m\n",
      "2022-08-23 14:51:40,772 - \u001b[32mINFO\u001b[0m - [bidd-aggmap]\u001b[0m - calculating feature importance for class 0 ...\u001b[0m\n"
     ]
    },
    {
     "name": "stderr",
     "output_type": "stream",
     "text": [
      "\n",
      "100%|################################################################################| 870/870 [00:06<00:00, 129.03it/s]"
     ]
    },
    {
     "name": "stdout",
     "output_type": "stream",
     "text": [
      "2022-08-23 14:51:47,517 - \u001b[32mINFO\u001b[0m - [bidd-aggmap]\u001b[0m - calculating feature importance for class 1 ...\u001b[0m\n"
     ]
    },
    {
     "name": "stderr",
     "output_type": "stream",
     "text": [
      "\n",
      "100%|################################################################################| 870/870 [00:06<00:00, 132.44it/s]\n"
     ]
    }
   ],
   "source": [
    "countries = ['AUS', 'CHN', 'DEU', 'FRA', 'USA'] \n",
    "\n",
    "model_dir = './megma_overall_model'\n",
    "# load the pre-fitted megma_all object\n",
    "megma = loadmap('./megma/megma.all')\n",
    "\n",
    "gfis = []\n",
    "for country in countries:\n",
    "    clf = load_model(os.path.join(model_dir, 'aggmapnet.%s' % country),  gpuid=0)\n",
    "    sxp = AggMapNet.simply_explainer(clf, megma, \n",
    "                                     backgroud = 'global_min', \n",
    "                                     apply_smoothing = True)\n",
    "    gfi = sxp.global_explain()\n",
    "    gfis.append(gfi.simply_importance_class_0.to_frame(name = country))\n",
    "    \n",
    "dfimp1 = pd.concat(gfis, axis=1)"
   ]
  },
  {
   "cell_type": "markdown",
   "id": "973eea9b-387b-4068-9c04-174f1a3dc27a",
   "metadata": {},
   "source": [
    "#### 4.1.2 GFI for model trained on country specific MEGMA Fmaps\n"
   ]
  },
  {
   "cell_type": "code",
   "execution_count": 42,
   "id": "7e08c78a-a01f-411d-93e8-e86593e01189",
   "metadata": {
    "tags": []
   },
   "outputs": [
    {
     "name": "stdout",
     "output_type": "stream",
     "text": [
      "2022-08-23 14:51:54,224 - \u001b[32mINFO\u001b[0m - [bidd-aggmap]\u001b[0m - calculating feature importance for class 0 ...\u001b[0m\n"
     ]
    },
    {
     "name": "stderr",
     "output_type": "stream",
     "text": [
      "100%|################################################################################| 756/756 [00:06<00:00, 124.74it/s]"
     ]
    },
    {
     "name": "stdout",
     "output_type": "stream",
     "text": [
      "2022-08-23 14:52:00,286 - \u001b[32mINFO\u001b[0m - [bidd-aggmap]\u001b[0m - calculating feature importance for class 1 ...\u001b[0m\n"
     ]
    },
    {
     "name": "stderr",
     "output_type": "stream",
     "text": [
      "\n",
      "100%|################################################################################| 756/756 [00:06<00:00, 116.17it/s]\n"
     ]
    },
    {
     "name": "stdout",
     "output_type": "stream",
     "text": [
      "2022-08-23 14:52:06,921 - \u001b[32mINFO\u001b[0m - [bidd-aggmap]\u001b[0m - calculating feature importance for class 0 ...\u001b[0m\n"
     ]
    },
    {
     "name": "stderr",
     "output_type": "stream",
     "text": [
      "100%|################################################################################| 650/650 [00:05<00:00, 110.10it/s]"
     ]
    },
    {
     "name": "stdout",
     "output_type": "stream",
     "text": [
      "2022-08-23 14:52:12,828 - \u001b[32mINFO\u001b[0m - [bidd-aggmap]\u001b[0m - calculating feature importance for class 1 ...\u001b[0m\n"
     ]
    },
    {
     "name": "stderr",
     "output_type": "stream",
     "text": [
      "\n",
      "100%|################################################################################| 650/650 [00:05<00:00, 108.49it/s]"
     ]
    },
    {
     "name": "stdout",
     "output_type": "stream",
     "text": [
      "2022-08-23 14:52:18,950 - \u001b[32mINFO\u001b[0m - [bidd-aggmap]\u001b[0m - calculating feature importance for class 0 ...\u001b[0m\n"
     ]
    },
    {
     "name": "stderr",
     "output_type": "stream",
     "text": [
      "\n",
      "100%|#################################################################################| 756/756 [00:08<00:00, 91.79it/s]"
     ]
    },
    {
     "name": "stdout",
     "output_type": "stream",
     "text": [
      "2022-08-23 14:52:27,189 - \u001b[32mINFO\u001b[0m - [bidd-aggmap]\u001b[0m - calculating feature importance for class 1 ...\u001b[0m\n"
     ]
    },
    {
     "name": "stderr",
     "output_type": "stream",
     "text": [
      "\n",
      "100%|################################################################################| 756/756 [00:06<00:00, 108.12it/s]\n"
     ]
    },
    {
     "name": "stdout",
     "output_type": "stream",
     "text": [
      "2022-08-23 14:52:34,320 - \u001b[32mINFO\u001b[0m - [bidd-aggmap]\u001b[0m - calculating feature importance for class 0 ...\u001b[0m\n"
     ]
    },
    {
     "name": "stderr",
     "output_type": "stream",
     "text": [
      "100%|################################################################################| 784/784 [00:06<00:00, 115.26it/s]"
     ]
    },
    {
     "name": "stdout",
     "output_type": "stream",
     "text": [
      "2022-08-23 14:52:41,124 - \u001b[32mINFO\u001b[0m - [bidd-aggmap]\u001b[0m - calculating feature importance for class 1 ...\u001b[0m\n"
     ]
    },
    {
     "name": "stderr",
     "output_type": "stream",
     "text": [
      "\n",
      "100%|################################################################################| 784/784 [00:07<00:00, 108.63it/s]"
     ]
    },
    {
     "name": "stdout",
     "output_type": "stream",
     "text": [
      "2022-08-23 14:52:48,476 - \u001b[32mINFO\u001b[0m - [bidd-aggmap]\u001b[0m - calculating feature importance for class 0 ...\u001b[0m\n"
     ]
    },
    {
     "name": "stderr",
     "output_type": "stream",
     "text": [
      "\n",
      "100%|################################################################################| 756/756 [00:05<00:00, 132.63it/s]"
     ]
    },
    {
     "name": "stdout",
     "output_type": "stream",
     "text": [
      "2022-08-23 14:52:54,178 - \u001b[32mINFO\u001b[0m - [bidd-aggmap]\u001b[0m - calculating feature importance for class 1 ...\u001b[0m\n"
     ]
    },
    {
     "name": "stderr",
     "output_type": "stream",
     "text": [
      "\n",
      "100%|################################################################################| 756/756 [00:05<00:00, 136.45it/s]\n"
     ]
    }
   ],
   "source": [
    "model_dir = './megma_country_model'\n",
    "\n",
    "gfis2 = []\n",
    "reshape_indexes = {}\n",
    "for country in countries:\n",
    "    #load the country-specific megma\n",
    "    megma = loadmap('./megma/megma.%s' % country)\n",
    "    clf = load_model(os.path.join(model_dir, 'aggmapnet.%s' % country),  gpuid=0)\n",
    "    sxp = AggMapNet.simply_explainer(clf, megma, \n",
    "                                     backgroud = 'global_min', \n",
    "                                     apply_smoothing = True)\n",
    "    gfi2 = sxp.global_explain(clf.X_, clf.y_)\n",
    "    gfis2.append(gfi2.simply_importance_class_0.to_frame(name = country))\n",
    "    \n",
    "    ## megma is different, therefore the reshape index and fmap_shape is also different\n",
    "    reshape_index = megma.feature_names_reshape\n",
    "    reshape_indexes.update({country: (megma.fmap_shape, reshape_index)})\n",
    "    \n",
    "dfimp2 = pd.concat(gfis2, axis=1)"
   ]
  },
  {
   "cell_type": "markdown",
   "id": "6d75bb30-b216-452d-8bd6-65466ccf121d",
   "metadata": {},
   "source": [
    "### 4.2 Generate the explaination saliency map\n"
   ]
  },
  {
   "cell_type": "markdown",
   "id": "a50afc45-c9b0-4fbe-a41e-4fa8d6229515",
   "metadata": {},
   "source": [
    "\n",
    "#### 4.2.1 Saliency map for overall MEGMA Fmaps\n",
    "\n"
   ]
  },
  {
   "cell_type": "code",
   "execution_count": 43,
   "id": "ddb07fed-6c61-4873-85e8-7bd9babf701c",
   "metadata": {
    "tags": []
   },
   "outputs": [
    {
     "data": {
      "image/png": "[encoded data removed]",
      "text/plain": [
       "<Figure size 1728x288 with 10 Axes>"
      ]
     },
     "metadata": {},
     "output_type": "display_data"
    }
   ],
   "source": [
    "megma = loadmap('./megma/megma.all')\n",
    "\n",
    "fig, axes  = plt.subplots(1, 5, figsize=(24, 4))\n",
    "\n",
    "for country, ax in zip(countries, axes):\n",
    "    \n",
    "    IMPM = dfimp1[country].values.reshape(*megma.fmap_shape)\n",
    "    #print(IMPM.max().round(1))\n",
    "\n",
    "    sns.heatmap(IMPM,  \n",
    "                cmap = 'rainbow', alpha = 0.8, ax =ax, xticklabels=0, yticklabels=0, \n",
    "                vmin = -0.1, vmax = 3.5, \n",
    "                cbar_kws = {'fraction':0.046, 'shrink':0.9, 'aspect': 40, 'pad':0.02, })\n",
    "\n",
    "    ax.set_title(country)\n",
    "    cbar = ax.collections[0].colorbar\n",
    "    cbar.ax.set_title('FI')\n",
    "    cbar.ax.yaxis.set_major_formatter(FormatStrFormatter(\"%.0f\"))\n",
    "\n",
    "    plt.subplots_adjust(wspace = 0.18)"
   ]
  },
  {
   "cell_type": "markdown",
   "id": "fae3be73-5ce9-4697-85e1-9b70190eb96c",
   "metadata": {},
   "source": [
    "#### 4.2.2 Saliency map country specific MEGMA Fmaps"
   ]
  },
  {
   "cell_type": "code",
   "execution_count": 44,
   "id": "48e9ef94-17d4-4619-9dc6-820ea921df9b",
   "metadata": {
    "tags": []
   },
   "outputs": [
    {
     "data": {
      "image/png": "[encoded data removed]",
      "text/plain": [
       "<Figure size 1728x288 with 10 Axes>"
      ]
     },
     "metadata": {},
     "output_type": "display_data"
    }
   ],
   "source": [
    "fig, axes  = plt.subplots(1, 5, figsize=(24, 4))\n",
    "\n",
    "for country, ax in zip(countries, axes):\n",
    "\n",
    "    fmap_shape, reshape_idx =  reshape_indexes[country]\n",
    "    IMPM = dfimp2.loc[reshape_idx][country].values.reshape(*fmap_shape)\n",
    "    #print(IMPM.max().round(1))\n",
    "\n",
    "    sns.heatmap(IMPM,  \n",
    "                cmap = 'rainbow', alpha = 0.8, ax =ax, xticklabels=0, yticklabels=0, \n",
    "                vmin = -0.1, vmax = 3.5,  \n",
    "                cbar_kws = {'fraction':0.046, 'shrink':0.9, 'aspect': 40, 'pad':0.02, })\n",
    "\n",
    "    bottom, top = ax.get_ylim()\n",
    "    #ax.set_ylim(bottom + 0.5, top - 0.5)\n",
    "\n",
    "    ax.set_title(country)\n",
    "    cbar = ax.collections[0].colorbar\n",
    "    cbar.ax.set_title('FI')\n",
    "    cbar.ax.yaxis.set_major_formatter(FormatStrFormatter(\"%.0f\"))\n",
    "\n",
    "    plt.subplots_adjust(wspace = 0.18)"
   ]
  },
  {
   "cell_type": "markdown",
   "id": "e1eafd60-6c8c-4d7c-9b8c-3cec82f5b259",
   "metadata": {},
   "source": [
    "----"
   ]
  },
  {
   "cell_type": "markdown",
   "id": "22dd56f2-0882-4f0a-b655-3482dba8fd0f",
   "metadata": {},
   "source": [
    "### 4.3 Global feature importance correlation\n",
    "\n",
    "lets calculate the correlations between the global feature importance (GFI) scores in different countries.\n"
   ]
  },
  {
   "cell_type": "code",
   "execution_count": 56,
   "id": "e79eff01-cb34-49ae-80b1-0af1c3aa03b8",
   "metadata": {},
   "outputs": [
    {
     "data": {
      "image/png": "[encoded data removed]",
      "text/plain": [
       "<Figure size 1008x360 with 4 Axes>"
      ]
     },
     "metadata": {},
     "output_type": "display_data"
    }
   ],
   "source": [
    "\n",
    "fig, axes = plt.subplots(ncols = 2, figsize=(14,5))\n",
    "\n",
    "ax1, ax2 = axes\n",
    "\n",
    "sns.heatmap(dfimp1.corr(), annot=True, fmt='.2f', linewidths=.3, ax = ax1,\n",
    "                 annot_kws={\"size\": 16}, square=True,robust=True, vmin = 0, vmax = 0.9,\n",
    "                 cmap='Greens')\n",
    "\n",
    "sns.heatmap(dfimp2.corr(), annot=True, fmt='.2f', linewidths=.3, ax = ax2,\n",
    "                 annot_kws={\"size\": 16}, square=True,robust=True, vmin = 0, vmax = 0.9,\n",
    "                 cmap='Greens')\n",
    "\n",
    "ax1.set_title(\"Overall MEGMA\")\n",
    "ax2.set_title(\"Country MEGMA\")\n",
    "\n",
    "plt.tight_layout()\n",
    "\n",
    "fig.savefig('./images/GFI_megma_all_vs_megma_country.png', bbox_inches='tight', dpi=400) \n",
    "dfimp1.to_csv('./images/STST_GFI_megma_all.csv')\n",
    "dfimp2.to_csv('./images/STST_GFI_megma_specific.csv')"
   ]
  },
  {
   "cell_type": "markdown",
   "id": "5750e47f-1e95-41cf-b6f2-5138768e1df3",
   "metadata": {},
   "source": [
    "Let's show the important microbes in the hot zones"
   ]
  },
  {
   "cell_type": "code",
   "execution_count": 57,
   "id": "71d7ec26-2209-468f-9407-176fd664ac1a",
   "metadata": {},
   "outputs": [
    {
     "data": {
      "text/plain": [
       "Fusobacterium nucleatum s. vincentii [ref_mOTU_v2_0754]      5.218354\n",
       "Parvimonas sp. [ref_mOTU_v2_4961]                            4.979554\n",
       "unknown Dialister [meta_mOTU_v2_5867]                        4.836612\n",
       "Alloprevotella tannerae [ref_mOTU_v2_4636]                   4.834034\n",
       "Peptostreptococcus anaerobius [ref_mOTU_v2_0148]             4.693618\n",
       "Prevotella oris [ref_mOTU_v2_0520]                           4.692594\n",
       "Anaerococcus obesiensis/vaginalis [ref_mOTU_v2_0429]         4.499776\n",
       "Parvimonas sp. [ref_mOTU_v2_5245]                            4.463052\n",
       "Pyramidobacter piscolens [ref_mOTU_v2_4064]                  4.232398\n",
       "Parvimonas micra [ref_mOTU_v2_1145]                          4.171736\n",
       "Streptococcus constellatus/intermedius [ref_mOTU_v2_0143]    3.993972\n",
       "Fusobacterium nucleatum s. animalis [ref_mOTU_v2_0776]       3.772395\n",
       "Streptococcus anginosus [ref_mOTU_v2_0004]                   3.696676\n",
       "Streptococcus anginosus [ref_mOTU_v2_0351]                   3.673769\n",
       "Porphyromonas somerae [ref_mOTU_v2_2101]                     3.654271\n",
       "Solobacterium moorei [ref_mOTU_v2_0531]                      3.616368\n",
       "Fusobacterium gonidiaformans [ref_mOTU_v2_1404]              3.410015\n",
       "Clostridiales bacterium S5-A14a [meta_mOTU_v2_5486]          3.360331\n",
       "Prevotella intermedia [ref_mOTU_v2_0515]                     3.316667\n",
       "Streptococcus sp. 2_1_36FAA [ref_mOTU_v2_1399]               3.184260\n",
       "dtype: float64"
      ]
     },
     "execution_count": 57,
     "metadata": {},
     "output_type": "execute_result"
    }
   ],
   "source": [
    "dfimp1.mean(axis=1).sort_values(ascending=False).head(20)"
   ]
  },
  {
   "cell_type": "code",
   "execution_count": 58,
   "id": "502a99f4-0823-4bcd-9969-a16fb8032fc2",
   "metadata": {},
   "outputs": [],
   "source": [
    "S1 = dfimp2.AUS.sort_values(ascending=False).head(20).index.to_list()\n",
    "S2 = dfimp2.CHN.sort_values(ascending=False).head(20).index.to_list()\n",
    "S3 = dfimp2.DEU.sort_values(ascending=False).head(20).index.to_list()\n",
    "S4 = dfimp2.FRA.sort_values(ascending=False).head(20).index.to_list()\n",
    "S5 = dfimp2.USA.sort_values(ascending=False).head(20).index.to_list()"
   ]
  },
  {
   "cell_type": "code",
   "execution_count": 59,
   "id": "fe431f54-f8c7-4d7d-bf4c-12f849e02716",
   "metadata": {},
   "outputs": [
    {
     "data": {
      "text/plain": [
       "{'Fusobacterium nucleatum s. vincentii [ref_mOTU_v2_0754]',\n",
       " 'Parvimonas micra [ref_mOTU_v2_1145]',\n",
       " 'unknown Dialister [meta_mOTU_v2_5867]'}"
      ]
     },
     "execution_count": 59,
     "metadata": {},
     "output_type": "execute_result"
    }
   ],
   "source": [
    "set(S2) & set(S3) & set(S4)"
   ]
  },
  {
   "cell_type": "markdown",
   "id": "5374d7ad-03f6-4956-99fd-4d75d78c6c55",
   "metadata": {},
   "source": [
    "### 4.4 Discussions and conclusions on saliency map\n",
    "\n",
    "We can see that there are some notable regions on the saliency map, i.e., the hot zones. The microbes in these zones are important microbes. For the 5 detection models built from `megma_all` transformed Fmaps, all of the important zones is in the left upper conner (as shown in **Fig.1**), and their GFI scores are highly-correlated to each other.\n",
    "\n",
    "![overall](https://raw.githubusercontent.com/shenwanxiang/bidd-aggmap/master/docs/source/_example_MEGMA/images/overall.png)\n",
    "**Fig. 1**: Fmaps generated by overall `megma` and the saliency maps.\n",
    "\n"
   ]
  },
  {
   "cell_type": "markdown",
   "id": "ace16e32-871a-4098-98e9-d799ffd89115",
   "metadata": {},
   "source": [
    "----\n",
    "\n",
    "\n",
    "For the 5 detection models built from country-specific `megma` transformed Fmaps, the important zones located in different areas(as shown in **Fig.2**), but the GFI values are highly-correlated among the four countries of CHN, FRA, DEU, and USA.\n",
    "\n",
    "![specific](https://raw.githubusercontent.com/shenwanxiang/bidd-aggmap/master/docs/source/_example_MEGMA/images/specific.png)\n",
    "**Fig. 2**: Fmaps generated by country-specific `megma` and the saliency maps.\n",
    "\n",
    "By fitting megma with different data, the 2D arrangement of microorganisms is different. Therefore, the hot zones for the country-specific megma is in different regions. Although the hot regions are different, the microbes in these regions may be in high consistant (for examples, the species of *Fusobacterium nucleatum s. vincentii [ref_mOTU_v2_0754]*, *Parvimonas sp. [ref_mOTU_v2_4961]*, and *unknown Dialister [meta_mOTU_v2_5867]* are located in these zones.). \n",
    "\n",
    "We can see that the performance of the models trained based on these Fmaps is also different. The performance of the model is increased if the key microbes are clustered together, so that the hotspots can also be seen in the saliency map. For example, the STST performance for the country-specific `megma_AUS` is worst among the 5 countries, and the hot zone and GFI calculated also shows not so consistant with the rest countries.\n",
    "\n",
    "In conclusion, the overall `megma` (fitted by all metagenomic abundance data) shows better performance than country-specific `megma` (fitted by one country metagenomic abundance data), suggesting that unsupervised `megma` should also be fitted on larger samples. The MEGMA-AggMapNet-Explainer pipeline can be used to identify important microbes."
   ]
  }
 ],
 "metadata": {
  "kernelspec": {
   "display_name": "Python 3 (ipykernel)",
   "language": "python",
   "name": "python3"
  },
  "language_info": {
   "codemirror_mode": {
    "name": "ipython",
    "version": 3
   },
   "file_extension": ".py",
   "mimetype": "text/x-python",
   "name": "python",
   "nbconvert_exporter": "python",
   "pygments_lexer": "ipython3",
   "version": "3.7.11"
  }
 },
 "nbformat": 4,
 "nbformat_minor": 5
}
