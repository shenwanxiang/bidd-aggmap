{
 "cells": [
  {
   "cell_type": "markdown",
   "id": "cf8e156b-25c8-40cf-a18e-654a6c88cc70",
   "metadata": {},
   "source": [
    "## 4. Important microbial marker identification\n",
    "\n",
    "In this section, we are going to calculate the global feature importance (GFI) to find out the key microbes that contributes to the CRC detection model. The *simply-explainer* is used to calculate the GFI, more about the AggMapNet model exaplaination can be found [**here**](https://bidd-aggmap.readthedocs.io/en/latest/_HPs/hps_content.html#AggMapNet-Explainers). By calculating the importance score for each microbes, we can draw the saliency-map to find out the hot zone in the **2D-microbiomeprints**.\n",
    "\n",
    "[**Saliency-Map**](https://www.geeksforgeeks.org/what-is-saliency-map/) is an image in which the brightness of a pixel represents how salient the pixel is i.e brightness of a pixel is directly proportional to its saliency. It is generally a grayscale image. Saliency maps are also called as a heat map where hotness refers to those regions of the image which have a big impact on predicting the class which the object belongs to. \n",
    "\n",
    "The purpose of the saliency-map is to find the regions which are prominent or noticeable at every location in the visual field and to guide the selection of attended locations, based on the spatial distribution of saliency. \n",
    "\n",
    "\n",
    "\n"
   ]
  },
  {
   "cell_type": "markdown",
   "id": "61384768-72b0-4a75-893b-612e3751217c",
   "metadata": {},
   "source": [
    "[4.1 Calculate the global feature importance](#4.1-Calculate-the-global-feature-importance)\n",
    "\n",
    "* [4.1.1 GFI for model trained on overall MEGMA Fmaps](#4.1.1-GFI-for-model-trained-on-overall-MEGMA-Fmaps)\n",
    "\n",
    "* [4.1.2 GFI for model trained on country specific MEGMA Fmaps](#4.1.2-GFI-for-model-trained-on-country-specific-MEGMA-Fmaps)"
   ]
  },
  {
   "cell_type": "markdown",
   "id": "a87e8fc3-b31e-4a1e-9b18-db15b026923c",
   "metadata": {},
   "source": [
    "[4.2 Generate the explaination saliency map](#4.2-Generate-the-explaination-saliency-map) \n",
    "\n",
    "* [4.2.1 Saliency map for overall MEGMA Fmaps](#4.2.1-Saliency-map-for-overall-MEGMA-Fmaps)\n",
    "\n",
    "* [4.2.2 Saliency map country specific MEGMA Fmaps](#4.2.2-Saliency-map-country-specific-MEGMA-Fmaps)"
   ]
  },
  {
   "cell_type": "code",
   "execution_count": 169,
   "id": "bd6b6883-2c0f-4cba-91ef-6e366437d8ae",
   "metadata": {},
   "outputs": [],
   "source": [
    "from matplotlib.ticker import FormatStrFormatter\n",
    "import matplotlib.pyplot as plt\n",
    "import matplotlib.patches as patches\n",
    "import seaborn as sns\n",
    "import pandas as pd\n",
    "import numpy as np\n",
    "import os\n",
    "sns.set(style='white',  font='sans-serif', font_scale=2)\n",
    "\n",
    "\n",
    "from aggmap import loadmap, AggMapNet\n",
    "from aggmap.AggMapNet import load_model"
   ]
  },
  {
   "cell_type": "markdown",
   "id": "073e6030-0fb8-4ade-aff1-cd6a87d099b5",
   "metadata": {},
   "source": [
    "### 4.1 Calculate the global feature importance\n",
    "\n",
    "Let's calculate the GFI first. we need to reload the trained model that dumped in the disk. After that, we use the `simply_explainer` to calculate GFI based on the training set data (i.e., the one country data used to train the model)."
   ]
  },
  {
   "cell_type": "markdown",
   "id": "b25cda54-6bb5-4625-a1de-c23a258b8886",
   "metadata": {},
   "source": [
    "#### 4.1.1 GFI for model trained on overall MEGMA Fmaps"
   ]
  },
  {
   "cell_type": "code",
   "execution_count": null,
   "id": "d4689652-b17c-4e20-9f66-9aa0be5337ed",
   "metadata": {
    "tags": []
   },
   "outputs": [
    {
     "name": "stdout",
     "output_type": "stream",
     "text": [
      "2022-08-17 16:41:08,323 - \u001b[32mINFO\u001b[0m - [bidd-aggmap]\u001b[0m - Explaining the whole samples of the training Set\u001b[0m\n",
      "2022-08-17 16:41:08,388 - \u001b[32mINFO\u001b[0m - [bidd-aggmap]\u001b[0m - calculating feature importance for class 0 ...\u001b[0m\n"
     ]
    },
    {
     "name": "stderr",
     "output_type": "stream",
     "text": [
      "100%|################################################################################| 870/870 [00:08<00:00, 105.37it/s]"
     ]
    },
    {
     "name": "stdout",
     "output_type": "stream",
     "text": [
      "2022-08-17 16:41:16,647 - \u001b[32mINFO\u001b[0m - [bidd-aggmap]\u001b[0m - calculating feature importance for class 1 ...\u001b[0m\n"
     ]
    },
    {
     "name": "stderr",
     "output_type": "stream",
     "text": [
      "\n",
      "100%|################################################################################| 870/870 [00:07<00:00, 113.23it/s]"
     ]
    },
    {
     "name": "stdout",
     "output_type": "stream",
     "text": [
      "2022-08-17 16:41:24,397 - \u001b[32mINFO\u001b[0m - [bidd-aggmap]\u001b[0m - Explaining the whole samples of the training Set\u001b[0m\n"
     ]
    },
    {
     "name": "stderr",
     "output_type": "stream",
     "text": [
      "\n"
     ]
    },
    {
     "name": "stdout",
     "output_type": "stream",
     "text": [
      "2022-08-17 16:41:24,467 - \u001b[32mINFO\u001b[0m - [bidd-aggmap]\u001b[0m - calculating feature importance for class 0 ...\u001b[0m\n"
     ]
    },
    {
     "name": "stderr",
     "output_type": "stream",
     "text": [
      " 58%|##############################################                                  | 501/870 [00:03<00:02, 123.52it/s]"
     ]
    }
   ],
   "source": [
    "countries = ['CHN', 'USA', 'DEU', 'FRA',  'AUS'] \n",
    "\n",
    "model_dir = './megma_overall_model'\n",
    "# load the pre-fitted megma_all object\n",
    "megma = loadmap('./megma/megma.all')\n",
    "\n",
    "gfis = []\n",
    "for country in countries:\n",
    "    clf = load_model(os.path.join(model_dir, 'aggmapnet.%s' % country),  gpuid=0)\n",
    "    sxp = AggMapNet.simply_explainer(clf, megma, \n",
    "                                     backgroud = 'global_min', \n",
    "                                     apply_smoothing = True)\n",
    "    gfi = sxp.global_explain()\n",
    "    gfis.append(gfi.simply_importance_class_0.to_frame(name = country))\n",
    "    \n",
    "dfimp1 = pd.concat(gfis, axis=1)"
   ]
  },
  {
   "cell_type": "markdown",
   "id": "973eea9b-387b-4068-9c04-174f1a3dc27a",
   "metadata": {},
   "source": [
    "#### 4.1.2 GFI for model trained on country specific MEGMA Fmaps"
   ]
  },
  {
   "cell_type": "code",
   "execution_count": null,
   "id": "7e08c78a-a01f-411d-93e8-e86593e01189",
   "metadata": {
    "tags": []
   },
   "outputs": [],
   "source": [
    "model_dir = './megma_country_model'\n",
    "\n",
    "gfis2 = []\n",
    "reshape_indexes = {}\n",
    "for country in countries:\n",
    "    \n",
    "    clf = load_model(os.path.join(model_dir, 'aggmapnet.%s' % country),  gpuid=0)\n",
    "    megma = loadmap(os.path.join(model_dir, 'megma.%s' % country))\n",
    "\n",
    "    sxp = AggMapNet.simply_explainer(clf, megma, \n",
    "                                     backgroud = 'global_min', \n",
    "                                     apply_smoothing = True)\n",
    "    gfi2 = sxp.global_explain(clf.X_, clf.y_)\n",
    "    gfis2.append(gfi2.simply_importance_class_0.to_frame(name = country))\n",
    "    \n",
    "    ## megma is different, therefore the reshape index and fmap_shape is also different\n",
    "    reshape_index = megma.feature_names_reshape\n",
    "    reshape_indexes.update({country: (megma.fmap_shape, reshape_index)})\n",
    "    \n",
    "dfimp2 = pd.concat(gfis2, axis=1)"
   ]
  },
  {
   "cell_type": "code",
   "execution_count": null,
   "id": "c459f348-1252-4bbd-9207-28a0461fa2db",
   "metadata": {},
   "outputs": [],
   "source": [
    "country"
   ]
  },
  {
   "cell_type": "markdown",
   "id": "6d75bb30-b216-452d-8bd6-65466ccf121d",
   "metadata": {},
   "source": [
    "### 4.2 Generate the explaination saliency map\n"
   ]
  },
  {
   "cell_type": "markdown",
   "id": "a50afc45-c9b0-4fbe-a41e-4fa8d6229515",
   "metadata": {},
   "source": [
    "\n",
    "#### 4.2.1 Saliency map for overall MEGMA Fmaps\n",
    "\n"
   ]
  },
  {
   "cell_type": "code",
   "execution_count": null,
   "id": "ddb07fed-6c61-4873-85e8-7bd9babf701c",
   "metadata": {},
   "outputs": [],
   "source": [
    "megma = loadmap('./megma/megma.all')\n",
    "\n",
    "for country in countries:\n",
    "    fig, ax  = plt.subplots(1, 1, figsize=(10, 9))\n",
    "    IMPM = dfimp1[country].values.reshape(*megma.fmap_shape)\n",
    "    print(IMPM.max().round(1))\n",
    "\n",
    "    sns.heatmap(IMPM,  \n",
    "                cmap = 'rainbow', alpha = 0.8, xticklabels=4, ax =ax,\n",
    "                yticklabels=4, vmin = -0.1, vmax = 4.2,\n",
    "                cbar_kws = {'fraction':0.046, 'shrink':0.9, 'aspect': 40, 'pad':0.02, })\n",
    "\n",
    "    bottom, top = ax.get_ylim()\n",
    "    #ax.set_ylim(bottom + 0.5, top - 0.5)\n",
    "\n",
    "    ax.set_title(country)\n",
    "    cbar = ax.collections[0].colorbar\n",
    "    cbar.ax.set_title('FI')\n",
    "    cbar.ax.yaxis.set_major_formatter(FormatStrFormatter(\"%.1f\"))\n",
    "\n",
    "    plt.subplots_adjust(wspace = 0.18)"
   ]
  },
  {
   "cell_type": "markdown",
   "id": "fae3be73-5ce9-4697-85e1-9b70190eb96c",
   "metadata": {},
   "source": [
    "#### 4.2.2 Saliency map country specific MEGMA Fmaps"
   ]
  },
  {
   "cell_type": "code",
   "execution_count": null,
   "id": "48e9ef94-17d4-4619-9dc6-820ea921df9b",
   "metadata": {
    "tags": []
   },
   "outputs": [],
   "source": [
    "for country in countries:\n",
    "\n",
    "    fig, ax  = plt.subplots(1, 1, figsize=(10, 9))\n",
    "\n",
    "    fmap_shape, reshape_idx =  reshape_indexes[country]\n",
    "    IMPM = dfimp2.loc[reshape_idx][country].values.reshape(*fmap_shape)\n",
    "    print(IMPM.max().round(1))\n",
    "\n",
    "    sns.heatmap(IMPM,  \n",
    "                cmap = 'rainbow', alpha = 0.8, xticklabels=4, ax =ax,\n",
    "                yticklabels=4, vmin = -0.1, vmax = 3.5,\n",
    "                cbar_kws = {'fraction':0.046, 'shrink':0.9, 'aspect': 40, 'pad':0.02, })\n",
    "\n",
    "    bottom, top = ax.get_ylim()\n",
    "    #ax.set_ylim(bottom + 0.5, top - 0.5)\n",
    "\n",
    "    ax.set_title(country)\n",
    "    cbar = ax.collections[0].colorbar\n",
    "    cbar.ax.set_title('FI')\n",
    "    cbar.ax.yaxis.set_major_formatter(FormatStrFormatter(\"%.1f\"))\n",
    "\n",
    "    plt.subplots_adjust(wspace = 0.18)"
   ]
  },
  {
   "cell_type": "code",
   "execution_count": null,
   "id": "e04f40ac-1195-421c-8c0f-653e4b544c5a",
   "metadata": {},
   "outputs": [],
   "source": [
    "sns.heatmap(dfimp2.corr(), cmap = 'rainbow_r')"
   ]
  },
  {
   "cell_type": "code",
   "execution_count": null,
   "id": "20671cb6-6ddb-425c-9a02-e40f2ee37b29",
   "metadata": {},
   "outputs": [],
   "source": [
    "megma"
   ]
  },
  {
   "cell_type": "code",
   "execution_count": null,
   "id": "ebd95afb-54c1-4bb1-89f5-8c354c1d1d80",
   "metadata": {},
   "outputs": [],
   "source": [
    "megmas = []\n",
    "for country in countries:\n",
    "    megma = loadmap(os.path.join(model_dir, 'megma.%s' % country))\n",
    "    megmas.append(megma)\n",
    "    \n",
    "chn, usa, deu, fra, aus = megmas\n"
   ]
  },
  {
   "cell_type": "code",
   "execution_count": null,
   "id": "436d6698-3e63-4a56-9958-d33a1ae823f2",
   "metadata": {},
   "outputs": [],
   "source": [
    "aus = dict(zip(countries,megmas))['AUS']"
   ]
  },
  {
   "cell_type": "code",
   "execution_count": null,
   "id": "26d81325-1a8d-4d40-9dd4-a97f40351e3d",
   "metadata": {},
   "outputs": [],
   "source": [
    "countries"
   ]
  },
  {
   "cell_type": "code",
   "execution_count": null,
   "id": "fd7e6fff-e731-4b15-8cc7-7d72b601551b",
   "metadata": {},
   "outputs": [],
   "source": [
    "aus.plot_grid()"
   ]
  },
  {
   "cell_type": "code",
   "execution_count": null,
   "id": "a64f4624-c66e-424d-8bec-61103216c569",
   "metadata": {},
   "outputs": [],
   "source": []
  },
  {
   "cell_type": "code",
   "execution_count": null,
   "id": "78ff4b20-4559-4318-9a24-9d3be8b2470e",
   "metadata": {},
   "outputs": [],
   "source": []
  }
 ],
 "metadata": {
  "kernelspec": {
   "display_name": "Python 3 (ipykernel)",
   "language": "python",
   "name": "python3"
  },
  "language_info": {
   "codemirror_mode": {
    "name": "ipython",
    "version": 3
   },
   "file_extension": ".py",
   "mimetype": "text/x-python",
   "name": "python",
   "nbconvert_exporter": "python",
   "pygments_lexer": "ipython3",
   "version": "3.7.11"
  }
 },
 "nbformat": 4,
 "nbformat_minor": 5
}
