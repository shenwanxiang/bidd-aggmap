{
 "cells": [
  {
   "cell_type": "code",
   "execution_count": 2,
   "id": "bbcf01af-ff6e-4e87-8349-57b10631cc93",
   "metadata": {},
   "outputs": [
    {
     "name": "stdout",
     "output_type": "stream",
     "text": [
      "[NbConvertApp] Converting notebook ./example_00_Introduction.ipynb to html\n",
      "[NbConvertApp] Writing 280986 bytes to example_00_Introduction.html\n",
      "[NbConvertApp] Converting notebook ./example_01_MEGMA.ipynb to html\n",
      "[NbConvertApp] Writing 1450810 bytes to example_01_MEGMA.html\n",
      "[NbConvertApp] Converting notebook ./example_02_AggMapNet.ipynb to html\n",
      "[NbConvertApp] Writing 488876 bytes to example_02_AggMapNet.html\n",
      "[NbConvertApp] Converting notebook ./example_03_Explaination.ipynb to html\n",
      "[NbConvertApp] Writing 453661 bytes to example_03_Explaination.html\n",
      "[NbConvertApp] Converting notebook ./example_04_toplogical_analyisis.ipynb to html\n",
      "[NbConvertApp] Writing 3463729 bytes to example_04_toplogical_analyisis.html\n",
      "[NbConvertApp] Converting notebook ./example_05_embedding_grouping.ipynb to html\n",
      "[NbConvertApp] Writing 2274682 bytes to example_05_embedding_grouping.html\n"
     ]
    }
   ],
   "source": [
    "! jupyter nbconvert ./example_00_Introduction.ipynb --to html --template classic\n",
    "! jupyter nbconvert ./example_01_MEGMA.ipynb --to html --template classic\n",
    "! jupyter nbconvert ./example_02_AggMapNet.ipynb --to html --template classic\n",
    "! jupyter nbconvert ./example_03_Explaination.ipynb --to html --template classic\n",
    "! jupyter nbconvert ./example_04_toplogical_analyisis.ipynb --to html --template classic\n",
    "! jupyter nbconvert ./example_05_embedding_grouping.ipynb --to html --template classic"
   ]
  },
  {
   "cell_type": "code",
   "execution_count": null,
   "id": "88582597-2bf3-4051-ac7c-99568b22328c",
   "metadata": {},
   "outputs": [],
   "source": []
  },
  {
   "cell_type": "code",
   "execution_count": null,
   "id": "8680229a-3056-48f2-8f16-90327f07fc56",
   "metadata": {},
   "outputs": [],
   "source": []
  }
 ],
 "metadata": {
  "kernelspec": {
   "display_name": "Python 3 (ipykernel)",
   "language": "python",
   "name": "python3"
  },
  "language_info": {
   "codemirror_mode": {
    "name": "ipython",
    "version": 3
   },
   "file_extension": ".py",
   "mimetype": "text/x-python",
   "name": "python",
   "nbconvert_exporter": "python",
   "pygments_lexer": "ipython3",
   "version": "3.7.11"
  }
 },
 "nbformat": 4,
 "nbformat_minor": 5
}
