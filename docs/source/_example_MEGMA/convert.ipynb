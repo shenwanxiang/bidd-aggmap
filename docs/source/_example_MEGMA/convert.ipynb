{
 "cells": [
  {
   "cell_type": "code",
   "execution_count": 6,
   "id": "bbcf01af-ff6e-4e87-8349-57b10631cc93",
   "metadata": {},
   "outputs": [
    {
     "name": "stdout",
     "output_type": "stream",
     "text": [
      "[NbConvertApp] Converting notebook ./example_02_AggMapNet.ipynb to html\n",
      "[NbConvertApp] Writing 482650 bytes to example_02_AggMapNet.html\n"
     ]
    }
   ],
   "source": [
    "! jupyter nbconvert ./example_02_AggMapNet.ipynb --to html --template classic"
   ]
  },
  {
   "cell_type": "code",
   "execution_count": null,
   "id": "88582597-2bf3-4051-ac7c-99568b22328c",
   "metadata": {},
   "outputs": [],
   "source": []
  },
  {
   "cell_type": "code",
   "execution_count": null,
   "id": "8680229a-3056-48f2-8f16-90327f07fc56",
   "metadata": {},
   "outputs": [],
   "source": []
  }
 ],
 "metadata": {
  "kernelspec": {
   "display_name": "Python 3 (ipykernel)",
   "language": "python",
   "name": "python3"
  },
  "language_info": {
   "codemirror_mode": {
    "name": "ipython",
    "version": 3
   },
   "file_extension": ".py",
   "mimetype": "text/x-python",
   "name": "python",
   "nbconvert_exporter": "python",
   "pygments_lexer": "ipython3",
   "version": "3.7.11"
  }
 },
 "nbformat": 4,
 "nbformat_minor": 5
}
