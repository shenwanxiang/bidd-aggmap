{
 "cells": [
  {
   "cell_type": "markdown",
   "id": "28435ecf-41f5-442e-8483-3e2ace7d667f",
   "metadata": {},
   "source": [
    "## **1. Introduction**"
   ]
  },
  {
   "cell_type": "markdown",
   "id": "8a584581-d796-40f8-91ad-475564dec9b6",
   "metadata": {},
   "source": [
    "### MEGMA and AggMap\n",
    "**MEGMA** is short for metagenomic **M**icrobial **E**mbedding, **G**rouping, and **M**apping **A**lgorithm (MEGMA) , which is a further step development of **AggMap** that specific for metagenomic data learning. **MEGMA** is developed to transform the tabular metagenomic data into spatially-correlated color image-like 2D-representations, named as the 2D-microbiomeprints (3D tensor data in the form of row, column and channel). 2D-microbiomeprints are multichannel feature maps (Fmaps) and are the inputs of ConvNet-based AggMapNet models. \n",
    "\n",
    "![MEGMA](./MEGMA.png)\n",
    "\n",
    "**MEGMA** is released in the **aggmap** package, in this example, we will show how to employ the **aggmap** package to perform **MEGMA** on the cross-nation datasets of metagenomics."
   ]
  },
  {
   "cell_type": "markdown",
   "id": "b57da953-ba2d-4f90-9744-10190b296414",
   "metadata": {},
   "source": [
    "### Metagenomic cross-nation datasets"
   ]
  },
  {
   "cell_type": "markdown",
   "id": "2ae12152-fd7c-4b82-af21-6a7a9dba6721",
   "metadata": {},
   "source": [
    "The CRC-Nation data covers 849 gut microbial species from fecal samples of 575 subjects (CRCs or healthy controls, CTRs) compiled by Wirbel et al. (2019)3. It contains five metagenomic datasets from five separate studies in five nations (FRA: France, AUS: Australia, DEU: Germany, CHN: China, USA: America). "
   ]
  },
  {
   "cell_type": "code",
   "execution_count": null,
   "id": "8ae5b287-6a17-409c-8411-008ec23c2a41",
   "metadata": {},
   "outputs": [],
   "source": []
  },
  {
   "cell_type": "code",
   "execution_count": null,
   "id": "98023590-5720-4935-90ff-ec1db87505ef",
   "metadata": {},
   "outputs": [],
   "source": []
  },
  {
   "cell_type": "code",
   "execution_count": null,
   "id": "dd5270ed-7bfd-441b-a40e-737dbd40caa5",
   "metadata": {},
   "outputs": [],
   "source": []
  },
  {
   "cell_type": "code",
   "execution_count": null,
   "id": "19304170-9e4e-4f69-a002-905155286a55",
   "metadata": {},
   "outputs": [],
   "source": []
  },
  {
   "cell_type": "code",
   "execution_count": null,
   "id": "6fea30ba-4497-4b17-a162-307bb320a784",
   "metadata": {},
   "outputs": [],
   "source": []
  },
  {
   "cell_type": "code",
   "execution_count": null,
   "id": "2223d3e2-853b-4f47-b476-8a0b5fe88384",
   "metadata": {},
   "outputs": [],
   "source": []
  },
  {
   "cell_type": "code",
   "execution_count": null,
   "id": "7e377d77-4411-424d-addd-95756cd86880",
   "metadata": {},
   "outputs": [],
   "source": [
    "https://raw.githubusercontent.com/shenwanxiang/bidd-aggmap/master/docs/source/MEGMA/dataset/AUS_dfx.csv"
   ]
  }
 ],
 "metadata": {
  "kernelspec": {
   "display_name": "Python 3 (ipykernel)",
   "language": "python",
   "name": "python3"
  },
  "language_info": {
   "codemirror_mode": {
    "name": "ipython",
    "version": 3
   },
   "file_extension": ".py",
   "mimetype": "text/x-python",
   "name": "python",
   "nbconvert_exporter": "python",
   "pygments_lexer": "ipython3",
   "version": "3.7.11"
  }
 },
 "nbformat": 4,
 "nbformat_minor": 5
}
