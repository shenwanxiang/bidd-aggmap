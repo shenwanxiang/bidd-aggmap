{
 "cells": [
  {
   "cell_type": "markdown",
   "id": "a8f02509-2431-41eb-bfd6-68948408b07a",
   "metadata": {},
   "source": [
    "## **Introduction**\n",
    "\n",
    "### Supervised CRC detection model\n",
    "\n",
    "**MEGMA** is short for metagenomic **M**icrobial **E**mbedding, **G**rouping, and **M**apping **A**lgorithm (MEGMA) , which is a further step development of **AggMap** that specific for metagenomic data learning. **MEGMA** is developed to transform the tabular metagenomic data into spatially-correlated color image-like 2D-representations, named as the 2D-microbiomeprints (3D tensor data in the form of row, column and channel). 2D-microbiomeprints are multichannel feature maps (Fmaps) and are the inputs of ConvNet-based AggMapNet models. \n"
   ]
  },
  {
   "cell_type": "code",
   "execution_count": 2,
   "id": "159396b3-e336-4e36-8c31-d1afb7b0b076",
   "metadata": {},
   "outputs": [],
   "source": [
    "import pandas as pd\n",
    "import numpy as np\n",
    "\n",
    "import matplotlib.pyplot as plt\n",
    "import seaborn as sns\n",
    "\n",
    "from aggmap import AggMap, AggMapNet\n",
    "from aggmap import show, loadmap"
   ]
  },
  {
   "cell_type": "code",
   "execution_count": null,
   "id": "6d86d31f-e179-4c33-a45a-1e9029d4d453",
   "metadata": {},
   "outputs": [],
   "source": []
  },
  {
   "cell_type": "code",
   "execution_count": null,
   "id": "44876849-2b8f-4a7b-95fc-e729df5bef12",
   "metadata": {},
   "outputs": [],
   "source": []
  },
  {
   "cell_type": "code",
   "execution_count": null,
   "id": "689d921e-74cb-435c-9374-b2229645bb3f",
   "metadata": {},
   "outputs": [],
   "source": []
  },
  {
   "cell_type": "code",
   "execution_count": null,
   "id": "707a4531-9bc6-4eff-93f5-58c7822db81c",
   "metadata": {},
   "outputs": [],
   "source": []
  },
  {
   "cell_type": "code",
   "execution_count": null,
   "id": "15efd578-b32e-4e71-a431-f89253680e9f",
   "metadata": {},
   "outputs": [],
   "source": []
  }
 ],
 "metadata": {
  "kernelspec": {
   "display_name": "Python 3 (ipykernel)",
   "language": "python",
   "name": "python3"
  },
  "language_info": {
   "codemirror_mode": {
    "name": "ipython",
    "version": 3
   },
   "file_extension": ".py",
   "mimetype": "text/x-python",
   "name": "python",
   "nbconvert_exporter": "python",
   "pygments_lexer": "ipython3",
   "version": "3.7.11"
  }
 },
 "nbformat": 4,
 "nbformat_minor": 5
}
